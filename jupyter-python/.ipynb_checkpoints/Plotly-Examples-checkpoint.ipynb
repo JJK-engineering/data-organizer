{
 "cells": [
  {
   "cell_type": "code",
   "execution_count": 19,
   "metadata": {
    "collapsed": true
   },
   "outputs": [],
   "source": [
    "# import libraries\n",
    "#from numpy import *\n",
    "import numpy as np\n",
    "import pandas as pd\n",
    "import matplotlib.pyplot as plt"
   ]
  },
  {
   "cell_type": "code",
   "execution_count": 20,
   "metadata": {},
   "outputs": [
    {
     "data": {
      "text/html": [
       "<script>requirejs.config({paths: { 'plotly': ['https://cdn.plot.ly/plotly-latest.min']},});if(!window.Plotly) {{require(['plotly'],function(plotly) {window.Plotly=plotly;});}}</script>"
      ],
      "text/vnd.plotly.v1+html": [
       "<script>requirejs.config({paths: { 'plotly': ['https://cdn.plot.ly/plotly-latest.min']},});if(!window.Plotly) {{require(['plotly'],function(plotly) {window.Plotly=plotly;});}}</script>"
      ]
     },
     "metadata": {},
     "output_type": "display_data"
    },
    {
     "name": "stdout",
     "output_type": "stream",
     "text": [
      "2.2.1\n"
     ]
    }
   ],
   "source": [
    "# set up plotly in 'offline' mode\n",
    "# this should be documented\n",
    "\n",
    "from plotly import __version__\n",
    "from plotly.offline import download_plotlyjs, init_notebook_mode, plot,iplot\n",
    "import plotly.graph_objs as go\n",
    "init_notebook_mode(connected=True)\n",
    "print (__version__) # requires version >= 1.9.0"
   ]
  },
  {
   "cell_type": "code",
   "execution_count": 25,
   "metadata": {
    "collapsed": true
   },
   "outputs": [],
   "source": [
    "# collect all plotly setups here\n",
    "\n",
    "import plotly.offline as plotly  #testing\n",
    "\n",
    "from plotly.graph_objs import *  #testing\n"
   ]
  },
  {
   "cell_type": "code",
   "execution_count": 26,
   "metadata": {},
   "outputs": [
    {
     "data": {
      "application/vnd.plotly.v1+json": {
       "data": [
        {
         "type": "scatter",
         "x": [
          2,
          5,
          8,
          0,
          2,
          -8,
          4,
          3,
          1
         ],
         "y": [
          2,
          5,
          8,
          0,
          2,
          -8,
          4,
          3,
          1
         ]
        }
       ],
       "layout": {
        "height": 500,
        "title": "Offline Plotly Testing",
        "width": 800,
        "xaxis": {
         "title": "X-axis"
        },
        "yaxis": {
         "title": "Y-axis"
        }
       }
      },
      "text/html": [
       "<div id=\"8236842a-9798-47f0-a0d0-ec44f7fdaf8a\" style=\"height: 500px; width: 800px;\" class=\"plotly-graph-div\"></div><script type=\"text/javascript\">require([\"plotly\"], function(Plotly) { window.PLOTLYENV=window.PLOTLYENV || {};window.PLOTLYENV.BASE_URL=\"https://plot.ly\";Plotly.newPlot(\"8236842a-9798-47f0-a0d0-ec44f7fdaf8a\", [{\"y\": [2, 5, 8, 0, 2, -8, 4, 3, 1], \"x\": [2, 5, 8, 0, 2, -8, 4, 3, 1], \"type\": \"scatter\"}], {\"height\": 500, \"width\": 800, \"title\": \"Offline Plotly Testing\", \"xaxis\": {\"title\": \"X-axis\"}, \"yaxis\": {\"title\": \"Y-axis\"}}, {\"linkText\": \"Export to plot.ly\", \"showLink\": true})});</script>"
      ],
      "text/vnd.plotly.v1+html": [
       "<div id=\"8236842a-9798-47f0-a0d0-ec44f7fdaf8a\" style=\"height: 500px; width: 800px;\" class=\"plotly-graph-div\"></div><script type=\"text/javascript\">require([\"plotly\"], function(Plotly) { window.PLOTLYENV=window.PLOTLYENV || {};window.PLOTLYENV.BASE_URL=\"https://plot.ly\";Plotly.newPlot(\"8236842a-9798-47f0-a0d0-ec44f7fdaf8a\", [{\"y\": [2, 5, 8, 0, 2, -8, 4, 3, 1], \"x\": [2, 5, 8, 0, 2, -8, 4, 3, 1], \"type\": \"scatter\"}], {\"height\": 500, \"width\": 800, \"title\": \"Offline Plotly Testing\", \"xaxis\": {\"title\": \"X-axis\"}, \"yaxis\": {\"title\": \"Y-axis\"}}, {\"linkText\": \"Export to plot.ly\", \"showLink\": true})});</script>"
      ]
     },
     "metadata": {},
     "output_type": "display_data"
    }
   ],
   "source": [
    "# quick line plot example\n",
    "\n",
    "x=np.array([2,5,8,0,2,-8,4,3,1])\n",
    "y=np.array([2,5,8,0,2,-8,4,3,1])\n",
    "\n",
    "data = [go.Scatter(x=x,y=y)]\n",
    "fig = go.Figure(data = data,layout = go.Layout(title='Offline Plotly Testing',width = 800,height = 500,\n",
    "                                           xaxis = dict(title = 'X-axis'), yaxis = dict(title = 'Y-axis')))\n",
    "\n",
    "#plotly.offline.iplot(data)\n",
    "plotly.offline.iplot(fig)"
   ]
  },
  {
   "cell_type": "code",
   "execution_count": 27,
   "metadata": {},
   "outputs": [
    {
     "data": {
      "application/vnd.plotly.v1+json": {
       "data": [
        {
         "marker": {
          "color": "red",
          "size": "10",
          "symbol": 104
         },
         "mode": "markers+lines",
         "name": "1st Trace",
         "text": [
          "one",
          "two",
          "three"
         ],
         "type": "scatter",
         "x": [
          1,
          2,
          3
         ],
         "y": [
          4,
          5,
          6
         ]
        }
       ],
       "layout": {
        "title": "First Plot",
        "xaxis": {
         "title": "x1"
        },
        "yaxis": {
         "title": "x2"
        }
       }
      },
      "text/html": [
       "<div id=\"9d4b31cd-60a4-4c15-be2a-f5b839aa5d10\" style=\"height: 525px; width: 100%;\" class=\"plotly-graph-div\"></div><script type=\"text/javascript\">require([\"plotly\"], function(Plotly) { window.PLOTLYENV=window.PLOTLYENV || {};window.PLOTLYENV.BASE_URL=\"https://plot.ly\";Plotly.newPlot(\"9d4b31cd-60a4-4c15-be2a-f5b839aa5d10\", [{\"name\": \"1st Trace\", \"text\": [\"one\", \"two\", \"three\"], \"marker\": {\"color\": \"red\", \"symbol\": 104, \"size\": \"10\"}, \"mode\": \"markers+lines\", \"y\": [4, 5, 6], \"x\": [1, 2, 3], \"type\": \"scatter\"}], {\"title\": \"First Plot\", \"xaxis\": {\"title\": \"x1\"}, \"yaxis\": {\"title\": \"x2\"}}, {\"linkText\": \"Export to plot.ly\", \"showLink\": true})});</script>"
      ],
      "text/vnd.plotly.v1+html": [
       "<div id=\"9d4b31cd-60a4-4c15-be2a-f5b839aa5d10\" style=\"height: 525px; width: 100%;\" class=\"plotly-graph-div\"></div><script type=\"text/javascript\">require([\"plotly\"], function(Plotly) { window.PLOTLYENV=window.PLOTLYENV || {};window.PLOTLYENV.BASE_URL=\"https://plot.ly\";Plotly.newPlot(\"9d4b31cd-60a4-4c15-be2a-f5b839aa5d10\", [{\"name\": \"1st Trace\", \"text\": [\"one\", \"two\", \"three\"], \"marker\": {\"color\": \"red\", \"symbol\": 104, \"size\": \"10\"}, \"mode\": \"markers+lines\", \"y\": [4, 5, 6], \"x\": [1, 2, 3], \"type\": \"scatter\"}], {\"title\": \"First Plot\", \"xaxis\": {\"title\": \"x1\"}, \"yaxis\": {\"title\": \"x2\"}}, {\"linkText\": \"Export to plot.ly\", \"showLink\": true})});</script>"
      ]
     },
     "metadata": {},
     "output_type": "display_data"
    }
   ],
   "source": [
    "# another line plot example\n",
    "\n",
    "trace1 = go.Scatter(x=[1,2,3], y=[4,5,6], marker={'color': 'red', 'symbol': 104, 'size': \"10\"}, \n",
    "                    mode=\"markers+lines\",  text=[\"one\",\"two\",\"three\"], name='1st Trace')\n",
    "                                               \n",
    "data=go.Data([trace1])\n",
    "layout=go.Layout(title=\"First Plot\", xaxis={'title':'x1'}, yaxis={'title':'x2'})\n",
    "figure=go.Figure(data=data,layout=layout)\n",
    "plotly.offline.iplot(figure, filename='pyguide_1')"
   ]
  },
  {
   "cell_type": "code",
   "execution_count": 28,
   "metadata": {},
   "outputs": [
    {
     "data": {
      "application/vnd.plotly.v1+json": {
       "data": [
        {
         "type": "scatter",
         "x": [
          1,
          2,
          3,
          4
         ],
         "y": [
          10,
          15,
          13,
          17
         ]
        },
        {
         "type": "scatter",
         "x": [
          1,
          2,
          3,
          4
         ],
         "y": [
          16,
          5,
          11,
          9
         ]
        }
       ],
       "layout": {}
      },
      "text/html": [
       "<div id=\"2dcaf05b-645a-40eb-af12-e326d36f2a64\" style=\"height: 525px; width: 100%;\" class=\"plotly-graph-div\"></div><script type=\"text/javascript\">require([\"plotly\"], function(Plotly) { window.PLOTLYENV=window.PLOTLYENV || {};window.PLOTLYENV.BASE_URL=\"https://plot.ly\";Plotly.newPlot(\"2dcaf05b-645a-40eb-af12-e326d36f2a64\", [{\"y\": [10, 15, 13, 17], \"x\": [1, 2, 3, 4], \"type\": \"scatter\"}, {\"y\": [16, 5, 11, 9], \"x\": [1, 2, 3, 4], \"type\": \"scatter\"}], {}, {\"linkText\": \"Export to plot.ly\", \"showLink\": true})});</script>"
      ],
      "text/vnd.plotly.v1+html": [
       "<div id=\"2dcaf05b-645a-40eb-af12-e326d36f2a64\" style=\"height: 525px; width: 100%;\" class=\"plotly-graph-div\"></div><script type=\"text/javascript\">require([\"plotly\"], function(Plotly) { window.PLOTLYENV=window.PLOTLYENV || {};window.PLOTLYENV.BASE_URL=\"https://plot.ly\";Plotly.newPlot(\"2dcaf05b-645a-40eb-af12-e326d36f2a64\", [{\"y\": [10, 15, 13, 17], \"x\": [1, 2, 3, 4], \"type\": \"scatter\"}, {\"y\": [16, 5, 11, 9], \"x\": [1, 2, 3, 4], \"type\": \"scatter\"}], {}, {\"linkText\": \"Export to plot.ly\", \"showLink\": true})});</script>"
      ]
     },
     "metadata": {},
     "output_type": "display_data"
    }
   ],
   "source": [
    "# plotly scatterplot examples\n",
    "\n",
    "trace0 = Scatter(\n",
    "    x=[1, 2, 3, 4],\n",
    "    y=[10, 15, 13, 17]\n",
    ")\n",
    "trace1 = Scatter(\n",
    "    x=[1, 2, 3, 4],\n",
    "    y=[16, 5, 11, 9]\n",
    ")\n",
    "data = Data([trace0, trace1])\n",
    "\n",
    "plotly.offline.iplot(data)"
   ]
  },
  {
   "cell_type": "code",
   "execution_count": 30,
   "metadata": {},
   "outputs": [
    {
     "data": {
      "application/vnd.plotly.v1+json": {
       "data": [
        {
         "colorscale": [
          [
           0,
           "#00083e"
          ],
          [
           0.5,
           "#ededee"
          ],
          [
           1,
           "#ffffff"
          ]
         ],
         "hoverinfo": "none",
         "opacity": 0.75,
         "showscale": false,
         "type": "heatmap",
         "z": [
          [
           0,
           0,
           0,
           0
          ],
          [
           0.5,
           0.5,
           0.5,
           0.5
          ],
          [
           1,
           1,
           1,
           1
          ],
          [
           0.5,
           0.5,
           0.5,
           0.5
          ],
          [
           1,
           1,
           1,
           1
          ],
          [
           0.5,
           0.5,
           0.5,
           0.5
          ],
          [
           1,
           1,
           1,
           1
          ],
          [
           0.5,
           0.5,
           0.5,
           0.5
          ],
          [
           1,
           1,
           1,
           1
          ],
          [
           0.5,
           0.5,
           0.5,
           0.5
          ],
          [
           1,
           1,
           1,
           1
          ],
          [
           0.5,
           0.5,
           0.5,
           0.5
          ],
          [
           1,
           1,
           1,
           1
          ],
          [
           0.5,
           0.5,
           0.5,
           0.5
          ],
          [
           1,
           1,
           1,
           1
          ],
          [
           0.5,
           0.5,
           0.5,
           0.5
          ],
          [
           1,
           1,
           1,
           1
          ],
          [
           0.5,
           0.5,
           0.5,
           0.5
          ],
          [
           1,
           1,
           1,
           1
          ],
          [
           0.5,
           0.5,
           0.5,
           0.5
          ],
          [
           1,
           1,
           1,
           1
          ],
          [
           0.5,
           0.5,
           0.5,
           0.5
          ]
         ]
        }
       ],
       "layout": {
        "annotations": [
         {
          "align": "left",
          "font": {
           "color": "#ffffff"
          },
          "showarrow": false,
          "text": "<b>School</b>",
          "x": -0.45,
          "xanchor": "left",
          "xref": "x1",
          "y": 0,
          "yref": "y1"
         },
         {
          "align": "left",
          "font": {
           "color": "#ffffff"
          },
          "showarrow": false,
          "text": "<b>Women</b>",
          "x": 0.55,
          "xanchor": "left",
          "xref": "x1",
          "y": 0,
          "yref": "y1"
         },
         {
          "align": "left",
          "font": {
           "color": "#ffffff"
          },
          "showarrow": false,
          "text": "<b>Men</b>",
          "x": 1.55,
          "xanchor": "left",
          "xref": "x1",
          "y": 0,
          "yref": "y1"
         },
         {
          "align": "left",
          "font": {
           "color": "#ffffff"
          },
          "showarrow": false,
          "text": "<b>Gap</b>",
          "x": 2.55,
          "xanchor": "left",
          "xref": "x1",
          "y": 0,
          "yref": "y1"
         },
         {
          "align": "left",
          "font": {
           "color": "#000000"
          },
          "showarrow": false,
          "text": "MIT",
          "x": -0.45,
          "xanchor": "left",
          "xref": "x1",
          "y": 1,
          "yref": "y1"
         },
         {
          "align": "left",
          "font": {
           "color": "#000000"
          },
          "showarrow": false,
          "text": "94",
          "x": 0.55,
          "xanchor": "left",
          "xref": "x1",
          "y": 1,
          "yref": "y1"
         },
         {
          "align": "left",
          "font": {
           "color": "#000000"
          },
          "showarrow": false,
          "text": "152",
          "x": 1.55,
          "xanchor": "left",
          "xref": "x1",
          "y": 1,
          "yref": "y1"
         },
         {
          "align": "left",
          "font": {
           "color": "#000000"
          },
          "showarrow": false,
          "text": "58",
          "x": 2.55,
          "xanchor": "left",
          "xref": "x1",
          "y": 1,
          "yref": "y1"
         },
         {
          "align": "left",
          "font": {
           "color": "#000000"
          },
          "showarrow": false,
          "text": "Stanford",
          "x": -0.45,
          "xanchor": "left",
          "xref": "x1",
          "y": 2,
          "yref": "y1"
         },
         {
          "align": "left",
          "font": {
           "color": "#000000"
          },
          "showarrow": false,
          "text": "96",
          "x": 0.55,
          "xanchor": "left",
          "xref": "x1",
          "y": 2,
          "yref": "y1"
         },
         {
          "align": "left",
          "font": {
           "color": "#000000"
          },
          "showarrow": false,
          "text": "151",
          "x": 1.55,
          "xanchor": "left",
          "xref": "x1",
          "y": 2,
          "yref": "y1"
         },
         {
          "align": "left",
          "font": {
           "color": "#000000"
          },
          "showarrow": false,
          "text": "55",
          "x": 2.55,
          "xanchor": "left",
          "xref": "x1",
          "y": 2,
          "yref": "y1"
         },
         {
          "align": "left",
          "font": {
           "color": "#000000"
          },
          "showarrow": false,
          "text": "Harvard",
          "x": -0.45,
          "xanchor": "left",
          "xref": "x1",
          "y": 3,
          "yref": "y1"
         },
         {
          "align": "left",
          "font": {
           "color": "#000000"
          },
          "showarrow": false,
          "text": "112",
          "x": 0.55,
          "xanchor": "left",
          "xref": "x1",
          "y": 3,
          "yref": "y1"
         },
         {
          "align": "left",
          "font": {
           "color": "#000000"
          },
          "showarrow": false,
          "text": "165",
          "x": 1.55,
          "xanchor": "left",
          "xref": "x1",
          "y": 3,
          "yref": "y1"
         },
         {
          "align": "left",
          "font": {
           "color": "#000000"
          },
          "showarrow": false,
          "text": "53",
          "x": 2.55,
          "xanchor": "left",
          "xref": "x1",
          "y": 3,
          "yref": "y1"
         },
         {
          "align": "left",
          "font": {
           "color": "#000000"
          },
          "showarrow": false,
          "text": "U.Penn",
          "x": -0.45,
          "xanchor": "left",
          "xref": "x1",
          "y": 4,
          "yref": "y1"
         },
         {
          "align": "left",
          "font": {
           "color": "#000000"
          },
          "showarrow": false,
          "text": "92",
          "x": 0.55,
          "xanchor": "left",
          "xref": "x1",
          "y": 4,
          "yref": "y1"
         },
         {
          "align": "left",
          "font": {
           "color": "#000000"
          },
          "showarrow": false,
          "text": "141",
          "x": 1.55,
          "xanchor": "left",
          "xref": "x1",
          "y": 4,
          "yref": "y1"
         },
         {
          "align": "left",
          "font": {
           "color": "#000000"
          },
          "showarrow": false,
          "text": "49",
          "x": 2.55,
          "xanchor": "left",
          "xref": "x1",
          "y": 4,
          "yref": "y1"
         },
         {
          "align": "left",
          "font": {
           "color": "#000000"
          },
          "showarrow": false,
          "text": "Princeton",
          "x": -0.45,
          "xanchor": "left",
          "xref": "x1",
          "y": 5,
          "yref": "y1"
         },
         {
          "align": "left",
          "font": {
           "color": "#000000"
          },
          "showarrow": false,
          "text": "90",
          "x": 0.55,
          "xanchor": "left",
          "xref": "x1",
          "y": 5,
          "yref": "y1"
         },
         {
          "align": "left",
          "font": {
           "color": "#000000"
          },
          "showarrow": false,
          "text": "137",
          "x": 1.55,
          "xanchor": "left",
          "xref": "x1",
          "y": 5,
          "yref": "y1"
         },
         {
          "align": "left",
          "font": {
           "color": "#000000"
          },
          "showarrow": false,
          "text": "47",
          "x": 2.55,
          "xanchor": "left",
          "xref": "x1",
          "y": 5,
          "yref": "y1"
         },
         {
          "align": "left",
          "font": {
           "color": "#000000"
          },
          "showarrow": false,
          "text": "Chicago",
          "x": -0.45,
          "xanchor": "left",
          "xref": "x1",
          "y": 6,
          "yref": "y1"
         },
         {
          "align": "left",
          "font": {
           "color": "#000000"
          },
          "showarrow": false,
          "text": "78",
          "x": 0.55,
          "xanchor": "left",
          "xref": "x1",
          "y": 6,
          "yref": "y1"
         },
         {
          "align": "left",
          "font": {
           "color": "#000000"
          },
          "showarrow": false,
          "text": "118",
          "x": 1.55,
          "xanchor": "left",
          "xref": "x1",
          "y": 6,
          "yref": "y1"
         },
         {
          "align": "left",
          "font": {
           "color": "#000000"
          },
          "showarrow": false,
          "text": "40",
          "x": 2.55,
          "xanchor": "left",
          "xref": "x1",
          "y": 6,
          "yref": "y1"
         },
         {
          "align": "left",
          "font": {
           "color": "#000000"
          },
          "showarrow": false,
          "text": "Georgetown",
          "x": -0.45,
          "xanchor": "left",
          "xref": "x1",
          "y": 7,
          "yref": "y1"
         },
         {
          "align": "left",
          "font": {
           "color": "#000000"
          },
          "showarrow": false,
          "text": "94",
          "x": 0.55,
          "xanchor": "left",
          "xref": "x1",
          "y": 7,
          "yref": "y1"
         },
         {
          "align": "left",
          "font": {
           "color": "#000000"
          },
          "showarrow": false,
          "text": "131",
          "x": 1.55,
          "xanchor": "left",
          "xref": "x1",
          "y": 7,
          "yref": "y1"
         },
         {
          "align": "left",
          "font": {
           "color": "#000000"
          },
          "showarrow": false,
          "text": "37",
          "x": 2.55,
          "xanchor": "left",
          "xref": "x1",
          "y": 7,
          "yref": "y1"
         },
         {
          "align": "left",
          "font": {
           "color": "#000000"
          },
          "showarrow": false,
          "text": "Tufts",
          "x": -0.45,
          "xanchor": "left",
          "xref": "x1",
          "y": 8,
          "yref": "y1"
         },
         {
          "align": "left",
          "font": {
           "color": "#000000"
          },
          "showarrow": false,
          "text": "76",
          "x": 0.55,
          "xanchor": "left",
          "xref": "x1",
          "y": 8,
          "yref": "y1"
         },
         {
          "align": "left",
          "font": {
           "color": "#000000"
          },
          "showarrow": false,
          "text": "112",
          "x": 1.55,
          "xanchor": "left",
          "xref": "x1",
          "y": 8,
          "yref": "y1"
         },
         {
          "align": "left",
          "font": {
           "color": "#000000"
          },
          "showarrow": false,
          "text": "36",
          "x": 2.55,
          "xanchor": "left",
          "xref": "x1",
          "y": 8,
          "yref": "y1"
         },
         {
          "align": "left",
          "font": {
           "color": "#000000"
          },
          "showarrow": false,
          "text": "Yale",
          "x": -0.45,
          "xanchor": "left",
          "xref": "x1",
          "y": 9,
          "yref": "y1"
         },
         {
          "align": "left",
          "font": {
           "color": "#000000"
          },
          "showarrow": false,
          "text": "79",
          "x": 0.55,
          "xanchor": "left",
          "xref": "x1",
          "y": 9,
          "yref": "y1"
         },
         {
          "align": "left",
          "font": {
           "color": "#000000"
          },
          "showarrow": false,
          "text": "114",
          "x": 1.55,
          "xanchor": "left",
          "xref": "x1",
          "y": 9,
          "yref": "y1"
         },
         {
          "align": "left",
          "font": {
           "color": "#000000"
          },
          "showarrow": false,
          "text": "35",
          "x": 2.55,
          "xanchor": "left",
          "xref": "x1",
          "y": 9,
          "yref": "y1"
         },
         {
          "align": "left",
          "font": {
           "color": "#000000"
          },
          "showarrow": false,
          "text": "Columbia",
          "x": -0.45,
          "xanchor": "left",
          "xref": "x1",
          "y": 10,
          "yref": "y1"
         },
         {
          "align": "left",
          "font": {
           "color": "#000000"
          },
          "showarrow": false,
          "text": "86",
          "x": 0.55,
          "xanchor": "left",
          "xref": "x1",
          "y": 10,
          "yref": "y1"
         },
         {
          "align": "left",
          "font": {
           "color": "#000000"
          },
          "showarrow": false,
          "text": "119",
          "x": 1.55,
          "xanchor": "left",
          "xref": "x1",
          "y": 10,
          "yref": "y1"
         },
         {
          "align": "left",
          "font": {
           "color": "#000000"
          },
          "showarrow": false,
          "text": "33",
          "x": 2.55,
          "xanchor": "left",
          "xref": "x1",
          "y": 10,
          "yref": "y1"
         },
         {
          "align": "left",
          "font": {
           "color": "#000000"
          },
          "showarrow": false,
          "text": "Duke",
          "x": -0.45,
          "xanchor": "left",
          "xref": "x1",
          "y": 11,
          "yref": "y1"
         },
         {
          "align": "left",
          "font": {
           "color": "#000000"
          },
          "showarrow": false,
          "text": "93",
          "x": 0.55,
          "xanchor": "left",
          "xref": "x1",
          "y": 11,
          "yref": "y1"
         },
         {
          "align": "left",
          "font": {
           "color": "#000000"
          },
          "showarrow": false,
          "text": "124",
          "x": 1.55,
          "xanchor": "left",
          "xref": "x1",
          "y": 11,
          "yref": "y1"
         },
         {
          "align": "left",
          "font": {
           "color": "#000000"
          },
          "showarrow": false,
          "text": "31",
          "x": 2.55,
          "xanchor": "left",
          "xref": "x1",
          "y": 11,
          "yref": "y1"
         },
         {
          "align": "left",
          "font": {
           "color": "#000000"
          },
          "showarrow": false,
          "text": "Dartmouth",
          "x": -0.45,
          "xanchor": "left",
          "xref": "x1",
          "y": 12,
          "yref": "y1"
         },
         {
          "align": "left",
          "font": {
           "color": "#000000"
          },
          "showarrow": false,
          "text": "84",
          "x": 0.55,
          "xanchor": "left",
          "xref": "x1",
          "y": 12,
          "yref": "y1"
         },
         {
          "align": "left",
          "font": {
           "color": "#000000"
          },
          "showarrow": false,
          "text": "114",
          "x": 1.55,
          "xanchor": "left",
          "xref": "x1",
          "y": 12,
          "yref": "y1"
         },
         {
          "align": "left",
          "font": {
           "color": "#000000"
          },
          "showarrow": false,
          "text": "30",
          "x": 2.55,
          "xanchor": "left",
          "xref": "x1",
          "y": 12,
          "yref": "y1"
         },
         {
          "align": "left",
          "font": {
           "color": "#000000"
          },
          "showarrow": false,
          "text": "NYU",
          "x": -0.45,
          "xanchor": "left",
          "xref": "x1",
          "y": 13,
          "yref": "y1"
         },
         {
          "align": "left",
          "font": {
           "color": "#000000"
          },
          "showarrow": false,
          "text": "67",
          "x": 0.55,
          "xanchor": "left",
          "xref": "x1",
          "y": 13,
          "yref": "y1"
         },
         {
          "align": "left",
          "font": {
           "color": "#000000"
          },
          "showarrow": false,
          "text": "94",
          "x": 1.55,
          "xanchor": "left",
          "xref": "x1",
          "y": 13,
          "yref": "y1"
         },
         {
          "align": "left",
          "font": {
           "color": "#000000"
          },
          "showarrow": false,
          "text": "27",
          "x": 2.55,
          "xanchor": "left",
          "xref": "x1",
          "y": 13,
          "yref": "y1"
         },
         {
          "align": "left",
          "font": {
           "color": "#000000"
          },
          "showarrow": false,
          "text": "Notre Dame",
          "x": -0.45,
          "xanchor": "left",
          "xref": "x1",
          "y": 14,
          "yref": "y1"
         },
         {
          "align": "left",
          "font": {
           "color": "#000000"
          },
          "showarrow": false,
          "text": "73",
          "x": 0.55,
          "xanchor": "left",
          "xref": "x1",
          "y": 14,
          "yref": "y1"
         },
         {
          "align": "left",
          "font": {
           "color": "#000000"
          },
          "showarrow": false,
          "text": "100",
          "x": 1.55,
          "xanchor": "left",
          "xref": "x1",
          "y": 14,
          "yref": "y1"
         },
         {
          "align": "left",
          "font": {
           "color": "#000000"
          },
          "showarrow": false,
          "text": "27",
          "x": 2.55,
          "xanchor": "left",
          "xref": "x1",
          "y": 14,
          "yref": "y1"
         },
         {
          "align": "left",
          "font": {
           "color": "#000000"
          },
          "showarrow": false,
          "text": "Cornell",
          "x": -0.45,
          "xanchor": "left",
          "xref": "x1",
          "y": 15,
          "yref": "y1"
         },
         {
          "align": "left",
          "font": {
           "color": "#000000"
          },
          "showarrow": false,
          "text": "80",
          "x": 0.55,
          "xanchor": "left",
          "xref": "x1",
          "y": 15,
          "yref": "y1"
         },
         {
          "align": "left",
          "font": {
           "color": "#000000"
          },
          "showarrow": false,
          "text": "107",
          "x": 1.55,
          "xanchor": "left",
          "xref": "x1",
          "y": 15,
          "yref": "y1"
         },
         {
          "align": "left",
          "font": {
           "color": "#000000"
          },
          "showarrow": false,
          "text": "27",
          "x": 2.55,
          "xanchor": "left",
          "xref": "x1",
          "y": 15,
          "yref": "y1"
         },
         {
          "align": "left",
          "font": {
           "color": "#000000"
          },
          "showarrow": false,
          "text": "Michigan",
          "x": -0.45,
          "xanchor": "left",
          "xref": "x1",
          "y": 16,
          "yref": "y1"
         },
         {
          "align": "left",
          "font": {
           "color": "#000000"
          },
          "showarrow": false,
          "text": "62",
          "x": 0.55,
          "xanchor": "left",
          "xref": "x1",
          "y": 16,
          "yref": "y1"
         },
         {
          "align": "left",
          "font": {
           "color": "#000000"
          },
          "showarrow": false,
          "text": "84",
          "x": 1.55,
          "xanchor": "left",
          "xref": "x1",
          "y": 16,
          "yref": "y1"
         },
         {
          "align": "left",
          "font": {
           "color": "#000000"
          },
          "showarrow": false,
          "text": "22",
          "x": 2.55,
          "xanchor": "left",
          "xref": "x1",
          "y": 16,
          "yref": "y1"
         },
         {
          "align": "left",
          "font": {
           "color": "#000000"
          },
          "showarrow": false,
          "text": "Brown",
          "x": -0.45,
          "xanchor": "left",
          "xref": "x1",
          "y": 17,
          "yref": "y1"
         },
         {
          "align": "left",
          "font": {
           "color": "#000000"
          },
          "showarrow": false,
          "text": "72",
          "x": 0.55,
          "xanchor": "left",
          "xref": "x1",
          "y": 17,
          "yref": "y1"
         },
         {
          "align": "left",
          "font": {
           "color": "#000000"
          },
          "showarrow": false,
          "text": "92",
          "x": 1.55,
          "xanchor": "left",
          "xref": "x1",
          "y": 17,
          "yref": "y1"
         },
         {
          "align": "left",
          "font": {
           "color": "#000000"
          },
          "showarrow": false,
          "text": "20",
          "x": 2.55,
          "xanchor": "left",
          "xref": "x1",
          "y": 17,
          "yref": "y1"
         },
         {
          "align": "left",
          "font": {
           "color": "#000000"
          },
          "showarrow": false,
          "text": "Berkeley",
          "x": -0.45,
          "xanchor": "left",
          "xref": "x1",
          "y": 18,
          "yref": "y1"
         },
         {
          "align": "left",
          "font": {
           "color": "#000000"
          },
          "showarrow": false,
          "text": "71",
          "x": 0.55,
          "xanchor": "left",
          "xref": "x1",
          "y": 18,
          "yref": "y1"
         },
         {
          "align": "left",
          "font": {
           "color": "#000000"
          },
          "showarrow": false,
          "text": "88",
          "x": 1.55,
          "xanchor": "left",
          "xref": "x1",
          "y": 18,
          "yref": "y1"
         },
         {
          "align": "left",
          "font": {
           "color": "#000000"
          },
          "showarrow": false,
          "text": "17",
          "x": 2.55,
          "xanchor": "left",
          "xref": "x1",
          "y": 18,
          "yref": "y1"
         },
         {
          "align": "left",
          "font": {
           "color": "#000000"
          },
          "showarrow": false,
          "text": "Emory",
          "x": -0.45,
          "xanchor": "left",
          "xref": "x1",
          "y": 19,
          "yref": "y1"
         },
         {
          "align": "left",
          "font": {
           "color": "#000000"
          },
          "showarrow": false,
          "text": "68",
          "x": 0.55,
          "xanchor": "left",
          "xref": "x1",
          "y": 19,
          "yref": "y1"
         },
         {
          "align": "left",
          "font": {
           "color": "#000000"
          },
          "showarrow": false,
          "text": "82",
          "x": 1.55,
          "xanchor": "left",
          "xref": "x1",
          "y": 19,
          "yref": "y1"
         },
         {
          "align": "left",
          "font": {
           "color": "#000000"
          },
          "showarrow": false,
          "text": "14",
          "x": 2.55,
          "xanchor": "left",
          "xref": "x1",
          "y": 19,
          "yref": "y1"
         },
         {
          "align": "left",
          "font": {
           "color": "#000000"
          },
          "showarrow": false,
          "text": "UCLA",
          "x": -0.45,
          "xanchor": "left",
          "xref": "x1",
          "y": 20,
          "yref": "y1"
         },
         {
          "align": "left",
          "font": {
           "color": "#000000"
          },
          "showarrow": false,
          "text": "64",
          "x": 0.55,
          "xanchor": "left",
          "xref": "x1",
          "y": 20,
          "yref": "y1"
         },
         {
          "align": "left",
          "font": {
           "color": "#000000"
          },
          "showarrow": false,
          "text": "78",
          "x": 1.55,
          "xanchor": "left",
          "xref": "x1",
          "y": 20,
          "yref": "y1"
         },
         {
          "align": "left",
          "font": {
           "color": "#000000"
          },
          "showarrow": false,
          "text": "14",
          "x": 2.55,
          "xanchor": "left",
          "xref": "x1",
          "y": 20,
          "yref": "y1"
         },
         {
          "align": "left",
          "font": {
           "color": "#000000"
          },
          "showarrow": false,
          "text": "SoCal",
          "x": -0.45,
          "xanchor": "left",
          "xref": "x1",
          "y": 21,
          "yref": "y1"
         },
         {
          "align": "left",
          "font": {
           "color": "#000000"
          },
          "showarrow": false,
          "text": "72",
          "x": 0.55,
          "xanchor": "left",
          "xref": "x1",
          "y": 21,
          "yref": "y1"
         },
         {
          "align": "left",
          "font": {
           "color": "#000000"
          },
          "showarrow": false,
          "text": "81",
          "x": 1.55,
          "xanchor": "left",
          "xref": "x1",
          "y": 21,
          "yref": "y1"
         },
         {
          "align": "left",
          "font": {
           "color": "#000000"
          },
          "showarrow": false,
          "text": "9",
          "x": 2.55,
          "xanchor": "left",
          "xref": "x1",
          "y": 21,
          "yref": "y1"
         }
        ],
        "height": 710,
        "margin": {
         "b": 0,
         "l": 0,
         "r": 0,
         "t": 0
        },
        "xaxis": {
         "dtick": 1,
         "gridwidth": 2,
         "showticklabels": false,
         "tick0": -0.5,
         "ticks": "",
         "zeroline": false
        },
        "yaxis": {
         "autorange": "reversed",
         "dtick": 1,
         "gridwidth": 2,
         "showticklabels": false,
         "tick0": 0.5,
         "ticks": "",
         "zeroline": false
        }
       }
      },
      "text/html": [
       "<div id=\"05c75cff-8eb7-4be0-b957-05dd1b3f1cf9\" style=\"height: 710px; width: 100%;\" class=\"plotly-graph-div\"></div><script type=\"text/javascript\">require([\"plotly\"], function(Plotly) { window.PLOTLYENV=window.PLOTLYENV || {};window.PLOTLYENV.BASE_URL=\"https://plot.ly\";Plotly.newPlot(\"05c75cff-8eb7-4be0-b957-05dd1b3f1cf9\", [{\"opacity\": 0.75, \"colorscale\": [[0, \"#00083e\"], [0.5, \"#ededee\"], [1, \"#ffffff\"]], \"showscale\": false, \"hoverinfo\": \"none\", \"z\": [[0, 0, 0, 0], [0.5, 0.5, 0.5, 0.5], [1, 1, 1, 1], [0.5, 0.5, 0.5, 0.5], [1, 1, 1, 1], [0.5, 0.5, 0.5, 0.5], [1, 1, 1, 1], [0.5, 0.5, 0.5, 0.5], [1, 1, 1, 1], [0.5, 0.5, 0.5, 0.5], [1, 1, 1, 1], [0.5, 0.5, 0.5, 0.5], [1, 1, 1, 1], [0.5, 0.5, 0.5, 0.5], [1, 1, 1, 1], [0.5, 0.5, 0.5, 0.5], [1, 1, 1, 1], [0.5, 0.5, 0.5, 0.5], [1, 1, 1, 1], [0.5, 0.5, 0.5, 0.5], [1, 1, 1, 1], [0.5, 0.5, 0.5, 0.5]], \"type\": \"heatmap\"}], {\"yaxis\": {\"showticklabels\": false, \"tick0\": 0.5, \"ticks\": \"\", \"gridwidth\": 2, \"dtick\": 1, \"zeroline\": false, \"autorange\": \"reversed\"}, \"margin\": {\"r\": 0, \"b\": 0, \"l\": 0, \"t\": 0}, \"annotations\": [{\"xref\": \"x1\", \"xanchor\": \"left\", \"yref\": \"y1\", \"text\": \"<b>School</b>\", \"align\": \"left\", \"y\": 0, \"x\": -0.45, \"font\": {\"color\": \"#ffffff\"}, \"showarrow\": false}, {\"xref\": \"x1\", \"xanchor\": \"left\", \"yref\": \"y1\", \"text\": \"<b>Women</b>\", \"align\": \"left\", \"y\": 0, \"x\": 0.55, \"font\": {\"color\": \"#ffffff\"}, \"showarrow\": false}, {\"xref\": \"x1\", \"xanchor\": \"left\", \"yref\": \"y1\", \"text\": \"<b>Men</b>\", \"align\": \"left\", \"y\": 0, \"x\": 1.55, \"font\": {\"color\": \"#ffffff\"}, \"showarrow\": false}, {\"xref\": \"x1\", \"xanchor\": \"left\", \"yref\": \"y1\", \"text\": \"<b>Gap</b>\", \"align\": \"left\", \"y\": 0, \"x\": 2.55, \"font\": {\"color\": \"#ffffff\"}, \"showarrow\": false}, {\"xref\": \"x1\", \"xanchor\": \"left\", \"yref\": \"y1\", \"text\": \"MIT\", \"align\": \"left\", \"y\": 1, \"x\": -0.45, \"font\": {\"color\": \"#000000\"}, \"showarrow\": false}, {\"xref\": \"x1\", \"xanchor\": \"left\", \"yref\": \"y1\", \"text\": \"94\", \"align\": \"left\", \"y\": 1, \"x\": 0.55, \"font\": {\"color\": \"#000000\"}, \"showarrow\": false}, {\"xref\": \"x1\", \"xanchor\": \"left\", \"yref\": \"y1\", \"text\": \"152\", \"align\": \"left\", \"y\": 1, \"x\": 1.55, \"font\": {\"color\": \"#000000\"}, \"showarrow\": false}, {\"xref\": \"x1\", \"xanchor\": \"left\", \"yref\": \"y1\", \"text\": \"58\", \"align\": \"left\", \"y\": 1, \"x\": 2.55, \"font\": {\"color\": \"#000000\"}, \"showarrow\": false}, {\"xref\": \"x1\", \"xanchor\": \"left\", \"yref\": \"y1\", \"text\": \"Stanford\", \"align\": \"left\", \"y\": 2, \"x\": -0.45, \"font\": {\"color\": \"#000000\"}, \"showarrow\": false}, {\"xref\": \"x1\", \"xanchor\": \"left\", \"yref\": \"y1\", \"text\": \"96\", \"align\": \"left\", \"y\": 2, \"x\": 0.55, \"font\": {\"color\": \"#000000\"}, \"showarrow\": false}, {\"xref\": \"x1\", \"xanchor\": \"left\", \"yref\": \"y1\", \"text\": \"151\", \"align\": \"left\", \"y\": 2, \"x\": 1.55, \"font\": {\"color\": \"#000000\"}, \"showarrow\": false}, {\"xref\": \"x1\", \"xanchor\": \"left\", \"yref\": \"y1\", \"text\": \"55\", \"align\": \"left\", \"y\": 2, \"x\": 2.55, \"font\": {\"color\": \"#000000\"}, \"showarrow\": false}, {\"xref\": \"x1\", \"xanchor\": \"left\", \"yref\": \"y1\", \"text\": \"Harvard\", \"align\": \"left\", \"y\": 3, \"x\": -0.45, \"font\": {\"color\": \"#000000\"}, \"showarrow\": false}, {\"xref\": \"x1\", \"xanchor\": \"left\", \"yref\": \"y1\", \"text\": \"112\", \"align\": \"left\", \"y\": 3, \"x\": 0.55, \"font\": {\"color\": \"#000000\"}, \"showarrow\": false}, {\"xref\": \"x1\", \"xanchor\": \"left\", \"yref\": \"y1\", \"text\": \"165\", \"align\": \"left\", \"y\": 3, \"x\": 1.55, \"font\": {\"color\": \"#000000\"}, \"showarrow\": false}, {\"xref\": \"x1\", \"xanchor\": \"left\", \"yref\": \"y1\", \"text\": \"53\", \"align\": \"left\", \"y\": 3, \"x\": 2.55, \"font\": {\"color\": \"#000000\"}, \"showarrow\": false}, {\"xref\": \"x1\", \"xanchor\": \"left\", \"yref\": \"y1\", \"text\": \"U.Penn\", \"align\": \"left\", \"y\": 4, \"x\": -0.45, \"font\": {\"color\": \"#000000\"}, \"showarrow\": false}, {\"xref\": \"x1\", \"xanchor\": \"left\", \"yref\": \"y1\", \"text\": \"92\", \"align\": \"left\", \"y\": 4, \"x\": 0.55, \"font\": {\"color\": \"#000000\"}, \"showarrow\": false}, {\"xref\": \"x1\", \"xanchor\": \"left\", \"yref\": \"y1\", \"text\": \"141\", \"align\": \"left\", \"y\": 4, \"x\": 1.55, \"font\": {\"color\": \"#000000\"}, \"showarrow\": false}, {\"xref\": \"x1\", \"xanchor\": \"left\", \"yref\": \"y1\", \"text\": \"49\", \"align\": \"left\", \"y\": 4, \"x\": 2.55, \"font\": {\"color\": \"#000000\"}, \"showarrow\": false}, {\"xref\": \"x1\", \"xanchor\": \"left\", \"yref\": \"y1\", \"text\": \"Princeton\", \"align\": \"left\", \"y\": 5, \"x\": -0.45, \"font\": {\"color\": \"#000000\"}, \"showarrow\": false}, {\"xref\": \"x1\", \"xanchor\": \"left\", \"yref\": \"y1\", \"text\": \"90\", \"align\": \"left\", \"y\": 5, \"x\": 0.55, \"font\": {\"color\": \"#000000\"}, \"showarrow\": false}, {\"xref\": \"x1\", \"xanchor\": \"left\", \"yref\": \"y1\", \"text\": \"137\", \"align\": \"left\", \"y\": 5, \"x\": 1.55, \"font\": {\"color\": \"#000000\"}, \"showarrow\": false}, {\"xref\": \"x1\", \"xanchor\": \"left\", \"yref\": \"y1\", \"text\": \"47\", \"align\": \"left\", \"y\": 5, \"x\": 2.55, \"font\": {\"color\": \"#000000\"}, \"showarrow\": false}, {\"xref\": \"x1\", \"xanchor\": \"left\", \"yref\": \"y1\", \"text\": \"Chicago\", \"align\": \"left\", \"y\": 6, \"x\": -0.45, \"font\": {\"color\": \"#000000\"}, \"showarrow\": false}, {\"xref\": \"x1\", \"xanchor\": \"left\", \"yref\": \"y1\", \"text\": \"78\", \"align\": \"left\", \"y\": 6, \"x\": 0.55, \"font\": {\"color\": \"#000000\"}, \"showarrow\": false}, {\"xref\": \"x1\", \"xanchor\": \"left\", \"yref\": \"y1\", \"text\": \"118\", \"align\": \"left\", \"y\": 6, \"x\": 1.55, \"font\": {\"color\": \"#000000\"}, \"showarrow\": false}, {\"xref\": \"x1\", \"xanchor\": \"left\", \"yref\": \"y1\", \"text\": \"40\", \"align\": \"left\", \"y\": 6, \"x\": 2.55, \"font\": {\"color\": \"#000000\"}, \"showarrow\": false}, {\"xref\": \"x1\", \"xanchor\": \"left\", \"yref\": \"y1\", \"text\": \"Georgetown\", \"align\": \"left\", \"y\": 7, \"x\": -0.45, \"font\": {\"color\": \"#000000\"}, \"showarrow\": false}, {\"xref\": \"x1\", \"xanchor\": \"left\", \"yref\": \"y1\", \"text\": \"94\", \"align\": \"left\", \"y\": 7, \"x\": 0.55, \"font\": {\"color\": \"#000000\"}, \"showarrow\": false}, {\"xref\": \"x1\", \"xanchor\": \"left\", \"yref\": \"y1\", \"text\": \"131\", \"align\": \"left\", \"y\": 7, \"x\": 1.55, \"font\": {\"color\": \"#000000\"}, \"showarrow\": false}, {\"xref\": \"x1\", \"xanchor\": \"left\", \"yref\": \"y1\", \"text\": \"37\", \"align\": \"left\", \"y\": 7, \"x\": 2.55, \"font\": {\"color\": \"#000000\"}, \"showarrow\": false}, {\"xref\": \"x1\", \"xanchor\": \"left\", \"yref\": \"y1\", \"text\": \"Tufts\", \"align\": \"left\", \"y\": 8, \"x\": -0.45, \"font\": {\"color\": \"#000000\"}, \"showarrow\": false}, {\"xref\": \"x1\", \"xanchor\": \"left\", \"yref\": \"y1\", \"text\": \"76\", \"align\": \"left\", \"y\": 8, \"x\": 0.55, \"font\": {\"color\": \"#000000\"}, \"showarrow\": false}, {\"xref\": \"x1\", \"xanchor\": \"left\", \"yref\": \"y1\", \"text\": \"112\", \"align\": \"left\", \"y\": 8, \"x\": 1.55, \"font\": {\"color\": \"#000000\"}, \"showarrow\": false}, {\"xref\": \"x1\", \"xanchor\": \"left\", \"yref\": \"y1\", \"text\": \"36\", \"align\": \"left\", \"y\": 8, \"x\": 2.55, \"font\": {\"color\": \"#000000\"}, \"showarrow\": false}, {\"xref\": \"x1\", \"xanchor\": \"left\", \"yref\": \"y1\", \"text\": \"Yale\", \"align\": \"left\", \"y\": 9, \"x\": -0.45, \"font\": {\"color\": \"#000000\"}, \"showarrow\": false}, {\"xref\": \"x1\", \"xanchor\": \"left\", \"yref\": \"y1\", \"text\": \"79\", \"align\": \"left\", \"y\": 9, \"x\": 0.55, \"font\": {\"color\": \"#000000\"}, \"showarrow\": false}, {\"xref\": \"x1\", \"xanchor\": \"left\", \"yref\": \"y1\", \"text\": \"114\", \"align\": \"left\", \"y\": 9, \"x\": 1.55, \"font\": {\"color\": \"#000000\"}, \"showarrow\": false}, {\"xref\": \"x1\", \"xanchor\": \"left\", \"yref\": \"y1\", \"text\": \"35\", \"align\": \"left\", \"y\": 9, \"x\": 2.55, \"font\": {\"color\": \"#000000\"}, \"showarrow\": false}, {\"xref\": \"x1\", \"xanchor\": \"left\", \"yref\": \"y1\", \"text\": \"Columbia\", \"align\": \"left\", \"y\": 10, \"x\": -0.45, \"font\": {\"color\": \"#000000\"}, \"showarrow\": false}, {\"xref\": \"x1\", \"xanchor\": \"left\", \"yref\": \"y1\", \"text\": \"86\", \"align\": \"left\", \"y\": 10, \"x\": 0.55, \"font\": {\"color\": \"#000000\"}, \"showarrow\": false}, {\"xref\": \"x1\", \"xanchor\": \"left\", \"yref\": \"y1\", \"text\": \"119\", \"align\": \"left\", \"y\": 10, \"x\": 1.55, \"font\": {\"color\": \"#000000\"}, \"showarrow\": false}, {\"xref\": \"x1\", \"xanchor\": \"left\", \"yref\": \"y1\", \"text\": \"33\", \"align\": \"left\", \"y\": 10, \"x\": 2.55, \"font\": {\"color\": \"#000000\"}, \"showarrow\": false}, {\"xref\": \"x1\", \"xanchor\": \"left\", \"yref\": \"y1\", \"text\": \"Duke\", \"align\": \"left\", \"y\": 11, \"x\": -0.45, \"font\": {\"color\": \"#000000\"}, \"showarrow\": false}, {\"xref\": \"x1\", \"xanchor\": \"left\", \"yref\": \"y1\", \"text\": \"93\", \"align\": \"left\", \"y\": 11, \"x\": 0.55, \"font\": {\"color\": \"#000000\"}, \"showarrow\": false}, {\"xref\": \"x1\", \"xanchor\": \"left\", \"yref\": \"y1\", \"text\": \"124\", \"align\": \"left\", \"y\": 11, \"x\": 1.55, \"font\": {\"color\": \"#000000\"}, \"showarrow\": false}, {\"xref\": \"x1\", \"xanchor\": \"left\", \"yref\": \"y1\", \"text\": \"31\", \"align\": \"left\", \"y\": 11, \"x\": 2.55, \"font\": {\"color\": \"#000000\"}, \"showarrow\": false}, {\"xref\": \"x1\", \"xanchor\": \"left\", \"yref\": \"y1\", \"text\": \"Dartmouth\", \"align\": \"left\", \"y\": 12, \"x\": -0.45, \"font\": {\"color\": \"#000000\"}, \"showarrow\": false}, {\"xref\": \"x1\", \"xanchor\": \"left\", \"yref\": \"y1\", \"text\": \"84\", \"align\": \"left\", \"y\": 12, \"x\": 0.55, \"font\": {\"color\": \"#000000\"}, \"showarrow\": false}, {\"xref\": \"x1\", \"xanchor\": \"left\", \"yref\": \"y1\", \"text\": \"114\", \"align\": \"left\", \"y\": 12, \"x\": 1.55, \"font\": {\"color\": \"#000000\"}, \"showarrow\": false}, {\"xref\": \"x1\", \"xanchor\": \"left\", \"yref\": \"y1\", \"text\": \"30\", \"align\": \"left\", \"y\": 12, \"x\": 2.55, \"font\": {\"color\": \"#000000\"}, \"showarrow\": false}, {\"xref\": \"x1\", \"xanchor\": \"left\", \"yref\": \"y1\", \"text\": \"NYU\", \"align\": \"left\", \"y\": 13, \"x\": -0.45, \"font\": {\"color\": \"#000000\"}, \"showarrow\": false}, {\"xref\": \"x1\", \"xanchor\": \"left\", \"yref\": \"y1\", \"text\": \"67\", \"align\": \"left\", \"y\": 13, \"x\": 0.55, \"font\": {\"color\": \"#000000\"}, \"showarrow\": false}, {\"xref\": \"x1\", \"xanchor\": \"left\", \"yref\": \"y1\", \"text\": \"94\", \"align\": \"left\", \"y\": 13, \"x\": 1.55, \"font\": {\"color\": \"#000000\"}, \"showarrow\": false}, {\"xref\": \"x1\", \"xanchor\": \"left\", \"yref\": \"y1\", \"text\": \"27\", \"align\": \"left\", \"y\": 13, \"x\": 2.55, \"font\": {\"color\": \"#000000\"}, \"showarrow\": false}, {\"xref\": \"x1\", \"xanchor\": \"left\", \"yref\": \"y1\", \"text\": \"Notre Dame\", \"align\": \"left\", \"y\": 14, \"x\": -0.45, \"font\": {\"color\": \"#000000\"}, \"showarrow\": false}, {\"xref\": \"x1\", \"xanchor\": \"left\", \"yref\": \"y1\", \"text\": \"73\", \"align\": \"left\", \"y\": 14, \"x\": 0.55, \"font\": {\"color\": \"#000000\"}, \"showarrow\": false}, {\"xref\": \"x1\", \"xanchor\": \"left\", \"yref\": \"y1\", \"text\": \"100\", \"align\": \"left\", \"y\": 14, \"x\": 1.55, \"font\": {\"color\": \"#000000\"}, \"showarrow\": false}, {\"xref\": \"x1\", \"xanchor\": \"left\", \"yref\": \"y1\", \"text\": \"27\", \"align\": \"left\", \"y\": 14, \"x\": 2.55, \"font\": {\"color\": \"#000000\"}, \"showarrow\": false}, {\"xref\": \"x1\", \"xanchor\": \"left\", \"yref\": \"y1\", \"text\": \"Cornell\", \"align\": \"left\", \"y\": 15, \"x\": -0.45, \"font\": {\"color\": \"#000000\"}, \"showarrow\": false}, {\"xref\": \"x1\", \"xanchor\": \"left\", \"yref\": \"y1\", \"text\": \"80\", \"align\": \"left\", \"y\": 15, \"x\": 0.55, \"font\": {\"color\": \"#000000\"}, \"showarrow\": false}, {\"xref\": \"x1\", \"xanchor\": \"left\", \"yref\": \"y1\", \"text\": \"107\", \"align\": \"left\", \"y\": 15, \"x\": 1.55, \"font\": {\"color\": \"#000000\"}, \"showarrow\": false}, {\"xref\": \"x1\", \"xanchor\": \"left\", \"yref\": \"y1\", \"text\": \"27\", \"align\": \"left\", \"y\": 15, \"x\": 2.55, \"font\": {\"color\": \"#000000\"}, \"showarrow\": false}, {\"xref\": \"x1\", \"xanchor\": \"left\", \"yref\": \"y1\", \"text\": \"Michigan\", \"align\": \"left\", \"y\": 16, \"x\": -0.45, \"font\": {\"color\": \"#000000\"}, \"showarrow\": false}, {\"xref\": \"x1\", \"xanchor\": \"left\", \"yref\": \"y1\", \"text\": \"62\", \"align\": \"left\", \"y\": 16, \"x\": 0.55, \"font\": {\"color\": \"#000000\"}, \"showarrow\": false}, {\"xref\": \"x1\", \"xanchor\": \"left\", \"yref\": \"y1\", \"text\": \"84\", \"align\": \"left\", \"y\": 16, \"x\": 1.55, \"font\": {\"color\": \"#000000\"}, \"showarrow\": false}, {\"xref\": \"x1\", \"xanchor\": \"left\", \"yref\": \"y1\", \"text\": \"22\", \"align\": \"left\", \"y\": 16, \"x\": 2.55, \"font\": {\"color\": \"#000000\"}, \"showarrow\": false}, {\"xref\": \"x1\", \"xanchor\": \"left\", \"yref\": \"y1\", \"text\": \"Brown\", \"align\": \"left\", \"y\": 17, \"x\": -0.45, \"font\": {\"color\": \"#000000\"}, \"showarrow\": false}, {\"xref\": \"x1\", \"xanchor\": \"left\", \"yref\": \"y1\", \"text\": \"72\", \"align\": \"left\", \"y\": 17, \"x\": 0.55, \"font\": {\"color\": \"#000000\"}, \"showarrow\": false}, {\"xref\": \"x1\", \"xanchor\": \"left\", \"yref\": \"y1\", \"text\": \"92\", \"align\": \"left\", \"y\": 17, \"x\": 1.55, \"font\": {\"color\": \"#000000\"}, \"showarrow\": false}, {\"xref\": \"x1\", \"xanchor\": \"left\", \"yref\": \"y1\", \"text\": \"20\", \"align\": \"left\", \"y\": 17, \"x\": 2.55, \"font\": {\"color\": \"#000000\"}, \"showarrow\": false}, {\"xref\": \"x1\", \"xanchor\": \"left\", \"yref\": \"y1\", \"text\": \"Berkeley\", \"align\": \"left\", \"y\": 18, \"x\": -0.45, \"font\": {\"color\": \"#000000\"}, \"showarrow\": false}, {\"xref\": \"x1\", \"xanchor\": \"left\", \"yref\": \"y1\", \"text\": \"71\", \"align\": \"left\", \"y\": 18, \"x\": 0.55, \"font\": {\"color\": \"#000000\"}, \"showarrow\": false}, {\"xref\": \"x1\", \"xanchor\": \"left\", \"yref\": \"y1\", \"text\": \"88\", \"align\": \"left\", \"y\": 18, \"x\": 1.55, \"font\": {\"color\": \"#000000\"}, \"showarrow\": false}, {\"xref\": \"x1\", \"xanchor\": \"left\", \"yref\": \"y1\", \"text\": \"17\", \"align\": \"left\", \"y\": 18, \"x\": 2.55, \"font\": {\"color\": \"#000000\"}, \"showarrow\": false}, {\"xref\": \"x1\", \"xanchor\": \"left\", \"yref\": \"y1\", \"text\": \"Emory\", \"align\": \"left\", \"y\": 19, \"x\": -0.45, \"font\": {\"color\": \"#000000\"}, \"showarrow\": false}, {\"xref\": \"x1\", \"xanchor\": \"left\", \"yref\": \"y1\", \"text\": \"68\", \"align\": \"left\", \"y\": 19, \"x\": 0.55, \"font\": {\"color\": \"#000000\"}, \"showarrow\": false}, {\"xref\": \"x1\", \"xanchor\": \"left\", \"yref\": \"y1\", \"text\": \"82\", \"align\": \"left\", \"y\": 19, \"x\": 1.55, \"font\": {\"color\": \"#000000\"}, \"showarrow\": false}, {\"xref\": \"x1\", \"xanchor\": \"left\", \"yref\": \"y1\", \"text\": \"14\", \"align\": \"left\", \"y\": 19, \"x\": 2.55, \"font\": {\"color\": \"#000000\"}, \"showarrow\": false}, {\"xref\": \"x1\", \"xanchor\": \"left\", \"yref\": \"y1\", \"text\": \"UCLA\", \"align\": \"left\", \"y\": 20, \"x\": -0.45, \"font\": {\"color\": \"#000000\"}, \"showarrow\": false}, {\"xref\": \"x1\", \"xanchor\": \"left\", \"yref\": \"y1\", \"text\": \"64\", \"align\": \"left\", \"y\": 20, \"x\": 0.55, \"font\": {\"color\": \"#000000\"}, \"showarrow\": false}, {\"xref\": \"x1\", \"xanchor\": \"left\", \"yref\": \"y1\", \"text\": \"78\", \"align\": \"left\", \"y\": 20, \"x\": 1.55, \"font\": {\"color\": \"#000000\"}, \"showarrow\": false}, {\"xref\": \"x1\", \"xanchor\": \"left\", \"yref\": \"y1\", \"text\": \"14\", \"align\": \"left\", \"y\": 20, \"x\": 2.55, \"font\": {\"color\": \"#000000\"}, \"showarrow\": false}, {\"xref\": \"x1\", \"xanchor\": \"left\", \"yref\": \"y1\", \"text\": \"SoCal\", \"align\": \"left\", \"y\": 21, \"x\": -0.45, \"font\": {\"color\": \"#000000\"}, \"showarrow\": false}, {\"xref\": \"x1\", \"xanchor\": \"left\", \"yref\": \"y1\", \"text\": \"72\", \"align\": \"left\", \"y\": 21, \"x\": 0.55, \"font\": {\"color\": \"#000000\"}, \"showarrow\": false}, {\"xref\": \"x1\", \"xanchor\": \"left\", \"yref\": \"y1\", \"text\": \"81\", \"align\": \"left\", \"y\": 21, \"x\": 1.55, \"font\": {\"color\": \"#000000\"}, \"showarrow\": false}, {\"xref\": \"x1\", \"xanchor\": \"left\", \"yref\": \"y1\", \"text\": \"9\", \"align\": \"left\", \"y\": 21, \"x\": 2.55, \"font\": {\"color\": \"#000000\"}, \"showarrow\": false}], \"xaxis\": {\"showticklabels\": false, \"tick0\": -0.5, \"ticks\": \"\", \"gridwidth\": 2, \"dtick\": 1, \"zeroline\": false}, \"height\": 710}, {\"linkText\": \"Export to plot.ly\", \"showLink\": true})});</script>"
      ],
      "text/vnd.plotly.v1+html": [
       "<div id=\"05c75cff-8eb7-4be0-b957-05dd1b3f1cf9\" style=\"height: 710px; width: 100%;\" class=\"plotly-graph-div\"></div><script type=\"text/javascript\">require([\"plotly\"], function(Plotly) { window.PLOTLYENV=window.PLOTLYENV || {};window.PLOTLYENV.BASE_URL=\"https://plot.ly\";Plotly.newPlot(\"05c75cff-8eb7-4be0-b957-05dd1b3f1cf9\", [{\"opacity\": 0.75, \"colorscale\": [[0, \"#00083e\"], [0.5, \"#ededee\"], [1, \"#ffffff\"]], \"showscale\": false, \"hoverinfo\": \"none\", \"z\": [[0, 0, 0, 0], [0.5, 0.5, 0.5, 0.5], [1, 1, 1, 1], [0.5, 0.5, 0.5, 0.5], [1, 1, 1, 1], [0.5, 0.5, 0.5, 0.5], [1, 1, 1, 1], [0.5, 0.5, 0.5, 0.5], [1, 1, 1, 1], [0.5, 0.5, 0.5, 0.5], [1, 1, 1, 1], [0.5, 0.5, 0.5, 0.5], [1, 1, 1, 1], [0.5, 0.5, 0.5, 0.5], [1, 1, 1, 1], [0.5, 0.5, 0.5, 0.5], [1, 1, 1, 1], [0.5, 0.5, 0.5, 0.5], [1, 1, 1, 1], [0.5, 0.5, 0.5, 0.5], [1, 1, 1, 1], [0.5, 0.5, 0.5, 0.5]], \"type\": \"heatmap\"}], {\"yaxis\": {\"showticklabels\": false, \"tick0\": 0.5, \"ticks\": \"\", \"gridwidth\": 2, \"dtick\": 1, \"zeroline\": false, \"autorange\": \"reversed\"}, \"margin\": {\"r\": 0, \"b\": 0, \"l\": 0, \"t\": 0}, \"annotations\": [{\"xref\": \"x1\", \"xanchor\": \"left\", \"yref\": \"y1\", \"text\": \"<b>School</b>\", \"align\": \"left\", \"y\": 0, \"x\": -0.45, \"font\": {\"color\": \"#ffffff\"}, \"showarrow\": false}, {\"xref\": \"x1\", \"xanchor\": \"left\", \"yref\": \"y1\", \"text\": \"<b>Women</b>\", \"align\": \"left\", \"y\": 0, \"x\": 0.55, \"font\": {\"color\": \"#ffffff\"}, \"showarrow\": false}, {\"xref\": \"x1\", \"xanchor\": \"left\", \"yref\": \"y1\", \"text\": \"<b>Men</b>\", \"align\": \"left\", \"y\": 0, \"x\": 1.55, \"font\": {\"color\": \"#ffffff\"}, \"showarrow\": false}, {\"xref\": \"x1\", \"xanchor\": \"left\", \"yref\": \"y1\", \"text\": \"<b>Gap</b>\", \"align\": \"left\", \"y\": 0, \"x\": 2.55, \"font\": {\"color\": \"#ffffff\"}, \"showarrow\": false}, {\"xref\": \"x1\", \"xanchor\": \"left\", \"yref\": \"y1\", \"text\": \"MIT\", \"align\": \"left\", \"y\": 1, \"x\": -0.45, \"font\": {\"color\": \"#000000\"}, \"showarrow\": false}, {\"xref\": \"x1\", \"xanchor\": \"left\", \"yref\": \"y1\", \"text\": \"94\", \"align\": \"left\", \"y\": 1, \"x\": 0.55, \"font\": {\"color\": \"#000000\"}, \"showarrow\": false}, {\"xref\": \"x1\", \"xanchor\": \"left\", \"yref\": \"y1\", \"text\": \"152\", \"align\": \"left\", \"y\": 1, \"x\": 1.55, \"font\": {\"color\": \"#000000\"}, \"showarrow\": false}, {\"xref\": \"x1\", \"xanchor\": \"left\", \"yref\": \"y1\", \"text\": \"58\", \"align\": \"left\", \"y\": 1, \"x\": 2.55, \"font\": {\"color\": \"#000000\"}, \"showarrow\": false}, {\"xref\": \"x1\", \"xanchor\": \"left\", \"yref\": \"y1\", \"text\": \"Stanford\", \"align\": \"left\", \"y\": 2, \"x\": -0.45, \"font\": {\"color\": \"#000000\"}, \"showarrow\": false}, {\"xref\": \"x1\", \"xanchor\": \"left\", \"yref\": \"y1\", \"text\": \"96\", \"align\": \"left\", \"y\": 2, \"x\": 0.55, \"font\": {\"color\": \"#000000\"}, \"showarrow\": false}, {\"xref\": \"x1\", \"xanchor\": \"left\", \"yref\": \"y1\", \"text\": \"151\", \"align\": \"left\", \"y\": 2, \"x\": 1.55, \"font\": {\"color\": \"#000000\"}, \"showarrow\": false}, {\"xref\": \"x1\", \"xanchor\": \"left\", \"yref\": \"y1\", \"text\": \"55\", \"align\": \"left\", \"y\": 2, \"x\": 2.55, \"font\": {\"color\": \"#000000\"}, \"showarrow\": false}, {\"xref\": \"x1\", \"xanchor\": \"left\", \"yref\": \"y1\", \"text\": \"Harvard\", \"align\": \"left\", \"y\": 3, \"x\": -0.45, \"font\": {\"color\": \"#000000\"}, \"showarrow\": false}, {\"xref\": \"x1\", \"xanchor\": \"left\", \"yref\": \"y1\", \"text\": \"112\", \"align\": \"left\", \"y\": 3, \"x\": 0.55, \"font\": {\"color\": \"#000000\"}, \"showarrow\": false}, {\"xref\": \"x1\", \"xanchor\": \"left\", \"yref\": \"y1\", \"text\": \"165\", \"align\": \"left\", \"y\": 3, \"x\": 1.55, \"font\": {\"color\": \"#000000\"}, \"showarrow\": false}, {\"xref\": \"x1\", \"xanchor\": \"left\", \"yref\": \"y1\", \"text\": \"53\", \"align\": \"left\", \"y\": 3, \"x\": 2.55, \"font\": {\"color\": \"#000000\"}, \"showarrow\": false}, {\"xref\": \"x1\", \"xanchor\": \"left\", \"yref\": \"y1\", \"text\": \"U.Penn\", \"align\": \"left\", \"y\": 4, \"x\": -0.45, \"font\": {\"color\": \"#000000\"}, \"showarrow\": false}, {\"xref\": \"x1\", \"xanchor\": \"left\", \"yref\": \"y1\", \"text\": \"92\", \"align\": \"left\", \"y\": 4, \"x\": 0.55, \"font\": {\"color\": \"#000000\"}, \"showarrow\": false}, {\"xref\": \"x1\", \"xanchor\": \"left\", \"yref\": \"y1\", \"text\": \"141\", \"align\": \"left\", \"y\": 4, \"x\": 1.55, \"font\": {\"color\": \"#000000\"}, \"showarrow\": false}, {\"xref\": \"x1\", \"xanchor\": \"left\", \"yref\": \"y1\", \"text\": \"49\", \"align\": \"left\", \"y\": 4, \"x\": 2.55, \"font\": {\"color\": \"#000000\"}, \"showarrow\": false}, {\"xref\": \"x1\", \"xanchor\": \"left\", \"yref\": \"y1\", \"text\": \"Princeton\", \"align\": \"left\", \"y\": 5, \"x\": -0.45, \"font\": {\"color\": \"#000000\"}, \"showarrow\": false}, {\"xref\": \"x1\", \"xanchor\": \"left\", \"yref\": \"y1\", \"text\": \"90\", \"align\": \"left\", \"y\": 5, \"x\": 0.55, \"font\": {\"color\": \"#000000\"}, \"showarrow\": false}, {\"xref\": \"x1\", \"xanchor\": \"left\", \"yref\": \"y1\", \"text\": \"137\", \"align\": \"left\", \"y\": 5, \"x\": 1.55, \"font\": {\"color\": \"#000000\"}, \"showarrow\": false}, {\"xref\": \"x1\", \"xanchor\": \"left\", \"yref\": \"y1\", \"text\": \"47\", \"align\": \"left\", \"y\": 5, \"x\": 2.55, \"font\": {\"color\": \"#000000\"}, \"showarrow\": false}, {\"xref\": \"x1\", \"xanchor\": \"left\", \"yref\": \"y1\", \"text\": \"Chicago\", \"align\": \"left\", \"y\": 6, \"x\": -0.45, \"font\": {\"color\": \"#000000\"}, \"showarrow\": false}, {\"xref\": \"x1\", \"xanchor\": \"left\", \"yref\": \"y1\", \"text\": \"78\", \"align\": \"left\", \"y\": 6, \"x\": 0.55, \"font\": {\"color\": \"#000000\"}, \"showarrow\": false}, {\"xref\": \"x1\", \"xanchor\": \"left\", \"yref\": \"y1\", \"text\": \"118\", \"align\": \"left\", \"y\": 6, \"x\": 1.55, \"font\": {\"color\": \"#000000\"}, \"showarrow\": false}, {\"xref\": \"x1\", \"xanchor\": \"left\", \"yref\": \"y1\", \"text\": \"40\", \"align\": \"left\", \"y\": 6, \"x\": 2.55, \"font\": {\"color\": \"#000000\"}, \"showarrow\": false}, {\"xref\": \"x1\", \"xanchor\": \"left\", \"yref\": \"y1\", \"text\": \"Georgetown\", \"align\": \"left\", \"y\": 7, \"x\": -0.45, \"font\": {\"color\": \"#000000\"}, \"showarrow\": false}, {\"xref\": \"x1\", \"xanchor\": \"left\", \"yref\": \"y1\", \"text\": \"94\", \"align\": \"left\", \"y\": 7, \"x\": 0.55, \"font\": {\"color\": \"#000000\"}, \"showarrow\": false}, {\"xref\": \"x1\", \"xanchor\": \"left\", \"yref\": \"y1\", \"text\": \"131\", \"align\": \"left\", \"y\": 7, \"x\": 1.55, \"font\": {\"color\": \"#000000\"}, \"showarrow\": false}, {\"xref\": \"x1\", \"xanchor\": \"left\", \"yref\": \"y1\", \"text\": \"37\", \"align\": \"left\", \"y\": 7, \"x\": 2.55, \"font\": {\"color\": \"#000000\"}, \"showarrow\": false}, {\"xref\": \"x1\", \"xanchor\": \"left\", \"yref\": \"y1\", \"text\": \"Tufts\", \"align\": \"left\", \"y\": 8, \"x\": -0.45, \"font\": {\"color\": \"#000000\"}, \"showarrow\": false}, {\"xref\": \"x1\", \"xanchor\": \"left\", \"yref\": \"y1\", \"text\": \"76\", \"align\": \"left\", \"y\": 8, \"x\": 0.55, \"font\": {\"color\": \"#000000\"}, \"showarrow\": false}, {\"xref\": \"x1\", \"xanchor\": \"left\", \"yref\": \"y1\", \"text\": \"112\", \"align\": \"left\", \"y\": 8, \"x\": 1.55, \"font\": {\"color\": \"#000000\"}, \"showarrow\": false}, {\"xref\": \"x1\", \"xanchor\": \"left\", \"yref\": \"y1\", \"text\": \"36\", \"align\": \"left\", \"y\": 8, \"x\": 2.55, \"font\": {\"color\": \"#000000\"}, \"showarrow\": false}, {\"xref\": \"x1\", \"xanchor\": \"left\", \"yref\": \"y1\", \"text\": \"Yale\", \"align\": \"left\", \"y\": 9, \"x\": -0.45, \"font\": {\"color\": \"#000000\"}, \"showarrow\": false}, {\"xref\": \"x1\", \"xanchor\": \"left\", \"yref\": \"y1\", \"text\": \"79\", \"align\": \"left\", \"y\": 9, \"x\": 0.55, \"font\": {\"color\": \"#000000\"}, \"showarrow\": false}, {\"xref\": \"x1\", \"xanchor\": \"left\", \"yref\": \"y1\", \"text\": \"114\", \"align\": \"left\", \"y\": 9, \"x\": 1.55, \"font\": {\"color\": \"#000000\"}, \"showarrow\": false}, {\"xref\": \"x1\", \"xanchor\": \"left\", \"yref\": \"y1\", \"text\": \"35\", \"align\": \"left\", \"y\": 9, \"x\": 2.55, \"font\": {\"color\": \"#000000\"}, \"showarrow\": false}, {\"xref\": \"x1\", \"xanchor\": \"left\", \"yref\": \"y1\", \"text\": \"Columbia\", \"align\": \"left\", \"y\": 10, \"x\": -0.45, \"font\": {\"color\": \"#000000\"}, \"showarrow\": false}, {\"xref\": \"x1\", \"xanchor\": \"left\", \"yref\": \"y1\", \"text\": \"86\", \"align\": \"left\", \"y\": 10, \"x\": 0.55, \"font\": {\"color\": \"#000000\"}, \"showarrow\": false}, {\"xref\": \"x1\", \"xanchor\": \"left\", \"yref\": \"y1\", \"text\": \"119\", \"align\": \"left\", \"y\": 10, \"x\": 1.55, \"font\": {\"color\": \"#000000\"}, \"showarrow\": false}, {\"xref\": \"x1\", \"xanchor\": \"left\", \"yref\": \"y1\", \"text\": \"33\", \"align\": \"left\", \"y\": 10, \"x\": 2.55, \"font\": {\"color\": \"#000000\"}, \"showarrow\": false}, {\"xref\": \"x1\", \"xanchor\": \"left\", \"yref\": \"y1\", \"text\": \"Duke\", \"align\": \"left\", \"y\": 11, \"x\": -0.45, \"font\": {\"color\": \"#000000\"}, \"showarrow\": false}, {\"xref\": \"x1\", \"xanchor\": \"left\", \"yref\": \"y1\", \"text\": \"93\", \"align\": \"left\", \"y\": 11, \"x\": 0.55, \"font\": {\"color\": \"#000000\"}, \"showarrow\": false}, {\"xref\": \"x1\", \"xanchor\": \"left\", \"yref\": \"y1\", \"text\": \"124\", \"align\": \"left\", \"y\": 11, \"x\": 1.55, \"font\": {\"color\": \"#000000\"}, \"showarrow\": false}, {\"xref\": \"x1\", \"xanchor\": \"left\", \"yref\": \"y1\", \"text\": \"31\", \"align\": \"left\", \"y\": 11, \"x\": 2.55, \"font\": {\"color\": \"#000000\"}, \"showarrow\": false}, {\"xref\": \"x1\", \"xanchor\": \"left\", \"yref\": \"y1\", \"text\": \"Dartmouth\", \"align\": \"left\", \"y\": 12, \"x\": -0.45, \"font\": {\"color\": \"#000000\"}, \"showarrow\": false}, {\"xref\": \"x1\", \"xanchor\": \"left\", \"yref\": \"y1\", \"text\": \"84\", \"align\": \"left\", \"y\": 12, \"x\": 0.55, \"font\": {\"color\": \"#000000\"}, \"showarrow\": false}, {\"xref\": \"x1\", \"xanchor\": \"left\", \"yref\": \"y1\", \"text\": \"114\", \"align\": \"left\", \"y\": 12, \"x\": 1.55, \"font\": {\"color\": \"#000000\"}, \"showarrow\": false}, {\"xref\": \"x1\", \"xanchor\": \"left\", \"yref\": \"y1\", \"text\": \"30\", \"align\": \"left\", \"y\": 12, \"x\": 2.55, \"font\": {\"color\": \"#000000\"}, \"showarrow\": false}, {\"xref\": \"x1\", \"xanchor\": \"left\", \"yref\": \"y1\", \"text\": \"NYU\", \"align\": \"left\", \"y\": 13, \"x\": -0.45, \"font\": {\"color\": \"#000000\"}, \"showarrow\": false}, {\"xref\": \"x1\", \"xanchor\": \"left\", \"yref\": \"y1\", \"text\": \"67\", \"align\": \"left\", \"y\": 13, \"x\": 0.55, \"font\": {\"color\": \"#000000\"}, \"showarrow\": false}, {\"xref\": \"x1\", \"xanchor\": \"left\", \"yref\": \"y1\", \"text\": \"94\", \"align\": \"left\", \"y\": 13, \"x\": 1.55, \"font\": {\"color\": \"#000000\"}, \"showarrow\": false}, {\"xref\": \"x1\", \"xanchor\": \"left\", \"yref\": \"y1\", \"text\": \"27\", \"align\": \"left\", \"y\": 13, \"x\": 2.55, \"font\": {\"color\": \"#000000\"}, \"showarrow\": false}, {\"xref\": \"x1\", \"xanchor\": \"left\", \"yref\": \"y1\", \"text\": \"Notre Dame\", \"align\": \"left\", \"y\": 14, \"x\": -0.45, \"font\": {\"color\": \"#000000\"}, \"showarrow\": false}, {\"xref\": \"x1\", \"xanchor\": \"left\", \"yref\": \"y1\", \"text\": \"73\", \"align\": \"left\", \"y\": 14, \"x\": 0.55, \"font\": {\"color\": \"#000000\"}, \"showarrow\": false}, {\"xref\": \"x1\", \"xanchor\": \"left\", \"yref\": \"y1\", \"text\": \"100\", \"align\": \"left\", \"y\": 14, \"x\": 1.55, \"font\": {\"color\": \"#000000\"}, \"showarrow\": false}, {\"xref\": \"x1\", \"xanchor\": \"left\", \"yref\": \"y1\", \"text\": \"27\", \"align\": \"left\", \"y\": 14, \"x\": 2.55, \"font\": {\"color\": \"#000000\"}, \"showarrow\": false}, {\"xref\": \"x1\", \"xanchor\": \"left\", \"yref\": \"y1\", \"text\": \"Cornell\", \"align\": \"left\", \"y\": 15, \"x\": -0.45, \"font\": {\"color\": \"#000000\"}, \"showarrow\": false}, {\"xref\": \"x1\", \"xanchor\": \"left\", \"yref\": \"y1\", \"text\": \"80\", \"align\": \"left\", \"y\": 15, \"x\": 0.55, \"font\": {\"color\": \"#000000\"}, \"showarrow\": false}, {\"xref\": \"x1\", \"xanchor\": \"left\", \"yref\": \"y1\", \"text\": \"107\", \"align\": \"left\", \"y\": 15, \"x\": 1.55, \"font\": {\"color\": \"#000000\"}, \"showarrow\": false}, {\"xref\": \"x1\", \"xanchor\": \"left\", \"yref\": \"y1\", \"text\": \"27\", \"align\": \"left\", \"y\": 15, \"x\": 2.55, \"font\": {\"color\": \"#000000\"}, \"showarrow\": false}, {\"xref\": \"x1\", \"xanchor\": \"left\", \"yref\": \"y1\", \"text\": \"Michigan\", \"align\": \"left\", \"y\": 16, \"x\": -0.45, \"font\": {\"color\": \"#000000\"}, \"showarrow\": false}, {\"xref\": \"x1\", \"xanchor\": \"left\", \"yref\": \"y1\", \"text\": \"62\", \"align\": \"left\", \"y\": 16, \"x\": 0.55, \"font\": {\"color\": \"#000000\"}, \"showarrow\": false}, {\"xref\": \"x1\", \"xanchor\": \"left\", \"yref\": \"y1\", \"text\": \"84\", \"align\": \"left\", \"y\": 16, \"x\": 1.55, \"font\": {\"color\": \"#000000\"}, \"showarrow\": false}, {\"xref\": \"x1\", \"xanchor\": \"left\", \"yref\": \"y1\", \"text\": \"22\", \"align\": \"left\", \"y\": 16, \"x\": 2.55, \"font\": {\"color\": \"#000000\"}, \"showarrow\": false}, {\"xref\": \"x1\", \"xanchor\": \"left\", \"yref\": \"y1\", \"text\": \"Brown\", \"align\": \"left\", \"y\": 17, \"x\": -0.45, \"font\": {\"color\": \"#000000\"}, \"showarrow\": false}, {\"xref\": \"x1\", \"xanchor\": \"left\", \"yref\": \"y1\", \"text\": \"72\", \"align\": \"left\", \"y\": 17, \"x\": 0.55, \"font\": {\"color\": \"#000000\"}, \"showarrow\": false}, {\"xref\": \"x1\", \"xanchor\": \"left\", \"yref\": \"y1\", \"text\": \"92\", \"align\": \"left\", \"y\": 17, \"x\": 1.55, \"font\": {\"color\": \"#000000\"}, \"showarrow\": false}, {\"xref\": \"x1\", \"xanchor\": \"left\", \"yref\": \"y1\", \"text\": \"20\", \"align\": \"left\", \"y\": 17, \"x\": 2.55, \"font\": {\"color\": \"#000000\"}, \"showarrow\": false}, {\"xref\": \"x1\", \"xanchor\": \"left\", \"yref\": \"y1\", \"text\": \"Berkeley\", \"align\": \"left\", \"y\": 18, \"x\": -0.45, \"font\": {\"color\": \"#000000\"}, \"showarrow\": false}, {\"xref\": \"x1\", \"xanchor\": \"left\", \"yref\": \"y1\", \"text\": \"71\", \"align\": \"left\", \"y\": 18, \"x\": 0.55, \"font\": {\"color\": \"#000000\"}, \"showarrow\": false}, {\"xref\": \"x1\", \"xanchor\": \"left\", \"yref\": \"y1\", \"text\": \"88\", \"align\": \"left\", \"y\": 18, \"x\": 1.55, \"font\": {\"color\": \"#000000\"}, \"showarrow\": false}, {\"xref\": \"x1\", \"xanchor\": \"left\", \"yref\": \"y1\", \"text\": \"17\", \"align\": \"left\", \"y\": 18, \"x\": 2.55, \"font\": {\"color\": \"#000000\"}, \"showarrow\": false}, {\"xref\": \"x1\", \"xanchor\": \"left\", \"yref\": \"y1\", \"text\": \"Emory\", \"align\": \"left\", \"y\": 19, \"x\": -0.45, \"font\": {\"color\": \"#000000\"}, \"showarrow\": false}, {\"xref\": \"x1\", \"xanchor\": \"left\", \"yref\": \"y1\", \"text\": \"68\", \"align\": \"left\", \"y\": 19, \"x\": 0.55, \"font\": {\"color\": \"#000000\"}, \"showarrow\": false}, {\"xref\": \"x1\", \"xanchor\": \"left\", \"yref\": \"y1\", \"text\": \"82\", \"align\": \"left\", \"y\": 19, \"x\": 1.55, \"font\": {\"color\": \"#000000\"}, \"showarrow\": false}, {\"xref\": \"x1\", \"xanchor\": \"left\", \"yref\": \"y1\", \"text\": \"14\", \"align\": \"left\", \"y\": 19, \"x\": 2.55, \"font\": {\"color\": \"#000000\"}, \"showarrow\": false}, {\"xref\": \"x1\", \"xanchor\": \"left\", \"yref\": \"y1\", \"text\": \"UCLA\", \"align\": \"left\", \"y\": 20, \"x\": -0.45, \"font\": {\"color\": \"#000000\"}, \"showarrow\": false}, {\"xref\": \"x1\", \"xanchor\": \"left\", \"yref\": \"y1\", \"text\": \"64\", \"align\": \"left\", \"y\": 20, \"x\": 0.55, \"font\": {\"color\": \"#000000\"}, \"showarrow\": false}, {\"xref\": \"x1\", \"xanchor\": \"left\", \"yref\": \"y1\", \"text\": \"78\", \"align\": \"left\", \"y\": 20, \"x\": 1.55, \"font\": {\"color\": \"#000000\"}, \"showarrow\": false}, {\"xref\": \"x1\", \"xanchor\": \"left\", \"yref\": \"y1\", \"text\": \"14\", \"align\": \"left\", \"y\": 20, \"x\": 2.55, \"font\": {\"color\": \"#000000\"}, \"showarrow\": false}, {\"xref\": \"x1\", \"xanchor\": \"left\", \"yref\": \"y1\", \"text\": \"SoCal\", \"align\": \"left\", \"y\": 21, \"x\": -0.45, \"font\": {\"color\": \"#000000\"}, \"showarrow\": false}, {\"xref\": \"x1\", \"xanchor\": \"left\", \"yref\": \"y1\", \"text\": \"72\", \"align\": \"left\", \"y\": 21, \"x\": 0.55, \"font\": {\"color\": \"#000000\"}, \"showarrow\": false}, {\"xref\": \"x1\", \"xanchor\": \"left\", \"yref\": \"y1\", \"text\": \"81\", \"align\": \"left\", \"y\": 21, \"x\": 1.55, \"font\": {\"color\": \"#000000\"}, \"showarrow\": false}, {\"xref\": \"x1\", \"xanchor\": \"left\", \"yref\": \"y1\", \"text\": \"9\", \"align\": \"left\", \"y\": 21, \"x\": 2.55, \"font\": {\"color\": \"#000000\"}, \"showarrow\": false}], \"xaxis\": {\"showticklabels\": false, \"tick0\": -0.5, \"ticks\": \"\", \"gridwidth\": 2, \"dtick\": 1, \"zeroline\": false}, \"height\": 710}, {\"linkText\": \"Export to plot.ly\", \"showLink\": true})});</script>"
      ]
     },
     "metadata": {},
     "output_type": "display_data"
    }
   ],
   "source": [
    "# bar chart example using data frame, including table (1/2)\n",
    "\n",
    "import plotly.plotly as py\n",
    "import plotly.figure_factory as ff\n",
    "import pandas as pd\n",
    "\n",
    "df = pd.read_csv(\"https://raw.githubusercontent.com/plotly/datasets/master/school_earnings.csv\")\n",
    "\n",
    "table = ff.create_table(df)\n",
    "#plotly.offline.iplot(table, filename='jupyter/table1')                           #filename does what here?\n",
    "plotly.offline.iplot(table)"
   ]
  },
  {
   "cell_type": "code",
   "execution_count": 31,
   "metadata": {},
   "outputs": [
    {
     "data": {
      "application/vnd.plotly.v1+json": {
       "data": [
        {
         "type": "bar",
         "x": [
          "MIT",
          "Stanford",
          "Harvard",
          "U.Penn",
          "Princeton",
          "Chicago",
          "Georgetown",
          "Tufts",
          "Yale",
          "Columbia",
          "Duke",
          "Dartmouth",
          "NYU",
          "Notre Dame",
          "Cornell",
          "Michigan",
          "Brown",
          "Berkeley",
          "Emory",
          "UCLA",
          "SoCal"
         ],
         "y": [
          58,
          55,
          53,
          49,
          47,
          40,
          37,
          36,
          35,
          33,
          31,
          30,
          27,
          27,
          27,
          22,
          20,
          17,
          14,
          14,
          9
         ]
        }
       ],
       "layout": {}
      },
      "text/html": [
       "<div id=\"5e7e3cbc-5823-489c-80f8-52219c5e59c8\" style=\"height: 525px; width: 100%;\" class=\"plotly-graph-div\"></div><script type=\"text/javascript\">require([\"plotly\"], function(Plotly) { window.PLOTLYENV=window.PLOTLYENV || {};window.PLOTLYENV.BASE_URL=\"https://plot.ly\";Plotly.newPlot(\"5e7e3cbc-5823-489c-80f8-52219c5e59c8\", [{\"y\": [58, 55, 53, 49, 47, 40, 37, 36, 35, 33, 31, 30, 27, 27, 27, 22, 20, 17, 14, 14, 9], \"x\": [\"MIT\", \"Stanford\", \"Harvard\", \"U.Penn\", \"Princeton\", \"Chicago\", \"Georgetown\", \"Tufts\", \"Yale\", \"Columbia\", \"Duke\", \"Dartmouth\", \"NYU\", \"Notre Dame\", \"Cornell\", \"Michigan\", \"Brown\", \"Berkeley\", \"Emory\", \"UCLA\", \"SoCal\"], \"type\": \"bar\"}], {}, {\"linkText\": \"Export to plot.ly\", \"showLink\": true})});</script>"
      ],
      "text/vnd.plotly.v1+html": [
       "<div id=\"5e7e3cbc-5823-489c-80f8-52219c5e59c8\" style=\"height: 525px; width: 100%;\" class=\"plotly-graph-div\"></div><script type=\"text/javascript\">require([\"plotly\"], function(Plotly) { window.PLOTLYENV=window.PLOTLYENV || {};window.PLOTLYENV.BASE_URL=\"https://plot.ly\";Plotly.newPlot(\"5e7e3cbc-5823-489c-80f8-52219c5e59c8\", [{\"y\": [58, 55, 53, 49, 47, 40, 37, 36, 35, 33, 31, 30, 27, 27, 27, 22, 20, 17, 14, 14, 9], \"x\": [\"MIT\", \"Stanford\", \"Harvard\", \"U.Penn\", \"Princeton\", \"Chicago\", \"Georgetown\", \"Tufts\", \"Yale\", \"Columbia\", \"Duke\", \"Dartmouth\", \"NYU\", \"Notre Dame\", \"Cornell\", \"Michigan\", \"Brown\", \"Berkeley\", \"Emory\", \"UCLA\", \"SoCal\"], \"type\": \"bar\"}], {}, {\"linkText\": \"Export to plot.ly\", \"showLink\": true})});</script>"
      ]
     },
     "metadata": {},
     "output_type": "display_data"
    }
   ],
   "source": [
    "# bar chart example using data frame, including table (1/2)\n",
    "\n",
    "data = [go.Bar(x=df.School,\n",
    "            y=df.Gap)]\n",
    "\n",
    "plotly.offline.iplot(data, filename='jupyter/basic_bar')"
   ]
  },
  {
   "cell_type": "code",
   "execution_count": 32,
   "metadata": {},
   "outputs": [
    {
     "data": {
      "application/vnd.plotly.v1+json": {
       "data": [
        {
         "marker": {
          "color": "#ffcdd2"
         },
         "name": "Women",
         "type": "bar",
         "x": [
          "MIT",
          "Stanford",
          "Harvard",
          "U.Penn",
          "Princeton",
          "Chicago",
          "Georgetown",
          "Tufts",
          "Yale",
          "Columbia",
          "Duke",
          "Dartmouth",
          "NYU",
          "Notre Dame",
          "Cornell",
          "Michigan",
          "Brown",
          "Berkeley",
          "Emory",
          "UCLA",
          "SoCal"
         ],
         "y": [
          94,
          96,
          112,
          92,
          90,
          78,
          94,
          76,
          79,
          86,
          93,
          84,
          67,
          73,
          80,
          62,
          72,
          71,
          68,
          64,
          72
         ]
        },
        {
         "marker": {
          "color": "#A2D5F2"
         },
         "name": "Men",
         "type": "bar",
         "x": [
          "MIT",
          "Stanford",
          "Harvard",
          "U.Penn",
          "Princeton",
          "Chicago",
          "Georgetown",
          "Tufts",
          "Yale",
          "Columbia",
          "Duke",
          "Dartmouth",
          "NYU",
          "Notre Dame",
          "Cornell",
          "Michigan",
          "Brown",
          "Berkeley",
          "Emory",
          "UCLA",
          "SoCal"
         ],
         "y": [
          152,
          151,
          165,
          141,
          137,
          118,
          131,
          112,
          114,
          119,
          124,
          114,
          94,
          100,
          107,
          84,
          92,
          88,
          82,
          78,
          81
         ]
        },
        {
         "marker": {
          "color": "#59606D"
         },
         "name": "Gap",
         "type": "bar",
         "x": [
          "MIT",
          "Stanford",
          "Harvard",
          "U.Penn",
          "Princeton",
          "Chicago",
          "Georgetown",
          "Tufts",
          "Yale",
          "Columbia",
          "Duke",
          "Dartmouth",
          "NYU",
          "Notre Dame",
          "Cornell",
          "Michigan",
          "Brown",
          "Berkeley",
          "Emory",
          "UCLA",
          "SoCal"
         ],
         "y": [
          58,
          55,
          53,
          49,
          47,
          40,
          37,
          36,
          35,
          33,
          31,
          30,
          27,
          27,
          27,
          22,
          20,
          17,
          14,
          14,
          9
         ]
        }
       ],
       "layout": {}
      },
      "text/html": [
       "<div id=\"71193c9a-e712-45df-ab1c-5f857f6fb2bf\" style=\"height: 525px; width: 100%;\" class=\"plotly-graph-div\"></div><script type=\"text/javascript\">require([\"plotly\"], function(Plotly) { window.PLOTLYENV=window.PLOTLYENV || {};window.PLOTLYENV.BASE_URL=\"https://plot.ly\";Plotly.newPlot(\"71193c9a-e712-45df-ab1c-5f857f6fb2bf\", [{\"marker\": {\"color\": \"#ffcdd2\"}, \"y\": [94, 96, 112, 92, 90, 78, 94, 76, 79, 86, 93, 84, 67, 73, 80, 62, 72, 71, 68, 64, 72], \"type\": \"bar\", \"name\": \"Women\", \"x\": [\"MIT\", \"Stanford\", \"Harvard\", \"U.Penn\", \"Princeton\", \"Chicago\", \"Georgetown\", \"Tufts\", \"Yale\", \"Columbia\", \"Duke\", \"Dartmouth\", \"NYU\", \"Notre Dame\", \"Cornell\", \"Michigan\", \"Brown\", \"Berkeley\", \"Emory\", \"UCLA\", \"SoCal\"]}, {\"marker\": {\"color\": \"#A2D5F2\"}, \"y\": [152, 151, 165, 141, 137, 118, 131, 112, 114, 119, 124, 114, 94, 100, 107, 84, 92, 88, 82, 78, 81], \"type\": \"bar\", \"name\": \"Men\", \"x\": [\"MIT\", \"Stanford\", \"Harvard\", \"U.Penn\", \"Princeton\", \"Chicago\", \"Georgetown\", \"Tufts\", \"Yale\", \"Columbia\", \"Duke\", \"Dartmouth\", \"NYU\", \"Notre Dame\", \"Cornell\", \"Michigan\", \"Brown\", \"Berkeley\", \"Emory\", \"UCLA\", \"SoCal\"]}, {\"marker\": {\"color\": \"#59606D\"}, \"y\": [58, 55, 53, 49, 47, 40, 37, 36, 35, 33, 31, 30, 27, 27, 27, 22, 20, 17, 14, 14, 9], \"type\": \"bar\", \"name\": \"Gap\", \"x\": [\"MIT\", \"Stanford\", \"Harvard\", \"U.Penn\", \"Princeton\", \"Chicago\", \"Georgetown\", \"Tufts\", \"Yale\", \"Columbia\", \"Duke\", \"Dartmouth\", \"NYU\", \"Notre Dame\", \"Cornell\", \"Michigan\", \"Brown\", \"Berkeley\", \"Emory\", \"UCLA\", \"SoCal\"]}], {}, {\"linkText\": \"Export to plot.ly\", \"showLink\": {\"title\": \"Average Earnings for Graduates\", \"xaxis\": {\"title\": \"School\"}, \"yaxis\": {\"title\": \"Salary (in thousands)\"}}})});</script>"
      ],
      "text/vnd.plotly.v1+html": [
       "<div id=\"71193c9a-e712-45df-ab1c-5f857f6fb2bf\" style=\"height: 525px; width: 100%;\" class=\"plotly-graph-div\"></div><script type=\"text/javascript\">require([\"plotly\"], function(Plotly) { window.PLOTLYENV=window.PLOTLYENV || {};window.PLOTLYENV.BASE_URL=\"https://plot.ly\";Plotly.newPlot(\"71193c9a-e712-45df-ab1c-5f857f6fb2bf\", [{\"marker\": {\"color\": \"#ffcdd2\"}, \"y\": [94, 96, 112, 92, 90, 78, 94, 76, 79, 86, 93, 84, 67, 73, 80, 62, 72, 71, 68, 64, 72], \"type\": \"bar\", \"name\": \"Women\", \"x\": [\"MIT\", \"Stanford\", \"Harvard\", \"U.Penn\", \"Princeton\", \"Chicago\", \"Georgetown\", \"Tufts\", \"Yale\", \"Columbia\", \"Duke\", \"Dartmouth\", \"NYU\", \"Notre Dame\", \"Cornell\", \"Michigan\", \"Brown\", \"Berkeley\", \"Emory\", \"UCLA\", \"SoCal\"]}, {\"marker\": {\"color\": \"#A2D5F2\"}, \"y\": [152, 151, 165, 141, 137, 118, 131, 112, 114, 119, 124, 114, 94, 100, 107, 84, 92, 88, 82, 78, 81], \"type\": \"bar\", \"name\": \"Men\", \"x\": [\"MIT\", \"Stanford\", \"Harvard\", \"U.Penn\", \"Princeton\", \"Chicago\", \"Georgetown\", \"Tufts\", \"Yale\", \"Columbia\", \"Duke\", \"Dartmouth\", \"NYU\", \"Notre Dame\", \"Cornell\", \"Michigan\", \"Brown\", \"Berkeley\", \"Emory\", \"UCLA\", \"SoCal\"]}, {\"marker\": {\"color\": \"#59606D\"}, \"y\": [58, 55, 53, 49, 47, 40, 37, 36, 35, 33, 31, 30, 27, 27, 27, 22, 20, 17, 14, 14, 9], \"type\": \"bar\", \"name\": \"Gap\", \"x\": [\"MIT\", \"Stanford\", \"Harvard\", \"U.Penn\", \"Princeton\", \"Chicago\", \"Georgetown\", \"Tufts\", \"Yale\", \"Columbia\", \"Duke\", \"Dartmouth\", \"NYU\", \"Notre Dame\", \"Cornell\", \"Michigan\", \"Brown\", \"Berkeley\", \"Emory\", \"UCLA\", \"SoCal\"]}], {}, {\"linkText\": \"Export to plot.ly\", \"showLink\": {\"title\": \"Average Earnings for Graduates\", \"xaxis\": {\"title\": \"School\"}, \"yaxis\": {\"title\": \"Salary (in thousands)\"}}})});</script>"
      ]
     },
     "metadata": {},
     "output_type": "display_data"
    }
   ],
   "source": [
    "# another bar chart example (using data from bar chart example above)\n",
    "\n",
    "from plotly.graph_objs import *  #testing\n",
    "\n",
    "trace_women = Bar(x=df.School,\n",
    "                  y=df.Women,\n",
    "                  name='Women',\n",
    "                  marker=dict(color='#ffcdd2'))\n",
    "\n",
    "trace_men = Bar(x=df.School,\n",
    "                y=df.Men,\n",
    "                name='Men',\n",
    "                marker=dict(color='#A2D5F2'))\n",
    "\n",
    "trace_gap = Bar(x=df.School,\n",
    "                y=df.Gap,\n",
    "                name='Gap',\n",
    "                marker=dict(color='#59606D'))\n",
    "\n",
    "data = [trace_women, trace_men, trace_gap]\n",
    "layout = Layout(title=\"Average Earnings for Graduates\",\n",
    "                xaxis=dict(title='School'),\n",
    "                yaxis=dict(title='Salary (in thousands)'))\n",
    "fig = Figure(data=data, layout=layout)\n",
    "\n",
    "#plotly.offline.iplot(fig, filename='jupyter/styled_bar')\n",
    "plotly.offline.iplot(data, layout)"
   ]
  },
  {
   "cell_type": "code",
   "execution_count": 33,
   "metadata": {},
   "outputs": [
    {
     "data": {
      "application/vnd.plotly.v1+json": {
       "data": [
        {
         "type": "scatter",
         "x": [
          0,
          0.002004008016032064,
          0.004008016032064128,
          0.0060120240480961915,
          0.008016032064128256,
          0.01002004008016032,
          0.012024048096192383,
          0.014028056112224447,
          0.01603206412825651,
          0.018036072144288574,
          0.02004008016032064,
          0.022044088176352703,
          0.024048096192384766,
          0.026052104208416832,
          0.028056112224448895,
          0.03006012024048096,
          0.03206412825651302,
          0.03406813627254509,
          0.03607214428857715,
          0.038076152304609215,
          0.04008016032064128,
          0.04208416833667334,
          0.044088176352705406,
          0.04609218436873747,
          0.04809619238476953,
          0.0501002004008016,
          0.052104208416833664,
          0.05410821643286573,
          0.05611222444889779,
          0.058116232464929855,
          0.06012024048096192,
          0.06212424849699398,
          0.06412825651302605,
          0.06613226452905811,
          0.06813627254509018,
          0.07014028056112225,
          0.0721442885771543,
          0.07414829659318636,
          0.07615230460921843,
          0.0781563126252505,
          0.08016032064128256,
          0.08216432865731463,
          0.08416833667334668,
          0.08617234468937875,
          0.08817635270541081,
          0.09018036072144288,
          0.09218436873747494,
          0.09418837675350701,
          0.09619238476953906,
          0.09819639278557113,
          0.1002004008016032,
          0.10220440881763526,
          0.10420841683366733,
          0.1062124248496994,
          0.10821643286573146,
          0.11022044088176351,
          0.11222444889779558,
          0.11422845691382764,
          0.11623246492985971,
          0.11823647294589178,
          0.12024048096192384,
          0.1222444889779559,
          0.12424849699398796,
          0.12625250501002003,
          0.1282565130260521,
          0.13026052104208416,
          0.13226452905811623,
          0.1342685370741483,
          0.13627254509018036,
          0.13827655310621242,
          0.1402805611222445,
          0.14228456913827653,
          0.1442885771543086,
          0.14629258517034066,
          0.14829659318637273,
          0.1503006012024048,
          0.15230460921843686,
          0.15430861723446893,
          0.156312625250501,
          0.15831663326653306,
          0.16032064128256512,
          0.1623246492985972,
          0.16432865731462926,
          0.16633266533066132,
          0.16833667334669336,
          0.17034068136272543,
          0.1723446893787575,
          0.17434869739478956,
          0.17635270541082163,
          0.1783567134268537,
          0.18036072144288576,
          0.18236472945891782,
          0.1843687374749499,
          0.18637274549098196,
          0.18837675350701402,
          0.1903807615230461,
          0.19238476953907813,
          0.1943887775551102,
          0.19639278557114226,
          0.19839679358717432,
          0.2004008016032064,
          0.20240480961923846,
          0.20440881763527052,
          0.2064128256513026,
          0.20841683366733466,
          0.21042084168336672,
          0.2124248496993988,
          0.21442885771543085,
          0.21643286573146292,
          0.21843687374749496,
          0.22044088176352702,
          0.2224448897795591,
          0.22444889779559116,
          0.22645290581162322,
          0.2284569138276553,
          0.23046092184368736,
          0.23246492985971942,
          0.2344689378757515,
          0.23647294589178355,
          0.23847695390781562,
          0.24048096192384769,
          0.24248496993987975,
          0.2444889779559118,
          0.24649298597194386,
          0.24849699398797592,
          0.250501002004008,
          0.25250501002004005,
          0.2545090180360721,
          0.2565130260521042,
          0.25851703406813625,
          0.2605210420841683,
          0.2625250501002004,
          0.26452905811623245,
          0.2665330661322645,
          0.2685370741482966,
          0.27054108216432865,
          0.2725450901803607,
          0.2745490981963928,
          0.27655310621242485,
          0.2785571142284569,
          0.280561122244489,
          0.282565130260521,
          0.28456913827655306,
          0.2865731462925851,
          0.2885771543086172,
          0.29058116232464926,
          0.2925851703406813,
          0.2945891783567134,
          0.29659318637274545,
          0.2985971943887775,
          0.3006012024048096,
          0.30260521042084165,
          0.3046092184368737,
          0.3066132264529058,
          0.30861723446893785,
          0.3106212424849699,
          0.312625250501002,
          0.31462925851703405,
          0.3166332665330661,
          0.3186372745490982,
          0.32064128256513025,
          0.3226452905811623,
          0.3246492985971944,
          0.32665330661322645,
          0.3286573146292585,
          0.3306613226452906,
          0.33266533066132264,
          0.33466933867735466,
          0.3366733466933867,
          0.3386773547094188,
          0.34068136272545085,
          0.3426853707414829,
          0.344689378757515,
          0.34669338677354705,
          0.3486973947895791,
          0.3507014028056112,
          0.35270541082164325,
          0.3547094188376753,
          0.3567134268537074,
          0.35871743486973945,
          0.3607214428857715,
          0.3627254509018036,
          0.36472945891783565,
          0.3667334669338677,
          0.3687374749498998,
          0.37074148296593185,
          0.3727454909819639,
          0.374749498997996,
          0.37675350701402804,
          0.3787575150300601,
          0.3807615230460922,
          0.38276553106212424,
          0.38476953907815625,
          0.3867735470941883,
          0.3887775551102204,
          0.39078156312625245,
          0.3927855711422845,
          0.3947895791583166,
          0.39679358717434865,
          0.3987975951903807,
          0.4008016032064128,
          0.40280561122244485,
          0.4048096192384769,
          0.406813627254509,
          0.40881763527054105,
          0.4108216432865731,
          0.4128256513026052,
          0.41482965931863724,
          0.4168336673346693,
          0.4188376753507014,
          0.42084168336673344,
          0.4228456913827655,
          0.4248496993987976,
          0.42685370741482964,
          0.4288577154308617,
          0.4308617234468938,
          0.43286573146292584,
          0.4348697394789579,
          0.4368737474949899,
          0.438877755511022,
          0.44088176352705405,
          0.4428857715430861,
          0.4448897795591182,
          0.44689378757515025,
          0.4488977955911823,
          0.4509018036072144,
          0.45290581162324645,
          0.4549098196392785,
          0.4569138276553106,
          0.45891783567134264,
          0.4609218436873747,
          0.4629258517034068,
          0.46492985971943884,
          0.4669338677354709,
          0.468937875751503,
          0.47094188376753504,
          0.4729458917835671,
          0.4749498997995992,
          0.47695390781563124,
          0.4789579158316633,
          0.48096192384769537,
          0.48296593186372744,
          0.4849699398797595,
          0.48697394789579157,
          0.4889779559118236,
          0.49098196392785565,
          0.4929859719438877,
          0.4949899799599198,
          0.49699398797595185,
          0.4989979959919839,
          0.501002004008016,
          0.503006012024048,
          0.5050100200400801,
          0.5070140280561122,
          0.5090180360721442,
          0.5110220440881763,
          0.5130260521042084,
          0.5150300601202404,
          0.5170340681362725,
          0.5190380761523046,
          0.5210420841683366,
          0.5230460921843687,
          0.5250501002004008,
          0.5270541082164328,
          0.5290581162324649,
          0.531062124248497,
          0.533066132264529,
          0.5350701402805611,
          0.5370741482965932,
          0.5390781563126252,
          0.5410821643286573,
          0.5430861723446894,
          0.5450901803607214,
          0.5470941883767535,
          0.5490981963927856,
          0.5511022044088176,
          0.5531062124248497,
          0.5551102204408818,
          0.5571142284569138,
          0.5591182364729459,
          0.561122244488978,
          0.56312625250501,
          0.565130260521042,
          0.567134268537074,
          0.5691382765531061,
          0.5711422845691382,
          0.5731462925851702,
          0.5751503006012023,
          0.5771543086172344,
          0.5791583166332664,
          0.5811623246492985,
          0.5831663326653306,
          0.5851703406813626,
          0.5871743486973947,
          0.5891783567134268,
          0.5911823647294588,
          0.5931863727454909,
          0.595190380761523,
          0.597194388777555,
          0.5991983967935871,
          0.6012024048096192,
          0.6032064128256512,
          0.6052104208416833,
          0.6072144288577154,
          0.6092184368737474,
          0.6112224448897795,
          0.6132264529058116,
          0.6152304609218436,
          0.6172344689378757,
          0.6192384769539078,
          0.6212424849699398,
          0.6232464929859719,
          0.625250501002004,
          0.627254509018036,
          0.6292585170340681,
          0.6312625250501002,
          0.6332665330661322,
          0.6352705410821643,
          0.6372745490981964,
          0.6392785571142284,
          0.6412825651302605,
          0.6432865731462926,
          0.6452905811623246,
          0.6472945891783567,
          0.6492985971943888,
          0.6513026052104208,
          0.6533066132264529,
          0.655310621242485,
          0.657314629258517,
          0.6593186372745491,
          0.6613226452905812,
          0.6633266533066132,
          0.6653306613226453,
          0.6673346693386772,
          0.6693386773547093,
          0.6713426853707414,
          0.6733466933867734,
          0.6753507014028055,
          0.6773547094188376,
          0.6793587174348696,
          0.6813627254509017,
          0.6833667334669338,
          0.6853707414829658,
          0.6873747494989979,
          0.68937875751503,
          0.691382765531062,
          0.6933867735470941,
          0.6953907815631262,
          0.6973947895791582,
          0.6993987975951903,
          0.7014028056112224,
          0.7034068136272544,
          0.7054108216432865,
          0.7074148296593186,
          0.7094188376753506,
          0.7114228456913827,
          0.7134268537074148,
          0.7154308617234468,
          0.7174348697394789,
          0.719438877755511,
          0.721442885771543,
          0.7234468937875751,
          0.7254509018036072,
          0.7274549098196392,
          0.7294589178356713,
          0.7314629258517034,
          0.7334669338677354,
          0.7354709418837675,
          0.7374749498997996,
          0.7394789579158316,
          0.7414829659318637,
          0.7434869739478958,
          0.7454909819639278,
          0.7474949899799599,
          0.749498997995992,
          0.751503006012024,
          0.7535070140280561,
          0.7555110220440882,
          0.7575150300601202,
          0.7595190380761523,
          0.7615230460921844,
          0.7635270541082164,
          0.7655310621242485,
          0.7675350701402806,
          0.7695390781563125,
          0.7715430861723446,
          0.7735470941883766,
          0.7755511022044087,
          0.7775551102204408,
          0.7795591182364728,
          0.7815631262525049,
          0.783567134268537,
          0.785571142284569,
          0.7875751503006011,
          0.7895791583166332,
          0.7915831663326652,
          0.7935871743486973,
          0.7955911823647294,
          0.7975951903807614,
          0.7995991983967935,
          0.8016032064128256,
          0.8036072144288576,
          0.8056112224448897,
          0.8076152304609218,
          0.8096192384769538,
          0.8116232464929859,
          0.813627254509018,
          0.81563126252505,
          0.8176352705410821,
          0.8196392785571142,
          0.8216432865731462,
          0.8236472945891783,
          0.8256513026052104,
          0.8276553106212424,
          0.8296593186372745,
          0.8316633266533066,
          0.8336673346693386,
          0.8356713426853707,
          0.8376753507014028,
          0.8396793587174348,
          0.8416833667334669,
          0.843687374749499,
          0.845691382765531,
          0.8476953907815631,
          0.8496993987975952,
          0.8517034068136272,
          0.8537074148296593,
          0.8557114228456913,
          0.8577154308617234,
          0.8597194388777555,
          0.8617234468937875,
          0.8637274549098196,
          0.8657314629258517,
          0.8677354709418837,
          0.8697394789579158,
          0.8717434869739479,
          0.8737474949899798,
          0.8757515030060119,
          0.877755511022044,
          0.879759519038076,
          0.8817635270541081,
          0.8837675350701402,
          0.8857715430861722,
          0.8877755511022043,
          0.8897795591182364,
          0.8917835671342684,
          0.8937875751503005,
          0.8957915831663326,
          0.8977955911823646,
          0.8997995991983967,
          0.9018036072144288,
          0.9038076152304608,
          0.9058116232464929,
          0.907815631262525,
          0.909819639278557,
          0.9118236472945891,
          0.9138276553106212,
          0.9158316633266532,
          0.9178356713426853,
          0.9198396793587174,
          0.9218436873747494,
          0.9238476953907815,
          0.9258517034068136,
          0.9278557114228456,
          0.9298597194388777,
          0.9318637274549098,
          0.9338677354709418,
          0.9358717434869739,
          0.937875751503006,
          0.939879759519038,
          0.9418837675350701,
          0.9438877755511021,
          0.9458917835671342,
          0.9478957915831663,
          0.9498997995991983,
          0.9519038076152304,
          0.9539078156312625,
          0.9559118236472945,
          0.9579158316633266,
          0.9599198396793587,
          0.9619238476953907,
          0.9639278557114228,
          0.9659318637274549,
          0.9679358717434869,
          0.969939879759519,
          0.9719438877755511,
          0.9739478957915831,
          0.9759519038076151,
          0.9779559118236472,
          0.9799599198396792,
          0.9819639278557113,
          0.9839679358717434,
          0.9859719438877754,
          0.9879759519038075,
          0.9899799599198396,
          0.9919839679358716,
          0.9939879759519037,
          0.9959919839679358,
          0.9979959919839678,
          1
         ],
         "y": [
          0.9234138487131347,
          -0.7155655861072641,
          0.9671122601765009,
          1.1620954455819834,
          0.3920839057116035,
          -1.4118986264518916,
          -0.42314968521502166,
          -1.1326972225341738,
          1.4431576495410554,
          -0.4290811449507743,
          -0.031800829657336924,
          1.433852942383361,
          0.8247157648020205,
          0.22020692227480157,
          -0.05155696457339018,
          -0.5160817343279827,
          -0.5483308180977774,
          1.315700417383058,
          -1.5353662929095118,
          -1.5978109248875876,
          2.254742840379509,
          0.724346856951623,
          0.08024115597928512,
          -0.7691874199766814,
          0.5995850152127064,
          -0.28757866340364013,
          -0.7716723948655151,
          0.25743754446002665,
          0.8608515915991375,
          -0.005249743954354805,
          0.42978660466099267,
          -0.37442497240225475,
          -1.0812457837984766,
          1.4158131678905415,
          1.2429881296699374,
          -0.9083098471580575,
          1.1186092832259378,
          -0.8518248305210554,
          0.661925410108114,
          1.1491721835340718,
          -0.07023118509167811,
          -0.36678368226402625,
          -1.4201184868135737,
          -1.7327321957368025,
          -0.23914061177882276,
          0.5422080818971865,
          -0.5882948450582943,
          0.6073482054167838,
          -0.1839727570494195,
          -1.8263533426715317,
          -0.7092265881146,
          0.3036164076070429,
          0.18650232389989757,
          0.6370645238213957,
          -1.676534678496519,
          -0.05833662172098941,
          0.8349647994674704,
          -0.5235520220465641,
          -0.2818005948961625,
          0.07358308767726562,
          0.3006835064283913,
          -0.46999423427720416,
          0.37151961895062985,
          0.9795466819991876,
          -0.7636389199508856,
          0.9137241705563969,
          -0.5833288961765729,
          -1.2560429493906187,
          0.3758329400786356,
          2.0925372502635198,
          -0.43089943567694694,
          2.37023312719696,
          -0.8535234184811978,
          -0.9647119758021652,
          -0.5805203327803616,
          -1.3386823920760493,
          0.49423302575979794,
          -1.5540405723835546,
          0.20055786389385125,
          -1.175341171133287,
          -0.5101420784754339,
          0.012150242070829822,
          0.09891393698546377,
          -1.1958082428730072,
          -0.2114515801204431,
          -0.5058401610833845,
          0.8611124602347241,
          -1.6196707554017657,
          0.8910964317216004,
          -2.804483868603314,
          -0.017689315531755588,
          -0.7864085827325487,
          -1.654250583590008,
          0.03434352045088471,
          -1.2881410743956136,
          -0.2249894336401716,
          0.5329267977300902,
          -2.7217714309816246,
          -0.2154906281997782,
          -0.9695423556300474,
          1.278101760602368,
          2.0871448915625925,
          0.3835360463501673,
          1.4156409300321786,
          -0.035263261246929176,
          -2.9089584756719002,
          1.2227990837235259,
          0.7020529610362449,
          -0.5902800691865112,
          1.345270417753077,
          -0.6368272265399767,
          -1.1674480043874234,
          -2.0177626739489996,
          1.1230799699557616,
          -0.20644297338196974,
          1.4703660459566956,
          0.8171520082370656,
          1.6016241842506849,
          -1.1305875041776003,
          -0.5138898551702369,
          -0.7734915515720836,
          -0.8682731721624478,
          0.051311204253499505,
          -0.4484928501399215,
          -0.08350874224456763,
          -1.791505299720441,
          -0.5669530888140442,
          -0.1352377403397025,
          -0.7473687759595105,
          0.5332604606794493,
          -0.0019163197835105682,
          0.3556335065058675,
          -0.026341298776856703,
          0.8911037374484502,
          -0.07990779889843636,
          -1.2336662571464403,
          0.05804818343360065,
          1.1134642274003546,
          -1.2731786929926,
          0.27971686130306134,
          0.4264924348661425,
          1.3561567828897185,
          -0.3182155575545863,
          -1.2391851464289394,
          0.24229888408369923,
          0.11294933111686882,
          0.0030218557379150437,
          0.6059762561079122,
          -2.786781061318471,
          0.2727475789816325,
          0.40193375944470305,
          -0.3872629530681045,
          -0.5069596312495043,
          0.2270635563287545,
          -1.4264640256264758,
          0.2367185740446187,
          -0.678505143561772,
          -0.7415774933770829,
          -1.455345126252677,
          -0.5452680663611396,
          0.41516373861335754,
          1.0397760210614775,
          2.0046631559937547,
          0.7616135264462486,
          -0.42330350509795506,
          0.22371057564057187,
          -0.5029857430973946,
          -0.5584150720310591,
          0.060316163241754234,
          0.1696638980990992,
          1.3096690703339176,
          0.7633912887908147,
          -0.08539046011694353,
          1.5752947464533669,
          0.6566150228408687,
          0.6257688431918229,
          -2.1702587827917075,
          -1.0609015406483038,
          0.3372280341295916,
          2.397226293632065,
          0.002307648938632452,
          0.7251311540888712,
          1.037509998820235,
          -0.8385880341476033,
          -0.05600850407953928,
          -0.7588430974893466,
          0.03260194343316664,
          -2.044982799486609,
          -1.2804890565264497,
          0.3483711120029919,
          0.8002493698106079,
          -1.2398700291246403,
          0.2419237671872838,
          -1.4982244723659448,
          0.44419379095160255,
          0.41327022740251934,
          1.2280277962235493,
          0.6596670753393471,
          -1.2134592151862809,
          0.2907067447344172,
          -1.1949601589912797,
          -2.744366840393261,
          0.25053509025080567,
          -0.697698654051254,
          -0.7656791604519266,
          -0.7243782048934435,
          -0.09824504646248108,
          0.3126340056637466,
          0.6707000392008691,
          0.7179165245027179,
          -0.6286428112746684,
          0.8681682279748153,
          0.5048488712198824,
          -1.0209086827473646,
          -0.2581328068869838,
          0.11757751944326934,
          -1.757531588572186,
          0.1991080648316469,
          -0.1572668323551781,
          0.916660873152927,
          -0.4206080962296716,
          0.539886117247712,
          1.8023662317216989,
          1.0720976072459156,
          0.7003253098061295,
          1.4089489399400628,
          0.3762743137895579,
          0.39336814463448966,
          -1.1373772088544,
          1.5296936299314046,
          0.726355468361132,
          -1.6836832192868918,
          -0.3033259694015585,
          0.3998772264657576,
          -1.3150046547874539,
          -1.3696220484113095,
          0.15527220907019337,
          -0.32398276049977937,
          -0.5790494977273654,
          1.8997273569521866,
          0.9640832049068696,
          -0.3598727201908678,
          -0.6550294017688463,
          -0.45062922155871055,
          -2.7785402541135524,
          -0.28993844056302376,
          0.6877178491280113,
          -0.25387794645709794,
          0.6184290314231357,
          -1.374462516952206,
          -0.0052258282761295394,
          -1.3952300599964034,
          1.660521991767282,
          -1.0464643586096491,
          0.19903587510725168,
          0.9668917836016889,
          0.543881268770505,
          1.4266687377272245,
          1.0901772534061172,
          -1.845519639794492,
          -1.7860732435514453,
          -0.12134403892270516,
          0.02996932040672595,
          -1.6974416200932534,
          -0.8933726356932898,
          -0.4940897897402077,
          -2.211023868930853,
          0.9145155076932046,
          -0.4105150020297538,
          -0.21103667159856968,
          -1.43467613478476,
          -2.166103966989393,
          -1.080629684068466,
          0.09189306752486888,
          1.2006933791776089,
          1.706384073613211,
          -0.36552480526584696,
          -1.200577134395339,
          1.2195681345665512,
          -0.29219061885095765,
          0.12478753680878145,
          -0.1710720655230025,
          1.1429704931403977,
          0.14038526318389685,
          -0.045178614059958405,
          -0.2627887931637309,
          0.7304017885951392,
          2.2654287578988344,
          -0.5702353495272336,
          0.7134430781363736,
          0.4194527502482414,
          0.5170704853635757,
          -0.67150419373787,
          0.5101359536998896,
          0.07427084688827833,
          1.121770401176403,
          0.7044132301140037,
          -1.0492733970805068,
          0.013828766812510928,
          2.7647458958916324,
          -1.3334391064172884,
          -1.4395346513222116,
          0.46479054771718775,
          -0.4484787911790973,
          1.0525512294995376,
          0.263024654840754,
          0.707113771680267,
          0.9308255915115656,
          -2.031408472242256,
          -1.4946266673070427,
          -1.0745130061415002,
          -1.011164036022918,
          -0.6635117739896534,
          -0.7410829336289372,
          0.4231095160651059,
          -0.1942797857788735,
          0.22111208741076113,
          -1.0663624410643842,
          -0.8528919152314193,
          1.5797771190175518,
          0.6892028965304456,
          0.5234406710597321,
          1.1429468877423792,
          -0.36914190344829423,
          0.6257061636907081,
          0.6394929738075642,
          1.2019801195672424,
          0.6524500930691413,
          -0.2445845774352182,
          -0.4618217349487303,
          0.40910312954912276,
          -0.016486041871817826,
          0.6206864647664923,
          2.0799653916797256,
          -2.9669294745577868,
          -1.8244941597697992,
          0.3896979225525159,
          0.8852596215209342,
          -0.669403311198646,
          0.17320299504729303,
          -0.6640079413956581,
          -0.2682583728647129,
          -0.5942811698090443,
          1.0774753187899688,
          -0.6259281675367765,
          1.7308676914924666,
          1.7467530662410862,
          -2.2336775811728438,
          0.11831277018282005,
          0.14118029711562805,
          0.48327144888031764,
          0.26944384644976144,
          0.0939362989572651,
          0.9381428909811684,
          0.9552129730422012,
          -1.7854097570554028,
          0.30357496083762237,
          1.0873854732553472,
          0.14053701400965438,
          -0.41991718455552435,
          0.40330523172823796,
          -1.6748563446805267,
          0.8950919794480805,
          -0.42635470085752547,
          -1.0588518281359733,
          0.5113793756969032,
          1.5501779376585758,
          -0.8524478792249889,
          -1.9380443095856368,
          0.5942126863632226,
          -0.7213814177466138,
          -1.4284835762291153,
          -0.5497224856580165,
          0.12892445871593872,
          -1.1399962416650429,
          -1.4075474455719887,
          1.0647079535246657,
          -2.5247803421347634,
          -0.8011577667158741,
          0.9199674475560655,
          1.6478122031445817,
          1.3194847524467535,
          -0.764600127712453,
          0.48430720440994685,
          0.5863316699164881,
          -1.069263904540008,
          -0.5632372317481582,
          -0.6426456872413806,
          -0.7870182484935463,
          0.2462478992987758,
          -1.4168272181785462,
          0.40388119919920007,
          0.4180621456305717,
          -1.119611022741833,
          1.6329140491703862,
          -0.6117946699659866,
          -1.4432302364349885,
          -0.3922505254490741,
          0.4752557660417033,
          -0.8043237276576388,
          0.17153124633321365,
          2.323836769751803,
          0.0024999715710456397,
          -1.2761182677737655,
          -0.4183954214576975,
          -1.4631631052597533,
          0.379615855539494,
          0.5358455575251583,
          -1.9002677116186337,
          2.4029095354039796,
          0.3972150994001214,
          -0.12232074553465183,
          1.1828073792398084,
          -0.5132766365909903,
          0.38392969710226904,
          -0.1663899580656883,
          -1.0724257407829039,
          -0.7385136597950122,
          1.2048200304134533,
          -0.4521711933543426,
          0.21936965110323467,
          0.7236404532416754,
          -0.433242997082624,
          2.0169652259817537,
          -1.1524865320752102,
          0.49611226997311086,
          0.6704581712778215,
          -1.3874385990413447,
          0.028775465776969357,
          0.6212949350011803,
          0.6771098619212451,
          0.04149213639301789,
          2.5897740173168318,
          0.701348426588947,
          1.3779496246841256,
          -0.22135023882166535,
          -0.6181809530524044,
          0.6495067729965904,
          -0.0751445640456038,
          -1.0605283771419969,
          1.0518116331655403,
          -1.1887570972866848,
          0.3140246926015154,
          -2.4614684287251682,
          0.07968267817827344,
          -0.7281373798847198,
          0.8374147216673383,
          1.3900211914018208,
          -1.4169165728854183,
          0.8688071619472842,
          -0.9530587787635841,
          0.5046014149705844,
          1.1742227615351095,
          0.07002751094084506,
          0.7983641740485199,
          -0.8452189319205592,
          0.449676416520301,
          -1.0220943045420217,
          -1.3553594817481585,
          -1.4189896183585313,
          0.8242908820445675,
          1.7668477123469213,
          -0.19567088818955558,
          1.8548278501390794,
          0.26740499835623144,
          1.643588943388109,
          0.8912933550656723,
          -0.8416879332690269,
          0.6161025242305187,
          -0.36755837919158885,
          0.40941728304000025,
          -0.44655136261376194,
          -0.8754770490105205,
          0.0035594516357302973,
          0.06691019088582686,
          -0.1964517866404509,
          1.7717388086257777,
          1.264626350398296,
          -0.9258865397072696,
          0.9940230406951148,
          0.6015617465867252,
          0.2606012629828298,
          1.4672383897831962,
          0.7219120056163311,
          1.6193808498582307,
          0.31331523334547684,
          -0.048186696080902584,
          -0.4957882455835943,
          0.6063244575305592,
          -0.10502528678010634,
          -0.5093541754105668,
          1.3089235855078056,
          0.10726924363784197,
          -1.4798869759511322,
          0.5909961860337478,
          0.4310825906634006,
          -0.10384016926004377,
          -0.9938576230352025,
          1.641887799508533,
          -0.1235330442111415
         ]
        }
       ],
       "layout": {}
      },
      "text/html": [
       "<div id=\"7225f00d-fc87-4a20-9a6e-e0af764f0306\" style=\"height: 525px; width: 100%;\" class=\"plotly-graph-div\"></div><script type=\"text/javascript\">require([\"plotly\"], function(Plotly) { window.PLOTLYENV=window.PLOTLYENV || {};window.PLOTLYENV.BASE_URL=\"https://plot.ly\";Plotly.newPlot(\"7225f00d-fc87-4a20-9a6e-e0af764f0306\", [{\"y\": [0.9234138487131347, -0.7155655861072641, 0.9671122601765009, 1.1620954455819834, 0.3920839057116035, -1.4118986264518916, -0.42314968521502166, -1.1326972225341738, 1.4431576495410554, -0.4290811449507743, -0.031800829657336924, 1.433852942383361, 0.8247157648020205, 0.22020692227480157, -0.05155696457339018, -0.5160817343279827, -0.5483308180977774, 1.315700417383058, -1.5353662929095118, -1.5978109248875876, 2.254742840379509, 0.724346856951623, 0.08024115597928512, -0.7691874199766814, 0.5995850152127064, -0.28757866340364013, -0.7716723948655151, 0.25743754446002665, 0.8608515915991375, -0.005249743954354805, 0.42978660466099267, -0.37442497240225475, -1.0812457837984766, 1.4158131678905415, 1.2429881296699374, -0.9083098471580575, 1.1186092832259378, -0.8518248305210554, 0.661925410108114, 1.1491721835340718, -0.07023118509167811, -0.36678368226402625, -1.4201184868135737, -1.7327321957368025, -0.23914061177882276, 0.5422080818971865, -0.5882948450582943, 0.6073482054167838, -0.1839727570494195, -1.8263533426715317, -0.7092265881146, 0.3036164076070429, 0.18650232389989757, 0.6370645238213957, -1.676534678496519, -0.05833662172098941, 0.8349647994674704, -0.5235520220465641, -0.2818005948961625, 0.07358308767726562, 0.3006835064283913, -0.46999423427720416, 0.37151961895062985, 0.9795466819991876, -0.7636389199508856, 0.9137241705563969, -0.5833288961765729, -1.2560429493906187, 0.3758329400786356, 2.0925372502635198, -0.43089943567694694, 2.37023312719696, -0.8535234184811978, -0.9647119758021652, -0.5805203327803616, -1.3386823920760493, 0.49423302575979794, -1.5540405723835546, 0.20055786389385125, -1.175341171133287, -0.5101420784754339, 0.012150242070829822, 0.09891393698546377, -1.1958082428730072, -0.2114515801204431, -0.5058401610833845, 0.8611124602347241, -1.6196707554017657, 0.8910964317216004, -2.804483868603314, -0.017689315531755588, -0.7864085827325487, -1.654250583590008, 0.03434352045088471, -1.2881410743956136, -0.2249894336401716, 0.5329267977300902, -2.7217714309816246, -0.2154906281997782, -0.9695423556300474, 1.278101760602368, 2.0871448915625925, 0.3835360463501673, 1.4156409300321786, -0.035263261246929176, -2.9089584756719002, 1.2227990837235259, 0.7020529610362449, -0.5902800691865112, 1.345270417753077, -0.6368272265399767, -1.1674480043874234, -2.0177626739489996, 1.1230799699557616, -0.20644297338196974, 1.4703660459566956, 0.8171520082370656, 1.6016241842506849, -1.1305875041776003, -0.5138898551702369, -0.7734915515720836, -0.8682731721624478, 0.051311204253499505, -0.4484928501399215, -0.08350874224456763, -1.791505299720441, -0.5669530888140442, -0.1352377403397025, -0.7473687759595105, 0.5332604606794493, -0.0019163197835105682, 0.3556335065058675, -0.026341298776856703, 0.8911037374484502, -0.07990779889843636, -1.2336662571464403, 0.05804818343360065, 1.1134642274003546, -1.2731786929926, 0.27971686130306134, 0.4264924348661425, 1.3561567828897185, -0.3182155575545863, -1.2391851464289394, 0.24229888408369923, 0.11294933111686882, 0.0030218557379150437, 0.6059762561079122, -2.786781061318471, 0.2727475789816325, 0.40193375944470305, -0.3872629530681045, -0.5069596312495043, 0.2270635563287545, -1.4264640256264758, 0.2367185740446187, -0.678505143561772, -0.7415774933770829, -1.455345126252677, -0.5452680663611396, 0.41516373861335754, 1.0397760210614775, 2.0046631559937547, 0.7616135264462486, -0.42330350509795506, 0.22371057564057187, -0.5029857430973946, -0.5584150720310591, 0.060316163241754234, 0.1696638980990992, 1.3096690703339176, 0.7633912887908147, -0.08539046011694353, 1.5752947464533669, 0.6566150228408687, 0.6257688431918229, -2.1702587827917075, -1.0609015406483038, 0.3372280341295916, 2.397226293632065, 0.002307648938632452, 0.7251311540888712, 1.037509998820235, -0.8385880341476033, -0.05600850407953928, -0.7588430974893466, 0.03260194343316664, -2.044982799486609, -1.2804890565264497, 0.3483711120029919, 0.8002493698106079, -1.2398700291246403, 0.2419237671872838, -1.4982244723659448, 0.44419379095160255, 0.41327022740251934, 1.2280277962235493, 0.6596670753393471, -1.2134592151862809, 0.2907067447344172, -1.1949601589912797, -2.744366840393261, 0.25053509025080567, -0.697698654051254, -0.7656791604519266, -0.7243782048934435, -0.09824504646248108, 0.3126340056637466, 0.6707000392008691, 0.7179165245027179, -0.6286428112746684, 0.8681682279748153, 0.5048488712198824, -1.0209086827473646, -0.2581328068869838, 0.11757751944326934, -1.757531588572186, 0.1991080648316469, -0.1572668323551781, 0.916660873152927, -0.4206080962296716, 0.539886117247712, 1.8023662317216989, 1.0720976072459156, 0.7003253098061295, 1.4089489399400628, 0.3762743137895579, 0.39336814463448966, -1.1373772088544, 1.5296936299314046, 0.726355468361132, -1.6836832192868918, -0.3033259694015585, 0.3998772264657576, -1.3150046547874539, -1.3696220484113095, 0.15527220907019337, -0.32398276049977937, -0.5790494977273654, 1.8997273569521866, 0.9640832049068696, -0.3598727201908678, -0.6550294017688463, -0.45062922155871055, -2.7785402541135524, -0.28993844056302376, 0.6877178491280113, -0.25387794645709794, 0.6184290314231357, -1.374462516952206, -0.0052258282761295394, -1.3952300599964034, 1.660521991767282, -1.0464643586096491, 0.19903587510725168, 0.9668917836016889, 0.543881268770505, 1.4266687377272245, 1.0901772534061172, -1.845519639794492, -1.7860732435514453, -0.12134403892270516, 0.02996932040672595, -1.6974416200932534, -0.8933726356932898, -0.4940897897402077, -2.211023868930853, 0.9145155076932046, -0.4105150020297538, -0.21103667159856968, -1.43467613478476, -2.166103966989393, -1.080629684068466, 0.09189306752486888, 1.2006933791776089, 1.706384073613211, -0.36552480526584696, -1.200577134395339, 1.2195681345665512, -0.29219061885095765, 0.12478753680878145, -0.1710720655230025, 1.1429704931403977, 0.14038526318389685, -0.045178614059958405, -0.2627887931637309, 0.7304017885951392, 2.2654287578988344, -0.5702353495272336, 0.7134430781363736, 0.4194527502482414, 0.5170704853635757, -0.67150419373787, 0.5101359536998896, 0.07427084688827833, 1.121770401176403, 0.7044132301140037, -1.0492733970805068, 0.013828766812510928, 2.7647458958916324, -1.3334391064172884, -1.4395346513222116, 0.46479054771718775, -0.4484787911790973, 1.0525512294995376, 0.263024654840754, 0.707113771680267, 0.9308255915115656, -2.031408472242256, -1.4946266673070427, -1.0745130061415002, -1.011164036022918, -0.6635117739896534, -0.7410829336289372, 0.4231095160651059, -0.1942797857788735, 0.22111208741076113, -1.0663624410643842, -0.8528919152314193, 1.5797771190175518, 0.6892028965304456, 0.5234406710597321, 1.1429468877423792, -0.36914190344829423, 0.6257061636907081, 0.6394929738075642, 1.2019801195672424, 0.6524500930691413, -0.2445845774352182, -0.4618217349487303, 0.40910312954912276, -0.016486041871817826, 0.6206864647664923, 2.0799653916797256, -2.9669294745577868, -1.8244941597697992, 0.3896979225525159, 0.8852596215209342, -0.669403311198646, 0.17320299504729303, -0.6640079413956581, -0.2682583728647129, -0.5942811698090443, 1.0774753187899688, -0.6259281675367765, 1.7308676914924666, 1.7467530662410862, -2.2336775811728438, 0.11831277018282005, 0.14118029711562805, 0.48327144888031764, 0.26944384644976144, 0.0939362989572651, 0.9381428909811684, 0.9552129730422012, -1.7854097570554028, 0.30357496083762237, 1.0873854732553472, 0.14053701400965438, -0.41991718455552435, 0.40330523172823796, -1.6748563446805267, 0.8950919794480805, -0.42635470085752547, -1.0588518281359733, 0.5113793756969032, 1.5501779376585758, -0.8524478792249889, -1.9380443095856368, 0.5942126863632226, -0.7213814177466138, -1.4284835762291153, -0.5497224856580165, 0.12892445871593872, -1.1399962416650429, -1.4075474455719887, 1.0647079535246657, -2.5247803421347634, -0.8011577667158741, 0.9199674475560655, 1.6478122031445817, 1.3194847524467535, -0.764600127712453, 0.48430720440994685, 0.5863316699164881, -1.069263904540008, -0.5632372317481582, -0.6426456872413806, -0.7870182484935463, 0.2462478992987758, -1.4168272181785462, 0.40388119919920007, 0.4180621456305717, -1.119611022741833, 1.6329140491703862, -0.6117946699659866, -1.4432302364349885, -0.3922505254490741, 0.4752557660417033, -0.8043237276576388, 0.17153124633321365, 2.323836769751803, 0.0024999715710456397, -1.2761182677737655, -0.4183954214576975, -1.4631631052597533, 0.379615855539494, 0.5358455575251583, -1.9002677116186337, 2.4029095354039796, 0.3972150994001214, -0.12232074553465183, 1.1828073792398084, -0.5132766365909903, 0.38392969710226904, -0.1663899580656883, -1.0724257407829039, -0.7385136597950122, 1.2048200304134533, -0.4521711933543426, 0.21936965110323467, 0.7236404532416754, -0.433242997082624, 2.0169652259817537, -1.1524865320752102, 0.49611226997311086, 0.6704581712778215, -1.3874385990413447, 0.028775465776969357, 0.6212949350011803, 0.6771098619212451, 0.04149213639301789, 2.5897740173168318, 0.701348426588947, 1.3779496246841256, -0.22135023882166535, -0.6181809530524044, 0.6495067729965904, -0.0751445640456038, -1.0605283771419969, 1.0518116331655403, -1.1887570972866848, 0.3140246926015154, -2.4614684287251682, 0.07968267817827344, -0.7281373798847198, 0.8374147216673383, 1.3900211914018208, -1.4169165728854183, 0.8688071619472842, -0.9530587787635841, 0.5046014149705844, 1.1742227615351095, 0.07002751094084506, 0.7983641740485199, -0.8452189319205592, 0.449676416520301, -1.0220943045420217, -1.3553594817481585, -1.4189896183585313, 0.8242908820445675, 1.7668477123469213, -0.19567088818955558, 1.8548278501390794, 0.26740499835623144, 1.643588943388109, 0.8912933550656723, -0.8416879332690269, 0.6161025242305187, -0.36755837919158885, 0.40941728304000025, -0.44655136261376194, -0.8754770490105205, 0.0035594516357302973, 0.06691019088582686, -0.1964517866404509, 1.7717388086257777, 1.264626350398296, -0.9258865397072696, 0.9940230406951148, 0.6015617465867252, 0.2606012629828298, 1.4672383897831962, 0.7219120056163311, 1.6193808498582307, 0.31331523334547684, -0.048186696080902584, -0.4957882455835943, 0.6063244575305592, -0.10502528678010634, -0.5093541754105668, 1.3089235855078056, 0.10726924363784197, -1.4798869759511322, 0.5909961860337478, 0.4310825906634006, -0.10384016926004377, -0.9938576230352025, 1.641887799508533, -0.1235330442111415], \"x\": [0.0, 0.002004008016032064, 0.004008016032064128, 0.0060120240480961915, 0.008016032064128256, 0.01002004008016032, 0.012024048096192383, 0.014028056112224447, 0.01603206412825651, 0.018036072144288574, 0.02004008016032064, 0.022044088176352703, 0.024048096192384766, 0.026052104208416832, 0.028056112224448895, 0.03006012024048096, 0.03206412825651302, 0.03406813627254509, 0.03607214428857715, 0.038076152304609215, 0.04008016032064128, 0.04208416833667334, 0.044088176352705406, 0.04609218436873747, 0.04809619238476953, 0.0501002004008016, 0.052104208416833664, 0.05410821643286573, 0.05611222444889779, 0.058116232464929855, 0.06012024048096192, 0.06212424849699398, 0.06412825651302605, 0.06613226452905811, 0.06813627254509018, 0.07014028056112225, 0.0721442885771543, 0.07414829659318636, 0.07615230460921843, 0.0781563126252505, 0.08016032064128256, 0.08216432865731463, 0.08416833667334668, 0.08617234468937875, 0.08817635270541081, 0.09018036072144288, 0.09218436873747494, 0.09418837675350701, 0.09619238476953906, 0.09819639278557113, 0.1002004008016032, 0.10220440881763526, 0.10420841683366733, 0.1062124248496994, 0.10821643286573146, 0.11022044088176351, 0.11222444889779558, 0.11422845691382764, 0.11623246492985971, 0.11823647294589178, 0.12024048096192384, 0.1222444889779559, 0.12424849699398796, 0.12625250501002003, 0.1282565130260521, 0.13026052104208416, 0.13226452905811623, 0.1342685370741483, 0.13627254509018036, 0.13827655310621242, 0.1402805611222445, 0.14228456913827653, 0.1442885771543086, 0.14629258517034066, 0.14829659318637273, 0.1503006012024048, 0.15230460921843686, 0.15430861723446893, 0.156312625250501, 0.15831663326653306, 0.16032064128256512, 0.1623246492985972, 0.16432865731462926, 0.16633266533066132, 0.16833667334669336, 0.17034068136272543, 0.1723446893787575, 0.17434869739478956, 0.17635270541082163, 0.1783567134268537, 0.18036072144288576, 0.18236472945891782, 0.1843687374749499, 0.18637274549098196, 0.18837675350701402, 0.1903807615230461, 0.19238476953907813, 0.1943887775551102, 0.19639278557114226, 0.19839679358717432, 0.2004008016032064, 0.20240480961923846, 0.20440881763527052, 0.2064128256513026, 0.20841683366733466, 0.21042084168336672, 0.2124248496993988, 0.21442885771543085, 0.21643286573146292, 0.21843687374749496, 0.22044088176352702, 0.2224448897795591, 0.22444889779559116, 0.22645290581162322, 0.2284569138276553, 0.23046092184368736, 0.23246492985971942, 0.2344689378757515, 0.23647294589178355, 0.23847695390781562, 0.24048096192384769, 0.24248496993987975, 0.2444889779559118, 0.24649298597194386, 0.24849699398797592, 0.250501002004008, 0.25250501002004005, 0.2545090180360721, 0.2565130260521042, 0.25851703406813625, 0.2605210420841683, 0.2625250501002004, 0.26452905811623245, 0.2665330661322645, 0.2685370741482966, 0.27054108216432865, 0.2725450901803607, 0.2745490981963928, 0.27655310621242485, 0.2785571142284569, 0.280561122244489, 0.282565130260521, 0.28456913827655306, 0.2865731462925851, 0.2885771543086172, 0.29058116232464926, 0.2925851703406813, 0.2945891783567134, 0.29659318637274545, 0.2985971943887775, 0.3006012024048096, 0.30260521042084165, 0.3046092184368737, 0.3066132264529058, 0.30861723446893785, 0.3106212424849699, 0.312625250501002, 0.31462925851703405, 0.3166332665330661, 0.3186372745490982, 0.32064128256513025, 0.3226452905811623, 0.3246492985971944, 0.32665330661322645, 0.3286573146292585, 0.3306613226452906, 0.33266533066132264, 0.33466933867735466, 0.3366733466933867, 0.3386773547094188, 0.34068136272545085, 0.3426853707414829, 0.344689378757515, 0.34669338677354705, 0.3486973947895791, 0.3507014028056112, 0.35270541082164325, 0.3547094188376753, 0.3567134268537074, 0.35871743486973945, 0.3607214428857715, 0.3627254509018036, 0.36472945891783565, 0.3667334669338677, 0.3687374749498998, 0.37074148296593185, 0.3727454909819639, 0.374749498997996, 0.37675350701402804, 0.3787575150300601, 0.3807615230460922, 0.38276553106212424, 0.38476953907815625, 0.3867735470941883, 0.3887775551102204, 0.39078156312625245, 0.3927855711422845, 0.3947895791583166, 0.39679358717434865, 0.3987975951903807, 0.4008016032064128, 0.40280561122244485, 0.4048096192384769, 0.406813627254509, 0.40881763527054105, 0.4108216432865731, 0.4128256513026052, 0.41482965931863724, 0.4168336673346693, 0.4188376753507014, 0.42084168336673344, 0.4228456913827655, 0.4248496993987976, 0.42685370741482964, 0.4288577154308617, 0.4308617234468938, 0.43286573146292584, 0.4348697394789579, 0.4368737474949899, 0.438877755511022, 0.44088176352705405, 0.4428857715430861, 0.4448897795591182, 0.44689378757515025, 0.4488977955911823, 0.4509018036072144, 0.45290581162324645, 0.4549098196392785, 0.4569138276553106, 0.45891783567134264, 0.4609218436873747, 0.4629258517034068, 0.46492985971943884, 0.4669338677354709, 0.468937875751503, 0.47094188376753504, 0.4729458917835671, 0.4749498997995992, 0.47695390781563124, 0.4789579158316633, 0.48096192384769537, 0.48296593186372744, 0.4849699398797595, 0.48697394789579157, 0.4889779559118236, 0.49098196392785565, 0.4929859719438877, 0.4949899799599198, 0.49699398797595185, 0.4989979959919839, 0.501002004008016, 0.503006012024048, 0.5050100200400801, 0.5070140280561122, 0.5090180360721442, 0.5110220440881763, 0.5130260521042084, 0.5150300601202404, 0.5170340681362725, 0.5190380761523046, 0.5210420841683366, 0.5230460921843687, 0.5250501002004008, 0.5270541082164328, 0.5290581162324649, 0.531062124248497, 0.533066132264529, 0.5350701402805611, 0.5370741482965932, 0.5390781563126252, 0.5410821643286573, 0.5430861723446894, 0.5450901803607214, 0.5470941883767535, 0.5490981963927856, 0.5511022044088176, 0.5531062124248497, 0.5551102204408818, 0.5571142284569138, 0.5591182364729459, 0.561122244488978, 0.56312625250501, 0.565130260521042, 0.567134268537074, 0.5691382765531061, 0.5711422845691382, 0.5731462925851702, 0.5751503006012023, 0.5771543086172344, 0.5791583166332664, 0.5811623246492985, 0.5831663326653306, 0.5851703406813626, 0.5871743486973947, 0.5891783567134268, 0.5911823647294588, 0.5931863727454909, 0.595190380761523, 0.597194388777555, 0.5991983967935871, 0.6012024048096192, 0.6032064128256512, 0.6052104208416833, 0.6072144288577154, 0.6092184368737474, 0.6112224448897795, 0.6132264529058116, 0.6152304609218436, 0.6172344689378757, 0.6192384769539078, 0.6212424849699398, 0.6232464929859719, 0.625250501002004, 0.627254509018036, 0.6292585170340681, 0.6312625250501002, 0.6332665330661322, 0.6352705410821643, 0.6372745490981964, 0.6392785571142284, 0.6412825651302605, 0.6432865731462926, 0.6452905811623246, 0.6472945891783567, 0.6492985971943888, 0.6513026052104208, 0.6533066132264529, 0.655310621242485, 0.657314629258517, 0.6593186372745491, 0.6613226452905812, 0.6633266533066132, 0.6653306613226453, 0.6673346693386772, 0.6693386773547093, 0.6713426853707414, 0.6733466933867734, 0.6753507014028055, 0.6773547094188376, 0.6793587174348696, 0.6813627254509017, 0.6833667334669338, 0.6853707414829658, 0.6873747494989979, 0.68937875751503, 0.691382765531062, 0.6933867735470941, 0.6953907815631262, 0.6973947895791582, 0.6993987975951903, 0.7014028056112224, 0.7034068136272544, 0.7054108216432865, 0.7074148296593186, 0.7094188376753506, 0.7114228456913827, 0.7134268537074148, 0.7154308617234468, 0.7174348697394789, 0.719438877755511, 0.721442885771543, 0.7234468937875751, 0.7254509018036072, 0.7274549098196392, 0.7294589178356713, 0.7314629258517034, 0.7334669338677354, 0.7354709418837675, 0.7374749498997996, 0.7394789579158316, 0.7414829659318637, 0.7434869739478958, 0.7454909819639278, 0.7474949899799599, 0.749498997995992, 0.751503006012024, 0.7535070140280561, 0.7555110220440882, 0.7575150300601202, 0.7595190380761523, 0.7615230460921844, 0.7635270541082164, 0.7655310621242485, 0.7675350701402806, 0.7695390781563125, 0.7715430861723446, 0.7735470941883766, 0.7755511022044087, 0.7775551102204408, 0.7795591182364728, 0.7815631262525049, 0.783567134268537, 0.785571142284569, 0.7875751503006011, 0.7895791583166332, 0.7915831663326652, 0.7935871743486973, 0.7955911823647294, 0.7975951903807614, 0.7995991983967935, 0.8016032064128256, 0.8036072144288576, 0.8056112224448897, 0.8076152304609218, 0.8096192384769538, 0.8116232464929859, 0.813627254509018, 0.81563126252505, 0.8176352705410821, 0.8196392785571142, 0.8216432865731462, 0.8236472945891783, 0.8256513026052104, 0.8276553106212424, 0.8296593186372745, 0.8316633266533066, 0.8336673346693386, 0.8356713426853707, 0.8376753507014028, 0.8396793587174348, 0.8416833667334669, 0.843687374749499, 0.845691382765531, 0.8476953907815631, 0.8496993987975952, 0.8517034068136272, 0.8537074148296593, 0.8557114228456913, 0.8577154308617234, 0.8597194388777555, 0.8617234468937875, 0.8637274549098196, 0.8657314629258517, 0.8677354709418837, 0.8697394789579158, 0.8717434869739479, 0.8737474949899798, 0.8757515030060119, 0.877755511022044, 0.879759519038076, 0.8817635270541081, 0.8837675350701402, 0.8857715430861722, 0.8877755511022043, 0.8897795591182364, 0.8917835671342684, 0.8937875751503005, 0.8957915831663326, 0.8977955911823646, 0.8997995991983967, 0.9018036072144288, 0.9038076152304608, 0.9058116232464929, 0.907815631262525, 0.909819639278557, 0.9118236472945891, 0.9138276553106212, 0.9158316633266532, 0.9178356713426853, 0.9198396793587174, 0.9218436873747494, 0.9238476953907815, 0.9258517034068136, 0.9278557114228456, 0.9298597194388777, 0.9318637274549098, 0.9338677354709418, 0.9358717434869739, 0.937875751503006, 0.939879759519038, 0.9418837675350701, 0.9438877755511021, 0.9458917835671342, 0.9478957915831663, 0.9498997995991983, 0.9519038076152304, 0.9539078156312625, 0.9559118236472945, 0.9579158316633266, 0.9599198396793587, 0.9619238476953907, 0.9639278557114228, 0.9659318637274549, 0.9679358717434869, 0.969939879759519, 0.9719438877755511, 0.9739478957915831, 0.9759519038076151, 0.9779559118236472, 0.9799599198396792, 0.9819639278557113, 0.9839679358717434, 0.9859719438877754, 0.9879759519038075, 0.9899799599198396, 0.9919839679358716, 0.9939879759519037, 0.9959919839679358, 0.9979959919839678, 1.0], \"type\": \"scatter\"}], {}, {\"linkText\": \"Export to plot.ly\", \"showLink\": true})});</script>"
      ],
      "text/vnd.plotly.v1+html": [
       "<div id=\"7225f00d-fc87-4a20-9a6e-e0af764f0306\" style=\"height: 525px; width: 100%;\" class=\"plotly-graph-div\"></div><script type=\"text/javascript\">require([\"plotly\"], function(Plotly) { window.PLOTLYENV=window.PLOTLYENV || {};window.PLOTLYENV.BASE_URL=\"https://plot.ly\";Plotly.newPlot(\"7225f00d-fc87-4a20-9a6e-e0af764f0306\", [{\"y\": [0.9234138487131347, -0.7155655861072641, 0.9671122601765009, 1.1620954455819834, 0.3920839057116035, -1.4118986264518916, -0.42314968521502166, -1.1326972225341738, 1.4431576495410554, -0.4290811449507743, -0.031800829657336924, 1.433852942383361, 0.8247157648020205, 0.22020692227480157, -0.05155696457339018, -0.5160817343279827, -0.5483308180977774, 1.315700417383058, -1.5353662929095118, -1.5978109248875876, 2.254742840379509, 0.724346856951623, 0.08024115597928512, -0.7691874199766814, 0.5995850152127064, -0.28757866340364013, -0.7716723948655151, 0.25743754446002665, 0.8608515915991375, -0.005249743954354805, 0.42978660466099267, -0.37442497240225475, -1.0812457837984766, 1.4158131678905415, 1.2429881296699374, -0.9083098471580575, 1.1186092832259378, -0.8518248305210554, 0.661925410108114, 1.1491721835340718, -0.07023118509167811, -0.36678368226402625, -1.4201184868135737, -1.7327321957368025, -0.23914061177882276, 0.5422080818971865, -0.5882948450582943, 0.6073482054167838, -0.1839727570494195, -1.8263533426715317, -0.7092265881146, 0.3036164076070429, 0.18650232389989757, 0.6370645238213957, -1.676534678496519, -0.05833662172098941, 0.8349647994674704, -0.5235520220465641, -0.2818005948961625, 0.07358308767726562, 0.3006835064283913, -0.46999423427720416, 0.37151961895062985, 0.9795466819991876, -0.7636389199508856, 0.9137241705563969, -0.5833288961765729, -1.2560429493906187, 0.3758329400786356, 2.0925372502635198, -0.43089943567694694, 2.37023312719696, -0.8535234184811978, -0.9647119758021652, -0.5805203327803616, -1.3386823920760493, 0.49423302575979794, -1.5540405723835546, 0.20055786389385125, -1.175341171133287, -0.5101420784754339, 0.012150242070829822, 0.09891393698546377, -1.1958082428730072, -0.2114515801204431, -0.5058401610833845, 0.8611124602347241, -1.6196707554017657, 0.8910964317216004, -2.804483868603314, -0.017689315531755588, -0.7864085827325487, -1.654250583590008, 0.03434352045088471, -1.2881410743956136, -0.2249894336401716, 0.5329267977300902, -2.7217714309816246, -0.2154906281997782, -0.9695423556300474, 1.278101760602368, 2.0871448915625925, 0.3835360463501673, 1.4156409300321786, -0.035263261246929176, -2.9089584756719002, 1.2227990837235259, 0.7020529610362449, -0.5902800691865112, 1.345270417753077, -0.6368272265399767, -1.1674480043874234, -2.0177626739489996, 1.1230799699557616, -0.20644297338196974, 1.4703660459566956, 0.8171520082370656, 1.6016241842506849, -1.1305875041776003, -0.5138898551702369, -0.7734915515720836, -0.8682731721624478, 0.051311204253499505, -0.4484928501399215, -0.08350874224456763, -1.791505299720441, -0.5669530888140442, -0.1352377403397025, -0.7473687759595105, 0.5332604606794493, -0.0019163197835105682, 0.3556335065058675, -0.026341298776856703, 0.8911037374484502, -0.07990779889843636, -1.2336662571464403, 0.05804818343360065, 1.1134642274003546, -1.2731786929926, 0.27971686130306134, 0.4264924348661425, 1.3561567828897185, -0.3182155575545863, -1.2391851464289394, 0.24229888408369923, 0.11294933111686882, 0.0030218557379150437, 0.6059762561079122, -2.786781061318471, 0.2727475789816325, 0.40193375944470305, -0.3872629530681045, -0.5069596312495043, 0.2270635563287545, -1.4264640256264758, 0.2367185740446187, -0.678505143561772, -0.7415774933770829, -1.455345126252677, -0.5452680663611396, 0.41516373861335754, 1.0397760210614775, 2.0046631559937547, 0.7616135264462486, -0.42330350509795506, 0.22371057564057187, -0.5029857430973946, -0.5584150720310591, 0.060316163241754234, 0.1696638980990992, 1.3096690703339176, 0.7633912887908147, -0.08539046011694353, 1.5752947464533669, 0.6566150228408687, 0.6257688431918229, -2.1702587827917075, -1.0609015406483038, 0.3372280341295916, 2.397226293632065, 0.002307648938632452, 0.7251311540888712, 1.037509998820235, -0.8385880341476033, -0.05600850407953928, -0.7588430974893466, 0.03260194343316664, -2.044982799486609, -1.2804890565264497, 0.3483711120029919, 0.8002493698106079, -1.2398700291246403, 0.2419237671872838, -1.4982244723659448, 0.44419379095160255, 0.41327022740251934, 1.2280277962235493, 0.6596670753393471, -1.2134592151862809, 0.2907067447344172, -1.1949601589912797, -2.744366840393261, 0.25053509025080567, -0.697698654051254, -0.7656791604519266, -0.7243782048934435, -0.09824504646248108, 0.3126340056637466, 0.6707000392008691, 0.7179165245027179, -0.6286428112746684, 0.8681682279748153, 0.5048488712198824, -1.0209086827473646, -0.2581328068869838, 0.11757751944326934, -1.757531588572186, 0.1991080648316469, -0.1572668323551781, 0.916660873152927, -0.4206080962296716, 0.539886117247712, 1.8023662317216989, 1.0720976072459156, 0.7003253098061295, 1.4089489399400628, 0.3762743137895579, 0.39336814463448966, -1.1373772088544, 1.5296936299314046, 0.726355468361132, -1.6836832192868918, -0.3033259694015585, 0.3998772264657576, -1.3150046547874539, -1.3696220484113095, 0.15527220907019337, -0.32398276049977937, -0.5790494977273654, 1.8997273569521866, 0.9640832049068696, -0.3598727201908678, -0.6550294017688463, -0.45062922155871055, -2.7785402541135524, -0.28993844056302376, 0.6877178491280113, -0.25387794645709794, 0.6184290314231357, -1.374462516952206, -0.0052258282761295394, -1.3952300599964034, 1.660521991767282, -1.0464643586096491, 0.19903587510725168, 0.9668917836016889, 0.543881268770505, 1.4266687377272245, 1.0901772534061172, -1.845519639794492, -1.7860732435514453, -0.12134403892270516, 0.02996932040672595, -1.6974416200932534, -0.8933726356932898, -0.4940897897402077, -2.211023868930853, 0.9145155076932046, -0.4105150020297538, -0.21103667159856968, -1.43467613478476, -2.166103966989393, -1.080629684068466, 0.09189306752486888, 1.2006933791776089, 1.706384073613211, -0.36552480526584696, -1.200577134395339, 1.2195681345665512, -0.29219061885095765, 0.12478753680878145, -0.1710720655230025, 1.1429704931403977, 0.14038526318389685, -0.045178614059958405, -0.2627887931637309, 0.7304017885951392, 2.2654287578988344, -0.5702353495272336, 0.7134430781363736, 0.4194527502482414, 0.5170704853635757, -0.67150419373787, 0.5101359536998896, 0.07427084688827833, 1.121770401176403, 0.7044132301140037, -1.0492733970805068, 0.013828766812510928, 2.7647458958916324, -1.3334391064172884, -1.4395346513222116, 0.46479054771718775, -0.4484787911790973, 1.0525512294995376, 0.263024654840754, 0.707113771680267, 0.9308255915115656, -2.031408472242256, -1.4946266673070427, -1.0745130061415002, -1.011164036022918, -0.6635117739896534, -0.7410829336289372, 0.4231095160651059, -0.1942797857788735, 0.22111208741076113, -1.0663624410643842, -0.8528919152314193, 1.5797771190175518, 0.6892028965304456, 0.5234406710597321, 1.1429468877423792, -0.36914190344829423, 0.6257061636907081, 0.6394929738075642, 1.2019801195672424, 0.6524500930691413, -0.2445845774352182, -0.4618217349487303, 0.40910312954912276, -0.016486041871817826, 0.6206864647664923, 2.0799653916797256, -2.9669294745577868, -1.8244941597697992, 0.3896979225525159, 0.8852596215209342, -0.669403311198646, 0.17320299504729303, -0.6640079413956581, -0.2682583728647129, -0.5942811698090443, 1.0774753187899688, -0.6259281675367765, 1.7308676914924666, 1.7467530662410862, -2.2336775811728438, 0.11831277018282005, 0.14118029711562805, 0.48327144888031764, 0.26944384644976144, 0.0939362989572651, 0.9381428909811684, 0.9552129730422012, -1.7854097570554028, 0.30357496083762237, 1.0873854732553472, 0.14053701400965438, -0.41991718455552435, 0.40330523172823796, -1.6748563446805267, 0.8950919794480805, -0.42635470085752547, -1.0588518281359733, 0.5113793756969032, 1.5501779376585758, -0.8524478792249889, -1.9380443095856368, 0.5942126863632226, -0.7213814177466138, -1.4284835762291153, -0.5497224856580165, 0.12892445871593872, -1.1399962416650429, -1.4075474455719887, 1.0647079535246657, -2.5247803421347634, -0.8011577667158741, 0.9199674475560655, 1.6478122031445817, 1.3194847524467535, -0.764600127712453, 0.48430720440994685, 0.5863316699164881, -1.069263904540008, -0.5632372317481582, -0.6426456872413806, -0.7870182484935463, 0.2462478992987758, -1.4168272181785462, 0.40388119919920007, 0.4180621456305717, -1.119611022741833, 1.6329140491703862, -0.6117946699659866, -1.4432302364349885, -0.3922505254490741, 0.4752557660417033, -0.8043237276576388, 0.17153124633321365, 2.323836769751803, 0.0024999715710456397, -1.2761182677737655, -0.4183954214576975, -1.4631631052597533, 0.379615855539494, 0.5358455575251583, -1.9002677116186337, 2.4029095354039796, 0.3972150994001214, -0.12232074553465183, 1.1828073792398084, -0.5132766365909903, 0.38392969710226904, -0.1663899580656883, -1.0724257407829039, -0.7385136597950122, 1.2048200304134533, -0.4521711933543426, 0.21936965110323467, 0.7236404532416754, -0.433242997082624, 2.0169652259817537, -1.1524865320752102, 0.49611226997311086, 0.6704581712778215, -1.3874385990413447, 0.028775465776969357, 0.6212949350011803, 0.6771098619212451, 0.04149213639301789, 2.5897740173168318, 0.701348426588947, 1.3779496246841256, -0.22135023882166535, -0.6181809530524044, 0.6495067729965904, -0.0751445640456038, -1.0605283771419969, 1.0518116331655403, -1.1887570972866848, 0.3140246926015154, -2.4614684287251682, 0.07968267817827344, -0.7281373798847198, 0.8374147216673383, 1.3900211914018208, -1.4169165728854183, 0.8688071619472842, -0.9530587787635841, 0.5046014149705844, 1.1742227615351095, 0.07002751094084506, 0.7983641740485199, -0.8452189319205592, 0.449676416520301, -1.0220943045420217, -1.3553594817481585, -1.4189896183585313, 0.8242908820445675, 1.7668477123469213, -0.19567088818955558, 1.8548278501390794, 0.26740499835623144, 1.643588943388109, 0.8912933550656723, -0.8416879332690269, 0.6161025242305187, -0.36755837919158885, 0.40941728304000025, -0.44655136261376194, -0.8754770490105205, 0.0035594516357302973, 0.06691019088582686, -0.1964517866404509, 1.7717388086257777, 1.264626350398296, -0.9258865397072696, 0.9940230406951148, 0.6015617465867252, 0.2606012629828298, 1.4672383897831962, 0.7219120056163311, 1.6193808498582307, 0.31331523334547684, -0.048186696080902584, -0.4957882455835943, 0.6063244575305592, -0.10502528678010634, -0.5093541754105668, 1.3089235855078056, 0.10726924363784197, -1.4798869759511322, 0.5909961860337478, 0.4310825906634006, -0.10384016926004377, -0.9938576230352025, 1.641887799508533, -0.1235330442111415], \"x\": [0.0, 0.002004008016032064, 0.004008016032064128, 0.0060120240480961915, 0.008016032064128256, 0.01002004008016032, 0.012024048096192383, 0.014028056112224447, 0.01603206412825651, 0.018036072144288574, 0.02004008016032064, 0.022044088176352703, 0.024048096192384766, 0.026052104208416832, 0.028056112224448895, 0.03006012024048096, 0.03206412825651302, 0.03406813627254509, 0.03607214428857715, 0.038076152304609215, 0.04008016032064128, 0.04208416833667334, 0.044088176352705406, 0.04609218436873747, 0.04809619238476953, 0.0501002004008016, 0.052104208416833664, 0.05410821643286573, 0.05611222444889779, 0.058116232464929855, 0.06012024048096192, 0.06212424849699398, 0.06412825651302605, 0.06613226452905811, 0.06813627254509018, 0.07014028056112225, 0.0721442885771543, 0.07414829659318636, 0.07615230460921843, 0.0781563126252505, 0.08016032064128256, 0.08216432865731463, 0.08416833667334668, 0.08617234468937875, 0.08817635270541081, 0.09018036072144288, 0.09218436873747494, 0.09418837675350701, 0.09619238476953906, 0.09819639278557113, 0.1002004008016032, 0.10220440881763526, 0.10420841683366733, 0.1062124248496994, 0.10821643286573146, 0.11022044088176351, 0.11222444889779558, 0.11422845691382764, 0.11623246492985971, 0.11823647294589178, 0.12024048096192384, 0.1222444889779559, 0.12424849699398796, 0.12625250501002003, 0.1282565130260521, 0.13026052104208416, 0.13226452905811623, 0.1342685370741483, 0.13627254509018036, 0.13827655310621242, 0.1402805611222445, 0.14228456913827653, 0.1442885771543086, 0.14629258517034066, 0.14829659318637273, 0.1503006012024048, 0.15230460921843686, 0.15430861723446893, 0.156312625250501, 0.15831663326653306, 0.16032064128256512, 0.1623246492985972, 0.16432865731462926, 0.16633266533066132, 0.16833667334669336, 0.17034068136272543, 0.1723446893787575, 0.17434869739478956, 0.17635270541082163, 0.1783567134268537, 0.18036072144288576, 0.18236472945891782, 0.1843687374749499, 0.18637274549098196, 0.18837675350701402, 0.1903807615230461, 0.19238476953907813, 0.1943887775551102, 0.19639278557114226, 0.19839679358717432, 0.2004008016032064, 0.20240480961923846, 0.20440881763527052, 0.2064128256513026, 0.20841683366733466, 0.21042084168336672, 0.2124248496993988, 0.21442885771543085, 0.21643286573146292, 0.21843687374749496, 0.22044088176352702, 0.2224448897795591, 0.22444889779559116, 0.22645290581162322, 0.2284569138276553, 0.23046092184368736, 0.23246492985971942, 0.2344689378757515, 0.23647294589178355, 0.23847695390781562, 0.24048096192384769, 0.24248496993987975, 0.2444889779559118, 0.24649298597194386, 0.24849699398797592, 0.250501002004008, 0.25250501002004005, 0.2545090180360721, 0.2565130260521042, 0.25851703406813625, 0.2605210420841683, 0.2625250501002004, 0.26452905811623245, 0.2665330661322645, 0.2685370741482966, 0.27054108216432865, 0.2725450901803607, 0.2745490981963928, 0.27655310621242485, 0.2785571142284569, 0.280561122244489, 0.282565130260521, 0.28456913827655306, 0.2865731462925851, 0.2885771543086172, 0.29058116232464926, 0.2925851703406813, 0.2945891783567134, 0.29659318637274545, 0.2985971943887775, 0.3006012024048096, 0.30260521042084165, 0.3046092184368737, 0.3066132264529058, 0.30861723446893785, 0.3106212424849699, 0.312625250501002, 0.31462925851703405, 0.3166332665330661, 0.3186372745490982, 0.32064128256513025, 0.3226452905811623, 0.3246492985971944, 0.32665330661322645, 0.3286573146292585, 0.3306613226452906, 0.33266533066132264, 0.33466933867735466, 0.3366733466933867, 0.3386773547094188, 0.34068136272545085, 0.3426853707414829, 0.344689378757515, 0.34669338677354705, 0.3486973947895791, 0.3507014028056112, 0.35270541082164325, 0.3547094188376753, 0.3567134268537074, 0.35871743486973945, 0.3607214428857715, 0.3627254509018036, 0.36472945891783565, 0.3667334669338677, 0.3687374749498998, 0.37074148296593185, 0.3727454909819639, 0.374749498997996, 0.37675350701402804, 0.3787575150300601, 0.3807615230460922, 0.38276553106212424, 0.38476953907815625, 0.3867735470941883, 0.3887775551102204, 0.39078156312625245, 0.3927855711422845, 0.3947895791583166, 0.39679358717434865, 0.3987975951903807, 0.4008016032064128, 0.40280561122244485, 0.4048096192384769, 0.406813627254509, 0.40881763527054105, 0.4108216432865731, 0.4128256513026052, 0.41482965931863724, 0.4168336673346693, 0.4188376753507014, 0.42084168336673344, 0.4228456913827655, 0.4248496993987976, 0.42685370741482964, 0.4288577154308617, 0.4308617234468938, 0.43286573146292584, 0.4348697394789579, 0.4368737474949899, 0.438877755511022, 0.44088176352705405, 0.4428857715430861, 0.4448897795591182, 0.44689378757515025, 0.4488977955911823, 0.4509018036072144, 0.45290581162324645, 0.4549098196392785, 0.4569138276553106, 0.45891783567134264, 0.4609218436873747, 0.4629258517034068, 0.46492985971943884, 0.4669338677354709, 0.468937875751503, 0.47094188376753504, 0.4729458917835671, 0.4749498997995992, 0.47695390781563124, 0.4789579158316633, 0.48096192384769537, 0.48296593186372744, 0.4849699398797595, 0.48697394789579157, 0.4889779559118236, 0.49098196392785565, 0.4929859719438877, 0.4949899799599198, 0.49699398797595185, 0.4989979959919839, 0.501002004008016, 0.503006012024048, 0.5050100200400801, 0.5070140280561122, 0.5090180360721442, 0.5110220440881763, 0.5130260521042084, 0.5150300601202404, 0.5170340681362725, 0.5190380761523046, 0.5210420841683366, 0.5230460921843687, 0.5250501002004008, 0.5270541082164328, 0.5290581162324649, 0.531062124248497, 0.533066132264529, 0.5350701402805611, 0.5370741482965932, 0.5390781563126252, 0.5410821643286573, 0.5430861723446894, 0.5450901803607214, 0.5470941883767535, 0.5490981963927856, 0.5511022044088176, 0.5531062124248497, 0.5551102204408818, 0.5571142284569138, 0.5591182364729459, 0.561122244488978, 0.56312625250501, 0.565130260521042, 0.567134268537074, 0.5691382765531061, 0.5711422845691382, 0.5731462925851702, 0.5751503006012023, 0.5771543086172344, 0.5791583166332664, 0.5811623246492985, 0.5831663326653306, 0.5851703406813626, 0.5871743486973947, 0.5891783567134268, 0.5911823647294588, 0.5931863727454909, 0.595190380761523, 0.597194388777555, 0.5991983967935871, 0.6012024048096192, 0.6032064128256512, 0.6052104208416833, 0.6072144288577154, 0.6092184368737474, 0.6112224448897795, 0.6132264529058116, 0.6152304609218436, 0.6172344689378757, 0.6192384769539078, 0.6212424849699398, 0.6232464929859719, 0.625250501002004, 0.627254509018036, 0.6292585170340681, 0.6312625250501002, 0.6332665330661322, 0.6352705410821643, 0.6372745490981964, 0.6392785571142284, 0.6412825651302605, 0.6432865731462926, 0.6452905811623246, 0.6472945891783567, 0.6492985971943888, 0.6513026052104208, 0.6533066132264529, 0.655310621242485, 0.657314629258517, 0.6593186372745491, 0.6613226452905812, 0.6633266533066132, 0.6653306613226453, 0.6673346693386772, 0.6693386773547093, 0.6713426853707414, 0.6733466933867734, 0.6753507014028055, 0.6773547094188376, 0.6793587174348696, 0.6813627254509017, 0.6833667334669338, 0.6853707414829658, 0.6873747494989979, 0.68937875751503, 0.691382765531062, 0.6933867735470941, 0.6953907815631262, 0.6973947895791582, 0.6993987975951903, 0.7014028056112224, 0.7034068136272544, 0.7054108216432865, 0.7074148296593186, 0.7094188376753506, 0.7114228456913827, 0.7134268537074148, 0.7154308617234468, 0.7174348697394789, 0.719438877755511, 0.721442885771543, 0.7234468937875751, 0.7254509018036072, 0.7274549098196392, 0.7294589178356713, 0.7314629258517034, 0.7334669338677354, 0.7354709418837675, 0.7374749498997996, 0.7394789579158316, 0.7414829659318637, 0.7434869739478958, 0.7454909819639278, 0.7474949899799599, 0.749498997995992, 0.751503006012024, 0.7535070140280561, 0.7555110220440882, 0.7575150300601202, 0.7595190380761523, 0.7615230460921844, 0.7635270541082164, 0.7655310621242485, 0.7675350701402806, 0.7695390781563125, 0.7715430861723446, 0.7735470941883766, 0.7755511022044087, 0.7775551102204408, 0.7795591182364728, 0.7815631262525049, 0.783567134268537, 0.785571142284569, 0.7875751503006011, 0.7895791583166332, 0.7915831663326652, 0.7935871743486973, 0.7955911823647294, 0.7975951903807614, 0.7995991983967935, 0.8016032064128256, 0.8036072144288576, 0.8056112224448897, 0.8076152304609218, 0.8096192384769538, 0.8116232464929859, 0.813627254509018, 0.81563126252505, 0.8176352705410821, 0.8196392785571142, 0.8216432865731462, 0.8236472945891783, 0.8256513026052104, 0.8276553106212424, 0.8296593186372745, 0.8316633266533066, 0.8336673346693386, 0.8356713426853707, 0.8376753507014028, 0.8396793587174348, 0.8416833667334669, 0.843687374749499, 0.845691382765531, 0.8476953907815631, 0.8496993987975952, 0.8517034068136272, 0.8537074148296593, 0.8557114228456913, 0.8577154308617234, 0.8597194388777555, 0.8617234468937875, 0.8637274549098196, 0.8657314629258517, 0.8677354709418837, 0.8697394789579158, 0.8717434869739479, 0.8737474949899798, 0.8757515030060119, 0.877755511022044, 0.879759519038076, 0.8817635270541081, 0.8837675350701402, 0.8857715430861722, 0.8877755511022043, 0.8897795591182364, 0.8917835671342684, 0.8937875751503005, 0.8957915831663326, 0.8977955911823646, 0.8997995991983967, 0.9018036072144288, 0.9038076152304608, 0.9058116232464929, 0.907815631262525, 0.909819639278557, 0.9118236472945891, 0.9138276553106212, 0.9158316633266532, 0.9178356713426853, 0.9198396793587174, 0.9218436873747494, 0.9238476953907815, 0.9258517034068136, 0.9278557114228456, 0.9298597194388777, 0.9318637274549098, 0.9338677354709418, 0.9358717434869739, 0.937875751503006, 0.939879759519038, 0.9418837675350701, 0.9438877755511021, 0.9458917835671342, 0.9478957915831663, 0.9498997995991983, 0.9519038076152304, 0.9539078156312625, 0.9559118236472945, 0.9579158316633266, 0.9599198396793587, 0.9619238476953907, 0.9639278557114228, 0.9659318637274549, 0.9679358717434869, 0.969939879759519, 0.9719438877755511, 0.9739478957915831, 0.9759519038076151, 0.9779559118236472, 0.9799599198396792, 0.9819639278557113, 0.9839679358717434, 0.9859719438877754, 0.9879759519038075, 0.9899799599198396, 0.9919839679358716, 0.9939879759519037, 0.9959919839679358, 0.9979959919839678, 1.0], \"type\": \"scatter\"}], {}, {\"linkText\": \"Export to plot.ly\", \"showLink\": true})});</script>"
      ]
     },
     "metadata": {},
     "output_type": "display_data"
    }
   ],
   "source": [
    "# example plot of time series\n",
    "\n",
    "# Create random data with numpy\n",
    "import numpy as np\n",
    "\n",
    "N = 500\n",
    "random_x = np.linspace(0, 1, N)\n",
    "random_y = np.random.randn(N)\n",
    "\n",
    "# Create a trace\n",
    "trace = go.Scatter(\n",
    "    x = random_x,\n",
    "    y = random_y\n",
    ")\n",
    "\n",
    "data = [trace]\n",
    "\n",
    "plotly.offline.iplot(data, filename='basic-line')"
   ]
  },
  {
   "cell_type": "code",
   "execution_count": 35,
   "metadata": {},
   "outputs": [
    {
     "data": {
      "application/vnd.plotly.v1+json": {
       "data": [
        {
         "marker": {
          "color": "white"
         },
         "name": "",
         "type": "scatter",
         "x": [
          "2009-01-01",
          "2009-02-30"
         ],
         "y": [
          0,
          0
         ]
        },
        {
         "marker": {
          "color": "white"
         },
         "name": "",
         "type": "scatter",
         "x": [
          "2009-03-05",
          "2009-04-15"
         ],
         "y": [
          1,
          1
         ]
        },
        {
         "marker": {
          "color": "white"
         },
         "name": "",
         "type": "scatter",
         "x": [
          "2009-02-20",
          "2009-05-30"
         ],
         "y": [
          2,
          2
         ]
        }
       ],
       "layout": {
        "height": 600,
        "hovermode": "closest",
        "shapes": [
         {
          "fillcolor": "rgb(31, 119, 180)",
          "line": {
           "width": 0
          },
          "opacity": 1,
          "type": "rect",
          "x0": "2009-01-01",
          "x1": "2009-02-30",
          "xref": "x",
          "y0": -0.2,
          "y1": 0.2,
          "yref": "y"
         },
         {
          "fillcolor": "rgb(255, 127, 14)",
          "line": {
           "width": 0
          },
          "opacity": 1,
          "type": "rect",
          "x0": "2009-03-05",
          "x1": "2009-04-15",
          "xref": "x",
          "y0": 0.8,
          "y1": 1.2,
          "yref": "y"
         },
         {
          "fillcolor": "rgb(44, 160, 44)",
          "line": {
           "width": 0
          },
          "opacity": 1,
          "type": "rect",
          "x0": "2009-02-20",
          "x1": "2009-05-30",
          "xref": "x",
          "y0": 1.8,
          "y1": 2.2,
          "yref": "y"
         }
        ],
        "showlegend": false,
        "title": "Gantt Chart",
        "width": 900,
        "xaxis": {
         "rangeselector": {
          "buttons": [
           {
            "count": 7,
            "label": "1w",
            "step": "day",
            "stepmode": "backward"
           },
           {
            "count": 1,
            "label": "1m",
            "step": "month",
            "stepmode": "backward"
           },
           {
            "count": 6,
            "label": "6m",
            "step": "month",
            "stepmode": "backward"
           },
           {
            "count": 1,
            "label": "YTD",
            "step": "year",
            "stepmode": "todate"
           },
           {
            "count": 1,
            "label": "1y",
            "step": "year",
            "stepmode": "backward"
           },
           {
            "step": "all"
           }
          ]
         },
         "showgrid": false,
         "type": "date",
         "zeroline": false
        },
        "yaxis": {
         "autorange": false,
         "range": [
          -1,
          4
         ],
         "showgrid": false,
         "ticktext": [
          "Job A",
          "Job B",
          "Job C"
         ],
         "tickvals": [
          0,
          1,
          2
         ],
         "zeroline": false
        }
       }
      },
      "text/html": [
       "<div id=\"8dcc23d3-5821-42bf-80b2-4549129f242f\" style=\"height: 600px; width: 900px;\" class=\"plotly-graph-div\"></div><script type=\"text/javascript\">require([\"plotly\"], function(Plotly) { window.PLOTLYENV=window.PLOTLYENV || {};window.PLOTLYENV.BASE_URL=\"https://plot.ly\";Plotly.newPlot(\"8dcc23d3-5821-42bf-80b2-4549129f242f\", [{\"marker\": {\"color\": \"white\"}, \"y\": [0, 0], \"type\": \"scatter\", \"name\": \"\", \"x\": [\"2009-01-01\", \"2009-02-30\"]}, {\"marker\": {\"color\": \"white\"}, \"y\": [1, 1], \"type\": \"scatter\", \"name\": \"\", \"x\": [\"2009-03-05\", \"2009-04-15\"]}, {\"marker\": {\"color\": \"white\"}, \"y\": [2, 2], \"type\": \"scatter\", \"name\": \"\", \"x\": [\"2009-02-20\", \"2009-05-30\"]}], {\"showlegend\": false, \"title\": \"Gantt Chart\", \"yaxis\": {\"showgrid\": false, \"range\": [-1, 4], \"zeroline\": false, \"ticktext\": [\"Job A\", \"Job B\", \"Job C\"], \"autorange\": false, \"tickvals\": [0, 1, 2]}, \"height\": 600, \"shapes\": [{\"opacity\": 1, \"xref\": \"x\", \"yref\": \"y\", \"fillcolor\": \"rgb(31, 119, 180)\", \"y1\": 0.2, \"y0\": -0.2, \"x0\": \"2009-01-01\", \"x1\": \"2009-02-30\", \"type\": \"rect\", \"line\": {\"width\": 0}}, {\"opacity\": 1, \"xref\": \"x\", \"yref\": \"y\", \"fillcolor\": \"rgb(255, 127, 14)\", \"y1\": 1.2, \"y0\": 0.8, \"x0\": \"2009-03-05\", \"x1\": \"2009-04-15\", \"type\": \"rect\", \"line\": {\"width\": 0}}, {\"opacity\": 1, \"xref\": \"x\", \"yref\": \"y\", \"fillcolor\": \"rgb(44, 160, 44)\", \"y1\": 2.2, \"y0\": 1.8, \"x0\": \"2009-02-20\", \"x1\": \"2009-05-30\", \"type\": \"rect\", \"line\": {\"width\": 0}}], \"width\": 900, \"xaxis\": {\"zeroline\": false, \"rangeselector\": {\"buttons\": [{\"count\": 7, \"step\": \"day\", \"stepmode\": \"backward\", \"label\": \"1w\"}, {\"count\": 1, \"step\": \"month\", \"stepmode\": \"backward\", \"label\": \"1m\"}, {\"count\": 6, \"step\": \"month\", \"stepmode\": \"backward\", \"label\": \"6m\"}, {\"count\": 1, \"step\": \"year\", \"stepmode\": \"todate\", \"label\": \"YTD\"}, {\"count\": 1, \"step\": \"year\", \"stepmode\": \"backward\", \"label\": \"1y\"}, {\"step\": \"all\"}]}, \"type\": \"date\", \"showgrid\": false}, \"hovermode\": \"closest\"}, {\"linkText\": \"Export to plot.ly\", \"showLink\": true})});</script>"
      ],
      "text/vnd.plotly.v1+html": [
       "<div id=\"8dcc23d3-5821-42bf-80b2-4549129f242f\" style=\"height: 600px; width: 900px;\" class=\"plotly-graph-div\"></div><script type=\"text/javascript\">require([\"plotly\"], function(Plotly) { window.PLOTLYENV=window.PLOTLYENV || {};window.PLOTLYENV.BASE_URL=\"https://plot.ly\";Plotly.newPlot(\"8dcc23d3-5821-42bf-80b2-4549129f242f\", [{\"marker\": {\"color\": \"white\"}, \"y\": [0, 0], \"type\": \"scatter\", \"name\": \"\", \"x\": [\"2009-01-01\", \"2009-02-30\"]}, {\"marker\": {\"color\": \"white\"}, \"y\": [1, 1], \"type\": \"scatter\", \"name\": \"\", \"x\": [\"2009-03-05\", \"2009-04-15\"]}, {\"marker\": {\"color\": \"white\"}, \"y\": [2, 2], \"type\": \"scatter\", \"name\": \"\", \"x\": [\"2009-02-20\", \"2009-05-30\"]}], {\"showlegend\": false, \"title\": \"Gantt Chart\", \"yaxis\": {\"showgrid\": false, \"range\": [-1, 4], \"zeroline\": false, \"ticktext\": [\"Job A\", \"Job B\", \"Job C\"], \"autorange\": false, \"tickvals\": [0, 1, 2]}, \"height\": 600, \"shapes\": [{\"opacity\": 1, \"xref\": \"x\", \"yref\": \"y\", \"fillcolor\": \"rgb(31, 119, 180)\", \"y1\": 0.2, \"y0\": -0.2, \"x0\": \"2009-01-01\", \"x1\": \"2009-02-30\", \"type\": \"rect\", \"line\": {\"width\": 0}}, {\"opacity\": 1, \"xref\": \"x\", \"yref\": \"y\", \"fillcolor\": \"rgb(255, 127, 14)\", \"y1\": 1.2, \"y0\": 0.8, \"x0\": \"2009-03-05\", \"x1\": \"2009-04-15\", \"type\": \"rect\", \"line\": {\"width\": 0}}, {\"opacity\": 1, \"xref\": \"x\", \"yref\": \"y\", \"fillcolor\": \"rgb(44, 160, 44)\", \"y1\": 2.2, \"y0\": 1.8, \"x0\": \"2009-02-20\", \"x1\": \"2009-05-30\", \"type\": \"rect\", \"line\": {\"width\": 0}}], \"width\": 900, \"xaxis\": {\"zeroline\": false, \"rangeselector\": {\"buttons\": [{\"count\": 7, \"step\": \"day\", \"stepmode\": \"backward\", \"label\": \"1w\"}, {\"count\": 1, \"step\": \"month\", \"stepmode\": \"backward\", \"label\": \"1m\"}, {\"count\": 6, \"step\": \"month\", \"stepmode\": \"backward\", \"label\": \"6m\"}, {\"count\": 1, \"step\": \"year\", \"stepmode\": \"todate\", \"label\": \"YTD\"}, {\"count\": 1, \"step\": \"year\", \"stepmode\": \"backward\", \"label\": \"1y\"}, {\"step\": \"all\"}]}, \"type\": \"date\", \"showgrid\": false}, \"hovermode\": \"closest\"}, {\"linkText\": \"Export to plot.ly\", \"showLink\": true})});</script>"
      ]
     },
     "metadata": {},
     "output_type": "display_data"
    }
   ],
   "source": [
    "# gannt char example\n",
    "\n",
    "import plotly.plotly as py\n",
    "from plotly.figure_factory import create_gantt\n",
    "    \n",
    "# Make data for chart\n",
    "df = [dict(Task=\"Job A\", Start='2009-01-01', Finish='2009-02-30'),\n",
    "      dict(Task=\"Job B\", Start='2009-03-05', Finish='2009-04-15'),\n",
    "      dict(Task=\"Job C\", Start='2009-02-20', Finish='2009-05-30')]\n",
    "    \n",
    "# Create a figure\n",
    "fig = create_gantt(df)\n",
    "    \n",
    "# Plot the data\n",
    "plotly.offline.iplot(fig)"
   ]
  },
  {
   "cell_type": "code",
   "execution_count": 36,
   "metadata": {},
   "outputs": [
    {
     "name": "stdout",
     "output_type": "stream",
     "text": [
      "Help on function create_gantt in module plotly.figure_factory._gantt:\n",
      "\n",
      "create_gantt(df, colors=None, index_col=None, show_colorbar=False, reverse_colors=False, title='Gantt Chart', bar_width=0.2, showgrid_x=False, showgrid_y=False, height=600, width=900, tasks=None, task_names=None, data=None, group_tasks=False)\n",
      "    Returns figure for a gantt chart\n",
      "    \n",
      "    :param (array|list) df: input data for gantt chart. Must be either a\n",
      "        a dataframe or a list. If dataframe, the columns must include\n",
      "        'Task', 'Start' and 'Finish'. Other columns can be included and\n",
      "        used for indexing. If a list, its elements must be dictionaries\n",
      "        with the same required column headers: 'Task', 'Start' and\n",
      "        'Finish'.\n",
      "    :param (str|list|dict|tuple) colors: either a plotly scale name, an\n",
      "        rgb or hex color, a color tuple or a list of colors. An rgb color\n",
      "        is of the form 'rgb(x, y, z)' where x, y, z belong to the interval\n",
      "        [0, 255] and a color tuple is a tuple of the form (a, b, c) where\n",
      "        a, b and c belong to [0, 1]. If colors is a list, it must\n",
      "        contain the valid color types aforementioned as its members.\n",
      "        If a dictionary, all values of the indexing column must be keys in\n",
      "        colors.\n",
      "    :param (str|float) index_col: the column header (if df is a data\n",
      "        frame) that will function as the indexing column. If df is a list,\n",
      "        index_col must be one of the keys in all the items of df.\n",
      "    :param (bool) show_colorbar: determines if colorbar will be visible.\n",
      "        Only applies if values in the index column are numeric.\n",
      "    :param (bool) reverse_colors: reverses the order of selected colors\n",
      "    :param (str) title: the title of the chart\n",
      "    :param (float) bar_width: the width of the horizontal bars in the plot\n",
      "    :param (bool) showgrid_x: show/hide the x-axis grid\n",
      "    :param (bool) showgrid_y: show/hide the y-axis grid\n",
      "    :param (float) height: the height of the chart\n",
      "    :param (float) width: the width of the chart\n",
      "    \n",
      "    Example 1: Simple Gantt Chart\n",
      "    ```\n",
      "    import plotly.plotly as py\n",
      "    from plotly.figure_factory import create_gantt\n",
      "    \n",
      "    # Make data for chart\n",
      "    df = [dict(Task=\"Job A\", Start='2009-01-01', Finish='2009-02-30'),\n",
      "          dict(Task=\"Job B\", Start='2009-03-05', Finish='2009-04-15'),\n",
      "          dict(Task=\"Job C\", Start='2009-02-20', Finish='2009-05-30')]\n",
      "    \n",
      "    # Create a figure\n",
      "    fig = create_gantt(df)\n",
      "    \n",
      "    # Plot the data\n",
      "    py.iplot(fig, filename='Simple Gantt Chart', world_readable=True)\n",
      "    ```\n",
      "    \n",
      "    Example 2: Index by Column with Numerical Entries\n",
      "    ```\n",
      "    import plotly.plotly as py\n",
      "    from plotly.figure_factory import create_gantt\n",
      "    \n",
      "    # Make data for chart\n",
      "    df = [dict(Task=\"Job A\", Start='2009-01-01',\n",
      "               Finish='2009-02-30', Complete=10),\n",
      "          dict(Task=\"Job B\", Start='2009-03-05',\n",
      "               Finish='2009-04-15', Complete=60),\n",
      "          dict(Task=\"Job C\", Start='2009-02-20',\n",
      "               Finish='2009-05-30', Complete=95)]\n",
      "    \n",
      "    # Create a figure with Plotly colorscale\n",
      "    fig = create_gantt(df, colors='Blues', index_col='Complete',\n",
      "                       show_colorbar=True, bar_width=0.5,\n",
      "                       showgrid_x=True, showgrid_y=True)\n",
      "    \n",
      "    # Plot the data\n",
      "    py.iplot(fig, filename='Numerical Entries', world_readable=True)\n",
      "    ```\n",
      "    \n",
      "    Example 3: Index by Column with String Entries\n",
      "    ```\n",
      "    import plotly.plotly as py\n",
      "    from plotly.figure_factory import create_gantt\n",
      "    \n",
      "    # Make data for chart\n",
      "    df = [dict(Task=\"Job A\", Start='2009-01-01',\n",
      "               Finish='2009-02-30', Resource='Apple'),\n",
      "          dict(Task=\"Job B\", Start='2009-03-05',\n",
      "               Finish='2009-04-15', Resource='Grape'),\n",
      "          dict(Task=\"Job C\", Start='2009-02-20',\n",
      "               Finish='2009-05-30', Resource='Banana')]\n",
      "    \n",
      "    # Create a figure with Plotly colorscale\n",
      "    fig = create_gantt(df, colors=['rgb(200, 50, 25)', (1, 0, 1), '#6c4774'],\n",
      "                       index_col='Resource', reverse_colors=True,\n",
      "                       show_colorbar=True)\n",
      "    \n",
      "    # Plot the data\n",
      "    py.iplot(fig, filename='String Entries', world_readable=True)\n",
      "    ```\n",
      "    \n",
      "    Example 4: Use a dictionary for colors\n",
      "    ```\n",
      "    import plotly.plotly as py\n",
      "    from plotly.figure_factory import create_gantt\n",
      "    \n",
      "    # Make data for chart\n",
      "    df = [dict(Task=\"Job A\", Start='2009-01-01',\n",
      "               Finish='2009-02-30', Resource='Apple'),\n",
      "          dict(Task=\"Job B\", Start='2009-03-05',\n",
      "               Finish='2009-04-15', Resource='Grape'),\n",
      "          dict(Task=\"Job C\", Start='2009-02-20',\n",
      "               Finish='2009-05-30', Resource='Banana')]\n",
      "    \n",
      "    # Make a dictionary of colors\n",
      "    colors = {'Apple': 'rgb(255, 0, 0)',\n",
      "              'Grape': 'rgb(170, 14, 200)',\n",
      "              'Banana': (1, 1, 0.2)}\n",
      "    \n",
      "    # Create a figure with Plotly colorscale\n",
      "    fig = create_gantt(df, colors=colors, index_col='Resource',\n",
      "                       show_colorbar=True)\n",
      "    \n",
      "    # Plot the data\n",
      "    py.iplot(fig, filename='dictioanry colors', world_readable=True)\n",
      "    ```\n",
      "    \n",
      "    Example 5: Use a pandas dataframe\n",
      "    ```\n",
      "    import plotly.plotly as py\n",
      "    from plotly.figure_factory import create_gantt\n",
      "    \n",
      "    import pandas as pd\n",
      "    \n",
      "    # Make data as a dataframe\n",
      "    df = pd.DataFrame([['Run', '2010-01-01', '2011-02-02', 10],\n",
      "                       ['Fast', '2011-01-01', '2012-06-05', 55],\n",
      "                       ['Eat', '2012-01-05', '2013-07-05', 94]],\n",
      "                      columns=['Task', 'Start', 'Finish', 'Complete'])\n",
      "    \n",
      "    # Create a figure with Plotly colorscale\n",
      "    fig = create_gantt(df, colors='Blues', index_col='Complete',\n",
      "                       show_colorbar=True, bar_width=0.5,\n",
      "                       showgrid_x=True, showgrid_y=True)\n",
      "    \n",
      "    # Plot the data\n",
      "    py.iplot(fig, filename='data with dataframe', world_readable=True)\n",
      "    ```\n",
      "\n"
     ]
    }
   ],
   "source": [
    "help(ff.create_gantt)"
   ]
  },
  {
   "cell_type": "code",
   "execution_count": 37,
   "metadata": {},
   "outputs": [
    {
     "data": {
      "application/vnd.plotly.v1+json": {
       "data": [
        {
         "marker": {
          "color": "rgba(246, 78, 139, 0.6)",
          "line": {
           "color": "rgba(246, 78, 139, 1.0)",
           "width": 3
          }
         },
         "name": "SF Zoo",
         "orientation": "h",
         "type": "bar",
         "x": [
          20,
          14,
          23
         ],
         "y": [
          "giraffes",
          "orangutans",
          "monkeys"
         ]
        },
        {
         "marker": {
          "color": "rgba(58, 71, 80, 0.6)",
          "line": {
           "color": "rgba(58, 71, 80, 1.0)",
           "width": 3
          }
         },
         "name": "LA Zoo",
         "orientation": "h",
         "type": "bar",
         "x": [
          12,
          18,
          29
         ],
         "y": [
          "giraffes",
          "orangutans",
          "monkeys"
         ]
        }
       ],
       "layout": {
        "barmode": "stack"
       }
      },
      "text/html": [
       "<div id=\"5b93cac5-bd79-4d74-ac59-b4d0bef8390d\" style=\"height: 525px; width: 100%;\" class=\"plotly-graph-div\"></div><script type=\"text/javascript\">require([\"plotly\"], function(Plotly) { window.PLOTLYENV=window.PLOTLYENV || {};window.PLOTLYENV.BASE_URL=\"https://plot.ly\";Plotly.newPlot(\"5b93cac5-bd79-4d74-ac59-b4d0bef8390d\", [{\"orientation\": \"h\", \"marker\": {\"color\": \"rgba(246, 78, 139, 0.6)\", \"line\": {\"color\": \"rgba(246, 78, 139, 1.0)\", \"width\": 3}}, \"y\": [\"giraffes\", \"orangutans\", \"monkeys\"], \"x\": [20, 14, 23], \"type\": \"bar\", \"name\": \"SF Zoo\"}, {\"orientation\": \"h\", \"marker\": {\"color\": \"rgba(58, 71, 80, 0.6)\", \"line\": {\"color\": \"rgba(58, 71, 80, 1.0)\", \"width\": 3}}, \"y\": [\"giraffes\", \"orangutans\", \"monkeys\"], \"x\": [12, 18, 29], \"type\": \"bar\", \"name\": \"LA Zoo\"}], {\"barmode\": \"stack\"}, {\"linkText\": \"Export to plot.ly\", \"showLink\": true})});</script>"
      ],
      "text/vnd.plotly.v1+html": [
       "<div id=\"5b93cac5-bd79-4d74-ac59-b4d0bef8390d\" style=\"height: 525px; width: 100%;\" class=\"plotly-graph-div\"></div><script type=\"text/javascript\">require([\"plotly\"], function(Plotly) { window.PLOTLYENV=window.PLOTLYENV || {};window.PLOTLYENV.BASE_URL=\"https://plot.ly\";Plotly.newPlot(\"5b93cac5-bd79-4d74-ac59-b4d0bef8390d\", [{\"orientation\": \"h\", \"marker\": {\"color\": \"rgba(246, 78, 139, 0.6)\", \"line\": {\"color\": \"rgba(246, 78, 139, 1.0)\", \"width\": 3}}, \"y\": [\"giraffes\", \"orangutans\", \"monkeys\"], \"x\": [20, 14, 23], \"type\": \"bar\", \"name\": \"SF Zoo\"}, {\"orientation\": \"h\", \"marker\": {\"color\": \"rgba(58, 71, 80, 0.6)\", \"line\": {\"color\": \"rgba(58, 71, 80, 1.0)\", \"width\": 3}}, \"y\": [\"giraffes\", \"orangutans\", \"monkeys\"], \"x\": [12, 18, 29], \"type\": \"bar\", \"name\": \"LA Zoo\"}], {\"barmode\": \"stack\"}, {\"linkText\": \"Export to plot.ly\", \"showLink\": true})});</script>"
      ]
     },
     "metadata": {},
     "output_type": "display_data"
    }
   ],
   "source": [
    "# horizontal bar chart example\n",
    "\n",
    "import plotly.plotly as py\n",
    "import plotly.graph_objs as go\n",
    "\n",
    "trace1 = go.Bar(\n",
    "    y=['giraffes', 'orangutans', 'monkeys'],\n",
    "    x=[20, 14, 23],\n",
    "    name='SF Zoo',\n",
    "    orientation = 'h',\n",
    "    marker = dict(\n",
    "        color = 'rgba(246, 78, 139, 0.6)',\n",
    "        line = dict(\n",
    "            color = 'rgba(246, 78, 139, 1.0)',\n",
    "            width = 3)\n",
    "    )\n",
    ")\n",
    "trace2 = go.Bar(\n",
    "    y=['giraffes', 'orangutans', 'monkeys'],\n",
    "    x=[12, 18, 29],\n",
    "    name='LA Zoo',\n",
    "    orientation = 'h',\n",
    "    marker = dict(\n",
    "        color = 'rgba(58, 71, 80, 0.6)',\n",
    "        line = dict(\n",
    "            color = 'rgba(58, 71, 80, 1.0)',\n",
    "            width = 3)\n",
    "    )\n",
    ")\n",
    "\n",
    "data = [trace1, trace2]\n",
    "layout = go.Layout(\n",
    "    barmode='stack'\n",
    ")\n",
    "\n",
    "fig = go.Figure(data=data, layout=layout)\n",
    "plotly.offline.iplot(fig, filename='marker-h-bar')"
   ]
  },
  {
   "cell_type": "code",
   "execution_count": 38,
   "metadata": {},
   "outputs": [
    {
     "data": {
      "application/vnd.plotly.v1+json": {
       "data": [
        {
         "marker": {
          "color": "rgba(38, 24, 74, 0.8)",
          "line": {
           "color": "rgb(248, 248, 249)",
           "width": 1
          }
         },
         "orientation": "h",
         "type": "bar",
         "x": [
          21
         ],
         "y": [
          "The course was effectively<br>organized"
         ]
        },
        {
         "marker": {
          "color": "rgba(38, 24, 74, 0.8)",
          "line": {
           "color": "rgb(248, 248, 249)",
           "width": 1
          }
         },
         "orientation": "h",
         "type": "bar",
         "x": [
          24
         ],
         "y": [
          "The course developed my<br>abilities and skills for<br>the subject"
         ]
        },
        {
         "marker": {
          "color": "rgba(38, 24, 74, 0.8)",
          "line": {
           "color": "rgb(248, 248, 249)",
           "width": 1
          }
         },
         "orientation": "h",
         "type": "bar",
         "x": [
          27
         ],
         "y": [
          "The course developed my<br>ability to think critically about<br>the subject"
         ]
        },
        {
         "marker": {
          "color": "rgba(38, 24, 74, 0.8)",
          "line": {
           "color": "rgb(248, 248, 249)",
           "width": 1
          }
         },
         "orientation": "h",
         "type": "bar",
         "x": [
          29
         ],
         "y": [
          "I would recommend this<br>course to a friend"
         ]
        },
        {
         "marker": {
          "color": "rgba(71, 58, 131, 0.8)",
          "line": {
           "color": "rgb(248, 248, 249)",
           "width": 1
          }
         },
         "orientation": "h",
         "type": "bar",
         "x": [
          30
         ],
         "y": [
          "The course was effectively<br>organized"
         ]
        },
        {
         "marker": {
          "color": "rgba(71, 58, 131, 0.8)",
          "line": {
           "color": "rgb(248, 248, 249)",
           "width": 1
          }
         },
         "orientation": "h",
         "type": "bar",
         "x": [
          31
         ],
         "y": [
          "The course developed my<br>abilities and skills for<br>the subject"
         ]
        },
        {
         "marker": {
          "color": "rgba(71, 58, 131, 0.8)",
          "line": {
           "color": "rgb(248, 248, 249)",
           "width": 1
          }
         },
         "orientation": "h",
         "type": "bar",
         "x": [
          26
         ],
         "y": [
          "The course developed my<br>ability to think critically about<br>the subject"
         ]
        },
        {
         "marker": {
          "color": "rgba(71, 58, 131, 0.8)",
          "line": {
           "color": "rgb(248, 248, 249)",
           "width": 1
          }
         },
         "orientation": "h",
         "type": "bar",
         "x": [
          24
         ],
         "y": [
          "I would recommend this<br>course to a friend"
         ]
        },
        {
         "marker": {
          "color": "rgba(122, 120, 168, 0.8)",
          "line": {
           "color": "rgb(248, 248, 249)",
           "width": 1
          }
         },
         "orientation": "h",
         "type": "bar",
         "x": [
          21
         ],
         "y": [
          "The course was effectively<br>organized"
         ]
        },
        {
         "marker": {
          "color": "rgba(122, 120, 168, 0.8)",
          "line": {
           "color": "rgb(248, 248, 249)",
           "width": 1
          }
         },
         "orientation": "h",
         "type": "bar",
         "x": [
          19
         ],
         "y": [
          "The course developed my<br>abilities and skills for<br>the subject"
         ]
        },
        {
         "marker": {
          "color": "rgba(122, 120, 168, 0.8)",
          "line": {
           "color": "rgb(248, 248, 249)",
           "width": 1
          }
         },
         "orientation": "h",
         "type": "bar",
         "x": [
          23
         ],
         "y": [
          "The course developed my<br>ability to think critically about<br>the subject"
         ]
        },
        {
         "marker": {
          "color": "rgba(122, 120, 168, 0.8)",
          "line": {
           "color": "rgb(248, 248, 249)",
           "width": 1
          }
         },
         "orientation": "h",
         "type": "bar",
         "x": [
          15
         ],
         "y": [
          "I would recommend this<br>course to a friend"
         ]
        },
        {
         "marker": {
          "color": "rgba(164, 163, 204, 0.85)",
          "line": {
           "color": "rgb(248, 248, 249)",
           "width": 1
          }
         },
         "orientation": "h",
         "type": "bar",
         "x": [
          16
         ],
         "y": [
          "The course was effectively<br>organized"
         ]
        },
        {
         "marker": {
          "color": "rgba(164, 163, 204, 0.85)",
          "line": {
           "color": "rgb(248, 248, 249)",
           "width": 1
          }
         },
         "orientation": "h",
         "type": "bar",
         "x": [
          15
         ],
         "y": [
          "The course developed my<br>abilities and skills for<br>the subject"
         ]
        },
        {
         "marker": {
          "color": "rgba(164, 163, 204, 0.85)",
          "line": {
           "color": "rgb(248, 248, 249)",
           "width": 1
          }
         },
         "orientation": "h",
         "type": "bar",
         "x": [
          11
         ],
         "y": [
          "The course developed my<br>ability to think critically about<br>the subject"
         ]
        },
        {
         "marker": {
          "color": "rgba(164, 163, 204, 0.85)",
          "line": {
           "color": "rgb(248, 248, 249)",
           "width": 1
          }
         },
         "orientation": "h",
         "type": "bar",
         "x": [
          18
         ],
         "y": [
          "I would recommend this<br>course to a friend"
         ]
        },
        {
         "marker": {
          "color": "rgba(190, 192, 213, 1)",
          "line": {
           "color": "rgb(248, 248, 249)",
           "width": 1
          }
         },
         "orientation": "h",
         "type": "bar",
         "x": [
          12
         ],
         "y": [
          "The course was effectively<br>organized"
         ]
        },
        {
         "marker": {
          "color": "rgba(190, 192, 213, 1)",
          "line": {
           "color": "rgb(248, 248, 249)",
           "width": 1
          }
         },
         "orientation": "h",
         "type": "bar",
         "x": [
          11
         ],
         "y": [
          "The course developed my<br>abilities and skills for<br>the subject"
         ]
        },
        {
         "marker": {
          "color": "rgba(190, 192, 213, 1)",
          "line": {
           "color": "rgb(248, 248, 249)",
           "width": 1
          }
         },
         "orientation": "h",
         "type": "bar",
         "x": [
          13
         ],
         "y": [
          "The course developed my<br>ability to think critically about<br>the subject"
         ]
        },
        {
         "marker": {
          "color": "rgba(190, 192, 213, 1)",
          "line": {
           "color": "rgb(248, 248, 249)",
           "width": 1
          }
         },
         "orientation": "h",
         "type": "bar",
         "x": [
          14
         ],
         "y": [
          "I would recommend this<br>course to a friend"
         ]
        }
       ],
       "layout": {
        "annotations": [
         {
          "align": "right",
          "font": {
           "color": "rgb(67, 67, 67)",
           "family": "Arial",
           "size": 14
          },
          "showarrow": false,
          "text": "The course was effectively<br>organized",
          "x": 0.14,
          "xanchor": "right",
          "xref": "paper",
          "y": "The course was effectively<br>organized",
          "yref": "y"
         },
         {
          "font": {
           "color": "rgb(248, 248, 255)",
           "family": "Arial",
           "size": 14
          },
          "showarrow": false,
          "text": "21%",
          "x": 10,
          "xref": "x",
          "y": "The course was effectively<br>organized",
          "yref": "y"
         },
         {
          "font": {
           "color": "rgb(248, 248, 255)",
           "family": "Arial",
           "size": 14
          },
          "showarrow": false,
          "text": "30%",
          "x": 36,
          "xref": "x",
          "y": "The course was effectively<br>organized",
          "yref": "y"
         },
         {
          "font": {
           "color": "rgb(248, 248, 255)",
           "family": "Arial",
           "size": 14
          },
          "showarrow": false,
          "text": "21%",
          "x": 61,
          "xref": "x",
          "y": "The course was effectively<br>organized",
          "yref": "y"
         },
         {
          "font": {
           "color": "rgb(248, 248, 255)",
           "family": "Arial",
           "size": 14
          },
          "showarrow": false,
          "text": "16%",
          "x": 80,
          "xref": "x",
          "y": "The course was effectively<br>organized",
          "yref": "y"
         },
         {
          "font": {
           "color": "rgb(248, 248, 255)",
           "family": "Arial",
           "size": 14
          },
          "showarrow": false,
          "text": "12%",
          "x": 94,
          "xref": "x",
          "y": "The course was effectively<br>organized",
          "yref": "y"
         },
         {
          "align": "right",
          "font": {
           "color": "rgb(67, 67, 67)",
           "family": "Arial",
           "size": 14
          },
          "showarrow": false,
          "text": "The course developed my<br>abilities and skills for<br>the subject",
          "x": 0.14,
          "xanchor": "right",
          "xref": "paper",
          "y": "The course developed my<br>abilities and skills for<br>the subject",
          "yref": "y"
         },
         {
          "font": {
           "color": "rgb(248, 248, 255)",
           "family": "Arial",
           "size": 14
          },
          "showarrow": false,
          "text": "24%",
          "x": 12,
          "xref": "x",
          "y": "The course developed my<br>abilities and skills for<br>the subject",
          "yref": "y"
         },
         {
          "font": {
           "color": "rgb(248, 248, 255)",
           "family": "Arial",
           "size": 14
          },
          "showarrow": false,
          "text": "31%",
          "x": 39,
          "xref": "x",
          "y": "The course developed my<br>abilities and skills for<br>the subject",
          "yref": "y"
         },
         {
          "font": {
           "color": "rgb(248, 248, 255)",
           "family": "Arial",
           "size": 14
          },
          "showarrow": false,
          "text": "19%",
          "x": 64,
          "xref": "x",
          "y": "The course developed my<br>abilities and skills for<br>the subject",
          "yref": "y"
         },
         {
          "font": {
           "color": "rgb(248, 248, 255)",
           "family": "Arial",
           "size": 14
          },
          "showarrow": false,
          "text": "15%",
          "x": 81,
          "xref": "x",
          "y": "The course developed my<br>abilities and skills for<br>the subject",
          "yref": "y"
         },
         {
          "font": {
           "color": "rgb(248, 248, 255)",
           "family": "Arial",
           "size": 14
          },
          "showarrow": false,
          "text": "11%",
          "x": 94,
          "xref": "x",
          "y": "The course developed my<br>abilities and skills for<br>the subject",
          "yref": "y"
         },
         {
          "align": "right",
          "font": {
           "color": "rgb(67, 67, 67)",
           "family": "Arial",
           "size": 14
          },
          "showarrow": false,
          "text": "The course developed my<br>ability to think critically about<br>the subject",
          "x": 0.14,
          "xanchor": "right",
          "xref": "paper",
          "y": "The course developed my<br>ability to think critically about<br>the subject",
          "yref": "y"
         },
         {
          "font": {
           "color": "rgb(248, 248, 255)",
           "family": "Arial",
           "size": 14
          },
          "showarrow": false,
          "text": "27%",
          "x": 13,
          "xref": "x",
          "y": "The course developed my<br>ability to think critically about<br>the subject",
          "yref": "y"
         },
         {
          "font": {
           "color": "rgb(248, 248, 255)",
           "family": "Arial",
           "size": 14
          },
          "showarrow": false,
          "text": "26%",
          "x": 40,
          "xref": "x",
          "y": "The course developed my<br>ability to think critically about<br>the subject",
          "yref": "y"
         },
         {
          "font": {
           "color": "rgb(248, 248, 255)",
           "family": "Arial",
           "size": 14
          },
          "showarrow": false,
          "text": "23%",
          "x": 64,
          "xref": "x",
          "y": "The course developed my<br>ability to think critically about<br>the subject",
          "yref": "y"
         },
         {
          "font": {
           "color": "rgb(248, 248, 255)",
           "family": "Arial",
           "size": 14
          },
          "showarrow": false,
          "text": "11%",
          "x": 81,
          "xref": "x",
          "y": "The course developed my<br>ability to think critically about<br>the subject",
          "yref": "y"
         },
         {
          "font": {
           "color": "rgb(248, 248, 255)",
           "family": "Arial",
           "size": 14
          },
          "showarrow": false,
          "text": "13%",
          "x": 93,
          "xref": "x",
          "y": "The course developed my<br>ability to think critically about<br>the subject",
          "yref": "y"
         },
         {
          "align": "right",
          "font": {
           "color": "rgb(67, 67, 67)",
           "family": "Arial",
           "size": 14
          },
          "showarrow": false,
          "text": "I would recommend this<br>course to a friend",
          "x": 0.14,
          "xanchor": "right",
          "xref": "paper",
          "y": "I would recommend this<br>course to a friend",
          "yref": "y"
         },
         {
          "font": {
           "color": "rgb(248, 248, 255)",
           "family": "Arial",
           "size": 14
          },
          "showarrow": false,
          "text": "29%",
          "x": 14,
          "xref": "x",
          "y": "I would recommend this<br>course to a friend",
          "yref": "y"
         },
         {
          "font": {
           "color": "rgb(67, 67, 67)",
           "family": "Arial",
           "size": 14
          },
          "showarrow": false,
          "text": "Strongly<br>agree",
          "x": 14,
          "xref": "x",
          "y": 1.1,
          "yref": "paper"
         },
         {
          "font": {
           "color": "rgb(248, 248, 255)",
           "family": "Arial",
           "size": 14
          },
          "showarrow": false,
          "text": "24%",
          "x": 41,
          "xref": "x",
          "y": "I would recommend this<br>course to a friend",
          "yref": "y"
         },
         {
          "font": {
           "color": "rgb(67, 67, 67)",
           "family": "Arial",
           "size": 14
          },
          "showarrow": false,
          "text": "Agree",
          "x": 41,
          "xref": "x",
          "y": 1.1,
          "yref": "paper"
         },
         {
          "font": {
           "color": "rgb(248, 248, 255)",
           "family": "Arial",
           "size": 14
          },
          "showarrow": false,
          "text": "15%",
          "x": 60,
          "xref": "x",
          "y": "I would recommend this<br>course to a friend",
          "yref": "y"
         },
         {
          "font": {
           "color": "rgb(67, 67, 67)",
           "family": "Arial",
           "size": 14
          },
          "showarrow": false,
          "text": "Neutral",
          "x": 60,
          "xref": "x",
          "y": 1.1,
          "yref": "paper"
         },
         {
          "font": {
           "color": "rgb(248, 248, 255)",
           "family": "Arial",
           "size": 14
          },
          "showarrow": false,
          "text": "18%",
          "x": 77,
          "xref": "x",
          "y": "I would recommend this<br>course to a friend",
          "yref": "y"
         },
         {
          "font": {
           "color": "rgb(67, 67, 67)",
           "family": "Arial",
           "size": 14
          },
          "showarrow": false,
          "text": "Disagree",
          "x": 77,
          "xref": "x",
          "y": 1.1,
          "yref": "paper"
         },
         {
          "font": {
           "color": "rgb(248, 248, 255)",
           "family": "Arial",
           "size": 14
          },
          "showarrow": false,
          "text": "14%",
          "x": 93,
          "xref": "x",
          "y": "I would recommend this<br>course to a friend",
          "yref": "y"
         },
         {
          "font": {
           "color": "rgb(67, 67, 67)",
           "family": "Arial",
           "size": 14
          },
          "showarrow": false,
          "text": "Strongly<br>disagree",
          "x": 93,
          "xref": "x",
          "y": 1.1,
          "yref": "paper"
         }
        ],
        "barmode": "stack",
        "margin": {
         "b": 80,
         "l": 120,
         "r": 10,
         "t": 140
        },
        "paper_bgcolor": "rgb(248, 248, 255)",
        "plot_bgcolor": "rgb(248, 248, 255)",
        "showlegend": false,
        "xaxis": {
         "domain": [
          0.15,
          1
         ],
         "showgrid": false,
         "showline": false,
         "showticklabels": false,
         "zeroline": false
        },
        "yaxis": {
         "showgrid": false,
         "showline": false,
         "showticklabels": false,
         "zeroline": false
        }
       }
      },
      "text/html": [
       "<div id=\"069d978b-8bce-482e-ac00-2f332f644054\" style=\"height: 525px; width: 100%;\" class=\"plotly-graph-div\"></div><script type=\"text/javascript\">require([\"plotly\"], function(Plotly) { window.PLOTLYENV=window.PLOTLYENV || {};window.PLOTLYENV.BASE_URL=\"https://plot.ly\";Plotly.newPlot(\"069d978b-8bce-482e-ac00-2f332f644054\", [{\"marker\": {\"color\": \"rgba(38, 24, 74, 0.8)\", \"line\": {\"color\": \"rgb(248, 248, 249)\", \"width\": 1}}, \"y\": [\"The course was effectively<br>organized\"], \"type\": \"bar\", \"orientation\": \"h\", \"x\": [21]}, {\"marker\": {\"color\": \"rgba(38, 24, 74, 0.8)\", \"line\": {\"color\": \"rgb(248, 248, 249)\", \"width\": 1}}, \"y\": [\"The course developed my<br>abilities and skills for<br>the subject\"], \"type\": \"bar\", \"orientation\": \"h\", \"x\": [24]}, {\"marker\": {\"color\": \"rgba(38, 24, 74, 0.8)\", \"line\": {\"color\": \"rgb(248, 248, 249)\", \"width\": 1}}, \"y\": [\"The course developed my<br>ability to think critically about<br>the subject\"], \"type\": \"bar\", \"orientation\": \"h\", \"x\": [27]}, {\"marker\": {\"color\": \"rgba(38, 24, 74, 0.8)\", \"line\": {\"color\": \"rgb(248, 248, 249)\", \"width\": 1}}, \"y\": [\"I would recommend this<br>course to a friend\"], \"type\": \"bar\", \"orientation\": \"h\", \"x\": [29]}, {\"marker\": {\"color\": \"rgba(71, 58, 131, 0.8)\", \"line\": {\"color\": \"rgb(248, 248, 249)\", \"width\": 1}}, \"y\": [\"The course was effectively<br>organized\"], \"type\": \"bar\", \"orientation\": \"h\", \"x\": [30]}, {\"marker\": {\"color\": \"rgba(71, 58, 131, 0.8)\", \"line\": {\"color\": \"rgb(248, 248, 249)\", \"width\": 1}}, \"y\": [\"The course developed my<br>abilities and skills for<br>the subject\"], \"type\": \"bar\", \"orientation\": \"h\", \"x\": [31]}, {\"marker\": {\"color\": \"rgba(71, 58, 131, 0.8)\", \"line\": {\"color\": \"rgb(248, 248, 249)\", \"width\": 1}}, \"y\": [\"The course developed my<br>ability to think critically about<br>the subject\"], \"type\": \"bar\", \"orientation\": \"h\", \"x\": [26]}, {\"marker\": {\"color\": \"rgba(71, 58, 131, 0.8)\", \"line\": {\"color\": \"rgb(248, 248, 249)\", \"width\": 1}}, \"y\": [\"I would recommend this<br>course to a friend\"], \"type\": \"bar\", \"orientation\": \"h\", \"x\": [24]}, {\"marker\": {\"color\": \"rgba(122, 120, 168, 0.8)\", \"line\": {\"color\": \"rgb(248, 248, 249)\", \"width\": 1}}, \"y\": [\"The course was effectively<br>organized\"], \"type\": \"bar\", \"orientation\": \"h\", \"x\": [21]}, {\"marker\": {\"color\": \"rgba(122, 120, 168, 0.8)\", \"line\": {\"color\": \"rgb(248, 248, 249)\", \"width\": 1}}, \"y\": [\"The course developed my<br>abilities and skills for<br>the subject\"], \"type\": \"bar\", \"orientation\": \"h\", \"x\": [19]}, {\"marker\": {\"color\": \"rgba(122, 120, 168, 0.8)\", \"line\": {\"color\": \"rgb(248, 248, 249)\", \"width\": 1}}, \"y\": [\"The course developed my<br>ability to think critically about<br>the subject\"], \"type\": \"bar\", \"orientation\": \"h\", \"x\": [23]}, {\"marker\": {\"color\": \"rgba(122, 120, 168, 0.8)\", \"line\": {\"color\": \"rgb(248, 248, 249)\", \"width\": 1}}, \"y\": [\"I would recommend this<br>course to a friend\"], \"type\": \"bar\", \"orientation\": \"h\", \"x\": [15]}, {\"marker\": {\"color\": \"rgba(164, 163, 204, 0.85)\", \"line\": {\"color\": \"rgb(248, 248, 249)\", \"width\": 1}}, \"y\": [\"The course was effectively<br>organized\"], \"type\": \"bar\", \"orientation\": \"h\", \"x\": [16]}, {\"marker\": {\"color\": \"rgba(164, 163, 204, 0.85)\", \"line\": {\"color\": \"rgb(248, 248, 249)\", \"width\": 1}}, \"y\": [\"The course developed my<br>abilities and skills for<br>the subject\"], \"type\": \"bar\", \"orientation\": \"h\", \"x\": [15]}, {\"marker\": {\"color\": \"rgba(164, 163, 204, 0.85)\", \"line\": {\"color\": \"rgb(248, 248, 249)\", \"width\": 1}}, \"y\": [\"The course developed my<br>ability to think critically about<br>the subject\"], \"type\": \"bar\", \"orientation\": \"h\", \"x\": [11]}, {\"marker\": {\"color\": \"rgba(164, 163, 204, 0.85)\", \"line\": {\"color\": \"rgb(248, 248, 249)\", \"width\": 1}}, \"y\": [\"I would recommend this<br>course to a friend\"], \"type\": \"bar\", \"orientation\": \"h\", \"x\": [18]}, {\"marker\": {\"color\": \"rgba(190, 192, 213, 1)\", \"line\": {\"color\": \"rgb(248, 248, 249)\", \"width\": 1}}, \"y\": [\"The course was effectively<br>organized\"], \"type\": \"bar\", \"orientation\": \"h\", \"x\": [12]}, {\"marker\": {\"color\": \"rgba(190, 192, 213, 1)\", \"line\": {\"color\": \"rgb(248, 248, 249)\", \"width\": 1}}, \"y\": [\"The course developed my<br>abilities and skills for<br>the subject\"], \"type\": \"bar\", \"orientation\": \"h\", \"x\": [11]}, {\"marker\": {\"color\": \"rgba(190, 192, 213, 1)\", \"line\": {\"color\": \"rgb(248, 248, 249)\", \"width\": 1}}, \"y\": [\"The course developed my<br>ability to think critically about<br>the subject\"], \"type\": \"bar\", \"orientation\": \"h\", \"x\": [13]}, {\"marker\": {\"color\": \"rgba(190, 192, 213, 1)\", \"line\": {\"color\": \"rgb(248, 248, 249)\", \"width\": 1}}, \"y\": [\"I would recommend this<br>course to a friend\"], \"type\": \"bar\", \"orientation\": \"h\", \"x\": [14]}], {\"showlegend\": false, \"yaxis\": {\"zeroline\": false, \"showline\": false, \"showticklabels\": false, \"showgrid\": false}, \"paper_bgcolor\": \"rgb(248, 248, 255)\", \"plot_bgcolor\": \"rgb(248, 248, 255)\", \"barmode\": \"stack\", \"xaxis\": {\"zeroline\": false, \"showline\": false, \"domain\": [0.15, 1], \"showticklabels\": false, \"showgrid\": false}, \"margin\": {\"r\": 10, \"b\": 80, \"t\": 140, \"l\": 120}, \"annotations\": [{\"xref\": \"paper\", \"xanchor\": \"right\", \"yref\": \"y\", \"text\": \"The course was effectively<br>organized\", \"align\": \"right\", \"y\": \"The course was effectively<br>organized\", \"x\": 0.14, \"font\": {\"color\": \"rgb(67, 67, 67)\", \"family\": \"Arial\", \"size\": 14}, \"showarrow\": false}, {\"xref\": \"x\", \"yref\": \"y\", \"text\": \"21%\", \"y\": \"The course was effectively<br>organized\", \"x\": 10, \"font\": {\"color\": \"rgb(248, 248, 255)\", \"family\": \"Arial\", \"size\": 14}, \"showarrow\": false}, {\"xref\": \"x\", \"yref\": \"y\", \"text\": \"30%\", \"y\": \"The course was effectively<br>organized\", \"x\": 36, \"font\": {\"color\": \"rgb(248, 248, 255)\", \"family\": \"Arial\", \"size\": 14}, \"showarrow\": false}, {\"xref\": \"x\", \"yref\": \"y\", \"text\": \"21%\", \"y\": \"The course was effectively<br>organized\", \"x\": 61, \"font\": {\"color\": \"rgb(248, 248, 255)\", \"family\": \"Arial\", \"size\": 14}, \"showarrow\": false}, {\"xref\": \"x\", \"yref\": \"y\", \"text\": \"16%\", \"y\": \"The course was effectively<br>organized\", \"x\": 80, \"font\": {\"color\": \"rgb(248, 248, 255)\", \"family\": \"Arial\", \"size\": 14}, \"showarrow\": false}, {\"xref\": \"x\", \"yref\": \"y\", \"text\": \"12%\", \"y\": \"The course was effectively<br>organized\", \"x\": 94, \"font\": {\"color\": \"rgb(248, 248, 255)\", \"family\": \"Arial\", \"size\": 14}, \"showarrow\": false}, {\"xref\": \"paper\", \"xanchor\": \"right\", \"yref\": \"y\", \"text\": \"The course developed my<br>abilities and skills for<br>the subject\", \"align\": \"right\", \"y\": \"The course developed my<br>abilities and skills for<br>the subject\", \"x\": 0.14, \"font\": {\"color\": \"rgb(67, 67, 67)\", \"family\": \"Arial\", \"size\": 14}, \"showarrow\": false}, {\"xref\": \"x\", \"yref\": \"y\", \"text\": \"24%\", \"y\": \"The course developed my<br>abilities and skills for<br>the subject\", \"x\": 12, \"font\": {\"color\": \"rgb(248, 248, 255)\", \"family\": \"Arial\", \"size\": 14}, \"showarrow\": false}, {\"xref\": \"x\", \"yref\": \"y\", \"text\": \"31%\", \"y\": \"The course developed my<br>abilities and skills for<br>the subject\", \"x\": 39, \"font\": {\"color\": \"rgb(248, 248, 255)\", \"family\": \"Arial\", \"size\": 14}, \"showarrow\": false}, {\"xref\": \"x\", \"yref\": \"y\", \"text\": \"19%\", \"y\": \"The course developed my<br>abilities and skills for<br>the subject\", \"x\": 64, \"font\": {\"color\": \"rgb(248, 248, 255)\", \"family\": \"Arial\", \"size\": 14}, \"showarrow\": false}, {\"xref\": \"x\", \"yref\": \"y\", \"text\": \"15%\", \"y\": \"The course developed my<br>abilities and skills for<br>the subject\", \"x\": 81, \"font\": {\"color\": \"rgb(248, 248, 255)\", \"family\": \"Arial\", \"size\": 14}, \"showarrow\": false}, {\"xref\": \"x\", \"yref\": \"y\", \"text\": \"11%\", \"y\": \"The course developed my<br>abilities and skills for<br>the subject\", \"x\": 94, \"font\": {\"color\": \"rgb(248, 248, 255)\", \"family\": \"Arial\", \"size\": 14}, \"showarrow\": false}, {\"xref\": \"paper\", \"xanchor\": \"right\", \"yref\": \"y\", \"text\": \"The course developed my<br>ability to think critically about<br>the subject\", \"align\": \"right\", \"y\": \"The course developed my<br>ability to think critically about<br>the subject\", \"x\": 0.14, \"font\": {\"color\": \"rgb(67, 67, 67)\", \"family\": \"Arial\", \"size\": 14}, \"showarrow\": false}, {\"xref\": \"x\", \"yref\": \"y\", \"text\": \"27%\", \"y\": \"The course developed my<br>ability to think critically about<br>the subject\", \"x\": 13, \"font\": {\"color\": \"rgb(248, 248, 255)\", \"family\": \"Arial\", \"size\": 14}, \"showarrow\": false}, {\"xref\": \"x\", \"yref\": \"y\", \"text\": \"26%\", \"y\": \"The course developed my<br>ability to think critically about<br>the subject\", \"x\": 40, \"font\": {\"color\": \"rgb(248, 248, 255)\", \"family\": \"Arial\", \"size\": 14}, \"showarrow\": false}, {\"xref\": \"x\", \"yref\": \"y\", \"text\": \"23%\", \"y\": \"The course developed my<br>ability to think critically about<br>the subject\", \"x\": 64, \"font\": {\"color\": \"rgb(248, 248, 255)\", \"family\": \"Arial\", \"size\": 14}, \"showarrow\": false}, {\"xref\": \"x\", \"yref\": \"y\", \"text\": \"11%\", \"y\": \"The course developed my<br>ability to think critically about<br>the subject\", \"x\": 81, \"font\": {\"color\": \"rgb(248, 248, 255)\", \"family\": \"Arial\", \"size\": 14}, \"showarrow\": false}, {\"xref\": \"x\", \"yref\": \"y\", \"text\": \"13%\", \"y\": \"The course developed my<br>ability to think critically about<br>the subject\", \"x\": 93, \"font\": {\"color\": \"rgb(248, 248, 255)\", \"family\": \"Arial\", \"size\": 14}, \"showarrow\": false}, {\"xref\": \"paper\", \"xanchor\": \"right\", \"yref\": \"y\", \"text\": \"I would recommend this<br>course to a friend\", \"align\": \"right\", \"y\": \"I would recommend this<br>course to a friend\", \"x\": 0.14, \"font\": {\"color\": \"rgb(67, 67, 67)\", \"family\": \"Arial\", \"size\": 14}, \"showarrow\": false}, {\"xref\": \"x\", \"yref\": \"y\", \"text\": \"29%\", \"y\": \"I would recommend this<br>course to a friend\", \"x\": 14, \"font\": {\"color\": \"rgb(248, 248, 255)\", \"family\": \"Arial\", \"size\": 14}, \"showarrow\": false}, {\"xref\": \"x\", \"yref\": \"paper\", \"text\": \"Strongly<br>agree\", \"y\": 1.1, \"x\": 14, \"font\": {\"color\": \"rgb(67, 67, 67)\", \"family\": \"Arial\", \"size\": 14}, \"showarrow\": false}, {\"xref\": \"x\", \"yref\": \"y\", \"text\": \"24%\", \"y\": \"I would recommend this<br>course to a friend\", \"x\": 41, \"font\": {\"color\": \"rgb(248, 248, 255)\", \"family\": \"Arial\", \"size\": 14}, \"showarrow\": false}, {\"xref\": \"x\", \"yref\": \"paper\", \"text\": \"Agree\", \"y\": 1.1, \"x\": 41, \"font\": {\"color\": \"rgb(67, 67, 67)\", \"family\": \"Arial\", \"size\": 14}, \"showarrow\": false}, {\"xref\": \"x\", \"yref\": \"y\", \"text\": \"15%\", \"y\": \"I would recommend this<br>course to a friend\", \"x\": 60, \"font\": {\"color\": \"rgb(248, 248, 255)\", \"family\": \"Arial\", \"size\": 14}, \"showarrow\": false}, {\"xref\": \"x\", \"yref\": \"paper\", \"text\": \"Neutral\", \"y\": 1.1, \"x\": 60, \"font\": {\"color\": \"rgb(67, 67, 67)\", \"family\": \"Arial\", \"size\": 14}, \"showarrow\": false}, {\"xref\": \"x\", \"yref\": \"y\", \"text\": \"18%\", \"y\": \"I would recommend this<br>course to a friend\", \"x\": 77, \"font\": {\"color\": \"rgb(248, 248, 255)\", \"family\": \"Arial\", \"size\": 14}, \"showarrow\": false}, {\"xref\": \"x\", \"yref\": \"paper\", \"text\": \"Disagree\", \"y\": 1.1, \"x\": 77, \"font\": {\"color\": \"rgb(67, 67, 67)\", \"family\": \"Arial\", \"size\": 14}, \"showarrow\": false}, {\"xref\": \"x\", \"yref\": \"y\", \"text\": \"14%\", \"y\": \"I would recommend this<br>course to a friend\", \"x\": 93, \"font\": {\"color\": \"rgb(248, 248, 255)\", \"family\": \"Arial\", \"size\": 14}, \"showarrow\": false}, {\"xref\": \"x\", \"yref\": \"paper\", \"text\": \"Strongly<br>disagree\", \"y\": 1.1, \"x\": 93, \"font\": {\"color\": \"rgb(67, 67, 67)\", \"family\": \"Arial\", \"size\": 14}, \"showarrow\": false}]}, {\"linkText\": \"Export to plot.ly\", \"showLink\": true})});</script>"
      ],
      "text/vnd.plotly.v1+html": [
       "<div id=\"069d978b-8bce-482e-ac00-2f332f644054\" style=\"height: 525px; width: 100%;\" class=\"plotly-graph-div\"></div><script type=\"text/javascript\">require([\"plotly\"], function(Plotly) { window.PLOTLYENV=window.PLOTLYENV || {};window.PLOTLYENV.BASE_URL=\"https://plot.ly\";Plotly.newPlot(\"069d978b-8bce-482e-ac00-2f332f644054\", [{\"marker\": {\"color\": \"rgba(38, 24, 74, 0.8)\", \"line\": {\"color\": \"rgb(248, 248, 249)\", \"width\": 1}}, \"y\": [\"The course was effectively<br>organized\"], \"type\": \"bar\", \"orientation\": \"h\", \"x\": [21]}, {\"marker\": {\"color\": \"rgba(38, 24, 74, 0.8)\", \"line\": {\"color\": \"rgb(248, 248, 249)\", \"width\": 1}}, \"y\": [\"The course developed my<br>abilities and skills for<br>the subject\"], \"type\": \"bar\", \"orientation\": \"h\", \"x\": [24]}, {\"marker\": {\"color\": \"rgba(38, 24, 74, 0.8)\", \"line\": {\"color\": \"rgb(248, 248, 249)\", \"width\": 1}}, \"y\": [\"The course developed my<br>ability to think critically about<br>the subject\"], \"type\": \"bar\", \"orientation\": \"h\", \"x\": [27]}, {\"marker\": {\"color\": \"rgba(38, 24, 74, 0.8)\", \"line\": {\"color\": \"rgb(248, 248, 249)\", \"width\": 1}}, \"y\": [\"I would recommend this<br>course to a friend\"], \"type\": \"bar\", \"orientation\": \"h\", \"x\": [29]}, {\"marker\": {\"color\": \"rgba(71, 58, 131, 0.8)\", \"line\": {\"color\": \"rgb(248, 248, 249)\", \"width\": 1}}, \"y\": [\"The course was effectively<br>organized\"], \"type\": \"bar\", \"orientation\": \"h\", \"x\": [30]}, {\"marker\": {\"color\": \"rgba(71, 58, 131, 0.8)\", \"line\": {\"color\": \"rgb(248, 248, 249)\", \"width\": 1}}, \"y\": [\"The course developed my<br>abilities and skills for<br>the subject\"], \"type\": \"bar\", \"orientation\": \"h\", \"x\": [31]}, {\"marker\": {\"color\": \"rgba(71, 58, 131, 0.8)\", \"line\": {\"color\": \"rgb(248, 248, 249)\", \"width\": 1}}, \"y\": [\"The course developed my<br>ability to think critically about<br>the subject\"], \"type\": \"bar\", \"orientation\": \"h\", \"x\": [26]}, {\"marker\": {\"color\": \"rgba(71, 58, 131, 0.8)\", \"line\": {\"color\": \"rgb(248, 248, 249)\", \"width\": 1}}, \"y\": [\"I would recommend this<br>course to a friend\"], \"type\": \"bar\", \"orientation\": \"h\", \"x\": [24]}, {\"marker\": {\"color\": \"rgba(122, 120, 168, 0.8)\", \"line\": {\"color\": \"rgb(248, 248, 249)\", \"width\": 1}}, \"y\": [\"The course was effectively<br>organized\"], \"type\": \"bar\", \"orientation\": \"h\", \"x\": [21]}, {\"marker\": {\"color\": \"rgba(122, 120, 168, 0.8)\", \"line\": {\"color\": \"rgb(248, 248, 249)\", \"width\": 1}}, \"y\": [\"The course developed my<br>abilities and skills for<br>the subject\"], \"type\": \"bar\", \"orientation\": \"h\", \"x\": [19]}, {\"marker\": {\"color\": \"rgba(122, 120, 168, 0.8)\", \"line\": {\"color\": \"rgb(248, 248, 249)\", \"width\": 1}}, \"y\": [\"The course developed my<br>ability to think critically about<br>the subject\"], \"type\": \"bar\", \"orientation\": \"h\", \"x\": [23]}, {\"marker\": {\"color\": \"rgba(122, 120, 168, 0.8)\", \"line\": {\"color\": \"rgb(248, 248, 249)\", \"width\": 1}}, \"y\": [\"I would recommend this<br>course to a friend\"], \"type\": \"bar\", \"orientation\": \"h\", \"x\": [15]}, {\"marker\": {\"color\": \"rgba(164, 163, 204, 0.85)\", \"line\": {\"color\": \"rgb(248, 248, 249)\", \"width\": 1}}, \"y\": [\"The course was effectively<br>organized\"], \"type\": \"bar\", \"orientation\": \"h\", \"x\": [16]}, {\"marker\": {\"color\": \"rgba(164, 163, 204, 0.85)\", \"line\": {\"color\": \"rgb(248, 248, 249)\", \"width\": 1}}, \"y\": [\"The course developed my<br>abilities and skills for<br>the subject\"], \"type\": \"bar\", \"orientation\": \"h\", \"x\": [15]}, {\"marker\": {\"color\": \"rgba(164, 163, 204, 0.85)\", \"line\": {\"color\": \"rgb(248, 248, 249)\", \"width\": 1}}, \"y\": [\"The course developed my<br>ability to think critically about<br>the subject\"], \"type\": \"bar\", \"orientation\": \"h\", \"x\": [11]}, {\"marker\": {\"color\": \"rgba(164, 163, 204, 0.85)\", \"line\": {\"color\": \"rgb(248, 248, 249)\", \"width\": 1}}, \"y\": [\"I would recommend this<br>course to a friend\"], \"type\": \"bar\", \"orientation\": \"h\", \"x\": [18]}, {\"marker\": {\"color\": \"rgba(190, 192, 213, 1)\", \"line\": {\"color\": \"rgb(248, 248, 249)\", \"width\": 1}}, \"y\": [\"The course was effectively<br>organized\"], \"type\": \"bar\", \"orientation\": \"h\", \"x\": [12]}, {\"marker\": {\"color\": \"rgba(190, 192, 213, 1)\", \"line\": {\"color\": \"rgb(248, 248, 249)\", \"width\": 1}}, \"y\": [\"The course developed my<br>abilities and skills for<br>the subject\"], \"type\": \"bar\", \"orientation\": \"h\", \"x\": [11]}, {\"marker\": {\"color\": \"rgba(190, 192, 213, 1)\", \"line\": {\"color\": \"rgb(248, 248, 249)\", \"width\": 1}}, \"y\": [\"The course developed my<br>ability to think critically about<br>the subject\"], \"type\": \"bar\", \"orientation\": \"h\", \"x\": [13]}, {\"marker\": {\"color\": \"rgba(190, 192, 213, 1)\", \"line\": {\"color\": \"rgb(248, 248, 249)\", \"width\": 1}}, \"y\": [\"I would recommend this<br>course to a friend\"], \"type\": \"bar\", \"orientation\": \"h\", \"x\": [14]}], {\"showlegend\": false, \"yaxis\": {\"zeroline\": false, \"showline\": false, \"showticklabels\": false, \"showgrid\": false}, \"paper_bgcolor\": \"rgb(248, 248, 255)\", \"plot_bgcolor\": \"rgb(248, 248, 255)\", \"barmode\": \"stack\", \"xaxis\": {\"zeroline\": false, \"showline\": false, \"domain\": [0.15, 1], \"showticklabels\": false, \"showgrid\": false}, \"margin\": {\"r\": 10, \"b\": 80, \"t\": 140, \"l\": 120}, \"annotations\": [{\"xref\": \"paper\", \"xanchor\": \"right\", \"yref\": \"y\", \"text\": \"The course was effectively<br>organized\", \"align\": \"right\", \"y\": \"The course was effectively<br>organized\", \"x\": 0.14, \"font\": {\"color\": \"rgb(67, 67, 67)\", \"family\": \"Arial\", \"size\": 14}, \"showarrow\": false}, {\"xref\": \"x\", \"yref\": \"y\", \"text\": \"21%\", \"y\": \"The course was effectively<br>organized\", \"x\": 10, \"font\": {\"color\": \"rgb(248, 248, 255)\", \"family\": \"Arial\", \"size\": 14}, \"showarrow\": false}, {\"xref\": \"x\", \"yref\": \"y\", \"text\": \"30%\", \"y\": \"The course was effectively<br>organized\", \"x\": 36, \"font\": {\"color\": \"rgb(248, 248, 255)\", \"family\": \"Arial\", \"size\": 14}, \"showarrow\": false}, {\"xref\": \"x\", \"yref\": \"y\", \"text\": \"21%\", \"y\": \"The course was effectively<br>organized\", \"x\": 61, \"font\": {\"color\": \"rgb(248, 248, 255)\", \"family\": \"Arial\", \"size\": 14}, \"showarrow\": false}, {\"xref\": \"x\", \"yref\": \"y\", \"text\": \"16%\", \"y\": \"The course was effectively<br>organized\", \"x\": 80, \"font\": {\"color\": \"rgb(248, 248, 255)\", \"family\": \"Arial\", \"size\": 14}, \"showarrow\": false}, {\"xref\": \"x\", \"yref\": \"y\", \"text\": \"12%\", \"y\": \"The course was effectively<br>organized\", \"x\": 94, \"font\": {\"color\": \"rgb(248, 248, 255)\", \"family\": \"Arial\", \"size\": 14}, \"showarrow\": false}, {\"xref\": \"paper\", \"xanchor\": \"right\", \"yref\": \"y\", \"text\": \"The course developed my<br>abilities and skills for<br>the subject\", \"align\": \"right\", \"y\": \"The course developed my<br>abilities and skills for<br>the subject\", \"x\": 0.14, \"font\": {\"color\": \"rgb(67, 67, 67)\", \"family\": \"Arial\", \"size\": 14}, \"showarrow\": false}, {\"xref\": \"x\", \"yref\": \"y\", \"text\": \"24%\", \"y\": \"The course developed my<br>abilities and skills for<br>the subject\", \"x\": 12, \"font\": {\"color\": \"rgb(248, 248, 255)\", \"family\": \"Arial\", \"size\": 14}, \"showarrow\": false}, {\"xref\": \"x\", \"yref\": \"y\", \"text\": \"31%\", \"y\": \"The course developed my<br>abilities and skills for<br>the subject\", \"x\": 39, \"font\": {\"color\": \"rgb(248, 248, 255)\", \"family\": \"Arial\", \"size\": 14}, \"showarrow\": false}, {\"xref\": \"x\", \"yref\": \"y\", \"text\": \"19%\", \"y\": \"The course developed my<br>abilities and skills for<br>the subject\", \"x\": 64, \"font\": {\"color\": \"rgb(248, 248, 255)\", \"family\": \"Arial\", \"size\": 14}, \"showarrow\": false}, {\"xref\": \"x\", \"yref\": \"y\", \"text\": \"15%\", \"y\": \"The course developed my<br>abilities and skills for<br>the subject\", \"x\": 81, \"font\": {\"color\": \"rgb(248, 248, 255)\", \"family\": \"Arial\", \"size\": 14}, \"showarrow\": false}, {\"xref\": \"x\", \"yref\": \"y\", \"text\": \"11%\", \"y\": \"The course developed my<br>abilities and skills for<br>the subject\", \"x\": 94, \"font\": {\"color\": \"rgb(248, 248, 255)\", \"family\": \"Arial\", \"size\": 14}, \"showarrow\": false}, {\"xref\": \"paper\", \"xanchor\": \"right\", \"yref\": \"y\", \"text\": \"The course developed my<br>ability to think critically about<br>the subject\", \"align\": \"right\", \"y\": \"The course developed my<br>ability to think critically about<br>the subject\", \"x\": 0.14, \"font\": {\"color\": \"rgb(67, 67, 67)\", \"family\": \"Arial\", \"size\": 14}, \"showarrow\": false}, {\"xref\": \"x\", \"yref\": \"y\", \"text\": \"27%\", \"y\": \"The course developed my<br>ability to think critically about<br>the subject\", \"x\": 13, \"font\": {\"color\": \"rgb(248, 248, 255)\", \"family\": \"Arial\", \"size\": 14}, \"showarrow\": false}, {\"xref\": \"x\", \"yref\": \"y\", \"text\": \"26%\", \"y\": \"The course developed my<br>ability to think critically about<br>the subject\", \"x\": 40, \"font\": {\"color\": \"rgb(248, 248, 255)\", \"family\": \"Arial\", \"size\": 14}, \"showarrow\": false}, {\"xref\": \"x\", \"yref\": \"y\", \"text\": \"23%\", \"y\": \"The course developed my<br>ability to think critically about<br>the subject\", \"x\": 64, \"font\": {\"color\": \"rgb(248, 248, 255)\", \"family\": \"Arial\", \"size\": 14}, \"showarrow\": false}, {\"xref\": \"x\", \"yref\": \"y\", \"text\": \"11%\", \"y\": \"The course developed my<br>ability to think critically about<br>the subject\", \"x\": 81, \"font\": {\"color\": \"rgb(248, 248, 255)\", \"family\": \"Arial\", \"size\": 14}, \"showarrow\": false}, {\"xref\": \"x\", \"yref\": \"y\", \"text\": \"13%\", \"y\": \"The course developed my<br>ability to think critically about<br>the subject\", \"x\": 93, \"font\": {\"color\": \"rgb(248, 248, 255)\", \"family\": \"Arial\", \"size\": 14}, \"showarrow\": false}, {\"xref\": \"paper\", \"xanchor\": \"right\", \"yref\": \"y\", \"text\": \"I would recommend this<br>course to a friend\", \"align\": \"right\", \"y\": \"I would recommend this<br>course to a friend\", \"x\": 0.14, \"font\": {\"color\": \"rgb(67, 67, 67)\", \"family\": \"Arial\", \"size\": 14}, \"showarrow\": false}, {\"xref\": \"x\", \"yref\": \"y\", \"text\": \"29%\", \"y\": \"I would recommend this<br>course to a friend\", \"x\": 14, \"font\": {\"color\": \"rgb(248, 248, 255)\", \"family\": \"Arial\", \"size\": 14}, \"showarrow\": false}, {\"xref\": \"x\", \"yref\": \"paper\", \"text\": \"Strongly<br>agree\", \"y\": 1.1, \"x\": 14, \"font\": {\"color\": \"rgb(67, 67, 67)\", \"family\": \"Arial\", \"size\": 14}, \"showarrow\": false}, {\"xref\": \"x\", \"yref\": \"y\", \"text\": \"24%\", \"y\": \"I would recommend this<br>course to a friend\", \"x\": 41, \"font\": {\"color\": \"rgb(248, 248, 255)\", \"family\": \"Arial\", \"size\": 14}, \"showarrow\": false}, {\"xref\": \"x\", \"yref\": \"paper\", \"text\": \"Agree\", \"y\": 1.1, \"x\": 41, \"font\": {\"color\": \"rgb(67, 67, 67)\", \"family\": \"Arial\", \"size\": 14}, \"showarrow\": false}, {\"xref\": \"x\", \"yref\": \"y\", \"text\": \"15%\", \"y\": \"I would recommend this<br>course to a friend\", \"x\": 60, \"font\": {\"color\": \"rgb(248, 248, 255)\", \"family\": \"Arial\", \"size\": 14}, \"showarrow\": false}, {\"xref\": \"x\", \"yref\": \"paper\", \"text\": \"Neutral\", \"y\": 1.1, \"x\": 60, \"font\": {\"color\": \"rgb(67, 67, 67)\", \"family\": \"Arial\", \"size\": 14}, \"showarrow\": false}, {\"xref\": \"x\", \"yref\": \"y\", \"text\": \"18%\", \"y\": \"I would recommend this<br>course to a friend\", \"x\": 77, \"font\": {\"color\": \"rgb(248, 248, 255)\", \"family\": \"Arial\", \"size\": 14}, \"showarrow\": false}, {\"xref\": \"x\", \"yref\": \"paper\", \"text\": \"Disagree\", \"y\": 1.1, \"x\": 77, \"font\": {\"color\": \"rgb(67, 67, 67)\", \"family\": \"Arial\", \"size\": 14}, \"showarrow\": false}, {\"xref\": \"x\", \"yref\": \"y\", \"text\": \"14%\", \"y\": \"I would recommend this<br>course to a friend\", \"x\": 93, \"font\": {\"color\": \"rgb(248, 248, 255)\", \"family\": \"Arial\", \"size\": 14}, \"showarrow\": false}, {\"xref\": \"x\", \"yref\": \"paper\", \"text\": \"Strongly<br>disagree\", \"y\": 1.1, \"x\": 93, \"font\": {\"color\": \"rgb(67, 67, 67)\", \"family\": \"Arial\", \"size\": 14}, \"showarrow\": false}]}, {\"linkText\": \"Export to plot.ly\", \"showLink\": true})});</script>"
      ]
     },
     "metadata": {},
     "output_type": "display_data"
    }
   ],
   "source": [
    "# anoterh horizontal bar chart example\n",
    "# Plotly Example: Color Palette for Bar Chart\n",
    "#   https://plot.ly/python/horizontal-bar-charts/\n",
    "\n",
    "import plotly.plotly as py\n",
    "import plotly.graph_objs as go\n",
    "\n",
    "# initialize variables \n",
    "x_data = []\n",
    "y_data = []\n",
    "traces = []\n",
    "annotations = []\n",
    "\n",
    "top_labels = ['Strongly<br>agree', 'Agree', 'Neutral', 'Disagree',\n",
    "              'Strongly<br>disagree']\n",
    "\n",
    "colors = ['rgba(38, 24, 74, 0.8)', 'rgba(71, 58, 131, 0.8)',\n",
    "          'rgba(122, 120, 168, 0.8)', 'rgba(164, 163, 204, 0.85)',\n",
    "          'rgba(190, 192, 213, 1)']\n",
    "\n",
    "x_data = [[21, 30, 21, 16, 12],\n",
    "          [24, 31, 19, 15, 11],\n",
    "          [27, 26, 23, 11, 13],\n",
    "          [29, 24, 15, 18, 14]]\n",
    "\n",
    "y_data = ['The course was effectively<br>organized',\n",
    "          'The course developed my<br>abilities and skills ' +\n",
    "          'for<br>the subject', 'The course developed ' +\n",
    "          'my<br>ability to think critically about<br>the subject',\n",
    "          'I would recommend this<br>course to a friend']\n",
    "\n",
    "for i in range(0, len(x_data[0])):\n",
    "    for xd, yd in zip(x_data, y_data):\n",
    "        traces.append(go.Bar(\n",
    "#            x=xd[i],\n",
    "#            y=yd,\n",
    "            x=[xd[i]],                                                    #x,y must be list (also if only 1 item)\n",
    "            y=[yd],\n",
    "            orientation='h',\n",
    "            marker=dict(\n",
    "                color=colors[i],\n",
    "                line=dict(\n",
    "                        color='rgb(248, 248, 249)',\n",
    "                        width=1)\n",
    "            )\n",
    "        ))\n",
    "        \n",
    "layout = go.Layout(\n",
    "    xaxis=dict(\n",
    "        showgrid=False,\n",
    "        showline=False,\n",
    "        showticklabels=False,\n",
    "        zeroline=False,\n",
    "        domain=[0.15, 1]\n",
    "    ),\n",
    "    yaxis=dict(\n",
    "        showgrid=False,\n",
    "        showline=False,\n",
    "        showticklabels=False,\n",
    "        zeroline=False,\n",
    "    ),\n",
    "    barmode='stack',\n",
    "    paper_bgcolor='rgb(248, 248, 255)',\n",
    "    plot_bgcolor='rgb(248, 248, 255)',\n",
    "    margin=dict(\n",
    "        l=120,\n",
    "        r=10,\n",
    "        t=140,\n",
    "        b=80\n",
    "    ),\n",
    "    showlegend=False,\n",
    ")\n",
    "\n",
    "for yd, xd in zip(y_data, x_data):\n",
    "    # labeling the y-axis\n",
    "    annotations.append(dict(xref='paper', yref='y',\n",
    "                            x=0.14, y=yd,\n",
    "                            xanchor='right',\n",
    "                            text=str(yd),\n",
    "                            font=dict(family='Arial', size=14,\n",
    "                                      color='rgb(67, 67, 67)'),\n",
    "                            showarrow=False, align='right'))\n",
    "    # labeling the first percentage of each bar (x_axis)\n",
    "    annotations.append(dict(xref='x', yref='y',\n",
    "                            x=xd[0] / 2, y=yd,\n",
    "                            text=str(xd[0]) + '%',\n",
    "                            font=dict(family='Arial', size=14,\n",
    "                                      color='rgb(248, 248, 255)'),\n",
    "                            showarrow=False))\n",
    "    # labeling the first Likert scale (on the top)\n",
    "    if yd == y_data[-1]:\n",
    "        annotations.append(dict(xref='x', yref='paper',\n",
    "                                x=xd[0] / 2, y=1.1,\n",
    "                                text=top_labels[0],\n",
    "                                font=dict(family='Arial', size=14,\n",
    "                                          color='rgb(67, 67, 67)'),\n",
    "                                showarrow=False))\n",
    "    space = xd[0]\n",
    "    for i in range(1, len(xd)):\n",
    "            # labeling the rest of percentages for each bar (x_axis)\n",
    "            annotations.append(dict(xref='x', yref='y',\n",
    "                                    x=space + (xd[i]/2), y=yd, \n",
    "                                    text=str(xd[i]) + '%',\n",
    "                                    font=dict(family='Arial', size=14,\n",
    "                                              color='rgb(248, 248, 255)'),\n",
    "                                    showarrow=False))\n",
    "            # labeling the Likert scale\n",
    "            if yd == y_data[-1]:\n",
    "                annotations.append(dict(xref='x', yref='paper',\n",
    "                                        x=space + (xd[i]/2), y=1.1,\n",
    "                                        text=top_labels[i],\n",
    "                                        font=dict(family='Arial', size=14,\n",
    "                                                  color='rgb(67, 67, 67)'),\n",
    "                                        showarrow=False))\n",
    "            space += xd[i]\n",
    "\n",
    "layout['annotations'] = annotations\n",
    "\n",
    "fig = go.Figure(data=traces, layout=layout)\n",
    "plotly.offline.iplot(fig, filename='bar-colorscale')"
   ]
  },
  {
   "cell_type": "code",
   "execution_count": null,
   "metadata": {
    "collapsed": true
   },
   "outputs": [],
   "source": []
  }
 ],
 "metadata": {
  "kernelspec": {
   "display_name": "Python 2",
   "language": "python",
   "name": "python2"
  },
  "language_info": {
   "codemirror_mode": {
    "name": "ipython",
    "version": 2
   },
   "file_extension": ".py",
   "mimetype": "text/x-python",
   "name": "python",
   "nbconvert_exporter": "python",
   "pygments_lexer": "ipython2",
   "version": "2.7.12"
  }
 },
 "nbformat": 4,
 "nbformat_minor": 2
}
