{
 "cells": [
  {
   "cell_type": "code",
   "execution_count": 19,
   "metadata": {},
   "outputs": [
    {
     "data": {
      "text/plain": [
       "{u'email': u'kingarthur@couchbase.com',\n",
       " u'interests': [u'Holy Grail', u'African Swallows'],\n",
       " u'name': u'Arthur'}"
      ]
     },
     "execution_count": 19,
     "metadata": {},
     "output_type": "execute_result"
    }
   ],
   "source": [
    "from couchbase.bucket import Bucket\n",
    "cb = Bucket('couchbase://localhost/default')\n",
    "cb.get('u:king_arthur').value "
   ]
  },
  {
   "cell_type": "code",
   "execution_count": 20,
   "metadata": {},
   "outputs": [
    {
     "name": "stdout",
     "output_type": "stream",
     "text": [
      "{u'name': u'Arthur'}\n"
     ]
    }
   ],
   "source": [
    "from couchbase.n1ql import N1QLQuery\n",
    "row_iter = cb.n1ql_query(N1QLQuery('SELECT name FROM default WHERE ' +\\\n",
    "      '$1 IN interests', 'African Swallows'))\n",
    "for row in row_iter: print row"
   ]
  },
  {
   "cell_type": "code",
   "execution_count": null,
   "metadata": {
    "collapsed": true
   },
   "outputs": [],
   "source": []
  }
 ],
 "metadata": {
  "kernelspec": {
   "display_name": "Python 2",
   "language": "python",
   "name": "python2"
  },
  "language_info": {
   "codemirror_mode": {
    "name": "ipython",
    "version": 2
   },
   "file_extension": ".py",
   "mimetype": "text/x-python",
   "name": "python",
   "nbconvert_exporter": "python",
   "pygments_lexer": "ipython2",
   "version": "2.7.12"
  }
 },
 "nbformat": 4,
 "nbformat_minor": 2
}
