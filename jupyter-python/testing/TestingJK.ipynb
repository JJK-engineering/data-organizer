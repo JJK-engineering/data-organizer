{
 "cells": [
  {
   "cell_type": "markdown",
   "metadata": {
    "deletable": true,
    "editable": true
   },
   "source": [
    "# Geotechnical Data Organiser - Example Usage"
   ]
  },
  {
   "cell_type": "markdown",
   "metadata": {
    "collapsed": true,
    "deletable": true,
    "editable": true
   },
   "source": [
    "### Get Parameters (reference from Alan)\n"
   ]
  },
  {
   "cell_type": "code",
   "execution_count": 1,
   "metadata": {
    "collapsed": false,
    "deletable": true,
    "editable": true
   },
   "outputs": [
    {
     "name": "stdout",
     "output_type": "stream",
     "text": [
      "{\"laboratory\": \"Khon Kaen University\", \"value_unit\": \"MPa\", \"value\": 24630}\n",
      "{\"laboratory\": \"Khon Kaen University\", \"value_unit\": \"MPa\", \"value\": 18100}\n"
     ]
    }
   ],
   "source": [
    "import json\n",
    "\n",
    "from DataOrganizer import CouchbaseSelector\n",
    "\n",
    "db = CouchbaseSelector('localhost','nem-data')\n",
    "\n",
    "parameter = 'E'\n",
    "fields = ['laboratory', 'value', 'value_unit']\n",
    "selector = {'data_source': 'laboratory'}\n",
    "\n",
    "E=[]   #E = {}\n",
    "for rec in db.get_parameter(parameter, fields, selector):\n",
    "    print json.dumps(rec)\n",
    "    E.append(rec)   #E.update(rec)\n"
   ]
  },
  {
   "cell_type": "code",
   "execution_count": 75,
   "metadata": {
    "collapsed": false,
    "deletable": true,
    "editable": true
   },
   "outputs": [
    {
     "data": {
      "text/plain": [
       "dict"
      ]
     },
     "execution_count": 75,
     "metadata": {},
     "output_type": "execute_result"
    }
   ],
   "source": [
    "type(E[0])"
   ]
  },
  {
   "cell_type": "code",
   "execution_count": 76,
   "metadata": {
    "collapsed": false,
    "deletable": true,
    "editable": true
   },
   "outputs": [
    {
     "data": {
      "text/plain": [
       "{u'laboratory': u'Khon Kaen University',\n",
       " u'value': 24630,\n",
       " u'value_unit': u'MPa'}"
      ]
     },
     "execution_count": 76,
     "metadata": {},
     "output_type": "execute_result"
    }
   ],
   "source": [
    "E[0]"
   ]
  },
  {
   "cell_type": "code",
   "execution_count": 77,
   "metadata": {
    "collapsed": false,
    "deletable": true,
    "editable": true
   },
   "outputs": [
    {
     "data": {
      "text/plain": [
       "24630"
      ]
     },
     "execution_count": 77,
     "metadata": {},
     "output_type": "execute_result"
    }
   ],
   "source": [
    "E[0]['value']"
   ]
  },
  {
   "cell_type": "code",
   "execution_count": 79,
   "metadata": {
    "collapsed": false,
    "deletable": true,
    "editable": true
   },
   "outputs": [
    {
     "name": "stdout",
     "output_type": "stream",
     "text": [
      "{'value': 24630, 'value_unit': 'KPa'}\n",
      "{'value': 18.1, 'value_unit': 'MPa'}\n",
      "[24630, 18100.0]\n"
     ]
    }
   ],
   "source": [
    "#values=[]\n",
    "#for rec in recs:\n",
    "#  values.append(rec['value'])\n",
    "#print values\n",
    "\n",
    "# Example with hard-coded data, note value_units: MPa vs. KPa\n",
    "\n",
    "recs = [{\"value_unit\": \"KPa\", \"value\": 24630}, \n",
    "        {\"value_unit\": \"MPa\", \"value\": 18.100}, \n",
    "        # {\"value_unit\": \"m/sec\", \"value\": 0} \n",
    "       ]\n",
    "\n",
    "values = []\n",
    "for rec in recs:\n",
    "    print rec\n",
    "    if rec.get('value_unit') == 'KPa':  # dict.get(key) doesn't throw error when key not found, vs. dict[key]\n",
    "        values.append(rec['value'])\n",
    "    elif rec['value_unit'] == 'MPa': # MPa\n",
    "        values.append(rec['value']*1000)\n",
    "    else:\n",
    "        raise ValueError(\"Invalid units: \"+str(rec['value_unit']))\n",
    "        \n",
    "print values"
   ]
  },
  {
   "cell_type": "markdown",
   "metadata": {
    "deletable": true,
    "editable": true
   },
   "source": [
    "### TESTING JK"
   ]
  },
  {
   "cell_type": "code",
   "execution_count": 80,
   "metadata": {
    "collapsed": false,
    "deletable": true,
    "editable": true
   },
   "outputs": [],
   "source": [
    "# define class ElasticityModule for handling data associated with elastic parameters\n",
    "# reference data are E,nu (e.g. these are the data stored in the database)\n",
    "#   Is there a better way of doing this?                                                                  ToDo JK\n",
    "class ElasticityModule(list):\n",
    "    \"\"\"conversion between elasticity parameters\"\"\"\n",
    "    def toG(self):  #method for converting E-modulus to G-modulus\n",
    "        # print(self)\n",
    "        G=[i /(2*(1+nu)) for i in self]\n",
    "        return G\n",
    "    # to be continues with methods for other elasticity parameters\n",
    "    \n",
    "# instantiate E as an instance of class ElasticityModule \n",
    "# lower case is preferred Python style; for me upper case variable are easier to read in calculations\n",
    "#   a Data Organiseer style decision is required                                                        ToDo JK\n",
    "E = ElasticityModule()\n",
    "\n",
    "#default vale for nu (typical value for rock), may be overridden by database query\n",
    "nu=0.20 \n",
    "\n",
    "# initialize selected attributes for E\n",
    "E.lithology=[]  # attributes to E are tuples (immutable - fits purpose)\n",
    "E.laboratory_test_code=[]\n",
    "E.sample_code=[]\n",
    "\n",
    "# Notes:\n",
    "#   Why isn't subclassing a list a good idea? \n",
    "#   - some Stack Overflow commenters suggests not a good idea, but may refer to versions before python 2.3\n",
    "#   Is just using funcions a better way for doing this?\n",
    "#   - I would however like to limit the use of E.toG to selected parameters (e.g. E)\n",
    "#   - advice seems to be: functions for general use, methods for use by selected objects"
   ]
  },
  {
   "cell_type": "code",
   "execution_count": 81,
   "metadata": {
    "collapsed": false,
    "deletable": true,
    "editable": true
   },
   "outputs": [
    {
     "name": "stdout",
     "output_type": "stream",
     "text": [
      "{u'laboratory_test_code': u'11', u'lithology': u'Diorite', u'value': 24630, u'sample_code': u'NE02', u'laboratory': u'Khon Kaen University', u'value_unit': u'MPa'}\n",
      "{u'laboratory': u'Khon Kaen University', u'value_unit': u'MPa', u'value': 18100, u'lithology': u'Diorite', u'sample_code': u'NE02'}\n",
      "check laboratory_test_code data for E= 18100\n",
      "[10262.5, 7541.666666666667]\n"
     ]
    }
   ],
   "source": [
    "# Example of how Data Organizer is used in practice\n",
    "# to 1) check data and 2) prepare data array for calculation procedures     \n",
    "\n",
    "import json\n",
    "\n",
    "lithology=[]  \n",
    "laboratory_test_code=[]\n",
    "sample_code=[]\n",
    "nem_data=[]\n",
    "\n",
    "# open Data Organizer\n",
    "from DataOrganizer import CouchbaseSelector\n",
    "db = CouchbaseSelector('localhost','nem-data')\n",
    "\n",
    "# query Data Organizer for data\n",
    "parameter = 'E'\n",
    "fields = ['lithology','laboratory', 'laboratory_test_code', 'sample_code', 'value', 'value_unit']\n",
    "selector = {'data_source': 'laboratory'}\n",
    "#selector = {'data_source': 'laboratory', 'lithology': 'Sandstone'}\n",
    "\n",
    "# write 'values' to E   -testing JK\n",
    "# write selected attributes to lists\n",
    "for rec in db.get_parameter(parameter, fields, selector):\n",
    "    print rec \n",
    "    # write rec to nem_data   -testing JK\n",
    "    nem_data.append(rec)\n",
    "    # need to provide a better 'table' of returned data to encourage data checking                 ToDo JK\n",
    "    # 'table' should also provide count information (see below \"reference from Alan\")\n",
    "    # what to do about \"u\" preceeding string                                                       ToDo JK\n",
    "    try:\n",
    "        E.append(rec['value'])\n",
    "    except:\n",
    "        print \"check value data for E=\", rec['value']\n",
    "    try:\n",
    "        lithology.append(rec['lithology'])\n",
    "    except:\n",
    "        print \"check lithology data for E=\", rec['value']\n",
    "    try:\n",
    "        laboratory_test_code.append(rec['laboratory_test_code'])\n",
    "    except:\n",
    "        print \"check laboratory_test_code data for E=\", rec['value']\n",
    "    try:\n",
    "        sample_code.append(rec['sample_code'])\n",
    "    except:\n",
    "        print \"check sample_code data for E=\", rec['value']\n",
    "    # there must be a more elegant way of checking that data exists                               Todo JK  \n",
    "    #   how to mark missing data as 'NaN' ?\n",
    "\n",
    "# write selected fields of E parameter to E\n",
    "E.lithology=lithology\n",
    "E.laboratory_test_code=laboratory_test_code\n",
    "E.sample_code=sample_code\n",
    "#print E.lithology\n",
    "\n",
    "# calculate G based on E values\n",
    "G=E.toG()\n",
    "print G"
   ]
  },
  {
   "cell_type": "code",
   "execution_count": 82,
   "metadata": {
    "collapsed": false,
    "deletable": true,
    "editable": true
   },
   "outputs": [],
   "source": [
    "# read nem_data into pandas data frame for reporting   -testing JK\n",
    "#print(nem_data)\n",
    "import pandas as pd\n",
    "nem_data_df = pd.DataFrame(data=nem_data)#nem_data_df = nem_data_df.fillna('NaN').T\n",
    "#print(df)"
   ]
  },
  {
   "cell_type": "code",
   "execution_count": 83,
   "metadata": {
    "collapsed": false,
    "deletable": true,
    "editable": true
   },
   "outputs": [
    {
     "data": {
      "text/html": [
       "<h4>NEM data</h4>"
      ],
      "text/plain": [
       "<IPython.core.display.HTML object>"
      ]
     },
     "metadata": {},
     "output_type": "display_data"
    },
    {
     "data": {
      "text/html": [
       "<table border=\"1\" class=\"dataframe\">\n",
       "  <thead>\n",
       "    <tr style=\"text-align: right;\">\n",
       "      <th></th>\n",
       "      <th>laboratory</th>\n",
       "      <th>laboratory_test_code</th>\n",
       "      <th>lithology</th>\n",
       "      <th>sample_code</th>\n",
       "      <th>value</th>\n",
       "      <th>value_unit</th>\n",
       "    </tr>\n",
       "  </thead>\n",
       "  <tbody>\n",
       "    <tr>\n",
       "      <th>0</th>\n",
       "      <td>Khon Kaen University</td>\n",
       "      <td>11</td>\n",
       "      <td>Diorite</td>\n",
       "      <td>NE02</td>\n",
       "      <td>24630</td>\n",
       "      <td>MPa</td>\n",
       "    </tr>\n",
       "    <tr>\n",
       "      <th>1</th>\n",
       "      <td>Khon Kaen University</td>\n",
       "      <td>NaN</td>\n",
       "      <td>Diorite</td>\n",
       "      <td>NE02</td>\n",
       "      <td>18100</td>\n",
       "      <td>MPa</td>\n",
       "    </tr>\n",
       "  </tbody>\n",
       "</table>"
      ],
      "text/plain": [
       "<IPython.core.display.HTML object>"
      ]
     },
     "metadata": {},
     "output_type": "display_data"
    }
   ],
   "source": [
    "# display nem_data_df as html using pandas df.to_html()\n",
    "from IPython.core.display import display, HTML\n",
    "display(HTML('<h4>NEM data</h4>'))\n",
    "display(HTML(nem_data_df.to_html()))"
   ]
  },
  {
   "cell_type": "code",
   "execution_count": 84,
   "metadata": {
    "collapsed": false,
    "deletable": true,
    "editable": true
   },
   "outputs": [
    {
     "name": "stdout",
     "output_type": "stream",
     "text": [
      "[24630, 18100]\n",
      "[10262.5, 7541.666666666667]\n",
      "[u'Diorite', u'Diorite']\n",
      "[u'NE02', u'NE02']\n"
     ]
    }
   ],
   "source": [
    "# E data to be used for scatterplot by sample_code, for histograms by lithology and for 'Deere plot' by sample_cde\n",
    "#   need to also query sigma_c data from Data Oranizer\n",
    "print E\n",
    "print E.toG()\n",
    "print E.lithology\n",
    "print E.sample_code"
   ]
  },
  {
   "cell_type": "code",
   "execution_count": 85,
   "metadata": {
    "collapsed": false,
    "deletable": true,
    "editable": true
   },
   "outputs": [
    {
     "name": "stdout",
     "output_type": "stream",
     "text": [
      "23\n",
      "23\n",
      "23\n"
     ]
    }
   ],
   "source": [
    "# test data for scatterplot with cut and paste data directly from laboratory spreadsheet \n",
    "# until .csv is uploaded to couchdb\n",
    "#   data was sorted by 1) borehole and 2) sample_depth in spreadsheet prior to copying\n",
    "#   so list data is ordered as above\n",
    "data_e=(12800,18100,29700,18300,5650,5769.2,2574.3,8076.9,14600,16800,13300,30500,22100,\n",
    "        3891.9,6375,10769.2,8139.5,21500,15700,30600,19300,14800,19200)\n",
    "data_sigma_c=(84.78,153.5,211.63,167.37,122.42,60.26,9.71,84.46,104.25,158.28,134.33,153.02,193.46,\n",
    "              28.58,41.28,115.72,73.36,193.52,204.34,268.27,117.59,183.13,193.52)\n",
    "data_lithology=('Diorite','Diorite','Pegmatite','Diorite','Pegmatite','Granodiorite','Granodiorite','Granodiorite',\n",
    "                'Sandstone','Sandstone','Sandstone','Sandstone','Sandstone','Sericite','Sericite','Sericite',\n",
    "                'Sericite','Granodiorite','Granodiorite','Granodiorite','Granodiorite','Diorite','Diorite')\n",
    "# check number or records same for all data lists\n",
    "print(len(data_e))\n",
    "print(len(data_sigma_c))   \n",
    "print(len(data_lithology))\n",
    "\n",
    "# assign colors to lithologies for use in scatterplot\n",
    "colors=[]\n",
    "for i in range(0,len(data_lithology)):\n",
    "    if data_lithology[i]=='Sandstone':\n",
    "        colors.append('orange')\n",
    "    elif data_lithology[i]=='Diorite':\n",
    "        colors.append('black')\n",
    "    elif data_lithology[i]=='Pegmatite':\n",
    "        colors.append('blue')\n",
    "    elif data_lithology[i]=='Granodiorite':\n",
    "        colors.append('gray')\n",
    "    elif data_lithology[i]=='Sericite':\n",
    "        colors.append('green')\n",
    "    else:\n",
    "        colors.append('red')\n",
    "#print(colors)"
   ]
  },
  {
   "cell_type": "code",
   "execution_count": 86,
   "metadata": {
    "collapsed": false,
    "deletable": true,
    "editable": true
   },
   "outputs": [
    {
     "data": {
      "text/plain": [
       "46"
      ]
     },
     "execution_count": 86,
     "metadata": {},
     "output_type": "execute_result"
    }
   ],
   "source": [
    "# initial test data for historgrams\n",
    "data=(15850, 52930, 21560, 14460, 21290, 20800, 19170, 30450, 44310, 71420, 21790, 20940, 19080, \n",
    "      29530, 27420, 8475, 4799.2, 11968.7, 14813.1, 11893.5, 7963.4, 9053.3, 12800, 29700, 18300, \n",
    "      5650, 14600, 16800, 13300, 30500, 22100, 30600, 15700, 19300, 14800,21500, 19200, 5769.2, 2574.3, \n",
    "      8076.9, 10769.2, 8139.5, 3891.9, 6375)\n",
    "for rec in data:\n",
    "    E.append(rec)\n",
    "#print E\n",
    "len(E)"
   ]
  },
  {
   "cell_type": "code",
   "execution_count": 87,
   "metadata": {
    "collapsed": false,
    "deletable": true,
    "editable": true
   },
   "outputs": [
    {
     "name": "stdout",
     "output_type": "stream",
     "text": [
      "('length=', 46)\n",
      "[6, 7, 8, 9, 10, 28, 29, 30, 31, 32]\n",
      "[21290, 20800, 19170, 30450, 44310, 14600, 16800, 13300, 30500, 22100]\n"
     ]
    }
   ],
   "source": [
    "# crude testing preparing data for 'parameter' E plotting histogram\n",
    "# simply cutting from the laboratory spreadsheet and pasting here \n",
    "# (with somerearrangement because existing two data points were also used)\n",
    "lithology=('Diorite','Diorite','Diorite','Pegmatite','Diorite','Pegmatite','Sandstone','Sandstone','Sandstone',\n",
    "           'Sandstone','Sandstone','Granodiorite','Granodiorite','Granodiorite','Diorite','Granodiorite','Diorite',\n",
    "           'Granodiorite','Granodiorite','Granodiorite','Sericite','Sericite','Sericite','Sericite','Diorite',\n",
    "           'Pegmatite','Diorite','Pegmatite','Sandstone','Sandstone','Sandstone','Sandstone','Sandstone',\n",
    "           'Granodiorite','Granodiorite','Granodiorite','Diorite','Granodiorite','Diorite','Granodiorite',\n",
    "           'Granodiorite','Granodiorite','Sericite','Sericite','Sericite','Sericite')\n",
    "print(\"length=\", len(lithology))\n",
    "\n",
    "# select E values where 'lithology' is Sandstone\n",
    "sandstone_i=[]\n",
    "E_i=[]\n",
    "i=1\n",
    "for i in range(0,len(lithology)):\n",
    "    if lithology[i]=='Sandstone':\n",
    "        sandstone_i.append(i)\n",
    "        #print i, lithology[i]\n",
    "        E_i.append(E[i])\n",
    "print(sandstone_i)\n",
    "print(E_i)"
   ]
  },
  {
   "cell_type": "code",
   "execution_count": 88,
   "metadata": {
    "collapsed": false,
    "deletable": true,
    "editable": true
   },
   "outputs": [
    {
     "data": {
      "image/png": "[encoded data removed]",
      "text/plain": [
       "<matplotlib.figure.Figure at 0x7fdfac6ed990>"
      ]
     },
     "metadata": {},
     "output_type": "display_data"
    },
    {
     "name": "stdout",
     "output_type": "stream",
     "text": [
      "18981.3521739\n",
      "12709.1651504\n"
     ]
    },
    {
     "data": {
      "text/plain": [
       "46"
      ]
     },
     "execution_count": 88,
     "metadata": {},
     "output_type": "execute_result"
    }
   ],
   "source": [
    "import numpy as np\n",
    "import matplotlib.mlab as mlab\n",
    "import matplotlib.pyplot as plt\n",
    "from scipy.stats import norm\n",
    "\n",
    "# input: E containing 'values' of 'parameter' E\n",
    "\n",
    "# plot histogram of E values for all rock lithologies\n",
    "# plt.hist(values, number of bins, additional named parameters)\n",
    "hist,bin_edges,patches = plt.hist(E, 20, normed=1, facecolor='green', alpha=0.75)\n",
    "# just guessing at distribution\n",
    "#mu, sigma = 15000, 10000\n",
    "#y = mlab.normpdf( bin_edges, mu, sigma)\n",
    "#l = plt.plot(bin_edges, y, 'b--', linewidth=1)\n",
    "\n",
    "# calculating distribution of E values using scipy\n",
    "param = norm.fit(E) \n",
    "# now, param[0] and param[1] are the mean and \n",
    "# the standard deviation of the fitted distribution\n",
    "y = mlab.normpdf( bin_edges, param[0], param[1])\n",
    "ll = plt.plot(bin_edges, y, 'r--', linewidth=1)\n",
    "\n",
    "# plot axis labels and grid\n",
    "plt.ylabel('Probability')\n",
    "plt.xlabel('ALL LITHOLIGIES E-Modulus (MPa)')\n",
    "plt.grid(True)\n",
    "plt.show()\n",
    "\n",
    "print(param[0])  # mean\n",
    "print(param[1])  # standard deviation\n",
    "len(E) # one more check\n",
    "\n",
    "# \"added value\": results show one of the problems facing an 'uneducate' view of getoechnical data statistics:\n",
    "#   lower tail goes negative, which is pysically impossible! \n",
    "#   e--> we need a skew distribution --> can be significant difference in outcomes"
   ]
  },
  {
   "cell_type": "code",
   "execution_count": 89,
   "metadata": {
    "collapsed": false,
    "deletable": true,
    "editable": true
   },
   "outputs": [
    {
     "data": {
      "image/png": "[encoded data removed]",
      "text/plain": [
       "<matplotlib.figure.Figure at 0x7fdfac6ed710>"
      ]
     },
     "metadata": {},
     "output_type": "display_data"
    },
    {
     "name": "stdout",
     "output_type": "stream",
     "text": [
      "23332.0\n",
      "8894.37665045\n"
     ]
    }
   ],
   "source": [
    "# input: E containing 'values' of 'parameter' E\n",
    "\n",
    "# plot histogram for E values of Sandstones\n",
    "n, bins, patches = plt.hist(E_i, 20, normed=1, facecolor='orange', alpha=0.75)\n",
    "\n",
    "# calculating distribution with data using scipy\n",
    "param = norm.fit(E_i) \n",
    "# now, param[0] and param[1] are the mean and \n",
    "# the standard deviation of the fitted distribution\n",
    "y = mlab.normpdf( bins, param[0], param[1])\n",
    "ll = plt.plot(bins, y, 'r--', linewidth=1)\n",
    "\n",
    "plt.ylabel('Probability')\n",
    "plt.xlabel('SANDSTONE E-Modulus (MPa)')\n",
    "plt.grid(True)\n",
    "plt.show()\n",
    "print(param[0])\n",
    "print(param[1])\n",
    "#len(E_i)\n",
    "# added value: results show one of the problems facing an 'uneducate' view of getoechnical data statistics:\n",
    "#   lower tail goes negative, which is pysically impossible! \n",
    "#   e--> we need a skew distribution --> can be significant difference in outcomes"
   ]
  },
  {
   "cell_type": "code",
   "execution_count": 90,
   "metadata": {
    "collapsed": false,
    "deletable": true,
    "editable": true
   },
   "outputs": [
    {
     "data": {
      "image/png": "[encoded data removed]",
      "text/plain": [
       "<matplotlib.figure.Figure at 0x7fdfac87fd90>"
      ]
     },
     "metadata": {},
     "output_type": "display_data"
    }
   ],
   "source": [
    "import numpy as np\n",
    "import matplotlib.mlab as mlab\n",
    "import matplotlib.pyplot as plt\n",
    "\n",
    "# input: E containing 'values' of 'parameter' E \n",
    "#        Method for caclulating G from E\n",
    "\n",
    "# plot histogram for G values for all rock lithologies\n",
    "n, bins, patches = plt.hist(E.toG(), 20, normed=1, facecolor='red', alpha=0.75)\n",
    "\n",
    "plt.ylabel('Probability')\n",
    "plt.xlabel('ALL LITHOLGIES G-Modulus (MPa)')\n",
    "plt.grid(True)\n",
    "\n",
    "plt.show()"
   ]
  },
  {
   "cell_type": "code",
   "execution_count": 93,
   "metadata": {
    "collapsed": false,
    "deletable": true,
    "editable": true
   },
   "outputs": [
    {
     "data": {
      "image/png": "[encoded data removed]",
      "text/plain": [
       "<matplotlib.figure.Figure at 0x7fdfac0ac590>"
      ]
     },
     "metadata": {},
     "output_type": "display_data"
    }
   ],
   "source": [
    "from matplotlib.lines import Line2D\n",
    "\n",
    "# input: data_e, data_sigma_c containing 'values' of 'parameter' E and sigma_c\n",
    "#        colors containg list of colors for lithologies in records (colors previously assigned lithologies)\n",
    "\n",
    "# scatterplot of E against sigma_c for all rock lithologies\n",
    "rock_plot=plt.scatter([data_e],[data_sigma_c],color=colors,marker='^')\n",
    "\n",
    "# legend\n",
    "sym1 = Line2D([0], [0], linestyle=\"none\", marker=\"^\", alpha=1.0, color=\"orange\")\n",
    "sym2 = Line2D([0], [0], linestyle=\"none\", marker=\"^\", alpha=1.0, color=\"black\")\n",
    "sym3 = Line2D([0], [0], linestyle=\"none\", marker=\"^\", alpha=1.0, color=\"blue\")\n",
    "sym4 = Line2D([0], [0], linestyle=\"none\", marker=\"^\", alpha=1.0, color=\"gray\")\n",
    "sym5 = Line2D([0], [0], linestyle=\"none\", marker=\"^\", alpha=1.0, color=\"green\")\n",
    "plt.legend((sym1,sym2,sym3,sym4,sym5),(\"Sandstone\",\"Diorite\",\"Pegmatite\",\"Granodiorite\",\"Sericite\"),\n",
    "           numpoints=1,loc=\"best\")\n",
    "\n",
    "# axis labels\n",
    "plt.ylabel('sigma_c (MPa)')\n",
    "plt.xlabel('E-Modulus[Es] (MPa)')\n",
    "plt.plot((1000,10000,20000,30000),(10,100,200,300), color=\"gray\")\n",
    "\n",
    "# a reference trend line\n",
    "plt.annotate(\"100:1\",xy=(25000,250),xytext=(25000,285),rotation=35)\n",
    "\n",
    "plt.show()"
   ]
  },
  {
   "cell_type": "markdown",
   "metadata": {
    "collapsed": true,
    "deletable": true,
    "editable": true
   },
   "source": [
    "## Get count and parameter count (reference from Alan)"
   ]
  },
  {
   "cell_type": "code",
   "execution_count": 67,
   "metadata": {
    "collapsed": false,
    "deletable": true,
    "editable": true
   },
   "outputs": [
    {
     "name": "stdout",
     "output_type": "stream",
     "text": [
      "count = 4\n",
      "parameter count = 2\n"
     ]
    }
   ],
   "source": [
    "import json\n",
    "\n",
    "from DataOrganizer import CouchbaseSelector\n",
    "\n",
    "db = CouchbaseSelector('localhost','nem-data')  # 'nem-data' is geotechnical db\n",
    "\n",
    "parameter = 'sigma_c'\n",
    "selector = {'type': 'parameter'}\n",
    "\n",
    "count = db.get_count(selector)\n",
    "print \"count = \"+str(count)\n",
    "\n",
    "count = db.get_parameter_count(parameter)\n",
    "print \"parameter count = \"+str(count)\n"
   ]
  },
  {
   "cell_type": "code",
   "execution_count": 68,
   "metadata": {
    "collapsed": false,
    "deletable": true,
    "editable": true
   },
   "outputs": [
    {
     "name": "stdout",
     "output_type": "stream",
     "text": [
      "[1, 2, 3, 4]\n",
      "[1, 2, 3, 4]\n",
      "[0.7142857142857143, 1.4285714285714286, 2.142857142857143, 2.857142857142857]\n"
     ]
    }
   ],
   "source": [
    "class ElasticityModule(list):\n",
    "    \"\"\"conversion between elasticity parameters\"\"\"\n",
    "    def toG(self):  #method for converting E-modulus to G-modulus\n",
    "        print(self)\n",
    "        G=[i /1.4 for i in self]\n",
    "        return G\n",
    "data = (1,2,3,4)  #list comes from e.g. Data Organiser\n",
    "e = ElasticityModule(data) \n",
    "print e\n",
    "g = e.toG()\n",
    "print g\n",
    "# Why isn't subclassing a list a good idea (Stack Overflow suggests not a good idea)?\n",
    "# Is just using funcions a better way for doing this?\n",
    "#    - I would however like to limit the use of EtoG to certain objects (e.g. E)\n",
    "#    - advice seems to be: functions for general use, methods for use by selected objects"
   ]
  },
  {
   "cell_type": "code",
   "execution_count": 69,
   "metadata": {
    "collapsed": false,
    "deletable": true,
    "editable": true
   },
   "outputs": [
    {
     "data": {
      "text/plain": [
       "[10262.5,\n",
       " 7541.666666666667,\n",
       " 6604.166666666667,\n",
       " 22054.166666666668,\n",
       " 8983.333333333334,\n",
       " 6025.0,\n",
       " 8870.833333333334,\n",
       " 8666.666666666668,\n",
       " 7987.5,\n",
       " 12687.5,\n",
       " 18462.5,\n",
       " 29758.333333333336,\n",
       " 9079.166666666668,\n",
       " 8725.0,\n",
       " 7950.0,\n",
       " 12304.166666666668,\n",
       " 11425.0,\n",
       " 3531.25,\n",
       " 1999.6666666666667,\n",
       " 4986.958333333334,\n",
       " 6172.125,\n",
       " 4955.625,\n",
       " 3318.0833333333335,\n",
       " 3772.208333333333,\n",
       " 5333.333333333334,\n",
       " 12375.0,\n",
       " 7625.0,\n",
       " 2354.166666666667,\n",
       " 6083.333333333334,\n",
       " 7000.0,\n",
       " 5541.666666666667,\n",
       " 12708.333333333334,\n",
       " 9208.333333333334,\n",
       " 12750.0,\n",
       " 6541.666666666667,\n",
       " 8041.666666666667,\n",
       " 6166.666666666667,\n",
       " 8958.333333333334,\n",
       " 8000.0,\n",
       " 2403.8333333333335,\n",
       " 1072.6250000000002,\n",
       " 3365.375,\n",
       " 4487.166666666667,\n",
       " 3391.4583333333335,\n",
       " 1621.625,\n",
       " 2656.25]"
      ]
     },
     "execution_count": 69,
     "metadata": {},
     "output_type": "execute_result"
    }
   ],
   "source": [
    "G=E.toG();\n",
    "G"
   ]
  },
  {
   "cell_type": "code",
   "execution_count": 70,
   "metadata": {
    "collapsed": false,
    "deletable": true,
    "editable": true
   },
   "outputs": [],
   "source": [
    "import pandas\n",
    "from scipy.stats import norm"
   ]
  },
  {
   "cell_type": "code",
   "execution_count": 71,
   "metadata": {
    "collapsed": false,
    "deletable": true,
    "editable": true
   },
   "outputs": [
    {
     "data": {
      "text/plain": [
       "__main__.ElasticityModule"
      ]
     },
     "execution_count": 71,
     "metadata": {},
     "output_type": "execute_result"
    }
   ],
   "source": [
    "type(E)"
   ]
  },
  {
   "cell_type": "code",
   "execution_count": 72,
   "metadata": {
    "collapsed": true,
    "deletable": true,
    "editable": true
   },
   "outputs": [],
   "source": [
    "def myfunc():\n",
    "    d = {'Retry': ['30', '12', '12'],\n",
    "         'Station MAC': ['aabbccddeea', 'ffgghhiijj', 'kkllmmnnoo'],\n",
    "         'Download': ['70.', '99', '90']}\n",
    "    colnames = ['Retry', 'Station MAC', 'Download']\n",
    "    rows = zip(*[d[c] for c in colnames])\n",
    "    return dict(rows=rows, colnames=colnames)"
   ]
  },
  {
   "cell_type": "code",
   "execution_count": 73,
   "metadata": {
    "collapsed": false,
    "deletable": true,
    "editable": true
   },
   "outputs": [
    {
     "data": {
      "text/plain": [
       "{'colnames': ['Retry', 'Station MAC', 'Download'],\n",
       " 'rows': [('30', 'aabbccddeea', '70.'),\n",
       "  ('12', 'ffgghhiijj', '99'),\n",
       "  ('12', 'kkllmmnnoo', '90')]}"
      ]
     },
     "execution_count": 73,
     "metadata": {},
     "output_type": "execute_result"
    }
   ],
   "source": [
    "myfunc()"
   ]
  },
  {
   "cell_type": "code",
   "execution_count": null,
   "metadata": {
    "collapsed": true,
    "deletable": true,
    "editable": true
   },
   "outputs": [],
   "source": []
  }
 ],
 "metadata": {
  "celltoolbar": "Raw Cell Format",
  "kernelspec": {
   "display_name": "Python 2",
   "language": "python",
   "name": "python2"
  },
  "language_info": {
   "codemirror_mode": {
    "name": "ipython",
    "version": 2
   },
   "file_extension": ".py",
   "mimetype": "text/x-python",
   "name": "python",
   "nbconvert_exporter": "python",
   "pygments_lexer": "ipython2",
   "version": "2.7.6"
  }
 },
 "nbformat": 4,
 "nbformat_minor": 2
}
