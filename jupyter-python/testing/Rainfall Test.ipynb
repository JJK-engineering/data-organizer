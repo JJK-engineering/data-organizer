{
 "cells": [
  {
   "cell_type": "markdown",
   "metadata": {
    "deletable": true,
    "editable": true
   },
   "source": [
    "# Notebook Test\n",
    "\n",
    "This is my __note book__\n",
    "\n",
    "It's a really *great* tool"
   ]
  },
  {
   "cell_type": "code",
   "execution_count": 6,
   "metadata": {
    "collapsed": false,
    "deletable": true,
    "editable": true,
    "scrolled": true
   },
   "outputs": [],
   "source": [
    "from numpy import *\n",
    "# Berechnung Niederschlagsintentisaet nach Hörler und Rhein (1962)\n",
    "def Ni(K,B): # K: l*min/(ha*s), Ortskontante in Abhaengigkeit Wiederkehrintervall. \n",
    "                 #B: Ortskonstante in [min]\n",
    "    x = arange(1.,24.,1)     #zu beruecksichtigende Regendauer\n",
    "    T=5.*x   # Regendauer in min\n",
    "    r=(K/(T+B))    #l/(s*ha), Regenintensität\n",
    "    r_v=r*(T*60./10000.) #mm/m^2, Regenhoehe\n",
    "    return r, r_v"
   ]
  },
  {
   "cell_type": "code",
   "execution_count": 7,
   "metadata": {
    "collapsed": false,
    "deletable": true,
    "editable": true,
    "scrolled": true
   },
   "outputs": [
    {
     "data": {
      "text/plain": [
       "(array([ 233.33333333,  175.        ,  140.        ,  116.66666667,\n",
       "         100.        ,   87.5       ,   77.77777778,   70.        ,\n",
       "          63.63636364,   58.33333333,   53.84615385,   50.        ,\n",
       "          46.66666667,   43.75      ,   41.17647059,   38.88888889,\n",
       "          36.84210526,   35.        ,   33.33333333,   31.81818182,\n",
       "          30.43478261,   29.16666667,   28.        ]),\n",
       " array([  7.        ,  10.5       ,  12.6       ,  14.        ,\n",
       "         15.        ,  15.75      ,  16.33333333,  16.8       ,\n",
       "         17.18181818,  17.5       ,  17.76923077,  18.        ,\n",
       "         18.2       ,  18.375     ,  18.52941176,  18.66666667,\n",
       "         18.78947368,  18.9       ,  19.        ,  19.09090909,\n",
       "         19.17391304,  19.25      ,  19.32      ]))"
      ]
     },
     "execution_count": 7,
     "metadata": {},
     "output_type": "execute_result"
    }
   ],
   "source": [
    "Ni(3500., 10.)"
   ]
  },
  {
   "cell_type": "code",
   "execution_count": 9,
   "metadata": {
    "collapsed": false,
    "deletable": true,
    "editable": true
   },
   "outputs": [
    {
     "data": {
      "image/png": "[encoded data removed]",
      "text/plain": [
       "<matplotlib.figure.Figure at 0x7f6b305e01d0>"
      ]
     },
     "metadata": {},
     "output_type": "display_data"
    }
   ],
   "source": [
    "import matplotlib.pyplot as plt\n",
    "#from __future__ import unicode_literals\n",
    "%matplotlib inline\n",
    "\n",
    "fig, ax1 = plt.subplots()\n",
    "x = arange(1.,24.,1)\n",
    "T=5.*x   # Regendauer in min\n",
    "ax1.plot(T, Ni(3500.,10.)[0], 'b-')\n",
    "ax1.set_xlabel('Niederschlagsdauer $[min]$')\n",
    "ax1.set_ylabel('Regenintensitaet $[l/(s \\cdot ha)]$', color='b')\n",
    "for tl in ax1.get_yticklabels():\n",
    "    tl.set_color('b')\n",
    "\n",
    "ax2 = ax1.twinx()\n",
    "ax2.plot(T, Ni(3500.,10.)[1], 'r.')\n",
    "ax2.set_ylabel('Niederschlagshoehe $[mm]$', color='r')\n",
    "for tl in ax2.get_yticklabels():\n",
    "    tl.set_color('r')\n",
    "plt.show()"
   ]
  },
  {
   "cell_type": "code",
   "execution_count": null,
   "metadata": {
    "collapsed": true
   },
   "outputs": [],
   "source": []
  }
 ],
 "metadata": {
  "kernelspec": {
   "display_name": "Python 2",
   "language": "python",
   "name": "python2"
  },
  "language_info": {
   "codemirror_mode": {
    "name": "ipython",
    "version": 2
   },
   "file_extension": ".py",
   "mimetype": "text/x-python",
   "name": "python",
   "nbconvert_exporter": "python",
   "pygments_lexer": "ipython2",
   "version": "2.7.6"
  }
 },
 "nbformat": 4,
 "nbformat_minor": 2
}
