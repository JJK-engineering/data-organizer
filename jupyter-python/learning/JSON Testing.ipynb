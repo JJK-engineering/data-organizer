{
 "cells": [
  {
   "cell_type": "markdown",
   "metadata": {},
   "source": [
    "## JSON Data Structure Setup and Display ##\n",
    "\n",
    "See: [2017.01.10.GeotechnicalDataOrganizer.Overview](https://docs.google.com/document/d/1IC2FN5kBySWd17_IJojjmPE5VD1Nj9cQEv3HIWqOgzU/edit)\n",
    "    "
   ]
  },
  {
   "cell_type": "code",
   "execution_count": 3,
   "metadata": {
    "collapsed": false
   },
   "outputs": [
    {
     "name": "stdout",
     "output_type": "stream",
     "text": [
      "{\"first_name\": \"Guido\", \"last_name\":\"Rossum\"}\n"
     ]
    }
   ],
   "source": [
    "s = '{\"first_name\": \"Guido\", \"last_name\":\"Rossum\"}'\n",
    "\n",
    "print s"
   ]
  },
  {
   "cell_type": "code",
   "execution_count": 12,
   "metadata": {
    "collapsed": false
   },
   "outputs": [
    {
     "name": "stdout",
     "output_type": "stream",
     "text": [
      "{\n",
      "  \"first_name\": \"Guido\",\n",
      "  \"titles\": [\n",
      "    \"BDFL\",\n",
      "    \"Developer\"\n",
      "  ],\n",
      "  \"second_name\": \"Rossum\"\n",
      "}\n"
     ]
    }
   ],
   "source": [
    "import json\n",
    "\n",
    "d = {'first_name': 'Guido','second_name': 'Rossum','titles': ['BDFL', 'Developer'],}\n",
    "print json.dumps(d,indent=2,separators=(',',': '))"
   ]
  },
  {
   "cell_type": "code",
   "execution_count": null,
   "metadata": {
    "collapsed": true
   },
   "outputs": [],
   "source": []
  }
 ],
 "metadata": {
  "kernelspec": {
   "display_name": "Python 2",
   "language": "python",
   "name": "python2"
  },
  "language_info": {
   "codemirror_mode": {
    "name": "ipython",
    "version": 2
   },
   "file_extension": ".py",
   "mimetype": "text/x-python",
   "name": "python",
   "nbconvert_exporter": "python",
   "pygments_lexer": "ipython2",
   "version": "2.7.6"
  }
 },
 "nbformat": 4,
 "nbformat_minor": 2
}
