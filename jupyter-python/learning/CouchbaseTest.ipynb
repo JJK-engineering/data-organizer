{
 "cells": [
  {
   "cell_type": "markdown",
   "metadata": {
    "deletable": true,
    "editable": true
   },
   "source": [
    "# Couchbase Data Access Testing\n",
    "\n",
    "Read data from the Couchbase *default bucket*\n",
    "\n",
    "See Python Couchbase documentation at: \n",
    "  * http://pythonhosted.org/couchbase/api/couchbase.html#key-and-value-format\n",
    "  "
   ]
  },
  {
   "cell_type": "markdown",
   "metadata": {
    "deletable": true,
    "editable": true
   },
   "source": [
    "## Get a single record"
   ]
  },
  {
   "cell_type": "code",
   "execution_count": 1,
   "metadata": {
    "collapsed": false,
    "deletable": true,
    "editable": true
   },
   "outputs": [
    {
     "name": "stdout",
     "output_type": "stream",
     "text": [
      "Result:\n",
      "{\n",
      "  \"interests\": [\n",
      "    \"Holy Grail\",\n",
      "    \"African Swallows\"\n",
      "  ],\n",
      "  \"name\": \"Arthur\",\n",
      "  \"email\": \"kingarthur@couchbase.com\"\n",
      "}\n"
     ]
    }
   ],
   "source": [
    "import json\n",
    "from couchbase.bucket import Bucket\n",
    "\n",
    "cb = Bucket('couchbase://localhost/default')\n",
    "data = cb.get('u:king_arthur').value\n",
    "print \"Result:\\n\"+json.dumps(data,indent=2,separators=(',',': '))"
   ]
  },
  {
   "cell_type": "markdown",
   "metadata": {
    "deletable": true,
    "editable": true
   },
   "source": [
    "## N1QL Query\n",
    "\n",
    " * *N1QL* is the Couchbase query language, which is very similiar to SQL\n",
    " * See: http://docs.couchbase.com/files/Couchbase-N1QL-CheatSheet.pdf\n",
    " * See: https://developer.couchbase.com/documentation/server/4.6/n1ql/n1ql-language-reference/index.html"
   ]
  },
  {
   "cell_type": "code",
   "execution_count": 13,
   "metadata": {
    "collapsed": false,
    "deletable": true,
    "editable": true
   },
   "outputs": [
    {
     "name": "stdout",
     "output_type": "stream",
     "text": [
      "{u'name': u'Arthur'}\n"
     ]
    }
   ],
   "source": [
    "from couchbase.bucket import Bucket\n",
    "\n",
    "# Create an Index (commented out because the index already exists)\n",
    "# cb.n1ql_query('CREATE PRIMARY INDEX ON default').execute()\n",
    "\n",
    "from couchbase.n1ql import N1QLQuery\n",
    "query = N1QLQuery('SELECT name FROM default WHERE $1 IN interests', 'African Swallows')\n",
    "row_iter = cb.n1ql_query(query)\n",
    "for row in row_iter:\n",
    "    print row"
   ]
  },
  {
   "cell_type": "markdown",
   "metadata": {
    "deletable": true,
    "editable": true
   },
   "source": [
    "## Load Records into a Database "
   ]
  },
  {
   "cell_type": "markdown",
   "metadata": {
    "deletable": true,
    "editable": true
   },
   "source": [
    "### Sample parsing and display of simple JSON string"
   ]
  },
  {
   "cell_type": "code",
   "execution_count": 14,
   "metadata": {
    "collapsed": false,
    "deletable": true,
    "editable": true,
    "scrolled": true
   },
   "outputs": [
    {
     "name": "stdout",
     "output_type": "stream",
     "text": [
      "Result:\n",
      "{\n",
      "  \"parm\": 123,\n",
      "  \"id\": \"aaa\",\n",
      "  \"value\": 123.456\n",
      "}\n"
     ]
    }
   ],
   "source": [
    "import json\n",
    "\n",
    "x = '{\"id\":\"aaa\",\"parm\":123,\"value\":123.456}'\n",
    "r = json.loads(x)\n",
    "print \"Result:\\n\"+json.dumps(r,indent=2,separators=(',',': '))"
   ]
  },
  {
   "cell_type": "markdown",
   "metadata": {
    "deletable": true,
    "editable": true
   },
   "source": [
    "### Load Example Data in Proposed Format\n",
    "\n",
    "#### TODO ####\n",
    "\n",
    "  * Consider removing the id field from the record before inserting?\n",
    "\n",
    "#### Record Structure Notes ####\n",
    "\n",
    "  * Key: *{record_type}-YYYYMMDD-hhmmss-rrrrrrrr*\n",
    "  * Record types:\n",
    "    * parameter\n",
    "    * borehole\n",
    "    * project\n",
    "\n",
    "2017.04.11  Added 'test_comment' field to parameter type\n"
   ]
  },
  {
   "cell_type": "code",
   "execution_count": 15,
   "metadata": {
    "collapsed": false,
    "deletable": true,
    "editable": true
   },
   "outputs": [
    {
     "name": "stdout",
     "output_type": "stream",
     "text": [
      "[\n",
      "  {\n",
      "    \"sample_description\": \"\",\n",
      "    \"measurement_convention\": \"\",\n",
      "    \"test_standard\": \"ASTM D7012 D\",\n",
      "    \"sample_code\": \"NE01\",\n",
      "    \"laboratory\": \"Khon Kaen University\",\n",
      "    \"test_comment\": \"\",\n",
      "    \"project_code\": \"NEM\",\n",
      "    \"laboratory_test_code\": \"10\",\n",
      "    \"test_type\": \"uniaxial compression\",\n",
      "    \"value_scale\": \"laboratory\",\n",
      "    \"id\": \"parameter-20160301-120001-12320013\",\n",
      "    \"type\": \"parameter\",\n",
      "    \"lithology\": \"Diorite\",\n",
      "    \"sample_depth_top_m\": 23.1,\n",
      "    \"value_likelihood\": \"data point\",\n",
      "    \"parameter\": \"sigma_c\",\n",
      "    \"data_source\": \"laboratory\",\n",
      "    \"test_paramaters\": [\n",
      "      {\n",
      "        \"unit\": \"\",\n",
      "        \"description\": \"\",\n",
      "        \"value\": null\n",
      "      },\n",
      "      {\n",
      "        \"unit\": \"\",\n",
      "        \"description\": \"\",\n",
      "        \"value\": null\n",
      "      }\n",
      "    ],\n",
      "    \"borehole_code\": \"NE1-01\",\n",
      "    \"value\": 84.78,\n",
      "    \"test_date\": \"\",\n",
      "    \"value_unit\": \"MPa\"\n",
      "  },\n",
      "  {\n",
      "    \"sample_description\": \"\",\n",
      "    \"measurement_convention\": \"\",\n",
      "    \"test_standard\": \"ASTM D7012 D\",\n",
      "    \"sample_code\": \"NE02\",\n",
      "    \"laboratory\": \"Khon Kaen University\",\n",
      "    \"test_comment\": \"\",\n",
      "    \"project_code\": \"Nam E-Moun\",\n",
      "    \"laboratory_test_code\": \"11\",\n",
      "    \"test_type\": \"uniaxial compression\",\n",
      "    \"value_scale\": \"laboratory\",\n",
      "    \"id\": \"parameter-20160301-120002-90935448\",\n",
      "    \"type\": \"parameter\",\n",
      "    \"lithology\": \"Diorite\",\n",
      "    \"sample_depth_top_m\": 20.0,\n",
      "    \"value_likelihood\": \"data point\",\n",
      "    \"parameter\": \"sigma_c\",\n",
      "    \"data_source\": \"laboratory\",\n",
      "    \"test_paramaters\": [\n",
      "      {\n",
      "        \"unit\": \"\",\n",
      "        \"description\": \"\",\n",
      "        \"value\": null\n",
      "      },\n",
      "      {\n",
      "        \"unit\": \"\",\n",
      "        \"description\": \"\",\n",
      "        \"value\": null\n",
      "      }\n",
      "    ],\n",
      "    \"borehole_code\": \"NE1-02\",\n",
      "    \"value\": 153.5,\n",
      "    \"test_date\": \"\",\n",
      "    \"value_unit\": \"MPa\"\n",
      "  },\n",
      "  {\n",
      "    \"sample_description\": \"\",\n",
      "    \"measurement_convention\": \"E50\",\n",
      "    \"test_standard\": \"ASTM D7012 D\",\n",
      "    \"sample_code\": \"NE02\",\n",
      "    \"laboratory\": \"Khon Kaen University\",\n",
      "    \"test_comment\": \"\",\n",
      "    \"project_code\": \"Nam E-Moun\",\n",
      "    \"laboratory_test_code\": \"11\",\n",
      "    \"test_type\": \"E measured during uniaxial compression\",\n",
      "    \"value_scale\": \"laboratory\",\n",
      "    \"id\": \"parameter-20160301-120003-36197876\",\n",
      "    \"type\": \"parameter\",\n",
      "    \"lithology\": \"Diorite\",\n",
      "    \"sample_depth_top_m\": 20.0,\n",
      "    \"value_likelihood\": \"data point\",\n",
      "    \"parameter\": \"E\",\n",
      "    \"data_source\": \"laboratory\",\n",
      "    \"test_paramaters\": [\n",
      "      {\n",
      "        \"unit\": \"\",\n",
      "        \"description\": \"\",\n",
      "        \"value\": null\n",
      "      },\n",
      "      {\n",
      "        \"unit\": \"\",\n",
      "        \"description\": \"\",\n",
      "        \"value\": null\n",
      "      }\n",
      "    ],\n",
      "    \"borehole_code\": \"NE1-02\",\n",
      "    \"value\": 24630,\n",
      "    \"test_date\": \"\",\n",
      "    \"value_unit\": \"MPa\"\n",
      "  },\n",
      "  {\n",
      "    \"sample_description\": \"\",\n",
      "    \"measurement_convention\": \"Es\",\n",
      "    \"test_standard\": \"ASTM D7012 D\",\n",
      "    \"sample_code\": \"NE02\",\n",
      "    \"laboratory\": \"Khon Kaen University\",\n",
      "    \"test_comment\": \"\",\n",
      "    \"project_code\": \"Nam E-Moun\",\n",
      "    \"test_type\": \"E measured during uniaxial compression\",\n",
      "    \"value_scale\": \"laboratory\",\n",
      "    \"id\": \"parameter-20160301-120004-34549427\",\n",
      "    \"type\": \"parameter\",\n",
      "    \"lithology\": \"Diorite\",\n",
      "    \"lab_test_code\": \"11\",\n",
      "    \"sample_depth_top_m\": 20.0,\n",
      "    \"value_likelihood\": \"data point\",\n",
      "    \"parameter\": \"E\",\n",
      "    \"data_source\": \"laboratory\",\n",
      "    \"test_paramaters\": [\n",
      "      {\n",
      "        \"unit\": \"\",\n",
      "        \"description\": \"\",\n",
      "        \"value\": null\n",
      "      },\n",
      "      {\n",
      "        \"unit\": \"\",\n",
      "        \"description\": \"\",\n",
      "        \"value\": null\n",
      "      }\n",
      "    ],\n",
      "    \"borehole_code\": \"NE1-02\",\n",
      "    \"value\": 18100,\n",
      "    \"test_date\": \"\",\n",
      "    \"value_unit\": \"MPa\"\n",
      "  },\n",
      "  {\n",
      "    \"project_coordinate_system\": \"\",\n",
      "    \"code\": \"NEM\",\n",
      "    \"type\": \"project\",\n",
      "    \"id\": \"project-20160301-120101-18589523\",\n",
      "    \"name\": \"Nam E-Moun\"\n",
      "  },\n",
      "  {\n",
      "    \"code\": \"NE1-01\",\n",
      "    \"collar_elevation_masl\": null,\n",
      "    \"y_project_coordinate\": 1720999.33,\n",
      "    \"x_project_coordinate\": 717190.06,\n",
      "    \"type\": \"borehole\",\n",
      "    \"id\": \"borehole-20160301-120201-11406013\"\n",
      "  },\n",
      "  {\n",
      "    \"code\": \"NE1-02\",\n",
      "    \"collar_elevation_masl\": null,\n",
      "    \"y_project_coordinate\": 1720937.67,\n",
      "    \"x_project_coordinate\": 717213.76,\n",
      "    \"type\": \"borehole\",\n",
      "    \"id\": \"borehole-20160301-120202-89743702\"\n",
      "  }\n",
      "]\n"
     ]
    }
   ],
   "source": [
    "import json\n",
    "\n",
    "data_json = '''\n",
    "[\n",
    "  {\n",
    "    \"id\":\"parameter-20160301-120001-12320013\",\n",
    "    \"type\":\"parameter\",\n",
    "    \"parameter\":\"sigma_c\",\n",
    "    \"project_code\":\"NEM\",\n",
    "    \"data_source\":\"laboratory\",\n",
    "    \"borehole_code\":\"NE1-01\",\n",
    "    \"sample_code\":\"NE01\",\n",
    "    \"sample_depth_top_m\":23.10,\n",
    "    \"sample_description\":\"\",\n",
    "    \"laboratory\":\"Khon Kaen University\",\n",
    "    \"laboratory_test_code\":\"10\",\n",
    "    \"test_date\":\"\",\n",
    "    \"test_type\":\"uniaxial compression\",\n",
    "    \"test_standard\":\"ASTM D7012 D\",\n",
    "    \"test_paramaters\": [ {\"description\":\"\", \"value\":null, \"unit\":\"\"}, {\"description\":\"\", \"value\":null, \"unit\":\"\"} ],\n",
    "    \"test_comment\":\"\",\n",
    "    \"measurement_convention\":\"\",\n",
    "    \"value\":84.78,\n",
    "    \"value_unit\":\"MPa\",\n",
    "    \"value_scale\":\"laboratory\",\n",
    "    \"value_likelihood\":\"data point\",\n",
    "    \"lithology\":\"Diorite\"\n",
    "  },\n",
    "  {\n",
    "    \"id\":\"parameter-20160301-120002-90935448\",\n",
    "    \"type\":\"parameter\",\n",
    "    \"parameter\":\"sigma_c\",\n",
    "    \"project_code\":\"Nam E-Moun\",\n",
    "    \"data_source\":\"laboratory\",\n",
    "    \"borehole_code\":\"NE1-02\",\n",
    "    \"sample_code\":\"NE02\",\n",
    "    \"sample_depth_top_m\":20.00,\n",
    "    \"sample_description\":\"\",\n",
    "    \"laboratory\":\"Khon Kaen University\",\n",
    "    \"laboratory_test_code\":\"11\",\n",
    "    \"test_date\":\"\",\n",
    "    \"test_type\":\"uniaxial compression\",\n",
    "    \"test_standard\":\"ASTM D7012 D\",\n",
    "    \"test_paramaters\": [ {\"description\":\"\", \"value\":null, \"unit\":\"\"}, {\"description\":\"\", \"value\":null, \"unit\":\"\"} ],\n",
    "    \"test_comment\":\"\",\n",
    "    \"measurement_convention\":\"\",\n",
    "    \"value\":153.5,\n",
    "    \"value_unit\":\"MPa\",\n",
    "    \"value_scale\":\"laboratory\",\n",
    "    \"value_likelihood\":\"data point\",\n",
    "    \"lithology\":\"Diorite\"\n",
    "  },\n",
    "  {\n",
    "    \"id\":\"parameter-20160301-120003-36197876\",\n",
    "    \"type\":\"parameter\",\n",
    "    \"parameter\":\"E\",\n",
    "    \"project_code\":\"Nam E-Moun\",\n",
    "    \"data_source\":\"laboratory\",\n",
    "    \"borehole_code\":\"NE1-02\",\n",
    "    \"sample_code\":\"NE02\",\n",
    "    \"sample_depth_top_m\":20.00,\n",
    "    \"sample_description\":\"\",\n",
    "    \"laboratory\":\"Khon Kaen University\",\n",
    "    \"laboratory_test_code\":\"11\",\n",
    "    \"test_date\":\"\",\n",
    "    \"test_type\":\"E measured during uniaxial compression\",\n",
    "    \"test_standard\":\"ASTM D7012 D\",\n",
    "    \"test_paramaters\": [ {\"description\":\"\", \"value\":null, \"unit\":\"\"}, {\"description\":\"\", \"value\":null, \"unit\":\"\"} ],\n",
    "    \"test_comment\":\"\",\n",
    "    \"measurement_convention\":\"E50\",\n",
    "    \"value\":24630,\n",
    "    \"value_unit\":\"MPa\",\n",
    "    \"value_scale\":\"laboratory\",\n",
    "    \"value_likelihood\":\"data point\",\n",
    "    \"lithology\":\"Diorite\"\n",
    "  },\n",
    "  {\n",
    "    \"id\":\"parameter-20160301-120004-34549427\",\n",
    "    \"type\":\"parameter\",\n",
    "    \"parameter\":\"E\",\n",
    "    \"project_code\":\"Nam E-Moun\",\n",
    "    \"data_source\":\"laboratory\",\n",
    "    \"borehole_code\":\"NE1-02\",\n",
    "    \"sample_code\":\"NE02\",\n",
    "    \"sample_depth_top_m\":20.00,\n",
    "    \"sample_description\":\"\",\n",
    "    \"laboratory\":\"Khon Kaen University\",\n",
    "    \"lab_test_code\":\"11\",\n",
    "    \"test_date\":\"\",\n",
    "    \"test_type\":\"E measured during uniaxial compression\",\n",
    "    \"test_standard\":\"ASTM D7012 D\",\n",
    "    \"test_paramaters\": [ {\"description\":\"\", \"value\":null, \"unit\":\"\"}, {\"description\":\"\", \"value\":null, \"unit\":\"\"} ],\n",
    "    \"test_comment\":\"\",\n",
    "    \"measurement_convention\":\"Es\",\n",
    "    \"value\":18100,\n",
    "    \"value_unit\":\"MPa\",\n",
    "    \"value_scale\":\"laboratory\",\n",
    "    \"value_likelihood\":\"data point\",\n",
    "    \"lithology\":\"Diorite\"\n",
    "  },\n",
    "  {\n",
    "    \"id\":\"project-20160301-120101-18589523\",\n",
    "    \"type\":\"project\",\n",
    "    \"code\": \"NEM\",\n",
    "    \"name\": \"Nam E-Moun\",\n",
    "    \"project_coordinate_system\":\"\"\n",
    "  },\n",
    "  {\n",
    "    \"id\":\"borehole-20160301-120201-11406013\",\n",
    "    \"type\":\"borehole\",\n",
    "    \"code\": \"NE1-01\",\n",
    "    \"x_project_coordinate\":717190.06,\n",
    "    \"y_project_coordinate\":1720999.33,\n",
    "    \"collar_elevation_masl\":null\n",
    "  },\n",
    "  {\n",
    "    \"id\": \"borehole-20160301-120202-89743702\",\n",
    "    \"type\":\"borehole\",\n",
    "    \"code\": \"NE1-02\",\n",
    "    \"x_project_coordinate\":717213.76,\n",
    "    \"y_project_coordinate\":1720937.67,\n",
    "    \"collar_elevation_masl\":null\n",
    "  }\n",
    "]\n",
    "'''\n",
    "\n",
    "records = json.loads(data_json)\n",
    "print json.dumps(records,indent=2,separators=(',',': '))"
   ]
  },
  {
   "cell_type": "code",
   "execution_count": 16,
   "metadata": {
    "collapsed": false,
    "deletable": true,
    "editable": true,
    "scrolled": false
   },
   "outputs": [
    {
     "name": "stdout",
     "output_type": "stream",
     "text": [
      "parameter-20160301-120001-12320013\n",
      "parameter-20160301-120002-90935448\n",
      "parameter-20160301-120003-36197876\n",
      "parameter-20160301-120004-34549427\n",
      "project-20160301-120101-18589523\n",
      "borehole-20160301-120201-11406013\n",
      "borehole-20160301-120202-89743702\n"
     ]
    }
   ],
   "source": [
    "for record in records:\n",
    "    print record[\"id\"]"
   ]
  },
  {
   "cell_type": "markdown",
   "metadata": {
    "deletable": true,
    "editable": true
   },
   "source": [
    "## Upload records into Couchbase"
   ]
  },
  {
   "cell_type": "code",
   "execution_count": 17,
   "metadata": {
    "collapsed": false,
    "deletable": true,
    "editable": true
   },
   "outputs": [
    {
     "name": "stdout",
     "output_type": "stream",
     "text": [
      "record: parameter-20160301-120001-12320013 ...inserted\n",
      "record: parameter-20160301-120002-90935448 ...inserted\n",
      "record: parameter-20160301-120003-36197876 ...inserted\n",
      "record: parameter-20160301-120004-34549427 ...inserted\n",
      "record: project-20160301-120101-18589523 ...inserted\n",
      "record: borehole-20160301-120201-11406013 ...inserted\n",
      "record: borehole-20160301-120202-89743702 ...inserted\n"
     ]
    }
   ],
   "source": [
    "from couchbase.bucket import Bucket\n",
    "cb = Bucket('couchbase://localhost/nem-data')\n",
    "\n",
    "for record in records:\n",
    "    id = record['id']\n",
    "    cb.upsert(id,record)\n",
    "    print \"record: \"+id+\" ...inserted\""
   ]
  },
  {
   "cell_type": "markdown",
   "metadata": {
    "collapsed": true,
    "deletable": true,
    "editable": true
   },
   "source": [
    "## Query Data\n",
    "\n",
    "Note that some field names are apparently reserved words (e.g. *value*) \n",
    "and must be backquoted to avoid syntax errors. \n",
    "\n",
    "Also the database bucket name *nem-data* must also be backquoted because of the embedded '-' in the bucket name\n",
    "\n",
    "### Query only parameter type \"E\" and retrieve only two fields "
   ]
  },
  {
   "cell_type": "code",
   "execution_count": 18,
   "metadata": {
    "collapsed": false,
    "deletable": true,
    "editable": true
   },
   "outputs": [
    {
     "name": "stdout",
     "output_type": "stream",
     "text": [
      "1: E = 24630 MPa\n",
      "2: E = 18100 MPa\n",
      "Rows found: 2\n"
     ]
    }
   ],
   "source": [
    "from couchbase.bucket import Bucket\n",
    "cb = Bucket('couchbase://localhost/nem-data')\n",
    "\n",
    "# Not sure id the following was needed (ran it once, and it worked)\n",
    "# cb.n1ql_query('CREATE PRIMARY INDEX ON `nem-data`').execute()\n",
    "\n",
    "from couchbase.n1ql import N1QLQuery\n",
    "\n",
    "# Note that some field names are apparently reserved words (e.g. value) \n",
    "#   and must be backquoted to avoid syntax errors. Also the database\n",
    "#   bucket name nem-data must also be backquoted because of the embedded\n",
    "#   '-' in the bucket name\n",
    "\n",
    "query = N1QLQuery('SELECT `parameter`, `value`, `value_unit` FROM `nem-data` where `parameter` =\"E\"')\n",
    "\n",
    "row_iter = cb.n1ql_query(query)\n",
    "row_count = 0\n",
    "for row in row_iter: # Note you cannot get the count of items in an iterator without looping on it\n",
    "    row_count += 1\n",
    "    print str(row_count)+\": \"+row['parameter']+\" = \"+str(row['value'])+\" \"+row['value_unit']\n",
    "print \"Rows found: \"+str(row_count)"
   ]
  },
  {
   "cell_type": "markdown",
   "metadata": {
    "deletable": true,
    "editable": true
   },
   "source": [
    "### Query only 'parameter' records\n",
    "\n",
    "Trick for selecting the doc id and a field named id in the same select:\n",
    "  * See: http://stackoverflow.com/questions/34635958/n1ql-select-document-id-and-a-json-field-called-id\n",
    "  "
   ]
  },
  {
   "cell_type": "code",
   "execution_count": 19,
   "metadata": {
    "collapsed": false,
    "deletable": true,
    "editable": true
   },
   "outputs": [
    {
     "name": "stdout",
     "output_type": "stream",
     "text": [
      "{\"doc-id\": \"parameter-20160301-120001-12320013\", \"type\": \"parameter\", \"id\": \"parameter-20160301-120001-12320013\"}\n",
      "{\"doc-id\": \"parameter-20160301-120002-90935448\", \"type\": \"parameter\", \"id\": \"parameter-20160301-120002-90935448\"}\n",
      "{\"doc-id\": \"parameter-20160301-120003-36197876\", \"type\": \"parameter\", \"id\": \"parameter-20160301-120003-36197876\"}\n",
      "{\"doc-id\": \"parameter-20160301-120004-34549427\", \"type\": \"parameter\", \"id\": \"parameter-20160301-120004-34549427\"}\n"
     ]
    }
   ],
   "source": [
    "from couchbase.bucket import Bucket\n",
    "cb = Bucket('couchbase://localhost/nem-data')\n",
    "\n",
    "# Both of these queries return the same thing, but only because the records id field \n",
    "# was used as the 'key value' when the record was insented\n",
    "\n",
    "#query = N1QLQuery('SELECT meta(`nem-data`).id FROM `nem-data` where `id` like \"parameter-%\"')\n",
    "#query = N1QLQuery('SELECT `id` FROM `nem-data` where `id` like \"parameter-%\"')\n",
    "\n",
    "# How to select the document id and the field id at the same fime\n",
    "query = N1QLQuery('SELECT meta(`nem-data`).id `doc-id`, `id`, `type` FROM `nem-data` where `id` like \"parameter-%\"')\n",
    "\n",
    "row_iter = cb.n1ql_query(query)\n",
    "for row in row_iter:\n",
    "    print json.dumps(row)"
   ]
  },
  {
   "cell_type": "markdown",
   "metadata": {
    "deletable": true,
    "editable": true
   },
   "source": [
    "# Use the DataOrganizer Library\n",
    "\n",
    "## Query Language\n",
    "\n",
    " * Dictionary of expressions that are *and*ed together\n",
    " * The dictionary key is a *field name*\n",
    " * The dictionary value is one of the following:\n",
    "   * A *value*, a number or string that is compared against\n",
    "   * A one item diftionary, where:\n",
    "     * The key is an string reperenting an operation code. The following operations codes are allowed:\n",
    "       * '$eq' - Equal to \n",
    "       * '$ne' - Not equal to \n",
    "       * '$gt' - Greater than \n",
    "       * '$gte' - Greater than or equal to\n",
    "       * '$lt' - Less than\n",
    "       * '$lte' - Less than of equal to\n",
    "     * The value is the value to be compared against"
   ]
  },
  {
   "cell_type": "code",
   "execution_count": 9,
   "metadata": {
    "collapsed": false,
    "deletable": true,
    "editable": true
   },
   "outputs": [
    {
     "name": "stdout",
     "output_type": "stream",
     "text": [
      "\n",
      "== Selecting a single record\n",
      "\n",
      "get: key: parameter-20160301-120001-12320013\n",
      "rec: {\n",
      "  \"sample_description\": \"\", \n",
      "  \"measurement_convention\": \"\", \n",
      "  \"test_standard\": \"ASTM D7012 D\", \n",
      "  \"laboratory\": \"Khon Kaen University\", \n",
      "  \"sample_code\": \"NE01\", \n",
      "  \"test_comment\": \"\", \n",
      "  \"id\": \"parameter-20160301-120001-12320013\", \n",
      "  \"type\": \"parameter\", \n",
      "  \"laboratory_test_code\": \"10\", \n",
      "  \"test_type\": \"uniaxial compression\", \n",
      "  \"value_scale\": \"laboratory\", \n",
      "  \"project_code\": \"NEM\", \n",
      "  \"parameter\": \"sigma_c\", \n",
      "  \"lithology\": \"Diorite\", \n",
      "  \"sample_depth_top_m\": 23.1, \n",
      "  \"value_likelihood\": \"data point\", \n",
      "  \"data_source\": \"laboratory\", \n",
      "  \"test_paramaters\": [\n",
      "    {\n",
      "      \"value\": null, \n",
      "      \"description\": \"\", \n",
      "      \"unit\": \"\"\n",
      "    }, \n",
      "    {\n",
      "      \"value\": null, \n",
      "      \"description\": \"\", \n",
      "      \"unit\": \"\"\n",
      "    }\n",
      "  ], \n",
      "  \"borehole_code\": \"NE1-01\", \n",
      "  \"value\": 84.78, \n",
      "  \"test_date\": \"\", \n",
      "  \"value_unit\": \"MPa\"\n",
      "}\n",
      "\n",
      "== Selecting multiple records:\n",
      "\n",
      "select: fields: ['parameter', 'value', 'value_unit']\n",
      "select: selector: {'parameter': 'E'}\n",
      "select: sql: select `parameter`,`value`,`value_unit` from `nem-data` where `parameter` = \"E\" order by `value` desc\n",
      "24630\n",
      "18100\n"
     ]
    }
   ],
   "source": [
    "import json\n",
    "\n",
    "from DataOrganizer import CouchbaseSelector\n",
    "\n",
    "# -- Open the database\n",
    "\n",
    "db = CouchbaseSelector('localhost','nem-data')\n",
    "\n",
    "db.setDebug(True) # Set to true to enable display of debug information\n",
    "\n",
    "# -- Get a single record based on a key\n",
    "\n",
    "print \"\\n== Selecting a single record\\n\"\n",
    "\n",
    "key = 'parameter-20160301-120001-12320013'\n",
    "rec = db.get(key)\n",
    "print \"rec: \"+json.dumps(rec,indent=2)\n",
    "\n",
    "# -- Select a sub-set of fields from a set of records, based on a where clause\n",
    "\n",
    "print \"\\n== Selecting multiple records:\\n\"\n",
    "\n",
    "fields = ['parameter', 'value', 'value_unit']\n",
    "#where = {'parameter': 'E','value': {'$gt': 20000}}\n",
    "where = {'parameter': 'E'}\n",
    "sort = ['value desc'] \n",
    "\n",
    "# Results in the following N1QL (Couchbase SQL) statement: \n",
    "#   select `parameter`,`value`,`value_unit` from `nem-data` where `parameter` = \"E\" and `value` > 20000\n",
    "\n",
    "for rec in db.select(fields, where, sort):\n",
    "    print rec['value']\n",
    "\n",
    "# Returns an iterator containing a single record:\n",
    "#   {'parameter': 'E', 'value_unit': 'MPa', 'value': 24630}"
   ]
  },
  {
   "cell_type": "code",
   "execution_count": 21,
   "metadata": {
    "collapsed": false,
    "deletable": true,
    "editable": true
   },
   "outputs": [
    {
     "name": "stdout",
     "output_type": "stream",
     "text": [
      "select: fields: ['parameter', 'value', 'value_unit']\n",
      "select: selector: {'parameter': 'E', 'data_source': 'laboratory', 'type': 'parameter'}\n",
      "select: sql: select `parameter`,`value`,`value_unit` from `nem-data` where `parameter` = \"E\" and `data_source` = \"laboratory\" and `type` = \"parameter\" \n",
      "{\"parameter\": \"E\", \"value_unit\": \"MPa\", \"value\": 24630}\n",
      "{\"parameter\": \"E\", \"value_unit\": \"MPa\", \"value\": 18100}\n",
      "\n",
      "Total records: 2\n"
     ]
    }
   ],
   "source": [
    "import json\n",
    "\n",
    "from DataOrganizer import CouchbaseSelector\n",
    "\n",
    "db = CouchbaseSelector('localhost','nem-data')\n",
    "\n",
    "db.setDebug(True) # Set to true to enable display of debug information\n",
    "\n",
    "fields = ['parameter', 'value', 'value_unit']\n",
    "where = {'type':'parameter', 'parameter': 'E','data_source': 'laboratory'}\n",
    "\n",
    "# db.getParameter(parameter_name, fields, where)\n",
    "\n",
    "recs = []\n",
    "#for rec in db.select(None, None):\n",
    "for rec in db.select(fields, where):\n",
    "    print json.dumps(rec)\n",
    "    recs.append(rec)\n",
    "    \n",
    "print \"\\nTotal records: \"+str(len(recs))"
   ]
  },
  {
   "cell_type": "markdown",
   "metadata": {
    "collapsed": true,
    "deletable": true,
    "editable": true
   },
   "source": [
    "### Implement getParameter\n"
   ]
  },
  {
   "cell_type": "code",
   "execution_count": 22,
   "metadata": {
    "collapsed": false,
    "deletable": true,
    "editable": true
   },
   "outputs": [
    {
     "ename": "AttributeError",
     "evalue": "CouchbaseSelector instance has no attribute 'getParameter'",
     "output_type": "error",
     "traceback": [
      "\u001b[0;31m---------------------------------------------------------------------------\u001b[0m",
      "\u001b[0;31mAttributeError\u001b[0m                            Traceback (most recent call last)",
      "\u001b[0;32m<ipython-input-22-1097b9d7fbd7>\u001b[0m in \u001b[0;36m<module>\u001b[0;34m()\u001b[0m\n\u001b[1;32m     10\u001b[0m \u001b[0;34m\u001b[0m\u001b[0m\n\u001b[1;32m     11\u001b[0m \u001b[0mrecs\u001b[0m \u001b[0;34m=\u001b[0m \u001b[0;34m[\u001b[0m\u001b[0;34m]\u001b[0m\u001b[0;34m\u001b[0m\u001b[0m\n\u001b[0;32m---> 12\u001b[0;31m \u001b[0;32mfor\u001b[0m \u001b[0mrec\u001b[0m \u001b[0;32min\u001b[0m \u001b[0mdb\u001b[0m\u001b[0;34m.\u001b[0m\u001b[0mgetParameter\u001b[0m\u001b[0;34m(\u001b[0m\u001b[0mparameter\u001b[0m\u001b[0;34m,\u001b[0m \u001b[0mfields\u001b[0m\u001b[0;34m,\u001b[0m \u001b[0mselector\u001b[0m\u001b[0;34m)\u001b[0m\u001b[0;34m:\u001b[0m\u001b[0;34m\u001b[0m\u001b[0m\n\u001b[0m\u001b[1;32m     13\u001b[0m     \u001b[0;32mprint\u001b[0m \u001b[0mjson\u001b[0m\u001b[0;34m.\u001b[0m\u001b[0mdumps\u001b[0m\u001b[0;34m(\u001b[0m\u001b[0mrec\u001b[0m\u001b[0;34m)\u001b[0m\u001b[0;34m\u001b[0m\u001b[0m\n\u001b[1;32m     14\u001b[0m     \u001b[0mrecs\u001b[0m\u001b[0;34m.\u001b[0m\u001b[0mappend\u001b[0m\u001b[0;34m(\u001b[0m\u001b[0mrec\u001b[0m\u001b[0;34m)\u001b[0m\u001b[0;34m\u001b[0m\u001b[0m\n",
      "\u001b[0;31mAttributeError\u001b[0m: CouchbaseSelector instance has no attribute 'getParameter'"
     ]
    }
   ],
   "source": [
    "import json\n",
    "\n",
    "from DataOrganizer import CouchbaseSelector\n",
    "\n",
    "db = CouchbaseSelector('localhost','nem-data')\n",
    "\n",
    "parameter = 'E'\n",
    "fields = ['value', 'value_unit']\n",
    "selector = {'data_source': 'laboratory'}\n",
    "\n",
    "recs = []\n",
    "for rec in db.getParameter(parameter, fields, selector):\n",
    "    print json.dumps(rec)\n",
    "    recs.append(rec)\n"
   ]
  },
  {
   "cell_type": "code",
   "execution_count": null,
   "metadata": {
    "collapsed": false,
    "deletable": true,
    "editable": true
   },
   "outputs": [],
   "source": [
    "recs[0]['value']"
   ]
  },
  {
   "cell_type": "code",
   "execution_count": null,
   "metadata": {
    "collapsed": false,
    "deletable": true,
    "editable": true
   },
   "outputs": [],
   "source": [
    "#values=[]\n",
    "#for rec in recs:\n",
    "#  values.append(rec['value'])\n",
    "#print values\n",
    "\n",
    "# Example with hard-coded data, note value_units: MPa vs. KPa\n",
    "\n",
    "recs = [{\"value_unit\": \"KPa\", \"value\": 24630}, \n",
    "        {\"value_unit\": \"MPa\", \"value\": 18.100}, \n",
    "        # {\"value_unit\": \"m/sec\", \"value\": 0} \n",
    "       ]\n",
    "\n",
    "values = []\n",
    "for rec in recs:\n",
    "    print rec\n",
    "    if rec.get('value_unit') == 'KPa':  # dict.get(key) doesn't throw error when key not found, vs. dict[key]\n",
    "        values.append(rec['value'])\n",
    "    elif rec['value_unit'] == 'MPa': # MPa\n",
    "        values.append(rec['value']*1000)\n",
    "    else:\n",
    "        raise ValueError(\"Invalid units: \"+str(rec['value_unit']))\n",
    "        \n",
    "print values"
   ]
  },
  {
   "cell_type": "markdown",
   "metadata": {
    "collapsed": true,
    "deletable": true,
    "editable": true
   },
   "source": [
    "## Get count and parameter count"
   ]
  },
  {
   "cell_type": "code",
   "execution_count": null,
   "metadata": {
    "collapsed": false,
    "deletable": true,
    "editable": true
   },
   "outputs": [],
   "source": [
    "import json\n",
    "\n",
    "from DataOrganizer import CouchbaseSelector\n",
    "\n",
    "db = CouchbaseSelector('localhost','nem-data')\n",
    "\n",
    "parameter = 'E'\n",
    "selector = {'type': 'parameter'}\n",
    "\n",
    "count = db.get_count(selector)\n",
    "print \"count = \"+str(count)\n",
    "\n",
    "count = db.get_parameter_count(parameter)\n",
    "print \"parameter count = \"+str(count)\n"
   ]
  },
  {
   "cell_type": "code",
   "execution_count": null,
   "metadata": {
    "collapsed": true,
    "deletable": true,
    "editable": true
   },
   "outputs": [],
   "source": []
  }
 ],
 "metadata": {
  "kernelspec": {
   "display_name": "Python 2",
   "language": "python",
   "name": "python2"
  },
  "language_info": {
   "codemirror_mode": {
    "name": "ipython",
    "version": 2
   },
   "file_extension": ".py",
   "mimetype": "text/x-python",
   "name": "python",
   "nbconvert_exporter": "python",
   "pygments_lexer": "ipython2",
   "version": "2.7.6"
  }
 },
 "nbformat": 4,
 "nbformat_minor": 2
}
