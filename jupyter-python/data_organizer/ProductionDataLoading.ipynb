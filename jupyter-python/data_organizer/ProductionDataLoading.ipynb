{
 "cells": [
  {
   "cell_type": "markdown",
   "metadata": {
    "deletable": true,
    "editable": true
   },
   "source": [
    "# Production Data Loading\n",
    "\n",
    " 1. Access _ne1_ Couchbase Database\n",
    " 1. Load CSV files and convert into JSON structure \n",
    " 1. Store the JSON data in Couchbase "
   ]
  },
  {
   "cell_type": "markdown",
   "metadata": {
    "deletable": true,
    "editable": true
   },
   "source": [
    "## Access _ne1_ Couchbase Database\n",
    "\n",
    "  * Create new Couchbase _bucket_ called _n1_ using the Couchbase web browser interface"
   ]
  },
  {
   "cell_type": "code",
   "execution_count": 5,
   "metadata": {
    "collapsed": false,
    "deletable": true,
    "editable": true
   },
   "outputs": [],
   "source": [
    "from couchbase.bucket import Bucket\n",
    "cb = Bucket('couchbase://localhost/ne1')  # If no errors then the access works"
   ]
  },
  {
   "cell_type": "markdown",
   "metadata": {
    "deletable": true,
    "editable": true
   },
   "source": [
    "## Load CSV Data"
   ]
  },
  {
   "cell_type": "code",
   "execution_count": 11,
   "metadata": {
    "collapsed": false,
    "deletable": true,
    "editable": true
   },
   "outputs": [
    {
     "name": "stdout",
     "output_type": "stream",
     "text": [
      "Record counts: \n",
      "  projects:   4\n",
      "  boreholes:  16\n",
      "  parameters: 78\n",
      "TOTAL: 98\n",
      "\n",
      "Example JSON data: project[0]\n",
      "{\n",
      "  \"id\": \"project-20170506-161725-18982845\", \n",
      "  \"project_coordinate_system\": \"UTM\", \n",
      "  \"type\": \"project\", \n",
      "  \"project_code\": \"NEM\", \n",
      "  \"name\": \"Nam E-Moun\"\n",
      "}\n",
      "\n",
      "Example JSON data: borehole[0]\n",
      "{\n",
      "  \"borehole_code\": \"NE1-01\", \n",
      "  \"collar_elevation_masl\": \"\", \n",
      "  \"y_project_coordinate\": \"1720999.33\", \n",
      "  \"x_project_coordinate\": \"717190.06\", \n",
      "  \"type\": \"borehole\", \n",
      "  \"id\": \"borehole-20170506-161725-95637407\"\n",
      "}\n",
      "\n",
      "Example JSON data: parameters[0]\n",
      "{\n",
      "  \"sample_description\": \"\", \n",
      "  \"measurement_convention\": \"\", \n",
      "  \"test_standard\": \"\", \n",
      "  \"sample_code\": \"NE07-1\", \n",
      "  \"test_parameters\": [\n",
      "    {\n",
      "      \"units\": \"MPa\", \n",
      "      \"description\": \"s3\", \n",
      "      \"value\": \"1\"\n",
      "    }, \n",
      "    {\n",
      "      \"units\": \"\", \n",
      "      \"description\": \"\", \n",
      "      \"value\": \"\"\n",
      "    }\n",
      "  ], \n",
      "  \"laboratory\": \"KhonKaen University\", \n",
      "  \"test_comment\": \"\", \n",
      "  \"id\": \"parameter-20170506-161725-94852170\", \n",
      "  \"laboratory_test_code\": \"1\", \n",
      "  \"test_type\": \"Triaxial compression\", \n",
      "  \"value_scale\": \"Laboratory\", \n",
      "  \"project_code\": \"NEM\", \n",
      "  \"type\": \"parameter\", \n",
      "  \"lithology\": \"Sandstone\", \n",
      "  \"sample_depth_top_m\": \"26.75-27.80\", \n",
      "  \"value_likelihood\": \"Data point\", \n",
      "  \"parameter\": \"sigma_c\", \n",
      "  \"data_source\": \"Laboratory\", \n",
      "  \"borehole_code\": \"NE1-07\", \n",
      "  \"value\": \"140.66\", \n",
      "  \"test_date\": \"\", \n",
      "  \"value_unit\": \"MPa\"\n",
      "}\n"
     ]
    }
   ],
   "source": [
    "import json\n",
    "\n",
    "from GeopyUtils import CsvDataReader\n",
    "\n",
    "projects_cdr = CsvDataReader('project', 'data/projects.csv')\n",
    "projects = projects_cdr.read()\n",
    "\n",
    "borehole_cdr = CsvDataReader('borehole', 'data/boreholes.csv')\n",
    "boreholes = borehole_cdr.read()\n",
    "\n",
    "parameter_cdr = CsvDataReader('parameter', 'data/parameters.csv')\n",
    "parameters = parameter_cdr.read()\n",
    "\n",
    "print \"Record counts: \"\n",
    "print \"  projects:   \" + str(len(projects))\n",
    "print \"  boreholes:  \" + str(len(boreholes))\n",
    "print \"  parameters: \" + str(len(parameters))\n",
    "print \"TOTAL: \"+str(len(projects)+len(boreholes)+len(parameters))\n",
    "print \"\\nExample JSON data: project[0]\"\n",
    "print json.dumps(projects[0], indent=2)\n",
    "\n",
    "print \"\\nExample JSON data: borehole[0]\"\n",
    "print json.dumps(boreholes[0], indent=2)\n",
    "\n",
    "print \"\\nExample JSON data: parameters[0]\"\n",
    "print json.dumps(parameters[0], indent=2)\n",
    "\n"
   ]
  },
  {
   "cell_type": "markdown",
   "metadata": {
    "collapsed": true,
    "deletable": true,
    "editable": true
   },
   "source": [
    "# Store in Couchbase\n",
    "\n",
    " * Only run this once!\n",
    " * Then comment out the *cb.insert* statement"
   ]
  },
  {
   "cell_type": "code",
   "execution_count": 7,
   "metadata": {
    "collapsed": false,
    "deletable": true,
    "editable": true
   },
   "outputs": [
    {
     "name": "stdout",
     "output_type": "stream",
     "text": [
      "\n",
      "Loading: projects\n",
      "record: project-20170506-161422-89640853 ..inserted\n",
      "record: project-20170506-161422-77400288 ..inserted\n",
      "record: project-20170506-161422-91216891 ..inserted\n",
      "record: project-20170506-161422-75398597 ..inserted\n",
      "\n",
      "Loading: boreholes\n",
      "record: borehole-20170506-161422-99400977 ..inserted\n",
      "record: borehole-20170506-161422-48152546 ..inserted\n",
      "record: borehole-20170506-161422-07204989 ..inserted\n",
      "record: borehole-20170506-161422-01983169 ..inserted\n",
      "record: borehole-20170506-161422-06182006 ..inserted\n",
      "record: borehole-20170506-161422-77126509 ..inserted\n",
      "record: borehole-20170506-161422-75561531 ..inserted\n",
      "record: borehole-20170506-161422-09904186 ..inserted\n",
      "record: borehole-20170506-161422-68602177 ..inserted\n",
      "record: borehole-20170506-161422-04559434 ..inserted\n",
      "record: borehole-20170506-161422-37868108 ..inserted\n",
      "record: borehole-20170506-161422-99330808 ..inserted\n",
      "record: borehole-20170506-161422-04407515 ..inserted\n",
      "record: borehole-20170506-161422-53461184 ..inserted\n",
      "record: borehole-20170506-161422-63855781 ..inserted\n",
      "record: borehole-20170506-161422-47291149 ..inserted\n",
      "\n",
      "Loading: parameters\n",
      "record: parameter-20170506-161422-97921405 ..inserted\n",
      "record: parameter-20170506-161422-38024857 ..inserted\n",
      "record: parameter-20170506-161422-64519510 ..inserted\n",
      "record: parameter-20170506-161422-35929912 ..inserted\n",
      "record: parameter-20170506-161422-43216752 ..inserted\n",
      "record: parameter-20170506-161422-28802184 ..inserted\n",
      "record: parameter-20170506-161422-66489136 ..inserted\n",
      "record: parameter-20170506-161422-00148717 ..inserted\n",
      "record: parameter-20170506-161422-17338136 ..inserted\n",
      "record: parameter-20170506-161422-60728998 ..inserted\n",
      "record: parameter-20170506-161422-76589442 ..inserted\n",
      "record: parameter-20170506-161422-38334237 ..inserted\n",
      "record: parameter-20170506-161422-79930754 ..inserted\n",
      "record: parameter-20170506-161422-54644743 ..inserted\n",
      "record: parameter-20170506-161422-97881407 ..inserted\n",
      "record: parameter-20170506-161422-09486628 ..inserted\n",
      "record: parameter-20170506-161422-40129013 ..inserted\n",
      "record: parameter-20170506-161422-02591771 ..inserted\n",
      "record: parameter-20170506-161422-46993306 ..inserted\n",
      "record: parameter-20170506-161422-47790682 ..inserted\n",
      "record: parameter-20170506-161422-19461857 ..inserted\n",
      "record: parameter-20170506-161422-33728371 ..inserted\n",
      "record: parameter-20170506-161422-53959366 ..inserted\n",
      "record: parameter-20170506-161422-65102601 ..inserted\n",
      "record: parameter-20170506-161422-32248586 ..inserted\n",
      "record: parameter-20170506-161422-12765156 ..inserted\n",
      "record: parameter-20170506-161422-75391825 ..inserted\n",
      "record: parameter-20170506-161422-77085385 ..inserted\n",
      "record: parameter-20170506-161422-57459700 ..inserted\n",
      "record: parameter-20170506-161422-46585538 ..inserted\n",
      "record: parameter-20170506-161422-24584822 ..inserted\n",
      "record: parameter-20170506-161422-09670992 ..inserted\n",
      "record: parameter-20170506-161422-50411332 ..inserted\n",
      "record: parameter-20170506-161422-78628071 ..inserted\n",
      "record: parameter-20170506-161422-10490934 ..inserted\n",
      "record: parameter-20170506-161422-90826140 ..inserted\n",
      "record: parameter-20170506-161422-65522578 ..inserted\n",
      "record: parameter-20170506-161422-76156224 ..inserted\n",
      "record: parameter-20170506-161422-76344056 ..inserted\n",
      "record: parameter-20170506-161422-21067668 ..inserted\n",
      "record: parameter-20170506-161422-76017018 ..inserted\n",
      "record: parameter-20170506-161422-33133323 ..inserted\n",
      "record: parameter-20170506-161422-29949910 ..inserted\n",
      "record: parameter-20170506-161422-36700639 ..inserted\n",
      "record: parameter-20170506-161422-59328283 ..inserted\n",
      "record: parameter-20170506-161422-18350099 ..inserted\n",
      "record: parameter-20170506-161422-92190529 ..inserted\n",
      "record: parameter-20170506-161422-97869805 ..inserted\n",
      "record: parameter-20170506-161422-74679129 ..inserted\n",
      "record: parameter-20170506-161422-16989747 ..inserted\n",
      "record: parameter-20170506-161422-14966453 ..inserted\n",
      "record: parameter-20170506-161422-18038710 ..inserted\n",
      "record: parameter-20170506-161422-17000191 ..inserted\n",
      "record: parameter-20170506-161422-94552364 ..inserted\n",
      "record: parameter-20170506-161422-62924430 ..inserted\n",
      "record: parameter-20170506-161422-52090388 ..inserted\n",
      "record: parameter-20170506-161422-39102109 ..inserted\n",
      "record: parameter-20170506-161422-87926189 ..inserted\n",
      "record: parameter-20170506-161422-74154664 ..inserted\n",
      "record: parameter-20170506-161422-39530777 ..inserted\n",
      "record: parameter-20170506-161422-34998976 ..inserted\n",
      "record: parameter-20170506-161422-01217210 ..inserted\n",
      "record: parameter-20170506-161422-83296458 ..inserted\n",
      "record: parameter-20170506-161422-76594248 ..inserted\n",
      "record: parameter-20170506-161422-54836048 ..inserted\n",
      "record: parameter-20170506-161422-95308373 ..inserted\n",
      "record: parameter-20170506-161422-49802105 ..inserted\n",
      "record: parameter-20170506-161422-08285303 ..inserted\n",
      "record: parameter-20170506-161422-97290718 ..inserted\n",
      "record: parameter-20170506-161422-86688950 ..inserted\n",
      "record: parameter-20170506-161422-22650755 ..inserted\n",
      "record: parameter-20170506-161422-07802882 ..inserted\n",
      "record: parameter-20170506-161422-29613426 ..inserted\n",
      "record: parameter-20170506-161422-84361442 ..inserted\n",
      "record: parameter-20170506-161422-16232902 ..inserted\n",
      "record: parameter-20170506-161422-13938071 ..inserted\n",
      "record: parameter-20170506-161422-19078184 ..inserted\n",
      "record: parameter-20170506-161422-85922618 ..inserted\n"
     ]
    }
   ],
   "source": [
    "from couchbase.bucket import Bucket\n",
    "cb = Bucket('couchbase://localhost/ne1')\n",
    "\n",
    "def load_records(records):\n",
    "    for record in records:\n",
    "        id = record['id']\n",
    "        ## cb.upsert(id,record)  # DISABLED!!!\n",
    "        print \"record: \"+id+\" ..inserted\"\n",
    "\n",
    "print \"\\nLoading: projects\"\n",
    "load_records(projects)\n",
    "\n",
    "print \"\\nLoading: boreholes\"\n",
    "load_records(boreholes)\n",
    "\n",
    "print \"\\nLoading: parameters\"\n",
    "load_records(parameters)"
   ]
  },
  {
   "cell_type": "markdown",
   "metadata": {
    "deletable": true,
    "editable": true
   },
   "source": [
    "# Read Some Data"
   ]
  },
  {
   "cell_type": "markdown",
   "metadata": {
    "deletable": true,
    "editable": true
   },
   "source": [
    "## Create Default Index\n",
    "\n",
    " * Required for querying. If you don't do this you get an error when you run queries\n",
    " * This should only be run once. Note yet sure how to ensure that happend\n",
    " * For now, run it once and then comment out the *cb.n1ql_query* statement"
   ]
  },
  {
   "cell_type": "code",
   "execution_count": 8,
   "metadata": {
    "collapsed": false,
    "deletable": true,
    "editable": true
   },
   "outputs": [
    {
     "data": {
      "text/plain": [
       "<couchbase.n1ql.N1QLRequest at 0x7fb23802dc90>"
      ]
     },
     "execution_count": 8,
     "metadata": {},
     "output_type": "execute_result"
    }
   ],
   "source": [
    "from couchbase.bucket import Bucket\n",
    "\n",
    "cb = Bucket('couchbase://localhost/ne1')\n",
    "## cb.n1ql_query('CREATE PRIMARY INDEX ON ne1').execute()  # TODO this should only be run one time!\n",
    "\n"
   ]
  },
  {
   "cell_type": "code",
   "execution_count": 13,
   "metadata": {
    "collapsed": false,
    "deletable": true,
    "editable": true
   },
   "outputs": [
    {
     "name": "stdout",
     "output_type": "stream",
     "text": [
      "{\n",
      "  \"ne1\": {\n",
      "    \"borehole_code\": \"NE1-04\", \n",
      "    \"collar_elevation_masl\": \"\", \n",
      "    \"y_project_coordinate\": \"1720943.4\", \n",
      "    \"x_project_coordinate\": \"713446.7\", \n",
      "    \"type\": \"borehole\", \n",
      "    \"id\": \"borehole-20170506-161422-01983169\"\n",
      "  }\n",
      "}\n",
      "\n",
      "Total records: 98\n"
     ]
    }
   ],
   "source": [
    "import json\n",
    "\n",
    "from DataOrganizer import CouchbaseSelector\n",
    "\n",
    "# -- Open the database\n",
    "\n",
    "db = CouchbaseSelector('localhost','ne1')\n",
    "\n",
    "fields = ['parameter', 'type', 'value', 'value_unit']\n",
    "where = {'type': 'parameter', 'parameter': 'E','data_source': 'Laboratory'}\n",
    "\n",
    "# db.getParameter(parameter_name, fields, where)\n",
    "\n",
    "recs = []\n",
    "for rec in db.select(None, None):\n",
    "#for rec in db.select(fields, where):\n",
    "    #print json.dumps(rec, indent=2)\n",
    "    recs.append(rec)\n",
    "    \n",
    "print json.dumps(recs[0],indent=2)\n",
    "print \"\\nTotal records: \"+str(len(recs))"
   ]
  },
  {
   "cell_type": "code",
   "execution_count": null,
   "metadata": {
    "collapsed": true,
    "deletable": true,
    "editable": true
   },
   "outputs": [],
   "source": []
  }
 ],
 "metadata": {
  "kernelspec": {
   "display_name": "Python 2",
   "language": "python",
   "name": "python2"
  },
  "language_info": {
   "codemirror_mode": {
    "name": "ipython",
    "version": 2
   },
   "file_extension": ".py",
   "mimetype": "text/x-python",
   "name": "python",
   "nbconvert_exporter": "python",
   "pygments_lexer": "ipython2",
   "version": "2.7.6"
  }
 },
 "nbformat": 4,
 "nbformat_minor": 2
}
