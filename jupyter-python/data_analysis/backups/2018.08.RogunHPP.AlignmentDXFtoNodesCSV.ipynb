{
 "cells": [
  {
   "cell_type": "markdown",
   "metadata": {},
   "source": [
    "# Rogun HPP - Alignment DXF to Nodes in CSV copy"
   ]
  },
  {
   "cell_type": "code",
   "execution_count": 1,
   "metadata": {
    "collapsed": true
   },
   "outputs": [],
   "source": [
    "# ToDo\n",
    "#   all data (e.g. file names) as variables\n",
    "#   markdown titles\n",
    "#   comments with explanations\n",
    "#   this example use grass script, do again with pygrass defining class & methods (to go into API later)\n"
   ]
  },
  {
   "cell_type": "code",
   "execution_count": 2,
   "metadata": {},
   "outputs": [
    {
     "data": {
      "text/plain": [
       "False"
      ]
     },
     "execution_count": 2,
     "metadata": {},
     "output_type": "execute_result"
    }
   ],
   "source": [
    "# set up Python for GRASS GIS\n",
    "import os\n",
    "import sys\n",
    "import subprocess\n",
    "from IPython.display import Image\n",
    "\n",
    "# set up GRASS GIS runtime environment\n",
    "gisbase = subprocess.check_output([\"grass\", \"--config\", \"path\"]).strip()\n",
    "os.environ['GISBASE'] = gisbase\n",
    "os.environ['GRASS_FONT'] = 'sans'\n",
    "os.environ['GRASS_OVERWRITE'] = '1'  #overwrite existing maps\n",
    "sys.path.append(os.path.join(gisbase, \"etc\", \"python\"))\n",
    "\n",
    "# set display modules to render into a file (named map.png by default)\n",
    "os.environ['GRASS_RENDER_IMMEDIATE'] = 'cairo'\n",
    "os.environ['GRASS_RENDER_FILE_READ'] = 'TRUE'\n",
    "os.environ['GRASS_LEGEND_FILE'] = 'legend.txt'\n",
    "\n",
    "# import GRASS GIS\n",
    "import grass.script as gs\n",
    "import grass.script.setup as gsetup\n",
    "from grass.script import core as grass\n",
    "\n",
    "# for pygrass\n",
    "from grass.pygrass.modules.shortcuts import raster as r, vector as v, general as g, display as d\n",
    "\n",
    "from subprocess import PIPE\n",
    "\n",
    "# further setup for GRASS GIS \n",
    "gs.set_raise_on_error(True)\n",
    "#gs.set_capture_stderr(True)  #might be Python 2 vs 3 issue (unsure if Python 3 required for this Notebook)"
   ]
  },
  {
   "cell_type": "code",
   "execution_count": 3,
   "metadata": {
    "collapsed": true
   },
   "outputs": [],
   "source": [
    "# https://grasswiki.osgeo.org/wiki/GRASS_Python_Scripting_Library\n",
    "# GRASS Python Scripting Library\n",
    "# How to retrieve error messages from read_command():\n",
    "\n",
    "def read2_command(*args, **kwargs):                                                 #rename to e.g. read_grass\n",
    "   kwargs['stdout'] = grass.PIPE\n",
    "   kwargs['stderr'] = grass.PIPE\n",
    "   ps = grass.start_command(*args, **kwargs)\n",
    "   return ps.communicate()"
   ]
  },
  {
   "cell_type": "code",
   "execution_count": 4,
   "metadata": {},
   "outputs": [
    {
     "name": "stdout",
     "output_type": "stream",
     "text": [
      "Cleaning up temporary files...\r\n",
      "Creating new GRASS GIS location/mapset...\r\n",
      "ERROR: Failed to create new location. The location <RogunHPP> already exists.\r\n",
      "Exiting...\r\n"
     ]
    }
   ],
   "source": [
    "# create a mapset (mapset does not already exist)\n",
    "# should only do once (but will report error and exit if already exists)\n",
    "\n",
    "# dir /home/kaelin_joseph/projects/RogunHEP/grassdata  should already exist\n",
    "!grass -c EPSG:3857 /home/kaelin_joseph/projects/RogunHPP/grassdata/RogunHPP -e\n",
    "# should use grass scipt                                                                             ToDo JK !!    \n",
    "\n",
    "# define all parameters separately                                                                   ToDo JK !!\n",
    "#EPSG:3857  #WGS84 Pseudo Mercator"
   ]
  },
  {
   "cell_type": "code",
   "execution_count": 5,
   "metadata": {
    "collapsed": true
   },
   "outputs": [],
   "source": [
    "# open mapset\n",
    "rcfile = gsetup.init(gisbase, \n",
    "         \"/home/kaelin_joseph/projects/RogunHPP/grassdata\",\n",
    "         \"RogunHPP/\", \"PERMANENT\")"
   ]
  },
  {
   "cell_type": "code",
   "execution_count": 6,
   "metadata": {},
   "outputs": [
    {
     "name": "stdout",
     "output_type": "stream",
     "text": [
      "{'MAPSET': 'PERMANENT', 'GISDBASE': '/home/kaelin_joseph/projects/RogunHPP/grassdata', 'LOCATION_NAME': 'RogunHPP/'}\n"
     ]
    }
   ],
   "source": [
    "# check grass env\n",
    "print grass.gisenv()"
   ]
  },
  {
   "cell_type": "code",
   "execution_count": 7,
   "metadata": {},
   "outputs": [
    {
     "data": {
      "text/plain": [
       "('+proj=merc +lat_ts=0.0 +lon_0=0.0 +x_0=0.0 +y_0=0 +k=1.0 +no_defs +a=6378137 +rf=298.257223563 +towgs84=0.000,0.000,0.000 +to_meter=1\\n',\n",
       " '')"
      ]
     },
     "execution_count": 7,
     "metadata": {},
     "output_type": "execute_result"
    }
   ],
   "source": [
    "# check projection info\n",
    "read2_command('g.proj', flags = 'jf')"
   ]
  },
  {
   "cell_type": "code",
   "execution_count": 8,
   "metadata": {},
   "outputs": [
    {
     "data": {
      "text/plain": [
       "['PERMANENT']"
      ]
     },
     "execution_count": 8,
     "metadata": {},
     "output_type": "execute_result"
    }
   ],
   "source": [
    "#check mapsets\n",
    "grass.mapsets()"
   ]
  },
  {
   "cell_type": "code",
   "execution_count": 9,
   "metadata": {},
   "outputs": [
    {
     "data": {
      "text/plain": [
       "''"
      ]
     },
     "execution_count": 9,
     "metadata": {},
     "output_type": "execute_result"
    }
   ],
   "source": [
    "# read dxf data \n",
    "# read2_command(\"v.in.dxf\", input='/home/kaelin_joseph/projects/RogunHPP/data/testing/Aignment_DG4.dxf', \n",
    "#              output='alignment_dg4', flags='e')[0]\n",
    "read2_command(\"v.in.dxf\", input='/home/kaelin_joseph/projects/RogunHPP/data/in/AlignmentDG4.dxf', \n",
    "             output='alignment_dg4', flags='e')[0]\n",
    "\n",
    "# output in 'RogunHPP/PERMANENT/vector/topography2m_r5_reduced'\n",
    "\n",
    "#read2_command(\"v.in.dxf\")\n",
    "# pattern for 'printing grass output nicely\n",
    "#   decode must be applied to each member of tuple\n",
    "#   [0] -> stdout\n",
    "#   [1] -> stderr\n",
    "#   above are according to doc, however it seems that [1] is where all output is                  ToDo JK:  ??"
   ]
  },
  {
   "cell_type": "code",
   "execution_count": 10,
   "metadata": {},
   "outputs": [
    {
     "data": {
      "text/plain": [
       "('', '')"
      ]
     },
     "execution_count": 10,
     "metadata": {},
     "output_type": "execute_result"
    }
   ],
   "source": [
    "# set region from vector data bounds\n",
    "read2_command('g.region', vector='alignment_dg4')"
   ]
  },
  {
   "cell_type": "code",
   "execution_count": 11,
   "metadata": {},
   "outputs": [
    {
     "name": "stdout",
     "output_type": "stream",
     "text": [
      "projection: 99 (Mercator)\n",
      "zone:       0\n",
      "datum:      wgs84\n",
      "ellipsoid:  wgs84\n",
      "north:      23339.93604308\n",
      "south:      23194.19563225\n",
      "west:       27580.10817185\n",
      "east:       27791.7979954\n",
      "nsres:      1.99644398\n",
      "ewres:      1.99707381\n",
      "rows:       73\n",
      "cols:       106\n",
      "cells:      7738\n",
      "\n"
     ]
    }
   ],
   "source": [
    "# check grass region\n",
    "print(g.region(flags='p',stdout_=PIPE).outputs.stdout.decode())\n"
   ]
  },
  {
   "cell_type": "code",
   "execution_count": 12,
   "metadata": {},
   "outputs": [
    {
     "data": {
      "text/plain": [
       "('', 'd.vect complete.\\n')"
      ]
     },
     "execution_count": 12,
     "metadata": {},
     "output_type": "execute_result"
    }
   ],
   "source": [
    "# view and check topography\n",
    "!rm map.png                                                                                 #ToDo JK: pythonize\n",
    "read2_command(\"d.vect\", map='alignment_dg4', color='green')"
   ]
  },
  {
   "cell_type": "code",
   "execution_count": 13,
   "metadata": {},
   "outputs": [
    {
     "data": {
      "image/png": "[encoded data removed]",
      "text/plain": [
       "<IPython.core.display.Image object>"
      ]
     },
     "execution_count": 13,
     "metadata": {},
     "output_type": "execute_result"
    }
   ],
   "source": [
    "Image(filename=\"map.png\")"
   ]
  },
  {
   "cell_type": "code",
   "execution_count": 14,
   "metadata": {},
   "outputs": [
    {
     "name": "stdout",
     "output_type": "stream",
     "text": [
      "WARNING: Vector map <alignment_dg4_points> already exists and will be\n",
      "         overwritten\n",
      "   2%\b\b\b\b\b   6%\b\b\b\b\b   9%\b\b\b\b\b  12%\b\b\b\b\b  16%\b\b\b\b\b  19%\b\b\b\b\b  22%\b\b\b\b\b  25%\b\b\b\b\b  28%\b\b\b\b\b  32%\b\b\b\b\b  35%\b\b\b\b\b  38%\b\b\b\b\b  41%\b\b\b\b\b  44%\b\b\b\b\b  48%\b\b\b\b\b  51%\b\b\b\b\b  54%\b\b\b\b\b  58%\b\b\b\b\b  61%\b\b\b\b\b  64%\b\b\b\b\b  67%\b\b\b\b\b  70%\b\b\b\b\b  74%\b\b\b\b\b  77%\b\b\b\b\b  80%\b\b\b\b\b  83%\b\b\b\b\b  86%\b\b\b\b\b  90%\b\b\b\b\b  93%\b\b\b\b\b  96%\b\b\b\b\b 100%\b\b\b\b\b\n",
      "Building topology for vector map <alignment_dg4_points@PERMANENT>...\n",
      "Registering primitives...\n",
      "\r",
      "162 primitives registered\n",
      "162 vertices registered\n",
      "Building areas...\n",
      "   0%\b\b\b\b\b   2%\b\b\b\b\b   4%\b\b\b\b\b   6%\b\b\b\b\b   8%\b\b\b\b\b  10%\b\b\b\b\b  12%\b\b\b\b\b  14%\b\b\b\b\b  16%\b\b\b\b\b  18%\b\b\b\b\b  20%\b\b\b\b\b  22%\b\b\b\b\b  24%\b\b\b\b\b  26%\b\b\b\b\b  28%\b\b\b\b\b  30%\b\b\b\b\b  32%\b\b\b\b\b  34%\b\b\b\b\b  36%\b\b\b\b\b  38%\b\b\b\b\b  40%\b\b\b\b\b  42%\b\b\b\b\b  44%\b\b\b\b\b  46%\b\b\b\b\b  48%\b\b\b\b\b  50%\b\b\b\b\b  52%\b\b\b\b\b  54%\b\b\b\b\b  56%\b\b\b\b\b  58%\b\b\b\b\b  60%\b\b\b\b\b  62%\b\b\b\b\b  64%\b\b\b\b\b  66%\b\b\b\b\b  68%\b\b\b\b\b  70%\b\b\b\b\b  72%\b\b\b\b\b  74%\b\b\b\b\b  76%\b\b\b\b\b  78%\b\b\b\b\b  80%\b\b\b\b\b  82%\b\b\b\b\b  84%\b\b\b\b\b  86%\b\b\b\b\b  88%\b\b\b\b\b  90%\b\b\b\b\b  92%\b\b\b\b\b  94%\b\b\b\b\b  96%\b\b\b\b\b  98%\b\b\b\b\b 100%\b\b\b\b\b\n",
      "0 areas built\n",
      "0 isles built\n",
      "Attaching islands...\n",
      "Attaching centroids...\n",
      "   1%\b\b\b\b\b   3%\b\b\b\b\b   5%\b\b\b\b\b   7%\b\b\b\b\b   9%\b\b\b\b\b  11%\b\b\b\b\b  13%\b\b\b\b\b  15%\b\b\b\b\b  17%\b\b\b\b\b  19%\b\b\b\b\b  21%\b\b\b\b\b  23%\b\b\b\b\b  25%\b\b\b\b\b  27%\b\b\b\b\b  29%\b\b\b\b\b  31%\b\b\b\b\b  33%\b\b\b\b\b  35%\b\b\b\b\b  37%\b\b\b\b\b  39%\b\b\b\b\b  41%\b\b\b\b\b  43%\b\b\b\b\b  45%\b\b\b\b\b  47%\b\b\b\b\b  49%\b\b\b\b\b  51%\b\b\b\b\b  53%\b\b\b\b\b  55%\b\b\b\b\b  57%\b\b\b\b\b  59%\b\b\b\b\b  61%\b\b\b\b\b  63%\b\b\b\b\b  65%\b\b\b\b\b  67%\b\b\b\b\b  69%\b\b\b\b\b  71%\b\b\b\b\b  73%\b\b\b\b\b  75%\b\b\b\b\b  77%\b\b\b\b\b  79%\b\b\b\b\b  81%\b\b\b\b\b  83%\b\b\b\b\b  85%\b\b\b\b\b  87%\b\b\b\b\b  89%\b\b\b\b\b  91%\b\b\b\b\b  93%\b\b\b\b\b  95%\b\b\b\b\b  97%\b\b\b\b\b  99%\b\b\b\b\b 100%\b\b\b\b\b\n",
      "Number of nodes: 0\n",
      "Number of primitives: 162\n",
      "Number of points: 162\n",
      "Number of lines: 0\n",
      "Number of boundaries: 0\n",
      "Number of centroids: 0\n",
      "Number of areas: 0\n",
      "Number of isles: 0\n",
      "v.to.points complete. 162 points written to output vector map.\n",
      "\n"
     ]
    }
   ],
   "source": [
    "points_out = read2_command(\"v.to.points\", input='alignment_dg4', output='alignment_dg4_points') \n",
    "print(points_out[1].decode())"
   ]
  },
  {
   "cell_type": "code",
   "execution_count": 15,
   "metadata": {},
   "outputs": [
    {
     "data": {
      "text/plain": [
       "('', 'd.vect complete.\\n')"
      ]
     },
     "execution_count": 15,
     "metadata": {},
     "output_type": "execute_result"
    }
   ],
   "source": [
    "# view and check topography\n",
    "read2_command(\"d.vect\", map='alignment_dg4_points', color='red')"
   ]
  },
  {
   "cell_type": "code",
   "execution_count": 16,
   "metadata": {},
   "outputs": [
    {
     "data": {
      "image/png": "[encoded data removed]",
      "text/plain": [
       "<IPython.core.display.Image object>"
      ]
     },
     "execution_count": 16,
     "metadata": {},
     "output_type": "execute_result"
    }
   ],
   "source": [
    "Image(filename=\"map.png\")"
   ]
  },
  {
   "cell_type": "code",
   "execution_count": 17,
   "metadata": {},
   "outputs": [
    {
     "data": {
      "text/plain": [
       "('', '')"
      ]
     },
     "execution_count": 17,
     "metadata": {},
     "output_type": "execute_result"
    }
   ],
   "source": [
    "read2_command(\"v.out.ascii\", input='alignment_dg4_points', type='point', separator=',',\n",
    "              output='alignment_dg4_points.csv')\n"
   ]
  },
  {
   "cell_type": "code",
   "execution_count": 18,
   "metadata": {},
   "outputs": [
    {
     "name": "stdout",
     "output_type": "stream",
     "text": [
      "27583.60404637,23291.1348002,1050.49520695,1\r\n",
      "27584.42352706,23301.1011662,1050.49520695,1\r\n",
      "27588.25316284,23312.77390829,1050.49520695,2\r\n",
      "27589.94335163,23314.25737834,1050.49520695,2\r\n",
      "27586.61417277,23310.65393938,1050.49520695,3\r\n"
     ]
    }
   ],
   "source": [
    "!head -5 alignment_dg4_points.csv                                                            #ToDo JK: pythonize"
   ]
  },
  {
   "cell_type": "code",
   "execution_count": 19,
   "metadata": {
    "collapsed": true
   },
   "outputs": [],
   "source": [
    "#!v.out.ascii  --help"
   ]
  },
  {
   "cell_type": "code",
   "execution_count": 20,
   "metadata": {},
   "outputs": [
    {
     "data": {
      "text/plain": [
       "('', '')"
      ]
     },
     "execution_count": 20,
     "metadata": {},
     "output_type": "execute_result"
    }
   ],
   "source": [
    "read2_command(\"v.out.ascii\", input='alignment_dg4', type='line', format='wkt', \n",
    "              output='alignment_dg4_lines.csv')\n"
   ]
  },
  {
   "cell_type": "code",
   "execution_count": 21,
   "metadata": {},
   "outputs": [
    {
     "name": "stdout",
     "output_type": "stream",
     "text": [
      "LINESTRING(27583.60404637 23291.13480020 1050.49520695, 27584.42352706 23301.10116620 1050.49520695)\r\n",
      "LINESTRING(27588.25316284 23312.77390829 1050.49520695, 27589.94335163 23314.25737834 1050.49520695)\r\n",
      "LINESTRING(27586.61417277 23310.65393938 1050.49520695, 27588.25316284 23312.77390829 1050.49520695)\r\n",
      "LINESTRING(27584.88023421 23306.06464082 1050.49520695, 27586.61417277 23310.65393938 1050.49520695)\r\n",
      "LINESTRING(27584.74069620 23304.95851609 1050.49520695, 27584.88023421 23306.06464082 1050.49520695)\r\n"
     ]
    }
   ],
   "source": [
    "!head -5 alignment_dg4_lines.csv                                                            #ToDo JK: pythonize"
   ]
  },
  {
   "cell_type": "code",
   "execution_count": 22,
   "metadata": {
    "collapsed": true
   },
   "outputs": [],
   "source": [
    "# cut LINESTRING (first 10 char's) from each line of 'lines' output file\n"
   ]
  }
 ],
 "metadata": {
  "kernelspec": {
   "display_name": "Python 3",
   "language": "python",
   "name": "python3"
  },
  "language_info": {
   "codemirror_mode": {
    "name": "ipython",
    "version": 2
   },
   "file_extension": ".py",
   "mimetype": "text/x-python",
   "name": "python",
   "nbconvert_exporter": "python",
   "pygments_lexer": "ipython2",
   "version": "2.7.12"
  }
 },
 "nbformat": 4,
 "nbformat_minor": 2
}
