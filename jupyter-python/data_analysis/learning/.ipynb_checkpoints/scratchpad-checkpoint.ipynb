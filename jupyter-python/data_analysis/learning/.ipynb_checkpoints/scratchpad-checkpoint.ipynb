{
 "cells": [
  {
   "cell_type": "markdown",
   "metadata": {},
   "source": [
    "<p><strong>Geotechnical Calculator and Engineering Notebook <br>\n",
    "   An Engineering App</strong></p>"
   ]
  },
  {
   "cell_type": "markdown",
   "metadata": {},
   "source": [
    "<p>This Jupyter site is for exploring the use of python for engineering calculations. Enjoy. Kindly keep your work inside the ./shared/jupyter-python/geotechnical/ folder. You can start off working in this scratchpad. Once you get going, you can develop your first calculation procedures in your own Notebook (File -> New Notebook). </p>"
   ]
  },
  {
   "cell_type": "markdown",
   "metadata": {},
   "source": [
    "<p><i>Jupyter runs on python 3 (you will need to read your python documentation accordingly).</i></p>"
   ]
  },
  {
   "cell_type": "code",
   "execution_count": 1,
   "metadata": {},
   "outputs": [],
   "source": [
    "import sys\n",
    "import numpy as np #from numpy import *\n",
    "import matplotlib.pyplot as plt\n",
    "pi=np.pi\n",
    "#%matplotlib inline"
   ]
  },
  {
   "cell_type": "code",
   "execution_count": 2,
   "metadata": {},
   "outputs": [],
   "source": [
    "# Simple example of defining and using a python function for UCS"
   ]
  },
  {
   "cell_type": "code",
   "execution_count": 3,
   "metadata": {},
   "outputs": [],
   "source": [
    "def ucs(c,phi):\n",
    "    # calculate unconfined compressive strength (UCS) from cohesion and friction angle\n",
    "    sigma_u_comp = (2 * c * np.cos(phi * np.pi / 180.)) / (1 - np.sin(phi * np.pi / 180. ))\n",
    "    return c, phi, sigma_u_comp"
   ]
  },
  {
   "cell_type": "code",
   "execution_count": 41,
   "metadata": {},
   "outputs": [
    {
     "data": {
      "text/plain": [
       "(0.2, 30, 0.692820323027551)"
      ]
     },
     "execution_count": 41,
     "metadata": {},
     "output_type": "execute_result"
    }
   ],
   "source": [
    "ucs(0.2, 30)"
   ]
  },
  {
   "cell_type": "code",
   "execution_count": 5,
   "metadata": {
    "collapsed": true
   },
   "outputs": [],
   "source": [
    "# Example for UCS of a jointed rock material"
   ]
  },
  {
   "cell_type": "code",
   "execution_count": 6,
   "metadata": {
    "collapsed": true
   },
   "outputs": [],
   "source": [
    "def ucs_anisotropic(c,phi,beta):\n",
    "    # calculate unconfined compressive strength (UCS) from cohesion, friction angle and \n",
    "    # slope (measured from horizontal) of a single weak failure plane\n",
    "    # reference: Rock Mechanics for Underground Mining, Brady and Brown, 1985, Sect. 4.6, Eqn. 4.27 (page 114)\n",
    "    beta = np.array(beta)   # beta array input\n",
    "    sigma_u_comp = (2 * c / \n",
    "               ( (1 - np.tan(phi * np.pi / 180.) * (1 / np.tan(beta * np.pi / 180.)) ) \n",
    "                  * np.sin(2*beta * np.pi / 180.))\n",
    "               )      \n",
    "    return c, phi, beta, sigma_u_comp\n",
    "    # we should differentiate between testing, empirical and computed data "
   ]
  },
  {
   "cell_type": "code",
   "execution_count": 7,
   "metadata": {},
   "outputs": [
    {
     "data": {
      "text/plain": [
       "(1000.0,\n",
       " 20,\n",
       " array([40., 50., 60., 70., 80.]),\n",
       " array([3586.57705063, 2923.80440016, 2923.80440016, 3586.57705063,\n",
       "        6248.63208881]))"
      ]
     },
     "execution_count": 7,
     "metadata": {},
     "output_type": "execute_result"
    }
   ],
   "source": [
    "ucs_anisotropic(1000.0,20,[40.0,50.0,60.0,70.0,80.0])"
   ]
  },
  {
   "cell_type": "code",
   "execution_count": 8,
   "metadata": {},
   "outputs": [
    {
     "data": {
      "text/plain": [
       "[<matplotlib.lines.Line2D at 0x7f7520a09510>]"
      ]
     },
     "execution_count": 8,
     "metadata": {},
     "output_type": "execute_result"
    }
   ],
   "source": [
    "beta = np.linspace(30,80,10)\n",
    "#print (ucs_anisotropic(1000.0,30.0,beta))\n",
    "plt.plot(beta,ucs_anisotropic(1000.0,20.0,beta)[3])"
   ]
  },
  {
   "cell_type": "code",
   "execution_count": 9,
   "metadata": {
    "collapsed": true
   },
   "outputs": [],
   "source": [
    "# Example for ground reaction curve"
   ]
  },
  {
   "cell_type": "code",
   "execution_count": 10,
   "metadata": {
    "collapsed": true
   },
   "outputs": [],
   "source": [
    "def TunnelConvergence_ElastoPerfectPlastic_DuncanFama(P,P_support,E,nu,phi,c,r_excv):\n",
    "    # Duncan - Fama, 1993 (from 12_Tunnels_in_weak_rock, Hoek's corner)\n",
    "    P_support = np.array(P_support)   # P_support array input\n",
    "    #     \n",
    "    sigma_u = (2 * c * np.cos(phi * pi / 180.)) / (1 - np.sin(phi * pi / 180. ))\n",
    "    N_phi = (1 + np.sin(phi * pi / 180. )) / (1 - np.sin(phi * pi / 180. ))\n",
    "    r_plastic = (r_excv * \n",
    "                 ((2 * (P + (sigma_u / (N_phi - 1)))) / ((N_phi + 1) * (P_support + (sigma_u / (N_phi - 1)))))\n",
    "                 **(1 / (N_phi - 1))\n",
    "                 )\n",
    "    P_critical = (2*P - sigma_u) / (1+N_phi)\n",
    "    u_excv_elastic = ( (r_excv*(1+nu)/E) * (P - P_support) )\n",
    "    u_excv = ( (r_excv*(1+nu)/E)  \n",
    "              * ( 2*(1-nu)*(P-P_critical)*np.square(r_plastic/r_excv) - (1-2*nu)*(P - P_support) ) )\n",
    "    return sigma_u,u_excv_elastic, u_excv, r_plastic, P_critical"
   ]
  },
  {
   "cell_type": "code",
   "execution_count": 11,
   "metadata": {},
   "outputs": [
    {
     "name": "stdout",
     "output_type": "stream",
     "text": [
      "('P_critical=', 2.8841248203964236)\n"
     ]
    },
    {
     "data": {
      "text/plain": [
       "[<matplotlib.lines.Line2D at 0x7f7520a17110>]"
      ]
     },
     "execution_count": 11,
     "metadata": {},
     "output_type": "execute_result"
    }
   ],
   "source": [
    "# Verification from 12_Tunnels_in_weak_rock, Hoek's corner, Figure 4\n",
    "# Duncan - Fama, 1993\n",
    "P_supp = np.linspace(7, 0, 15) \n",
    "P_critical = TunnelConvergence_ElastoPerfectPlastic_DuncanFama(7,P_supp,1800,0.3,23,1.5,5)[4]\n",
    "P_supp = np.concatenate([np.linspace(7, P_critical,num=5),np.linspace(P_critical,0,num=10)])\n",
    "print (\"P_critical=\",P_critical)\n",
    "plt.plot((TunnelConvergence_ElastoPerfectPlastic_DuncanFama(7,P_supp[P_supp>=P_critical],1800,0.3,23,1.5,5)[1]), P_supp[P_supp>=P_critical])\n",
    "plt.plot((TunnelConvergence_ElastoPerfectPlastic_DuncanFama(7,P_supp[P_supp<=P_critical],1800,0.3,23,1.5,5)[2]), P_supp[P_supp<=P_critical])"
   ]
  },
  {
   "cell_type": "code",
   "execution_count": 12,
   "metadata": {
    "collapsed": true
   },
   "outputs": [],
   "source": [
    "# rainfall example"
   ]
  },
  {
   "cell_type": "code",
   "execution_count": 13,
   "metadata": {},
   "outputs": [],
   "source": [
    "# Berechnung Niederschlagsintentisät nach Hörler und Rhein (1962)\n",
    "def Ni(K,B): # K: l*min/(ha*s), Ortskontante in Abhängigkeit Wiederkehrintervall. \n",
    "                 #B: Ortskonstante in [min]\n",
    "    x = np.arange(1.,24.,1)     #zu berücksichtigende Regendauer\n",
    "    T=5.*x   # Regendauer in min\n",
    "    r=(K/(T+B))    #l/(s*ha), Regenintensität\n",
    "    r_v=r*(T*60./10000.) #mm/m^2, Regenhöhe\n",
    "    return r, r_v "
   ]
  },
  {
   "cell_type": "code",
   "execution_count": 14,
   "metadata": {},
   "outputs": [
    {
     "data": {
      "text/plain": [
       "(array([233.33333333, 175.        , 140.        , 116.66666667,\n",
       "        100.        ,  87.5       ,  77.77777778,  70.        ,\n",
       "         63.63636364,  58.33333333,  53.84615385,  50.        ,\n",
       "         46.66666667,  43.75      ,  41.17647059,  38.88888889,\n",
       "         36.84210526,  35.        ,  33.33333333,  31.81818182,\n",
       "         30.43478261,  29.16666667,  28.        ]),\n",
       " array([ 7.        , 10.5       , 12.6       , 14.        , 15.        ,\n",
       "        15.75      , 16.33333333, 16.8       , 17.18181818, 17.5       ,\n",
       "        17.76923077, 18.        , 18.2       , 18.375     , 18.52941176,\n",
       "        18.66666667, 18.78947368, 18.9       , 19.        , 19.09090909,\n",
       "        19.17391304, 19.25      , 19.32      ]))"
      ]
     },
     "execution_count": 14,
     "metadata": {},
     "output_type": "execute_result"
    }
   ],
   "source": [
    "Ni(3500.,10.) #Ortskonstanten für Basel"
   ]
  },
  {
   "cell_type": "code",
   "execution_count": 15,
   "metadata": {
    "collapsed": true
   },
   "outputs": [],
   "source": [
    "#plotting rainfall function over time"
   ]
  },
  {
   "cell_type": "code",
   "execution_count": 16,
   "metadata": {},
   "outputs": [],
   "source": [
    "# fig, ax1 = plt.subplots()\n",
    "# x = np.arange(1.,24.,1)\n",
    "# T=5.*x   # Regendauer in min\n",
    "# ax1.plot(T, Ni(3500.,10.)[0], 'b-')\n",
    "# ax1.set_xlabel('Niederschlagsdauer $[min]$')\n",
    "# ax1.set_ylabel('Regenintensität $[l/(s \\cdot ha)]$', color='b')\n",
    "# for tl in ax1.get_yticklabels():\n",
    "#     tl.set_color('b')\n",
    "\n",
    "# ax2 = ax1.twinx()\n",
    "# ax2.plot(T, Ni(3500.,10.)[1], 'r.')\n",
    "# ax2.set_ylabel('Niederschlagshöhe $[mm]$', color='r')\n",
    "# for tl in ax2.get_yticklabels():\n",
    "#     tl.set_color('r')\n",
    "# plt.show()"
   ]
  },
  {
   "cell_type": "code",
   "execution_count": 17,
   "metadata": {},
   "outputs": [
    {
     "name": "stdout",
     "output_type": "stream",
     "text": [
      "Stress around a circular hole in an infinite elastic material - after Kirsch\n",
      "('Unit weight g =', 25.0, 'kNm3')\n",
      "('Overburden T =', 500.0, 'm')\n",
      "('Verrtical in-situ stress sv =', 12500.0, 'kPa')\n",
      "('k0x =', 1.0, '-')\n",
      "('Horizotal in-situ stress sh =', 12500.0, 'kPa')\n",
      "('Mean stress P0 =', 12500.0, 'kPa')\n",
      "('Deviatoric stress Q =', 0.0, 'kPa')\n",
      "('Angle =', 45.0, '\\xc2\\xb0')\n",
      "('Radial stress @ extrados sr =', 0.0, 'kPa')\n",
      "('Tangential stress @ extrados st =', 25000.0, 'kPa')\n",
      "('Shear stress @ extrados ss =', 0.0, 'kPa')\n"
     ]
    },
    {
     "data": {
      "image/png": "[encoded data removed]",
      "text/plain": [
       "<matplotlib.figure.Figure at 0x7f7522d50c10>"
      ]
     },
     "metadata": {},
     "output_type": "display_data"
    }
   ],
   "source": [
    "# 2D Stress around a circle in an infinite elastic continuum\n",
    "# Kirsch. 1898. Die Theorie der Elastizität und die Bedürfnisse der Festigkeitslehre.\n",
    "# Zeitschrift des Vereines deutscher Ingenieure. 42. 797–807.\n",
    "#\n",
    "# Modules\n",
    "#\n",
    "import math\n",
    "import numpy as np\n",
    "import matplotlib.pyplot as plt\n",
    "#\n",
    "# Variables\n",
    "#\n",
    "overburden = 500.0  # m\n",
    "unit_weight = 25.0  # kN/m3\n",
    "k0x = 1.0  # -\n",
    "Outside_Diameter = 10.0  # m\n",
    "theta_deg = 45.0  # °\n",
    "#\n",
    "# Formulas\n",
    "#\n",
    "Distance = np.arange(0., Outside_Diameter * 3, Outside_Diameter / 40)  # m\n",
    "Outside_Radius = Outside_Diameter / 2\n",
    "Outside_Distance = Outside_Radius + Distance\n",
    "theta_rad = theta_deg * math.pi / 180  # -\n",
    "y_stress = overburden * unit_weight  # MPa\n",
    "x_stress = y_stress * k0x\n",
    "mean_stress = (y_stress + x_stress) / 2\n",
    "dev_stress = (y_stress - x_stress) / 2\n",
    "#\n",
    "# Radial Stress\n",
    "rad_stress = y_stress / 2 * ((1 + k0x) * (1 - Outside_Radius ** 2 / Outside_Distance ** 2)\n",
    "                             - (1 - k0x) * (1 - 4 * Outside_Radius ** 4 / Outside_Distance ** 4\n",
    "                                            + 3 * Outside_Radius ** 3 / Outside_Distance ** 3)\n",
    "                             * math.cos(2 * theta_rad))\n",
    "#\n",
    "# Tangential Stress\n",
    "tan_stress = y_stress / 2 * ((1 + k0x) * (1 + Outside_Radius ** 2 / Outside_Distance ** 2)\n",
    "                             + (1 - k0x) * (1 + 3 * Outside_Radius ** 3 / Outside_Distance ** 3)\n",
    "                             * math.cos(2 * theta_rad))\n",
    "#\n",
    "# Shear Stress\n",
    "shear_stress = y_stress / 2 * ((1 - k0x) * (1 + 2 * Outside_Radius ** 2 / Outside_Distance ** 2\n",
    "                                            - 3 * Outside_Radius ** 4 / Outside_Distance ** 4)\n",
    "                               * math.sin(2 * theta_rad))\n",
    "#\n",
    "# Print\n",
    "#\n",
    "print(\"Stress around a circular hole in an infinite elastic material - after Kirsch\")\n",
    "print(\"Unit weight g =\", round(unit_weight, 1), \"kNm3\")\n",
    "print(\"Overburden T =\", round(overburden, 0), \"m\")\n",
    "print(\"Verrtical in-situ stress sv =\", round(y_stress, 0), \"kPa\")\n",
    "print(\"k0x =\", round(k0x, 2), \"-\")\n",
    "print(\"Horizotal in-situ stress sh =\", round(x_stress, 0), \"kPa\")\n",
    "print(\"Mean stress P0 =\", round(mean_stress, 0), \"kPa\")\n",
    "print(\"Deviatoric stress Q =\", round(dev_stress, 0), \"kPa\")\n",
    "print(\"Angle =\", round(theta_deg, 0), \"°\")\n",
    "print(\"Radial stress @ extrados sr =\", round(rad_stress[0], 0), \"kPa\")\n",
    "print(\"Tangential stress @ extrados st =\", round(tan_stress[0], 0), \"kPa\")\n",
    "print(\"Shear stress @ extrados ss =\", round(shear_stress[0], 0), \"kPa\")\n",
    "#\n",
    "# Plot\n",
    "#\n",
    "plt.plot(Distance, rad_stress, 'b', label='Radial Stress', linewidth=1)  # x1, y1, colour, label, line\n",
    "plt.plot(Distance, tan_stress, 'r', label='Tangential Stress', linewidth=1)  # x1, y1, colour, label, line\n",
    "plt.plot(Distance, shear_stress, 'g', label='Shear Stress', linewidth=1)  # x1, y1, colour, label, line\n",
    "#\n",
    "plt.grid(True)  # gridlines\n",
    "plt.ylabel('Stress [kPa]')  # grid label\n",
    "plt.xlabel('Distance [m]')  # grid label\n",
    "plt.legend()  # legend\n",
    "plt.show()  # opens plot window\n"
   ]
  },
  {
   "cell_type": "code",
   "execution_count": 43,
   "metadata": {},
   "outputs": [
    {
     "name": "stdout",
     "output_type": "stream",
     "text": [
      "Stress around a circular hole in an infinite elasto-plastic material - after Salencon\n",
      "('Friction f = ', 30.0, '\\xc2\\xb0')\n",
      "('Cohesion c =', 500.0, 'kPa')\n",
      "('UCS =', 1732.0, 'kPa')\n",
      "('Kp =', 3.0, '-')\n",
      "('Support pressure P =', 0.0, 'kPa')\n",
      "('Unit weight g =', 25.0, 'kNm3')\n",
      "('Overburden T =', 70.0, 'm')\n",
      "('k0x =', 1.0, '-')\n",
      "('Mean stress P0=', 1750.0, 'kPa')\n",
      "('Radial stress @ extrados sr =', 0.0, 'kPa')\n",
      "('Tangential stress @ extrados st =', 1732.0, 'kPa')\n",
      "('Plastic radius R0 =', 5.4, 'm')\n"
     ]
    },
    {
     "data": {
      "image/png": "[encoded data removed]",
      "text/plain": [
       "<matplotlib.figure.Figure at 0x7f75208c2e10>"
      ]
     },
     "metadata": {},
     "output_type": "display_data"
    }
   ],
   "source": [
    "# 2D Stress around a circle in an infinite plastic continuum\n",
    "# Salencon, J. 1969. Contraction Quasi-Statique D’une Cavite a Symetrie Spherique Ou Cylindrique Dans\n",
    "# Un Milieu Elasto-Plastique. Annales Des Ports Et Chaussees. Vol. 4. pp. 231-236.\n",
    "#\n",
    "# Modules\n",
    "#\n",
    "import math\n",
    "import numpy as np\n",
    "import matplotlib.pyplot as plt\n",
    "#\n",
    "# Variables\n",
    "#\n",
    "Cohesion = 500.0  # kPa\n",
    "Friction = 30.0  # °\n",
    "unit_weight = 25.0  # kN/m3\n",
    "overburden = 70.0  # m\n",
    "k0x = 1.0  # -\n",
    "Support_Pressure = 0.0  # kPa\n",
    "Outside_Diameter = 8.8  # m\n",
    "#\n",
    "# Formulas\n",
    "#\n",
    "# Initial calculations\n",
    "Outside_Radius = Outside_Diameter / 2\n",
    "# Passive earthpressure coefficient\n",
    "Kp = (1.0 + math.sin(Friction * math.pi / 180.0)) / (1.0 - math.sin(Friction * math.pi / 180.0))\n",
    "# UCS\n",
    "q = 2.0 * Cohesion * math.tan((45 + Friction / 2) * math.pi / 180)\n",
    "# Mean stress\n",
    "P0 = 1.0 / 2.0 * overburden * unit_weight * (1 + k0x)\n",
    "# Plastic radius\n",
    "R0 = Outside_Radius * ((2 / (Kp + 1)) * (P0 + q / (Kp - 1.0)) / (Support_Pressure + q / (Kp - 1))) ** (1 / (Kp - 1))\n",
    "# Radial stress @\n",
    "sri = 1 / (Kp + 1.0) * (2.0 * P0 - q)\n",
    "# Ranges\n",
    "Elastic_range = np.arange(R0, Outside_Diameter * 3 + Outside_Radius, (Outside_Diameter * 3 - R0) / 40)  # m\n",
    "Plastic_range = np.arange(Outside_Radius, Elastic_range[0], (R0 - Outside_Radius) / 40)  # m\n",
    "#\n",
    "# Radial & tangential stress\n",
    "#\n",
    "sre = P0 - (P0 - sri) * (R0 / Elastic_range) ** 2\n",
    "ste = P0 + (P0 - sri) * (R0 / Elastic_range) ** 2\n",
    "srp = - q / (Kp - 1) + (Support_Pressure + q / (Kp - 1)) * (Plastic_range / Outside_Radius) ** (Kp - 1)\n",
    "stp = - q / (Kp - 1) + Kp * (Support_Pressure + q / (Kp - 1)) * (Plastic_range / Outside_Radius) ** (Kp - 1)\n",
    "#\n",
    "# Print\n",
    "#\n",
    "print(\"Stress around a circular hole in an infinite elasto-plastic material - after Salencon\")\n",
    "print(\"Friction f = \", round(Friction, 1), \"°\")\n",
    "print(\"Cohesion c =\", round(Cohesion, 0), \"kPa\")\n",
    "print(\"UCS =\", round(q, 0), \"kPa\")\n",
    "print(\"Kp =\", round(Kp, 2), \"-\")\n",
    "print(\"Support pressure P =\", round(Support_Pressure, 0), \"kPa\")\n",
    "print(\"Unit weight g =\", round(unit_weight, 1), \"kNm3\")\n",
    "print(\"Overburden T =\", round(overburden, 0), \"m\")\n",
    "print(\"k0x =\", round(k0x, 2), \"-\")\n",
    "print(\"Mean stress P0=\", round(P0, 0), \"kPa\")\n",
    "print(\"Radial stress @ extrados sr =\", round(srp[0], 0), \"kPa\")\n",
    "print(\"Tangential stress @ extrados st =\", round(stp[0], 0), \"kPa\")\n",
    "print(\"Plastic radius R0 =\", round(R0, 1), \"m\")\n",
    "#\n",
    "# Plot\n",
    "#\n",
    "Plastic_Disance = Plastic_range - Outside_Radius\n",
    "Elastic_Distance = Elastic_range - Outside_Radius\n",
    "#\n",
    "plt.plot(Plastic_Disance, srp, 'b', label='Radial Stress', linewidth=1)  # x1, y1, colour, label, line\n",
    "plt.plot(Elastic_Distance, sre, 'b', linewidth=1)  # x1, y1, colour, label, line\n",
    "plt.plot(Plastic_Disance, stp, 'r', label='Tangential Stress', linewidth=1)  # x1, y1, colour, label, line\n",
    "plt.plot(Elastic_Distance, ste, 'r', linewidth=1)  # x1, y1, colour, label, line\n",
    "plt.plot((R0 - Outside_Radius), ste[0], \"rs\")  # x1, y1, colour & marker\n",
    "plt.plot((R0 - Outside_Radius), sre[0], \"bs\")  # x1, y1, colour & marker\n",
    "#\n",
    "plt.grid(True)  # gridlines\n",
    "plt.ylabel('Stress [kPa]')  # grid label\n",
    "plt.xlabel('Distance [m]')  # grid label\n",
    "plt.legend()  # legend\n",
    "plt.show()  # opens plot window"
   ]
  },
  {
   "cell_type": "code",
   "execution_count": 19,
   "metadata": {},
   "outputs": [
    {
     "name": "stdout",
     "output_type": "stream",
     "text": [
      "Radial flow towards a well in an unconfined aquifer - after Dupuis\n",
      "('Well depth H =', 30.0, 'm')\n",
      "('Water level in well h0 =', 20.0, 'm')\n",
      "('Well radius r0 =', 0.15, 'm')\n",
      "('Hydraulic conductivity k =', 1e-05, 'm/s')\n",
      "('Influence radius R =', 95.0, 'm')\n",
      "('Punmping quantity Q =', 0.002, 'm3/s')\n"
     ]
    },
    {
     "data": {
      "image/png": "[encoded data removed]",
      "text/plain": [
       "<matplotlib.figure.Figure at 0x7f7520a24650>"
      ]
     },
     "metadata": {},
     "output_type": "display_data"
    }
   ],
   "source": [
    "# Radial flow towards a well\n",
    "# Darcy, H. 1856. Les Fontaines Publiques de la Ville de Dijon. Paris, France: Victor Dalmont.\n",
    "# Dupuit, J. 1863. Etudes Theoriques et Pratiques sur le Mouvement des Eaux dans les Canaux Decouverts et a Travers\n",
    "# les Terrains Permeables, 2nd ed. Paris, France: Dunod.\n",
    "# Dupuit, J. 1857. Memoire sur le mouvement des eaux dans les terrains permeables. Memoire depose en 1857,\n",
    "# rapporte aux Comptes Rendus des seances de l’Academie des Sciences, Paris, tome LII, seance du 3 juin 1861.\n",
    "# Sichardt, W. 1928. Das Fassungsvermögen von Rohrbrunnen und seine Bedeutung für die Grundwasserabsenkung,\n",
    "# insbesondere für größere Absenkungstiefen. Berlin, Germany: Julius Springer.\n",
    "#\n",
    "# Modules\n",
    "#\n",
    "import math\n",
    "import numpy as np\n",
    "import matplotlib.pyplot as plt\n",
    "#\n",
    "# Variables\n",
    "#\n",
    "H = 30.  # m - Borehole depth\n",
    "h0 = 20.  # m - Water level in borehole\n",
    "k = 0.00001  # m/s - Hydraulic conductivity\n",
    "r0 = 0.15  # m - Borehole radius\n",
    "#\n",
    "# Formulas\n",
    "#\n",
    "R = 3000 * (H - h0) * k ** 0.5  # m - Well radius after Sichardt\n",
    "Q = k * math.pi * (H ** 2 - h0 ** 2) / np.log(R / r0)  # Pumping discharge\n",
    "x = np.arange(r0, R, R / 60)\n",
    "y = (H ** 2 - Q * np.log(R / x) / (math.pi * k)) ** 0.5\n",
    "#\n",
    "# Print\n",
    "#\n",
    "print(\"Radial flow towards a well in an unconfined aquifer - after Dupuis\")\n",
    "print(\"Well depth H =\", round(H, 0), \"m\")\n",
    "print(\"Water level in well h0 =\", round(h0, 0), \"m\")\n",
    "print(\"Well radius r0 =\", r0, \"m\")\n",
    "print(\"Hydraulic conductivity k =\", k, \"m/s\")\n",
    "print(\"Influence radius R =\", round(R, 0), \"m\")\n",
    "print(\"Punmping quantity Q =\", round(Q, 3), \"m3/s\")\n",
    "#\n",
    "# Plot\n",
    "#\n",
    "plt.plot(x, y, 'b', label=\"Water level\", linewidth=1)  # x1, y1, colour, label, line\n",
    "plt.plot(x, H - y, 'r', label=\"Drawdown\", linewidth=1)  # x1, y1, colour, label, line\n",
    "#\n",
    "plt.grid(True)  # gridlines\n",
    "plt.ylabel('Reference height [m]')  # grid label\n",
    "plt.xlabel('Distance [m]')  # grid label\n",
    "plt.legend()  # legend\n",
    "plt.show()  # opens plot window"
   ]
  },
  {
   "cell_type": "code",
   "execution_count": 20,
   "metadata": {},
   "outputs": [
    {
     "name": "stdout",
     "output_type": "stream",
     "text": [
      "Planar flow towards a trench in an unconfined aquifer - after Dupuis\n",
      "('Max. drawdown H =', 5.0, 'm')\n",
      "('Water level in trench h0 =', 1.0, 'm')\n",
      "('Hydraulic conductivity k =', 1e-05, 'm/s')\n",
      "('Influence reach R =', 38.0, 'm')\n",
      "('Flow q =', 3.16e-06, 'm/s')\n",
      "('Punmping quantity Q =', 3.16e-06, \"m3/s/m'\")\n"
     ]
    },
    {
     "data": {
      "image/png": "[encoded data removed]",
      "text/plain": [
       "<matplotlib.figure.Figure at 0x7f75209c4750>"
      ]
     },
     "metadata": {},
     "output_type": "display_data"
    }
   ],
   "source": [
    "# Planaer flow towards a trench\n",
    "# Darcy, H. 1856. Les Fontaines Publiques de la Ville de Dijon. Paris, France: Victor Dalmont.\n",
    "# Dupuit, J. 1863. Etudes Theoriques et Pratiques sur le Mouvement des Eaux dans les Canaux Decouverts et a Travers\n",
    "# les Terrains Permeables, 2nd ed. Paris, France: Dunod.\n",
    "# Dupuit, J. 1857. Memoire sur le mouvement des eaux dans les terrains permeables. Memoire depose en 1857,\n",
    "# rapporte aux Comptes Rendus des seances de l’Academie des Sciences, Paris, tome LII, seance du 3 juin 1861.\n",
    "# Sichardt, W. 1928. Das Fassungsvermögen von Rohrbrunnen und seine Bedeutung für die Grundwasserabsenkung,\n",
    "# insbesondere für größere Absenkungstiefen. Berlin, Germany: Julius Springer.\n",
    "#\n",
    "# Modules\n",
    "#\n",
    "import math\n",
    "import numpy as np\n",
    "import matplotlib.pyplot as plt\n",
    "#\n",
    "# Variables\n",
    "#\n",
    "H = 5.  # m - Borehole depth\n",
    "h0 = 1.  # m - Water level in borehole\n",
    "k = 0.00001  # m/s - Hydraulic conductivity\n",
    "#\n",
    "# Formulas\n",
    "#\n",
    "R = 3000 * (H - h0) * k ** 0.5  # m - Well radius after Sichardt\n",
    "q = k /2 * (H ** 2 - h0 ** 2) / R  # Pumping discharge\n",
    "x = np.arange(0, R, R / 60)\n",
    "y = (x / R * (H ** 2 - h0 ** 2) + h0 ** 2) ** 0.5\n",
    "#\n",
    "# Print\n",
    "#\n",
    "print(\"Planar flow towards a trench in an unconfined aquifer - after Dupuis\")\n",
    "print(\"Max. drawdown H =\", round(H, 0), \"m\")\n",
    "print(\"Water level in trench h0 =\", round(h0, 0), \"m\")\n",
    "print(\"Hydraulic conductivity k =\", k, \"m/s\")\n",
    "print(\"Influence reach R =\", round(R, 0), \"m\")\n",
    "print(\"Flow q =\", round(q, 8), \"m/s\")\n",
    "print(\"Punmping quantity Q =\", round(q * h0, 8), \"m3/s/m'\")\n",
    "#\n",
    "# Plot\n",
    "#\n",
    "plt.plot(x, y, 'b', label=\"Water level\", linewidth=1)  # x1, y1, colour, label, line\n",
    "plt.plot(x, H - y, 'r', label=\"Drawdown\", linewidth=1)  # x1, y1, colour, label, line\n",
    "#\n",
    "plt.grid(True)  # gridlines\n",
    "plt.ylabel('Reference height [m]')  # grid label\n",
    "plt.xlabel('Distance [m]')  # grid label\n",
    "plt.legend()  # legend\n",
    "plt.show()  # opens plot window"
   ]
  },
  {
   "cell_type": "code",
   "execution_count": 21,
   "metadata": {},
   "outputs": [
    {
     "data": {
      "image/png": "[encoded data removed]",
      "text/plain": [
       "<matplotlib.figure.Figure at 0x7f752078ea10>"
      ]
     },
     "metadata": {},
     "output_type": "display_data"
    }
   ],
   "source": [
    "from numpy import *\n",
    "import matplotlib.pyplot as plt\n",
    "\n",
    "def Settlementtrough(D_exc,D_t,K,z):   #Ausbruchsradius, Tunnelradius, K-wert Boden, Überdeckung\n",
    "    x=arange(-40,40,1.0)\n",
    "    z_0=z+D_t/2\n",
    "    i_0=K*z_0\n",
    "    A_exc = ((D_exc**2.0) * pi) / 4.0\n",
    "    A_t = ((D_t**2.0) * pi) / 4.0\n",
    "    V_l= (A_exc - A_t) / A_exc\n",
    "    S= -((pi/2)**(0.5)) * (V_l*(D_t**2))/(4*i_0) *exp(-(x**2)/(2*i_0**2))\n",
    "    s_max=min(S)\n",
    "    return S\n",
    "\n",
    "fig=plt.figure()\n",
    "x=arange(-40,40,1.0)\n",
    "p1 = plt.plot(x, Settlementtrough(13.0,12.6,0.6,20.0))\n",
    "plt.ylabel('Setzungen [m]')\n",
    "plt.show()\n",
    "\n"
   ]
  },
  {
   "cell_type": "code",
   "execution_count": 22,
   "metadata": {
    "collapsed": true
   },
   "outputs": [],
   "source": [
    "# experimenting with data orgnaisation\n",
    "# this data represents a single data record and is to be included in an array of alldata records\n",
    "E={}\n",
    "E['value'] = 10000.0\n",
    "E['value_unit'] = 'MPa' \n",
    "E['value_likelihood'] = 'data point' \n",
    "E['value_scale'] = 'intact rock', 'intact rock', 'intact rock'\n",
    "E['x_project_coord'] = 100000.0\n",
    "E['y_project_coord'] = 600000.0\n",
    "E['elevation_masl'] = 500.0 "
   ]
  },
  {
   "cell_type": "code",
   "execution_count": 23,
   "metadata": {},
   "outputs": [],
   "source": [
    "E={'project':'Nam E-Moon', 'value':10000.0, 'value_unit':'MPa', 'value_likelihood':'average', 'value_scale':'intact rock','x_project_coord':100000.0, 'y_project_coord':600000.0}   "
   ]
  },
  {
   "cell_type": "code",
   "execution_count": 24,
   "metadata": {},
   "outputs": [
    {
     "data": {
      "text/plain": [
       "'MPa'"
      ]
     },
     "execution_count": 24,
     "metadata": {},
     "output_type": "execute_result"
    }
   ],
   "source": [
    "E['value_unit']"
   ]
  },
  {
   "cell_type": "code",
   "execution_count": 25,
   "metadata": {},
   "outputs": [
    {
     "data": {
      "text/plain": [
       "10000.0"
      ]
     },
     "execution_count": 25,
     "metadata": {},
     "output_type": "execute_result"
    }
   ],
   "source": [
    "E['value']"
   ]
  },
  {
   "cell_type": "code",
   "execution_count": 26,
   "metadata": {},
   "outputs": [
    {
     "data": {
      "text/plain": [
       "{'project': 'Nam E-Moon',\n",
       " 'value': 10000.0,\n",
       " 'value_likelihood': 'average',\n",
       " 'value_scale': 'intact rock',\n",
       " 'value_unit': 'MPa',\n",
       " 'x_project_coord': 100000.0,\n",
       " 'y_project_coord': 600000.0}"
      ]
     },
     "execution_count": 26,
     "metadata": {},
     "output_type": "execute_result"
    }
   ],
   "source": [
    "E"
   ]
  },
  {
   "cell_type": "code",
   "execution_count": 27,
   "metadata": {},
   "outputs": [
    {
     "data": {
      "text/plain": [
       "['x_project_coord',\n",
       " 'y_project_coord',\n",
       " 'value_scale',\n",
       " 'value',\n",
       " 'project',\n",
       " 'value_likelihood',\n",
       " 'value_unit']"
      ]
     },
     "execution_count": 27,
     "metadata": {},
     "output_type": "execute_result"
    }
   ],
   "source": [
    "E.keys()"
   ]
  },
  {
   "cell_type": "code",
   "execution_count": 28,
   "metadata": {},
   "outputs": [
    {
     "data": {
      "text/plain": [
       "[100000.0, 600000.0, 'intact rock', 10000.0, 'Nam E-Moon', 'average', 'MPa']"
      ]
     },
     "execution_count": 28,
     "metadata": {},
     "output_type": "execute_result"
    }
   ],
   "source": [
    "E.values()"
   ]
  },
  {
   "cell_type": "code",
   "execution_count": 29,
   "metadata": {},
   "outputs": [
    {
     "data": {
      "text/plain": [
       "[('x_project_coord', 100000.0),\n",
       " ('y_project_coord', 600000.0),\n",
       " ('value_scale', 'intact rock'),\n",
       " ('value', 10000.0),\n",
       " ('project', 'Nam E-Moon'),\n",
       " ('value_likelihood', 'average'),\n",
       " ('value_unit', 'MPa')]"
      ]
     },
     "execution_count": 29,
     "metadata": {},
     "output_type": "execute_result"
    }
   ],
   "source": [
    "E.items()"
   ]
  },
  {
   "cell_type": "markdown",
   "metadata": {},
   "source": [
    "Think about: select e.g. all E 'values' for 'elevation_masl' between 500 and 600"
   ]
  },
  {
   "cell_type": "code",
   "execution_count": 30,
   "metadata": {},
   "outputs": [],
   "source": [
    "#import pandas"
   ]
  },
  {
   "cell_type": "code",
   "execution_count": 31,
   "metadata": {},
   "outputs": [
    {
     "data": {
      "text/plain": [
       "[1, 2, 3, 4]"
      ]
     },
     "execution_count": 31,
     "metadata": {},
     "output_type": "execute_result"
    }
   ],
   "source": [
    "class Test(list):\n",
    "    \"\"\"testing lists\"\"\"\n",
    "    def EtoG(self):    #method for converting E-modulus to G-modulus\n",
    "        print(self)\n",
    "        G=[i /1.4 for i in self]\n",
    "        return G\n",
    "E = Test((1,2,3,4))    #list comes from e.g. Data Organiser\n",
    "E\n",
    "# Why isn't subclassing a list a good idea (Stack Overflow suggests not a good idea)?\n",
    "# Is just using funcions a better way for doing this?\n",
    "#    - I would however like to limit the use of EtoG to certain objects (e.g. E)\n",
    "#    - advice seems to be: functions for general use, methods for use by selected objects"
   ]
  },
  {
   "cell_type": "code",
   "execution_count": 32,
   "metadata": {},
   "outputs": [
    {
     "name": "stdout",
     "output_type": "stream",
     "text": [
      "[1, 2, 3, 4]\n"
     ]
    },
    {
     "data": {
      "text/plain": [
       "[0.7142857142857143, 1.4285714285714286, 2.142857142857143, 2.857142857142857]"
      ]
     },
     "execution_count": 32,
     "metadata": {},
     "output_type": "execute_result"
    }
   ],
   "source": [
    "G=E.EtoG();\n",
    "G"
   ]
  },
  {
   "cell_type": "code",
   "execution_count": 33,
   "metadata": {
    "collapsed": true
   },
   "outputs": [],
   "source": [
    "E.value=50.0    #add an attribute"
   ]
  },
  {
   "cell_type": "code",
   "execution_count": 34,
   "metadata": {},
   "outputs": [
    {
     "data": {
      "text/plain": [
       "50.0"
      ]
     },
     "execution_count": 34,
     "metadata": {},
     "output_type": "execute_result"
    }
   ],
   "source": [
    "E.value"
   ]
  },
  {
   "cell_type": "code",
   "execution_count": 35,
   "metadata": {},
   "outputs": [
    {
     "data": {
      "text/plain": [
       "176"
      ]
     },
     "execution_count": 35,
     "metadata": {},
     "output_type": "execute_result"
    }
   ],
   "source": [
    "88*2"
   ]
  },
  {
   "cell_type": "code",
   "execution_count": 36,
   "metadata": {},
   "outputs": [
    {
     "name": "stdout",
     "output_type": "stream",
     "text": [
      "Blasting induced vibration - after DIN 4150-1\n",
      "('Transfer factor K =', 1000.0, 'mm/s')\n",
      "('Target amount of explosives per interval L =', 2.0, 'kg')\n",
      "('Target Distance R =', 25.0, 'm')\n",
      "('Coefficient for source type m =', 1.25, '-')\n",
      "('Coefficient for energy dissipation b =', 0.65, '-')\n"
     ]
    },
    {
     "data": {
      "image/png": "[encoded data removed]",
      "text/plain": [
       "<matplotlib.figure.Figure at 0x7f7522aabf50>"
      ]
     },
     "metadata": {},
     "output_type": "display_data"
    },
    {
     "data": {
      "image/png": "[encoded data removed]",
      "text/plain": [
       "<matplotlib.figure.Figure at 0x7f75206cd250>"
      ]
     },
     "metadata": {},
     "output_type": "display_data"
    }
   ],
   "source": [
    "# Blasting induced vibrations\n",
    "# According to DIN 4150-1\n",
    "#\n",
    "# Modules\n",
    "#\n",
    "import math\n",
    "import numpy as np\n",
    "import matplotlib.pyplot as plt\n",
    "#\n",
    "# Variables\n",
    "#\n",
    "K = 1000.  # mm/s - Transferfactor depending of the medium (1'000 mm/s for sandstone)\n",
    "L_T = 2.  # kg - Target amount of explosives per interval\n",
    "L = np.arange(L_T / 10, L_T * 5, L_T)  # m - Distance from source\n",
    "L0 = 1.  # kg - Reference amount of explosives per interval (1 kg)\n",
    "R_T = 25.  # m - Taget distance from source\n",
    "R = np.arange(R_T / 10, R_T * 5, R_T)  # m - Distance from source\n",
    "R0 = 1.  # m - Reference distnace (1 m)\n",
    "m = 1.25  # - Damping coefficient representing wave type and radiation (1.0 - 1.5)\n",
    "b = 0.65  # - Damping coefficient representing charge energy dissipation (0.5 - 0.8)\n",
    "#\n",
    "# Formulas\n",
    "#\n",
    "V_R = K * (L_T/L0)**b * (R/R0)**-m\n",
    "V_L = K * (L/L0)**b * (R_T/R0)**-m\n",
    "#\n",
    "# Print\n",
    "#\n",
    "print(\"Blasting induced vibration - after DIN 4150-1\")\n",
    "print(\"Transfer factor K =\", round(K, 0), \"mm/s\")\n",
    "print(\"Target amount of explosives per interval L =\", round(L_T, 0), \"kg\")\n",
    "print(\"Target Distance R =\", round(R_T, 0), \"m\")\n",
    "print(\"Coefficient for source type m =\", round(m, 2), \"-\")\n",
    "print(\"Coefficient for energy dissipation b =\", round(b, 2), \"-\")\n",
    "#\n",
    "# Plot\n",
    "#\n",
    "plt.loglog(R, V_R, 'b', label= (\"m=\", m, \"- / L=\", L_T,\"kg\"), linewidth=1)  # x, y, colour, label, line\n",
    "#\n",
    "plt.grid(True, which=\"both\")  # gridlines\n",
    "plt.ylabel('Particle velocity [mm/s]')  # grid label\n",
    "plt.xlabel('Distance from source [m]')  # grid label\n",
    "plt.legend()  # legend\n",
    "plt.show()  # opens plot window\n",
    "#\n",
    "plt.loglog(L, V_L, 'b', label= (\"m=\", m, \"- / R=\", R_T, \"m\"), linewidth=1)  # x, y, colour, label, line\n",
    "#\n",
    "plt.grid(True, which=\"both\")  # gridlines\n",
    "plt.ylabel('Particle velocity [mm/s]')  # grid label\n",
    "plt.xlabel('Epxl. per interval [kg]')  # grid label\n",
    "plt.legend()  # legend\n",
    "plt.show()  # opens plot window"
   ]
  },
  {
   "cell_type": "code",
   "execution_count": null,
   "metadata": {
    "collapsed": true
   },
   "outputs": [],
   "source": []
  }
 ],
 "metadata": {
  "kernelspec": {
   "display_name": "Python 3",
   "language": "python",
   "name": "python3"
  },
  "language_info": {
   "codemirror_mode": {
    "name": "ipython",
    "version": 2
   },
   "file_extension": ".py",
   "mimetype": "text/x-python",
   "name": "python",
   "nbconvert_exporter": "python",
   "pygments_lexer": "ipython2",
   "version": "2.7.12"
  }
 },
 "nbformat": 4,
 "nbformat_minor": 1
}
