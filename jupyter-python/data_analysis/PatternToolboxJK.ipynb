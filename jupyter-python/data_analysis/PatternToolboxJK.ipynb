{
 "cells": [
  {
   "cell_type": "markdown",
   "metadata": {},
   "source": [
    "# useful python patterns"
   ]
  },
  {
   "cell_type": "markdown",
   "metadata": {},
   "source": [
    "Coding patterns that use and prove useful or that I encounter during reading or during lectures are compiled in this Notebook."
   ]
  },
  {
   "cell_type": "markdown",
   "metadata": {},
   "source": [
    "## setup"
   ]
  },
  {
   "cell_type": "code",
   "execution_count": 7,
   "metadata": {},
   "outputs": [],
   "source": [
    "import pandas as pd\n",
    "import numpy as np"
   ]
  },
  {
   "cell_type": "markdown",
   "metadata": {},
   "source": [
    "## general"
   ]
  },
  {
   "cell_type": "code",
   "execution_count": null,
   "metadata": {
    "collapsed": true
   },
   "outputs": [],
   "source": []
  },
  {
   "cell_type": "code",
   "execution_count": null,
   "metadata": {
    "collapsed": true
   },
   "outputs": [],
   "source": []
  },
  {
   "cell_type": "markdown",
   "metadata": {},
   "source": [
    "## pandas"
   ]
  },
  {
   "cell_type": "code",
   "execution_count": 57,
   "metadata": {
    "collapsed": true
   },
   "outputs": [],
   "source": [
    "# define a pandas dataframe using a pyton dictionary\n",
    "example_dict = { \n",
    "     'name' : [\"a\", \"b\", \"c\", \"d\", \"e\",\"f\", \"g\"],\n",
    "     'age' : [20,27, 35, 55, 18, 21, 35],\n",
    "     'designation': [\"VP\", \"CEO\", \"CFO\", \"VP\", \"VP\", \"CEO\", \"MD\"]\n",
    "}\n",
    "example_df = pd.DataFrame(example_dict)"
   ]
  },
  {
   "cell_type": "code",
   "execution_count": 64,
   "metadata": {},
   "outputs": [
    {
     "data": {
      "text/html": [
       "<div>\n",
       "<style scoped>\n",
       "    .dataframe tbody tr th:only-of-type {\n",
       "        vertical-align: middle;\n",
       "    }\n",
       "\n",
       "    .dataframe tbody tr th {\n",
       "        vertical-align: top;\n",
       "    }\n",
       "\n",
       "    .dataframe thead th {\n",
       "        text-align: right;\n",
       "    }\n",
       "</style>\n",
       "<table border=\"1\" class=\"dataframe\">\n",
       "  <thead>\n",
       "    <tr style=\"text-align: right;\">\n",
       "      <th></th>\n",
       "      <th>nr</th>\n",
       "      <th>station</th>\n",
       "      <th>borehole</th>\n",
       "      <th>date</th>\n",
       "      <th>d_up</th>\n",
       "      <th>d_down</th>\n",
       "      <th>stage_l</th>\n",
       "      <th>avg_lugeon</th>\n",
       "      <th>x_stat</th>\n",
       "      <th>y_stat</th>\n",
       "      <th>...</th>\n",
       "      <th>offset_h</th>\n",
       "      <th>offset_v</th>\n",
       "      <th>inclination</th>\n",
       "      <th>x_collar</th>\n",
       "      <th>y_collar</th>\n",
       "      <th>z_collar</th>\n",
       "      <th>x_stage_down</th>\n",
       "      <th>y_stage_down</th>\n",
       "      <th>z_stage_down</th>\n",
       "      <th>lithology</th>\n",
       "    </tr>\n",
       "  </thead>\n",
       "  <tbody>\n",
       "    <tr>\n",
       "      <th>0</th>\n",
       "      <td>1</td>\n",
       "      <td>88.0</td>\n",
       "      <td>DR-1</td>\n",
       "      <td>13/10/2016</td>\n",
       "      <td>65.0</td>\n",
       "      <td>70.0</td>\n",
       "      <td>5.0</td>\n",
       "      <td>0.0434</td>\n",
       "      <td>27612.086999</td>\n",
       "      <td>23225.573328</td>\n",
       "      <td>...</td>\n",
       "      <td>1.7</td>\n",
       "      <td>-1.7</td>\n",
       "      <td>37.0</td>\n",
       "      <td>27612.260097</td>\n",
       "      <td>23223.882163</td>\n",
       "      <td>992.654145</td>\n",
       "      <td>27617.871100</td>\n",
       "      <td>23169.062720</td>\n",
       "      <td>1034.179382</td>\n",
       "      <td>sandstone_K1ob2</td>\n",
       "    </tr>\n",
       "    <tr>\n",
       "      <th>1</th>\n",
       "      <td>1</td>\n",
       "      <td>88.0</td>\n",
       "      <td>DR-1</td>\n",
       "      <td>12/10/2016</td>\n",
       "      <td>60.0</td>\n",
       "      <td>65.0</td>\n",
       "      <td>5.0</td>\n",
       "      <td>0.1360</td>\n",
       "      <td>27612.086999</td>\n",
       "      <td>23225.573328</td>\n",
       "      <td>...</td>\n",
       "      <td>1.7</td>\n",
       "      <td>-1.7</td>\n",
       "      <td>37.0</td>\n",
       "      <td>27612.260097</td>\n",
       "      <td>23223.882163</td>\n",
       "      <td>992.654145</td>\n",
       "      <td>27617.464506</td>\n",
       "      <td>23173.035143</td>\n",
       "      <td>1031.170307</td>\n",
       "      <td>sandstone_K1ob2</td>\n",
       "    </tr>\n",
       "    <tr>\n",
       "      <th>2</th>\n",
       "      <td>1</td>\n",
       "      <td>88.0</td>\n",
       "      <td>DR-1</td>\n",
       "      <td>12/10/2016</td>\n",
       "      <td>55.0</td>\n",
       "      <td>60.0</td>\n",
       "      <td>5.0</td>\n",
       "      <td>0.1976</td>\n",
       "      <td>27612.086999</td>\n",
       "      <td>23225.573328</td>\n",
       "      <td>...</td>\n",
       "      <td>1.7</td>\n",
       "      <td>-1.7</td>\n",
       "      <td>37.0</td>\n",
       "      <td>27612.260097</td>\n",
       "      <td>23223.882163</td>\n",
       "      <td>992.654145</td>\n",
       "      <td>27617.057911</td>\n",
       "      <td>23177.007567</td>\n",
       "      <td>1028.161232</td>\n",
       "      <td>sandstone_K1ob2</td>\n",
       "    </tr>\n",
       "    <tr>\n",
       "      <th>3</th>\n",
       "      <td>1</td>\n",
       "      <td>88.0</td>\n",
       "      <td>DR-1</td>\n",
       "      <td>12/10/2016</td>\n",
       "      <td>50.0</td>\n",
       "      <td>55.0</td>\n",
       "      <td>5.0</td>\n",
       "      <td>0.0452</td>\n",
       "      <td>27612.086999</td>\n",
       "      <td>23225.573328</td>\n",
       "      <td>...</td>\n",
       "      <td>1.7</td>\n",
       "      <td>-1.7</td>\n",
       "      <td>37.0</td>\n",
       "      <td>27612.260097</td>\n",
       "      <td>23223.882163</td>\n",
       "      <td>992.654145</td>\n",
       "      <td>27616.651317</td>\n",
       "      <td>23180.979990</td>\n",
       "      <td>1025.152157</td>\n",
       "      <td>sandstone_K1ob2</td>\n",
       "    </tr>\n",
       "    <tr>\n",
       "      <th>4</th>\n",
       "      <td>1</td>\n",
       "      <td>88.0</td>\n",
       "      <td>DR-1</td>\n",
       "      <td>12/10/2016</td>\n",
       "      <td>45.0</td>\n",
       "      <td>50.0</td>\n",
       "      <td>5.0</td>\n",
       "      <td>0.1580</td>\n",
       "      <td>27612.086999</td>\n",
       "      <td>23225.573328</td>\n",
       "      <td>...</td>\n",
       "      <td>1.7</td>\n",
       "      <td>-1.7</td>\n",
       "      <td>37.0</td>\n",
       "      <td>27612.260097</td>\n",
       "      <td>23223.882163</td>\n",
       "      <td>992.654145</td>\n",
       "      <td>27616.244722</td>\n",
       "      <td>23184.952414</td>\n",
       "      <td>1022.143081</td>\n",
       "      <td>sandstone_K1ob2</td>\n",
       "    </tr>\n",
       "  </tbody>\n",
       "</table>\n",
       "<p>5 rows × 23 columns</p>\n",
       "</div>"
      ],
      "text/plain": [
       "   nr  station borehole        date  d_up  d_down  stage_l  avg_lugeon  \\\n",
       "0   1     88.0     DR-1  13/10/2016  65.0    70.0      5.0      0.0434   \n",
       "1   1     88.0     DR-1  12/10/2016  60.0    65.0      5.0      0.1360   \n",
       "2   1     88.0     DR-1  12/10/2016  55.0    60.0      5.0      0.1976   \n",
       "3   1     88.0     DR-1  12/10/2016  50.0    55.0      5.0      0.0452   \n",
       "4   1     88.0     DR-1  12/10/2016  45.0    50.0      5.0      0.1580   \n",
       "\n",
       "         x_stat        y_stat       ...         offset_h  offset_v  \\\n",
       "0  27612.086999  23225.573328       ...              1.7      -1.7   \n",
       "1  27612.086999  23225.573328       ...              1.7      -1.7   \n",
       "2  27612.086999  23225.573328       ...              1.7      -1.7   \n",
       "3  27612.086999  23225.573328       ...              1.7      -1.7   \n",
       "4  27612.086999  23225.573328       ...              1.7      -1.7   \n",
       "\n",
       "   inclination      x_collar      y_collar    z_collar  x_stage_down  \\\n",
       "0         37.0  27612.260097  23223.882163  992.654145  27617.871100   \n",
       "1         37.0  27612.260097  23223.882163  992.654145  27617.464506   \n",
       "2         37.0  27612.260097  23223.882163  992.654145  27617.057911   \n",
       "3         37.0  27612.260097  23223.882163  992.654145  27616.651317   \n",
       "4         37.0  27612.260097  23223.882163  992.654145  27616.244722   \n",
       "\n",
       "   y_stage_down  z_stage_down        lithology  \n",
       "0  23169.062720   1034.179382  sandstone_K1ob2  \n",
       "1  23173.035143   1031.170307  sandstone_K1ob2  \n",
       "2  23177.007567   1028.161232  sandstone_K1ob2  \n",
       "3  23180.979990   1025.152157  sandstone_K1ob2  \n",
       "4  23184.952414   1022.143081  sandstone_K1ob2  \n",
       "\n",
       "[5 rows x 23 columns]"
      ]
     },
     "execution_count": 64,
     "metadata": {},
     "output_type": "execute_result"
    }
   ],
   "source": [
    "# read and write pandas dataframes\n",
    "#https://stackoverflow.com/questions/16923281/pandas-writing-dataframe-to-csv-file\n",
    "    \n",
    "# configure project folder for csv data output\n",
    "project_folder ='/home/kaelin_joseph/projects/RogunHPP/data/out/'\n",
    "\n",
    "# read csv file into DataFrame\n",
    "lugeonDG2_df = pd.read_csv(project_folder+'lugeonDG2_df')\n",
    "\n",
    "# write DataFrame to csv file\n",
    "# 'index=False' -> do not store preceding indice of each row of DataFrame\n",
    "#lugeonDG2_df.to_csv(project_folder+'lugeonDG2_df', encoding='utf-8', index=False)\n",
    "\n",
    "lugeonDG2_df.head()"
   ]
  },
  {
   "cell_type": "code",
   "execution_count": 65,
   "metadata": {},
   "outputs": [
    {
     "name": "stdout",
     "output_type": "stream",
     "text": [
      "The slowest run took 4.65 times longer than the fastest. This could mean that an intermediate result is being cached.\n",
      "1000 loops, best of 3: 689 µs per loop\n"
     ]
    }
   ],
   "source": [
    "# selecting subsets of data in pandas\n",
    "# http://pandas.pydata.org/pandas-docs/stable/indexing.html\n",
    "# https://medium.com/dunder-data/selecting-subsets-of-data-in-pandas-6fcd0170be9c\n",
    "\n",
    "# select all rows of multiple columns\n",
    "#%timeit example_df.loc[:, [\"age\", \"name\"]]  #slower using .loc than without\n",
    "example_df[[\"age\", \"name\"]]\n",
    "\n",
    "# select rows of column for a column meeting a condition\n",
    "#  example_df[(example_df[\"age\"] >= 21) & (example_df[\"age\"] < 50)][\"name\"]  #using indexing operator\n",
    "#  https://stackoverflow.com/questions/38886080/python-pandas-series-why-use-loc\n",
    "#    requires one operation instead of two, faster\n",
    "#    explicit is better than implicit\n",
    "%timeit example_df.loc[(example_df[\"age\"] >= 21) & (example_df[\"age\"] < 50), \"name\"]\n",
    "\n",
    "\n",
    "\n",
    "\n"
   ]
  },
  {
   "cell_type": "code",
   "execution_count": 82,
   "metadata": {},
   "outputs": [
    {
     "name": "stdout",
     "output_type": "stream",
     "text": [
      "The slowest run took 4.00 times longer than the fastest. This could mean that an intermediate result is being cached.\n",
      "1000 loops, best of 3: 650 µs per loop\n"
     ]
    }
   ],
   "source": [
    "#%timeit lugeonDG2_df.loc[:, [\"station\", \"lithology\"]]\n",
    "%timeit lugeonDG2_df.loc[(lugeonDG2_df[\"station\"] >= 50) & (lugeonDG2_df[\"station\"] < 150), \"lithology\"]"
   ]
  },
  {
   "cell_type": "code",
   "execution_count": 83,
   "metadata": {},
   "outputs": [
    {
     "name": "stdout",
     "output_type": "stream",
     "text": [
      "1000 loops, best of 3: 986 µs per loop\n"
     ]
    }
   ],
   "source": [
    "#%timeit lugeonDG2_df[[\"station\", \"lithology\"]]\n",
    "%timeit lugeonDG2_df[(lugeonDG2_df[\"station\"] >= 50) & (lugeonDG2_df[\"station\"] < 150)][\"lithology\"]"
   ]
  },
  {
   "cell_type": "code",
   "execution_count": 63,
   "metadata": {},
   "outputs": [
    {
     "data": {
      "text/plain": [
       "count    578.000000\n",
       "mean       2.762259\n",
       "std        6.099644\n",
       "min        0.012400\n",
       "25%        0.258950\n",
       "50%        0.642000\n",
       "80%        2.950500\n",
       "85%        4.190500\n",
       "90%        6.709000\n",
       "95%       13.537125\n",
       "max       52.000000\n",
       "Name: avg_lugeon, dtype: float64"
      ]
     },
     "execution_count": 63,
     "metadata": {},
     "output_type": "execute_result"
    }
   ],
   "source": [
    "lugeonDG2_df.loc[((lugeonDG2_df['lithology'] == 'sandstone_K1ob2') & \n",
    "                  (lugeonDG2_df['d_up'] >= 5.0))]['avg_lugeon'].describe(\n",
    "                      percentiles= [.25, .5, .80, 0.85, 0.90, 0.95])"
   ]
  },
  {
   "cell_type": "markdown",
   "metadata": {},
   "source": [
    "## grass gis"
   ]
  },
  {
   "cell_type": "code",
   "execution_count": null,
   "metadata": {
    "collapsed": true
   },
   "outputs": [],
   "source": []
  },
  {
   "cell_type": "code",
   "execution_count": null,
   "metadata": {
    "collapsed": true
   },
   "outputs": [],
   "source": []
  }
 ],
 "metadata": {
  "kernelspec": {
   "display_name": "Python 3",
   "language": "python",
   "name": "python3"
  },
  "language_info": {
   "codemirror_mode": {
    "name": "ipython",
    "version": 2
   },
   "file_extension": ".py",
   "mimetype": "text/x-python",
   "name": "python",
   "nbconvert_exporter": "python",
   "pygments_lexer": "ipython2",
   "version": "2.7.12"
  }
 },
 "nbformat": 4,
 "nbformat_minor": 2
}
