{
 "cells": [
  {
   "cell_type": "markdown",
   "metadata": {},
   "source": [
    "# Production Data Loading\n",
    "\n",
    " 1. Access _ne1_ Couchbase Database\n",
    " 1. Load CSV files and convert into JSON structure \n",
    " 1. Store the JSON data in Couchbase "
   ]
  },
  {
   "cell_type": "markdown",
   "metadata": {},
   "source": [
    "## Access _ne1_ Couchbase Database\n",
    "\n",
    "  * Create new Couchbase _bucket_ called _n1_ using the Couchbase web browser interface"
   ]
  },
  {
   "cell_type": "code",
   "execution_count": 15,
   "metadata": {
    "collapsed": true
   },
   "outputs": [],
   "source": [
    "from couchbase.bucket import Bucket\n",
    "cb = Bucket('couchbase://localhost/geotechnical')  # If no errors then the access works"
   ]
  },
  {
   "cell_type": "markdown",
   "metadata": {},
   "source": [
    "## Load CSV Data"
   ]
  },
  {
   "cell_type": "code",
   "execution_count": 20,
   "metadata": {},
   "outputs": [
    {
     "name": "stdout",
     "output_type": "stream",
     "text": [
      "Record counts: \n",
      "  projects:   4\n",
      "  boreholes:  16\n",
      "  parameters: 78\n",
      "TOTAL: 98\n",
      "\n",
      "Example JSON data: project[0]\n",
      "{\n",
      "  \"id\": \"project-20170622-174516-52956332\", \n",
      "  \"project_coordinate_system\": \"UTM\", \n",
      "  \"type\": \"project\", \n",
      "  \"project_code\": \"NEM\", \n",
      "  \"name\": \"Nam E-Moun\"\n",
      "}\n",
      "\n",
      "Example JSON data: borehole[0]\n",
      "{\n",
      "  \"borehole_code\": \"NE1-01\", \n",
      "  \"collar_elevation_masl\": \"\", \n",
      "  \"y_project_coordinate\": \"1720999.33\", \n",
      "  \"x_project_coordinate\": \"717190.06\", \n",
      "  \"type\": \"borehole\", \n",
      "  \"id\": \"borehole-20170622-174516-39266317\"\n",
      "}\n",
      "\n",
      "Example JSON data: parameters[78]\n",
      "{\n",
      "  \"sample_description\": \"dry\", \n",
      "  \"measurement_convention\": \"Es\", \n",
      "  \"test_standard\": \"ASTM 2166\", \n",
      "  \"sample_code\": \"NE08\", \n",
      "  \"test_parameters\": [\n",
      "    {\n",
      "      \"units\": \"\", \n",
      "      \"description\": \"\", \n",
      "      \"value\": \"\"\n",
      "    }, \n",
      "    {\n",
      "      \"units\": \"\", \n",
      "      \"description\": \"\", \n",
      "      \"value\": \"\"\n",
      "    }\n",
      "  ], \n",
      "  \"laboratory\": \"LTEC\", \n",
      "  \"test_comment\": \"\", \n",
      "  \"id\": \"parameter-20170622-174516-24266828\", \n",
      "  \"laboratory_test_code\": \"32\", \n",
      "  \"test_type\": \"E measured during uniaxial compressio\", \n",
      "  \"value_scale\": \"Laboratory\", \n",
      "  \"project_code\": \"NEM\", \n",
      "  \"type\": \"parameter\", \n",
      "  \"lithology\": \"Sericite\", \n",
      "  \"sample_depth_top_m\": \"24.25-25.37\", \n",
      "  \"value_likelihood\": \"Data point\", \n",
      "  \"parameter\": \"E\", \n",
      "  \"data_source\": \"Laboratory\", \n",
      "  \"borehole_code\": \"NE1-08\", \n",
      "  \"value\": \"6375\", \n",
      "  \"test_date\": \"\", \n",
      "  \"value_unit\": \"MPa\"\n",
      "}\n"
     ]
    }
   ],
   "source": [
    "# modified JK 2017.06.22\n",
    "\n",
    "import json\n",
    "\n",
    "from GeopyUtils import CsvDataReader\n",
    "\n",
    "projects_cdr = CsvDataReader('project', 'data/NEM/projects.csv')\n",
    "projects = projects_cdr.read()\n",
    "\n",
    "borehole_cdr = CsvDataReader('borehole', 'data/NEM/boreholes.csv')\n",
    "boreholes = borehole_cdr.read()\n",
    "\n",
    "parameter_cdr = CsvDataReader('parameter', 'data/NEM/LabData.Parameters.csv')\n",
    "parameters = parameter_cdr.read()\n",
    "\n",
    "print \"Record counts: \"\n",
    "print \"  projects:   \" + str(len(projects))\n",
    "print \"  boreholes:  \" + str(len(boreholes))\n",
    "print \"  parameters: \" + str(len(parameters))\n",
    "print \"TOTAL: \"+str(len(projects)+len(boreholes)+len(parameters))\n",
    "print \"\\nExample JSON data: project[0]\"\n",
    "print json.dumps(projects[0], indent=2)\n",
    "\n",
    "print \"\\nExample JSON data: borehole[0]\"\n",
    "print json.dumps(boreholes[0], indent=2)\n",
    "\n",
    "print \"\\nExample JSON data: parameters[77]\"\n",
    "print json.dumps(parameters[77], indent=2)"
   ]
  },
  {
   "cell_type": "markdown",
   "metadata": {
    "collapsed": true
   },
   "source": [
    "# Store in Couchbase\n",
    "\n",
    " * Only run this once!\n",
    " * Then comment out the *cb.insert* statement"
   ]
  },
  {
   "cell_type": "code",
   "execution_count": 21,
   "metadata": {},
   "outputs": [
    {
     "name": "stdout",
     "output_type": "stream",
     "text": [
      "\n",
      "Loading: projects\n",
      "record: project-20170622-174516-52956332 ..inserted\n",
      "record: project-20170622-174516-76927550 ..inserted\n",
      "record: project-20170622-174516-72672078 ..inserted\n",
      "record: project-20170622-174516-10551702 ..inserted\n",
      "\n",
      "Loading: boreholes\n",
      "record: borehole-20170622-174516-39266317 ..inserted\n",
      "record: borehole-20170622-174516-36599884 ..inserted\n",
      "record: borehole-20170622-174516-66318427 ..inserted\n",
      "record: borehole-20170622-174516-66574135 ..inserted\n",
      "record: borehole-20170622-174516-05582985 ..inserted\n",
      "record: borehole-20170622-174516-37573956 ..inserted\n",
      "record: borehole-20170622-174516-27653986 ..inserted\n",
      "record: borehole-20170622-174516-23912291 ..inserted\n",
      "record: borehole-20170622-174516-85469632 ..inserted\n",
      "record: borehole-20170622-174516-32247481 ..inserted\n",
      "record: borehole-20170622-174516-94840249 ..inserted\n",
      "record: borehole-20170622-174516-60302042 ..inserted\n",
      "record: borehole-20170622-174516-11300620 ..inserted\n",
      "record: borehole-20170622-174516-48544201 ..inserted\n",
      "record: borehole-20170622-174516-40630348 ..inserted\n",
      "record: borehole-20170622-174516-48740477 ..inserted\n",
      "\n",
      "Loading: parameters\n",
      "record: parameter-20170622-174516-11063381 ..inserted\n",
      "record: parameter-20170622-174516-34915031 ..inserted\n",
      "record: parameter-20170622-174516-27424226 ..inserted\n",
      "record: parameter-20170622-174516-01582750 ..inserted\n",
      "record: parameter-20170622-174516-59670326 ..inserted\n",
      "record: parameter-20170622-174516-72757509 ..inserted\n",
      "record: parameter-20170622-174516-96954154 ..inserted\n",
      "record: parameter-20170622-174516-28164635 ..inserted\n",
      "record: parameter-20170622-174516-79654221 ..inserted\n",
      "record: parameter-20170622-174516-90315029 ..inserted\n",
      "record: parameter-20170622-174516-51489069 ..inserted\n",
      "record: parameter-20170622-174516-95975369 ..inserted\n",
      "record: parameter-20170622-174516-36933370 ..inserted\n",
      "record: parameter-20170622-174516-04690191 ..inserted\n",
      "record: parameter-20170622-174516-39429883 ..inserted\n",
      "record: parameter-20170622-174516-36513529 ..inserted\n",
      "record: parameter-20170622-174516-19326049 ..inserted\n",
      "record: parameter-20170622-174516-26399717 ..inserted\n",
      "record: parameter-20170622-174516-52980020 ..inserted\n",
      "record: parameter-20170622-174516-32939424 ..inserted\n",
      "record: parameter-20170622-174516-05413451 ..inserted\n",
      "record: parameter-20170622-174516-49356757 ..inserted\n",
      "record: parameter-20170622-174516-08514231 ..inserted\n",
      "record: parameter-20170622-174516-91753625 ..inserted\n",
      "record: parameter-20170622-174516-56216052 ..inserted\n",
      "record: parameter-20170622-174516-80707520 ..inserted\n",
      "record: parameter-20170622-174516-10977084 ..inserted\n",
      "record: parameter-20170622-174516-61456815 ..inserted\n",
      "record: parameter-20170622-174516-01332636 ..inserted\n",
      "record: parameter-20170622-174516-64367457 ..inserted\n",
      "record: parameter-20170622-174516-01792118 ..inserted\n",
      "record: parameter-20170622-174516-33514021 ..inserted\n",
      "record: parameter-20170622-174516-85896671 ..inserted\n",
      "record: parameter-20170622-174516-19616714 ..inserted\n",
      "record: parameter-20170622-174516-10001617 ..inserted\n",
      "record: parameter-20170622-174516-28570457 ..inserted\n",
      "record: parameter-20170622-174516-89321875 ..inserted\n",
      "record: parameter-20170622-174516-23959907 ..inserted\n",
      "record: parameter-20170622-174516-47263802 ..inserted\n",
      "record: parameter-20170622-174516-65859886 ..inserted\n",
      "record: parameter-20170622-174516-68687315 ..inserted\n",
      "record: parameter-20170622-174516-06506482 ..inserted\n",
      "record: parameter-20170622-174516-35375071 ..inserted\n",
      "record: parameter-20170622-174516-90429505 ..inserted\n",
      "record: parameter-20170622-174516-46972923 ..inserted\n",
      "record: parameter-20170622-174516-77661593 ..inserted\n",
      "record: parameter-20170622-174516-61718616 ..inserted\n",
      "record: parameter-20170622-174516-84085370 ..inserted\n",
      "record: parameter-20170622-174516-12987005 ..inserted\n",
      "record: parameter-20170622-174516-42645633 ..inserted\n",
      "record: parameter-20170622-174516-69439164 ..inserted\n",
      "record: parameter-20170622-174516-30875116 ..inserted\n",
      "record: parameter-20170622-174516-34260199 ..inserted\n",
      "record: parameter-20170622-174516-71775914 ..inserted\n",
      "record: parameter-20170622-174516-37971614 ..inserted\n",
      "record: parameter-20170622-174516-26523617 ..inserted\n",
      "record: parameter-20170622-174516-44189476 ..inserted\n",
      "record: parameter-20170622-174516-13476027 ..inserted\n",
      "record: parameter-20170622-174516-93838909 ..inserted\n",
      "record: parameter-20170622-174516-14605015 ..inserted\n",
      "record: parameter-20170622-174516-13644660 ..inserted\n",
      "record: parameter-20170622-174516-53140229 ..inserted\n",
      "record: parameter-20170622-174516-03247360 ..inserted\n",
      "record: parameter-20170622-174516-20164395 ..inserted\n",
      "record: parameter-20170622-174516-41139440 ..inserted\n",
      "record: parameter-20170622-174516-79078039 ..inserted\n",
      "record: parameter-20170622-174516-81030052 ..inserted\n",
      "record: parameter-20170622-174516-82087452 ..inserted\n",
      "record: parameter-20170622-174516-94067567 ..inserted\n",
      "record: parameter-20170622-174516-41645070 ..inserted\n",
      "record: parameter-20170622-174516-54010297 ..inserted\n",
      "record: parameter-20170622-174516-11720192 ..inserted\n",
      "record: parameter-20170622-174516-98421785 ..inserted\n",
      "record: parameter-20170622-174516-58860175 ..inserted\n",
      "record: parameter-20170622-174516-79946778 ..inserted\n",
      "record: parameter-20170622-174516-60238291 ..inserted\n",
      "record: parameter-20170622-174516-21963802 ..inserted\n",
      "record: parameter-20170622-174516-24266828 ..inserted\n"
     ]
    }
   ],
   "source": [
    "from couchbase.bucket import Bucket\n",
    "cb = Bucket('couchbase://localhost/geotechnical')\n",
    "\n",
    "def load_records(records):\n",
    "    for record in records:\n",
    "        id = record['id']\n",
    "        ##cb.upsert(id,record)  # DISABLED!!!\n",
    "        print \"record: \"+id+\" ..inserted\"\n",
    "\n",
    "print \"\\nLoading: projects\"\n",
    "load_records(projects)\n",
    "\n",
    "print \"\\nLoading: boreholes\"\n",
    "load_records(boreholes)\n",
    "\n",
    "print \"\\nLoading: parameters\"\n",
    "load_records(parameters)"
   ]
  },
  {
   "cell_type": "markdown",
   "metadata": {},
   "source": [
    "# Read Some Data"
   ]
  },
  {
   "cell_type": "markdown",
   "metadata": {},
   "source": [
    "## Create Default Index\n",
    "\n",
    " * Required for querying. If you don't do this you get an error when you run queries\n",
    " * This should only be run once. Note yet sure how to ensure that happend\n",
    " * For now, run it once and then comment out the *cb.n1ql_query* statement"
   ]
  },
  {
   "cell_type": "code",
   "execution_count": 24,
   "metadata": {},
   "outputs": [],
   "source": [
    "from couchbase.bucket import Bucket\n",
    "\n",
    "cb = Bucket('couchbase://localhost/geotechnical')\n",
    "##cb.n1ql_query('CREATE PRIMARY INDEX ON geotechnical').execute()  # TODO this should only be run one time!\n",
    "# running above query gave HTTPError: ... http_status=500. Primry Index was however created (couchbase browser)."
   ]
  },
  {
   "cell_type": "code",
   "execution_count": 25,
   "metadata": {},
   "outputs": [
    {
     "name": "stdout",
     "output_type": "stream",
     "text": [
      "{\n",
      "  \"geotechnical\": {\n",
      "    \"borehole_code\": \"NE1-05\", \n",
      "    \"collar_elevation_masl\": \"\", \n",
      "    \"y_project_coordinate\": \"1721741.8\", \n",
      "    \"x_project_coordinate\": \"712184.8\", \n",
      "    \"type\": \"borehole\", \n",
      "    \"id\": \"borehole-20170622-174516-05582985\"\n",
      "  }\n",
      "}\n",
      "\n",
      "Total records: 98\n"
     ]
    }
   ],
   "source": [
    "import json\n",
    "\n",
    "from DataOrganizer import CouchbaseSelector\n",
    "\n",
    "# -- Open the database\n",
    "\n",
    "db = CouchbaseSelector('localhost','geotechnical')\n",
    "\n",
    "fields = ['parameter', 'type', 'value', 'value_unit']\n",
    "where = {'type': 'parameter', 'parameter': 'E','data_source': 'Laboratory'}\n",
    "\n",
    "# db.getParameter(parameter_name, fields, where)\n",
    "\n",
    "recs = []\n",
    "for rec in db.select(None, None):\n",
    "#for rec in db.select(fields, where):\n",
    "    #print json.dumps(rec, indent=2)\n",
    "    recs.append(rec)\n",
    "    \n",
    "print json.dumps(recs[0],indent=2)\n",
    "print \"\\nTotal records: \"+str(len(recs))"
   ]
  },
  {
   "cell_type": "code",
   "execution_count": null,
   "metadata": {
    "collapsed": true
   },
   "outputs": [],
   "source": []
  }
 ],
 "metadata": {
  "kernelspec": {
   "display_name": "Python 2",
   "language": "python",
   "name": "python2"
  },
  "language_info": {
   "codemirror_mode": {
    "name": "ipython",
    "version": 2
   },
   "file_extension": ".py",
   "mimetype": "text/x-python",
   "name": "python",
   "nbconvert_exporter": "python",
   "pygments_lexer": "ipython2",
   "version": "2.7.12"
  }
 },
 "nbformat": 4,
 "nbformat_minor": 2
}
