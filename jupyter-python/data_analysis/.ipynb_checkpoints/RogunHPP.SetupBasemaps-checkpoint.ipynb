{
 "cells": [
  {
   "cell_type": "markdown",
   "metadata": {},
   "source": [
    "# Rogun HPP - Setup Basemaps"
   ]
  },
  {
   "cell_type": "markdown",
   "metadata": {},
   "source": [
    "## description of procedure"
   ]
  },
  {
   "cell_type": "markdown",
   "metadata": {},
   "source": [
    "The Setup Baseamp procedure reads in a DXF file from CAD, which must contain topography as either a TIN, contours or points."
   ]
  },
  {
   "cell_type": "markdown",
   "metadata": {
    "collapsed": true
   },
   "source": [
    "Expected outputs of Setup Basemaps procedure:\n",
    "* DEM raster suitable for waterways DSS alignment interrogation \n",
    "* terrain relief map \n",
    "* hillslope map\n",
    "* project layout map\n",
    "* hydrologic map with watersheds and watercourses\n",
    "* satellite DEM map for cross-checking project topography\n",
    "* reporting of topographic inputs, outputs, differences between topographic inputs and processing"
   ]
  },
  {
   "cell_type": "markdown",
   "metadata": {
    "collapsed": true
   },
   "source": [
    "Required inputs for Setup Basemaps procedure:\n",
    "* CAD DWG with topography as  (contours, TIN or points) as ./data/in\n",
    "* CAD topography as DXF (contours, TIN or points) using e.g. Sketchup as ./data/in\n",
    "* project layout (PDF) as ./data/in\n",
    "* project name (which corresponds to project folder) as Jupyter inout\n",
    "* project coordinate system (or assumption as e.g. pseudo Mercator) as Jupyter input\n",
    "* coordinate bounds (grass region), typically same as bound of suitably cropped project layout, as Jupyter input\n",
    "* layer(s) with topographic data -> by querying of imported DXF, as Jupyter input\n",
    "* layer(s) with stream data -> by querying of imported DXF, as Jupyter input\n",
    "* project layout (PNG) suitably cropped and rotated such that north is y-axis of layout as ./data/in"
   ]
  },
  {
   "cell_type": "markdown",
   "metadata": {
    "collapsed": true
   },
   "source": [
    "Using procedure in a Jupyter Notebook Basemap template:\n",
    "1. call grass setup from API\n",
    "2. define basic input data\n",
    "3. report basic input data\n",
    "4. add required input data from report (e.g. layers with topographic data)\n",
    "5. call Setup Basemaps procedure from API\n",
    "6. display Basemaps\n",
    "7. report for Basemaps\n",
    "8. export Basemaps as PNG (e.g. for Google Maps, plotly)"
   ]
  },
  {
   "cell_type": "markdown",
   "metadata": {},
   "source": [
    "Preparation of DXF from CAD DWG containing topogrpay\n",
    "1. \n",
    "2. "
   ]
  },
  {
   "cell_type": "markdown",
   "metadata": {},
   "source": [
    "Preparation of PNG from Project layout PDF\n",
    "1. \n",
    "2. "
   ]
  },
  {
   "cell_type": "markdown",
   "metadata": {
    "collapsed": true
   },
   "source": [
    "Output grass raster layers:\n",
    "* 'project'/grassdata/Permeanent/cells/terrain_dem\n",
    "* 'project'/grassdata/Permeanent/cells/terrain_relief\n",
    "* 'project'/grassdata/Permeanent/cells/terrain_hillslope\n",
    "* 'project'/grassdata/Permeanent/cells/terrain_hydrology\n",
    "* 'project'/grassdata/Permeanent/cells/rpoject_layout\n",
    "\n",
    "Output grass raster tiff data files:\n",
    "\n",
    "\n",
    "Output grass image png data files:\n",
    " \n"
   ]
  },
  {
   "cell_type": "markdown",
   "metadata": {},
   "source": [
    "## grass setup"
   ]
  },
  {
   "cell_type": "code",
   "execution_count": 3,
   "metadata": {},
   "outputs": [
    {
     "ename": "NameError",
     "evalue": "name 'project' is not defined",
     "output_type": "error",
     "traceback": [
      "\u001b[0;31m\u001b[0m",
      "\u001b[0;31mNameError\u001b[0mTraceback (most recent call last)",
      "\u001b[0;32m<ipython-input-3-d791fddb2567>\u001b[0m in \u001b[0;36m<module>\u001b[0;34m()\u001b[0m\n\u001b[1;32m      1\u001b[0m \u001b[0;31m# import Basemap API\u001b[0m\u001b[0;34m\u001b[0m\u001b[0;34m\u001b[0m\u001b[0m\n\u001b[0;32m----> 2\u001b[0;31m \u001b[0;32mfrom\u001b[0m \u001b[0mbasemap\u001b[0m \u001b[0;32mimport\u001b[0m \u001b[0;34m*\u001b[0m\u001b[0;34m\u001b[0m\u001b[0m\n\u001b[0m\u001b[1;32m      3\u001b[0m \u001b[0;32mfrom\u001b[0m \u001b[0mbasemap\u001b[0m \u001b[0;32mimport\u001b[0m \u001b[0mBasemap\u001b[0m\u001b[0;34m\u001b[0m\u001b[0m\n",
      "\u001b[0;32m/home/kaelin_joseph/DataOrganizer/jupyter-python/data_analysis/basemap.py\u001b[0m in \u001b[0;36m<module>\u001b[0;34m()\u001b[0m\n\u001b[1;32m     50\u001b[0m \u001b[0;34m\u001b[0m\u001b[0m\n\u001b[1;32m     51\u001b[0m \u001b[0;34m\u001b[0m\u001b[0m\n\u001b[0;32m---> 52\u001b[0;31m \u001b[0;32mclass\u001b[0m \u001b[0mBasemap\u001b[0m\u001b[0;34m(\u001b[0m\u001b[0mproject\u001b[0m\u001b[0;34m)\u001b[0m\u001b[0;34m:\u001b[0m\u001b[0;34m\u001b[0m\u001b[0m\n\u001b[0m\u001b[1;32m     53\u001b[0m     \u001b[0;34m\"\"\"prepares a set of basemaps for project layout\"\"\"\u001b[0m\u001b[0;34m\u001b[0m\u001b[0m\n\u001b[1;32m     54\u001b[0m \u001b[0;34m\u001b[0m\u001b[0m\n",
      "\u001b[0;31mNameError\u001b[0m: name 'project' is not defined"
     ]
    }
   ],
   "source": [
    "# import Basemap API\n",
    "from basemap import *\n",
    "from basemap import Basemap"
   ]
  },
  {
   "cell_type": "markdown",
   "metadata": {},
   "source": [
    "## project setup"
   ]
  },
  {
   "cell_type": "code",
   "execution_count": null,
   "metadata": {
    "collapsed": true
   },
   "outputs": [],
   "source": [
    "# define required user input data for project\n",
    "project = 'RogunHPP'\n",
    "crs = 'EPSG:3857'  #WGS84 Pseudo Mercator\n",
    "n,s,e,w = 24797, 20796, 28600, 25597\n",
    "res = 10  #sets raster resolution"
   ]
  },
  {
   "cell_type": "code",
   "execution_count": null,
   "metadata": {
    "collapsed": true
   },
   "outputs": [],
   "source": [
    "# instantiate Basemap instance for project\n",
    "map = Basemap(project)"
   ]
  },
  {
   "cell_type": "code",
   "execution_count": null,
   "metadata": {
    "collapsed": true
   },
   "outputs": [],
   "source": [
    "# define required input data files for project\n",
    "topogDXF='data/in/Topography2m_R5_reduced_5m.dxf'\n",
    "layoutPDF = ''"
   ]
  },
  {
   "cell_type": "code",
   "execution_count": null,
   "metadata": {
    "collapsed": true
   },
   "outputs": [],
   "source": [
    "# define project home dir\n",
    "project_dir = map.grass_setup(project)"
   ]
  },
  {
   "cell_type": "code",
   "execution_count": null,
   "metadata": {
    "collapsed": true
   },
   "outputs": [],
   "source": [
    "# open mapset for project (create mapset if it doesn't exist)\n",
    "mapset_loc, rcfile = map.grass_mapset(project, project_dir, crs)"
   ]
  },
  {
   "cell_type": "code",
   "execution_count": null,
   "metadata": {
    "collapsed": true
   },
   "outputs": [],
   "source": [
    "# set grass region for project\n",
    "g.region(n=n,s=s,e=e,w=w, res=res)"
   ]
  },
  {
   "cell_type": "code",
   "execution_count": null,
   "metadata": {
    "collapsed": true
   },
   "outputs": [],
   "source": [
    "# report grass setup\n",
    "print('\\n' 'grass environment:')\n",
    "print(grass.gisenv())\n",
    "\n",
    "# report grass coordinate system\n",
    "print('\\n' 'coordinate system:')\n",
    "print(map.read_grass('g.proj', flags = 'jf'))\n",
    "\n",
    "# report grass region\n",
    "print('\\n' 'grass mapset region:')\n",
    "print(g.region(flags='p',stdout_=PIPE).outputs.stdout.decode())"
   ]
  },
  {
   "cell_type": "markdown",
   "metadata": {
    "collapsed": true
   },
   "source": [
    "## read in DXF data file containing topogaphy"
   ]
  },
  {
   "cell_type": "code",
   "execution_count": null,
   "metadata": {
    "collapsed": true
   },
   "outputs": [],
   "source": [
    "# inspect layers in DXF data file to be read in\n",
    "map.inspect_dxf(project_dir, topogDXF)"
   ]
  },
  {
   "cell_type": "code",
   "execution_count": null,
   "metadata": {
    "collapsed": true
   },
   "outputs": [],
   "source": [
    "# import topography data from DXF data file \n",
    "\n",
    "# define layers to be used to extract topography\n",
    "layers_dxf = 'stl'\n",
    "\n",
    "map.import_dxf(project_dir, topogDXF, layers_dxf, dbg=0)"
   ]
  },
  {
   "cell_type": "code",
   "execution_count": null,
   "metadata": {
    "collapsed": true
   },
   "outputs": [],
   "source": [
    "# report of imported DXF\n",
    "#  comment out individual reporting as desired\n",
    "\n",
    "# report imported DXF layers\n",
    "print(map.read_grass(\"v.info\", map='topog_vect', layer=layers_dxf, verbose=True)[0].decode()) \n",
    "\n",
    "# report entities in imported DXF layers\n",
    "out = map.read_grass(\"v.db.select\", map='topog_vect')[0].splitlines()\n",
    "for line in range(0,5):\n",
    "    print(out[line])\n",
    "\n",
    "# report categories in imported DXF layers\n",
    "print('\\n')\n",
    "print(map.read_grass(\"v.category\", input='topog_vect', layer='-1', option='report', verbose=True)[0].decode()) \n",
    "\n",
    "# report coordinatesin imported DXF layers\n",
    "#   adjust range as desired\n",
    "out = map.read_grass(\"v.report\", map='topog_vect', layer='-1', option='coor', verbose=True)[0].splitlines()\n",
    "for line in range(0,1):\n",
    "    print(out[line])\n",
    "\n",
    "# report on attributes stored in grass sqlite database\n",
    "print('\\n')\n",
    "print(map.read_grass(\"v.db.connect\", map='topog_vect', flags='c', verbose=True)[0].decode()) "
   ]
  },
  {
   "cell_type": "code",
   "execution_count": null,
   "metadata": {
    "collapsed": true
   },
   "outputs": [],
   "source": [
    "# display topography vector data\n",
    "output_image = 'data/out/images/topog_vect.png'\n",
    "os.environ['GRASS_RENDER_FILE'] = output_image\n",
    "map.read_grass(\"d.mon\", start='cairo', resolution=2, width=1080, height=720, overwrite=True)\n",
    "map.read_grass(\"d.vect\", map='topog_vect', color='green')\n",
    "# show grid and display result\n",
    "map.read_grass(\"d.grid\", size=2000, fontsize=20)[0]\n",
    "Image(filename = output_image)"
   ]
  },
  {
   "cell_type": "markdown",
   "metadata": {},
   "source": [
    "## convert vector data with DXF topography to raster DEM"
   ]
  },
  {
   "cell_type": "code",
   "execution_count": null,
   "metadata": {
    "collapsed": true
   },
   "outputs": [],
   "source": [
    "# convert vector DXF data to raster DEM\n",
    "map.rasterize_vect_using_points(dbg=1)"
   ]
  },
  {
   "cell_type": "code",
   "execution_count": null,
   "metadata": {
    "collapsed": true
   },
   "outputs": [],
   "source": [
    "# report of vector lines\n",
    "#  comment out individual reporting as desired\n",
    "\n",
    "# report imported DXF layers\n",
    "print(map.read_grass(\"v.info\", map='topog_vect_points', layer=layers_dxf, verbose=True)[0].decode()) \n",
    "\n",
    "# # report entities in imported DXF layers\n",
    "# #   adjust range as desired\n",
    "# out = map.read_grass(\"v.db.select\", map='topog_vect_points')[0].splitlines()\n",
    "# for line in range(0,5):\n",
    "#     print(out[line])\n",
    "\n",
    "# report categories in imported DXF layers\n",
    "print('\\n')\n",
    "print(map.read_grass(\"v.category\", input='topog_vect_points', layer='-1', option='report', verbose=True)[0].decode()) \n",
    "\n",
    "# report coordinatesin imported DXF layers\n",
    "#   adjust range as desired\n",
    "out = map.read_grass(\"v.report\", map='topog_vect_points', layer='-1', option='coor', verbose=True)[0].splitlines()\n",
    "for line in range(0,1):\n",
    "    print(out[line])\n",
    "\n",
    "# report on attributes stored in grass sqlite database\n",
    "print('\\n')\n",
    "print(map.read_grass(\"v.db.connect\", map='topog_vect_points', flags='c', verbose=True)[0].decode()) "
   ]
  },
  {
   "cell_type": "code",
   "execution_count": null,
   "metadata": {
    "collapsed": true
   },
   "outputs": [],
   "source": [
    "# report of raster DEM\n",
    "\n",
    "print(map.read_grass(\"r.info\", map='topog_rast_resamp')[0].decode()) \n",
    "\n",
    "print(map.read_grass(\"r.report\", map='topog_rast_resamp', units='h,p', nsteps=10)[0].decode()) \n",
    "\n",
    "print(map.read_grass(\"r.univar\", map='topog_rast_resamp')[0].decode()) \n"
   ]
  },
  {
   "cell_type": "code",
   "execution_count": null,
   "metadata": {
    "collapsed": true
   },
   "outputs": [],
   "source": [
    "# display topography raster DEM\n",
    "map.read_grass(\"d.mon\", select='cairo', flags='r')  #release current display monitor\n",
    "output_image = 'data/out/images/topog_rast.png'\n",
    "os.environ['GRASS_RENDER_FILE'] = output_image\n",
    "map.read_grass(\"d.mon\", start='cairo', resolution=2, width=1080, height=720, overwrite=True)\n",
    "map.read_grass(\"d.rast\", map='topog_rast_resamp', bgcolor='white', flags='n')\n",
    "map.read_grass(\"d.legend\", raster='topog_rast_resamp', fontsize='24')[1]\n",
    "# show grid and display result\n",
    "map.read_grass(\"d.grid\", size=2000, fontsize=20)[0]\n",
    "Image(filename = output_image)"
   ]
  },
  {
   "cell_type": "markdown",
   "metadata": {},
   "source": [
    "## hillslope map"
   ]
  },
  {
   "cell_type": "code",
   "execution_count": null,
   "metadata": {
    "collapsed": true
   },
   "outputs": [],
   "source": [
    "# create a hillslope raster map from raster DEM\n",
    "map.hillslope()"
   ]
  },
  {
   "cell_type": "code",
   "execution_count": null,
   "metadata": {
    "collapsed": true
   },
   "outputs": [],
   "source": [
    "# display hillslope map \n",
    "map.read_grass(\"d.mon\", select='cairo', flags='r')  #release current display monitor\n",
    "output_image = 'data/out/images/topog_slope.png'\n",
    "os.environ['GRASS_RENDER_FILE'] = output_image\n",
    "map.read_grass(\"d.mon\", start='cairo', resolution=2, width=1080, height=720, overwrite=True)\n",
    "map.read_grass(\"d.rast\", map='topog_slope', bgcolor='white', flags='n')\n",
    "map.read_grass(\"d.legend\", raster='topog_slope', range='0,50', fontsize='24')[1]\n",
    "# show grid and display result\n",
    "map.read_grass(\"d.grid\", size=2000, fontsize=20)[0]\n",
    "Image(filename = output_image)"
   ]
  },
  {
   "cell_type": "markdown",
   "metadata": {},
   "source": [
    "## shaded relief map"
   ]
  },
  {
   "cell_type": "code",
   "execution_count": null,
   "metadata": {
    "collapsed": true
   },
   "outputs": [],
   "source": [
    "# create an shaded relief map from raster DEM\n",
    "map.relief_map()"
   ]
  },
  {
   "cell_type": "code",
   "execution_count": null,
   "metadata": {
    "collapsed": true
   },
   "outputs": [],
   "source": [
    "# display shaded relief map \n",
    "map.read_grass(\"d.mon\", select='cairo', flags='r')  #release current display monitor\n",
    "output_image = 'data/out/images/topog_relief.png'\n",
    "os.environ['GRASS_RENDER_FILE'] = output_image\n",
    "map.read_grass(\"d.mon\", start='cairo', resolution=2, width=1080, height=720, overwrite=True)\n",
    "map.read_grass(\"d.rast\", map='topog_relief_color', bgcolor='white', flags='n')\n",
    "map.read_grass(\"d.legend\", raster='topog_rast_resamp', fontsize='24')[1]\n",
    "# show grid and display result\n",
    "map.read_grass(\"d.grid\", size=2000, fontsize=20)[0]\n",
    "Image(filename = output_image)"
   ]
  },
  {
   "cell_type": "code",
   "execution_count": null,
   "metadata": {
    "collapsed": true
   },
   "outputs": [],
   "source": []
  },
  {
   "cell_type": "markdown",
   "metadata": {},
   "source": [
    "## hydrologic map"
   ]
  },
  {
   "cell_type": "code",
   "execution_count": null,
   "metadata": {
    "collapsed": true
   },
   "outputs": [],
   "source": [
    "# create a hydrologic map from raster DEM\n",
    "map.hydrology_map()"
   ]
  },
  {
   "cell_type": "code",
   "execution_count": null,
   "metadata": {
    "collapsed": true
   },
   "outputs": [],
   "source": [
    "# display hydrologic map \n",
    "map.read_grass(\"d.mon\", select='cairo', flags='r')  #release current display monitor\n",
    "output_image = 'data/out/images/topog_hydrology.png'\n",
    "os.environ['GRASS_RENDER_FILE'] = output_image\n",
    "map.read_grass(\"d.mon\", start='cairo', resolution=2, width=1080, height=720, overwrite=True)\n",
    "# display shaded relief map with watershed basins\n",
    "map.read_grass('d.his', hue=\"topog_basin\", intensity=\"topog_relief\", brighten=\"40\")[0]\n",
    "# display watershed basin boundaries\n",
    "map.read_grass('d.vect', map=\"topog_basin_vect\", type=\"boundary\",  width=1)\n",
    "# display streams calculated from accumulation\n",
    "map.read_grass(\"d.vect\", map='topog_accum_vect', verbose=True, bgcolor='white', \n",
    "              color='indigo', width=3)[0]\n",
    "# display streams imported from dxf\n",
    "map.read_grass('d.vect', map='streams', type='line', color='blue', width=3)\n",
    "# show grid and display result\n",
    "map.read_grass(\"d.grid\", size=2000, fontsize=20)[0]\n",
    "Image(filename = output_image)"
   ]
  },
  {
   "cell_type": "markdown",
   "metadata": {},
   "source": [
    "## project layout map"
   ]
  },
  {
   "cell_type": "code",
   "execution_count": null,
   "metadata": {
    "collapsed": true
   },
   "outputs": [],
   "source": [
    "# import PNG image with project layout into grass as raster image\n",
    "map.layout_map(project_dir, layoutPDF, dbg=0)"
   ]
  },
  {
   "cell_type": "code",
   "execution_count": null,
   "metadata": {
    "collapsed": true
   },
   "outputs": [],
   "source": [
    "# adjust geolocated map position based on visual inspection\n",
    "map.read_grass(\"r.region\", map='layout_rast_rgb', verbose=True, \n",
    "                     n='n+100',s='s+100')[0]"
   ]
  },
  {
   "cell_type": "code",
   "execution_count": null,
   "metadata": {
    "collapsed": true
   },
   "outputs": [],
   "source": [
    "# display project layout map \n",
    "map.read_grass(\"d.mon\", select='cairo', flags='r')  #release current display monitor\n",
    "output_image = 'data/out/images/layout_rast.png'\n",
    "os.environ['GRASS_RENDER_FILE'] = output_image\n",
    "map.read_grass(\"d.mon\", start='cairo', resolution=2, width=1080, height=720, overwrite=True)\n",
    "map.read_grass(\"d.rast\", map='layout_rast_rgb', bgcolor='white', flags='n')\n",
    "# display streams imported from dxf\n",
    "map.read_grass('d.vect', map='streams', type='line', color='blue', width=3)\n",
    "# show grid and display result\n",
    "map.read_grass(\"d.grid\", size=2000, fontsize=20)[0]\n",
    "Image(filename = output_image)"
   ]
  },
  {
   "cell_type": "code",
   "execution_count": null,
   "metadata": {
    "collapsed": true
   },
   "outputs": [],
   "source": []
  },
  {
   "cell_type": "code",
   "execution_count": null,
   "metadata": {
    "collapsed": true
   },
   "outputs": [],
   "source": []
  },
  {
   "cell_type": "code",
   "execution_count": null,
   "metadata": {
    "collapsed": true
   },
   "outputs": [],
   "source": []
  },
  {
   "cell_type": "markdown",
   "metadata": {},
   "source": [
    "## check topography comparing differences between raster results"
   ]
  },
  {
   "cell_type": "code",
   "execution_count": null,
   "metadata": {
    "collapsed": true
   },
   "outputs": [],
   "source": [
    "!r.mapcalc \"topog_vect_rast_=(topog_rast_resamp)-(topog_xyz_rast_resamp)\"\n"
   ]
  },
  {
   "cell_type": "code",
   "execution_count": null,
   "metadata": {
    "collapsed": true
   },
   "outputs": [],
   "source": [
    "print(map.read_grass(\"r.univar\", map='topog_vect_rast_')[0].decode()) \n"
   ]
  },
  {
   "cell_type": "code",
   "execution_count": null,
   "metadata": {
    "collapsed": true
   },
   "outputs": [],
   "source": [
    "# view and check topography\n",
    "!rm map.png                                                                                 #ToDo JK: pythonize\n",
    "#map.read_grass(\"d.rast\", map='topog_vect_rast_', verbose=True, bgcolor='white', flags='n',\n",
    "#             )[0]\n",
    "map.read_grass(\"d.rast\", map='topog_vect_rast_', verbose=True, bgcolor='white', flags='n',\n",
    "              values='(-10)-(10)')[0]"
   ]
  },
  {
   "cell_type": "code",
   "execution_count": null,
   "metadata": {
    "collapsed": true
   },
   "outputs": [],
   "source": [
    "map.read_grass(\"d.legend\", raster='topog_vect_rast_')[1]\n",
    "#map.read_grass(\"d.legend\", raster='topog_vect_rast_', range='-10,10')[1]"
   ]
  },
  {
   "cell_type": "code",
   "execution_count": null,
   "metadata": {
    "collapsed": true
   },
   "outputs": [],
   "source": [
    "Image(filename=\"map.png\")"
   ]
  },
  {
   "cell_type": "markdown",
   "metadata": {},
   "source": [
    "## extract points from vector data from DXF"
   ]
  },
  {
   "cell_type": "code",
   "execution_count": null,
   "metadata": {
    "collapsed": true
   },
   "outputs": [],
   "source": [
    "#points_out = map.read_grass(\"v.to.points\", input='topog_vect', output='topog_vect_points') \n",
    "#print(points_out[1].decode())\n",
    "\n",
    "#WARNING: 1565094 features without category in layer <1> skipped. Note that\n",
    "#         features without category (usually boundaries) are not skipped\n",
    "#         when 'layer=-1' is given.\n",
    "# without categories --> seems x,y,z are all missing   !!\n",
    "\n",
    "points_out = map.read_grass(\"v.to.points\", input='topog_vect', layer=-1, output='topog_vect_points') \n",
    "print(points_out[1].decode())\n",
    "\n",
    "# works (output)"
   ]
  },
  {
   "cell_type": "code",
   "execution_count": null,
   "metadata": {
    "collapsed": true
   },
   "outputs": [],
   "source": [
    "#print(map.read_grass(\"v.db.select\", map='topog_vect_points', layer=-1)[0].decode()) \n",
    "\n",
    "\n",
    "# lots of output, apparently one line for each coordinate ??"
   ]
  },
  {
   "cell_type": "code",
   "execution_count": null,
   "metadata": {
    "collapsed": true
   },
   "outputs": [],
   "source": [
    "print(map.read_grass(\"v.info\", map='topog_vect_points')[0].decode()) "
   ]
  },
  {
   "cell_type": "code",
   "execution_count": null,
   "metadata": {
    "collapsed": true
   },
   "outputs": [],
   "source": [
    "map.read_grass(\"v.out.ascii\", input='topog_vect_points', type='point', layer=-1, separator=',',\n",
    "              output='data/out/topog_vect_points.csv')\n",
    "\n",
    "# this works (but includes layers with bad data)\n",
    "# try with only identified layers with correct contour data   !!"
   ]
  },
  {
   "cell_type": "code",
   "execution_count": null,
   "metadata": {
    "collapsed": true
   },
   "outputs": [],
   "source": [
    "#print(map.read_grass(\"g.region\", vect='topog_vect_points')[1].decode())  # does not help to display image\n"
   ]
  },
  {
   "cell_type": "code",
   "execution_count": null,
   "metadata": {
    "collapsed": true
   },
   "outputs": [],
   "source": [
    "# view and check points\n",
    "!rm map.png                                                                                 #ToDo JK: pythonize\n",
    "map.read_grass(\"d.vect\", map='topog_vect_points', color='red')"
   ]
  },
  {
   "cell_type": "code",
   "execution_count": null,
   "metadata": {
    "collapsed": true
   },
   "outputs": [],
   "source": [
    "Image(filename=\"map.png\")\n",
    "\n",
    "# no image visible   ??\n",
    "# image is displayed in qgisp"
   ]
  },
  {
   "cell_type": "code",
   "execution_count": null,
   "metadata": {
    "collapsed": true
   },
   "outputs": [],
   "source": [
    "map.read_grass(\"v.to.rast\", input='topog_vect_points', use='z', layer=-1, \n",
    "             output='topog_vect_points_rast')[0]\n"
   ]
  },
  {
   "cell_type": "code",
   "execution_count": null,
   "metadata": {
    "collapsed": true
   },
   "outputs": [],
   "source": [
    "# view and check topography\n",
    "!rm map.png                                                                                 #ToDo JK: pythonize\n",
    "map.read_grass(\"d.rast\", map='topog_vect_points_rast')[0]\n"
   ]
  },
  {
   "cell_type": "code",
   "execution_count": null,
   "metadata": {
    "collapsed": true
   },
   "outputs": [],
   "source": [
    "Image(filename=\"map.png\")"
   ]
  },
  {
   "cell_type": "markdown",
   "metadata": {},
   "source": [
    "## extract lines from vector data from DXF"
   ]
  },
  {
   "cell_type": "code",
   "execution_count": null,
   "metadata": {
    "collapsed": true
   },
   "outputs": [],
   "source": [
    "map.read_grass(\"v.out.ascii\", input='topog_vect', type='line', format='wkt', layer=-1,\n",
    "              output='data/out/topog_vect_lines.csv')\n"
   ]
  },
  {
   "cell_type": "markdown",
   "metadata": {},
   "source": [
    "## convert points to raster data using r.in.xyz"
   ]
  },
  {
   "cell_type": "code",
   "execution_count": null,
   "metadata": {
    "collapsed": true
   },
   "outputs": [],
   "source": [
    "map.read_grass(\"r.in.xyz\", input='data/out/topog_vect_points.csv', separator=',', zrange='400,2000',\n",
    "             type='CELL', output='topog_vect_xyz_rast')[1]\n",
    "\n",
    "# zrange from visual check of original topography\n",
    "\n",
    "\n",
    "# use also fpr MASK (as first try)\n",
    "##map.read_grass(\"r.in.xyz\", input='data/out/topog_vect_points.csv', separator=',', zrange='400,2000',\n",
    "##             type='CELL', output='MASK')[1]"
   ]
  },
  {
   "cell_type": "code",
   "execution_count": null,
   "metadata": {
    "collapsed": true
   },
   "outputs": [],
   "source": [
    "print(map.read_grass(\"r.info\", map='topog_vect_xyz_rast')[0].decode()) "
   ]
  },
  {
   "cell_type": "code",
   "execution_count": null,
   "metadata": {
    "collapsed": true
   },
   "outputs": [],
   "source": [
    "# view and check topography\n",
    "!rm map.png                                                                                 #ToDo JK: pythonize\n",
    "map.read_grass(\"d.rast\", map='topog_vect_xyz_rast', verbose=True, bgcolor='red')[1]"
   ]
  },
  {
   "cell_type": "code",
   "execution_count": null,
   "metadata": {
    "collapsed": true
   },
   "outputs": [],
   "source": [
    "Image(filename=\"map.png\")"
   ]
  }
 ],
 "metadata": {
  "kernelspec": {
   "display_name": "Python 3",
   "language": "python",
   "name": "python3"
  },
  "language_info": {
   "codemirror_mode": {
    "name": "ipython",
    "version": 2
   },
   "file_extension": ".py",
   "mimetype": "text/x-python",
   "name": "python",
   "nbconvert_exporter": "python",
   "pygments_lexer": "ipython2",
   "version": "2.7.12"
  }
 },
 "nbformat": 4,
 "nbformat_minor": 2
}
