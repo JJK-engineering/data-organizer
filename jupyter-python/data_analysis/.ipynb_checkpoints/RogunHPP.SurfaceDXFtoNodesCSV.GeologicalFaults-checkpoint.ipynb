{
 "cells": [
  {
   "cell_type": "markdown",
   "metadata": {},
   "source": [
    "# Rogun HPP - Surface DXF to Nodes in CSV"
   ]
  },
  {
   "cell_type": "markdown",
   "metadata": {},
   "source": [
    "--- GEOLOGICAL FAULTS (SURFACES) ---\n",
    "\n",
    "This procedure prepares geological surface data from a CAD DXF and is intended to provide geologicl input to the Hydropower Waterways Decision Support System (Waterways DSS), working together with the 'Alignments DXF to Nodes in CSV' and the 'Setup Basemaps' modules:\n",
    "- geological layers and faults for feasibilty and siting analysis\n",
    "- geological layers and faults for visualizing project data.\n",
    "\n",
    "Various means of using geological surface data for hydropower and geotechnical analysis, which includes data analysis and visualization, have been reviewed:\n",
    "1. export geometry from CAD (often Civil3d) using a suitable geospatial format and use python procedures for analysis: DXF export is a time-proven and robust solution \n",
    "2. perform analysis inside of CAD (probably Civil3d), most probably as plug-in developed using C# and .NET with Civil3d API considered to have a steep learning curve: not a realistic scenario in most engineering consultancy offices\n",
    "3. perform analysis from CAD ((probably Civil3d) using bindings to an external software development environment (python probably): solution does not yet exist. \n",
    "\n",
    "The only practical choice at this time is 1.\n",
    "\n",
    "Sketchup is currently used to prepare geological surfaces for export in DXF. The surfaces are typically imported from other 3d CAD software and then checked, cleaned up (e.g. simplification, removing overhangs) and made into components using Sketchup. Geological surfaces is used here to refer to contact surfaces between geological layers (typically lithologies) and to fault surfaces.\n",
    "\n",
    "See Engieering Procedure:  \n",
    "\"Use Sketchup and QGIS to prepare surface nodes as CSV input data\""
   ]
  },
  {
   "cell_type": "markdown",
   "metadata": {},
   "source": [
    "This procedure adresses in particular mesh data exported as DXF from Sketchup. The exported mesh data is generally LINE (both from Sketchup surfaces and from extensions that I have tried such as Fredo6 Curviloft)."
   ]
  },
  {
   "cell_type": "code",
   "execution_count": 1,
   "metadata": {
    "collapsed": true
   },
   "outputs": [],
   "source": [
    "# ToDo\n",
    "\n",
    "#  'layer' -> 'surface' or 'contact surface' (sometimes - needs review)\n",
    "#  surface names to be e.g. as 'layer_1' to improve data handling? -> with lithology e.g. 'sandstone_K1ob2'\n",
    "#  check bottom elevation of surface != 0 (=0 implies artifacts in export)\n",
    "#  check nr of edge/vertice entities in Sketchup vs grass lines/points\n",
    "\n",
    "\n",
    "#  all data (e.g. file names) as variables\n",
    "#  markdown titles\n",
    "#  comments with explanations of code / grass methods\n",
    "#  this example use grass script, do again with pygrass defining class & methods? \n",
    "#  this work to go into API later\n"
   ]
  },
  {
   "cell_type": "markdown",
   "metadata": {},
   "source": [
    "## grass setup for project"
   ]
  },
  {
   "cell_type": "code",
   "execution_count": 2,
   "metadata": {
    "collapsed": true
   },
   "outputs": [],
   "source": [
    "# set up Python for GRASS GIS\n",
    "import os\n",
    "import sys\n",
    "import subprocess\n",
    "from IPython.display import Image\n",
    "\n",
    "# set up GRASS GIS runtime environment\n",
    "gisbase = subprocess.check_output([\"grass\", \"--config\", \"path\"]).strip()\n",
    "os.environ['GISBASE'] = gisbase\n",
    "os.environ['GRASS_FONT'] = 'sans'\n",
    "os.environ['GRASS_OVERWRITE'] = '1'  #overwrite existing maps\n",
    "sys.path.append(os.path.join(gisbase, \"etc\", \"python\"))\n",
    "\n",
    "# set display modules to render into a file (named map.png by default)\n",
    "os.environ['GRASS_RENDER_IMMEDIATE'] = 'cairo'\n",
    "os.environ['GRASS_RENDER_FILE_READ'] = 'TRUE'\n",
    "os.environ['GRASS_LEGEND_FILE'] = 'legend.txt'\n",
    "\n",
    "# import GRASS GIS\n",
    "import grass.script as gs\n",
    "import grass.script.setup as gsetup\n",
    "from grass.script import core as grass\n",
    "\n",
    "# for pygrass\n",
    "from grass.pygrass.modules.shortcuts import raster as r, vector as v, general as g, display as d\n",
    "\n",
    "from subprocess import PIPE\n",
    "\n",
    "# further setup for GRASS GIS \n",
    "gs.set_raise_on_error(True)\n",
    "#gs.set_capture_stderr(True)  #might be Python 2 vs 3 issue (unsure if Python 3 required for this Notebook)\n",
    "\n",
    "# additional imports\n",
    "import numpy as np"
   ]
  },
  {
   "cell_type": "code",
   "execution_count": 3,
   "metadata": {
    "collapsed": true
   },
   "outputs": [],
   "source": [
    "# https://grasswiki.osgeo.org/wiki/GRASS_Python_Scripting_Library\n",
    "# GRASS Python Scripting Library\n",
    "# How to retrieve error messages from read_command():\n",
    "\n",
    "def read2_command(*args, **kwargs):                                                 #rename to e.g. read_grass\n",
    "   kwargs['stdout'] = grass.PIPE\n",
    "   kwargs['stderr'] = grass.PIPE\n",
    "   ps = grass.start_command(*args, **kwargs)\n",
    "   return ps.communicate()"
   ]
  },
  {
   "cell_type": "code",
   "execution_count": 4,
   "metadata": {},
   "outputs": [
    {
     "name": "stdout",
     "output_type": "stream",
     "text": [
      "Cleaning up temporary files...\r\n",
      "Creating new GRASS GIS location/mapset...\r\n",
      "ERROR: Failed to create new location. The location <RogunHPP> already exists.\r\n",
      "Exiting...\r\n"
     ]
    }
   ],
   "source": [
    "# create a mapset (mapset does not already exist)\n",
    "# should only do once (but will report error and exit if already exists)\n",
    "\n",
    "# dir /home/kaelin_joseph/projects/RogunHEP/grassdata  should already exist\n",
    "!grass -c EPSG:3857 /home/kaelin_joseph/projects/RogunHPP/grassdata/RogunHPP -e\n",
    "# should use grass scipt                                                                            ToDo JK !!\n",
    "\n",
    "# define all parameters separately                                                                  ToDo JK !!\n",
    "#EPSG:3857  #WGS84 Pseudo Mercator"
   ]
  },
  {
   "cell_type": "code",
   "execution_count": 5,
   "metadata": {
    "collapsed": true
   },
   "outputs": [],
   "source": [
    "# open mapset\n",
    "rcfile = gsetup.init(gisbase, \n",
    "         \"/home/kaelin_joseph/projects/RogunHPP/grassdata\",\n",
    "         \"RogunHPP/\", \"PERMANENT\")"
   ]
  },
  {
   "cell_type": "code",
   "execution_count": 6,
   "metadata": {},
   "outputs": [
    {
     "name": "stdout",
     "output_type": "stream",
     "text": [
      "{'MAPSET': 'PERMANENT', 'GISDBASE': '/home/kaelin_joseph/projects/RogunHPP/grassdata', 'LOCATION_NAME': 'RogunHPP/'}\n"
     ]
    }
   ],
   "source": [
    "# check grass env\n",
    "print grass.gisenv()"
   ]
  },
  {
   "cell_type": "code",
   "execution_count": 7,
   "metadata": {},
   "outputs": [
    {
     "data": {
      "text/plain": [
       "('+proj=merc +lat_ts=0.0 +lon_0=0.0 +x_0=0.0 +y_0=0 +k=1.0 +no_defs +a=6378137 +rf=298.257223563 +towgs84=0.000,0.000,0.000 +to_meter=1\\n',\n",
       " '')"
      ]
     },
     "execution_count": 7,
     "metadata": {},
     "output_type": "execute_result"
    }
   ],
   "source": [
    "# check projection info\n",
    "read2_command('g.proj', flags = 'jf')"
   ]
  },
  {
   "cell_type": "code",
   "execution_count": 8,
   "metadata": {},
   "outputs": [
    {
     "data": {
      "text/plain": [
       "['PERMANENT']"
      ]
     },
     "execution_count": 8,
     "metadata": {},
     "output_type": "execute_result"
    }
   ],
   "source": [
    "#check mapsets\n",
    "grass.mapsets()"
   ]
  },
  {
   "cell_type": "code",
   "execution_count": 9,
   "metadata": {},
   "outputs": [
    {
     "data": {
      "text/plain": [
       "Module('g.region')"
      ]
     },
     "execution_count": 9,
     "metadata": {},
     "output_type": "execute_result"
    }
   ],
   "source": [
    "# set grass region for project\n",
    "n,s,e,w = 24797, 20796, 28600, 25597  #bounds of topog\n",
    "g.region(n=n,s=s,e=e,w=w, t=3000, b=100, res=5)"
   ]
  },
  {
   "cell_type": "code",
   "execution_count": 10,
   "metadata": {},
   "outputs": [
    {
     "name": "stdout",
     "output_type": "stream",
     "text": [
      "projection: 99 (Mercator)\n",
      "zone:       0\n",
      "datum:      wgs84\n",
      "ellipsoid:  wgs84\n",
      "north:      24797\n",
      "south:      20796\n",
      "west:       25597\n",
      "east:       28600\n",
      "top:        3000.00000000\n",
      "bottom:     100.00000000\n",
      "nsres:      5.00125\n",
      "nsres3:     1.00401506\n",
      "ewres:      4.99667221\n",
      "ewres3:     1\n",
      "tbres:      1.04241552839684\n",
      "rows:       800\n",
      "rows3:      3985\n",
      "cols:       601\n",
      "cols3:      3003\n",
      "depths:     2782\n",
      "cells:      480800\n",
      "cells3:     33292068810\n",
      "\n"
     ]
    }
   ],
   "source": [
    "# check grass region\n",
    "print(g.region(flags='p3',stdout_=PIPE).outputs.stdout.decode())"
   ]
  },
  {
   "cell_type": "code",
   "execution_count": 11,
   "metadata": {},
   "outputs": [
    {
     "name": "stdout",
     "output_type": "stream",
     "text": [
      "ERROR: No existing MASK to remove\r\n",
      "\u0007"
     ]
    }
   ],
   "source": [
    "# remove any existing raster masks (including masks from other procedures using grass data)\n",
    "#  make this part of basemap class initiation\n",
    "!r.mask -r"
   ]
  },
  {
   "cell_type": "code",
   "execution_count": 12,
   "metadata": {
    "collapsed": true
   },
   "outputs": [],
   "source": [
    "# reference for grass colors\n",
    "# https://grass.osgeo.org/grass64/manuals/r.colors.html\n",
    "# https://grass.osgeo.org/grass74/manuals/v.colors.html\n",
    "\n",
    "# standard GRASS color names: aqua, black, blue, brown, cyan, gray, green, grey, \n",
    "#                             indigo, magenta, orange, purple, red, violet, white, yellow"
   ]
  },
  {
   "cell_type": "markdown",
   "metadata": {},
   "source": [
    "## input data for project"
   ]
  },
  {
   "cell_type": "code",
   "execution_count": 13,
   "metadata": {
    "collapsed": true
   },
   "outputs": [],
   "source": [
    "# define geological surfaces to be processed\n",
    "# 'layers' refers to contact surfaces between geological layers \n",
    "# 'layers' is term used in source data imported into Sketchup\n",
    "\n",
    "# ToDo: improve naming of layer data\n",
    "#   'contact' or 'surface' would be better terms than 'layer'\n",
    "#   should then contact name be composed of the two adjoing lithologies?\n",
    "#   where should the rock type for each lithology be defined in the inout data?\n",
    "#     - should the rock type be part of the contact name (.dxf data name) and then parsed??\n",
    "\n",
    "fault_data = ['3']\n",
    "#lithologies = ['siltstone_K1ob1', 'sandstone_K1ob2', 'siltstone_K1kr']\n",
    "\n",
    "faults, faults_vect = [], []\n",
    "faults_points, faults_points_csv = [], []\n",
    "faults_rast, faults_rast_ = [], []\n",
    "\n",
    "# define required data files for project\n",
    "for fault in fault_data:\n",
    "    # dxf input data files\n",
    "    faults.append('/home/kaelin_joseph/projects/RogunHPP/data/in/fault_'+str(fault)+'.dxf')\n",
    "    # grass vector data\n",
    "    faults_vect.append('fault_'+str(fault))\n",
    "    faults_points.append('fault_points_'+str(fault))\n",
    "    # csv output data files\n",
    "    faults_points_csv.append('/home/kaelin_joseph/projects/RogunHPP/data/out/fault_'+str(fault)+'.csv')\n",
    "    # grass raster data files\n",
    "    faults_rast.append('fault_rast_'+str(fault))\n",
    "    faults_rast_.append('fault_rast__'+str(fault))  #is use of __ really a good idea her??       #ToDo JK"
   ]
  },
  {
   "cell_type": "code",
   "execution_count": 14,
   "metadata": {},
   "outputs": [
    {
     "data": {
      "text/plain": [
       "['fault_3']"
      ]
     },
     "execution_count": 14,
     "metadata": {},
     "output_type": "execute_result"
    }
   ],
   "source": [
    "#faults\n",
    "faults_vect"
   ]
  },
  {
   "cell_type": "markdown",
   "metadata": {},
   "source": [
    "## import DXF data to grass vector (lines)"
   ]
  },
  {
   "cell_type": "code",
   "execution_count": 15,
   "metadata": {
    "scrolled": true
   },
   "outputs": [
    {
     "name": "stdout",
     "output_type": "stream",
     "text": [
      "/home/kaelin_joseph/projects/RogunHPP/data/in/fault_3.dxf\n",
      "   0WARNING: Vector map <fault_3> already exists and will be overwritten\n",
      "   0   0   0   0   0   0   0   0   0   0   0   0   0   0   0   0   0   0   0   0   0   0   0   0   0   0   0   0   0   0   0   0   0   0   0   0   0   0   0   0   0   0   0   0   0   0   0   0   0   0   0   0   0   0   0   0   0   0   0   0   0   0   0   0   0   0   0   0   0   0   0   0   0   0   0   0   0  11  22  33  44  55  66  77  88  99 100\n",
      "Following DXF layers found:\n",
      "Layer 1: 0\n",
      "Building topology for vector map <fault_3@PERMANENT>...\n",
      "Registering primitives...\n",
      "98 primitives registered\n",
      "222 vertices registered\n",
      "Building areas...\n",
      "   0   2   4   6   8  10  12  14  16  18  20  22  24  26  28  30  32  34  36  38  40  42  44  46  48  50  52  54  56  58  60  62  64  66  68  70  72  74  76  78  80  82  84  86  88  90  92  94  96  98 100\n",
      "0 areas built\n",
      "0 isles built\n",
      "Attaching islands...\n",
      "Attaching centroids...\n",
      "   1   3   5   7   9  11  13  15  17  19  21  23  25  27  29  31  33  35  37  39  41  43  45  47  50  52  54  56  58  60  62  64  66  68  70  72  74  76  78  80  82  84  86  88  90  92  94  96  98 100\n",
      "Number of nodes: 50\n",
      "Number of primitives: 98\n",
      "Number of points: 0\n",
      "Number of lines: 98\n",
      "Number of boundaries: 0\n",
      "Number of centroids: 0\n",
      "Number of areas: 0\n",
      "Number of isles: 0\n",
      "v.in.dxf complete.\n",
      "\n"
     ]
    }
   ],
   "source": [
    "# read dxf data for geological layer contact faults\n",
    "\n",
    "# 'faults' is a list containing geological faults\n",
    "# 'faults_vect' is a list containing names of grass vector data\n",
    "for fault, output in zip(faults, faults_vect):\n",
    "    print(fault)\n",
    "    out = read2_command(\"v.in.dxf\", input=fault, output=output, flags='e')\n",
    "    print(out[1].decode())    \n",
    "    \n",
    "# pattern for printing grass output nicely\n",
    "#   decode must be applied to each member of tuple\n",
    "#   [0] -> stdout\n",
    "#   [1] -> stderr\n",
    "#   above are according to doc, however it seems that [1] is where all output is"
   ]
  },
  {
   "cell_type": "code",
   "execution_count": 16,
   "metadata": {},
   "outputs": [
    {
     "data": {
      "text/plain": [
       "Module('g.region')"
      ]
     },
     "execution_count": 16,
     "metadata": {},
     "output_type": "execute_result"
    }
   ],
   "source": [
    "# set grass region to area of surface of interest\n",
    "# conisder choosing region to minimize edge artifacts (e.g. ill-formed top edge) of a plotly mesh surface\n",
    "\n",
    "# # set grass region from vector data bounds\n",
    "# #   set region using 'surfaces_vect[0]'\n",
    "# read2_command('g.region', vector=surfaces_vect[0])\n",
    "\n",
    "#n,s,e,w = 24797, 20796, 28600, 25597  #bounds of topog\n",
    "\n",
    "# determine bounds by inspection of plot result\n",
    "#n,s,e,w = 23500, 20796, 28600, 27400\n",
    "#n,s,e,w = 23500, 22743, 27800, 27400\n",
    "n,s,e,w = 23500, 22743, 27900, 27400  #extend to include all boreholes from DG's\n",
    "g.region(n=n,s=s,e=e,w=w, t=1500, b=150, res=10)     #res=5"
   ]
  },
  {
   "cell_type": "code",
   "execution_count": 17,
   "metadata": {},
   "outputs": [
    {
     "name": "stdout",
     "output_type": "stream",
     "text": [
      "projection: 99 (Mercator)\n",
      "zone:       0\n",
      "datum:      wgs84\n",
      "ellipsoid:  wgs84\n",
      "north:      23500\n",
      "south:      22743\n",
      "west:       27400\n",
      "east:       27900\n",
      "top:        1500.00000000\n",
      "bottom:     150.00000000\n",
      "nsres:      9.96052632\n",
      "nsres3:     1.00397878\n",
      "ewres:      10\n",
      "ewres3:     1\n",
      "tbres:      1.04247104247104\n",
      "rows:       76\n",
      "rows3:      754\n",
      "cols:       50\n",
      "cols3:      500\n",
      "depths:     1295\n",
      "cells:      3800\n",
      "cells3:     488215000\n",
      "\n"
     ]
    }
   ],
   "source": [
    "# check grass region\n",
    "print(g.region(flags='p3',stdout_=PIPE).outputs.stdout.decode())"
   ]
  },
  {
   "cell_type": "code",
   "execution_count": 18,
   "metadata": {
    "scrolled": true
   },
   "outputs": [
    {
     "ename": "NameError",
     "evalue": "name 'surfaces_vect' is not defined",
     "output_type": "error",
     "traceback": [
      "\u001b[0;31m\u001b[0m",
      "\u001b[0;31mNameError\u001b[0mTraceback (most recent call last)",
      "\u001b[0;32m<ipython-input-18-a8faa821bb8f>\u001b[0m in \u001b[0;36m<module>\u001b[0;34m()\u001b[0m\n\u001b[1;32m     27\u001b[0m \u001b[0;31m#     print(read2_command(\"v.db.connect\", map=surface_vect, flags='c', verbose=True)[0].decode())\u001b[0m\u001b[0;34m\u001b[0m\u001b[0;34m\u001b[0m\u001b[0m\n\u001b[1;32m     28\u001b[0m \u001b[0;34m\u001b[0m\u001b[0m\n\u001b[0;32m---> 29\u001b[0;31m \u001b[0;32mfor\u001b[0m \u001b[0msurface\u001b[0m \u001b[0;32min\u001b[0m \u001b[0msurfaces_vect\u001b[0m\u001b[0;34m:\u001b[0m\u001b[0;34m\u001b[0m\u001b[0m\n\u001b[0m\u001b[1;32m     30\u001b[0m     \u001b[0mreport_vect\u001b[0m\u001b[0;34m(\u001b[0m\u001b[0msurface\u001b[0m\u001b[0;34m)\u001b[0m\u001b[0;34m\u001b[0m\u001b[0m\n",
      "\u001b[0;31mNameError\u001b[0m: name 'surfaces_vect' is not defined"
     ]
    }
   ],
   "source": [
    "def report_vect(surface_vect):\n",
    "# report of vector data imported from dxf\n",
    "#  comment out individual reporting as desired\n",
    "\n",
    "    # report imported DXF layers\n",
    "    print(surface_vect)\n",
    "    print(read2_command(\"v.info\", map=surface_vect, layer='-1', verbose=True)[0].decode()) \n",
    "\n",
    "#     # report entities in imported DXF layers\n",
    "#     #   adjust range as desired\n",
    "#     out = read2_command(\"v.db.select\", map=surface_vect)[0].splitlines()\n",
    "#     for line in range(0,4):\n",
    "#         print(out[line])\n",
    "\n",
    "#     # report categories in imported DXF layers\n",
    "#     print('\\n')\n",
    "#     print(read2_command(\"v.category\", input=surface_vect, layer='-1', option='report', verbose=True)[0].decode()) \n",
    "\n",
    "#     # report coordinatesin imported DXF layers\n",
    "#     #   adjust range as desired\n",
    "#     out = read2_command(\"v.report\", map=surface_vect, layer='-1', option='coor', verbose=True)[0].splitlines()\n",
    "#     for line in range(0,1):\n",
    "#         print(out[line])\n",
    "\n",
    "#     # report on attributes stored in grass sqlite database\n",
    "#     print('\\n')\n",
    "#     print(read2_command(\"v.db.connect\", map=surface_vect, flags='c', verbose=True)[0].decode()) \n",
    "    \n",
    "for fault in fualts_vect:\n",
    "    report_vect(fault)"
   ]
  },
  {
   "cell_type": "code",
   "execution_count": null,
   "metadata": {},
   "outputs": [],
   "source": [
    "# view and check imported topography\n",
    "#   view selected faults n 'faults_vect[n]'\n",
    "!rm map.png                                                                                #ToDo JK: pythonize\n",
    "read2_command(\"d.vect\", map=faults_vect[0], color='grey')\n",
    "#read2_command(\"d.vect\", map=faults_vect[1], color='purple')\n",
    "#read2_command(\"d.vect\", map=faults_vect[2], color='green')\n",
    "\n",
    "# display Drainage Gallery DG3 alignment\n",
    "read2_command('d.vect', map='alignment_dg3_cleaned', color='black', width=3)\n",
    "read2_command('d.vect', map='alignment_dg2_cleaned', color='black', width=3)\n",
    "\n",
    "read2_command(\"d.grid\", size=100, fontsize=10)[0]\n",
    "\n",
    "Image(filename=\"map.png\")"
   ]
  },
  {
   "cell_type": "markdown",
   "metadata": {
    "collapsed": true
   },
   "source": [
    "## extract points (unordered) from imported DXF vector data"
   ]
  },
  {
   "cell_type": "code",
   "execution_count": null,
   "metadata": {
    "scrolled": true
   },
   "outputs": [],
   "source": [
    "# extract points from vector data from dxf to grass points vector data\n",
    "# all points in vector data ouput, points are not restricted by map region\n",
    "\n",
    "# 'surfaces_vect' is a list containing names of grass vector data\n",
    "# 'surfaces_points' is a list containing grass points vector data\n",
    "for surface, surface_points in zip(surfaces_vect, surfaces_points):\n",
    "    out = read2_command(\"v.to.points\", input=surface, output=surface_points)     \n",
    "    print(out[1].decode())"
   ]
  },
  {
   "cell_type": "code",
   "execution_count": null,
   "metadata": {},
   "outputs": [],
   "source": [
    "# view and check points topography\n",
    "#   view selected surface n 'surfaces_vect[n]'\n",
    "!rm map.png\n",
    "read2_command(\"d.vect\", map=surfaces_points[0], color='grey')\n",
    "read2_command(\"d.vect\", map=surfaces_points[1], color='purple')\n",
    "read2_command(\"d.vect\", map=surfaces_points[2], color='green')\n",
    "\n",
    "# display Drainage Gallery DG3 alignment\n",
    "read2_command('d.vect', map='alignment_dg3_cleaned', color='black', width=3)\n",
    "\n",
    "read2_command(\"d.grid\", size=100, fontsize=10)[0]\n",
    "\n",
    "Image(filename=\"map.png\")"
   ]
  },
  {
   "cell_type": "markdown",
   "metadata": {
    "collapsed": true
   },
   "source": [
    "## write points to CSV data file"
   ]
  },
  {
   "cell_type": "code",
   "execution_count": null,
   "metadata": {},
   "outputs": [],
   "source": [
    "# extract points from grass points vector data to csv data file\n",
    "# only points in currently defined map 3d region are output\n",
    "#   check that top and bottom elevations are set appropriately\n",
    "\n",
    "# 'surfaces_points' is a list containing grass points vector data    \n",
    "# 'surfaces_points_csv' is a list containing csv data file names for surface nodes\n",
    "for surface_points, surface_points_csv in zip(surfaces_points, surfaces_points_csv):\n",
    "    out = read2_command(\"v.out.ascii\", input=surface_points, type='point', separator=',',\n",
    "                        layer=-1, output=surface_points_csv, flags='r') \n",
    "    print(out[1].decode())\n",
    "\n",
    "#!v.out.ascii  --help"
   ]
  },
  {
   "cell_type": "code",
   "execution_count": null,
   "metadata": {},
   "outputs": [],
   "source": [
    "surfaces_points_csv"
   ]
  },
  {
   "cell_type": "code",
   "execution_count": null,
   "metadata": {},
   "outputs": [],
   "source": [
    "# examine output points in csv files\n",
    "!wc '/home/kaelin_joseph/projects/RogunHPP/data/out/layer_5a.csv'\n",
    "!wc '/home/kaelin_joseph/projects/RogunHPP/data/out/layer_3a.csv'\n",
    "!wc '/home/kaelin_joseph/projects/RogunHPP/data/out/layer_1.csv'"
   ]
  },
  {
   "cell_type": "code",
   "execution_count": null,
   "metadata": {},
   "outputs": [],
   "source": [
    "#!head -5 '/home/kaelin_joseph/projects/RogunHPP/data/out/layer_5a.csv'\n",
    "\n",
    "from __future__ import print_function\n",
    "file = surfaces_points_csv[0]\n",
    "with open(file, 'r') as f:\n",
    "#   for line in f:\n",
    "    for n in range(500):\n",
    "        line = f.readline()\n",
    "        print(line, end='')"
   ]
  },
  {
   "cell_type": "markdown",
   "metadata": {
    "collapsed": true
   },
   "source": [
    "## rasterize vector surfaces"
   ]
  },
  {
   "cell_type": "code",
   "execution_count": null,
   "metadata": {
    "collapsed": true
   },
   "outputs": [],
   "source": [
    "# define functions used for rastering\n",
    "\n",
    "def read_grass(*args, **kwargs):                                                                      \n",
    "    \"\"\"execute a grass function with error output \"\"\"                                                       \n",
    "    kwargs['stdout'] = grass.PIPE                                                                           \n",
    "    kwargs['stderr'] = grass.PIPE                                                                           \n",
    "    ps = grass.start_command(*args, **kwargs)                                                               \n",
    "    # returns a tuple (stderr,stdout)                                                                       \n",
    "    return ps.communicate()    \n",
    "\n",
    "def rasterize_vect_using_points(surface_points, surface_rast, \n",
    "                                npoints=12, power=2, dbg=1):                                          \n",
    "    \"\"\"convert vector topograpy using extracted points to raster dem\"\"\"                                     \n",
    "    \n",
    "    # convert vect to raster DEM using v.surf.idw (inverse distance weighting interpolation) \n",
    "    out = read_grass(\"v.surf.idw\", input=surface_points, \n",
    "                     layer='-1', output=surface_rast, npoints=npoints, power=power)             \n",
    "    print(out[dbg].decode())                                                                                \n",
    "    print('rasterize_vect_using_points completed')     "
   ]
  },
  {
   "cell_type": "code",
   "execution_count": null,
   "metadata": {},
   "outputs": [],
   "source": [
    "#surfaces_points\n",
    "surfaces_rast"
   ]
  },
  {
   "cell_type": "code",
   "execution_count": null,
   "metadata": {},
   "outputs": [],
   "source": [
    "# rasterize surfaces from vector data containing extracted points from dxf data\n",
    "\n",
    "# 'surfaces_points' is a list containing grass points vector data    \n",
    "# 'surfaces_rast' is a list containing grass surfaces raster data\n",
    "for surface_points, surface_rast in zip(surfaces_points, surfaces_rast):\n",
    "    rasterize_vect_using_points(surface_points, surface_rast) "
   ]
  },
  {
   "cell_type": "code",
   "execution_count": null,
   "metadata": {
    "scrolled": true
   },
   "outputs": [],
   "source": [
    "# resample raster surface, applying mask to raster surface using corresponding vector data \n",
    "# 'surfaces_points' is a list containing grass points vector data    \n",
    "# 'surfaces_rast' is a list containing grass surfaces raster data\n",
    "# 'surfaces_rast_' is a list containing grass surfaces resampled raster data\n",
    "\n",
    "for surface_rast, surface_rast_, surface_points in zip(surfaces_rast, surfaces_rast_, surfaces_points):\n",
    "    \n",
    "    # define raster mask based on vector data bounds\n",
    "    # creates a convex hull around points (since no area data in vector data)\n",
    "    read_grass(\"r.mask\", vector = surface_points) \n",
    "    \n",
    "    out = read_grass(\"r.resamp.rst\", input = surface_rast,                                     \n",
    "                     elevation = surface_rast_, ew_res=10, ns_res=10) \n",
    "\n",
    "    print(out[1].decode())  \n",
    "    \n",
    "# remove raster mask used for surface raster resampling\n",
    "!r.mask -r"
   ]
  },
  {
   "cell_type": "code",
   "execution_count": null,
   "metadata": {},
   "outputs": [],
   "source": [
    "# report grass surfaces raster data\n",
    "print(read_grass(\"r.info\", map='surface_rast_5a')[0].decode())\n",
    "#print(read_grass(\"r.report\", map='surface_rast_5a', units='h,p', nsteps=10)[0].decode()) \n",
    "\n",
    "# report grass surfaces resampledraster data\n",
    "print(read_grass(\"r.univar\", map='surface_rast__5a')[0].decode()) "
   ]
  },
  {
   "cell_type": "code",
   "execution_count": null,
   "metadata": {},
   "outputs": [],
   "source": [
    "# report grass surfaces raster data\n",
    "print(read_grass(\"r.info\", map='surface_rast_3a')[0].decode())\n",
    "#print(read_grass(\"r.report\", map='surface_rast_3a', units='h,p', nsteps=10)[0].decode()) \n",
    "\n",
    "# report grass surfaces resampledraster data\n",
    "print(read_grass(\"r.univar\", map='surface_rast__3a')[0].decode()) "
   ]
  },
  {
   "cell_type": "code",
   "execution_count": null,
   "metadata": {},
   "outputs": [],
   "source": [
    "# report grass surfaces raster data\n",
    "print(read_grass(\"r.info\", map='surface_rast_1')[0].decode())\n",
    "#print(read_grass(\"r.report\", map='surface_rast_1', units='h,p', nsteps=10)[0].decode()) \n",
    "\n",
    "# report grass surfaces resampledraster data\n",
    "print(read_grass(\"r.univar\", map='surface_rast__1')[0].decode()) "
   ]
  },
  {
   "cell_type": "code",
   "execution_count": null,
   "metadata": {},
   "outputs": [],
   "source": [
    "# display topography raster DEM\n",
    "!rm map.png                                                                                 #ToDo JK: pythonize\n",
    "read_grass(\"d.mon\", select='cairo', flags='r')  #release current display monitor\n",
    "read_grass(\"d.mon\", start='cairo', resolution=5, width=1080, height=720, overwrite=True)\n",
    "\n",
    "# for troubleshooting\n",
    "#https://grass.osgeo.org/grass77/manuals/d.rast.num.html\n",
    "#!d.rast.num surface_rast_5a --verbose -a  #values look ok, except raster area outside of surface is not null\n",
    "!d.rast.num surface_rast__5a --verbose -a  #values look ok and raster area outside of surface is null\n",
    "#!d.rast.leg surfaces_rast --verbose\n",
    "\n",
    "Image(filename=\"map.png\")"
   ]
  },
  {
   "cell_type": "code",
   "execution_count": null,
   "metadata": {},
   "outputs": [],
   "source": [
    "# display topography raster DEM\n",
    "!rm map.png                                                                                 #ToDo JK: pythonize\n",
    "read_grass(\"d.mon\", select='cairo', flags='r')  #release current display monitor\n",
    "read_grass(\"d.mon\", start='cairo', resolution=5, width=1080, height=720, overwrite=True)\n",
    "\n",
    "#read_grass(\"d.rast\", map=surfaces_rast_[0], bgcolor='white', flags='n')\n",
    "read_grass(\"d.rast\", map=surfaces_rast[0], bgcolor='white', flags='n')\n",
    "\n",
    "\n",
    "read2_command(\"d.vect\", map=surfaces_vect[0], color='black')\n",
    "\n",
    "# display Drainage Gallery DG3 alignment\n",
    "read2_command('d.vect', map='alignment_dg3_cleaned', color='black', width=7)\n",
    "\n",
    "#show legend and grid, display result\n",
    "read_grass(\"d.legend\", raster=surfaces_rast_[0], fontsize='72')[1]\n",
    "read_grass(\"d.grid\", size=100, fontsize=60)[0]\n",
    "Image(filename=\"map.png\")"
   ]
  },
  {
   "cell_type": "code",
   "execution_count": null,
   "metadata": {},
   "outputs": [],
   "source": [
    "surfaces_rast_"
   ]
  },
  {
   "cell_type": "code",
   "execution_count": null,
   "metadata": {},
   "outputs": [],
   "source": [
    "# display topography raster DEM\n",
    "!rm map.png\n",
    "\n",
    "read_grass(\"d.rast\", map=surfaces_rast_[0], bgcolor='white', flags='n')\n",
    "#read_grass(\"d.rast\", map=surfaces_rast[0], bgcolor='white', flags='n')\n",
    "\n",
    "\n",
    "read2_command(\"d.vect\", map=surfaces_vect[0], color='black')\n",
    "\n",
    "# display Drainage Gallery DG3 alignment\n",
    "read2_command('d.vect', map='alignment_dg3_cleaned', color='black', width=7)\n",
    "\n",
    "#show legend and grid, display result\n",
    "read_grass(\"d.legend\", raster=surfaces_rast_[0], fontsize='72')[1]\n",
    "read_grass(\"d.grid\", size=100, fontsize=60)[0]\n",
    "Image(filename=\"map.png\")"
   ]
  },
  {
   "cell_type": "code",
   "execution_count": null,
   "metadata": {},
   "outputs": [],
   "source": [
    "# display topography raster DEM\n",
    "!rm map.png\n",
    "\n",
    "read_grass(\"d.rast\", map=surfaces_rast_[1], bgcolor='white', flags='n')\n",
    "\n",
    "read2_command(\"d.vect\", map=surfaces_vect[1], color='black')\n",
    "\n",
    "# display Drainage Gallery DG3 alignment\n",
    "read2_command('d.vect', map='alignment_dg3_cleaned', color='black', width=7)\n",
    "\n",
    "#show legend and grid, display result\n",
    "read_grass(\"d.legend\", raster=surfaces_rast[1], fontsize='72')[1]\n",
    "read_grass(\"d.grid\", size=100, fontsize=60)[0]\n",
    "Image(filename=\"map.png\")"
   ]
  },
  {
   "cell_type": "code",
   "execution_count": null,
   "metadata": {
    "collapsed": true
   },
   "outputs": [],
   "source": [
    "# display topography raster DEM\n",
    "!rm map.png\n",
    "\n",
    "read_grass(\"d.rast\", map=surfaces_rast_[2], bgcolor='white', flags='n')\n",
    "\n",
    "read2_command(\"d.vect\", map=surfaces_vect[2], color='black')\n",
    "\n",
    "# display Drainage Gallery DG3 alignment\n",
    "read2_command('d.vect', map='alignment_dg3_cleaned', color='black', width=7)\n",
    "\n",
    "#show legend and grid, display result\n",
    "read_grass(\"d.legend\", raster=surfaces_rast[2], fontsize='72')[1]\n",
    "read_grass(\"d.grid\", size=100, fontsize=60)[0]\n",
    "Image(filename=\"map.png\")"
   ]
  },
  {
   "cell_type": "code",
   "execution_count": null,
   "metadata": {
    "collapsed": true
   },
   "outputs": [],
   "source": [
    "# for checking with qgis - write resa mp;ed raster data to tif file\n",
    "!r.out.gdal input=surface_rast_3 output=surface_rast_3.tif  #output file seems ok & mask is applied\n",
    "#!r.out.gdal input=surfaces_rast output=surfaces_rast.png format=PNG  #error with libpng"
   ]
  },
  {
   "cell_type": "code",
   "execution_count": null,
   "metadata": {
    "collapsed": true
   },
   "outputs": [],
   "source": [
    "!file surface_rast_3.tif"
   ]
  },
  {
   "cell_type": "markdown",
   "metadata": {
    "collapsed": true
   },
   "source": [
    "## determine raster below an x,y,z point (initial developent and testing only)"
   ]
  },
  {
   "cell_type": "code",
   "execution_count": null,
   "metadata": {
    "collapsed": true
   },
   "outputs": [],
   "source": [
    "def parse_grass_out(out):\n",
    "# converts grass output string from grass \"r.what\" to a numpy array of float values\n",
    "    out2 = out.replace('\\n','')\n",
    "    print(out2)\n",
    "    out3 = np.array(out2.split(','))\n",
    "    print(out3)\n",
    "    out4 = np.delete(out3,2)\n",
    "    print(out4)    \n",
    "    # return float values of string values\n",
    "    return(out4.astype(np.float))\n",
    "    "
   ]
  },
  {
   "cell_type": "code",
   "execution_count": null,
   "metadata": {
    "collapsed": true
   },
   "outputs": [],
   "source": [
    "# coordinates of a test point\n",
    "\n",
    "#xx = 27600\n",
    "#yy= 23400\n",
    "#zz = 1025\n",
    "\n",
    "# xx = 27700\n",
    "# yy= 23340\n",
    "# zz = 1025\n",
    "\n",
    "# near start (eastern end) of alignment DG3\n",
    "xx = 27750\n",
    "yy= 23250\n",
    "zz = 1025"
   ]
  },
  {
   "cell_type": "code",
   "execution_count": null,
   "metadata": {
    "collapsed": true
   },
   "outputs": [],
   "source": [
    "lithologies"
   ]
  },
  {
   "cell_type": "code",
   "execution_count": null,
   "metadata": {
    "collapsed": true
   },
   "outputs": [],
   "source": [
    "def what_lithology(x, y, z):\n",
    "    '''Find lithology at a point\n",
    "    \n",
    "    Surfaces and litholgies must be previously defined and ordered from top to bottom.\n",
    "    Surfaces are the contact surface between two geological layers\n",
    "    Litholgies correspond to downside layer litholgy of a surface.\n",
    "\n",
    "    Args:\n",
    "        x,y,z - coordinates of a point\n",
    "        \n",
    "    Requires:\n",
    "        lithologies - list of lithologies\n",
    "        surfaces_rast_ - list of grass masked surface rasters\n",
    "\n",
    "    Returns:\n",
    "        lithology of nearest contact surface below point x,y,z\n",
    "        'NaN' if no contact surface is below point x,y,z\n",
    "\n",
    "    '''\n",
    "    \n",
    "    coords=(x,y)\n",
    "    z_out = []\n",
    "    lithology_z = 'NaN'\n",
    "    \n",
    "    # get z of each layer at point x,y \n",
    "    # parse grass output to return a numpy array of float values\n",
    "    for surface in surfaces_rast_:\n",
    "        z_out.append(parse_grass_out(\n",
    "                       read_grass(\"r.what\", map=surface, separator=',', null_value='NaN', \n",
    "                                  coordinates=coords)[0]))\n",
    "                       # consider calling multiple maps and/or multiple points (see r.what doc)\n",
    "                       # to speed up execution                                                      #ToDo JK\n",
    "\n",
    "    ## sort layers by z (bottom to top sorting)\n",
    "    #z_out_ = np.sort(z_out, axis=0)  #this works, but only because x an y in each record or the same\n",
    "    #                                 #look for a more universal sorting method                      #ToDo JK\n",
    "    z_out_ = np.array(z_out)\n",
    "    print(z_out_, '\\n')\n",
    "\n",
    "    # locate lithology for a point x,y,z considering all geological layers  \n",
    "    for surface, lithology in zip(z_out_, lithologies):\n",
    "        # loop through layers from bottom to top\n",
    "        # requires 'layer' and 'layer_lithology' both sorted from bottom to top\n",
    "        print('\\n', surface)\n",
    "        print(surface[2])\n",
    "        print(lithology)\n",
    "        if np.isnan(surface[2]):\n",
    "            print(\"nan !!!\")\n",
    "            # layer does not extend to point\n",
    "            # skip to next layer\n",
    "            continue\n",
    "        elif surface[2] > zz:\n",
    "            # layer is below elevation z of point and is a candidate layer for point\n",
    "            lithology_z = lithology\n",
    "        else:\n",
    "            # surface is at or below elevation z of point and is not a candidate surface for point\n",
    "            # therefore point lies in previously set 'lithology_z = layer_lithology'\n",
    "            # break out of 'for loop'\n",
    "            print(\"break !!!\")\n",
    "            break\n",
    "        \n",
    "    return(lithology_z) "
   ]
  },
  {
   "cell_type": "code",
   "execution_count": null,
   "metadata": {
    "collapsed": true
   },
   "outputs": [],
   "source": [
    "lithology_z = what_lithology(xx, yy, zz)\n",
    "print('\\n', 'litholgy: ', lithology_z)    "
   ]
  },
  {
   "cell_type": "code",
   "execution_count": null,
   "metadata": {
    "collapsed": true
   },
   "outputs": [],
   "source": [
    "# # testing excution speed  \n",
    "# #   74 sec for 1000 points and for 2 layers\n",
    "# #   99% for grass r.what\n",
    "# zzz = np.linspace(1080, 1200, num=1000)\n",
    "# lithology_z = []\n",
    "# for zz in zzz:\n",
    "#     lithology_z.append(what_lithology(xx, yy, zz))\n",
    "\n",
    "# lithology_z    "
   ]
  },
  {
   "cell_type": "code",
   "execution_count": null,
   "metadata": {
    "collapsed": true
   },
   "outputs": [],
   "source": []
  }
 ],
 "metadata": {
  "kernelspec": {
   "display_name": "Python 3",
   "language": "python",
   "name": "python3"
  },
  "language_info": {
   "codemirror_mode": {
    "name": "ipython",
    "version": 2
   },
   "file_extension": ".py",
   "mimetype": "text/x-python",
   "name": "python",
   "nbconvert_exporter": "python",
   "pygments_lexer": "ipython2",
   "version": "2.7.12"
  }
 },
 "nbformat": 4,
 "nbformat_minor": 2
}
