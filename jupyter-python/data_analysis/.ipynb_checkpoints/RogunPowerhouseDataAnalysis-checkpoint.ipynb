{
 "cells": [
  {
   "cell_type": "code",
   "execution_count": 1,
   "metadata": {},
   "outputs": [],
   "source": [
    "#!sudo pip install --upgrade pixiedust"
   ]
  },
  {
   "cell_type": "code",
   "execution_count": 12,
   "metadata": {
    "scrolled": true
   },
   "outputs": [],
   "source": [
    "# set up python ecosystem\n",
    "import json\n",
    "from math import *\n",
    "import pandas as pd\n",
    "import numpy as np\n",
    "from IPython.core.display import HTML, display\n",
    "import matplotlib.mlab as mlab\n",
    "import matplotlib.pyplot as plt\n",
    "from matplotlib.lines import Line2D\n",
    "from scipy.stats import norm\n",
    "from scipy.stats import lognorm\n",
    "from scipy import stats\n",
    "\n",
    "import pixiedust\n",
    "from pixiedust.display import *"
   ]
  },
  {
   "cell_type": "code",
   "execution_count": 13,
   "metadata": {
    "collapsed": true
   },
   "outputs": [],
   "source": [
    "# set maximum number of rows to display from a pandas data frame\n",
    "pd.set_option('display.max_rows', 5000)"
   ]
  },
  {
   "cell_type": "code",
   "execution_count": 14,
   "metadata": {
    "collapsed": true
   },
   "outputs": [],
   "source": [
    "#datafile = 'data/Rogun/2018.05.20.Grouting_Data.csv'\n",
    "datafile = 'data/Rogun/2018.05.20.Grouting_Data_fixed.csv'"
   ]
  },
  {
   "cell_type": "code",
   "execution_count": 15,
   "metadata": {},
   "outputs": [
    {
     "name": "stdout",
     "output_type": "stream",
     "text": [
      "Nr          2821\n",
      "Record      2821\n",
      "Opening     2821\n",
      "Location    2821\n",
      "Type        2821\n",
      "Hole        2821\n",
      "Chainage    2821\n",
      "Diameter     345\n",
      "Date        2819\n",
      "Stage       2821\n",
      "Depth       2821\n",
      "Grout       2743\n",
      "Cement      2743\n",
      "dtype: int64\n",
      "Nr          2819\n",
      "Record      2819\n",
      "Opening     2819\n",
      "Location    2819\n",
      "Type        2819\n",
      "Hole        2819\n",
      "Chainage    2819\n",
      "Diameter     345\n",
      "Date        2819\n",
      "Stage       2819\n",
      "Depth       2819\n",
      "Grout       2742\n",
      "Cement      2742\n",
      "dtype: int64\n"
     ]
    }
   ],
   "source": [
    "#df = pd.read_csv(datafile, names=names)\n",
    "#data_df = pd.read_csv(datafile, parse_dates=True, dayfirst=True)\n",
    "data_df = pd.read_csv(datafile, dayfirst=True)\n",
    "print(data_df.count())\n",
    "data_df = data_df.dropna(subset=['Date'])     #drop all rows that have any NaN values\n",
    "print(data_df.count())\n",
    "data_df['Date'] = pd.to_datetime(data_df['Date'], format='%d/%m/%Y', errors='coerce')"
   ]
  },
  {
   "cell_type": "code",
   "execution_count": 16,
   "metadata": {
    "scrolled": true
   },
   "outputs": [
    {
     "data": {
      "text/html": [
       "<div>\n",
       "<style scoped>\n",
       "    .dataframe tbody tr th:only-of-type {\n",
       "        vertical-align: middle;\n",
       "    }\n",
       "\n",
       "    .dataframe tbody tr th {\n",
       "        vertical-align: top;\n",
       "    }\n",
       "\n",
       "    .dataframe thead th {\n",
       "        text-align: right;\n",
       "    }\n",
       "</style>\n",
       "<table border=\"1\" class=\"dataframe\">\n",
       "  <thead>\n",
       "    <tr style=\"text-align: right;\">\n",
       "      <th></th>\n",
       "      <th>Nr</th>\n",
       "      <th>Record</th>\n",
       "      <th>Opening</th>\n",
       "      <th>Location</th>\n",
       "      <th>Type</th>\n",
       "      <th>Hole</th>\n",
       "      <th>Chainage</th>\n",
       "      <th>Diameter</th>\n",
       "      <th>Date</th>\n",
       "      <th>Stage</th>\n",
       "      <th>Depth</th>\n",
       "      <th>Grout</th>\n",
       "      <th>Cement</th>\n",
       "    </tr>\n",
       "  </thead>\n",
       "  <tbody>\n",
       "    <tr>\n",
       "      <th>0</th>\n",
       "      <td>1</td>\n",
       "      <td>1</td>\n",
       "      <td>PH</td>\n",
       "      <td>DS</td>\n",
       "      <td>Tendon</td>\n",
       "      <td>TBF-1</td>\n",
       "      <td>00+02.00</td>\n",
       "      <td>110.0</td>\n",
       "      <td>2016-05-08</td>\n",
       "      <td>1</td>\n",
       "      <td>30</td>\n",
       "      <td>189.0</td>\n",
       "      <td>204.12</td>\n",
       "    </tr>\n",
       "    <tr>\n",
       "      <th>1</th>\n",
       "      <td>2</td>\n",
       "      <td>2</td>\n",
       "      <td>PH</td>\n",
       "      <td>DS</td>\n",
       "      <td>Tendon</td>\n",
       "      <td>TBK-2</td>\n",
       "      <td>00+02.92</td>\n",
       "      <td>110.0</td>\n",
       "      <td>2016-03-27</td>\n",
       "      <td>1</td>\n",
       "      <td>30</td>\n",
       "      <td>259.0</td>\n",
       "      <td>279.72</td>\n",
       "    </tr>\n",
       "    <tr>\n",
       "      <th>2</th>\n",
       "      <td>3</td>\n",
       "      <td>3</td>\n",
       "      <td>PH</td>\n",
       "      <td>DS</td>\n",
       "      <td>Tendon</td>\n",
       "      <td>TBI-2</td>\n",
       "      <td>00+04.39</td>\n",
       "      <td>110.0</td>\n",
       "      <td>2016-03-30</td>\n",
       "      <td>1</td>\n",
       "      <td>30</td>\n",
       "      <td>170.0</td>\n",
       "      <td>183.60</td>\n",
       "    </tr>\n",
       "    <tr>\n",
       "      <th>3</th>\n",
       "      <td>4</td>\n",
       "      <td>4</td>\n",
       "      <td>PH</td>\n",
       "      <td>DS</td>\n",
       "      <td>Tendon</td>\n",
       "      <td>TBM-2</td>\n",
       "      <td>00+04.50</td>\n",
       "      <td>110.0</td>\n",
       "      <td>2016-05-24</td>\n",
       "      <td>1</td>\n",
       "      <td>30</td>\n",
       "      <td>270.0</td>\n",
       "      <td>291.60</td>\n",
       "    </tr>\n",
       "    <tr>\n",
       "      <th>4</th>\n",
       "      <td>5</td>\n",
       "      <td>5</td>\n",
       "      <td>PH</td>\n",
       "      <td>DS</td>\n",
       "      <td>Tendon</td>\n",
       "      <td>TBE-2</td>\n",
       "      <td>00+04.50</td>\n",
       "      <td>110.0</td>\n",
       "      <td>2016-05-18</td>\n",
       "      <td>1</td>\n",
       "      <td>30</td>\n",
       "      <td>190.0</td>\n",
       "      <td>205.20</td>\n",
       "    </tr>\n",
       "  </tbody>\n",
       "</table>\n",
       "</div>"
      ],
      "text/plain": [
       "   Nr  Record Opening Location    Type   Hole  Chainage  Diameter       Date  \\\n",
       "0   1       1      PH       DS  Tendon  TBF-1  00+02.00     110.0 2016-05-08   \n",
       "1   2       2      PH       DS  Tendon  TBK-2  00+02.92     110.0 2016-03-27   \n",
       "2   3       3      PH       DS  Tendon  TBI-2  00+04.39     110.0 2016-03-30   \n",
       "3   4       4      PH       DS  Tendon  TBM-2  00+04.50     110.0 2016-05-24   \n",
       "4   5       5      PH       DS  Tendon  TBE-2  00+04.50     110.0 2016-05-18   \n",
       "\n",
       "   Stage  Depth  Grout  Cement  \n",
       "0      1     30  189.0  204.12  \n",
       "1      1     30  259.0  279.72  \n",
       "2      1     30  170.0  183.60  \n",
       "3      1     30  270.0  291.60  \n",
       "4      1     30  190.0  205.20  "
      ]
     },
     "execution_count": 16,
     "metadata": {},
     "output_type": "execute_result"
    }
   ],
   "source": [
    "#data_df\n",
    "data_df.head()"
   ]
  },
  {
   "cell_type": "code",
   "execution_count": 18,
   "metadata": {
    "collapsed": true
   },
   "outputs": [],
   "source": [
    "import sys\n",
    "reload(sys)\n",
    "sys.setdefaultencoding('utf8')"
   ]
  },
  {
   "cell_type": "code",
   "execution_count": 19,
   "metadata": {
    "pixiedust": {
     "displayParams": {
      "chartsize": "100",
      "charttype": "grouped",
      "clusterby": "Opening",
      "filter": "{}",
      "handlerId": "scatterPlot",
      "keyFields": "Depth",
      "mpld3": "false",
      "no_margin": "true",
      "orientation": "vertical",
      "rowCount": "3000",
      "stretch": "true",
      "title": "Rogun PH/THC grouting data",
      "valueFields": "Grout"
     }
    }
   },
   "outputs": [
    {
     "data": {
      "text/html": [
       "<style type=\"text/css\">.pd_warning{display:none;}</style><div class=\"pd_warning\"><em>Hey, there's something awesome here! To see it, open this notebook outside GitHub, in a viewer like Jupyter</em></div>\n",
       "        <div class=\"pd_save is-viewer-good\" style=\"padding-right:10px;text-align: center;line-height:initial !important;font-size: xx-large;font-weight: 500;color: coral;\">\n",
       "            Rogun PH/THC grouting data\n",
       "        </div>\n",
       "    <div id=\"chartFiguree0c1eda3\" class=\"pd_save is-viewer-good\" style=\"overflow-x:auto\">\n",
       "            \n",
       "                    \n",
       "                            <center><img style=\"max-width:initial !important\" src=\"data:image/png;base64,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\" class=\"pd_save\"></center>\n",
       "                        \n",
       "                    \n",
       "                \n",
       "        </div>"
      ],
      "text/plain": [
       "<IPython.core.display.HTML object>"
      ]
     },
     "metadata": {},
     "output_type": "display_data"
    }
   ],
   "source": [
    "display(data_df)  #pixiedustinspections = pixiedust.sampleData display"
   ]
  },
  {
   "cell_type": "code",
   "execution_count": null,
   "metadata": {
    "collapsed": true
   },
   "outputs": [],
   "source": []
  }
 ],
 "metadata": {
  "kernelspec": {
   "display_name": "Python 2",
   "language": "python",
   "name": "python2"
  },
  "language_info": {
   "codemirror_mode": {
    "name": "ipython",
    "version": 2
   },
   "file_extension": ".py",
   "mimetype": "text/x-python",
   "name": "python",
   "nbconvert_exporter": "python",
   "pygments_lexer": "ipython2",
   "version": "2.7.12"
  }
 },
 "nbformat": 4,
 "nbformat_minor": 2
}
