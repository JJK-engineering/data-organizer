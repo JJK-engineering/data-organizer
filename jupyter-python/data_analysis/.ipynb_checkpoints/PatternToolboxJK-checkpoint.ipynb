{
 "cells": [
  {
   "cell_type": "markdown",
   "metadata": {},
   "source": [
    "# useful python patterns"
   ]
  },
  {
   "cell_type": "markdown",
   "metadata": {},
   "source": [
    "Coding patterns that use and prove useful or that I encounter during reading or during lectures are compiled in this Notebook."
   ]
  },
  {
   "cell_type": "markdown",
   "metadata": {},
   "source": [
    "## setup"
   ]
  },
  {
   "cell_type": "code",
   "execution_count": 7,
   "metadata": {},
   "outputs": [],
   "source": [
    "import pandas as pd\n",
    "import numpy as np"
   ]
  },
  {
   "cell_type": "markdown",
   "metadata": {},
   "source": [
    "## general"
   ]
  },
  {
   "cell_type": "code",
   "execution_count": null,
   "metadata": {
    "collapsed": true
   },
   "outputs": [],
   "source": []
  },
  {
   "cell_type": "code",
   "execution_count": null,
   "metadata": {
    "collapsed": true
   },
   "outputs": [],
   "source": []
  },
  {
   "cell_type": "markdown",
   "metadata": {},
   "source": [
    "## pandas"
   ]
  },
  {
   "cell_type": "code",
   "execution_count": 57,
   "metadata": {
    "collapsed": true
   },
   "outputs": [],
   "source": [
    "# define a pandas dataframe using a pyton dictionary\n",
    "example_dict = { \n",
    "     'name' : [\"a\", \"b\", \"c\", \"d\", \"e\",\"f\", \"g\"],\n",
    "     'age' : [20,27, 35, 55, 18, 21, 35],\n",
    "     'designation': [\"VP\", \"CEO\", \"CFO\", \"VP\", \"VP\", \"CEO\", \"MD\"]\n",
    "}\n",
    "example_df = pd.DataFrame(example_dict)"
   ]
  },
  {
   "cell_type": "code",
   "execution_count": 58,
   "metadata": {},
   "outputs": [
    {
     "data": {
      "text/plain": [
       "1    b\n",
       "2    c\n",
       "5    f\n",
       "6    g\n",
       "Name: name, dtype: object"
      ]
     },
     "execution_count": 58,
     "metadata": {},
     "output_type": "execute_result"
    }
   ],
   "source": [
    "# selecting subsets of data in pandas\n",
    "# http://pandas.pydata.org/pandas-docs/stable/indexing.html\n",
    "# https://medium.com/dunder-data/selecting-subsets-of-data-in-pandas-6fcd0170be9c\n",
    "\n",
    "# select all rows of multiple columns\n",
    "example_df[[\"age\", \"name\"]]\n",
    "\n",
    "# select rows of column for a column meeting a condition\n",
    "#  example_df[(example_df[\"age\"] >= 21) & (example_df[\"age\"] < 50)][\"name\"]  #generally works\n",
    "#  explicit is better than implicit\n",
    "#  https://stackoverflow.com/questions/38886080/python-pandas-series-why-use-loc\n",
    "example_df.loc[(example_df[\"age\"] >= 21) & (example_df[\"age\"] < 50), \"name\"]\n",
    "\n",
    "\n",
    "\n",
    "\n"
   ]
  },
  {
   "cell_type": "markdown",
   "metadata": {},
   "source": [
    "## grass gis"
   ]
  },
  {
   "cell_type": "code",
   "execution_count": null,
   "metadata": {
    "collapsed": true
   },
   "outputs": [],
   "source": []
  },
  {
   "cell_type": "code",
   "execution_count": null,
   "metadata": {
    "collapsed": true
   },
   "outputs": [],
   "source": []
  }
 ],
 "metadata": {
  "kernelspec": {
   "display_name": "Python 3",
   "language": "python",
   "name": "python3"
  },
  "language_info": {
   "codemirror_mode": {
    "name": "ipython",
    "version": 2
   },
   "file_extension": ".py",
   "mimetype": "text/x-python",
   "name": "python",
   "nbconvert_exporter": "python",
   "pygments_lexer": "ipython2",
   "version": "2.7.12"
  }
 },
 "nbformat": 4,
 "nbformat_minor": 2
}
