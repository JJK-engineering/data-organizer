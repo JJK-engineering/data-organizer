{
 "cells": [
  {
   "cell_type": "markdown",
   "metadata": {},
   "source": [
    "# Rogun HPP - Setup Basemaps"
   ]
  },
  {
   "cell_type": "markdown",
   "metadata": {},
   "source": [
    "## description of procedure"
   ]
  },
  {
   "cell_type": "markdown",
   "metadata": {
    "collapsed": true
   },
   "source": [
    "This procedure prepares Project Basemaps from CAD topography and project layout data, and is intended to provide necessary input to the Hydropower Waterways Decision Support System (Waterways DSS), along with the Alignments module:\n",
    "- basemaps for feasibilty and siting analysis\n",
    "- platform for collecting and visualizing available site information, with same coordinate system, at same scale and at suitable resolution.\n",
    "\n",
    "The Setup Baseamp procedure reads in a DXF file from CAD, which must contain topography as either a TIN, contours or points.\n",
    "\n",
    "Expected outputs of Setup Basemaps procedure:\n",
    "* DEM raster suitable for waterways DSS alignment interrogation \n",
    "* terrain relief map \n",
    "* hillslope map\n",
    "* project layout map\n",
    "* hydrologic map with watersheds and watercourses\n",
    "* satellite DEM map for cross-checking project topography\n",
    "* reporting of topographic inputs, outputs, differences between topographic inputs and processing\n",
    "\n",
    "Required inputs for Setup Basemaps procedure:\n",
    "* CAD DWG with topography as  (contours, TIN or points) as ./data/in\n",
    "* CAD topography as DXF (contours, TIN or points) using e.g. Sketchup as ./data/in\n",
    "* project layout (PDF) in ./data/in/images\n",
    "* project name (which corresponds to project folder) as Jupyter input\n",
    "* project coordinate system (or assumption as e.g. pseudo Mercator) as Jupyter input\n",
    "* coordinate bounds (grass region), typically same as bound of suitably cropped project layout, as Jupyter input\n",
    "* layer(s) with topographic data -> by inspection of imported DXF, as Jupyter input\n",
    "* layer(s) with stream data (if applicable) -> by inspection of imported DXF, as Jupyter input\n",
    "* project layout (PNG) suitably cropped and rotated such that north is y-axis of layout, in ./data/in/images\n",
    "\n",
    "Using procedure in a Jupyter Notebook Basemap template:\n",
    "1. call grass setup from API\n",
    "2. define basic input data\n",
    "3. report basic input data\n",
    "4. add required input data from report (layers with topographic and stream data(if applicable))\n",
    "5. call Setup Basemaps procedure from API\n",
    "6. display Basemaps\n",
    "7. report on Basemaps\n",
    "8. export Basemaps as PNG (e.g. for Google Maps, plotly)\n",
    "\n",
    "Preparation of DXF from CAD DWG containing topogrpay\n",
    "1. check that topography has 'z' attributed to topographic entities\n",
    "2. identify layer(s) containing topography and streams (if available)\n",
    "3. export topography and stream layers as DXF\n",
    "\n",
    "Preparation of PNG from Project layout PDF\n",
    "1. Check project layout PDF for correctness and completeness\n",
    "2. Take screenshot (PNG) of project layout PDF (works best for me)\n",
    "3. Upload screenshot PNG to jk-2-gce-gis project data folder ./data/in/images\n",
    "4. View PNG with qgis (add raster layer) and determine required rotation (see rotation field at bottom)\n",
    "5. Use 'convert -rotate \"-nn.n\" screenshot.png screenshot_r.png’ to rotate image \n",
    "6. Download rotated PNG  \n",
    "7. Crop PNG image ‘by eye’ using image viewer and record coordinate bounds\n",
    "8. Upload cropped screenshot PNG to jk-2-gce-gis project data folder\n",
    "9. Run grass procedure ‘project layout map using recorded coordinate bounds\n",
    "10. Make fine adjustments of coordinate bounds using r.region \n",
    "\n",
    "Output grass raster layers:\n",
    "* 'project'/grassdata/Permeanent/cells/terrain_dem\n",
    "* 'project'/grassdata/Permeanent/cells/terrain_relief\n",
    "* 'project'/grassdata/Permeanent/cells/terrain_hillslope\n",
    "* 'project'/grassdata/Permeanent/cells/terrain_hydrology\n",
    "* 'project'/grassdata/Permeanent/cells/rpoject_layout\n",
    "\n",
    "Output grass raster tiff data files:\n",
    " * to be added\n",
    "\n",
    "Output grass image png data files:\n",
    "* 'project'/data/out/image/*.png\n"
   ]
  },
  {
   "cell_type": "markdown",
   "metadata": {},
   "source": [
    "## grass setup"
   ]
  },
  {
   "cell_type": "code",
   "execution_count": 1,
   "metadata": {
    "collapsed": true
   },
   "outputs": [],
   "source": [
    "# import Basemap API\n",
    "from basemap import *\n",
    "from basemap import Basemap"
   ]
  },
  {
   "cell_type": "markdown",
   "metadata": {},
   "source": [
    "## project setup"
   ]
  },
  {
   "cell_type": "code",
   "execution_count": 2,
   "metadata": {
    "collapsed": true
   },
   "outputs": [],
   "source": [
    "# define required user input data for project\n",
    "project = 'RogunHPP'\n",
    "crs = 'EPSG:3857'  #WGS84 Pseudo Mercator\n",
    "n,s,e,w = 24797, 20796, 28600, 25597  #bounds of topog\n",
    "#n,s,e,w = 25020, 20880, 28490, 26040  #project layout\n",
    "res = 2  #10  #sets raster resolution"
   ]
  },
  {
   "cell_type": "code",
   "execution_count": 3,
   "metadata": {},
   "outputs": [
    {
     "name": "stdout",
     "output_type": "stream",
     "text": [
      "project: RogunHPP\n",
      "\n",
      " \n",
      "basemapy.py - Basemap Module\n",
      "    prepares a set of raster basemaps for a project\n",
      "       basemaps are suitable for geospatial querying from alignments\n",
      "       basemaps are suitable for importing as layers into qgis\n",
      "\n",
      "Usage:\n",
      "    1. map = Basemap(project)                              instantiate a project basemap\n",
      "    2. map.inspect_dxf(project_dir, topogDXF)              examine DXF data containing topography\n",
      "    3. map.import_dxf(project_dir, topogDXF, layers_dxf)   import DXF data layer containing topography\n",
      "    4. map.rasterize_vect_lines                            rasterize vector data - sparse data, \n",
      "                                                                                   irregular bounds\n",
      "       OR map.rasterize_vect_faces                                               - dense date, regular bounds\n",
      "       OR map.rasterize_vect_using_points                                        - sparse data, regular bounds\n",
      "    5. map.hillslope()                                     create a hillslope raster map\n",
      "    6. map.relief_map()                                    create a shaded relief map\n",
      "    7. map.hydrology_map()                                 create a hydrologic map \n",
      "    8. map.layout_map(layoutPDF)                           import PNG image with project layout\n",
      "\n",
      "Optional function parameters: \n",
      "    all grass functions (except map)\n",
      "        dbg=0 in function parameters -> show error messages only\n",
      "        dbg=1 in function parameters -> show std output from grass routines (verbose)\n",
      "\n",
      "    def rasterize_vect_lines\n",
      "        ew_res=10, ns_res=10              -> change resolution as required\n",
      "    def rasterize_vect_faces\n",
      "        ew_res=10, ns_res=10, overlap=3   -> change resolution as required\n",
      "\n"
     ]
    }
   ],
   "source": [
    "# instantiate Basemap instance for project\n",
    "map = Basemap(project)\n",
    "\n",
    "\n",
    "# fix this documentation & state which method(s) it applies to !!!                                          !!!\n",
    "# all grass functions (except map) ???\n",
    "#        dbg=0 in function parameters -> show error messages only\n",
    "# and dbg=0 doesn't work for \"map.read_grass('d.vect', ...\"                                                 Fix\n",
    "\n",
    "# somewhere (probably best in description of procedure above) a list of all ouputs is required\n",
    "#   include e.g. topog_basin_vect"
   ]
  },
  {
   "cell_type": "code",
   "execution_count": 4,
   "metadata": {
    "collapsed": true
   },
   "outputs": [],
   "source": [
    "# define required input data files for project\n",
    "##topogDXF='data/in/Topography2m_R5_reduced_5m.dxfced_5m.dxf'  #'scalloped' appearance of topography\n",
    "#topogDXF = 'data/in/Topografy2m_R5full.dxf'  #good ad small and large scale\n",
    "topogDXF = 'data/in/Drone2018InclOld.topoTIN.dxf'  #good ad small and large scale\n",
    "\n",
    "layoutPDF = 'data/in/images/RogunHPP.Layout_c_r.png'\n",
    "geologyPDF = 'data/in/images/RogunHPP.GeologicalMap.png'"
   ]
  },
  {
   "cell_type": "code",
   "execution_count": 5,
   "metadata": {
    "collapsed": true
   },
   "outputs": [],
   "source": [
    "# define output data files for project\n",
    "# x,y,z csv data file from topographiuc raster DEM\n",
    "topogCSV = 'data/out/RasterDEM.csv'\n",
    "# csv data file with polylines (boundaries) from wattershed boundaries\n",
    "watershedsCSV = 'data/out/Watersheds.csv'\n",
    "watershedsDXF = 'data/out/Watersheds.dxf'"
   ]
  },
  {
   "cell_type": "code",
   "execution_count": 6,
   "metadata": {},
   "outputs": [
    {
     "name": "stdout",
     "output_type": "stream",
     "text": [
      "grass -c EPSG:3857 -e /home/kaelin_joseph/projects/RogunHPP//grassdata/RogunHPP\n",
      "The location RogunHPP already exists\n"
     ]
    }
   ],
   "source": [
    "# open mapset for project (create mapset if it doesn't exist)\n",
    "#  can be moved to API class constructor if parameters are passed to 'map' at instantiation            #JK ToDo\n",
    "mapset_loc, rcfile = map.grass_mapset(crs)"
   ]
  },
  {
   "cell_type": "code",
   "execution_count": 7,
   "metadata": {},
   "outputs": [
    {
     "data": {
      "text/plain": [
       "Module('g.region')"
      ]
     },
     "execution_count": 7,
     "metadata": {},
     "output_type": "execute_result"
    }
   ],
   "source": [
    "# set grass region for project\n",
    "#  can be moved to API class constructor if parameters are passed to 'map' at instantiation            #JK ToDo\n",
    "#    two methods are needed\n",
    "#    1) 'reset' bounds and res to project setting\n",
    "#    2) zoom to bounds and res in calling parameters\n",
    "g.region(n=n,s=s,e=e,w=w, res=res)"
   ]
  },
  {
   "cell_type": "code",
   "execution_count": 8,
   "metadata": {},
   "outputs": [
    {
     "name": "stdout",
     "output_type": "stream",
     "text": [
      "\n",
      "grass environment:\n",
      "{'MAPSET': 'PERMANENT', 'GISDBASE': '/home/kaelin_joseph/projects/RogunHPP//grassdata', 'LOCATION_NAME': 'RogunHPP'}\n",
      "\n",
      "coordinate system:\n",
      "('+proj=merc +lat_ts=0.0 +lon_0=0.0 +x_0=0.0 +y_0=0 +k=1.0 +no_defs +a=6378137 +rf=298.257223563 +towgs84=0.000,0.000,0.000 +to_meter=1\\n', '')\n",
      "\n",
      "grass mapset region:\n",
      "projection: 99 (Mercator)\n",
      "zone:       0\n",
      "datum:      wgs84\n",
      "ellipsoid:  wgs84\n",
      "north:      24797\n",
      "south:      20796\n",
      "west:       25597\n",
      "east:       28600\n",
      "nsres:      1.99950025\n",
      "ewres:      1.99933422\n",
      "rows:       2001\n",
      "cols:       1502\n",
      "cells:      3005502\n",
      "\n"
     ]
    }
   ],
   "source": [
    "# report grass setup\n",
    "print('\\n' 'grass environment:')\n",
    "print(grass.gisenv())\n",
    "\n",
    "# report grass coordinate system\n",
    "print('\\n' 'coordinate system:')\n",
    "print(map.read_grass('g.proj', flags = 'jf'))\n",
    "\n",
    "# report grass region\n",
    "print('\\n' 'grass mapset region:')\n",
    "print(g.region(flags='p',stdout_=PIPE).outputs.stdout.decode())"
   ]
  },
  {
   "cell_type": "markdown",
   "metadata": {
    "collapsed": true
   },
   "source": [
    "## read in DXF data file containing topogaphy"
   ]
  },
  {
   "cell_type": "code",
   "execution_count": 9,
   "metadata": {},
   "outputs": [
    {
     "name": "stdout",
     "output_type": "stream",
     "text": [
      "Layer 1: 0\n",
      "Layer 2: 3d flächen\n",
      "Layer 3: c-dgm\n",
      "Layer 4: c-dgm ränder\n",
      "\n"
     ]
    }
   ],
   "source": [
    "# inspect layers in DXF data file to be read in\n",
    "map.inspect_dxf(topogDXF)"
   ]
  },
  {
   "cell_type": "code",
   "execution_count": null,
   "metadata": {},
   "outputs": [],
   "source": [
    "# import topography data from DXF data file \n",
    "# define layers to be used to extract topography\n",
    "##layers_dxf = 'stl'\n",
    "layers_dxf = 'c-dgm, c-dgm ränder'\n",
    "map.import_dxf(topogDXF, layers_dxf, dbg=0)"
   ]
  },
  {
   "cell_type": "code",
   "execution_count": null,
   "metadata": {},
   "outputs": [],
   "source": [
    "# report of imported DXF\n",
    "#  comment out individual reporting as desired\n",
    "\n",
    "# report imported DXF layers\n",
    "print(map.read_grass(\"v.info\", map='topog_vect', layer=layers_dxf, verbose=True)[0].decode()) \n",
    "\n",
    "# report entities in imported DXF layers\n",
    "out = map.read_grass(\"v.db.select\", map='topog_vect')[0].splitlines()\n",
    "for line in range(0,5):\n",
    "    print(out[line])\n",
    "\n",
    "# report categories in imported DXF layers\n",
    "print('\\n')\n",
    "print(map.read_grass(\"v.category\", input='topog_vect', layer='-1', option='report', verbose=True)[0].decode()) \n",
    "\n",
    "# report coordinatesin imported DXF layers\n",
    "#   adjust range as desired\n",
    "out = map.read_grass(\"v.report\", map='topog_vect', layer='-1', option='coor', verbose=True)[0].splitlines()\n",
    "for line in range(0,1):\n",
    "    print(out[line])\n",
    "\n",
    "# report on attributes stored in grass sqlite database\n",
    "print('\\n')\n",
    "print(map.read_grass(\"v.db.connect\", map='topog_vect', flags='c', verbose=True)[0].decode()) "
   ]
  },
  {
   "cell_type": "code",
   "execution_count": null,
   "metadata": {},
   "outputs": [],
   "source": [
    "# display topography vector data\n",
    "output_image = 'data/out/images/topog_vect.png'\n",
    "os.environ['GRASS_RENDER_FILE'] = output_image\n",
    "map.read_grass(\"d.mon\", start='cairo', resolution=2, width=1080, height=720, overwrite=True)\n",
    "map.read_grass(\"d.vect\", map='topog_vect', color='green')\n",
    "# show grid and display result\n",
    "map.read_grass(\"d.grid\", size=2000, fontsize=20)[0]\n",
    "Image(filename = output_image)"
   ]
  },
  {
   "cell_type": "markdown",
   "metadata": {},
   "source": [
    "## convert vector data with DXF topography to raster DEM"
   ]
  },
  {
   "cell_type": "code",
   "execution_count": null,
   "metadata": {},
   "outputs": [],
   "source": [
    "# convert vector DXF data to raster DEM\n",
    "# testing\n",
    "#map.rasterize_vect_lines(dbg=1)          # ERROR\n",
    "#map.rasterize_vect_faces(dbg=1)          # NG - sparse data\n",
    "#map.rasterize_vect_using_points(npoints=12, power=2, dbg=1)    # OK\n",
    "map.rasterize_vect_using_points(npoints=12, power=2, dbg=1)"
   ]
  },
  {
   "cell_type": "code",
   "execution_count": null,
   "metadata": {},
   "outputs": [],
   "source": [
    "# report of vector lines\n",
    "#  comment out individual reporting as desired\n",
    "\n",
    "# report imported DXF layers\n",
    "print(map.read_grass(\"v.info\", map='topog_vect_points', layer=layers_dxf, verbose=True)[0].decode()) \n",
    "\n",
    "# # report entities in imported DXF layers\n",
    "# #   adjust range as desired\n",
    "# out = map.read_grass(\"v.db.select\", map='topog_vect_points')[0].splitlines()\n",
    "# for line in range(0,5):\n",
    "#     print(out[line])\n",
    "\n",
    "# report categories in imported DXF layers\n",
    "print('\\n')\n",
    "print(map.read_grass(\"v.category\", input='topog_vect_points', layer='-1', option='report', verbose=True)[0].decode()) \n",
    "\n",
    "# report coordinatesin imported DXF layers\n",
    "#   adjust range as desired\n",
    "out = map.read_grass(\"v.report\", map='topog_vect_points', layer='-1', option='coor', verbose=True)[0].splitlines()\n",
    "for line in range(0,1):\n",
    "    print(out[line])\n",
    "\n",
    "# report on attributes stored in grass sqlite database\n",
    "print('\\n')\n",
    "print(map.read_grass(\"v.db.connect\", map='topog_vect_points', flags='c', verbose=True)[0].decode()) "
   ]
  },
  {
   "cell_type": "code",
   "execution_count": null,
   "metadata": {},
   "outputs": [],
   "source": [
    "# report of raster DEM\n",
    "\n",
    "print(map.read_grass(\"r.info\", map='topog_rast_resamp')[0].decode()) \n",
    "\n",
    "print(map.read_grass(\"r.report\", map='topog_rast_resamp', units='h,p', nsteps=10)[0].decode()) \n",
    "\n",
    "print(map.read_grass(\"r.univar\", map='topog_rast_resamp')[0].decode()) \n"
   ]
  },
  {
   "cell_type": "code",
   "execution_count": null,
   "metadata": {},
   "outputs": [],
   "source": [
    "# display topography raster DEM\n",
    "map.read_grass(\"d.mon\", select='cairo', flags='r')  #release current display monitor\n",
    "output_image = 'data/out/images/topog_rast.png'\n",
    "os.environ['GRASS_RENDER_FILE'] = output_image\n",
    "map.read_grass(\"d.mon\", start='cairo', resolution=2, width=1080, height=720, overwrite=True)\n",
    "map.read_grass(\"d.rast\", map='topog_rast_resamp', bgcolor='white', flags='n')\n",
    "map.read_grass(\"d.legend\", raster='topog_rast_resamp', fontsize='24')[1]\n",
    "# show grid and display result\n",
    "map.read_grass(\"d.grid\", size=2000, fontsize=20)[0]\n",
    "Image(filename = output_image)"
   ]
  },
  {
   "cell_type": "code",
   "execution_count": null,
   "metadata": {},
   "outputs": [],
   "source": [
    "# write topography raster DEM to x,y,z csv data file\n",
    "# request from Pascal M. 2018.09.26\n",
    "\n",
    "# set grass region for csv output of DEM \n",
    "#Easting: From Riverbed (27100) to ca. 28000  #from Pascal M. 2018.09.27 email\n",
    "#Northing: From Dam foot (22400) to Watershed (23800?)  #from Pascal M. 2018.09.27 email\n",
    "#g.region(n,s,e,w)\n",
    "g.region(n=23800, s=22400, e=28000, w=27100, res=10)\n",
    "\n",
    "map.read_grass(\"r.out.xyz\", input='topog_rast_resamp', output=topogCSV, separator=\",\")\n",
    "\n",
    "# set grass region back to region specified for project\n",
    "#  will need rework when region definition moved to API class constructor                            #ToDo JK\n",
    "n,s,e,w = 24797, 20796, 28600, 25597  #bounds of topog\n",
    "g.region(n=n,s=s,e=e,w=w, res=res)"
   ]
  },
  {
   "cell_type": "code",
   "execution_count": null,
   "metadata": {
    "collapsed": true
   },
   "outputs": [],
   "source": [
    "# filter out bad data\n",
    "##!r.mapcalc \"topog_contours_rast_filtered_=if(topog_rast_resamp<900,null(),topog_rast_resamp)\"\n",
    "##!g.copy raster=topog_contours_rast_filtered_,topog_rast_resamp"
   ]
  },
  {
   "cell_type": "markdown",
   "metadata": {},
   "source": [
    "## hillslope map"
   ]
  },
  {
   "cell_type": "code",
   "execution_count": null,
   "metadata": {},
   "outputs": [],
   "source": [
    "# create a hillslope raster map from raster DEM\n",
    "map.hillslope()"
   ]
  },
  {
   "cell_type": "code",
   "execution_count": null,
   "metadata": {},
   "outputs": [],
   "source": [
    "# display hillslope map \n",
    "map.read_grass(\"d.mon\", select='cairo', flags='r')  #release current display monitor\n",
    "output_image = 'data/out/images/topog_slope.png'\n",
    "os.environ['GRASS_RENDER_FILE'] = output_image\n",
    "map.read_grass(\"d.mon\", start='cairo', resolution=2, width=1080, height=720, overwrite=True)\n",
    "map.read_grass(\"d.rast\", map='topog_slope', bgcolor='white', flags='n')\n",
    "map.read_grass(\"d.legend\", raster='topog_slope', range='0,50', fontsize='24')[1]\n",
    "# show grid and display result\n",
    "map.read_grass(\"d.grid\", size=2000, fontsize=20)[0]\n",
    "Image(filename = output_image)"
   ]
  },
  {
   "cell_type": "markdown",
   "metadata": {},
   "source": [
    "## shaded relief map"
   ]
  },
  {
   "cell_type": "code",
   "execution_count": null,
   "metadata": {},
   "outputs": [],
   "source": [
    "# create a shaded relief map from raster DEM\n",
    "map.relief_map()"
   ]
  },
  {
   "cell_type": "code",
   "execution_count": null,
   "metadata": {},
   "outputs": [],
   "source": [
    "# display shaded relief map \n",
    "map.read_grass(\"d.mon\", select='cairo', flags='r')  #release current display monitor\n",
    "output_image = 'data/out/images/topog_relief.png'\n",
    "os.environ['GRASS_RENDER_FILE'] = output_image\n",
    "map.read_grass(\"d.mon\", start='cairo', resolution=4, width=1080, height=720, overwrite=True)\n",
    "map.read_grass(\"d.rast\", map='topog_relief', bgcolor='white', flags='n')\n",
    "# show grid and display result\n",
    "#map.read_grass(\"d.grid\", size=2000, fontsize=20)[0]\n",
    "Image(filename = output_image)"
   ]
  },
  {
   "cell_type": "code",
   "execution_count": null,
   "metadata": {},
   "outputs": [],
   "source": [
    "# display shaded relief map \n",
    "map.read_grass(\"d.mon\", select='cairo', flags='r')  #release current display monitor\n",
    "output_image = 'data/out/images/topog_relief.png'\n",
    "os.environ['GRASS_RENDER_FILE'] = output_image\n",
    "map.read_grass(\"d.mon\", start='cairo', resolution=4, width=1080, height=720, overwrite=True)\n",
    "map.read_grass(\"d.rast\", map='topog_relief_color', bgcolor='white', flags='n')\n",
    "map.read_grass(\"d.legend\", raster='topog_rast_resamp', fontsize='48')[1]\n",
    "# show grid and display result\n",
    "map.read_grass(\"d.grid\", size=2000, fontsize=20)[0]\n",
    "Image(filename = output_image)"
   ]
  },
  {
   "cell_type": "markdown",
   "metadata": {},
   "source": [
    "## hydrologic map"
   ]
  },
  {
   "cell_type": "code",
   "execution_count": null,
   "metadata": {},
   "outputs": [],
   "source": [
    "# create a hydrologic map from raster DEM\n",
    "map.hydrology_map()"
   ]
  },
  {
   "cell_type": "code",
   "execution_count": null,
   "metadata": {},
   "outputs": [],
   "source": [
    "# report of watershed basins in hydrologic map \n",
    "#   topog_basin_vect\n",
    "\n",
    "# report layers\n",
    "print(map.read_grass(\"v.info\", map='topog_basin_vect', verbose=True)[0].decode()) \n",
    "\n",
    "# report entities \n",
    "out = map.read_grass(\"v.db.select\", map='topog_basin_vect')[0].splitlines()\n",
    "for line in range(0,5):\n",
    "    print(out[line])\n",
    "\n",
    "# report categories \n",
    "print('\\n')\n",
    "print(map.read_grass(\"v.category\", input='topog_basin_vect', layer='-1', option='report', verbose=True)[0].decode()) \n",
    "\n",
    "# report coordinatesin \n",
    "#   adjust range as desired\n",
    "out = map.read_grass(\"v.report\", map='topog_basin_vect', layer='-1', option='coor', verbose=True)[0].splitlines()\n",
    "for line in range(0,1):\n",
    "    print(out[line])\n",
    "\n",
    "# report on attributes stored in grass sqlite database\n",
    "print('\\n')\n",
    "print(map.read_grass(\"v.db.connect\", map='topog_basin_vect', flags='c', verbose=True)[0].decode()) "
   ]
  },
  {
   "cell_type": "code",
   "execution_count": null,
   "metadata": {},
   "outputs": [],
   "source": [
    "# extract boundaries from watershed vector data as polylines \n",
    "# https://grass.osgeo.org/grass77/manuals/v.extract.html\n",
    "#   if you want to extract boundaries (which are usually without category, \n",
    "#   as that information is normally held in the area's centroid) \n",
    "#   you must first use v.category to add them, or use layer=-1.\n",
    "n,s,e,w = 24797, 20796, 28600, 25597  #bounds of topog\n",
    "g.region(n=n,s=s,e=e,w=w, res=res)\n",
    "map.read_grass(\"v.extract\", input='topog_basin_vect', type='boundary', layer='-1',\n",
    "               overwrite=True, output='watershed_vect') "
   ]
  },
  {
   "cell_type": "code",
   "execution_count": null,
   "metadata": {
    "collapsed": true
   },
   "outputs": [],
   "source": [
    "# # cleaning of polyline - simplification (reduces vertices)\n",
    "# #   does not have visible effect\n",
    "# print(map.read_grass(\"v.generalize\", input='watershed_vect', \n",
    "#                     method='douglas_reduction', reduction=10.0, threshold=100.0, \n",
    "#                     output='watershed_vect_')[1].decode())\n",
    "\n",
    "# # cleaning of polyline - smoothing (interpolates new vertices along input polyline)\n",
    "# #   does not have visible effect\n",
    "# print(map.read_grass(\"v.generalize\", input='watershed_vect', layer='-1', type='boundary',\n",
    "#                     method='hermite', threshold=10, angle_thresh=20, verbose=True,\n",
    "#                     output='watershed_vect_')[1].decode())"
   ]
  },
  {
   "cell_type": "code",
   "execution_count": null,
   "metadata": {
    "scrolled": false
   },
   "outputs": [],
   "source": [
    "# cleaning of polyline - smoothing (interpolates new vertices along input polyline)\n",
    "#  works (visible smoothing)\n",
    "print(map.read_grass(\"v.clean\", input='watershed_vect', \n",
    "                    tool='prune,break,snap,rmdangle,rmdupl,rmbridge,chbridge,bpol', threshold=30, \n",
    "                    output='watershed_vect_')[1].decode()) "
   ]
  },
  {
   "cell_type": "code",
   "execution_count": null,
   "metadata": {
    "collapsed": true
   },
   "outputs": [],
   "source": [
    "# # report of watershed basins in hydrologic map \n",
    "# #   topog_basin_vect_\n",
    "\n",
    "# # report layers\n",
    "# print(map.read_grass(\"v.info\", map='watershed_vect_', verbose=True)[0].decode()) \n",
    "\n",
    "# # report entities \n",
    "# out = map.read_grass(\"v.db.select\", map='watershed_vect_')[0].splitlines()\n",
    "# for line in range(0,0):\n",
    "#     print(out[line])\n",
    "\n",
    "# # report categories \n",
    "# print('\\n')\n",
    "# print(map.read_grass(\"v.category\", input='watershed_vect_', layer='-1', option='report', verbose=True)[0].decode()) \n",
    "\n",
    "# # report coordinatesin \n",
    "# #   adjust range as desired\n",
    "# out = map.read_grass(\"v.report\", map='watershed_vect_', layer='-1', option='coor', verbose=True)[0].splitlines()\n",
    "# for line in range(0,1):\n",
    "#     print(out[line])\n",
    "\n",
    "# # report on attributes stored in grass sqlite database\n",
    "# print('\\n')\n",
    "# print(map.read_grass(\"v.db.connect\", map='watershed_vect_', flags='c', verbose=True)[0].decode())"
   ]
  },
  {
   "cell_type": "code",
   "execution_count": null,
   "metadata": {},
   "outputs": [],
   "source": [
    "# display watersheds \n",
    "map.read_grass(\"d.mon\", select='cairo', flags='r')  #release current display monitor\n",
    "output_image = 'data/out/images/topog_hydrology.png'\n",
    "os.environ['GRASS_RENDER_FILE'] = output_image\n",
    "map.read_grass(\"d.mon\", start='cairo', resolution=2, width=1080, height=720, overwrite=True)\n",
    "# # display watershed basin boundaries\n",
    "# map.read_grass('d.vect', map=\"topog_basin_vect\", type=\"boundary\",  width=1)\n",
    "\n",
    "map.read_grass('d.vect', map=\"watershed_vect_\", width=1, color='red',)\n",
    "map.read_grass('d.vect', map=\"watershed_vect\", width=1)\n",
    "\n",
    "# show grid and display result\n",
    "map.read_grass(\"d.grid\", size=2000, fontsize=20)[0]\n",
    "Image(filename = output_image)"
   ]
  },
  {
   "cell_type": "code",
   "execution_count": null,
   "metadata": {},
   "outputs": [],
   "source": [
    "# write watershed boundaries as polylines (boundaries) to data file\n",
    "#   topog_basin_vect\n",
    "# request from Pascal M. 2018.09.26\n",
    "\n",
    "# # set grass region for csv output of DEM \n",
    "# Easting: From Riverbed (27100) to ca. 28000  #from Pascal M. 2018.09.27 email\n",
    "# Northing: From Dam foot (22400) to Watershed (23800?)  #from Pascal M. 2018.09.27 email\n",
    "# g.region(n,s,e,w)\n",
    "# g.region(n=23800, s=22400, e=28000, w=27100, res=10)\n",
    "\n",
    "# write watershed vector data to csv using \"v.out.ogr\"\n",
    "# map.read_grass(\"v.out.ogr\", input='topog_basin_vect', type='area', verbose=True, #flags='c', \n",
    "#                overwrite=True, output=watershedsCSV, format='CSV')  #doesn't work (yet)\n",
    "\n",
    "# write watershed vector data to wkt using \"v.out.ascii\"\n",
    "# map.read_grass(\"v.out.ascii\", input='topog_basin_vect', ##layer='-1', type='centroid', verbose=True, \n",
    "#                overwrite=True, output=watershedsCSV, format='wkt')  #works for me, works for Pascal M.\n",
    "\n",
    "# write watershed vector data to dxf using \"v.out.ogr\" \n",
    "# map.read_grass(\"v.out.ogr\", input='topog_basin_vect', ##type='area', verbose=True, #flags='c', \n",
    "#                overwrite=True, output=watershedsDXF, format='DXF')  #works for me\n",
    "\n",
    "# write watershed vector data to dxf using \"v.out.ogr\" \n",
    "map.read_grass(\"v.out.ogr\", input='watershed_vect_', flags='c', type='boundary', verbose=True,  \n",
    "               overwrite=True, output=watershedsDXF, format='DXF')  #works for me\n",
    "\n",
    "\n",
    "# set grass region back to region specified for project\n",
    "#  will need rework when region definition moved to API class constructor                            #ToDo JK\n",
    "##n,s,e,w = 24797, 20796, 28600, 25597  #bounds of topog\n",
    "##g.region(n=n,s=s,e=e,w=w, res=res)"
   ]
  },
  {
   "cell_type": "code",
   "execution_count": null,
   "metadata": {},
   "outputs": [],
   "source": [
    "# display hydrologic map \n",
    "map.read_grass(\"d.mon\", select='cairo', flags='r')  #release current display monitor\n",
    "output_image = 'data/out/images/topog_hydrology.png'\n",
    "os.environ['GRASS_RENDER_FILE'] = output_image\n",
    "map.read_grass(\"d.mon\", start='cairo', resolution=2, width=1080, height=720, overwrite=True)\n",
    "# display shaded relief map with watershed basins\n",
    "map.read_grass('d.his', hue=\"topog_basin\", intensity=\"topog_relief\", brighten=\"40\")[0]\n",
    "# display watershed basin boundaries\n",
    "map.read_grass('d.vect', map=\"topog_basin_vect\", type=\"boundary\",  width=1)\n",
    "# display streams calculated from accumulation\n",
    "map.read_grass(\"d.vect\", map='topog_accum_vect', verbose=True, bgcolor='white', \n",
    "              color='indigo', width=3)[0]\n",
    "# show grid and display result\n",
    "map.read_grass(\"d.grid\", size=2000, fontsize=20)[0]\n",
    "Image(filename = output_image)"
   ]
  },
  {
   "cell_type": "markdown",
   "metadata": {},
   "source": [
    "## project layout map"
   ]
  },
  {
   "cell_type": "code",
   "execution_count": null,
   "metadata": {},
   "outputs": [],
   "source": [
    "# bounds oproject layout map \n",
    "# interpreted from grid on project layout pdf\n",
    "#n,s,e,w = 24797, 20796, 28600, 25597  #bounds of topog\n",
    "n,s,e,w = 25020, 20880, 28490, 26040  #project layout\n",
    "g.region(n=n,s=s,e=e,w=w, res=res)"
   ]
  },
  {
   "cell_type": "code",
   "execution_count": null,
   "metadata": {},
   "outputs": [],
   "source": [
    "# import PNG image with project layout into grass as raster image\n",
    "map.layout_map(layoutPDF, dbg=0)"
   ]
  },
  {
   "cell_type": "code",
   "execution_count": null,
   "metadata": {},
   "outputs": [],
   "source": [
    "# adjust geolocated map position based on visual inspection\n",
    "map.read_grass(\"r.region\", map='layout_rast_rgb', verbose=True, \n",
    "                     n='n-5',s='s-5')[0]"
   ]
  },
  {
   "cell_type": "code",
   "execution_count": null,
   "metadata": {},
   "outputs": [],
   "source": [
    "# display project layout map \n",
    "map.read_grass(\"d.mon\", select='cairo', flags='r')  #release current display monitor\n",
    "output_image = 'data/out/images/layout_rast.png'\n",
    "os.environ['GRASS_RENDER_FILE'] = output_image\n",
    "map.read_grass(\"d.mon\", start='cairo', resolution=2, width=1080, height=720, overwrite=True)\n",
    "map.read_grass(\"d.rast\", map='layout_rast_rgb', bgcolor='white', flags='n')\n",
    "# display watershed basin boundaries\n",
    "map.read_grass('d.vect', map=\"topog_basin_vect\", type=\"boundary\",  width=1)\n",
    "# show grid and display result\n",
    "map.read_grass(\"d.grid\", size=2000, fontsize=20)[0]\n",
    "Image(filename = output_image)"
   ]
  },
  {
   "cell_type": "code",
   "execution_count": null,
   "metadata": {},
   "outputs": [],
   "source": [
    "# display project layout on shaded relief map \n",
    "map.read_grass(\"d.mon\", select='cairo', flags='r')  #release current display monitor\n",
    "output_image = 'data/out/images/layout_rast2.png'\n",
    "os.environ['GRASS_RENDER_FILE'] = output_image\n",
    "map.read_grass(\"d.mon\", start='cairo', resolution=2, width=1080, height=720, overwrite=True)\n",
    "# display shaded relief map with watershed basins\n",
    "map.read_grass('d.his', hue=\"layout_rast_rgb\", intensity=\"topog_relief\", brighten=\"40\")[0]\n",
    "# show grid and display result\n",
    "map.read_grass(\"d.grid\", size=2000, fontsize=20)[0]\n",
    "Image(filename = output_image)"
   ]
  },
  {
   "cell_type": "markdown",
   "metadata": {},
   "source": [
    "## geological map"
   ]
  },
  {
   "cell_type": "code",
   "execution_count": null,
   "metadata": {},
   "outputs": [],
   "source": [
    "# bounds of geological map\n",
    "# note that no grid is shown on geological map, bounds were guestimated and adjusted visually\n",
    "# that geological map is indicated to as oriented to grid north, visually it seems to be slightly rotated\n",
    "\n",
    "# can different bounds [topg, layot, geology] be put into mapsets? or json?                          #ToDo JK                                    \n",
    "n,s,e,w = 24200, 22500, 28550, 27000\n",
    "g.region(n=n,s=s,e=e,w=w, res=res)"
   ]
  },
  {
   "cell_type": "code",
   "execution_count": null,
   "metadata": {},
   "outputs": [],
   "source": [
    "# import PNG image with project layout into grass as raster image\n",
    "# make this a separate method and separate raster layer                                              #ToDo JK\n",
    "map.layout_map(geologyPDF, dbg=0)"
   ]
  },
  {
   "cell_type": "code",
   "execution_count": null,
   "metadata": {},
   "outputs": [],
   "source": [
    "# display project layout map \n",
    "map.read_grass(\"d.mon\", select='cairo', flags='r')  #release current display monitor\n",
    "output_image = 'data/out/images/layout_rast.png'\n",
    "os.environ['GRASS_RENDER_FILE'] = output_image\n",
    "map.read_grass(\"d.mon\", start='cairo', resolution=2, width=1080, height=720, overwrite=True)\n",
    "map.read_grass(\"d.rast\", map='layout_rast_rgb', bgcolor='white', flags='n')\n",
    "# show grid and display result\n",
    "map.read_grass(\"d.grid\", size=2000, fontsize=20)[0]\n",
    "Image(filename = output_image)"
   ]
  },
  {
   "cell_type": "code",
   "execution_count": null,
   "metadata": {},
   "outputs": [],
   "source": [
    "# display project layout on shaded relief map \n",
    "map.read_grass(\"d.mon\", select='cairo', flags='r')  #release current display monitor\n",
    "output_image = 'data/out/images/layout_rast2.png'\n",
    "os.environ['GRASS_RENDER_FILE'] = output_image\n",
    "map.read_grass(\"d.mon\", start='cairo', resolution=2, width=1080, height=720, overwrite=True)\n",
    "# display shaded relief map with watershed basins\n",
    "map.read_grass('d.his', hue=\"layout_rast_rgb\", intensity=\"topog_relief\", brighten=\"30\")[0]\n",
    "\n",
    "# display Drainage Gallery DG3 alignment\n",
    "alignment_vect_clean = 'alignment_dg3_cleaned'\n",
    "map.read_grass('d.vect', map='alignment_dg3_cleaned', color='red', width=7)\n",
    "\n",
    "# display streams calculated from accumulation\n",
    "#map.read_grass(\"d.vect\", map='topog_accum_vect', verbose=True, bgcolor='white', \n",
    "#              color='indigo', width=3)[0]\n",
    "\n",
    "# show grid and display result\n",
    "map.read_grass(\"d.grid\", size=2000, fontsize=20)[0]\n",
    "Image(filename = output_image)"
   ]
  },
  {
   "cell_type": "markdown",
   "metadata": {},
   "source": [
    "## larger scale layout maps for siting studies"
   ]
  },
  {
   "cell_type": "code",
   "execution_count": null,
   "metadata": {},
   "outputs": [],
   "source": [
    "# zoom in on Left Bank\n",
    "n,s,e,w = 24000, 22900, 28100, 27000\n",
    "g.region(n=n,s=s,e=e,w=w, res=res)"
   ]
  },
  {
   "cell_type": "code",
   "execution_count": null,
   "metadata": {},
   "outputs": [],
   "source": [
    "# display zoomed project layout on shaded relief map \n",
    "map.read_grass(\"d.mon\", select='cairo', flags='r')  #release current display monitor\n",
    "output_image = 'data/out/images/layout_rast2.png'\n",
    "os.environ['GRASS_RENDER_FILE'] = output_image\n",
    "map.read_grass(\"d.mon\", start='cairo', resolution=2, width=1080, height=720, overwrite=True)\n",
    "# display shaded relief map with watershed basins\n",
    "map.read_grass('d.his', hue=\"layout_rast_rgb\", intensity=\"topog_relief\", brighten=\"30\")[0]\n",
    "\n",
    "# display watershed basin boundaries\n",
    "map.read_grass('d.vect', map=\"topog_basin_vect\", type=\"boundary\",  width=4)\n",
    "# display Drainage Gallery DG3 alignment\n",
    "alignment_vect_clean = 'alignment_dg3_cleaned'\n",
    "map.read_grass('d.vect', map='alignment_dg3_cleaned', color='red', width=5)\n",
    "\n",
    "# show grid and display result\n",
    "map.read_grass(\"d.grid\", size=2000, fontsize=20)[0]\n",
    "Image(filename = output_image)"
   ]
  },
  {
   "cell_type": "code",
   "execution_count": null,
   "metadata": {},
   "outputs": [],
   "source": [
    "# display zoomed shaded relief map with streams from hydrologic analysis\n",
    "map.read_grass(\"d.mon\", select='cairo', flags='r')  #release current display monitor\n",
    "output_image = 'data/out/images/topog_relief.png'\n",
    "os.environ['GRASS_RENDER_FILE'] = output_image\n",
    "map.read_grass(\"d.mon\", start='cairo', resolution=4, width=1080, height=720, overwrite=True)\n",
    "map.read_grass(\"d.rast\", map='topog_relief', bgcolor='white', flags='n')\n",
    "# display streams calculated from accumulation\n",
    "map.read_grass(\"d.vect\", map='topog_accum_vect', verbose=True, bgcolor='white', \n",
    "              color='indigo', width=3)[0]\n",
    "# display watershed basin boundaries\n",
    "map.read_grass('d.vect', map=\"topog_basin_vect\", type=\"boundary\",  width=6)\n",
    "\n",
    "# display Drainage Gallery DG3 alignment\n",
    "alignment_vect_clean = 'alignment_dg3_cleaned'\n",
    "map.read_grass('d.vect', map='alignment_dg3_cleaned', color='red', width=7)\n",
    "\n",
    "# show grid and display result\n",
    "map.read_grass(\"d.grid\", size=2000, fontsize=20)[0]\n",
    "Image(filename = output_image)"
   ]
  },
  {
   "cell_type": "code",
   "execution_count": null,
   "metadata": {
    "collapsed": true
   },
   "outputs": [],
   "source": []
  },
  {
   "cell_type": "code",
   "execution_count": null,
   "metadata": {
    "collapsed": true
   },
   "outputs": [],
   "source": []
  },
  {
   "cell_type": "code",
   "execution_count": null,
   "metadata": {
    "collapsed": true
   },
   "outputs": [],
   "source": []
  },
  {
   "cell_type": "markdown",
   "metadata": {},
   "source": [
    "## check topography comparing differences between raster results"
   ]
  },
  {
   "cell_type": "code",
   "execution_count": null,
   "metadata": {},
   "outputs": [],
   "source": [
    "!r.mapcalc \"topog_vect_rast_=(topog_rast_resamp)-(topog_xyz_rast_resamp)\"\n"
   ]
  },
  {
   "cell_type": "code",
   "execution_count": null,
   "metadata": {},
   "outputs": [],
   "source": [
    "print(map.read_grass(\"r.univar\", map='topog_vect_rast_')[0].decode()) \n"
   ]
  },
  {
   "cell_type": "code",
   "execution_count": null,
   "metadata": {},
   "outputs": [],
   "source": [
    "# view and check topography\n",
    "!rm map.png                                                                                 #ToDo JK: pythonize\n",
    "#map.read_grass(\"d.rast\", map='topog_vect_rast_', verbose=True, bgcolor='white', flags='n',\n",
    "#             )[0]\n",
    "map.read_grass(\"d.rast\", map='topog_vect_rast_', verbose=True, bgcolor='white', flags='n',\n",
    "              values='(-10)-(10)')[0]"
   ]
  },
  {
   "cell_type": "code",
   "execution_count": null,
   "metadata": {},
   "outputs": [],
   "source": [
    "map.read_grass(\"d.legend\", raster='topog_vect_rast_')[1]\n",
    "#map.read_grass(\"d.legend\", raster='topog_vect_rast_', range='-10,10')[1]"
   ]
  },
  {
   "cell_type": "code",
   "execution_count": null,
   "metadata": {},
   "outputs": [],
   "source": [
    "Image(filename=\"map.png\")"
   ]
  },
  {
   "cell_type": "markdown",
   "metadata": {},
   "source": [
    "## extract points from vector data from DXF"
   ]
  },
  {
   "cell_type": "code",
   "execution_count": null,
   "metadata": {
    "collapsed": true
   },
   "outputs": [],
   "source": [
    "#points_out = map.read_grass(\"v.to.points\", input='topog_vect', output='topog_vect_points') \n",
    "#print(points_out[1].decode())\n",
    "\n",
    "#WARNING: 1565094 features without category in layer <1> skipped. Note that\n",
    "#         features without category (usually boundaries) are not skipped\n",
    "#         when 'layer=-1' is given.\n",
    "# without categories --> seems x,y,z are all missing   !!\n",
    "\n",
    "points_out = map.read_grass(\"v.to.points\", input='topog_vect', layer=-1, output='topog_vect_points') \n",
    "print(points_out[1].decode())\n",
    "\n",
    "# works (output)"
   ]
  },
  {
   "cell_type": "code",
   "execution_count": null,
   "metadata": {
    "collapsed": true
   },
   "outputs": [],
   "source": [
    "#print(map.read_grass(\"v.db.select\", map='topog_vect_points', layer=-1)[0].decode()) \n",
    "\n",
    "\n",
    "# lots of output, apparently one line for each coordinate ??"
   ]
  },
  {
   "cell_type": "code",
   "execution_count": null,
   "metadata": {
    "collapsed": true
   },
   "outputs": [],
   "source": [
    "print(map.read_grass(\"v.info\", map='topog_vect_points')[0].decode()) "
   ]
  },
  {
   "cell_type": "code",
   "execution_count": null,
   "metadata": {
    "collapsed": true
   },
   "outputs": [],
   "source": [
    "map.read_grass(\"v.out.ascii\", input='topog_vect_points', type='point', layer=-1, separator=',',\n",
    "              output='data/out/topog_vect_points.csv')\n",
    "\n",
    "# this works (but includes layers with bad data)\n",
    "# try with only identified layers with correct contour data   !!"
   ]
  },
  {
   "cell_type": "code",
   "execution_count": null,
   "metadata": {
    "collapsed": true
   },
   "outputs": [],
   "source": [
    "#print(map.read_grass(\"g.region\", vect='topog_vect_points')[1].decode())  # does not help to display image\n"
   ]
  },
  {
   "cell_type": "code",
   "execution_count": null,
   "metadata": {
    "collapsed": true
   },
   "outputs": [],
   "source": [
    "# view and check points\n",
    "!rm map.png                                                                                 #ToDo JK: pythonize\n",
    "map.read_grass(\"d.vect\", map='topog_vect_points', color='red')"
   ]
  },
  {
   "cell_type": "code",
   "execution_count": null,
   "metadata": {
    "collapsed": true
   },
   "outputs": [],
   "source": [
    "Image(filename=\"map.png\")\n",
    "\n",
    "# no image visible   ??\n",
    "# image is displayed in qgisp"
   ]
  },
  {
   "cell_type": "code",
   "execution_count": null,
   "metadata": {
    "collapsed": true
   },
   "outputs": [],
   "source": [
    "map.read_grass(\"v.to.rast\", input='topog_vect_points', use='z', layer=-1, \n",
    "             output='topog_vect_points_rast')[0]\n"
   ]
  },
  {
   "cell_type": "code",
   "execution_count": null,
   "metadata": {
    "collapsed": true
   },
   "outputs": [],
   "source": [
    "# view and check topography\n",
    "!rm map.png                                                                                 #ToDo JK: pythonize\n",
    "map.read_grass(\"d.rast\", map='topog_vect_points_rast')[0]\n"
   ]
  },
  {
   "cell_type": "code",
   "execution_count": null,
   "metadata": {
    "collapsed": true
   },
   "outputs": [],
   "source": [
    "Image(filename=\"map.png\")"
   ]
  },
  {
   "cell_type": "markdown",
   "metadata": {},
   "source": [
    "## extract lines from vector data from DXF"
   ]
  },
  {
   "cell_type": "code",
   "execution_count": null,
   "metadata": {
    "collapsed": true
   },
   "outputs": [],
   "source": [
    "map.read_grass(\"v.out.ascii\", input='topog_vect', type='line', format='wkt', layer=-1,\n",
    "              output='data/out/topog_vect_lines.csv')\n"
   ]
  },
  {
   "cell_type": "markdown",
   "metadata": {},
   "source": [
    "## convert points to raster data using r.in.xyz"
   ]
  },
  {
   "cell_type": "code",
   "execution_count": null,
   "metadata": {
    "collapsed": true
   },
   "outputs": [],
   "source": [
    "map.read_grass(\"r.in.xyz\", input='data/out/topog_vect_points.csv', separator=',', zrange='400,2000',\n",
    "             type='CELL', output='topog_vect_xyz_rast')[1]\n",
    "\n",
    "# zrange from visual check of original topography\n",
    "\n",
    "\n",
    "# use also fpr MASK (as first try)\n",
    "##map.read_grass(\"r.in.xyz\", input='data/out/topog_vect_points.csv', separator=',', zrange='400,2000',\n",
    "##             type='CELL', output='MASK')[1]"
   ]
  },
  {
   "cell_type": "code",
   "execution_count": null,
   "metadata": {
    "collapsed": true
   },
   "outputs": [],
   "source": [
    "print(map.read_grass(\"r.info\", map='topog_vect_xyz_rast')[0].decode()) "
   ]
  },
  {
   "cell_type": "code",
   "execution_count": null,
   "metadata": {
    "collapsed": true
   },
   "outputs": [],
   "source": [
    "# view and check topography\n",
    "!rm map.png                                                                                 #ToDo JK: pythonize\n",
    "map.read_grass(\"d.rast\", map='topog_vect_xyz_rast', verbose=True, bgcolor='red')[1]"
   ]
  },
  {
   "cell_type": "code",
   "execution_count": null,
   "metadata": {
    "collapsed": true
   },
   "outputs": [],
   "source": [
    "Image(filename=\"map.png\")"
   ]
  }
 ],
 "metadata": {
  "kernelspec": {
   "display_name": "Python 3",
   "language": "python",
   "name": "python3"
  },
  "language_info": {
   "codemirror_mode": {
    "name": "ipython",
    "version": 2
   },
   "file_extension": ".py",
   "mimetype": "text/x-python",
   "name": "python",
   "nbconvert_exporter": "python",
   "pygments_lexer": "ipython2",
   "version": "2.7.12"
  }
 },
 "nbformat": 4,
 "nbformat_minor": 2
}
