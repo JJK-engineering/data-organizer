{
 "cells": [
  {
   "cell_type": "code",
   "execution_count": 1,
   "metadata": {
    "collapsed": true
   },
   "outputs": [],
   "source": [
    "import ifcopenshell"
   ]
  },
  {
   "cell_type": "code",
   "execution_count": 3,
   "metadata": {},
   "outputs": [],
   "source": [
    "file = ifcopenshell.open(\"surface-model.ifc\")"
   ]
  },
  {
   "cell_type": "code",
   "execution_count": 4,
   "metadata": {},
   "outputs": [
    {
     "data": {
      "text/plain": [
       "[#901=IfcCartesianPoint((0.,0.,0.)),\n",
       " #1003=IfcCartesianPoint((1000.,0.,0.)),\n",
       " #1201=IfcCartesianPoint((-500.,-500.,0.)),\n",
       " #1202=IfcCartesianPoint((500.,-500.,0.)),\n",
       " #1203=IfcCartesianPoint((500.,500.,0.)),\n",
       " #1204=IfcCartesianPoint((-500.,500.,0.)),\n",
       " #1205=IfcCartesianPoint((-500.,-500.,2000.)),\n",
       " #1206=IfcCartesianPoint((500.,-500.,2000.)),\n",
       " #1207=IfcCartesianPoint((500.,500.,2000.)),\n",
       " #1208=IfcCartesianPoint((-500.,500.,2000.))]"
      ]
     },
     "execution_count": 4,
     "metadata": {},
     "output_type": "execute_result"
    }
   ],
   "source": [
    "file.by_type(\"IfcCartesianPoint\")"
   ]
  },
  {
   "cell_type": "code",
   "execution_count": null,
   "metadata": {
    "collapsed": true
   },
   "outputs": [],
   "source": []
  }
 ],
 "metadata": {
  "kernelspec": {
   "display_name": "Python 2",
   "language": "python",
   "name": "python2"
  },
  "language_info": {
   "codemirror_mode": {
    "name": "ipython",
    "version": 2
   },
   "file_extension": ".py",
   "mimetype": "text/x-python",
   "name": "python",
   "nbconvert_exporter": "python",
   "pygments_lexer": "ipython2",
   "version": "2.7.12"
  }
 },
 "nbformat": 4,
 "nbformat_minor": 2
}
