{
 "cells": [
  {
   "cell_type": "code",
   "execution_count": 1,
   "metadata": {
    "collapsed": true
   },
   "outputs": [],
   "source": [
    "# setup ifcopenshell"
   ]
  },
  {
   "cell_type": "code",
   "execution_count": 2,
   "metadata": {
    "collapsed": true
   },
   "outputs": [],
   "source": [
    "import sys, os\n",
    "#sys.path"
   ]
  },
  {
   "cell_type": "code",
   "execution_count": 3,
   "metadata": {},
   "outputs": [
    {
     "data": {
      "text/plain": [
       "('2', '7', '12')"
      ]
     },
     "execution_count": 3,
     "metadata": {},
     "output_type": "execute_result"
    }
   ],
   "source": [
    "python_version_tuple = tuple(sys.version.split(' ')[0].split('.'))\n",
    "python_version_tuple"
   ]
  },
  {
   "cell_type": "code",
   "execution_count": 4,
   "metadata": {},
   "outputs": [
    {
     "data": {
      "text/plain": [
       "'linux/64bit/python2.7'"
      ]
     },
     "execution_count": 4,
     "metadata": {},
     "output_type": "execute_result"
    }
   ],
   "source": [
    "platform_system = os.uname()[0].lower()\n",
    "platform_architecture = '64bit'\n",
    "python_distribution = os.path.join(platform_system,\n",
    "    platform_architecture,\n",
    "    'python%s.%s' % python_version_tuple[:2])\n",
    "python_distribution"
   ]
  },
  {
   "cell_type": "code",
   "execution_count": 5,
   "metadata": {
    "collapsed": true
   },
   "outputs": [],
   "source": [
    "import ifcopenshell"
   ]
  },
  {
   "cell_type": "code",
   "execution_count": 6,
   "metadata": {
    "collapsed": true
   },
   "outputs": [],
   "source": [
    "#dir(ifcopenshell)"
   ]
  },
  {
   "cell_type": "code",
   "execution_count": 7,
   "metadata": {
    "collapsed": true
   },
   "outputs": [],
   "source": [
    "#help(ifcopenshell)"
   ]
  },
  {
   "cell_type": "code",
   "execution_count": 8,
   "metadata": {
    "collapsed": true
   },
   "outputs": [],
   "source": [
    "# test ifcopenshell with 'surface-model.ifc'"
   ]
  },
  {
   "cell_type": "code",
   "execution_count": 9,
   "metadata": {
    "collapsed": true
   },
   "outputs": [],
   "source": [
    "file = ifcopenshell.open(\"surface-model.ifc\")\n",
    "\n"
   ]
  },
  {
   "cell_type": "code",
   "execution_count": 10,
   "metadata": {},
   "outputs": [
    {
     "data": {
      "text/plain": [
       "[#901=IfcCartesianPoint((0.,0.,0.)),\n",
       " #1003=IfcCartesianPoint((1000.,0.,0.)),\n",
       " #1201=IfcCartesianPoint((-500.,-500.,0.)),\n",
       " #1202=IfcCartesianPoint((500.,-500.,0.)),\n",
       " #1203=IfcCartesianPoint((500.,500.,0.)),\n",
       " #1204=IfcCartesianPoint((-500.,500.,0.)),\n",
       " #1205=IfcCartesianPoint((-500.,-500.,2000.)),\n",
       " #1206=IfcCartesianPoint((500.,-500.,2000.)),\n",
       " #1207=IfcCartesianPoint((500.,500.,2000.)),\n",
       " #1208=IfcCartesianPoint((-500.,500.,2000.))]"
      ]
     },
     "execution_count": 10,
     "metadata": {},
     "output_type": "execute_result"
    }
   ],
   "source": [
    "points = file.by_type(\"IfcCartesianPoint\")\n",
    "points"
   ]
  },
  {
   "cell_type": "code",
   "execution_count": 11,
   "metadata": {},
   "outputs": [
    {
     "data": {
      "text/plain": [
       "#1201=IfcCartesianPoint((-500.,-500.,0.))"
      ]
     },
     "execution_count": 11,
     "metadata": {},
     "output_type": "execute_result"
    }
   ],
   "source": [
    "points[2]"
   ]
  },
  {
   "cell_type": "code",
   "execution_count": 12,
   "metadata": {},
   "outputs": [
    {
     "data": {
      "text/plain": [
       "False"
      ]
     },
     "execution_count": 12,
     "metadata": {},
     "output_type": "execute_result"
    }
   ],
   "source": [
    "points[0].is_a(\"IfcRoot\")"
   ]
  },
  {
   "cell_type": "code",
   "execution_count": 13,
   "metadata": {},
   "outputs": [
    {
     "data": {
      "text/plain": [
       "'Coordinates'"
      ]
     },
     "execution_count": 13,
     "metadata": {},
     "output_type": "execute_result"
    }
   ],
   "source": [
    "points[0].attribute_name(0)"
   ]
  },
  {
   "cell_type": "code",
   "execution_count": 14,
   "metadata": {},
   "outputs": [
    {
     "data": {
      "text/plain": [
       "'AGGREGATE OF DOUBLE'"
      ]
     },
     "execution_count": 14,
     "metadata": {},
     "output_type": "execute_result"
    }
   ],
   "source": [
    "points[0].attribute_type(0)"
   ]
  },
  {
   "cell_type": "code",
   "execution_count": 15,
   "metadata": {},
   "outputs": [
    {
     "data": {
      "text/plain": [
       "['__class__',\n",
       " '__delattr__',\n",
       " '__dict__',\n",
       " '__dir__',\n",
       " '__doc__',\n",
       " '__eq__',\n",
       " '__format__',\n",
       " '__getattr__',\n",
       " '__getattribute__',\n",
       " '__getitem__',\n",
       " '__hash__',\n",
       " '__init__',\n",
       " '__len__',\n",
       " '__module__',\n",
       " '__new__',\n",
       " '__reduce__',\n",
       " '__reduce_ex__',\n",
       " '__repr__',\n",
       " '__setattr__',\n",
       " '__setitem__',\n",
       " '__sizeof__',\n",
       " '__str__',\n",
       " '__subclasshook__',\n",
       " '__weakref__',\n",
       " 'attribute_name',\n",
       " 'attribute_type',\n",
       " 'get_info',\n",
       " 'id',\n",
       " 'is_a',\n",
       " 'unwrap_value',\n",
       " 'walk',\n",
       " 'wrap_value',\n",
       " u'\\U0061004c\\U00650079\\U00410072\\U00730073\\U00670069\\U006d006e\\U006e0065\\U00730074\\U2c670000\\u7ff2\\U2c57ff80\\u7ff2\\x00\\x00\\x01\\x00',\n",
       " u'\\U006f0043\\U0072006f\\U00690064\\U0061006e\\U00650074s\\U2c64b240\\u7ff2.5\\x00',\n",
       " u'\\U00740053\\U006c0079\\U00640065\\U00790042\\U00740049\\U006d0065\\x00\\x00sile']"
      ]
     },
     "execution_count": 15,
     "metadata": {},
     "output_type": "execute_result"
    }
   ],
   "source": [
    "dir(points[2])"
   ]
  },
  {
   "cell_type": "code",
   "execution_count": 16,
   "metadata": {},
   "outputs": [
    {
     "data": {
      "text/plain": [
       "(-500.0, -500.0, 0.0)"
      ]
     },
     "execution_count": 16,
     "metadata": {},
     "output_type": "execute_result"
    }
   ],
   "source": [
    "coord_dict = points[2].get_info()\n",
    "coord_dict['Coordinates'][0], coord_dict['Coordinates'][1], coord_dict['Coordinates'][2]"
   ]
  },
  {
   "cell_type": "code",
   "execution_count": 17,
   "metadata": {},
   "outputs": [
    {
     "data": {
      "text/plain": [
       "1201"
      ]
     },
     "execution_count": 17,
     "metadata": {},
     "output_type": "execute_result"
    }
   ],
   "source": [
    "points[2].id()"
   ]
  },
  {
   "cell_type": "code",
   "execution_count": 18,
   "metadata": {
    "collapsed": true
   },
   "outputs": [],
   "source": [
    "# notes\n",
    "#   for e.g. a list of points:\n",
    "#   it might be necessary to define a function to go through all items in coordinate list,\n",
    "#   check if the id is the id sought (assert?),\n",
    "#   and then get some information\n",
    "# if there is no easier (built-in?) way to do this"
   ]
  },
  {
   "cell_type": "code",
   "execution_count": 19,
   "metadata": {},
   "outputs": [
    {
     "data": {
      "text/plain": [
       "#1112=IfcPolyLoop((#1201,#1202,#1206,#1205))"
      ]
     },
     "execution_count": 19,
     "metadata": {},
     "output_type": "execute_result"
    }
   ],
   "source": [
    "polyloop = file.by_type(\"IfcPolyLoop\")\n",
    "polyloop[0]"
   ]
  },
  {
   "cell_type": "code",
   "execution_count": 20,
   "metadata": {},
   "outputs": [
    {
     "data": {
      "text/plain": [
       "{'Polygon': (#1201=IfcCartesianPoint((-500.,-500.,0.)),\n",
       "  #1202=IfcCartesianPoint((500.,-500.,0.)),\n",
       "  #1206=IfcCartesianPoint((500.,-500.,2000.)),\n",
       "  #1205=IfcCartesianPoint((-500.,-500.,2000.))),\n",
       " 'id': 1112,\n",
       " 'type': 'IfcPolyLoop'}"
      ]
     },
     "execution_count": 20,
     "metadata": {},
     "output_type": "execute_result"
    }
   ],
   "source": [
    "polyloop_dict = polyloop[0].get_info()\n",
    "polyloop_dict"
   ]
  },
  {
   "cell_type": "code",
   "execution_count": 21,
   "metadata": {},
   "outputs": [
    {
     "data": {
      "text/plain": [
       "(#1201=IfcCartesianPoint((-500.,-500.,0.)),\n",
       " #1202=IfcCartesianPoint((500.,-500.,0.)),\n",
       " #1206=IfcCartesianPoint((500.,-500.,2000.)),\n",
       " #1205=IfcCartesianPoint((-500.,-500.,2000.)))"
      ]
     },
     "execution_count": 21,
     "metadata": {},
     "output_type": "execute_result"
    }
   ],
   "source": [
    "polyloop_dict.keys()\n",
    "polyloop_dict['Polygon']"
   ]
  },
  {
   "cell_type": "code",
   "execution_count": 22,
   "metadata": {},
   "outputs": [
    {
     "data": {
      "text/plain": [
       "#1201=IfcCartesianPoint((-500.,-500.,0.))"
      ]
     },
     "execution_count": 22,
     "metadata": {},
     "output_type": "execute_result"
    }
   ],
   "source": [
    "polyloop_dict['Polygon'][0]"
   ]
  },
  {
   "cell_type": "code",
   "execution_count": 23,
   "metadata": {},
   "outputs": [
    {
     "data": {
      "text/plain": [
       "{'Coordinates': (-500.0, -500.0, 0.0), 'id': 1201, 'type': 'IfcCartesianPoint'}"
      ]
     },
     "execution_count": 23,
     "metadata": {},
     "output_type": "execute_result"
    }
   ],
   "source": [
    "polyloop_dict['Polygon'][0].get_info()"
   ]
  },
  {
   "cell_type": "code",
   "execution_count": 24,
   "metadata": {},
   "outputs": [
    {
     "data": {
      "text/plain": [
       "1201"
      ]
     },
     "execution_count": 24,
     "metadata": {},
     "output_type": "execute_result"
    }
   ],
   "source": [
    "polyloop_dict['Polygon'][0].get_info()['id']"
   ]
  },
  {
   "cell_type": "code",
   "execution_count": 25,
   "metadata": {},
   "outputs": [
    {
     "data": {
      "text/plain": [
       "(-500.0, -500.0, 0.0)"
      ]
     },
     "execution_count": 25,
     "metadata": {},
     "output_type": "execute_result"
    }
   ],
   "source": [
    "(polyloop_dict['Polygon'][0].get_info()['Coordinates'][0], \n",
    "polyloop_dict['Polygon'][0].get_info()['Coordinates'][1],\n",
    "polyloop_dict['Polygon'][0].get_info()['Coordinates'][2])"
   ]
  },
  {
   "cell_type": "code",
   "execution_count": 26,
   "metadata": {
    "collapsed": true
   },
   "outputs": [],
   "source": [
    "# test ifcopenshell with 'Rogun_Test-100.ifc'\n",
    "\n"
   ]
  },
  {
   "cell_type": "code",
   "execution_count": 27,
   "metadata": {
    "collapsed": true
   },
   "outputs": [],
   "source": [
    "file = ifcopenshell.open('Rogun_Test-100.ifc')"
   ]
  },
  {
   "cell_type": "code",
   "execution_count": 28,
   "metadata": {},
   "outputs": [
    {
     "data": {
      "text/plain": [
       "[#15=IfcCartesianPoint((0.,0.,0.)),\n",
       " #98=IfcCartesianPoint((0.,0.,0.)),\n",
       " #138=IfcCartesianPoint((27437.3357858974,23709.4213133485)),\n",
       " #147=IfcCartesianPoint((27481.9171958855,23621.7046409104)),\n",
       " #156=IfcCartesianPoint((27497.6147474378,23540.5393068725)),\n",
       " #165=IfcCartesianPoint((27485.0196398915,23397.9999944801)),\n",
       " #217=IfcCartesianPoint((27437.3357858974,23709.4213133485)),\n",
       " #226=IfcCartesianPoint((27481.9171958855,23621.7046409104)),\n",
       " #235=IfcCartesianPoint((27497.6147474378,23540.5393068725)),\n",
       " #244=IfcCartesianPoint((27485.0196398915,23397.9999944801)),\n",
       " #293=IfcCartesianPoint((0.,0.,0.)),\n",
       " #315=IfcCartesianPoint((29881.6387500966,24515.0357487475,0.)),\n",
       " #319=IfcCartesianPoint((29881.6387500966,24509.9593503846,0.)),\n",
       " #323=IfcCartesianPoint((29889.1813831116,24509.9593503846,0.)),\n",
       " #327=IfcCartesianPoint((29889.1813831116,24515.0357487475,0.)),\n",
       " #343=IfcCartesianPoint((29789.1634772453,24509.9593503846,0.)),\n",
       " #347=IfcCartesianPoint((29789.1634772453,24514.9736750777,0.)),\n",
       " #351=IfcCartesianPoint((29781.6566559629,24514.9736750777,0.)),\n",
       " #355=IfcCartesianPoint((29781.6566559629,24509.9593503846,0.)),\n",
       " #371=IfcCartesianPoint((29681.9765741075,24509.9593503846,0.)),\n",
       " #375=IfcCartesianPoint((29688.8435591007,24509.9593503846,0.)),\n",
       " #379=IfcCartesianPoint((29688.8435591007,24514.9736750777,0.)),\n",
       " #383=IfcCartesianPoint((29681.9765741075,24514.9736750777,0.)),\n",
       " #399=IfcCartesianPoint((29581.6447187187,24509.9593503846,0.)),\n",
       " #403=IfcCartesianPoint((29589.1754144895,24509.9593503846,0.)),\n",
       " #407=IfcCartesianPoint((29589.1754144895,24515.0333612987,0.)),\n",
       " #411=IfcCartesianPoint((29581.6447187187,24515.0333612987,0.)),\n",
       " #427=IfcCartesianPoint((29289.3461170816,24509.9593503846,0.)),\n",
       " #431=IfcCartesianPoint((29289.3461170816,24515.0333612987,0.)),\n",
       " #435=IfcCartesianPoint((29281.4740161266,24515.0333612987,0.)),\n",
       " #439=IfcCartesianPoint((29281.4740161266,24509.9593503846,0.)),\n",
       " #455=IfcCartesianPoint((29389.3496982549,24509.9593503846,0.)),\n",
       " #459=IfcCartesianPoint((29389.3496982549,24515.0333612987,0.)),\n",
       " #463=IfcCartesianPoint((29381.4704349534,24515.0333612987,0.)),\n",
       " #467=IfcCartesianPoint((29381.4704349534,24509.9593503846,0.)),\n",
       " #483=IfcCartesianPoint((29489.3496982549,24515.0333612987,0.)),\n",
       " #487=IfcCartesianPoint((29481.4704349534,24515.0333612987,0.)),\n",
       " #491=IfcCartesianPoint((29481.4704349534,24509.9593503846,0.)),\n",
       " #495=IfcCartesianPoint((29489.3496982549,24509.9593503846,0.)),\n",
       " #511=IfcCartesianPoint((29089.3592480502,24515.0333612987,0.)),\n",
       " #515=IfcCartesianPoint((29081.460885158,24515.0333612987,0.)),\n",
       " #519=IfcCartesianPoint((29081.460885158,24509.9593503846,0.)),\n",
       " #523=IfcCartesianPoint((29089.3592480502,24509.9593503846,0.)),\n",
       " #539=IfcCartesianPoint((29181.4752098511,24509.9593503846,0.)),\n",
       " #543=IfcCartesianPoint((29189.3449233572,24509.9593503846,0.)),\n",
       " #547=IfcCartesianPoint((29189.3449233572,24515.0333612987,0.)),\n",
       " #551=IfcCartesianPoint((29181.4752098511,24515.0333612987,0.)),\n",
       " #567=IfcCartesianPoint((28981.4811784732,24509.9593503846,0.)),\n",
       " #571=IfcCartesianPoint((28989.3389547351,24509.9593503846,0.)),\n",
       " #575=IfcCartesianPoint((28989.3389547351,24515.0333612987,0.)),\n",
       " #579=IfcCartesianPoint((28981.4811784732,24515.0333612987,0.)),\n",
       " #595=IfcCartesianPoint((28781.4919219929,24509.9593503846,0.)),\n",
       " #599=IfcCartesianPoint((28789.3282112153,24509.9593503846,0.)),\n",
       " #603=IfcCartesianPoint((28789.3282112153,24515.0333612987,0.)),\n",
       " #607=IfcCartesianPoint((28781.4919219929,24515.0333612987,0.)),\n",
       " #623=IfcCartesianPoint((28689.0082930707,24509.9593503846,0.)),\n",
       " #627=IfcCartesianPoint((28689.0082930707,24515.0333612987,0.)),\n",
       " #631=IfcCartesianPoint((28681.8118401375,24515.0333612987,0.)),\n",
       " #635=IfcCartesianPoint((28681.8118401375,24509.9593503846,0.)),\n",
       " #651=IfcCartesianPoint((28881.4740161266,24515.0357487475,0.)),\n",
       " #655=IfcCartesianPoint((28881.4740161266,24509.9593503846,0.)),\n",
       " #659=IfcCartesianPoint((28889.3461170816,24509.9593503846,0.)),\n",
       " #663=IfcCartesianPoint((28889.3461170816,24515.0357487475,0.)),\n",
       " #1041=IfcCartesianPoint((0.,0.,0.)),\n",
       " #1063=IfcCartesianPoint((29431.1861334589,24441.417058436,0.)),\n",
       " #1067=IfcCartesianPoint((29431.1861334589,24443.4593503869,0.)),\n",
       " #1071=IfcCartesianPoint((29419.2761743866,24443.4593503869,0.)),\n",
       " #1075=IfcCartesianPoint((29419.2761743866,24441.417058436,0.)),\n",
       " #1091=IfcCartesianPoint((28833.7883449668,24443.4593503869,0.)),\n",
       " #1095=IfcCartesianPoint((28833.7883449668,24441.417058436,0.)),\n",
       " #1099=IfcCartesianPoint((28844.4240884866,24441.417058436,0.)),\n",
       " #1103=IfcCartesianPoint((28844.4240884866,24443.4593503869,0.)),\n",
       " #1119=IfcCartesianPoint((29422.8088216245,24447.4593503869,0.)),\n",
       " #1123=IfcCartesianPoint((29422.8088216245,24445.4593503869,0.)),\n",
       " #1127=IfcCartesianPoint((29427.6534862211,24445.4593503869,0.)),\n",
       " #1131=IfcCartesianPoint((29427.6534862211,24447.4593503869,0.)),\n",
       " #1147=IfcCartesianPoint((28730.5377137517,24445.4593503869,0.)),\n",
       " #1151=IfcCartesianPoint((28730.5377137517,24447.5016423378,0.)),\n",
       " #1155=IfcCartesianPoint((28720.8269361255,24447.5016423378,0.)),\n",
       " #1159=IfcCartesianPoint((28720.8269361255,24445.4593503869,0.)),\n",
       " #1175=IfcCartesianPoint((28629.9339814277,24443.4593503869,0.)),\n",
       " #1179=IfcCartesianPoint((28629.9339814277,24441.417058436,0.)),\n",
       " #1183=IfcCartesianPoint((28639.2818668302,24441.417058436,0.)),\n",
       " #1187=IfcCartesianPoint((28639.2818668302,24443.4593503869,0.)),\n",
       " #1203=IfcCartesianPoint((28637.0302564272,24445.4593503869,0.)),\n",
       " #1207=IfcCartesianPoint((28637.0302564272,24447.4593503869,0.)),\n",
       " #1211=IfcCartesianPoint((28632.1855918307,24447.4593503869,0.)),\n",
       " #1215=IfcCartesianPoint((28632.1855918307,24445.4593503869,0.)),\n",
       " #1231=IfcCartesianPoint((28836.6838844284,24447.4593503869,0.)),\n",
       " #1235=IfcCartesianPoint((28836.6838844284,24445.4593503869,0.)),\n",
       " #1239=IfcCartesianPoint((28841.5285490249,24445.4593503869,0.)),\n",
       " #1243=IfcCartesianPoint((28841.5285490249,24447.4593503869,0.)),\n",
       " #1259=IfcCartesianPoint((28721.0083822373,24441.417058436,0.)),\n",
       " #1263=IfcCartesianPoint((28730.3562676398,24441.417058436,0.)),\n",
       " #1267=IfcCartesianPoint((28730.3562676398,24443.4593503869,0.)),\n",
       " #1271=IfcCartesianPoint((28721.0083822373,24443.4593503869,0.))]"
      ]
     },
     "execution_count": 28,
     "metadata": {},
     "output_type": "execute_result"
    }
   ],
   "source": [
    "points = file.by_type(\"IfcCartesianPoint\")\n",
    "points"
   ]
  },
  {
   "cell_type": "code",
   "execution_count": 29,
   "metadata": {},
   "outputs": [
    {
     "ename": "RuntimeError",
     "evalue": "Unable to find find keyword in schema",
     "output_type": "error",
     "traceback": [
      "\u001b[0;31m\u001b[0m",
      "\u001b[0;31mRuntimeError\u001b[0mTraceback (most recent call last)",
      "\u001b[0;32m<ipython-input-29-dabb246a41de>\u001b[0m in \u001b[0;36m<module>\u001b[0;34m()\u001b[0m\n\u001b[0;32m----> 1\u001b[0;31m \u001b[0mfile\u001b[0m\u001b[0;34m.\u001b[0m\u001b[0mby_type\u001b[0m\u001b[0;34m(\u001b[0m\u001b[0;34m\"IfcAlignment\"\u001b[0m\u001b[0;34m)\u001b[0m\u001b[0;34m\u001b[0m\u001b[0m\n\u001b[0m",
      "\u001b[0;32m/home/kaelin_joseph/DataOrganizer/lib/python/ifcopenshell/file.pyc\u001b[0m in \u001b[0;36mby_type\u001b[0;34m(self, type)\u001b[0m\n\u001b[1;32m     49\u001b[0m         \u001b[0;32mreturn\u001b[0m \u001b[0mentity_instance\u001b[0m\u001b[0;34m(\u001b[0m\u001b[0mself\u001b[0m\u001b[0;34m.\u001b[0m\u001b[0mwrapped_data\u001b[0m\u001b[0;34m.\u001b[0m\u001b[0madd\u001b[0m\u001b[0;34m(\u001b[0m\u001b[0minst\u001b[0m\u001b[0;34m.\u001b[0m\u001b[0mwrapped_data\u001b[0m\u001b[0;34m)\u001b[0m\u001b[0;34m)\u001b[0m\u001b[0;34m\u001b[0m\u001b[0m\n\u001b[1;32m     50\u001b[0m     \u001b[0;32mdef\u001b[0m \u001b[0mby_type\u001b[0m\u001b[0;34m(\u001b[0m\u001b[0mself\u001b[0m\u001b[0;34m,\u001b[0m \u001b[0mtype\u001b[0m\u001b[0;34m)\u001b[0m\u001b[0;34m:\u001b[0m\u001b[0;34m\u001b[0m\u001b[0m\n\u001b[0;32m---> 51\u001b[0;31m         \u001b[0;32mreturn\u001b[0m \u001b[0;34m[\u001b[0m\u001b[0mentity_instance\u001b[0m\u001b[0;34m(\u001b[0m\u001b[0me\u001b[0m\u001b[0;34m)\u001b[0m \u001b[0;32mfor\u001b[0m \u001b[0me\u001b[0m \u001b[0;32min\u001b[0m \u001b[0mself\u001b[0m\u001b[0;34m.\u001b[0m\u001b[0mwrapped_data\u001b[0m\u001b[0;34m.\u001b[0m\u001b[0mby_type\u001b[0m\u001b[0;34m(\u001b[0m\u001b[0mtype\u001b[0m\u001b[0;34m)\u001b[0m\u001b[0;34m]\u001b[0m\u001b[0;34m\u001b[0m\u001b[0m\n\u001b[0m\u001b[1;32m     52\u001b[0m     \u001b[0;32mdef\u001b[0m \u001b[0mtraverse\u001b[0m\u001b[0;34m(\u001b[0m\u001b[0mself\u001b[0m\u001b[0;34m,\u001b[0m \u001b[0minst\u001b[0m\u001b[0;34m,\u001b[0m \u001b[0mmax_levels\u001b[0m\u001b[0;34m=\u001b[0m\u001b[0mNone\u001b[0m\u001b[0;34m)\u001b[0m\u001b[0;34m:\u001b[0m\u001b[0;34m\u001b[0m\u001b[0m\n\u001b[1;32m     53\u001b[0m         \u001b[0;32mif\u001b[0m \u001b[0mmax_levels\u001b[0m \u001b[0;32mis\u001b[0m \u001b[0mNone\u001b[0m\u001b[0;34m:\u001b[0m\u001b[0;34m\u001b[0m\u001b[0m\n",
      "\u001b[0;32m/home/kaelin_joseph/DataOrganizer/lib/python/ifcopenshell/ifcopenshell_wrapper.pyc\u001b[0m in \u001b[0;36mby_type\u001b[0;34m(self, *args)\u001b[0m\n\u001b[1;32m   1221\u001b[0m \u001b[0;34m\u001b[0m\u001b[0m\n\u001b[1;32m   1222\u001b[0m     \u001b[0;32mdef\u001b[0m \u001b[0mby_type\u001b[0m\u001b[0;34m(\u001b[0m\u001b[0mself\u001b[0m\u001b[0;34m,\u001b[0m \u001b[0;34m*\u001b[0m\u001b[0margs\u001b[0m\u001b[0;34m)\u001b[0m\u001b[0;34m:\u001b[0m\u001b[0;34m\u001b[0m\u001b[0m\n\u001b[0;32m-> 1223\u001b[0;31m         \u001b[0;32mreturn\u001b[0m \u001b[0m_ifcopenshell_wrapper\u001b[0m\u001b[0;34m.\u001b[0m\u001b[0mfile_by_type\u001b[0m\u001b[0;34m(\u001b[0m\u001b[0mself\u001b[0m\u001b[0;34m,\u001b[0m \u001b[0;34m*\u001b[0m\u001b[0margs\u001b[0m\u001b[0;34m)\u001b[0m\u001b[0;34m\u001b[0m\u001b[0m\n\u001b[0m\u001b[1;32m   1224\u001b[0m \u001b[0;34m\u001b[0m\u001b[0m\n\u001b[1;32m   1225\u001b[0m     \u001b[0;32mdef\u001b[0m \u001b[0mentitiesByReference\u001b[0m\u001b[0;34m(\u001b[0m\u001b[0mself\u001b[0m\u001b[0;34m,\u001b[0m \u001b[0mid\u001b[0m\u001b[0;34m)\u001b[0m\u001b[0;34m:\u001b[0m\u001b[0;34m\u001b[0m\u001b[0m\n",
      "\u001b[0;31mRuntimeError\u001b[0m: Unable to find find keyword in schema"
     ]
    }
   ],
   "source": [
    "file.by_type(\"IfcAlignment\")\n"
   ]
  },
  {
   "cell_type": "code",
   "execution_count": null,
   "metadata": {
    "collapsed": true
   },
   "outputs": [],
   "source": [
    "# notes\n",
    "#   IFC Alginment is not yet supported \n",
    "#   https://github.com/IfcOpenShell/IfcOpenShell/issues/325"
   ]
  },
  {
   "cell_type": "code",
   "execution_count": null,
   "metadata": {
    "collapsed": true
   },
   "outputs": [],
   "source": [
    "# test ifcopenshell with 'Rogun_Test-100.ifc'\n",
    "#   http://www.modelservers.org/public/V-Con/ReleaseP3/DataSets/SE/Alignment/\n",
    "#   IFC test data file used for Swedish testing of IFC alignment\n",
    "#   report: https://www.smartbuilt.se/library/3705/verification-ifc-alignment-_-infragml-nordic-project-team_report.pdf\n",
    "file = ifcopenshell.open('MainRoad_as_is_designed_1.1.ifc')\n",
    "\n"
   ]
  },
  {
   "cell_type": "code",
   "execution_count": null,
   "metadata": {
    "collapsed": true
   },
   "outputs": [],
   "source": [
    "points = file.by_type(\"IfcCartesianPoint\")\n",
    "points"
   ]
  },
  {
   "cell_type": "code",
   "execution_count": null,
   "metadata": {
    "collapsed": true
   },
   "outputs": [],
   "source": [
    "file.by_type(\"IfcAlignment\")\n"
   ]
  },
  {
   "cell_type": "code",
   "execution_count": null,
   "metadata": {
    "collapsed": true
   },
   "outputs": [],
   "source": [
    "# testing with Taner\n",
    "\n",
    "\n"
   ]
  },
  {
   "cell_type": "code",
   "execution_count": null,
   "metadata": {
    "collapsed": true
   },
   "outputs": [],
   "source": [
    "file = ifcopenshell.open('Rogun_3d_IFC_TestData.ifc')\n"
   ]
  },
  {
   "cell_type": "code",
   "execution_count": null,
   "metadata": {},
   "outputs": [],
   "source": [
    "points = file.by_type(\"IfcCartesianPoint\")\n",
    "points"
   ]
  },
  {
   "cell_type": "code",
   "execution_count": null,
   "metadata": {
    "collapsed": true
   },
   "outputs": [],
   "source": []
  }
 ],
 "metadata": {
  "kernelspec": {
   "display_name": "Python 3",
   "language": "python",
   "name": "python3"
  },
  "language_info": {
   "codemirror_mode": {
    "name": "ipython",
    "version": 2
   },
   "file_extension": ".py",
   "mimetype": "text/x-python",
   "name": "python",
   "nbconvert_exporter": "python",
   "pygments_lexer": "ipython2",
   "version": "2.7.12"
  }
 },
 "nbformat": 4,
 "nbformat_minor": 2
}
