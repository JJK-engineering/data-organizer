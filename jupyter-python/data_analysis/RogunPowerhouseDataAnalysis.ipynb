{
 "cells": [
  {
   "cell_type": "code",
   "execution_count": 1,
   "metadata": {
    "collapsed": true
   },
   "outputs": [],
   "source": [
    "#!sudo pip install --upgrade pixiedust"
   ]
  },
  {
   "cell_type": "code",
   "execution_count": 2,
   "metadata": {
    "scrolled": true
   },
   "outputs": [
    {
     "name": "stdout",
     "output_type": "stream",
     "text": [
      "Pixiedust database opened successfully\n"
     ]
    },
    {
     "data": {
      "text/html": [
       "\n",
       "        <div style=\"margin:10px\">\n",
       "            <a href=\"https://github.com/ibm-watson-data-lab/pixiedust\" target=\"_new\">\n",
       "                <img src=\"https://github.com/ibm-watson-data-lab/pixiedust/raw/master/docs/_static/pd_icon32.png\" style=\"float:left;margin-right:10px\"/>\n",
       "            </a>\n",
       "            <span>Pixiedust version 1.1.10</span>\n",
       "        </div>\n",
       "        "
      ],
      "text/plain": [
       "<IPython.core.display.HTML object>"
      ]
     },
     "metadata": {},
     "output_type": "display_data"
    }
   ],
   "source": [
    "# set up python ecosystem\n",
    "import json\n",
    "from math import *\n",
    "import pandas as pd\n",
    "import numpy as np\n",
    "from IPython.core.display import HTML, display\n",
    "import matplotlib.mlab as mlab\n",
    "import matplotlib.pyplot as plt\n",
    "from matplotlib.lines import Line2D\n",
    "from scipy.stats import norm\n",
    "from scipy.stats import lognorm\n",
    "from scipy import stats\n",
    "\n",
    "import pixiedust\n",
    "from pixiedust.display import *"
   ]
  },
  {
   "cell_type": "code",
   "execution_count": 3,
   "metadata": {
    "collapsed": true
   },
   "outputs": [],
   "source": [
    "# set maximum number of rows to display from a pandas data frame\n",
    "pd.set_option('display.max_rows', 5000)"
   ]
  },
  {
   "cell_type": "code",
   "execution_count": 4,
   "metadata": {
    "collapsed": true
   },
   "outputs": [],
   "source": [
    "#datafile = 'data/Rogun/2018.05.20.Grouting_Data.csv'\n",
    "datafile = 'data/Rogun/2018.05.20.Grouting_Data_fixed.csv'"
   ]
  },
  {
   "cell_type": "code",
   "execution_count": 5,
   "metadata": {},
   "outputs": [
    {
     "name": "stdout",
     "output_type": "stream",
     "text": [
      "Nr          2821\n",
      "Record      2821\n",
      "Opening     2821\n",
      "Location    2821\n",
      "Type        2821\n",
      "Hole        2821\n",
      "Chainage    2821\n",
      "Diameter     345\n",
      "Date        2819\n",
      "Stage       2821\n",
      "Depth       2821\n",
      "Grout       2743\n",
      "Cement      2743\n",
      "dtype: int64\n",
      "Nr          2819\n",
      "Record      2819\n",
      "Opening     2819\n",
      "Location    2819\n",
      "Type        2819\n",
      "Hole        2819\n",
      "Chainage    2819\n",
      "Diameter     345\n",
      "Date        2819\n",
      "Stage       2819\n",
      "Depth       2819\n",
      "Grout       2742\n",
      "Cement      2742\n",
      "dtype: int64\n"
     ]
    }
   ],
   "source": [
    "#df = pd.read_csv(datafile, names=names)\n",
    "#data_df = pd.read_csv(datafile, parse_dates=True, dayfirst=True)\n",
    "data_df = pd.read_csv(datafile, dayfirst=True)\n",
    "print(data_df.count())\n",
    "data_df = data_df.dropna(subset=['Date'])     #drop all rows that have any NaN values\n",
    "print(data_df.count())\n",
    "data_df['Date'] = pd.to_datetime(data_df['Date'], format='%d/%m/%Y', errors='coerce')"
   ]
  },
  {
   "cell_type": "code",
   "execution_count": 6,
   "metadata": {
    "scrolled": true
   },
   "outputs": [
    {
     "data": {
      "text/html": [
       "<div>\n",
       "<style scoped>\n",
       "    .dataframe tbody tr th:only-of-type {\n",
       "        vertical-align: middle;\n",
       "    }\n",
       "\n",
       "    .dataframe tbody tr th {\n",
       "        vertical-align: top;\n",
       "    }\n",
       "\n",
       "    .dataframe thead th {\n",
       "        text-align: right;\n",
       "    }\n",
       "</style>\n",
       "<table border=\"1\" class=\"dataframe\">\n",
       "  <thead>\n",
       "    <tr style=\"text-align: right;\">\n",
       "      <th></th>\n",
       "      <th>Nr</th>\n",
       "      <th>Record</th>\n",
       "      <th>Opening</th>\n",
       "      <th>Location</th>\n",
       "      <th>Type</th>\n",
       "      <th>Hole</th>\n",
       "      <th>Chainage</th>\n",
       "      <th>Diameter</th>\n",
       "      <th>Date</th>\n",
       "      <th>Stage</th>\n",
       "      <th>Depth</th>\n",
       "      <th>Grout</th>\n",
       "      <th>Cement</th>\n",
       "    </tr>\n",
       "  </thead>\n",
       "  <tbody>\n",
       "    <tr>\n",
       "      <th>0</th>\n",
       "      <td>1</td>\n",
       "      <td>1</td>\n",
       "      <td>PH</td>\n",
       "      <td>DS</td>\n",
       "      <td>Tendon</td>\n",
       "      <td>TBF-1</td>\n",
       "      <td>00+02.00</td>\n",
       "      <td>110.0</td>\n",
       "      <td>2016-05-08</td>\n",
       "      <td>1</td>\n",
       "      <td>30</td>\n",
       "      <td>189.0</td>\n",
       "      <td>204.12</td>\n",
       "    </tr>\n",
       "    <tr>\n",
       "      <th>1</th>\n",
       "      <td>2</td>\n",
       "      <td>2</td>\n",
       "      <td>PH</td>\n",
       "      <td>DS</td>\n",
       "      <td>Tendon</td>\n",
       "      <td>TBK-2</td>\n",
       "      <td>00+02.92</td>\n",
       "      <td>110.0</td>\n",
       "      <td>2016-03-27</td>\n",
       "      <td>1</td>\n",
       "      <td>30</td>\n",
       "      <td>259.0</td>\n",
       "      <td>279.72</td>\n",
       "    </tr>\n",
       "    <tr>\n",
       "      <th>2</th>\n",
       "      <td>3</td>\n",
       "      <td>3</td>\n",
       "      <td>PH</td>\n",
       "      <td>DS</td>\n",
       "      <td>Tendon</td>\n",
       "      <td>TBI-2</td>\n",
       "      <td>00+04.39</td>\n",
       "      <td>110.0</td>\n",
       "      <td>2016-03-30</td>\n",
       "      <td>1</td>\n",
       "      <td>30</td>\n",
       "      <td>170.0</td>\n",
       "      <td>183.60</td>\n",
       "    </tr>\n",
       "    <tr>\n",
       "      <th>3</th>\n",
       "      <td>4</td>\n",
       "      <td>4</td>\n",
       "      <td>PH</td>\n",
       "      <td>DS</td>\n",
       "      <td>Tendon</td>\n",
       "      <td>TBM-2</td>\n",
       "      <td>00+04.50</td>\n",
       "      <td>110.0</td>\n",
       "      <td>2016-05-24</td>\n",
       "      <td>1</td>\n",
       "      <td>30</td>\n",
       "      <td>270.0</td>\n",
       "      <td>291.60</td>\n",
       "    </tr>\n",
       "    <tr>\n",
       "      <th>4</th>\n",
       "      <td>5</td>\n",
       "      <td>5</td>\n",
       "      <td>PH</td>\n",
       "      <td>DS</td>\n",
       "      <td>Tendon</td>\n",
       "      <td>TBE-2</td>\n",
       "      <td>00+04.50</td>\n",
       "      <td>110.0</td>\n",
       "      <td>2016-05-18</td>\n",
       "      <td>1</td>\n",
       "      <td>30</td>\n",
       "      <td>190.0</td>\n",
       "      <td>205.20</td>\n",
       "    </tr>\n",
       "  </tbody>\n",
       "</table>\n",
       "</div>"
      ],
      "text/plain": [
       "   Nr  Record Opening Location    Type   Hole  Chainage  Diameter       Date  \\\n",
       "0   1       1      PH       DS  Tendon  TBF-1  00+02.00     110.0 2016-05-08   \n",
       "1   2       2      PH       DS  Tendon  TBK-2  00+02.92     110.0 2016-03-27   \n",
       "2   3       3      PH       DS  Tendon  TBI-2  00+04.39     110.0 2016-03-30   \n",
       "3   4       4      PH       DS  Tendon  TBM-2  00+04.50     110.0 2016-05-24   \n",
       "4   5       5      PH       DS  Tendon  TBE-2  00+04.50     110.0 2016-05-18   \n",
       "\n",
       "   Stage  Depth  Grout  Cement  \n",
       "0      1     30  189.0  204.12  \n",
       "1      1     30  259.0  279.72  \n",
       "2      1     30  170.0  183.60  \n",
       "3      1     30  270.0  291.60  \n",
       "4      1     30  190.0  205.20  "
      ]
     },
     "execution_count": 6,
     "metadata": {},
     "output_type": "execute_result"
    }
   ],
   "source": [
    "#data_df\n",
    "data_df.head()"
   ]
  },
  {
   "cell_type": "code",
   "execution_count": 7,
   "metadata": {
    "collapsed": true
   },
   "outputs": [],
   "source": [
    "import sys\n",
    "reload(sys)\n",
    "sys.setdefaultencoding('utf8')"
   ]
  },
  {
   "cell_type": "code",
   "execution_count": null,
   "metadata": {
    "pixiedust": {
     "displayParams": {
      "binsize": "63",
      "chartsize": "100",
      "charttype": "grouped",
      "clusterby": "Hole",
      "filter": "{}",
      "handlerId": "barChart",
      "keyFields": "Chainage",
      "mpld3": "false",
      "no_margin": "true",
      "orientation": "vertical",
      "rowCount": "3000",
      "stretch": "true",
      "title": "Test",
      "valueFields": "Grout"
     }
    }
   },
   "outputs": [
    {
     "data": {
      "text/html": [
       "<style type=\"text/css\">.pd_warning{display:none;}</style><div class=\"pd_warning\"><em>Hey, there's something awesome here! To see it, open this notebook outside GitHub, in a viewer like Jupyter</em></div>"
      ],
      "text/plain": [
       "<IPython.core.display.HTML object>"
      ]
     },
     "metadata": {
      "pixieapp_metadata": null
     },
     "output_type": "display_data"
    }
   ],
   "source": [
    "display(data_df)  #pixiedustinspections = pixiedust.sampleData display"
   ]
  }
 ],
 "metadata": {
  "kernelspec": {
   "display_name": "Python 2",
   "language": "python",
   "name": "python2"
  },
  "language_info": {
   "codemirror_mode": {
    "name": "ipython",
    "version": 2
   },
   "file_extension": ".py",
   "mimetype": "text/x-python",
   "name": "python",
   "nbconvert_exporter": "python",
   "pygments_lexer": "ipython2",
   "version": "2.7.12"
  }
 },
 "nbformat": 4,
 "nbformat_minor": 2
}
