{
 "cells": [
  {
   "cell_type": "code",
   "execution_count": 1,
   "metadata": {
    "collapsed": true
   },
   "outputs": [],
   "source": [
    "# import libraries\n",
    "#from numpy import *\n",
    "import numpy as np\n",
    "import pandas as pd\n",
    "import matplotlib.pyplot as plt"
   ]
  },
  {
   "cell_type": "code",
   "execution_count": 2,
   "metadata": {},
   "outputs": [
    {
     "data": {
      "text/html": [
       "<script>requirejs.config({paths: { 'plotly': ['https://cdn.plot.ly/plotly-latest.min']},});if(!window.Plotly) {{require(['plotly'],function(plotly) {window.Plotly=plotly;});}}</script>"
      ],
      "text/vnd.plotly.v1+html": [
       "<script>requirejs.config({paths: { 'plotly': ['https://cdn.plot.ly/plotly-latest.min']},});if(!window.Plotly) {{require(['plotly'],function(plotly) {window.Plotly=plotly;});}}</script>"
      ]
     },
     "metadata": {},
     "output_type": "display_data"
    },
    {
     "name": "stdout",
     "output_type": "stream",
     "text": [
      "2.2.1\n"
     ]
    }
   ],
   "source": [
    "# set up plotly in 'offline' mode\n",
    "# this should be documented\n",
    "\n",
    "from plotly import __version__\n",
    "from plotly.offline import download_plotlyjs, init_notebook_mode, plot,iplot\n",
    "import plotly.graph_objs as go\n",
    "init_notebook_mode(connected=True)\n",
    "print (__version__) # requires version >= 1.9.0"
   ]
  },
  {
   "cell_type": "code",
   "execution_count": 3,
   "metadata": {
    "collapsed": true
   },
   "outputs": [],
   "source": [
    "# collect all plotly setups here\n",
    "\n",
    "import plotly.offline as plotly  #testing\n",
    "\n",
    "from plotly.graph_objs import *  #testing\n"
   ]
  },
  {
   "cell_type": "code",
   "execution_count": 4,
   "metadata": {},
   "outputs": [
    {
     "data": {
      "application/vnd.plotly.v1+json": {
       "data": [
        {
         "type": "scatter",
         "x": [
          2,
          5,
          8,
          0,
          2,
          -8,
          4,
          3,
          1
         ],
         "y": [
          2,
          5,
          8,
          0,
          2,
          -8,
          4,
          3,
          1
         ]
        }
       ],
       "layout": {
        "height": 500,
        "title": "Offline Plotly Testing",
        "width": 800,
        "xaxis": {
         "title": "X-axis"
        },
        "yaxis": {
         "title": "Y-axis"
        }
       }
      },
      "text/html": [
       "<div id=\"287cb1d9-5caf-4b36-8d1d-f6d2664ed4f8\" style=\"height: 500px; width: 800px;\" class=\"plotly-graph-div\"></div><script type=\"text/javascript\">require([\"plotly\"], function(Plotly) { window.PLOTLYENV=window.PLOTLYENV || {};window.PLOTLYENV.BASE_URL=\"https://plot.ly\";Plotly.newPlot(\"287cb1d9-5caf-4b36-8d1d-f6d2664ed4f8\", [{\"y\": [2, 5, 8, 0, 2, -8, 4, 3, 1], \"x\": [2, 5, 8, 0, 2, -8, 4, 3, 1], \"type\": \"scatter\"}], {\"height\": 500, \"width\": 800, \"title\": \"Offline Plotly Testing\", \"xaxis\": {\"title\": \"X-axis\"}, \"yaxis\": {\"title\": \"Y-axis\"}}, {\"linkText\": \"Export to plot.ly\", \"showLink\": true})});</script>"
      ],
      "text/vnd.plotly.v1+html": [
       "<div id=\"287cb1d9-5caf-4b36-8d1d-f6d2664ed4f8\" style=\"height: 500px; width: 800px;\" class=\"plotly-graph-div\"></div><script type=\"text/javascript\">require([\"plotly\"], function(Plotly) { window.PLOTLYENV=window.PLOTLYENV || {};window.PLOTLYENV.BASE_URL=\"https://plot.ly\";Plotly.newPlot(\"287cb1d9-5caf-4b36-8d1d-f6d2664ed4f8\", [{\"y\": [2, 5, 8, 0, 2, -8, 4, 3, 1], \"x\": [2, 5, 8, 0, 2, -8, 4, 3, 1], \"type\": \"scatter\"}], {\"height\": 500, \"width\": 800, \"title\": \"Offline Plotly Testing\", \"xaxis\": {\"title\": \"X-axis\"}, \"yaxis\": {\"title\": \"Y-axis\"}}, {\"linkText\": \"Export to plot.ly\", \"showLink\": true})});</script>"
      ]
     },
     "metadata": {},
     "output_type": "display_data"
    }
   ],
   "source": [
    "# quick line plot example\n",
    "\n",
    "x=np.array([2,5,8,0,2,-8,4,3,1])\n",
    "y=np.array([2,5,8,0,2,-8,4,3,1])\n",
    "\n",
    "data = [go.Scatter(x=x,y=y)]\n",
    "fig = go.Figure(data = data,layout = go.Layout(title='Offline Plotly Testing',width = 800,height = 500,\n",
    "                                           xaxis = dict(title = 'X-axis'), yaxis = dict(title = 'Y-axis')))\n",
    "\n",
    "#plotly.offline.iplot(data)\n",
    "plotly.offline.iplot(fig)"
   ]
  },
  {
   "cell_type": "code",
   "execution_count": 5,
   "metadata": {},
   "outputs": [
    {
     "data": {
      "application/vnd.plotly.v1+json": {
       "data": [
        {
         "marker": {
          "color": "red",
          "size": "10",
          "symbol": 104
         },
         "mode": "markers+lines",
         "name": "1st Trace",
         "text": [
          "one",
          "two",
          "three"
         ],
         "type": "scatter",
         "x": [
          1,
          2,
          3
         ],
         "y": [
          4,
          5,
          6
         ]
        }
       ],
       "layout": {
        "title": "First Plot",
        "xaxis": {
         "title": "x1"
        },
        "yaxis": {
         "title": "x2"
        }
       }
      },
      "text/html": [
       "<div id=\"8ff00803-32de-4bb6-91ed-042bfaf0195b\" style=\"height: 525px; width: 100%;\" class=\"plotly-graph-div\"></div><script type=\"text/javascript\">require([\"plotly\"], function(Plotly) { window.PLOTLYENV=window.PLOTLYENV || {};window.PLOTLYENV.BASE_URL=\"https://plot.ly\";Plotly.newPlot(\"8ff00803-32de-4bb6-91ed-042bfaf0195b\", [{\"name\": \"1st Trace\", \"text\": [\"one\", \"two\", \"three\"], \"marker\": {\"color\": \"red\", \"symbol\": 104, \"size\": \"10\"}, \"mode\": \"markers+lines\", \"y\": [4, 5, 6], \"x\": [1, 2, 3], \"type\": \"scatter\"}], {\"title\": \"First Plot\", \"xaxis\": {\"title\": \"x1\"}, \"yaxis\": {\"title\": \"x2\"}}, {\"linkText\": \"Export to plot.ly\", \"showLink\": true})});</script>"
      ],
      "text/vnd.plotly.v1+html": [
       "<div id=\"8ff00803-32de-4bb6-91ed-042bfaf0195b\" style=\"height: 525px; width: 100%;\" class=\"plotly-graph-div\"></div><script type=\"text/javascript\">require([\"plotly\"], function(Plotly) { window.PLOTLYENV=window.PLOTLYENV || {};window.PLOTLYENV.BASE_URL=\"https://plot.ly\";Plotly.newPlot(\"8ff00803-32de-4bb6-91ed-042bfaf0195b\", [{\"name\": \"1st Trace\", \"text\": [\"one\", \"two\", \"three\"], \"marker\": {\"color\": \"red\", \"symbol\": 104, \"size\": \"10\"}, \"mode\": \"markers+lines\", \"y\": [4, 5, 6], \"x\": [1, 2, 3], \"type\": \"scatter\"}], {\"title\": \"First Plot\", \"xaxis\": {\"title\": \"x1\"}, \"yaxis\": {\"title\": \"x2\"}}, {\"linkText\": \"Export to plot.ly\", \"showLink\": true})});</script>"
      ]
     },
     "metadata": {},
     "output_type": "display_data"
    }
   ],
   "source": [
    "# another line plot example\n",
    "\n",
    "trace1 = go.Scatter(x=[1,2,3], y=[4,5,6], marker={'color': 'red', 'symbol': 104, 'size': \"10\"}, \n",
    "                    mode=\"markers+lines\",  text=[\"one\",\"two\",\"three\"], name='1st Trace')\n",
    "                                               \n",
    "data=go.Data([trace1])\n",
    "layout=go.Layout(title=\"First Plot\", xaxis={'title':'x1'}, yaxis={'title':'x2'})\n",
    "figure=go.Figure(data=data,layout=layout)\n",
    "plotly.offline.iplot(figure, filename='pyguide_1')"
   ]
  },
  {
   "cell_type": "code",
   "execution_count": 6,
   "metadata": {},
   "outputs": [
    {
     "data": {
      "application/vnd.plotly.v1+json": {
       "data": [
        {
         "type": "scatter",
         "x": [
          1,
          2,
          3,
          4
         ],
         "y": [
          10,
          15,
          13,
          17
         ]
        },
        {
         "type": "scatter",
         "x": [
          1,
          2,
          3,
          4
         ],
         "y": [
          16,
          5,
          11,
          9
         ]
        }
       ],
       "layout": {}
      },
      "text/html": [
       "<div id=\"9f35434b-6911-4a5f-b04e-11ab3a08307d\" style=\"height: 525px; width: 100%;\" class=\"plotly-graph-div\"></div><script type=\"text/javascript\">require([\"plotly\"], function(Plotly) { window.PLOTLYENV=window.PLOTLYENV || {};window.PLOTLYENV.BASE_URL=\"https://plot.ly\";Plotly.newPlot(\"9f35434b-6911-4a5f-b04e-11ab3a08307d\", [{\"y\": [10, 15, 13, 17], \"x\": [1, 2, 3, 4], \"type\": \"scatter\"}, {\"y\": [16, 5, 11, 9], \"x\": [1, 2, 3, 4], \"type\": \"scatter\"}], {}, {\"linkText\": \"Export to plot.ly\", \"showLink\": true})});</script>"
      ],
      "text/vnd.plotly.v1+html": [
       "<div id=\"9f35434b-6911-4a5f-b04e-11ab3a08307d\" style=\"height: 525px; width: 100%;\" class=\"plotly-graph-div\"></div><script type=\"text/javascript\">require([\"plotly\"], function(Plotly) { window.PLOTLYENV=window.PLOTLYENV || {};window.PLOTLYENV.BASE_URL=\"https://plot.ly\";Plotly.newPlot(\"9f35434b-6911-4a5f-b04e-11ab3a08307d\", [{\"y\": [10, 15, 13, 17], \"x\": [1, 2, 3, 4], \"type\": \"scatter\"}, {\"y\": [16, 5, 11, 9], \"x\": [1, 2, 3, 4], \"type\": \"scatter\"}], {}, {\"linkText\": \"Export to plot.ly\", \"showLink\": true})});</script>"
      ]
     },
     "metadata": {},
     "output_type": "display_data"
    }
   ],
   "source": [
    "# plotly scatterplot examples\n",
    "\n",
    "trace0 = Scatter(\n",
    "    x=[1, 2, 3, 4],\n",
    "    y=[10, 15, 13, 17]\n",
    ")\n",
    "trace1 = Scatter(\n",
    "    x=[1, 2, 3, 4],\n",
    "    y=[16, 5, 11, 9]\n",
    ")\n",
    "data = Data([trace0, trace1])\n",
    "\n",
    "plotly.offline.iplot(data)"
   ]
  },
  {
   "cell_type": "code",
   "execution_count": 7,
   "metadata": {},
   "outputs": [
    {
     "data": {
      "application/vnd.plotly.v1+json": {
       "data": [
        {
         "colorscale": [
          [
           0,
           "#00083e"
          ],
          [
           0.5,
           "#ededee"
          ],
          [
           1,
           "#ffffff"
          ]
         ],
         "hoverinfo": "none",
         "opacity": 0.75,
         "showscale": false,
         "type": "heatmap",
         "z": [
          [
           0,
           0,
           0,
           0
          ],
          [
           0.5,
           0.5,
           0.5,
           0.5
          ],
          [
           1,
           1,
           1,
           1
          ],
          [
           0.5,
           0.5,
           0.5,
           0.5
          ],
          [
           1,
           1,
           1,
           1
          ],
          [
           0.5,
           0.5,
           0.5,
           0.5
          ],
          [
           1,
           1,
           1,
           1
          ],
          [
           0.5,
           0.5,
           0.5,
           0.5
          ],
          [
           1,
           1,
           1,
           1
          ],
          [
           0.5,
           0.5,
           0.5,
           0.5
          ],
          [
           1,
           1,
           1,
           1
          ],
          [
           0.5,
           0.5,
           0.5,
           0.5
          ],
          [
           1,
           1,
           1,
           1
          ],
          [
           0.5,
           0.5,
           0.5,
           0.5
          ],
          [
           1,
           1,
           1,
           1
          ],
          [
           0.5,
           0.5,
           0.5,
           0.5
          ],
          [
           1,
           1,
           1,
           1
          ],
          [
           0.5,
           0.5,
           0.5,
           0.5
          ],
          [
           1,
           1,
           1,
           1
          ],
          [
           0.5,
           0.5,
           0.5,
           0.5
          ],
          [
           1,
           1,
           1,
           1
          ],
          [
           0.5,
           0.5,
           0.5,
           0.5
          ]
         ]
        }
       ],
       "layout": {
        "annotations": [
         {
          "align": "left",
          "font": {
           "color": "#ffffff"
          },
          "showarrow": false,
          "text": "<b>School</b>",
          "x": -0.45,
          "xanchor": "left",
          "xref": "x1",
          "y": 0,
          "yref": "y1"
         },
         {
          "align": "left",
          "font": {
           "color": "#ffffff"
          },
          "showarrow": false,
          "text": "<b>Women</b>",
          "x": 0.55,
          "xanchor": "left",
          "xref": "x1",
          "y": 0,
          "yref": "y1"
         },
         {
          "align": "left",
          "font": {
           "color": "#ffffff"
          },
          "showarrow": false,
          "text": "<b>Men</b>",
          "x": 1.55,
          "xanchor": "left",
          "xref": "x1",
          "y": 0,
          "yref": "y1"
         },
         {
          "align": "left",
          "font": {
           "color": "#ffffff"
          },
          "showarrow": false,
          "text": "<b>Gap</b>",
          "x": 2.55,
          "xanchor": "left",
          "xref": "x1",
          "y": 0,
          "yref": "y1"
         },
         {
          "align": "left",
          "font": {
           "color": "#000000"
          },
          "showarrow": false,
          "text": "MIT",
          "x": -0.45,
          "xanchor": "left",
          "xref": "x1",
          "y": 1,
          "yref": "y1"
         },
         {
          "align": "left",
          "font": {
           "color": "#000000"
          },
          "showarrow": false,
          "text": "94",
          "x": 0.55,
          "xanchor": "left",
          "xref": "x1",
          "y": 1,
          "yref": "y1"
         },
         {
          "align": "left",
          "font": {
           "color": "#000000"
          },
          "showarrow": false,
          "text": "152",
          "x": 1.55,
          "xanchor": "left",
          "xref": "x1",
          "y": 1,
          "yref": "y1"
         },
         {
          "align": "left",
          "font": {
           "color": "#000000"
          },
          "showarrow": false,
          "text": "58",
          "x": 2.55,
          "xanchor": "left",
          "xref": "x1",
          "y": 1,
          "yref": "y1"
         },
         {
          "align": "left",
          "font": {
           "color": "#000000"
          },
          "showarrow": false,
          "text": "Stanford",
          "x": -0.45,
          "xanchor": "left",
          "xref": "x1",
          "y": 2,
          "yref": "y1"
         },
         {
          "align": "left",
          "font": {
           "color": "#000000"
          },
          "showarrow": false,
          "text": "96",
          "x": 0.55,
          "xanchor": "left",
          "xref": "x1",
          "y": 2,
          "yref": "y1"
         },
         {
          "align": "left",
          "font": {
           "color": "#000000"
          },
          "showarrow": false,
          "text": "151",
          "x": 1.55,
          "xanchor": "left",
          "xref": "x1",
          "y": 2,
          "yref": "y1"
         },
         {
          "align": "left",
          "font": {
           "color": "#000000"
          },
          "showarrow": false,
          "text": "55",
          "x": 2.55,
          "xanchor": "left",
          "xref": "x1",
          "y": 2,
          "yref": "y1"
         },
         {
          "align": "left",
          "font": {
           "color": "#000000"
          },
          "showarrow": false,
          "text": "Harvard",
          "x": -0.45,
          "xanchor": "left",
          "xref": "x1",
          "y": 3,
          "yref": "y1"
         },
         {
          "align": "left",
          "font": {
           "color": "#000000"
          },
          "showarrow": false,
          "text": "112",
          "x": 0.55,
          "xanchor": "left",
          "xref": "x1",
          "y": 3,
          "yref": "y1"
         },
         {
          "align": "left",
          "font": {
           "color": "#000000"
          },
          "showarrow": false,
          "text": "165",
          "x": 1.55,
          "xanchor": "left",
          "xref": "x1",
          "y": 3,
          "yref": "y1"
         },
         {
          "align": "left",
          "font": {
           "color": "#000000"
          },
          "showarrow": false,
          "text": "53",
          "x": 2.55,
          "xanchor": "left",
          "xref": "x1",
          "y": 3,
          "yref": "y1"
         },
         {
          "align": "left",
          "font": {
           "color": "#000000"
          },
          "showarrow": false,
          "text": "U.Penn",
          "x": -0.45,
          "xanchor": "left",
          "xref": "x1",
          "y": 4,
          "yref": "y1"
         },
         {
          "align": "left",
          "font": {
           "color": "#000000"
          },
          "showarrow": false,
          "text": "92",
          "x": 0.55,
          "xanchor": "left",
          "xref": "x1",
          "y": 4,
          "yref": "y1"
         },
         {
          "align": "left",
          "font": {
           "color": "#000000"
          },
          "showarrow": false,
          "text": "141",
          "x": 1.55,
          "xanchor": "left",
          "xref": "x1",
          "y": 4,
          "yref": "y1"
         },
         {
          "align": "left",
          "font": {
           "color": "#000000"
          },
          "showarrow": false,
          "text": "49",
          "x": 2.55,
          "xanchor": "left",
          "xref": "x1",
          "y": 4,
          "yref": "y1"
         },
         {
          "align": "left",
          "font": {
           "color": "#000000"
          },
          "showarrow": false,
          "text": "Princeton",
          "x": -0.45,
          "xanchor": "left",
          "xref": "x1",
          "y": 5,
          "yref": "y1"
         },
         {
          "align": "left",
          "font": {
           "color": "#000000"
          },
          "showarrow": false,
          "text": "90",
          "x": 0.55,
          "xanchor": "left",
          "xref": "x1",
          "y": 5,
          "yref": "y1"
         },
         {
          "align": "left",
          "font": {
           "color": "#000000"
          },
          "showarrow": false,
          "text": "137",
          "x": 1.55,
          "xanchor": "left",
          "xref": "x1",
          "y": 5,
          "yref": "y1"
         },
         {
          "align": "left",
          "font": {
           "color": "#000000"
          },
          "showarrow": false,
          "text": "47",
          "x": 2.55,
          "xanchor": "left",
          "xref": "x1",
          "y": 5,
          "yref": "y1"
         },
         {
          "align": "left",
          "font": {
           "color": "#000000"
          },
          "showarrow": false,
          "text": "Chicago",
          "x": -0.45,
          "xanchor": "left",
          "xref": "x1",
          "y": 6,
          "yref": "y1"
         },
         {
          "align": "left",
          "font": {
           "color": "#000000"
          },
          "showarrow": false,
          "text": "78",
          "x": 0.55,
          "xanchor": "left",
          "xref": "x1",
          "y": 6,
          "yref": "y1"
         },
         {
          "align": "left",
          "font": {
           "color": "#000000"
          },
          "showarrow": false,
          "text": "118",
          "x": 1.55,
          "xanchor": "left",
          "xref": "x1",
          "y": 6,
          "yref": "y1"
         },
         {
          "align": "left",
          "font": {
           "color": "#000000"
          },
          "showarrow": false,
          "text": "40",
          "x": 2.55,
          "xanchor": "left",
          "xref": "x1",
          "y": 6,
          "yref": "y1"
         },
         {
          "align": "left",
          "font": {
           "color": "#000000"
          },
          "showarrow": false,
          "text": "Georgetown",
          "x": -0.45,
          "xanchor": "left",
          "xref": "x1",
          "y": 7,
          "yref": "y1"
         },
         {
          "align": "left",
          "font": {
           "color": "#000000"
          },
          "showarrow": false,
          "text": "94",
          "x": 0.55,
          "xanchor": "left",
          "xref": "x1",
          "y": 7,
          "yref": "y1"
         },
         {
          "align": "left",
          "font": {
           "color": "#000000"
          },
          "showarrow": false,
          "text": "131",
          "x": 1.55,
          "xanchor": "left",
          "xref": "x1",
          "y": 7,
          "yref": "y1"
         },
         {
          "align": "left",
          "font": {
           "color": "#000000"
          },
          "showarrow": false,
          "text": "37",
          "x": 2.55,
          "xanchor": "left",
          "xref": "x1",
          "y": 7,
          "yref": "y1"
         },
         {
          "align": "left",
          "font": {
           "color": "#000000"
          },
          "showarrow": false,
          "text": "Tufts",
          "x": -0.45,
          "xanchor": "left",
          "xref": "x1",
          "y": 8,
          "yref": "y1"
         },
         {
          "align": "left",
          "font": {
           "color": "#000000"
          },
          "showarrow": false,
          "text": "76",
          "x": 0.55,
          "xanchor": "left",
          "xref": "x1",
          "y": 8,
          "yref": "y1"
         },
         {
          "align": "left",
          "font": {
           "color": "#000000"
          },
          "showarrow": false,
          "text": "112",
          "x": 1.55,
          "xanchor": "left",
          "xref": "x1",
          "y": 8,
          "yref": "y1"
         },
         {
          "align": "left",
          "font": {
           "color": "#000000"
          },
          "showarrow": false,
          "text": "36",
          "x": 2.55,
          "xanchor": "left",
          "xref": "x1",
          "y": 8,
          "yref": "y1"
         },
         {
          "align": "left",
          "font": {
           "color": "#000000"
          },
          "showarrow": false,
          "text": "Yale",
          "x": -0.45,
          "xanchor": "left",
          "xref": "x1",
          "y": 9,
          "yref": "y1"
         },
         {
          "align": "left",
          "font": {
           "color": "#000000"
          },
          "showarrow": false,
          "text": "79",
          "x": 0.55,
          "xanchor": "left",
          "xref": "x1",
          "y": 9,
          "yref": "y1"
         },
         {
          "align": "left",
          "font": {
           "color": "#000000"
          },
          "showarrow": false,
          "text": "114",
          "x": 1.55,
          "xanchor": "left",
          "xref": "x1",
          "y": 9,
          "yref": "y1"
         },
         {
          "align": "left",
          "font": {
           "color": "#000000"
          },
          "showarrow": false,
          "text": "35",
          "x": 2.55,
          "xanchor": "left",
          "xref": "x1",
          "y": 9,
          "yref": "y1"
         },
         {
          "align": "left",
          "font": {
           "color": "#000000"
          },
          "showarrow": false,
          "text": "Columbia",
          "x": -0.45,
          "xanchor": "left",
          "xref": "x1",
          "y": 10,
          "yref": "y1"
         },
         {
          "align": "left",
          "font": {
           "color": "#000000"
          },
          "showarrow": false,
          "text": "86",
          "x": 0.55,
          "xanchor": "left",
          "xref": "x1",
          "y": 10,
          "yref": "y1"
         },
         {
          "align": "left",
          "font": {
           "color": "#000000"
          },
          "showarrow": false,
          "text": "119",
          "x": 1.55,
          "xanchor": "left",
          "xref": "x1",
          "y": 10,
          "yref": "y1"
         },
         {
          "align": "left",
          "font": {
           "color": "#000000"
          },
          "showarrow": false,
          "text": "33",
          "x": 2.55,
          "xanchor": "left",
          "xref": "x1",
          "y": 10,
          "yref": "y1"
         },
         {
          "align": "left",
          "font": {
           "color": "#000000"
          },
          "showarrow": false,
          "text": "Duke",
          "x": -0.45,
          "xanchor": "left",
          "xref": "x1",
          "y": 11,
          "yref": "y1"
         },
         {
          "align": "left",
          "font": {
           "color": "#000000"
          },
          "showarrow": false,
          "text": "93",
          "x": 0.55,
          "xanchor": "left",
          "xref": "x1",
          "y": 11,
          "yref": "y1"
         },
         {
          "align": "left",
          "font": {
           "color": "#000000"
          },
          "showarrow": false,
          "text": "124",
          "x": 1.55,
          "xanchor": "left",
          "xref": "x1",
          "y": 11,
          "yref": "y1"
         },
         {
          "align": "left",
          "font": {
           "color": "#000000"
          },
          "showarrow": false,
          "text": "31",
          "x": 2.55,
          "xanchor": "left",
          "xref": "x1",
          "y": 11,
          "yref": "y1"
         },
         {
          "align": "left",
          "font": {
           "color": "#000000"
          },
          "showarrow": false,
          "text": "Dartmouth",
          "x": -0.45,
          "xanchor": "left",
          "xref": "x1",
          "y": 12,
          "yref": "y1"
         },
         {
          "align": "left",
          "font": {
           "color": "#000000"
          },
          "showarrow": false,
          "text": "84",
          "x": 0.55,
          "xanchor": "left",
          "xref": "x1",
          "y": 12,
          "yref": "y1"
         },
         {
          "align": "left",
          "font": {
           "color": "#000000"
          },
          "showarrow": false,
          "text": "114",
          "x": 1.55,
          "xanchor": "left",
          "xref": "x1",
          "y": 12,
          "yref": "y1"
         },
         {
          "align": "left",
          "font": {
           "color": "#000000"
          },
          "showarrow": false,
          "text": "30",
          "x": 2.55,
          "xanchor": "left",
          "xref": "x1",
          "y": 12,
          "yref": "y1"
         },
         {
          "align": "left",
          "font": {
           "color": "#000000"
          },
          "showarrow": false,
          "text": "NYU",
          "x": -0.45,
          "xanchor": "left",
          "xref": "x1",
          "y": 13,
          "yref": "y1"
         },
         {
          "align": "left",
          "font": {
           "color": "#000000"
          },
          "showarrow": false,
          "text": "67",
          "x": 0.55,
          "xanchor": "left",
          "xref": "x1",
          "y": 13,
          "yref": "y1"
         },
         {
          "align": "left",
          "font": {
           "color": "#000000"
          },
          "showarrow": false,
          "text": "94",
          "x": 1.55,
          "xanchor": "left",
          "xref": "x1",
          "y": 13,
          "yref": "y1"
         },
         {
          "align": "left",
          "font": {
           "color": "#000000"
          },
          "showarrow": false,
          "text": "27",
          "x": 2.55,
          "xanchor": "left",
          "xref": "x1",
          "y": 13,
          "yref": "y1"
         },
         {
          "align": "left",
          "font": {
           "color": "#000000"
          },
          "showarrow": false,
          "text": "Notre Dame",
          "x": -0.45,
          "xanchor": "left",
          "xref": "x1",
          "y": 14,
          "yref": "y1"
         },
         {
          "align": "left",
          "font": {
           "color": "#000000"
          },
          "showarrow": false,
          "text": "73",
          "x": 0.55,
          "xanchor": "left",
          "xref": "x1",
          "y": 14,
          "yref": "y1"
         },
         {
          "align": "left",
          "font": {
           "color": "#000000"
          },
          "showarrow": false,
          "text": "100",
          "x": 1.55,
          "xanchor": "left",
          "xref": "x1",
          "y": 14,
          "yref": "y1"
         },
         {
          "align": "left",
          "font": {
           "color": "#000000"
          },
          "showarrow": false,
          "text": "27",
          "x": 2.55,
          "xanchor": "left",
          "xref": "x1",
          "y": 14,
          "yref": "y1"
         },
         {
          "align": "left",
          "font": {
           "color": "#000000"
          },
          "showarrow": false,
          "text": "Cornell",
          "x": -0.45,
          "xanchor": "left",
          "xref": "x1",
          "y": 15,
          "yref": "y1"
         },
         {
          "align": "left",
          "font": {
           "color": "#000000"
          },
          "showarrow": false,
          "text": "80",
          "x": 0.55,
          "xanchor": "left",
          "xref": "x1",
          "y": 15,
          "yref": "y1"
         },
         {
          "align": "left",
          "font": {
           "color": "#000000"
          },
          "showarrow": false,
          "text": "107",
          "x": 1.55,
          "xanchor": "left",
          "xref": "x1",
          "y": 15,
          "yref": "y1"
         },
         {
          "align": "left",
          "font": {
           "color": "#000000"
          },
          "showarrow": false,
          "text": "27",
          "x": 2.55,
          "xanchor": "left",
          "xref": "x1",
          "y": 15,
          "yref": "y1"
         },
         {
          "align": "left",
          "font": {
           "color": "#000000"
          },
          "showarrow": false,
          "text": "Michigan",
          "x": -0.45,
          "xanchor": "left",
          "xref": "x1",
          "y": 16,
          "yref": "y1"
         },
         {
          "align": "left",
          "font": {
           "color": "#000000"
          },
          "showarrow": false,
          "text": "62",
          "x": 0.55,
          "xanchor": "left",
          "xref": "x1",
          "y": 16,
          "yref": "y1"
         },
         {
          "align": "left",
          "font": {
           "color": "#000000"
          },
          "showarrow": false,
          "text": "84",
          "x": 1.55,
          "xanchor": "left",
          "xref": "x1",
          "y": 16,
          "yref": "y1"
         },
         {
          "align": "left",
          "font": {
           "color": "#000000"
          },
          "showarrow": false,
          "text": "22",
          "x": 2.55,
          "xanchor": "left",
          "xref": "x1",
          "y": 16,
          "yref": "y1"
         },
         {
          "align": "left",
          "font": {
           "color": "#000000"
          },
          "showarrow": false,
          "text": "Brown",
          "x": -0.45,
          "xanchor": "left",
          "xref": "x1",
          "y": 17,
          "yref": "y1"
         },
         {
          "align": "left",
          "font": {
           "color": "#000000"
          },
          "showarrow": false,
          "text": "72",
          "x": 0.55,
          "xanchor": "left",
          "xref": "x1",
          "y": 17,
          "yref": "y1"
         },
         {
          "align": "left",
          "font": {
           "color": "#000000"
          },
          "showarrow": false,
          "text": "92",
          "x": 1.55,
          "xanchor": "left",
          "xref": "x1",
          "y": 17,
          "yref": "y1"
         },
         {
          "align": "left",
          "font": {
           "color": "#000000"
          },
          "showarrow": false,
          "text": "20",
          "x": 2.55,
          "xanchor": "left",
          "xref": "x1",
          "y": 17,
          "yref": "y1"
         },
         {
          "align": "left",
          "font": {
           "color": "#000000"
          },
          "showarrow": false,
          "text": "Berkeley",
          "x": -0.45,
          "xanchor": "left",
          "xref": "x1",
          "y": 18,
          "yref": "y1"
         },
         {
          "align": "left",
          "font": {
           "color": "#000000"
          },
          "showarrow": false,
          "text": "71",
          "x": 0.55,
          "xanchor": "left",
          "xref": "x1",
          "y": 18,
          "yref": "y1"
         },
         {
          "align": "left",
          "font": {
           "color": "#000000"
          },
          "showarrow": false,
          "text": "88",
          "x": 1.55,
          "xanchor": "left",
          "xref": "x1",
          "y": 18,
          "yref": "y1"
         },
         {
          "align": "left",
          "font": {
           "color": "#000000"
          },
          "showarrow": false,
          "text": "17",
          "x": 2.55,
          "xanchor": "left",
          "xref": "x1",
          "y": 18,
          "yref": "y1"
         },
         {
          "align": "left",
          "font": {
           "color": "#000000"
          },
          "showarrow": false,
          "text": "Emory",
          "x": -0.45,
          "xanchor": "left",
          "xref": "x1",
          "y": 19,
          "yref": "y1"
         },
         {
          "align": "left",
          "font": {
           "color": "#000000"
          },
          "showarrow": false,
          "text": "68",
          "x": 0.55,
          "xanchor": "left",
          "xref": "x1",
          "y": 19,
          "yref": "y1"
         },
         {
          "align": "left",
          "font": {
           "color": "#000000"
          },
          "showarrow": false,
          "text": "82",
          "x": 1.55,
          "xanchor": "left",
          "xref": "x1",
          "y": 19,
          "yref": "y1"
         },
         {
          "align": "left",
          "font": {
           "color": "#000000"
          },
          "showarrow": false,
          "text": "14",
          "x": 2.55,
          "xanchor": "left",
          "xref": "x1",
          "y": 19,
          "yref": "y1"
         },
         {
          "align": "left",
          "font": {
           "color": "#000000"
          },
          "showarrow": false,
          "text": "UCLA",
          "x": -0.45,
          "xanchor": "left",
          "xref": "x1",
          "y": 20,
          "yref": "y1"
         },
         {
          "align": "left",
          "font": {
           "color": "#000000"
          },
          "showarrow": false,
          "text": "64",
          "x": 0.55,
          "xanchor": "left",
          "xref": "x1",
          "y": 20,
          "yref": "y1"
         },
         {
          "align": "left",
          "font": {
           "color": "#000000"
          },
          "showarrow": false,
          "text": "78",
          "x": 1.55,
          "xanchor": "left",
          "xref": "x1",
          "y": 20,
          "yref": "y1"
         },
         {
          "align": "left",
          "font": {
           "color": "#000000"
          },
          "showarrow": false,
          "text": "14",
          "x": 2.55,
          "xanchor": "left",
          "xref": "x1",
          "y": 20,
          "yref": "y1"
         },
         {
          "align": "left",
          "font": {
           "color": "#000000"
          },
          "showarrow": false,
          "text": "SoCal",
          "x": -0.45,
          "xanchor": "left",
          "xref": "x1",
          "y": 21,
          "yref": "y1"
         },
         {
          "align": "left",
          "font": {
           "color": "#000000"
          },
          "showarrow": false,
          "text": "72",
          "x": 0.55,
          "xanchor": "left",
          "xref": "x1",
          "y": 21,
          "yref": "y1"
         },
         {
          "align": "left",
          "font": {
           "color": "#000000"
          },
          "showarrow": false,
          "text": "81",
          "x": 1.55,
          "xanchor": "left",
          "xref": "x1",
          "y": 21,
          "yref": "y1"
         },
         {
          "align": "left",
          "font": {
           "color": "#000000"
          },
          "showarrow": false,
          "text": "9",
          "x": 2.55,
          "xanchor": "left",
          "xref": "x1",
          "y": 21,
          "yref": "y1"
         }
        ],
        "height": 710,
        "margin": {
         "b": 0,
         "l": 0,
         "r": 0,
         "t": 0
        },
        "xaxis": {
         "dtick": 1,
         "gridwidth": 2,
         "showticklabels": false,
         "tick0": -0.5,
         "ticks": "",
         "zeroline": false
        },
        "yaxis": {
         "autorange": "reversed",
         "dtick": 1,
         "gridwidth": 2,
         "showticklabels": false,
         "tick0": 0.5,
         "ticks": "",
         "zeroline": false
        }
       }
      },
      "text/html": [
       "<div id=\"f483eba3-ec47-4c96-8c35-0ac1da647fa6\" style=\"height: 710px; width: 100%;\" class=\"plotly-graph-div\"></div><script type=\"text/javascript\">require([\"plotly\"], function(Plotly) { window.PLOTLYENV=window.PLOTLYENV || {};window.PLOTLYENV.BASE_URL=\"https://plot.ly\";Plotly.newPlot(\"f483eba3-ec47-4c96-8c35-0ac1da647fa6\", [{\"opacity\": 0.75, \"colorscale\": [[0, \"#00083e\"], [0.5, \"#ededee\"], [1, \"#ffffff\"]], \"showscale\": false, \"hoverinfo\": \"none\", \"z\": [[0, 0, 0, 0], [0.5, 0.5, 0.5, 0.5], [1, 1, 1, 1], [0.5, 0.5, 0.5, 0.5], [1, 1, 1, 1], [0.5, 0.5, 0.5, 0.5], [1, 1, 1, 1], [0.5, 0.5, 0.5, 0.5], [1, 1, 1, 1], [0.5, 0.5, 0.5, 0.5], [1, 1, 1, 1], [0.5, 0.5, 0.5, 0.5], [1, 1, 1, 1], [0.5, 0.5, 0.5, 0.5], [1, 1, 1, 1], [0.5, 0.5, 0.5, 0.5], [1, 1, 1, 1], [0.5, 0.5, 0.5, 0.5], [1, 1, 1, 1], [0.5, 0.5, 0.5, 0.5], [1, 1, 1, 1], [0.5, 0.5, 0.5, 0.5]], \"type\": \"heatmap\"}], {\"yaxis\": {\"showticklabels\": false, \"tick0\": 0.5, \"ticks\": \"\", \"gridwidth\": 2, \"dtick\": 1, \"zeroline\": false, \"autorange\": \"reversed\"}, \"margin\": {\"r\": 0, \"b\": 0, \"l\": 0, \"t\": 0}, \"annotations\": [{\"xref\": \"x1\", \"xanchor\": \"left\", \"yref\": \"y1\", \"text\": \"<b>School</b>\", \"align\": \"left\", \"y\": 0, \"x\": -0.45, \"font\": {\"color\": \"#ffffff\"}, \"showarrow\": false}, {\"xref\": \"x1\", \"xanchor\": \"left\", \"yref\": \"y1\", \"text\": \"<b>Women</b>\", \"align\": \"left\", \"y\": 0, \"x\": 0.55, \"font\": {\"color\": \"#ffffff\"}, \"showarrow\": false}, {\"xref\": \"x1\", \"xanchor\": \"left\", \"yref\": \"y1\", \"text\": \"<b>Men</b>\", \"align\": \"left\", \"y\": 0, \"x\": 1.55, \"font\": {\"color\": \"#ffffff\"}, \"showarrow\": false}, {\"xref\": \"x1\", \"xanchor\": \"left\", \"yref\": \"y1\", \"text\": \"<b>Gap</b>\", \"align\": \"left\", \"y\": 0, \"x\": 2.55, \"font\": {\"color\": \"#ffffff\"}, \"showarrow\": false}, {\"xref\": \"x1\", \"xanchor\": \"left\", \"yref\": \"y1\", \"text\": \"MIT\", \"align\": \"left\", \"y\": 1, \"x\": -0.45, \"font\": {\"color\": \"#000000\"}, \"showarrow\": false}, {\"xref\": \"x1\", \"xanchor\": \"left\", \"yref\": \"y1\", \"text\": \"94\", \"align\": \"left\", \"y\": 1, \"x\": 0.55, \"font\": {\"color\": \"#000000\"}, \"showarrow\": false}, {\"xref\": \"x1\", \"xanchor\": \"left\", \"yref\": \"y1\", \"text\": \"152\", \"align\": \"left\", \"y\": 1, \"x\": 1.55, \"font\": {\"color\": \"#000000\"}, \"showarrow\": false}, {\"xref\": \"x1\", \"xanchor\": \"left\", \"yref\": \"y1\", \"text\": \"58\", \"align\": \"left\", \"y\": 1, \"x\": 2.55, \"font\": {\"color\": \"#000000\"}, \"showarrow\": false}, {\"xref\": \"x1\", \"xanchor\": \"left\", \"yref\": \"y1\", \"text\": \"Stanford\", \"align\": \"left\", \"y\": 2, \"x\": -0.45, \"font\": {\"color\": \"#000000\"}, \"showarrow\": false}, {\"xref\": \"x1\", \"xanchor\": \"left\", \"yref\": \"y1\", \"text\": \"96\", \"align\": \"left\", \"y\": 2, \"x\": 0.55, \"font\": {\"color\": \"#000000\"}, \"showarrow\": false}, {\"xref\": \"x1\", \"xanchor\": \"left\", \"yref\": \"y1\", \"text\": \"151\", \"align\": \"left\", \"y\": 2, \"x\": 1.55, \"font\": {\"color\": \"#000000\"}, \"showarrow\": false}, {\"xref\": \"x1\", \"xanchor\": \"left\", \"yref\": \"y1\", \"text\": \"55\", \"align\": \"left\", \"y\": 2, \"x\": 2.55, \"font\": {\"color\": \"#000000\"}, \"showarrow\": false}, {\"xref\": \"x1\", \"xanchor\": \"left\", \"yref\": \"y1\", \"text\": \"Harvard\", \"align\": \"left\", \"y\": 3, \"x\": -0.45, \"font\": {\"color\": \"#000000\"}, \"showarrow\": false}, {\"xref\": \"x1\", \"xanchor\": \"left\", \"yref\": \"y1\", \"text\": \"112\", \"align\": \"left\", \"y\": 3, \"x\": 0.55, \"font\": {\"color\": \"#000000\"}, \"showarrow\": false}, {\"xref\": \"x1\", \"xanchor\": \"left\", \"yref\": \"y1\", \"text\": \"165\", \"align\": \"left\", \"y\": 3, \"x\": 1.55, \"font\": {\"color\": \"#000000\"}, \"showarrow\": false}, {\"xref\": \"x1\", \"xanchor\": \"left\", \"yref\": \"y1\", \"text\": \"53\", \"align\": \"left\", \"y\": 3, \"x\": 2.55, \"font\": {\"color\": \"#000000\"}, \"showarrow\": false}, {\"xref\": \"x1\", \"xanchor\": \"left\", \"yref\": \"y1\", \"text\": \"U.Penn\", \"align\": \"left\", \"y\": 4, \"x\": -0.45, \"font\": {\"color\": \"#000000\"}, \"showarrow\": false}, {\"xref\": \"x1\", \"xanchor\": \"left\", \"yref\": \"y1\", \"text\": \"92\", \"align\": \"left\", \"y\": 4, \"x\": 0.55, \"font\": {\"color\": \"#000000\"}, \"showarrow\": false}, {\"xref\": \"x1\", \"xanchor\": \"left\", \"yref\": \"y1\", \"text\": \"141\", \"align\": \"left\", \"y\": 4, \"x\": 1.55, \"font\": {\"color\": \"#000000\"}, \"showarrow\": false}, {\"xref\": \"x1\", \"xanchor\": \"left\", \"yref\": \"y1\", \"text\": \"49\", \"align\": \"left\", \"y\": 4, \"x\": 2.55, \"font\": {\"color\": \"#000000\"}, \"showarrow\": false}, {\"xref\": \"x1\", \"xanchor\": \"left\", \"yref\": \"y1\", \"text\": \"Princeton\", \"align\": \"left\", \"y\": 5, \"x\": -0.45, \"font\": {\"color\": \"#000000\"}, \"showarrow\": false}, {\"xref\": \"x1\", \"xanchor\": \"left\", \"yref\": \"y1\", \"text\": \"90\", \"align\": \"left\", \"y\": 5, \"x\": 0.55, \"font\": {\"color\": \"#000000\"}, \"showarrow\": false}, {\"xref\": \"x1\", \"xanchor\": \"left\", \"yref\": \"y1\", \"text\": \"137\", \"align\": \"left\", \"y\": 5, \"x\": 1.55, \"font\": {\"color\": \"#000000\"}, \"showarrow\": false}, {\"xref\": \"x1\", \"xanchor\": \"left\", \"yref\": \"y1\", \"text\": \"47\", \"align\": \"left\", \"y\": 5, \"x\": 2.55, \"font\": {\"color\": \"#000000\"}, \"showarrow\": false}, {\"xref\": \"x1\", \"xanchor\": \"left\", \"yref\": \"y1\", \"text\": \"Chicago\", \"align\": \"left\", \"y\": 6, \"x\": -0.45, \"font\": {\"color\": \"#000000\"}, \"showarrow\": false}, {\"xref\": \"x1\", \"xanchor\": \"left\", \"yref\": \"y1\", \"text\": \"78\", \"align\": \"left\", \"y\": 6, \"x\": 0.55, \"font\": {\"color\": \"#000000\"}, \"showarrow\": false}, {\"xref\": \"x1\", \"xanchor\": \"left\", \"yref\": \"y1\", \"text\": \"118\", \"align\": \"left\", \"y\": 6, \"x\": 1.55, \"font\": {\"color\": \"#000000\"}, \"showarrow\": false}, {\"xref\": \"x1\", \"xanchor\": \"left\", \"yref\": \"y1\", \"text\": \"40\", \"align\": \"left\", \"y\": 6, \"x\": 2.55, \"font\": {\"color\": \"#000000\"}, \"showarrow\": false}, {\"xref\": \"x1\", \"xanchor\": \"left\", \"yref\": \"y1\", \"text\": \"Georgetown\", \"align\": \"left\", \"y\": 7, \"x\": -0.45, \"font\": {\"color\": \"#000000\"}, \"showarrow\": false}, {\"xref\": \"x1\", \"xanchor\": \"left\", \"yref\": \"y1\", \"text\": \"94\", \"align\": \"left\", \"y\": 7, \"x\": 0.55, \"font\": {\"color\": \"#000000\"}, \"showarrow\": false}, {\"xref\": \"x1\", \"xanchor\": \"left\", \"yref\": \"y1\", \"text\": \"131\", \"align\": \"left\", \"y\": 7, \"x\": 1.55, \"font\": {\"color\": \"#000000\"}, \"showarrow\": false}, {\"xref\": \"x1\", \"xanchor\": \"left\", \"yref\": \"y1\", \"text\": \"37\", \"align\": \"left\", \"y\": 7, \"x\": 2.55, \"font\": {\"color\": \"#000000\"}, \"showarrow\": false}, {\"xref\": \"x1\", \"xanchor\": \"left\", \"yref\": \"y1\", \"text\": \"Tufts\", \"align\": \"left\", \"y\": 8, \"x\": -0.45, \"font\": {\"color\": \"#000000\"}, \"showarrow\": false}, {\"xref\": \"x1\", \"xanchor\": \"left\", \"yref\": \"y1\", \"text\": \"76\", \"align\": \"left\", \"y\": 8, \"x\": 0.55, \"font\": {\"color\": \"#000000\"}, \"showarrow\": false}, {\"xref\": \"x1\", \"xanchor\": \"left\", \"yref\": \"y1\", \"text\": \"112\", \"align\": \"left\", \"y\": 8, \"x\": 1.55, \"font\": {\"color\": \"#000000\"}, \"showarrow\": false}, {\"xref\": \"x1\", \"xanchor\": \"left\", \"yref\": \"y1\", \"text\": \"36\", \"align\": \"left\", \"y\": 8, \"x\": 2.55, \"font\": {\"color\": \"#000000\"}, \"showarrow\": false}, {\"xref\": \"x1\", \"xanchor\": \"left\", \"yref\": \"y1\", \"text\": \"Yale\", \"align\": \"left\", \"y\": 9, \"x\": -0.45, \"font\": {\"color\": \"#000000\"}, \"showarrow\": false}, {\"xref\": \"x1\", \"xanchor\": \"left\", \"yref\": \"y1\", \"text\": \"79\", \"align\": \"left\", \"y\": 9, \"x\": 0.55, \"font\": {\"color\": \"#000000\"}, \"showarrow\": false}, {\"xref\": \"x1\", \"xanchor\": \"left\", \"yref\": \"y1\", \"text\": \"114\", \"align\": \"left\", \"y\": 9, \"x\": 1.55, \"font\": {\"color\": \"#000000\"}, \"showarrow\": false}, {\"xref\": \"x1\", \"xanchor\": \"left\", \"yref\": \"y1\", \"text\": \"35\", \"align\": \"left\", \"y\": 9, \"x\": 2.55, \"font\": {\"color\": \"#000000\"}, \"showarrow\": false}, {\"xref\": \"x1\", \"xanchor\": \"left\", \"yref\": \"y1\", \"text\": \"Columbia\", \"align\": \"left\", \"y\": 10, \"x\": -0.45, \"font\": {\"color\": \"#000000\"}, \"showarrow\": false}, {\"xref\": \"x1\", \"xanchor\": \"left\", \"yref\": \"y1\", \"text\": \"86\", \"align\": \"left\", \"y\": 10, \"x\": 0.55, \"font\": {\"color\": \"#000000\"}, \"showarrow\": false}, {\"xref\": \"x1\", \"xanchor\": \"left\", \"yref\": \"y1\", \"text\": \"119\", \"align\": \"left\", \"y\": 10, \"x\": 1.55, \"font\": {\"color\": \"#000000\"}, \"showarrow\": false}, {\"xref\": \"x1\", \"xanchor\": \"left\", \"yref\": \"y1\", \"text\": \"33\", \"align\": \"left\", \"y\": 10, \"x\": 2.55, \"font\": {\"color\": \"#000000\"}, \"showarrow\": false}, {\"xref\": \"x1\", \"xanchor\": \"left\", \"yref\": \"y1\", \"text\": \"Duke\", \"align\": \"left\", \"y\": 11, \"x\": -0.45, \"font\": {\"color\": \"#000000\"}, \"showarrow\": false}, {\"xref\": \"x1\", \"xanchor\": \"left\", \"yref\": \"y1\", \"text\": \"93\", \"align\": \"left\", \"y\": 11, \"x\": 0.55, \"font\": {\"color\": \"#000000\"}, \"showarrow\": false}, {\"xref\": \"x1\", \"xanchor\": \"left\", \"yref\": \"y1\", \"text\": \"124\", \"align\": \"left\", \"y\": 11, \"x\": 1.55, \"font\": {\"color\": \"#000000\"}, \"showarrow\": false}, {\"xref\": \"x1\", \"xanchor\": \"left\", \"yref\": \"y1\", \"text\": \"31\", \"align\": \"left\", \"y\": 11, \"x\": 2.55, \"font\": {\"color\": \"#000000\"}, \"showarrow\": false}, {\"xref\": \"x1\", \"xanchor\": \"left\", \"yref\": \"y1\", \"text\": \"Dartmouth\", \"align\": \"left\", \"y\": 12, \"x\": -0.45, \"font\": {\"color\": \"#000000\"}, \"showarrow\": false}, {\"xref\": \"x1\", \"xanchor\": \"left\", \"yref\": \"y1\", \"text\": \"84\", \"align\": \"left\", \"y\": 12, \"x\": 0.55, \"font\": {\"color\": \"#000000\"}, \"showarrow\": false}, {\"xref\": \"x1\", \"xanchor\": \"left\", \"yref\": \"y1\", \"text\": \"114\", \"align\": \"left\", \"y\": 12, \"x\": 1.55, \"font\": {\"color\": \"#000000\"}, \"showarrow\": false}, {\"xref\": \"x1\", \"xanchor\": \"left\", \"yref\": \"y1\", \"text\": \"30\", \"align\": \"left\", \"y\": 12, \"x\": 2.55, \"font\": {\"color\": \"#000000\"}, \"showarrow\": false}, {\"xref\": \"x1\", \"xanchor\": \"left\", \"yref\": \"y1\", \"text\": \"NYU\", \"align\": \"left\", \"y\": 13, \"x\": -0.45, \"font\": {\"color\": \"#000000\"}, \"showarrow\": false}, {\"xref\": \"x1\", \"xanchor\": \"left\", \"yref\": \"y1\", \"text\": \"67\", \"align\": \"left\", \"y\": 13, \"x\": 0.55, \"font\": {\"color\": \"#000000\"}, \"showarrow\": false}, {\"xref\": \"x1\", \"xanchor\": \"left\", \"yref\": \"y1\", \"text\": \"94\", \"align\": \"left\", \"y\": 13, \"x\": 1.55, \"font\": {\"color\": \"#000000\"}, \"showarrow\": false}, {\"xref\": \"x1\", \"xanchor\": \"left\", \"yref\": \"y1\", \"text\": \"27\", \"align\": \"left\", \"y\": 13, \"x\": 2.55, \"font\": {\"color\": \"#000000\"}, \"showarrow\": false}, {\"xref\": \"x1\", \"xanchor\": \"left\", \"yref\": \"y1\", \"text\": \"Notre Dame\", \"align\": \"left\", \"y\": 14, \"x\": -0.45, \"font\": {\"color\": \"#000000\"}, \"showarrow\": false}, {\"xref\": \"x1\", \"xanchor\": \"left\", \"yref\": \"y1\", \"text\": \"73\", \"align\": \"left\", \"y\": 14, \"x\": 0.55, \"font\": {\"color\": \"#000000\"}, \"showarrow\": false}, {\"xref\": \"x1\", \"xanchor\": \"left\", \"yref\": \"y1\", \"text\": \"100\", \"align\": \"left\", \"y\": 14, \"x\": 1.55, \"font\": {\"color\": \"#000000\"}, \"showarrow\": false}, {\"xref\": \"x1\", \"xanchor\": \"left\", \"yref\": \"y1\", \"text\": \"27\", \"align\": \"left\", \"y\": 14, \"x\": 2.55, \"font\": {\"color\": \"#000000\"}, \"showarrow\": false}, {\"xref\": \"x1\", \"xanchor\": \"left\", \"yref\": \"y1\", \"text\": \"Cornell\", \"align\": \"left\", \"y\": 15, \"x\": -0.45, \"font\": {\"color\": \"#000000\"}, \"showarrow\": false}, {\"xref\": \"x1\", \"xanchor\": \"left\", \"yref\": \"y1\", \"text\": \"80\", \"align\": \"left\", \"y\": 15, \"x\": 0.55, \"font\": {\"color\": \"#000000\"}, \"showarrow\": false}, {\"xref\": \"x1\", \"xanchor\": \"left\", \"yref\": \"y1\", \"text\": \"107\", \"align\": \"left\", \"y\": 15, \"x\": 1.55, \"font\": {\"color\": \"#000000\"}, \"showarrow\": false}, {\"xref\": \"x1\", \"xanchor\": \"left\", \"yref\": \"y1\", \"text\": \"27\", \"align\": \"left\", \"y\": 15, \"x\": 2.55, \"font\": {\"color\": \"#000000\"}, \"showarrow\": false}, {\"xref\": \"x1\", \"xanchor\": \"left\", \"yref\": \"y1\", \"text\": \"Michigan\", \"align\": \"left\", \"y\": 16, \"x\": -0.45, \"font\": {\"color\": \"#000000\"}, \"showarrow\": false}, {\"xref\": \"x1\", \"xanchor\": \"left\", \"yref\": \"y1\", \"text\": \"62\", \"align\": \"left\", \"y\": 16, \"x\": 0.55, \"font\": {\"color\": \"#000000\"}, \"showarrow\": false}, {\"xref\": \"x1\", \"xanchor\": \"left\", \"yref\": \"y1\", \"text\": \"84\", \"align\": \"left\", \"y\": 16, \"x\": 1.55, \"font\": {\"color\": \"#000000\"}, \"showarrow\": false}, {\"xref\": \"x1\", \"xanchor\": \"left\", \"yref\": \"y1\", \"text\": \"22\", \"align\": \"left\", \"y\": 16, \"x\": 2.55, \"font\": {\"color\": \"#000000\"}, \"showarrow\": false}, {\"xref\": \"x1\", \"xanchor\": \"left\", \"yref\": \"y1\", \"text\": \"Brown\", \"align\": \"left\", \"y\": 17, \"x\": -0.45, \"font\": {\"color\": \"#000000\"}, \"showarrow\": false}, {\"xref\": \"x1\", \"xanchor\": \"left\", \"yref\": \"y1\", \"text\": \"72\", \"align\": \"left\", \"y\": 17, \"x\": 0.55, \"font\": {\"color\": \"#000000\"}, \"showarrow\": false}, {\"xref\": \"x1\", \"xanchor\": \"left\", \"yref\": \"y1\", \"text\": \"92\", \"align\": \"left\", \"y\": 17, \"x\": 1.55, \"font\": {\"color\": \"#000000\"}, \"showarrow\": false}, {\"xref\": \"x1\", \"xanchor\": \"left\", \"yref\": \"y1\", \"text\": \"20\", \"align\": \"left\", \"y\": 17, \"x\": 2.55, \"font\": {\"color\": \"#000000\"}, \"showarrow\": false}, {\"xref\": \"x1\", \"xanchor\": \"left\", \"yref\": \"y1\", \"text\": \"Berkeley\", \"align\": \"left\", \"y\": 18, \"x\": -0.45, \"font\": {\"color\": \"#000000\"}, \"showarrow\": false}, {\"xref\": \"x1\", \"xanchor\": \"left\", \"yref\": \"y1\", \"text\": \"71\", \"align\": \"left\", \"y\": 18, \"x\": 0.55, \"font\": {\"color\": \"#000000\"}, \"showarrow\": false}, {\"xref\": \"x1\", \"xanchor\": \"left\", \"yref\": \"y1\", \"text\": \"88\", \"align\": \"left\", \"y\": 18, \"x\": 1.55, \"font\": {\"color\": \"#000000\"}, \"showarrow\": false}, {\"xref\": \"x1\", \"xanchor\": \"left\", \"yref\": \"y1\", \"text\": \"17\", \"align\": \"left\", \"y\": 18, \"x\": 2.55, \"font\": {\"color\": \"#000000\"}, \"showarrow\": false}, {\"xref\": \"x1\", \"xanchor\": \"left\", \"yref\": \"y1\", \"text\": \"Emory\", \"align\": \"left\", \"y\": 19, \"x\": -0.45, \"font\": {\"color\": \"#000000\"}, \"showarrow\": false}, {\"xref\": \"x1\", \"xanchor\": \"left\", \"yref\": \"y1\", \"text\": \"68\", \"align\": \"left\", \"y\": 19, \"x\": 0.55, \"font\": {\"color\": \"#000000\"}, \"showarrow\": false}, {\"xref\": \"x1\", \"xanchor\": \"left\", \"yref\": \"y1\", \"text\": \"82\", \"align\": \"left\", \"y\": 19, \"x\": 1.55, \"font\": {\"color\": \"#000000\"}, \"showarrow\": false}, {\"xref\": \"x1\", \"xanchor\": \"left\", \"yref\": \"y1\", \"text\": \"14\", \"align\": \"left\", \"y\": 19, \"x\": 2.55, \"font\": {\"color\": \"#000000\"}, \"showarrow\": false}, {\"xref\": \"x1\", \"xanchor\": \"left\", \"yref\": \"y1\", \"text\": \"UCLA\", \"align\": \"left\", \"y\": 20, \"x\": -0.45, \"font\": {\"color\": \"#000000\"}, \"showarrow\": false}, {\"xref\": \"x1\", \"xanchor\": \"left\", \"yref\": \"y1\", \"text\": \"64\", \"align\": \"left\", \"y\": 20, \"x\": 0.55, \"font\": {\"color\": \"#000000\"}, \"showarrow\": false}, {\"xref\": \"x1\", \"xanchor\": \"left\", \"yref\": \"y1\", \"text\": \"78\", \"align\": \"left\", \"y\": 20, \"x\": 1.55, \"font\": {\"color\": \"#000000\"}, \"showarrow\": false}, {\"xref\": \"x1\", \"xanchor\": \"left\", \"yref\": \"y1\", \"text\": \"14\", \"align\": \"left\", \"y\": 20, \"x\": 2.55, \"font\": {\"color\": \"#000000\"}, \"showarrow\": false}, {\"xref\": \"x1\", \"xanchor\": \"left\", \"yref\": \"y1\", \"text\": \"SoCal\", \"align\": \"left\", \"y\": 21, \"x\": -0.45, \"font\": {\"color\": \"#000000\"}, \"showarrow\": false}, {\"xref\": \"x1\", \"xanchor\": \"left\", \"yref\": \"y1\", \"text\": \"72\", \"align\": \"left\", \"y\": 21, \"x\": 0.55, \"font\": {\"color\": \"#000000\"}, \"showarrow\": false}, {\"xref\": \"x1\", \"xanchor\": \"left\", \"yref\": \"y1\", \"text\": \"81\", \"align\": \"left\", \"y\": 21, \"x\": 1.55, \"font\": {\"color\": \"#000000\"}, \"showarrow\": false}, {\"xref\": \"x1\", \"xanchor\": \"left\", \"yref\": \"y1\", \"text\": \"9\", \"align\": \"left\", \"y\": 21, \"x\": 2.55, \"font\": {\"color\": \"#000000\"}, \"showarrow\": false}], \"xaxis\": {\"showticklabels\": false, \"tick0\": -0.5, \"ticks\": \"\", \"gridwidth\": 2, \"dtick\": 1, \"zeroline\": false}, \"height\": 710}, {\"linkText\": \"Export to plot.ly\", \"showLink\": true})});</script>"
      ],
      "text/vnd.plotly.v1+html": [
       "<div id=\"f483eba3-ec47-4c96-8c35-0ac1da647fa6\" style=\"height: 710px; width: 100%;\" class=\"plotly-graph-div\"></div><script type=\"text/javascript\">require([\"plotly\"], function(Plotly) { window.PLOTLYENV=window.PLOTLYENV || {};window.PLOTLYENV.BASE_URL=\"https://plot.ly\";Plotly.newPlot(\"f483eba3-ec47-4c96-8c35-0ac1da647fa6\", [{\"opacity\": 0.75, \"colorscale\": [[0, \"#00083e\"], [0.5, \"#ededee\"], [1, \"#ffffff\"]], \"showscale\": false, \"hoverinfo\": \"none\", \"z\": [[0, 0, 0, 0], [0.5, 0.5, 0.5, 0.5], [1, 1, 1, 1], [0.5, 0.5, 0.5, 0.5], [1, 1, 1, 1], [0.5, 0.5, 0.5, 0.5], [1, 1, 1, 1], [0.5, 0.5, 0.5, 0.5], [1, 1, 1, 1], [0.5, 0.5, 0.5, 0.5], [1, 1, 1, 1], [0.5, 0.5, 0.5, 0.5], [1, 1, 1, 1], [0.5, 0.5, 0.5, 0.5], [1, 1, 1, 1], [0.5, 0.5, 0.5, 0.5], [1, 1, 1, 1], [0.5, 0.5, 0.5, 0.5], [1, 1, 1, 1], [0.5, 0.5, 0.5, 0.5], [1, 1, 1, 1], [0.5, 0.5, 0.5, 0.5]], \"type\": \"heatmap\"}], {\"yaxis\": {\"showticklabels\": false, \"tick0\": 0.5, \"ticks\": \"\", \"gridwidth\": 2, \"dtick\": 1, \"zeroline\": false, \"autorange\": \"reversed\"}, \"margin\": {\"r\": 0, \"b\": 0, \"l\": 0, \"t\": 0}, \"annotations\": [{\"xref\": \"x1\", \"xanchor\": \"left\", \"yref\": \"y1\", \"text\": \"<b>School</b>\", \"align\": \"left\", \"y\": 0, \"x\": -0.45, \"font\": {\"color\": \"#ffffff\"}, \"showarrow\": false}, {\"xref\": \"x1\", \"xanchor\": \"left\", \"yref\": \"y1\", \"text\": \"<b>Women</b>\", \"align\": \"left\", \"y\": 0, \"x\": 0.55, \"font\": {\"color\": \"#ffffff\"}, \"showarrow\": false}, {\"xref\": \"x1\", \"xanchor\": \"left\", \"yref\": \"y1\", \"text\": \"<b>Men</b>\", \"align\": \"left\", \"y\": 0, \"x\": 1.55, \"font\": {\"color\": \"#ffffff\"}, \"showarrow\": false}, {\"xref\": \"x1\", \"xanchor\": \"left\", \"yref\": \"y1\", \"text\": \"<b>Gap</b>\", \"align\": \"left\", \"y\": 0, \"x\": 2.55, \"font\": {\"color\": \"#ffffff\"}, \"showarrow\": false}, {\"xref\": \"x1\", \"xanchor\": \"left\", \"yref\": \"y1\", \"text\": \"MIT\", \"align\": \"left\", \"y\": 1, \"x\": -0.45, \"font\": {\"color\": \"#000000\"}, \"showarrow\": false}, {\"xref\": \"x1\", \"xanchor\": \"left\", \"yref\": \"y1\", \"text\": \"94\", \"align\": \"left\", \"y\": 1, \"x\": 0.55, \"font\": {\"color\": \"#000000\"}, \"showarrow\": false}, {\"xref\": \"x1\", \"xanchor\": \"left\", \"yref\": \"y1\", \"text\": \"152\", \"align\": \"left\", \"y\": 1, \"x\": 1.55, \"font\": {\"color\": \"#000000\"}, \"showarrow\": false}, {\"xref\": \"x1\", \"xanchor\": \"left\", \"yref\": \"y1\", \"text\": \"58\", \"align\": \"left\", \"y\": 1, \"x\": 2.55, \"font\": {\"color\": \"#000000\"}, \"showarrow\": false}, {\"xref\": \"x1\", \"xanchor\": \"left\", \"yref\": \"y1\", \"text\": \"Stanford\", \"align\": \"left\", \"y\": 2, \"x\": -0.45, \"font\": {\"color\": \"#000000\"}, \"showarrow\": false}, {\"xref\": \"x1\", \"xanchor\": \"left\", \"yref\": \"y1\", \"text\": \"96\", \"align\": \"left\", \"y\": 2, \"x\": 0.55, \"font\": {\"color\": \"#000000\"}, \"showarrow\": false}, {\"xref\": \"x1\", \"xanchor\": \"left\", \"yref\": \"y1\", \"text\": \"151\", \"align\": \"left\", \"y\": 2, \"x\": 1.55, \"font\": {\"color\": \"#000000\"}, \"showarrow\": false}, {\"xref\": \"x1\", \"xanchor\": \"left\", \"yref\": \"y1\", \"text\": \"55\", \"align\": \"left\", \"y\": 2, \"x\": 2.55, \"font\": {\"color\": \"#000000\"}, \"showarrow\": false}, {\"xref\": \"x1\", \"xanchor\": \"left\", \"yref\": \"y1\", \"text\": \"Harvard\", \"align\": \"left\", \"y\": 3, \"x\": -0.45, \"font\": {\"color\": \"#000000\"}, \"showarrow\": false}, {\"xref\": \"x1\", \"xanchor\": \"left\", \"yref\": \"y1\", \"text\": \"112\", \"align\": \"left\", \"y\": 3, \"x\": 0.55, \"font\": {\"color\": \"#000000\"}, \"showarrow\": false}, {\"xref\": \"x1\", \"xanchor\": \"left\", \"yref\": \"y1\", \"text\": \"165\", \"align\": \"left\", \"y\": 3, \"x\": 1.55, \"font\": {\"color\": \"#000000\"}, \"showarrow\": false}, {\"xref\": \"x1\", \"xanchor\": \"left\", \"yref\": \"y1\", \"text\": \"53\", \"align\": \"left\", \"y\": 3, \"x\": 2.55, \"font\": {\"color\": \"#000000\"}, \"showarrow\": false}, {\"xref\": \"x1\", \"xanchor\": \"left\", \"yref\": \"y1\", \"text\": \"U.Penn\", \"align\": \"left\", \"y\": 4, \"x\": -0.45, \"font\": {\"color\": \"#000000\"}, \"showarrow\": false}, {\"xref\": \"x1\", \"xanchor\": \"left\", \"yref\": \"y1\", \"text\": \"92\", \"align\": \"left\", \"y\": 4, \"x\": 0.55, \"font\": {\"color\": \"#000000\"}, \"showarrow\": false}, {\"xref\": \"x1\", \"xanchor\": \"left\", \"yref\": \"y1\", \"text\": \"141\", \"align\": \"left\", \"y\": 4, \"x\": 1.55, \"font\": {\"color\": \"#000000\"}, \"showarrow\": false}, {\"xref\": \"x1\", \"xanchor\": \"left\", \"yref\": \"y1\", \"text\": \"49\", \"align\": \"left\", \"y\": 4, \"x\": 2.55, \"font\": {\"color\": \"#000000\"}, \"showarrow\": false}, {\"xref\": \"x1\", \"xanchor\": \"left\", \"yref\": \"y1\", \"text\": \"Princeton\", \"align\": \"left\", \"y\": 5, \"x\": -0.45, \"font\": {\"color\": \"#000000\"}, \"showarrow\": false}, {\"xref\": \"x1\", \"xanchor\": \"left\", \"yref\": \"y1\", \"text\": \"90\", \"align\": \"left\", \"y\": 5, \"x\": 0.55, \"font\": {\"color\": \"#000000\"}, \"showarrow\": false}, {\"xref\": \"x1\", \"xanchor\": \"left\", \"yref\": \"y1\", \"text\": \"137\", \"align\": \"left\", \"y\": 5, \"x\": 1.55, \"font\": {\"color\": \"#000000\"}, \"showarrow\": false}, {\"xref\": \"x1\", \"xanchor\": \"left\", \"yref\": \"y1\", \"text\": \"47\", \"align\": \"left\", \"y\": 5, \"x\": 2.55, \"font\": {\"color\": \"#000000\"}, \"showarrow\": false}, {\"xref\": \"x1\", \"xanchor\": \"left\", \"yref\": \"y1\", \"text\": \"Chicago\", \"align\": \"left\", \"y\": 6, \"x\": -0.45, \"font\": {\"color\": \"#000000\"}, \"showarrow\": false}, {\"xref\": \"x1\", \"xanchor\": \"left\", \"yref\": \"y1\", \"text\": \"78\", \"align\": \"left\", \"y\": 6, \"x\": 0.55, \"font\": {\"color\": \"#000000\"}, \"showarrow\": false}, {\"xref\": \"x1\", \"xanchor\": \"left\", \"yref\": \"y1\", \"text\": \"118\", \"align\": \"left\", \"y\": 6, \"x\": 1.55, \"font\": {\"color\": \"#000000\"}, \"showarrow\": false}, {\"xref\": \"x1\", \"xanchor\": \"left\", \"yref\": \"y1\", \"text\": \"40\", \"align\": \"left\", \"y\": 6, \"x\": 2.55, \"font\": {\"color\": \"#000000\"}, \"showarrow\": false}, {\"xref\": \"x1\", \"xanchor\": \"left\", \"yref\": \"y1\", \"text\": \"Georgetown\", \"align\": \"left\", \"y\": 7, \"x\": -0.45, \"font\": {\"color\": \"#000000\"}, \"showarrow\": false}, {\"xref\": \"x1\", \"xanchor\": \"left\", \"yref\": \"y1\", \"text\": \"94\", \"align\": \"left\", \"y\": 7, \"x\": 0.55, \"font\": {\"color\": \"#000000\"}, \"showarrow\": false}, {\"xref\": \"x1\", \"xanchor\": \"left\", \"yref\": \"y1\", \"text\": \"131\", \"align\": \"left\", \"y\": 7, \"x\": 1.55, \"font\": {\"color\": \"#000000\"}, \"showarrow\": false}, {\"xref\": \"x1\", \"xanchor\": \"left\", \"yref\": \"y1\", \"text\": \"37\", \"align\": \"left\", \"y\": 7, \"x\": 2.55, \"font\": {\"color\": \"#000000\"}, \"showarrow\": false}, {\"xref\": \"x1\", \"xanchor\": \"left\", \"yref\": \"y1\", \"text\": \"Tufts\", \"align\": \"left\", \"y\": 8, \"x\": -0.45, \"font\": {\"color\": \"#000000\"}, \"showarrow\": false}, {\"xref\": \"x1\", \"xanchor\": \"left\", \"yref\": \"y1\", \"text\": \"76\", \"align\": \"left\", \"y\": 8, \"x\": 0.55, \"font\": {\"color\": \"#000000\"}, \"showarrow\": false}, {\"xref\": \"x1\", \"xanchor\": \"left\", \"yref\": \"y1\", \"text\": \"112\", \"align\": \"left\", \"y\": 8, \"x\": 1.55, \"font\": {\"color\": \"#000000\"}, \"showarrow\": false}, {\"xref\": \"x1\", \"xanchor\": \"left\", \"yref\": \"y1\", \"text\": \"36\", \"align\": \"left\", \"y\": 8, \"x\": 2.55, \"font\": {\"color\": \"#000000\"}, \"showarrow\": false}, {\"xref\": \"x1\", \"xanchor\": \"left\", \"yref\": \"y1\", \"text\": \"Yale\", \"align\": \"left\", \"y\": 9, \"x\": -0.45, \"font\": {\"color\": \"#000000\"}, \"showarrow\": false}, {\"xref\": \"x1\", \"xanchor\": \"left\", \"yref\": \"y1\", \"text\": \"79\", \"align\": \"left\", \"y\": 9, \"x\": 0.55, \"font\": {\"color\": \"#000000\"}, \"showarrow\": false}, {\"xref\": \"x1\", \"xanchor\": \"left\", \"yref\": \"y1\", \"text\": \"114\", \"align\": \"left\", \"y\": 9, \"x\": 1.55, \"font\": {\"color\": \"#000000\"}, \"showarrow\": false}, {\"xref\": \"x1\", \"xanchor\": \"left\", \"yref\": \"y1\", \"text\": \"35\", \"align\": \"left\", \"y\": 9, \"x\": 2.55, \"font\": {\"color\": \"#000000\"}, \"showarrow\": false}, {\"xref\": \"x1\", \"xanchor\": \"left\", \"yref\": \"y1\", \"text\": \"Columbia\", \"align\": \"left\", \"y\": 10, \"x\": -0.45, \"font\": {\"color\": \"#000000\"}, \"showarrow\": false}, {\"xref\": \"x1\", \"xanchor\": \"left\", \"yref\": \"y1\", \"text\": \"86\", \"align\": \"left\", \"y\": 10, \"x\": 0.55, \"font\": {\"color\": \"#000000\"}, \"showarrow\": false}, {\"xref\": \"x1\", \"xanchor\": \"left\", \"yref\": \"y1\", \"text\": \"119\", \"align\": \"left\", \"y\": 10, \"x\": 1.55, \"font\": {\"color\": \"#000000\"}, \"showarrow\": false}, {\"xref\": \"x1\", \"xanchor\": \"left\", \"yref\": \"y1\", \"text\": \"33\", \"align\": \"left\", \"y\": 10, \"x\": 2.55, \"font\": {\"color\": \"#000000\"}, \"showarrow\": false}, {\"xref\": \"x1\", \"xanchor\": \"left\", \"yref\": \"y1\", \"text\": \"Duke\", \"align\": \"left\", \"y\": 11, \"x\": -0.45, \"font\": {\"color\": \"#000000\"}, \"showarrow\": false}, {\"xref\": \"x1\", \"xanchor\": \"left\", \"yref\": \"y1\", \"text\": \"93\", \"align\": \"left\", \"y\": 11, \"x\": 0.55, \"font\": {\"color\": \"#000000\"}, \"showarrow\": false}, {\"xref\": \"x1\", \"xanchor\": \"left\", \"yref\": \"y1\", \"text\": \"124\", \"align\": \"left\", \"y\": 11, \"x\": 1.55, \"font\": {\"color\": \"#000000\"}, \"showarrow\": false}, {\"xref\": \"x1\", \"xanchor\": \"left\", \"yref\": \"y1\", \"text\": \"31\", \"align\": \"left\", \"y\": 11, \"x\": 2.55, \"font\": {\"color\": \"#000000\"}, \"showarrow\": false}, {\"xref\": \"x1\", \"xanchor\": \"left\", \"yref\": \"y1\", \"text\": \"Dartmouth\", \"align\": \"left\", \"y\": 12, \"x\": -0.45, \"font\": {\"color\": \"#000000\"}, \"showarrow\": false}, {\"xref\": \"x1\", \"xanchor\": \"left\", \"yref\": \"y1\", \"text\": \"84\", \"align\": \"left\", \"y\": 12, \"x\": 0.55, \"font\": {\"color\": \"#000000\"}, \"showarrow\": false}, {\"xref\": \"x1\", \"xanchor\": \"left\", \"yref\": \"y1\", \"text\": \"114\", \"align\": \"left\", \"y\": 12, \"x\": 1.55, \"font\": {\"color\": \"#000000\"}, \"showarrow\": false}, {\"xref\": \"x1\", \"xanchor\": \"left\", \"yref\": \"y1\", \"text\": \"30\", \"align\": \"left\", \"y\": 12, \"x\": 2.55, \"font\": {\"color\": \"#000000\"}, \"showarrow\": false}, {\"xref\": \"x1\", \"xanchor\": \"left\", \"yref\": \"y1\", \"text\": \"NYU\", \"align\": \"left\", \"y\": 13, \"x\": -0.45, \"font\": {\"color\": \"#000000\"}, \"showarrow\": false}, {\"xref\": \"x1\", \"xanchor\": \"left\", \"yref\": \"y1\", \"text\": \"67\", \"align\": \"left\", \"y\": 13, \"x\": 0.55, \"font\": {\"color\": \"#000000\"}, \"showarrow\": false}, {\"xref\": \"x1\", \"xanchor\": \"left\", \"yref\": \"y1\", \"text\": \"94\", \"align\": \"left\", \"y\": 13, \"x\": 1.55, \"font\": {\"color\": \"#000000\"}, \"showarrow\": false}, {\"xref\": \"x1\", \"xanchor\": \"left\", \"yref\": \"y1\", \"text\": \"27\", \"align\": \"left\", \"y\": 13, \"x\": 2.55, \"font\": {\"color\": \"#000000\"}, \"showarrow\": false}, {\"xref\": \"x1\", \"xanchor\": \"left\", \"yref\": \"y1\", \"text\": \"Notre Dame\", \"align\": \"left\", \"y\": 14, \"x\": -0.45, \"font\": {\"color\": \"#000000\"}, \"showarrow\": false}, {\"xref\": \"x1\", \"xanchor\": \"left\", \"yref\": \"y1\", \"text\": \"73\", \"align\": \"left\", \"y\": 14, \"x\": 0.55, \"font\": {\"color\": \"#000000\"}, \"showarrow\": false}, {\"xref\": \"x1\", \"xanchor\": \"left\", \"yref\": \"y1\", \"text\": \"100\", \"align\": \"left\", \"y\": 14, \"x\": 1.55, \"font\": {\"color\": \"#000000\"}, \"showarrow\": false}, {\"xref\": \"x1\", \"xanchor\": \"left\", \"yref\": \"y1\", \"text\": \"27\", \"align\": \"left\", \"y\": 14, \"x\": 2.55, \"font\": {\"color\": \"#000000\"}, \"showarrow\": false}, {\"xref\": \"x1\", \"xanchor\": \"left\", \"yref\": \"y1\", \"text\": \"Cornell\", \"align\": \"left\", \"y\": 15, \"x\": -0.45, \"font\": {\"color\": \"#000000\"}, \"showarrow\": false}, {\"xref\": \"x1\", \"xanchor\": \"left\", \"yref\": \"y1\", \"text\": \"80\", \"align\": \"left\", \"y\": 15, \"x\": 0.55, \"font\": {\"color\": \"#000000\"}, \"showarrow\": false}, {\"xref\": \"x1\", \"xanchor\": \"left\", \"yref\": \"y1\", \"text\": \"107\", \"align\": \"left\", \"y\": 15, \"x\": 1.55, \"font\": {\"color\": \"#000000\"}, \"showarrow\": false}, {\"xref\": \"x1\", \"xanchor\": \"left\", \"yref\": \"y1\", \"text\": \"27\", \"align\": \"left\", \"y\": 15, \"x\": 2.55, \"font\": {\"color\": \"#000000\"}, \"showarrow\": false}, {\"xref\": \"x1\", \"xanchor\": \"left\", \"yref\": \"y1\", \"text\": \"Michigan\", \"align\": \"left\", \"y\": 16, \"x\": -0.45, \"font\": {\"color\": \"#000000\"}, \"showarrow\": false}, {\"xref\": \"x1\", \"xanchor\": \"left\", \"yref\": \"y1\", \"text\": \"62\", \"align\": \"left\", \"y\": 16, \"x\": 0.55, \"font\": {\"color\": \"#000000\"}, \"showarrow\": false}, {\"xref\": \"x1\", \"xanchor\": \"left\", \"yref\": \"y1\", \"text\": \"84\", \"align\": \"left\", \"y\": 16, \"x\": 1.55, \"font\": {\"color\": \"#000000\"}, \"showarrow\": false}, {\"xref\": \"x1\", \"xanchor\": \"left\", \"yref\": \"y1\", \"text\": \"22\", \"align\": \"left\", \"y\": 16, \"x\": 2.55, \"font\": {\"color\": \"#000000\"}, \"showarrow\": false}, {\"xref\": \"x1\", \"xanchor\": \"left\", \"yref\": \"y1\", \"text\": \"Brown\", \"align\": \"left\", \"y\": 17, \"x\": -0.45, \"font\": {\"color\": \"#000000\"}, \"showarrow\": false}, {\"xref\": \"x1\", \"xanchor\": \"left\", \"yref\": \"y1\", \"text\": \"72\", \"align\": \"left\", \"y\": 17, \"x\": 0.55, \"font\": {\"color\": \"#000000\"}, \"showarrow\": false}, {\"xref\": \"x1\", \"xanchor\": \"left\", \"yref\": \"y1\", \"text\": \"92\", \"align\": \"left\", \"y\": 17, \"x\": 1.55, \"font\": {\"color\": \"#000000\"}, \"showarrow\": false}, {\"xref\": \"x1\", \"xanchor\": \"left\", \"yref\": \"y1\", \"text\": \"20\", \"align\": \"left\", \"y\": 17, \"x\": 2.55, \"font\": {\"color\": \"#000000\"}, \"showarrow\": false}, {\"xref\": \"x1\", \"xanchor\": \"left\", \"yref\": \"y1\", \"text\": \"Berkeley\", \"align\": \"left\", \"y\": 18, \"x\": -0.45, \"font\": {\"color\": \"#000000\"}, \"showarrow\": false}, {\"xref\": \"x1\", \"xanchor\": \"left\", \"yref\": \"y1\", \"text\": \"71\", \"align\": \"left\", \"y\": 18, \"x\": 0.55, \"font\": {\"color\": \"#000000\"}, \"showarrow\": false}, {\"xref\": \"x1\", \"xanchor\": \"left\", \"yref\": \"y1\", \"text\": \"88\", \"align\": \"left\", \"y\": 18, \"x\": 1.55, \"font\": {\"color\": \"#000000\"}, \"showarrow\": false}, {\"xref\": \"x1\", \"xanchor\": \"left\", \"yref\": \"y1\", \"text\": \"17\", \"align\": \"left\", \"y\": 18, \"x\": 2.55, \"font\": {\"color\": \"#000000\"}, \"showarrow\": false}, {\"xref\": \"x1\", \"xanchor\": \"left\", \"yref\": \"y1\", \"text\": \"Emory\", \"align\": \"left\", \"y\": 19, \"x\": -0.45, \"font\": {\"color\": \"#000000\"}, \"showarrow\": false}, {\"xref\": \"x1\", \"xanchor\": \"left\", \"yref\": \"y1\", \"text\": \"68\", \"align\": \"left\", \"y\": 19, \"x\": 0.55, \"font\": {\"color\": \"#000000\"}, \"showarrow\": false}, {\"xref\": \"x1\", \"xanchor\": \"left\", \"yref\": \"y1\", \"text\": \"82\", \"align\": \"left\", \"y\": 19, \"x\": 1.55, \"font\": {\"color\": \"#000000\"}, \"showarrow\": false}, {\"xref\": \"x1\", \"xanchor\": \"left\", \"yref\": \"y1\", \"text\": \"14\", \"align\": \"left\", \"y\": 19, \"x\": 2.55, \"font\": {\"color\": \"#000000\"}, \"showarrow\": false}, {\"xref\": \"x1\", \"xanchor\": \"left\", \"yref\": \"y1\", \"text\": \"UCLA\", \"align\": \"left\", \"y\": 20, \"x\": -0.45, \"font\": {\"color\": \"#000000\"}, \"showarrow\": false}, {\"xref\": \"x1\", \"xanchor\": \"left\", \"yref\": \"y1\", \"text\": \"64\", \"align\": \"left\", \"y\": 20, \"x\": 0.55, \"font\": {\"color\": \"#000000\"}, \"showarrow\": false}, {\"xref\": \"x1\", \"xanchor\": \"left\", \"yref\": \"y1\", \"text\": \"78\", \"align\": \"left\", \"y\": 20, \"x\": 1.55, \"font\": {\"color\": \"#000000\"}, \"showarrow\": false}, {\"xref\": \"x1\", \"xanchor\": \"left\", \"yref\": \"y1\", \"text\": \"14\", \"align\": \"left\", \"y\": 20, \"x\": 2.55, \"font\": {\"color\": \"#000000\"}, \"showarrow\": false}, {\"xref\": \"x1\", \"xanchor\": \"left\", \"yref\": \"y1\", \"text\": \"SoCal\", \"align\": \"left\", \"y\": 21, \"x\": -0.45, \"font\": {\"color\": \"#000000\"}, \"showarrow\": false}, {\"xref\": \"x1\", \"xanchor\": \"left\", \"yref\": \"y1\", \"text\": \"72\", \"align\": \"left\", \"y\": 21, \"x\": 0.55, \"font\": {\"color\": \"#000000\"}, \"showarrow\": false}, {\"xref\": \"x1\", \"xanchor\": \"left\", \"yref\": \"y1\", \"text\": \"81\", \"align\": \"left\", \"y\": 21, \"x\": 1.55, \"font\": {\"color\": \"#000000\"}, \"showarrow\": false}, {\"xref\": \"x1\", \"xanchor\": \"left\", \"yref\": \"y1\", \"text\": \"9\", \"align\": \"left\", \"y\": 21, \"x\": 2.55, \"font\": {\"color\": \"#000000\"}, \"showarrow\": false}], \"xaxis\": {\"showticklabels\": false, \"tick0\": -0.5, \"ticks\": \"\", \"gridwidth\": 2, \"dtick\": 1, \"zeroline\": false}, \"height\": 710}, {\"linkText\": \"Export to plot.ly\", \"showLink\": true})});</script>"
      ]
     },
     "metadata": {},
     "output_type": "display_data"
    }
   ],
   "source": [
    "# bar chart example using data frame, including table (1/2)\n",
    "\n",
    "import plotly.plotly as py\n",
    "import plotly.figure_factory as ff\n",
    "import pandas as pd\n",
    "\n",
    "df = pd.read_csv(\"https://raw.githubusercontent.com/plotly/datasets/master/school_earnings.csv\")\n",
    "\n",
    "table = ff.create_table(df)\n",
    "#plotly.offline.iplot(table, filename='jupyter/table1')                           #filename does what here?\n",
    "plotly.offline.iplot(table)"
   ]
  },
  {
   "cell_type": "code",
   "execution_count": 8,
   "metadata": {},
   "outputs": [
    {
     "data": {
      "application/vnd.plotly.v1+json": {
       "data": [
        {
         "type": "bar",
         "x": [
          "MIT",
          "Stanford",
          "Harvard",
          "U.Penn",
          "Princeton",
          "Chicago",
          "Georgetown",
          "Tufts",
          "Yale",
          "Columbia",
          "Duke",
          "Dartmouth",
          "NYU",
          "Notre Dame",
          "Cornell",
          "Michigan",
          "Brown",
          "Berkeley",
          "Emory",
          "UCLA",
          "SoCal"
         ],
         "y": [
          58,
          55,
          53,
          49,
          47,
          40,
          37,
          36,
          35,
          33,
          31,
          30,
          27,
          27,
          27,
          22,
          20,
          17,
          14,
          14,
          9
         ]
        }
       ],
       "layout": {}
      },
      "text/html": [
       "<div id=\"5d517e55-e416-4549-aa55-1f01f2384217\" style=\"height: 525px; width: 100%;\" class=\"plotly-graph-div\"></div><script type=\"text/javascript\">require([\"plotly\"], function(Plotly) { window.PLOTLYENV=window.PLOTLYENV || {};window.PLOTLYENV.BASE_URL=\"https://plot.ly\";Plotly.newPlot(\"5d517e55-e416-4549-aa55-1f01f2384217\", [{\"y\": [58, 55, 53, 49, 47, 40, 37, 36, 35, 33, 31, 30, 27, 27, 27, 22, 20, 17, 14, 14, 9], \"x\": [\"MIT\", \"Stanford\", \"Harvard\", \"U.Penn\", \"Princeton\", \"Chicago\", \"Georgetown\", \"Tufts\", \"Yale\", \"Columbia\", \"Duke\", \"Dartmouth\", \"NYU\", \"Notre Dame\", \"Cornell\", \"Michigan\", \"Brown\", \"Berkeley\", \"Emory\", \"UCLA\", \"SoCal\"], \"type\": \"bar\"}], {}, {\"linkText\": \"Export to plot.ly\", \"showLink\": true})});</script>"
      ],
      "text/vnd.plotly.v1+html": [
       "<div id=\"5d517e55-e416-4549-aa55-1f01f2384217\" style=\"height: 525px; width: 100%;\" class=\"plotly-graph-div\"></div><script type=\"text/javascript\">require([\"plotly\"], function(Plotly) { window.PLOTLYENV=window.PLOTLYENV || {};window.PLOTLYENV.BASE_URL=\"https://plot.ly\";Plotly.newPlot(\"5d517e55-e416-4549-aa55-1f01f2384217\", [{\"y\": [58, 55, 53, 49, 47, 40, 37, 36, 35, 33, 31, 30, 27, 27, 27, 22, 20, 17, 14, 14, 9], \"x\": [\"MIT\", \"Stanford\", \"Harvard\", \"U.Penn\", \"Princeton\", \"Chicago\", \"Georgetown\", \"Tufts\", \"Yale\", \"Columbia\", \"Duke\", \"Dartmouth\", \"NYU\", \"Notre Dame\", \"Cornell\", \"Michigan\", \"Brown\", \"Berkeley\", \"Emory\", \"UCLA\", \"SoCal\"], \"type\": \"bar\"}], {}, {\"linkText\": \"Export to plot.ly\", \"showLink\": true})});</script>"
      ]
     },
     "metadata": {},
     "output_type": "display_data"
    }
   ],
   "source": [
    "# bar chart example using data frame, including table (1/2)\n",
    "\n",
    "data = [go.Bar(x=df.School,\n",
    "            y=df.Gap)]\n",
    "\n",
    "plotly.offline.iplot(data, filename='jupyter/basic_bar')"
   ]
  },
  {
   "cell_type": "code",
   "execution_count": 9,
   "metadata": {},
   "outputs": [
    {
     "data": {
      "application/vnd.plotly.v1+json": {
       "data": [
        {
         "marker": {
          "color": "#ffcdd2"
         },
         "name": "Women",
         "type": "bar",
         "x": [
          "MIT",
          "Stanford",
          "Harvard",
          "U.Penn",
          "Princeton",
          "Chicago",
          "Georgetown",
          "Tufts",
          "Yale",
          "Columbia",
          "Duke",
          "Dartmouth",
          "NYU",
          "Notre Dame",
          "Cornell",
          "Michigan",
          "Brown",
          "Berkeley",
          "Emory",
          "UCLA",
          "SoCal"
         ],
         "y": [
          94,
          96,
          112,
          92,
          90,
          78,
          94,
          76,
          79,
          86,
          93,
          84,
          67,
          73,
          80,
          62,
          72,
          71,
          68,
          64,
          72
         ]
        },
        {
         "marker": {
          "color": "#A2D5F2"
         },
         "name": "Men",
         "type": "bar",
         "x": [
          "MIT",
          "Stanford",
          "Harvard",
          "U.Penn",
          "Princeton",
          "Chicago",
          "Georgetown",
          "Tufts",
          "Yale",
          "Columbia",
          "Duke",
          "Dartmouth",
          "NYU",
          "Notre Dame",
          "Cornell",
          "Michigan",
          "Brown",
          "Berkeley",
          "Emory",
          "UCLA",
          "SoCal"
         ],
         "y": [
          152,
          151,
          165,
          141,
          137,
          118,
          131,
          112,
          114,
          119,
          124,
          114,
          94,
          100,
          107,
          84,
          92,
          88,
          82,
          78,
          81
         ]
        },
        {
         "marker": {
          "color": "#59606D"
         },
         "name": "Gap",
         "type": "bar",
         "x": [
          "MIT",
          "Stanford",
          "Harvard",
          "U.Penn",
          "Princeton",
          "Chicago",
          "Georgetown",
          "Tufts",
          "Yale",
          "Columbia",
          "Duke",
          "Dartmouth",
          "NYU",
          "Notre Dame",
          "Cornell",
          "Michigan",
          "Brown",
          "Berkeley",
          "Emory",
          "UCLA",
          "SoCal"
         ],
         "y": [
          58,
          55,
          53,
          49,
          47,
          40,
          37,
          36,
          35,
          33,
          31,
          30,
          27,
          27,
          27,
          22,
          20,
          17,
          14,
          14,
          9
         ]
        }
       ],
       "layout": {}
      },
      "text/html": [
       "<div id=\"e8b1623e-9671-4400-b509-9e1b984ce92d\" style=\"height: 525px; width: 100%;\" class=\"plotly-graph-div\"></div><script type=\"text/javascript\">require([\"plotly\"], function(Plotly) { window.PLOTLYENV=window.PLOTLYENV || {};window.PLOTLYENV.BASE_URL=\"https://plot.ly\";Plotly.newPlot(\"e8b1623e-9671-4400-b509-9e1b984ce92d\", [{\"marker\": {\"color\": \"#ffcdd2\"}, \"y\": [94, 96, 112, 92, 90, 78, 94, 76, 79, 86, 93, 84, 67, 73, 80, 62, 72, 71, 68, 64, 72], \"type\": \"bar\", \"name\": \"Women\", \"x\": [\"MIT\", \"Stanford\", \"Harvard\", \"U.Penn\", \"Princeton\", \"Chicago\", \"Georgetown\", \"Tufts\", \"Yale\", \"Columbia\", \"Duke\", \"Dartmouth\", \"NYU\", \"Notre Dame\", \"Cornell\", \"Michigan\", \"Brown\", \"Berkeley\", \"Emory\", \"UCLA\", \"SoCal\"]}, {\"marker\": {\"color\": \"#A2D5F2\"}, \"y\": [152, 151, 165, 141, 137, 118, 131, 112, 114, 119, 124, 114, 94, 100, 107, 84, 92, 88, 82, 78, 81], \"type\": \"bar\", \"name\": \"Men\", \"x\": [\"MIT\", \"Stanford\", \"Harvard\", \"U.Penn\", \"Princeton\", \"Chicago\", \"Georgetown\", \"Tufts\", \"Yale\", \"Columbia\", \"Duke\", \"Dartmouth\", \"NYU\", \"Notre Dame\", \"Cornell\", \"Michigan\", \"Brown\", \"Berkeley\", \"Emory\", \"UCLA\", \"SoCal\"]}, {\"marker\": {\"color\": \"#59606D\"}, \"y\": [58, 55, 53, 49, 47, 40, 37, 36, 35, 33, 31, 30, 27, 27, 27, 22, 20, 17, 14, 14, 9], \"type\": \"bar\", \"name\": \"Gap\", \"x\": [\"MIT\", \"Stanford\", \"Harvard\", \"U.Penn\", \"Princeton\", \"Chicago\", \"Georgetown\", \"Tufts\", \"Yale\", \"Columbia\", \"Duke\", \"Dartmouth\", \"NYU\", \"Notre Dame\", \"Cornell\", \"Michigan\", \"Brown\", \"Berkeley\", \"Emory\", \"UCLA\", \"SoCal\"]}], {}, {\"linkText\": \"Export to plot.ly\", \"showLink\": {\"title\": \"Average Earnings for Graduates\", \"xaxis\": {\"title\": \"School\"}, \"yaxis\": {\"title\": \"Salary (in thousands)\"}}})});</script>"
      ],
      "text/vnd.plotly.v1+html": [
       "<div id=\"e8b1623e-9671-4400-b509-9e1b984ce92d\" style=\"height: 525px; width: 100%;\" class=\"plotly-graph-div\"></div><script type=\"text/javascript\">require([\"plotly\"], function(Plotly) { window.PLOTLYENV=window.PLOTLYENV || {};window.PLOTLYENV.BASE_URL=\"https://plot.ly\";Plotly.newPlot(\"e8b1623e-9671-4400-b509-9e1b984ce92d\", [{\"marker\": {\"color\": \"#ffcdd2\"}, \"y\": [94, 96, 112, 92, 90, 78, 94, 76, 79, 86, 93, 84, 67, 73, 80, 62, 72, 71, 68, 64, 72], \"type\": \"bar\", \"name\": \"Women\", \"x\": [\"MIT\", \"Stanford\", \"Harvard\", \"U.Penn\", \"Princeton\", \"Chicago\", \"Georgetown\", \"Tufts\", \"Yale\", \"Columbia\", \"Duke\", \"Dartmouth\", \"NYU\", \"Notre Dame\", \"Cornell\", \"Michigan\", \"Brown\", \"Berkeley\", \"Emory\", \"UCLA\", \"SoCal\"]}, {\"marker\": {\"color\": \"#A2D5F2\"}, \"y\": [152, 151, 165, 141, 137, 118, 131, 112, 114, 119, 124, 114, 94, 100, 107, 84, 92, 88, 82, 78, 81], \"type\": \"bar\", \"name\": \"Men\", \"x\": [\"MIT\", \"Stanford\", \"Harvard\", \"U.Penn\", \"Princeton\", \"Chicago\", \"Georgetown\", \"Tufts\", \"Yale\", \"Columbia\", \"Duke\", \"Dartmouth\", \"NYU\", \"Notre Dame\", \"Cornell\", \"Michigan\", \"Brown\", \"Berkeley\", \"Emory\", \"UCLA\", \"SoCal\"]}, {\"marker\": {\"color\": \"#59606D\"}, \"y\": [58, 55, 53, 49, 47, 40, 37, 36, 35, 33, 31, 30, 27, 27, 27, 22, 20, 17, 14, 14, 9], \"type\": \"bar\", \"name\": \"Gap\", \"x\": [\"MIT\", \"Stanford\", \"Harvard\", \"U.Penn\", \"Princeton\", \"Chicago\", \"Georgetown\", \"Tufts\", \"Yale\", \"Columbia\", \"Duke\", \"Dartmouth\", \"NYU\", \"Notre Dame\", \"Cornell\", \"Michigan\", \"Brown\", \"Berkeley\", \"Emory\", \"UCLA\", \"SoCal\"]}], {}, {\"linkText\": \"Export to plot.ly\", \"showLink\": {\"title\": \"Average Earnings for Graduates\", \"xaxis\": {\"title\": \"School\"}, \"yaxis\": {\"title\": \"Salary (in thousands)\"}}})});</script>"
      ]
     },
     "metadata": {},
     "output_type": "display_data"
    }
   ],
   "source": [
    "# another bar chart example (using data from bar chart example above)\n",
    "\n",
    "from plotly.graph_objs import *  #testing\n",
    "\n",
    "trace_women = Bar(x=df.School,\n",
    "                  y=df.Women,\n",
    "                  name='Women',\n",
    "                  marker=dict(color='#ffcdd2'))\n",
    "\n",
    "trace_men = Bar(x=df.School,\n",
    "                y=df.Men,\n",
    "                name='Men',\n",
    "                marker=dict(color='#A2D5F2'))\n",
    "\n",
    "trace_gap = Bar(x=df.School,\n",
    "                y=df.Gap,\n",
    "                name='Gap',\n",
    "                marker=dict(color='#59606D'))\n",
    "\n",
    "data = [trace_women, trace_men, trace_gap]\n",
    "layout = Layout(title=\"Average Earnings for Graduates\",\n",
    "                xaxis=dict(title='School'),\n",
    "                yaxis=dict(title='Salary (in thousands)'))\n",
    "fig = Figure(data=data, layout=layout)\n",
    "\n",
    "#plotly.offline.iplot(fig, filename='jupyter/styled_bar')\n",
    "plotly.offline.iplot(data, layout)"
   ]
  },
  {
   "cell_type": "code",
   "execution_count": 10,
   "metadata": {},
   "outputs": [
    {
     "data": {
      "application/vnd.plotly.v1+json": {
       "data": [
        {
         "type": "scatter",
         "x": [
          0,
          0.002004008016032064,
          0.004008016032064128,
          0.0060120240480961915,
          0.008016032064128256,
          0.01002004008016032,
          0.012024048096192383,
          0.014028056112224447,
          0.01603206412825651,
          0.018036072144288574,
          0.02004008016032064,
          0.022044088176352703,
          0.024048096192384766,
          0.026052104208416832,
          0.028056112224448895,
          0.03006012024048096,
          0.03206412825651302,
          0.03406813627254509,
          0.03607214428857715,
          0.038076152304609215,
          0.04008016032064128,
          0.04208416833667334,
          0.044088176352705406,
          0.04609218436873747,
          0.04809619238476953,
          0.0501002004008016,
          0.052104208416833664,
          0.05410821643286573,
          0.05611222444889779,
          0.058116232464929855,
          0.06012024048096192,
          0.06212424849699398,
          0.06412825651302605,
          0.06613226452905811,
          0.06813627254509018,
          0.07014028056112225,
          0.0721442885771543,
          0.07414829659318636,
          0.07615230460921843,
          0.0781563126252505,
          0.08016032064128256,
          0.08216432865731463,
          0.08416833667334668,
          0.08617234468937875,
          0.08817635270541081,
          0.09018036072144288,
          0.09218436873747494,
          0.09418837675350701,
          0.09619238476953906,
          0.09819639278557113,
          0.1002004008016032,
          0.10220440881763526,
          0.10420841683366733,
          0.1062124248496994,
          0.10821643286573146,
          0.11022044088176351,
          0.11222444889779558,
          0.11422845691382764,
          0.11623246492985971,
          0.11823647294589178,
          0.12024048096192384,
          0.1222444889779559,
          0.12424849699398796,
          0.12625250501002003,
          0.1282565130260521,
          0.13026052104208416,
          0.13226452905811623,
          0.1342685370741483,
          0.13627254509018036,
          0.13827655310621242,
          0.1402805611222445,
          0.14228456913827653,
          0.1442885771543086,
          0.14629258517034066,
          0.14829659318637273,
          0.1503006012024048,
          0.15230460921843686,
          0.15430861723446893,
          0.156312625250501,
          0.15831663326653306,
          0.16032064128256512,
          0.1623246492985972,
          0.16432865731462926,
          0.16633266533066132,
          0.16833667334669336,
          0.17034068136272543,
          0.1723446893787575,
          0.17434869739478956,
          0.17635270541082163,
          0.1783567134268537,
          0.18036072144288576,
          0.18236472945891782,
          0.1843687374749499,
          0.18637274549098196,
          0.18837675350701402,
          0.1903807615230461,
          0.19238476953907813,
          0.1943887775551102,
          0.19639278557114226,
          0.19839679358717432,
          0.2004008016032064,
          0.20240480961923846,
          0.20440881763527052,
          0.2064128256513026,
          0.20841683366733466,
          0.21042084168336672,
          0.2124248496993988,
          0.21442885771543085,
          0.21643286573146292,
          0.21843687374749496,
          0.22044088176352702,
          0.2224448897795591,
          0.22444889779559116,
          0.22645290581162322,
          0.2284569138276553,
          0.23046092184368736,
          0.23246492985971942,
          0.2344689378757515,
          0.23647294589178355,
          0.23847695390781562,
          0.24048096192384769,
          0.24248496993987975,
          0.2444889779559118,
          0.24649298597194386,
          0.24849699398797592,
          0.250501002004008,
          0.25250501002004005,
          0.2545090180360721,
          0.2565130260521042,
          0.25851703406813625,
          0.2605210420841683,
          0.2625250501002004,
          0.26452905811623245,
          0.2665330661322645,
          0.2685370741482966,
          0.27054108216432865,
          0.2725450901803607,
          0.2745490981963928,
          0.27655310621242485,
          0.2785571142284569,
          0.280561122244489,
          0.282565130260521,
          0.28456913827655306,
          0.2865731462925851,
          0.2885771543086172,
          0.29058116232464926,
          0.2925851703406813,
          0.2945891783567134,
          0.29659318637274545,
          0.2985971943887775,
          0.3006012024048096,
          0.30260521042084165,
          0.3046092184368737,
          0.3066132264529058,
          0.30861723446893785,
          0.3106212424849699,
          0.312625250501002,
          0.31462925851703405,
          0.3166332665330661,
          0.3186372745490982,
          0.32064128256513025,
          0.3226452905811623,
          0.3246492985971944,
          0.32665330661322645,
          0.3286573146292585,
          0.3306613226452906,
          0.33266533066132264,
          0.33466933867735466,
          0.3366733466933867,
          0.3386773547094188,
          0.34068136272545085,
          0.3426853707414829,
          0.344689378757515,
          0.34669338677354705,
          0.3486973947895791,
          0.3507014028056112,
          0.35270541082164325,
          0.3547094188376753,
          0.3567134268537074,
          0.35871743486973945,
          0.3607214428857715,
          0.3627254509018036,
          0.36472945891783565,
          0.3667334669338677,
          0.3687374749498998,
          0.37074148296593185,
          0.3727454909819639,
          0.374749498997996,
          0.37675350701402804,
          0.3787575150300601,
          0.3807615230460922,
          0.38276553106212424,
          0.38476953907815625,
          0.3867735470941883,
          0.3887775551102204,
          0.39078156312625245,
          0.3927855711422845,
          0.3947895791583166,
          0.39679358717434865,
          0.3987975951903807,
          0.4008016032064128,
          0.40280561122244485,
          0.4048096192384769,
          0.406813627254509,
          0.40881763527054105,
          0.4108216432865731,
          0.4128256513026052,
          0.41482965931863724,
          0.4168336673346693,
          0.4188376753507014,
          0.42084168336673344,
          0.4228456913827655,
          0.4248496993987976,
          0.42685370741482964,
          0.4288577154308617,
          0.4308617234468938,
          0.43286573146292584,
          0.4348697394789579,
          0.4368737474949899,
          0.438877755511022,
          0.44088176352705405,
          0.4428857715430861,
          0.4448897795591182,
          0.44689378757515025,
          0.4488977955911823,
          0.4509018036072144,
          0.45290581162324645,
          0.4549098196392785,
          0.4569138276553106,
          0.45891783567134264,
          0.4609218436873747,
          0.4629258517034068,
          0.46492985971943884,
          0.4669338677354709,
          0.468937875751503,
          0.47094188376753504,
          0.4729458917835671,
          0.4749498997995992,
          0.47695390781563124,
          0.4789579158316633,
          0.48096192384769537,
          0.48296593186372744,
          0.4849699398797595,
          0.48697394789579157,
          0.4889779559118236,
          0.49098196392785565,
          0.4929859719438877,
          0.4949899799599198,
          0.49699398797595185,
          0.4989979959919839,
          0.501002004008016,
          0.503006012024048,
          0.5050100200400801,
          0.5070140280561122,
          0.5090180360721442,
          0.5110220440881763,
          0.5130260521042084,
          0.5150300601202404,
          0.5170340681362725,
          0.5190380761523046,
          0.5210420841683366,
          0.5230460921843687,
          0.5250501002004008,
          0.5270541082164328,
          0.5290581162324649,
          0.531062124248497,
          0.533066132264529,
          0.5350701402805611,
          0.5370741482965932,
          0.5390781563126252,
          0.5410821643286573,
          0.5430861723446894,
          0.5450901803607214,
          0.5470941883767535,
          0.5490981963927856,
          0.5511022044088176,
          0.5531062124248497,
          0.5551102204408818,
          0.5571142284569138,
          0.5591182364729459,
          0.561122244488978,
          0.56312625250501,
          0.565130260521042,
          0.567134268537074,
          0.5691382765531061,
          0.5711422845691382,
          0.5731462925851702,
          0.5751503006012023,
          0.5771543086172344,
          0.5791583166332664,
          0.5811623246492985,
          0.5831663326653306,
          0.5851703406813626,
          0.5871743486973947,
          0.5891783567134268,
          0.5911823647294588,
          0.5931863727454909,
          0.595190380761523,
          0.597194388777555,
          0.5991983967935871,
          0.6012024048096192,
          0.6032064128256512,
          0.6052104208416833,
          0.6072144288577154,
          0.6092184368737474,
          0.6112224448897795,
          0.6132264529058116,
          0.6152304609218436,
          0.6172344689378757,
          0.6192384769539078,
          0.6212424849699398,
          0.6232464929859719,
          0.625250501002004,
          0.627254509018036,
          0.6292585170340681,
          0.6312625250501002,
          0.6332665330661322,
          0.6352705410821643,
          0.6372745490981964,
          0.6392785571142284,
          0.6412825651302605,
          0.6432865731462926,
          0.6452905811623246,
          0.6472945891783567,
          0.6492985971943888,
          0.6513026052104208,
          0.6533066132264529,
          0.655310621242485,
          0.657314629258517,
          0.6593186372745491,
          0.6613226452905812,
          0.6633266533066132,
          0.6653306613226453,
          0.6673346693386772,
          0.6693386773547093,
          0.6713426853707414,
          0.6733466933867734,
          0.6753507014028055,
          0.6773547094188376,
          0.6793587174348696,
          0.6813627254509017,
          0.6833667334669338,
          0.6853707414829658,
          0.6873747494989979,
          0.68937875751503,
          0.691382765531062,
          0.6933867735470941,
          0.6953907815631262,
          0.6973947895791582,
          0.6993987975951903,
          0.7014028056112224,
          0.7034068136272544,
          0.7054108216432865,
          0.7074148296593186,
          0.7094188376753506,
          0.7114228456913827,
          0.7134268537074148,
          0.7154308617234468,
          0.7174348697394789,
          0.719438877755511,
          0.721442885771543,
          0.7234468937875751,
          0.7254509018036072,
          0.7274549098196392,
          0.7294589178356713,
          0.7314629258517034,
          0.7334669338677354,
          0.7354709418837675,
          0.7374749498997996,
          0.7394789579158316,
          0.7414829659318637,
          0.7434869739478958,
          0.7454909819639278,
          0.7474949899799599,
          0.749498997995992,
          0.751503006012024,
          0.7535070140280561,
          0.7555110220440882,
          0.7575150300601202,
          0.7595190380761523,
          0.7615230460921844,
          0.7635270541082164,
          0.7655310621242485,
          0.7675350701402806,
          0.7695390781563125,
          0.7715430861723446,
          0.7735470941883766,
          0.7755511022044087,
          0.7775551102204408,
          0.7795591182364728,
          0.7815631262525049,
          0.783567134268537,
          0.785571142284569,
          0.7875751503006011,
          0.7895791583166332,
          0.7915831663326652,
          0.7935871743486973,
          0.7955911823647294,
          0.7975951903807614,
          0.7995991983967935,
          0.8016032064128256,
          0.8036072144288576,
          0.8056112224448897,
          0.8076152304609218,
          0.8096192384769538,
          0.8116232464929859,
          0.813627254509018,
          0.81563126252505,
          0.8176352705410821,
          0.8196392785571142,
          0.8216432865731462,
          0.8236472945891783,
          0.8256513026052104,
          0.8276553106212424,
          0.8296593186372745,
          0.8316633266533066,
          0.8336673346693386,
          0.8356713426853707,
          0.8376753507014028,
          0.8396793587174348,
          0.8416833667334669,
          0.843687374749499,
          0.845691382765531,
          0.8476953907815631,
          0.8496993987975952,
          0.8517034068136272,
          0.8537074148296593,
          0.8557114228456913,
          0.8577154308617234,
          0.8597194388777555,
          0.8617234468937875,
          0.8637274549098196,
          0.8657314629258517,
          0.8677354709418837,
          0.8697394789579158,
          0.8717434869739479,
          0.8737474949899798,
          0.8757515030060119,
          0.877755511022044,
          0.879759519038076,
          0.8817635270541081,
          0.8837675350701402,
          0.8857715430861722,
          0.8877755511022043,
          0.8897795591182364,
          0.8917835671342684,
          0.8937875751503005,
          0.8957915831663326,
          0.8977955911823646,
          0.8997995991983967,
          0.9018036072144288,
          0.9038076152304608,
          0.9058116232464929,
          0.907815631262525,
          0.909819639278557,
          0.9118236472945891,
          0.9138276553106212,
          0.9158316633266532,
          0.9178356713426853,
          0.9198396793587174,
          0.9218436873747494,
          0.9238476953907815,
          0.9258517034068136,
          0.9278557114228456,
          0.9298597194388777,
          0.9318637274549098,
          0.9338677354709418,
          0.9358717434869739,
          0.937875751503006,
          0.939879759519038,
          0.9418837675350701,
          0.9438877755511021,
          0.9458917835671342,
          0.9478957915831663,
          0.9498997995991983,
          0.9519038076152304,
          0.9539078156312625,
          0.9559118236472945,
          0.9579158316633266,
          0.9599198396793587,
          0.9619238476953907,
          0.9639278557114228,
          0.9659318637274549,
          0.9679358717434869,
          0.969939879759519,
          0.9719438877755511,
          0.9739478957915831,
          0.9759519038076151,
          0.9779559118236472,
          0.9799599198396792,
          0.9819639278557113,
          0.9839679358717434,
          0.9859719438877754,
          0.9879759519038075,
          0.9899799599198396,
          0.9919839679358716,
          0.9939879759519037,
          0.9959919839679358,
          0.9979959919839678,
          1
         ],
         "y": [
          0.7176635178908072,
          0.6199002726871295,
          -1.06127441458554,
          -1.1733982094824333,
          0.2925382744771501,
          -0.8402525027181724,
          -0.31807265243433985,
          1.5836945499311923,
          -1.6273642112836861,
          1.3387752950573872,
          0.6632599775806206,
          -0.36610319930932106,
          0.3595617633145819,
          -1.0416433171319437,
          -0.35996727760847547,
          0.19356257801642973,
          -0.9341652264600641,
          -0.8185724069721881,
          1.932608917925663,
          -0.13786900885727452,
          0.06948661129266442,
          0.8420066617785047,
          -0.5043591564263985,
          -0.21082294548341451,
          -0.6539755031622576,
          -1.241669261236433,
          0.9265466988786134,
          -0.7520248049611142,
          1.076135221890811,
          -0.8055904362393966,
          2.1195586257835397,
          0.8363371222641391,
          0.5239157828035983,
          -1.0205455423538292,
          -0.08960817902197389,
          -0.3358276873448747,
          0.13725822426710396,
          1.0981616225548518,
          -1.4008470380589864,
          -0.42258509028786123,
          -0.45946819295626085,
          -2.0786088991315874,
          0.20960389197148777,
          0.055919771583120205,
          1.378287734997188,
          0.9737471779847114,
          -0.6806931754355036,
          0.48244509159797977,
          0.28524869720079804,
          0.1880328066383859,
          0.2940135105355677,
          -0.7118056792442006,
          0.20480499319066717,
          -0.9100748993696053,
          -1.9564069062303333,
          -0.6597624909596195,
          1.913808988717828,
          -0.0607245031837604,
          -1.8585242478772488,
          0.44172021955076607,
          -0.5203921854952431,
          -0.9804757286579344,
          -0.04621786873979846,
          -0.4249516691820652,
          0.2421611703337813,
          1.144501468155671,
          0.39808292271983753,
          1.0841280531519257,
          -0.850866807599056,
          -0.03757090888985439,
          1.0321770928983909,
          -2.8344726992965104,
          0.0012399714220903862,
          2.320075738824429,
          -0.28292789417967024,
          -1.1240193152727047,
          1.000432540692752,
          0.4294089741295785,
          -0.4400008156644222,
          0.2877323918887333,
          1.4025411670716692,
          1.0736863347746128,
          -0.3310078941265991,
          0.001017672993881612,
          -1.2624147426550458,
          1.035451366951995,
          0.33564336610930934,
          0.2127518533594555,
          1.0957319742735332,
          0.18656096906747083,
          0.30650723882332287,
          0.2698856110678235,
          0.34558652620642394,
          0.2781564458645662,
          0.9872544513294624,
          -0.5822648897109144,
          -0.3013504343646553,
          -0.8762695801864399,
          0.821195870542345,
          -0.975745412794693,
          1.0183057731677077,
          1.0632539916476422,
          -0.7435052210919932,
          -0.7979900224745314,
          0.03971408436227021,
          0.10095695182830665,
          -1.0904242970248006,
          0.012612291663099054,
          0.4594431720439388,
          -1.0677220435648136,
          0.3059467916694578,
          -0.26663815698022847,
          -0.26981130431360995,
          -0.8014035429151328,
          -1.1153121145571046,
          0.6149261273449653,
          0.5630453359674856,
          -0.0028509795554131773,
          -0.9809825482068464,
          -0.6085276220692674,
          -2.0685052953961924,
          0.31927529855215364,
          0.0973262501171354,
          -0.11665733639553441,
          -0.9523155745372526,
          -0.9484786987978328,
          -1.0974462771536808,
          1.4420614560738088,
          2.377921294381897,
          0.46309045539504134,
          0.6768555789621616,
          0.8183605175626514,
          1.2594727615438128,
          0.14018565837555844,
          -0.35791701297175604,
          0.042766468254670696,
          -0.274686489580962,
          -1.0447711357831737,
          -0.32682563048720603,
          -0.3644096956970052,
          -1.726014218838364,
          0.8531115283377518,
          1.213378249847129,
          -0.7914358476397599,
          -2.4009672290640687,
          0.3826536831504004,
          -0.1315195429697876,
          1.2169577320634062,
          -0.42175790967236276,
          0.4788499195196895,
          -0.8105906626304566,
          0.6574101633370896,
          0.5909431408323865,
          -0.37789121256195113,
          0.7410183682461058,
          -0.8447379218984429,
          0.5614899998180376,
          0.7393189026140025,
          -1.8107221025440297,
          -0.5998049634364272,
          -1.104795129631622,
          0.7415820254449913,
          0.7894818312356516,
          -1.7120289274398783,
          1.9322212205673968,
          -0.12043858695047649,
          -0.5724833402183587,
          -1.2017251968612865,
          1.9637150783185333,
          -0.16970797079716216,
          -0.38003025194806284,
          -0.6732340412784047,
          -0.7183980516970212,
          -0.2296516626169564,
          0.21064855182013567,
          -0.500162170274136,
          -0.3523107142497307,
          -0.6169213471626074,
          -1.5486057490336043,
          -0.038899107023514366,
          -0.537439462336671,
          -0.10162079219511697,
          -0.6406174106376801,
          -0.03926430652994627,
          -1.1635354200975887,
          -0.11022687149299745,
          0.5699603534133955,
          -0.922959148896351,
          1.0715613892819746,
          -1.0584070133050651,
          -0.9009962238643641,
          -0.8154815085477075,
          1.3221067114376805,
          -0.4426332850752235,
          0.1794672105239849,
          1.4187136729406986,
          0.0736698660128026,
          -0.6074095711660749,
          1.168945647231757,
          1.6249107044909392,
          -0.11173212665134247,
          2.0526147258483096,
          -1.1635697654750525,
          -0.021809951544877887,
          -0.6663084196743535,
          2.3633977182280925,
          -0.22571345347961666,
          1.1251847600805263,
          -0.15645868542310057,
          -0.23770544861652257,
          0.17742311988240508,
          -0.28241241172493337,
          0.48000188651512227,
          0.8030953711110966,
          -1.549071893411127,
          -0.6280496770086206,
          1.6121468890180228,
          -0.2851187283449218,
          0.08972103619850905,
          -0.5237152579780444,
          0.872996602260478,
          -1.0039580363522005,
          0.34983375440848974,
          -0.18696563912793981,
          -0.805816618911807,
          -1.5570994629916255,
          -1.0179316355437384,
          -0.2714124586440878,
          -3.166284605622694,
          -0.3843261582465653,
          -1.4266259564492323,
          1.0154128187392935,
          1.3798123394654989,
          -0.5513053242671796,
          -0.5503120804961202,
          1.0596131529421442,
          -0.1089435301232757,
          0.3335670102825713,
          -1.5415067424149953,
          0.8674888010601377,
          -2.33883994016245,
          1.6378731204905872,
          -1.1792310886921258,
          2.1817250113938322,
          -0.4196463996569577,
          1.6198912152979796,
          -0.10021165742496342,
          -0.7078780832912158,
          -0.9995046776672624,
          0.2520508337535597,
          0.42571936949390304,
          0.1277053957225554,
          -1.7014249403067128,
          -0.2284833064545365,
          -1.6167663555545844,
          -0.8128976535666709,
          -1.2542910324858723,
          1.0820646452929743,
          -0.3361258641563804,
          0.839951145302785,
          -1.0545068169653806,
          0.16809709472730386,
          0.4826833546902169,
          2.003105070920445,
          -0.9987174808129754,
          -0.5900140126405327,
          -1.3462234239739628,
          0.2993598922243151,
          -1.2959571115312187,
          -0.08939952598591223,
          -1.1980772728214504,
          -0.5466957779738328,
          0.02134534460232691,
          1.1863751942134964,
          0.026803200189852203,
          -0.8596734415273243,
          -1.7961127398068975,
          -1.730369911249635,
          0.5018164566321903,
          -1.2612458583176798,
          0.6138137992387137,
          0.17972753168146188,
          -1.2886177257429512,
          -0.1870809711553464,
          -0.48594001128601727,
          -0.8474861144998449,
          1.364727772053284,
          -0.5638613668895303,
          -0.9879838129146225,
          1.541470508557337,
          0.06779008614994143,
          1.4759147740273375,
          0.3639670592004422,
          -0.2312447042377582,
          -0.5338851017164208,
          0.3411772174500269,
          -0.6953804190214417,
          0.3211879563394088,
          -1.2257638741990415,
          -1.598304779720426,
          0.7107214475895125,
          -0.4072326774512725,
          -1.2874497253381896,
          -0.07019170279185519,
          0.7570759687724629,
          -0.4189915760469358,
          -0.6105009940994236,
          0.9007386517844135,
          -0.6947784115287406,
          -0.29983540559633187,
          -0.7927622379395559,
          -0.3284110020424639,
          -0.23636997190549908,
          -1.2285375146943838,
          0.755201304372146,
          1.2706120364339752,
          -0.2487496886226231,
          -0.1979537892896547,
          1.9961120584385574,
          0.3683113464030573,
          0.4650223202245593,
          0.4368297576091971,
          1.7545749790722271,
          0.21263350475057802,
          1.8868714863469493,
          0.7442009776107016,
          0.36994643041440595,
          1.0695851995880064,
          0.07652861811123528,
          -0.17074667686320247,
          1.3352395328499456,
          0.3999416705226251,
          -0.4261276072011206,
          -0.10330675800209027,
          -0.6166430863430192,
          0.19283673297605824,
          1.1044926343152313,
          -0.04828561623378503,
          -0.5498787517842716,
          1.9135864735962826,
          2.315154933423302,
          -0.6960408588598243,
          -0.1278130366268593,
          0.5011981246748638,
          0.8998317154920065,
          0.6292734867327224,
          -0.23804590373130577,
          0.4515217890692125,
          -0.8923726931599588,
          -1.136958181992086,
          -0.288559619296282,
          -0.10680497185665934,
          -1.6857419174607065,
          1.4807096803541766,
          -0.023422204530573996,
          1.320564029460225,
          -1.3515648727104153,
          -0.2930953304526029,
          1.2274784244430061,
          0.15459101910311498,
          -0.48540035075416044,
          1.1997813695988901,
          -0.6555536076257326,
          0.9445439967742921,
          -0.36186482649542406,
          -3.138173539955273,
          0.5969356598708127,
          1.2070520292263534,
          0.7510725300134284,
          -1.5467792461755328,
          0.7277228815169856,
          -0.5222809412089612,
          2.97020291652402,
          0.3307065350382515,
          -1.034465747283553,
          0.9458643859943907,
          -0.38090970026110216,
          1.2371721285912334,
          1.2392487062557564,
          0.2796166039921855,
          -0.05157613152355801,
          0.0984528449819987,
          -0.9460864893812233,
          -0.6090738196857525,
          -0.12761222717428347,
          -0.5832479449727871,
          -0.08305239489839729,
          0.32282771726391574,
          -2.9394689113986825,
          -0.6378568959580069,
          -0.19621819606912025,
          -0.23193801230956937,
          -0.3877024596452743,
          0.6456853454413349,
          -0.7527633984648479,
          -0.5077134453684436,
          0.4604084037696384,
          -0.3730122814684367,
          -1.914326680142753,
          -0.6821047653357509,
          -0.511072346466628,
          -0.44676102371507104,
          -0.26802486807435827,
          0.45811667636434256,
          1.528808719488349,
          -0.8603408917003952,
          0.060221716463809256,
          0.4036495120998379,
          1.6215012110320912,
          -0.8962957639090908,
          -0.4257363836045626,
          -0.8664339940645611,
          0.0994901299293531,
          -1.1430496348640882,
          -1.6617765698069333,
          -0.17787847518567096,
          -0.8151494096048391,
          -2.5262944848022655,
          -1.5215770280334682,
          -1.0421121166816747,
          -0.25142845210134396,
          0.09178089006204808,
          0.4231394485577639,
          0.5009828231666583,
          -0.897619528159138,
          -0.6741351184210487,
          0.4196507030892068,
          0.9502904259514726,
          -0.07110472160927973,
          0.9943428374085639,
          2.067864603429066,
          -0.9276510041215137,
          -0.21474344836482048,
          -1.273305939075583,
          0.07867383448312922,
          0.3692465928012464,
          0.601199833084508,
          0.29876894431964973,
          0.9423047292083624,
          -0.7637120184370941,
          -0.8708696824632088,
          -2.109003644742817,
          0.547550820787744,
          0.3072224993839424,
          1.641349074786405,
          1.0658393949706968,
          0.116319952221468,
          0.18798713915942508,
          0.6591478617068043,
          -1.5612028511415936,
          2.0148584025613254,
          0.4010533769415872,
          1.2075941460109634,
          0.26024486346697495,
          -0.43821974808155423,
          -0.390744058892741,
          -1.7953276222718542,
          -0.9773232044522153,
          0.15064758800886527,
          -0.8983990581591391,
          -1.430071669532987,
          -1.0043211438973205,
          -0.3785935811111765,
          -0.8524251896904592,
          0.6975440684998608,
          -0.010652726410831169,
          -2.617211767973862,
          -0.33145995697700514,
          0.539759506465897,
          0.46810331871475785,
          1.43519507097201,
          1.6631547562722575,
          0.2764013308154466,
          -1.1689591268262243,
          0.04981816595930228,
          -0.5382219772397311,
          1.5536365090771194,
          0.5439938996775652,
          1.6150361581186814,
          -1.1278233238189086,
          -1.2672737342761322,
          -1.8498366000094082,
          0.017673555066586612,
          0.599716925952189,
          0.5353068886702249,
          0.5334185514421169,
          -0.29025648059696024,
          0.5155965962283034,
          1.24466206010506,
          1.0773345074742138,
          -0.7674166708046044,
          0.23811971037744048,
          0.06693126940605905,
          -0.2952061667202949,
          -0.14994533224250964,
          -1.0786740251146263,
          0.4677124406757555,
          -0.4402578130852983,
          0.5206780770524708,
          -0.9836084384695669
         ]
        }
       ],
       "layout": {}
      },
      "text/html": [
       "<div id=\"e8f8878a-76e0-4fe1-b9ac-91059fad1536\" style=\"height: 525px; width: 100%;\" class=\"plotly-graph-div\"></div><script type=\"text/javascript\">require([\"plotly\"], function(Plotly) { window.PLOTLYENV=window.PLOTLYENV || {};window.PLOTLYENV.BASE_URL=\"https://plot.ly\";Plotly.newPlot(\"e8f8878a-76e0-4fe1-b9ac-91059fad1536\", [{\"y\": [0.7176635178908072, 0.6199002726871295, -1.06127441458554, -1.1733982094824333, 0.2925382744771501, -0.8402525027181724, -0.31807265243433985, 1.5836945499311923, -1.6273642112836861, 1.3387752950573872, 0.6632599775806206, -0.36610319930932106, 0.3595617633145819, -1.0416433171319437, -0.35996727760847547, 0.19356257801642973, -0.9341652264600641, -0.8185724069721881, 1.932608917925663, -0.13786900885727452, 0.06948661129266442, 0.8420066617785047, -0.5043591564263985, -0.21082294548341451, -0.6539755031622576, -1.241669261236433, 0.9265466988786134, -0.7520248049611142, 1.076135221890811, -0.8055904362393966, 2.1195586257835397, 0.8363371222641391, 0.5239157828035983, -1.0205455423538292, -0.08960817902197389, -0.3358276873448747, 0.13725822426710396, 1.0981616225548518, -1.4008470380589864, -0.42258509028786123, -0.45946819295626085, -2.0786088991315874, 0.20960389197148777, 0.055919771583120205, 1.378287734997188, 0.9737471779847114, -0.6806931754355036, 0.48244509159797977, 0.28524869720079804, 0.1880328066383859, 0.2940135105355677, -0.7118056792442006, 0.20480499319066717, -0.9100748993696053, -1.9564069062303333, -0.6597624909596195, 1.913808988717828, -0.0607245031837604, -1.8585242478772488, 0.44172021955076607, -0.5203921854952431, -0.9804757286579344, -0.04621786873979846, -0.4249516691820652, 0.2421611703337813, 1.144501468155671, 0.39808292271983753, 1.0841280531519257, -0.850866807599056, -0.03757090888985439, 1.0321770928983909, -2.8344726992965104, 0.0012399714220903862, 2.320075738824429, -0.28292789417967024, -1.1240193152727047, 1.000432540692752, 0.4294089741295785, -0.4400008156644222, 0.2877323918887333, 1.4025411670716692, 1.0736863347746128, -0.3310078941265991, 0.001017672993881612, -1.2624147426550458, 1.035451366951995, 0.33564336610930934, 0.2127518533594555, 1.0957319742735332, 0.18656096906747083, 0.30650723882332287, 0.2698856110678235, 0.34558652620642394, 0.2781564458645662, 0.9872544513294624, -0.5822648897109144, -0.3013504343646553, -0.8762695801864399, 0.821195870542345, -0.975745412794693, 1.0183057731677077, 1.0632539916476422, -0.7435052210919932, -0.7979900224745314, 0.03971408436227021, 0.10095695182830665, -1.0904242970248006, 0.012612291663099054, 0.4594431720439388, -1.0677220435648136, 0.3059467916694578, -0.26663815698022847, -0.26981130431360995, -0.8014035429151328, -1.1153121145571046, 0.6149261273449653, 0.5630453359674856, -0.0028509795554131773, -0.9809825482068464, -0.6085276220692674, -2.0685052953961924, 0.31927529855215364, 0.0973262501171354, -0.11665733639553441, -0.9523155745372526, -0.9484786987978328, -1.0974462771536808, 1.4420614560738088, 2.377921294381897, 0.46309045539504134, 0.6768555789621616, 0.8183605175626514, 1.2594727615438128, 0.14018565837555844, -0.35791701297175604, 0.042766468254670696, -0.274686489580962, -1.0447711357831737, -0.32682563048720603, -0.3644096956970052, -1.726014218838364, 0.8531115283377518, 1.213378249847129, -0.7914358476397599, -2.4009672290640687, 0.3826536831504004, -0.1315195429697876, 1.2169577320634062, -0.42175790967236276, 0.4788499195196895, -0.8105906626304566, 0.6574101633370896, 0.5909431408323865, -0.37789121256195113, 0.7410183682461058, -0.8447379218984429, 0.5614899998180376, 0.7393189026140025, -1.8107221025440297, -0.5998049634364272, -1.104795129631622, 0.7415820254449913, 0.7894818312356516, -1.7120289274398783, 1.9322212205673968, -0.12043858695047649, -0.5724833402183587, -1.2017251968612865, 1.9637150783185333, -0.16970797079716216, -0.38003025194806284, -0.6732340412784047, -0.7183980516970212, -0.2296516626169564, 0.21064855182013567, -0.500162170274136, -0.3523107142497307, -0.6169213471626074, -1.5486057490336043, -0.038899107023514366, -0.537439462336671, -0.10162079219511697, -0.6406174106376801, -0.03926430652994627, -1.1635354200975887, -0.11022687149299745, 0.5699603534133955, -0.922959148896351, 1.0715613892819746, -1.0584070133050651, -0.9009962238643641, -0.8154815085477075, 1.3221067114376805, -0.4426332850752235, 0.1794672105239849, 1.4187136729406986, 0.0736698660128026, -0.6074095711660749, 1.168945647231757, 1.6249107044909392, -0.11173212665134247, 2.0526147258483096, -1.1635697654750525, -0.021809951544877887, -0.6663084196743535, 2.3633977182280925, -0.22571345347961666, 1.1251847600805263, -0.15645868542310057, -0.23770544861652257, 0.17742311988240508, -0.28241241172493337, 0.48000188651512227, 0.8030953711110966, -1.549071893411127, -0.6280496770086206, 1.6121468890180228, -0.2851187283449218, 0.08972103619850905, -0.5237152579780444, 0.872996602260478, -1.0039580363522005, 0.34983375440848974, -0.18696563912793981, -0.805816618911807, -1.5570994629916255, -1.0179316355437384, -0.2714124586440878, -3.166284605622694, -0.3843261582465653, -1.4266259564492323, 1.0154128187392935, 1.3798123394654989, -0.5513053242671796, -0.5503120804961202, 1.0596131529421442, -0.1089435301232757, 0.3335670102825713, -1.5415067424149953, 0.8674888010601377, -2.33883994016245, 1.6378731204905872, -1.1792310886921258, 2.1817250113938322, -0.4196463996569577, 1.6198912152979796, -0.10021165742496342, -0.7078780832912158, -0.9995046776672624, 0.2520508337535597, 0.42571936949390304, 0.1277053957225554, -1.7014249403067128, -0.2284833064545365, -1.6167663555545844, -0.8128976535666709, -1.2542910324858723, 1.0820646452929743, -0.3361258641563804, 0.839951145302785, -1.0545068169653806, 0.16809709472730386, 0.4826833546902169, 2.003105070920445, -0.9987174808129754, -0.5900140126405327, -1.3462234239739628, 0.2993598922243151, -1.2959571115312187, -0.08939952598591223, -1.1980772728214504, -0.5466957779738328, 0.02134534460232691, 1.1863751942134964, 0.026803200189852203, -0.8596734415273243, -1.7961127398068975, -1.730369911249635, 0.5018164566321903, -1.2612458583176798, 0.6138137992387137, 0.17972753168146188, -1.2886177257429512, -0.1870809711553464, -0.48594001128601727, -0.8474861144998449, 1.364727772053284, -0.5638613668895303, -0.9879838129146225, 1.541470508557337, 0.06779008614994143, 1.4759147740273375, 0.3639670592004422, -0.2312447042377582, -0.5338851017164208, 0.3411772174500269, -0.6953804190214417, 0.3211879563394088, -1.2257638741990415, -1.598304779720426, 0.7107214475895125, -0.4072326774512725, -1.2874497253381896, -0.07019170279185519, 0.7570759687724629, -0.4189915760469358, -0.6105009940994236, 0.9007386517844135, -0.6947784115287406, -0.29983540559633187, -0.7927622379395559, -0.3284110020424639, -0.23636997190549908, -1.2285375146943838, 0.755201304372146, 1.2706120364339752, -0.2487496886226231, -0.1979537892896547, 1.9961120584385574, 0.3683113464030573, 0.4650223202245593, 0.4368297576091971, 1.7545749790722271, 0.21263350475057802, 1.8868714863469493, 0.7442009776107016, 0.36994643041440595, 1.0695851995880064, 0.07652861811123528, -0.17074667686320247, 1.3352395328499456, 0.3999416705226251, -0.4261276072011206, -0.10330675800209027, -0.6166430863430192, 0.19283673297605824, 1.1044926343152313, -0.04828561623378503, -0.5498787517842716, 1.9135864735962826, 2.315154933423302, -0.6960408588598243, -0.1278130366268593, 0.5011981246748638, 0.8998317154920065, 0.6292734867327224, -0.23804590373130577, 0.4515217890692125, -0.8923726931599588, -1.136958181992086, -0.288559619296282, -0.10680497185665934, -1.6857419174607065, 1.4807096803541766, -0.023422204530573996, 1.320564029460225, -1.3515648727104153, -0.2930953304526029, 1.2274784244430061, 0.15459101910311498, -0.48540035075416044, 1.1997813695988901, -0.6555536076257326, 0.9445439967742921, -0.36186482649542406, -3.138173539955273, 0.5969356598708127, 1.2070520292263534, 0.7510725300134284, -1.5467792461755328, 0.7277228815169856, -0.5222809412089612, 2.97020291652402, 0.3307065350382515, -1.034465747283553, 0.9458643859943907, -0.38090970026110216, 1.2371721285912334, 1.2392487062557564, 0.2796166039921855, -0.05157613152355801, 0.0984528449819987, -0.9460864893812233, -0.6090738196857525, -0.12761222717428347, -0.5832479449727871, -0.08305239489839729, 0.32282771726391574, -2.9394689113986825, -0.6378568959580069, -0.19621819606912025, -0.23193801230956937, -0.3877024596452743, 0.6456853454413349, -0.7527633984648479, -0.5077134453684436, 0.4604084037696384, -0.3730122814684367, -1.914326680142753, -0.6821047653357509, -0.511072346466628, -0.44676102371507104, -0.26802486807435827, 0.45811667636434256, 1.528808719488349, -0.8603408917003952, 0.060221716463809256, 0.4036495120998379, 1.6215012110320912, -0.8962957639090908, -0.4257363836045626, -0.8664339940645611, 0.0994901299293531, -1.1430496348640882, -1.6617765698069333, -0.17787847518567096, -0.8151494096048391, -2.5262944848022655, -1.5215770280334682, -1.0421121166816747, -0.25142845210134396, 0.09178089006204808, 0.4231394485577639, 0.5009828231666583, -0.897619528159138, -0.6741351184210487, 0.4196507030892068, 0.9502904259514726, -0.07110472160927973, 0.9943428374085639, 2.067864603429066, -0.9276510041215137, -0.21474344836482048, -1.273305939075583, 0.07867383448312922, 0.3692465928012464, 0.601199833084508, 0.29876894431964973, 0.9423047292083624, -0.7637120184370941, -0.8708696824632088, -2.109003644742817, 0.547550820787744, 0.3072224993839424, 1.641349074786405, 1.0658393949706968, 0.116319952221468, 0.18798713915942508, 0.6591478617068043, -1.5612028511415936, 2.0148584025613254, 0.4010533769415872, 1.2075941460109634, 0.26024486346697495, -0.43821974808155423, -0.390744058892741, -1.7953276222718542, -0.9773232044522153, 0.15064758800886527, -0.8983990581591391, -1.430071669532987, -1.0043211438973205, -0.3785935811111765, -0.8524251896904592, 0.6975440684998608, -0.010652726410831169, -2.617211767973862, -0.33145995697700514, 0.539759506465897, 0.46810331871475785, 1.43519507097201, 1.6631547562722575, 0.2764013308154466, -1.1689591268262243, 0.04981816595930228, -0.5382219772397311, 1.5536365090771194, 0.5439938996775652, 1.6150361581186814, -1.1278233238189086, -1.2672737342761322, -1.8498366000094082, 0.017673555066586612, 0.599716925952189, 0.5353068886702249, 0.5334185514421169, -0.29025648059696024, 0.5155965962283034, 1.24466206010506, 1.0773345074742138, -0.7674166708046044, 0.23811971037744048, 0.06693126940605905, -0.2952061667202949, -0.14994533224250964, -1.0786740251146263, 0.4677124406757555, -0.4402578130852983, 0.5206780770524708, -0.9836084384695669], \"x\": [0.0, 0.002004008016032064, 0.004008016032064128, 0.0060120240480961915, 0.008016032064128256, 0.01002004008016032, 0.012024048096192383, 0.014028056112224447, 0.01603206412825651, 0.018036072144288574, 0.02004008016032064, 0.022044088176352703, 0.024048096192384766, 0.026052104208416832, 0.028056112224448895, 0.03006012024048096, 0.03206412825651302, 0.03406813627254509, 0.03607214428857715, 0.038076152304609215, 0.04008016032064128, 0.04208416833667334, 0.044088176352705406, 0.04609218436873747, 0.04809619238476953, 0.0501002004008016, 0.052104208416833664, 0.05410821643286573, 0.05611222444889779, 0.058116232464929855, 0.06012024048096192, 0.06212424849699398, 0.06412825651302605, 0.06613226452905811, 0.06813627254509018, 0.07014028056112225, 0.0721442885771543, 0.07414829659318636, 0.07615230460921843, 0.0781563126252505, 0.08016032064128256, 0.08216432865731463, 0.08416833667334668, 0.08617234468937875, 0.08817635270541081, 0.09018036072144288, 0.09218436873747494, 0.09418837675350701, 0.09619238476953906, 0.09819639278557113, 0.1002004008016032, 0.10220440881763526, 0.10420841683366733, 0.1062124248496994, 0.10821643286573146, 0.11022044088176351, 0.11222444889779558, 0.11422845691382764, 0.11623246492985971, 0.11823647294589178, 0.12024048096192384, 0.1222444889779559, 0.12424849699398796, 0.12625250501002003, 0.1282565130260521, 0.13026052104208416, 0.13226452905811623, 0.1342685370741483, 0.13627254509018036, 0.13827655310621242, 0.1402805611222445, 0.14228456913827653, 0.1442885771543086, 0.14629258517034066, 0.14829659318637273, 0.1503006012024048, 0.15230460921843686, 0.15430861723446893, 0.156312625250501, 0.15831663326653306, 0.16032064128256512, 0.1623246492985972, 0.16432865731462926, 0.16633266533066132, 0.16833667334669336, 0.17034068136272543, 0.1723446893787575, 0.17434869739478956, 0.17635270541082163, 0.1783567134268537, 0.18036072144288576, 0.18236472945891782, 0.1843687374749499, 0.18637274549098196, 0.18837675350701402, 0.1903807615230461, 0.19238476953907813, 0.1943887775551102, 0.19639278557114226, 0.19839679358717432, 0.2004008016032064, 0.20240480961923846, 0.20440881763527052, 0.2064128256513026, 0.20841683366733466, 0.21042084168336672, 0.2124248496993988, 0.21442885771543085, 0.21643286573146292, 0.21843687374749496, 0.22044088176352702, 0.2224448897795591, 0.22444889779559116, 0.22645290581162322, 0.2284569138276553, 0.23046092184368736, 0.23246492985971942, 0.2344689378757515, 0.23647294589178355, 0.23847695390781562, 0.24048096192384769, 0.24248496993987975, 0.2444889779559118, 0.24649298597194386, 0.24849699398797592, 0.250501002004008, 0.25250501002004005, 0.2545090180360721, 0.2565130260521042, 0.25851703406813625, 0.2605210420841683, 0.2625250501002004, 0.26452905811623245, 0.2665330661322645, 0.2685370741482966, 0.27054108216432865, 0.2725450901803607, 0.2745490981963928, 0.27655310621242485, 0.2785571142284569, 0.280561122244489, 0.282565130260521, 0.28456913827655306, 0.2865731462925851, 0.2885771543086172, 0.29058116232464926, 0.2925851703406813, 0.2945891783567134, 0.29659318637274545, 0.2985971943887775, 0.3006012024048096, 0.30260521042084165, 0.3046092184368737, 0.3066132264529058, 0.30861723446893785, 0.3106212424849699, 0.312625250501002, 0.31462925851703405, 0.3166332665330661, 0.3186372745490982, 0.32064128256513025, 0.3226452905811623, 0.3246492985971944, 0.32665330661322645, 0.3286573146292585, 0.3306613226452906, 0.33266533066132264, 0.33466933867735466, 0.3366733466933867, 0.3386773547094188, 0.34068136272545085, 0.3426853707414829, 0.344689378757515, 0.34669338677354705, 0.3486973947895791, 0.3507014028056112, 0.35270541082164325, 0.3547094188376753, 0.3567134268537074, 0.35871743486973945, 0.3607214428857715, 0.3627254509018036, 0.36472945891783565, 0.3667334669338677, 0.3687374749498998, 0.37074148296593185, 0.3727454909819639, 0.374749498997996, 0.37675350701402804, 0.3787575150300601, 0.3807615230460922, 0.38276553106212424, 0.38476953907815625, 0.3867735470941883, 0.3887775551102204, 0.39078156312625245, 0.3927855711422845, 0.3947895791583166, 0.39679358717434865, 0.3987975951903807, 0.4008016032064128, 0.40280561122244485, 0.4048096192384769, 0.406813627254509, 0.40881763527054105, 0.4108216432865731, 0.4128256513026052, 0.41482965931863724, 0.4168336673346693, 0.4188376753507014, 0.42084168336673344, 0.4228456913827655, 0.4248496993987976, 0.42685370741482964, 0.4288577154308617, 0.4308617234468938, 0.43286573146292584, 0.4348697394789579, 0.4368737474949899, 0.438877755511022, 0.44088176352705405, 0.4428857715430861, 0.4448897795591182, 0.44689378757515025, 0.4488977955911823, 0.4509018036072144, 0.45290581162324645, 0.4549098196392785, 0.4569138276553106, 0.45891783567134264, 0.4609218436873747, 0.4629258517034068, 0.46492985971943884, 0.4669338677354709, 0.468937875751503, 0.47094188376753504, 0.4729458917835671, 0.4749498997995992, 0.47695390781563124, 0.4789579158316633, 0.48096192384769537, 0.48296593186372744, 0.4849699398797595, 0.48697394789579157, 0.4889779559118236, 0.49098196392785565, 0.4929859719438877, 0.4949899799599198, 0.49699398797595185, 0.4989979959919839, 0.501002004008016, 0.503006012024048, 0.5050100200400801, 0.5070140280561122, 0.5090180360721442, 0.5110220440881763, 0.5130260521042084, 0.5150300601202404, 0.5170340681362725, 0.5190380761523046, 0.5210420841683366, 0.5230460921843687, 0.5250501002004008, 0.5270541082164328, 0.5290581162324649, 0.531062124248497, 0.533066132264529, 0.5350701402805611, 0.5370741482965932, 0.5390781563126252, 0.5410821643286573, 0.5430861723446894, 0.5450901803607214, 0.5470941883767535, 0.5490981963927856, 0.5511022044088176, 0.5531062124248497, 0.5551102204408818, 0.5571142284569138, 0.5591182364729459, 0.561122244488978, 0.56312625250501, 0.565130260521042, 0.567134268537074, 0.5691382765531061, 0.5711422845691382, 0.5731462925851702, 0.5751503006012023, 0.5771543086172344, 0.5791583166332664, 0.5811623246492985, 0.5831663326653306, 0.5851703406813626, 0.5871743486973947, 0.5891783567134268, 0.5911823647294588, 0.5931863727454909, 0.595190380761523, 0.597194388777555, 0.5991983967935871, 0.6012024048096192, 0.6032064128256512, 0.6052104208416833, 0.6072144288577154, 0.6092184368737474, 0.6112224448897795, 0.6132264529058116, 0.6152304609218436, 0.6172344689378757, 0.6192384769539078, 0.6212424849699398, 0.6232464929859719, 0.625250501002004, 0.627254509018036, 0.6292585170340681, 0.6312625250501002, 0.6332665330661322, 0.6352705410821643, 0.6372745490981964, 0.6392785571142284, 0.6412825651302605, 0.6432865731462926, 0.6452905811623246, 0.6472945891783567, 0.6492985971943888, 0.6513026052104208, 0.6533066132264529, 0.655310621242485, 0.657314629258517, 0.6593186372745491, 0.6613226452905812, 0.6633266533066132, 0.6653306613226453, 0.6673346693386772, 0.6693386773547093, 0.6713426853707414, 0.6733466933867734, 0.6753507014028055, 0.6773547094188376, 0.6793587174348696, 0.6813627254509017, 0.6833667334669338, 0.6853707414829658, 0.6873747494989979, 0.68937875751503, 0.691382765531062, 0.6933867735470941, 0.6953907815631262, 0.6973947895791582, 0.6993987975951903, 0.7014028056112224, 0.7034068136272544, 0.7054108216432865, 0.7074148296593186, 0.7094188376753506, 0.7114228456913827, 0.7134268537074148, 0.7154308617234468, 0.7174348697394789, 0.719438877755511, 0.721442885771543, 0.7234468937875751, 0.7254509018036072, 0.7274549098196392, 0.7294589178356713, 0.7314629258517034, 0.7334669338677354, 0.7354709418837675, 0.7374749498997996, 0.7394789579158316, 0.7414829659318637, 0.7434869739478958, 0.7454909819639278, 0.7474949899799599, 0.749498997995992, 0.751503006012024, 0.7535070140280561, 0.7555110220440882, 0.7575150300601202, 0.7595190380761523, 0.7615230460921844, 0.7635270541082164, 0.7655310621242485, 0.7675350701402806, 0.7695390781563125, 0.7715430861723446, 0.7735470941883766, 0.7755511022044087, 0.7775551102204408, 0.7795591182364728, 0.7815631262525049, 0.783567134268537, 0.785571142284569, 0.7875751503006011, 0.7895791583166332, 0.7915831663326652, 0.7935871743486973, 0.7955911823647294, 0.7975951903807614, 0.7995991983967935, 0.8016032064128256, 0.8036072144288576, 0.8056112224448897, 0.8076152304609218, 0.8096192384769538, 0.8116232464929859, 0.813627254509018, 0.81563126252505, 0.8176352705410821, 0.8196392785571142, 0.8216432865731462, 0.8236472945891783, 0.8256513026052104, 0.8276553106212424, 0.8296593186372745, 0.8316633266533066, 0.8336673346693386, 0.8356713426853707, 0.8376753507014028, 0.8396793587174348, 0.8416833667334669, 0.843687374749499, 0.845691382765531, 0.8476953907815631, 0.8496993987975952, 0.8517034068136272, 0.8537074148296593, 0.8557114228456913, 0.8577154308617234, 0.8597194388777555, 0.8617234468937875, 0.8637274549098196, 0.8657314629258517, 0.8677354709418837, 0.8697394789579158, 0.8717434869739479, 0.8737474949899798, 0.8757515030060119, 0.877755511022044, 0.879759519038076, 0.8817635270541081, 0.8837675350701402, 0.8857715430861722, 0.8877755511022043, 0.8897795591182364, 0.8917835671342684, 0.8937875751503005, 0.8957915831663326, 0.8977955911823646, 0.8997995991983967, 0.9018036072144288, 0.9038076152304608, 0.9058116232464929, 0.907815631262525, 0.909819639278557, 0.9118236472945891, 0.9138276553106212, 0.9158316633266532, 0.9178356713426853, 0.9198396793587174, 0.9218436873747494, 0.9238476953907815, 0.9258517034068136, 0.9278557114228456, 0.9298597194388777, 0.9318637274549098, 0.9338677354709418, 0.9358717434869739, 0.937875751503006, 0.939879759519038, 0.9418837675350701, 0.9438877755511021, 0.9458917835671342, 0.9478957915831663, 0.9498997995991983, 0.9519038076152304, 0.9539078156312625, 0.9559118236472945, 0.9579158316633266, 0.9599198396793587, 0.9619238476953907, 0.9639278557114228, 0.9659318637274549, 0.9679358717434869, 0.969939879759519, 0.9719438877755511, 0.9739478957915831, 0.9759519038076151, 0.9779559118236472, 0.9799599198396792, 0.9819639278557113, 0.9839679358717434, 0.9859719438877754, 0.9879759519038075, 0.9899799599198396, 0.9919839679358716, 0.9939879759519037, 0.9959919839679358, 0.9979959919839678, 1.0], \"type\": \"scatter\"}], {}, {\"linkText\": \"Export to plot.ly\", \"showLink\": true})});</script>"
      ],
      "text/vnd.plotly.v1+html": [
       "<div id=\"e8f8878a-76e0-4fe1-b9ac-91059fad1536\" style=\"height: 525px; width: 100%;\" class=\"plotly-graph-div\"></div><script type=\"text/javascript\">require([\"plotly\"], function(Plotly) { window.PLOTLYENV=window.PLOTLYENV || {};window.PLOTLYENV.BASE_URL=\"https://plot.ly\";Plotly.newPlot(\"e8f8878a-76e0-4fe1-b9ac-91059fad1536\", [{\"y\": [0.7176635178908072, 0.6199002726871295, -1.06127441458554, -1.1733982094824333, 0.2925382744771501, -0.8402525027181724, -0.31807265243433985, 1.5836945499311923, -1.6273642112836861, 1.3387752950573872, 0.6632599775806206, -0.36610319930932106, 0.3595617633145819, -1.0416433171319437, -0.35996727760847547, 0.19356257801642973, -0.9341652264600641, -0.8185724069721881, 1.932608917925663, -0.13786900885727452, 0.06948661129266442, 0.8420066617785047, -0.5043591564263985, -0.21082294548341451, -0.6539755031622576, -1.241669261236433, 0.9265466988786134, -0.7520248049611142, 1.076135221890811, -0.8055904362393966, 2.1195586257835397, 0.8363371222641391, 0.5239157828035983, -1.0205455423538292, -0.08960817902197389, -0.3358276873448747, 0.13725822426710396, 1.0981616225548518, -1.4008470380589864, -0.42258509028786123, -0.45946819295626085, -2.0786088991315874, 0.20960389197148777, 0.055919771583120205, 1.378287734997188, 0.9737471779847114, -0.6806931754355036, 0.48244509159797977, 0.28524869720079804, 0.1880328066383859, 0.2940135105355677, -0.7118056792442006, 0.20480499319066717, -0.9100748993696053, -1.9564069062303333, -0.6597624909596195, 1.913808988717828, -0.0607245031837604, -1.8585242478772488, 0.44172021955076607, -0.5203921854952431, -0.9804757286579344, -0.04621786873979846, -0.4249516691820652, 0.2421611703337813, 1.144501468155671, 0.39808292271983753, 1.0841280531519257, -0.850866807599056, -0.03757090888985439, 1.0321770928983909, -2.8344726992965104, 0.0012399714220903862, 2.320075738824429, -0.28292789417967024, -1.1240193152727047, 1.000432540692752, 0.4294089741295785, -0.4400008156644222, 0.2877323918887333, 1.4025411670716692, 1.0736863347746128, -0.3310078941265991, 0.001017672993881612, -1.2624147426550458, 1.035451366951995, 0.33564336610930934, 0.2127518533594555, 1.0957319742735332, 0.18656096906747083, 0.30650723882332287, 0.2698856110678235, 0.34558652620642394, 0.2781564458645662, 0.9872544513294624, -0.5822648897109144, -0.3013504343646553, -0.8762695801864399, 0.821195870542345, -0.975745412794693, 1.0183057731677077, 1.0632539916476422, -0.7435052210919932, -0.7979900224745314, 0.03971408436227021, 0.10095695182830665, -1.0904242970248006, 0.012612291663099054, 0.4594431720439388, -1.0677220435648136, 0.3059467916694578, -0.26663815698022847, -0.26981130431360995, -0.8014035429151328, -1.1153121145571046, 0.6149261273449653, 0.5630453359674856, -0.0028509795554131773, -0.9809825482068464, -0.6085276220692674, -2.0685052953961924, 0.31927529855215364, 0.0973262501171354, -0.11665733639553441, -0.9523155745372526, -0.9484786987978328, -1.0974462771536808, 1.4420614560738088, 2.377921294381897, 0.46309045539504134, 0.6768555789621616, 0.8183605175626514, 1.2594727615438128, 0.14018565837555844, -0.35791701297175604, 0.042766468254670696, -0.274686489580962, -1.0447711357831737, -0.32682563048720603, -0.3644096956970052, -1.726014218838364, 0.8531115283377518, 1.213378249847129, -0.7914358476397599, -2.4009672290640687, 0.3826536831504004, -0.1315195429697876, 1.2169577320634062, -0.42175790967236276, 0.4788499195196895, -0.8105906626304566, 0.6574101633370896, 0.5909431408323865, -0.37789121256195113, 0.7410183682461058, -0.8447379218984429, 0.5614899998180376, 0.7393189026140025, -1.8107221025440297, -0.5998049634364272, -1.104795129631622, 0.7415820254449913, 0.7894818312356516, -1.7120289274398783, 1.9322212205673968, -0.12043858695047649, -0.5724833402183587, -1.2017251968612865, 1.9637150783185333, -0.16970797079716216, -0.38003025194806284, -0.6732340412784047, -0.7183980516970212, -0.2296516626169564, 0.21064855182013567, -0.500162170274136, -0.3523107142497307, -0.6169213471626074, -1.5486057490336043, -0.038899107023514366, -0.537439462336671, -0.10162079219511697, -0.6406174106376801, -0.03926430652994627, -1.1635354200975887, -0.11022687149299745, 0.5699603534133955, -0.922959148896351, 1.0715613892819746, -1.0584070133050651, -0.9009962238643641, -0.8154815085477075, 1.3221067114376805, -0.4426332850752235, 0.1794672105239849, 1.4187136729406986, 0.0736698660128026, -0.6074095711660749, 1.168945647231757, 1.6249107044909392, -0.11173212665134247, 2.0526147258483096, -1.1635697654750525, -0.021809951544877887, -0.6663084196743535, 2.3633977182280925, -0.22571345347961666, 1.1251847600805263, -0.15645868542310057, -0.23770544861652257, 0.17742311988240508, -0.28241241172493337, 0.48000188651512227, 0.8030953711110966, -1.549071893411127, -0.6280496770086206, 1.6121468890180228, -0.2851187283449218, 0.08972103619850905, -0.5237152579780444, 0.872996602260478, -1.0039580363522005, 0.34983375440848974, -0.18696563912793981, -0.805816618911807, -1.5570994629916255, -1.0179316355437384, -0.2714124586440878, -3.166284605622694, -0.3843261582465653, -1.4266259564492323, 1.0154128187392935, 1.3798123394654989, -0.5513053242671796, -0.5503120804961202, 1.0596131529421442, -0.1089435301232757, 0.3335670102825713, -1.5415067424149953, 0.8674888010601377, -2.33883994016245, 1.6378731204905872, -1.1792310886921258, 2.1817250113938322, -0.4196463996569577, 1.6198912152979796, -0.10021165742496342, -0.7078780832912158, -0.9995046776672624, 0.2520508337535597, 0.42571936949390304, 0.1277053957225554, -1.7014249403067128, -0.2284833064545365, -1.6167663555545844, -0.8128976535666709, -1.2542910324858723, 1.0820646452929743, -0.3361258641563804, 0.839951145302785, -1.0545068169653806, 0.16809709472730386, 0.4826833546902169, 2.003105070920445, -0.9987174808129754, -0.5900140126405327, -1.3462234239739628, 0.2993598922243151, -1.2959571115312187, -0.08939952598591223, -1.1980772728214504, -0.5466957779738328, 0.02134534460232691, 1.1863751942134964, 0.026803200189852203, -0.8596734415273243, -1.7961127398068975, -1.730369911249635, 0.5018164566321903, -1.2612458583176798, 0.6138137992387137, 0.17972753168146188, -1.2886177257429512, -0.1870809711553464, -0.48594001128601727, -0.8474861144998449, 1.364727772053284, -0.5638613668895303, -0.9879838129146225, 1.541470508557337, 0.06779008614994143, 1.4759147740273375, 0.3639670592004422, -0.2312447042377582, -0.5338851017164208, 0.3411772174500269, -0.6953804190214417, 0.3211879563394088, -1.2257638741990415, -1.598304779720426, 0.7107214475895125, -0.4072326774512725, -1.2874497253381896, -0.07019170279185519, 0.7570759687724629, -0.4189915760469358, -0.6105009940994236, 0.9007386517844135, -0.6947784115287406, -0.29983540559633187, -0.7927622379395559, -0.3284110020424639, -0.23636997190549908, -1.2285375146943838, 0.755201304372146, 1.2706120364339752, -0.2487496886226231, -0.1979537892896547, 1.9961120584385574, 0.3683113464030573, 0.4650223202245593, 0.4368297576091971, 1.7545749790722271, 0.21263350475057802, 1.8868714863469493, 0.7442009776107016, 0.36994643041440595, 1.0695851995880064, 0.07652861811123528, -0.17074667686320247, 1.3352395328499456, 0.3999416705226251, -0.4261276072011206, -0.10330675800209027, -0.6166430863430192, 0.19283673297605824, 1.1044926343152313, -0.04828561623378503, -0.5498787517842716, 1.9135864735962826, 2.315154933423302, -0.6960408588598243, -0.1278130366268593, 0.5011981246748638, 0.8998317154920065, 0.6292734867327224, -0.23804590373130577, 0.4515217890692125, -0.8923726931599588, -1.136958181992086, -0.288559619296282, -0.10680497185665934, -1.6857419174607065, 1.4807096803541766, -0.023422204530573996, 1.320564029460225, -1.3515648727104153, -0.2930953304526029, 1.2274784244430061, 0.15459101910311498, -0.48540035075416044, 1.1997813695988901, -0.6555536076257326, 0.9445439967742921, -0.36186482649542406, -3.138173539955273, 0.5969356598708127, 1.2070520292263534, 0.7510725300134284, -1.5467792461755328, 0.7277228815169856, -0.5222809412089612, 2.97020291652402, 0.3307065350382515, -1.034465747283553, 0.9458643859943907, -0.38090970026110216, 1.2371721285912334, 1.2392487062557564, 0.2796166039921855, -0.05157613152355801, 0.0984528449819987, -0.9460864893812233, -0.6090738196857525, -0.12761222717428347, -0.5832479449727871, -0.08305239489839729, 0.32282771726391574, -2.9394689113986825, -0.6378568959580069, -0.19621819606912025, -0.23193801230956937, -0.3877024596452743, 0.6456853454413349, -0.7527633984648479, -0.5077134453684436, 0.4604084037696384, -0.3730122814684367, -1.914326680142753, -0.6821047653357509, -0.511072346466628, -0.44676102371507104, -0.26802486807435827, 0.45811667636434256, 1.528808719488349, -0.8603408917003952, 0.060221716463809256, 0.4036495120998379, 1.6215012110320912, -0.8962957639090908, -0.4257363836045626, -0.8664339940645611, 0.0994901299293531, -1.1430496348640882, -1.6617765698069333, -0.17787847518567096, -0.8151494096048391, -2.5262944848022655, -1.5215770280334682, -1.0421121166816747, -0.25142845210134396, 0.09178089006204808, 0.4231394485577639, 0.5009828231666583, -0.897619528159138, -0.6741351184210487, 0.4196507030892068, 0.9502904259514726, -0.07110472160927973, 0.9943428374085639, 2.067864603429066, -0.9276510041215137, -0.21474344836482048, -1.273305939075583, 0.07867383448312922, 0.3692465928012464, 0.601199833084508, 0.29876894431964973, 0.9423047292083624, -0.7637120184370941, -0.8708696824632088, -2.109003644742817, 0.547550820787744, 0.3072224993839424, 1.641349074786405, 1.0658393949706968, 0.116319952221468, 0.18798713915942508, 0.6591478617068043, -1.5612028511415936, 2.0148584025613254, 0.4010533769415872, 1.2075941460109634, 0.26024486346697495, -0.43821974808155423, -0.390744058892741, -1.7953276222718542, -0.9773232044522153, 0.15064758800886527, -0.8983990581591391, -1.430071669532987, -1.0043211438973205, -0.3785935811111765, -0.8524251896904592, 0.6975440684998608, -0.010652726410831169, -2.617211767973862, -0.33145995697700514, 0.539759506465897, 0.46810331871475785, 1.43519507097201, 1.6631547562722575, 0.2764013308154466, -1.1689591268262243, 0.04981816595930228, -0.5382219772397311, 1.5536365090771194, 0.5439938996775652, 1.6150361581186814, -1.1278233238189086, -1.2672737342761322, -1.8498366000094082, 0.017673555066586612, 0.599716925952189, 0.5353068886702249, 0.5334185514421169, -0.29025648059696024, 0.5155965962283034, 1.24466206010506, 1.0773345074742138, -0.7674166708046044, 0.23811971037744048, 0.06693126940605905, -0.2952061667202949, -0.14994533224250964, -1.0786740251146263, 0.4677124406757555, -0.4402578130852983, 0.5206780770524708, -0.9836084384695669], \"x\": [0.0, 0.002004008016032064, 0.004008016032064128, 0.0060120240480961915, 0.008016032064128256, 0.01002004008016032, 0.012024048096192383, 0.014028056112224447, 0.01603206412825651, 0.018036072144288574, 0.02004008016032064, 0.022044088176352703, 0.024048096192384766, 0.026052104208416832, 0.028056112224448895, 0.03006012024048096, 0.03206412825651302, 0.03406813627254509, 0.03607214428857715, 0.038076152304609215, 0.04008016032064128, 0.04208416833667334, 0.044088176352705406, 0.04609218436873747, 0.04809619238476953, 0.0501002004008016, 0.052104208416833664, 0.05410821643286573, 0.05611222444889779, 0.058116232464929855, 0.06012024048096192, 0.06212424849699398, 0.06412825651302605, 0.06613226452905811, 0.06813627254509018, 0.07014028056112225, 0.0721442885771543, 0.07414829659318636, 0.07615230460921843, 0.0781563126252505, 0.08016032064128256, 0.08216432865731463, 0.08416833667334668, 0.08617234468937875, 0.08817635270541081, 0.09018036072144288, 0.09218436873747494, 0.09418837675350701, 0.09619238476953906, 0.09819639278557113, 0.1002004008016032, 0.10220440881763526, 0.10420841683366733, 0.1062124248496994, 0.10821643286573146, 0.11022044088176351, 0.11222444889779558, 0.11422845691382764, 0.11623246492985971, 0.11823647294589178, 0.12024048096192384, 0.1222444889779559, 0.12424849699398796, 0.12625250501002003, 0.1282565130260521, 0.13026052104208416, 0.13226452905811623, 0.1342685370741483, 0.13627254509018036, 0.13827655310621242, 0.1402805611222445, 0.14228456913827653, 0.1442885771543086, 0.14629258517034066, 0.14829659318637273, 0.1503006012024048, 0.15230460921843686, 0.15430861723446893, 0.156312625250501, 0.15831663326653306, 0.16032064128256512, 0.1623246492985972, 0.16432865731462926, 0.16633266533066132, 0.16833667334669336, 0.17034068136272543, 0.1723446893787575, 0.17434869739478956, 0.17635270541082163, 0.1783567134268537, 0.18036072144288576, 0.18236472945891782, 0.1843687374749499, 0.18637274549098196, 0.18837675350701402, 0.1903807615230461, 0.19238476953907813, 0.1943887775551102, 0.19639278557114226, 0.19839679358717432, 0.2004008016032064, 0.20240480961923846, 0.20440881763527052, 0.2064128256513026, 0.20841683366733466, 0.21042084168336672, 0.2124248496993988, 0.21442885771543085, 0.21643286573146292, 0.21843687374749496, 0.22044088176352702, 0.2224448897795591, 0.22444889779559116, 0.22645290581162322, 0.2284569138276553, 0.23046092184368736, 0.23246492985971942, 0.2344689378757515, 0.23647294589178355, 0.23847695390781562, 0.24048096192384769, 0.24248496993987975, 0.2444889779559118, 0.24649298597194386, 0.24849699398797592, 0.250501002004008, 0.25250501002004005, 0.2545090180360721, 0.2565130260521042, 0.25851703406813625, 0.2605210420841683, 0.2625250501002004, 0.26452905811623245, 0.2665330661322645, 0.2685370741482966, 0.27054108216432865, 0.2725450901803607, 0.2745490981963928, 0.27655310621242485, 0.2785571142284569, 0.280561122244489, 0.282565130260521, 0.28456913827655306, 0.2865731462925851, 0.2885771543086172, 0.29058116232464926, 0.2925851703406813, 0.2945891783567134, 0.29659318637274545, 0.2985971943887775, 0.3006012024048096, 0.30260521042084165, 0.3046092184368737, 0.3066132264529058, 0.30861723446893785, 0.3106212424849699, 0.312625250501002, 0.31462925851703405, 0.3166332665330661, 0.3186372745490982, 0.32064128256513025, 0.3226452905811623, 0.3246492985971944, 0.32665330661322645, 0.3286573146292585, 0.3306613226452906, 0.33266533066132264, 0.33466933867735466, 0.3366733466933867, 0.3386773547094188, 0.34068136272545085, 0.3426853707414829, 0.344689378757515, 0.34669338677354705, 0.3486973947895791, 0.3507014028056112, 0.35270541082164325, 0.3547094188376753, 0.3567134268537074, 0.35871743486973945, 0.3607214428857715, 0.3627254509018036, 0.36472945891783565, 0.3667334669338677, 0.3687374749498998, 0.37074148296593185, 0.3727454909819639, 0.374749498997996, 0.37675350701402804, 0.3787575150300601, 0.3807615230460922, 0.38276553106212424, 0.38476953907815625, 0.3867735470941883, 0.3887775551102204, 0.39078156312625245, 0.3927855711422845, 0.3947895791583166, 0.39679358717434865, 0.3987975951903807, 0.4008016032064128, 0.40280561122244485, 0.4048096192384769, 0.406813627254509, 0.40881763527054105, 0.4108216432865731, 0.4128256513026052, 0.41482965931863724, 0.4168336673346693, 0.4188376753507014, 0.42084168336673344, 0.4228456913827655, 0.4248496993987976, 0.42685370741482964, 0.4288577154308617, 0.4308617234468938, 0.43286573146292584, 0.4348697394789579, 0.4368737474949899, 0.438877755511022, 0.44088176352705405, 0.4428857715430861, 0.4448897795591182, 0.44689378757515025, 0.4488977955911823, 0.4509018036072144, 0.45290581162324645, 0.4549098196392785, 0.4569138276553106, 0.45891783567134264, 0.4609218436873747, 0.4629258517034068, 0.46492985971943884, 0.4669338677354709, 0.468937875751503, 0.47094188376753504, 0.4729458917835671, 0.4749498997995992, 0.47695390781563124, 0.4789579158316633, 0.48096192384769537, 0.48296593186372744, 0.4849699398797595, 0.48697394789579157, 0.4889779559118236, 0.49098196392785565, 0.4929859719438877, 0.4949899799599198, 0.49699398797595185, 0.4989979959919839, 0.501002004008016, 0.503006012024048, 0.5050100200400801, 0.5070140280561122, 0.5090180360721442, 0.5110220440881763, 0.5130260521042084, 0.5150300601202404, 0.5170340681362725, 0.5190380761523046, 0.5210420841683366, 0.5230460921843687, 0.5250501002004008, 0.5270541082164328, 0.5290581162324649, 0.531062124248497, 0.533066132264529, 0.5350701402805611, 0.5370741482965932, 0.5390781563126252, 0.5410821643286573, 0.5430861723446894, 0.5450901803607214, 0.5470941883767535, 0.5490981963927856, 0.5511022044088176, 0.5531062124248497, 0.5551102204408818, 0.5571142284569138, 0.5591182364729459, 0.561122244488978, 0.56312625250501, 0.565130260521042, 0.567134268537074, 0.5691382765531061, 0.5711422845691382, 0.5731462925851702, 0.5751503006012023, 0.5771543086172344, 0.5791583166332664, 0.5811623246492985, 0.5831663326653306, 0.5851703406813626, 0.5871743486973947, 0.5891783567134268, 0.5911823647294588, 0.5931863727454909, 0.595190380761523, 0.597194388777555, 0.5991983967935871, 0.6012024048096192, 0.6032064128256512, 0.6052104208416833, 0.6072144288577154, 0.6092184368737474, 0.6112224448897795, 0.6132264529058116, 0.6152304609218436, 0.6172344689378757, 0.6192384769539078, 0.6212424849699398, 0.6232464929859719, 0.625250501002004, 0.627254509018036, 0.6292585170340681, 0.6312625250501002, 0.6332665330661322, 0.6352705410821643, 0.6372745490981964, 0.6392785571142284, 0.6412825651302605, 0.6432865731462926, 0.6452905811623246, 0.6472945891783567, 0.6492985971943888, 0.6513026052104208, 0.6533066132264529, 0.655310621242485, 0.657314629258517, 0.6593186372745491, 0.6613226452905812, 0.6633266533066132, 0.6653306613226453, 0.6673346693386772, 0.6693386773547093, 0.6713426853707414, 0.6733466933867734, 0.6753507014028055, 0.6773547094188376, 0.6793587174348696, 0.6813627254509017, 0.6833667334669338, 0.6853707414829658, 0.6873747494989979, 0.68937875751503, 0.691382765531062, 0.6933867735470941, 0.6953907815631262, 0.6973947895791582, 0.6993987975951903, 0.7014028056112224, 0.7034068136272544, 0.7054108216432865, 0.7074148296593186, 0.7094188376753506, 0.7114228456913827, 0.7134268537074148, 0.7154308617234468, 0.7174348697394789, 0.719438877755511, 0.721442885771543, 0.7234468937875751, 0.7254509018036072, 0.7274549098196392, 0.7294589178356713, 0.7314629258517034, 0.7334669338677354, 0.7354709418837675, 0.7374749498997996, 0.7394789579158316, 0.7414829659318637, 0.7434869739478958, 0.7454909819639278, 0.7474949899799599, 0.749498997995992, 0.751503006012024, 0.7535070140280561, 0.7555110220440882, 0.7575150300601202, 0.7595190380761523, 0.7615230460921844, 0.7635270541082164, 0.7655310621242485, 0.7675350701402806, 0.7695390781563125, 0.7715430861723446, 0.7735470941883766, 0.7755511022044087, 0.7775551102204408, 0.7795591182364728, 0.7815631262525049, 0.783567134268537, 0.785571142284569, 0.7875751503006011, 0.7895791583166332, 0.7915831663326652, 0.7935871743486973, 0.7955911823647294, 0.7975951903807614, 0.7995991983967935, 0.8016032064128256, 0.8036072144288576, 0.8056112224448897, 0.8076152304609218, 0.8096192384769538, 0.8116232464929859, 0.813627254509018, 0.81563126252505, 0.8176352705410821, 0.8196392785571142, 0.8216432865731462, 0.8236472945891783, 0.8256513026052104, 0.8276553106212424, 0.8296593186372745, 0.8316633266533066, 0.8336673346693386, 0.8356713426853707, 0.8376753507014028, 0.8396793587174348, 0.8416833667334669, 0.843687374749499, 0.845691382765531, 0.8476953907815631, 0.8496993987975952, 0.8517034068136272, 0.8537074148296593, 0.8557114228456913, 0.8577154308617234, 0.8597194388777555, 0.8617234468937875, 0.8637274549098196, 0.8657314629258517, 0.8677354709418837, 0.8697394789579158, 0.8717434869739479, 0.8737474949899798, 0.8757515030060119, 0.877755511022044, 0.879759519038076, 0.8817635270541081, 0.8837675350701402, 0.8857715430861722, 0.8877755511022043, 0.8897795591182364, 0.8917835671342684, 0.8937875751503005, 0.8957915831663326, 0.8977955911823646, 0.8997995991983967, 0.9018036072144288, 0.9038076152304608, 0.9058116232464929, 0.907815631262525, 0.909819639278557, 0.9118236472945891, 0.9138276553106212, 0.9158316633266532, 0.9178356713426853, 0.9198396793587174, 0.9218436873747494, 0.9238476953907815, 0.9258517034068136, 0.9278557114228456, 0.9298597194388777, 0.9318637274549098, 0.9338677354709418, 0.9358717434869739, 0.937875751503006, 0.939879759519038, 0.9418837675350701, 0.9438877755511021, 0.9458917835671342, 0.9478957915831663, 0.9498997995991983, 0.9519038076152304, 0.9539078156312625, 0.9559118236472945, 0.9579158316633266, 0.9599198396793587, 0.9619238476953907, 0.9639278557114228, 0.9659318637274549, 0.9679358717434869, 0.969939879759519, 0.9719438877755511, 0.9739478957915831, 0.9759519038076151, 0.9779559118236472, 0.9799599198396792, 0.9819639278557113, 0.9839679358717434, 0.9859719438877754, 0.9879759519038075, 0.9899799599198396, 0.9919839679358716, 0.9939879759519037, 0.9959919839679358, 0.9979959919839678, 1.0], \"type\": \"scatter\"}], {}, {\"linkText\": \"Export to plot.ly\", \"showLink\": true})});</script>"
      ]
     },
     "metadata": {},
     "output_type": "display_data"
    }
   ],
   "source": [
    "# example plot of time series\n",
    "\n",
    "# Create random data with numpy\n",
    "import numpy as np\n",
    "\n",
    "N = 500\n",
    "random_x = np.linspace(0, 1, N)\n",
    "random_y = np.random.randn(N)\n",
    "\n",
    "# Create a trace\n",
    "trace = go.Scatter(\n",
    "    x = random_x,\n",
    "    y = random_y\n",
    ")\n",
    "\n",
    "data = [trace]\n",
    "\n",
    "plotly.offline.iplot(data, filename='basic-line')"
   ]
  },
  {
   "cell_type": "code",
   "execution_count": 11,
   "metadata": {},
   "outputs": [
    {
     "data": {
      "application/vnd.plotly.v1+json": {
       "data": [
        {
         "marker": {
          "color": "white"
         },
         "name": "",
         "type": "scatter",
         "x": [
          "2009-01-01",
          "2009-02-30"
         ],
         "y": [
          0,
          0
         ]
        },
        {
         "marker": {
          "color": "white"
         },
         "name": "",
         "type": "scatter",
         "x": [
          "2009-03-05",
          "2009-04-15"
         ],
         "y": [
          1,
          1
         ]
        },
        {
         "marker": {
          "color": "white"
         },
         "name": "",
         "type": "scatter",
         "x": [
          "2009-02-20",
          "2009-05-30"
         ],
         "y": [
          2,
          2
         ]
        }
       ],
       "layout": {
        "height": 600,
        "hovermode": "closest",
        "shapes": [
         {
          "fillcolor": "rgb(31, 119, 180)",
          "line": {
           "width": 0
          },
          "opacity": 1,
          "type": "rect",
          "x0": "2009-01-01",
          "x1": "2009-02-30",
          "xref": "x",
          "y0": -0.2,
          "y1": 0.2,
          "yref": "y"
         },
         {
          "fillcolor": "rgb(255, 127, 14)",
          "line": {
           "width": 0
          },
          "opacity": 1,
          "type": "rect",
          "x0": "2009-03-05",
          "x1": "2009-04-15",
          "xref": "x",
          "y0": 0.8,
          "y1": 1.2,
          "yref": "y"
         },
         {
          "fillcolor": "rgb(44, 160, 44)",
          "line": {
           "width": 0
          },
          "opacity": 1,
          "type": "rect",
          "x0": "2009-02-20",
          "x1": "2009-05-30",
          "xref": "x",
          "y0": 1.8,
          "y1": 2.2,
          "yref": "y"
         }
        ],
        "showlegend": false,
        "title": "Gantt Chart",
        "width": 900,
        "xaxis": {
         "rangeselector": {
          "buttons": [
           {
            "count": 7,
            "label": "1w",
            "step": "day",
            "stepmode": "backward"
           },
           {
            "count": 1,
            "label": "1m",
            "step": "month",
            "stepmode": "backward"
           },
           {
            "count": 6,
            "label": "6m",
            "step": "month",
            "stepmode": "backward"
           },
           {
            "count": 1,
            "label": "YTD",
            "step": "year",
            "stepmode": "todate"
           },
           {
            "count": 1,
            "label": "1y",
            "step": "year",
            "stepmode": "backward"
           },
           {
            "step": "all"
           }
          ]
         },
         "showgrid": false,
         "type": "date",
         "zeroline": false
        },
        "yaxis": {
         "autorange": false,
         "range": [
          -1,
          4
         ],
         "showgrid": false,
         "ticktext": [
          "Job A",
          "Job B",
          "Job C"
         ],
         "tickvals": [
          0,
          1,
          2
         ],
         "zeroline": false
        }
       }
      },
      "text/html": [
       "<div id=\"8b804d97-afe7-4ced-9ab9-252b9f2e727b\" style=\"height: 600px; width: 900px;\" class=\"plotly-graph-div\"></div><script type=\"text/javascript\">require([\"plotly\"], function(Plotly) { window.PLOTLYENV=window.PLOTLYENV || {};window.PLOTLYENV.BASE_URL=\"https://plot.ly\";Plotly.newPlot(\"8b804d97-afe7-4ced-9ab9-252b9f2e727b\", [{\"marker\": {\"color\": \"white\"}, \"y\": [0, 0], \"type\": \"scatter\", \"name\": \"\", \"x\": [\"2009-01-01\", \"2009-02-30\"]}, {\"marker\": {\"color\": \"white\"}, \"y\": [1, 1], \"type\": \"scatter\", \"name\": \"\", \"x\": [\"2009-03-05\", \"2009-04-15\"]}, {\"marker\": {\"color\": \"white\"}, \"y\": [2, 2], \"type\": \"scatter\", \"name\": \"\", \"x\": [\"2009-02-20\", \"2009-05-30\"]}], {\"showlegend\": false, \"title\": \"Gantt Chart\", \"yaxis\": {\"showgrid\": false, \"range\": [-1, 4], \"zeroline\": false, \"ticktext\": [\"Job A\", \"Job B\", \"Job C\"], \"autorange\": false, \"tickvals\": [0, 1, 2]}, \"height\": 600, \"shapes\": [{\"opacity\": 1, \"xref\": \"x\", \"yref\": \"y\", \"fillcolor\": \"rgb(31, 119, 180)\", \"y1\": 0.2, \"y0\": -0.2, \"x0\": \"2009-01-01\", \"x1\": \"2009-02-30\", \"type\": \"rect\", \"line\": {\"width\": 0}}, {\"opacity\": 1, \"xref\": \"x\", \"yref\": \"y\", \"fillcolor\": \"rgb(255, 127, 14)\", \"y1\": 1.2, \"y0\": 0.8, \"x0\": \"2009-03-05\", \"x1\": \"2009-04-15\", \"type\": \"rect\", \"line\": {\"width\": 0}}, {\"opacity\": 1, \"xref\": \"x\", \"yref\": \"y\", \"fillcolor\": \"rgb(44, 160, 44)\", \"y1\": 2.2, \"y0\": 1.8, \"x0\": \"2009-02-20\", \"x1\": \"2009-05-30\", \"type\": \"rect\", \"line\": {\"width\": 0}}], \"width\": 900, \"xaxis\": {\"zeroline\": false, \"rangeselector\": {\"buttons\": [{\"count\": 7, \"step\": \"day\", \"stepmode\": \"backward\", \"label\": \"1w\"}, {\"count\": 1, \"step\": \"month\", \"stepmode\": \"backward\", \"label\": \"1m\"}, {\"count\": 6, \"step\": \"month\", \"stepmode\": \"backward\", \"label\": \"6m\"}, {\"count\": 1, \"step\": \"year\", \"stepmode\": \"todate\", \"label\": \"YTD\"}, {\"count\": 1, \"step\": \"year\", \"stepmode\": \"backward\", \"label\": \"1y\"}, {\"step\": \"all\"}]}, \"type\": \"date\", \"showgrid\": false}, \"hovermode\": \"closest\"}, {\"linkText\": \"Export to plot.ly\", \"showLink\": true})});</script>"
      ],
      "text/vnd.plotly.v1+html": [
       "<div id=\"8b804d97-afe7-4ced-9ab9-252b9f2e727b\" style=\"height: 600px; width: 900px;\" class=\"plotly-graph-div\"></div><script type=\"text/javascript\">require([\"plotly\"], function(Plotly) { window.PLOTLYENV=window.PLOTLYENV || {};window.PLOTLYENV.BASE_URL=\"https://plot.ly\";Plotly.newPlot(\"8b804d97-afe7-4ced-9ab9-252b9f2e727b\", [{\"marker\": {\"color\": \"white\"}, \"y\": [0, 0], \"type\": \"scatter\", \"name\": \"\", \"x\": [\"2009-01-01\", \"2009-02-30\"]}, {\"marker\": {\"color\": \"white\"}, \"y\": [1, 1], \"type\": \"scatter\", \"name\": \"\", \"x\": [\"2009-03-05\", \"2009-04-15\"]}, {\"marker\": {\"color\": \"white\"}, \"y\": [2, 2], \"type\": \"scatter\", \"name\": \"\", \"x\": [\"2009-02-20\", \"2009-05-30\"]}], {\"showlegend\": false, \"title\": \"Gantt Chart\", \"yaxis\": {\"showgrid\": false, \"range\": [-1, 4], \"zeroline\": false, \"ticktext\": [\"Job A\", \"Job B\", \"Job C\"], \"autorange\": false, \"tickvals\": [0, 1, 2]}, \"height\": 600, \"shapes\": [{\"opacity\": 1, \"xref\": \"x\", \"yref\": \"y\", \"fillcolor\": \"rgb(31, 119, 180)\", \"y1\": 0.2, \"y0\": -0.2, \"x0\": \"2009-01-01\", \"x1\": \"2009-02-30\", \"type\": \"rect\", \"line\": {\"width\": 0}}, {\"opacity\": 1, \"xref\": \"x\", \"yref\": \"y\", \"fillcolor\": \"rgb(255, 127, 14)\", \"y1\": 1.2, \"y0\": 0.8, \"x0\": \"2009-03-05\", \"x1\": \"2009-04-15\", \"type\": \"rect\", \"line\": {\"width\": 0}}, {\"opacity\": 1, \"xref\": \"x\", \"yref\": \"y\", \"fillcolor\": \"rgb(44, 160, 44)\", \"y1\": 2.2, \"y0\": 1.8, \"x0\": \"2009-02-20\", \"x1\": \"2009-05-30\", \"type\": \"rect\", \"line\": {\"width\": 0}}], \"width\": 900, \"xaxis\": {\"zeroline\": false, \"rangeselector\": {\"buttons\": [{\"count\": 7, \"step\": \"day\", \"stepmode\": \"backward\", \"label\": \"1w\"}, {\"count\": 1, \"step\": \"month\", \"stepmode\": \"backward\", \"label\": \"1m\"}, {\"count\": 6, \"step\": \"month\", \"stepmode\": \"backward\", \"label\": \"6m\"}, {\"count\": 1, \"step\": \"year\", \"stepmode\": \"todate\", \"label\": \"YTD\"}, {\"count\": 1, \"step\": \"year\", \"stepmode\": \"backward\", \"label\": \"1y\"}, {\"step\": \"all\"}]}, \"type\": \"date\", \"showgrid\": false}, \"hovermode\": \"closest\"}, {\"linkText\": \"Export to plot.ly\", \"showLink\": true})});</script>"
      ]
     },
     "metadata": {},
     "output_type": "display_data"
    }
   ],
   "source": [
    "# gannt char example\n",
    "\n",
    "import plotly.plotly as py\n",
    "from plotly.figure_factory import create_gantt\n",
    "    \n",
    "# Make data for chart\n",
    "df = [dict(Task=\"Job A\", Start='2009-01-01', Finish='2009-02-30'),\n",
    "      dict(Task=\"Job B\", Start='2009-03-05', Finish='2009-04-15'),\n",
    "      dict(Task=\"Job C\", Start='2009-02-20', Finish='2009-05-30')]\n",
    "    \n",
    "# Create a figure\n",
    "fig = create_gantt(df)\n",
    "    \n",
    "# Plot the data\n",
    "plotly.offline.iplot(fig)"
   ]
  },
  {
   "cell_type": "code",
   "execution_count": 12,
   "metadata": {},
   "outputs": [
    {
     "name": "stdout",
     "output_type": "stream",
     "text": [
      "Help on function create_gantt in module plotly.figure_factory._gantt:\n",
      "\n",
      "create_gantt(df, colors=None, index_col=None, show_colorbar=False, reverse_colors=False, title='Gantt Chart', bar_width=0.2, showgrid_x=False, showgrid_y=False, height=600, width=900, tasks=None, task_names=None, data=None, group_tasks=False)\n",
      "    Returns figure for a gantt chart\n",
      "    \n",
      "    :param (array|list) df: input data for gantt chart. Must be either a\n",
      "        a dataframe or a list. If dataframe, the columns must include\n",
      "        'Task', 'Start' and 'Finish'. Other columns can be included and\n",
      "        used for indexing. If a list, its elements must be dictionaries\n",
      "        with the same required column headers: 'Task', 'Start' and\n",
      "        'Finish'.\n",
      "    :param (str|list|dict|tuple) colors: either a plotly scale name, an\n",
      "        rgb or hex color, a color tuple or a list of colors. An rgb color\n",
      "        is of the form 'rgb(x, y, z)' where x, y, z belong to the interval\n",
      "        [0, 255] and a color tuple is a tuple of the form (a, b, c) where\n",
      "        a, b and c belong to [0, 1]. If colors is a list, it must\n",
      "        contain the valid color types aforementioned as its members.\n",
      "        If a dictionary, all values of the indexing column must be keys in\n",
      "        colors.\n",
      "    :param (str|float) index_col: the column header (if df is a data\n",
      "        frame) that will function as the indexing column. If df is a list,\n",
      "        index_col must be one of the keys in all the items of df.\n",
      "    :param (bool) show_colorbar: determines if colorbar will be visible.\n",
      "        Only applies if values in the index column are numeric.\n",
      "    :param (bool) reverse_colors: reverses the order of selected colors\n",
      "    :param (str) title: the title of the chart\n",
      "    :param (float) bar_width: the width of the horizontal bars in the plot\n",
      "    :param (bool) showgrid_x: show/hide the x-axis grid\n",
      "    :param (bool) showgrid_y: show/hide the y-axis grid\n",
      "    :param (float) height: the height of the chart\n",
      "    :param (float) width: the width of the chart\n",
      "    \n",
      "    Example 1: Simple Gantt Chart\n",
      "    ```\n",
      "    import plotly.plotly as py\n",
      "    from plotly.figure_factory import create_gantt\n",
      "    \n",
      "    # Make data for chart\n",
      "    df = [dict(Task=\"Job A\", Start='2009-01-01', Finish='2009-02-30'),\n",
      "          dict(Task=\"Job B\", Start='2009-03-05', Finish='2009-04-15'),\n",
      "          dict(Task=\"Job C\", Start='2009-02-20', Finish='2009-05-30')]\n",
      "    \n",
      "    # Create a figure\n",
      "    fig = create_gantt(df)\n",
      "    \n",
      "    # Plot the data\n",
      "    py.iplot(fig, filename='Simple Gantt Chart', world_readable=True)\n",
      "    ```\n",
      "    \n",
      "    Example 2: Index by Column with Numerical Entries\n",
      "    ```\n",
      "    import plotly.plotly as py\n",
      "    from plotly.figure_factory import create_gantt\n",
      "    \n",
      "    # Make data for chart\n",
      "    df = [dict(Task=\"Job A\", Start='2009-01-01',\n",
      "               Finish='2009-02-30', Complete=10),\n",
      "          dict(Task=\"Job B\", Start='2009-03-05',\n",
      "               Finish='2009-04-15', Complete=60),\n",
      "          dict(Task=\"Job C\", Start='2009-02-20',\n",
      "               Finish='2009-05-30', Complete=95)]\n",
      "    \n",
      "    # Create a figure with Plotly colorscale\n",
      "    fig = create_gantt(df, colors='Blues', index_col='Complete',\n",
      "                       show_colorbar=True, bar_width=0.5,\n",
      "                       showgrid_x=True, showgrid_y=True)\n",
      "    \n",
      "    # Plot the data\n",
      "    py.iplot(fig, filename='Numerical Entries', world_readable=True)\n",
      "    ```\n",
      "    \n",
      "    Example 3: Index by Column with String Entries\n",
      "    ```\n",
      "    import plotly.plotly as py\n",
      "    from plotly.figure_factory import create_gantt\n",
      "    \n",
      "    # Make data for chart\n",
      "    df = [dict(Task=\"Job A\", Start='2009-01-01',\n",
      "               Finish='2009-02-30', Resource='Apple'),\n",
      "          dict(Task=\"Job B\", Start='2009-03-05',\n",
      "               Finish='2009-04-15', Resource='Grape'),\n",
      "          dict(Task=\"Job C\", Start='2009-02-20',\n",
      "               Finish='2009-05-30', Resource='Banana')]\n",
      "    \n",
      "    # Create a figure with Plotly colorscale\n",
      "    fig = create_gantt(df, colors=['rgb(200, 50, 25)', (1, 0, 1), '#6c4774'],\n",
      "                       index_col='Resource', reverse_colors=True,\n",
      "                       show_colorbar=True)\n",
      "    \n",
      "    # Plot the data\n",
      "    py.iplot(fig, filename='String Entries', world_readable=True)\n",
      "    ```\n",
      "    \n",
      "    Example 4: Use a dictionary for colors\n",
      "    ```\n",
      "    import plotly.plotly as py\n",
      "    from plotly.figure_factory import create_gantt\n",
      "    \n",
      "    # Make data for chart\n",
      "    df = [dict(Task=\"Job A\", Start='2009-01-01',\n",
      "               Finish='2009-02-30', Resource='Apple'),\n",
      "          dict(Task=\"Job B\", Start='2009-03-05',\n",
      "               Finish='2009-04-15', Resource='Grape'),\n",
      "          dict(Task=\"Job C\", Start='2009-02-20',\n",
      "               Finish='2009-05-30', Resource='Banana')]\n",
      "    \n",
      "    # Make a dictionary of colors\n",
      "    colors = {'Apple': 'rgb(255, 0, 0)',\n",
      "              'Grape': 'rgb(170, 14, 200)',\n",
      "              'Banana': (1, 1, 0.2)}\n",
      "    \n",
      "    # Create a figure with Plotly colorscale\n",
      "    fig = create_gantt(df, colors=colors, index_col='Resource',\n",
      "                       show_colorbar=True)\n",
      "    \n",
      "    # Plot the data\n",
      "    py.iplot(fig, filename='dictioanry colors', world_readable=True)\n",
      "    ```\n",
      "    \n",
      "    Example 5: Use a pandas dataframe\n",
      "    ```\n",
      "    import plotly.plotly as py\n",
      "    from plotly.figure_factory import create_gantt\n",
      "    \n",
      "    import pandas as pd\n",
      "    \n",
      "    # Make data as a dataframe\n",
      "    df = pd.DataFrame([['Run', '2010-01-01', '2011-02-02', 10],\n",
      "                       ['Fast', '2011-01-01', '2012-06-05', 55],\n",
      "                       ['Eat', '2012-01-05', '2013-07-05', 94]],\n",
      "                      columns=['Task', 'Start', 'Finish', 'Complete'])\n",
      "    \n",
      "    # Create a figure with Plotly colorscale\n",
      "    fig = create_gantt(df, colors='Blues', index_col='Complete',\n",
      "                       show_colorbar=True, bar_width=0.5,\n",
      "                       showgrid_x=True, showgrid_y=True)\n",
      "    \n",
      "    # Plot the data\n",
      "    py.iplot(fig, filename='data with dataframe', world_readable=True)\n",
      "    ```\n",
      "\n"
     ]
    }
   ],
   "source": [
    "help(ff.create_gantt)"
   ]
  },
  {
   "cell_type": "code",
   "execution_count": 13,
   "metadata": {},
   "outputs": [
    {
     "data": {
      "application/vnd.plotly.v1+json": {
       "data": [
        {
         "marker": {
          "color": "rgba(246, 78, 139, 0.6)",
          "line": {
           "color": "rgba(246, 78, 139, 1.0)",
           "width": 3
          }
         },
         "name": "SF Zoo",
         "orientation": "h",
         "type": "bar",
         "x": [
          20,
          14,
          23
         ],
         "y": [
          "giraffes",
          "orangutans",
          "monkeys"
         ]
        },
        {
         "marker": {
          "color": "rgba(58, 71, 80, 0.6)",
          "line": {
           "color": "rgba(58, 71, 80, 1.0)",
           "width": 3
          }
         },
         "name": "LA Zoo",
         "orientation": "h",
         "type": "bar",
         "x": [
          12,
          18,
          29
         ],
         "y": [
          "giraffes",
          "orangutans",
          "monkeys"
         ]
        }
       ],
       "layout": {
        "barmode": "stack"
       }
      },
      "text/html": [
       "<div id=\"446241e1-9012-4343-8856-524d06849d56\" style=\"height: 525px; width: 100%;\" class=\"plotly-graph-div\"></div><script type=\"text/javascript\">require([\"plotly\"], function(Plotly) { window.PLOTLYENV=window.PLOTLYENV || {};window.PLOTLYENV.BASE_URL=\"https://plot.ly\";Plotly.newPlot(\"446241e1-9012-4343-8856-524d06849d56\", [{\"orientation\": \"h\", \"marker\": {\"color\": \"rgba(246, 78, 139, 0.6)\", \"line\": {\"color\": \"rgba(246, 78, 139, 1.0)\", \"width\": 3}}, \"y\": [\"giraffes\", \"orangutans\", \"monkeys\"], \"x\": [20, 14, 23], \"type\": \"bar\", \"name\": \"SF Zoo\"}, {\"orientation\": \"h\", \"marker\": {\"color\": \"rgba(58, 71, 80, 0.6)\", \"line\": {\"color\": \"rgba(58, 71, 80, 1.0)\", \"width\": 3}}, \"y\": [\"giraffes\", \"orangutans\", \"monkeys\"], \"x\": [12, 18, 29], \"type\": \"bar\", \"name\": \"LA Zoo\"}], {\"barmode\": \"stack\"}, {\"linkText\": \"Export to plot.ly\", \"showLink\": true})});</script>"
      ],
      "text/vnd.plotly.v1+html": [
       "<div id=\"446241e1-9012-4343-8856-524d06849d56\" style=\"height: 525px; width: 100%;\" class=\"plotly-graph-div\"></div><script type=\"text/javascript\">require([\"plotly\"], function(Plotly) { window.PLOTLYENV=window.PLOTLYENV || {};window.PLOTLYENV.BASE_URL=\"https://plot.ly\";Plotly.newPlot(\"446241e1-9012-4343-8856-524d06849d56\", [{\"orientation\": \"h\", \"marker\": {\"color\": \"rgba(246, 78, 139, 0.6)\", \"line\": {\"color\": \"rgba(246, 78, 139, 1.0)\", \"width\": 3}}, \"y\": [\"giraffes\", \"orangutans\", \"monkeys\"], \"x\": [20, 14, 23], \"type\": \"bar\", \"name\": \"SF Zoo\"}, {\"orientation\": \"h\", \"marker\": {\"color\": \"rgba(58, 71, 80, 0.6)\", \"line\": {\"color\": \"rgba(58, 71, 80, 1.0)\", \"width\": 3}}, \"y\": [\"giraffes\", \"orangutans\", \"monkeys\"], \"x\": [12, 18, 29], \"type\": \"bar\", \"name\": \"LA Zoo\"}], {\"barmode\": \"stack\"}, {\"linkText\": \"Export to plot.ly\", \"showLink\": true})});</script>"
      ]
     },
     "metadata": {},
     "output_type": "display_data"
    }
   ],
   "source": [
    "# horizontal bar chart example\n",
    "\n",
    "import plotly.plotly as py\n",
    "import plotly.graph_objs as go\n",
    "\n",
    "trace1 = go.Bar(\n",
    "    y=['giraffes', 'orangutans', 'monkeys'],\n",
    "    x=[20, 14, 23],\n",
    "    name='SF Zoo',\n",
    "    orientation = 'h',\n",
    "    marker = dict(\n",
    "        color = 'rgba(246, 78, 139, 0.6)',\n",
    "        line = dict(\n",
    "            color = 'rgba(246, 78, 139, 1.0)',\n",
    "            width = 3)\n",
    "    )\n",
    ")\n",
    "trace2 = go.Bar(\n",
    "    y=['giraffes', 'orangutans', 'monkeys'],\n",
    "    x=[12, 18, 29],\n",
    "    name='LA Zoo',\n",
    "    orientation = 'h',\n",
    "    marker = dict(\n",
    "        color = 'rgba(58, 71, 80, 0.6)',\n",
    "        line = dict(\n",
    "            color = 'rgba(58, 71, 80, 1.0)',\n",
    "            width = 3)\n",
    "    )\n",
    ")\n",
    "\n",
    "data = [trace1, trace2]\n",
    "layout = go.Layout(\n",
    "    barmode='stack'\n",
    ")\n",
    "\n",
    "fig = go.Figure(data=data, layout=layout)\n",
    "plotly.offline.iplot(fig, filename='marker-h-bar')"
   ]
  },
  {
   "cell_type": "code",
   "execution_count": 15,
   "metadata": {},
   "outputs": [
    {
     "data": {
      "application/vnd.plotly.v1+json": {
       "data": [
        {
         "marker": {
          "color": "rgba(38, 24, 74, 0.8)",
          "line": {
           "color": "rgb(248, 248, 249)",
           "width": 1
          }
         },
         "orientation": "h",
         "type": "bar",
         "x": [
          21
         ],
         "y": [
          "The course was effectively<br>organized"
         ]
        },
        {
         "marker": {
          "color": "rgba(38, 24, 74, 0.8)",
          "line": {
           "color": "rgb(248, 248, 249)",
           "width": 1
          }
         },
         "orientation": "h",
         "type": "bar",
         "x": [
          24
         ],
         "y": [
          "The course developed my<br>abilities and skills for<br>the subject"
         ]
        },
        {
         "marker": {
          "color": "rgba(38, 24, 74, 0.8)",
          "line": {
           "color": "rgb(248, 248, 249)",
           "width": 1
          }
         },
         "orientation": "h",
         "type": "bar",
         "x": [
          27
         ],
         "y": [
          "The course developed my<br>ability to think critically about<br>the subject"
         ]
        },
        {
         "marker": {
          "color": "rgba(38, 24, 74, 0.8)",
          "line": {
           "color": "rgb(248, 248, 249)",
           "width": 1
          }
         },
         "orientation": "h",
         "type": "bar",
         "x": [
          29
         ],
         "y": [
          "I would recommend this<br>course to a friend"
         ]
        },
        {
         "marker": {
          "color": "rgba(71, 58, 131, 0.8)",
          "line": {
           "color": "rgb(248, 248, 249)",
           "width": 1
          }
         },
         "orientation": "h",
         "type": "bar",
         "x": [
          30
         ],
         "y": [
          "The course was effectively<br>organized"
         ]
        },
        {
         "marker": {
          "color": "rgba(71, 58, 131, 0.8)",
          "line": {
           "color": "rgb(248, 248, 249)",
           "width": 1
          }
         },
         "orientation": "h",
         "type": "bar",
         "x": [
          31
         ],
         "y": [
          "The course developed my<br>abilities and skills for<br>the subject"
         ]
        },
        {
         "marker": {
          "color": "rgba(71, 58, 131, 0.8)",
          "line": {
           "color": "rgb(248, 248, 249)",
           "width": 1
          }
         },
         "orientation": "h",
         "type": "bar",
         "x": [
          26
         ],
         "y": [
          "The course developed my<br>ability to think critically about<br>the subject"
         ]
        },
        {
         "marker": {
          "color": "rgba(71, 58, 131, 0.8)",
          "line": {
           "color": "rgb(248, 248, 249)",
           "width": 1
          }
         },
         "orientation": "h",
         "type": "bar",
         "x": [
          24
         ],
         "y": [
          "I would recommend this<br>course to a friend"
         ]
        },
        {
         "marker": {
          "color": "rgba(122, 120, 168, 0.8)",
          "line": {
           "color": "rgb(248, 248, 249)",
           "width": 1
          }
         },
         "orientation": "h",
         "type": "bar",
         "x": [
          21
         ],
         "y": [
          "The course was effectively<br>organized"
         ]
        },
        {
         "marker": {
          "color": "rgba(122, 120, 168, 0.8)",
          "line": {
           "color": "rgb(248, 248, 249)",
           "width": 1
          }
         },
         "orientation": "h",
         "type": "bar",
         "x": [
          19
         ],
         "y": [
          "The course developed my<br>abilities and skills for<br>the subject"
         ]
        },
        {
         "marker": {
          "color": "rgba(122, 120, 168, 0.8)",
          "line": {
           "color": "rgb(248, 248, 249)",
           "width": 1
          }
         },
         "orientation": "h",
         "type": "bar",
         "x": [
          23
         ],
         "y": [
          "The course developed my<br>ability to think critically about<br>the subject"
         ]
        },
        {
         "marker": {
          "color": "rgba(122, 120, 168, 0.8)",
          "line": {
           "color": "rgb(248, 248, 249)",
           "width": 1
          }
         },
         "orientation": "h",
         "type": "bar",
         "x": [
          15
         ],
         "y": [
          "I would recommend this<br>course to a friend"
         ]
        },
        {
         "marker": {
          "color": "rgba(164, 163, 204, 0.85)",
          "line": {
           "color": "rgb(248, 248, 249)",
           "width": 1
          }
         },
         "orientation": "h",
         "type": "bar",
         "x": [
          16
         ],
         "y": [
          "The course was effectively<br>organized"
         ]
        },
        {
         "marker": {
          "color": "rgba(164, 163, 204, 0.85)",
          "line": {
           "color": "rgb(248, 248, 249)",
           "width": 1
          }
         },
         "orientation": "h",
         "type": "bar",
         "x": [
          15
         ],
         "y": [
          "The course developed my<br>abilities and skills for<br>the subject"
         ]
        },
        {
         "marker": {
          "color": "rgba(164, 163, 204, 0.85)",
          "line": {
           "color": "rgb(248, 248, 249)",
           "width": 1
          }
         },
         "orientation": "h",
         "type": "bar",
         "x": [
          11
         ],
         "y": [
          "The course developed my<br>ability to think critically about<br>the subject"
         ]
        },
        {
         "marker": {
          "color": "rgba(164, 163, 204, 0.85)",
          "line": {
           "color": "rgb(248, 248, 249)",
           "width": 1
          }
         },
         "orientation": "h",
         "type": "bar",
         "x": [
          18
         ],
         "y": [
          "I would recommend this<br>course to a friend"
         ]
        },
        {
         "marker": {
          "color": "rgba(190, 192, 213, 1)",
          "line": {
           "color": "rgb(248, 248, 249)",
           "width": 1
          }
         },
         "orientation": "h",
         "type": "bar",
         "x": [
          12
         ],
         "y": [
          "The course was effectively<br>organized"
         ]
        },
        {
         "marker": {
          "color": "rgba(190, 192, 213, 1)",
          "line": {
           "color": "rgb(248, 248, 249)",
           "width": 1
          }
         },
         "orientation": "h",
         "type": "bar",
         "x": [
          11
         ],
         "y": [
          "The course developed my<br>abilities and skills for<br>the subject"
         ]
        },
        {
         "marker": {
          "color": "rgba(190, 192, 213, 1)",
          "line": {
           "color": "rgb(248, 248, 249)",
           "width": 1
          }
         },
         "orientation": "h",
         "type": "bar",
         "x": [
          13
         ],
         "y": [
          "The course developed my<br>ability to think critically about<br>the subject"
         ]
        },
        {
         "marker": {
          "color": "rgba(190, 192, 213, 1)",
          "line": {
           "color": "rgb(248, 248, 249)",
           "width": 1
          }
         },
         "orientation": "h",
         "type": "bar",
         "x": [
          14
         ],
         "y": [
          "I would recommend this<br>course to a friend"
         ]
        }
       ],
       "layout": {
        "annotations": [
         {
          "align": "right",
          "font": {
           "color": "rgb(67, 67, 67)",
           "family": "Arial",
           "size": 14
          },
          "showarrow": false,
          "text": "The course was effectively<br>organized",
          "x": 0.14,
          "xanchor": "right",
          "xref": "paper",
          "y": "The course was effectively<br>organized",
          "yref": "y"
         },
         {
          "font": {
           "color": "rgb(248, 248, 255)",
           "family": "Arial",
           "size": 14
          },
          "showarrow": false,
          "text": "21%",
          "x": 10,
          "xref": "x",
          "y": "The course was effectively<br>organized",
          "yref": "y"
         },
         {
          "font": {
           "color": "rgb(248, 248, 255)",
           "family": "Arial",
           "size": 14
          },
          "showarrow": false,
          "text": "30%",
          "x": 36,
          "xref": "x",
          "y": "The course was effectively<br>organized",
          "yref": "y"
         },
         {
          "font": {
           "color": "rgb(248, 248, 255)",
           "family": "Arial",
           "size": 14
          },
          "showarrow": false,
          "text": "21%",
          "x": 61,
          "xref": "x",
          "y": "The course was effectively<br>organized",
          "yref": "y"
         },
         {
          "font": {
           "color": "rgb(248, 248, 255)",
           "family": "Arial",
           "size": 14
          },
          "showarrow": false,
          "text": "16%",
          "x": 80,
          "xref": "x",
          "y": "The course was effectively<br>organized",
          "yref": "y"
         },
         {
          "font": {
           "color": "rgb(248, 248, 255)",
           "family": "Arial",
           "size": 14
          },
          "showarrow": false,
          "text": "12%",
          "x": 94,
          "xref": "x",
          "y": "The course was effectively<br>organized",
          "yref": "y"
         },
         {
          "align": "right",
          "font": {
           "color": "rgb(67, 67, 67)",
           "family": "Arial",
           "size": 14
          },
          "showarrow": false,
          "text": "The course developed my<br>abilities and skills for<br>the subject",
          "x": 0.14,
          "xanchor": "right",
          "xref": "paper",
          "y": "The course developed my<br>abilities and skills for<br>the subject",
          "yref": "y"
         },
         {
          "font": {
           "color": "rgb(248, 248, 255)",
           "family": "Arial",
           "size": 14
          },
          "showarrow": false,
          "text": "24%",
          "x": 12,
          "xref": "x",
          "y": "The course developed my<br>abilities and skills for<br>the subject",
          "yref": "y"
         },
         {
          "font": {
           "color": "rgb(248, 248, 255)",
           "family": "Arial",
           "size": 14
          },
          "showarrow": false,
          "text": "31%",
          "x": 39,
          "xref": "x",
          "y": "The course developed my<br>abilities and skills for<br>the subject",
          "yref": "y"
         },
         {
          "font": {
           "color": "rgb(248, 248, 255)",
           "family": "Arial",
           "size": 14
          },
          "showarrow": false,
          "text": "19%",
          "x": 64,
          "xref": "x",
          "y": "The course developed my<br>abilities and skills for<br>the subject",
          "yref": "y"
         },
         {
          "font": {
           "color": "rgb(248, 248, 255)",
           "family": "Arial",
           "size": 14
          },
          "showarrow": false,
          "text": "15%",
          "x": 81,
          "xref": "x",
          "y": "The course developed my<br>abilities and skills for<br>the subject",
          "yref": "y"
         },
         {
          "font": {
           "color": "rgb(248, 248, 255)",
           "family": "Arial",
           "size": 14
          },
          "showarrow": false,
          "text": "11%",
          "x": 94,
          "xref": "x",
          "y": "The course developed my<br>abilities and skills for<br>the subject",
          "yref": "y"
         },
         {
          "align": "right",
          "font": {
           "color": "rgb(67, 67, 67)",
           "family": "Arial",
           "size": 14
          },
          "showarrow": false,
          "text": "The course developed my<br>ability to think critically about<br>the subject",
          "x": 0.14,
          "xanchor": "right",
          "xref": "paper",
          "y": "The course developed my<br>ability to think critically about<br>the subject",
          "yref": "y"
         },
         {
          "font": {
           "color": "rgb(248, 248, 255)",
           "family": "Arial",
           "size": 14
          },
          "showarrow": false,
          "text": "27%",
          "x": 13,
          "xref": "x",
          "y": "The course developed my<br>ability to think critically about<br>the subject",
          "yref": "y"
         },
         {
          "font": {
           "color": "rgb(248, 248, 255)",
           "family": "Arial",
           "size": 14
          },
          "showarrow": false,
          "text": "26%",
          "x": 40,
          "xref": "x",
          "y": "The course developed my<br>ability to think critically about<br>the subject",
          "yref": "y"
         },
         {
          "font": {
           "color": "rgb(248, 248, 255)",
           "family": "Arial",
           "size": 14
          },
          "showarrow": false,
          "text": "23%",
          "x": 64,
          "xref": "x",
          "y": "The course developed my<br>ability to think critically about<br>the subject",
          "yref": "y"
         },
         {
          "font": {
           "color": "rgb(248, 248, 255)",
           "family": "Arial",
           "size": 14
          },
          "showarrow": false,
          "text": "11%",
          "x": 81,
          "xref": "x",
          "y": "The course developed my<br>ability to think critically about<br>the subject",
          "yref": "y"
         },
         {
          "font": {
           "color": "rgb(248, 248, 255)",
           "family": "Arial",
           "size": 14
          },
          "showarrow": false,
          "text": "13%",
          "x": 93,
          "xref": "x",
          "y": "The course developed my<br>ability to think critically about<br>the subject",
          "yref": "y"
         },
         {
          "align": "right",
          "font": {
           "color": "rgb(67, 67, 67)",
           "family": "Arial",
           "size": 14
          },
          "showarrow": false,
          "text": "I would recommend this<br>course to a friend",
          "x": 0.14,
          "xanchor": "right",
          "xref": "paper",
          "y": "I would recommend this<br>course to a friend",
          "yref": "y"
         },
         {
          "font": {
           "color": "rgb(248, 248, 255)",
           "family": "Arial",
           "size": 14
          },
          "showarrow": false,
          "text": "29%",
          "x": 14,
          "xref": "x",
          "y": "I would recommend this<br>course to a friend",
          "yref": "y"
         },
         {
          "font": {
           "color": "rgb(67, 67, 67)",
           "family": "Arial",
           "size": 14
          },
          "showarrow": false,
          "text": "Strongly<br>agree",
          "x": 14,
          "xref": "x",
          "y": 1.1,
          "yref": "paper"
         },
         {
          "font": {
           "color": "rgb(248, 248, 255)",
           "family": "Arial",
           "size": 14
          },
          "showarrow": false,
          "text": "24%",
          "x": 41,
          "xref": "x",
          "y": "I would recommend this<br>course to a friend",
          "yref": "y"
         },
         {
          "font": {
           "color": "rgb(67, 67, 67)",
           "family": "Arial",
           "size": 14
          },
          "showarrow": false,
          "text": "Agree",
          "x": 41,
          "xref": "x",
          "y": 1.1,
          "yref": "paper"
         },
         {
          "font": {
           "color": "rgb(248, 248, 255)",
           "family": "Arial",
           "size": 14
          },
          "showarrow": false,
          "text": "15%",
          "x": 60,
          "xref": "x",
          "y": "I would recommend this<br>course to a friend",
          "yref": "y"
         },
         {
          "font": {
           "color": "rgb(67, 67, 67)",
           "family": "Arial",
           "size": 14
          },
          "showarrow": false,
          "text": "Neutral",
          "x": 60,
          "xref": "x",
          "y": 1.1,
          "yref": "paper"
         },
         {
          "font": {
           "color": "rgb(248, 248, 255)",
           "family": "Arial",
           "size": 14
          },
          "showarrow": false,
          "text": "18%",
          "x": 77,
          "xref": "x",
          "y": "I would recommend this<br>course to a friend",
          "yref": "y"
         },
         {
          "font": {
           "color": "rgb(67, 67, 67)",
           "family": "Arial",
           "size": 14
          },
          "showarrow": false,
          "text": "Disagree",
          "x": 77,
          "xref": "x",
          "y": 1.1,
          "yref": "paper"
         },
         {
          "font": {
           "color": "rgb(248, 248, 255)",
           "family": "Arial",
           "size": 14
          },
          "showarrow": false,
          "text": "14%",
          "x": 93,
          "xref": "x",
          "y": "I would recommend this<br>course to a friend",
          "yref": "y"
         },
         {
          "font": {
           "color": "rgb(67, 67, 67)",
           "family": "Arial",
           "size": 14
          },
          "showarrow": false,
          "text": "Strongly<br>disagree",
          "x": 93,
          "xref": "x",
          "y": 1.1,
          "yref": "paper"
         }
        ],
        "barmode": "stack",
        "margin": {
         "b": 80,
         "l": 120,
         "r": 10,
         "t": 140
        },
        "paper_bgcolor": "rgb(248, 248, 255)",
        "plot_bgcolor": "rgb(248, 248, 255)",
        "showlegend": false,
        "xaxis": {
         "domain": [
          0.15,
          1
         ],
         "showgrid": false,
         "showline": false,
         "showticklabels": false,
         "zeroline": false
        },
        "yaxis": {
         "showgrid": false,
         "showline": false,
         "showticklabels": false,
         "zeroline": false
        }
       }
      },
      "text/html": [
       "<div id=\"e1f4118d-4835-472d-bb76-98d753bf8754\" style=\"height: 525px; width: 100%;\" class=\"plotly-graph-div\"></div><script type=\"text/javascript\">require([\"plotly\"], function(Plotly) { window.PLOTLYENV=window.PLOTLYENV || {};window.PLOTLYENV.BASE_URL=\"https://plot.ly\";Plotly.newPlot(\"e1f4118d-4835-472d-bb76-98d753bf8754\", [{\"marker\": {\"color\": \"rgba(38, 24, 74, 0.8)\", \"line\": {\"color\": \"rgb(248, 248, 249)\", \"width\": 1}}, \"y\": [\"The course was effectively<br>organized\"], \"type\": \"bar\", \"orientation\": \"h\", \"x\": [21]}, {\"marker\": {\"color\": \"rgba(38, 24, 74, 0.8)\", \"line\": {\"color\": \"rgb(248, 248, 249)\", \"width\": 1}}, \"y\": [\"The course developed my<br>abilities and skills for<br>the subject\"], \"type\": \"bar\", \"orientation\": \"h\", \"x\": [24]}, {\"marker\": {\"color\": \"rgba(38, 24, 74, 0.8)\", \"line\": {\"color\": \"rgb(248, 248, 249)\", \"width\": 1}}, \"y\": [\"The course developed my<br>ability to think critically about<br>the subject\"], \"type\": \"bar\", \"orientation\": \"h\", \"x\": [27]}, {\"marker\": {\"color\": \"rgba(38, 24, 74, 0.8)\", \"line\": {\"color\": \"rgb(248, 248, 249)\", \"width\": 1}}, \"y\": [\"I would recommend this<br>course to a friend\"], \"type\": \"bar\", \"orientation\": \"h\", \"x\": [29]}, {\"marker\": {\"color\": \"rgba(71, 58, 131, 0.8)\", \"line\": {\"color\": \"rgb(248, 248, 249)\", \"width\": 1}}, \"y\": [\"The course was effectively<br>organized\"], \"type\": \"bar\", \"orientation\": \"h\", \"x\": [30]}, {\"marker\": {\"color\": \"rgba(71, 58, 131, 0.8)\", \"line\": {\"color\": \"rgb(248, 248, 249)\", \"width\": 1}}, \"y\": [\"The course developed my<br>abilities and skills for<br>the subject\"], \"type\": \"bar\", \"orientation\": \"h\", \"x\": [31]}, {\"marker\": {\"color\": \"rgba(71, 58, 131, 0.8)\", \"line\": {\"color\": \"rgb(248, 248, 249)\", \"width\": 1}}, \"y\": [\"The course developed my<br>ability to think critically about<br>the subject\"], \"type\": \"bar\", \"orientation\": \"h\", \"x\": [26]}, {\"marker\": {\"color\": \"rgba(71, 58, 131, 0.8)\", \"line\": {\"color\": \"rgb(248, 248, 249)\", \"width\": 1}}, \"y\": [\"I would recommend this<br>course to a friend\"], \"type\": \"bar\", \"orientation\": \"h\", \"x\": [24]}, {\"marker\": {\"color\": \"rgba(122, 120, 168, 0.8)\", \"line\": {\"color\": \"rgb(248, 248, 249)\", \"width\": 1}}, \"y\": [\"The course was effectively<br>organized\"], \"type\": \"bar\", \"orientation\": \"h\", \"x\": [21]}, {\"marker\": {\"color\": \"rgba(122, 120, 168, 0.8)\", \"line\": {\"color\": \"rgb(248, 248, 249)\", \"width\": 1}}, \"y\": [\"The course developed my<br>abilities and skills for<br>the subject\"], \"type\": \"bar\", \"orientation\": \"h\", \"x\": [19]}, {\"marker\": {\"color\": \"rgba(122, 120, 168, 0.8)\", \"line\": {\"color\": \"rgb(248, 248, 249)\", \"width\": 1}}, \"y\": [\"The course developed my<br>ability to think critically about<br>the subject\"], \"type\": \"bar\", \"orientation\": \"h\", \"x\": [23]}, {\"marker\": {\"color\": \"rgba(122, 120, 168, 0.8)\", \"line\": {\"color\": \"rgb(248, 248, 249)\", \"width\": 1}}, \"y\": [\"I would recommend this<br>course to a friend\"], \"type\": \"bar\", \"orientation\": \"h\", \"x\": [15]}, {\"marker\": {\"color\": \"rgba(164, 163, 204, 0.85)\", \"line\": {\"color\": \"rgb(248, 248, 249)\", \"width\": 1}}, \"y\": [\"The course was effectively<br>organized\"], \"type\": \"bar\", \"orientation\": \"h\", \"x\": [16]}, {\"marker\": {\"color\": \"rgba(164, 163, 204, 0.85)\", \"line\": {\"color\": \"rgb(248, 248, 249)\", \"width\": 1}}, \"y\": [\"The course developed my<br>abilities and skills for<br>the subject\"], \"type\": \"bar\", \"orientation\": \"h\", \"x\": [15]}, {\"marker\": {\"color\": \"rgba(164, 163, 204, 0.85)\", \"line\": {\"color\": \"rgb(248, 248, 249)\", \"width\": 1}}, \"y\": [\"The course developed my<br>ability to think critically about<br>the subject\"], \"type\": \"bar\", \"orientation\": \"h\", \"x\": [11]}, {\"marker\": {\"color\": \"rgba(164, 163, 204, 0.85)\", \"line\": {\"color\": \"rgb(248, 248, 249)\", \"width\": 1}}, \"y\": [\"I would recommend this<br>course to a friend\"], \"type\": \"bar\", \"orientation\": \"h\", \"x\": [18]}, {\"marker\": {\"color\": \"rgba(190, 192, 213, 1)\", \"line\": {\"color\": \"rgb(248, 248, 249)\", \"width\": 1}}, \"y\": [\"The course was effectively<br>organized\"], \"type\": \"bar\", \"orientation\": \"h\", \"x\": [12]}, {\"marker\": {\"color\": \"rgba(190, 192, 213, 1)\", \"line\": {\"color\": \"rgb(248, 248, 249)\", \"width\": 1}}, \"y\": [\"The course developed my<br>abilities and skills for<br>the subject\"], \"type\": \"bar\", \"orientation\": \"h\", \"x\": [11]}, {\"marker\": {\"color\": \"rgba(190, 192, 213, 1)\", \"line\": {\"color\": \"rgb(248, 248, 249)\", \"width\": 1}}, \"y\": [\"The course developed my<br>ability to think critically about<br>the subject\"], \"type\": \"bar\", \"orientation\": \"h\", \"x\": [13]}, {\"marker\": {\"color\": \"rgba(190, 192, 213, 1)\", \"line\": {\"color\": \"rgb(248, 248, 249)\", \"width\": 1}}, \"y\": [\"I would recommend this<br>course to a friend\"], \"type\": \"bar\", \"orientation\": \"h\", \"x\": [14]}], {\"showlegend\": false, \"yaxis\": {\"zeroline\": false, \"showline\": false, \"showticklabels\": false, \"showgrid\": false}, \"paper_bgcolor\": \"rgb(248, 248, 255)\", \"plot_bgcolor\": \"rgb(248, 248, 255)\", \"barmode\": \"stack\", \"xaxis\": {\"zeroline\": false, \"showline\": false, \"domain\": [0.15, 1], \"showticklabels\": false, \"showgrid\": false}, \"margin\": {\"r\": 10, \"b\": 80, \"t\": 140, \"l\": 120}, \"annotations\": [{\"xref\": \"paper\", \"xanchor\": \"right\", \"yref\": \"y\", \"text\": \"The course was effectively<br>organized\", \"align\": \"right\", \"y\": \"The course was effectively<br>organized\", \"x\": 0.14, \"font\": {\"color\": \"rgb(67, 67, 67)\", \"family\": \"Arial\", \"size\": 14}, \"showarrow\": false}, {\"xref\": \"x\", \"yref\": \"y\", \"text\": \"21%\", \"y\": \"The course was effectively<br>organized\", \"x\": 10, \"font\": {\"color\": \"rgb(248, 248, 255)\", \"family\": \"Arial\", \"size\": 14}, \"showarrow\": false}, {\"xref\": \"x\", \"yref\": \"y\", \"text\": \"30%\", \"y\": \"The course was effectively<br>organized\", \"x\": 36, \"font\": {\"color\": \"rgb(248, 248, 255)\", \"family\": \"Arial\", \"size\": 14}, \"showarrow\": false}, {\"xref\": \"x\", \"yref\": \"y\", \"text\": \"21%\", \"y\": \"The course was effectively<br>organized\", \"x\": 61, \"font\": {\"color\": \"rgb(248, 248, 255)\", \"family\": \"Arial\", \"size\": 14}, \"showarrow\": false}, {\"xref\": \"x\", \"yref\": \"y\", \"text\": \"16%\", \"y\": \"The course was effectively<br>organized\", \"x\": 80, \"font\": {\"color\": \"rgb(248, 248, 255)\", \"family\": \"Arial\", \"size\": 14}, \"showarrow\": false}, {\"xref\": \"x\", \"yref\": \"y\", \"text\": \"12%\", \"y\": \"The course was effectively<br>organized\", \"x\": 94, \"font\": {\"color\": \"rgb(248, 248, 255)\", \"family\": \"Arial\", \"size\": 14}, \"showarrow\": false}, {\"xref\": \"paper\", \"xanchor\": \"right\", \"yref\": \"y\", \"text\": \"The course developed my<br>abilities and skills for<br>the subject\", \"align\": \"right\", \"y\": \"The course developed my<br>abilities and skills for<br>the subject\", \"x\": 0.14, \"font\": {\"color\": \"rgb(67, 67, 67)\", \"family\": \"Arial\", \"size\": 14}, \"showarrow\": false}, {\"xref\": \"x\", \"yref\": \"y\", \"text\": \"24%\", \"y\": \"The course developed my<br>abilities and skills for<br>the subject\", \"x\": 12, \"font\": {\"color\": \"rgb(248, 248, 255)\", \"family\": \"Arial\", \"size\": 14}, \"showarrow\": false}, {\"xref\": \"x\", \"yref\": \"y\", \"text\": \"31%\", \"y\": \"The course developed my<br>abilities and skills for<br>the subject\", \"x\": 39, \"font\": {\"color\": \"rgb(248, 248, 255)\", \"family\": \"Arial\", \"size\": 14}, \"showarrow\": false}, {\"xref\": \"x\", \"yref\": \"y\", \"text\": \"19%\", \"y\": \"The course developed my<br>abilities and skills for<br>the subject\", \"x\": 64, \"font\": {\"color\": \"rgb(248, 248, 255)\", \"family\": \"Arial\", \"size\": 14}, \"showarrow\": false}, {\"xref\": \"x\", \"yref\": \"y\", \"text\": \"15%\", \"y\": \"The course developed my<br>abilities and skills for<br>the subject\", \"x\": 81, \"font\": {\"color\": \"rgb(248, 248, 255)\", \"family\": \"Arial\", \"size\": 14}, \"showarrow\": false}, {\"xref\": \"x\", \"yref\": \"y\", \"text\": \"11%\", \"y\": \"The course developed my<br>abilities and skills for<br>the subject\", \"x\": 94, \"font\": {\"color\": \"rgb(248, 248, 255)\", \"family\": \"Arial\", \"size\": 14}, \"showarrow\": false}, {\"xref\": \"paper\", \"xanchor\": \"right\", \"yref\": \"y\", \"text\": \"The course developed my<br>ability to think critically about<br>the subject\", \"align\": \"right\", \"y\": \"The course developed my<br>ability to think critically about<br>the subject\", \"x\": 0.14, \"font\": {\"color\": \"rgb(67, 67, 67)\", \"family\": \"Arial\", \"size\": 14}, \"showarrow\": false}, {\"xref\": \"x\", \"yref\": \"y\", \"text\": \"27%\", \"y\": \"The course developed my<br>ability to think critically about<br>the subject\", \"x\": 13, \"font\": {\"color\": \"rgb(248, 248, 255)\", \"family\": \"Arial\", \"size\": 14}, \"showarrow\": false}, {\"xref\": \"x\", \"yref\": \"y\", \"text\": \"26%\", \"y\": \"The course developed my<br>ability to think critically about<br>the subject\", \"x\": 40, \"font\": {\"color\": \"rgb(248, 248, 255)\", \"family\": \"Arial\", \"size\": 14}, \"showarrow\": false}, {\"xref\": \"x\", \"yref\": \"y\", \"text\": \"23%\", \"y\": \"The course developed my<br>ability to think critically about<br>the subject\", \"x\": 64, \"font\": {\"color\": \"rgb(248, 248, 255)\", \"family\": \"Arial\", \"size\": 14}, \"showarrow\": false}, {\"xref\": \"x\", \"yref\": \"y\", \"text\": \"11%\", \"y\": \"The course developed my<br>ability to think critically about<br>the subject\", \"x\": 81, \"font\": {\"color\": \"rgb(248, 248, 255)\", \"family\": \"Arial\", \"size\": 14}, \"showarrow\": false}, {\"xref\": \"x\", \"yref\": \"y\", \"text\": \"13%\", \"y\": \"The course developed my<br>ability to think critically about<br>the subject\", \"x\": 93, \"font\": {\"color\": \"rgb(248, 248, 255)\", \"family\": \"Arial\", \"size\": 14}, \"showarrow\": false}, {\"xref\": \"paper\", \"xanchor\": \"right\", \"yref\": \"y\", \"text\": \"I would recommend this<br>course to a friend\", \"align\": \"right\", \"y\": \"I would recommend this<br>course to a friend\", \"x\": 0.14, \"font\": {\"color\": \"rgb(67, 67, 67)\", \"family\": \"Arial\", \"size\": 14}, \"showarrow\": false}, {\"xref\": \"x\", \"yref\": \"y\", \"text\": \"29%\", \"y\": \"I would recommend this<br>course to a friend\", \"x\": 14, \"font\": {\"color\": \"rgb(248, 248, 255)\", \"family\": \"Arial\", \"size\": 14}, \"showarrow\": false}, {\"xref\": \"x\", \"yref\": \"paper\", \"text\": \"Strongly<br>agree\", \"y\": 1.1, \"x\": 14, \"font\": {\"color\": \"rgb(67, 67, 67)\", \"family\": \"Arial\", \"size\": 14}, \"showarrow\": false}, {\"xref\": \"x\", \"yref\": \"y\", \"text\": \"24%\", \"y\": \"I would recommend this<br>course to a friend\", \"x\": 41, \"font\": {\"color\": \"rgb(248, 248, 255)\", \"family\": \"Arial\", \"size\": 14}, \"showarrow\": false}, {\"xref\": \"x\", \"yref\": \"paper\", \"text\": \"Agree\", \"y\": 1.1, \"x\": 41, \"font\": {\"color\": \"rgb(67, 67, 67)\", \"family\": \"Arial\", \"size\": 14}, \"showarrow\": false}, {\"xref\": \"x\", \"yref\": \"y\", \"text\": \"15%\", \"y\": \"I would recommend this<br>course to a friend\", \"x\": 60, \"font\": {\"color\": \"rgb(248, 248, 255)\", \"family\": \"Arial\", \"size\": 14}, \"showarrow\": false}, {\"xref\": \"x\", \"yref\": \"paper\", \"text\": \"Neutral\", \"y\": 1.1, \"x\": 60, \"font\": {\"color\": \"rgb(67, 67, 67)\", \"family\": \"Arial\", \"size\": 14}, \"showarrow\": false}, {\"xref\": \"x\", \"yref\": \"y\", \"text\": \"18%\", \"y\": \"I would recommend this<br>course to a friend\", \"x\": 77, \"font\": {\"color\": \"rgb(248, 248, 255)\", \"family\": \"Arial\", \"size\": 14}, \"showarrow\": false}, {\"xref\": \"x\", \"yref\": \"paper\", \"text\": \"Disagree\", \"y\": 1.1, \"x\": 77, \"font\": {\"color\": \"rgb(67, 67, 67)\", \"family\": \"Arial\", \"size\": 14}, \"showarrow\": false}, {\"xref\": \"x\", \"yref\": \"y\", \"text\": \"14%\", \"y\": \"I would recommend this<br>course to a friend\", \"x\": 93, \"font\": {\"color\": \"rgb(248, 248, 255)\", \"family\": \"Arial\", \"size\": 14}, \"showarrow\": false}, {\"xref\": \"x\", \"yref\": \"paper\", \"text\": \"Strongly<br>disagree\", \"y\": 1.1, \"x\": 93, \"font\": {\"color\": \"rgb(67, 67, 67)\", \"family\": \"Arial\", \"size\": 14}, \"showarrow\": false}]}, {\"linkText\": \"Export to plot.ly\", \"showLink\": true})});</script>"
      ],
      "text/vnd.plotly.v1+html": [
       "<div id=\"e1f4118d-4835-472d-bb76-98d753bf8754\" style=\"height: 525px; width: 100%;\" class=\"plotly-graph-div\"></div><script type=\"text/javascript\">require([\"plotly\"], function(Plotly) { window.PLOTLYENV=window.PLOTLYENV || {};window.PLOTLYENV.BASE_URL=\"https://plot.ly\";Plotly.newPlot(\"e1f4118d-4835-472d-bb76-98d753bf8754\", [{\"marker\": {\"color\": \"rgba(38, 24, 74, 0.8)\", \"line\": {\"color\": \"rgb(248, 248, 249)\", \"width\": 1}}, \"y\": [\"The course was effectively<br>organized\"], \"type\": \"bar\", \"orientation\": \"h\", \"x\": [21]}, {\"marker\": {\"color\": \"rgba(38, 24, 74, 0.8)\", \"line\": {\"color\": \"rgb(248, 248, 249)\", \"width\": 1}}, \"y\": [\"The course developed my<br>abilities and skills for<br>the subject\"], \"type\": \"bar\", \"orientation\": \"h\", \"x\": [24]}, {\"marker\": {\"color\": \"rgba(38, 24, 74, 0.8)\", \"line\": {\"color\": \"rgb(248, 248, 249)\", \"width\": 1}}, \"y\": [\"The course developed my<br>ability to think critically about<br>the subject\"], \"type\": \"bar\", \"orientation\": \"h\", \"x\": [27]}, {\"marker\": {\"color\": \"rgba(38, 24, 74, 0.8)\", \"line\": {\"color\": \"rgb(248, 248, 249)\", \"width\": 1}}, \"y\": [\"I would recommend this<br>course to a friend\"], \"type\": \"bar\", \"orientation\": \"h\", \"x\": [29]}, {\"marker\": {\"color\": \"rgba(71, 58, 131, 0.8)\", \"line\": {\"color\": \"rgb(248, 248, 249)\", \"width\": 1}}, \"y\": [\"The course was effectively<br>organized\"], \"type\": \"bar\", \"orientation\": \"h\", \"x\": [30]}, {\"marker\": {\"color\": \"rgba(71, 58, 131, 0.8)\", \"line\": {\"color\": \"rgb(248, 248, 249)\", \"width\": 1}}, \"y\": [\"The course developed my<br>abilities and skills for<br>the subject\"], \"type\": \"bar\", \"orientation\": \"h\", \"x\": [31]}, {\"marker\": {\"color\": \"rgba(71, 58, 131, 0.8)\", \"line\": {\"color\": \"rgb(248, 248, 249)\", \"width\": 1}}, \"y\": [\"The course developed my<br>ability to think critically about<br>the subject\"], \"type\": \"bar\", \"orientation\": \"h\", \"x\": [26]}, {\"marker\": {\"color\": \"rgba(71, 58, 131, 0.8)\", \"line\": {\"color\": \"rgb(248, 248, 249)\", \"width\": 1}}, \"y\": [\"I would recommend this<br>course to a friend\"], \"type\": \"bar\", \"orientation\": \"h\", \"x\": [24]}, {\"marker\": {\"color\": \"rgba(122, 120, 168, 0.8)\", \"line\": {\"color\": \"rgb(248, 248, 249)\", \"width\": 1}}, \"y\": [\"The course was effectively<br>organized\"], \"type\": \"bar\", \"orientation\": \"h\", \"x\": [21]}, {\"marker\": {\"color\": \"rgba(122, 120, 168, 0.8)\", \"line\": {\"color\": \"rgb(248, 248, 249)\", \"width\": 1}}, \"y\": [\"The course developed my<br>abilities and skills for<br>the subject\"], \"type\": \"bar\", \"orientation\": \"h\", \"x\": [19]}, {\"marker\": {\"color\": \"rgba(122, 120, 168, 0.8)\", \"line\": {\"color\": \"rgb(248, 248, 249)\", \"width\": 1}}, \"y\": [\"The course developed my<br>ability to think critically about<br>the subject\"], \"type\": \"bar\", \"orientation\": \"h\", \"x\": [23]}, {\"marker\": {\"color\": \"rgba(122, 120, 168, 0.8)\", \"line\": {\"color\": \"rgb(248, 248, 249)\", \"width\": 1}}, \"y\": [\"I would recommend this<br>course to a friend\"], \"type\": \"bar\", \"orientation\": \"h\", \"x\": [15]}, {\"marker\": {\"color\": \"rgba(164, 163, 204, 0.85)\", \"line\": {\"color\": \"rgb(248, 248, 249)\", \"width\": 1}}, \"y\": [\"The course was effectively<br>organized\"], \"type\": \"bar\", \"orientation\": \"h\", \"x\": [16]}, {\"marker\": {\"color\": \"rgba(164, 163, 204, 0.85)\", \"line\": {\"color\": \"rgb(248, 248, 249)\", \"width\": 1}}, \"y\": [\"The course developed my<br>abilities and skills for<br>the subject\"], \"type\": \"bar\", \"orientation\": \"h\", \"x\": [15]}, {\"marker\": {\"color\": \"rgba(164, 163, 204, 0.85)\", \"line\": {\"color\": \"rgb(248, 248, 249)\", \"width\": 1}}, \"y\": [\"The course developed my<br>ability to think critically about<br>the subject\"], \"type\": \"bar\", \"orientation\": \"h\", \"x\": [11]}, {\"marker\": {\"color\": \"rgba(164, 163, 204, 0.85)\", \"line\": {\"color\": \"rgb(248, 248, 249)\", \"width\": 1}}, \"y\": [\"I would recommend this<br>course to a friend\"], \"type\": \"bar\", \"orientation\": \"h\", \"x\": [18]}, {\"marker\": {\"color\": \"rgba(190, 192, 213, 1)\", \"line\": {\"color\": \"rgb(248, 248, 249)\", \"width\": 1}}, \"y\": [\"The course was effectively<br>organized\"], \"type\": \"bar\", \"orientation\": \"h\", \"x\": [12]}, {\"marker\": {\"color\": \"rgba(190, 192, 213, 1)\", \"line\": {\"color\": \"rgb(248, 248, 249)\", \"width\": 1}}, \"y\": [\"The course developed my<br>abilities and skills for<br>the subject\"], \"type\": \"bar\", \"orientation\": \"h\", \"x\": [11]}, {\"marker\": {\"color\": \"rgba(190, 192, 213, 1)\", \"line\": {\"color\": \"rgb(248, 248, 249)\", \"width\": 1}}, \"y\": [\"The course developed my<br>ability to think critically about<br>the subject\"], \"type\": \"bar\", \"orientation\": \"h\", \"x\": [13]}, {\"marker\": {\"color\": \"rgba(190, 192, 213, 1)\", \"line\": {\"color\": \"rgb(248, 248, 249)\", \"width\": 1}}, \"y\": [\"I would recommend this<br>course to a friend\"], \"type\": \"bar\", \"orientation\": \"h\", \"x\": [14]}], {\"showlegend\": false, \"yaxis\": {\"zeroline\": false, \"showline\": false, \"showticklabels\": false, \"showgrid\": false}, \"paper_bgcolor\": \"rgb(248, 248, 255)\", \"plot_bgcolor\": \"rgb(248, 248, 255)\", \"barmode\": \"stack\", \"xaxis\": {\"zeroline\": false, \"showline\": false, \"domain\": [0.15, 1], \"showticklabels\": false, \"showgrid\": false}, \"margin\": {\"r\": 10, \"b\": 80, \"t\": 140, \"l\": 120}, \"annotations\": [{\"xref\": \"paper\", \"xanchor\": \"right\", \"yref\": \"y\", \"text\": \"The course was effectively<br>organized\", \"align\": \"right\", \"y\": \"The course was effectively<br>organized\", \"x\": 0.14, \"font\": {\"color\": \"rgb(67, 67, 67)\", \"family\": \"Arial\", \"size\": 14}, \"showarrow\": false}, {\"xref\": \"x\", \"yref\": \"y\", \"text\": \"21%\", \"y\": \"The course was effectively<br>organized\", \"x\": 10, \"font\": {\"color\": \"rgb(248, 248, 255)\", \"family\": \"Arial\", \"size\": 14}, \"showarrow\": false}, {\"xref\": \"x\", \"yref\": \"y\", \"text\": \"30%\", \"y\": \"The course was effectively<br>organized\", \"x\": 36, \"font\": {\"color\": \"rgb(248, 248, 255)\", \"family\": \"Arial\", \"size\": 14}, \"showarrow\": false}, {\"xref\": \"x\", \"yref\": \"y\", \"text\": \"21%\", \"y\": \"The course was effectively<br>organized\", \"x\": 61, \"font\": {\"color\": \"rgb(248, 248, 255)\", \"family\": \"Arial\", \"size\": 14}, \"showarrow\": false}, {\"xref\": \"x\", \"yref\": \"y\", \"text\": \"16%\", \"y\": \"The course was effectively<br>organized\", \"x\": 80, \"font\": {\"color\": \"rgb(248, 248, 255)\", \"family\": \"Arial\", \"size\": 14}, \"showarrow\": false}, {\"xref\": \"x\", \"yref\": \"y\", \"text\": \"12%\", \"y\": \"The course was effectively<br>organized\", \"x\": 94, \"font\": {\"color\": \"rgb(248, 248, 255)\", \"family\": \"Arial\", \"size\": 14}, \"showarrow\": false}, {\"xref\": \"paper\", \"xanchor\": \"right\", \"yref\": \"y\", \"text\": \"The course developed my<br>abilities and skills for<br>the subject\", \"align\": \"right\", \"y\": \"The course developed my<br>abilities and skills for<br>the subject\", \"x\": 0.14, \"font\": {\"color\": \"rgb(67, 67, 67)\", \"family\": \"Arial\", \"size\": 14}, \"showarrow\": false}, {\"xref\": \"x\", \"yref\": \"y\", \"text\": \"24%\", \"y\": \"The course developed my<br>abilities and skills for<br>the subject\", \"x\": 12, \"font\": {\"color\": \"rgb(248, 248, 255)\", \"family\": \"Arial\", \"size\": 14}, \"showarrow\": false}, {\"xref\": \"x\", \"yref\": \"y\", \"text\": \"31%\", \"y\": \"The course developed my<br>abilities and skills for<br>the subject\", \"x\": 39, \"font\": {\"color\": \"rgb(248, 248, 255)\", \"family\": \"Arial\", \"size\": 14}, \"showarrow\": false}, {\"xref\": \"x\", \"yref\": \"y\", \"text\": \"19%\", \"y\": \"The course developed my<br>abilities and skills for<br>the subject\", \"x\": 64, \"font\": {\"color\": \"rgb(248, 248, 255)\", \"family\": \"Arial\", \"size\": 14}, \"showarrow\": false}, {\"xref\": \"x\", \"yref\": \"y\", \"text\": \"15%\", \"y\": \"The course developed my<br>abilities and skills for<br>the subject\", \"x\": 81, \"font\": {\"color\": \"rgb(248, 248, 255)\", \"family\": \"Arial\", \"size\": 14}, \"showarrow\": false}, {\"xref\": \"x\", \"yref\": \"y\", \"text\": \"11%\", \"y\": \"The course developed my<br>abilities and skills for<br>the subject\", \"x\": 94, \"font\": {\"color\": \"rgb(248, 248, 255)\", \"family\": \"Arial\", \"size\": 14}, \"showarrow\": false}, {\"xref\": \"paper\", \"xanchor\": \"right\", \"yref\": \"y\", \"text\": \"The course developed my<br>ability to think critically about<br>the subject\", \"align\": \"right\", \"y\": \"The course developed my<br>ability to think critically about<br>the subject\", \"x\": 0.14, \"font\": {\"color\": \"rgb(67, 67, 67)\", \"family\": \"Arial\", \"size\": 14}, \"showarrow\": false}, {\"xref\": \"x\", \"yref\": \"y\", \"text\": \"27%\", \"y\": \"The course developed my<br>ability to think critically about<br>the subject\", \"x\": 13, \"font\": {\"color\": \"rgb(248, 248, 255)\", \"family\": \"Arial\", \"size\": 14}, \"showarrow\": false}, {\"xref\": \"x\", \"yref\": \"y\", \"text\": \"26%\", \"y\": \"The course developed my<br>ability to think critically about<br>the subject\", \"x\": 40, \"font\": {\"color\": \"rgb(248, 248, 255)\", \"family\": \"Arial\", \"size\": 14}, \"showarrow\": false}, {\"xref\": \"x\", \"yref\": \"y\", \"text\": \"23%\", \"y\": \"The course developed my<br>ability to think critically about<br>the subject\", \"x\": 64, \"font\": {\"color\": \"rgb(248, 248, 255)\", \"family\": \"Arial\", \"size\": 14}, \"showarrow\": false}, {\"xref\": \"x\", \"yref\": \"y\", \"text\": \"11%\", \"y\": \"The course developed my<br>ability to think critically about<br>the subject\", \"x\": 81, \"font\": {\"color\": \"rgb(248, 248, 255)\", \"family\": \"Arial\", \"size\": 14}, \"showarrow\": false}, {\"xref\": \"x\", \"yref\": \"y\", \"text\": \"13%\", \"y\": \"The course developed my<br>ability to think critically about<br>the subject\", \"x\": 93, \"font\": {\"color\": \"rgb(248, 248, 255)\", \"family\": \"Arial\", \"size\": 14}, \"showarrow\": false}, {\"xref\": \"paper\", \"xanchor\": \"right\", \"yref\": \"y\", \"text\": \"I would recommend this<br>course to a friend\", \"align\": \"right\", \"y\": \"I would recommend this<br>course to a friend\", \"x\": 0.14, \"font\": {\"color\": \"rgb(67, 67, 67)\", \"family\": \"Arial\", \"size\": 14}, \"showarrow\": false}, {\"xref\": \"x\", \"yref\": \"y\", \"text\": \"29%\", \"y\": \"I would recommend this<br>course to a friend\", \"x\": 14, \"font\": {\"color\": \"rgb(248, 248, 255)\", \"family\": \"Arial\", \"size\": 14}, \"showarrow\": false}, {\"xref\": \"x\", \"yref\": \"paper\", \"text\": \"Strongly<br>agree\", \"y\": 1.1, \"x\": 14, \"font\": {\"color\": \"rgb(67, 67, 67)\", \"family\": \"Arial\", \"size\": 14}, \"showarrow\": false}, {\"xref\": \"x\", \"yref\": \"y\", \"text\": \"24%\", \"y\": \"I would recommend this<br>course to a friend\", \"x\": 41, \"font\": {\"color\": \"rgb(248, 248, 255)\", \"family\": \"Arial\", \"size\": 14}, \"showarrow\": false}, {\"xref\": \"x\", \"yref\": \"paper\", \"text\": \"Agree\", \"y\": 1.1, \"x\": 41, \"font\": {\"color\": \"rgb(67, 67, 67)\", \"family\": \"Arial\", \"size\": 14}, \"showarrow\": false}, {\"xref\": \"x\", \"yref\": \"y\", \"text\": \"15%\", \"y\": \"I would recommend this<br>course to a friend\", \"x\": 60, \"font\": {\"color\": \"rgb(248, 248, 255)\", \"family\": \"Arial\", \"size\": 14}, \"showarrow\": false}, {\"xref\": \"x\", \"yref\": \"paper\", \"text\": \"Neutral\", \"y\": 1.1, \"x\": 60, \"font\": {\"color\": \"rgb(67, 67, 67)\", \"family\": \"Arial\", \"size\": 14}, \"showarrow\": false}, {\"xref\": \"x\", \"yref\": \"y\", \"text\": \"18%\", \"y\": \"I would recommend this<br>course to a friend\", \"x\": 77, \"font\": {\"color\": \"rgb(248, 248, 255)\", \"family\": \"Arial\", \"size\": 14}, \"showarrow\": false}, {\"xref\": \"x\", \"yref\": \"paper\", \"text\": \"Disagree\", \"y\": 1.1, \"x\": 77, \"font\": {\"color\": \"rgb(67, 67, 67)\", \"family\": \"Arial\", \"size\": 14}, \"showarrow\": false}, {\"xref\": \"x\", \"yref\": \"y\", \"text\": \"14%\", \"y\": \"I would recommend this<br>course to a friend\", \"x\": 93, \"font\": {\"color\": \"rgb(248, 248, 255)\", \"family\": \"Arial\", \"size\": 14}, \"showarrow\": false}, {\"xref\": \"x\", \"yref\": \"paper\", \"text\": \"Strongly<br>disagree\", \"y\": 1.1, \"x\": 93, \"font\": {\"color\": \"rgb(67, 67, 67)\", \"family\": \"Arial\", \"size\": 14}, \"showarrow\": false}]}, {\"linkText\": \"Export to plot.ly\", \"showLink\": true})});</script>"
      ]
     },
     "metadata": {},
     "output_type": "display_data"
    }
   ],
   "source": [
    "# another horizontal bar chart example\n",
    "# Plotly Example: Color Palette for Bar Chart\n",
    "#   https://plot.ly/python/horizontal-bar-charts/\n",
    "\n",
    "import plotly.plotly as py\n",
    "import plotly.graph_objs as go\n",
    "\n",
    "# initialize variables \n",
    "x_data = []\n",
    "y_data = []\n",
    "traces = []\n",
    "annotations = []\n",
    "\n",
    "top_labels = ['Strongly<br>agree', 'Agree', 'Neutral', 'Disagree',\n",
    "              'Strongly<br>disagree']\n",
    "\n",
    "colors = ['rgba(38, 24, 74, 0.8)', 'rgba(71, 58, 131, 0.8)',\n",
    "          'rgba(122, 120, 168, 0.8)', 'rgba(164, 163, 204, 0.85)',\n",
    "          'rgba(190, 192, 213, 1)']\n",
    "\n",
    "x_data = [[21, 30, 21, 16, 12],\n",
    "          [24, 31, 19, 15, 11],\n",
    "          [27, 26, 23, 11, 13],\n",
    "          [29, 24, 15, 18, 14]]\n",
    "\n",
    "y_data = ['The course was effectively<br>organized',\n",
    "          'The course developed my<br>abilities and skills ' +\n",
    "          'for<br>the subject', 'The course developed ' +\n",
    "          'my<br>ability to think critically about<br>the subject',\n",
    "          'I would recommend this<br>course to a friend']\n",
    "\n",
    "for i in range(0, len(x_data[0])):\n",
    "    for xd, yd in zip(x_data, y_data):\n",
    "        traces.append(go.Bar(\n",
    "#            x=xd[i],\n",
    "#            y=yd,\n",
    "            x=[xd[i]],                                                    #x,y must be list (also if only 1 item)\n",
    "            y=[yd],\n",
    "            orientation='h',\n",
    "            marker=dict(\n",
    "                color=colors[i],\n",
    "                line=dict(\n",
    "                        color='rgb(248, 248, 249)',\n",
    "                        width=1)\n",
    "            )\n",
    "        ))\n",
    "        \n",
    "layout = go.Layout(\n",
    "    xaxis=dict(\n",
    "        showgrid=False,\n",
    "        showline=False,\n",
    "        showticklabels=False,\n",
    "        zeroline=False,\n",
    "        domain=[0.15, 1]\n",
    "    ),\n",
    "    yaxis=dict(\n",
    "        showgrid=False,\n",
    "        showline=False,\n",
    "        showticklabels=False,\n",
    "        zeroline=False,\n",
    "    ),\n",
    "    barmode='stack',\n",
    "    paper_bgcolor='rgb(248, 248, 255)',\n",
    "    plot_bgcolor='rgb(248, 248, 255)',\n",
    "    margin=dict(\n",
    "        l=120,\n",
    "        r=10,\n",
    "        t=140,\n",
    "        b=80\n",
    "    ),\n",
    "    showlegend=False,\n",
    ")\n",
    "\n",
    "for yd, xd in zip(y_data, x_data):\n",
    "    # labeling the y-axis\n",
    "    annotations.append(dict(xref='paper', yref='y',\n",
    "                            x=0.14, y=yd,\n",
    "                            xanchor='right',\n",
    "                            text=str(yd),\n",
    "                            font=dict(family='Arial', size=14,\n",
    "                                      color='rgb(67, 67, 67)'),\n",
    "                            showarrow=False, align='right'))\n",
    "    # labeling the first percentage of each bar (x_axis)\n",
    "    annotations.append(dict(xref='x', yref='y',\n",
    "                            x=xd[0] / 2, y=yd,\n",
    "                            text=str(xd[0]) + '%',\n",
    "                            font=dict(family='Arial', size=14,\n",
    "                                      color='rgb(248, 248, 255)'),\n",
    "                            showarrow=False))\n",
    "    # labeling the first Likert scale (on the top)\n",
    "    if yd == y_data[-1]:\n",
    "        annotations.append(dict(xref='x', yref='paper',\n",
    "                                x=xd[0] / 2, y=1.1,\n",
    "                                text=top_labels[0],\n",
    "                                font=dict(family='Arial', size=14,\n",
    "                                          color='rgb(67, 67, 67)'),\n",
    "                                showarrow=False))\n",
    "    space = xd[0]\n",
    "    for i in range(1, len(xd)):\n",
    "            # labeling the rest of percentages for each bar (x_axis)\n",
    "            annotations.append(dict(xref='x', yref='y',\n",
    "                                    x=space + (xd[i]/2), y=yd, \n",
    "                                    text=str(xd[i]) + '%',\n",
    "                                    font=dict(family='Arial', size=14,\n",
    "                                              color='rgb(248, 248, 255)'),\n",
    "                                    showarrow=False))\n",
    "            # labeling the Likert scale\n",
    "            if yd == y_data[-1]:\n",
    "                annotations.append(dict(xref='x', yref='paper',\n",
    "                                        x=space + (xd[i]/2), y=1.1,\n",
    "                                        text=top_labels[i],\n",
    "                                        font=dict(family='Arial', size=14,\n",
    "                                                  color='rgb(67, 67, 67)'),\n",
    "                                        showarrow=False))\n",
    "            space += xd[i]\n",
    "\n",
    "layout['annotations'] = annotations\n",
    "\n",
    "fig = go.Figure(data=traces, layout=layout)\n",
    "plotly.offline.iplot(fig, filename='bar-colorscale')"
   ]
  },
  {
   "cell_type": "code",
   "execution_count": null,
   "metadata": {
    "collapsed": true
   },
   "outputs": [],
   "source": []
  }
 ],
 "metadata": {
  "kernelspec": {
   "display_name": "Python 2",
   "language": "python",
   "name": "python2"
  },
  "language_info": {
   "codemirror_mode": {
    "name": "ipython",
    "version": 2
   },
   "file_extension": ".py",
   "mimetype": "text/x-python",
   "name": "python",
   "nbconvert_exporter": "python",
   "pygments_lexer": "ipython2",
   "version": "2.7.12"
  }
 },
 "nbformat": 4,
 "nbformat_minor": 2
}
