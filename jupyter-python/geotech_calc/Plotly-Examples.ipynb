{
 "cells": [
  {
   "cell_type": "code",
   "execution_count": 1,
   "metadata": {
    "collapsed": true
   },
   "outputs": [],
   "source": [
    "# import libraries\n",
    "#from numpy import *\n",
    "import numpy as np\n",
    "import pandas as pd\n",
    "import matplotlib.pyplot as plt"
   ]
  },
  {
   "cell_type": "code",
   "execution_count": 2,
   "metadata": {},
   "outputs": [
    {
     "data": {
      "text/html": [
       "<script>requirejs.config({paths: { 'plotly': ['https://cdn.plot.ly/plotly-latest.min']},});if(!window.Plotly) {{require(['plotly'],function(plotly) {window.Plotly=plotly;});}}</script>"
      ],
      "text/vnd.plotly.v1+html": [
       "<script>requirejs.config({paths: { 'plotly': ['https://cdn.plot.ly/plotly-latest.min']},});if(!window.Plotly) {{require(['plotly'],function(plotly) {window.Plotly=plotly;});}}</script>"
      ]
     },
     "metadata": {},
     "output_type": "display_data"
    },
    {
     "name": "stdout",
     "output_type": "stream",
     "text": [
      "2.2.1\n"
     ]
    }
   ],
   "source": [
    "# set up plotly in 'offline' mode\n",
    "# this should be documented\n",
    "\n",
    "from plotly import __version__\n",
    "from plotly.offline import download_plotlyjs, init_notebook_mode, plot,iplot\n",
    "import plotly.graph_objs as go\n",
    "init_notebook_mode(connected=True)\n",
    "print (__version__) # requires version >= 1.9.0"
   ]
  },
  {
   "cell_type": "code",
   "execution_count": 3,
   "metadata": {
    "collapsed": true
   },
   "outputs": [],
   "source": [
    "# collect all plotly setups here\n",
    "\n",
    "import plotly.offline as plotly  #testing\n",
    "\n",
    "from plotly.graph_objs import *  #testing\n"
   ]
  },
  {
   "cell_type": "code",
   "execution_count": 4,
   "metadata": {},
   "outputs": [
    {
     "data": {
      "application/vnd.plotly.v1+json": {
       "data": [
        {
         "type": "scatter",
         "x": [
          2,
          5,
          8,
          0,
          2,
          -8,
          4,
          3,
          1
         ],
         "y": [
          2,
          5,
          8,
          0,
          2,
          -8,
          4,
          3,
          1
         ]
        }
       ],
       "layout": {
        "height": 500,
        "title": "Offline Plotly Testing",
        "width": 800,
        "xaxis": {
         "title": "X-axis"
        },
        "yaxis": {
         "title": "Y-axis"
        }
       }
      },
      "text/html": [
       "<div id=\"8b1e0499-f625-42da-bff1-5b8b4da7d349\" style=\"height: 500px; width: 800px;\" class=\"plotly-graph-div\"></div><script type=\"text/javascript\">require([\"plotly\"], function(Plotly) { window.PLOTLYENV=window.PLOTLYENV || {};window.PLOTLYENV.BASE_URL=\"https://plot.ly\";Plotly.newPlot(\"8b1e0499-f625-42da-bff1-5b8b4da7d349\", [{\"y\": [2, 5, 8, 0, 2, -8, 4, 3, 1], \"x\": [2, 5, 8, 0, 2, -8, 4, 3, 1], \"type\": \"scatter\"}], {\"height\": 500, \"width\": 800, \"title\": \"Offline Plotly Testing\", \"xaxis\": {\"title\": \"X-axis\"}, \"yaxis\": {\"title\": \"Y-axis\"}}, {\"linkText\": \"Export to plot.ly\", \"showLink\": true})});</script>"
      ],
      "text/vnd.plotly.v1+html": [
       "<div id=\"8b1e0499-f625-42da-bff1-5b8b4da7d349\" style=\"height: 500px; width: 800px;\" class=\"plotly-graph-div\"></div><script type=\"text/javascript\">require([\"plotly\"], function(Plotly) { window.PLOTLYENV=window.PLOTLYENV || {};window.PLOTLYENV.BASE_URL=\"https://plot.ly\";Plotly.newPlot(\"8b1e0499-f625-42da-bff1-5b8b4da7d349\", [{\"y\": [2, 5, 8, 0, 2, -8, 4, 3, 1], \"x\": [2, 5, 8, 0, 2, -8, 4, 3, 1], \"type\": \"scatter\"}], {\"height\": 500, \"width\": 800, \"title\": \"Offline Plotly Testing\", \"xaxis\": {\"title\": \"X-axis\"}, \"yaxis\": {\"title\": \"Y-axis\"}}, {\"linkText\": \"Export to plot.ly\", \"showLink\": true})});</script>"
      ]
     },
     "metadata": {},
     "output_type": "display_data"
    }
   ],
   "source": [
    "# quick line plot example\n",
    "\n",
    "x=np.array([2,5,8,0,2,-8,4,3,1])\n",
    "y=np.array([2,5,8,0,2,-8,4,3,1])\n",
    "\n",
    "data = [go.Scatter(x=x,y=y)]\n",
    "fig = go.Figure(data = data,layout = go.Layout(title='Offline Plotly Testing',width = 800,height = 500,\n",
    "                                           xaxis = dict(title = 'X-axis'), yaxis = dict(title = 'Y-axis')))\n",
    "\n",
    "#plotly.offline.iplot(data)\n",
    "plotly.offline.iplot(fig)"
   ]
  },
  {
   "cell_type": "code",
   "execution_count": 5,
   "metadata": {},
   "outputs": [
    {
     "data": {
      "application/vnd.plotly.v1+json": {
       "data": [
        {
         "marker": {
          "color": "red",
          "size": "10",
          "symbol": 104
         },
         "mode": "markers+lines",
         "name": "1st Trace",
         "text": [
          "one",
          "two",
          "three"
         ],
         "type": "scatter",
         "x": [
          1,
          2,
          3
         ],
         "y": [
          4,
          5,
          6
         ]
        }
       ],
       "layout": {
        "title": "First Plot",
        "xaxis": {
         "title": "x1"
        },
        "yaxis": {
         "title": "x2"
        }
       }
      },
      "text/html": [
       "<div id=\"c7b1bc67-63ca-4f46-a67a-7ee308a2f642\" style=\"height: 525px; width: 100%;\" class=\"plotly-graph-div\"></div><script type=\"text/javascript\">require([\"plotly\"], function(Plotly) { window.PLOTLYENV=window.PLOTLYENV || {};window.PLOTLYENV.BASE_URL=\"https://plot.ly\";Plotly.newPlot(\"c7b1bc67-63ca-4f46-a67a-7ee308a2f642\", [{\"name\": \"1st Trace\", \"text\": [\"one\", \"two\", \"three\"], \"marker\": {\"color\": \"red\", \"symbol\": 104, \"size\": \"10\"}, \"mode\": \"markers+lines\", \"y\": [4, 5, 6], \"x\": [1, 2, 3], \"type\": \"scatter\"}], {\"title\": \"First Plot\", \"xaxis\": {\"title\": \"x1\"}, \"yaxis\": {\"title\": \"x2\"}}, {\"linkText\": \"Export to plot.ly\", \"showLink\": true})});</script>"
      ],
      "text/vnd.plotly.v1+html": [
       "<div id=\"c7b1bc67-63ca-4f46-a67a-7ee308a2f642\" style=\"height: 525px; width: 100%;\" class=\"plotly-graph-div\"></div><script type=\"text/javascript\">require([\"plotly\"], function(Plotly) { window.PLOTLYENV=window.PLOTLYENV || {};window.PLOTLYENV.BASE_URL=\"https://plot.ly\";Plotly.newPlot(\"c7b1bc67-63ca-4f46-a67a-7ee308a2f642\", [{\"name\": \"1st Trace\", \"text\": [\"one\", \"two\", \"three\"], \"marker\": {\"color\": \"red\", \"symbol\": 104, \"size\": \"10\"}, \"mode\": \"markers+lines\", \"y\": [4, 5, 6], \"x\": [1, 2, 3], \"type\": \"scatter\"}], {\"title\": \"First Plot\", \"xaxis\": {\"title\": \"x1\"}, \"yaxis\": {\"title\": \"x2\"}}, {\"linkText\": \"Export to plot.ly\", \"showLink\": true})});</script>"
      ]
     },
     "metadata": {},
     "output_type": "display_data"
    }
   ],
   "source": [
    "# another line plot example\n",
    "\n",
    "trace1 = go.Scatter(x=[1,2,3], y=[4,5,6], marker={'color': 'red', 'symbol': 104, 'size': \"10\"}, \n",
    "                    mode=\"markers+lines\",  text=[\"one\",\"two\",\"three\"], name='1st Trace')\n",
    "                                               \n",
    "data=go.Data([trace1])\n",
    "layout=go.Layout(title=\"First Plot\", xaxis={'title':'x1'}, yaxis={'title':'x2'})\n",
    "figure=go.Figure(data=data,layout=layout)\n",
    "plotly.offline.iplot(figure, filename='pyguide_1')"
   ]
  },
  {
   "cell_type": "code",
   "execution_count": 6,
   "metadata": {},
   "outputs": [
    {
     "data": {
      "application/vnd.plotly.v1+json": {
       "data": [
        {
         "type": "scatter",
         "x": [
          1,
          2,
          3,
          4
         ],
         "y": [
          10,
          15,
          13,
          17
         ]
        },
        {
         "type": "scatter",
         "x": [
          1,
          2,
          3,
          4
         ],
         "y": [
          16,
          5,
          11,
          9
         ]
        }
       ],
       "layout": {}
      },
      "text/html": [
       "<div id=\"dd428144-ca93-4460-8f31-f3fe9b04b06b\" style=\"height: 525px; width: 100%;\" class=\"plotly-graph-div\"></div><script type=\"text/javascript\">require([\"plotly\"], function(Plotly) { window.PLOTLYENV=window.PLOTLYENV || {};window.PLOTLYENV.BASE_URL=\"https://plot.ly\";Plotly.newPlot(\"dd428144-ca93-4460-8f31-f3fe9b04b06b\", [{\"y\": [10, 15, 13, 17], \"x\": [1, 2, 3, 4], \"type\": \"scatter\"}, {\"y\": [16, 5, 11, 9], \"x\": [1, 2, 3, 4], \"type\": \"scatter\"}], {}, {\"linkText\": \"Export to plot.ly\", \"showLink\": true})});</script>"
      ],
      "text/vnd.plotly.v1+html": [
       "<div id=\"dd428144-ca93-4460-8f31-f3fe9b04b06b\" style=\"height: 525px; width: 100%;\" class=\"plotly-graph-div\"></div><script type=\"text/javascript\">require([\"plotly\"], function(Plotly) { window.PLOTLYENV=window.PLOTLYENV || {};window.PLOTLYENV.BASE_URL=\"https://plot.ly\";Plotly.newPlot(\"dd428144-ca93-4460-8f31-f3fe9b04b06b\", [{\"y\": [10, 15, 13, 17], \"x\": [1, 2, 3, 4], \"type\": \"scatter\"}, {\"y\": [16, 5, 11, 9], \"x\": [1, 2, 3, 4], \"type\": \"scatter\"}], {}, {\"linkText\": \"Export to plot.ly\", \"showLink\": true})});</script>"
      ]
     },
     "metadata": {},
     "output_type": "display_data"
    }
   ],
   "source": [
    "# plotly scatterplot examples\n",
    "\n",
    "trace0 = Scatter(\n",
    "    x=[1, 2, 3, 4],\n",
    "    y=[10, 15, 13, 17]\n",
    ")\n",
    "trace1 = Scatter(\n",
    "    x=[1, 2, 3, 4],\n",
    "    y=[16, 5, 11, 9]\n",
    ")\n",
    "data = Data([trace0, trace1])\n",
    "\n",
    "plotly.offline.iplot(data)"
   ]
  },
  {
   "cell_type": "code",
   "execution_count": 7,
   "metadata": {},
   "outputs": [
    {
     "data": {
      "application/vnd.plotly.v1+json": {
       "data": [
        {
         "colorscale": [
          [
           0,
           "#00083e"
          ],
          [
           0.5,
           "#ededee"
          ],
          [
           1,
           "#ffffff"
          ]
         ],
         "hoverinfo": "none",
         "opacity": 0.75,
         "showscale": false,
         "type": "heatmap",
         "z": [
          [
           0,
           0,
           0,
           0
          ],
          [
           0.5,
           0.5,
           0.5,
           0.5
          ],
          [
           1,
           1,
           1,
           1
          ],
          [
           0.5,
           0.5,
           0.5,
           0.5
          ],
          [
           1,
           1,
           1,
           1
          ],
          [
           0.5,
           0.5,
           0.5,
           0.5
          ],
          [
           1,
           1,
           1,
           1
          ],
          [
           0.5,
           0.5,
           0.5,
           0.5
          ],
          [
           1,
           1,
           1,
           1
          ],
          [
           0.5,
           0.5,
           0.5,
           0.5
          ],
          [
           1,
           1,
           1,
           1
          ],
          [
           0.5,
           0.5,
           0.5,
           0.5
          ],
          [
           1,
           1,
           1,
           1
          ],
          [
           0.5,
           0.5,
           0.5,
           0.5
          ],
          [
           1,
           1,
           1,
           1
          ],
          [
           0.5,
           0.5,
           0.5,
           0.5
          ],
          [
           1,
           1,
           1,
           1
          ],
          [
           0.5,
           0.5,
           0.5,
           0.5
          ],
          [
           1,
           1,
           1,
           1
          ],
          [
           0.5,
           0.5,
           0.5,
           0.5
          ],
          [
           1,
           1,
           1,
           1
          ],
          [
           0.5,
           0.5,
           0.5,
           0.5
          ]
         ]
        }
       ],
       "layout": {
        "annotations": [
         {
          "align": "left",
          "font": {
           "color": "#ffffff"
          },
          "showarrow": false,
          "text": "<b>School</b>",
          "x": -0.45,
          "xanchor": "left",
          "xref": "x1",
          "y": 0,
          "yref": "y1"
         },
         {
          "align": "left",
          "font": {
           "color": "#ffffff"
          },
          "showarrow": false,
          "text": "<b>Women</b>",
          "x": 0.55,
          "xanchor": "left",
          "xref": "x1",
          "y": 0,
          "yref": "y1"
         },
         {
          "align": "left",
          "font": {
           "color": "#ffffff"
          },
          "showarrow": false,
          "text": "<b>Men</b>",
          "x": 1.55,
          "xanchor": "left",
          "xref": "x1",
          "y": 0,
          "yref": "y1"
         },
         {
          "align": "left",
          "font": {
           "color": "#ffffff"
          },
          "showarrow": false,
          "text": "<b>Gap</b>",
          "x": 2.55,
          "xanchor": "left",
          "xref": "x1",
          "y": 0,
          "yref": "y1"
         },
         {
          "align": "left",
          "font": {
           "color": "#000000"
          },
          "showarrow": false,
          "text": "MIT",
          "x": -0.45,
          "xanchor": "left",
          "xref": "x1",
          "y": 1,
          "yref": "y1"
         },
         {
          "align": "left",
          "font": {
           "color": "#000000"
          },
          "showarrow": false,
          "text": "94",
          "x": 0.55,
          "xanchor": "left",
          "xref": "x1",
          "y": 1,
          "yref": "y1"
         },
         {
          "align": "left",
          "font": {
           "color": "#000000"
          },
          "showarrow": false,
          "text": "152",
          "x": 1.55,
          "xanchor": "left",
          "xref": "x1",
          "y": 1,
          "yref": "y1"
         },
         {
          "align": "left",
          "font": {
           "color": "#000000"
          },
          "showarrow": false,
          "text": "58",
          "x": 2.55,
          "xanchor": "left",
          "xref": "x1",
          "y": 1,
          "yref": "y1"
         },
         {
          "align": "left",
          "font": {
           "color": "#000000"
          },
          "showarrow": false,
          "text": "Stanford",
          "x": -0.45,
          "xanchor": "left",
          "xref": "x1",
          "y": 2,
          "yref": "y1"
         },
         {
          "align": "left",
          "font": {
           "color": "#000000"
          },
          "showarrow": false,
          "text": "96",
          "x": 0.55,
          "xanchor": "left",
          "xref": "x1",
          "y": 2,
          "yref": "y1"
         },
         {
          "align": "left",
          "font": {
           "color": "#000000"
          },
          "showarrow": false,
          "text": "151",
          "x": 1.55,
          "xanchor": "left",
          "xref": "x1",
          "y": 2,
          "yref": "y1"
         },
         {
          "align": "left",
          "font": {
           "color": "#000000"
          },
          "showarrow": false,
          "text": "55",
          "x": 2.55,
          "xanchor": "left",
          "xref": "x1",
          "y": 2,
          "yref": "y1"
         },
         {
          "align": "left",
          "font": {
           "color": "#000000"
          },
          "showarrow": false,
          "text": "Harvard",
          "x": -0.45,
          "xanchor": "left",
          "xref": "x1",
          "y": 3,
          "yref": "y1"
         },
         {
          "align": "left",
          "font": {
           "color": "#000000"
          },
          "showarrow": false,
          "text": "112",
          "x": 0.55,
          "xanchor": "left",
          "xref": "x1",
          "y": 3,
          "yref": "y1"
         },
         {
          "align": "left",
          "font": {
           "color": "#000000"
          },
          "showarrow": false,
          "text": "165",
          "x": 1.55,
          "xanchor": "left",
          "xref": "x1",
          "y": 3,
          "yref": "y1"
         },
         {
          "align": "left",
          "font": {
           "color": "#000000"
          },
          "showarrow": false,
          "text": "53",
          "x": 2.55,
          "xanchor": "left",
          "xref": "x1",
          "y": 3,
          "yref": "y1"
         },
         {
          "align": "left",
          "font": {
           "color": "#000000"
          },
          "showarrow": false,
          "text": "U.Penn",
          "x": -0.45,
          "xanchor": "left",
          "xref": "x1",
          "y": 4,
          "yref": "y1"
         },
         {
          "align": "left",
          "font": {
           "color": "#000000"
          },
          "showarrow": false,
          "text": "92",
          "x": 0.55,
          "xanchor": "left",
          "xref": "x1",
          "y": 4,
          "yref": "y1"
         },
         {
          "align": "left",
          "font": {
           "color": "#000000"
          },
          "showarrow": false,
          "text": "141",
          "x": 1.55,
          "xanchor": "left",
          "xref": "x1",
          "y": 4,
          "yref": "y1"
         },
         {
          "align": "left",
          "font": {
           "color": "#000000"
          },
          "showarrow": false,
          "text": "49",
          "x": 2.55,
          "xanchor": "left",
          "xref": "x1",
          "y": 4,
          "yref": "y1"
         },
         {
          "align": "left",
          "font": {
           "color": "#000000"
          },
          "showarrow": false,
          "text": "Princeton",
          "x": -0.45,
          "xanchor": "left",
          "xref": "x1",
          "y": 5,
          "yref": "y1"
         },
         {
          "align": "left",
          "font": {
           "color": "#000000"
          },
          "showarrow": false,
          "text": "90",
          "x": 0.55,
          "xanchor": "left",
          "xref": "x1",
          "y": 5,
          "yref": "y1"
         },
         {
          "align": "left",
          "font": {
           "color": "#000000"
          },
          "showarrow": false,
          "text": "137",
          "x": 1.55,
          "xanchor": "left",
          "xref": "x1",
          "y": 5,
          "yref": "y1"
         },
         {
          "align": "left",
          "font": {
           "color": "#000000"
          },
          "showarrow": false,
          "text": "47",
          "x": 2.55,
          "xanchor": "left",
          "xref": "x1",
          "y": 5,
          "yref": "y1"
         },
         {
          "align": "left",
          "font": {
           "color": "#000000"
          },
          "showarrow": false,
          "text": "Chicago",
          "x": -0.45,
          "xanchor": "left",
          "xref": "x1",
          "y": 6,
          "yref": "y1"
         },
         {
          "align": "left",
          "font": {
           "color": "#000000"
          },
          "showarrow": false,
          "text": "78",
          "x": 0.55,
          "xanchor": "left",
          "xref": "x1",
          "y": 6,
          "yref": "y1"
         },
         {
          "align": "left",
          "font": {
           "color": "#000000"
          },
          "showarrow": false,
          "text": "118",
          "x": 1.55,
          "xanchor": "left",
          "xref": "x1",
          "y": 6,
          "yref": "y1"
         },
         {
          "align": "left",
          "font": {
           "color": "#000000"
          },
          "showarrow": false,
          "text": "40",
          "x": 2.55,
          "xanchor": "left",
          "xref": "x1",
          "y": 6,
          "yref": "y1"
         },
         {
          "align": "left",
          "font": {
           "color": "#000000"
          },
          "showarrow": false,
          "text": "Georgetown",
          "x": -0.45,
          "xanchor": "left",
          "xref": "x1",
          "y": 7,
          "yref": "y1"
         },
         {
          "align": "left",
          "font": {
           "color": "#000000"
          },
          "showarrow": false,
          "text": "94",
          "x": 0.55,
          "xanchor": "left",
          "xref": "x1",
          "y": 7,
          "yref": "y1"
         },
         {
          "align": "left",
          "font": {
           "color": "#000000"
          },
          "showarrow": false,
          "text": "131",
          "x": 1.55,
          "xanchor": "left",
          "xref": "x1",
          "y": 7,
          "yref": "y1"
         },
         {
          "align": "left",
          "font": {
           "color": "#000000"
          },
          "showarrow": false,
          "text": "37",
          "x": 2.55,
          "xanchor": "left",
          "xref": "x1",
          "y": 7,
          "yref": "y1"
         },
         {
          "align": "left",
          "font": {
           "color": "#000000"
          },
          "showarrow": false,
          "text": "Tufts",
          "x": -0.45,
          "xanchor": "left",
          "xref": "x1",
          "y": 8,
          "yref": "y1"
         },
         {
          "align": "left",
          "font": {
           "color": "#000000"
          },
          "showarrow": false,
          "text": "76",
          "x": 0.55,
          "xanchor": "left",
          "xref": "x1",
          "y": 8,
          "yref": "y1"
         },
         {
          "align": "left",
          "font": {
           "color": "#000000"
          },
          "showarrow": false,
          "text": "112",
          "x": 1.55,
          "xanchor": "left",
          "xref": "x1",
          "y": 8,
          "yref": "y1"
         },
         {
          "align": "left",
          "font": {
           "color": "#000000"
          },
          "showarrow": false,
          "text": "36",
          "x": 2.55,
          "xanchor": "left",
          "xref": "x1",
          "y": 8,
          "yref": "y1"
         },
         {
          "align": "left",
          "font": {
           "color": "#000000"
          },
          "showarrow": false,
          "text": "Yale",
          "x": -0.45,
          "xanchor": "left",
          "xref": "x1",
          "y": 9,
          "yref": "y1"
         },
         {
          "align": "left",
          "font": {
           "color": "#000000"
          },
          "showarrow": false,
          "text": "79",
          "x": 0.55,
          "xanchor": "left",
          "xref": "x1",
          "y": 9,
          "yref": "y1"
         },
         {
          "align": "left",
          "font": {
           "color": "#000000"
          },
          "showarrow": false,
          "text": "114",
          "x": 1.55,
          "xanchor": "left",
          "xref": "x1",
          "y": 9,
          "yref": "y1"
         },
         {
          "align": "left",
          "font": {
           "color": "#000000"
          },
          "showarrow": false,
          "text": "35",
          "x": 2.55,
          "xanchor": "left",
          "xref": "x1",
          "y": 9,
          "yref": "y1"
         },
         {
          "align": "left",
          "font": {
           "color": "#000000"
          },
          "showarrow": false,
          "text": "Columbia",
          "x": -0.45,
          "xanchor": "left",
          "xref": "x1",
          "y": 10,
          "yref": "y1"
         },
         {
          "align": "left",
          "font": {
           "color": "#000000"
          },
          "showarrow": false,
          "text": "86",
          "x": 0.55,
          "xanchor": "left",
          "xref": "x1",
          "y": 10,
          "yref": "y1"
         },
         {
          "align": "left",
          "font": {
           "color": "#000000"
          },
          "showarrow": false,
          "text": "119",
          "x": 1.55,
          "xanchor": "left",
          "xref": "x1",
          "y": 10,
          "yref": "y1"
         },
         {
          "align": "left",
          "font": {
           "color": "#000000"
          },
          "showarrow": false,
          "text": "33",
          "x": 2.55,
          "xanchor": "left",
          "xref": "x1",
          "y": 10,
          "yref": "y1"
         },
         {
          "align": "left",
          "font": {
           "color": "#000000"
          },
          "showarrow": false,
          "text": "Duke",
          "x": -0.45,
          "xanchor": "left",
          "xref": "x1",
          "y": 11,
          "yref": "y1"
         },
         {
          "align": "left",
          "font": {
           "color": "#000000"
          },
          "showarrow": false,
          "text": "93",
          "x": 0.55,
          "xanchor": "left",
          "xref": "x1",
          "y": 11,
          "yref": "y1"
         },
         {
          "align": "left",
          "font": {
           "color": "#000000"
          },
          "showarrow": false,
          "text": "124",
          "x": 1.55,
          "xanchor": "left",
          "xref": "x1",
          "y": 11,
          "yref": "y1"
         },
         {
          "align": "left",
          "font": {
           "color": "#000000"
          },
          "showarrow": false,
          "text": "31",
          "x": 2.55,
          "xanchor": "left",
          "xref": "x1",
          "y": 11,
          "yref": "y1"
         },
         {
          "align": "left",
          "font": {
           "color": "#000000"
          },
          "showarrow": false,
          "text": "Dartmouth",
          "x": -0.45,
          "xanchor": "left",
          "xref": "x1",
          "y": 12,
          "yref": "y1"
         },
         {
          "align": "left",
          "font": {
           "color": "#000000"
          },
          "showarrow": false,
          "text": "84",
          "x": 0.55,
          "xanchor": "left",
          "xref": "x1",
          "y": 12,
          "yref": "y1"
         },
         {
          "align": "left",
          "font": {
           "color": "#000000"
          },
          "showarrow": false,
          "text": "114",
          "x": 1.55,
          "xanchor": "left",
          "xref": "x1",
          "y": 12,
          "yref": "y1"
         },
         {
          "align": "left",
          "font": {
           "color": "#000000"
          },
          "showarrow": false,
          "text": "30",
          "x": 2.55,
          "xanchor": "left",
          "xref": "x1",
          "y": 12,
          "yref": "y1"
         },
         {
          "align": "left",
          "font": {
           "color": "#000000"
          },
          "showarrow": false,
          "text": "NYU",
          "x": -0.45,
          "xanchor": "left",
          "xref": "x1",
          "y": 13,
          "yref": "y1"
         },
         {
          "align": "left",
          "font": {
           "color": "#000000"
          },
          "showarrow": false,
          "text": "67",
          "x": 0.55,
          "xanchor": "left",
          "xref": "x1",
          "y": 13,
          "yref": "y1"
         },
         {
          "align": "left",
          "font": {
           "color": "#000000"
          },
          "showarrow": false,
          "text": "94",
          "x": 1.55,
          "xanchor": "left",
          "xref": "x1",
          "y": 13,
          "yref": "y1"
         },
         {
          "align": "left",
          "font": {
           "color": "#000000"
          },
          "showarrow": false,
          "text": "27",
          "x": 2.55,
          "xanchor": "left",
          "xref": "x1",
          "y": 13,
          "yref": "y1"
         },
         {
          "align": "left",
          "font": {
           "color": "#000000"
          },
          "showarrow": false,
          "text": "Notre Dame",
          "x": -0.45,
          "xanchor": "left",
          "xref": "x1",
          "y": 14,
          "yref": "y1"
         },
         {
          "align": "left",
          "font": {
           "color": "#000000"
          },
          "showarrow": false,
          "text": "73",
          "x": 0.55,
          "xanchor": "left",
          "xref": "x1",
          "y": 14,
          "yref": "y1"
         },
         {
          "align": "left",
          "font": {
           "color": "#000000"
          },
          "showarrow": false,
          "text": "100",
          "x": 1.55,
          "xanchor": "left",
          "xref": "x1",
          "y": 14,
          "yref": "y1"
         },
         {
          "align": "left",
          "font": {
           "color": "#000000"
          },
          "showarrow": false,
          "text": "27",
          "x": 2.55,
          "xanchor": "left",
          "xref": "x1",
          "y": 14,
          "yref": "y1"
         },
         {
          "align": "left",
          "font": {
           "color": "#000000"
          },
          "showarrow": false,
          "text": "Cornell",
          "x": -0.45,
          "xanchor": "left",
          "xref": "x1",
          "y": 15,
          "yref": "y1"
         },
         {
          "align": "left",
          "font": {
           "color": "#000000"
          },
          "showarrow": false,
          "text": "80",
          "x": 0.55,
          "xanchor": "left",
          "xref": "x1",
          "y": 15,
          "yref": "y1"
         },
         {
          "align": "left",
          "font": {
           "color": "#000000"
          },
          "showarrow": false,
          "text": "107",
          "x": 1.55,
          "xanchor": "left",
          "xref": "x1",
          "y": 15,
          "yref": "y1"
         },
         {
          "align": "left",
          "font": {
           "color": "#000000"
          },
          "showarrow": false,
          "text": "27",
          "x": 2.55,
          "xanchor": "left",
          "xref": "x1",
          "y": 15,
          "yref": "y1"
         },
         {
          "align": "left",
          "font": {
           "color": "#000000"
          },
          "showarrow": false,
          "text": "Michigan",
          "x": -0.45,
          "xanchor": "left",
          "xref": "x1",
          "y": 16,
          "yref": "y1"
         },
         {
          "align": "left",
          "font": {
           "color": "#000000"
          },
          "showarrow": false,
          "text": "62",
          "x": 0.55,
          "xanchor": "left",
          "xref": "x1",
          "y": 16,
          "yref": "y1"
         },
         {
          "align": "left",
          "font": {
           "color": "#000000"
          },
          "showarrow": false,
          "text": "84",
          "x": 1.55,
          "xanchor": "left",
          "xref": "x1",
          "y": 16,
          "yref": "y1"
         },
         {
          "align": "left",
          "font": {
           "color": "#000000"
          },
          "showarrow": false,
          "text": "22",
          "x": 2.55,
          "xanchor": "left",
          "xref": "x1",
          "y": 16,
          "yref": "y1"
         },
         {
          "align": "left",
          "font": {
           "color": "#000000"
          },
          "showarrow": false,
          "text": "Brown",
          "x": -0.45,
          "xanchor": "left",
          "xref": "x1",
          "y": 17,
          "yref": "y1"
         },
         {
          "align": "left",
          "font": {
           "color": "#000000"
          },
          "showarrow": false,
          "text": "72",
          "x": 0.55,
          "xanchor": "left",
          "xref": "x1",
          "y": 17,
          "yref": "y1"
         },
         {
          "align": "left",
          "font": {
           "color": "#000000"
          },
          "showarrow": false,
          "text": "92",
          "x": 1.55,
          "xanchor": "left",
          "xref": "x1",
          "y": 17,
          "yref": "y1"
         },
         {
          "align": "left",
          "font": {
           "color": "#000000"
          },
          "showarrow": false,
          "text": "20",
          "x": 2.55,
          "xanchor": "left",
          "xref": "x1",
          "y": 17,
          "yref": "y1"
         },
         {
          "align": "left",
          "font": {
           "color": "#000000"
          },
          "showarrow": false,
          "text": "Berkeley",
          "x": -0.45,
          "xanchor": "left",
          "xref": "x1",
          "y": 18,
          "yref": "y1"
         },
         {
          "align": "left",
          "font": {
           "color": "#000000"
          },
          "showarrow": false,
          "text": "71",
          "x": 0.55,
          "xanchor": "left",
          "xref": "x1",
          "y": 18,
          "yref": "y1"
         },
         {
          "align": "left",
          "font": {
           "color": "#000000"
          },
          "showarrow": false,
          "text": "88",
          "x": 1.55,
          "xanchor": "left",
          "xref": "x1",
          "y": 18,
          "yref": "y1"
         },
         {
          "align": "left",
          "font": {
           "color": "#000000"
          },
          "showarrow": false,
          "text": "17",
          "x": 2.55,
          "xanchor": "left",
          "xref": "x1",
          "y": 18,
          "yref": "y1"
         },
         {
          "align": "left",
          "font": {
           "color": "#000000"
          },
          "showarrow": false,
          "text": "Emory",
          "x": -0.45,
          "xanchor": "left",
          "xref": "x1",
          "y": 19,
          "yref": "y1"
         },
         {
          "align": "left",
          "font": {
           "color": "#000000"
          },
          "showarrow": false,
          "text": "68",
          "x": 0.55,
          "xanchor": "left",
          "xref": "x1",
          "y": 19,
          "yref": "y1"
         },
         {
          "align": "left",
          "font": {
           "color": "#000000"
          },
          "showarrow": false,
          "text": "82",
          "x": 1.55,
          "xanchor": "left",
          "xref": "x1",
          "y": 19,
          "yref": "y1"
         },
         {
          "align": "left",
          "font": {
           "color": "#000000"
          },
          "showarrow": false,
          "text": "14",
          "x": 2.55,
          "xanchor": "left",
          "xref": "x1",
          "y": 19,
          "yref": "y1"
         },
         {
          "align": "left",
          "font": {
           "color": "#000000"
          },
          "showarrow": false,
          "text": "UCLA",
          "x": -0.45,
          "xanchor": "left",
          "xref": "x1",
          "y": 20,
          "yref": "y1"
         },
         {
          "align": "left",
          "font": {
           "color": "#000000"
          },
          "showarrow": false,
          "text": "64",
          "x": 0.55,
          "xanchor": "left",
          "xref": "x1",
          "y": 20,
          "yref": "y1"
         },
         {
          "align": "left",
          "font": {
           "color": "#000000"
          },
          "showarrow": false,
          "text": "78",
          "x": 1.55,
          "xanchor": "left",
          "xref": "x1",
          "y": 20,
          "yref": "y1"
         },
         {
          "align": "left",
          "font": {
           "color": "#000000"
          },
          "showarrow": false,
          "text": "14",
          "x": 2.55,
          "xanchor": "left",
          "xref": "x1",
          "y": 20,
          "yref": "y1"
         },
         {
          "align": "left",
          "font": {
           "color": "#000000"
          },
          "showarrow": false,
          "text": "SoCal",
          "x": -0.45,
          "xanchor": "left",
          "xref": "x1",
          "y": 21,
          "yref": "y1"
         },
         {
          "align": "left",
          "font": {
           "color": "#000000"
          },
          "showarrow": false,
          "text": "72",
          "x": 0.55,
          "xanchor": "left",
          "xref": "x1",
          "y": 21,
          "yref": "y1"
         },
         {
          "align": "left",
          "font": {
           "color": "#000000"
          },
          "showarrow": false,
          "text": "81",
          "x": 1.55,
          "xanchor": "left",
          "xref": "x1",
          "y": 21,
          "yref": "y1"
         },
         {
          "align": "left",
          "font": {
           "color": "#000000"
          },
          "showarrow": false,
          "text": "9",
          "x": 2.55,
          "xanchor": "left",
          "xref": "x1",
          "y": 21,
          "yref": "y1"
         }
        ],
        "height": 710,
        "margin": {
         "b": 0,
         "l": 0,
         "r": 0,
         "t": 0
        },
        "xaxis": {
         "dtick": 1,
         "gridwidth": 2,
         "showticklabels": false,
         "tick0": -0.5,
         "ticks": "",
         "zeroline": false
        },
        "yaxis": {
         "autorange": "reversed",
         "dtick": 1,
         "gridwidth": 2,
         "showticklabels": false,
         "tick0": 0.5,
         "ticks": "",
         "zeroline": false
        }
       }
      },
      "text/html": [
       "<div id=\"e50ee5fc-e0d7-4b9e-803d-83b1c2c976c3\" style=\"height: 710px; width: 100%;\" class=\"plotly-graph-div\"></div><script type=\"text/javascript\">require([\"plotly\"], function(Plotly) { window.PLOTLYENV=window.PLOTLYENV || {};window.PLOTLYENV.BASE_URL=\"https://plot.ly\";Plotly.newPlot(\"e50ee5fc-e0d7-4b9e-803d-83b1c2c976c3\", [{\"opacity\": 0.75, \"colorscale\": [[0, \"#00083e\"], [0.5, \"#ededee\"], [1, \"#ffffff\"]], \"showscale\": false, \"hoverinfo\": \"none\", \"z\": [[0, 0, 0, 0], [0.5, 0.5, 0.5, 0.5], [1, 1, 1, 1], [0.5, 0.5, 0.5, 0.5], [1, 1, 1, 1], [0.5, 0.5, 0.5, 0.5], [1, 1, 1, 1], [0.5, 0.5, 0.5, 0.5], [1, 1, 1, 1], [0.5, 0.5, 0.5, 0.5], [1, 1, 1, 1], [0.5, 0.5, 0.5, 0.5], [1, 1, 1, 1], [0.5, 0.5, 0.5, 0.5], [1, 1, 1, 1], [0.5, 0.5, 0.5, 0.5], [1, 1, 1, 1], [0.5, 0.5, 0.5, 0.5], [1, 1, 1, 1], [0.5, 0.5, 0.5, 0.5], [1, 1, 1, 1], [0.5, 0.5, 0.5, 0.5]], \"type\": \"heatmap\"}], {\"yaxis\": {\"showticklabels\": false, \"tick0\": 0.5, \"ticks\": \"\", \"gridwidth\": 2, \"dtick\": 1, \"zeroline\": false, \"autorange\": \"reversed\"}, \"margin\": {\"r\": 0, \"b\": 0, \"l\": 0, \"t\": 0}, \"annotations\": [{\"xref\": \"x1\", \"xanchor\": \"left\", \"yref\": \"y1\", \"text\": \"<b>School</b>\", \"align\": \"left\", \"y\": 0, \"x\": -0.45, \"font\": {\"color\": \"#ffffff\"}, \"showarrow\": false}, {\"xref\": \"x1\", \"xanchor\": \"left\", \"yref\": \"y1\", \"text\": \"<b>Women</b>\", \"align\": \"left\", \"y\": 0, \"x\": 0.55, \"font\": {\"color\": \"#ffffff\"}, \"showarrow\": false}, {\"xref\": \"x1\", \"xanchor\": \"left\", \"yref\": \"y1\", \"text\": \"<b>Men</b>\", \"align\": \"left\", \"y\": 0, \"x\": 1.55, \"font\": {\"color\": \"#ffffff\"}, \"showarrow\": false}, {\"xref\": \"x1\", \"xanchor\": \"left\", \"yref\": \"y1\", \"text\": \"<b>Gap</b>\", \"align\": \"left\", \"y\": 0, \"x\": 2.55, \"font\": {\"color\": \"#ffffff\"}, \"showarrow\": false}, {\"xref\": \"x1\", \"xanchor\": \"left\", \"yref\": \"y1\", \"text\": \"MIT\", \"align\": \"left\", \"y\": 1, \"x\": -0.45, \"font\": {\"color\": \"#000000\"}, \"showarrow\": false}, {\"xref\": \"x1\", \"xanchor\": \"left\", \"yref\": \"y1\", \"text\": \"94\", \"align\": \"left\", \"y\": 1, \"x\": 0.55, \"font\": {\"color\": \"#000000\"}, \"showarrow\": false}, {\"xref\": \"x1\", \"xanchor\": \"left\", \"yref\": \"y1\", \"text\": \"152\", \"align\": \"left\", \"y\": 1, \"x\": 1.55, \"font\": {\"color\": \"#000000\"}, \"showarrow\": false}, {\"xref\": \"x1\", \"xanchor\": \"left\", \"yref\": \"y1\", \"text\": \"58\", \"align\": \"left\", \"y\": 1, \"x\": 2.55, \"font\": {\"color\": \"#000000\"}, \"showarrow\": false}, {\"xref\": \"x1\", \"xanchor\": \"left\", \"yref\": \"y1\", \"text\": \"Stanford\", \"align\": \"left\", \"y\": 2, \"x\": -0.45, \"font\": {\"color\": \"#000000\"}, \"showarrow\": false}, {\"xref\": \"x1\", \"xanchor\": \"left\", \"yref\": \"y1\", \"text\": \"96\", \"align\": \"left\", \"y\": 2, \"x\": 0.55, \"font\": {\"color\": \"#000000\"}, \"showarrow\": false}, {\"xref\": \"x1\", \"xanchor\": \"left\", \"yref\": \"y1\", \"text\": \"151\", \"align\": \"left\", \"y\": 2, \"x\": 1.55, \"font\": {\"color\": \"#000000\"}, \"showarrow\": false}, {\"xref\": \"x1\", \"xanchor\": \"left\", \"yref\": \"y1\", \"text\": \"55\", \"align\": \"left\", \"y\": 2, \"x\": 2.55, \"font\": {\"color\": \"#000000\"}, \"showarrow\": false}, {\"xref\": \"x1\", \"xanchor\": \"left\", \"yref\": \"y1\", \"text\": \"Harvard\", \"align\": \"left\", \"y\": 3, \"x\": -0.45, \"font\": {\"color\": \"#000000\"}, \"showarrow\": false}, {\"xref\": \"x1\", \"xanchor\": \"left\", \"yref\": \"y1\", \"text\": \"112\", \"align\": \"left\", \"y\": 3, \"x\": 0.55, \"font\": {\"color\": \"#000000\"}, \"showarrow\": false}, {\"xref\": \"x1\", \"xanchor\": \"left\", \"yref\": \"y1\", \"text\": \"165\", \"align\": \"left\", \"y\": 3, \"x\": 1.55, \"font\": {\"color\": \"#000000\"}, \"showarrow\": false}, {\"xref\": \"x1\", \"xanchor\": \"left\", \"yref\": \"y1\", \"text\": \"53\", \"align\": \"left\", \"y\": 3, \"x\": 2.55, \"font\": {\"color\": \"#000000\"}, \"showarrow\": false}, {\"xref\": \"x1\", \"xanchor\": \"left\", \"yref\": \"y1\", \"text\": \"U.Penn\", \"align\": \"left\", \"y\": 4, \"x\": -0.45, \"font\": {\"color\": \"#000000\"}, \"showarrow\": false}, {\"xref\": \"x1\", \"xanchor\": \"left\", \"yref\": \"y1\", \"text\": \"92\", \"align\": \"left\", \"y\": 4, \"x\": 0.55, \"font\": {\"color\": \"#000000\"}, \"showarrow\": false}, {\"xref\": \"x1\", \"xanchor\": \"left\", \"yref\": \"y1\", \"text\": \"141\", \"align\": \"left\", \"y\": 4, \"x\": 1.55, \"font\": {\"color\": \"#000000\"}, \"showarrow\": false}, {\"xref\": \"x1\", \"xanchor\": \"left\", \"yref\": \"y1\", \"text\": \"49\", \"align\": \"left\", \"y\": 4, \"x\": 2.55, \"font\": {\"color\": \"#000000\"}, \"showarrow\": false}, {\"xref\": \"x1\", \"xanchor\": \"left\", \"yref\": \"y1\", \"text\": \"Princeton\", \"align\": \"left\", \"y\": 5, \"x\": -0.45, \"font\": {\"color\": \"#000000\"}, \"showarrow\": false}, {\"xref\": \"x1\", \"xanchor\": \"left\", \"yref\": \"y1\", \"text\": \"90\", \"align\": \"left\", \"y\": 5, \"x\": 0.55, \"font\": {\"color\": \"#000000\"}, \"showarrow\": false}, {\"xref\": \"x1\", \"xanchor\": \"left\", \"yref\": \"y1\", \"text\": \"137\", \"align\": \"left\", \"y\": 5, \"x\": 1.55, \"font\": {\"color\": \"#000000\"}, \"showarrow\": false}, {\"xref\": \"x1\", \"xanchor\": \"left\", \"yref\": \"y1\", \"text\": \"47\", \"align\": \"left\", \"y\": 5, \"x\": 2.55, \"font\": {\"color\": \"#000000\"}, \"showarrow\": false}, {\"xref\": \"x1\", \"xanchor\": \"left\", \"yref\": \"y1\", \"text\": \"Chicago\", \"align\": \"left\", \"y\": 6, \"x\": -0.45, \"font\": {\"color\": \"#000000\"}, \"showarrow\": false}, {\"xref\": \"x1\", \"xanchor\": \"left\", \"yref\": \"y1\", \"text\": \"78\", \"align\": \"left\", \"y\": 6, \"x\": 0.55, \"font\": {\"color\": \"#000000\"}, \"showarrow\": false}, {\"xref\": \"x1\", \"xanchor\": \"left\", \"yref\": \"y1\", \"text\": \"118\", \"align\": \"left\", \"y\": 6, \"x\": 1.55, \"font\": {\"color\": \"#000000\"}, \"showarrow\": false}, {\"xref\": \"x1\", \"xanchor\": \"left\", \"yref\": \"y1\", \"text\": \"40\", \"align\": \"left\", \"y\": 6, \"x\": 2.55, \"font\": {\"color\": \"#000000\"}, \"showarrow\": false}, {\"xref\": \"x1\", \"xanchor\": \"left\", \"yref\": \"y1\", \"text\": \"Georgetown\", \"align\": \"left\", \"y\": 7, \"x\": -0.45, \"font\": {\"color\": \"#000000\"}, \"showarrow\": false}, {\"xref\": \"x1\", \"xanchor\": \"left\", \"yref\": \"y1\", \"text\": \"94\", \"align\": \"left\", \"y\": 7, \"x\": 0.55, \"font\": {\"color\": \"#000000\"}, \"showarrow\": false}, {\"xref\": \"x1\", \"xanchor\": \"left\", \"yref\": \"y1\", \"text\": \"131\", \"align\": \"left\", \"y\": 7, \"x\": 1.55, \"font\": {\"color\": \"#000000\"}, \"showarrow\": false}, {\"xref\": \"x1\", \"xanchor\": \"left\", \"yref\": \"y1\", \"text\": \"37\", \"align\": \"left\", \"y\": 7, \"x\": 2.55, \"font\": {\"color\": \"#000000\"}, \"showarrow\": false}, {\"xref\": \"x1\", \"xanchor\": \"left\", \"yref\": \"y1\", \"text\": \"Tufts\", \"align\": \"left\", \"y\": 8, \"x\": -0.45, \"font\": {\"color\": \"#000000\"}, \"showarrow\": false}, {\"xref\": \"x1\", \"xanchor\": \"left\", \"yref\": \"y1\", \"text\": \"76\", \"align\": \"left\", \"y\": 8, \"x\": 0.55, \"font\": {\"color\": \"#000000\"}, \"showarrow\": false}, {\"xref\": \"x1\", \"xanchor\": \"left\", \"yref\": \"y1\", \"text\": \"112\", \"align\": \"left\", \"y\": 8, \"x\": 1.55, \"font\": {\"color\": \"#000000\"}, \"showarrow\": false}, {\"xref\": \"x1\", \"xanchor\": \"left\", \"yref\": \"y1\", \"text\": \"36\", \"align\": \"left\", \"y\": 8, \"x\": 2.55, \"font\": {\"color\": \"#000000\"}, \"showarrow\": false}, {\"xref\": \"x1\", \"xanchor\": \"left\", \"yref\": \"y1\", \"text\": \"Yale\", \"align\": \"left\", \"y\": 9, \"x\": -0.45, \"font\": {\"color\": \"#000000\"}, \"showarrow\": false}, {\"xref\": \"x1\", \"xanchor\": \"left\", \"yref\": \"y1\", \"text\": \"79\", \"align\": \"left\", \"y\": 9, \"x\": 0.55, \"font\": {\"color\": \"#000000\"}, \"showarrow\": false}, {\"xref\": \"x1\", \"xanchor\": \"left\", \"yref\": \"y1\", \"text\": \"114\", \"align\": \"left\", \"y\": 9, \"x\": 1.55, \"font\": {\"color\": \"#000000\"}, \"showarrow\": false}, {\"xref\": \"x1\", \"xanchor\": \"left\", \"yref\": \"y1\", \"text\": \"35\", \"align\": \"left\", \"y\": 9, \"x\": 2.55, \"font\": {\"color\": \"#000000\"}, \"showarrow\": false}, {\"xref\": \"x1\", \"xanchor\": \"left\", \"yref\": \"y1\", \"text\": \"Columbia\", \"align\": \"left\", \"y\": 10, \"x\": -0.45, \"font\": {\"color\": \"#000000\"}, \"showarrow\": false}, {\"xref\": \"x1\", \"xanchor\": \"left\", \"yref\": \"y1\", \"text\": \"86\", \"align\": \"left\", \"y\": 10, \"x\": 0.55, \"font\": {\"color\": \"#000000\"}, \"showarrow\": false}, {\"xref\": \"x1\", \"xanchor\": \"left\", \"yref\": \"y1\", \"text\": \"119\", \"align\": \"left\", \"y\": 10, \"x\": 1.55, \"font\": {\"color\": \"#000000\"}, \"showarrow\": false}, {\"xref\": \"x1\", \"xanchor\": \"left\", \"yref\": \"y1\", \"text\": \"33\", \"align\": \"left\", \"y\": 10, \"x\": 2.55, \"font\": {\"color\": \"#000000\"}, \"showarrow\": false}, {\"xref\": \"x1\", \"xanchor\": \"left\", \"yref\": \"y1\", \"text\": \"Duke\", \"align\": \"left\", \"y\": 11, \"x\": -0.45, \"font\": {\"color\": \"#000000\"}, \"showarrow\": false}, {\"xref\": \"x1\", \"xanchor\": \"left\", \"yref\": \"y1\", \"text\": \"93\", \"align\": \"left\", \"y\": 11, \"x\": 0.55, \"font\": {\"color\": \"#000000\"}, \"showarrow\": false}, {\"xref\": \"x1\", \"xanchor\": \"left\", \"yref\": \"y1\", \"text\": \"124\", \"align\": \"left\", \"y\": 11, \"x\": 1.55, \"font\": {\"color\": \"#000000\"}, \"showarrow\": false}, {\"xref\": \"x1\", \"xanchor\": \"left\", \"yref\": \"y1\", \"text\": \"31\", \"align\": \"left\", \"y\": 11, \"x\": 2.55, \"font\": {\"color\": \"#000000\"}, \"showarrow\": false}, {\"xref\": \"x1\", \"xanchor\": \"left\", \"yref\": \"y1\", \"text\": \"Dartmouth\", \"align\": \"left\", \"y\": 12, \"x\": -0.45, \"font\": {\"color\": \"#000000\"}, \"showarrow\": false}, {\"xref\": \"x1\", \"xanchor\": \"left\", \"yref\": \"y1\", \"text\": \"84\", \"align\": \"left\", \"y\": 12, \"x\": 0.55, \"font\": {\"color\": \"#000000\"}, \"showarrow\": false}, {\"xref\": \"x1\", \"xanchor\": \"left\", \"yref\": \"y1\", \"text\": \"114\", \"align\": \"left\", \"y\": 12, \"x\": 1.55, \"font\": {\"color\": \"#000000\"}, \"showarrow\": false}, {\"xref\": \"x1\", \"xanchor\": \"left\", \"yref\": \"y1\", \"text\": \"30\", \"align\": \"left\", \"y\": 12, \"x\": 2.55, \"font\": {\"color\": \"#000000\"}, \"showarrow\": false}, {\"xref\": \"x1\", \"xanchor\": \"left\", \"yref\": \"y1\", \"text\": \"NYU\", \"align\": \"left\", \"y\": 13, \"x\": -0.45, \"font\": {\"color\": \"#000000\"}, \"showarrow\": false}, {\"xref\": \"x1\", \"xanchor\": \"left\", \"yref\": \"y1\", \"text\": \"67\", \"align\": \"left\", \"y\": 13, \"x\": 0.55, \"font\": {\"color\": \"#000000\"}, \"showarrow\": false}, {\"xref\": \"x1\", \"xanchor\": \"left\", \"yref\": \"y1\", \"text\": \"94\", \"align\": \"left\", \"y\": 13, \"x\": 1.55, \"font\": {\"color\": \"#000000\"}, \"showarrow\": false}, {\"xref\": \"x1\", \"xanchor\": \"left\", \"yref\": \"y1\", \"text\": \"27\", \"align\": \"left\", \"y\": 13, \"x\": 2.55, \"font\": {\"color\": \"#000000\"}, \"showarrow\": false}, {\"xref\": \"x1\", \"xanchor\": \"left\", \"yref\": \"y1\", \"text\": \"Notre Dame\", \"align\": \"left\", \"y\": 14, \"x\": -0.45, \"font\": {\"color\": \"#000000\"}, \"showarrow\": false}, {\"xref\": \"x1\", \"xanchor\": \"left\", \"yref\": \"y1\", \"text\": \"73\", \"align\": \"left\", \"y\": 14, \"x\": 0.55, \"font\": {\"color\": \"#000000\"}, \"showarrow\": false}, {\"xref\": \"x1\", \"xanchor\": \"left\", \"yref\": \"y1\", \"text\": \"100\", \"align\": \"left\", \"y\": 14, \"x\": 1.55, \"font\": {\"color\": \"#000000\"}, \"showarrow\": false}, {\"xref\": \"x1\", \"xanchor\": \"left\", \"yref\": \"y1\", \"text\": \"27\", \"align\": \"left\", \"y\": 14, \"x\": 2.55, \"font\": {\"color\": \"#000000\"}, \"showarrow\": false}, {\"xref\": \"x1\", \"xanchor\": \"left\", \"yref\": \"y1\", \"text\": \"Cornell\", \"align\": \"left\", \"y\": 15, \"x\": -0.45, \"font\": {\"color\": \"#000000\"}, \"showarrow\": false}, {\"xref\": \"x1\", \"xanchor\": \"left\", \"yref\": \"y1\", \"text\": \"80\", \"align\": \"left\", \"y\": 15, \"x\": 0.55, \"font\": {\"color\": \"#000000\"}, \"showarrow\": false}, {\"xref\": \"x1\", \"xanchor\": \"left\", \"yref\": \"y1\", \"text\": \"107\", \"align\": \"left\", \"y\": 15, \"x\": 1.55, \"font\": {\"color\": \"#000000\"}, \"showarrow\": false}, {\"xref\": \"x1\", \"xanchor\": \"left\", \"yref\": \"y1\", \"text\": \"27\", \"align\": \"left\", \"y\": 15, \"x\": 2.55, \"font\": {\"color\": \"#000000\"}, \"showarrow\": false}, {\"xref\": \"x1\", \"xanchor\": \"left\", \"yref\": \"y1\", \"text\": \"Michigan\", \"align\": \"left\", \"y\": 16, \"x\": -0.45, \"font\": {\"color\": \"#000000\"}, \"showarrow\": false}, {\"xref\": \"x1\", \"xanchor\": \"left\", \"yref\": \"y1\", \"text\": \"62\", \"align\": \"left\", \"y\": 16, \"x\": 0.55, \"font\": {\"color\": \"#000000\"}, \"showarrow\": false}, {\"xref\": \"x1\", \"xanchor\": \"left\", \"yref\": \"y1\", \"text\": \"84\", \"align\": \"left\", \"y\": 16, \"x\": 1.55, \"font\": {\"color\": \"#000000\"}, \"showarrow\": false}, {\"xref\": \"x1\", \"xanchor\": \"left\", \"yref\": \"y1\", \"text\": \"22\", \"align\": \"left\", \"y\": 16, \"x\": 2.55, \"font\": {\"color\": \"#000000\"}, \"showarrow\": false}, {\"xref\": \"x1\", \"xanchor\": \"left\", \"yref\": \"y1\", \"text\": \"Brown\", \"align\": \"left\", \"y\": 17, \"x\": -0.45, \"font\": {\"color\": \"#000000\"}, \"showarrow\": false}, {\"xref\": \"x1\", \"xanchor\": \"left\", \"yref\": \"y1\", \"text\": \"72\", \"align\": \"left\", \"y\": 17, \"x\": 0.55, \"font\": {\"color\": \"#000000\"}, \"showarrow\": false}, {\"xref\": \"x1\", \"xanchor\": \"left\", \"yref\": \"y1\", \"text\": \"92\", \"align\": \"left\", \"y\": 17, \"x\": 1.55, \"font\": {\"color\": \"#000000\"}, \"showarrow\": false}, {\"xref\": \"x1\", \"xanchor\": \"left\", \"yref\": \"y1\", \"text\": \"20\", \"align\": \"left\", \"y\": 17, \"x\": 2.55, \"font\": {\"color\": \"#000000\"}, \"showarrow\": false}, {\"xref\": \"x1\", \"xanchor\": \"left\", \"yref\": \"y1\", \"text\": \"Berkeley\", \"align\": \"left\", \"y\": 18, \"x\": -0.45, \"font\": {\"color\": \"#000000\"}, \"showarrow\": false}, {\"xref\": \"x1\", \"xanchor\": \"left\", \"yref\": \"y1\", \"text\": \"71\", \"align\": \"left\", \"y\": 18, \"x\": 0.55, \"font\": {\"color\": \"#000000\"}, \"showarrow\": false}, {\"xref\": \"x1\", \"xanchor\": \"left\", \"yref\": \"y1\", \"text\": \"88\", \"align\": \"left\", \"y\": 18, \"x\": 1.55, \"font\": {\"color\": \"#000000\"}, \"showarrow\": false}, {\"xref\": \"x1\", \"xanchor\": \"left\", \"yref\": \"y1\", \"text\": \"17\", \"align\": \"left\", \"y\": 18, \"x\": 2.55, \"font\": {\"color\": \"#000000\"}, \"showarrow\": false}, {\"xref\": \"x1\", \"xanchor\": \"left\", \"yref\": \"y1\", \"text\": \"Emory\", \"align\": \"left\", \"y\": 19, \"x\": -0.45, \"font\": {\"color\": \"#000000\"}, \"showarrow\": false}, {\"xref\": \"x1\", \"xanchor\": \"left\", \"yref\": \"y1\", \"text\": \"68\", \"align\": \"left\", \"y\": 19, \"x\": 0.55, \"font\": {\"color\": \"#000000\"}, \"showarrow\": false}, {\"xref\": \"x1\", \"xanchor\": \"left\", \"yref\": \"y1\", \"text\": \"82\", \"align\": \"left\", \"y\": 19, \"x\": 1.55, \"font\": {\"color\": \"#000000\"}, \"showarrow\": false}, {\"xref\": \"x1\", \"xanchor\": \"left\", \"yref\": \"y1\", \"text\": \"14\", \"align\": \"left\", \"y\": 19, \"x\": 2.55, \"font\": {\"color\": \"#000000\"}, \"showarrow\": false}, {\"xref\": \"x1\", \"xanchor\": \"left\", \"yref\": \"y1\", \"text\": \"UCLA\", \"align\": \"left\", \"y\": 20, \"x\": -0.45, \"font\": {\"color\": \"#000000\"}, \"showarrow\": false}, {\"xref\": \"x1\", \"xanchor\": \"left\", \"yref\": \"y1\", \"text\": \"64\", \"align\": \"left\", \"y\": 20, \"x\": 0.55, \"font\": {\"color\": \"#000000\"}, \"showarrow\": false}, {\"xref\": \"x1\", \"xanchor\": \"left\", \"yref\": \"y1\", \"text\": \"78\", \"align\": \"left\", \"y\": 20, \"x\": 1.55, \"font\": {\"color\": \"#000000\"}, \"showarrow\": false}, {\"xref\": \"x1\", \"xanchor\": \"left\", \"yref\": \"y1\", \"text\": \"14\", \"align\": \"left\", \"y\": 20, \"x\": 2.55, \"font\": {\"color\": \"#000000\"}, \"showarrow\": false}, {\"xref\": \"x1\", \"xanchor\": \"left\", \"yref\": \"y1\", \"text\": \"SoCal\", \"align\": \"left\", \"y\": 21, \"x\": -0.45, \"font\": {\"color\": \"#000000\"}, \"showarrow\": false}, {\"xref\": \"x1\", \"xanchor\": \"left\", \"yref\": \"y1\", \"text\": \"72\", \"align\": \"left\", \"y\": 21, \"x\": 0.55, \"font\": {\"color\": \"#000000\"}, \"showarrow\": false}, {\"xref\": \"x1\", \"xanchor\": \"left\", \"yref\": \"y1\", \"text\": \"81\", \"align\": \"left\", \"y\": 21, \"x\": 1.55, \"font\": {\"color\": \"#000000\"}, \"showarrow\": false}, {\"xref\": \"x1\", \"xanchor\": \"left\", \"yref\": \"y1\", \"text\": \"9\", \"align\": \"left\", \"y\": 21, \"x\": 2.55, \"font\": {\"color\": \"#000000\"}, \"showarrow\": false}], \"xaxis\": {\"showticklabels\": false, \"tick0\": -0.5, \"ticks\": \"\", \"gridwidth\": 2, \"dtick\": 1, \"zeroline\": false}, \"height\": 710}, {\"linkText\": \"Export to plot.ly\", \"showLink\": true})});</script>"
      ],
      "text/vnd.plotly.v1+html": [
       "<div id=\"e50ee5fc-e0d7-4b9e-803d-83b1c2c976c3\" style=\"height: 710px; width: 100%;\" class=\"plotly-graph-div\"></div><script type=\"text/javascript\">require([\"plotly\"], function(Plotly) { window.PLOTLYENV=window.PLOTLYENV || {};window.PLOTLYENV.BASE_URL=\"https://plot.ly\";Plotly.newPlot(\"e50ee5fc-e0d7-4b9e-803d-83b1c2c976c3\", [{\"opacity\": 0.75, \"colorscale\": [[0, \"#00083e\"], [0.5, \"#ededee\"], [1, \"#ffffff\"]], \"showscale\": false, \"hoverinfo\": \"none\", \"z\": [[0, 0, 0, 0], [0.5, 0.5, 0.5, 0.5], [1, 1, 1, 1], [0.5, 0.5, 0.5, 0.5], [1, 1, 1, 1], [0.5, 0.5, 0.5, 0.5], [1, 1, 1, 1], [0.5, 0.5, 0.5, 0.5], [1, 1, 1, 1], [0.5, 0.5, 0.5, 0.5], [1, 1, 1, 1], [0.5, 0.5, 0.5, 0.5], [1, 1, 1, 1], [0.5, 0.5, 0.5, 0.5], [1, 1, 1, 1], [0.5, 0.5, 0.5, 0.5], [1, 1, 1, 1], [0.5, 0.5, 0.5, 0.5], [1, 1, 1, 1], [0.5, 0.5, 0.5, 0.5], [1, 1, 1, 1], [0.5, 0.5, 0.5, 0.5]], \"type\": \"heatmap\"}], {\"yaxis\": {\"showticklabels\": false, \"tick0\": 0.5, \"ticks\": \"\", \"gridwidth\": 2, \"dtick\": 1, \"zeroline\": false, \"autorange\": \"reversed\"}, \"margin\": {\"r\": 0, \"b\": 0, \"l\": 0, \"t\": 0}, \"annotations\": [{\"xref\": \"x1\", \"xanchor\": \"left\", \"yref\": \"y1\", \"text\": \"<b>School</b>\", \"align\": \"left\", \"y\": 0, \"x\": -0.45, \"font\": {\"color\": \"#ffffff\"}, \"showarrow\": false}, {\"xref\": \"x1\", \"xanchor\": \"left\", \"yref\": \"y1\", \"text\": \"<b>Women</b>\", \"align\": \"left\", \"y\": 0, \"x\": 0.55, \"font\": {\"color\": \"#ffffff\"}, \"showarrow\": false}, {\"xref\": \"x1\", \"xanchor\": \"left\", \"yref\": \"y1\", \"text\": \"<b>Men</b>\", \"align\": \"left\", \"y\": 0, \"x\": 1.55, \"font\": {\"color\": \"#ffffff\"}, \"showarrow\": false}, {\"xref\": \"x1\", \"xanchor\": \"left\", \"yref\": \"y1\", \"text\": \"<b>Gap</b>\", \"align\": \"left\", \"y\": 0, \"x\": 2.55, \"font\": {\"color\": \"#ffffff\"}, \"showarrow\": false}, {\"xref\": \"x1\", \"xanchor\": \"left\", \"yref\": \"y1\", \"text\": \"MIT\", \"align\": \"left\", \"y\": 1, \"x\": -0.45, \"font\": {\"color\": \"#000000\"}, \"showarrow\": false}, {\"xref\": \"x1\", \"xanchor\": \"left\", \"yref\": \"y1\", \"text\": \"94\", \"align\": \"left\", \"y\": 1, \"x\": 0.55, \"font\": {\"color\": \"#000000\"}, \"showarrow\": false}, {\"xref\": \"x1\", \"xanchor\": \"left\", \"yref\": \"y1\", \"text\": \"152\", \"align\": \"left\", \"y\": 1, \"x\": 1.55, \"font\": {\"color\": \"#000000\"}, \"showarrow\": false}, {\"xref\": \"x1\", \"xanchor\": \"left\", \"yref\": \"y1\", \"text\": \"58\", \"align\": \"left\", \"y\": 1, \"x\": 2.55, \"font\": {\"color\": \"#000000\"}, \"showarrow\": false}, {\"xref\": \"x1\", \"xanchor\": \"left\", \"yref\": \"y1\", \"text\": \"Stanford\", \"align\": \"left\", \"y\": 2, \"x\": -0.45, \"font\": {\"color\": \"#000000\"}, \"showarrow\": false}, {\"xref\": \"x1\", \"xanchor\": \"left\", \"yref\": \"y1\", \"text\": \"96\", \"align\": \"left\", \"y\": 2, \"x\": 0.55, \"font\": {\"color\": \"#000000\"}, \"showarrow\": false}, {\"xref\": \"x1\", \"xanchor\": \"left\", \"yref\": \"y1\", \"text\": \"151\", \"align\": \"left\", \"y\": 2, \"x\": 1.55, \"font\": {\"color\": \"#000000\"}, \"showarrow\": false}, {\"xref\": \"x1\", \"xanchor\": \"left\", \"yref\": \"y1\", \"text\": \"55\", \"align\": \"left\", \"y\": 2, \"x\": 2.55, \"font\": {\"color\": \"#000000\"}, \"showarrow\": false}, {\"xref\": \"x1\", \"xanchor\": \"left\", \"yref\": \"y1\", \"text\": \"Harvard\", \"align\": \"left\", \"y\": 3, \"x\": -0.45, \"font\": {\"color\": \"#000000\"}, \"showarrow\": false}, {\"xref\": \"x1\", \"xanchor\": \"left\", \"yref\": \"y1\", \"text\": \"112\", \"align\": \"left\", \"y\": 3, \"x\": 0.55, \"font\": {\"color\": \"#000000\"}, \"showarrow\": false}, {\"xref\": \"x1\", \"xanchor\": \"left\", \"yref\": \"y1\", \"text\": \"165\", \"align\": \"left\", \"y\": 3, \"x\": 1.55, \"font\": {\"color\": \"#000000\"}, \"showarrow\": false}, {\"xref\": \"x1\", \"xanchor\": \"left\", \"yref\": \"y1\", \"text\": \"53\", \"align\": \"left\", \"y\": 3, \"x\": 2.55, \"font\": {\"color\": \"#000000\"}, \"showarrow\": false}, {\"xref\": \"x1\", \"xanchor\": \"left\", \"yref\": \"y1\", \"text\": \"U.Penn\", \"align\": \"left\", \"y\": 4, \"x\": -0.45, \"font\": {\"color\": \"#000000\"}, \"showarrow\": false}, {\"xref\": \"x1\", \"xanchor\": \"left\", \"yref\": \"y1\", \"text\": \"92\", \"align\": \"left\", \"y\": 4, \"x\": 0.55, \"font\": {\"color\": \"#000000\"}, \"showarrow\": false}, {\"xref\": \"x1\", \"xanchor\": \"left\", \"yref\": \"y1\", \"text\": \"141\", \"align\": \"left\", \"y\": 4, \"x\": 1.55, \"font\": {\"color\": \"#000000\"}, \"showarrow\": false}, {\"xref\": \"x1\", \"xanchor\": \"left\", \"yref\": \"y1\", \"text\": \"49\", \"align\": \"left\", \"y\": 4, \"x\": 2.55, \"font\": {\"color\": \"#000000\"}, \"showarrow\": false}, {\"xref\": \"x1\", \"xanchor\": \"left\", \"yref\": \"y1\", \"text\": \"Princeton\", \"align\": \"left\", \"y\": 5, \"x\": -0.45, \"font\": {\"color\": \"#000000\"}, \"showarrow\": false}, {\"xref\": \"x1\", \"xanchor\": \"left\", \"yref\": \"y1\", \"text\": \"90\", \"align\": \"left\", \"y\": 5, \"x\": 0.55, \"font\": {\"color\": \"#000000\"}, \"showarrow\": false}, {\"xref\": \"x1\", \"xanchor\": \"left\", \"yref\": \"y1\", \"text\": \"137\", \"align\": \"left\", \"y\": 5, \"x\": 1.55, \"font\": {\"color\": \"#000000\"}, \"showarrow\": false}, {\"xref\": \"x1\", \"xanchor\": \"left\", \"yref\": \"y1\", \"text\": \"47\", \"align\": \"left\", \"y\": 5, \"x\": 2.55, \"font\": {\"color\": \"#000000\"}, \"showarrow\": false}, {\"xref\": \"x1\", \"xanchor\": \"left\", \"yref\": \"y1\", \"text\": \"Chicago\", \"align\": \"left\", \"y\": 6, \"x\": -0.45, \"font\": {\"color\": \"#000000\"}, \"showarrow\": false}, {\"xref\": \"x1\", \"xanchor\": \"left\", \"yref\": \"y1\", \"text\": \"78\", \"align\": \"left\", \"y\": 6, \"x\": 0.55, \"font\": {\"color\": \"#000000\"}, \"showarrow\": false}, {\"xref\": \"x1\", \"xanchor\": \"left\", \"yref\": \"y1\", \"text\": \"118\", \"align\": \"left\", \"y\": 6, \"x\": 1.55, \"font\": {\"color\": \"#000000\"}, \"showarrow\": false}, {\"xref\": \"x1\", \"xanchor\": \"left\", \"yref\": \"y1\", \"text\": \"40\", \"align\": \"left\", \"y\": 6, \"x\": 2.55, \"font\": {\"color\": \"#000000\"}, \"showarrow\": false}, {\"xref\": \"x1\", \"xanchor\": \"left\", \"yref\": \"y1\", \"text\": \"Georgetown\", \"align\": \"left\", \"y\": 7, \"x\": -0.45, \"font\": {\"color\": \"#000000\"}, \"showarrow\": false}, {\"xref\": \"x1\", \"xanchor\": \"left\", \"yref\": \"y1\", \"text\": \"94\", \"align\": \"left\", \"y\": 7, \"x\": 0.55, \"font\": {\"color\": \"#000000\"}, \"showarrow\": false}, {\"xref\": \"x1\", \"xanchor\": \"left\", \"yref\": \"y1\", \"text\": \"131\", \"align\": \"left\", \"y\": 7, \"x\": 1.55, \"font\": {\"color\": \"#000000\"}, \"showarrow\": false}, {\"xref\": \"x1\", \"xanchor\": \"left\", \"yref\": \"y1\", \"text\": \"37\", \"align\": \"left\", \"y\": 7, \"x\": 2.55, \"font\": {\"color\": \"#000000\"}, \"showarrow\": false}, {\"xref\": \"x1\", \"xanchor\": \"left\", \"yref\": \"y1\", \"text\": \"Tufts\", \"align\": \"left\", \"y\": 8, \"x\": -0.45, \"font\": {\"color\": \"#000000\"}, \"showarrow\": false}, {\"xref\": \"x1\", \"xanchor\": \"left\", \"yref\": \"y1\", \"text\": \"76\", \"align\": \"left\", \"y\": 8, \"x\": 0.55, \"font\": {\"color\": \"#000000\"}, \"showarrow\": false}, {\"xref\": \"x1\", \"xanchor\": \"left\", \"yref\": \"y1\", \"text\": \"112\", \"align\": \"left\", \"y\": 8, \"x\": 1.55, \"font\": {\"color\": \"#000000\"}, \"showarrow\": false}, {\"xref\": \"x1\", \"xanchor\": \"left\", \"yref\": \"y1\", \"text\": \"36\", \"align\": \"left\", \"y\": 8, \"x\": 2.55, \"font\": {\"color\": \"#000000\"}, \"showarrow\": false}, {\"xref\": \"x1\", \"xanchor\": \"left\", \"yref\": \"y1\", \"text\": \"Yale\", \"align\": \"left\", \"y\": 9, \"x\": -0.45, \"font\": {\"color\": \"#000000\"}, \"showarrow\": false}, {\"xref\": \"x1\", \"xanchor\": \"left\", \"yref\": \"y1\", \"text\": \"79\", \"align\": \"left\", \"y\": 9, \"x\": 0.55, \"font\": {\"color\": \"#000000\"}, \"showarrow\": false}, {\"xref\": \"x1\", \"xanchor\": \"left\", \"yref\": \"y1\", \"text\": \"114\", \"align\": \"left\", \"y\": 9, \"x\": 1.55, \"font\": {\"color\": \"#000000\"}, \"showarrow\": false}, {\"xref\": \"x1\", \"xanchor\": \"left\", \"yref\": \"y1\", \"text\": \"35\", \"align\": \"left\", \"y\": 9, \"x\": 2.55, \"font\": {\"color\": \"#000000\"}, \"showarrow\": false}, {\"xref\": \"x1\", \"xanchor\": \"left\", \"yref\": \"y1\", \"text\": \"Columbia\", \"align\": \"left\", \"y\": 10, \"x\": -0.45, \"font\": {\"color\": \"#000000\"}, \"showarrow\": false}, {\"xref\": \"x1\", \"xanchor\": \"left\", \"yref\": \"y1\", \"text\": \"86\", \"align\": \"left\", \"y\": 10, \"x\": 0.55, \"font\": {\"color\": \"#000000\"}, \"showarrow\": false}, {\"xref\": \"x1\", \"xanchor\": \"left\", \"yref\": \"y1\", \"text\": \"119\", \"align\": \"left\", \"y\": 10, \"x\": 1.55, \"font\": {\"color\": \"#000000\"}, \"showarrow\": false}, {\"xref\": \"x1\", \"xanchor\": \"left\", \"yref\": \"y1\", \"text\": \"33\", \"align\": \"left\", \"y\": 10, \"x\": 2.55, \"font\": {\"color\": \"#000000\"}, \"showarrow\": false}, {\"xref\": \"x1\", \"xanchor\": \"left\", \"yref\": \"y1\", \"text\": \"Duke\", \"align\": \"left\", \"y\": 11, \"x\": -0.45, \"font\": {\"color\": \"#000000\"}, \"showarrow\": false}, {\"xref\": \"x1\", \"xanchor\": \"left\", \"yref\": \"y1\", \"text\": \"93\", \"align\": \"left\", \"y\": 11, \"x\": 0.55, \"font\": {\"color\": \"#000000\"}, \"showarrow\": false}, {\"xref\": \"x1\", \"xanchor\": \"left\", \"yref\": \"y1\", \"text\": \"124\", \"align\": \"left\", \"y\": 11, \"x\": 1.55, \"font\": {\"color\": \"#000000\"}, \"showarrow\": false}, {\"xref\": \"x1\", \"xanchor\": \"left\", \"yref\": \"y1\", \"text\": \"31\", \"align\": \"left\", \"y\": 11, \"x\": 2.55, \"font\": {\"color\": \"#000000\"}, \"showarrow\": false}, {\"xref\": \"x1\", \"xanchor\": \"left\", \"yref\": \"y1\", \"text\": \"Dartmouth\", \"align\": \"left\", \"y\": 12, \"x\": -0.45, \"font\": {\"color\": \"#000000\"}, \"showarrow\": false}, {\"xref\": \"x1\", \"xanchor\": \"left\", \"yref\": \"y1\", \"text\": \"84\", \"align\": \"left\", \"y\": 12, \"x\": 0.55, \"font\": {\"color\": \"#000000\"}, \"showarrow\": false}, {\"xref\": \"x1\", \"xanchor\": \"left\", \"yref\": \"y1\", \"text\": \"114\", \"align\": \"left\", \"y\": 12, \"x\": 1.55, \"font\": {\"color\": \"#000000\"}, \"showarrow\": false}, {\"xref\": \"x1\", \"xanchor\": \"left\", \"yref\": \"y1\", \"text\": \"30\", \"align\": \"left\", \"y\": 12, \"x\": 2.55, \"font\": {\"color\": \"#000000\"}, \"showarrow\": false}, {\"xref\": \"x1\", \"xanchor\": \"left\", \"yref\": \"y1\", \"text\": \"NYU\", \"align\": \"left\", \"y\": 13, \"x\": -0.45, \"font\": {\"color\": \"#000000\"}, \"showarrow\": false}, {\"xref\": \"x1\", \"xanchor\": \"left\", \"yref\": \"y1\", \"text\": \"67\", \"align\": \"left\", \"y\": 13, \"x\": 0.55, \"font\": {\"color\": \"#000000\"}, \"showarrow\": false}, {\"xref\": \"x1\", \"xanchor\": \"left\", \"yref\": \"y1\", \"text\": \"94\", \"align\": \"left\", \"y\": 13, \"x\": 1.55, \"font\": {\"color\": \"#000000\"}, \"showarrow\": false}, {\"xref\": \"x1\", \"xanchor\": \"left\", \"yref\": \"y1\", \"text\": \"27\", \"align\": \"left\", \"y\": 13, \"x\": 2.55, \"font\": {\"color\": \"#000000\"}, \"showarrow\": false}, {\"xref\": \"x1\", \"xanchor\": \"left\", \"yref\": \"y1\", \"text\": \"Notre Dame\", \"align\": \"left\", \"y\": 14, \"x\": -0.45, \"font\": {\"color\": \"#000000\"}, \"showarrow\": false}, {\"xref\": \"x1\", \"xanchor\": \"left\", \"yref\": \"y1\", \"text\": \"73\", \"align\": \"left\", \"y\": 14, \"x\": 0.55, \"font\": {\"color\": \"#000000\"}, \"showarrow\": false}, {\"xref\": \"x1\", \"xanchor\": \"left\", \"yref\": \"y1\", \"text\": \"100\", \"align\": \"left\", \"y\": 14, \"x\": 1.55, \"font\": {\"color\": \"#000000\"}, \"showarrow\": false}, {\"xref\": \"x1\", \"xanchor\": \"left\", \"yref\": \"y1\", \"text\": \"27\", \"align\": \"left\", \"y\": 14, \"x\": 2.55, \"font\": {\"color\": \"#000000\"}, \"showarrow\": false}, {\"xref\": \"x1\", \"xanchor\": \"left\", \"yref\": \"y1\", \"text\": \"Cornell\", \"align\": \"left\", \"y\": 15, \"x\": -0.45, \"font\": {\"color\": \"#000000\"}, \"showarrow\": false}, {\"xref\": \"x1\", \"xanchor\": \"left\", \"yref\": \"y1\", \"text\": \"80\", \"align\": \"left\", \"y\": 15, \"x\": 0.55, \"font\": {\"color\": \"#000000\"}, \"showarrow\": false}, {\"xref\": \"x1\", \"xanchor\": \"left\", \"yref\": \"y1\", \"text\": \"107\", \"align\": \"left\", \"y\": 15, \"x\": 1.55, \"font\": {\"color\": \"#000000\"}, \"showarrow\": false}, {\"xref\": \"x1\", \"xanchor\": \"left\", \"yref\": \"y1\", \"text\": \"27\", \"align\": \"left\", \"y\": 15, \"x\": 2.55, \"font\": {\"color\": \"#000000\"}, \"showarrow\": false}, {\"xref\": \"x1\", \"xanchor\": \"left\", \"yref\": \"y1\", \"text\": \"Michigan\", \"align\": \"left\", \"y\": 16, \"x\": -0.45, \"font\": {\"color\": \"#000000\"}, \"showarrow\": false}, {\"xref\": \"x1\", \"xanchor\": \"left\", \"yref\": \"y1\", \"text\": \"62\", \"align\": \"left\", \"y\": 16, \"x\": 0.55, \"font\": {\"color\": \"#000000\"}, \"showarrow\": false}, {\"xref\": \"x1\", \"xanchor\": \"left\", \"yref\": \"y1\", \"text\": \"84\", \"align\": \"left\", \"y\": 16, \"x\": 1.55, \"font\": {\"color\": \"#000000\"}, \"showarrow\": false}, {\"xref\": \"x1\", \"xanchor\": \"left\", \"yref\": \"y1\", \"text\": \"22\", \"align\": \"left\", \"y\": 16, \"x\": 2.55, \"font\": {\"color\": \"#000000\"}, \"showarrow\": false}, {\"xref\": \"x1\", \"xanchor\": \"left\", \"yref\": \"y1\", \"text\": \"Brown\", \"align\": \"left\", \"y\": 17, \"x\": -0.45, \"font\": {\"color\": \"#000000\"}, \"showarrow\": false}, {\"xref\": \"x1\", \"xanchor\": \"left\", \"yref\": \"y1\", \"text\": \"72\", \"align\": \"left\", \"y\": 17, \"x\": 0.55, \"font\": {\"color\": \"#000000\"}, \"showarrow\": false}, {\"xref\": \"x1\", \"xanchor\": \"left\", \"yref\": \"y1\", \"text\": \"92\", \"align\": \"left\", \"y\": 17, \"x\": 1.55, \"font\": {\"color\": \"#000000\"}, \"showarrow\": false}, {\"xref\": \"x1\", \"xanchor\": \"left\", \"yref\": \"y1\", \"text\": \"20\", \"align\": \"left\", \"y\": 17, \"x\": 2.55, \"font\": {\"color\": \"#000000\"}, \"showarrow\": false}, {\"xref\": \"x1\", \"xanchor\": \"left\", \"yref\": \"y1\", \"text\": \"Berkeley\", \"align\": \"left\", \"y\": 18, \"x\": -0.45, \"font\": {\"color\": \"#000000\"}, \"showarrow\": false}, {\"xref\": \"x1\", \"xanchor\": \"left\", \"yref\": \"y1\", \"text\": \"71\", \"align\": \"left\", \"y\": 18, \"x\": 0.55, \"font\": {\"color\": \"#000000\"}, \"showarrow\": false}, {\"xref\": \"x1\", \"xanchor\": \"left\", \"yref\": \"y1\", \"text\": \"88\", \"align\": \"left\", \"y\": 18, \"x\": 1.55, \"font\": {\"color\": \"#000000\"}, \"showarrow\": false}, {\"xref\": \"x1\", \"xanchor\": \"left\", \"yref\": \"y1\", \"text\": \"17\", \"align\": \"left\", \"y\": 18, \"x\": 2.55, \"font\": {\"color\": \"#000000\"}, \"showarrow\": false}, {\"xref\": \"x1\", \"xanchor\": \"left\", \"yref\": \"y1\", \"text\": \"Emory\", \"align\": \"left\", \"y\": 19, \"x\": -0.45, \"font\": {\"color\": \"#000000\"}, \"showarrow\": false}, {\"xref\": \"x1\", \"xanchor\": \"left\", \"yref\": \"y1\", \"text\": \"68\", \"align\": \"left\", \"y\": 19, \"x\": 0.55, \"font\": {\"color\": \"#000000\"}, \"showarrow\": false}, {\"xref\": \"x1\", \"xanchor\": \"left\", \"yref\": \"y1\", \"text\": \"82\", \"align\": \"left\", \"y\": 19, \"x\": 1.55, \"font\": {\"color\": \"#000000\"}, \"showarrow\": false}, {\"xref\": \"x1\", \"xanchor\": \"left\", \"yref\": \"y1\", \"text\": \"14\", \"align\": \"left\", \"y\": 19, \"x\": 2.55, \"font\": {\"color\": \"#000000\"}, \"showarrow\": false}, {\"xref\": \"x1\", \"xanchor\": \"left\", \"yref\": \"y1\", \"text\": \"UCLA\", \"align\": \"left\", \"y\": 20, \"x\": -0.45, \"font\": {\"color\": \"#000000\"}, \"showarrow\": false}, {\"xref\": \"x1\", \"xanchor\": \"left\", \"yref\": \"y1\", \"text\": \"64\", \"align\": \"left\", \"y\": 20, \"x\": 0.55, \"font\": {\"color\": \"#000000\"}, \"showarrow\": false}, {\"xref\": \"x1\", \"xanchor\": \"left\", \"yref\": \"y1\", \"text\": \"78\", \"align\": \"left\", \"y\": 20, \"x\": 1.55, \"font\": {\"color\": \"#000000\"}, \"showarrow\": false}, {\"xref\": \"x1\", \"xanchor\": \"left\", \"yref\": \"y1\", \"text\": \"14\", \"align\": \"left\", \"y\": 20, \"x\": 2.55, \"font\": {\"color\": \"#000000\"}, \"showarrow\": false}, {\"xref\": \"x1\", \"xanchor\": \"left\", \"yref\": \"y1\", \"text\": \"SoCal\", \"align\": \"left\", \"y\": 21, \"x\": -0.45, \"font\": {\"color\": \"#000000\"}, \"showarrow\": false}, {\"xref\": \"x1\", \"xanchor\": \"left\", \"yref\": \"y1\", \"text\": \"72\", \"align\": \"left\", \"y\": 21, \"x\": 0.55, \"font\": {\"color\": \"#000000\"}, \"showarrow\": false}, {\"xref\": \"x1\", \"xanchor\": \"left\", \"yref\": \"y1\", \"text\": \"81\", \"align\": \"left\", \"y\": 21, \"x\": 1.55, \"font\": {\"color\": \"#000000\"}, \"showarrow\": false}, {\"xref\": \"x1\", \"xanchor\": \"left\", \"yref\": \"y1\", \"text\": \"9\", \"align\": \"left\", \"y\": 21, \"x\": 2.55, \"font\": {\"color\": \"#000000\"}, \"showarrow\": false}], \"xaxis\": {\"showticklabels\": false, \"tick0\": -0.5, \"ticks\": \"\", \"gridwidth\": 2, \"dtick\": 1, \"zeroline\": false}, \"height\": 710}, {\"linkText\": \"Export to plot.ly\", \"showLink\": true})});</script>"
      ]
     },
     "metadata": {},
     "output_type": "display_data"
    }
   ],
   "source": [
    "# bar chart example using data frame, including table (1/2)\n",
    "\n",
    "import plotly.plotly as py\n",
    "import plotly.figure_factory as ff\n",
    "import pandas as pd\n",
    "\n",
    "df = pd.read_csv(\"https://raw.githubusercontent.com/plotly/datasets/master/school_earnings.csv\")\n",
    "\n",
    "table = ff.create_table(df)\n",
    "#plotly.offline.iplot(table, filename='jupyter/table1')                           #filename does what here?\n",
    "plotly.offline.iplot(table)"
   ]
  },
  {
   "cell_type": "code",
   "execution_count": 8,
   "metadata": {},
   "outputs": [
    {
     "data": {
      "application/vnd.plotly.v1+json": {
       "data": [
        {
         "type": "bar",
         "x": [
          "MIT",
          "Stanford",
          "Harvard",
          "U.Penn",
          "Princeton",
          "Chicago",
          "Georgetown",
          "Tufts",
          "Yale",
          "Columbia",
          "Duke",
          "Dartmouth",
          "NYU",
          "Notre Dame",
          "Cornell",
          "Michigan",
          "Brown",
          "Berkeley",
          "Emory",
          "UCLA",
          "SoCal"
         ],
         "y": [
          58,
          55,
          53,
          49,
          47,
          40,
          37,
          36,
          35,
          33,
          31,
          30,
          27,
          27,
          27,
          22,
          20,
          17,
          14,
          14,
          9
         ]
        }
       ],
       "layout": {}
      },
      "text/html": [
       "<div id=\"a0345a48-e56e-4ca3-99da-13d1d23e2696\" style=\"height: 525px; width: 100%;\" class=\"plotly-graph-div\"></div><script type=\"text/javascript\">require([\"plotly\"], function(Plotly) { window.PLOTLYENV=window.PLOTLYENV || {};window.PLOTLYENV.BASE_URL=\"https://plot.ly\";Plotly.newPlot(\"a0345a48-e56e-4ca3-99da-13d1d23e2696\", [{\"y\": [58, 55, 53, 49, 47, 40, 37, 36, 35, 33, 31, 30, 27, 27, 27, 22, 20, 17, 14, 14, 9], \"x\": [\"MIT\", \"Stanford\", \"Harvard\", \"U.Penn\", \"Princeton\", \"Chicago\", \"Georgetown\", \"Tufts\", \"Yale\", \"Columbia\", \"Duke\", \"Dartmouth\", \"NYU\", \"Notre Dame\", \"Cornell\", \"Michigan\", \"Brown\", \"Berkeley\", \"Emory\", \"UCLA\", \"SoCal\"], \"type\": \"bar\"}], {}, {\"linkText\": \"Export to plot.ly\", \"showLink\": true})});</script>"
      ],
      "text/vnd.plotly.v1+html": [
       "<div id=\"a0345a48-e56e-4ca3-99da-13d1d23e2696\" style=\"height: 525px; width: 100%;\" class=\"plotly-graph-div\"></div><script type=\"text/javascript\">require([\"plotly\"], function(Plotly) { window.PLOTLYENV=window.PLOTLYENV || {};window.PLOTLYENV.BASE_URL=\"https://plot.ly\";Plotly.newPlot(\"a0345a48-e56e-4ca3-99da-13d1d23e2696\", [{\"y\": [58, 55, 53, 49, 47, 40, 37, 36, 35, 33, 31, 30, 27, 27, 27, 22, 20, 17, 14, 14, 9], \"x\": [\"MIT\", \"Stanford\", \"Harvard\", \"U.Penn\", \"Princeton\", \"Chicago\", \"Georgetown\", \"Tufts\", \"Yale\", \"Columbia\", \"Duke\", \"Dartmouth\", \"NYU\", \"Notre Dame\", \"Cornell\", \"Michigan\", \"Brown\", \"Berkeley\", \"Emory\", \"UCLA\", \"SoCal\"], \"type\": \"bar\"}], {}, {\"linkText\": \"Export to plot.ly\", \"showLink\": true})});</script>"
      ]
     },
     "metadata": {},
     "output_type": "display_data"
    }
   ],
   "source": [
    "# bar chart example using data frame, including table (1/2)\n",
    "\n",
    "data = [go.Bar(x=df.School,\n",
    "            y=df.Gap)]\n",
    "\n",
    "plotly.offline.iplot(data, filename='jupyter/basic_bar')"
   ]
  },
  {
   "cell_type": "code",
   "execution_count": 9,
   "metadata": {},
   "outputs": [
    {
     "data": {
      "application/vnd.plotly.v1+json": {
       "data": [
        {
         "marker": {
          "color": "#ffcdd2"
         },
         "name": "Women",
         "type": "bar",
         "x": [
          "MIT",
          "Stanford",
          "Harvard",
          "U.Penn",
          "Princeton",
          "Chicago",
          "Georgetown",
          "Tufts",
          "Yale",
          "Columbia",
          "Duke",
          "Dartmouth",
          "NYU",
          "Notre Dame",
          "Cornell",
          "Michigan",
          "Brown",
          "Berkeley",
          "Emory",
          "UCLA",
          "SoCal"
         ],
         "y": [
          94,
          96,
          112,
          92,
          90,
          78,
          94,
          76,
          79,
          86,
          93,
          84,
          67,
          73,
          80,
          62,
          72,
          71,
          68,
          64,
          72
         ]
        },
        {
         "marker": {
          "color": "#A2D5F2"
         },
         "name": "Men",
         "type": "bar",
         "x": [
          "MIT",
          "Stanford",
          "Harvard",
          "U.Penn",
          "Princeton",
          "Chicago",
          "Georgetown",
          "Tufts",
          "Yale",
          "Columbia",
          "Duke",
          "Dartmouth",
          "NYU",
          "Notre Dame",
          "Cornell",
          "Michigan",
          "Brown",
          "Berkeley",
          "Emory",
          "UCLA",
          "SoCal"
         ],
         "y": [
          152,
          151,
          165,
          141,
          137,
          118,
          131,
          112,
          114,
          119,
          124,
          114,
          94,
          100,
          107,
          84,
          92,
          88,
          82,
          78,
          81
         ]
        },
        {
         "marker": {
          "color": "#59606D"
         },
         "name": "Gap",
         "type": "bar",
         "x": [
          "MIT",
          "Stanford",
          "Harvard",
          "U.Penn",
          "Princeton",
          "Chicago",
          "Georgetown",
          "Tufts",
          "Yale",
          "Columbia",
          "Duke",
          "Dartmouth",
          "NYU",
          "Notre Dame",
          "Cornell",
          "Michigan",
          "Brown",
          "Berkeley",
          "Emory",
          "UCLA",
          "SoCal"
         ],
         "y": [
          58,
          55,
          53,
          49,
          47,
          40,
          37,
          36,
          35,
          33,
          31,
          30,
          27,
          27,
          27,
          22,
          20,
          17,
          14,
          14,
          9
         ]
        }
       ],
       "layout": {}
      },
      "text/html": [
       "<div id=\"6f190ef4-4026-466c-b841-0d5103bc7be7\" style=\"height: 525px; width: 100%;\" class=\"plotly-graph-div\"></div><script type=\"text/javascript\">require([\"plotly\"], function(Plotly) { window.PLOTLYENV=window.PLOTLYENV || {};window.PLOTLYENV.BASE_URL=\"https://plot.ly\";Plotly.newPlot(\"6f190ef4-4026-466c-b841-0d5103bc7be7\", [{\"marker\": {\"color\": \"#ffcdd2\"}, \"y\": [94, 96, 112, 92, 90, 78, 94, 76, 79, 86, 93, 84, 67, 73, 80, 62, 72, 71, 68, 64, 72], \"type\": \"bar\", \"name\": \"Women\", \"x\": [\"MIT\", \"Stanford\", \"Harvard\", \"U.Penn\", \"Princeton\", \"Chicago\", \"Georgetown\", \"Tufts\", \"Yale\", \"Columbia\", \"Duke\", \"Dartmouth\", \"NYU\", \"Notre Dame\", \"Cornell\", \"Michigan\", \"Brown\", \"Berkeley\", \"Emory\", \"UCLA\", \"SoCal\"]}, {\"marker\": {\"color\": \"#A2D5F2\"}, \"y\": [152, 151, 165, 141, 137, 118, 131, 112, 114, 119, 124, 114, 94, 100, 107, 84, 92, 88, 82, 78, 81], \"type\": \"bar\", \"name\": \"Men\", \"x\": [\"MIT\", \"Stanford\", \"Harvard\", \"U.Penn\", \"Princeton\", \"Chicago\", \"Georgetown\", \"Tufts\", \"Yale\", \"Columbia\", \"Duke\", \"Dartmouth\", \"NYU\", \"Notre Dame\", \"Cornell\", \"Michigan\", \"Brown\", \"Berkeley\", \"Emory\", \"UCLA\", \"SoCal\"]}, {\"marker\": {\"color\": \"#59606D\"}, \"y\": [58, 55, 53, 49, 47, 40, 37, 36, 35, 33, 31, 30, 27, 27, 27, 22, 20, 17, 14, 14, 9], \"type\": \"bar\", \"name\": \"Gap\", \"x\": [\"MIT\", \"Stanford\", \"Harvard\", \"U.Penn\", \"Princeton\", \"Chicago\", \"Georgetown\", \"Tufts\", \"Yale\", \"Columbia\", \"Duke\", \"Dartmouth\", \"NYU\", \"Notre Dame\", \"Cornell\", \"Michigan\", \"Brown\", \"Berkeley\", \"Emory\", \"UCLA\", \"SoCal\"]}], {}, {\"linkText\": \"Export to plot.ly\", \"showLink\": {\"title\": \"Average Earnings for Graduates\", \"xaxis\": {\"title\": \"School\"}, \"yaxis\": {\"title\": \"Salary (in thousands)\"}}})});</script>"
      ],
      "text/vnd.plotly.v1+html": [
       "<div id=\"6f190ef4-4026-466c-b841-0d5103bc7be7\" style=\"height: 525px; width: 100%;\" class=\"plotly-graph-div\"></div><script type=\"text/javascript\">require([\"plotly\"], function(Plotly) { window.PLOTLYENV=window.PLOTLYENV || {};window.PLOTLYENV.BASE_URL=\"https://plot.ly\";Plotly.newPlot(\"6f190ef4-4026-466c-b841-0d5103bc7be7\", [{\"marker\": {\"color\": \"#ffcdd2\"}, \"y\": [94, 96, 112, 92, 90, 78, 94, 76, 79, 86, 93, 84, 67, 73, 80, 62, 72, 71, 68, 64, 72], \"type\": \"bar\", \"name\": \"Women\", \"x\": [\"MIT\", \"Stanford\", \"Harvard\", \"U.Penn\", \"Princeton\", \"Chicago\", \"Georgetown\", \"Tufts\", \"Yale\", \"Columbia\", \"Duke\", \"Dartmouth\", \"NYU\", \"Notre Dame\", \"Cornell\", \"Michigan\", \"Brown\", \"Berkeley\", \"Emory\", \"UCLA\", \"SoCal\"]}, {\"marker\": {\"color\": \"#A2D5F2\"}, \"y\": [152, 151, 165, 141, 137, 118, 131, 112, 114, 119, 124, 114, 94, 100, 107, 84, 92, 88, 82, 78, 81], \"type\": \"bar\", \"name\": \"Men\", \"x\": [\"MIT\", \"Stanford\", \"Harvard\", \"U.Penn\", \"Princeton\", \"Chicago\", \"Georgetown\", \"Tufts\", \"Yale\", \"Columbia\", \"Duke\", \"Dartmouth\", \"NYU\", \"Notre Dame\", \"Cornell\", \"Michigan\", \"Brown\", \"Berkeley\", \"Emory\", \"UCLA\", \"SoCal\"]}, {\"marker\": {\"color\": \"#59606D\"}, \"y\": [58, 55, 53, 49, 47, 40, 37, 36, 35, 33, 31, 30, 27, 27, 27, 22, 20, 17, 14, 14, 9], \"type\": \"bar\", \"name\": \"Gap\", \"x\": [\"MIT\", \"Stanford\", \"Harvard\", \"U.Penn\", \"Princeton\", \"Chicago\", \"Georgetown\", \"Tufts\", \"Yale\", \"Columbia\", \"Duke\", \"Dartmouth\", \"NYU\", \"Notre Dame\", \"Cornell\", \"Michigan\", \"Brown\", \"Berkeley\", \"Emory\", \"UCLA\", \"SoCal\"]}], {}, {\"linkText\": \"Export to plot.ly\", \"showLink\": {\"title\": \"Average Earnings for Graduates\", \"xaxis\": {\"title\": \"School\"}, \"yaxis\": {\"title\": \"Salary (in thousands)\"}}})});</script>"
      ]
     },
     "metadata": {},
     "output_type": "display_data"
    }
   ],
   "source": [
    "# another bar chart example (using data from bar chart example above)\n",
    "\n",
    "from plotly.graph_objs import *  #testing\n",
    "\n",
    "trace_women = Bar(x=df.School,\n",
    "                  y=df.Women,\n",
    "                  name='Women',\n",
    "                  marker=dict(color='#ffcdd2'))\n",
    "\n",
    "trace_men = Bar(x=df.School,\n",
    "                y=df.Men,\n",
    "                name='Men',\n",
    "                marker=dict(color='#A2D5F2'))\n",
    "\n",
    "trace_gap = Bar(x=df.School,\n",
    "                y=df.Gap,\n",
    "                name='Gap',\n",
    "                marker=dict(color='#59606D'))\n",
    "\n",
    "data = [trace_women, trace_men, trace_gap]\n",
    "layout = Layout(title=\"Average Earnings for Graduates\",\n",
    "                xaxis=dict(title='School'),\n",
    "                yaxis=dict(title='Salary (in thousands)'))\n",
    "fig = Figure(data=data, layout=layout)\n",
    "\n",
    "#plotly.offline.iplot(fig, filename='jupyter/styled_bar')\n",
    "plotly.offline.iplot(data, layout)"
   ]
  },
  {
   "cell_type": "code",
   "execution_count": 10,
   "metadata": {},
   "outputs": [
    {
     "data": {
      "application/vnd.plotly.v1+json": {
       "data": [
        {
         "type": "scatter",
         "x": [
          0,
          0.002004008016032064,
          0.004008016032064128,
          0.0060120240480961915,
          0.008016032064128256,
          0.01002004008016032,
          0.012024048096192383,
          0.014028056112224447,
          0.01603206412825651,
          0.018036072144288574,
          0.02004008016032064,
          0.022044088176352703,
          0.024048096192384766,
          0.026052104208416832,
          0.028056112224448895,
          0.03006012024048096,
          0.03206412825651302,
          0.03406813627254509,
          0.03607214428857715,
          0.038076152304609215,
          0.04008016032064128,
          0.04208416833667334,
          0.044088176352705406,
          0.04609218436873747,
          0.04809619238476953,
          0.0501002004008016,
          0.052104208416833664,
          0.05410821643286573,
          0.05611222444889779,
          0.058116232464929855,
          0.06012024048096192,
          0.06212424849699398,
          0.06412825651302605,
          0.06613226452905811,
          0.06813627254509018,
          0.07014028056112225,
          0.0721442885771543,
          0.07414829659318636,
          0.07615230460921843,
          0.0781563126252505,
          0.08016032064128256,
          0.08216432865731463,
          0.08416833667334668,
          0.08617234468937875,
          0.08817635270541081,
          0.09018036072144288,
          0.09218436873747494,
          0.09418837675350701,
          0.09619238476953906,
          0.09819639278557113,
          0.1002004008016032,
          0.10220440881763526,
          0.10420841683366733,
          0.1062124248496994,
          0.10821643286573146,
          0.11022044088176351,
          0.11222444889779558,
          0.11422845691382764,
          0.11623246492985971,
          0.11823647294589178,
          0.12024048096192384,
          0.1222444889779559,
          0.12424849699398796,
          0.12625250501002003,
          0.1282565130260521,
          0.13026052104208416,
          0.13226452905811623,
          0.1342685370741483,
          0.13627254509018036,
          0.13827655310621242,
          0.1402805611222445,
          0.14228456913827653,
          0.1442885771543086,
          0.14629258517034066,
          0.14829659318637273,
          0.1503006012024048,
          0.15230460921843686,
          0.15430861723446893,
          0.156312625250501,
          0.15831663326653306,
          0.16032064128256512,
          0.1623246492985972,
          0.16432865731462926,
          0.16633266533066132,
          0.16833667334669336,
          0.17034068136272543,
          0.1723446893787575,
          0.17434869739478956,
          0.17635270541082163,
          0.1783567134268537,
          0.18036072144288576,
          0.18236472945891782,
          0.1843687374749499,
          0.18637274549098196,
          0.18837675350701402,
          0.1903807615230461,
          0.19238476953907813,
          0.1943887775551102,
          0.19639278557114226,
          0.19839679358717432,
          0.2004008016032064,
          0.20240480961923846,
          0.20440881763527052,
          0.2064128256513026,
          0.20841683366733466,
          0.21042084168336672,
          0.2124248496993988,
          0.21442885771543085,
          0.21643286573146292,
          0.21843687374749496,
          0.22044088176352702,
          0.2224448897795591,
          0.22444889779559116,
          0.22645290581162322,
          0.2284569138276553,
          0.23046092184368736,
          0.23246492985971942,
          0.2344689378757515,
          0.23647294589178355,
          0.23847695390781562,
          0.24048096192384769,
          0.24248496993987975,
          0.2444889779559118,
          0.24649298597194386,
          0.24849699398797592,
          0.250501002004008,
          0.25250501002004005,
          0.2545090180360721,
          0.2565130260521042,
          0.25851703406813625,
          0.2605210420841683,
          0.2625250501002004,
          0.26452905811623245,
          0.2665330661322645,
          0.2685370741482966,
          0.27054108216432865,
          0.2725450901803607,
          0.2745490981963928,
          0.27655310621242485,
          0.2785571142284569,
          0.280561122244489,
          0.282565130260521,
          0.28456913827655306,
          0.2865731462925851,
          0.2885771543086172,
          0.29058116232464926,
          0.2925851703406813,
          0.2945891783567134,
          0.29659318637274545,
          0.2985971943887775,
          0.3006012024048096,
          0.30260521042084165,
          0.3046092184368737,
          0.3066132264529058,
          0.30861723446893785,
          0.3106212424849699,
          0.312625250501002,
          0.31462925851703405,
          0.3166332665330661,
          0.3186372745490982,
          0.32064128256513025,
          0.3226452905811623,
          0.3246492985971944,
          0.32665330661322645,
          0.3286573146292585,
          0.3306613226452906,
          0.33266533066132264,
          0.33466933867735466,
          0.3366733466933867,
          0.3386773547094188,
          0.34068136272545085,
          0.3426853707414829,
          0.344689378757515,
          0.34669338677354705,
          0.3486973947895791,
          0.3507014028056112,
          0.35270541082164325,
          0.3547094188376753,
          0.3567134268537074,
          0.35871743486973945,
          0.3607214428857715,
          0.3627254509018036,
          0.36472945891783565,
          0.3667334669338677,
          0.3687374749498998,
          0.37074148296593185,
          0.3727454909819639,
          0.374749498997996,
          0.37675350701402804,
          0.3787575150300601,
          0.3807615230460922,
          0.38276553106212424,
          0.38476953907815625,
          0.3867735470941883,
          0.3887775551102204,
          0.39078156312625245,
          0.3927855711422845,
          0.3947895791583166,
          0.39679358717434865,
          0.3987975951903807,
          0.4008016032064128,
          0.40280561122244485,
          0.4048096192384769,
          0.406813627254509,
          0.40881763527054105,
          0.4108216432865731,
          0.4128256513026052,
          0.41482965931863724,
          0.4168336673346693,
          0.4188376753507014,
          0.42084168336673344,
          0.4228456913827655,
          0.4248496993987976,
          0.42685370741482964,
          0.4288577154308617,
          0.4308617234468938,
          0.43286573146292584,
          0.4348697394789579,
          0.4368737474949899,
          0.438877755511022,
          0.44088176352705405,
          0.4428857715430861,
          0.4448897795591182,
          0.44689378757515025,
          0.4488977955911823,
          0.4509018036072144,
          0.45290581162324645,
          0.4549098196392785,
          0.4569138276553106,
          0.45891783567134264,
          0.4609218436873747,
          0.4629258517034068,
          0.46492985971943884,
          0.4669338677354709,
          0.468937875751503,
          0.47094188376753504,
          0.4729458917835671,
          0.4749498997995992,
          0.47695390781563124,
          0.4789579158316633,
          0.48096192384769537,
          0.48296593186372744,
          0.4849699398797595,
          0.48697394789579157,
          0.4889779559118236,
          0.49098196392785565,
          0.4929859719438877,
          0.4949899799599198,
          0.49699398797595185,
          0.4989979959919839,
          0.501002004008016,
          0.503006012024048,
          0.5050100200400801,
          0.5070140280561122,
          0.5090180360721442,
          0.5110220440881763,
          0.5130260521042084,
          0.5150300601202404,
          0.5170340681362725,
          0.5190380761523046,
          0.5210420841683366,
          0.5230460921843687,
          0.5250501002004008,
          0.5270541082164328,
          0.5290581162324649,
          0.531062124248497,
          0.533066132264529,
          0.5350701402805611,
          0.5370741482965932,
          0.5390781563126252,
          0.5410821643286573,
          0.5430861723446894,
          0.5450901803607214,
          0.5470941883767535,
          0.5490981963927856,
          0.5511022044088176,
          0.5531062124248497,
          0.5551102204408818,
          0.5571142284569138,
          0.5591182364729459,
          0.561122244488978,
          0.56312625250501,
          0.565130260521042,
          0.567134268537074,
          0.5691382765531061,
          0.5711422845691382,
          0.5731462925851702,
          0.5751503006012023,
          0.5771543086172344,
          0.5791583166332664,
          0.5811623246492985,
          0.5831663326653306,
          0.5851703406813626,
          0.5871743486973947,
          0.5891783567134268,
          0.5911823647294588,
          0.5931863727454909,
          0.595190380761523,
          0.597194388777555,
          0.5991983967935871,
          0.6012024048096192,
          0.6032064128256512,
          0.6052104208416833,
          0.6072144288577154,
          0.6092184368737474,
          0.6112224448897795,
          0.6132264529058116,
          0.6152304609218436,
          0.6172344689378757,
          0.6192384769539078,
          0.6212424849699398,
          0.6232464929859719,
          0.625250501002004,
          0.627254509018036,
          0.6292585170340681,
          0.6312625250501002,
          0.6332665330661322,
          0.6352705410821643,
          0.6372745490981964,
          0.6392785571142284,
          0.6412825651302605,
          0.6432865731462926,
          0.6452905811623246,
          0.6472945891783567,
          0.6492985971943888,
          0.6513026052104208,
          0.6533066132264529,
          0.655310621242485,
          0.657314629258517,
          0.6593186372745491,
          0.6613226452905812,
          0.6633266533066132,
          0.6653306613226453,
          0.6673346693386772,
          0.6693386773547093,
          0.6713426853707414,
          0.6733466933867734,
          0.6753507014028055,
          0.6773547094188376,
          0.6793587174348696,
          0.6813627254509017,
          0.6833667334669338,
          0.6853707414829658,
          0.6873747494989979,
          0.68937875751503,
          0.691382765531062,
          0.6933867735470941,
          0.6953907815631262,
          0.6973947895791582,
          0.6993987975951903,
          0.7014028056112224,
          0.7034068136272544,
          0.7054108216432865,
          0.7074148296593186,
          0.7094188376753506,
          0.7114228456913827,
          0.7134268537074148,
          0.7154308617234468,
          0.7174348697394789,
          0.719438877755511,
          0.721442885771543,
          0.7234468937875751,
          0.7254509018036072,
          0.7274549098196392,
          0.7294589178356713,
          0.7314629258517034,
          0.7334669338677354,
          0.7354709418837675,
          0.7374749498997996,
          0.7394789579158316,
          0.7414829659318637,
          0.7434869739478958,
          0.7454909819639278,
          0.7474949899799599,
          0.749498997995992,
          0.751503006012024,
          0.7535070140280561,
          0.7555110220440882,
          0.7575150300601202,
          0.7595190380761523,
          0.7615230460921844,
          0.7635270541082164,
          0.7655310621242485,
          0.7675350701402806,
          0.7695390781563125,
          0.7715430861723446,
          0.7735470941883766,
          0.7755511022044087,
          0.7775551102204408,
          0.7795591182364728,
          0.7815631262525049,
          0.783567134268537,
          0.785571142284569,
          0.7875751503006011,
          0.7895791583166332,
          0.7915831663326652,
          0.7935871743486973,
          0.7955911823647294,
          0.7975951903807614,
          0.7995991983967935,
          0.8016032064128256,
          0.8036072144288576,
          0.8056112224448897,
          0.8076152304609218,
          0.8096192384769538,
          0.8116232464929859,
          0.813627254509018,
          0.81563126252505,
          0.8176352705410821,
          0.8196392785571142,
          0.8216432865731462,
          0.8236472945891783,
          0.8256513026052104,
          0.8276553106212424,
          0.8296593186372745,
          0.8316633266533066,
          0.8336673346693386,
          0.8356713426853707,
          0.8376753507014028,
          0.8396793587174348,
          0.8416833667334669,
          0.843687374749499,
          0.845691382765531,
          0.8476953907815631,
          0.8496993987975952,
          0.8517034068136272,
          0.8537074148296593,
          0.8557114228456913,
          0.8577154308617234,
          0.8597194388777555,
          0.8617234468937875,
          0.8637274549098196,
          0.8657314629258517,
          0.8677354709418837,
          0.8697394789579158,
          0.8717434869739479,
          0.8737474949899798,
          0.8757515030060119,
          0.877755511022044,
          0.879759519038076,
          0.8817635270541081,
          0.8837675350701402,
          0.8857715430861722,
          0.8877755511022043,
          0.8897795591182364,
          0.8917835671342684,
          0.8937875751503005,
          0.8957915831663326,
          0.8977955911823646,
          0.8997995991983967,
          0.9018036072144288,
          0.9038076152304608,
          0.9058116232464929,
          0.907815631262525,
          0.909819639278557,
          0.9118236472945891,
          0.9138276553106212,
          0.9158316633266532,
          0.9178356713426853,
          0.9198396793587174,
          0.9218436873747494,
          0.9238476953907815,
          0.9258517034068136,
          0.9278557114228456,
          0.9298597194388777,
          0.9318637274549098,
          0.9338677354709418,
          0.9358717434869739,
          0.937875751503006,
          0.939879759519038,
          0.9418837675350701,
          0.9438877755511021,
          0.9458917835671342,
          0.9478957915831663,
          0.9498997995991983,
          0.9519038076152304,
          0.9539078156312625,
          0.9559118236472945,
          0.9579158316633266,
          0.9599198396793587,
          0.9619238476953907,
          0.9639278557114228,
          0.9659318637274549,
          0.9679358717434869,
          0.969939879759519,
          0.9719438877755511,
          0.9739478957915831,
          0.9759519038076151,
          0.9779559118236472,
          0.9799599198396792,
          0.9819639278557113,
          0.9839679358717434,
          0.9859719438877754,
          0.9879759519038075,
          0.9899799599198396,
          0.9919839679358716,
          0.9939879759519037,
          0.9959919839679358,
          0.9979959919839678,
          1
         ],
         "y": [
          -1.0461966030433563,
          -2.3303687605460723,
          -0.22016710959110328,
          0.061228306491185644,
          -0.7740551929364269,
          0.0441864955643064,
          0.3519530916229184,
          -0.7940344299043106,
          -0.6736619440799416,
          0.5538893053076958,
          -1.1444062452792731,
          0.01128918055167671,
          0.12997677591954393,
          0.41267440632856817,
          0.38366683755828546,
          -0.3251869821836977,
          0.09909767896037307,
          -1.1051861543882227,
          0.1285390704226194,
          -1.268228909671604,
          -2.5490202517367453,
          0.8278552809598163,
          -2.2732019796961573,
          1.314658391160439,
          1.0391187490748621,
          1.9086960466419143,
          -1.5233292879341354,
          1.2041164952490546,
          -0.4857454973629943,
          -0.5214154034933184,
          0.7384743295364462,
          -0.7601188685130008,
          1.0942511634025043,
          0.19754505025519684,
          -0.8976754441477767,
          -1.0624788934587186,
          0.00447847893509597,
          -0.24310020157840692,
          -1.3398030087594208,
          1.132855581972722,
          0.5304086047782806,
          -0.09441815058833652,
          1.554093296785001,
          0.3171264918346474,
          -1.3413508234034612,
          -0.37952374214017626,
          0.579239388315475,
          -0.12267692429813414,
          -0.7269110541677141,
          -1.5378299934559914,
          0.8415354739960351,
          0.45436976380039795,
          0.7008293776317317,
          -0.36600079982172984,
          -1.7079557783637564,
          -1.3480559229706282,
          1.137771873348747,
          -0.044176368188843615,
          -0.27705358619479353,
          -0.7525474899987167,
          -1.5144137694570516,
          -0.3738720907229608,
          -0.5285613260080361,
          0.7399366857167209,
          0.3131226437621344,
          -2.153524814752991,
          0.8715955337635131,
          -0.6373062236432261,
          1.7857276430873532,
          1.5585511458348313,
          -0.8316534511931802,
          -1.1849347161000672,
          -1.7315667750960317,
          0.9605928772695532,
          -1.3788166833303501,
          0.7829398356694334,
          -2.5443953295501993,
          0.4423379639270524,
          -0.255883889372476,
          -0.9457042307124717,
          -0.8205110033614691,
          0.6819300753395836,
          1.6719072652208633,
          -1.5135453747215974,
          0.8013422688318368,
          -0.15505476898806714,
          0.7508297136651403,
          -0.2661996408144052,
          -2.0399590859949916,
          -1.7289978700360777,
          0.3368963106153883,
          0.9447510861493327,
          0.4853485441466616,
          0.7091424305757235,
          0.46708797545081304,
          2.408547076562091,
          -0.6689813772198305,
          0.05242265784783609,
          0.2035625274628645,
          1.3810712118760258,
          -1.260401376993963,
          0.46140847206130675,
          0.521145622284772,
          0.6185244016027792,
          -0.27175541387615826,
          0.10665585229780059,
          1.3801805979352106,
          -0.3149909206715544,
          -0.6979053511485674,
          0.5616534054336928,
          -3.091131332505119,
          0.40300373945189005,
          -0.3641247795688437,
          1.2549151138845562,
          0.3479202257543626,
          -0.4665174904702667,
          0.1945541131288889,
          1.8653186582863135,
          -1.1410695938962223,
          1.1046460647893852,
          -0.21874513320062572,
          -2.0808603142561917,
          0.27366301146241,
          -1.3676293286653598,
          1.4151539108815947,
          -0.4224503095291406,
          0.7461175471690491,
          0.5574079826428995,
          -0.19362084918847192,
          -2.1183608905817004,
          0.5507912677387797,
          -0.6372954620083533,
          0.26301842178268864,
          1.1033913674014104,
          0.8615683273468551,
          -0.11283908081995551,
          -0.7011123341868951,
          0.15248798220510115,
          -0.5193684301312331,
          -0.3756838238405831,
          1.5721464798875144,
          -0.9154425961628835,
          -1.4081156759290248,
          -2.138976931473854,
          0.13668311748132542,
          1.1846777512802793,
          -0.5088298857674074,
          -0.9833056295440216,
          -0.6347099538955111,
          1.690233478468001,
          -0.22533811605346446,
          0.5033055106731966,
          -0.05379515323038281,
          -0.7235931206891134,
          0.7003369689687317,
          0.7601254096395087,
          0.18320849819383386,
          1.5710950483904227,
          1.2408593899144733,
          -0.06540792491699088,
          -1.2518685063146342,
          -0.25583275107282033,
          0.6094118819166237,
          1.2150263073424372,
          2.6602586240230153,
          0.17126819079138178,
          0.31641253069843894,
          0.7814565474840137,
          0.9816828659358116,
          0.28137082649956,
          -0.7432287191074239,
          2.4566170311965245,
          -1.172012515935066,
          0.29823052303653197,
          -0.47208224980304475,
          0.8072647555627023,
          -0.5541704244397637,
          1.9305091553494673,
          0.9813429901260535,
          -1.0346028433670087,
          0.7645674817452446,
          3.0422708756021732,
          0.14083253128435796,
          -0.7415829946632214,
          2.5236375377171094,
          -0.014702249999058696,
          0.8171847726322953,
          -0.10921215286243156,
          0.24204098826746015,
          -0.0410606846641878,
          0.8307018281072394,
          0.10275281038733713,
          -0.7788608905948379,
          -3.002463044046939,
          -0.7634634839732916,
          0.5917102445306232,
          -0.4798744573448498,
          1.351407611321355,
          1.5442489808783153,
          -0.6366894930397953,
          0.5807215720216516,
          -0.35899379192986236,
          2.1731613876074025,
          -0.2826147556827527,
          0.15293602110610957,
          1.2459688501951744,
          -0.6647172539152396,
          -0.7982383866458197,
          -0.6495982073344082,
          -0.8841860354558994,
          -0.35331864114488554,
          -0.31214687999396745,
          -0.6470995709119853,
          -1.5978598124481265,
          -1.0059520991334434,
          -0.09250220825726242,
          0.6910015555152145,
          0.13286705827266793,
          0.008080457169319596,
          0.5981464057101613,
          -0.07895797094448297,
          -0.42551738805480377,
          0.09612810182877982,
          -0.018517256358837927,
          0.3607697609529477,
          -2.4324344413771293,
          -0.4382931254255699,
          -0.09905465693438983,
          -0.5957599521257712,
          -1.103023717869053,
          -1.3490130996735072,
          2.2256126291613256,
          -1.9922908891136755,
          0.8805195527587526,
          0.7916568409908651,
          -1.0936167097758762,
          -1.1320624358100364,
          -1.7412222436624698,
          0.5018817659180953,
          -0.7663669389957842,
          0.736829296103047,
          -0.9771980664449174,
          -0.20178561689536226,
          1.2394988299600718,
          -0.9639461300667999,
          1.0410698304051196,
          -0.35141360258007215,
          1.544244739816275,
          1.6769104171400353,
          0.8349896102157831,
          0.9671956088480275,
          -0.941043989604027,
          0.4070995740134692,
          -1.3985851946211758,
          1.4915519352092341,
          -1.960927974134838,
          0.3923417250920811,
          0.2077971332907161,
          -0.5553721178403419,
          -1.9979043372019452,
          -1.7299820722544035,
          -0.1922956318247272,
          -1.1812252651851791,
          0.6981606921559275,
          0.5209313964431759,
          0.37184640809202857,
          -0.745314623543589,
          -0.417330968271441,
          0.09545434737795251,
          1.782839076682014,
          -1.5911701189659901,
          0.971551744020012,
          0.909597928864202,
          0.6492495865811816,
          0.20823081560543213,
          -0.2387028402133544,
          0.7510898144950549,
          0.2957347314805056,
          -0.7518634054018831,
          0.7982766212060849,
          -0.009613586326967702,
          -0.34613436687116544,
          -0.7680668604899569,
          0.4209713568746891,
          -0.4977561176492686,
          -0.7711185011070258,
          -0.29132942990566013,
          0.5068244157956815,
          0.6500435653824947,
          0.40602091892414977,
          1.2980433310055786,
          -1.5279989363496478,
          0.07220469400775245,
          -0.0568263855741546,
          0.9720255010958293,
          3.1010008628842014,
          0.30193775582958315,
          -1.2809752466041147,
          -0.6076249224544678,
          1.1229350217108243,
          2.298313604131736,
          -0.5361658569329093,
          1.0012726697281258,
          0.5948997350074148,
          2.020183249029111,
          -1.001848226658686,
          -0.2588527722263928,
          0.049880960633657066,
          0.42320977962095346,
          0.8501571955670209,
          0.968678319706183,
          -0.12009607627362416,
          1.1674981917945533,
          1.8074541007511504,
          -1.2572396863439923,
          1.121270243832852,
          0.8740307623013962,
          0.584588125260107,
          0.6301219895078279,
          0.33785345886679874,
          -0.3364287001276063,
          -0.4748095742630188,
          -0.9152072248084219,
          0.8225829620775357,
          -0.8495947778864184,
          -0.9148021776423737,
          -0.6463377225743808,
          0.627842147534927,
          0.4723824402863478,
          -0.39171538763940505,
          1.5540882972638,
          0.6484992454565347,
          0.06315553929467374,
          -1.8727431972439597,
          0.25923240686663723,
          1.65829255627253,
          -0.23306002578946555,
          0.931095033826895,
          0.45169108091368987,
          1.525626939841913,
          0.3483876551903792,
          -1.081300091013763,
          0.17670926487490932,
          -1.003166093492797,
          -0.2503883029838718,
          -0.17118500902612713,
          -0.7689701552526037,
          -0.3181608704094896,
          -2.3373653098936935,
          -1.1544267349493518,
          0.005462477585338336,
          0.1848324488106195,
          0.09919398040747243,
          -1.1746088051797594,
          -0.6131149398842971,
          -0.4126640099915154,
          -0.5399353827127858,
          -0.4087019760757145,
          -1.0423056807484574,
          -0.048437500151760675,
          -0.23257241793885503,
          -0.20799256241259556,
          0.6791274338170259,
          -2.7405136487811803,
          0.7323919477756522,
          1.2950704941304898,
          -0.7391507295427139,
          1.9654112385880271,
          0.43088556684552637,
          0.08821495853993194,
          -0.1398353058122655,
          -0.8436214094506563,
          -0.07109696737620053,
          0.46979108408418835,
          0.4277363453603079,
          0.03745585114293223,
          0.6804162349625871,
          -0.2925014163620509,
          0.3773318357240009,
          1.1955140430049442,
          0.3545863678526556,
          0.6016796761196195,
          -0.8856442605674952,
          0.660763114578669,
          -1.792402332870936,
          -0.2881693494672322,
          -0.33636565773941435,
          0.11051756305632075,
          0.6295522072899999,
          -0.2908635407001466,
          0.8417923401780028,
          1.193390003391867,
          -0.35811678527542806,
          0.8040594711026541,
          -0.2997792397959137,
          0.13496832419338156,
          -0.561099278142378,
          1.4885065427554671,
          -0.848740117630675,
          0.5050742562960754,
          0.816978992355124,
          -2.0616746165564805,
          -0.802529072237972,
          0.6528247289717793,
          0.10194700214793967,
          0.6088498420477885,
          0.4919500966302592,
          0.17156101498496307,
          -0.13929671000362348,
          1.3823553325571951,
          -0.523004204870735,
          -1.4514073802450307,
          0.1982250456780134,
          0.735000544477031,
          1.169049489042,
          -0.9557459006741369,
          0.41915604568221076,
          0.27686120125192004,
          0.23608803094882705,
          -0.9284864400548414,
          -0.10572408892408355,
          0.8640525281440121,
          -0.27135234269737163,
          1.7745989172302838,
          1.3801691710565593,
          -1.2181902209861555,
          0.750076385134191,
          1.7292940611131038,
          0.7548177267802053,
          -0.9110749312924961,
          0.8566059420845918,
          0.4940535041386071,
          1.0297170061721594,
          0.7175462078271392,
          -0.8658469938168787,
          -0.21084152899201392,
          0.8444892455291716,
          -0.3667070280828161,
          -1.090524182045781,
          0.4840161985066235,
          -0.19831936833799463,
          -0.24005626018615012,
          0.3838871287198544,
          0.2610528045833843,
          1.7481842240041998,
          -0.8165022354634424,
          -0.18191036562456173,
          0.6133942583244962,
          0.5131752264963324,
          1.1214556758354226,
          0.15894061969424159,
          1.3881101433299157,
          0.4382077819453682,
          -0.2538155108875939,
          -0.8236762278279206,
          -1.3162689055368662,
          -0.9785012843537352,
          -0.00187674073440881,
          0.951386059281621,
          -0.5408237429744885,
          -1.7775733577185753,
          1.1980969641839967,
          0.3208001015157239,
          -1.0803753380830146,
          -0.0358748539834256,
          1.8325958103216395,
          1.3512877997272732,
          -0.1657230385898307,
          -0.7270985740510014,
          -1.0969712874022195,
          0.3473526081448124,
          -0.29281946333539144,
          -0.2509549420532031,
          -0.3061256377883441,
          1.3902170625347905,
          -0.9259520580631952,
          -0.009432159417801187,
          1.523725010502992,
          0.34385267917642814,
          1.4772053444925928,
          -0.4082484014290334,
          0.7382134363263652,
          -0.3025262547599922,
          0.5470555114079414,
          0.5339784083159647,
          -1.1591477658982403,
          -0.9708768502741114,
          -0.11927625677149634,
          -0.022196304695391997,
          -0.900457240032403,
          -0.44110675079734035,
          -0.8585789973440638,
          -0.2914425339391632,
          2.227882850867543,
          1.0702082951462792,
          0.07071309975452389,
          -0.5691057750691288,
          0.1692865134523967,
          1.6944825274950712,
          0.8446781588450151
         ]
        }
       ],
       "layout": {}
      },
      "text/html": [
       "<div id=\"4567f9c7-04d1-46c1-a10c-26c192d8e3f1\" style=\"height: 525px; width: 100%;\" class=\"plotly-graph-div\"></div><script type=\"text/javascript\">require([\"plotly\"], function(Plotly) { window.PLOTLYENV=window.PLOTLYENV || {};window.PLOTLYENV.BASE_URL=\"https://plot.ly\";Plotly.newPlot(\"4567f9c7-04d1-46c1-a10c-26c192d8e3f1\", [{\"y\": [-1.0461966030433563, -2.3303687605460723, -0.22016710959110328, 0.061228306491185644, -0.7740551929364269, 0.0441864955643064, 0.3519530916229184, -0.7940344299043106, -0.6736619440799416, 0.5538893053076958, -1.1444062452792731, 0.01128918055167671, 0.12997677591954393, 0.41267440632856817, 0.38366683755828546, -0.3251869821836977, 0.09909767896037307, -1.1051861543882227, 0.1285390704226194, -1.268228909671604, -2.5490202517367453, 0.8278552809598163, -2.2732019796961573, 1.314658391160439, 1.0391187490748621, 1.9086960466419143, -1.5233292879341354, 1.2041164952490546, -0.4857454973629943, -0.5214154034933184, 0.7384743295364462, -0.7601188685130008, 1.0942511634025043, 0.19754505025519684, -0.8976754441477767, -1.0624788934587186, 0.00447847893509597, -0.24310020157840692, -1.3398030087594208, 1.132855581972722, 0.5304086047782806, -0.09441815058833652, 1.554093296785001, 0.3171264918346474, -1.3413508234034612, -0.37952374214017626, 0.579239388315475, -0.12267692429813414, -0.7269110541677141, -1.5378299934559914, 0.8415354739960351, 0.45436976380039795, 0.7008293776317317, -0.36600079982172984, -1.7079557783637564, -1.3480559229706282, 1.137771873348747, -0.044176368188843615, -0.27705358619479353, -0.7525474899987167, -1.5144137694570516, -0.3738720907229608, -0.5285613260080361, 0.7399366857167209, 0.3131226437621344, -2.153524814752991, 0.8715955337635131, -0.6373062236432261, 1.7857276430873532, 1.5585511458348313, -0.8316534511931802, -1.1849347161000672, -1.7315667750960317, 0.9605928772695532, -1.3788166833303501, 0.7829398356694334, -2.5443953295501993, 0.4423379639270524, -0.255883889372476, -0.9457042307124717, -0.8205110033614691, 0.6819300753395836, 1.6719072652208633, -1.5135453747215974, 0.8013422688318368, -0.15505476898806714, 0.7508297136651403, -0.2661996408144052, -2.0399590859949916, -1.7289978700360777, 0.3368963106153883, 0.9447510861493327, 0.4853485441466616, 0.7091424305757235, 0.46708797545081304, 2.408547076562091, -0.6689813772198305, 0.05242265784783609, 0.2035625274628645, 1.3810712118760258, -1.260401376993963, 0.46140847206130675, 0.521145622284772, 0.6185244016027792, -0.27175541387615826, 0.10665585229780059, 1.3801805979352106, -0.3149909206715544, -0.6979053511485674, 0.5616534054336928, -3.091131332505119, 0.40300373945189005, -0.3641247795688437, 1.2549151138845562, 0.3479202257543626, -0.4665174904702667, 0.1945541131288889, 1.8653186582863135, -1.1410695938962223, 1.1046460647893852, -0.21874513320062572, -2.0808603142561917, 0.27366301146241, -1.3676293286653598, 1.4151539108815947, -0.4224503095291406, 0.7461175471690491, 0.5574079826428995, -0.19362084918847192, -2.1183608905817004, 0.5507912677387797, -0.6372954620083533, 0.26301842178268864, 1.1033913674014104, 0.8615683273468551, -0.11283908081995551, -0.7011123341868951, 0.15248798220510115, -0.5193684301312331, -0.3756838238405831, 1.5721464798875144, -0.9154425961628835, -1.4081156759290248, -2.138976931473854, 0.13668311748132542, 1.1846777512802793, -0.5088298857674074, -0.9833056295440216, -0.6347099538955111, 1.690233478468001, -0.22533811605346446, 0.5033055106731966, -0.05379515323038281, -0.7235931206891134, 0.7003369689687317, 0.7601254096395087, 0.18320849819383386, 1.5710950483904227, 1.2408593899144733, -0.06540792491699088, -1.2518685063146342, -0.25583275107282033, 0.6094118819166237, 1.2150263073424372, 2.6602586240230153, 0.17126819079138178, 0.31641253069843894, 0.7814565474840137, 0.9816828659358116, 0.28137082649956, -0.7432287191074239, 2.4566170311965245, -1.172012515935066, 0.29823052303653197, -0.47208224980304475, 0.8072647555627023, -0.5541704244397637, 1.9305091553494673, 0.9813429901260535, -1.0346028433670087, 0.7645674817452446, 3.0422708756021732, 0.14083253128435796, -0.7415829946632214, 2.5236375377171094, -0.014702249999058696, 0.8171847726322953, -0.10921215286243156, 0.24204098826746015, -0.0410606846641878, 0.8307018281072394, 0.10275281038733713, -0.7788608905948379, -3.002463044046939, -0.7634634839732916, 0.5917102445306232, -0.4798744573448498, 1.351407611321355, 1.5442489808783153, -0.6366894930397953, 0.5807215720216516, -0.35899379192986236, 2.1731613876074025, -0.2826147556827527, 0.15293602110610957, 1.2459688501951744, -0.6647172539152396, -0.7982383866458197, -0.6495982073344082, -0.8841860354558994, -0.35331864114488554, -0.31214687999396745, -0.6470995709119853, -1.5978598124481265, -1.0059520991334434, -0.09250220825726242, 0.6910015555152145, 0.13286705827266793, 0.008080457169319596, 0.5981464057101613, -0.07895797094448297, -0.42551738805480377, 0.09612810182877982, -0.018517256358837927, 0.3607697609529477, -2.4324344413771293, -0.4382931254255699, -0.09905465693438983, -0.5957599521257712, -1.103023717869053, -1.3490130996735072, 2.2256126291613256, -1.9922908891136755, 0.8805195527587526, 0.7916568409908651, -1.0936167097758762, -1.1320624358100364, -1.7412222436624698, 0.5018817659180953, -0.7663669389957842, 0.736829296103047, -0.9771980664449174, -0.20178561689536226, 1.2394988299600718, -0.9639461300667999, 1.0410698304051196, -0.35141360258007215, 1.544244739816275, 1.6769104171400353, 0.8349896102157831, 0.9671956088480275, -0.941043989604027, 0.4070995740134692, -1.3985851946211758, 1.4915519352092341, -1.960927974134838, 0.3923417250920811, 0.2077971332907161, -0.5553721178403419, -1.9979043372019452, -1.7299820722544035, -0.1922956318247272, -1.1812252651851791, 0.6981606921559275, 0.5209313964431759, 0.37184640809202857, -0.745314623543589, -0.417330968271441, 0.09545434737795251, 1.782839076682014, -1.5911701189659901, 0.971551744020012, 0.909597928864202, 0.6492495865811816, 0.20823081560543213, -0.2387028402133544, 0.7510898144950549, 0.2957347314805056, -0.7518634054018831, 0.7982766212060849, -0.009613586326967702, -0.34613436687116544, -0.7680668604899569, 0.4209713568746891, -0.4977561176492686, -0.7711185011070258, -0.29132942990566013, 0.5068244157956815, 0.6500435653824947, 0.40602091892414977, 1.2980433310055786, -1.5279989363496478, 0.07220469400775245, -0.0568263855741546, 0.9720255010958293, 3.1010008628842014, 0.30193775582958315, -1.2809752466041147, -0.6076249224544678, 1.1229350217108243, 2.298313604131736, -0.5361658569329093, 1.0012726697281258, 0.5948997350074148, 2.020183249029111, -1.001848226658686, -0.2588527722263928, 0.049880960633657066, 0.42320977962095346, 0.8501571955670209, 0.968678319706183, -0.12009607627362416, 1.1674981917945533, 1.8074541007511504, -1.2572396863439923, 1.121270243832852, 0.8740307623013962, 0.584588125260107, 0.6301219895078279, 0.33785345886679874, -0.3364287001276063, -0.4748095742630188, -0.9152072248084219, 0.8225829620775357, -0.8495947778864184, -0.9148021776423737, -0.6463377225743808, 0.627842147534927, 0.4723824402863478, -0.39171538763940505, 1.5540882972638, 0.6484992454565347, 0.06315553929467374, -1.8727431972439597, 0.25923240686663723, 1.65829255627253, -0.23306002578946555, 0.931095033826895, 0.45169108091368987, 1.525626939841913, 0.3483876551903792, -1.081300091013763, 0.17670926487490932, -1.003166093492797, -0.2503883029838718, -0.17118500902612713, -0.7689701552526037, -0.3181608704094896, -2.3373653098936935, -1.1544267349493518, 0.005462477585338336, 0.1848324488106195, 0.09919398040747243, -1.1746088051797594, -0.6131149398842971, -0.4126640099915154, -0.5399353827127858, -0.4087019760757145, -1.0423056807484574, -0.048437500151760675, -0.23257241793885503, -0.20799256241259556, 0.6791274338170259, -2.7405136487811803, 0.7323919477756522, 1.2950704941304898, -0.7391507295427139, 1.9654112385880271, 0.43088556684552637, 0.08821495853993194, -0.1398353058122655, -0.8436214094506563, -0.07109696737620053, 0.46979108408418835, 0.4277363453603079, 0.03745585114293223, 0.6804162349625871, -0.2925014163620509, 0.3773318357240009, 1.1955140430049442, 0.3545863678526556, 0.6016796761196195, -0.8856442605674952, 0.660763114578669, -1.792402332870936, -0.2881693494672322, -0.33636565773941435, 0.11051756305632075, 0.6295522072899999, -0.2908635407001466, 0.8417923401780028, 1.193390003391867, -0.35811678527542806, 0.8040594711026541, -0.2997792397959137, 0.13496832419338156, -0.561099278142378, 1.4885065427554671, -0.848740117630675, 0.5050742562960754, 0.816978992355124, -2.0616746165564805, -0.802529072237972, 0.6528247289717793, 0.10194700214793967, 0.6088498420477885, 0.4919500966302592, 0.17156101498496307, -0.13929671000362348, 1.3823553325571951, -0.523004204870735, -1.4514073802450307, 0.1982250456780134, 0.735000544477031, 1.169049489042, -0.9557459006741369, 0.41915604568221076, 0.27686120125192004, 0.23608803094882705, -0.9284864400548414, -0.10572408892408355, 0.8640525281440121, -0.27135234269737163, 1.7745989172302838, 1.3801691710565593, -1.2181902209861555, 0.750076385134191, 1.7292940611131038, 0.7548177267802053, -0.9110749312924961, 0.8566059420845918, 0.4940535041386071, 1.0297170061721594, 0.7175462078271392, -0.8658469938168787, -0.21084152899201392, 0.8444892455291716, -0.3667070280828161, -1.090524182045781, 0.4840161985066235, -0.19831936833799463, -0.24005626018615012, 0.3838871287198544, 0.2610528045833843, 1.7481842240041998, -0.8165022354634424, -0.18191036562456173, 0.6133942583244962, 0.5131752264963324, 1.1214556758354226, 0.15894061969424159, 1.3881101433299157, 0.4382077819453682, -0.2538155108875939, -0.8236762278279206, -1.3162689055368662, -0.9785012843537352, -0.00187674073440881, 0.951386059281621, -0.5408237429744885, -1.7775733577185753, 1.1980969641839967, 0.3208001015157239, -1.0803753380830146, -0.0358748539834256, 1.8325958103216395, 1.3512877997272732, -0.1657230385898307, -0.7270985740510014, -1.0969712874022195, 0.3473526081448124, -0.29281946333539144, -0.2509549420532031, -0.3061256377883441, 1.3902170625347905, -0.9259520580631952, -0.009432159417801187, 1.523725010502992, 0.34385267917642814, 1.4772053444925928, -0.4082484014290334, 0.7382134363263652, -0.3025262547599922, 0.5470555114079414, 0.5339784083159647, -1.1591477658982403, -0.9708768502741114, -0.11927625677149634, -0.022196304695391997, -0.900457240032403, -0.44110675079734035, -0.8585789973440638, -0.2914425339391632, 2.227882850867543, 1.0702082951462792, 0.07071309975452389, -0.5691057750691288, 0.1692865134523967, 1.6944825274950712, 0.8446781588450151], \"x\": [0.0, 0.002004008016032064, 0.004008016032064128, 0.0060120240480961915, 0.008016032064128256, 0.01002004008016032, 0.012024048096192383, 0.014028056112224447, 0.01603206412825651, 0.018036072144288574, 0.02004008016032064, 0.022044088176352703, 0.024048096192384766, 0.026052104208416832, 0.028056112224448895, 0.03006012024048096, 0.03206412825651302, 0.03406813627254509, 0.03607214428857715, 0.038076152304609215, 0.04008016032064128, 0.04208416833667334, 0.044088176352705406, 0.04609218436873747, 0.04809619238476953, 0.0501002004008016, 0.052104208416833664, 0.05410821643286573, 0.05611222444889779, 0.058116232464929855, 0.06012024048096192, 0.06212424849699398, 0.06412825651302605, 0.06613226452905811, 0.06813627254509018, 0.07014028056112225, 0.0721442885771543, 0.07414829659318636, 0.07615230460921843, 0.0781563126252505, 0.08016032064128256, 0.08216432865731463, 0.08416833667334668, 0.08617234468937875, 0.08817635270541081, 0.09018036072144288, 0.09218436873747494, 0.09418837675350701, 0.09619238476953906, 0.09819639278557113, 0.1002004008016032, 0.10220440881763526, 0.10420841683366733, 0.1062124248496994, 0.10821643286573146, 0.11022044088176351, 0.11222444889779558, 0.11422845691382764, 0.11623246492985971, 0.11823647294589178, 0.12024048096192384, 0.1222444889779559, 0.12424849699398796, 0.12625250501002003, 0.1282565130260521, 0.13026052104208416, 0.13226452905811623, 0.1342685370741483, 0.13627254509018036, 0.13827655310621242, 0.1402805611222445, 0.14228456913827653, 0.1442885771543086, 0.14629258517034066, 0.14829659318637273, 0.1503006012024048, 0.15230460921843686, 0.15430861723446893, 0.156312625250501, 0.15831663326653306, 0.16032064128256512, 0.1623246492985972, 0.16432865731462926, 0.16633266533066132, 0.16833667334669336, 0.17034068136272543, 0.1723446893787575, 0.17434869739478956, 0.17635270541082163, 0.1783567134268537, 0.18036072144288576, 0.18236472945891782, 0.1843687374749499, 0.18637274549098196, 0.18837675350701402, 0.1903807615230461, 0.19238476953907813, 0.1943887775551102, 0.19639278557114226, 0.19839679358717432, 0.2004008016032064, 0.20240480961923846, 0.20440881763527052, 0.2064128256513026, 0.20841683366733466, 0.21042084168336672, 0.2124248496993988, 0.21442885771543085, 0.21643286573146292, 0.21843687374749496, 0.22044088176352702, 0.2224448897795591, 0.22444889779559116, 0.22645290581162322, 0.2284569138276553, 0.23046092184368736, 0.23246492985971942, 0.2344689378757515, 0.23647294589178355, 0.23847695390781562, 0.24048096192384769, 0.24248496993987975, 0.2444889779559118, 0.24649298597194386, 0.24849699398797592, 0.250501002004008, 0.25250501002004005, 0.2545090180360721, 0.2565130260521042, 0.25851703406813625, 0.2605210420841683, 0.2625250501002004, 0.26452905811623245, 0.2665330661322645, 0.2685370741482966, 0.27054108216432865, 0.2725450901803607, 0.2745490981963928, 0.27655310621242485, 0.2785571142284569, 0.280561122244489, 0.282565130260521, 0.28456913827655306, 0.2865731462925851, 0.2885771543086172, 0.29058116232464926, 0.2925851703406813, 0.2945891783567134, 0.29659318637274545, 0.2985971943887775, 0.3006012024048096, 0.30260521042084165, 0.3046092184368737, 0.3066132264529058, 0.30861723446893785, 0.3106212424849699, 0.312625250501002, 0.31462925851703405, 0.3166332665330661, 0.3186372745490982, 0.32064128256513025, 0.3226452905811623, 0.3246492985971944, 0.32665330661322645, 0.3286573146292585, 0.3306613226452906, 0.33266533066132264, 0.33466933867735466, 0.3366733466933867, 0.3386773547094188, 0.34068136272545085, 0.3426853707414829, 0.344689378757515, 0.34669338677354705, 0.3486973947895791, 0.3507014028056112, 0.35270541082164325, 0.3547094188376753, 0.3567134268537074, 0.35871743486973945, 0.3607214428857715, 0.3627254509018036, 0.36472945891783565, 0.3667334669338677, 0.3687374749498998, 0.37074148296593185, 0.3727454909819639, 0.374749498997996, 0.37675350701402804, 0.3787575150300601, 0.3807615230460922, 0.38276553106212424, 0.38476953907815625, 0.3867735470941883, 0.3887775551102204, 0.39078156312625245, 0.3927855711422845, 0.3947895791583166, 0.39679358717434865, 0.3987975951903807, 0.4008016032064128, 0.40280561122244485, 0.4048096192384769, 0.406813627254509, 0.40881763527054105, 0.4108216432865731, 0.4128256513026052, 0.41482965931863724, 0.4168336673346693, 0.4188376753507014, 0.42084168336673344, 0.4228456913827655, 0.4248496993987976, 0.42685370741482964, 0.4288577154308617, 0.4308617234468938, 0.43286573146292584, 0.4348697394789579, 0.4368737474949899, 0.438877755511022, 0.44088176352705405, 0.4428857715430861, 0.4448897795591182, 0.44689378757515025, 0.4488977955911823, 0.4509018036072144, 0.45290581162324645, 0.4549098196392785, 0.4569138276553106, 0.45891783567134264, 0.4609218436873747, 0.4629258517034068, 0.46492985971943884, 0.4669338677354709, 0.468937875751503, 0.47094188376753504, 0.4729458917835671, 0.4749498997995992, 0.47695390781563124, 0.4789579158316633, 0.48096192384769537, 0.48296593186372744, 0.4849699398797595, 0.48697394789579157, 0.4889779559118236, 0.49098196392785565, 0.4929859719438877, 0.4949899799599198, 0.49699398797595185, 0.4989979959919839, 0.501002004008016, 0.503006012024048, 0.5050100200400801, 0.5070140280561122, 0.5090180360721442, 0.5110220440881763, 0.5130260521042084, 0.5150300601202404, 0.5170340681362725, 0.5190380761523046, 0.5210420841683366, 0.5230460921843687, 0.5250501002004008, 0.5270541082164328, 0.5290581162324649, 0.531062124248497, 0.533066132264529, 0.5350701402805611, 0.5370741482965932, 0.5390781563126252, 0.5410821643286573, 0.5430861723446894, 0.5450901803607214, 0.5470941883767535, 0.5490981963927856, 0.5511022044088176, 0.5531062124248497, 0.5551102204408818, 0.5571142284569138, 0.5591182364729459, 0.561122244488978, 0.56312625250501, 0.565130260521042, 0.567134268537074, 0.5691382765531061, 0.5711422845691382, 0.5731462925851702, 0.5751503006012023, 0.5771543086172344, 0.5791583166332664, 0.5811623246492985, 0.5831663326653306, 0.5851703406813626, 0.5871743486973947, 0.5891783567134268, 0.5911823647294588, 0.5931863727454909, 0.595190380761523, 0.597194388777555, 0.5991983967935871, 0.6012024048096192, 0.6032064128256512, 0.6052104208416833, 0.6072144288577154, 0.6092184368737474, 0.6112224448897795, 0.6132264529058116, 0.6152304609218436, 0.6172344689378757, 0.6192384769539078, 0.6212424849699398, 0.6232464929859719, 0.625250501002004, 0.627254509018036, 0.6292585170340681, 0.6312625250501002, 0.6332665330661322, 0.6352705410821643, 0.6372745490981964, 0.6392785571142284, 0.6412825651302605, 0.6432865731462926, 0.6452905811623246, 0.6472945891783567, 0.6492985971943888, 0.6513026052104208, 0.6533066132264529, 0.655310621242485, 0.657314629258517, 0.6593186372745491, 0.6613226452905812, 0.6633266533066132, 0.6653306613226453, 0.6673346693386772, 0.6693386773547093, 0.6713426853707414, 0.6733466933867734, 0.6753507014028055, 0.6773547094188376, 0.6793587174348696, 0.6813627254509017, 0.6833667334669338, 0.6853707414829658, 0.6873747494989979, 0.68937875751503, 0.691382765531062, 0.6933867735470941, 0.6953907815631262, 0.6973947895791582, 0.6993987975951903, 0.7014028056112224, 0.7034068136272544, 0.7054108216432865, 0.7074148296593186, 0.7094188376753506, 0.7114228456913827, 0.7134268537074148, 0.7154308617234468, 0.7174348697394789, 0.719438877755511, 0.721442885771543, 0.7234468937875751, 0.7254509018036072, 0.7274549098196392, 0.7294589178356713, 0.7314629258517034, 0.7334669338677354, 0.7354709418837675, 0.7374749498997996, 0.7394789579158316, 0.7414829659318637, 0.7434869739478958, 0.7454909819639278, 0.7474949899799599, 0.749498997995992, 0.751503006012024, 0.7535070140280561, 0.7555110220440882, 0.7575150300601202, 0.7595190380761523, 0.7615230460921844, 0.7635270541082164, 0.7655310621242485, 0.7675350701402806, 0.7695390781563125, 0.7715430861723446, 0.7735470941883766, 0.7755511022044087, 0.7775551102204408, 0.7795591182364728, 0.7815631262525049, 0.783567134268537, 0.785571142284569, 0.7875751503006011, 0.7895791583166332, 0.7915831663326652, 0.7935871743486973, 0.7955911823647294, 0.7975951903807614, 0.7995991983967935, 0.8016032064128256, 0.8036072144288576, 0.8056112224448897, 0.8076152304609218, 0.8096192384769538, 0.8116232464929859, 0.813627254509018, 0.81563126252505, 0.8176352705410821, 0.8196392785571142, 0.8216432865731462, 0.8236472945891783, 0.8256513026052104, 0.8276553106212424, 0.8296593186372745, 0.8316633266533066, 0.8336673346693386, 0.8356713426853707, 0.8376753507014028, 0.8396793587174348, 0.8416833667334669, 0.843687374749499, 0.845691382765531, 0.8476953907815631, 0.8496993987975952, 0.8517034068136272, 0.8537074148296593, 0.8557114228456913, 0.8577154308617234, 0.8597194388777555, 0.8617234468937875, 0.8637274549098196, 0.8657314629258517, 0.8677354709418837, 0.8697394789579158, 0.8717434869739479, 0.8737474949899798, 0.8757515030060119, 0.877755511022044, 0.879759519038076, 0.8817635270541081, 0.8837675350701402, 0.8857715430861722, 0.8877755511022043, 0.8897795591182364, 0.8917835671342684, 0.8937875751503005, 0.8957915831663326, 0.8977955911823646, 0.8997995991983967, 0.9018036072144288, 0.9038076152304608, 0.9058116232464929, 0.907815631262525, 0.909819639278557, 0.9118236472945891, 0.9138276553106212, 0.9158316633266532, 0.9178356713426853, 0.9198396793587174, 0.9218436873747494, 0.9238476953907815, 0.9258517034068136, 0.9278557114228456, 0.9298597194388777, 0.9318637274549098, 0.9338677354709418, 0.9358717434869739, 0.937875751503006, 0.939879759519038, 0.9418837675350701, 0.9438877755511021, 0.9458917835671342, 0.9478957915831663, 0.9498997995991983, 0.9519038076152304, 0.9539078156312625, 0.9559118236472945, 0.9579158316633266, 0.9599198396793587, 0.9619238476953907, 0.9639278557114228, 0.9659318637274549, 0.9679358717434869, 0.969939879759519, 0.9719438877755511, 0.9739478957915831, 0.9759519038076151, 0.9779559118236472, 0.9799599198396792, 0.9819639278557113, 0.9839679358717434, 0.9859719438877754, 0.9879759519038075, 0.9899799599198396, 0.9919839679358716, 0.9939879759519037, 0.9959919839679358, 0.9979959919839678, 1.0], \"type\": \"scatter\"}], {}, {\"linkText\": \"Export to plot.ly\", \"showLink\": true})});</script>"
      ],
      "text/vnd.plotly.v1+html": [
       "<div id=\"4567f9c7-04d1-46c1-a10c-26c192d8e3f1\" style=\"height: 525px; width: 100%;\" class=\"plotly-graph-div\"></div><script type=\"text/javascript\">require([\"plotly\"], function(Plotly) { window.PLOTLYENV=window.PLOTLYENV || {};window.PLOTLYENV.BASE_URL=\"https://plot.ly\";Plotly.newPlot(\"4567f9c7-04d1-46c1-a10c-26c192d8e3f1\", [{\"y\": [-1.0461966030433563, -2.3303687605460723, -0.22016710959110328, 0.061228306491185644, -0.7740551929364269, 0.0441864955643064, 0.3519530916229184, -0.7940344299043106, -0.6736619440799416, 0.5538893053076958, -1.1444062452792731, 0.01128918055167671, 0.12997677591954393, 0.41267440632856817, 0.38366683755828546, -0.3251869821836977, 0.09909767896037307, -1.1051861543882227, 0.1285390704226194, -1.268228909671604, -2.5490202517367453, 0.8278552809598163, -2.2732019796961573, 1.314658391160439, 1.0391187490748621, 1.9086960466419143, -1.5233292879341354, 1.2041164952490546, -0.4857454973629943, -0.5214154034933184, 0.7384743295364462, -0.7601188685130008, 1.0942511634025043, 0.19754505025519684, -0.8976754441477767, -1.0624788934587186, 0.00447847893509597, -0.24310020157840692, -1.3398030087594208, 1.132855581972722, 0.5304086047782806, -0.09441815058833652, 1.554093296785001, 0.3171264918346474, -1.3413508234034612, -0.37952374214017626, 0.579239388315475, -0.12267692429813414, -0.7269110541677141, -1.5378299934559914, 0.8415354739960351, 0.45436976380039795, 0.7008293776317317, -0.36600079982172984, -1.7079557783637564, -1.3480559229706282, 1.137771873348747, -0.044176368188843615, -0.27705358619479353, -0.7525474899987167, -1.5144137694570516, -0.3738720907229608, -0.5285613260080361, 0.7399366857167209, 0.3131226437621344, -2.153524814752991, 0.8715955337635131, -0.6373062236432261, 1.7857276430873532, 1.5585511458348313, -0.8316534511931802, -1.1849347161000672, -1.7315667750960317, 0.9605928772695532, -1.3788166833303501, 0.7829398356694334, -2.5443953295501993, 0.4423379639270524, -0.255883889372476, -0.9457042307124717, -0.8205110033614691, 0.6819300753395836, 1.6719072652208633, -1.5135453747215974, 0.8013422688318368, -0.15505476898806714, 0.7508297136651403, -0.2661996408144052, -2.0399590859949916, -1.7289978700360777, 0.3368963106153883, 0.9447510861493327, 0.4853485441466616, 0.7091424305757235, 0.46708797545081304, 2.408547076562091, -0.6689813772198305, 0.05242265784783609, 0.2035625274628645, 1.3810712118760258, -1.260401376993963, 0.46140847206130675, 0.521145622284772, 0.6185244016027792, -0.27175541387615826, 0.10665585229780059, 1.3801805979352106, -0.3149909206715544, -0.6979053511485674, 0.5616534054336928, -3.091131332505119, 0.40300373945189005, -0.3641247795688437, 1.2549151138845562, 0.3479202257543626, -0.4665174904702667, 0.1945541131288889, 1.8653186582863135, -1.1410695938962223, 1.1046460647893852, -0.21874513320062572, -2.0808603142561917, 0.27366301146241, -1.3676293286653598, 1.4151539108815947, -0.4224503095291406, 0.7461175471690491, 0.5574079826428995, -0.19362084918847192, -2.1183608905817004, 0.5507912677387797, -0.6372954620083533, 0.26301842178268864, 1.1033913674014104, 0.8615683273468551, -0.11283908081995551, -0.7011123341868951, 0.15248798220510115, -0.5193684301312331, -0.3756838238405831, 1.5721464798875144, -0.9154425961628835, -1.4081156759290248, -2.138976931473854, 0.13668311748132542, 1.1846777512802793, -0.5088298857674074, -0.9833056295440216, -0.6347099538955111, 1.690233478468001, -0.22533811605346446, 0.5033055106731966, -0.05379515323038281, -0.7235931206891134, 0.7003369689687317, 0.7601254096395087, 0.18320849819383386, 1.5710950483904227, 1.2408593899144733, -0.06540792491699088, -1.2518685063146342, -0.25583275107282033, 0.6094118819166237, 1.2150263073424372, 2.6602586240230153, 0.17126819079138178, 0.31641253069843894, 0.7814565474840137, 0.9816828659358116, 0.28137082649956, -0.7432287191074239, 2.4566170311965245, -1.172012515935066, 0.29823052303653197, -0.47208224980304475, 0.8072647555627023, -0.5541704244397637, 1.9305091553494673, 0.9813429901260535, -1.0346028433670087, 0.7645674817452446, 3.0422708756021732, 0.14083253128435796, -0.7415829946632214, 2.5236375377171094, -0.014702249999058696, 0.8171847726322953, -0.10921215286243156, 0.24204098826746015, -0.0410606846641878, 0.8307018281072394, 0.10275281038733713, -0.7788608905948379, -3.002463044046939, -0.7634634839732916, 0.5917102445306232, -0.4798744573448498, 1.351407611321355, 1.5442489808783153, -0.6366894930397953, 0.5807215720216516, -0.35899379192986236, 2.1731613876074025, -0.2826147556827527, 0.15293602110610957, 1.2459688501951744, -0.6647172539152396, -0.7982383866458197, -0.6495982073344082, -0.8841860354558994, -0.35331864114488554, -0.31214687999396745, -0.6470995709119853, -1.5978598124481265, -1.0059520991334434, -0.09250220825726242, 0.6910015555152145, 0.13286705827266793, 0.008080457169319596, 0.5981464057101613, -0.07895797094448297, -0.42551738805480377, 0.09612810182877982, -0.018517256358837927, 0.3607697609529477, -2.4324344413771293, -0.4382931254255699, -0.09905465693438983, -0.5957599521257712, -1.103023717869053, -1.3490130996735072, 2.2256126291613256, -1.9922908891136755, 0.8805195527587526, 0.7916568409908651, -1.0936167097758762, -1.1320624358100364, -1.7412222436624698, 0.5018817659180953, -0.7663669389957842, 0.736829296103047, -0.9771980664449174, -0.20178561689536226, 1.2394988299600718, -0.9639461300667999, 1.0410698304051196, -0.35141360258007215, 1.544244739816275, 1.6769104171400353, 0.8349896102157831, 0.9671956088480275, -0.941043989604027, 0.4070995740134692, -1.3985851946211758, 1.4915519352092341, -1.960927974134838, 0.3923417250920811, 0.2077971332907161, -0.5553721178403419, -1.9979043372019452, -1.7299820722544035, -0.1922956318247272, -1.1812252651851791, 0.6981606921559275, 0.5209313964431759, 0.37184640809202857, -0.745314623543589, -0.417330968271441, 0.09545434737795251, 1.782839076682014, -1.5911701189659901, 0.971551744020012, 0.909597928864202, 0.6492495865811816, 0.20823081560543213, -0.2387028402133544, 0.7510898144950549, 0.2957347314805056, -0.7518634054018831, 0.7982766212060849, -0.009613586326967702, -0.34613436687116544, -0.7680668604899569, 0.4209713568746891, -0.4977561176492686, -0.7711185011070258, -0.29132942990566013, 0.5068244157956815, 0.6500435653824947, 0.40602091892414977, 1.2980433310055786, -1.5279989363496478, 0.07220469400775245, -0.0568263855741546, 0.9720255010958293, 3.1010008628842014, 0.30193775582958315, -1.2809752466041147, -0.6076249224544678, 1.1229350217108243, 2.298313604131736, -0.5361658569329093, 1.0012726697281258, 0.5948997350074148, 2.020183249029111, -1.001848226658686, -0.2588527722263928, 0.049880960633657066, 0.42320977962095346, 0.8501571955670209, 0.968678319706183, -0.12009607627362416, 1.1674981917945533, 1.8074541007511504, -1.2572396863439923, 1.121270243832852, 0.8740307623013962, 0.584588125260107, 0.6301219895078279, 0.33785345886679874, -0.3364287001276063, -0.4748095742630188, -0.9152072248084219, 0.8225829620775357, -0.8495947778864184, -0.9148021776423737, -0.6463377225743808, 0.627842147534927, 0.4723824402863478, -0.39171538763940505, 1.5540882972638, 0.6484992454565347, 0.06315553929467374, -1.8727431972439597, 0.25923240686663723, 1.65829255627253, -0.23306002578946555, 0.931095033826895, 0.45169108091368987, 1.525626939841913, 0.3483876551903792, -1.081300091013763, 0.17670926487490932, -1.003166093492797, -0.2503883029838718, -0.17118500902612713, -0.7689701552526037, -0.3181608704094896, -2.3373653098936935, -1.1544267349493518, 0.005462477585338336, 0.1848324488106195, 0.09919398040747243, -1.1746088051797594, -0.6131149398842971, -0.4126640099915154, -0.5399353827127858, -0.4087019760757145, -1.0423056807484574, -0.048437500151760675, -0.23257241793885503, -0.20799256241259556, 0.6791274338170259, -2.7405136487811803, 0.7323919477756522, 1.2950704941304898, -0.7391507295427139, 1.9654112385880271, 0.43088556684552637, 0.08821495853993194, -0.1398353058122655, -0.8436214094506563, -0.07109696737620053, 0.46979108408418835, 0.4277363453603079, 0.03745585114293223, 0.6804162349625871, -0.2925014163620509, 0.3773318357240009, 1.1955140430049442, 0.3545863678526556, 0.6016796761196195, -0.8856442605674952, 0.660763114578669, -1.792402332870936, -0.2881693494672322, -0.33636565773941435, 0.11051756305632075, 0.6295522072899999, -0.2908635407001466, 0.8417923401780028, 1.193390003391867, -0.35811678527542806, 0.8040594711026541, -0.2997792397959137, 0.13496832419338156, -0.561099278142378, 1.4885065427554671, -0.848740117630675, 0.5050742562960754, 0.816978992355124, -2.0616746165564805, -0.802529072237972, 0.6528247289717793, 0.10194700214793967, 0.6088498420477885, 0.4919500966302592, 0.17156101498496307, -0.13929671000362348, 1.3823553325571951, -0.523004204870735, -1.4514073802450307, 0.1982250456780134, 0.735000544477031, 1.169049489042, -0.9557459006741369, 0.41915604568221076, 0.27686120125192004, 0.23608803094882705, -0.9284864400548414, -0.10572408892408355, 0.8640525281440121, -0.27135234269737163, 1.7745989172302838, 1.3801691710565593, -1.2181902209861555, 0.750076385134191, 1.7292940611131038, 0.7548177267802053, -0.9110749312924961, 0.8566059420845918, 0.4940535041386071, 1.0297170061721594, 0.7175462078271392, -0.8658469938168787, -0.21084152899201392, 0.8444892455291716, -0.3667070280828161, -1.090524182045781, 0.4840161985066235, -0.19831936833799463, -0.24005626018615012, 0.3838871287198544, 0.2610528045833843, 1.7481842240041998, -0.8165022354634424, -0.18191036562456173, 0.6133942583244962, 0.5131752264963324, 1.1214556758354226, 0.15894061969424159, 1.3881101433299157, 0.4382077819453682, -0.2538155108875939, -0.8236762278279206, -1.3162689055368662, -0.9785012843537352, -0.00187674073440881, 0.951386059281621, -0.5408237429744885, -1.7775733577185753, 1.1980969641839967, 0.3208001015157239, -1.0803753380830146, -0.0358748539834256, 1.8325958103216395, 1.3512877997272732, -0.1657230385898307, -0.7270985740510014, -1.0969712874022195, 0.3473526081448124, -0.29281946333539144, -0.2509549420532031, -0.3061256377883441, 1.3902170625347905, -0.9259520580631952, -0.009432159417801187, 1.523725010502992, 0.34385267917642814, 1.4772053444925928, -0.4082484014290334, 0.7382134363263652, -0.3025262547599922, 0.5470555114079414, 0.5339784083159647, -1.1591477658982403, -0.9708768502741114, -0.11927625677149634, -0.022196304695391997, -0.900457240032403, -0.44110675079734035, -0.8585789973440638, -0.2914425339391632, 2.227882850867543, 1.0702082951462792, 0.07071309975452389, -0.5691057750691288, 0.1692865134523967, 1.6944825274950712, 0.8446781588450151], \"x\": [0.0, 0.002004008016032064, 0.004008016032064128, 0.0060120240480961915, 0.008016032064128256, 0.01002004008016032, 0.012024048096192383, 0.014028056112224447, 0.01603206412825651, 0.018036072144288574, 0.02004008016032064, 0.022044088176352703, 0.024048096192384766, 0.026052104208416832, 0.028056112224448895, 0.03006012024048096, 0.03206412825651302, 0.03406813627254509, 0.03607214428857715, 0.038076152304609215, 0.04008016032064128, 0.04208416833667334, 0.044088176352705406, 0.04609218436873747, 0.04809619238476953, 0.0501002004008016, 0.052104208416833664, 0.05410821643286573, 0.05611222444889779, 0.058116232464929855, 0.06012024048096192, 0.06212424849699398, 0.06412825651302605, 0.06613226452905811, 0.06813627254509018, 0.07014028056112225, 0.0721442885771543, 0.07414829659318636, 0.07615230460921843, 0.0781563126252505, 0.08016032064128256, 0.08216432865731463, 0.08416833667334668, 0.08617234468937875, 0.08817635270541081, 0.09018036072144288, 0.09218436873747494, 0.09418837675350701, 0.09619238476953906, 0.09819639278557113, 0.1002004008016032, 0.10220440881763526, 0.10420841683366733, 0.1062124248496994, 0.10821643286573146, 0.11022044088176351, 0.11222444889779558, 0.11422845691382764, 0.11623246492985971, 0.11823647294589178, 0.12024048096192384, 0.1222444889779559, 0.12424849699398796, 0.12625250501002003, 0.1282565130260521, 0.13026052104208416, 0.13226452905811623, 0.1342685370741483, 0.13627254509018036, 0.13827655310621242, 0.1402805611222445, 0.14228456913827653, 0.1442885771543086, 0.14629258517034066, 0.14829659318637273, 0.1503006012024048, 0.15230460921843686, 0.15430861723446893, 0.156312625250501, 0.15831663326653306, 0.16032064128256512, 0.1623246492985972, 0.16432865731462926, 0.16633266533066132, 0.16833667334669336, 0.17034068136272543, 0.1723446893787575, 0.17434869739478956, 0.17635270541082163, 0.1783567134268537, 0.18036072144288576, 0.18236472945891782, 0.1843687374749499, 0.18637274549098196, 0.18837675350701402, 0.1903807615230461, 0.19238476953907813, 0.1943887775551102, 0.19639278557114226, 0.19839679358717432, 0.2004008016032064, 0.20240480961923846, 0.20440881763527052, 0.2064128256513026, 0.20841683366733466, 0.21042084168336672, 0.2124248496993988, 0.21442885771543085, 0.21643286573146292, 0.21843687374749496, 0.22044088176352702, 0.2224448897795591, 0.22444889779559116, 0.22645290581162322, 0.2284569138276553, 0.23046092184368736, 0.23246492985971942, 0.2344689378757515, 0.23647294589178355, 0.23847695390781562, 0.24048096192384769, 0.24248496993987975, 0.2444889779559118, 0.24649298597194386, 0.24849699398797592, 0.250501002004008, 0.25250501002004005, 0.2545090180360721, 0.2565130260521042, 0.25851703406813625, 0.2605210420841683, 0.2625250501002004, 0.26452905811623245, 0.2665330661322645, 0.2685370741482966, 0.27054108216432865, 0.2725450901803607, 0.2745490981963928, 0.27655310621242485, 0.2785571142284569, 0.280561122244489, 0.282565130260521, 0.28456913827655306, 0.2865731462925851, 0.2885771543086172, 0.29058116232464926, 0.2925851703406813, 0.2945891783567134, 0.29659318637274545, 0.2985971943887775, 0.3006012024048096, 0.30260521042084165, 0.3046092184368737, 0.3066132264529058, 0.30861723446893785, 0.3106212424849699, 0.312625250501002, 0.31462925851703405, 0.3166332665330661, 0.3186372745490982, 0.32064128256513025, 0.3226452905811623, 0.3246492985971944, 0.32665330661322645, 0.3286573146292585, 0.3306613226452906, 0.33266533066132264, 0.33466933867735466, 0.3366733466933867, 0.3386773547094188, 0.34068136272545085, 0.3426853707414829, 0.344689378757515, 0.34669338677354705, 0.3486973947895791, 0.3507014028056112, 0.35270541082164325, 0.3547094188376753, 0.3567134268537074, 0.35871743486973945, 0.3607214428857715, 0.3627254509018036, 0.36472945891783565, 0.3667334669338677, 0.3687374749498998, 0.37074148296593185, 0.3727454909819639, 0.374749498997996, 0.37675350701402804, 0.3787575150300601, 0.3807615230460922, 0.38276553106212424, 0.38476953907815625, 0.3867735470941883, 0.3887775551102204, 0.39078156312625245, 0.3927855711422845, 0.3947895791583166, 0.39679358717434865, 0.3987975951903807, 0.4008016032064128, 0.40280561122244485, 0.4048096192384769, 0.406813627254509, 0.40881763527054105, 0.4108216432865731, 0.4128256513026052, 0.41482965931863724, 0.4168336673346693, 0.4188376753507014, 0.42084168336673344, 0.4228456913827655, 0.4248496993987976, 0.42685370741482964, 0.4288577154308617, 0.4308617234468938, 0.43286573146292584, 0.4348697394789579, 0.4368737474949899, 0.438877755511022, 0.44088176352705405, 0.4428857715430861, 0.4448897795591182, 0.44689378757515025, 0.4488977955911823, 0.4509018036072144, 0.45290581162324645, 0.4549098196392785, 0.4569138276553106, 0.45891783567134264, 0.4609218436873747, 0.4629258517034068, 0.46492985971943884, 0.4669338677354709, 0.468937875751503, 0.47094188376753504, 0.4729458917835671, 0.4749498997995992, 0.47695390781563124, 0.4789579158316633, 0.48096192384769537, 0.48296593186372744, 0.4849699398797595, 0.48697394789579157, 0.4889779559118236, 0.49098196392785565, 0.4929859719438877, 0.4949899799599198, 0.49699398797595185, 0.4989979959919839, 0.501002004008016, 0.503006012024048, 0.5050100200400801, 0.5070140280561122, 0.5090180360721442, 0.5110220440881763, 0.5130260521042084, 0.5150300601202404, 0.5170340681362725, 0.5190380761523046, 0.5210420841683366, 0.5230460921843687, 0.5250501002004008, 0.5270541082164328, 0.5290581162324649, 0.531062124248497, 0.533066132264529, 0.5350701402805611, 0.5370741482965932, 0.5390781563126252, 0.5410821643286573, 0.5430861723446894, 0.5450901803607214, 0.5470941883767535, 0.5490981963927856, 0.5511022044088176, 0.5531062124248497, 0.5551102204408818, 0.5571142284569138, 0.5591182364729459, 0.561122244488978, 0.56312625250501, 0.565130260521042, 0.567134268537074, 0.5691382765531061, 0.5711422845691382, 0.5731462925851702, 0.5751503006012023, 0.5771543086172344, 0.5791583166332664, 0.5811623246492985, 0.5831663326653306, 0.5851703406813626, 0.5871743486973947, 0.5891783567134268, 0.5911823647294588, 0.5931863727454909, 0.595190380761523, 0.597194388777555, 0.5991983967935871, 0.6012024048096192, 0.6032064128256512, 0.6052104208416833, 0.6072144288577154, 0.6092184368737474, 0.6112224448897795, 0.6132264529058116, 0.6152304609218436, 0.6172344689378757, 0.6192384769539078, 0.6212424849699398, 0.6232464929859719, 0.625250501002004, 0.627254509018036, 0.6292585170340681, 0.6312625250501002, 0.6332665330661322, 0.6352705410821643, 0.6372745490981964, 0.6392785571142284, 0.6412825651302605, 0.6432865731462926, 0.6452905811623246, 0.6472945891783567, 0.6492985971943888, 0.6513026052104208, 0.6533066132264529, 0.655310621242485, 0.657314629258517, 0.6593186372745491, 0.6613226452905812, 0.6633266533066132, 0.6653306613226453, 0.6673346693386772, 0.6693386773547093, 0.6713426853707414, 0.6733466933867734, 0.6753507014028055, 0.6773547094188376, 0.6793587174348696, 0.6813627254509017, 0.6833667334669338, 0.6853707414829658, 0.6873747494989979, 0.68937875751503, 0.691382765531062, 0.6933867735470941, 0.6953907815631262, 0.6973947895791582, 0.6993987975951903, 0.7014028056112224, 0.7034068136272544, 0.7054108216432865, 0.7074148296593186, 0.7094188376753506, 0.7114228456913827, 0.7134268537074148, 0.7154308617234468, 0.7174348697394789, 0.719438877755511, 0.721442885771543, 0.7234468937875751, 0.7254509018036072, 0.7274549098196392, 0.7294589178356713, 0.7314629258517034, 0.7334669338677354, 0.7354709418837675, 0.7374749498997996, 0.7394789579158316, 0.7414829659318637, 0.7434869739478958, 0.7454909819639278, 0.7474949899799599, 0.749498997995992, 0.751503006012024, 0.7535070140280561, 0.7555110220440882, 0.7575150300601202, 0.7595190380761523, 0.7615230460921844, 0.7635270541082164, 0.7655310621242485, 0.7675350701402806, 0.7695390781563125, 0.7715430861723446, 0.7735470941883766, 0.7755511022044087, 0.7775551102204408, 0.7795591182364728, 0.7815631262525049, 0.783567134268537, 0.785571142284569, 0.7875751503006011, 0.7895791583166332, 0.7915831663326652, 0.7935871743486973, 0.7955911823647294, 0.7975951903807614, 0.7995991983967935, 0.8016032064128256, 0.8036072144288576, 0.8056112224448897, 0.8076152304609218, 0.8096192384769538, 0.8116232464929859, 0.813627254509018, 0.81563126252505, 0.8176352705410821, 0.8196392785571142, 0.8216432865731462, 0.8236472945891783, 0.8256513026052104, 0.8276553106212424, 0.8296593186372745, 0.8316633266533066, 0.8336673346693386, 0.8356713426853707, 0.8376753507014028, 0.8396793587174348, 0.8416833667334669, 0.843687374749499, 0.845691382765531, 0.8476953907815631, 0.8496993987975952, 0.8517034068136272, 0.8537074148296593, 0.8557114228456913, 0.8577154308617234, 0.8597194388777555, 0.8617234468937875, 0.8637274549098196, 0.8657314629258517, 0.8677354709418837, 0.8697394789579158, 0.8717434869739479, 0.8737474949899798, 0.8757515030060119, 0.877755511022044, 0.879759519038076, 0.8817635270541081, 0.8837675350701402, 0.8857715430861722, 0.8877755511022043, 0.8897795591182364, 0.8917835671342684, 0.8937875751503005, 0.8957915831663326, 0.8977955911823646, 0.8997995991983967, 0.9018036072144288, 0.9038076152304608, 0.9058116232464929, 0.907815631262525, 0.909819639278557, 0.9118236472945891, 0.9138276553106212, 0.9158316633266532, 0.9178356713426853, 0.9198396793587174, 0.9218436873747494, 0.9238476953907815, 0.9258517034068136, 0.9278557114228456, 0.9298597194388777, 0.9318637274549098, 0.9338677354709418, 0.9358717434869739, 0.937875751503006, 0.939879759519038, 0.9418837675350701, 0.9438877755511021, 0.9458917835671342, 0.9478957915831663, 0.9498997995991983, 0.9519038076152304, 0.9539078156312625, 0.9559118236472945, 0.9579158316633266, 0.9599198396793587, 0.9619238476953907, 0.9639278557114228, 0.9659318637274549, 0.9679358717434869, 0.969939879759519, 0.9719438877755511, 0.9739478957915831, 0.9759519038076151, 0.9779559118236472, 0.9799599198396792, 0.9819639278557113, 0.9839679358717434, 0.9859719438877754, 0.9879759519038075, 0.9899799599198396, 0.9919839679358716, 0.9939879759519037, 0.9959919839679358, 0.9979959919839678, 1.0], \"type\": \"scatter\"}], {}, {\"linkText\": \"Export to plot.ly\", \"showLink\": true})});</script>"
      ]
     },
     "metadata": {},
     "output_type": "display_data"
    }
   ],
   "source": [
    "# example plot of time series\n",
    "\n",
    "# Create random data with numpy\n",
    "import numpy as np\n",
    "\n",
    "N = 500\n",
    "random_x = np.linspace(0, 1, N)\n",
    "random_y = np.random.randn(N)\n",
    "\n",
    "# Create a trace\n",
    "trace = go.Scatter(\n",
    "    x = random_x,\n",
    "    y = random_y\n",
    ")\n",
    "\n",
    "data = [trace]\n",
    "\n",
    "plotly.offline.iplot(data, filename='basic-line')"
   ]
  },
  {
   "cell_type": "code",
   "execution_count": 11,
   "metadata": {},
   "outputs": [
    {
     "data": {
      "application/vnd.plotly.v1+json": {
       "data": [
        {
         "marker": {
          "color": "white"
         },
         "name": "",
         "type": "scatter",
         "x": [
          "2009-01-01",
          "2009-02-30"
         ],
         "y": [
          0,
          0
         ]
        },
        {
         "marker": {
          "color": "white"
         },
         "name": "",
         "type": "scatter",
         "x": [
          "2009-03-05",
          "2009-04-15"
         ],
         "y": [
          1,
          1
         ]
        },
        {
         "marker": {
          "color": "white"
         },
         "name": "",
         "type": "scatter",
         "x": [
          "2009-02-20",
          "2009-05-30"
         ],
         "y": [
          2,
          2
         ]
        }
       ],
       "layout": {
        "height": 600,
        "hovermode": "closest",
        "shapes": [
         {
          "fillcolor": "rgb(31, 119, 180)",
          "line": {
           "width": 0
          },
          "opacity": 1,
          "type": "rect",
          "x0": "2009-01-01",
          "x1": "2009-02-30",
          "xref": "x",
          "y0": -0.2,
          "y1": 0.2,
          "yref": "y"
         },
         {
          "fillcolor": "rgb(255, 127, 14)",
          "line": {
           "width": 0
          },
          "opacity": 1,
          "type": "rect",
          "x0": "2009-03-05",
          "x1": "2009-04-15",
          "xref": "x",
          "y0": 0.8,
          "y1": 1.2,
          "yref": "y"
         },
         {
          "fillcolor": "rgb(44, 160, 44)",
          "line": {
           "width": 0
          },
          "opacity": 1,
          "type": "rect",
          "x0": "2009-02-20",
          "x1": "2009-05-30",
          "xref": "x",
          "y0": 1.8,
          "y1": 2.2,
          "yref": "y"
         }
        ],
        "showlegend": false,
        "title": "Gantt Chart",
        "width": 900,
        "xaxis": {
         "rangeselector": {
          "buttons": [
           {
            "count": 7,
            "label": "1w",
            "step": "day",
            "stepmode": "backward"
           },
           {
            "count": 1,
            "label": "1m",
            "step": "month",
            "stepmode": "backward"
           },
           {
            "count": 6,
            "label": "6m",
            "step": "month",
            "stepmode": "backward"
           },
           {
            "count": 1,
            "label": "YTD",
            "step": "year",
            "stepmode": "todate"
           },
           {
            "count": 1,
            "label": "1y",
            "step": "year",
            "stepmode": "backward"
           },
           {
            "step": "all"
           }
          ]
         },
         "showgrid": false,
         "type": "date",
         "zeroline": false
        },
        "yaxis": {
         "autorange": false,
         "range": [
          -1,
          4
         ],
         "showgrid": false,
         "ticktext": [
          "Job A",
          "Job B",
          "Job C"
         ],
         "tickvals": [
          0,
          1,
          2
         ],
         "zeroline": false
        }
       }
      },
      "text/html": [
       "<div id=\"26234548-3e76-4ba2-9e24-6e2318145832\" style=\"height: 600px; width: 900px;\" class=\"plotly-graph-div\"></div><script type=\"text/javascript\">require([\"plotly\"], function(Plotly) { window.PLOTLYENV=window.PLOTLYENV || {};window.PLOTLYENV.BASE_URL=\"https://plot.ly\";Plotly.newPlot(\"26234548-3e76-4ba2-9e24-6e2318145832\", [{\"marker\": {\"color\": \"white\"}, \"y\": [0, 0], \"type\": \"scatter\", \"name\": \"\", \"x\": [\"2009-01-01\", \"2009-02-30\"]}, {\"marker\": {\"color\": \"white\"}, \"y\": [1, 1], \"type\": \"scatter\", \"name\": \"\", \"x\": [\"2009-03-05\", \"2009-04-15\"]}, {\"marker\": {\"color\": \"white\"}, \"y\": [2, 2], \"type\": \"scatter\", \"name\": \"\", \"x\": [\"2009-02-20\", \"2009-05-30\"]}], {\"showlegend\": false, \"title\": \"Gantt Chart\", \"yaxis\": {\"showgrid\": false, \"range\": [-1, 4], \"zeroline\": false, \"ticktext\": [\"Job A\", \"Job B\", \"Job C\"], \"autorange\": false, \"tickvals\": [0, 1, 2]}, \"height\": 600, \"shapes\": [{\"opacity\": 1, \"xref\": \"x\", \"yref\": \"y\", \"fillcolor\": \"rgb(31, 119, 180)\", \"y1\": 0.2, \"y0\": -0.2, \"x0\": \"2009-01-01\", \"x1\": \"2009-02-30\", \"type\": \"rect\", \"line\": {\"width\": 0}}, {\"opacity\": 1, \"xref\": \"x\", \"yref\": \"y\", \"fillcolor\": \"rgb(255, 127, 14)\", \"y1\": 1.2, \"y0\": 0.8, \"x0\": \"2009-03-05\", \"x1\": \"2009-04-15\", \"type\": \"rect\", \"line\": {\"width\": 0}}, {\"opacity\": 1, \"xref\": \"x\", \"yref\": \"y\", \"fillcolor\": \"rgb(44, 160, 44)\", \"y1\": 2.2, \"y0\": 1.8, \"x0\": \"2009-02-20\", \"x1\": \"2009-05-30\", \"type\": \"rect\", \"line\": {\"width\": 0}}], \"width\": 900, \"xaxis\": {\"zeroline\": false, \"rangeselector\": {\"buttons\": [{\"count\": 7, \"step\": \"day\", \"stepmode\": \"backward\", \"label\": \"1w\"}, {\"count\": 1, \"step\": \"month\", \"stepmode\": \"backward\", \"label\": \"1m\"}, {\"count\": 6, \"step\": \"month\", \"stepmode\": \"backward\", \"label\": \"6m\"}, {\"count\": 1, \"step\": \"year\", \"stepmode\": \"todate\", \"label\": \"YTD\"}, {\"count\": 1, \"step\": \"year\", \"stepmode\": \"backward\", \"label\": \"1y\"}, {\"step\": \"all\"}]}, \"type\": \"date\", \"showgrid\": false}, \"hovermode\": \"closest\"}, {\"linkText\": \"Export to plot.ly\", \"showLink\": true})});</script>"
      ],
      "text/vnd.plotly.v1+html": [
       "<div id=\"26234548-3e76-4ba2-9e24-6e2318145832\" style=\"height: 600px; width: 900px;\" class=\"plotly-graph-div\"></div><script type=\"text/javascript\">require([\"plotly\"], function(Plotly) { window.PLOTLYENV=window.PLOTLYENV || {};window.PLOTLYENV.BASE_URL=\"https://plot.ly\";Plotly.newPlot(\"26234548-3e76-4ba2-9e24-6e2318145832\", [{\"marker\": {\"color\": \"white\"}, \"y\": [0, 0], \"type\": \"scatter\", \"name\": \"\", \"x\": [\"2009-01-01\", \"2009-02-30\"]}, {\"marker\": {\"color\": \"white\"}, \"y\": [1, 1], \"type\": \"scatter\", \"name\": \"\", \"x\": [\"2009-03-05\", \"2009-04-15\"]}, {\"marker\": {\"color\": \"white\"}, \"y\": [2, 2], \"type\": \"scatter\", \"name\": \"\", \"x\": [\"2009-02-20\", \"2009-05-30\"]}], {\"showlegend\": false, \"title\": \"Gantt Chart\", \"yaxis\": {\"showgrid\": false, \"range\": [-1, 4], \"zeroline\": false, \"ticktext\": [\"Job A\", \"Job B\", \"Job C\"], \"autorange\": false, \"tickvals\": [0, 1, 2]}, \"height\": 600, \"shapes\": [{\"opacity\": 1, \"xref\": \"x\", \"yref\": \"y\", \"fillcolor\": \"rgb(31, 119, 180)\", \"y1\": 0.2, \"y0\": -0.2, \"x0\": \"2009-01-01\", \"x1\": \"2009-02-30\", \"type\": \"rect\", \"line\": {\"width\": 0}}, {\"opacity\": 1, \"xref\": \"x\", \"yref\": \"y\", \"fillcolor\": \"rgb(255, 127, 14)\", \"y1\": 1.2, \"y0\": 0.8, \"x0\": \"2009-03-05\", \"x1\": \"2009-04-15\", \"type\": \"rect\", \"line\": {\"width\": 0}}, {\"opacity\": 1, \"xref\": \"x\", \"yref\": \"y\", \"fillcolor\": \"rgb(44, 160, 44)\", \"y1\": 2.2, \"y0\": 1.8, \"x0\": \"2009-02-20\", \"x1\": \"2009-05-30\", \"type\": \"rect\", \"line\": {\"width\": 0}}], \"width\": 900, \"xaxis\": {\"zeroline\": false, \"rangeselector\": {\"buttons\": [{\"count\": 7, \"step\": \"day\", \"stepmode\": \"backward\", \"label\": \"1w\"}, {\"count\": 1, \"step\": \"month\", \"stepmode\": \"backward\", \"label\": \"1m\"}, {\"count\": 6, \"step\": \"month\", \"stepmode\": \"backward\", \"label\": \"6m\"}, {\"count\": 1, \"step\": \"year\", \"stepmode\": \"todate\", \"label\": \"YTD\"}, {\"count\": 1, \"step\": \"year\", \"stepmode\": \"backward\", \"label\": \"1y\"}, {\"step\": \"all\"}]}, \"type\": \"date\", \"showgrid\": false}, \"hovermode\": \"closest\"}, {\"linkText\": \"Export to plot.ly\", \"showLink\": true})});</script>"
      ]
     },
     "metadata": {},
     "output_type": "display_data"
    }
   ],
   "source": [
    "# gannt char example\n",
    "\n",
    "import plotly.plotly as py\n",
    "from plotly.figure_factory import create_gantt\n",
    "    \n",
    "# Make data for chart\n",
    "df = [dict(Task=\"Job A\", Start='2009-01-01', Finish='2009-02-30'),\n",
    "      dict(Task=\"Job B\", Start='2009-03-05', Finish='2009-04-15'),\n",
    "      dict(Task=\"Job C\", Start='2009-02-20', Finish='2009-05-30')]\n",
    "    \n",
    "# Create a figure\n",
    "fig = create_gantt(df)\n",
    "    \n",
    "# Plot the data\n",
    "plotly.offline.iplot(fig)"
   ]
  },
  {
   "cell_type": "code",
   "execution_count": 12,
   "metadata": {},
   "outputs": [
    {
     "name": "stdout",
     "output_type": "stream",
     "text": [
      "Help on function create_gantt in module plotly.figure_factory._gantt:\n",
      "\n",
      "create_gantt(df, colors=None, index_col=None, show_colorbar=False, reverse_colors=False, title='Gantt Chart', bar_width=0.2, showgrid_x=False, showgrid_y=False, height=600, width=900, tasks=None, task_names=None, data=None, group_tasks=False)\n",
      "    Returns figure for a gantt chart\n",
      "    \n",
      "    :param (array|list) df: input data for gantt chart. Must be either a\n",
      "        a dataframe or a list. If dataframe, the columns must include\n",
      "        'Task', 'Start' and 'Finish'. Other columns can be included and\n",
      "        used for indexing. If a list, its elements must be dictionaries\n",
      "        with the same required column headers: 'Task', 'Start' and\n",
      "        'Finish'.\n",
      "    :param (str|list|dict|tuple) colors: either a plotly scale name, an\n",
      "        rgb or hex color, a color tuple or a list of colors. An rgb color\n",
      "        is of the form 'rgb(x, y, z)' where x, y, z belong to the interval\n",
      "        [0, 255] and a color tuple is a tuple of the form (a, b, c) where\n",
      "        a, b and c belong to [0, 1]. If colors is a list, it must\n",
      "        contain the valid color types aforementioned as its members.\n",
      "        If a dictionary, all values of the indexing column must be keys in\n",
      "        colors.\n",
      "    :param (str|float) index_col: the column header (if df is a data\n",
      "        frame) that will function as the indexing column. If df is a list,\n",
      "        index_col must be one of the keys in all the items of df.\n",
      "    :param (bool) show_colorbar: determines if colorbar will be visible.\n",
      "        Only applies if values in the index column are numeric.\n",
      "    :param (bool) reverse_colors: reverses the order of selected colors\n",
      "    :param (str) title: the title of the chart\n",
      "    :param (float) bar_width: the width of the horizontal bars in the plot\n",
      "    :param (bool) showgrid_x: show/hide the x-axis grid\n",
      "    :param (bool) showgrid_y: show/hide the y-axis grid\n",
      "    :param (float) height: the height of the chart\n",
      "    :param (float) width: the width of the chart\n",
      "    \n",
      "    Example 1: Simple Gantt Chart\n",
      "    ```\n",
      "    import plotly.plotly as py\n",
      "    from plotly.figure_factory import create_gantt\n",
      "    \n",
      "    # Make data for chart\n",
      "    df = [dict(Task=\"Job A\", Start='2009-01-01', Finish='2009-02-30'),\n",
      "          dict(Task=\"Job B\", Start='2009-03-05', Finish='2009-04-15'),\n",
      "          dict(Task=\"Job C\", Start='2009-02-20', Finish='2009-05-30')]\n",
      "    \n",
      "    # Create a figure\n",
      "    fig = create_gantt(df)\n",
      "    \n",
      "    # Plot the data\n",
      "    py.iplot(fig, filename='Simple Gantt Chart', world_readable=True)\n",
      "    ```\n",
      "    \n",
      "    Example 2: Index by Column with Numerical Entries\n",
      "    ```\n",
      "    import plotly.plotly as py\n",
      "    from plotly.figure_factory import create_gantt\n",
      "    \n",
      "    # Make data for chart\n",
      "    df = [dict(Task=\"Job A\", Start='2009-01-01',\n",
      "               Finish='2009-02-30', Complete=10),\n",
      "          dict(Task=\"Job B\", Start='2009-03-05',\n",
      "               Finish='2009-04-15', Complete=60),\n",
      "          dict(Task=\"Job C\", Start='2009-02-20',\n",
      "               Finish='2009-05-30', Complete=95)]\n",
      "    \n",
      "    # Create a figure with Plotly colorscale\n",
      "    fig = create_gantt(df, colors='Blues', index_col='Complete',\n",
      "                       show_colorbar=True, bar_width=0.5,\n",
      "                       showgrid_x=True, showgrid_y=True)\n",
      "    \n",
      "    # Plot the data\n",
      "    py.iplot(fig, filename='Numerical Entries', world_readable=True)\n",
      "    ```\n",
      "    \n",
      "    Example 3: Index by Column with String Entries\n",
      "    ```\n",
      "    import plotly.plotly as py\n",
      "    from plotly.figure_factory import create_gantt\n",
      "    \n",
      "    # Make data for chart\n",
      "    df = [dict(Task=\"Job A\", Start='2009-01-01',\n",
      "               Finish='2009-02-30', Resource='Apple'),\n",
      "          dict(Task=\"Job B\", Start='2009-03-05',\n",
      "               Finish='2009-04-15', Resource='Grape'),\n",
      "          dict(Task=\"Job C\", Start='2009-02-20',\n",
      "               Finish='2009-05-30', Resource='Banana')]\n",
      "    \n",
      "    # Create a figure with Plotly colorscale\n",
      "    fig = create_gantt(df, colors=['rgb(200, 50, 25)', (1, 0, 1), '#6c4774'],\n",
      "                       index_col='Resource', reverse_colors=True,\n",
      "                       show_colorbar=True)\n",
      "    \n",
      "    # Plot the data\n",
      "    py.iplot(fig, filename='String Entries', world_readable=True)\n",
      "    ```\n",
      "    \n",
      "    Example 4: Use a dictionary for colors\n",
      "    ```\n",
      "    import plotly.plotly as py\n",
      "    from plotly.figure_factory import create_gantt\n",
      "    \n",
      "    # Make data for chart\n",
      "    df = [dict(Task=\"Job A\", Start='2009-01-01',\n",
      "               Finish='2009-02-30', Resource='Apple'),\n",
      "          dict(Task=\"Job B\", Start='2009-03-05',\n",
      "               Finish='2009-04-15', Resource='Grape'),\n",
      "          dict(Task=\"Job C\", Start='2009-02-20',\n",
      "               Finish='2009-05-30', Resource='Banana')]\n",
      "    \n",
      "    # Make a dictionary of colors\n",
      "    colors = {'Apple': 'rgb(255, 0, 0)',\n",
      "              'Grape': 'rgb(170, 14, 200)',\n",
      "              'Banana': (1, 1, 0.2)}\n",
      "    \n",
      "    # Create a figure with Plotly colorscale\n",
      "    fig = create_gantt(df, colors=colors, index_col='Resource',\n",
      "                       show_colorbar=True)\n",
      "    \n",
      "    # Plot the data\n",
      "    py.iplot(fig, filename='dictioanry colors', world_readable=True)\n",
      "    ```\n",
      "    \n",
      "    Example 5: Use a pandas dataframe\n",
      "    ```\n",
      "    import plotly.plotly as py\n",
      "    from plotly.figure_factory import create_gantt\n",
      "    \n",
      "    import pandas as pd\n",
      "    \n",
      "    # Make data as a dataframe\n",
      "    df = pd.DataFrame([['Run', '2010-01-01', '2011-02-02', 10],\n",
      "                       ['Fast', '2011-01-01', '2012-06-05', 55],\n",
      "                       ['Eat', '2012-01-05', '2013-07-05', 94]],\n",
      "                      columns=['Task', 'Start', 'Finish', 'Complete'])\n",
      "    \n",
      "    # Create a figure with Plotly colorscale\n",
      "    fig = create_gantt(df, colors='Blues', index_col='Complete',\n",
      "                       show_colorbar=True, bar_width=0.5,\n",
      "                       showgrid_x=True, showgrid_y=True)\n",
      "    \n",
      "    # Plot the data\n",
      "    py.iplot(fig, filename='data with dataframe', world_readable=True)\n",
      "    ```\n",
      "\n"
     ]
    }
   ],
   "source": [
    "help(ff.create_gantt)"
   ]
  },
  {
   "cell_type": "code",
   "execution_count": 13,
   "metadata": {},
   "outputs": [
    {
     "data": {
      "application/vnd.plotly.v1+json": {
       "data": [
        {
         "marker": {
          "color": "rgba(246, 78, 139, 0.6)",
          "line": {
           "color": "rgba(246, 78, 139, 1.0)",
           "width": 3
          }
         },
         "name": "SF Zoo",
         "orientation": "h",
         "type": "bar",
         "x": [
          20,
          14,
          23
         ],
         "y": [
          "giraffes",
          "orangutans",
          "monkeys"
         ]
        },
        {
         "marker": {
          "color": "rgba(58, 71, 80, 0.6)",
          "line": {
           "color": "rgba(58, 71, 80, 1.0)",
           "width": 3
          }
         },
         "name": "LA Zoo",
         "orientation": "h",
         "type": "bar",
         "x": [
          12,
          18,
          29
         ],
         "y": [
          "giraffes",
          "orangutans",
          "monkeys"
         ]
        }
       ],
       "layout": {
        "barmode": "stack"
       }
      },
      "text/html": [
       "<div id=\"6ba91a95-faf3-4784-b521-eeb5c135195e\" style=\"height: 525px; width: 100%;\" class=\"plotly-graph-div\"></div><script type=\"text/javascript\">require([\"plotly\"], function(Plotly) { window.PLOTLYENV=window.PLOTLYENV || {};window.PLOTLYENV.BASE_URL=\"https://plot.ly\";Plotly.newPlot(\"6ba91a95-faf3-4784-b521-eeb5c135195e\", [{\"orientation\": \"h\", \"marker\": {\"color\": \"rgba(246, 78, 139, 0.6)\", \"line\": {\"color\": \"rgba(246, 78, 139, 1.0)\", \"width\": 3}}, \"y\": [\"giraffes\", \"orangutans\", \"monkeys\"], \"x\": [20, 14, 23], \"type\": \"bar\", \"name\": \"SF Zoo\"}, {\"orientation\": \"h\", \"marker\": {\"color\": \"rgba(58, 71, 80, 0.6)\", \"line\": {\"color\": \"rgba(58, 71, 80, 1.0)\", \"width\": 3}}, \"y\": [\"giraffes\", \"orangutans\", \"monkeys\"], \"x\": [12, 18, 29], \"type\": \"bar\", \"name\": \"LA Zoo\"}], {\"barmode\": \"stack\"}, {\"linkText\": \"Export to plot.ly\", \"showLink\": true})});</script>"
      ],
      "text/vnd.plotly.v1+html": [
       "<div id=\"6ba91a95-faf3-4784-b521-eeb5c135195e\" style=\"height: 525px; width: 100%;\" class=\"plotly-graph-div\"></div><script type=\"text/javascript\">require([\"plotly\"], function(Plotly) { window.PLOTLYENV=window.PLOTLYENV || {};window.PLOTLYENV.BASE_URL=\"https://plot.ly\";Plotly.newPlot(\"6ba91a95-faf3-4784-b521-eeb5c135195e\", [{\"orientation\": \"h\", \"marker\": {\"color\": \"rgba(246, 78, 139, 0.6)\", \"line\": {\"color\": \"rgba(246, 78, 139, 1.0)\", \"width\": 3}}, \"y\": [\"giraffes\", \"orangutans\", \"monkeys\"], \"x\": [20, 14, 23], \"type\": \"bar\", \"name\": \"SF Zoo\"}, {\"orientation\": \"h\", \"marker\": {\"color\": \"rgba(58, 71, 80, 0.6)\", \"line\": {\"color\": \"rgba(58, 71, 80, 1.0)\", \"width\": 3}}, \"y\": [\"giraffes\", \"orangutans\", \"monkeys\"], \"x\": [12, 18, 29], \"type\": \"bar\", \"name\": \"LA Zoo\"}], {\"barmode\": \"stack\"}, {\"linkText\": \"Export to plot.ly\", \"showLink\": true})});</script>"
      ]
     },
     "metadata": {},
     "output_type": "display_data"
    }
   ],
   "source": [
    "# horizontal bar chart example\n",
    "\n",
    "import plotly.plotly as py\n",
    "import plotly.graph_objs as go\n",
    "\n",
    "trace1 = go.Bar(\n",
    "    y=['giraffes', 'orangutans', 'monkeys'],\n",
    "    x=[20, 14, 23],\n",
    "    name='SF Zoo',\n",
    "    orientation = 'h',\n",
    "    marker = dict(\n",
    "        color = 'rgba(246, 78, 139, 0.6)',\n",
    "        line = dict(\n",
    "            color = 'rgba(246, 78, 139, 1.0)',\n",
    "            width = 3)\n",
    "    )\n",
    ")\n",
    "trace2 = go.Bar(\n",
    "    y=['giraffes', 'orangutans', 'monkeys'],\n",
    "    x=[12, 18, 29],\n",
    "    name='LA Zoo',\n",
    "    orientation = 'h',\n",
    "    marker = dict(\n",
    "        color = 'rgba(58, 71, 80, 0.6)',\n",
    "        line = dict(\n",
    "            color = 'rgba(58, 71, 80, 1.0)',\n",
    "            width = 3)\n",
    "    )\n",
    ")\n",
    "\n",
    "data = [trace1, trace2]\n",
    "layout = go.Layout(\n",
    "    barmode='stack'\n",
    ")\n",
    "\n",
    "fig = go.Figure(data=data, layout=layout)\n",
    "plotly.offline.iplot(fig, filename='marker-h-bar')"
   ]
  },
  {
   "cell_type": "code",
   "execution_count": 14,
   "metadata": {},
   "outputs": [
    {
     "data": {
      "application/vnd.plotly.v1+json": {
       "data": [
        {
         "marker": {
          "color": "rgba(38, 24, 74, 0.8)",
          "line": {
           "color": "rgb(248, 248, 249)",
           "width": 1
          }
         },
         "orientation": "h",
         "type": "bar",
         "x": [
          21
         ],
         "y": [
          "The course was effectively<br>organized"
         ]
        },
        {
         "marker": {
          "color": "rgba(38, 24, 74, 0.8)",
          "line": {
           "color": "rgb(248, 248, 249)",
           "width": 1
          }
         },
         "orientation": "h",
         "type": "bar",
         "x": [
          24
         ],
         "y": [
          "The course developed my<br>abilities and skills for<br>the subject"
         ]
        },
        {
         "marker": {
          "color": "rgba(38, 24, 74, 0.8)",
          "line": {
           "color": "rgb(248, 248, 249)",
           "width": 1
          }
         },
         "orientation": "h",
         "type": "bar",
         "x": [
          27
         ],
         "y": [
          "The course developed my<br>ability to think critically about<br>the subject"
         ]
        },
        {
         "marker": {
          "color": "rgba(38, 24, 74, 0.8)",
          "line": {
           "color": "rgb(248, 248, 249)",
           "width": 1
          }
         },
         "orientation": "h",
         "type": "bar",
         "x": [
          29
         ],
         "y": [
          "I would recommend this<br>course to a friend"
         ]
        },
        {
         "marker": {
          "color": "rgba(71, 58, 131, 0.8)",
          "line": {
           "color": "rgb(248, 248, 249)",
           "width": 1
          }
         },
         "orientation": "h",
         "type": "bar",
         "x": [
          30
         ],
         "y": [
          "The course was effectively<br>organized"
         ]
        },
        {
         "marker": {
          "color": "rgba(71, 58, 131, 0.8)",
          "line": {
           "color": "rgb(248, 248, 249)",
           "width": 1
          }
         },
         "orientation": "h",
         "type": "bar",
         "x": [
          31
         ],
         "y": [
          "The course developed my<br>abilities and skills for<br>the subject"
         ]
        },
        {
         "marker": {
          "color": "rgba(71, 58, 131, 0.8)",
          "line": {
           "color": "rgb(248, 248, 249)",
           "width": 1
          }
         },
         "orientation": "h",
         "type": "bar",
         "x": [
          26
         ],
         "y": [
          "The course developed my<br>ability to think critically about<br>the subject"
         ]
        },
        {
         "marker": {
          "color": "rgba(71, 58, 131, 0.8)",
          "line": {
           "color": "rgb(248, 248, 249)",
           "width": 1
          }
         },
         "orientation": "h",
         "type": "bar",
         "x": [
          24
         ],
         "y": [
          "I would recommend this<br>course to a friend"
         ]
        },
        {
         "marker": {
          "color": "rgba(122, 120, 168, 0.8)",
          "line": {
           "color": "rgb(248, 248, 249)",
           "width": 1
          }
         },
         "orientation": "h",
         "type": "bar",
         "x": [
          21
         ],
         "y": [
          "The course was effectively<br>organized"
         ]
        },
        {
         "marker": {
          "color": "rgba(122, 120, 168, 0.8)",
          "line": {
           "color": "rgb(248, 248, 249)",
           "width": 1
          }
         },
         "orientation": "h",
         "type": "bar",
         "x": [
          19
         ],
         "y": [
          "The course developed my<br>abilities and skills for<br>the subject"
         ]
        },
        {
         "marker": {
          "color": "rgba(122, 120, 168, 0.8)",
          "line": {
           "color": "rgb(248, 248, 249)",
           "width": 1
          }
         },
         "orientation": "h",
         "type": "bar",
         "x": [
          23
         ],
         "y": [
          "The course developed my<br>ability to think critically about<br>the subject"
         ]
        },
        {
         "marker": {
          "color": "rgba(122, 120, 168, 0.8)",
          "line": {
           "color": "rgb(248, 248, 249)",
           "width": 1
          }
         },
         "orientation": "h",
         "type": "bar",
         "x": [
          15
         ],
         "y": [
          "I would recommend this<br>course to a friend"
         ]
        },
        {
         "marker": {
          "color": "rgba(164, 163, 204, 0.85)",
          "line": {
           "color": "rgb(248, 248, 249)",
           "width": 1
          }
         },
         "orientation": "h",
         "type": "bar",
         "x": [
          16
         ],
         "y": [
          "The course was effectively<br>organized"
         ]
        },
        {
         "marker": {
          "color": "rgba(164, 163, 204, 0.85)",
          "line": {
           "color": "rgb(248, 248, 249)",
           "width": 1
          }
         },
         "orientation": "h",
         "type": "bar",
         "x": [
          15
         ],
         "y": [
          "The course developed my<br>abilities and skills for<br>the subject"
         ]
        },
        {
         "marker": {
          "color": "rgba(164, 163, 204, 0.85)",
          "line": {
           "color": "rgb(248, 248, 249)",
           "width": 1
          }
         },
         "orientation": "h",
         "type": "bar",
         "x": [
          11
         ],
         "y": [
          "The course developed my<br>ability to think critically about<br>the subject"
         ]
        },
        {
         "marker": {
          "color": "rgba(164, 163, 204, 0.85)",
          "line": {
           "color": "rgb(248, 248, 249)",
           "width": 1
          }
         },
         "orientation": "h",
         "type": "bar",
         "x": [
          18
         ],
         "y": [
          "I would recommend this<br>course to a friend"
         ]
        },
        {
         "marker": {
          "color": "rgba(190, 192, 213, 1)",
          "line": {
           "color": "rgb(248, 248, 249)",
           "width": 1
          }
         },
         "orientation": "h",
         "type": "bar",
         "x": [
          12
         ],
         "y": [
          "The course was effectively<br>organized"
         ]
        },
        {
         "marker": {
          "color": "rgba(190, 192, 213, 1)",
          "line": {
           "color": "rgb(248, 248, 249)",
           "width": 1
          }
         },
         "orientation": "h",
         "type": "bar",
         "x": [
          11
         ],
         "y": [
          "The course developed my<br>abilities and skills for<br>the subject"
         ]
        },
        {
         "marker": {
          "color": "rgba(190, 192, 213, 1)",
          "line": {
           "color": "rgb(248, 248, 249)",
           "width": 1
          }
         },
         "orientation": "h",
         "type": "bar",
         "x": [
          13
         ],
         "y": [
          "The course developed my<br>ability to think critically about<br>the subject"
         ]
        },
        {
         "marker": {
          "color": "rgba(190, 192, 213, 1)",
          "line": {
           "color": "rgb(248, 248, 249)",
           "width": 1
          }
         },
         "orientation": "h",
         "type": "bar",
         "x": [
          14
         ],
         "y": [
          "I would recommend this<br>course to a friend"
         ]
        }
       ],
       "layout": {
        "annotations": [
         {
          "align": "right",
          "font": {
           "color": "rgb(67, 67, 67)",
           "family": "Arial",
           "size": 14
          },
          "showarrow": false,
          "text": "The course was effectively<br>organized",
          "x": 0.14,
          "xanchor": "right",
          "xref": "paper",
          "y": "The course was effectively<br>organized",
          "yref": "y"
         },
         {
          "font": {
           "color": "rgb(248, 248, 255)",
           "family": "Arial",
           "size": 14
          },
          "showarrow": false,
          "text": "21%",
          "x": 10,
          "xref": "x",
          "y": "The course was effectively<br>organized",
          "yref": "y"
         },
         {
          "font": {
           "color": "rgb(248, 248, 255)",
           "family": "Arial",
           "size": 14
          },
          "showarrow": false,
          "text": "30%",
          "x": 36,
          "xref": "x",
          "y": "The course was effectively<br>organized",
          "yref": "y"
         },
         {
          "font": {
           "color": "rgb(248, 248, 255)",
           "family": "Arial",
           "size": 14
          },
          "showarrow": false,
          "text": "21%",
          "x": 61,
          "xref": "x",
          "y": "The course was effectively<br>organized",
          "yref": "y"
         },
         {
          "font": {
           "color": "rgb(248, 248, 255)",
           "family": "Arial",
           "size": 14
          },
          "showarrow": false,
          "text": "16%",
          "x": 80,
          "xref": "x",
          "y": "The course was effectively<br>organized",
          "yref": "y"
         },
         {
          "font": {
           "color": "rgb(248, 248, 255)",
           "family": "Arial",
           "size": 14
          },
          "showarrow": false,
          "text": "12%",
          "x": 94,
          "xref": "x",
          "y": "The course was effectively<br>organized",
          "yref": "y"
         },
         {
          "align": "right",
          "font": {
           "color": "rgb(67, 67, 67)",
           "family": "Arial",
           "size": 14
          },
          "showarrow": false,
          "text": "The course developed my<br>abilities and skills for<br>the subject",
          "x": 0.14,
          "xanchor": "right",
          "xref": "paper",
          "y": "The course developed my<br>abilities and skills for<br>the subject",
          "yref": "y"
         },
         {
          "font": {
           "color": "rgb(248, 248, 255)",
           "family": "Arial",
           "size": 14
          },
          "showarrow": false,
          "text": "24%",
          "x": 12,
          "xref": "x",
          "y": "The course developed my<br>abilities and skills for<br>the subject",
          "yref": "y"
         },
         {
          "font": {
           "color": "rgb(248, 248, 255)",
           "family": "Arial",
           "size": 14
          },
          "showarrow": false,
          "text": "31%",
          "x": 39,
          "xref": "x",
          "y": "The course developed my<br>abilities and skills for<br>the subject",
          "yref": "y"
         },
         {
          "font": {
           "color": "rgb(248, 248, 255)",
           "family": "Arial",
           "size": 14
          },
          "showarrow": false,
          "text": "19%",
          "x": 64,
          "xref": "x",
          "y": "The course developed my<br>abilities and skills for<br>the subject",
          "yref": "y"
         },
         {
          "font": {
           "color": "rgb(248, 248, 255)",
           "family": "Arial",
           "size": 14
          },
          "showarrow": false,
          "text": "15%",
          "x": 81,
          "xref": "x",
          "y": "The course developed my<br>abilities and skills for<br>the subject",
          "yref": "y"
         },
         {
          "font": {
           "color": "rgb(248, 248, 255)",
           "family": "Arial",
           "size": 14
          },
          "showarrow": false,
          "text": "11%",
          "x": 94,
          "xref": "x",
          "y": "The course developed my<br>abilities and skills for<br>the subject",
          "yref": "y"
         },
         {
          "align": "right",
          "font": {
           "color": "rgb(67, 67, 67)",
           "family": "Arial",
           "size": 14
          },
          "showarrow": false,
          "text": "The course developed my<br>ability to think critically about<br>the subject",
          "x": 0.14,
          "xanchor": "right",
          "xref": "paper",
          "y": "The course developed my<br>ability to think critically about<br>the subject",
          "yref": "y"
         },
         {
          "font": {
           "color": "rgb(248, 248, 255)",
           "family": "Arial",
           "size": 14
          },
          "showarrow": false,
          "text": "27%",
          "x": 13,
          "xref": "x",
          "y": "The course developed my<br>ability to think critically about<br>the subject",
          "yref": "y"
         },
         {
          "font": {
           "color": "rgb(248, 248, 255)",
           "family": "Arial",
           "size": 14
          },
          "showarrow": false,
          "text": "26%",
          "x": 40,
          "xref": "x",
          "y": "The course developed my<br>ability to think critically about<br>the subject",
          "yref": "y"
         },
         {
          "font": {
           "color": "rgb(248, 248, 255)",
           "family": "Arial",
           "size": 14
          },
          "showarrow": false,
          "text": "23%",
          "x": 64,
          "xref": "x",
          "y": "The course developed my<br>ability to think critically about<br>the subject",
          "yref": "y"
         },
         {
          "font": {
           "color": "rgb(248, 248, 255)",
           "family": "Arial",
           "size": 14
          },
          "showarrow": false,
          "text": "11%",
          "x": 81,
          "xref": "x",
          "y": "The course developed my<br>ability to think critically about<br>the subject",
          "yref": "y"
         },
         {
          "font": {
           "color": "rgb(248, 248, 255)",
           "family": "Arial",
           "size": 14
          },
          "showarrow": false,
          "text": "13%",
          "x": 93,
          "xref": "x",
          "y": "The course developed my<br>ability to think critically about<br>the subject",
          "yref": "y"
         },
         {
          "align": "right",
          "font": {
           "color": "rgb(67, 67, 67)",
           "family": "Arial",
           "size": 14
          },
          "showarrow": false,
          "text": "I would recommend this<br>course to a friend",
          "x": 0.14,
          "xanchor": "right",
          "xref": "paper",
          "y": "I would recommend this<br>course to a friend",
          "yref": "y"
         },
         {
          "font": {
           "color": "rgb(248, 248, 255)",
           "family": "Arial",
           "size": 14
          },
          "showarrow": false,
          "text": "29%",
          "x": 14,
          "xref": "x",
          "y": "I would recommend this<br>course to a friend",
          "yref": "y"
         },
         {
          "font": {
           "color": "rgb(67, 67, 67)",
           "family": "Arial",
           "size": 14
          },
          "showarrow": false,
          "text": "Strongly<br>agree",
          "x": 14,
          "xref": "x",
          "y": 1.1,
          "yref": "paper"
         },
         {
          "font": {
           "color": "rgb(248, 248, 255)",
           "family": "Arial",
           "size": 14
          },
          "showarrow": false,
          "text": "24%",
          "x": 41,
          "xref": "x",
          "y": "I would recommend this<br>course to a friend",
          "yref": "y"
         },
         {
          "font": {
           "color": "rgb(67, 67, 67)",
           "family": "Arial",
           "size": 14
          },
          "showarrow": false,
          "text": "Agree",
          "x": 41,
          "xref": "x",
          "y": 1.1,
          "yref": "paper"
         },
         {
          "font": {
           "color": "rgb(248, 248, 255)",
           "family": "Arial",
           "size": 14
          },
          "showarrow": false,
          "text": "15%",
          "x": 60,
          "xref": "x",
          "y": "I would recommend this<br>course to a friend",
          "yref": "y"
         },
         {
          "font": {
           "color": "rgb(67, 67, 67)",
           "family": "Arial",
           "size": 14
          },
          "showarrow": false,
          "text": "Neutral",
          "x": 60,
          "xref": "x",
          "y": 1.1,
          "yref": "paper"
         },
         {
          "font": {
           "color": "rgb(248, 248, 255)",
           "family": "Arial",
           "size": 14
          },
          "showarrow": false,
          "text": "18%",
          "x": 77,
          "xref": "x",
          "y": "I would recommend this<br>course to a friend",
          "yref": "y"
         },
         {
          "font": {
           "color": "rgb(67, 67, 67)",
           "family": "Arial",
           "size": 14
          },
          "showarrow": false,
          "text": "Disagree",
          "x": 77,
          "xref": "x",
          "y": 1.1,
          "yref": "paper"
         },
         {
          "font": {
           "color": "rgb(248, 248, 255)",
           "family": "Arial",
           "size": 14
          },
          "showarrow": false,
          "text": "14%",
          "x": 93,
          "xref": "x",
          "y": "I would recommend this<br>course to a friend",
          "yref": "y"
         },
         {
          "font": {
           "color": "rgb(67, 67, 67)",
           "family": "Arial",
           "size": 14
          },
          "showarrow": false,
          "text": "Strongly<br>disagree",
          "x": 93,
          "xref": "x",
          "y": 1.1,
          "yref": "paper"
         }
        ],
        "barmode": "stack",
        "margin": {
         "b": 80,
         "l": 120,
         "r": 10,
         "t": 140
        },
        "paper_bgcolor": "rgb(248, 248, 255)",
        "plot_bgcolor": "rgb(248, 248, 255)",
        "showlegend": false,
        "xaxis": {
         "domain": [
          0.15,
          1
         ],
         "showgrid": false,
         "showline": false,
         "showticklabels": false,
         "zeroline": false
        },
        "yaxis": {
         "showgrid": false,
         "showline": false,
         "showticklabels": false,
         "zeroline": false
        }
       }
      },
      "text/html": [
       "<div id=\"d2099be4-d51f-4626-a6b7-a69a2f2acb0a\" style=\"height: 525px; width: 100%;\" class=\"plotly-graph-div\"></div><script type=\"text/javascript\">require([\"plotly\"], function(Plotly) { window.PLOTLYENV=window.PLOTLYENV || {};window.PLOTLYENV.BASE_URL=\"https://plot.ly\";Plotly.newPlot(\"d2099be4-d51f-4626-a6b7-a69a2f2acb0a\", [{\"marker\": {\"color\": \"rgba(38, 24, 74, 0.8)\", \"line\": {\"color\": \"rgb(248, 248, 249)\", \"width\": 1}}, \"y\": [\"The course was effectively<br>organized\"], \"type\": \"bar\", \"orientation\": \"h\", \"x\": [21]}, {\"marker\": {\"color\": \"rgba(38, 24, 74, 0.8)\", \"line\": {\"color\": \"rgb(248, 248, 249)\", \"width\": 1}}, \"y\": [\"The course developed my<br>abilities and skills for<br>the subject\"], \"type\": \"bar\", \"orientation\": \"h\", \"x\": [24]}, {\"marker\": {\"color\": \"rgba(38, 24, 74, 0.8)\", \"line\": {\"color\": \"rgb(248, 248, 249)\", \"width\": 1}}, \"y\": [\"The course developed my<br>ability to think critically about<br>the subject\"], \"type\": \"bar\", \"orientation\": \"h\", \"x\": [27]}, {\"marker\": {\"color\": \"rgba(38, 24, 74, 0.8)\", \"line\": {\"color\": \"rgb(248, 248, 249)\", \"width\": 1}}, \"y\": [\"I would recommend this<br>course to a friend\"], \"type\": \"bar\", \"orientation\": \"h\", \"x\": [29]}, {\"marker\": {\"color\": \"rgba(71, 58, 131, 0.8)\", \"line\": {\"color\": \"rgb(248, 248, 249)\", \"width\": 1}}, \"y\": [\"The course was effectively<br>organized\"], \"type\": \"bar\", \"orientation\": \"h\", \"x\": [30]}, {\"marker\": {\"color\": \"rgba(71, 58, 131, 0.8)\", \"line\": {\"color\": \"rgb(248, 248, 249)\", \"width\": 1}}, \"y\": [\"The course developed my<br>abilities and skills for<br>the subject\"], \"type\": \"bar\", \"orientation\": \"h\", \"x\": [31]}, {\"marker\": {\"color\": \"rgba(71, 58, 131, 0.8)\", \"line\": {\"color\": \"rgb(248, 248, 249)\", \"width\": 1}}, \"y\": [\"The course developed my<br>ability to think critically about<br>the subject\"], \"type\": \"bar\", \"orientation\": \"h\", \"x\": [26]}, {\"marker\": {\"color\": \"rgba(71, 58, 131, 0.8)\", \"line\": {\"color\": \"rgb(248, 248, 249)\", \"width\": 1}}, \"y\": [\"I would recommend this<br>course to a friend\"], \"type\": \"bar\", \"orientation\": \"h\", \"x\": [24]}, {\"marker\": {\"color\": \"rgba(122, 120, 168, 0.8)\", \"line\": {\"color\": \"rgb(248, 248, 249)\", \"width\": 1}}, \"y\": [\"The course was effectively<br>organized\"], \"type\": \"bar\", \"orientation\": \"h\", \"x\": [21]}, {\"marker\": {\"color\": \"rgba(122, 120, 168, 0.8)\", \"line\": {\"color\": \"rgb(248, 248, 249)\", \"width\": 1}}, \"y\": [\"The course developed my<br>abilities and skills for<br>the subject\"], \"type\": \"bar\", \"orientation\": \"h\", \"x\": [19]}, {\"marker\": {\"color\": \"rgba(122, 120, 168, 0.8)\", \"line\": {\"color\": \"rgb(248, 248, 249)\", \"width\": 1}}, \"y\": [\"The course developed my<br>ability to think critically about<br>the subject\"], \"type\": \"bar\", \"orientation\": \"h\", \"x\": [23]}, {\"marker\": {\"color\": \"rgba(122, 120, 168, 0.8)\", \"line\": {\"color\": \"rgb(248, 248, 249)\", \"width\": 1}}, \"y\": [\"I would recommend this<br>course to a friend\"], \"type\": \"bar\", \"orientation\": \"h\", \"x\": [15]}, {\"marker\": {\"color\": \"rgba(164, 163, 204, 0.85)\", \"line\": {\"color\": \"rgb(248, 248, 249)\", \"width\": 1}}, \"y\": [\"The course was effectively<br>organized\"], \"type\": \"bar\", \"orientation\": \"h\", \"x\": [16]}, {\"marker\": {\"color\": \"rgba(164, 163, 204, 0.85)\", \"line\": {\"color\": \"rgb(248, 248, 249)\", \"width\": 1}}, \"y\": [\"The course developed my<br>abilities and skills for<br>the subject\"], \"type\": \"bar\", \"orientation\": \"h\", \"x\": [15]}, {\"marker\": {\"color\": \"rgba(164, 163, 204, 0.85)\", \"line\": {\"color\": \"rgb(248, 248, 249)\", \"width\": 1}}, \"y\": [\"The course developed my<br>ability to think critically about<br>the subject\"], \"type\": \"bar\", \"orientation\": \"h\", \"x\": [11]}, {\"marker\": {\"color\": \"rgba(164, 163, 204, 0.85)\", \"line\": {\"color\": \"rgb(248, 248, 249)\", \"width\": 1}}, \"y\": [\"I would recommend this<br>course to a friend\"], \"type\": \"bar\", \"orientation\": \"h\", \"x\": [18]}, {\"marker\": {\"color\": \"rgba(190, 192, 213, 1)\", \"line\": {\"color\": \"rgb(248, 248, 249)\", \"width\": 1}}, \"y\": [\"The course was effectively<br>organized\"], \"type\": \"bar\", \"orientation\": \"h\", \"x\": [12]}, {\"marker\": {\"color\": \"rgba(190, 192, 213, 1)\", \"line\": {\"color\": \"rgb(248, 248, 249)\", \"width\": 1}}, \"y\": [\"The course developed my<br>abilities and skills for<br>the subject\"], \"type\": \"bar\", \"orientation\": \"h\", \"x\": [11]}, {\"marker\": {\"color\": \"rgba(190, 192, 213, 1)\", \"line\": {\"color\": \"rgb(248, 248, 249)\", \"width\": 1}}, \"y\": [\"The course developed my<br>ability to think critically about<br>the subject\"], \"type\": \"bar\", \"orientation\": \"h\", \"x\": [13]}, {\"marker\": {\"color\": \"rgba(190, 192, 213, 1)\", \"line\": {\"color\": \"rgb(248, 248, 249)\", \"width\": 1}}, \"y\": [\"I would recommend this<br>course to a friend\"], \"type\": \"bar\", \"orientation\": \"h\", \"x\": [14]}], {\"showlegend\": false, \"yaxis\": {\"zeroline\": false, \"showline\": false, \"showticklabels\": false, \"showgrid\": false}, \"paper_bgcolor\": \"rgb(248, 248, 255)\", \"plot_bgcolor\": \"rgb(248, 248, 255)\", \"barmode\": \"stack\", \"xaxis\": {\"zeroline\": false, \"showline\": false, \"domain\": [0.15, 1], \"showticklabels\": false, \"showgrid\": false}, \"margin\": {\"r\": 10, \"b\": 80, \"t\": 140, \"l\": 120}, \"annotations\": [{\"xref\": \"paper\", \"xanchor\": \"right\", \"yref\": \"y\", \"text\": \"The course was effectively<br>organized\", \"align\": \"right\", \"y\": \"The course was effectively<br>organized\", \"x\": 0.14, \"font\": {\"color\": \"rgb(67, 67, 67)\", \"family\": \"Arial\", \"size\": 14}, \"showarrow\": false}, {\"xref\": \"x\", \"yref\": \"y\", \"text\": \"21%\", \"y\": \"The course was effectively<br>organized\", \"x\": 10, \"font\": {\"color\": \"rgb(248, 248, 255)\", \"family\": \"Arial\", \"size\": 14}, \"showarrow\": false}, {\"xref\": \"x\", \"yref\": \"y\", \"text\": \"30%\", \"y\": \"The course was effectively<br>organized\", \"x\": 36, \"font\": {\"color\": \"rgb(248, 248, 255)\", \"family\": \"Arial\", \"size\": 14}, \"showarrow\": false}, {\"xref\": \"x\", \"yref\": \"y\", \"text\": \"21%\", \"y\": \"The course was effectively<br>organized\", \"x\": 61, \"font\": {\"color\": \"rgb(248, 248, 255)\", \"family\": \"Arial\", \"size\": 14}, \"showarrow\": false}, {\"xref\": \"x\", \"yref\": \"y\", \"text\": \"16%\", \"y\": \"The course was effectively<br>organized\", \"x\": 80, \"font\": {\"color\": \"rgb(248, 248, 255)\", \"family\": \"Arial\", \"size\": 14}, \"showarrow\": false}, {\"xref\": \"x\", \"yref\": \"y\", \"text\": \"12%\", \"y\": \"The course was effectively<br>organized\", \"x\": 94, \"font\": {\"color\": \"rgb(248, 248, 255)\", \"family\": \"Arial\", \"size\": 14}, \"showarrow\": false}, {\"xref\": \"paper\", \"xanchor\": \"right\", \"yref\": \"y\", \"text\": \"The course developed my<br>abilities and skills for<br>the subject\", \"align\": \"right\", \"y\": \"The course developed my<br>abilities and skills for<br>the subject\", \"x\": 0.14, \"font\": {\"color\": \"rgb(67, 67, 67)\", \"family\": \"Arial\", \"size\": 14}, \"showarrow\": false}, {\"xref\": \"x\", \"yref\": \"y\", \"text\": \"24%\", \"y\": \"The course developed my<br>abilities and skills for<br>the subject\", \"x\": 12, \"font\": {\"color\": \"rgb(248, 248, 255)\", \"family\": \"Arial\", \"size\": 14}, \"showarrow\": false}, {\"xref\": \"x\", \"yref\": \"y\", \"text\": \"31%\", \"y\": \"The course developed my<br>abilities and skills for<br>the subject\", \"x\": 39, \"font\": {\"color\": \"rgb(248, 248, 255)\", \"family\": \"Arial\", \"size\": 14}, \"showarrow\": false}, {\"xref\": \"x\", \"yref\": \"y\", \"text\": \"19%\", \"y\": \"The course developed my<br>abilities and skills for<br>the subject\", \"x\": 64, \"font\": {\"color\": \"rgb(248, 248, 255)\", \"family\": \"Arial\", \"size\": 14}, \"showarrow\": false}, {\"xref\": \"x\", \"yref\": \"y\", \"text\": \"15%\", \"y\": \"The course developed my<br>abilities and skills for<br>the subject\", \"x\": 81, \"font\": {\"color\": \"rgb(248, 248, 255)\", \"family\": \"Arial\", \"size\": 14}, \"showarrow\": false}, {\"xref\": \"x\", \"yref\": \"y\", \"text\": \"11%\", \"y\": \"The course developed my<br>abilities and skills for<br>the subject\", \"x\": 94, \"font\": {\"color\": \"rgb(248, 248, 255)\", \"family\": \"Arial\", \"size\": 14}, \"showarrow\": false}, {\"xref\": \"paper\", \"xanchor\": \"right\", \"yref\": \"y\", \"text\": \"The course developed my<br>ability to think critically about<br>the subject\", \"align\": \"right\", \"y\": \"The course developed my<br>ability to think critically about<br>the subject\", \"x\": 0.14, \"font\": {\"color\": \"rgb(67, 67, 67)\", \"family\": \"Arial\", \"size\": 14}, \"showarrow\": false}, {\"xref\": \"x\", \"yref\": \"y\", \"text\": \"27%\", \"y\": \"The course developed my<br>ability to think critically about<br>the subject\", \"x\": 13, \"font\": {\"color\": \"rgb(248, 248, 255)\", \"family\": \"Arial\", \"size\": 14}, \"showarrow\": false}, {\"xref\": \"x\", \"yref\": \"y\", \"text\": \"26%\", \"y\": \"The course developed my<br>ability to think critically about<br>the subject\", \"x\": 40, \"font\": {\"color\": \"rgb(248, 248, 255)\", \"family\": \"Arial\", \"size\": 14}, \"showarrow\": false}, {\"xref\": \"x\", \"yref\": \"y\", \"text\": \"23%\", \"y\": \"The course developed my<br>ability to think critically about<br>the subject\", \"x\": 64, \"font\": {\"color\": \"rgb(248, 248, 255)\", \"family\": \"Arial\", \"size\": 14}, \"showarrow\": false}, {\"xref\": \"x\", \"yref\": \"y\", \"text\": \"11%\", \"y\": \"The course developed my<br>ability to think critically about<br>the subject\", \"x\": 81, \"font\": {\"color\": \"rgb(248, 248, 255)\", \"family\": \"Arial\", \"size\": 14}, \"showarrow\": false}, {\"xref\": \"x\", \"yref\": \"y\", \"text\": \"13%\", \"y\": \"The course developed my<br>ability to think critically about<br>the subject\", \"x\": 93, \"font\": {\"color\": \"rgb(248, 248, 255)\", \"family\": \"Arial\", \"size\": 14}, \"showarrow\": false}, {\"xref\": \"paper\", \"xanchor\": \"right\", \"yref\": \"y\", \"text\": \"I would recommend this<br>course to a friend\", \"align\": \"right\", \"y\": \"I would recommend this<br>course to a friend\", \"x\": 0.14, \"font\": {\"color\": \"rgb(67, 67, 67)\", \"family\": \"Arial\", \"size\": 14}, \"showarrow\": false}, {\"xref\": \"x\", \"yref\": \"y\", \"text\": \"29%\", \"y\": \"I would recommend this<br>course to a friend\", \"x\": 14, \"font\": {\"color\": \"rgb(248, 248, 255)\", \"family\": \"Arial\", \"size\": 14}, \"showarrow\": false}, {\"xref\": \"x\", \"yref\": \"paper\", \"text\": \"Strongly<br>agree\", \"y\": 1.1, \"x\": 14, \"font\": {\"color\": \"rgb(67, 67, 67)\", \"family\": \"Arial\", \"size\": 14}, \"showarrow\": false}, {\"xref\": \"x\", \"yref\": \"y\", \"text\": \"24%\", \"y\": \"I would recommend this<br>course to a friend\", \"x\": 41, \"font\": {\"color\": \"rgb(248, 248, 255)\", \"family\": \"Arial\", \"size\": 14}, \"showarrow\": false}, {\"xref\": \"x\", \"yref\": \"paper\", \"text\": \"Agree\", \"y\": 1.1, \"x\": 41, \"font\": {\"color\": \"rgb(67, 67, 67)\", \"family\": \"Arial\", \"size\": 14}, \"showarrow\": false}, {\"xref\": \"x\", \"yref\": \"y\", \"text\": \"15%\", \"y\": \"I would recommend this<br>course to a friend\", \"x\": 60, \"font\": {\"color\": \"rgb(248, 248, 255)\", \"family\": \"Arial\", \"size\": 14}, \"showarrow\": false}, {\"xref\": \"x\", \"yref\": \"paper\", \"text\": \"Neutral\", \"y\": 1.1, \"x\": 60, \"font\": {\"color\": \"rgb(67, 67, 67)\", \"family\": \"Arial\", \"size\": 14}, \"showarrow\": false}, {\"xref\": \"x\", \"yref\": \"y\", \"text\": \"18%\", \"y\": \"I would recommend this<br>course to a friend\", \"x\": 77, \"font\": {\"color\": \"rgb(248, 248, 255)\", \"family\": \"Arial\", \"size\": 14}, \"showarrow\": false}, {\"xref\": \"x\", \"yref\": \"paper\", \"text\": \"Disagree\", \"y\": 1.1, \"x\": 77, \"font\": {\"color\": \"rgb(67, 67, 67)\", \"family\": \"Arial\", \"size\": 14}, \"showarrow\": false}, {\"xref\": \"x\", \"yref\": \"y\", \"text\": \"14%\", \"y\": \"I would recommend this<br>course to a friend\", \"x\": 93, \"font\": {\"color\": \"rgb(248, 248, 255)\", \"family\": \"Arial\", \"size\": 14}, \"showarrow\": false}, {\"xref\": \"x\", \"yref\": \"paper\", \"text\": \"Strongly<br>disagree\", \"y\": 1.1, \"x\": 93, \"font\": {\"color\": \"rgb(67, 67, 67)\", \"family\": \"Arial\", \"size\": 14}, \"showarrow\": false}]}, {\"linkText\": \"Export to plot.ly\", \"showLink\": true})});</script>"
      ],
      "text/vnd.plotly.v1+html": [
       "<div id=\"d2099be4-d51f-4626-a6b7-a69a2f2acb0a\" style=\"height: 525px; width: 100%;\" class=\"plotly-graph-div\"></div><script type=\"text/javascript\">require([\"plotly\"], function(Plotly) { window.PLOTLYENV=window.PLOTLYENV || {};window.PLOTLYENV.BASE_URL=\"https://plot.ly\";Plotly.newPlot(\"d2099be4-d51f-4626-a6b7-a69a2f2acb0a\", [{\"marker\": {\"color\": \"rgba(38, 24, 74, 0.8)\", \"line\": {\"color\": \"rgb(248, 248, 249)\", \"width\": 1}}, \"y\": [\"The course was effectively<br>organized\"], \"type\": \"bar\", \"orientation\": \"h\", \"x\": [21]}, {\"marker\": {\"color\": \"rgba(38, 24, 74, 0.8)\", \"line\": {\"color\": \"rgb(248, 248, 249)\", \"width\": 1}}, \"y\": [\"The course developed my<br>abilities and skills for<br>the subject\"], \"type\": \"bar\", \"orientation\": \"h\", \"x\": [24]}, {\"marker\": {\"color\": \"rgba(38, 24, 74, 0.8)\", \"line\": {\"color\": \"rgb(248, 248, 249)\", \"width\": 1}}, \"y\": [\"The course developed my<br>ability to think critically about<br>the subject\"], \"type\": \"bar\", \"orientation\": \"h\", \"x\": [27]}, {\"marker\": {\"color\": \"rgba(38, 24, 74, 0.8)\", \"line\": {\"color\": \"rgb(248, 248, 249)\", \"width\": 1}}, \"y\": [\"I would recommend this<br>course to a friend\"], \"type\": \"bar\", \"orientation\": \"h\", \"x\": [29]}, {\"marker\": {\"color\": \"rgba(71, 58, 131, 0.8)\", \"line\": {\"color\": \"rgb(248, 248, 249)\", \"width\": 1}}, \"y\": [\"The course was effectively<br>organized\"], \"type\": \"bar\", \"orientation\": \"h\", \"x\": [30]}, {\"marker\": {\"color\": \"rgba(71, 58, 131, 0.8)\", \"line\": {\"color\": \"rgb(248, 248, 249)\", \"width\": 1}}, \"y\": [\"The course developed my<br>abilities and skills for<br>the subject\"], \"type\": \"bar\", \"orientation\": \"h\", \"x\": [31]}, {\"marker\": {\"color\": \"rgba(71, 58, 131, 0.8)\", \"line\": {\"color\": \"rgb(248, 248, 249)\", \"width\": 1}}, \"y\": [\"The course developed my<br>ability to think critically about<br>the subject\"], \"type\": \"bar\", \"orientation\": \"h\", \"x\": [26]}, {\"marker\": {\"color\": \"rgba(71, 58, 131, 0.8)\", \"line\": {\"color\": \"rgb(248, 248, 249)\", \"width\": 1}}, \"y\": [\"I would recommend this<br>course to a friend\"], \"type\": \"bar\", \"orientation\": \"h\", \"x\": [24]}, {\"marker\": {\"color\": \"rgba(122, 120, 168, 0.8)\", \"line\": {\"color\": \"rgb(248, 248, 249)\", \"width\": 1}}, \"y\": [\"The course was effectively<br>organized\"], \"type\": \"bar\", \"orientation\": \"h\", \"x\": [21]}, {\"marker\": {\"color\": \"rgba(122, 120, 168, 0.8)\", \"line\": {\"color\": \"rgb(248, 248, 249)\", \"width\": 1}}, \"y\": [\"The course developed my<br>abilities and skills for<br>the subject\"], \"type\": \"bar\", \"orientation\": \"h\", \"x\": [19]}, {\"marker\": {\"color\": \"rgba(122, 120, 168, 0.8)\", \"line\": {\"color\": \"rgb(248, 248, 249)\", \"width\": 1}}, \"y\": [\"The course developed my<br>ability to think critically about<br>the subject\"], \"type\": \"bar\", \"orientation\": \"h\", \"x\": [23]}, {\"marker\": {\"color\": \"rgba(122, 120, 168, 0.8)\", \"line\": {\"color\": \"rgb(248, 248, 249)\", \"width\": 1}}, \"y\": [\"I would recommend this<br>course to a friend\"], \"type\": \"bar\", \"orientation\": \"h\", \"x\": [15]}, {\"marker\": {\"color\": \"rgba(164, 163, 204, 0.85)\", \"line\": {\"color\": \"rgb(248, 248, 249)\", \"width\": 1}}, \"y\": [\"The course was effectively<br>organized\"], \"type\": \"bar\", \"orientation\": \"h\", \"x\": [16]}, {\"marker\": {\"color\": \"rgba(164, 163, 204, 0.85)\", \"line\": {\"color\": \"rgb(248, 248, 249)\", \"width\": 1}}, \"y\": [\"The course developed my<br>abilities and skills for<br>the subject\"], \"type\": \"bar\", \"orientation\": \"h\", \"x\": [15]}, {\"marker\": {\"color\": \"rgba(164, 163, 204, 0.85)\", \"line\": {\"color\": \"rgb(248, 248, 249)\", \"width\": 1}}, \"y\": [\"The course developed my<br>ability to think critically about<br>the subject\"], \"type\": \"bar\", \"orientation\": \"h\", \"x\": [11]}, {\"marker\": {\"color\": \"rgba(164, 163, 204, 0.85)\", \"line\": {\"color\": \"rgb(248, 248, 249)\", \"width\": 1}}, \"y\": [\"I would recommend this<br>course to a friend\"], \"type\": \"bar\", \"orientation\": \"h\", \"x\": [18]}, {\"marker\": {\"color\": \"rgba(190, 192, 213, 1)\", \"line\": {\"color\": \"rgb(248, 248, 249)\", \"width\": 1}}, \"y\": [\"The course was effectively<br>organized\"], \"type\": \"bar\", \"orientation\": \"h\", \"x\": [12]}, {\"marker\": {\"color\": \"rgba(190, 192, 213, 1)\", \"line\": {\"color\": \"rgb(248, 248, 249)\", \"width\": 1}}, \"y\": [\"The course developed my<br>abilities and skills for<br>the subject\"], \"type\": \"bar\", \"orientation\": \"h\", \"x\": [11]}, {\"marker\": {\"color\": \"rgba(190, 192, 213, 1)\", \"line\": {\"color\": \"rgb(248, 248, 249)\", \"width\": 1}}, \"y\": [\"The course developed my<br>ability to think critically about<br>the subject\"], \"type\": \"bar\", \"orientation\": \"h\", \"x\": [13]}, {\"marker\": {\"color\": \"rgba(190, 192, 213, 1)\", \"line\": {\"color\": \"rgb(248, 248, 249)\", \"width\": 1}}, \"y\": [\"I would recommend this<br>course to a friend\"], \"type\": \"bar\", \"orientation\": \"h\", \"x\": [14]}], {\"showlegend\": false, \"yaxis\": {\"zeroline\": false, \"showline\": false, \"showticklabels\": false, \"showgrid\": false}, \"paper_bgcolor\": \"rgb(248, 248, 255)\", \"plot_bgcolor\": \"rgb(248, 248, 255)\", \"barmode\": \"stack\", \"xaxis\": {\"zeroline\": false, \"showline\": false, \"domain\": [0.15, 1], \"showticklabels\": false, \"showgrid\": false}, \"margin\": {\"r\": 10, \"b\": 80, \"t\": 140, \"l\": 120}, \"annotations\": [{\"xref\": \"paper\", \"xanchor\": \"right\", \"yref\": \"y\", \"text\": \"The course was effectively<br>organized\", \"align\": \"right\", \"y\": \"The course was effectively<br>organized\", \"x\": 0.14, \"font\": {\"color\": \"rgb(67, 67, 67)\", \"family\": \"Arial\", \"size\": 14}, \"showarrow\": false}, {\"xref\": \"x\", \"yref\": \"y\", \"text\": \"21%\", \"y\": \"The course was effectively<br>organized\", \"x\": 10, \"font\": {\"color\": \"rgb(248, 248, 255)\", \"family\": \"Arial\", \"size\": 14}, \"showarrow\": false}, {\"xref\": \"x\", \"yref\": \"y\", \"text\": \"30%\", \"y\": \"The course was effectively<br>organized\", \"x\": 36, \"font\": {\"color\": \"rgb(248, 248, 255)\", \"family\": \"Arial\", \"size\": 14}, \"showarrow\": false}, {\"xref\": \"x\", \"yref\": \"y\", \"text\": \"21%\", \"y\": \"The course was effectively<br>organized\", \"x\": 61, \"font\": {\"color\": \"rgb(248, 248, 255)\", \"family\": \"Arial\", \"size\": 14}, \"showarrow\": false}, {\"xref\": \"x\", \"yref\": \"y\", \"text\": \"16%\", \"y\": \"The course was effectively<br>organized\", \"x\": 80, \"font\": {\"color\": \"rgb(248, 248, 255)\", \"family\": \"Arial\", \"size\": 14}, \"showarrow\": false}, {\"xref\": \"x\", \"yref\": \"y\", \"text\": \"12%\", \"y\": \"The course was effectively<br>organized\", \"x\": 94, \"font\": {\"color\": \"rgb(248, 248, 255)\", \"family\": \"Arial\", \"size\": 14}, \"showarrow\": false}, {\"xref\": \"paper\", \"xanchor\": \"right\", \"yref\": \"y\", \"text\": \"The course developed my<br>abilities and skills for<br>the subject\", \"align\": \"right\", \"y\": \"The course developed my<br>abilities and skills for<br>the subject\", \"x\": 0.14, \"font\": {\"color\": \"rgb(67, 67, 67)\", \"family\": \"Arial\", \"size\": 14}, \"showarrow\": false}, {\"xref\": \"x\", \"yref\": \"y\", \"text\": \"24%\", \"y\": \"The course developed my<br>abilities and skills for<br>the subject\", \"x\": 12, \"font\": {\"color\": \"rgb(248, 248, 255)\", \"family\": \"Arial\", \"size\": 14}, \"showarrow\": false}, {\"xref\": \"x\", \"yref\": \"y\", \"text\": \"31%\", \"y\": \"The course developed my<br>abilities and skills for<br>the subject\", \"x\": 39, \"font\": {\"color\": \"rgb(248, 248, 255)\", \"family\": \"Arial\", \"size\": 14}, \"showarrow\": false}, {\"xref\": \"x\", \"yref\": \"y\", \"text\": \"19%\", \"y\": \"The course developed my<br>abilities and skills for<br>the subject\", \"x\": 64, \"font\": {\"color\": \"rgb(248, 248, 255)\", \"family\": \"Arial\", \"size\": 14}, \"showarrow\": false}, {\"xref\": \"x\", \"yref\": \"y\", \"text\": \"15%\", \"y\": \"The course developed my<br>abilities and skills for<br>the subject\", \"x\": 81, \"font\": {\"color\": \"rgb(248, 248, 255)\", \"family\": \"Arial\", \"size\": 14}, \"showarrow\": false}, {\"xref\": \"x\", \"yref\": \"y\", \"text\": \"11%\", \"y\": \"The course developed my<br>abilities and skills for<br>the subject\", \"x\": 94, \"font\": {\"color\": \"rgb(248, 248, 255)\", \"family\": \"Arial\", \"size\": 14}, \"showarrow\": false}, {\"xref\": \"paper\", \"xanchor\": \"right\", \"yref\": \"y\", \"text\": \"The course developed my<br>ability to think critically about<br>the subject\", \"align\": \"right\", \"y\": \"The course developed my<br>ability to think critically about<br>the subject\", \"x\": 0.14, \"font\": {\"color\": \"rgb(67, 67, 67)\", \"family\": \"Arial\", \"size\": 14}, \"showarrow\": false}, {\"xref\": \"x\", \"yref\": \"y\", \"text\": \"27%\", \"y\": \"The course developed my<br>ability to think critically about<br>the subject\", \"x\": 13, \"font\": {\"color\": \"rgb(248, 248, 255)\", \"family\": \"Arial\", \"size\": 14}, \"showarrow\": false}, {\"xref\": \"x\", \"yref\": \"y\", \"text\": \"26%\", \"y\": \"The course developed my<br>ability to think critically about<br>the subject\", \"x\": 40, \"font\": {\"color\": \"rgb(248, 248, 255)\", \"family\": \"Arial\", \"size\": 14}, \"showarrow\": false}, {\"xref\": \"x\", \"yref\": \"y\", \"text\": \"23%\", \"y\": \"The course developed my<br>ability to think critically about<br>the subject\", \"x\": 64, \"font\": {\"color\": \"rgb(248, 248, 255)\", \"family\": \"Arial\", \"size\": 14}, \"showarrow\": false}, {\"xref\": \"x\", \"yref\": \"y\", \"text\": \"11%\", \"y\": \"The course developed my<br>ability to think critically about<br>the subject\", \"x\": 81, \"font\": {\"color\": \"rgb(248, 248, 255)\", \"family\": \"Arial\", \"size\": 14}, \"showarrow\": false}, {\"xref\": \"x\", \"yref\": \"y\", \"text\": \"13%\", \"y\": \"The course developed my<br>ability to think critically about<br>the subject\", \"x\": 93, \"font\": {\"color\": \"rgb(248, 248, 255)\", \"family\": \"Arial\", \"size\": 14}, \"showarrow\": false}, {\"xref\": \"paper\", \"xanchor\": \"right\", \"yref\": \"y\", \"text\": \"I would recommend this<br>course to a friend\", \"align\": \"right\", \"y\": \"I would recommend this<br>course to a friend\", \"x\": 0.14, \"font\": {\"color\": \"rgb(67, 67, 67)\", \"family\": \"Arial\", \"size\": 14}, \"showarrow\": false}, {\"xref\": \"x\", \"yref\": \"y\", \"text\": \"29%\", \"y\": \"I would recommend this<br>course to a friend\", \"x\": 14, \"font\": {\"color\": \"rgb(248, 248, 255)\", \"family\": \"Arial\", \"size\": 14}, \"showarrow\": false}, {\"xref\": \"x\", \"yref\": \"paper\", \"text\": \"Strongly<br>agree\", \"y\": 1.1, \"x\": 14, \"font\": {\"color\": \"rgb(67, 67, 67)\", \"family\": \"Arial\", \"size\": 14}, \"showarrow\": false}, {\"xref\": \"x\", \"yref\": \"y\", \"text\": \"24%\", \"y\": \"I would recommend this<br>course to a friend\", \"x\": 41, \"font\": {\"color\": \"rgb(248, 248, 255)\", \"family\": \"Arial\", \"size\": 14}, \"showarrow\": false}, {\"xref\": \"x\", \"yref\": \"paper\", \"text\": \"Agree\", \"y\": 1.1, \"x\": 41, \"font\": {\"color\": \"rgb(67, 67, 67)\", \"family\": \"Arial\", \"size\": 14}, \"showarrow\": false}, {\"xref\": \"x\", \"yref\": \"y\", \"text\": \"15%\", \"y\": \"I would recommend this<br>course to a friend\", \"x\": 60, \"font\": {\"color\": \"rgb(248, 248, 255)\", \"family\": \"Arial\", \"size\": 14}, \"showarrow\": false}, {\"xref\": \"x\", \"yref\": \"paper\", \"text\": \"Neutral\", \"y\": 1.1, \"x\": 60, \"font\": {\"color\": \"rgb(67, 67, 67)\", \"family\": \"Arial\", \"size\": 14}, \"showarrow\": false}, {\"xref\": \"x\", \"yref\": \"y\", \"text\": \"18%\", \"y\": \"I would recommend this<br>course to a friend\", \"x\": 77, \"font\": {\"color\": \"rgb(248, 248, 255)\", \"family\": \"Arial\", \"size\": 14}, \"showarrow\": false}, {\"xref\": \"x\", \"yref\": \"paper\", \"text\": \"Disagree\", \"y\": 1.1, \"x\": 77, \"font\": {\"color\": \"rgb(67, 67, 67)\", \"family\": \"Arial\", \"size\": 14}, \"showarrow\": false}, {\"xref\": \"x\", \"yref\": \"y\", \"text\": \"14%\", \"y\": \"I would recommend this<br>course to a friend\", \"x\": 93, \"font\": {\"color\": \"rgb(248, 248, 255)\", \"family\": \"Arial\", \"size\": 14}, \"showarrow\": false}, {\"xref\": \"x\", \"yref\": \"paper\", \"text\": \"Strongly<br>disagree\", \"y\": 1.1, \"x\": 93, \"font\": {\"color\": \"rgb(67, 67, 67)\", \"family\": \"Arial\", \"size\": 14}, \"showarrow\": false}]}, {\"linkText\": \"Export to plot.ly\", \"showLink\": true})});</script>"
      ]
     },
     "metadata": {},
     "output_type": "display_data"
    }
   ],
   "source": [
    "# another horizontal bar chart example\n",
    "# Plotly Example: Color Palette for Bar Chart\n",
    "#   https://plot.ly/python/horizontal-bar-charts/\n",
    "\n",
    "import plotly.plotly as py\n",
    "import plotly.graph_objs as go\n",
    "\n",
    "# initialize variables \n",
    "x_data = []\n",
    "y_data = []\n",
    "traces = []\n",
    "annotations = []\n",
    "\n",
    "top_labels = ['Strongly<br>agree', 'Agree', 'Neutral', 'Disagree',\n",
    "              'Strongly<br>disagree']\n",
    "\n",
    "colors = ['rgba(38, 24, 74, 0.8)', 'rgba(71, 58, 131, 0.8)',\n",
    "          'rgba(122, 120, 168, 0.8)', 'rgba(164, 163, 204, 0.85)',\n",
    "          'rgba(190, 192, 213, 1)']\n",
    "\n",
    "x_data = [[21, 30, 21, 16, 12],\n",
    "          [24, 31, 19, 15, 11],\n",
    "          [27, 26, 23, 11, 13],\n",
    "          [29, 24, 15, 18, 14]]\n",
    "\n",
    "y_data = ['The course was effectively<br>organized',\n",
    "          'The course developed my<br>abilities and skills ' +\n",
    "          'for<br>the subject', 'The course developed ' +\n",
    "          'my<br>ability to think critically about<br>the subject',\n",
    "          'I would recommend this<br>course to a friend']\n",
    "\n",
    "for i in range(0, len(x_data[0])):\n",
    "    for xd, yd in zip(x_data, y_data):\n",
    "        traces.append(go.Bar(\n",
    "#            x=xd[i],\n",
    "#            y=yd,\n",
    "            x=[xd[i]],                                                    #x,y must be list (also if only 1 item)\n",
    "            y=[yd],\n",
    "            orientation='h',\n",
    "            marker=dict(\n",
    "                color=colors[i],\n",
    "                line=dict(\n",
    "                        color='rgb(248, 248, 249)',\n",
    "                        width=1)\n",
    "            )\n",
    "        ))\n",
    "        \n",
    "layout = go.Layout(\n",
    "    xaxis=dict(\n",
    "        showgrid=False,\n",
    "        showline=False,\n",
    "        showticklabels=False,\n",
    "        zeroline=False,\n",
    "        domain=[0.15, 1]\n",
    "    ),\n",
    "    yaxis=dict(\n",
    "        showgrid=False,\n",
    "        showline=False,\n",
    "        showticklabels=False,\n",
    "        zeroline=False,\n",
    "    ),\n",
    "    barmode='stack',\n",
    "    paper_bgcolor='rgb(248, 248, 255)',\n",
    "    plot_bgcolor='rgb(248, 248, 255)',\n",
    "    margin=dict(\n",
    "        l=120,\n",
    "        r=10,\n",
    "        t=140,\n",
    "        b=80\n",
    "    ),\n",
    "    showlegend=False,\n",
    ")\n",
    "\n",
    "for yd, xd in zip(y_data, x_data):\n",
    "    # labeling the y-axis\n",
    "    annotations.append(dict(xref='paper', yref='y',\n",
    "                            x=0.14, y=yd,\n",
    "                            xanchor='right',\n",
    "                            text=str(yd),\n",
    "                            font=dict(family='Arial', size=14,\n",
    "                                      color='rgb(67, 67, 67)'),\n",
    "                            showarrow=False, align='right'))\n",
    "    # labeling the first percentage of each bar (x_axis)\n",
    "    annotations.append(dict(xref='x', yref='y',\n",
    "                            x=xd[0] / 2, y=yd,\n",
    "                            text=str(xd[0]) + '%',\n",
    "                            font=dict(family='Arial', size=14,\n",
    "                                      color='rgb(248, 248, 255)'),\n",
    "                            showarrow=False))\n",
    "    # labeling the first Likert scale (on the top)\n",
    "    if yd == y_data[-1]:\n",
    "        annotations.append(dict(xref='x', yref='paper',\n",
    "                                x=xd[0] / 2, y=1.1,\n",
    "                                text=top_labels[0],\n",
    "                                font=dict(family='Arial', size=14,\n",
    "                                          color='rgb(67, 67, 67)'),\n",
    "                                showarrow=False))\n",
    "    space = xd[0]\n",
    "    for i in range(1, len(xd)):\n",
    "            # labeling the rest of percentages for each bar (x_axis)\n",
    "            annotations.append(dict(xref='x', yref='y',\n",
    "                                    x=space + (xd[i]/2), y=yd, \n",
    "                                    text=str(xd[i]) + '%',\n",
    "                                    font=dict(family='Arial', size=14,\n",
    "                                              color='rgb(248, 248, 255)'),\n",
    "                                    showarrow=False))\n",
    "            # labeling the Likert scale\n",
    "            if yd == y_data[-1]:\n",
    "                annotations.append(dict(xref='x', yref='paper',\n",
    "                                        x=space + (xd[i]/2), y=1.1,\n",
    "                                        text=top_labels[i],\n",
    "                                        font=dict(family='Arial', size=14,\n",
    "                                                  color='rgb(67, 67, 67)'),\n",
    "                                        showarrow=False))\n",
    "            space += xd[i]\n",
    "\n",
    "layout['annotations'] = annotations\n",
    "\n",
    "fig = go.Figure(data=traces, layout=layout)\n",
    "plotly.offline.iplot(fig, filename='bar-colorscale')"
   ]
  },
  {
   "cell_type": "code",
   "execution_count": null,
   "metadata": {
    "collapsed": true
   },
   "outputs": [],
   "source": []
  }
 ],
 "metadata": {
  "kernelspec": {
   "display_name": "Python 2",
   "language": "python",
   "name": "python2"
  },
  "language_info": {
   "codemirror_mode": {
    "name": "ipython",
    "version": 2
   },
   "file_extension": ".py",
   "mimetype": "text/x-python",
   "name": "python",
   "nbconvert_exporter": "python",
   "pygments_lexer": "ipython2",
   "version": "2.7.12"
  }
 },
 "nbformat": 4,
 "nbformat_minor": 2
}
