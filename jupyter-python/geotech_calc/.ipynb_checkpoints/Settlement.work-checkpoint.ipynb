{
 "cells": [
  {
   "cell_type": "code",
   "execution_count": 2,
   "metadata": {
    "collapsed": true
   },
   "outputs": [],
   "source": [
    "# import libraries\n",
    "from numpy import *\n",
    "import pandas as pd\n",
    "import matplotlib.pyplot as plt"
   ]
  },
  {
   "cell_type": "code",
   "execution_count": 3,
   "metadata": {},
   "outputs": [
    {
     "data": {
      "text/html": [
       "<script>requirejs.config({paths: { 'plotly': ['https://cdn.plot.ly/plotly-latest.min']},});if(!window.Plotly) {{require(['plotly'],function(plotly) {window.Plotly=plotly;});}}</script>"
      ],
      "text/vnd.plotly.v1+html": [
       "<script>requirejs.config({paths: { 'plotly': ['https://cdn.plot.ly/plotly-latest.min']},});if(!window.Plotly) {{require(['plotly'],function(plotly) {window.Plotly=plotly;});}}</script>"
      ]
     },
     "metadata": {},
     "output_type": "display_data"
    },
    {
     "name": "stdout",
     "output_type": "stream",
     "text": [
      "2.2.1\n"
     ]
    }
   ],
   "source": [
    "# set up plotly in 'offline' mode\n",
    "from plotly import __version__\n",
    "from plotly.offline import download_plotlyjs, init_notebook_mode, plot,iplot\n",
    "import plotly.graph_objs as go\n",
    "init_notebook_mode(connected=True)\n",
    "print (__version__) # requires version >= 1.9.0"
   ]
  },
  {
   "cell_type": "code",
   "execution_count": 4,
   "metadata": {
    "collapsed": true
   },
   "outputs": [],
   "source": [
    "import plotly.offline as plotly  ##testing"
   ]
  },
  {
   "cell_type": "code",
   "execution_count": 5,
   "metadata": {},
   "outputs": [
    {
     "ename": "NameError",
     "evalue": "name 'np' is not defined",
     "output_type": "error",
     "traceback": [
      "\u001b[0;31m\u001b[0m",
      "\u001b[0;31mNameError\u001b[0mTraceback (most recent call last)",
      "\u001b[0;32m<ipython-input-5-9cb280f08923>\u001b[0m in \u001b[0;36m<module>\u001b[0;34m()\u001b[0m\n\u001b[1;32m      1\u001b[0m \u001b[0;31m# quick example (works)\u001b[0m\u001b[0;34m\u001b[0m\u001b[0;34m\u001b[0m\u001b[0m\n\u001b[1;32m      2\u001b[0m \u001b[0;34m\u001b[0m\u001b[0m\n\u001b[0;32m----> 3\u001b[0;31m \u001b[0mx\u001b[0m\u001b[0;34m=\u001b[0m\u001b[0mnp\u001b[0m\u001b[0;34m.\u001b[0m\u001b[0marray\u001b[0m\u001b[0;34m(\u001b[0m\u001b[0;34m[\u001b[0m\u001b[0;36m2\u001b[0m\u001b[0;34m,\u001b[0m\u001b[0;36m5\u001b[0m\u001b[0;34m,\u001b[0m\u001b[0;36m8\u001b[0m\u001b[0;34m,\u001b[0m\u001b[0;36m0\u001b[0m\u001b[0;34m,\u001b[0m\u001b[0;36m2\u001b[0m\u001b[0;34m,\u001b[0m\u001b[0;34m-\u001b[0m\u001b[0;36m8\u001b[0m\u001b[0;34m,\u001b[0m\u001b[0;36m4\u001b[0m\u001b[0;34m,\u001b[0m\u001b[0;36m3\u001b[0m\u001b[0;34m,\u001b[0m\u001b[0;36m1\u001b[0m\u001b[0;34m]\u001b[0m\u001b[0;34m)\u001b[0m\u001b[0;34m\u001b[0m\u001b[0m\n\u001b[0m\u001b[1;32m      4\u001b[0m \u001b[0my\u001b[0m\u001b[0;34m=\u001b[0m\u001b[0mnp\u001b[0m\u001b[0;34m.\u001b[0m\u001b[0marray\u001b[0m\u001b[0;34m(\u001b[0m\u001b[0;34m[\u001b[0m\u001b[0;36m2\u001b[0m\u001b[0;34m,\u001b[0m\u001b[0;36m5\u001b[0m\u001b[0;34m,\u001b[0m\u001b[0;36m8\u001b[0m\u001b[0;34m,\u001b[0m\u001b[0;36m0\u001b[0m\u001b[0;34m,\u001b[0m\u001b[0;36m2\u001b[0m\u001b[0;34m,\u001b[0m\u001b[0;34m-\u001b[0m\u001b[0;36m8\u001b[0m\u001b[0;34m,\u001b[0m\u001b[0;36m4\u001b[0m\u001b[0;34m,\u001b[0m\u001b[0;36m3\u001b[0m\u001b[0;34m,\u001b[0m\u001b[0;36m1\u001b[0m\u001b[0;34m]\u001b[0m\u001b[0;34m)\u001b[0m\u001b[0;34m\u001b[0m\u001b[0m\n\u001b[1;32m      5\u001b[0m \u001b[0;34m\u001b[0m\u001b[0m\n",
      "\u001b[0;31mNameError\u001b[0m: name 'np' is not defined"
     ]
    }
   ],
   "source": [
    "# quick example (works)\n",
    "\n",
    "x=np.array([2,5,8,0,2,-8,4,3,1])\n",
    "y=np.array([2,5,8,0,2,-8,4,3,1])\n",
    "\n",
    "data = [go.Scatter(x=x,y=y)]\n",
    "fig = go.Figure(data = data,layout = go.Layout(title='Offline Plotly Testing',width = 800,height = 500,\n",
    "                                           xaxis = dict(title = 'X-axis'), yaxis = dict(title = 'Y-axis')))\n",
    "\n",
    "#plotly.offline.iplot(data)\n",
    "plotly.offline.iplot(fig)"
   ]
  },
  {
   "cell_type": "code",
   "execution_count": 223,
   "metadata": {},
   "outputs": [
    {
     "data": {
      "application/vnd.plotly.v1+json": {
       "data": [
        {
         "colorscale": [
          [
           0,
           "#00083e"
          ],
          [
           0.5,
           "#ededee"
          ],
          [
           1,
           "#ffffff"
          ]
         ],
         "hoverinfo": "none",
         "opacity": 0.75,
         "showscale": false,
         "type": "heatmap",
         "z": [
          [
           0,
           0,
           0,
           0
          ],
          [
           0.5,
           0.5,
           0.5,
           0.5
          ],
          [
           1,
           1,
           1,
           1
          ],
          [
           0.5,
           0.5,
           0.5,
           0.5
          ],
          [
           1,
           1,
           1,
           1
          ],
          [
           0.5,
           0.5,
           0.5,
           0.5
          ],
          [
           1,
           1,
           1,
           1
          ],
          [
           0.5,
           0.5,
           0.5,
           0.5
          ],
          [
           1,
           1,
           1,
           1
          ],
          [
           0.5,
           0.5,
           0.5,
           0.5
          ],
          [
           1,
           1,
           1,
           1
          ],
          [
           0.5,
           0.5,
           0.5,
           0.5
          ],
          [
           1,
           1,
           1,
           1
          ],
          [
           0.5,
           0.5,
           0.5,
           0.5
          ],
          [
           1,
           1,
           1,
           1
          ],
          [
           0.5,
           0.5,
           0.5,
           0.5
          ],
          [
           1,
           1,
           1,
           1
          ],
          [
           0.5,
           0.5,
           0.5,
           0.5
          ],
          [
           1,
           1,
           1,
           1
          ],
          [
           0.5,
           0.5,
           0.5,
           0.5
          ],
          [
           1,
           1,
           1,
           1
          ],
          [
           0.5,
           0.5,
           0.5,
           0.5
          ]
         ]
        }
       ],
       "layout": {
        "annotations": [
         {
          "align": "left",
          "font": {
           "color": "#ffffff"
          },
          "showarrow": false,
          "text": "<b>School</b>",
          "x": -0.45,
          "xanchor": "left",
          "xref": "x1",
          "y": 0,
          "yref": "y1"
         },
         {
          "align": "left",
          "font": {
           "color": "#ffffff"
          },
          "showarrow": false,
          "text": "<b>Women</b>",
          "x": 0.55,
          "xanchor": "left",
          "xref": "x1",
          "y": 0,
          "yref": "y1"
         },
         {
          "align": "left",
          "font": {
           "color": "#ffffff"
          },
          "showarrow": false,
          "text": "<b>Men</b>",
          "x": 1.55,
          "xanchor": "left",
          "xref": "x1",
          "y": 0,
          "yref": "y1"
         },
         {
          "align": "left",
          "font": {
           "color": "#ffffff"
          },
          "showarrow": false,
          "text": "<b>Gap</b>",
          "x": 2.55,
          "xanchor": "left",
          "xref": "x1",
          "y": 0,
          "yref": "y1"
         },
         {
          "align": "left",
          "font": {
           "color": "#000000"
          },
          "showarrow": false,
          "text": "MIT",
          "x": -0.45,
          "xanchor": "left",
          "xref": "x1",
          "y": 1,
          "yref": "y1"
         },
         {
          "align": "left",
          "font": {
           "color": "#000000"
          },
          "showarrow": false,
          "text": "94",
          "x": 0.55,
          "xanchor": "left",
          "xref": "x1",
          "y": 1,
          "yref": "y1"
         },
         {
          "align": "left",
          "font": {
           "color": "#000000"
          },
          "showarrow": false,
          "text": "152",
          "x": 1.55,
          "xanchor": "left",
          "xref": "x1",
          "y": 1,
          "yref": "y1"
         },
         {
          "align": "left",
          "font": {
           "color": "#000000"
          },
          "showarrow": false,
          "text": "58",
          "x": 2.55,
          "xanchor": "left",
          "xref": "x1",
          "y": 1,
          "yref": "y1"
         },
         {
          "align": "left",
          "font": {
           "color": "#000000"
          },
          "showarrow": false,
          "text": "Stanford",
          "x": -0.45,
          "xanchor": "left",
          "xref": "x1",
          "y": 2,
          "yref": "y1"
         },
         {
          "align": "left",
          "font": {
           "color": "#000000"
          },
          "showarrow": false,
          "text": "96",
          "x": 0.55,
          "xanchor": "left",
          "xref": "x1",
          "y": 2,
          "yref": "y1"
         },
         {
          "align": "left",
          "font": {
           "color": "#000000"
          },
          "showarrow": false,
          "text": "151",
          "x": 1.55,
          "xanchor": "left",
          "xref": "x1",
          "y": 2,
          "yref": "y1"
         },
         {
          "align": "left",
          "font": {
           "color": "#000000"
          },
          "showarrow": false,
          "text": "55",
          "x": 2.55,
          "xanchor": "left",
          "xref": "x1",
          "y": 2,
          "yref": "y1"
         },
         {
          "align": "left",
          "font": {
           "color": "#000000"
          },
          "showarrow": false,
          "text": "Harvard",
          "x": -0.45,
          "xanchor": "left",
          "xref": "x1",
          "y": 3,
          "yref": "y1"
         },
         {
          "align": "left",
          "font": {
           "color": "#000000"
          },
          "showarrow": false,
          "text": "112",
          "x": 0.55,
          "xanchor": "left",
          "xref": "x1",
          "y": 3,
          "yref": "y1"
         },
         {
          "align": "left",
          "font": {
           "color": "#000000"
          },
          "showarrow": false,
          "text": "165",
          "x": 1.55,
          "xanchor": "left",
          "xref": "x1",
          "y": 3,
          "yref": "y1"
         },
         {
          "align": "left",
          "font": {
           "color": "#000000"
          },
          "showarrow": false,
          "text": "53",
          "x": 2.55,
          "xanchor": "left",
          "xref": "x1",
          "y": 3,
          "yref": "y1"
         },
         {
          "align": "left",
          "font": {
           "color": "#000000"
          },
          "showarrow": false,
          "text": "U.Penn",
          "x": -0.45,
          "xanchor": "left",
          "xref": "x1",
          "y": 4,
          "yref": "y1"
         },
         {
          "align": "left",
          "font": {
           "color": "#000000"
          },
          "showarrow": false,
          "text": "92",
          "x": 0.55,
          "xanchor": "left",
          "xref": "x1",
          "y": 4,
          "yref": "y1"
         },
         {
          "align": "left",
          "font": {
           "color": "#000000"
          },
          "showarrow": false,
          "text": "141",
          "x": 1.55,
          "xanchor": "left",
          "xref": "x1",
          "y": 4,
          "yref": "y1"
         },
         {
          "align": "left",
          "font": {
           "color": "#000000"
          },
          "showarrow": false,
          "text": "49",
          "x": 2.55,
          "xanchor": "left",
          "xref": "x1",
          "y": 4,
          "yref": "y1"
         },
         {
          "align": "left",
          "font": {
           "color": "#000000"
          },
          "showarrow": false,
          "text": "Princeton",
          "x": -0.45,
          "xanchor": "left",
          "xref": "x1",
          "y": 5,
          "yref": "y1"
         },
         {
          "align": "left",
          "font": {
           "color": "#000000"
          },
          "showarrow": false,
          "text": "90",
          "x": 0.55,
          "xanchor": "left",
          "xref": "x1",
          "y": 5,
          "yref": "y1"
         },
         {
          "align": "left",
          "font": {
           "color": "#000000"
          },
          "showarrow": false,
          "text": "137",
          "x": 1.55,
          "xanchor": "left",
          "xref": "x1",
          "y": 5,
          "yref": "y1"
         },
         {
          "align": "left",
          "font": {
           "color": "#000000"
          },
          "showarrow": false,
          "text": "47",
          "x": 2.55,
          "xanchor": "left",
          "xref": "x1",
          "y": 5,
          "yref": "y1"
         },
         {
          "align": "left",
          "font": {
           "color": "#000000"
          },
          "showarrow": false,
          "text": "Chicago",
          "x": -0.45,
          "xanchor": "left",
          "xref": "x1",
          "y": 6,
          "yref": "y1"
         },
         {
          "align": "left",
          "font": {
           "color": "#000000"
          },
          "showarrow": false,
          "text": "78",
          "x": 0.55,
          "xanchor": "left",
          "xref": "x1",
          "y": 6,
          "yref": "y1"
         },
         {
          "align": "left",
          "font": {
           "color": "#000000"
          },
          "showarrow": false,
          "text": "118",
          "x": 1.55,
          "xanchor": "left",
          "xref": "x1",
          "y": 6,
          "yref": "y1"
         },
         {
          "align": "left",
          "font": {
           "color": "#000000"
          },
          "showarrow": false,
          "text": "40",
          "x": 2.55,
          "xanchor": "left",
          "xref": "x1",
          "y": 6,
          "yref": "y1"
         },
         {
          "align": "left",
          "font": {
           "color": "#000000"
          },
          "showarrow": false,
          "text": "Georgetown",
          "x": -0.45,
          "xanchor": "left",
          "xref": "x1",
          "y": 7,
          "yref": "y1"
         },
         {
          "align": "left",
          "font": {
           "color": "#000000"
          },
          "showarrow": false,
          "text": "94",
          "x": 0.55,
          "xanchor": "left",
          "xref": "x1",
          "y": 7,
          "yref": "y1"
         },
         {
          "align": "left",
          "font": {
           "color": "#000000"
          },
          "showarrow": false,
          "text": "131",
          "x": 1.55,
          "xanchor": "left",
          "xref": "x1",
          "y": 7,
          "yref": "y1"
         },
         {
          "align": "left",
          "font": {
           "color": "#000000"
          },
          "showarrow": false,
          "text": "37",
          "x": 2.55,
          "xanchor": "left",
          "xref": "x1",
          "y": 7,
          "yref": "y1"
         },
         {
          "align": "left",
          "font": {
           "color": "#000000"
          },
          "showarrow": false,
          "text": "Tufts",
          "x": -0.45,
          "xanchor": "left",
          "xref": "x1",
          "y": 8,
          "yref": "y1"
         },
         {
          "align": "left",
          "font": {
           "color": "#000000"
          },
          "showarrow": false,
          "text": "76",
          "x": 0.55,
          "xanchor": "left",
          "xref": "x1",
          "y": 8,
          "yref": "y1"
         },
         {
          "align": "left",
          "font": {
           "color": "#000000"
          },
          "showarrow": false,
          "text": "112",
          "x": 1.55,
          "xanchor": "left",
          "xref": "x1",
          "y": 8,
          "yref": "y1"
         },
         {
          "align": "left",
          "font": {
           "color": "#000000"
          },
          "showarrow": false,
          "text": "36",
          "x": 2.55,
          "xanchor": "left",
          "xref": "x1",
          "y": 8,
          "yref": "y1"
         },
         {
          "align": "left",
          "font": {
           "color": "#000000"
          },
          "showarrow": false,
          "text": "Yale",
          "x": -0.45,
          "xanchor": "left",
          "xref": "x1",
          "y": 9,
          "yref": "y1"
         },
         {
          "align": "left",
          "font": {
           "color": "#000000"
          },
          "showarrow": false,
          "text": "79",
          "x": 0.55,
          "xanchor": "left",
          "xref": "x1",
          "y": 9,
          "yref": "y1"
         },
         {
          "align": "left",
          "font": {
           "color": "#000000"
          },
          "showarrow": false,
          "text": "114",
          "x": 1.55,
          "xanchor": "left",
          "xref": "x1",
          "y": 9,
          "yref": "y1"
         },
         {
          "align": "left",
          "font": {
           "color": "#000000"
          },
          "showarrow": false,
          "text": "35",
          "x": 2.55,
          "xanchor": "left",
          "xref": "x1",
          "y": 9,
          "yref": "y1"
         },
         {
          "align": "left",
          "font": {
           "color": "#000000"
          },
          "showarrow": false,
          "text": "Columbia",
          "x": -0.45,
          "xanchor": "left",
          "xref": "x1",
          "y": 10,
          "yref": "y1"
         },
         {
          "align": "left",
          "font": {
           "color": "#000000"
          },
          "showarrow": false,
          "text": "86",
          "x": 0.55,
          "xanchor": "left",
          "xref": "x1",
          "y": 10,
          "yref": "y1"
         },
         {
          "align": "left",
          "font": {
           "color": "#000000"
          },
          "showarrow": false,
          "text": "119",
          "x": 1.55,
          "xanchor": "left",
          "xref": "x1",
          "y": 10,
          "yref": "y1"
         },
         {
          "align": "left",
          "font": {
           "color": "#000000"
          },
          "showarrow": false,
          "text": "33",
          "x": 2.55,
          "xanchor": "left",
          "xref": "x1",
          "y": 10,
          "yref": "y1"
         },
         {
          "align": "left",
          "font": {
           "color": "#000000"
          },
          "showarrow": false,
          "text": "Duke",
          "x": -0.45,
          "xanchor": "left",
          "xref": "x1",
          "y": 11,
          "yref": "y1"
         },
         {
          "align": "left",
          "font": {
           "color": "#000000"
          },
          "showarrow": false,
          "text": "93",
          "x": 0.55,
          "xanchor": "left",
          "xref": "x1",
          "y": 11,
          "yref": "y1"
         },
         {
          "align": "left",
          "font": {
           "color": "#000000"
          },
          "showarrow": false,
          "text": "124",
          "x": 1.55,
          "xanchor": "left",
          "xref": "x1",
          "y": 11,
          "yref": "y1"
         },
         {
          "align": "left",
          "font": {
           "color": "#000000"
          },
          "showarrow": false,
          "text": "31",
          "x": 2.55,
          "xanchor": "left",
          "xref": "x1",
          "y": 11,
          "yref": "y1"
         },
         {
          "align": "left",
          "font": {
           "color": "#000000"
          },
          "showarrow": false,
          "text": "Dartmouth",
          "x": -0.45,
          "xanchor": "left",
          "xref": "x1",
          "y": 12,
          "yref": "y1"
         },
         {
          "align": "left",
          "font": {
           "color": "#000000"
          },
          "showarrow": false,
          "text": "84",
          "x": 0.55,
          "xanchor": "left",
          "xref": "x1",
          "y": 12,
          "yref": "y1"
         },
         {
          "align": "left",
          "font": {
           "color": "#000000"
          },
          "showarrow": false,
          "text": "114",
          "x": 1.55,
          "xanchor": "left",
          "xref": "x1",
          "y": 12,
          "yref": "y1"
         },
         {
          "align": "left",
          "font": {
           "color": "#000000"
          },
          "showarrow": false,
          "text": "30",
          "x": 2.55,
          "xanchor": "left",
          "xref": "x1",
          "y": 12,
          "yref": "y1"
         },
         {
          "align": "left",
          "font": {
           "color": "#000000"
          },
          "showarrow": false,
          "text": "NYU",
          "x": -0.45,
          "xanchor": "left",
          "xref": "x1",
          "y": 13,
          "yref": "y1"
         },
         {
          "align": "left",
          "font": {
           "color": "#000000"
          },
          "showarrow": false,
          "text": "67",
          "x": 0.55,
          "xanchor": "left",
          "xref": "x1",
          "y": 13,
          "yref": "y1"
         },
         {
          "align": "left",
          "font": {
           "color": "#000000"
          },
          "showarrow": false,
          "text": "94",
          "x": 1.55,
          "xanchor": "left",
          "xref": "x1",
          "y": 13,
          "yref": "y1"
         },
         {
          "align": "left",
          "font": {
           "color": "#000000"
          },
          "showarrow": false,
          "text": "27",
          "x": 2.55,
          "xanchor": "left",
          "xref": "x1",
          "y": 13,
          "yref": "y1"
         },
         {
          "align": "left",
          "font": {
           "color": "#000000"
          },
          "showarrow": false,
          "text": "Notre Dame",
          "x": -0.45,
          "xanchor": "left",
          "xref": "x1",
          "y": 14,
          "yref": "y1"
         },
         {
          "align": "left",
          "font": {
           "color": "#000000"
          },
          "showarrow": false,
          "text": "73",
          "x": 0.55,
          "xanchor": "left",
          "xref": "x1",
          "y": 14,
          "yref": "y1"
         },
         {
          "align": "left",
          "font": {
           "color": "#000000"
          },
          "showarrow": false,
          "text": "100",
          "x": 1.55,
          "xanchor": "left",
          "xref": "x1",
          "y": 14,
          "yref": "y1"
         },
         {
          "align": "left",
          "font": {
           "color": "#000000"
          },
          "showarrow": false,
          "text": "27",
          "x": 2.55,
          "xanchor": "left",
          "xref": "x1",
          "y": 14,
          "yref": "y1"
         },
         {
          "align": "left",
          "font": {
           "color": "#000000"
          },
          "showarrow": false,
          "text": "Cornell",
          "x": -0.45,
          "xanchor": "left",
          "xref": "x1",
          "y": 15,
          "yref": "y1"
         },
         {
          "align": "left",
          "font": {
           "color": "#000000"
          },
          "showarrow": false,
          "text": "80",
          "x": 0.55,
          "xanchor": "left",
          "xref": "x1",
          "y": 15,
          "yref": "y1"
         },
         {
          "align": "left",
          "font": {
           "color": "#000000"
          },
          "showarrow": false,
          "text": "107",
          "x": 1.55,
          "xanchor": "left",
          "xref": "x1",
          "y": 15,
          "yref": "y1"
         },
         {
          "align": "left",
          "font": {
           "color": "#000000"
          },
          "showarrow": false,
          "text": "27",
          "x": 2.55,
          "xanchor": "left",
          "xref": "x1",
          "y": 15,
          "yref": "y1"
         },
         {
          "align": "left",
          "font": {
           "color": "#000000"
          },
          "showarrow": false,
          "text": "Michigan",
          "x": -0.45,
          "xanchor": "left",
          "xref": "x1",
          "y": 16,
          "yref": "y1"
         },
         {
          "align": "left",
          "font": {
           "color": "#000000"
          },
          "showarrow": false,
          "text": "62",
          "x": 0.55,
          "xanchor": "left",
          "xref": "x1",
          "y": 16,
          "yref": "y1"
         },
         {
          "align": "left",
          "font": {
           "color": "#000000"
          },
          "showarrow": false,
          "text": "84",
          "x": 1.55,
          "xanchor": "left",
          "xref": "x1",
          "y": 16,
          "yref": "y1"
         },
         {
          "align": "left",
          "font": {
           "color": "#000000"
          },
          "showarrow": false,
          "text": "22",
          "x": 2.55,
          "xanchor": "left",
          "xref": "x1",
          "y": 16,
          "yref": "y1"
         },
         {
          "align": "left",
          "font": {
           "color": "#000000"
          },
          "showarrow": false,
          "text": "Brown",
          "x": -0.45,
          "xanchor": "left",
          "xref": "x1",
          "y": 17,
          "yref": "y1"
         },
         {
          "align": "left",
          "font": {
           "color": "#000000"
          },
          "showarrow": false,
          "text": "72",
          "x": 0.55,
          "xanchor": "left",
          "xref": "x1",
          "y": 17,
          "yref": "y1"
         },
         {
          "align": "left",
          "font": {
           "color": "#000000"
          },
          "showarrow": false,
          "text": "92",
          "x": 1.55,
          "xanchor": "left",
          "xref": "x1",
          "y": 17,
          "yref": "y1"
         },
         {
          "align": "left",
          "font": {
           "color": "#000000"
          },
          "showarrow": false,
          "text": "20",
          "x": 2.55,
          "xanchor": "left",
          "xref": "x1",
          "y": 17,
          "yref": "y1"
         },
         {
          "align": "left",
          "font": {
           "color": "#000000"
          },
          "showarrow": false,
          "text": "Berkeley",
          "x": -0.45,
          "xanchor": "left",
          "xref": "x1",
          "y": 18,
          "yref": "y1"
         },
         {
          "align": "left",
          "font": {
           "color": "#000000"
          },
          "showarrow": false,
          "text": "71",
          "x": 0.55,
          "xanchor": "left",
          "xref": "x1",
          "y": 18,
          "yref": "y1"
         },
         {
          "align": "left",
          "font": {
           "color": "#000000"
          },
          "showarrow": false,
          "text": "88",
          "x": 1.55,
          "xanchor": "left",
          "xref": "x1",
          "y": 18,
          "yref": "y1"
         },
         {
          "align": "left",
          "font": {
           "color": "#000000"
          },
          "showarrow": false,
          "text": "17",
          "x": 2.55,
          "xanchor": "left",
          "xref": "x1",
          "y": 18,
          "yref": "y1"
         },
         {
          "align": "left",
          "font": {
           "color": "#000000"
          },
          "showarrow": false,
          "text": "Emory",
          "x": -0.45,
          "xanchor": "left",
          "xref": "x1",
          "y": 19,
          "yref": "y1"
         },
         {
          "align": "left",
          "font": {
           "color": "#000000"
          },
          "showarrow": false,
          "text": "68",
          "x": 0.55,
          "xanchor": "left",
          "xref": "x1",
          "y": 19,
          "yref": "y1"
         },
         {
          "align": "left",
          "font": {
           "color": "#000000"
          },
          "showarrow": false,
          "text": "82",
          "x": 1.55,
          "xanchor": "left",
          "xref": "x1",
          "y": 19,
          "yref": "y1"
         },
         {
          "align": "left",
          "font": {
           "color": "#000000"
          },
          "showarrow": false,
          "text": "14",
          "x": 2.55,
          "xanchor": "left",
          "xref": "x1",
          "y": 19,
          "yref": "y1"
         },
         {
          "align": "left",
          "font": {
           "color": "#000000"
          },
          "showarrow": false,
          "text": "UCLA",
          "x": -0.45,
          "xanchor": "left",
          "xref": "x1",
          "y": 20,
          "yref": "y1"
         },
         {
          "align": "left",
          "font": {
           "color": "#000000"
          },
          "showarrow": false,
          "text": "64",
          "x": 0.55,
          "xanchor": "left",
          "xref": "x1",
          "y": 20,
          "yref": "y1"
         },
         {
          "align": "left",
          "font": {
           "color": "#000000"
          },
          "showarrow": false,
          "text": "78",
          "x": 1.55,
          "xanchor": "left",
          "xref": "x1",
          "y": 20,
          "yref": "y1"
         },
         {
          "align": "left",
          "font": {
           "color": "#000000"
          },
          "showarrow": false,
          "text": "14",
          "x": 2.55,
          "xanchor": "left",
          "xref": "x1",
          "y": 20,
          "yref": "y1"
         },
         {
          "align": "left",
          "font": {
           "color": "#000000"
          },
          "showarrow": false,
          "text": "SoCal",
          "x": -0.45,
          "xanchor": "left",
          "xref": "x1",
          "y": 21,
          "yref": "y1"
         },
         {
          "align": "left",
          "font": {
           "color": "#000000"
          },
          "showarrow": false,
          "text": "72",
          "x": 0.55,
          "xanchor": "left",
          "xref": "x1",
          "y": 21,
          "yref": "y1"
         },
         {
          "align": "left",
          "font": {
           "color": "#000000"
          },
          "showarrow": false,
          "text": "81",
          "x": 1.55,
          "xanchor": "left",
          "xref": "x1",
          "y": 21,
          "yref": "y1"
         },
         {
          "align": "left",
          "font": {
           "color": "#000000"
          },
          "showarrow": false,
          "text": "9",
          "x": 2.55,
          "xanchor": "left",
          "xref": "x1",
          "y": 21,
          "yref": "y1"
         }
        ],
        "height": 710,
        "margin": {
         "b": 0,
         "l": 0,
         "r": 0,
         "t": 0
        },
        "xaxis": {
         "dtick": 1,
         "gridwidth": 2,
         "showticklabels": false,
         "tick0": -0.5,
         "ticks": "",
         "zeroline": false
        },
        "yaxis": {
         "autorange": "reversed",
         "dtick": 1,
         "gridwidth": 2,
         "showticklabels": false,
         "tick0": 0.5,
         "ticks": "",
         "zeroline": false
        }
       }
      },
      "text/html": [
       "<div id=\"6c8c2812-6699-4955-9c64-196f41dd5861\" style=\"height: 710px; width: 100%;\" class=\"plotly-graph-div\"></div><script type=\"text/javascript\">require([\"plotly\"], function(Plotly) { window.PLOTLYENV=window.PLOTLYENV || {};window.PLOTLYENV.BASE_URL=\"https://plot.ly\";Plotly.newPlot(\"6c8c2812-6699-4955-9c64-196f41dd5861\", [{\"opacity\": 0.75, \"colorscale\": [[0, \"#00083e\"], [0.5, \"#ededee\"], [1, \"#ffffff\"]], \"showscale\": false, \"hoverinfo\": \"none\", \"z\": [[0, 0, 0, 0], [0.5, 0.5, 0.5, 0.5], [1, 1, 1, 1], [0.5, 0.5, 0.5, 0.5], [1, 1, 1, 1], [0.5, 0.5, 0.5, 0.5], [1, 1, 1, 1], [0.5, 0.5, 0.5, 0.5], [1, 1, 1, 1], [0.5, 0.5, 0.5, 0.5], [1, 1, 1, 1], [0.5, 0.5, 0.5, 0.5], [1, 1, 1, 1], [0.5, 0.5, 0.5, 0.5], [1, 1, 1, 1], [0.5, 0.5, 0.5, 0.5], [1, 1, 1, 1], [0.5, 0.5, 0.5, 0.5], [1, 1, 1, 1], [0.5, 0.5, 0.5, 0.5], [1, 1, 1, 1], [0.5, 0.5, 0.5, 0.5]], \"type\": \"heatmap\"}], {\"yaxis\": {\"showticklabels\": false, \"tick0\": 0.5, \"ticks\": \"\", \"gridwidth\": 2, \"dtick\": 1, \"zeroline\": false, \"autorange\": \"reversed\"}, \"margin\": {\"r\": 0, \"b\": 0, \"l\": 0, \"t\": 0}, \"annotations\": [{\"xref\": \"x1\", \"xanchor\": \"left\", \"yref\": \"y1\", \"text\": \"<b>School</b>\", \"align\": \"left\", \"y\": 0, \"x\": -0.45, \"font\": {\"color\": \"#ffffff\"}, \"showarrow\": false}, {\"xref\": \"x1\", \"xanchor\": \"left\", \"yref\": \"y1\", \"text\": \"<b>Women</b>\", \"align\": \"left\", \"y\": 0, \"x\": 0.55, \"font\": {\"color\": \"#ffffff\"}, \"showarrow\": false}, {\"xref\": \"x1\", \"xanchor\": \"left\", \"yref\": \"y1\", \"text\": \"<b>Men</b>\", \"align\": \"left\", \"y\": 0, \"x\": 1.55, \"font\": {\"color\": \"#ffffff\"}, \"showarrow\": false}, {\"xref\": \"x1\", \"xanchor\": \"left\", \"yref\": \"y1\", \"text\": \"<b>Gap</b>\", \"align\": \"left\", \"y\": 0, \"x\": 2.55, \"font\": {\"color\": \"#ffffff\"}, \"showarrow\": false}, {\"xref\": \"x1\", \"xanchor\": \"left\", \"yref\": \"y1\", \"text\": \"MIT\", \"align\": \"left\", \"y\": 1, \"x\": -0.45, \"font\": {\"color\": \"#000000\"}, \"showarrow\": false}, {\"xref\": \"x1\", \"xanchor\": \"left\", \"yref\": \"y1\", \"text\": \"94\", \"align\": \"left\", \"y\": 1, \"x\": 0.55, \"font\": {\"color\": \"#000000\"}, \"showarrow\": false}, {\"xref\": \"x1\", \"xanchor\": \"left\", \"yref\": \"y1\", \"text\": \"152\", \"align\": \"left\", \"y\": 1, \"x\": 1.55, \"font\": {\"color\": \"#000000\"}, \"showarrow\": false}, {\"xref\": \"x1\", \"xanchor\": \"left\", \"yref\": \"y1\", \"text\": \"58\", \"align\": \"left\", \"y\": 1, \"x\": 2.55, \"font\": {\"color\": \"#000000\"}, \"showarrow\": false}, {\"xref\": \"x1\", \"xanchor\": \"left\", \"yref\": \"y1\", \"text\": \"Stanford\", \"align\": \"left\", \"y\": 2, \"x\": -0.45, \"font\": {\"color\": \"#000000\"}, \"showarrow\": false}, {\"xref\": \"x1\", \"xanchor\": \"left\", \"yref\": \"y1\", \"text\": \"96\", \"align\": \"left\", \"y\": 2, \"x\": 0.55, \"font\": {\"color\": \"#000000\"}, \"showarrow\": false}, {\"xref\": \"x1\", \"xanchor\": \"left\", \"yref\": \"y1\", \"text\": \"151\", \"align\": \"left\", \"y\": 2, \"x\": 1.55, \"font\": {\"color\": \"#000000\"}, \"showarrow\": false}, {\"xref\": \"x1\", \"xanchor\": \"left\", \"yref\": \"y1\", \"text\": \"55\", \"align\": \"left\", \"y\": 2, \"x\": 2.55, \"font\": {\"color\": \"#000000\"}, \"showarrow\": false}, {\"xref\": \"x1\", \"xanchor\": \"left\", \"yref\": \"y1\", \"text\": \"Harvard\", \"align\": \"left\", \"y\": 3, \"x\": -0.45, \"font\": {\"color\": \"#000000\"}, \"showarrow\": false}, {\"xref\": \"x1\", \"xanchor\": \"left\", \"yref\": \"y1\", \"text\": \"112\", \"align\": \"left\", \"y\": 3, \"x\": 0.55, \"font\": {\"color\": \"#000000\"}, \"showarrow\": false}, {\"xref\": \"x1\", \"xanchor\": \"left\", \"yref\": \"y1\", \"text\": \"165\", \"align\": \"left\", \"y\": 3, \"x\": 1.55, \"font\": {\"color\": \"#000000\"}, \"showarrow\": false}, {\"xref\": \"x1\", \"xanchor\": \"left\", \"yref\": \"y1\", \"text\": \"53\", \"align\": \"left\", \"y\": 3, \"x\": 2.55, \"font\": {\"color\": \"#000000\"}, \"showarrow\": false}, {\"xref\": \"x1\", \"xanchor\": \"left\", \"yref\": \"y1\", \"text\": \"U.Penn\", \"align\": \"left\", \"y\": 4, \"x\": -0.45, \"font\": {\"color\": \"#000000\"}, \"showarrow\": false}, {\"xref\": \"x1\", \"xanchor\": \"left\", \"yref\": \"y1\", \"text\": \"92\", \"align\": \"left\", \"y\": 4, \"x\": 0.55, \"font\": {\"color\": \"#000000\"}, \"showarrow\": false}, {\"xref\": \"x1\", \"xanchor\": \"left\", \"yref\": \"y1\", \"text\": \"141\", \"align\": \"left\", \"y\": 4, \"x\": 1.55, \"font\": {\"color\": \"#000000\"}, \"showarrow\": false}, {\"xref\": \"x1\", \"xanchor\": \"left\", \"yref\": \"y1\", \"text\": \"49\", \"align\": \"left\", \"y\": 4, \"x\": 2.55, \"font\": {\"color\": \"#000000\"}, \"showarrow\": false}, {\"xref\": \"x1\", \"xanchor\": \"left\", \"yref\": \"y1\", \"text\": \"Princeton\", \"align\": \"left\", \"y\": 5, \"x\": -0.45, \"font\": {\"color\": \"#000000\"}, \"showarrow\": false}, {\"xref\": \"x1\", \"xanchor\": \"left\", \"yref\": \"y1\", \"text\": \"90\", \"align\": \"left\", \"y\": 5, \"x\": 0.55, \"font\": {\"color\": \"#000000\"}, \"showarrow\": false}, {\"xref\": \"x1\", \"xanchor\": \"left\", \"yref\": \"y1\", \"text\": \"137\", \"align\": \"left\", \"y\": 5, \"x\": 1.55, \"font\": {\"color\": \"#000000\"}, \"showarrow\": false}, {\"xref\": \"x1\", \"xanchor\": \"left\", \"yref\": \"y1\", \"text\": \"47\", \"align\": \"left\", \"y\": 5, \"x\": 2.55, \"font\": {\"color\": \"#000000\"}, \"showarrow\": false}, {\"xref\": \"x1\", \"xanchor\": \"left\", \"yref\": \"y1\", \"text\": \"Chicago\", \"align\": \"left\", \"y\": 6, \"x\": -0.45, \"font\": {\"color\": \"#000000\"}, \"showarrow\": false}, {\"xref\": \"x1\", \"xanchor\": \"left\", \"yref\": \"y1\", \"text\": \"78\", \"align\": \"left\", \"y\": 6, \"x\": 0.55, \"font\": {\"color\": \"#000000\"}, \"showarrow\": false}, {\"xref\": \"x1\", \"xanchor\": \"left\", \"yref\": \"y1\", \"text\": \"118\", \"align\": \"left\", \"y\": 6, \"x\": 1.55, \"font\": {\"color\": \"#000000\"}, \"showarrow\": false}, {\"xref\": \"x1\", \"xanchor\": \"left\", \"yref\": \"y1\", \"text\": \"40\", \"align\": \"left\", \"y\": 6, \"x\": 2.55, \"font\": {\"color\": \"#000000\"}, \"showarrow\": false}, {\"xref\": \"x1\", \"xanchor\": \"left\", \"yref\": \"y1\", \"text\": \"Georgetown\", \"align\": \"left\", \"y\": 7, \"x\": -0.45, \"font\": {\"color\": \"#000000\"}, \"showarrow\": false}, {\"xref\": \"x1\", \"xanchor\": \"left\", \"yref\": \"y1\", \"text\": \"94\", \"align\": \"left\", \"y\": 7, \"x\": 0.55, \"font\": {\"color\": \"#000000\"}, \"showarrow\": false}, {\"xref\": \"x1\", \"xanchor\": \"left\", \"yref\": \"y1\", \"text\": \"131\", \"align\": \"left\", \"y\": 7, \"x\": 1.55, \"font\": {\"color\": \"#000000\"}, \"showarrow\": false}, {\"xref\": \"x1\", \"xanchor\": \"left\", \"yref\": \"y1\", \"text\": \"37\", \"align\": \"left\", \"y\": 7, \"x\": 2.55, \"font\": {\"color\": \"#000000\"}, \"showarrow\": false}, {\"xref\": \"x1\", \"xanchor\": \"left\", \"yref\": \"y1\", \"text\": \"Tufts\", \"align\": \"left\", \"y\": 8, \"x\": -0.45, \"font\": {\"color\": \"#000000\"}, \"showarrow\": false}, {\"xref\": \"x1\", \"xanchor\": \"left\", \"yref\": \"y1\", \"text\": \"76\", \"align\": \"left\", \"y\": 8, \"x\": 0.55, \"font\": {\"color\": \"#000000\"}, \"showarrow\": false}, {\"xref\": \"x1\", \"xanchor\": \"left\", \"yref\": \"y1\", \"text\": \"112\", \"align\": \"left\", \"y\": 8, \"x\": 1.55, \"font\": {\"color\": \"#000000\"}, \"showarrow\": false}, {\"xref\": \"x1\", \"xanchor\": \"left\", \"yref\": \"y1\", \"text\": \"36\", \"align\": \"left\", \"y\": 8, \"x\": 2.55, \"font\": {\"color\": \"#000000\"}, \"showarrow\": false}, {\"xref\": \"x1\", \"xanchor\": \"left\", \"yref\": \"y1\", \"text\": \"Yale\", \"align\": \"left\", \"y\": 9, \"x\": -0.45, \"font\": {\"color\": \"#000000\"}, \"showarrow\": false}, {\"xref\": \"x1\", \"xanchor\": \"left\", \"yref\": \"y1\", \"text\": \"79\", \"align\": \"left\", \"y\": 9, \"x\": 0.55, \"font\": {\"color\": \"#000000\"}, \"showarrow\": false}, {\"xref\": \"x1\", \"xanchor\": \"left\", \"yref\": \"y1\", \"text\": \"114\", \"align\": \"left\", \"y\": 9, \"x\": 1.55, \"font\": {\"color\": \"#000000\"}, \"showarrow\": false}, {\"xref\": \"x1\", \"xanchor\": \"left\", \"yref\": \"y1\", \"text\": \"35\", \"align\": \"left\", \"y\": 9, \"x\": 2.55, \"font\": {\"color\": \"#000000\"}, \"showarrow\": false}, {\"xref\": \"x1\", \"xanchor\": \"left\", \"yref\": \"y1\", \"text\": \"Columbia\", \"align\": \"left\", \"y\": 10, \"x\": -0.45, \"font\": {\"color\": \"#000000\"}, \"showarrow\": false}, {\"xref\": \"x1\", \"xanchor\": \"left\", \"yref\": \"y1\", \"text\": \"86\", \"align\": \"left\", \"y\": 10, \"x\": 0.55, \"font\": {\"color\": \"#000000\"}, \"showarrow\": false}, {\"xref\": \"x1\", \"xanchor\": \"left\", \"yref\": \"y1\", \"text\": \"119\", \"align\": \"left\", \"y\": 10, \"x\": 1.55, \"font\": {\"color\": \"#000000\"}, \"showarrow\": false}, {\"xref\": \"x1\", \"xanchor\": \"left\", \"yref\": \"y1\", \"text\": \"33\", \"align\": \"left\", \"y\": 10, \"x\": 2.55, \"font\": {\"color\": \"#000000\"}, \"showarrow\": false}, {\"xref\": \"x1\", \"xanchor\": \"left\", \"yref\": \"y1\", \"text\": \"Duke\", \"align\": \"left\", \"y\": 11, \"x\": -0.45, \"font\": {\"color\": \"#000000\"}, \"showarrow\": false}, {\"xref\": \"x1\", \"xanchor\": \"left\", \"yref\": \"y1\", \"text\": \"93\", \"align\": \"left\", \"y\": 11, \"x\": 0.55, \"font\": {\"color\": \"#000000\"}, \"showarrow\": false}, {\"xref\": \"x1\", \"xanchor\": \"left\", \"yref\": \"y1\", \"text\": \"124\", \"align\": \"left\", \"y\": 11, \"x\": 1.55, \"font\": {\"color\": \"#000000\"}, \"showarrow\": false}, {\"xref\": \"x1\", \"xanchor\": \"left\", \"yref\": \"y1\", \"text\": \"31\", \"align\": \"left\", \"y\": 11, \"x\": 2.55, \"font\": {\"color\": \"#000000\"}, \"showarrow\": false}, {\"xref\": \"x1\", \"xanchor\": \"left\", \"yref\": \"y1\", \"text\": \"Dartmouth\", \"align\": \"left\", \"y\": 12, \"x\": -0.45, \"font\": {\"color\": \"#000000\"}, \"showarrow\": false}, {\"xref\": \"x1\", \"xanchor\": \"left\", \"yref\": \"y1\", \"text\": \"84\", \"align\": \"left\", \"y\": 12, \"x\": 0.55, \"font\": {\"color\": \"#000000\"}, \"showarrow\": false}, {\"xref\": \"x1\", \"xanchor\": \"left\", \"yref\": \"y1\", \"text\": \"114\", \"align\": \"left\", \"y\": 12, \"x\": 1.55, \"font\": {\"color\": \"#000000\"}, \"showarrow\": false}, {\"xref\": \"x1\", \"xanchor\": \"left\", \"yref\": \"y1\", \"text\": \"30\", \"align\": \"left\", \"y\": 12, \"x\": 2.55, \"font\": {\"color\": \"#000000\"}, \"showarrow\": false}, {\"xref\": \"x1\", \"xanchor\": \"left\", \"yref\": \"y1\", \"text\": \"NYU\", \"align\": \"left\", \"y\": 13, \"x\": -0.45, \"font\": {\"color\": \"#000000\"}, \"showarrow\": false}, {\"xref\": \"x1\", \"xanchor\": \"left\", \"yref\": \"y1\", \"text\": \"67\", \"align\": \"left\", \"y\": 13, \"x\": 0.55, \"font\": {\"color\": \"#000000\"}, \"showarrow\": false}, {\"xref\": \"x1\", \"xanchor\": \"left\", \"yref\": \"y1\", \"text\": \"94\", \"align\": \"left\", \"y\": 13, \"x\": 1.55, \"font\": {\"color\": \"#000000\"}, \"showarrow\": false}, {\"xref\": \"x1\", \"xanchor\": \"left\", \"yref\": \"y1\", \"text\": \"27\", \"align\": \"left\", \"y\": 13, \"x\": 2.55, \"font\": {\"color\": \"#000000\"}, \"showarrow\": false}, {\"xref\": \"x1\", \"xanchor\": \"left\", \"yref\": \"y1\", \"text\": \"Notre Dame\", \"align\": \"left\", \"y\": 14, \"x\": -0.45, \"font\": {\"color\": \"#000000\"}, \"showarrow\": false}, {\"xref\": \"x1\", \"xanchor\": \"left\", \"yref\": \"y1\", \"text\": \"73\", \"align\": \"left\", \"y\": 14, \"x\": 0.55, \"font\": {\"color\": \"#000000\"}, \"showarrow\": false}, {\"xref\": \"x1\", \"xanchor\": \"left\", \"yref\": \"y1\", \"text\": \"100\", \"align\": \"left\", \"y\": 14, \"x\": 1.55, \"font\": {\"color\": \"#000000\"}, \"showarrow\": false}, {\"xref\": \"x1\", \"xanchor\": \"left\", \"yref\": \"y1\", \"text\": \"27\", \"align\": \"left\", \"y\": 14, \"x\": 2.55, \"font\": {\"color\": \"#000000\"}, \"showarrow\": false}, {\"xref\": \"x1\", \"xanchor\": \"left\", \"yref\": \"y1\", \"text\": \"Cornell\", \"align\": \"left\", \"y\": 15, \"x\": -0.45, \"font\": {\"color\": \"#000000\"}, \"showarrow\": false}, {\"xref\": \"x1\", \"xanchor\": \"left\", \"yref\": \"y1\", \"text\": \"80\", \"align\": \"left\", \"y\": 15, \"x\": 0.55, \"font\": {\"color\": \"#000000\"}, \"showarrow\": false}, {\"xref\": \"x1\", \"xanchor\": \"left\", \"yref\": \"y1\", \"text\": \"107\", \"align\": \"left\", \"y\": 15, \"x\": 1.55, \"font\": {\"color\": \"#000000\"}, \"showarrow\": false}, {\"xref\": \"x1\", \"xanchor\": \"left\", \"yref\": \"y1\", \"text\": \"27\", \"align\": \"left\", \"y\": 15, \"x\": 2.55, \"font\": {\"color\": \"#000000\"}, \"showarrow\": false}, {\"xref\": \"x1\", \"xanchor\": \"left\", \"yref\": \"y1\", \"text\": \"Michigan\", \"align\": \"left\", \"y\": 16, \"x\": -0.45, \"font\": {\"color\": \"#000000\"}, \"showarrow\": false}, {\"xref\": \"x1\", \"xanchor\": \"left\", \"yref\": \"y1\", \"text\": \"62\", \"align\": \"left\", \"y\": 16, \"x\": 0.55, \"font\": {\"color\": \"#000000\"}, \"showarrow\": false}, {\"xref\": \"x1\", \"xanchor\": \"left\", \"yref\": \"y1\", \"text\": \"84\", \"align\": \"left\", \"y\": 16, \"x\": 1.55, \"font\": {\"color\": \"#000000\"}, \"showarrow\": false}, {\"xref\": \"x1\", \"xanchor\": \"left\", \"yref\": \"y1\", \"text\": \"22\", \"align\": \"left\", \"y\": 16, \"x\": 2.55, \"font\": {\"color\": \"#000000\"}, \"showarrow\": false}, {\"xref\": \"x1\", \"xanchor\": \"left\", \"yref\": \"y1\", \"text\": \"Brown\", \"align\": \"left\", \"y\": 17, \"x\": -0.45, \"font\": {\"color\": \"#000000\"}, \"showarrow\": false}, {\"xref\": \"x1\", \"xanchor\": \"left\", \"yref\": \"y1\", \"text\": \"72\", \"align\": \"left\", \"y\": 17, \"x\": 0.55, \"font\": {\"color\": \"#000000\"}, \"showarrow\": false}, {\"xref\": \"x1\", \"xanchor\": \"left\", \"yref\": \"y1\", \"text\": \"92\", \"align\": \"left\", \"y\": 17, \"x\": 1.55, \"font\": {\"color\": \"#000000\"}, \"showarrow\": false}, {\"xref\": \"x1\", \"xanchor\": \"left\", \"yref\": \"y1\", \"text\": \"20\", \"align\": \"left\", \"y\": 17, \"x\": 2.55, \"font\": {\"color\": \"#000000\"}, \"showarrow\": false}, {\"xref\": \"x1\", \"xanchor\": \"left\", \"yref\": \"y1\", \"text\": \"Berkeley\", \"align\": \"left\", \"y\": 18, \"x\": -0.45, \"font\": {\"color\": \"#000000\"}, \"showarrow\": false}, {\"xref\": \"x1\", \"xanchor\": \"left\", \"yref\": \"y1\", \"text\": \"71\", \"align\": \"left\", \"y\": 18, \"x\": 0.55, \"font\": {\"color\": \"#000000\"}, \"showarrow\": false}, {\"xref\": \"x1\", \"xanchor\": \"left\", \"yref\": \"y1\", \"text\": \"88\", \"align\": \"left\", \"y\": 18, \"x\": 1.55, \"font\": {\"color\": \"#000000\"}, \"showarrow\": false}, {\"xref\": \"x1\", \"xanchor\": \"left\", \"yref\": \"y1\", \"text\": \"17\", \"align\": \"left\", \"y\": 18, \"x\": 2.55, \"font\": {\"color\": \"#000000\"}, \"showarrow\": false}, {\"xref\": \"x1\", \"xanchor\": \"left\", \"yref\": \"y1\", \"text\": \"Emory\", \"align\": \"left\", \"y\": 19, \"x\": -0.45, \"font\": {\"color\": \"#000000\"}, \"showarrow\": false}, {\"xref\": \"x1\", \"xanchor\": \"left\", \"yref\": \"y1\", \"text\": \"68\", \"align\": \"left\", \"y\": 19, \"x\": 0.55, \"font\": {\"color\": \"#000000\"}, \"showarrow\": false}, {\"xref\": \"x1\", \"xanchor\": \"left\", \"yref\": \"y1\", \"text\": \"82\", \"align\": \"left\", \"y\": 19, \"x\": 1.55, \"font\": {\"color\": \"#000000\"}, \"showarrow\": false}, {\"xref\": \"x1\", \"xanchor\": \"left\", \"yref\": \"y1\", \"text\": \"14\", \"align\": \"left\", \"y\": 19, \"x\": 2.55, \"font\": {\"color\": \"#000000\"}, \"showarrow\": false}, {\"xref\": \"x1\", \"xanchor\": \"left\", \"yref\": \"y1\", \"text\": \"UCLA\", \"align\": \"left\", \"y\": 20, \"x\": -0.45, \"font\": {\"color\": \"#000000\"}, \"showarrow\": false}, {\"xref\": \"x1\", \"xanchor\": \"left\", \"yref\": \"y1\", \"text\": \"64\", \"align\": \"left\", \"y\": 20, \"x\": 0.55, \"font\": {\"color\": \"#000000\"}, \"showarrow\": false}, {\"xref\": \"x1\", \"xanchor\": \"left\", \"yref\": \"y1\", \"text\": \"78\", \"align\": \"left\", \"y\": 20, \"x\": 1.55, \"font\": {\"color\": \"#000000\"}, \"showarrow\": false}, {\"xref\": \"x1\", \"xanchor\": \"left\", \"yref\": \"y1\", \"text\": \"14\", \"align\": \"left\", \"y\": 20, \"x\": 2.55, \"font\": {\"color\": \"#000000\"}, \"showarrow\": false}, {\"xref\": \"x1\", \"xanchor\": \"left\", \"yref\": \"y1\", \"text\": \"SoCal\", \"align\": \"left\", \"y\": 21, \"x\": -0.45, \"font\": {\"color\": \"#000000\"}, \"showarrow\": false}, {\"xref\": \"x1\", \"xanchor\": \"left\", \"yref\": \"y1\", \"text\": \"72\", \"align\": \"left\", \"y\": 21, \"x\": 0.55, \"font\": {\"color\": \"#000000\"}, \"showarrow\": false}, {\"xref\": \"x1\", \"xanchor\": \"left\", \"yref\": \"y1\", \"text\": \"81\", \"align\": \"left\", \"y\": 21, \"x\": 1.55, \"font\": {\"color\": \"#000000\"}, \"showarrow\": false}, {\"xref\": \"x1\", \"xanchor\": \"left\", \"yref\": \"y1\", \"text\": \"9\", \"align\": \"left\", \"y\": 21, \"x\": 2.55, \"font\": {\"color\": \"#000000\"}, \"showarrow\": false}], \"xaxis\": {\"showticklabels\": false, \"tick0\": -0.5, \"ticks\": \"\", \"gridwidth\": 2, \"dtick\": 1, \"zeroline\": false}, \"height\": 710}, {\"linkText\": \"Export to plot.ly\", \"showLink\": true})});</script>"
      ],
      "text/vnd.plotly.v1+html": [
       "<div id=\"6c8c2812-6699-4955-9c64-196f41dd5861\" style=\"height: 710px; width: 100%;\" class=\"plotly-graph-div\"></div><script type=\"text/javascript\">require([\"plotly\"], function(Plotly) { window.PLOTLYENV=window.PLOTLYENV || {};window.PLOTLYENV.BASE_URL=\"https://plot.ly\";Plotly.newPlot(\"6c8c2812-6699-4955-9c64-196f41dd5861\", [{\"opacity\": 0.75, \"colorscale\": [[0, \"#00083e\"], [0.5, \"#ededee\"], [1, \"#ffffff\"]], \"showscale\": false, \"hoverinfo\": \"none\", \"z\": [[0, 0, 0, 0], [0.5, 0.5, 0.5, 0.5], [1, 1, 1, 1], [0.5, 0.5, 0.5, 0.5], [1, 1, 1, 1], [0.5, 0.5, 0.5, 0.5], [1, 1, 1, 1], [0.5, 0.5, 0.5, 0.5], [1, 1, 1, 1], [0.5, 0.5, 0.5, 0.5], [1, 1, 1, 1], [0.5, 0.5, 0.5, 0.5], [1, 1, 1, 1], [0.5, 0.5, 0.5, 0.5], [1, 1, 1, 1], [0.5, 0.5, 0.5, 0.5], [1, 1, 1, 1], [0.5, 0.5, 0.5, 0.5], [1, 1, 1, 1], [0.5, 0.5, 0.5, 0.5], [1, 1, 1, 1], [0.5, 0.5, 0.5, 0.5]], \"type\": \"heatmap\"}], {\"yaxis\": {\"showticklabels\": false, \"tick0\": 0.5, \"ticks\": \"\", \"gridwidth\": 2, \"dtick\": 1, \"zeroline\": false, \"autorange\": \"reversed\"}, \"margin\": {\"r\": 0, \"b\": 0, \"l\": 0, \"t\": 0}, \"annotations\": [{\"xref\": \"x1\", \"xanchor\": \"left\", \"yref\": \"y1\", \"text\": \"<b>School</b>\", \"align\": \"left\", \"y\": 0, \"x\": -0.45, \"font\": {\"color\": \"#ffffff\"}, \"showarrow\": false}, {\"xref\": \"x1\", \"xanchor\": \"left\", \"yref\": \"y1\", \"text\": \"<b>Women</b>\", \"align\": \"left\", \"y\": 0, \"x\": 0.55, \"font\": {\"color\": \"#ffffff\"}, \"showarrow\": false}, {\"xref\": \"x1\", \"xanchor\": \"left\", \"yref\": \"y1\", \"text\": \"<b>Men</b>\", \"align\": \"left\", \"y\": 0, \"x\": 1.55, \"font\": {\"color\": \"#ffffff\"}, \"showarrow\": false}, {\"xref\": \"x1\", \"xanchor\": \"left\", \"yref\": \"y1\", \"text\": \"<b>Gap</b>\", \"align\": \"left\", \"y\": 0, \"x\": 2.55, \"font\": {\"color\": \"#ffffff\"}, \"showarrow\": false}, {\"xref\": \"x1\", \"xanchor\": \"left\", \"yref\": \"y1\", \"text\": \"MIT\", \"align\": \"left\", \"y\": 1, \"x\": -0.45, \"font\": {\"color\": \"#000000\"}, \"showarrow\": false}, {\"xref\": \"x1\", \"xanchor\": \"left\", \"yref\": \"y1\", \"text\": \"94\", \"align\": \"left\", \"y\": 1, \"x\": 0.55, \"font\": {\"color\": \"#000000\"}, \"showarrow\": false}, {\"xref\": \"x1\", \"xanchor\": \"left\", \"yref\": \"y1\", \"text\": \"152\", \"align\": \"left\", \"y\": 1, \"x\": 1.55, \"font\": {\"color\": \"#000000\"}, \"showarrow\": false}, {\"xref\": \"x1\", \"xanchor\": \"left\", \"yref\": \"y1\", \"text\": \"58\", \"align\": \"left\", \"y\": 1, \"x\": 2.55, \"font\": {\"color\": \"#000000\"}, \"showarrow\": false}, {\"xref\": \"x1\", \"xanchor\": \"left\", \"yref\": \"y1\", \"text\": \"Stanford\", \"align\": \"left\", \"y\": 2, \"x\": -0.45, \"font\": {\"color\": \"#000000\"}, \"showarrow\": false}, {\"xref\": \"x1\", \"xanchor\": \"left\", \"yref\": \"y1\", \"text\": \"96\", \"align\": \"left\", \"y\": 2, \"x\": 0.55, \"font\": {\"color\": \"#000000\"}, \"showarrow\": false}, {\"xref\": \"x1\", \"xanchor\": \"left\", \"yref\": \"y1\", \"text\": \"151\", \"align\": \"left\", \"y\": 2, \"x\": 1.55, \"font\": {\"color\": \"#000000\"}, \"showarrow\": false}, {\"xref\": \"x1\", \"xanchor\": \"left\", \"yref\": \"y1\", \"text\": \"55\", \"align\": \"left\", \"y\": 2, \"x\": 2.55, \"font\": {\"color\": \"#000000\"}, \"showarrow\": false}, {\"xref\": \"x1\", \"xanchor\": \"left\", \"yref\": \"y1\", \"text\": \"Harvard\", \"align\": \"left\", \"y\": 3, \"x\": -0.45, \"font\": {\"color\": \"#000000\"}, \"showarrow\": false}, {\"xref\": \"x1\", \"xanchor\": \"left\", \"yref\": \"y1\", \"text\": \"112\", \"align\": \"left\", \"y\": 3, \"x\": 0.55, \"font\": {\"color\": \"#000000\"}, \"showarrow\": false}, {\"xref\": \"x1\", \"xanchor\": \"left\", \"yref\": \"y1\", \"text\": \"165\", \"align\": \"left\", \"y\": 3, \"x\": 1.55, \"font\": {\"color\": \"#000000\"}, \"showarrow\": false}, {\"xref\": \"x1\", \"xanchor\": \"left\", \"yref\": \"y1\", \"text\": \"53\", \"align\": \"left\", \"y\": 3, \"x\": 2.55, \"font\": {\"color\": \"#000000\"}, \"showarrow\": false}, {\"xref\": \"x1\", \"xanchor\": \"left\", \"yref\": \"y1\", \"text\": \"U.Penn\", \"align\": \"left\", \"y\": 4, \"x\": -0.45, \"font\": {\"color\": \"#000000\"}, \"showarrow\": false}, {\"xref\": \"x1\", \"xanchor\": \"left\", \"yref\": \"y1\", \"text\": \"92\", \"align\": \"left\", \"y\": 4, \"x\": 0.55, \"font\": {\"color\": \"#000000\"}, \"showarrow\": false}, {\"xref\": \"x1\", \"xanchor\": \"left\", \"yref\": \"y1\", \"text\": \"141\", \"align\": \"left\", \"y\": 4, \"x\": 1.55, \"font\": {\"color\": \"#000000\"}, \"showarrow\": false}, {\"xref\": \"x1\", \"xanchor\": \"left\", \"yref\": \"y1\", \"text\": \"49\", \"align\": \"left\", \"y\": 4, \"x\": 2.55, \"font\": {\"color\": \"#000000\"}, \"showarrow\": false}, {\"xref\": \"x1\", \"xanchor\": \"left\", \"yref\": \"y1\", \"text\": \"Princeton\", \"align\": \"left\", \"y\": 5, \"x\": -0.45, \"font\": {\"color\": \"#000000\"}, \"showarrow\": false}, {\"xref\": \"x1\", \"xanchor\": \"left\", \"yref\": \"y1\", \"text\": \"90\", \"align\": \"left\", \"y\": 5, \"x\": 0.55, \"font\": {\"color\": \"#000000\"}, \"showarrow\": false}, {\"xref\": \"x1\", \"xanchor\": \"left\", \"yref\": \"y1\", \"text\": \"137\", \"align\": \"left\", \"y\": 5, \"x\": 1.55, \"font\": {\"color\": \"#000000\"}, \"showarrow\": false}, {\"xref\": \"x1\", \"xanchor\": \"left\", \"yref\": \"y1\", \"text\": \"47\", \"align\": \"left\", \"y\": 5, \"x\": 2.55, \"font\": {\"color\": \"#000000\"}, \"showarrow\": false}, {\"xref\": \"x1\", \"xanchor\": \"left\", \"yref\": \"y1\", \"text\": \"Chicago\", \"align\": \"left\", \"y\": 6, \"x\": -0.45, \"font\": {\"color\": \"#000000\"}, \"showarrow\": false}, {\"xref\": \"x1\", \"xanchor\": \"left\", \"yref\": \"y1\", \"text\": \"78\", \"align\": \"left\", \"y\": 6, \"x\": 0.55, \"font\": {\"color\": \"#000000\"}, \"showarrow\": false}, {\"xref\": \"x1\", \"xanchor\": \"left\", \"yref\": \"y1\", \"text\": \"118\", \"align\": \"left\", \"y\": 6, \"x\": 1.55, \"font\": {\"color\": \"#000000\"}, \"showarrow\": false}, {\"xref\": \"x1\", \"xanchor\": \"left\", \"yref\": \"y1\", \"text\": \"40\", \"align\": \"left\", \"y\": 6, \"x\": 2.55, \"font\": {\"color\": \"#000000\"}, \"showarrow\": false}, {\"xref\": \"x1\", \"xanchor\": \"left\", \"yref\": \"y1\", \"text\": \"Georgetown\", \"align\": \"left\", \"y\": 7, \"x\": -0.45, \"font\": {\"color\": \"#000000\"}, \"showarrow\": false}, {\"xref\": \"x1\", \"xanchor\": \"left\", \"yref\": \"y1\", \"text\": \"94\", \"align\": \"left\", \"y\": 7, \"x\": 0.55, \"font\": {\"color\": \"#000000\"}, \"showarrow\": false}, {\"xref\": \"x1\", \"xanchor\": \"left\", \"yref\": \"y1\", \"text\": \"131\", \"align\": \"left\", \"y\": 7, \"x\": 1.55, \"font\": {\"color\": \"#000000\"}, \"showarrow\": false}, {\"xref\": \"x1\", \"xanchor\": \"left\", \"yref\": \"y1\", \"text\": \"37\", \"align\": \"left\", \"y\": 7, \"x\": 2.55, \"font\": {\"color\": \"#000000\"}, \"showarrow\": false}, {\"xref\": \"x1\", \"xanchor\": \"left\", \"yref\": \"y1\", \"text\": \"Tufts\", \"align\": \"left\", \"y\": 8, \"x\": -0.45, \"font\": {\"color\": \"#000000\"}, \"showarrow\": false}, {\"xref\": \"x1\", \"xanchor\": \"left\", \"yref\": \"y1\", \"text\": \"76\", \"align\": \"left\", \"y\": 8, \"x\": 0.55, \"font\": {\"color\": \"#000000\"}, \"showarrow\": false}, {\"xref\": \"x1\", \"xanchor\": \"left\", \"yref\": \"y1\", \"text\": \"112\", \"align\": \"left\", \"y\": 8, \"x\": 1.55, \"font\": {\"color\": \"#000000\"}, \"showarrow\": false}, {\"xref\": \"x1\", \"xanchor\": \"left\", \"yref\": \"y1\", \"text\": \"36\", \"align\": \"left\", \"y\": 8, \"x\": 2.55, \"font\": {\"color\": \"#000000\"}, \"showarrow\": false}, {\"xref\": \"x1\", \"xanchor\": \"left\", \"yref\": \"y1\", \"text\": \"Yale\", \"align\": \"left\", \"y\": 9, \"x\": -0.45, \"font\": {\"color\": \"#000000\"}, \"showarrow\": false}, {\"xref\": \"x1\", \"xanchor\": \"left\", \"yref\": \"y1\", \"text\": \"79\", \"align\": \"left\", \"y\": 9, \"x\": 0.55, \"font\": {\"color\": \"#000000\"}, \"showarrow\": false}, {\"xref\": \"x1\", \"xanchor\": \"left\", \"yref\": \"y1\", \"text\": \"114\", \"align\": \"left\", \"y\": 9, \"x\": 1.55, \"font\": {\"color\": \"#000000\"}, \"showarrow\": false}, {\"xref\": \"x1\", \"xanchor\": \"left\", \"yref\": \"y1\", \"text\": \"35\", \"align\": \"left\", \"y\": 9, \"x\": 2.55, \"font\": {\"color\": \"#000000\"}, \"showarrow\": false}, {\"xref\": \"x1\", \"xanchor\": \"left\", \"yref\": \"y1\", \"text\": \"Columbia\", \"align\": \"left\", \"y\": 10, \"x\": -0.45, \"font\": {\"color\": \"#000000\"}, \"showarrow\": false}, {\"xref\": \"x1\", \"xanchor\": \"left\", \"yref\": \"y1\", \"text\": \"86\", \"align\": \"left\", \"y\": 10, \"x\": 0.55, \"font\": {\"color\": \"#000000\"}, \"showarrow\": false}, {\"xref\": \"x1\", \"xanchor\": \"left\", \"yref\": \"y1\", \"text\": \"119\", \"align\": \"left\", \"y\": 10, \"x\": 1.55, \"font\": {\"color\": \"#000000\"}, \"showarrow\": false}, {\"xref\": \"x1\", \"xanchor\": \"left\", \"yref\": \"y1\", \"text\": \"33\", \"align\": \"left\", \"y\": 10, \"x\": 2.55, \"font\": {\"color\": \"#000000\"}, \"showarrow\": false}, {\"xref\": \"x1\", \"xanchor\": \"left\", \"yref\": \"y1\", \"text\": \"Duke\", \"align\": \"left\", \"y\": 11, \"x\": -0.45, \"font\": {\"color\": \"#000000\"}, \"showarrow\": false}, {\"xref\": \"x1\", \"xanchor\": \"left\", \"yref\": \"y1\", \"text\": \"93\", \"align\": \"left\", \"y\": 11, \"x\": 0.55, \"font\": {\"color\": \"#000000\"}, \"showarrow\": false}, {\"xref\": \"x1\", \"xanchor\": \"left\", \"yref\": \"y1\", \"text\": \"124\", \"align\": \"left\", \"y\": 11, \"x\": 1.55, \"font\": {\"color\": \"#000000\"}, \"showarrow\": false}, {\"xref\": \"x1\", \"xanchor\": \"left\", \"yref\": \"y1\", \"text\": \"31\", \"align\": \"left\", \"y\": 11, \"x\": 2.55, \"font\": {\"color\": \"#000000\"}, \"showarrow\": false}, {\"xref\": \"x1\", \"xanchor\": \"left\", \"yref\": \"y1\", \"text\": \"Dartmouth\", \"align\": \"left\", \"y\": 12, \"x\": -0.45, \"font\": {\"color\": \"#000000\"}, \"showarrow\": false}, {\"xref\": \"x1\", \"xanchor\": \"left\", \"yref\": \"y1\", \"text\": \"84\", \"align\": \"left\", \"y\": 12, \"x\": 0.55, \"font\": {\"color\": \"#000000\"}, \"showarrow\": false}, {\"xref\": \"x1\", \"xanchor\": \"left\", \"yref\": \"y1\", \"text\": \"114\", \"align\": \"left\", \"y\": 12, \"x\": 1.55, \"font\": {\"color\": \"#000000\"}, \"showarrow\": false}, {\"xref\": \"x1\", \"xanchor\": \"left\", \"yref\": \"y1\", \"text\": \"30\", \"align\": \"left\", \"y\": 12, \"x\": 2.55, \"font\": {\"color\": \"#000000\"}, \"showarrow\": false}, {\"xref\": \"x1\", \"xanchor\": \"left\", \"yref\": \"y1\", \"text\": \"NYU\", \"align\": \"left\", \"y\": 13, \"x\": -0.45, \"font\": {\"color\": \"#000000\"}, \"showarrow\": false}, {\"xref\": \"x1\", \"xanchor\": \"left\", \"yref\": \"y1\", \"text\": \"67\", \"align\": \"left\", \"y\": 13, \"x\": 0.55, \"font\": {\"color\": \"#000000\"}, \"showarrow\": false}, {\"xref\": \"x1\", \"xanchor\": \"left\", \"yref\": \"y1\", \"text\": \"94\", \"align\": \"left\", \"y\": 13, \"x\": 1.55, \"font\": {\"color\": \"#000000\"}, \"showarrow\": false}, {\"xref\": \"x1\", \"xanchor\": \"left\", \"yref\": \"y1\", \"text\": \"27\", \"align\": \"left\", \"y\": 13, \"x\": 2.55, \"font\": {\"color\": \"#000000\"}, \"showarrow\": false}, {\"xref\": \"x1\", \"xanchor\": \"left\", \"yref\": \"y1\", \"text\": \"Notre Dame\", \"align\": \"left\", \"y\": 14, \"x\": -0.45, \"font\": {\"color\": \"#000000\"}, \"showarrow\": false}, {\"xref\": \"x1\", \"xanchor\": \"left\", \"yref\": \"y1\", \"text\": \"73\", \"align\": \"left\", \"y\": 14, \"x\": 0.55, \"font\": {\"color\": \"#000000\"}, \"showarrow\": false}, {\"xref\": \"x1\", \"xanchor\": \"left\", \"yref\": \"y1\", \"text\": \"100\", \"align\": \"left\", \"y\": 14, \"x\": 1.55, \"font\": {\"color\": \"#000000\"}, \"showarrow\": false}, {\"xref\": \"x1\", \"xanchor\": \"left\", \"yref\": \"y1\", \"text\": \"27\", \"align\": \"left\", \"y\": 14, \"x\": 2.55, \"font\": {\"color\": \"#000000\"}, \"showarrow\": false}, {\"xref\": \"x1\", \"xanchor\": \"left\", \"yref\": \"y1\", \"text\": \"Cornell\", \"align\": \"left\", \"y\": 15, \"x\": -0.45, \"font\": {\"color\": \"#000000\"}, \"showarrow\": false}, {\"xref\": \"x1\", \"xanchor\": \"left\", \"yref\": \"y1\", \"text\": \"80\", \"align\": \"left\", \"y\": 15, \"x\": 0.55, \"font\": {\"color\": \"#000000\"}, \"showarrow\": false}, {\"xref\": \"x1\", \"xanchor\": \"left\", \"yref\": \"y1\", \"text\": \"107\", \"align\": \"left\", \"y\": 15, \"x\": 1.55, \"font\": {\"color\": \"#000000\"}, \"showarrow\": false}, {\"xref\": \"x1\", \"xanchor\": \"left\", \"yref\": \"y1\", \"text\": \"27\", \"align\": \"left\", \"y\": 15, \"x\": 2.55, \"font\": {\"color\": \"#000000\"}, \"showarrow\": false}, {\"xref\": \"x1\", \"xanchor\": \"left\", \"yref\": \"y1\", \"text\": \"Michigan\", \"align\": \"left\", \"y\": 16, \"x\": -0.45, \"font\": {\"color\": \"#000000\"}, \"showarrow\": false}, {\"xref\": \"x1\", \"xanchor\": \"left\", \"yref\": \"y1\", \"text\": \"62\", \"align\": \"left\", \"y\": 16, \"x\": 0.55, \"font\": {\"color\": \"#000000\"}, \"showarrow\": false}, {\"xref\": \"x1\", \"xanchor\": \"left\", \"yref\": \"y1\", \"text\": \"84\", \"align\": \"left\", \"y\": 16, \"x\": 1.55, \"font\": {\"color\": \"#000000\"}, \"showarrow\": false}, {\"xref\": \"x1\", \"xanchor\": \"left\", \"yref\": \"y1\", \"text\": \"22\", \"align\": \"left\", \"y\": 16, \"x\": 2.55, \"font\": {\"color\": \"#000000\"}, \"showarrow\": false}, {\"xref\": \"x1\", \"xanchor\": \"left\", \"yref\": \"y1\", \"text\": \"Brown\", \"align\": \"left\", \"y\": 17, \"x\": -0.45, \"font\": {\"color\": \"#000000\"}, \"showarrow\": false}, {\"xref\": \"x1\", \"xanchor\": \"left\", \"yref\": \"y1\", \"text\": \"72\", \"align\": \"left\", \"y\": 17, \"x\": 0.55, \"font\": {\"color\": \"#000000\"}, \"showarrow\": false}, {\"xref\": \"x1\", \"xanchor\": \"left\", \"yref\": \"y1\", \"text\": \"92\", \"align\": \"left\", \"y\": 17, \"x\": 1.55, \"font\": {\"color\": \"#000000\"}, \"showarrow\": false}, {\"xref\": \"x1\", \"xanchor\": \"left\", \"yref\": \"y1\", \"text\": \"20\", \"align\": \"left\", \"y\": 17, \"x\": 2.55, \"font\": {\"color\": \"#000000\"}, \"showarrow\": false}, {\"xref\": \"x1\", \"xanchor\": \"left\", \"yref\": \"y1\", \"text\": \"Berkeley\", \"align\": \"left\", \"y\": 18, \"x\": -0.45, \"font\": {\"color\": \"#000000\"}, \"showarrow\": false}, {\"xref\": \"x1\", \"xanchor\": \"left\", \"yref\": \"y1\", \"text\": \"71\", \"align\": \"left\", \"y\": 18, \"x\": 0.55, \"font\": {\"color\": \"#000000\"}, \"showarrow\": false}, {\"xref\": \"x1\", \"xanchor\": \"left\", \"yref\": \"y1\", \"text\": \"88\", \"align\": \"left\", \"y\": 18, \"x\": 1.55, \"font\": {\"color\": \"#000000\"}, \"showarrow\": false}, {\"xref\": \"x1\", \"xanchor\": \"left\", \"yref\": \"y1\", \"text\": \"17\", \"align\": \"left\", \"y\": 18, \"x\": 2.55, \"font\": {\"color\": \"#000000\"}, \"showarrow\": false}, {\"xref\": \"x1\", \"xanchor\": \"left\", \"yref\": \"y1\", \"text\": \"Emory\", \"align\": \"left\", \"y\": 19, \"x\": -0.45, \"font\": {\"color\": \"#000000\"}, \"showarrow\": false}, {\"xref\": \"x1\", \"xanchor\": \"left\", \"yref\": \"y1\", \"text\": \"68\", \"align\": \"left\", \"y\": 19, \"x\": 0.55, \"font\": {\"color\": \"#000000\"}, \"showarrow\": false}, {\"xref\": \"x1\", \"xanchor\": \"left\", \"yref\": \"y1\", \"text\": \"82\", \"align\": \"left\", \"y\": 19, \"x\": 1.55, \"font\": {\"color\": \"#000000\"}, \"showarrow\": false}, {\"xref\": \"x1\", \"xanchor\": \"left\", \"yref\": \"y1\", \"text\": \"14\", \"align\": \"left\", \"y\": 19, \"x\": 2.55, \"font\": {\"color\": \"#000000\"}, \"showarrow\": false}, {\"xref\": \"x1\", \"xanchor\": \"left\", \"yref\": \"y1\", \"text\": \"UCLA\", \"align\": \"left\", \"y\": 20, \"x\": -0.45, \"font\": {\"color\": \"#000000\"}, \"showarrow\": false}, {\"xref\": \"x1\", \"xanchor\": \"left\", \"yref\": \"y1\", \"text\": \"64\", \"align\": \"left\", \"y\": 20, \"x\": 0.55, \"font\": {\"color\": \"#000000\"}, \"showarrow\": false}, {\"xref\": \"x1\", \"xanchor\": \"left\", \"yref\": \"y1\", \"text\": \"78\", \"align\": \"left\", \"y\": 20, \"x\": 1.55, \"font\": {\"color\": \"#000000\"}, \"showarrow\": false}, {\"xref\": \"x1\", \"xanchor\": \"left\", \"yref\": \"y1\", \"text\": \"14\", \"align\": \"left\", \"y\": 20, \"x\": 2.55, \"font\": {\"color\": \"#000000\"}, \"showarrow\": false}, {\"xref\": \"x1\", \"xanchor\": \"left\", \"yref\": \"y1\", \"text\": \"SoCal\", \"align\": \"left\", \"y\": 21, \"x\": -0.45, \"font\": {\"color\": \"#000000\"}, \"showarrow\": false}, {\"xref\": \"x1\", \"xanchor\": \"left\", \"yref\": \"y1\", \"text\": \"72\", \"align\": \"left\", \"y\": 21, \"x\": 0.55, \"font\": {\"color\": \"#000000\"}, \"showarrow\": false}, {\"xref\": \"x1\", \"xanchor\": \"left\", \"yref\": \"y1\", \"text\": \"81\", \"align\": \"left\", \"y\": 21, \"x\": 1.55, \"font\": {\"color\": \"#000000\"}, \"showarrow\": false}, {\"xref\": \"x1\", \"xanchor\": \"left\", \"yref\": \"y1\", \"text\": \"9\", \"align\": \"left\", \"y\": 21, \"x\": 2.55, \"font\": {\"color\": \"#000000\"}, \"showarrow\": false}], \"xaxis\": {\"showticklabels\": false, \"tick0\": -0.5, \"ticks\": \"\", \"gridwidth\": 2, \"dtick\": 1, \"zeroline\": false}, \"height\": 710}, {\"linkText\": \"Export to plot.ly\", \"showLink\": true})});</script>"
      ]
     },
     "metadata": {},
     "output_type": "display_data"
    }
   ],
   "source": [
    "import plotly.plotly as py\n",
    "import plotly.figure_factory as ff\n",
    "import pandas as pd\n",
    "\n",
    "df = pd.read_csv(\"https://raw.githubusercontent.com/plotly/datasets/master/school_earnings.csv\")\n",
    "\n",
    "table = ff.create_table(df)\n",
    "#plotly.offline.iplot(table, filename='jupyter/table1')                           #filename does what here?\n",
    "plotly.offline.iplot(table)"
   ]
  },
  {
   "cell_type": "code",
   "execution_count": 224,
   "metadata": {},
   "outputs": [
    {
     "data": {
      "application/vnd.plotly.v1+json": {
       "data": [
        {
         "type": "bar",
         "x": [
          "MIT",
          "Stanford",
          "Harvard",
          "U.Penn",
          "Princeton",
          "Chicago",
          "Georgetown",
          "Tufts",
          "Yale",
          "Columbia",
          "Duke",
          "Dartmouth",
          "NYU",
          "Notre Dame",
          "Cornell",
          "Michigan",
          "Brown",
          "Berkeley",
          "Emory",
          "UCLA",
          "SoCal"
         ],
         "y": [
          58,
          55,
          53,
          49,
          47,
          40,
          37,
          36,
          35,
          33,
          31,
          30,
          27,
          27,
          27,
          22,
          20,
          17,
          14,
          14,
          9
         ]
        }
       ],
       "layout": {}
      },
      "text/html": [
       "<div id=\"7febcdb3-b404-48f7-8ba7-354e7b06cc02\" style=\"height: 525px; width: 100%;\" class=\"plotly-graph-div\"></div><script type=\"text/javascript\">require([\"plotly\"], function(Plotly) { window.PLOTLYENV=window.PLOTLYENV || {};window.PLOTLYENV.BASE_URL=\"https://plot.ly\";Plotly.newPlot(\"7febcdb3-b404-48f7-8ba7-354e7b06cc02\", [{\"y\": [58, 55, 53, 49, 47, 40, 37, 36, 35, 33, 31, 30, 27, 27, 27, 22, 20, 17, 14, 14, 9], \"x\": [\"MIT\", \"Stanford\", \"Harvard\", \"U.Penn\", \"Princeton\", \"Chicago\", \"Georgetown\", \"Tufts\", \"Yale\", \"Columbia\", \"Duke\", \"Dartmouth\", \"NYU\", \"Notre Dame\", \"Cornell\", \"Michigan\", \"Brown\", \"Berkeley\", \"Emory\", \"UCLA\", \"SoCal\"], \"type\": \"bar\"}], {}, {\"linkText\": \"Export to plot.ly\", \"showLink\": true})});</script>"
      ],
      "text/vnd.plotly.v1+html": [
       "<div id=\"7febcdb3-b404-48f7-8ba7-354e7b06cc02\" style=\"height: 525px; width: 100%;\" class=\"plotly-graph-div\"></div><script type=\"text/javascript\">require([\"plotly\"], function(Plotly) { window.PLOTLYENV=window.PLOTLYENV || {};window.PLOTLYENV.BASE_URL=\"https://plot.ly\";Plotly.newPlot(\"7febcdb3-b404-48f7-8ba7-354e7b06cc02\", [{\"y\": [58, 55, 53, 49, 47, 40, 37, 36, 35, 33, 31, 30, 27, 27, 27, 22, 20, 17, 14, 14, 9], \"x\": [\"MIT\", \"Stanford\", \"Harvard\", \"U.Penn\", \"Princeton\", \"Chicago\", \"Georgetown\", \"Tufts\", \"Yale\", \"Columbia\", \"Duke\", \"Dartmouth\", \"NYU\", \"Notre Dame\", \"Cornell\", \"Michigan\", \"Brown\", \"Berkeley\", \"Emory\", \"UCLA\", \"SoCal\"], \"type\": \"bar\"}], {}, {\"linkText\": \"Export to plot.ly\", \"showLink\": true})});</script>"
      ]
     },
     "metadata": {},
     "output_type": "display_data"
    }
   ],
   "source": [
    "data = [go.Bar(x=df.School,\n",
    "            y=df.Gap)]\n",
    "\n",
    "plotly.offline.iplot(data, filename='jupyter/basic_bar')"
   ]
  },
  {
   "cell_type": "code",
   "execution_count": 225,
   "metadata": {},
   "outputs": [
    {
     "data": {
      "application/vnd.plotly.v1+json": {
       "data": [
        {
         "marker": {
          "color": "#ffcdd2"
         },
         "name": "Women",
         "type": "bar",
         "x": [
          "MIT",
          "Stanford",
          "Harvard",
          "U.Penn",
          "Princeton",
          "Chicago",
          "Georgetown",
          "Tufts",
          "Yale",
          "Columbia",
          "Duke",
          "Dartmouth",
          "NYU",
          "Notre Dame",
          "Cornell",
          "Michigan",
          "Brown",
          "Berkeley",
          "Emory",
          "UCLA",
          "SoCal"
         ],
         "y": [
          94,
          96,
          112,
          92,
          90,
          78,
          94,
          76,
          79,
          86,
          93,
          84,
          67,
          73,
          80,
          62,
          72,
          71,
          68,
          64,
          72
         ]
        },
        {
         "marker": {
          "color": "#A2D5F2"
         },
         "name": "Men",
         "type": "bar",
         "x": [
          "MIT",
          "Stanford",
          "Harvard",
          "U.Penn",
          "Princeton",
          "Chicago",
          "Georgetown",
          "Tufts",
          "Yale",
          "Columbia",
          "Duke",
          "Dartmouth",
          "NYU",
          "Notre Dame",
          "Cornell",
          "Michigan",
          "Brown",
          "Berkeley",
          "Emory",
          "UCLA",
          "SoCal"
         ],
         "y": [
          152,
          151,
          165,
          141,
          137,
          118,
          131,
          112,
          114,
          119,
          124,
          114,
          94,
          100,
          107,
          84,
          92,
          88,
          82,
          78,
          81
         ]
        },
        {
         "marker": {
          "color": "#59606D"
         },
         "name": "Gap",
         "type": "bar",
         "x": [
          "MIT",
          "Stanford",
          "Harvard",
          "U.Penn",
          "Princeton",
          "Chicago",
          "Georgetown",
          "Tufts",
          "Yale",
          "Columbia",
          "Duke",
          "Dartmouth",
          "NYU",
          "Notre Dame",
          "Cornell",
          "Michigan",
          "Brown",
          "Berkeley",
          "Emory",
          "UCLA",
          "SoCal"
         ],
         "y": [
          58,
          55,
          53,
          49,
          47,
          40,
          37,
          36,
          35,
          33,
          31,
          30,
          27,
          27,
          27,
          22,
          20,
          17,
          14,
          14,
          9
         ]
        }
       ],
       "layout": {}
      },
      "text/html": [
       "<div id=\"7b31b6f6-8a8d-4281-ad36-5ed388865c12\" style=\"height: 525px; width: 100%;\" class=\"plotly-graph-div\"></div><script type=\"text/javascript\">require([\"plotly\"], function(Plotly) { window.PLOTLYENV=window.PLOTLYENV || {};window.PLOTLYENV.BASE_URL=\"https://plot.ly\";Plotly.newPlot(\"7b31b6f6-8a8d-4281-ad36-5ed388865c12\", [{\"marker\": {\"color\": \"#ffcdd2\"}, \"y\": [94, 96, 112, 92, 90, 78, 94, 76, 79, 86, 93, 84, 67, 73, 80, 62, 72, 71, 68, 64, 72], \"type\": \"bar\", \"name\": \"Women\", \"x\": [\"MIT\", \"Stanford\", \"Harvard\", \"U.Penn\", \"Princeton\", \"Chicago\", \"Georgetown\", \"Tufts\", \"Yale\", \"Columbia\", \"Duke\", \"Dartmouth\", \"NYU\", \"Notre Dame\", \"Cornell\", \"Michigan\", \"Brown\", \"Berkeley\", \"Emory\", \"UCLA\", \"SoCal\"]}, {\"marker\": {\"color\": \"#A2D5F2\"}, \"y\": [152, 151, 165, 141, 137, 118, 131, 112, 114, 119, 124, 114, 94, 100, 107, 84, 92, 88, 82, 78, 81], \"type\": \"bar\", \"name\": \"Men\", \"x\": [\"MIT\", \"Stanford\", \"Harvard\", \"U.Penn\", \"Princeton\", \"Chicago\", \"Georgetown\", \"Tufts\", \"Yale\", \"Columbia\", \"Duke\", \"Dartmouth\", \"NYU\", \"Notre Dame\", \"Cornell\", \"Michigan\", \"Brown\", \"Berkeley\", \"Emory\", \"UCLA\", \"SoCal\"]}, {\"marker\": {\"color\": \"#59606D\"}, \"y\": [58, 55, 53, 49, 47, 40, 37, 36, 35, 33, 31, 30, 27, 27, 27, 22, 20, 17, 14, 14, 9], \"type\": \"bar\", \"name\": \"Gap\", \"x\": [\"MIT\", \"Stanford\", \"Harvard\", \"U.Penn\", \"Princeton\", \"Chicago\", \"Georgetown\", \"Tufts\", \"Yale\", \"Columbia\", \"Duke\", \"Dartmouth\", \"NYU\", \"Notre Dame\", \"Cornell\", \"Michigan\", \"Brown\", \"Berkeley\", \"Emory\", \"UCLA\", \"SoCal\"]}], {}, {\"linkText\": \"Export to plot.ly\", \"showLink\": {\"title\": \"Average Earnings for Graduates\", \"xaxis\": {\"title\": \"School\"}, \"yaxis\": {\"title\": \"Salary (in thousands)\"}}})});</script>"
      ],
      "text/vnd.plotly.v1+html": [
       "<div id=\"7b31b6f6-8a8d-4281-ad36-5ed388865c12\" style=\"height: 525px; width: 100%;\" class=\"plotly-graph-div\"></div><script type=\"text/javascript\">require([\"plotly\"], function(Plotly) { window.PLOTLYENV=window.PLOTLYENV || {};window.PLOTLYENV.BASE_URL=\"https://plot.ly\";Plotly.newPlot(\"7b31b6f6-8a8d-4281-ad36-5ed388865c12\", [{\"marker\": {\"color\": \"#ffcdd2\"}, \"y\": [94, 96, 112, 92, 90, 78, 94, 76, 79, 86, 93, 84, 67, 73, 80, 62, 72, 71, 68, 64, 72], \"type\": \"bar\", \"name\": \"Women\", \"x\": [\"MIT\", \"Stanford\", \"Harvard\", \"U.Penn\", \"Princeton\", \"Chicago\", \"Georgetown\", \"Tufts\", \"Yale\", \"Columbia\", \"Duke\", \"Dartmouth\", \"NYU\", \"Notre Dame\", \"Cornell\", \"Michigan\", \"Brown\", \"Berkeley\", \"Emory\", \"UCLA\", \"SoCal\"]}, {\"marker\": {\"color\": \"#A2D5F2\"}, \"y\": [152, 151, 165, 141, 137, 118, 131, 112, 114, 119, 124, 114, 94, 100, 107, 84, 92, 88, 82, 78, 81], \"type\": \"bar\", \"name\": \"Men\", \"x\": [\"MIT\", \"Stanford\", \"Harvard\", \"U.Penn\", \"Princeton\", \"Chicago\", \"Georgetown\", \"Tufts\", \"Yale\", \"Columbia\", \"Duke\", \"Dartmouth\", \"NYU\", \"Notre Dame\", \"Cornell\", \"Michigan\", \"Brown\", \"Berkeley\", \"Emory\", \"UCLA\", \"SoCal\"]}, {\"marker\": {\"color\": \"#59606D\"}, \"y\": [58, 55, 53, 49, 47, 40, 37, 36, 35, 33, 31, 30, 27, 27, 27, 22, 20, 17, 14, 14, 9], \"type\": \"bar\", \"name\": \"Gap\", \"x\": [\"MIT\", \"Stanford\", \"Harvard\", \"U.Penn\", \"Princeton\", \"Chicago\", \"Georgetown\", \"Tufts\", \"Yale\", \"Columbia\", \"Duke\", \"Dartmouth\", \"NYU\", \"Notre Dame\", \"Cornell\", \"Michigan\", \"Brown\", \"Berkeley\", \"Emory\", \"UCLA\", \"SoCal\"]}], {}, {\"linkText\": \"Export to plot.ly\", \"showLink\": {\"title\": \"Average Earnings for Graduates\", \"xaxis\": {\"title\": \"School\"}, \"yaxis\": {\"title\": \"Salary (in thousands)\"}}})});</script>"
      ]
     },
     "metadata": {},
     "output_type": "display_data"
    }
   ],
   "source": [
    "from plotly.graph_objs import *  #testing\n",
    "\n",
    "trace_women = Bar(x=df.School,\n",
    "                  y=df.Women,\n",
    "                  name='Women',\n",
    "                  marker=dict(color='#ffcdd2'))\n",
    "\n",
    "trace_men = Bar(x=df.School,\n",
    "                y=df.Men,\n",
    "                name='Men',\n",
    "                marker=dict(color='#A2D5F2'))\n",
    "\n",
    "trace_gap = Bar(x=df.School,\n",
    "                y=df.Gap,\n",
    "                name='Gap',\n",
    "                marker=dict(color='#59606D'))\n",
    "\n",
    "data = [trace_women, trace_men, trace_gap]\n",
    "layout = Layout(title=\"Average Earnings for Graduates\",\n",
    "                xaxis=dict(title='School'),\n",
    "                yaxis=dict(title='Salary (in thousands)'))\n",
    "fig = Figure(data=data, layout=layout)\n",
    "\n",
    "#plotly.offline.iplot(fig, filename='jupyter/styled_bar')\n",
    "plotly.offline.iplot(data, layout)"
   ]
  },
  {
   "cell_type": "code",
   "execution_count": 226,
   "metadata": {},
   "outputs": [
    {
     "name": "stdout",
     "output_type": "stream",
     "text": [
      "run complete\n"
     ]
    }
   ],
   "source": [
    "#create Dataframe for all settlement-results, which will be calculated \n",
    "\n",
    "DF_all = pd.DataFrame()\n",
    "\n",
    "# import the DataFrame with calculated Results from GIS\n",
    "tv_df = pd.read_csv('Ostroehre.TunnelExcavationData.R2.csv',index_col=0)\n",
    "\n",
    "# calculate settlements at stationed points along tunnel alignment\n",
    "len_df = len(tv_df.index) - 1   #how many points are there -> length of loop\n",
    "for i in range(len_df): #start loop\n",
    "    a=array( [tv_df['Easting'][i], tv_df['Northing'][i], tv_df['Elevation'][i], tv_df['DTM'][i], tv_df['RockCover'][i]]) # read in the values which are needed for calculation of point i\n",
    "    a=asfarray(a,float)\n",
    "    b=array( [tv_df['Easting'][i+1], tv_df['Northing'][i+1], tv_df['Elevation'][i+1], tv_df['DTM'][i+1], tv_df['RockCover'][i+1]] ) # read in the values which are needed for calculation of point i+1\n",
    "    b=asfarray(b,float)    \n",
    "    z_0=a[3]-a[2]   #overburden in [m]\n",
    "    if z_0 < 4: #if the overburden is < 4, stop calculation (-> Tagbautunnel)\n",
    "        continue\n",
    "    #calculate normalvector for settlement\n",
    "    ab = array([ abs(b[0]-a[0]),abs(b[1]-a[1]) ])   #vector between point i and i+1\n",
    "    n1 = 1.0  \n",
    "    n2 =( ab[0]*n1) / (ab[1])\n",
    "    n_length = (n1**2 + n2**2)**0.5   #calculate length of normalvector\n",
    "    n0 = array([n1,n2]) / n_length     #normalvector with length 1.0\n",
    "    resolution = 2.0\n",
    "    x_dir = arange(-40,40,resolution) #vector for calculating settlements \n",
    "    \n",
    "    x = n0[0]*x_dir   #vector in GIS System\n",
    "    \n",
    "    xi = a[0]+n0[0]*x_dir   #x-coordinates of vector for GIS map\n",
    "    yi = a[1]+n0[1]*x_dir   #y-coordinates of vector for GIS map\n",
    "    \n",
    "    x_0 = array([xi,yi])     #x- and y- coordinates of vector \n",
    "    \n",
    "  \n",
    "    '''Calculate Greenfield-Settlements with Gauss Kurve'''\n",
    "    #Input Paraneter\n",
    "    D_t=13.0    #Tunneldiameter in [m]                                                       #mv to input above\n",
    "    K_g=0.5   #K_g [0.4-0.6] nach Fillibeck für nichtbindigen Boden, dicht gelagert\n",
    "    K_t=0.7   #K_t [0.5-0.9] nach Fillibeck für bindigen Boden, dicht gelagert\n",
    "    \n",
    "    if a[4] < 0.0 :                                                                          #a[4]: rockcover\n",
    "        i_0=K_g*z_0   #Wendepunktabstand für Tunnel im Lockergestein                         #z_0 : total cover\n",
    "    else:                                                                                    #elif a[4] > 0.0 :\n",
    "        i_0=K_t * a[4] + K_g*(z_0-a[4])   #Wendepunktabstand für Tunnel im Fels\n",
    "\n",
    "    A_t = ((D_t**2.0) * pi) / 4.0\n",
    "    V_l= 0.0064*(A_t/z_0)**(-0.75)  #nach Fillibeck,90%-Wahrscheinlichkeit, gilt für h/d>0.3\n",
    "\n",
    "    S= -((pi/2)**(0.5)) * (V_l*(D_t**2))/(4*i_0) *exp(-(x_dir**2)/(2*i_0**2))   #calculate Settlement trough with gaussian curve\n",
    "    beta=zeros((len(S)))    #creates vector for tangentenneigung\n",
    "    beta[1:]=(diff(S)/resolution)  #tangentenneigung der setzungen\n",
    "\n",
    "    \n",
    "    '''classifydamage classes'''\n",
    "    #classify beta into different damage classes\n",
    "    dc_beta=chararray((len(S)),itemsize=3)\n",
    "    dc_beta[abs(beta)<=(1./1000.)] = 'DC1'\n",
    "    dc_beta[((1./1000.)<abs(beta)) & (abs(beta)<(1./500.))] = 'DC2'\n",
    "    dc_beta[abs(beta)>=(1./500.)] = 'DC3'\n",
    "    \n",
    "    #classify settlements into different damage classes\n",
    "    dc_s=chararray((len(S)),itemsize=3)\n",
    "    dc_s[abs(S*1000.)<=5.] = 'DC1'\n",
    "    dc_s[(5< abs(S*1000.)) & (abs(S*1000.)<25.)] = 'DC2'\n",
    "    dc_s[abs(S*1000.)>=25.] = 'DC3'\n",
    "    \n",
    "    #classify settlements and beta into different damage classes\n",
    "    dc=chararray((len(S)),itemsize=3)\n",
    "    dc[ (abs(beta)<=1./500.) | (abs(S*1000)<=5.)] = 'DC1'\n",
    "    dc[ ((1./500.<abs(beta)) & (abs(beta)<1./250.)) | ((5<abs(S*1000)) & (abs(S*1000)<25.))] = 'DC2'\n",
    "    dc[ (abs(beta)>=1./250.) | (abs(S*1000)>=25.)] = 'DC3'\n",
    "    \n",
    "    '''data frame'''\n",
    "    #create dataframe including the calculated settlements etc. \n",
    "    D= {'A. Point Coordinates x':a[0],\n",
    "        'B. Point Coordinates y':a[1],\n",
    "        'C. Normal Vector x': x_0[0],\n",
    "        'D. Normal Vector y': x_0[1],\n",
    "        'E. Settlement [mm]': S*1000,\n",
    "        'F. Tangentenneigung': beta,\n",
    "        'G. DC_Beta': dc_beta,\n",
    "        'H. DC_Settlement': dc_s,\n",
    "        'I. DamageClass' : dc,\n",
    "        'J. z_0': z_0,}\n",
    "    \n",
    "    DF = pd.DataFrame(D)\n",
    "\n",
    "    #append the calculated values to the dataframe\n",
    "    DF_all=DF_all.append(DF)\n",
    "    \n",
    "#when loop is finished, safe dataframe to .csv\n",
    "DF_all.to_csv('Settlement.csv')\n",
    "print('run complete')"
   ]
  },
  {
   "cell_type": "code",
   "execution_count": 227,
   "metadata": {},
   "outputs": [
    {
     "name": "stdout",
     "output_type": "stream",
     "text": [
      "          Station      Easting     Northing  Elevation      DTM  RockSurface  \\\n",
      "0       204+874.1  2612071.548  1269294.122    270.962  253.524      236.000   \n",
      "1         204+876  2612072.991  1269295.359    270.989  253.612      236.000   \n",
      "2         204+879  2612075.303  1269297.270    271.033  253.160      236.000   \n",
      "3         204+882  2612077.657  1269299.129    271.076  253.160      235.815   \n",
      "4         204+885  2612080.052  1269300.936    271.120  252.934      235.815   \n",
      "5         204+888  2612082.487  1269302.689    271.163  252.934      235.815   \n",
      "6         204+891  2612084.959  1269304.388    271.207  252.934      235.815   \n",
      "7         204+894  2612087.469  1269306.031    271.250  252.574      235.815   \n",
      "8         204+897  2612090.014  1269307.619    271.294  252.013      235.815   \n",
      "9         204+900  2612092.594  1269309.150    271.337  252.013      235.707   \n",
      "10        204+903  2612095.208  1269310.623    271.381  251.805      235.707   \n",
      "11        204+906  2612097.853  1269312.038    271.424  251.805      235.707   \n",
      "12        204+909  2612100.529  1269313.394    271.468  251.631      235.707   \n",
      "13        204+912  2612103.234  1269314.690    271.511  251.631      235.707   \n",
      "14        204+915  2612105.968  1269315.927    271.555  251.149      235.707   \n",
      "15        204+918  2612108.728  1269317.102    271.598  251.149      235.707   \n",
      "16        204+921  2612111.513  1269318.216    271.642  251.157      235.707   \n",
      "17        204+924  2612114.323  1269319.268    271.685  251.157      236.000   \n",
      "18        204+927  2612117.155  1269320.257    271.729  250.696      236.000   \n",
      "19    204+927.637  2612117.759  1269320.459    271.738  250.696      236.000   \n",
      "20        204+930  2612120.008  1269321.183    271.771  250.666      236.000   \n",
      "21        204+933  2612122.881  1269322.046    271.811  250.666      236.000   \n",
      "22        204+936  2612125.773  1269322.845    271.847  250.637      236.000   \n",
      "23        204+939  2612128.682  1269323.580    271.879  250.637      236.000   \n",
      "24        204+942  2612131.606  1269324.250    271.909  250.638      236.000   \n",
      "25        204+945  2612134.544  1269324.855    271.935  250.638      235.707   \n",
      "26        204+948  2612137.495  1269325.395    271.958  248.991      235.707   \n",
      "27        204+951  2612140.457  1269325.869    271.978  249.589      235.707   \n",
      "28        204+954  2612143.429  1269326.277    271.994  249.589      235.707   \n",
      "29        204+957  2612146.409  1269326.620    272.007  250.456      235.707   \n",
      "...           ...          ...          ...        ...      ...          ...   \n",
      "1561      209+442  2614587.154  1266042.048    269.188  269.972      256.333   \n",
      "1562      209+445  2614586.161  1266039.217    269.172  270.033      256.333   \n",
      "1563      209+448  2614585.167  1266036.386    269.156  270.033      256.667   \n",
      "1564      209+451  2614584.174  1266033.556    269.140  269.901      256.500   \n",
      "1565      209+454  2614583.180  1266030.725    269.123  269.901      256.500   \n",
      "1566      209+457  2614582.187  1266027.894    269.106  270.015      256.500   \n",
      "1567      209+460  2614581.193  1266025.064    269.088  270.015      256.500   \n",
      "1568      209+463  2614580.200  1266022.233    269.070  269.917      256.500   \n",
      "1569      209+466  2614579.207  1266019.402    269.051  269.792      256.500   \n",
      "1570      209+469  2614578.213  1266016.571    269.033  269.792      256.500   \n",
      "1571      209+472  2614577.220  1266013.741    269.013  269.880      256.500   \n",
      "1572      209+475  2614576.226  1266010.910    268.994  269.880      256.000   \n",
      "1573      209+478  2614575.233  1266008.079    268.974  269.913      256.000   \n",
      "1574      209+481  2614574.239  1266005.248    268.953  269.760      256.000   \n",
      "1575      209+484  2614573.246  1266002.418    268.932  269.723      256.000   \n",
      "1576      209+487  2614572.252  1265999.587    268.911  269.706      256.000   \n",
      "1577      209+490  2614571.259  1265996.756    268.889  269.706      256.000   \n",
      "1578      209+493  2614570.266  1265993.925    268.867  269.768      256.000   \n",
      "1579      209+496  2614569.272  1265991.095    268.845  269.673      256.000   \n",
      "1580      209+499  2614568.279  1265988.264    268.822  269.608      256.000   \n",
      "1581      209+502  2614567.285  1265985.433    268.798  269.608      256.000   \n",
      "1582      209+505  2614566.292  1265982.602    268.775  269.615      256.000   \n",
      "1583      209+508  2614565.298  1265979.772    268.751  269.634      256.500   \n",
      "1584      209+511  2614564.305  1265976.941    268.726  269.582      256.500   \n",
      "1585      209+514  2614563.312  1265974.110    268.701  269.566      256.500   \n",
      "1586      209+517  2614562.318  1265971.280    268.676  269.566      256.000   \n",
      "1587      209+520  2614561.325  1265968.449    268.650  269.590      256.000   \n",
      "1588      209+523  2614560.331  1265965.618    268.624  269.590      256.000   \n",
      "1589      209+526  2614559.338  1265962.787    268.598  269.381      256.000   \n",
      "1590  209+528.128  2614558.633  1265960.779    268.579  269.381      256.000   \n",
      "\n",
      "      StationReal  RockCover WBScode WorkType       ...       ProfileType  \\\n",
      "0      204874.100    -34.962       1      NaN       ...               NaN   \n",
      "1      204876.000    -34.989       1      NaN       ...               NaN   \n",
      "2      204879.000    -35.033       1      NaN       ...               NaN   \n",
      "3      204882.000    -35.261       1      NaN       ...               NaN   \n",
      "4      204885.000    -35.305       1      NaN       ...               NaN   \n",
      "5      204888.000    -35.348       1      NaN       ...               NaN   \n",
      "6      204891.000    -35.392       1      NaN       ...               NaN   \n",
      "7      204894.000    -35.435       1      NaN       ...               NaN   \n",
      "8      204897.000    -35.479       1      NaN       ...               NaN   \n",
      "9      204900.000    -35.630       1      NaN       ...               NaN   \n",
      "10     204903.000    -35.674       1      NaN       ...               NaN   \n",
      "11     204906.000    -35.717       1      NaN       ...               NaN   \n",
      "12     204909.000    -35.761       1      NaN       ...               NaN   \n",
      "13     204912.000    -35.804       1      NaN       ...               NaN   \n",
      "14     204915.000    -35.848       1      NaN       ...               NaN   \n",
      "15     204918.000    -35.891       1      NaN       ...               NaN   \n",
      "16     204921.000    -35.935       1      NaN       ...               NaN   \n",
      "17     204924.000    -35.685       1      NaN       ...               NaN   \n",
      "18     204927.000    -35.729       1      NaN       ...               NaN   \n",
      "19     204927.637    -35.738       1      NaN       ...               NaN   \n",
      "20     204930.000    -35.771       1      NaN       ...               NaN   \n",
      "21     204933.000    -35.811       1      NaN       ...               NaN   \n",
      "22     204936.000    -35.847       1      NaN       ...               NaN   \n",
      "23     204939.000    -35.879       1      NaN       ...               NaN   \n",
      "24     204942.000    -35.909       1      NaN       ...               NaN   \n",
      "25     204945.000    -36.228       1      NaN       ...               NaN   \n",
      "26     204948.000    -36.251       1      NaN       ...               NaN   \n",
      "27     204951.000    -36.271       1      NaN       ...               NaN   \n",
      "28     204954.000    -36.287       1      NaN       ...               NaN   \n",
      "29     204957.000    -36.300       1      NaN       ...               NaN   \n",
      "...           ...        ...     ...      ...       ...               ...   \n",
      "1561   209442.000    -12.855       1      NaN       ...               NaN   \n",
      "1562   209445.000    -12.839       1      NaN       ...               NaN   \n",
      "1563   209448.000    -12.489       1      NaN       ...               NaN   \n",
      "1564   209451.000    -12.640       1      NaN       ...               NaN   \n",
      "1565   209454.000    -12.623       1      NaN       ...               NaN   \n",
      "1566   209457.000    -12.606       1      NaN       ...               NaN   \n",
      "1567   209460.000    -12.588       1      NaN       ...               NaN   \n",
      "1568   209463.000    -12.570       1      NaN       ...               NaN   \n",
      "1569   209466.000    -12.551       1      NaN       ...               NaN   \n",
      "1570   209469.000    -12.533       1      NaN       ...               NaN   \n",
      "1571   209472.000    -12.513       1      NaN       ...               NaN   \n",
      "1572   209475.000    -12.994       1      NaN       ...               NaN   \n",
      "1573   209478.000    -12.974       1      NaN       ...               NaN   \n",
      "1574   209481.000    -12.953       1      NaN       ...               NaN   \n",
      "1575   209484.000    -12.932       1      NaN       ...               NaN   \n",
      "1576   209487.000    -12.911       1      NaN       ...               NaN   \n",
      "1577   209490.000    -12.889       1      NaN       ...               NaN   \n",
      "1578   209493.000    -12.867       1      NaN       ...               NaN   \n",
      "1579   209496.000    -12.845       1      NaN       ...               NaN   \n",
      "1580   209499.000    -12.822       1      NaN       ...               NaN   \n",
      "1581   209502.000    -12.798       1      NaN       ...               NaN   \n",
      "1582   209505.000    -12.775       1      NaN       ...               NaN   \n",
      "1583   209508.000    -12.251       1      NaN       ...               NaN   \n",
      "1584   209511.000    -12.226       1      NaN       ...               NaN   \n",
      "1585   209514.000    -12.201       1      NaN       ...               NaN   \n",
      "1586   209517.000    -12.676       1      NaN       ...               NaN   \n",
      "1587   209520.000    -12.650       1      NaN       ...               NaN   \n",
      "1588   209523.000    -12.624       1      NaN       ...               NaN   \n",
      "1589   209526.000    -12.598       1      NaN       ...               NaN   \n",
      "1590   209528.128    -12.579       1      NaN       ...               NaN   \n",
      "\n",
      "     SectionArea  Description Unit BoreClass SupportClass DisposalClass  \\\n",
      "0            NaN      highway   m3       NaN          NaN           NaN   \n",
      "1            NaN      highway   m3       NaN          NaN           NaN   \n",
      "2            NaN      highway   m3       NaN          NaN           NaN   \n",
      "3            NaN      highway   m3       NaN          NaN           NaN   \n",
      "4            NaN      highway   m3       NaN          NaN           NaN   \n",
      "5            NaN      highway   m3       NaN          NaN           NaN   \n",
      "6            NaN      highway   m3       NaN          NaN           NaN   \n",
      "7            NaN      highway   m3       NaN          NaN           NaN   \n",
      "8            NaN      highway   m3       NaN          NaN           NaN   \n",
      "9            NaN      highway   m3       NaN          NaN           NaN   \n",
      "10           NaN      highway   m3       NaN          NaN           NaN   \n",
      "11           NaN      highway   m3       NaN          NaN           NaN   \n",
      "12           NaN      highway   m3       NaN          NaN           NaN   \n",
      "13           NaN      highway   m3       NaN          NaN           NaN   \n",
      "14           NaN      highway   m3       NaN          NaN           NaN   \n",
      "15           NaN      highway   m3       NaN          NaN           NaN   \n",
      "16           NaN      highway   m3       NaN          NaN           NaN   \n",
      "17           NaN      highway   m3       NaN          NaN           NaN   \n",
      "18           NaN      highway   m3       NaN          NaN           NaN   \n",
      "19           NaN      highway   m3       NaN          NaN           NaN   \n",
      "20           NaN      highway   m3       NaN          NaN           NaN   \n",
      "21           NaN      highway   m3       NaN          NaN           NaN   \n",
      "22           NaN      highway   m3       NaN          NaN           NaN   \n",
      "23           NaN      highway   m3       NaN          NaN           NaN   \n",
      "24           NaN      highway   m3       NaN          NaN           NaN   \n",
      "25           NaN      highway   m3       NaN          NaN           NaN   \n",
      "26           NaN      highway   m3       NaN          NaN           NaN   \n",
      "27           NaN      highway   m3       NaN          NaN           NaN   \n",
      "28           NaN      highway   m3       NaN          NaN           NaN   \n",
      "29           NaN      highway   m3       NaN          NaN           NaN   \n",
      "...          ...          ...  ...       ...          ...           ...   \n",
      "1561         NaN      highway   m3       NaN          NaN           NaN   \n",
      "1562         NaN      highway   m3       NaN          NaN           NaN   \n",
      "1563         NaN      highway   m3       NaN          NaN           NaN   \n",
      "1564         NaN      highway   m3       NaN          NaN           NaN   \n",
      "1565         NaN      highway   m3       NaN          NaN           NaN   \n",
      "1566         NaN      highway   m3       NaN          NaN           NaN   \n",
      "1567         NaN      highway   m3       NaN          NaN           NaN   \n",
      "1568         NaN      highway   m3       NaN          NaN           NaN   \n",
      "1569         NaN      highway   m3       NaN          NaN           NaN   \n",
      "1570         NaN      highway   m3       NaN          NaN           NaN   \n",
      "1571         NaN      highway   m3       NaN          NaN           NaN   \n",
      "1572         NaN      highway   m3       NaN          NaN           NaN   \n",
      "1573         NaN      highway   m3       NaN          NaN           NaN   \n",
      "1574         NaN      highway   m3       NaN          NaN           NaN   \n",
      "1575         NaN      highway   m3       NaN          NaN           NaN   \n",
      "1576         NaN      highway   m3       NaN          NaN           NaN   \n",
      "1577         NaN      highway   m3       NaN          NaN           NaN   \n",
      "1578         NaN      highway   m3       NaN          NaN           NaN   \n",
      "1579         NaN      highway   m3       NaN          NaN           NaN   \n",
      "1580         NaN      highway   m3       NaN          NaN           NaN   \n",
      "1581         NaN      highway   m3       NaN          NaN           NaN   \n",
      "1582         NaN      highway   m3       NaN          NaN           NaN   \n",
      "1583         NaN      highway   m3       NaN          NaN           NaN   \n",
      "1584         NaN      highway   m3       NaN          NaN           NaN   \n",
      "1585         NaN      highway   m3       NaN          NaN           NaN   \n",
      "1586         NaN      highway   m3       NaN          NaN           NaN   \n",
      "1587         NaN      highway   m3       NaN          NaN           NaN   \n",
      "1588         NaN      highway   m3       NaN          NaN           NaN   \n",
      "1589         NaN      highway   m3       NaN          NaN           NaN   \n",
      "1590         NaN      highway   m3       NaN          NaN           NaN   \n",
      "\n",
      "     StationInterval  ExcavationVolume  DisposalVolume  \n",
      "0           1.900828               NaN             NaN  \n",
      "1           2.999867               NaN             NaN  \n",
      "2           2.999841               NaN             NaN  \n",
      "3           3.000535               NaN             NaN  \n",
      "4           3.000680               NaN             NaN  \n",
      "5           2.999887               NaN             NaN  \n",
      "6           3.000233               NaN             NaN  \n",
      "7           3.000117               NaN             NaN  \n",
      "8           3.000368               NaN             NaN  \n",
      "9           3.000777               NaN             NaN  \n",
      "10          3.000016               NaN             NaN  \n",
      "11          3.000275               NaN             NaN  \n",
      "12          2.999748               NaN             NaN  \n",
      "13          3.001143               NaN             NaN  \n",
      "14          3.000012               NaN             NaN  \n",
      "15          2.999859               NaN             NaN  \n",
      "16          3.000775               NaN             NaN  \n",
      "17          3.000047               NaN             NaN  \n",
      "18          0.636947               NaN             NaN  \n",
      "19          2.362894               NaN             NaN  \n",
      "20          3.000083               NaN             NaN  \n",
      "21          3.000560               NaN             NaN  \n",
      "22          3.000588               NaN             NaN  \n",
      "23          2.999929               NaN             NaN  \n",
      "24          2.999757               NaN             NaN  \n",
      "25          3.000088               NaN             NaN  \n",
      "26          2.999753               NaN             NaN  \n",
      "27          2.999917               NaN             NaN  \n",
      "28          2.999703               NaN             NaN  \n",
      "29          3.000737               NaN             NaN  \n",
      "...              ...               ...             ...  \n",
      "1561        3.000144               NaN             NaN  \n",
      "1562        3.000475               NaN             NaN  \n",
      "1563        2.999201               NaN             NaN  \n",
      "1564        3.000481               NaN             NaN  \n",
      "1565        3.000150               NaN             NaN  \n",
      "1566        2.999543               NaN             NaN  \n",
      "1567        3.000156               NaN             NaN  \n",
      "1568        3.000162               NaN             NaN  \n",
      "1569        3.000487               NaN             NaN  \n",
      "1570        2.999225               NaN             NaN  \n",
      "1571        3.000493               NaN             NaN  \n",
      "1572        3.000168               NaN             NaN  \n",
      "1573        3.000506               NaN             NaN  \n",
      "1574        2.999232               NaN             NaN  \n",
      "1575        3.000506               NaN             NaN  \n",
      "1576        3.000182               NaN             NaN  \n",
      "1577        3.000182               NaN             NaN  \n",
      "1578        2.999570               NaN             NaN  \n",
      "1579        3.000190               NaN             NaN  \n",
      "1580        3.000529               NaN             NaN  \n",
      "1581        3.000190               NaN             NaN  \n",
      "1582        2.999585               NaN             NaN  \n",
      "1583        3.000206               NaN             NaN  \n",
      "1584        3.000206               NaN             NaN  \n",
      "1585        2.999593               NaN             NaN  \n",
      "1586        3.000214               NaN             NaN  \n",
      "1587        3.000545               NaN             NaN  \n",
      "1588        3.000214               NaN             NaN  \n",
      "1589        2.128250               NaN             NaN  \n",
      "1590             NaN               NaN             NaN  \n",
      "\n",
      "[1593 rows x 21 columns]\n"
     ]
    }
   ],
   "source": [
    "print(tv_df)"
   ]
  },
  {
   "cell_type": "code",
   "execution_count": 228,
   "metadata": {},
   "outputs": [
    {
     "name": "stdout",
     "output_type": "stream",
     "text": [
      "lost volume (m3): [ 0.26546436  0.53092871]\n",
      "inflection length (m): [ 10.4   5.2]\n",
      "max settlement (m): [ 0.01018155  0.04072621]\n",
      "settlement (m) at: 10.4m = [ 0.00617542  0.00551169]\n"
     ]
    }
   ],
   "source": [
    "# empirical calculation of settlement trough over tunnel (Gauss curve approach)\n",
    "#                                                                                          WBS: 'PM'\n",
    "#                                                                                          WBS: 'Feature'\n",
    "\n",
    "# inputs                                                                                   #ToDo: mv to input above    \n",
    "tunn_diam = 13.0  #tunnel diameter in m\n",
    "tunn_area = 3.14159*(tunn_diam/2)**2\n",
    "tunn_depth = 13.0  #distance between ground surface and tunnel centerline\n",
    "\n",
    "# empirical estimates of calculation parameters\n",
    "c_vol_loss = array([0.002, 0.004]) #empirical values for lost ground as fraction of excavation area\n",
    "c_infl_len = array([0.8, 0.4]) #empirical coeff's to estimate distance centerline to inflection point of gauss curve\n",
    "\n",
    "# statistical estimates of calculation parameters\n",
    "# placeholder\n",
    "\n",
    "# backcalculation estimates of calculation parameters\n",
    "# placeholder\n",
    "\n",
    "# calculate intermediate results\n",
    "vol_lost = lambda tunn_area, c_vol_loss: (\n",
    "    c_vol_loss*tunn_area)\n",
    "infl_len = lambda tunn_depth, c_infl_len: (\n",
    "    c_infl_len*tunn_depth) \n",
    "# calculte settlement at centerline\n",
    "setl_max = lambda vol_lost, infl_len: (\n",
    "    vol_lost / (sqrt(2*3.14259)*infl_len) )\n",
    "# calculate settlment at distance x along gauss curve\n",
    "setl = lambda x, setl_max, infl_len: (\n",
    "    setl_max * exp(- x**2 / (2*infl_len**2))) \n",
    "\n",
    "# results\n",
    "print('lost volume (m3): '+str(vol_lost(tunn_area, c_vol_loss)))\n",
    "print('inflection length (m): '+str(infl_len(tunn_depth, c_infl_len)))\n",
    "print('max settlement (m): '+str(setl_max(vol_lost(tunn_area, c_vol_loss), infl_len(tunn_depth, c_infl_len))))\n",
    "x=10.4\n",
    "print('settlement (m) at: '+str(x)+'m = '+str(\n",
    "        setl(x, setl_max(vol_lost(tunn_area, c_vol_loss), infl_len(tunn_depth, c_infl_len)),\n",
    "               infl_len(tunn_depth, c_infl_len))))\n",
    "\n",
    "#    beta=zeros((len(S)))    #creates vector for tangentenneigung\n",
    "#    beta[1:]=(diff(S)/resolution)  #tangentenneigung der setzungen"
   ]
  },
  {
   "cell_type": "code",
   "execution_count": 1,
   "metadata": {},
   "outputs": [
    {
     "ename": "NameError",
     "evalue": "name 'pi' is not defined",
     "output_type": "error",
     "traceback": [
      "\u001b[0;31m\u001b[0m",
      "\u001b[0;31mNameError\u001b[0mTraceback (most recent call last)",
      "\u001b[0;32m<ipython-input-1-a99081417598>\u001b[0m in \u001b[0;36m<module>\u001b[0;34m()\u001b[0m\n\u001b[1;32m      3\u001b[0m \u001b[0;31m# inputs                                                                                   #ToDo: mv to input above\u001b[0m\u001b[0;34m\u001b[0m\u001b[0;34m\u001b[0m\u001b[0m\n\u001b[1;32m      4\u001b[0m \u001b[0mD\u001b[0m \u001b[0;34m=\u001b[0m \u001b[0;36m13.0\u001b[0m  \u001b[0;31m#tunnel diameter in m\u001b[0m\u001b[0;34m\u001b[0m\u001b[0m\n\u001b[0;32m----> 5\u001b[0;31m \u001b[0mA\u001b[0m \u001b[0;34m=\u001b[0m \u001b[0mpi\u001b[0m\u001b[0;34m*\u001b[0m\u001b[0;34m(\u001b[0m\u001b[0mtunn_diam\u001b[0m\u001b[0;34m/\u001b[0m\u001b[0;36m2\u001b[0m\u001b[0;34m)\u001b[0m\u001b[0;34m**\u001b[0m\u001b[0;36m2\u001b[0m\u001b[0;34m\u001b[0m\u001b[0m\n\u001b[0m\u001b[1;32m      6\u001b[0m \u001b[0md\u001b[0m \u001b[0;34m=\u001b[0m \u001b[0;36m13.0\u001b[0m  \u001b[0;31m#distance between ground surface and tunnel centerline\u001b[0m\u001b[0;34m\u001b[0m\u001b[0m\n\u001b[1;32m      7\u001b[0m \u001b[0;34m\u001b[0m\u001b[0m\n",
      "\u001b[0;31mNameError\u001b[0m: name 'pi' is not defined"
     ]
    }
   ],
   "source": [
    "# empirical calculation of settlement trough over tunnel (Gauss curve approach)\n",
    "\n",
    "# inputs                                                                                   #ToDo: mv to input above    \n",
    "D = 13.0  #tunnel diameter in m\n",
    "A = pi*(tunn_diam/2)**2\n",
    "d = 13.0  #distance between ground surface and tunnel centerline\n",
    "\n",
    "# empirical estimates of calculation parameters\n",
    "c_v = array([0.002, 0.004]) #empirical values for lost ground as fraction of excavation area\n",
    "c_i = array([0.8, 0.4]) #empirical coeff's to estimate distance centerline to inflection point of gauss curve\n",
    "\n",
    "# statistical estimates of calculation parameters\n",
    "# placeholder\n",
    "\n",
    "# backcalculation estimates of calculation parameters\n",
    "# placeholder\n",
    "\n",
    "# calculate intermediate results\n",
    "vol_lost = lambda A, c_v: (A*c_v)                               #ToDo:replace 3 intermediate results with variables\n",
    "infl_len = lambda d, c_l: (d*c_i)\n",
    "# calculte settlement at centerline\n",
    "setl_max = lambda vol_lost, infl_len: (\n",
    "    vol_lost / (sqrt(2*pi)*infl_len) )\n",
    "# calculate settlment at distance x along gauss curve\n",
    "setl = lambda x, setl_max, infl_len: (\n",
    "    setl_max * exp(- x**2 / (2*infl_len**2))) \n",
    "\n",
    "# write results\n",
    "print('lost volume (m3): '+str(vol_lost(A, c_v)))\n",
    "print('inflection length (m): '+str(infl_len(d, c_i)))\n",
    "print('max settlement (m): '+str(setl_max(vol_lost(A, c_v), infl_len(d, c_i))))\n",
    "x = infl_len(d, c_i)[0]\n",
    "print('settlement (m) at: '+str(x)+'m = '+str(\n",
    "        setl(x, setl_max(vol_lost(A, c_v), infl_len(D, c_i)),\n",
    "               infl_len(D, c_i))))\n",
    "\n",
    "# plot results\n",
    "x = arange(-40,42,2)\n",
    "setl_rslt = []\n",
    "y_data1 = []\n",
    "y_data2 = []\n",
    "\n",
    "for i in x:\n",
    "    setl_rslt.append(setl(i, setl_max(vol_lost(A, c_v), infl_len(D, c_i)),\n",
    "               infl_len(D, c_i)))\n",
    "for i in setl_rslt:\n",
    "    y_data1.append(-i[0])\n",
    "    y_data2.append(-i[1])\n",
    "\n",
    "for i in x:\n",
    "    setl_rslt.append(setl(i, setl_max(vol_lost(A, c_v), infl_len(D, c_i)),\n",
    "               infl_len(D, c_i)))\n",
    "for i in setl_rslt:\n",
    "    y_data1.append(-i[0])\n",
    "    y_data2.append(-i[1])\n",
    "\n",
    "trace0 = go.Scatter(\n",
    "    x=x,\n",
    "    y=y_data1\n",
    ")\n",
    "trace1 = go.Scatter(\n",
    "    x=x,\n",
    "    y=y_data2\n",
    ")\n",
    "\n",
    "data1 = Data([trace0,trace1])\n",
    "plotly.offline.iplot(data1)"
   ]
  },
  {
   "cell_type": "code",
   "execution_count": 251,
   "metadata": {},
   "outputs": [
    {
     "name": "stdout",
     "output_type": "stream",
     "text": [
      "lost volume (m3): [ 0.26546458  0.53092916]\n",
      "inflection length (m): [ 10.4   5.2]\n",
      "max settlement (m): [ 0.01018318  0.04073271]\n"
     ]
    },
    {
     "data": {
      "application/vnd.plotly.v1+json": {
       "data": [
        {
         "type": "scatter",
         "x": [
          -40,
          -39,
          -38,
          -37,
          -36,
          -35,
          -34,
          -33,
          -32,
          -31,
          -30,
          -29,
          -28,
          -27,
          -26,
          -25,
          -24,
          -23,
          -22,
          -21,
          -20,
          -19,
          -18,
          -17,
          -16,
          -15,
          -14,
          -13,
          -12,
          -11,
          -10,
          -9,
          -8,
          -7,
          -6,
          -5,
          -4,
          -3,
          -2,
          -1,
          0,
          1,
          2,
          3,
          4,
          5,
          6,
          7,
          8,
          9,
          10,
          11,
          12,
          13,
          14,
          15,
          16,
          17,
          18,
          19,
          20,
          21,
          22,
          23,
          24,
          25,
          26,
          27,
          28,
          29,
          30,
          31,
          32,
          33,
          34,
          35,
          36,
          37,
          38,
          39,
          40
         ],
         "y": [
          -6.2466333567708355e-06,
          -9.000160043981013e-06,
          -1.2848107212511743e-05,
          -1.8172420392984955e-05,
          -2.546660788924181e-05,
          -3.536015266145412e-05,
          -4.8645409601024064e-05,
          -6.63062247197899e-05,
          -8.954708256987115e-05,
          -0.00011982109511626085,
          -0.00015885461315791612,
          -0.00020866570715089483,
          -0.0002715732783539159,
          -0.00035019318641441624,
          -0.000447417587991638,
          -0.0005663737489780602,
          -0.0007103589931116916,
          -0.0008827492422496827,
          -0.0010868798249000762,
          -0.0013258988822904395,
          -0.0016025957442423635,
          -0.0019192089892086641,
          -0.00227722140049058,
          -0.002677151491732026,
          -0.0031183534689128174,
          -0.0035988391719086344,
          -0.004115136447325565,
          -0.004662198326849751,
          -0.005233376162070265,
          -0.005820467424374427,
          -0.006413845251806351,
          -0.007002672168636079,
          -0.007575194992852746,
          -0.00811911216306183,
          -0.008621999018750848,
          -0.009071771454231933,
          -0.00945716432423331,
          -0.009768198433722607,
          -0.009996609211063745,
          -0.010136211406492259,
          -0.010183177365688441,
          -0.010136211406492259,
          -0.009996609211063745,
          -0.009768198433722607,
          -0.00945716432423331,
          -0.009071771454231933,
          -0.008621999018750848,
          -0.00811911216306183,
          -0.007575194992852746,
          -0.007002672168636079,
          -0.006413845251806351,
          -0.005820467424374427,
          -0.005233376162070265,
          -0.004662198326849751,
          -0.004115136447325565,
          -0.0035988391719086344,
          -0.0031183534689128174,
          -0.002677151491732026,
          -0.00227722140049058,
          -0.0019192089892086641,
          -0.0016025957442423635,
          -0.0013258988822904395,
          -0.0010868798249000762,
          -0.0008827492422496827,
          -0.0007103589931116916,
          -0.0005663737489780602,
          -0.000447417587991638,
          -0.00035019318641441624,
          -0.0002715732783539159,
          -0.00020866570715089483,
          -0.00015885461315791612,
          -0.00011982109511626085,
          -8.954708256987115e-05,
          -6.63062247197899e-05,
          -4.8645409601024064e-05,
          -3.536015266145412e-05,
          -2.546660788924181e-05,
          -1.8172420392984955e-05,
          -1.2848107212511743e-05,
          -9.000160043981013e-06,
          -6.2466333567708355e-06
         ]
        },
        {
         "type": "scatter",
         "x": [
          -40,
          -39,
          -38,
          -37,
          -36,
          -35,
          -34,
          -33,
          -32,
          -31,
          -30,
          -29,
          -28,
          -27,
          -26,
          -25,
          -24,
          -23,
          -22,
          -21,
          -20,
          -19,
          -18,
          -17,
          -16,
          -15,
          -14,
          -13,
          -12,
          -11,
          -10,
          -9,
          -8,
          -7,
          -6,
          -5,
          -4,
          -3,
          -2,
          -1,
          0,
          1,
          2,
          3,
          4,
          5,
          6,
          7,
          8,
          9,
          10,
          11,
          12,
          13,
          14,
          15,
          16,
          17,
          18,
          19,
          20,
          21,
          22,
          23,
          24,
          25,
          26,
          27,
          28,
          29,
          30,
          31,
          32,
          33,
          34,
          35,
          36,
          37,
          38,
          39,
          40
         ],
         "y": [
          -5.767586687763408e-15,
          -2.4854841384901955e-14,
          -1.0322067023396762e-13,
          -4.1310568061029436e-13,
          -1.5932886882353458e-12,
          -5.9219753071622365e-12,
          -2.121180007108691e-11,
          -7.321958643323625e-11,
          -2.4356553315734324e-10,
          -7.808061133965112e-10,
          -2.4121782214496938e-09,
          -7.181487231996465e-09,
          -2.060431623515337e-08,
          -5.696929361361346e-08,
          -1.5179668092673049e-07,
          -3.897826738332886e-07,
          -9.645430115194045e-07,
          -2.3001675939949127e-06,
          -5.286109753134338e-06,
          -1.1707163532109603e-05,
          -2.4986533427083342e-05,
          -5.139242885004697e-05,
          -0.00010186643155696724,
          -0.00019458163840409626,
          -0.0003581883302794846,
          -0.0006354184526316645,
          -0.0010862931134156637,
          -0.001789670351966552,
          -0.0028414359724467666,
          -0.004347519299600305,
          -0.006410382976969454,
          -0.00910888560196232,
          -0.01247341387565127,
          -0.01646054578930226,
          -0.02093350464828106,
          -0.025655381007225406,
          -0.030300779971410983,
          -0.03448799607500339,
          -0.03782865729693324,
          -0.03998643684425498,
          -0.040732709462753765,
          -0.03998643684425498,
          -0.03782865729693324,
          -0.03448799607500339,
          -0.030300779971410983,
          -0.025655381007225406,
          -0.02093350464828106,
          -0.01646054578930226,
          -0.01247341387565127,
          -0.00910888560196232,
          -0.006410382976969454,
          -0.004347519299600305,
          -0.0028414359724467666,
          -0.001789670351966552,
          -0.0010862931134156637,
          -0.0006354184526316645,
          -0.0003581883302794846,
          -0.00019458163840409626,
          -0.00010186643155696724,
          -5.139242885004697e-05,
          -2.4986533427083342e-05,
          -1.1707163532109603e-05,
          -5.286109753134338e-06,
          -2.3001675939949127e-06,
          -9.645430115194045e-07,
          -3.897826738332886e-07,
          -1.5179668092673049e-07,
          -5.696929361361346e-08,
          -2.060431623515337e-08,
          -7.181487231996465e-09,
          -2.4121782214496938e-09,
          -7.808061133965112e-10,
          -2.4356553315734324e-10,
          -7.321958643323625e-11,
          -2.121180007108691e-11,
          -5.9219753071622365e-12,
          -1.5932886882353458e-12,
          -4.1310568061029436e-13,
          -1.0322067023396762e-13,
          -2.4854841384901955e-14,
          -5.767586687763408e-15
         ]
        }
       ],
       "layout": {}
      },
      "text/html": [
       "<div id=\"e5a97c86-5d49-4846-9c2c-89b672246804\" style=\"height: 525px; width: 100%;\" class=\"plotly-graph-div\"></div><script type=\"text/javascript\">require([\"plotly\"], function(Plotly) { window.PLOTLYENV=window.PLOTLYENV || {};window.PLOTLYENV.BASE_URL=\"https://plot.ly\";Plotly.newPlot(\"e5a97c86-5d49-4846-9c2c-89b672246804\", [{\"y\": [-6.2466333567708355e-06, -9.000160043981013e-06, -1.2848107212511743e-05, -1.8172420392984955e-05, -2.546660788924181e-05, -3.536015266145412e-05, -4.8645409601024064e-05, -6.63062247197899e-05, -8.954708256987115e-05, -0.00011982109511626085, -0.00015885461315791612, -0.00020866570715089483, -0.0002715732783539159, -0.00035019318641441624, -0.000447417587991638, -0.0005663737489780602, -0.0007103589931116916, -0.0008827492422496827, -0.0010868798249000762, -0.0013258988822904395, -0.0016025957442423635, -0.0019192089892086641, -0.00227722140049058, -0.002677151491732026, -0.0031183534689128174, -0.0035988391719086344, -0.004115136447325565, -0.004662198326849751, -0.005233376162070265, -0.005820467424374427, -0.006413845251806351, -0.007002672168636079, -0.007575194992852746, -0.00811911216306183, -0.008621999018750848, -0.009071771454231933, -0.00945716432423331, -0.009768198433722607, -0.009996609211063745, -0.010136211406492259, -0.010183177365688441, -0.010136211406492259, -0.009996609211063745, -0.009768198433722607, -0.00945716432423331, -0.009071771454231933, -0.008621999018750848, -0.00811911216306183, -0.007575194992852746, -0.007002672168636079, -0.006413845251806351, -0.005820467424374427, -0.005233376162070265, -0.004662198326849751, -0.004115136447325565, -0.0035988391719086344, -0.0031183534689128174, -0.002677151491732026, -0.00227722140049058, -0.0019192089892086641, -0.0016025957442423635, -0.0013258988822904395, -0.0010868798249000762, -0.0008827492422496827, -0.0007103589931116916, -0.0005663737489780602, -0.000447417587991638, -0.00035019318641441624, -0.0002715732783539159, -0.00020866570715089483, -0.00015885461315791612, -0.00011982109511626085, -8.954708256987115e-05, -6.63062247197899e-05, -4.8645409601024064e-05, -3.536015266145412e-05, -2.546660788924181e-05, -1.8172420392984955e-05, -1.2848107212511743e-05, -9.000160043981013e-06, -6.2466333567708355e-06], \"x\": [-40, -39, -38, -37, -36, -35, -34, -33, -32, -31, -30, -29, -28, -27, -26, -25, -24, -23, -22, -21, -20, -19, -18, -17, -16, -15, -14, -13, -12, -11, -10, -9, -8, -7, -6, -5, -4, -3, -2, -1, 0, 1, 2, 3, 4, 5, 6, 7, 8, 9, 10, 11, 12, 13, 14, 15, 16, 17, 18, 19, 20, 21, 22, 23, 24, 25, 26, 27, 28, 29, 30, 31, 32, 33, 34, 35, 36, 37, 38, 39, 40], \"type\": \"scatter\"}, {\"y\": [-5.767586687763408e-15, -2.4854841384901955e-14, -1.0322067023396762e-13, -4.1310568061029436e-13, -1.5932886882353458e-12, -5.9219753071622365e-12, -2.121180007108691e-11, -7.321958643323625e-11, -2.4356553315734324e-10, -7.808061133965112e-10, -2.4121782214496938e-09, -7.181487231996465e-09, -2.060431623515337e-08, -5.696929361361346e-08, -1.5179668092673049e-07, -3.897826738332886e-07, -9.645430115194045e-07, -2.3001675939949127e-06, -5.286109753134338e-06, -1.1707163532109603e-05, -2.4986533427083342e-05, -5.139242885004697e-05, -0.00010186643155696724, -0.00019458163840409626, -0.0003581883302794846, -0.0006354184526316645, -0.0010862931134156637, -0.001789670351966552, -0.0028414359724467666, -0.004347519299600305, -0.006410382976969454, -0.00910888560196232, -0.01247341387565127, -0.01646054578930226, -0.02093350464828106, -0.025655381007225406, -0.030300779971410983, -0.03448799607500339, -0.03782865729693324, -0.03998643684425498, -0.040732709462753765, -0.03998643684425498, -0.03782865729693324, -0.03448799607500339, -0.030300779971410983, -0.025655381007225406, -0.02093350464828106, -0.01646054578930226, -0.01247341387565127, -0.00910888560196232, -0.006410382976969454, -0.004347519299600305, -0.0028414359724467666, -0.001789670351966552, -0.0010862931134156637, -0.0006354184526316645, -0.0003581883302794846, -0.00019458163840409626, -0.00010186643155696724, -5.139242885004697e-05, -2.4986533427083342e-05, -1.1707163532109603e-05, -5.286109753134338e-06, -2.3001675939949127e-06, -9.645430115194045e-07, -3.897826738332886e-07, -1.5179668092673049e-07, -5.696929361361346e-08, -2.060431623515337e-08, -7.181487231996465e-09, -2.4121782214496938e-09, -7.808061133965112e-10, -2.4356553315734324e-10, -7.321958643323625e-11, -2.121180007108691e-11, -5.9219753071622365e-12, -1.5932886882353458e-12, -4.1310568061029436e-13, -1.0322067023396762e-13, -2.4854841384901955e-14, -5.767586687763408e-15], \"x\": [-40, -39, -38, -37, -36, -35, -34, -33, -32, -31, -30, -29, -28, -27, -26, -25, -24, -23, -22, -21, -20, -19, -18, -17, -16, -15, -14, -13, -12, -11, -10, -9, -8, -7, -6, -5, -4, -3, -2, -1, 0, 1, 2, 3, 4, 5, 6, 7, 8, 9, 10, 11, 12, 13, 14, 15, 16, 17, 18, 19, 20, 21, 22, 23, 24, 25, 26, 27, 28, 29, 30, 31, 32, 33, 34, 35, 36, 37, 38, 39, 40], \"type\": \"scatter\"}], {}, {\"linkText\": \"Export to plot.ly\", \"showLink\": true})});</script>"
      ],
      "text/vnd.plotly.v1+html": [
       "<div id=\"e5a97c86-5d49-4846-9c2c-89b672246804\" style=\"height: 525px; width: 100%;\" class=\"plotly-graph-div\"></div><script type=\"text/javascript\">require([\"plotly\"], function(Plotly) { window.PLOTLYENV=window.PLOTLYENV || {};window.PLOTLYENV.BASE_URL=\"https://plot.ly\";Plotly.newPlot(\"e5a97c86-5d49-4846-9c2c-89b672246804\", [{\"y\": [-6.2466333567708355e-06, -9.000160043981013e-06, -1.2848107212511743e-05, -1.8172420392984955e-05, -2.546660788924181e-05, -3.536015266145412e-05, -4.8645409601024064e-05, -6.63062247197899e-05, -8.954708256987115e-05, -0.00011982109511626085, -0.00015885461315791612, -0.00020866570715089483, -0.0002715732783539159, -0.00035019318641441624, -0.000447417587991638, -0.0005663737489780602, -0.0007103589931116916, -0.0008827492422496827, -0.0010868798249000762, -0.0013258988822904395, -0.0016025957442423635, -0.0019192089892086641, -0.00227722140049058, -0.002677151491732026, -0.0031183534689128174, -0.0035988391719086344, -0.004115136447325565, -0.004662198326849751, -0.005233376162070265, -0.005820467424374427, -0.006413845251806351, -0.007002672168636079, -0.007575194992852746, -0.00811911216306183, -0.008621999018750848, -0.009071771454231933, -0.00945716432423331, -0.009768198433722607, -0.009996609211063745, -0.010136211406492259, -0.010183177365688441, -0.010136211406492259, -0.009996609211063745, -0.009768198433722607, -0.00945716432423331, -0.009071771454231933, -0.008621999018750848, -0.00811911216306183, -0.007575194992852746, -0.007002672168636079, -0.006413845251806351, -0.005820467424374427, -0.005233376162070265, -0.004662198326849751, -0.004115136447325565, -0.0035988391719086344, -0.0031183534689128174, -0.002677151491732026, -0.00227722140049058, -0.0019192089892086641, -0.0016025957442423635, -0.0013258988822904395, -0.0010868798249000762, -0.0008827492422496827, -0.0007103589931116916, -0.0005663737489780602, -0.000447417587991638, -0.00035019318641441624, -0.0002715732783539159, -0.00020866570715089483, -0.00015885461315791612, -0.00011982109511626085, -8.954708256987115e-05, -6.63062247197899e-05, -4.8645409601024064e-05, -3.536015266145412e-05, -2.546660788924181e-05, -1.8172420392984955e-05, -1.2848107212511743e-05, -9.000160043981013e-06, -6.2466333567708355e-06], \"x\": [-40, -39, -38, -37, -36, -35, -34, -33, -32, -31, -30, -29, -28, -27, -26, -25, -24, -23, -22, -21, -20, -19, -18, -17, -16, -15, -14, -13, -12, -11, -10, -9, -8, -7, -6, -5, -4, -3, -2, -1, 0, 1, 2, 3, 4, 5, 6, 7, 8, 9, 10, 11, 12, 13, 14, 15, 16, 17, 18, 19, 20, 21, 22, 23, 24, 25, 26, 27, 28, 29, 30, 31, 32, 33, 34, 35, 36, 37, 38, 39, 40], \"type\": \"scatter\"}, {\"y\": [-5.767586687763408e-15, -2.4854841384901955e-14, -1.0322067023396762e-13, -4.1310568061029436e-13, -1.5932886882353458e-12, -5.9219753071622365e-12, -2.121180007108691e-11, -7.321958643323625e-11, -2.4356553315734324e-10, -7.808061133965112e-10, -2.4121782214496938e-09, -7.181487231996465e-09, -2.060431623515337e-08, -5.696929361361346e-08, -1.5179668092673049e-07, -3.897826738332886e-07, -9.645430115194045e-07, -2.3001675939949127e-06, -5.286109753134338e-06, -1.1707163532109603e-05, -2.4986533427083342e-05, -5.139242885004697e-05, -0.00010186643155696724, -0.00019458163840409626, -0.0003581883302794846, -0.0006354184526316645, -0.0010862931134156637, -0.001789670351966552, -0.0028414359724467666, -0.004347519299600305, -0.006410382976969454, -0.00910888560196232, -0.01247341387565127, -0.01646054578930226, -0.02093350464828106, -0.025655381007225406, -0.030300779971410983, -0.03448799607500339, -0.03782865729693324, -0.03998643684425498, -0.040732709462753765, -0.03998643684425498, -0.03782865729693324, -0.03448799607500339, -0.030300779971410983, -0.025655381007225406, -0.02093350464828106, -0.01646054578930226, -0.01247341387565127, -0.00910888560196232, -0.006410382976969454, -0.004347519299600305, -0.0028414359724467666, -0.001789670351966552, -0.0010862931134156637, -0.0006354184526316645, -0.0003581883302794846, -0.00019458163840409626, -0.00010186643155696724, -5.139242885004697e-05, -2.4986533427083342e-05, -1.1707163532109603e-05, -5.286109753134338e-06, -2.3001675939949127e-06, -9.645430115194045e-07, -3.897826738332886e-07, -1.5179668092673049e-07, -5.696929361361346e-08, -2.060431623515337e-08, -7.181487231996465e-09, -2.4121782214496938e-09, -7.808061133965112e-10, -2.4356553315734324e-10, -7.321958643323625e-11, -2.121180007108691e-11, -5.9219753071622365e-12, -1.5932886882353458e-12, -4.1310568061029436e-13, -1.0322067023396762e-13, -2.4854841384901955e-14, -5.767586687763408e-15], \"x\": [-40, -39, -38, -37, -36, -35, -34, -33, -32, -31, -30, -29, -28, -27, -26, -25, -24, -23, -22, -21, -20, -19, -18, -17, -16, -15, -14, -13, -12, -11, -10, -9, -8, -7, -6, -5, -4, -3, -2, -1, 0, 1, 2, 3, 4, 5, 6, 7, 8, 9, 10, 11, 12, 13, 14, 15, 16, 17, 18, 19, 20, 21, 22, 23, 24, 25, 26, 27, 28, 29, 30, 31, 32, 33, 34, 35, 36, 37, 38, 39, 40], \"type\": \"scatter\"}], {}, {\"linkText\": \"Export to plot.ly\", \"showLink\": true})});</script>"
      ]
     },
     "metadata": {},
     "output_type": "display_data"
    }
   ],
   "source": [
    "# empirical calculation of settlement trough over tunnel (Gauss curve approach)\n",
    "#                                                                                          WBS: 'PM'\n",
    "#                                                                                          WBS: 'Feature'\n",
    "\n",
    "# inputs                                                                                   #ToDo: mv to input above    \n",
    "D = 13.0  #tunnel diameter in m\n",
    "A = pi*(tunn_diam/2)**2\n",
    "d = 13.0  #distance between ground surface and tunnel centerline\n",
    "\n",
    "# empirical estimates of calculation coefficients (they must have save number of items)\n",
    "c_v = array([0.002, 0.004]) #empirical values for lost ground as fraction of excavation area\n",
    "c_i = array([0.8, 0.4]) #empirical coeff's to estimate distance centerline to inflection point of gauss curve\n",
    "\n",
    "# statistical estimates of calculation parameterspi\n",
    "# placeholder\n",
    "\n",
    "# backcalculation estimates of calculation parameters\n",
    "# placeholder\n",
    "\n",
    "# calculate intermediate results (d assumed constant along cross-section)\n",
    "vol_loss = A * c_v\n",
    "infl_len = d * c_i\n",
    "# calculte settlement at centerline\n",
    "setl_max = vol_lost / (sqrt(2*pi) * infl_len)\n",
    "# calculate settlment at distance x along gauss curve                          #ToDo: lambda or function preferred\n",
    "setl = lambda x, setl_max, infl_len: (\n",
    "    setl_max * exp(- x**2 / (2*infl_len**2))) \n",
    "\n",
    "# write intermediate results\n",
    "print('lost volume (m3): '+str(vol_loss))\n",
    "print('inflection length (m): '+str(infl_len))\n",
    "print('max settlement (m): '+str(setl_max))\n",
    "#x=10.4  #for checking\n",
    "#print('settlement (m) at: '+str(x)+'m = '+str(\n",
    "#        setl(x, setl_max, infl_len)))\n",
    "\n",
    "# calculate settlment at x along cross-section\n",
    "x = arange(-40,41,1)\n",
    "setl_rslt = []\n",
    "\n",
    "for i in x:\n",
    "    setl_rslt.append(setl(i, setl_max, infl_len))\n",
    "\n",
    "# plot results\n",
    "nr_rslts = len(setl_rslt[0])\n",
    "y_data = [[] for n in range(nr_rslts)]\n",
    "trace = [[] for n in range(nr_rslts)]\n",
    "data = [[] for n in range(nr_rslts)]\n",
    "\n",
    "for n in range(nr_rslts):\n",
    "    for i in setl_rslt:\n",
    "        y_data[n].append(-i[n])\n",
    "    trace[n] = go.Scatter(\n",
    "        x=x,\n",
    "        y=y_data[n]\n",
    "    )\n",
    "\n",
    "data = Data(trace)\n",
    "plotly.offline.iplot(data)"
   ]
  },
  {
   "cell_type": "code",
   "execution_count": 231,
   "metadata": {},
   "outputs": [
    {
     "data": {
      "application/vnd.plotly.v1+json": {
       "data": [
        {
         "type": "scatter",
         "x": [
          1,
          2,
          3,
          4
         ],
         "y": [
          10,
          15,
          13,
          17
         ]
        },
        {
         "type": "scatter",
         "x": [
          1,
          2,
          3,
          4
         ],
         "y": [
          16,
          5,
          11,
          9
         ]
        }
       ],
       "layout": {}
      },
      "text/html": [
       "<div id=\"92359a51-2537-4fb0-b751-6d73f29c189c\" style=\"height: 525px; width: 100%;\" class=\"plotly-graph-div\"></div><script type=\"text/javascript\">require([\"plotly\"], function(Plotly) { window.PLOTLYENV=window.PLOTLYENV || {};window.PLOTLYENV.BASE_URL=\"https://plot.ly\";Plotly.newPlot(\"92359a51-2537-4fb0-b751-6d73f29c189c\", [{\"y\": [10, 15, 13, 17], \"x\": [1, 2, 3, 4], \"type\": \"scatter\"}, {\"y\": [16, 5, 11, 9], \"x\": [1, 2, 3, 4], \"type\": \"scatter\"}], {}, {\"linkText\": \"Export to plot.ly\", \"showLink\": true})});</script>"
      ],
      "text/vnd.plotly.v1+html": [
       "<div id=\"92359a51-2537-4fb0-b751-6d73f29c189c\" style=\"height: 525px; width: 100%;\" class=\"plotly-graph-div\"></div><script type=\"text/javascript\">require([\"plotly\"], function(Plotly) { window.PLOTLYENV=window.PLOTLYENV || {};window.PLOTLYENV.BASE_URL=\"https://plot.ly\";Plotly.newPlot(\"92359a51-2537-4fb0-b751-6d73f29c189c\", [{\"y\": [10, 15, 13, 17], \"x\": [1, 2, 3, 4], \"type\": \"scatter\"}, {\"y\": [16, 5, 11, 9], \"x\": [1, 2, 3, 4], \"type\": \"scatter\"}], {}, {\"linkText\": \"Export to plot.ly\", \"showLink\": true})});</script>"
      ]
     },
     "metadata": {},
     "output_type": "display_data"
    }
   ],
   "source": [
    "# plotly examples\n",
    "\n",
    "trace0 = Scatter(\n",
    "    x=[1, 2, 3, 4],\n",
    "    y=[10, 15, 13, 17]\n",
    ")\n",
    "trace1 = Scatter(\n",
    "    x=[1, 2, 3, 4],\n",
    "    y=[16, 5, 11, 9]\n",
    ")\n",
    "data = Data([trace0, trace1])\n",
    "\n",
    "plotly.offline.iplot(data)"
   ]
  },
  {
   "cell_type": "code",
   "execution_count": 232,
   "metadata": {},
   "outputs": [
    {
     "data": {
      "application/vnd.plotly.v1+json": {
       "data": [
        {
         "marker": {
          "color": "red",
          "size": "10",
          "symbol": 104
         },
         "mode": "markers+lines",
         "name": "1st Trace",
         "text": [
          "one",
          "two",
          "three"
         ],
         "type": "scatter",
         "x": [
          1,
          2,
          3
         ],
         "y": [
          4,
          5,
          6
         ]
        }
       ],
       "layout": {
        "title": "First Plot",
        "xaxis": {
         "title": "x1"
        },
        "yaxis": {
         "title": "x2"
        }
       }
      },
      "text/html": [
       "<div id=\"413ab501-9f33-40e5-88ec-364529539eca\" style=\"height: 525px; width: 100%;\" class=\"plotly-graph-div\"></div><script type=\"text/javascript\">require([\"plotly\"], function(Plotly) { window.PLOTLYENV=window.PLOTLYENV || {};window.PLOTLYENV.BASE_URL=\"https://plot.ly\";Plotly.newPlot(\"413ab501-9f33-40e5-88ec-364529539eca\", [{\"name\": \"1st Trace\", \"text\": [\"one\", \"two\", \"three\"], \"marker\": {\"color\": \"red\", \"symbol\": 104, \"size\": \"10\"}, \"mode\": \"markers+lines\", \"y\": [4, 5, 6], \"x\": [1, 2, 3], \"type\": \"scatter\"}], {\"title\": \"First Plot\", \"xaxis\": {\"title\": \"x1\"}, \"yaxis\": {\"title\": \"x2\"}}, {\"linkText\": \"Export to plot.ly\", \"showLink\": true})});</script>"
      ],
      "text/vnd.plotly.v1+html": [
       "<div id=\"413ab501-9f33-40e5-88ec-364529539eca\" style=\"height: 525px; width: 100%;\" class=\"plotly-graph-div\"></div><script type=\"text/javascript\">require([\"plotly\"], function(Plotly) { window.PLOTLYENV=window.PLOTLYENV || {};window.PLOTLYENV.BASE_URL=\"https://plot.ly\";Plotly.newPlot(\"413ab501-9f33-40e5-88ec-364529539eca\", [{\"name\": \"1st Trace\", \"text\": [\"one\", \"two\", \"three\"], \"marker\": {\"color\": \"red\", \"symbol\": 104, \"size\": \"10\"}, \"mode\": \"markers+lines\", \"y\": [4, 5, 6], \"x\": [1, 2, 3], \"type\": \"scatter\"}], {\"title\": \"First Plot\", \"xaxis\": {\"title\": \"x1\"}, \"yaxis\": {\"title\": \"x2\"}}, {\"linkText\": \"Export to plot.ly\", \"showLink\": true})});</script>"
      ]
     },
     "metadata": {},
     "output_type": "display_data"
    }
   ],
   "source": [
    "trace1 = go.Scatter(x=[1,2,3], y=[4,5,6], marker={'color': 'red', 'symbol': 104, 'size': \"10\"}, \n",
    "                    mode=\"markers+lines\",  text=[\"one\",\"two\",\"three\"], name='1st Trace')\n",
    "                                               \n",
    "data=go.Data([trace1])\n",
    "layout=go.Layout(title=\"First Plot\", xaxis={'title':'x1'}, yaxis={'title':'x2'})\n",
    "figure=go.Figure(data=data,layout=layout)\n",
    "plotly.offline.iplot(figure, filename='pyguide_1')"
   ]
  },
  {
   "cell_type": "code",
   "execution_count": 233,
   "metadata": {},
   "outputs": [
    {
     "data": {
      "application/vnd.plotly.v1+json": {
       "data": [
        {
         "type": "scatter",
         "x": [
          0,
          0.002004008016032064,
          0.004008016032064128,
          0.0060120240480961915,
          0.008016032064128256,
          0.01002004008016032,
          0.012024048096192383,
          0.014028056112224447,
          0.01603206412825651,
          0.018036072144288574,
          0.02004008016032064,
          0.022044088176352703,
          0.024048096192384766,
          0.026052104208416832,
          0.028056112224448895,
          0.03006012024048096,
          0.03206412825651302,
          0.03406813627254509,
          0.03607214428857715,
          0.038076152304609215,
          0.04008016032064128,
          0.04208416833667334,
          0.044088176352705406,
          0.04609218436873747,
          0.04809619238476953,
          0.0501002004008016,
          0.052104208416833664,
          0.05410821643286573,
          0.05611222444889779,
          0.058116232464929855,
          0.06012024048096192,
          0.06212424849699398,
          0.06412825651302605,
          0.06613226452905811,
          0.06813627254509018,
          0.07014028056112225,
          0.0721442885771543,
          0.07414829659318636,
          0.07615230460921843,
          0.0781563126252505,
          0.08016032064128256,
          0.08216432865731463,
          0.08416833667334668,
          0.08617234468937875,
          0.08817635270541081,
          0.09018036072144288,
          0.09218436873747494,
          0.09418837675350701,
          0.09619238476953906,
          0.09819639278557113,
          0.1002004008016032,
          0.10220440881763526,
          0.10420841683366733,
          0.1062124248496994,
          0.10821643286573146,
          0.11022044088176351,
          0.11222444889779558,
          0.11422845691382764,
          0.11623246492985971,
          0.11823647294589178,
          0.12024048096192384,
          0.1222444889779559,
          0.12424849699398796,
          0.12625250501002003,
          0.1282565130260521,
          0.13026052104208416,
          0.13226452905811623,
          0.1342685370741483,
          0.13627254509018036,
          0.13827655310621242,
          0.1402805611222445,
          0.14228456913827653,
          0.1442885771543086,
          0.14629258517034066,
          0.14829659318637273,
          0.1503006012024048,
          0.15230460921843686,
          0.15430861723446893,
          0.156312625250501,
          0.15831663326653306,
          0.16032064128256512,
          0.1623246492985972,
          0.16432865731462926,
          0.16633266533066132,
          0.16833667334669336,
          0.17034068136272543,
          0.1723446893787575,
          0.17434869739478956,
          0.17635270541082163,
          0.1783567134268537,
          0.18036072144288576,
          0.18236472945891782,
          0.1843687374749499,
          0.18637274549098196,
          0.18837675350701402,
          0.1903807615230461,
          0.19238476953907813,
          0.1943887775551102,
          0.19639278557114226,
          0.19839679358717432,
          0.2004008016032064,
          0.20240480961923846,
          0.20440881763527052,
          0.2064128256513026,
          0.20841683366733466,
          0.21042084168336672,
          0.2124248496993988,
          0.21442885771543085,
          0.21643286573146292,
          0.21843687374749496,
          0.22044088176352702,
          0.2224448897795591,
          0.22444889779559116,
          0.22645290581162322,
          0.2284569138276553,
          0.23046092184368736,
          0.23246492985971942,
          0.2344689378757515,
          0.23647294589178355,
          0.23847695390781562,
          0.24048096192384769,
          0.24248496993987975,
          0.2444889779559118,
          0.24649298597194386,
          0.24849699398797592,
          0.250501002004008,
          0.25250501002004005,
          0.2545090180360721,
          0.2565130260521042,
          0.25851703406813625,
          0.2605210420841683,
          0.2625250501002004,
          0.26452905811623245,
          0.2665330661322645,
          0.2685370741482966,
          0.27054108216432865,
          0.2725450901803607,
          0.2745490981963928,
          0.27655310621242485,
          0.2785571142284569,
          0.280561122244489,
          0.282565130260521,
          0.28456913827655306,
          0.2865731462925851,
          0.2885771543086172,
          0.29058116232464926,
          0.2925851703406813,
          0.2945891783567134,
          0.29659318637274545,
          0.2985971943887775,
          0.3006012024048096,
          0.30260521042084165,
          0.3046092184368737,
          0.3066132264529058,
          0.30861723446893785,
          0.3106212424849699,
          0.312625250501002,
          0.31462925851703405,
          0.3166332665330661,
          0.3186372745490982,
          0.32064128256513025,
          0.3226452905811623,
          0.3246492985971944,
          0.32665330661322645,
          0.3286573146292585,
          0.3306613226452906,
          0.33266533066132264,
          0.33466933867735466,
          0.3366733466933867,
          0.3386773547094188,
          0.34068136272545085,
          0.3426853707414829,
          0.344689378757515,
          0.34669338677354705,
          0.3486973947895791,
          0.3507014028056112,
          0.35270541082164325,
          0.3547094188376753,
          0.3567134268537074,
          0.35871743486973945,
          0.3607214428857715,
          0.3627254509018036,
          0.36472945891783565,
          0.3667334669338677,
          0.3687374749498998,
          0.37074148296593185,
          0.3727454909819639,
          0.374749498997996,
          0.37675350701402804,
          0.3787575150300601,
          0.3807615230460922,
          0.38276553106212424,
          0.38476953907815625,
          0.3867735470941883,
          0.3887775551102204,
          0.39078156312625245,
          0.3927855711422845,
          0.3947895791583166,
          0.39679358717434865,
          0.3987975951903807,
          0.4008016032064128,
          0.40280561122244485,
          0.4048096192384769,
          0.406813627254509,
          0.40881763527054105,
          0.4108216432865731,
          0.4128256513026052,
          0.41482965931863724,
          0.4168336673346693,
          0.4188376753507014,
          0.42084168336673344,
          0.4228456913827655,
          0.4248496993987976,
          0.42685370741482964,
          0.4288577154308617,
          0.4308617234468938,
          0.43286573146292584,
          0.4348697394789579,
          0.4368737474949899,
          0.438877755511022,
          0.44088176352705405,
          0.4428857715430861,
          0.4448897795591182,
          0.44689378757515025,
          0.4488977955911823,
          0.4509018036072144,
          0.45290581162324645,
          0.4549098196392785,
          0.4569138276553106,
          0.45891783567134264,
          0.4609218436873747,
          0.4629258517034068,
          0.46492985971943884,
          0.4669338677354709,
          0.468937875751503,
          0.47094188376753504,
          0.4729458917835671,
          0.4749498997995992,
          0.47695390781563124,
          0.4789579158316633,
          0.48096192384769537,
          0.48296593186372744,
          0.4849699398797595,
          0.48697394789579157,
          0.4889779559118236,
          0.49098196392785565,
          0.4929859719438877,
          0.4949899799599198,
          0.49699398797595185,
          0.4989979959919839,
          0.501002004008016,
          0.503006012024048,
          0.5050100200400801,
          0.5070140280561122,
          0.5090180360721442,
          0.5110220440881763,
          0.5130260521042084,
          0.5150300601202404,
          0.5170340681362725,
          0.5190380761523046,
          0.5210420841683366,
          0.5230460921843687,
          0.5250501002004008,
          0.5270541082164328,
          0.5290581162324649,
          0.531062124248497,
          0.533066132264529,
          0.5350701402805611,
          0.5370741482965932,
          0.5390781563126252,
          0.5410821643286573,
          0.5430861723446894,
          0.5450901803607214,
          0.5470941883767535,
          0.5490981963927856,
          0.5511022044088176,
          0.5531062124248497,
          0.5551102204408818,
          0.5571142284569138,
          0.5591182364729459,
          0.561122244488978,
          0.56312625250501,
          0.565130260521042,
          0.567134268537074,
          0.5691382765531061,
          0.5711422845691382,
          0.5731462925851702,
          0.5751503006012023,
          0.5771543086172344,
          0.5791583166332664,
          0.5811623246492985,
          0.5831663326653306,
          0.5851703406813626,
          0.5871743486973947,
          0.5891783567134268,
          0.5911823647294588,
          0.5931863727454909,
          0.595190380761523,
          0.597194388777555,
          0.5991983967935871,
          0.6012024048096192,
          0.6032064128256512,
          0.6052104208416833,
          0.6072144288577154,
          0.6092184368737474,
          0.6112224448897795,
          0.6132264529058116,
          0.6152304609218436,
          0.6172344689378757,
          0.6192384769539078,
          0.6212424849699398,
          0.6232464929859719,
          0.625250501002004,
          0.627254509018036,
          0.6292585170340681,
          0.6312625250501002,
          0.6332665330661322,
          0.6352705410821643,
          0.6372745490981964,
          0.6392785571142284,
          0.6412825651302605,
          0.6432865731462926,
          0.6452905811623246,
          0.6472945891783567,
          0.6492985971943888,
          0.6513026052104208,
          0.6533066132264529,
          0.655310621242485,
          0.657314629258517,
          0.6593186372745491,
          0.6613226452905812,
          0.6633266533066132,
          0.6653306613226453,
          0.6673346693386772,
          0.6693386773547093,
          0.6713426853707414,
          0.6733466933867734,
          0.6753507014028055,
          0.6773547094188376,
          0.6793587174348696,
          0.6813627254509017,
          0.6833667334669338,
          0.6853707414829658,
          0.6873747494989979,
          0.68937875751503,
          0.691382765531062,
          0.6933867735470941,
          0.6953907815631262,
          0.6973947895791582,
          0.6993987975951903,
          0.7014028056112224,
          0.7034068136272544,
          0.7054108216432865,
          0.7074148296593186,
          0.7094188376753506,
          0.7114228456913827,
          0.7134268537074148,
          0.7154308617234468,
          0.7174348697394789,
          0.719438877755511,
          0.721442885771543,
          0.7234468937875751,
          0.7254509018036072,
          0.7274549098196392,
          0.7294589178356713,
          0.7314629258517034,
          0.7334669338677354,
          0.7354709418837675,
          0.7374749498997996,
          0.7394789579158316,
          0.7414829659318637,
          0.7434869739478958,
          0.7454909819639278,
          0.7474949899799599,
          0.749498997995992,
          0.751503006012024,
          0.7535070140280561,
          0.7555110220440882,
          0.7575150300601202,
          0.7595190380761523,
          0.7615230460921844,
          0.7635270541082164,
          0.7655310621242485,
          0.7675350701402806,
          0.7695390781563125,
          0.7715430861723446,
          0.7735470941883766,
          0.7755511022044087,
          0.7775551102204408,
          0.7795591182364728,
          0.7815631262525049,
          0.783567134268537,
          0.785571142284569,
          0.7875751503006011,
          0.7895791583166332,
          0.7915831663326652,
          0.7935871743486973,
          0.7955911823647294,
          0.7975951903807614,
          0.7995991983967935,
          0.8016032064128256,
          0.8036072144288576,
          0.8056112224448897,
          0.8076152304609218,
          0.8096192384769538,
          0.8116232464929859,
          0.813627254509018,
          0.81563126252505,
          0.8176352705410821,
          0.8196392785571142,
          0.8216432865731462,
          0.8236472945891783,
          0.8256513026052104,
          0.8276553106212424,
          0.8296593186372745,
          0.8316633266533066,
          0.8336673346693386,
          0.8356713426853707,
          0.8376753507014028,
          0.8396793587174348,
          0.8416833667334669,
          0.843687374749499,
          0.845691382765531,
          0.8476953907815631,
          0.8496993987975952,
          0.8517034068136272,
          0.8537074148296593,
          0.8557114228456913,
          0.8577154308617234,
          0.8597194388777555,
          0.8617234468937875,
          0.8637274549098196,
          0.8657314629258517,
          0.8677354709418837,
          0.8697394789579158,
          0.8717434869739479,
          0.8737474949899798,
          0.8757515030060119,
          0.877755511022044,
          0.879759519038076,
          0.8817635270541081,
          0.8837675350701402,
          0.8857715430861722,
          0.8877755511022043,
          0.8897795591182364,
          0.8917835671342684,
          0.8937875751503005,
          0.8957915831663326,
          0.8977955911823646,
          0.8997995991983967,
          0.9018036072144288,
          0.9038076152304608,
          0.9058116232464929,
          0.907815631262525,
          0.909819639278557,
          0.9118236472945891,
          0.9138276553106212,
          0.9158316633266532,
          0.9178356713426853,
          0.9198396793587174,
          0.9218436873747494,
          0.9238476953907815,
          0.9258517034068136,
          0.9278557114228456,
          0.9298597194388777,
          0.9318637274549098,
          0.9338677354709418,
          0.9358717434869739,
          0.937875751503006,
          0.939879759519038,
          0.9418837675350701,
          0.9438877755511021,
          0.9458917835671342,
          0.9478957915831663,
          0.9498997995991983,
          0.9519038076152304,
          0.9539078156312625,
          0.9559118236472945,
          0.9579158316633266,
          0.9599198396793587,
          0.9619238476953907,
          0.9639278557114228,
          0.9659318637274549,
          0.9679358717434869,
          0.969939879759519,
          0.9719438877755511,
          0.9739478957915831,
          0.9759519038076151,
          0.9779559118236472,
          0.9799599198396792,
          0.9819639278557113,
          0.9839679358717434,
          0.9859719438877754,
          0.9879759519038075,
          0.9899799599198396,
          0.9919839679358716,
          0.9939879759519037,
          0.9959919839679358,
          0.9979959919839678,
          1
         ],
         "y": [
          0.04168203551585839,
          0.2289427980595124,
          -2.2429617832998945,
          0.7547182899088383,
          0.021011588324857253,
          -2.7427958542489335,
          -0.7951578014696526,
          0.792846478290432,
          2.471362227902042,
          -1.6254685129312951,
          0.7568988173553236,
          0.6257399967022848,
          -3.0818808801124944,
          -1.0109965842146804,
          -0.8493590248309462,
          -0.14645707716387535,
          -0.3232182800727946,
          -0.8240202212580403,
          -0.3431912749598817,
          0.11068222393409269,
          2.636958461958931,
          -0.002087210656678349,
          0.22919099012909214,
          -0.9500587930437754,
          0.44665738516138787,
          0.37097677892771863,
          -0.016025031453609444,
          -0.08758584249306665,
          -0.5647662670166215,
          0.7441350408256406,
          -1.3487436427971267,
          -0.47403352018704525,
          1.3267104806931282,
          0.22455368460557706,
          -0.21979846865155675,
          1.160396812511403,
          -0.32159269801960544,
          -0.031893845918628635,
          0.704618603291015,
          -0.3623566380439696,
          0.08356009035734324,
          -2.6843162394057596,
          -1.3413076738592409,
          0.8046780919556012,
          -1.293097513574279,
          -0.3729860932530997,
          1.7430666074351822,
          -0.4930622289701066,
          -1.184203829330537,
          -0.783414935341722,
          2.2779976188009936,
          0.5083345096119886,
          2.812276001082787,
          2.0195315527600015,
          0.9677237371400729,
          -0.6707697560319215,
          0.149577413368728,
          0.9713780825230259,
          0.20865457382767774,
          -0.6232498625373232,
          -0.5447437368636883,
          -0.08434144512984193,
          -0.22577134444045469,
          -0.028776601328959567,
          0.27622110736587985,
          -1.1739004322601652,
          -1.7272570232401745,
          -0.2410566635183836,
          -1.799198737254801,
          1.1844183889496354,
          1.1175648078693783,
          -0.9220794504010573,
          0.5036691978671647,
          -2.4300307870766815,
          0.7222521534741454,
          0.21995045811262728,
          -1.9151892932959254,
          -0.11267175113880458,
          1.7415341853832298,
          1.8546925200490865,
          -0.15216397436645548,
          -0.28088010331992164,
          0.612958958520393,
          -0.43938689183130347,
          -0.5423498998163976,
          0.5167833797542073,
          0.9803710564343866,
          -0.1760794770598901,
          0.21627155261955766,
          -1.1287394112355174,
          -0.173790115961706,
          1.3611332386728097,
          0.14436381742361715,
          1.209193997166402,
          0.54021232804626,
          0.5404351172079899,
          1.1006548544292736,
          -0.8953271064327112,
          -0.44794416279906096,
          0.9702637975453041,
          -0.39598178725562183,
          -0.15010500365068513,
          1.1825372846305995,
          -1.0369774188792569,
          1.1407997554076827,
          -0.7872321766260805,
          -0.2620836403299617,
          -0.40730468577980444,
          -0.3445696335328176,
          -1.0753652596279075,
          0.0069122693385367685,
          0.6557345189988708,
          -1.1944773419165917,
          -0.03368015716365082,
          -0.9006054766541287,
          0.8078463541518349,
          0.4927119063012132,
          0.39215477545316746,
          -2.351278069031736,
          0.9938790264319973,
          1.3831478591530482,
          0.2866894642924344,
          -0.6978597954380891,
          0.14059781679604405,
          -0.7245430820063605,
          0.9353120176140328,
          1.2133527227148306,
          0.06417755518991297,
          1.0430269198763846,
          -0.12036535403583823,
          0.4845356914047878,
          -0.6717540827971937,
          -1.3750093483212085,
          -1.5721373277676542,
          -1.156616556119531,
          -0.24228056075427418,
          1.025528171702154,
          -1.331205535933328,
          -0.7383939012122767,
          0.5282473679377226,
          0.9630229560401008,
          0.04426782302565988,
          1.8013099824984353,
          -0.748595454053892,
          -0.6990916341886089,
          0.1730966861687977,
          -1.28397941925881,
          0.6230959041240256,
          -1.0971244668152902,
          1.108910007761343,
          -1.5448922201039046,
          -1.5382848116490975,
          0.6165333828106889,
          0.07543647689535875,
          2.010192424496072,
          0.1982190297112427,
          0.881070222062936,
          -0.5786811136252582,
          1.0435111264902206,
          -0.07754695337793771,
          -0.3834275553020408,
          -0.25464329492771604,
          0.3307016806745403,
          -0.9950321615174464,
          -0.3630491202573086,
          1.4034835886689596,
          1.0970320122111368,
          -0.36067405728892593,
          -0.02855819631885722,
          1.6815384041062005,
          1.916709775968855,
          -1.6765670579001941,
          -1.2620928386614931,
          -0.6957688123070839,
          -0.3694854776817508,
          1.2298788925442825,
          0.4012296053897907,
          -1.120516827263572,
          -0.9691128036559105,
          0.3740806728010953,
          -0.27146351319607176,
          -1.8634509987745247,
          -0.7073707204525065,
          0.16361744470436518,
          0.2458769601265168,
          -0.3092695665832834,
          -0.14528835596674738,
          -0.7261047389449827,
          1.8247341060092883,
          1.6433736376191908,
          0.20714275916445118,
          -0.5606134867157612,
          1.4172534934308265,
          -0.782331192492259,
          1.3221758141289697,
          0.44694214818151395,
          -0.8797122902830038,
          -0.4421191661119005,
          -0.7779526995662497,
          1.0093878248215846,
          -0.1036223401767794,
          0.33570049608691493,
          -0.725867832557739,
          0.5144733913659292,
          -0.2459610067791724,
          -0.05901672768949958,
          -0.2714342641798008,
          -0.07550056979287202,
          -1.2139071612757328,
          -0.0546731440106459,
          1.5845972914412048,
          1.8996030363282783,
          0.6127828847679121,
          0.7599649580213707,
          -1.0631335826492458,
          -0.3383554580197852,
          -0.267590260664379,
          1.7438686090372084,
          0.9531266900358784,
          3.1253519787291735,
          -0.5332229734999998,
          -1.3303709491587752,
          0.25993287984919466,
          -0.3468200233680262,
          0.330279937904992,
          -0.7830685149334686,
          -2.1433324980269246,
          -0.001948581445078301,
          0.5951102446327681,
          -1.546030447154207,
          -1.2631199228231902,
          -0.01727108552516881,
          1.8317638302499575,
          1.221132397596669,
          0.2981632859176132,
          1.255897914361455,
          -0.5950561602992779,
          -0.608566967429514,
          0.07306998425759416,
          0.8824510750185429,
          0.6587228421897678,
          -0.07213693698517866,
          1.4892391650879884,
          0.29622136791610143,
          0.346251683066969,
          0.34045771503675715,
          -0.6984410191941469,
          -1.5867499097233586,
          0.7963175069693332,
          2.5882262390314565,
          -0.32295719690848496,
          0.19369799867201123,
          -0.09990399802771342,
          0.13556891299660545,
          0.1663288902061113,
          2.440705640698648,
          1.1379896071594549,
          0.21994870369389516,
          -0.14626548582134297,
          -1.2379575757046428,
          0.7207078186312307,
          -1.0412983379842402,
          0.12701257450247444,
          0.7835604489321265,
          -2.3408891187127616,
          -0.1721790378014026,
          0.5933803203751223,
          0.5566249889141095,
          -0.5726040358414937,
          1.749223132539408,
          -1.1259121384305535,
          -0.46408418125465534,
          -0.9666913722028713,
          0.8934658885100225,
          -1.201949673710121,
          -0.6698848750486565,
          -0.4319726004707109,
          1.7157298761758948,
          0.0845228080582247,
          -0.5978377471583335,
          -1.872404627298087,
          -0.19162175603504827,
          -0.3675293382209357,
          1.0370512436999908,
          -0.3692687877115475,
          1.6512417303998723,
          0.922646023426829,
          -1.7644810454700088,
          -1.3665744959878046,
          -1.1593387427856066,
          -0.6547288394934546,
          1.0952667008196533,
          -0.9822315900650243,
          0.2495488711254239,
          0.5969254060854328,
          0.17650833770780658,
          0.3820318408475436,
          0.4060229728105542,
          1.6329277409216658,
          -0.3811013699203062,
          -0.3362627913568585,
          0.35973142276623243,
          0.2498140688539963,
          0.4081314243712914,
          -0.05679584027113931,
          -0.9107793840386663,
          1.131989897016357,
          -1.352288658339313,
          0.8893324042722767,
          1.835240720722528,
          -1.4441076676820916,
          0.8410268570504459,
          1.456414061775279,
          1.0738710661852293,
          -1.8318363526711972,
          0.24559132458128202,
          1.18175055205242,
          -0.08150135539233577,
          -1.2152523940212645,
          1.1226906579845244,
          0.21805495882991116,
          0.780879230390634,
          -0.6134835378372913,
          1.13717192470427,
          -0.14725760264094148,
          1.221873541351131,
          -0.5388587990679252,
          -1.2825537193285388,
          -0.2903626270525645,
          -1.2813852980860747,
          -0.8485320227818716,
          -0.7818621146433319,
          0.5476835324898541,
          0.2649127071721145,
          1.2610884307797654,
          -0.5849851702198544,
          0.31031166980186414,
          0.49625483747018556,
          -0.9797059936834053,
          -0.7640587980016942,
          -0.6605682788051868,
          1.5362867708145487,
          0.612189692612622,
          0.3686769646797341,
          0.486123178744618,
          0.3856522738245933,
          -0.322928169319919,
          -1.0306038507441906,
          -1.4412451543063594,
          0.7042267700597347,
          -0.5554709138693144,
          -0.9336942326737733,
          -0.9287612585946972,
          -0.17423554298653196,
          0.6146063476539475,
          0.40968592039335544,
          -0.804075249038962,
          -0.7258868131596594,
          -1.2362552716431696,
          0.5850542435227583,
          1.5501045516888206,
          -0.010685830918061938,
          1.7869122349274307,
          1.8565291843832716,
          -0.6074171674197952,
          0.2455812914342357,
          0.6329862217603588,
          0.5082301750050493,
          1.9873649885707523,
          0.9200407173232397,
          -0.26979752660232786,
          0.8958094752928891,
          -0.01308111328418335,
          -0.40829282591678057,
          -0.38772670746438187,
          -2.1735595941605292,
          1.1003888795788885,
          1.984731872876332,
          -0.21029750603125497,
          1.638761908226029,
          -1.8850884393079543,
          0.7695537143245965,
          -1.4722452769449348,
          -0.21889696511022824,
          -0.8880716645678449,
          0.5397773572744874,
          -0.9771493174067672,
          1.0444920896548227,
          -0.5243982717120139,
          -0.35830996685729255,
          -0.27829323430905445,
          -0.2055163049858202,
          1.1888371614277564,
          0.6567298044262208,
          -0.5575132019570082,
          -1.429114758461779,
          0.2881301811918256,
          -1.4171135417321417,
          -0.35061617509567883,
          -0.5755342491708152,
          -0.5352551491077789,
          -0.6289679871288736,
          1.0886946677022484,
          0.08306432246864036,
          -0.2692860077542896,
          -0.4576860099948478,
          1.2082538871149597,
          -0.3091512894323059,
          1.0062107997795007,
          -0.17606751426719053,
          0.2719922566860608,
          0.9176606865264517,
          -1.1009843100542034,
          -0.25786836422530957,
          -1.9014468192843579,
          -0.8250048045548087,
          1.319667287615347,
          1.6486021702828122,
          1.5569812940950896,
          0.5006137133287678,
          0.9565524565119771,
          -0.4560224803741221,
          0.379395723281183,
          -1.299795801841346,
          -0.26513690878681095,
          -0.06278666296116654,
          1.0287460374015622,
          0.42698895613164367,
          0.5384671869659597,
          0.1684712197914477,
          1.4693963805343841,
          1.11803749144736,
          -1.589446473285883,
          -1.5750445016830232,
          -0.8126835394132014,
          1.7293572545586404,
          -0.4546015212223084,
          -1.726850452904554,
          2.3236866366053426,
          0.009822586776943516,
          -0.6178209645769306,
          -1.4800935673018687,
          0.7676061535340445,
          0.5728597042580019,
          -0.6344075611644994,
          0.5676855971003514,
          1.080468388956929,
          -0.9545469249014249,
          -1.0111927439514337,
          1.1574086858196773,
          -0.5328750269788509,
          -1.5527821758006641,
          0.8343788444950689,
          -0.8538950838466144,
          0.1699233636954647,
          -0.16963534435938307,
          -0.02572637659835633,
          0.11776944422999155,
          -0.25093232693129297,
          1.3831259118093058,
          -0.02681983402265106,
          0.8234817830969081,
          0.8349286362542679,
          0.08464934393985621,
          0.46674012085126326,
          0.9337894994935925,
          1.11750501866269,
          -1.8382010600540033,
          -0.23769610705174923,
          0.6826119896453339,
          0.7395479005519354,
          -0.9322274843712761,
          -0.9676407796700808,
          0.15039422369626823,
          0.2640227482275217,
          -0.54468359856407,
          -1.1068390544833053,
          -1.4932080837424195,
          -0.2612650601666008,
          0.6975081166516104,
          0.0753022581117991,
          -0.8199395894905841,
          0.36045620093227015,
          1.277380257381032,
          0.4224352833966679,
          1.8870982157194878,
          -0.32231838568390364,
          0.9936598948199337,
          2.1258715993120916,
          3.063259686279929,
          -0.7743956887841429,
          -0.6795264825040217,
          0.29002822778396975,
          0.23715105464164946,
          -0.8212889149085713,
          1.2625124151127192,
          0.7894711160754525,
          0.4930986452713994,
          -0.2618978493668694,
          0.4598909153080822
         ]
        }
       ],
       "layout": {}
      },
      "text/html": [
       "<div id=\"ffc805a9-a42e-40fa-9e91-6f68957ec417\" style=\"height: 525px; width: 100%;\" class=\"plotly-graph-div\"></div><script type=\"text/javascript\">require([\"plotly\"], function(Plotly) { window.PLOTLYENV=window.PLOTLYENV || {};window.PLOTLYENV.BASE_URL=\"https://plot.ly\";Plotly.newPlot(\"ffc805a9-a42e-40fa-9e91-6f68957ec417\", [{\"y\": [0.04168203551585839, 0.2289427980595124, -2.2429617832998945, 0.7547182899088383, 0.021011588324857253, -2.7427958542489335, -0.7951578014696526, 0.792846478290432, 2.471362227902042, -1.6254685129312951, 0.7568988173553236, 0.6257399967022848, -3.0818808801124944, -1.0109965842146804, -0.8493590248309462, -0.14645707716387535, -0.3232182800727946, -0.8240202212580403, -0.3431912749598817, 0.11068222393409269, 2.636958461958931, -0.002087210656678349, 0.22919099012909214, -0.9500587930437754, 0.44665738516138787, 0.37097677892771863, -0.016025031453609444, -0.08758584249306665, -0.5647662670166215, 0.7441350408256406, -1.3487436427971267, -0.47403352018704525, 1.3267104806931282, 0.22455368460557706, -0.21979846865155675, 1.160396812511403, -0.32159269801960544, -0.031893845918628635, 0.704618603291015, -0.3623566380439696, 0.08356009035734324, -2.6843162394057596, -1.3413076738592409, 0.8046780919556012, -1.293097513574279, -0.3729860932530997, 1.7430666074351822, -0.4930622289701066, -1.184203829330537, -0.783414935341722, 2.2779976188009936, 0.5083345096119886, 2.812276001082787, 2.0195315527600015, 0.9677237371400729, -0.6707697560319215, 0.149577413368728, 0.9713780825230259, 0.20865457382767774, -0.6232498625373232, -0.5447437368636883, -0.08434144512984193, -0.22577134444045469, -0.028776601328959567, 0.27622110736587985, -1.1739004322601652, -1.7272570232401745, -0.2410566635183836, -1.799198737254801, 1.1844183889496354, 1.1175648078693783, -0.9220794504010573, 0.5036691978671647, -2.4300307870766815, 0.7222521534741454, 0.21995045811262728, -1.9151892932959254, -0.11267175113880458, 1.7415341853832298, 1.8546925200490865, -0.15216397436645548, -0.28088010331992164, 0.612958958520393, -0.43938689183130347, -0.5423498998163976, 0.5167833797542073, 0.9803710564343866, -0.1760794770598901, 0.21627155261955766, -1.1287394112355174, -0.173790115961706, 1.3611332386728097, 0.14436381742361715, 1.209193997166402, 0.54021232804626, 0.5404351172079899, 1.1006548544292736, -0.8953271064327112, -0.44794416279906096, 0.9702637975453041, -0.39598178725562183, -0.15010500365068513, 1.1825372846305995, -1.0369774188792569, 1.1407997554076827, -0.7872321766260805, -0.2620836403299617, -0.40730468577980444, -0.3445696335328176, -1.0753652596279075, 0.0069122693385367685, 0.6557345189988708, -1.1944773419165917, -0.03368015716365082, -0.9006054766541287, 0.8078463541518349, 0.4927119063012132, 0.39215477545316746, -2.351278069031736, 0.9938790264319973, 1.3831478591530482, 0.2866894642924344, -0.6978597954380891, 0.14059781679604405, -0.7245430820063605, 0.9353120176140328, 1.2133527227148306, 0.06417755518991297, 1.0430269198763846, -0.12036535403583823, 0.4845356914047878, -0.6717540827971937, -1.3750093483212085, -1.5721373277676542, -1.156616556119531, -0.24228056075427418, 1.025528171702154, -1.331205535933328, -0.7383939012122767, 0.5282473679377226, 0.9630229560401008, 0.04426782302565988, 1.8013099824984353, -0.748595454053892, -0.6990916341886089, 0.1730966861687977, -1.28397941925881, 0.6230959041240256, -1.0971244668152902, 1.108910007761343, -1.5448922201039046, -1.5382848116490975, 0.6165333828106889, 0.07543647689535875, 2.010192424496072, 0.1982190297112427, 0.881070222062936, -0.5786811136252582, 1.0435111264902206, -0.07754695337793771, -0.3834275553020408, -0.25464329492771604, 0.3307016806745403, -0.9950321615174464, -0.3630491202573086, 1.4034835886689596, 1.0970320122111368, -0.36067405728892593, -0.02855819631885722, 1.6815384041062005, 1.916709775968855, -1.6765670579001941, -1.2620928386614931, -0.6957688123070839, -0.3694854776817508, 1.2298788925442825, 0.4012296053897907, -1.120516827263572, -0.9691128036559105, 0.3740806728010953, -0.27146351319607176, -1.8634509987745247, -0.7073707204525065, 0.16361744470436518, 0.2458769601265168, -0.3092695665832834, -0.14528835596674738, -0.7261047389449827, 1.8247341060092883, 1.6433736376191908, 0.20714275916445118, -0.5606134867157612, 1.4172534934308265, -0.782331192492259, 1.3221758141289697, 0.44694214818151395, -0.8797122902830038, -0.4421191661119005, -0.7779526995662497, 1.0093878248215846, -0.1036223401767794, 0.33570049608691493, -0.725867832557739, 0.5144733913659292, -0.2459610067791724, -0.05901672768949958, -0.2714342641798008, -0.07550056979287202, -1.2139071612757328, -0.0546731440106459, 1.5845972914412048, 1.8996030363282783, 0.6127828847679121, 0.7599649580213707, -1.0631335826492458, -0.3383554580197852, -0.267590260664379, 1.7438686090372084, 0.9531266900358784, 3.1253519787291735, -0.5332229734999998, -1.3303709491587752, 0.25993287984919466, -0.3468200233680262, 0.330279937904992, -0.7830685149334686, -2.1433324980269246, -0.001948581445078301, 0.5951102446327681, -1.546030447154207, -1.2631199228231902, -0.01727108552516881, 1.8317638302499575, 1.221132397596669, 0.2981632859176132, 1.255897914361455, -0.5950561602992779, -0.608566967429514, 0.07306998425759416, 0.8824510750185429, 0.6587228421897678, -0.07213693698517866, 1.4892391650879884, 0.29622136791610143, 0.346251683066969, 0.34045771503675715, -0.6984410191941469, -1.5867499097233586, 0.7963175069693332, 2.5882262390314565, -0.32295719690848496, 0.19369799867201123, -0.09990399802771342, 0.13556891299660545, 0.1663288902061113, 2.440705640698648, 1.1379896071594549, 0.21994870369389516, -0.14626548582134297, -1.2379575757046428, 0.7207078186312307, -1.0412983379842402, 0.12701257450247444, 0.7835604489321265, -2.3408891187127616, -0.1721790378014026, 0.5933803203751223, 0.5566249889141095, -0.5726040358414937, 1.749223132539408, -1.1259121384305535, -0.46408418125465534, -0.9666913722028713, 0.8934658885100225, -1.201949673710121, -0.6698848750486565, -0.4319726004707109, 1.7157298761758948, 0.0845228080582247, -0.5978377471583335, -1.872404627298087, -0.19162175603504827, -0.3675293382209357, 1.0370512436999908, -0.3692687877115475, 1.6512417303998723, 0.922646023426829, -1.7644810454700088, -1.3665744959878046, -1.1593387427856066, -0.6547288394934546, 1.0952667008196533, -0.9822315900650243, 0.2495488711254239, 0.5969254060854328, 0.17650833770780658, 0.3820318408475436, 0.4060229728105542, 1.6329277409216658, -0.3811013699203062, -0.3362627913568585, 0.35973142276623243, 0.2498140688539963, 0.4081314243712914, -0.05679584027113931, -0.9107793840386663, 1.131989897016357, -1.352288658339313, 0.8893324042722767, 1.835240720722528, -1.4441076676820916, 0.8410268570504459, 1.456414061775279, 1.0738710661852293, -1.8318363526711972, 0.24559132458128202, 1.18175055205242, -0.08150135539233577, -1.2152523940212645, 1.1226906579845244, 0.21805495882991116, 0.780879230390634, -0.6134835378372913, 1.13717192470427, -0.14725760264094148, 1.221873541351131, -0.5388587990679252, -1.2825537193285388, -0.2903626270525645, -1.2813852980860747, -0.8485320227818716, -0.7818621146433319, 0.5476835324898541, 0.2649127071721145, 1.2610884307797654, -0.5849851702198544, 0.31031166980186414, 0.49625483747018556, -0.9797059936834053, -0.7640587980016942, -0.6605682788051868, 1.5362867708145487, 0.612189692612622, 0.3686769646797341, 0.486123178744618, 0.3856522738245933, -0.322928169319919, -1.0306038507441906, -1.4412451543063594, 0.7042267700597347, -0.5554709138693144, -0.9336942326737733, -0.9287612585946972, -0.17423554298653196, 0.6146063476539475, 0.40968592039335544, -0.804075249038962, -0.7258868131596594, -1.2362552716431696, 0.5850542435227583, 1.5501045516888206, -0.010685830918061938, 1.7869122349274307, 1.8565291843832716, -0.6074171674197952, 0.2455812914342357, 0.6329862217603588, 0.5082301750050493, 1.9873649885707523, 0.9200407173232397, -0.26979752660232786, 0.8958094752928891, -0.01308111328418335, -0.40829282591678057, -0.38772670746438187, -2.1735595941605292, 1.1003888795788885, 1.984731872876332, -0.21029750603125497, 1.638761908226029, -1.8850884393079543, 0.7695537143245965, -1.4722452769449348, -0.21889696511022824, -0.8880716645678449, 0.5397773572744874, -0.9771493174067672, 1.0444920896548227, -0.5243982717120139, -0.35830996685729255, -0.27829323430905445, -0.2055163049858202, 1.1888371614277564, 0.6567298044262208, -0.5575132019570082, -1.429114758461779, 0.2881301811918256, -1.4171135417321417, -0.35061617509567883, -0.5755342491708152, -0.5352551491077789, -0.6289679871288736, 1.0886946677022484, 0.08306432246864036, -0.2692860077542896, -0.4576860099948478, 1.2082538871149597, -0.3091512894323059, 1.0062107997795007, -0.17606751426719053, 0.2719922566860608, 0.9176606865264517, -1.1009843100542034, -0.25786836422530957, -1.9014468192843579, -0.8250048045548087, 1.319667287615347, 1.6486021702828122, 1.5569812940950896, 0.5006137133287678, 0.9565524565119771, -0.4560224803741221, 0.379395723281183, -1.299795801841346, -0.26513690878681095, -0.06278666296116654, 1.0287460374015622, 0.42698895613164367, 0.5384671869659597, 0.1684712197914477, 1.4693963805343841, 1.11803749144736, -1.589446473285883, -1.5750445016830232, -0.8126835394132014, 1.7293572545586404, -0.4546015212223084, -1.726850452904554, 2.3236866366053426, 0.009822586776943516, -0.6178209645769306, -1.4800935673018687, 0.7676061535340445, 0.5728597042580019, -0.6344075611644994, 0.5676855971003514, 1.080468388956929, -0.9545469249014249, -1.0111927439514337, 1.1574086858196773, -0.5328750269788509, -1.5527821758006641, 0.8343788444950689, -0.8538950838466144, 0.1699233636954647, -0.16963534435938307, -0.02572637659835633, 0.11776944422999155, -0.25093232693129297, 1.3831259118093058, -0.02681983402265106, 0.8234817830969081, 0.8349286362542679, 0.08464934393985621, 0.46674012085126326, 0.9337894994935925, 1.11750501866269, -1.8382010600540033, -0.23769610705174923, 0.6826119896453339, 0.7395479005519354, -0.9322274843712761, -0.9676407796700808, 0.15039422369626823, 0.2640227482275217, -0.54468359856407, -1.1068390544833053, -1.4932080837424195, -0.2612650601666008, 0.6975081166516104, 0.0753022581117991, -0.8199395894905841, 0.36045620093227015, 1.277380257381032, 0.4224352833966679, 1.8870982157194878, -0.32231838568390364, 0.9936598948199337, 2.1258715993120916, 3.063259686279929, -0.7743956887841429, -0.6795264825040217, 0.29002822778396975, 0.23715105464164946, -0.8212889149085713, 1.2625124151127192, 0.7894711160754525, 0.4930986452713994, -0.2618978493668694, 0.4598909153080822], \"x\": [0.0, 0.002004008016032064, 0.004008016032064128, 0.0060120240480961915, 0.008016032064128256, 0.01002004008016032, 0.012024048096192383, 0.014028056112224447, 0.01603206412825651, 0.018036072144288574, 0.02004008016032064, 0.022044088176352703, 0.024048096192384766, 0.026052104208416832, 0.028056112224448895, 0.03006012024048096, 0.03206412825651302, 0.03406813627254509, 0.03607214428857715, 0.038076152304609215, 0.04008016032064128, 0.04208416833667334, 0.044088176352705406, 0.04609218436873747, 0.04809619238476953, 0.0501002004008016, 0.052104208416833664, 0.05410821643286573, 0.05611222444889779, 0.058116232464929855, 0.06012024048096192, 0.06212424849699398, 0.06412825651302605, 0.06613226452905811, 0.06813627254509018, 0.07014028056112225, 0.0721442885771543, 0.07414829659318636, 0.07615230460921843, 0.0781563126252505, 0.08016032064128256, 0.08216432865731463, 0.08416833667334668, 0.08617234468937875, 0.08817635270541081, 0.09018036072144288, 0.09218436873747494, 0.09418837675350701, 0.09619238476953906, 0.09819639278557113, 0.1002004008016032, 0.10220440881763526, 0.10420841683366733, 0.1062124248496994, 0.10821643286573146, 0.11022044088176351, 0.11222444889779558, 0.11422845691382764, 0.11623246492985971, 0.11823647294589178, 0.12024048096192384, 0.1222444889779559, 0.12424849699398796, 0.12625250501002003, 0.1282565130260521, 0.13026052104208416, 0.13226452905811623, 0.1342685370741483, 0.13627254509018036, 0.13827655310621242, 0.1402805611222445, 0.14228456913827653, 0.1442885771543086, 0.14629258517034066, 0.14829659318637273, 0.1503006012024048, 0.15230460921843686, 0.15430861723446893, 0.156312625250501, 0.15831663326653306, 0.16032064128256512, 0.1623246492985972, 0.16432865731462926, 0.16633266533066132, 0.16833667334669336, 0.17034068136272543, 0.1723446893787575, 0.17434869739478956, 0.17635270541082163, 0.1783567134268537, 0.18036072144288576, 0.18236472945891782, 0.1843687374749499, 0.18637274549098196, 0.18837675350701402, 0.1903807615230461, 0.19238476953907813, 0.1943887775551102, 0.19639278557114226, 0.19839679358717432, 0.2004008016032064, 0.20240480961923846, 0.20440881763527052, 0.2064128256513026, 0.20841683366733466, 0.21042084168336672, 0.2124248496993988, 0.21442885771543085, 0.21643286573146292, 0.21843687374749496, 0.22044088176352702, 0.2224448897795591, 0.22444889779559116, 0.22645290581162322, 0.2284569138276553, 0.23046092184368736, 0.23246492985971942, 0.2344689378757515, 0.23647294589178355, 0.23847695390781562, 0.24048096192384769, 0.24248496993987975, 0.2444889779559118, 0.24649298597194386, 0.24849699398797592, 0.250501002004008, 0.25250501002004005, 0.2545090180360721, 0.2565130260521042, 0.25851703406813625, 0.2605210420841683, 0.2625250501002004, 0.26452905811623245, 0.2665330661322645, 0.2685370741482966, 0.27054108216432865, 0.2725450901803607, 0.2745490981963928, 0.27655310621242485, 0.2785571142284569, 0.280561122244489, 0.282565130260521, 0.28456913827655306, 0.2865731462925851, 0.2885771543086172, 0.29058116232464926, 0.2925851703406813, 0.2945891783567134, 0.29659318637274545, 0.2985971943887775, 0.3006012024048096, 0.30260521042084165, 0.3046092184368737, 0.3066132264529058, 0.30861723446893785, 0.3106212424849699, 0.312625250501002, 0.31462925851703405, 0.3166332665330661, 0.3186372745490982, 0.32064128256513025, 0.3226452905811623, 0.3246492985971944, 0.32665330661322645, 0.3286573146292585, 0.3306613226452906, 0.33266533066132264, 0.33466933867735466, 0.3366733466933867, 0.3386773547094188, 0.34068136272545085, 0.3426853707414829, 0.344689378757515, 0.34669338677354705, 0.3486973947895791, 0.3507014028056112, 0.35270541082164325, 0.3547094188376753, 0.3567134268537074, 0.35871743486973945, 0.3607214428857715, 0.3627254509018036, 0.36472945891783565, 0.3667334669338677, 0.3687374749498998, 0.37074148296593185, 0.3727454909819639, 0.374749498997996, 0.37675350701402804, 0.3787575150300601, 0.3807615230460922, 0.38276553106212424, 0.38476953907815625, 0.3867735470941883, 0.3887775551102204, 0.39078156312625245, 0.3927855711422845, 0.3947895791583166, 0.39679358717434865, 0.3987975951903807, 0.4008016032064128, 0.40280561122244485, 0.4048096192384769, 0.406813627254509, 0.40881763527054105, 0.4108216432865731, 0.4128256513026052, 0.41482965931863724, 0.4168336673346693, 0.4188376753507014, 0.42084168336673344, 0.4228456913827655, 0.4248496993987976, 0.42685370741482964, 0.4288577154308617, 0.4308617234468938, 0.43286573146292584, 0.4348697394789579, 0.4368737474949899, 0.438877755511022, 0.44088176352705405, 0.4428857715430861, 0.4448897795591182, 0.44689378757515025, 0.4488977955911823, 0.4509018036072144, 0.45290581162324645, 0.4549098196392785, 0.4569138276553106, 0.45891783567134264, 0.4609218436873747, 0.4629258517034068, 0.46492985971943884, 0.4669338677354709, 0.468937875751503, 0.47094188376753504, 0.4729458917835671, 0.4749498997995992, 0.47695390781563124, 0.4789579158316633, 0.48096192384769537, 0.48296593186372744, 0.4849699398797595, 0.48697394789579157, 0.4889779559118236, 0.49098196392785565, 0.4929859719438877, 0.4949899799599198, 0.49699398797595185, 0.4989979959919839, 0.501002004008016, 0.503006012024048, 0.5050100200400801, 0.5070140280561122, 0.5090180360721442, 0.5110220440881763, 0.5130260521042084, 0.5150300601202404, 0.5170340681362725, 0.5190380761523046, 0.5210420841683366, 0.5230460921843687, 0.5250501002004008, 0.5270541082164328, 0.5290581162324649, 0.531062124248497, 0.533066132264529, 0.5350701402805611, 0.5370741482965932, 0.5390781563126252, 0.5410821643286573, 0.5430861723446894, 0.5450901803607214, 0.5470941883767535, 0.5490981963927856, 0.5511022044088176, 0.5531062124248497, 0.5551102204408818, 0.5571142284569138, 0.5591182364729459, 0.561122244488978, 0.56312625250501, 0.565130260521042, 0.567134268537074, 0.5691382765531061, 0.5711422845691382, 0.5731462925851702, 0.5751503006012023, 0.5771543086172344, 0.5791583166332664, 0.5811623246492985, 0.5831663326653306, 0.5851703406813626, 0.5871743486973947, 0.5891783567134268, 0.5911823647294588, 0.5931863727454909, 0.595190380761523, 0.597194388777555, 0.5991983967935871, 0.6012024048096192, 0.6032064128256512, 0.6052104208416833, 0.6072144288577154, 0.6092184368737474, 0.6112224448897795, 0.6132264529058116, 0.6152304609218436, 0.6172344689378757, 0.6192384769539078, 0.6212424849699398, 0.6232464929859719, 0.625250501002004, 0.627254509018036, 0.6292585170340681, 0.6312625250501002, 0.6332665330661322, 0.6352705410821643, 0.6372745490981964, 0.6392785571142284, 0.6412825651302605, 0.6432865731462926, 0.6452905811623246, 0.6472945891783567, 0.6492985971943888, 0.6513026052104208, 0.6533066132264529, 0.655310621242485, 0.657314629258517, 0.6593186372745491, 0.6613226452905812, 0.6633266533066132, 0.6653306613226453, 0.6673346693386772, 0.6693386773547093, 0.6713426853707414, 0.6733466933867734, 0.6753507014028055, 0.6773547094188376, 0.6793587174348696, 0.6813627254509017, 0.6833667334669338, 0.6853707414829658, 0.6873747494989979, 0.68937875751503, 0.691382765531062, 0.6933867735470941, 0.6953907815631262, 0.6973947895791582, 0.6993987975951903, 0.7014028056112224, 0.7034068136272544, 0.7054108216432865, 0.7074148296593186, 0.7094188376753506, 0.7114228456913827, 0.7134268537074148, 0.7154308617234468, 0.7174348697394789, 0.719438877755511, 0.721442885771543, 0.7234468937875751, 0.7254509018036072, 0.7274549098196392, 0.7294589178356713, 0.7314629258517034, 0.7334669338677354, 0.7354709418837675, 0.7374749498997996, 0.7394789579158316, 0.7414829659318637, 0.7434869739478958, 0.7454909819639278, 0.7474949899799599, 0.749498997995992, 0.751503006012024, 0.7535070140280561, 0.7555110220440882, 0.7575150300601202, 0.7595190380761523, 0.7615230460921844, 0.7635270541082164, 0.7655310621242485, 0.7675350701402806, 0.7695390781563125, 0.7715430861723446, 0.7735470941883766, 0.7755511022044087, 0.7775551102204408, 0.7795591182364728, 0.7815631262525049, 0.783567134268537, 0.785571142284569, 0.7875751503006011, 0.7895791583166332, 0.7915831663326652, 0.7935871743486973, 0.7955911823647294, 0.7975951903807614, 0.7995991983967935, 0.8016032064128256, 0.8036072144288576, 0.8056112224448897, 0.8076152304609218, 0.8096192384769538, 0.8116232464929859, 0.813627254509018, 0.81563126252505, 0.8176352705410821, 0.8196392785571142, 0.8216432865731462, 0.8236472945891783, 0.8256513026052104, 0.8276553106212424, 0.8296593186372745, 0.8316633266533066, 0.8336673346693386, 0.8356713426853707, 0.8376753507014028, 0.8396793587174348, 0.8416833667334669, 0.843687374749499, 0.845691382765531, 0.8476953907815631, 0.8496993987975952, 0.8517034068136272, 0.8537074148296593, 0.8557114228456913, 0.8577154308617234, 0.8597194388777555, 0.8617234468937875, 0.8637274549098196, 0.8657314629258517, 0.8677354709418837, 0.8697394789579158, 0.8717434869739479, 0.8737474949899798, 0.8757515030060119, 0.877755511022044, 0.879759519038076, 0.8817635270541081, 0.8837675350701402, 0.8857715430861722, 0.8877755511022043, 0.8897795591182364, 0.8917835671342684, 0.8937875751503005, 0.8957915831663326, 0.8977955911823646, 0.8997995991983967, 0.9018036072144288, 0.9038076152304608, 0.9058116232464929, 0.907815631262525, 0.909819639278557, 0.9118236472945891, 0.9138276553106212, 0.9158316633266532, 0.9178356713426853, 0.9198396793587174, 0.9218436873747494, 0.9238476953907815, 0.9258517034068136, 0.9278557114228456, 0.9298597194388777, 0.9318637274549098, 0.9338677354709418, 0.9358717434869739, 0.937875751503006, 0.939879759519038, 0.9418837675350701, 0.9438877755511021, 0.9458917835671342, 0.9478957915831663, 0.9498997995991983, 0.9519038076152304, 0.9539078156312625, 0.9559118236472945, 0.9579158316633266, 0.9599198396793587, 0.9619238476953907, 0.9639278557114228, 0.9659318637274549, 0.9679358717434869, 0.969939879759519, 0.9719438877755511, 0.9739478957915831, 0.9759519038076151, 0.9779559118236472, 0.9799599198396792, 0.9819639278557113, 0.9839679358717434, 0.9859719438877754, 0.9879759519038075, 0.9899799599198396, 0.9919839679358716, 0.9939879759519037, 0.9959919839679358, 0.9979959919839678, 1.0], \"type\": \"scatter\"}], {}, {\"linkText\": \"Export to plot.ly\", \"showLink\": true})});</script>"
      ],
      "text/vnd.plotly.v1+html": [
       "<div id=\"ffc805a9-a42e-40fa-9e91-6f68957ec417\" style=\"height: 525px; width: 100%;\" class=\"plotly-graph-div\"></div><script type=\"text/javascript\">require([\"plotly\"], function(Plotly) { window.PLOTLYENV=window.PLOTLYENV || {};window.PLOTLYENV.BASE_URL=\"https://plot.ly\";Plotly.newPlot(\"ffc805a9-a42e-40fa-9e91-6f68957ec417\", [{\"y\": [0.04168203551585839, 0.2289427980595124, -2.2429617832998945, 0.7547182899088383, 0.021011588324857253, -2.7427958542489335, -0.7951578014696526, 0.792846478290432, 2.471362227902042, -1.6254685129312951, 0.7568988173553236, 0.6257399967022848, -3.0818808801124944, -1.0109965842146804, -0.8493590248309462, -0.14645707716387535, -0.3232182800727946, -0.8240202212580403, -0.3431912749598817, 0.11068222393409269, 2.636958461958931, -0.002087210656678349, 0.22919099012909214, -0.9500587930437754, 0.44665738516138787, 0.37097677892771863, -0.016025031453609444, -0.08758584249306665, -0.5647662670166215, 0.7441350408256406, -1.3487436427971267, -0.47403352018704525, 1.3267104806931282, 0.22455368460557706, -0.21979846865155675, 1.160396812511403, -0.32159269801960544, -0.031893845918628635, 0.704618603291015, -0.3623566380439696, 0.08356009035734324, -2.6843162394057596, -1.3413076738592409, 0.8046780919556012, -1.293097513574279, -0.3729860932530997, 1.7430666074351822, -0.4930622289701066, -1.184203829330537, -0.783414935341722, 2.2779976188009936, 0.5083345096119886, 2.812276001082787, 2.0195315527600015, 0.9677237371400729, -0.6707697560319215, 0.149577413368728, 0.9713780825230259, 0.20865457382767774, -0.6232498625373232, -0.5447437368636883, -0.08434144512984193, -0.22577134444045469, -0.028776601328959567, 0.27622110736587985, -1.1739004322601652, -1.7272570232401745, -0.2410566635183836, -1.799198737254801, 1.1844183889496354, 1.1175648078693783, -0.9220794504010573, 0.5036691978671647, -2.4300307870766815, 0.7222521534741454, 0.21995045811262728, -1.9151892932959254, -0.11267175113880458, 1.7415341853832298, 1.8546925200490865, -0.15216397436645548, -0.28088010331992164, 0.612958958520393, -0.43938689183130347, -0.5423498998163976, 0.5167833797542073, 0.9803710564343866, -0.1760794770598901, 0.21627155261955766, -1.1287394112355174, -0.173790115961706, 1.3611332386728097, 0.14436381742361715, 1.209193997166402, 0.54021232804626, 0.5404351172079899, 1.1006548544292736, -0.8953271064327112, -0.44794416279906096, 0.9702637975453041, -0.39598178725562183, -0.15010500365068513, 1.1825372846305995, -1.0369774188792569, 1.1407997554076827, -0.7872321766260805, -0.2620836403299617, -0.40730468577980444, -0.3445696335328176, -1.0753652596279075, 0.0069122693385367685, 0.6557345189988708, -1.1944773419165917, -0.03368015716365082, -0.9006054766541287, 0.8078463541518349, 0.4927119063012132, 0.39215477545316746, -2.351278069031736, 0.9938790264319973, 1.3831478591530482, 0.2866894642924344, -0.6978597954380891, 0.14059781679604405, -0.7245430820063605, 0.9353120176140328, 1.2133527227148306, 0.06417755518991297, 1.0430269198763846, -0.12036535403583823, 0.4845356914047878, -0.6717540827971937, -1.3750093483212085, -1.5721373277676542, -1.156616556119531, -0.24228056075427418, 1.025528171702154, -1.331205535933328, -0.7383939012122767, 0.5282473679377226, 0.9630229560401008, 0.04426782302565988, 1.8013099824984353, -0.748595454053892, -0.6990916341886089, 0.1730966861687977, -1.28397941925881, 0.6230959041240256, -1.0971244668152902, 1.108910007761343, -1.5448922201039046, -1.5382848116490975, 0.6165333828106889, 0.07543647689535875, 2.010192424496072, 0.1982190297112427, 0.881070222062936, -0.5786811136252582, 1.0435111264902206, -0.07754695337793771, -0.3834275553020408, -0.25464329492771604, 0.3307016806745403, -0.9950321615174464, -0.3630491202573086, 1.4034835886689596, 1.0970320122111368, -0.36067405728892593, -0.02855819631885722, 1.6815384041062005, 1.916709775968855, -1.6765670579001941, -1.2620928386614931, -0.6957688123070839, -0.3694854776817508, 1.2298788925442825, 0.4012296053897907, -1.120516827263572, -0.9691128036559105, 0.3740806728010953, -0.27146351319607176, -1.8634509987745247, -0.7073707204525065, 0.16361744470436518, 0.2458769601265168, -0.3092695665832834, -0.14528835596674738, -0.7261047389449827, 1.8247341060092883, 1.6433736376191908, 0.20714275916445118, -0.5606134867157612, 1.4172534934308265, -0.782331192492259, 1.3221758141289697, 0.44694214818151395, -0.8797122902830038, -0.4421191661119005, -0.7779526995662497, 1.0093878248215846, -0.1036223401767794, 0.33570049608691493, -0.725867832557739, 0.5144733913659292, -0.2459610067791724, -0.05901672768949958, -0.2714342641798008, -0.07550056979287202, -1.2139071612757328, -0.0546731440106459, 1.5845972914412048, 1.8996030363282783, 0.6127828847679121, 0.7599649580213707, -1.0631335826492458, -0.3383554580197852, -0.267590260664379, 1.7438686090372084, 0.9531266900358784, 3.1253519787291735, -0.5332229734999998, -1.3303709491587752, 0.25993287984919466, -0.3468200233680262, 0.330279937904992, -0.7830685149334686, -2.1433324980269246, -0.001948581445078301, 0.5951102446327681, -1.546030447154207, -1.2631199228231902, -0.01727108552516881, 1.8317638302499575, 1.221132397596669, 0.2981632859176132, 1.255897914361455, -0.5950561602992779, -0.608566967429514, 0.07306998425759416, 0.8824510750185429, 0.6587228421897678, -0.07213693698517866, 1.4892391650879884, 0.29622136791610143, 0.346251683066969, 0.34045771503675715, -0.6984410191941469, -1.5867499097233586, 0.7963175069693332, 2.5882262390314565, -0.32295719690848496, 0.19369799867201123, -0.09990399802771342, 0.13556891299660545, 0.1663288902061113, 2.440705640698648, 1.1379896071594549, 0.21994870369389516, -0.14626548582134297, -1.2379575757046428, 0.7207078186312307, -1.0412983379842402, 0.12701257450247444, 0.7835604489321265, -2.3408891187127616, -0.1721790378014026, 0.5933803203751223, 0.5566249889141095, -0.5726040358414937, 1.749223132539408, -1.1259121384305535, -0.46408418125465534, -0.9666913722028713, 0.8934658885100225, -1.201949673710121, -0.6698848750486565, -0.4319726004707109, 1.7157298761758948, 0.0845228080582247, -0.5978377471583335, -1.872404627298087, -0.19162175603504827, -0.3675293382209357, 1.0370512436999908, -0.3692687877115475, 1.6512417303998723, 0.922646023426829, -1.7644810454700088, -1.3665744959878046, -1.1593387427856066, -0.6547288394934546, 1.0952667008196533, -0.9822315900650243, 0.2495488711254239, 0.5969254060854328, 0.17650833770780658, 0.3820318408475436, 0.4060229728105542, 1.6329277409216658, -0.3811013699203062, -0.3362627913568585, 0.35973142276623243, 0.2498140688539963, 0.4081314243712914, -0.05679584027113931, -0.9107793840386663, 1.131989897016357, -1.352288658339313, 0.8893324042722767, 1.835240720722528, -1.4441076676820916, 0.8410268570504459, 1.456414061775279, 1.0738710661852293, -1.8318363526711972, 0.24559132458128202, 1.18175055205242, -0.08150135539233577, -1.2152523940212645, 1.1226906579845244, 0.21805495882991116, 0.780879230390634, -0.6134835378372913, 1.13717192470427, -0.14725760264094148, 1.221873541351131, -0.5388587990679252, -1.2825537193285388, -0.2903626270525645, -1.2813852980860747, -0.8485320227818716, -0.7818621146433319, 0.5476835324898541, 0.2649127071721145, 1.2610884307797654, -0.5849851702198544, 0.31031166980186414, 0.49625483747018556, -0.9797059936834053, -0.7640587980016942, -0.6605682788051868, 1.5362867708145487, 0.612189692612622, 0.3686769646797341, 0.486123178744618, 0.3856522738245933, -0.322928169319919, -1.0306038507441906, -1.4412451543063594, 0.7042267700597347, -0.5554709138693144, -0.9336942326737733, -0.9287612585946972, -0.17423554298653196, 0.6146063476539475, 0.40968592039335544, -0.804075249038962, -0.7258868131596594, -1.2362552716431696, 0.5850542435227583, 1.5501045516888206, -0.010685830918061938, 1.7869122349274307, 1.8565291843832716, -0.6074171674197952, 0.2455812914342357, 0.6329862217603588, 0.5082301750050493, 1.9873649885707523, 0.9200407173232397, -0.26979752660232786, 0.8958094752928891, -0.01308111328418335, -0.40829282591678057, -0.38772670746438187, -2.1735595941605292, 1.1003888795788885, 1.984731872876332, -0.21029750603125497, 1.638761908226029, -1.8850884393079543, 0.7695537143245965, -1.4722452769449348, -0.21889696511022824, -0.8880716645678449, 0.5397773572744874, -0.9771493174067672, 1.0444920896548227, -0.5243982717120139, -0.35830996685729255, -0.27829323430905445, -0.2055163049858202, 1.1888371614277564, 0.6567298044262208, -0.5575132019570082, -1.429114758461779, 0.2881301811918256, -1.4171135417321417, -0.35061617509567883, -0.5755342491708152, -0.5352551491077789, -0.6289679871288736, 1.0886946677022484, 0.08306432246864036, -0.2692860077542896, -0.4576860099948478, 1.2082538871149597, -0.3091512894323059, 1.0062107997795007, -0.17606751426719053, 0.2719922566860608, 0.9176606865264517, -1.1009843100542034, -0.25786836422530957, -1.9014468192843579, -0.8250048045548087, 1.319667287615347, 1.6486021702828122, 1.5569812940950896, 0.5006137133287678, 0.9565524565119771, -0.4560224803741221, 0.379395723281183, -1.299795801841346, -0.26513690878681095, -0.06278666296116654, 1.0287460374015622, 0.42698895613164367, 0.5384671869659597, 0.1684712197914477, 1.4693963805343841, 1.11803749144736, -1.589446473285883, -1.5750445016830232, -0.8126835394132014, 1.7293572545586404, -0.4546015212223084, -1.726850452904554, 2.3236866366053426, 0.009822586776943516, -0.6178209645769306, -1.4800935673018687, 0.7676061535340445, 0.5728597042580019, -0.6344075611644994, 0.5676855971003514, 1.080468388956929, -0.9545469249014249, -1.0111927439514337, 1.1574086858196773, -0.5328750269788509, -1.5527821758006641, 0.8343788444950689, -0.8538950838466144, 0.1699233636954647, -0.16963534435938307, -0.02572637659835633, 0.11776944422999155, -0.25093232693129297, 1.3831259118093058, -0.02681983402265106, 0.8234817830969081, 0.8349286362542679, 0.08464934393985621, 0.46674012085126326, 0.9337894994935925, 1.11750501866269, -1.8382010600540033, -0.23769610705174923, 0.6826119896453339, 0.7395479005519354, -0.9322274843712761, -0.9676407796700808, 0.15039422369626823, 0.2640227482275217, -0.54468359856407, -1.1068390544833053, -1.4932080837424195, -0.2612650601666008, 0.6975081166516104, 0.0753022581117991, -0.8199395894905841, 0.36045620093227015, 1.277380257381032, 0.4224352833966679, 1.8870982157194878, -0.32231838568390364, 0.9936598948199337, 2.1258715993120916, 3.063259686279929, -0.7743956887841429, -0.6795264825040217, 0.29002822778396975, 0.23715105464164946, -0.8212889149085713, 1.2625124151127192, 0.7894711160754525, 0.4930986452713994, -0.2618978493668694, 0.4598909153080822], \"x\": [0.0, 0.002004008016032064, 0.004008016032064128, 0.0060120240480961915, 0.008016032064128256, 0.01002004008016032, 0.012024048096192383, 0.014028056112224447, 0.01603206412825651, 0.018036072144288574, 0.02004008016032064, 0.022044088176352703, 0.024048096192384766, 0.026052104208416832, 0.028056112224448895, 0.03006012024048096, 0.03206412825651302, 0.03406813627254509, 0.03607214428857715, 0.038076152304609215, 0.04008016032064128, 0.04208416833667334, 0.044088176352705406, 0.04609218436873747, 0.04809619238476953, 0.0501002004008016, 0.052104208416833664, 0.05410821643286573, 0.05611222444889779, 0.058116232464929855, 0.06012024048096192, 0.06212424849699398, 0.06412825651302605, 0.06613226452905811, 0.06813627254509018, 0.07014028056112225, 0.0721442885771543, 0.07414829659318636, 0.07615230460921843, 0.0781563126252505, 0.08016032064128256, 0.08216432865731463, 0.08416833667334668, 0.08617234468937875, 0.08817635270541081, 0.09018036072144288, 0.09218436873747494, 0.09418837675350701, 0.09619238476953906, 0.09819639278557113, 0.1002004008016032, 0.10220440881763526, 0.10420841683366733, 0.1062124248496994, 0.10821643286573146, 0.11022044088176351, 0.11222444889779558, 0.11422845691382764, 0.11623246492985971, 0.11823647294589178, 0.12024048096192384, 0.1222444889779559, 0.12424849699398796, 0.12625250501002003, 0.1282565130260521, 0.13026052104208416, 0.13226452905811623, 0.1342685370741483, 0.13627254509018036, 0.13827655310621242, 0.1402805611222445, 0.14228456913827653, 0.1442885771543086, 0.14629258517034066, 0.14829659318637273, 0.1503006012024048, 0.15230460921843686, 0.15430861723446893, 0.156312625250501, 0.15831663326653306, 0.16032064128256512, 0.1623246492985972, 0.16432865731462926, 0.16633266533066132, 0.16833667334669336, 0.17034068136272543, 0.1723446893787575, 0.17434869739478956, 0.17635270541082163, 0.1783567134268537, 0.18036072144288576, 0.18236472945891782, 0.1843687374749499, 0.18637274549098196, 0.18837675350701402, 0.1903807615230461, 0.19238476953907813, 0.1943887775551102, 0.19639278557114226, 0.19839679358717432, 0.2004008016032064, 0.20240480961923846, 0.20440881763527052, 0.2064128256513026, 0.20841683366733466, 0.21042084168336672, 0.2124248496993988, 0.21442885771543085, 0.21643286573146292, 0.21843687374749496, 0.22044088176352702, 0.2224448897795591, 0.22444889779559116, 0.22645290581162322, 0.2284569138276553, 0.23046092184368736, 0.23246492985971942, 0.2344689378757515, 0.23647294589178355, 0.23847695390781562, 0.24048096192384769, 0.24248496993987975, 0.2444889779559118, 0.24649298597194386, 0.24849699398797592, 0.250501002004008, 0.25250501002004005, 0.2545090180360721, 0.2565130260521042, 0.25851703406813625, 0.2605210420841683, 0.2625250501002004, 0.26452905811623245, 0.2665330661322645, 0.2685370741482966, 0.27054108216432865, 0.2725450901803607, 0.2745490981963928, 0.27655310621242485, 0.2785571142284569, 0.280561122244489, 0.282565130260521, 0.28456913827655306, 0.2865731462925851, 0.2885771543086172, 0.29058116232464926, 0.2925851703406813, 0.2945891783567134, 0.29659318637274545, 0.2985971943887775, 0.3006012024048096, 0.30260521042084165, 0.3046092184368737, 0.3066132264529058, 0.30861723446893785, 0.3106212424849699, 0.312625250501002, 0.31462925851703405, 0.3166332665330661, 0.3186372745490982, 0.32064128256513025, 0.3226452905811623, 0.3246492985971944, 0.32665330661322645, 0.3286573146292585, 0.3306613226452906, 0.33266533066132264, 0.33466933867735466, 0.3366733466933867, 0.3386773547094188, 0.34068136272545085, 0.3426853707414829, 0.344689378757515, 0.34669338677354705, 0.3486973947895791, 0.3507014028056112, 0.35270541082164325, 0.3547094188376753, 0.3567134268537074, 0.35871743486973945, 0.3607214428857715, 0.3627254509018036, 0.36472945891783565, 0.3667334669338677, 0.3687374749498998, 0.37074148296593185, 0.3727454909819639, 0.374749498997996, 0.37675350701402804, 0.3787575150300601, 0.3807615230460922, 0.38276553106212424, 0.38476953907815625, 0.3867735470941883, 0.3887775551102204, 0.39078156312625245, 0.3927855711422845, 0.3947895791583166, 0.39679358717434865, 0.3987975951903807, 0.4008016032064128, 0.40280561122244485, 0.4048096192384769, 0.406813627254509, 0.40881763527054105, 0.4108216432865731, 0.4128256513026052, 0.41482965931863724, 0.4168336673346693, 0.4188376753507014, 0.42084168336673344, 0.4228456913827655, 0.4248496993987976, 0.42685370741482964, 0.4288577154308617, 0.4308617234468938, 0.43286573146292584, 0.4348697394789579, 0.4368737474949899, 0.438877755511022, 0.44088176352705405, 0.4428857715430861, 0.4448897795591182, 0.44689378757515025, 0.4488977955911823, 0.4509018036072144, 0.45290581162324645, 0.4549098196392785, 0.4569138276553106, 0.45891783567134264, 0.4609218436873747, 0.4629258517034068, 0.46492985971943884, 0.4669338677354709, 0.468937875751503, 0.47094188376753504, 0.4729458917835671, 0.4749498997995992, 0.47695390781563124, 0.4789579158316633, 0.48096192384769537, 0.48296593186372744, 0.4849699398797595, 0.48697394789579157, 0.4889779559118236, 0.49098196392785565, 0.4929859719438877, 0.4949899799599198, 0.49699398797595185, 0.4989979959919839, 0.501002004008016, 0.503006012024048, 0.5050100200400801, 0.5070140280561122, 0.5090180360721442, 0.5110220440881763, 0.5130260521042084, 0.5150300601202404, 0.5170340681362725, 0.5190380761523046, 0.5210420841683366, 0.5230460921843687, 0.5250501002004008, 0.5270541082164328, 0.5290581162324649, 0.531062124248497, 0.533066132264529, 0.5350701402805611, 0.5370741482965932, 0.5390781563126252, 0.5410821643286573, 0.5430861723446894, 0.5450901803607214, 0.5470941883767535, 0.5490981963927856, 0.5511022044088176, 0.5531062124248497, 0.5551102204408818, 0.5571142284569138, 0.5591182364729459, 0.561122244488978, 0.56312625250501, 0.565130260521042, 0.567134268537074, 0.5691382765531061, 0.5711422845691382, 0.5731462925851702, 0.5751503006012023, 0.5771543086172344, 0.5791583166332664, 0.5811623246492985, 0.5831663326653306, 0.5851703406813626, 0.5871743486973947, 0.5891783567134268, 0.5911823647294588, 0.5931863727454909, 0.595190380761523, 0.597194388777555, 0.5991983967935871, 0.6012024048096192, 0.6032064128256512, 0.6052104208416833, 0.6072144288577154, 0.6092184368737474, 0.6112224448897795, 0.6132264529058116, 0.6152304609218436, 0.6172344689378757, 0.6192384769539078, 0.6212424849699398, 0.6232464929859719, 0.625250501002004, 0.627254509018036, 0.6292585170340681, 0.6312625250501002, 0.6332665330661322, 0.6352705410821643, 0.6372745490981964, 0.6392785571142284, 0.6412825651302605, 0.6432865731462926, 0.6452905811623246, 0.6472945891783567, 0.6492985971943888, 0.6513026052104208, 0.6533066132264529, 0.655310621242485, 0.657314629258517, 0.6593186372745491, 0.6613226452905812, 0.6633266533066132, 0.6653306613226453, 0.6673346693386772, 0.6693386773547093, 0.6713426853707414, 0.6733466933867734, 0.6753507014028055, 0.6773547094188376, 0.6793587174348696, 0.6813627254509017, 0.6833667334669338, 0.6853707414829658, 0.6873747494989979, 0.68937875751503, 0.691382765531062, 0.6933867735470941, 0.6953907815631262, 0.6973947895791582, 0.6993987975951903, 0.7014028056112224, 0.7034068136272544, 0.7054108216432865, 0.7074148296593186, 0.7094188376753506, 0.7114228456913827, 0.7134268537074148, 0.7154308617234468, 0.7174348697394789, 0.719438877755511, 0.721442885771543, 0.7234468937875751, 0.7254509018036072, 0.7274549098196392, 0.7294589178356713, 0.7314629258517034, 0.7334669338677354, 0.7354709418837675, 0.7374749498997996, 0.7394789579158316, 0.7414829659318637, 0.7434869739478958, 0.7454909819639278, 0.7474949899799599, 0.749498997995992, 0.751503006012024, 0.7535070140280561, 0.7555110220440882, 0.7575150300601202, 0.7595190380761523, 0.7615230460921844, 0.7635270541082164, 0.7655310621242485, 0.7675350701402806, 0.7695390781563125, 0.7715430861723446, 0.7735470941883766, 0.7755511022044087, 0.7775551102204408, 0.7795591182364728, 0.7815631262525049, 0.783567134268537, 0.785571142284569, 0.7875751503006011, 0.7895791583166332, 0.7915831663326652, 0.7935871743486973, 0.7955911823647294, 0.7975951903807614, 0.7995991983967935, 0.8016032064128256, 0.8036072144288576, 0.8056112224448897, 0.8076152304609218, 0.8096192384769538, 0.8116232464929859, 0.813627254509018, 0.81563126252505, 0.8176352705410821, 0.8196392785571142, 0.8216432865731462, 0.8236472945891783, 0.8256513026052104, 0.8276553106212424, 0.8296593186372745, 0.8316633266533066, 0.8336673346693386, 0.8356713426853707, 0.8376753507014028, 0.8396793587174348, 0.8416833667334669, 0.843687374749499, 0.845691382765531, 0.8476953907815631, 0.8496993987975952, 0.8517034068136272, 0.8537074148296593, 0.8557114228456913, 0.8577154308617234, 0.8597194388777555, 0.8617234468937875, 0.8637274549098196, 0.8657314629258517, 0.8677354709418837, 0.8697394789579158, 0.8717434869739479, 0.8737474949899798, 0.8757515030060119, 0.877755511022044, 0.879759519038076, 0.8817635270541081, 0.8837675350701402, 0.8857715430861722, 0.8877755511022043, 0.8897795591182364, 0.8917835671342684, 0.8937875751503005, 0.8957915831663326, 0.8977955911823646, 0.8997995991983967, 0.9018036072144288, 0.9038076152304608, 0.9058116232464929, 0.907815631262525, 0.909819639278557, 0.9118236472945891, 0.9138276553106212, 0.9158316633266532, 0.9178356713426853, 0.9198396793587174, 0.9218436873747494, 0.9238476953907815, 0.9258517034068136, 0.9278557114228456, 0.9298597194388777, 0.9318637274549098, 0.9338677354709418, 0.9358717434869739, 0.937875751503006, 0.939879759519038, 0.9418837675350701, 0.9438877755511021, 0.9458917835671342, 0.9478957915831663, 0.9498997995991983, 0.9519038076152304, 0.9539078156312625, 0.9559118236472945, 0.9579158316633266, 0.9599198396793587, 0.9619238476953907, 0.9639278557114228, 0.9659318637274549, 0.9679358717434869, 0.969939879759519, 0.9719438877755511, 0.9739478957915831, 0.9759519038076151, 0.9779559118236472, 0.9799599198396792, 0.9819639278557113, 0.9839679358717434, 0.9859719438877754, 0.9879759519038075, 0.9899799599198396, 0.9919839679358716, 0.9939879759519037, 0.9959919839679358, 0.9979959919839678, 1.0], \"type\": \"scatter\"}], {}, {\"linkText\": \"Export to plot.ly\", \"showLink\": true})});</script>"
      ]
     },
     "metadata": {},
     "output_type": "display_data"
    }
   ],
   "source": [
    "# Create random data with numpy\n",
    "import numpy as np\n",
    "\n",
    "N = 500\n",
    "random_x = np.linspace(0, 1, N)\n",
    "random_y = np.random.randn(N)\n",
    "\n",
    "# Create a trace\n",
    "trace = go.Scatter(\n",
    "    x = random_x,\n",
    "    y = random_y\n",
    ")\n",
    "\n",
    "data = [trace]\n",
    "\n",
    "plotly.offline.iplot(data, filename='basic-line')"
   ]
  },
  {
   "cell_type": "code",
   "execution_count": 234,
   "metadata": {
    "collapsed": true
   },
   "outputs": [],
   "source": [
    "# plot results - plan view\n",
    "    #fig=plt.figure()\n",
    "    #p1 = plt.plot(x_dir, S*1000) \n",
    "        #plt.xticks(y_pos+width, objects)\n",
    "        #plt.ylim((0,110))\n",
    "    #p2 = plt.plot(x_dir, a[2])\n",
    "    #p2 = plt.plot(x_dir, a[3])\n",
    "    #p3 = plt.plot(x_dir, a[4])\n",
    "    #plt.ylabel('Settlement [mm]', **axis_font)\n",
    "    #plt.xlabel('Distance from tunnel axis [m]')\n",
    "    #plt.yticks( **axis_font)\n",
    "    #plt.xticks( **axis_font)\n",
    "    #titleA=('Greenfield-Settlements, Station ' +str(tv_df['Station'][i]))\n",
    "    #plt.title(titleA, **title_font)\n",
    "    #plt.legend()\n",
    "    #plt.show()\n",
    "    #fig.savefig('C:\\Users\\kzq653\\Documents\\geopython\\settlementtrough_bilder_test_xxx.png', dpi=300)"
   ]
  },
  {
   "cell_type": "code",
   "execution_count": 235,
   "metadata": {},
   "outputs": [
    {
     "data": {
      "text/plain": [
       "\"\\n    fig=plt.figure()\\n    p1 = plt.plot(x_dir, S*1000) \\n        #plt.xticks(y_pos+width, objects)\\n        #plt.ylim((0,110))\\n    p2 = plt.plot(x_dir, a[2])\\n    p2 = plt.plot(x_dir, a[3])\\n    p3 = plt.plot(x_dir, a[4])\\n    plt.ylabel('Settlement [mm]', **axis_font)\\n    plt.xlabel('Distance from tunnel axis [m]', **axis_font)\\n    plt.yticks( **axis_font)\\n    plt.xticks( **axis_font)\\n    titleA=('Greenfield-Settlements, Station ' +str(a[5]))\\n    plt.title(titleA, **title_font)\\n    plt.legend()\\n    plt.show()\\n    fig.savefig('C:\\\\Users\\\\kzq653\\\\Documents\\\\geopython\\\\settlementtrough_bilder_test' + str(titleA) +'.png', dpi=300)\\n\""
      ]
     },
     "execution_count": 235,
     "metadata": {},
     "output_type": "execute_result"
    }
   ],
   "source": [
    "# plot results - cross-section\n",
    "\"\"\"\n",
    "    fig=plt.figure()\n",
    "    p1 = plt.plot(x_dir, S*1000) \n",
    "        #plt.xticks(y_pos+width, objects)\n",
    "        #plt.ylim((0,110))\n",
    "    p2 = plt.plot(x_dir, a[2])\n",
    "    p2 = plt.plot(x_dir, a[3])\n",
    "    p3 = plt.plot(x_dir, a[4])\n",
    "    plt.ylabel('Settlement [mm]', **axis_font)\n",
    "    plt.xlabel('Distance from tunnel axis [m]', **axis_font)\n",
    "    plt.yticks( **axis_font)\n",
    "    plt.xticks( **axis_font)\n",
    "    titleA=('Greenfield-Settlements, Station ' +str(a[5]))\n",
    "    plt.title(titleA, **title_font)\n",
    "    plt.legend()\n",
    "    plt.show()\n",
    "    fig.savefig('C:\\Users\\kzq653\\Documents\\geopython\\settlementtrough_bilder_test' + str(titleA) +'.png', dpi=300)\n",
    "\"\"\""
   ]
  },
  {
   "cell_type": "code",
   "execution_count": 236,
   "metadata": {},
   "outputs": [
    {
     "name": "stdout",
     "output_type": "stream",
     "text": [
      "Help on function create_gantt in module plotly.figure_factory._gantt:\n",
      "\n",
      "create_gantt(df, colors=None, index_col=None, show_colorbar=False, reverse_colors=False, title='Gantt Chart', bar_width=0.2, showgrid_x=False, showgrid_y=False, height=600, width=900, tasks=None, task_names=None, data=None, group_tasks=False)\n",
      "    Returns figure for a gantt chart\n",
      "    \n",
      "    :param (array|list) df: input data for gantt chart. Must be either a\n",
      "        a dataframe or a list. If dataframe, the columns must include\n",
      "        'Task', 'Start' and 'Finish'. Other columns can be included and\n",
      "        used for indexing. If a list, its elements must be dictionaries\n",
      "        with the same required column headers: 'Task', 'Start' and\n",
      "        'Finish'.\n",
      "    :param (str|list|dict|tuple) colors: either a plotly scale name, an\n",
      "        rgb or hex color, a color tuple or a list of colors. An rgb color\n",
      "        is of the form 'rgb(x, y, z)' where x, y, z belong to the interval\n",
      "        [0, 255] and a color tuple is a tuple of the form (a, b, c) where\n",
      "        a, b and c belong to [0, 1]. If colors is a list, it must\n",
      "        contain the valid color types aforementioned as its members.\n",
      "        If a dictionary, all values of the indexing column must be keys in\n",
      "        colors.\n",
      "    :param (str|float) index_col: the column header (if df is a data\n",
      "        frame) that will function as the indexing column. If df is a list,\n",
      "        index_col must be one of the keys in all the items of df.\n",
      "    :param (bool) show_colorbar: determines if colorbar will be visible.\n",
      "        Only applies if values in the index column are numeric.\n",
      "    :param (bool) reverse_colors: reverses the order of selected colors\n",
      "    :param (str) title: the title of the chart\n",
      "    :param (float) bar_width: the width of the horizontal bars in the plot\n",
      "    :param (bool) showgrid_x: show/hide the x-axis grid\n",
      "    :param (bool) showgrid_y: show/hide the y-axis grid\n",
      "    :param (float) height: the height of the chart\n",
      "    :param (float) width: the width of the chart\n",
      "    \n",
      "    Example 1: Simple Gantt Chart\n",
      "    ```\n",
      "    import plotly.plotly as py\n",
      "    from plotly.figure_factory import create_gantt\n",
      "    \n",
      "    # Make data for chart\n",
      "    df = [dict(Task=\"Job A\", Start='2009-01-01', Finish='2009-02-30'),\n",
      "          dict(Task=\"Job B\", Start='2009-03-05', Finish='2009-04-15'),\n",
      "          dict(Task=\"Job C\", Start='2009-02-20', Finish='2009-05-30')]\n",
      "    \n",
      "    # Create a figure\n",
      "    fig = create_gantt(df)\n",
      "    \n",
      "    # Plot the data\n",
      "    py.iplot(fig, filename='Simple Gantt Chart', world_readable=True)\n",
      "    ```\n",
      "    \n",
      "    Example 2: Index by Column with Numerical Entries\n",
      "    ```\n",
      "    import plotly.plotly as py\n",
      "    from plotly.figure_factory import create_gantt\n",
      "    \n",
      "    # Make data for chart\n",
      "    df = [dict(Task=\"Job A\", Start='2009-01-01',\n",
      "               Finish='2009-02-30', Complete=10),\n",
      "          dict(Task=\"Job B\", Start='2009-03-05',\n",
      "               Finish='2009-04-15', Complete=60),\n",
      "          dict(Task=\"Job C\", Start='2009-02-20',\n",
      "               Finish='2009-05-30', Complete=95)]\n",
      "    \n",
      "    # Create a figure with Plotly colorscale\n",
      "    fig = create_gantt(df, colors='Blues', index_col='Complete',\n",
      "                       show_colorbar=True, bar_width=0.5,\n",
      "                       showgrid_x=True, showgrid_y=True)\n",
      "    \n",
      "    # Plot the data\n",
      "    py.iplot(fig, filename='Numerical Entries', world_readable=True)\n",
      "    ```\n",
      "    \n",
      "    Example 3: Index by Column with String Entries\n",
      "    ```\n",
      "    import plotly.plotly as py\n",
      "    from plotly.figure_factory import create_gantt\n",
      "    \n",
      "    # Make data for chart\n",
      "    df = [dict(Task=\"Job A\", Start='2009-01-01',\n",
      "               Finish='2009-02-30', Resource='Apple'),\n",
      "          dict(Task=\"Job B\", Start='2009-03-05',\n",
      "               Finish='2009-04-15', Resource='Grape'),\n",
      "          dict(Task=\"Job C\", Start='2009-02-20',\n",
      "               Finish='2009-05-30', Resource='Banana')]\n",
      "    \n",
      "    # Create a figure with Plotly colorscale\n",
      "    fig = create_gantt(df, colors=['rgb(200, 50, 25)', (1, 0, 1), '#6c4774'],\n",
      "                       index_col='Resource', reverse_colors=True,\n",
      "                       show_colorbar=True)\n",
      "    \n",
      "    # Plot the data\n",
      "    py.iplot(fig, filename='String Entries', world_readable=True)\n",
      "    ```\n",
      "    \n",
      "    Example 4: Use a dictionary for colors\n",
      "    ```\n",
      "    import plotly.plotly as py\n",
      "    from plotly.figure_factory import create_gantt\n",
      "    \n",
      "    # Make data for chart\n",
      "    df = [dict(Task=\"Job A\", Start='2009-01-01',\n",
      "               Finish='2009-02-30', Resource='Apple'),\n",
      "          dict(Task=\"Job B\", Start='2009-03-05',\n",
      "               Finish='2009-04-15', Resource='Grape'),\n",
      "          dict(Task=\"Job C\", Start='2009-02-20',\n",
      "               Finish='2009-05-30', Resource='Banana')]\n",
      "    \n",
      "    # Make a dictionary of colors\n",
      "    colors = {'Apple': 'rgb(255, 0, 0)',\n",
      "              'Grape': 'rgb(170, 14, 200)',\n",
      "              'Banana': (1, 1, 0.2)}\n",
      "    \n",
      "    # Create a figure with Plotly colorscale\n",
      "    fig = create_gantt(df, colors=colors, index_col='Resource',\n",
      "                       show_colorbar=True)\n",
      "    \n",
      "    # Plot the data\n",
      "    py.iplot(fig, filename='dictioanry colors', world_readable=True)\n",
      "    ```\n",
      "    \n",
      "    Example 5: Use a pandas dataframe\n",
      "    ```\n",
      "    import plotly.plotly as py\n",
      "    from plotly.figure_factory import create_gantt\n",
      "    \n",
      "    import pandas as pd\n",
      "    \n",
      "    # Make data as a dataframe\n",
      "    df = pd.DataFrame([['Run', '2010-01-01', '2011-02-02', 10],\n",
      "                       ['Fast', '2011-01-01', '2012-06-05', 55],\n",
      "                       ['Eat', '2012-01-05', '2013-07-05', 94]],\n",
      "                      columns=['Task', 'Start', 'Finish', 'Complete'])\n",
      "    \n",
      "    # Create a figure with Plotly colorscale\n",
      "    fig = create_gantt(df, colors='Blues', index_col='Complete',\n",
      "                       show_colorbar=True, bar_width=0.5,\n",
      "                       showgrid_x=True, showgrid_y=True)\n",
      "    \n",
      "    # Plot the data\n",
      "    py.iplot(fig, filename='data with dataframe', world_readable=True)\n",
      "    ```\n",
      "\n"
     ]
    }
   ],
   "source": [
    "help(ff.create_gantt)"
   ]
  },
  {
   "cell_type": "code",
   "execution_count": 237,
   "metadata": {},
   "outputs": [
    {
     "data": {
      "application/vnd.plotly.v1+json": {
       "data": [
        {
         "marker": {
          "color": "white"
         },
         "name": "",
         "type": "scatter",
         "x": [
          "2009-01-01",
          "2009-02-30"
         ],
         "y": [
          0,
          0
         ]
        },
        {
         "marker": {
          "color": "white"
         },
         "name": "",
         "type": "scatter",
         "x": [
          "2009-03-05",
          "2009-04-15"
         ],
         "y": [
          1,
          1
         ]
        },
        {
         "marker": {
          "color": "white"
         },
         "name": "",
         "type": "scatter",
         "x": [
          "2009-02-20",
          "2009-05-30"
         ],
         "y": [
          2,
          2
         ]
        }
       ],
       "layout": {
        "height": 600,
        "hovermode": "closest",
        "shapes": [
         {
          "fillcolor": "rgb(31, 119, 180)",
          "line": {
           "width": 0
          },
          "opacity": 1,
          "type": "rect",
          "x0": "2009-01-01",
          "x1": "2009-02-30",
          "xref": "x",
          "y0": -0.2,
          "y1": 0.2,
          "yref": "y"
         },
         {
          "fillcolor": "rgb(255, 127, 14)",
          "line": {
           "width": 0
          },
          "opacity": 1,
          "type": "rect",
          "x0": "2009-03-05",
          "x1": "2009-04-15",
          "xref": "x",
          "y0": 0.8,
          "y1": 1.2,
          "yref": "y"
         },
         {
          "fillcolor": "rgb(44, 160, 44)",
          "line": {
           "width": 0
          },
          "opacity": 1,
          "type": "rect",
          "x0": "2009-02-20",
          "x1": "2009-05-30",
          "xref": "x",
          "y0": 1.8,
          "y1": 2.2,
          "yref": "y"
         }
        ],
        "showlegend": false,
        "title": "Gantt Chart",
        "width": 900,
        "xaxis": {
         "rangeselector": {
          "buttons": [
           {
            "count": 7,
            "label": "1w",
            "step": "day",
            "stepmode": "backward"
           },
           {
            "count": 1,
            "label": "1m",
            "step": "month",
            "stepmode": "backward"
           },
           {
            "count": 6,
            "label": "6m",
            "step": "month",
            "stepmode": "backward"
           },
           {
            "count": 1,
            "label": "YTD",
            "step": "year",
            "stepmode": "todate"
           },
           {
            "count": 1,
            "label": "1y",
            "step": "year",
            "stepmode": "backward"
           },
           {
            "step": "all"
           }
          ]
         },
         "showgrid": false,
         "type": "date",
         "zeroline": false
        },
        "yaxis": {
         "autorange": false,
         "range": [
          -1,
          4
         ],
         "showgrid": false,
         "ticktext": [
          "Job A",
          "Job B",
          "Job C"
         ],
         "tickvals": [
          0,
          1,
          2
         ],
         "zeroline": false
        }
       }
      },
      "text/html": [
       "<div id=\"431de0b4-c4e2-40dd-94e6-e0aff5873b86\" style=\"height: 600px; width: 900px;\" class=\"plotly-graph-div\"></div><script type=\"text/javascript\">require([\"plotly\"], function(Plotly) { window.PLOTLYENV=window.PLOTLYENV || {};window.PLOTLYENV.BASE_URL=\"https://plot.ly\";Plotly.newPlot(\"431de0b4-c4e2-40dd-94e6-e0aff5873b86\", [{\"marker\": {\"color\": \"white\"}, \"y\": [0, 0], \"type\": \"scatter\", \"name\": \"\", \"x\": [\"2009-01-01\", \"2009-02-30\"]}, {\"marker\": {\"color\": \"white\"}, \"y\": [1, 1], \"type\": \"scatter\", \"name\": \"\", \"x\": [\"2009-03-05\", \"2009-04-15\"]}, {\"marker\": {\"color\": \"white\"}, \"y\": [2, 2], \"type\": \"scatter\", \"name\": \"\", \"x\": [\"2009-02-20\", \"2009-05-30\"]}], {\"showlegend\": false, \"title\": \"Gantt Chart\", \"yaxis\": {\"showgrid\": false, \"range\": [-1, 4], \"zeroline\": false, \"ticktext\": [\"Job A\", \"Job B\", \"Job C\"], \"autorange\": false, \"tickvals\": [0, 1, 2]}, \"height\": 600, \"shapes\": [{\"opacity\": 1, \"xref\": \"x\", \"yref\": \"y\", \"fillcolor\": \"rgb(31, 119, 180)\", \"y1\": 0.2, \"y0\": -0.2, \"x0\": \"2009-01-01\", \"x1\": \"2009-02-30\", \"type\": \"rect\", \"line\": {\"width\": 0}}, {\"opacity\": 1, \"xref\": \"x\", \"yref\": \"y\", \"fillcolor\": \"rgb(255, 127, 14)\", \"y1\": 1.2, \"y0\": 0.8, \"x0\": \"2009-03-05\", \"x1\": \"2009-04-15\", \"type\": \"rect\", \"line\": {\"width\": 0}}, {\"opacity\": 1, \"xref\": \"x\", \"yref\": \"y\", \"fillcolor\": \"rgb(44, 160, 44)\", \"y1\": 2.2, \"y0\": 1.8, \"x0\": \"2009-02-20\", \"x1\": \"2009-05-30\", \"type\": \"rect\", \"line\": {\"width\": 0}}], \"width\": 900, \"xaxis\": {\"zeroline\": false, \"rangeselector\": {\"buttons\": [{\"count\": 7, \"step\": \"day\", \"stepmode\": \"backward\", \"label\": \"1w\"}, {\"count\": 1, \"step\": \"month\", \"stepmode\": \"backward\", \"label\": \"1m\"}, {\"count\": 6, \"step\": \"month\", \"stepmode\": \"backward\", \"label\": \"6m\"}, {\"count\": 1, \"step\": \"year\", \"stepmode\": \"todate\", \"label\": \"YTD\"}, {\"count\": 1, \"step\": \"year\", \"stepmode\": \"backward\", \"label\": \"1y\"}, {\"step\": \"all\"}]}, \"type\": \"date\", \"showgrid\": false}, \"hovermode\": \"closest\"}, {\"linkText\": \"Export to plot.ly\", \"showLink\": true})});</script>"
      ],
      "text/vnd.plotly.v1+html": [
       "<div id=\"431de0b4-c4e2-40dd-94e6-e0aff5873b86\" style=\"height: 600px; width: 900px;\" class=\"plotly-graph-div\"></div><script type=\"text/javascript\">require([\"plotly\"], function(Plotly) { window.PLOTLYENV=window.PLOTLYENV || {};window.PLOTLYENV.BASE_URL=\"https://plot.ly\";Plotly.newPlot(\"431de0b4-c4e2-40dd-94e6-e0aff5873b86\", [{\"marker\": {\"color\": \"white\"}, \"y\": [0, 0], \"type\": \"scatter\", \"name\": \"\", \"x\": [\"2009-01-01\", \"2009-02-30\"]}, {\"marker\": {\"color\": \"white\"}, \"y\": [1, 1], \"type\": \"scatter\", \"name\": \"\", \"x\": [\"2009-03-05\", \"2009-04-15\"]}, {\"marker\": {\"color\": \"white\"}, \"y\": [2, 2], \"type\": \"scatter\", \"name\": \"\", \"x\": [\"2009-02-20\", \"2009-05-30\"]}], {\"showlegend\": false, \"title\": \"Gantt Chart\", \"yaxis\": {\"showgrid\": false, \"range\": [-1, 4], \"zeroline\": false, \"ticktext\": [\"Job A\", \"Job B\", \"Job C\"], \"autorange\": false, \"tickvals\": [0, 1, 2]}, \"height\": 600, \"shapes\": [{\"opacity\": 1, \"xref\": \"x\", \"yref\": \"y\", \"fillcolor\": \"rgb(31, 119, 180)\", \"y1\": 0.2, \"y0\": -0.2, \"x0\": \"2009-01-01\", \"x1\": \"2009-02-30\", \"type\": \"rect\", \"line\": {\"width\": 0}}, {\"opacity\": 1, \"xref\": \"x\", \"yref\": \"y\", \"fillcolor\": \"rgb(255, 127, 14)\", \"y1\": 1.2, \"y0\": 0.8, \"x0\": \"2009-03-05\", \"x1\": \"2009-04-15\", \"type\": \"rect\", \"line\": {\"width\": 0}}, {\"opacity\": 1, \"xref\": \"x\", \"yref\": \"y\", \"fillcolor\": \"rgb(44, 160, 44)\", \"y1\": 2.2, \"y0\": 1.8, \"x0\": \"2009-02-20\", \"x1\": \"2009-05-30\", \"type\": \"rect\", \"line\": {\"width\": 0}}], \"width\": 900, \"xaxis\": {\"zeroline\": false, \"rangeselector\": {\"buttons\": [{\"count\": 7, \"step\": \"day\", \"stepmode\": \"backward\", \"label\": \"1w\"}, {\"count\": 1, \"step\": \"month\", \"stepmode\": \"backward\", \"label\": \"1m\"}, {\"count\": 6, \"step\": \"month\", \"stepmode\": \"backward\", \"label\": \"6m\"}, {\"count\": 1, \"step\": \"year\", \"stepmode\": \"todate\", \"label\": \"YTD\"}, {\"count\": 1, \"step\": \"year\", \"stepmode\": \"backward\", \"label\": \"1y\"}, {\"step\": \"all\"}]}, \"type\": \"date\", \"showgrid\": false}, \"hovermode\": \"closest\"}, {\"linkText\": \"Export to plot.ly\", \"showLink\": true})});</script>"
      ]
     },
     "metadata": {},
     "output_type": "display_data"
    }
   ],
   "source": [
    "    import plotly.plotly as py\n",
    "    from plotly.figure_factory import create_gantt\n",
    "    \n",
    "    # Make data for chart\n",
    "    df = [dict(Task=\"Job A\", Start='2009-01-01', Finish='2009-02-30'),\n",
    "          dict(Task=\"Job B\", Start='2009-03-05', Finish='2009-04-15'),\n",
    "          dict(Task=\"Job C\", Start='2009-02-20', Finish='2009-05-30')]\n",
    "    \n",
    "    # Create a figure\n",
    "    fig = create_gantt(df)\n",
    "    \n",
    "    # Plot the data\n",
    "    plotly.offline.iplot(fig)"
   ]
  },
  {
   "cell_type": "code",
   "execution_count": 238,
   "metadata": {},
   "outputs": [
    {
     "data": {
      "application/vnd.plotly.v1+json": {
       "data": [
        {
         "marker": {
          "color": "rgba(246, 78, 139, 0.6)",
          "line": {
           "color": "rgba(246, 78, 139, 1.0)",
           "width": 3
          }
         },
         "name": "SF Zoo",
         "orientation": "h",
         "type": "bar",
         "x": [
          20,
          14,
          23
         ],
         "y": [
          "giraffes",
          "orangutans",
          "monkeys"
         ]
        },
        {
         "marker": {
          "color": "rgba(58, 71, 80, 0.6)",
          "line": {
           "color": "rgba(58, 71, 80, 1.0)",
           "width": 3
          }
         },
         "name": "LA Zoo",
         "orientation": "h",
         "type": "bar",
         "x": [
          12,
          18,
          29
         ],
         "y": [
          "giraffes",
          "orangutans",
          "monkeys"
         ]
        }
       ],
       "layout": {
        "barmode": "stack"
       }
      },
      "text/html": [
       "<div id=\"7fdaea5f-86f6-47fa-a226-0741d9cfd51b\" style=\"height: 525px; width: 100%;\" class=\"plotly-graph-div\"></div><script type=\"text/javascript\">require([\"plotly\"], function(Plotly) { window.PLOTLYENV=window.PLOTLYENV || {};window.PLOTLYENV.BASE_URL=\"https://plot.ly\";Plotly.newPlot(\"7fdaea5f-86f6-47fa-a226-0741d9cfd51b\", [{\"orientation\": \"h\", \"marker\": {\"color\": \"rgba(246, 78, 139, 0.6)\", \"line\": {\"color\": \"rgba(246, 78, 139, 1.0)\", \"width\": 3}}, \"y\": [\"giraffes\", \"orangutans\", \"monkeys\"], \"x\": [20, 14, 23], \"type\": \"bar\", \"name\": \"SF Zoo\"}, {\"orientation\": \"h\", \"marker\": {\"color\": \"rgba(58, 71, 80, 0.6)\", \"line\": {\"color\": \"rgba(58, 71, 80, 1.0)\", \"width\": 3}}, \"y\": [\"giraffes\", \"orangutans\", \"monkeys\"], \"x\": [12, 18, 29], \"type\": \"bar\", \"name\": \"LA Zoo\"}], {\"barmode\": \"stack\"}, {\"linkText\": \"Export to plot.ly\", \"showLink\": true})});</script>"
      ],
      "text/vnd.plotly.v1+html": [
       "<div id=\"7fdaea5f-86f6-47fa-a226-0741d9cfd51b\" style=\"height: 525px; width: 100%;\" class=\"plotly-graph-div\"></div><script type=\"text/javascript\">require([\"plotly\"], function(Plotly) { window.PLOTLYENV=window.PLOTLYENV || {};window.PLOTLYENV.BASE_URL=\"https://plot.ly\";Plotly.newPlot(\"7fdaea5f-86f6-47fa-a226-0741d9cfd51b\", [{\"orientation\": \"h\", \"marker\": {\"color\": \"rgba(246, 78, 139, 0.6)\", \"line\": {\"color\": \"rgba(246, 78, 139, 1.0)\", \"width\": 3}}, \"y\": [\"giraffes\", \"orangutans\", \"monkeys\"], \"x\": [20, 14, 23], \"type\": \"bar\", \"name\": \"SF Zoo\"}, {\"orientation\": \"h\", \"marker\": {\"color\": \"rgba(58, 71, 80, 0.6)\", \"line\": {\"color\": \"rgba(58, 71, 80, 1.0)\", \"width\": 3}}, \"y\": [\"giraffes\", \"orangutans\", \"monkeys\"], \"x\": [12, 18, 29], \"type\": \"bar\", \"name\": \"LA Zoo\"}], {\"barmode\": \"stack\"}, {\"linkText\": \"Export to plot.ly\", \"showLink\": true})});</script>"
      ]
     },
     "metadata": {},
     "output_type": "display_data"
    }
   ],
   "source": [
    "import plotly.plotly as py\n",
    "import plotly.graph_objs as go\n",
    "\n",
    "trace1 = go.Bar(\n",
    "    y=['giraffes', 'orangutans', 'monkeys'],\n",
    "    x=[20, 14, 23],\n",
    "    name='SF Zoo',\n",
    "    orientation = 'h',\n",
    "    marker = dict(\n",
    "        color = 'rgba(246, 78, 139, 0.6)',\n",
    "        line = dict(\n",
    "            color = 'rgba(246, 78, 139, 1.0)',\n",
    "            width = 3)\n",
    "    )\n",
    ")\n",
    "trace2 = go.Bar(\n",
    "    y=['giraffes', 'orangutans', 'monkeys'],\n",
    "    x=[12, 18, 29],\n",
    "    name='LA Zoo',\n",
    "    orientation = 'h',\n",
    "    marker = dict(\n",
    "        color = 'rgba(58, 71, 80, 0.6)',\n",
    "        line = dict(\n",
    "            color = 'rgba(58, 71, 80, 1.0)',\n",
    "            width = 3)\n",
    "    )\n",
    ")\n",
    "\n",
    "data = [trace1, trace2]\n",
    "layout = go.Layout(\n",
    "    barmode='stack'\n",
    ")\n",
    "\n",
    "fig = go.Figure(data=data, layout=layout)\n",
    "plotly.offline.iplot(fig, filename='marker-h-bar')"
   ]
  },
  {
   "cell_type": "code",
   "execution_count": 239,
   "metadata": {},
   "outputs": [
    {
     "data": {
      "application/vnd.plotly.v1+json": {
       "data": [
        {
         "marker": {
          "color": "rgba(38, 24, 74, 0.8)",
          "line": {
           "color": "rgb(248, 248, 249)",
           "width": 1
          }
         },
         "orientation": "h",
         "type": "bar",
         "x": [
          21
         ],
         "y": [
          "The course was effectively<br>organized"
         ]
        },
        {
         "marker": {
          "color": "rgba(38, 24, 74, 0.8)",
          "line": {
           "color": "rgb(248, 248, 249)",
           "width": 1
          }
         },
         "orientation": "h",
         "type": "bar",
         "x": [
          24
         ],
         "y": [
          "The course developed my<br>abilities and skills for<br>the subject"
         ]
        },
        {
         "marker": {
          "color": "rgba(38, 24, 74, 0.8)",
          "line": {
           "color": "rgb(248, 248, 249)",
           "width": 1
          }
         },
         "orientation": "h",
         "type": "bar",
         "x": [
          27
         ],
         "y": [
          "The course developed my<br>ability to think critically about<br>the subject"
         ]
        },
        {
         "marker": {
          "color": "rgba(38, 24, 74, 0.8)",
          "line": {
           "color": "rgb(248, 248, 249)",
           "width": 1
          }
         },
         "orientation": "h",
         "type": "bar",
         "x": [
          29
         ],
         "y": [
          "I would recommend this<br>course to a friend"
         ]
        },
        {
         "marker": {
          "color": "rgba(71, 58, 131, 0.8)",
          "line": {
           "color": "rgb(248, 248, 249)",
           "width": 1
          }
         },
         "orientation": "h",
         "type": "bar",
         "x": [
          30
         ],
         "y": [
          "The course was effectively<br>organized"
         ]
        },
        {
         "marker": {
          "color": "rgba(71, 58, 131, 0.8)",
          "line": {
           "color": "rgb(248, 248, 249)",
           "width": 1
          }
         },
         "orientation": "h",
         "type": "bar",
         "x": [
          31
         ],
         "y": [
          "The course developed my<br>abilities and skills for<br>the subject"
         ]
        },
        {
         "marker": {
          "color": "rgba(71, 58, 131, 0.8)",
          "line": {
           "color": "rgb(248, 248, 249)",
           "width": 1
          }
         },
         "orientation": "h",
         "type": "bar",
         "x": [
          26
         ],
         "y": [
          "The course developed my<br>ability to think critically about<br>the subject"
         ]
        },
        {
         "marker": {
          "color": "rgba(71, 58, 131, 0.8)",
          "line": {
           "color": "rgb(248, 248, 249)",
           "width": 1
          }
         },
         "orientation": "h",
         "type": "bar",
         "x": [
          24
         ],
         "y": [
          "I would recommend this<br>course to a friend"
         ]
        },
        {
         "marker": {
          "color": "rgba(122, 120, 168, 0.8)",
          "line": {
           "color": "rgb(248, 248, 249)",
           "width": 1
          }
         },
         "orientation": "h",
         "type": "bar",
         "x": [
          21
         ],
         "y": [
          "The course was effectively<br>organized"
         ]
        },
        {
         "marker": {
          "color": "rgba(122, 120, 168, 0.8)",
          "line": {
           "color": "rgb(248, 248, 249)",
           "width": 1
          }
         },
         "orientation": "h",
         "type": "bar",
         "x": [
          19
         ],
         "y": [
          "The course developed my<br>abilities and skills for<br>the subject"
         ]
        },
        {
         "marker": {
          "color": "rgba(122, 120, 168, 0.8)",
          "line": {
           "color": "rgb(248, 248, 249)",
           "width": 1
          }
         },
         "orientation": "h",
         "type": "bar",
         "x": [
          23
         ],
         "y": [
          "The course developed my<br>ability to think critically about<br>the subject"
         ]
        },
        {
         "marker": {
          "color": "rgba(122, 120, 168, 0.8)",
          "line": {
           "color": "rgb(248, 248, 249)",
           "width": 1
          }
         },
         "orientation": "h",
         "type": "bar",
         "x": [
          15
         ],
         "y": [
          "I would recommend this<br>course to a friend"
         ]
        },
        {
         "marker": {
          "color": "rgba(164, 163, 204, 0.85)",
          "line": {
           "color": "rgb(248, 248, 249)",
           "width": 1
          }
         },
         "orientation": "h",
         "type": "bar",
         "x": [
          16
         ],
         "y": [
          "The course was effectively<br>organized"
         ]
        },
        {
         "marker": {
          "color": "rgba(164, 163, 204, 0.85)",
          "line": {
           "color": "rgb(248, 248, 249)",
           "width": 1
          }
         },
         "orientation": "h",
         "type": "bar",
         "x": [
          15
         ],
         "y": [
          "The course developed my<br>abilities and skills for<br>the subject"
         ]
        },
        {
         "marker": {
          "color": "rgba(164, 163, 204, 0.85)",
          "line": {
           "color": "rgb(248, 248, 249)",
           "width": 1
          }
         },
         "orientation": "h",
         "type": "bar",
         "x": [
          11
         ],
         "y": [
          "The course developed my<br>ability to think critically about<br>the subject"
         ]
        },
        {
         "marker": {
          "color": "rgba(164, 163, 204, 0.85)",
          "line": {
           "color": "rgb(248, 248, 249)",
           "width": 1
          }
         },
         "orientation": "h",
         "type": "bar",
         "x": [
          18
         ],
         "y": [
          "I would recommend this<br>course to a friend"
         ]
        },
        {
         "marker": {
          "color": "rgba(190, 192, 213, 1)",
          "line": {
           "color": "rgb(248, 248, 249)",
           "width": 1
          }
         },
         "orientation": "h",
         "type": "bar",
         "x": [
          12
         ],
         "y": [
          "The course was effectively<br>organized"
         ]
        },
        {
         "marker": {
          "color": "rgba(190, 192, 213, 1)",
          "line": {
           "color": "rgb(248, 248, 249)",
           "width": 1
          }
         },
         "orientation": "h",
         "type": "bar",
         "x": [
          11
         ],
         "y": [
          "The course developed my<br>abilities and skills for<br>the subject"
         ]
        },
        {
         "marker": {
          "color": "rgba(190, 192, 213, 1)",
          "line": {
           "color": "rgb(248, 248, 249)",
           "width": 1
          }
         },
         "orientation": "h",
         "type": "bar",
         "x": [
          13
         ],
         "y": [
          "The course developed my<br>ability to think critically about<br>the subject"
         ]
        },
        {
         "marker": {
          "color": "rgba(190, 192, 213, 1)",
          "line": {
           "color": "rgb(248, 248, 249)",
           "width": 1
          }
         },
         "orientation": "h",
         "type": "bar",
         "x": [
          14
         ],
         "y": [
          "I would recommend this<br>course to a friend"
         ]
        }
       ],
       "layout": {
        "annotations": [
         {
          "align": "right",
          "font": {
           "color": "rgb(67, 67, 67)",
           "family": "Arial",
           "size": 14
          },
          "showarrow": false,
          "text": "The course was effectively<br>organized",
          "x": 0.14,
          "xanchor": "right",
          "xref": "paper",
          "y": "The course was effectively<br>organized",
          "yref": "y"
         },
         {
          "font": {
           "color": "rgb(248, 248, 255)",
           "family": "Arial",
           "size": 14
          },
          "showarrow": false,
          "text": "21%",
          "x": 10,
          "xref": "x",
          "y": "The course was effectively<br>organized",
          "yref": "y"
         },
         {
          "font": {
           "color": "rgb(248, 248, 255)",
           "family": "Arial",
           "size": 14
          },
          "showarrow": false,
          "text": "30%",
          "x": 36,
          "xref": "x",
          "y": "The course was effectively<br>organized",
          "yref": "y"
         },
         {
          "font": {
           "color": "rgb(248, 248, 255)",
           "family": "Arial",
           "size": 14
          },
          "showarrow": false,
          "text": "21%",
          "x": 61,
          "xref": "x",
          "y": "The course was effectively<br>organized",
          "yref": "y"
         },
         {
          "font": {
           "color": "rgb(248, 248, 255)",
           "family": "Arial",
           "size": 14
          },
          "showarrow": false,
          "text": "16%",
          "x": 80,
          "xref": "x",
          "y": "The course was effectively<br>organized",
          "yref": "y"
         },
         {
          "font": {
           "color": "rgb(248, 248, 255)",
           "family": "Arial",
           "size": 14
          },
          "showarrow": false,
          "text": "12%",
          "x": 94,
          "xref": "x",
          "y": "The course was effectively<br>organized",
          "yref": "y"
         },
         {
          "align": "right",
          "font": {
           "color": "rgb(67, 67, 67)",
           "family": "Arial",
           "size": 14
          },
          "showarrow": false,
          "text": "The course developed my<br>abilities and skills for<br>the subject",
          "x": 0.14,
          "xanchor": "right",
          "xref": "paper",
          "y": "The course developed my<br>abilities and skills for<br>the subject",
          "yref": "y"
         },
         {
          "font": {
           "color": "rgb(248, 248, 255)",
           "family": "Arial",
           "size": 14
          },
          "showarrow": false,
          "text": "24%",
          "x": 12,
          "xref": "x",
          "y": "The course developed my<br>abilities and skills for<br>the subject",
          "yref": "y"
         },
         {
          "font": {
           "color": "rgb(248, 248, 255)",
           "family": "Arial",
           "size": 14
          },
          "showarrow": false,
          "text": "31%",
          "x": 39,
          "xref": "x",
          "y": "The course developed my<br>abilities and skills for<br>the subject",
          "yref": "y"
         },
         {
          "font": {
           "color": "rgb(248, 248, 255)",
           "family": "Arial",
           "size": 14
          },
          "showarrow": false,
          "text": "19%",
          "x": 64,
          "xref": "x",
          "y": "The course developed my<br>abilities and skills for<br>the subject",
          "yref": "y"
         },
         {
          "font": {
           "color": "rgb(248, 248, 255)",
           "family": "Arial",
           "size": 14
          },
          "showarrow": false,
          "text": "15%",
          "x": 81,
          "xref": "x",
          "y": "The course developed my<br>abilities and skills for<br>the subject",
          "yref": "y"
         },
         {
          "font": {
           "color": "rgb(248, 248, 255)",
           "family": "Arial",
           "size": 14
          },
          "showarrow": false,
          "text": "11%",
          "x": 94,
          "xref": "x",
          "y": "The course developed my<br>abilities and skills for<br>the subject",
          "yref": "y"
         },
         {
          "align": "right",
          "font": {
           "color": "rgb(67, 67, 67)",
           "family": "Arial",
           "size": 14
          },
          "showarrow": false,
          "text": "The course developed my<br>ability to think critically about<br>the subject",
          "x": 0.14,
          "xanchor": "right",
          "xref": "paper",
          "y": "The course developed my<br>ability to think critically about<br>the subject",
          "yref": "y"
         },
         {
          "font": {
           "color": "rgb(248, 248, 255)",
           "family": "Arial",
           "size": 14
          },
          "showarrow": false,
          "text": "27%",
          "x": 13,
          "xref": "x",
          "y": "The course developed my<br>ability to think critically about<br>the subject",
          "yref": "y"
         },
         {
          "font": {
           "color": "rgb(248, 248, 255)",
           "family": "Arial",
           "size": 14
          },
          "showarrow": false,
          "text": "26%",
          "x": 40,
          "xref": "x",
          "y": "The course developed my<br>ability to think critically about<br>the subject",
          "yref": "y"
         },
         {
          "font": {
           "color": "rgb(248, 248, 255)",
           "family": "Arial",
           "size": 14
          },
          "showarrow": false,
          "text": "23%",
          "x": 64,
          "xref": "x",
          "y": "The course developed my<br>ability to think critically about<br>the subject",
          "yref": "y"
         },
         {
          "font": {
           "color": "rgb(248, 248, 255)",
           "family": "Arial",
           "size": 14
          },
          "showarrow": false,
          "text": "11%",
          "x": 81,
          "xref": "x",
          "y": "The course developed my<br>ability to think critically about<br>the subject",
          "yref": "y"
         },
         {
          "font": {
           "color": "rgb(248, 248, 255)",
           "family": "Arial",
           "size": 14
          },
          "showarrow": false,
          "text": "13%",
          "x": 93,
          "xref": "x",
          "y": "The course developed my<br>ability to think critically about<br>the subject",
          "yref": "y"
         },
         {
          "align": "right",
          "font": {
           "color": "rgb(67, 67, 67)",
           "family": "Arial",
           "size": 14
          },
          "showarrow": false,
          "text": "I would recommend this<br>course to a friend",
          "x": 0.14,
          "xanchor": "right",
          "xref": "paper",
          "y": "I would recommend this<br>course to a friend",
          "yref": "y"
         },
         {
          "font": {
           "color": "rgb(248, 248, 255)",
           "family": "Arial",
           "size": 14
          },
          "showarrow": false,
          "text": "29%",
          "x": 14,
          "xref": "x",
          "y": "I would recommend this<br>course to a friend",
          "yref": "y"
         },
         {
          "font": {
           "color": "rgb(67, 67, 67)",
           "family": "Arial",
           "size": 14
          },
          "showarrow": false,
          "text": "Strongly<br>agree",
          "x": 14,
          "xref": "x",
          "y": 1.1,
          "yref": "paper"
         },
         {
          "font": {
           "color": "rgb(248, 248, 255)",
           "family": "Arial",
           "size": 14
          },
          "showarrow": false,
          "text": "24%",
          "x": 41,
          "xref": "x",
          "y": "I would recommend this<br>course to a friend",
          "yref": "y"
         },
         {
          "font": {
           "color": "rgb(67, 67, 67)",
           "family": "Arial",
           "size": 14
          },
          "showarrow": false,
          "text": "Agree",
          "x": 41,
          "xref": "x",
          "y": 1.1,
          "yref": "paper"
         },
         {
          "font": {
           "color": "rgb(248, 248, 255)",
           "family": "Arial",
           "size": 14
          },
          "showarrow": false,
          "text": "15%",
          "x": 60,
          "xref": "x",
          "y": "I would recommend this<br>course to a friend",
          "yref": "y"
         },
         {
          "font": {
           "color": "rgb(67, 67, 67)",
           "family": "Arial",
           "size": 14
          },
          "showarrow": false,
          "text": "Neutral",
          "x": 60,
          "xref": "x",
          "y": 1.1,
          "yref": "paper"
         },
         {
          "font": {
           "color": "rgb(248, 248, 255)",
           "family": "Arial",
           "size": 14
          },
          "showarrow": false,
          "text": "18%",
          "x": 77,
          "xref": "x",
          "y": "I would recommend this<br>course to a friend",
          "yref": "y"
         },
         {
          "font": {
           "color": "rgb(67, 67, 67)",
           "family": "Arial",
           "size": 14
          },
          "showarrow": false,
          "text": "Disagree",
          "x": 77,
          "xref": "x",
          "y": 1.1,
          "yref": "paper"
         },
         {
          "font": {
           "color": "rgb(248, 248, 255)",
           "family": "Arial",
           "size": 14
          },
          "showarrow": false,
          "text": "14%",
          "x": 93,
          "xref": "x",
          "y": "I would recommend this<br>course to a friend",
          "yref": "y"
         },
         {
          "font": {
           "color": "rgb(67, 67, 67)",
           "family": "Arial",
           "size": 14
          },
          "showarrow": false,
          "text": "Strongly<br>disagree",
          "x": 93,
          "xref": "x",
          "y": 1.1,
          "yref": "paper"
         }
        ],
        "barmode": "stack",
        "margin": {
         "b": 80,
         "l": 120,
         "r": 10,
         "t": 140
        },
        "paper_bgcolor": "rgb(248, 248, 255)",
        "plot_bgcolor": "rgb(248, 248, 255)",
        "showlegend": false,
        "xaxis": {
         "domain": [
          0.15,
          1
         ],
         "showgrid": false,
         "showline": false,
         "showticklabels": false,
         "zeroline": false
        },
        "yaxis": {
         "showgrid": false,
         "showline": false,
         "showticklabels": false,
         "zeroline": false
        }
       }
      },
      "text/html": [
       "<div id=\"77d9c67f-0235-4f59-a113-ef9937e97619\" style=\"height: 525px; width: 100%;\" class=\"plotly-graph-div\"></div><script type=\"text/javascript\">require([\"plotly\"], function(Plotly) { window.PLOTLYENV=window.PLOTLYENV || {};window.PLOTLYENV.BASE_URL=\"https://plot.ly\";Plotly.newPlot(\"77d9c67f-0235-4f59-a113-ef9937e97619\", [{\"marker\": {\"color\": \"rgba(38, 24, 74, 0.8)\", \"line\": {\"color\": \"rgb(248, 248, 249)\", \"width\": 1}}, \"y\": [\"The course was effectively<br>organized\"], \"type\": \"bar\", \"orientation\": \"h\", \"x\": [21]}, {\"marker\": {\"color\": \"rgba(38, 24, 74, 0.8)\", \"line\": {\"color\": \"rgb(248, 248, 249)\", \"width\": 1}}, \"y\": [\"The course developed my<br>abilities and skills for<br>the subject\"], \"type\": \"bar\", \"orientation\": \"h\", \"x\": [24]}, {\"marker\": {\"color\": \"rgba(38, 24, 74, 0.8)\", \"line\": {\"color\": \"rgb(248, 248, 249)\", \"width\": 1}}, \"y\": [\"The course developed my<br>ability to think critically about<br>the subject\"], \"type\": \"bar\", \"orientation\": \"h\", \"x\": [27]}, {\"marker\": {\"color\": \"rgba(38, 24, 74, 0.8)\", \"line\": {\"color\": \"rgb(248, 248, 249)\", \"width\": 1}}, \"y\": [\"I would recommend this<br>course to a friend\"], \"type\": \"bar\", \"orientation\": \"h\", \"x\": [29]}, {\"marker\": {\"color\": \"rgba(71, 58, 131, 0.8)\", \"line\": {\"color\": \"rgb(248, 248, 249)\", \"width\": 1}}, \"y\": [\"The course was effectively<br>organized\"], \"type\": \"bar\", \"orientation\": \"h\", \"x\": [30]}, {\"marker\": {\"color\": \"rgba(71, 58, 131, 0.8)\", \"line\": {\"color\": \"rgb(248, 248, 249)\", \"width\": 1}}, \"y\": [\"The course developed my<br>abilities and skills for<br>the subject\"], \"type\": \"bar\", \"orientation\": \"h\", \"x\": [31]}, {\"marker\": {\"color\": \"rgba(71, 58, 131, 0.8)\", \"line\": {\"color\": \"rgb(248, 248, 249)\", \"width\": 1}}, \"y\": [\"The course developed my<br>ability to think critically about<br>the subject\"], \"type\": \"bar\", \"orientation\": \"h\", \"x\": [26]}, {\"marker\": {\"color\": \"rgba(71, 58, 131, 0.8)\", \"line\": {\"color\": \"rgb(248, 248, 249)\", \"width\": 1}}, \"y\": [\"I would recommend this<br>course to a friend\"], \"type\": \"bar\", \"orientation\": \"h\", \"x\": [24]}, {\"marker\": {\"color\": \"rgba(122, 120, 168, 0.8)\", \"line\": {\"color\": \"rgb(248, 248, 249)\", \"width\": 1}}, \"y\": [\"The course was effectively<br>organized\"], \"type\": \"bar\", \"orientation\": \"h\", \"x\": [21]}, {\"marker\": {\"color\": \"rgba(122, 120, 168, 0.8)\", \"line\": {\"color\": \"rgb(248, 248, 249)\", \"width\": 1}}, \"y\": [\"The course developed my<br>abilities and skills for<br>the subject\"], \"type\": \"bar\", \"orientation\": \"h\", \"x\": [19]}, {\"marker\": {\"color\": \"rgba(122, 120, 168, 0.8)\", \"line\": {\"color\": \"rgb(248, 248, 249)\", \"width\": 1}}, \"y\": [\"The course developed my<br>ability to think critically about<br>the subject\"], \"type\": \"bar\", \"orientation\": \"h\", \"x\": [23]}, {\"marker\": {\"color\": \"rgba(122, 120, 168, 0.8)\", \"line\": {\"color\": \"rgb(248, 248, 249)\", \"width\": 1}}, \"y\": [\"I would recommend this<br>course to a friend\"], \"type\": \"bar\", \"orientation\": \"h\", \"x\": [15]}, {\"marker\": {\"color\": \"rgba(164, 163, 204, 0.85)\", \"line\": {\"color\": \"rgb(248, 248, 249)\", \"width\": 1}}, \"y\": [\"The course was effectively<br>organized\"], \"type\": \"bar\", \"orientation\": \"h\", \"x\": [16]}, {\"marker\": {\"color\": \"rgba(164, 163, 204, 0.85)\", \"line\": {\"color\": \"rgb(248, 248, 249)\", \"width\": 1}}, \"y\": [\"The course developed my<br>abilities and skills for<br>the subject\"], \"type\": \"bar\", \"orientation\": \"h\", \"x\": [15]}, {\"marker\": {\"color\": \"rgba(164, 163, 204, 0.85)\", \"line\": {\"color\": \"rgb(248, 248, 249)\", \"width\": 1}}, \"y\": [\"The course developed my<br>ability to think critically about<br>the subject\"], \"type\": \"bar\", \"orientation\": \"h\", \"x\": [11]}, {\"marker\": {\"color\": \"rgba(164, 163, 204, 0.85)\", \"line\": {\"color\": \"rgb(248, 248, 249)\", \"width\": 1}}, \"y\": [\"I would recommend this<br>course to a friend\"], \"type\": \"bar\", \"orientation\": \"h\", \"x\": [18]}, {\"marker\": {\"color\": \"rgba(190, 192, 213, 1)\", \"line\": {\"color\": \"rgb(248, 248, 249)\", \"width\": 1}}, \"y\": [\"The course was effectively<br>organized\"], \"type\": \"bar\", \"orientation\": \"h\", \"x\": [12]}, {\"marker\": {\"color\": \"rgba(190, 192, 213, 1)\", \"line\": {\"color\": \"rgb(248, 248, 249)\", \"width\": 1}}, \"y\": [\"The course developed my<br>abilities and skills for<br>the subject\"], \"type\": \"bar\", \"orientation\": \"h\", \"x\": [11]}, {\"marker\": {\"color\": \"rgba(190, 192, 213, 1)\", \"line\": {\"color\": \"rgb(248, 248, 249)\", \"width\": 1}}, \"y\": [\"The course developed my<br>ability to think critically about<br>the subject\"], \"type\": \"bar\", \"orientation\": \"h\", \"x\": [13]}, {\"marker\": {\"color\": \"rgba(190, 192, 213, 1)\", \"line\": {\"color\": \"rgb(248, 248, 249)\", \"width\": 1}}, \"y\": [\"I would recommend this<br>course to a friend\"], \"type\": \"bar\", \"orientation\": \"h\", \"x\": [14]}], {\"showlegend\": false, \"yaxis\": {\"zeroline\": false, \"showline\": false, \"showticklabels\": false, \"showgrid\": false}, \"paper_bgcolor\": \"rgb(248, 248, 255)\", \"plot_bgcolor\": \"rgb(248, 248, 255)\", \"barmode\": \"stack\", \"xaxis\": {\"zeroline\": false, \"showline\": false, \"domain\": [0.15, 1], \"showticklabels\": false, \"showgrid\": false}, \"margin\": {\"r\": 10, \"b\": 80, \"t\": 140, \"l\": 120}, \"annotations\": [{\"xref\": \"paper\", \"xanchor\": \"right\", \"yref\": \"y\", \"text\": \"The course was effectively<br>organized\", \"align\": \"right\", \"y\": \"The course was effectively<br>organized\", \"x\": 0.14, \"font\": {\"color\": \"rgb(67, 67, 67)\", \"family\": \"Arial\", \"size\": 14}, \"showarrow\": false}, {\"xref\": \"x\", \"yref\": \"y\", \"text\": \"21%\", \"y\": \"The course was effectively<br>organized\", \"x\": 10, \"font\": {\"color\": \"rgb(248, 248, 255)\", \"family\": \"Arial\", \"size\": 14}, \"showarrow\": false}, {\"xref\": \"x\", \"yref\": \"y\", \"text\": \"30%\", \"y\": \"The course was effectively<br>organized\", \"x\": 36, \"font\": {\"color\": \"rgb(248, 248, 255)\", \"family\": \"Arial\", \"size\": 14}, \"showarrow\": false}, {\"xref\": \"x\", \"yref\": \"y\", \"text\": \"21%\", \"y\": \"The course was effectively<br>organized\", \"x\": 61, \"font\": {\"color\": \"rgb(248, 248, 255)\", \"family\": \"Arial\", \"size\": 14}, \"showarrow\": false}, {\"xref\": \"x\", \"yref\": \"y\", \"text\": \"16%\", \"y\": \"The course was effectively<br>organized\", \"x\": 80, \"font\": {\"color\": \"rgb(248, 248, 255)\", \"family\": \"Arial\", \"size\": 14}, \"showarrow\": false}, {\"xref\": \"x\", \"yref\": \"y\", \"text\": \"12%\", \"y\": \"The course was effectively<br>organized\", \"x\": 94, \"font\": {\"color\": \"rgb(248, 248, 255)\", \"family\": \"Arial\", \"size\": 14}, \"showarrow\": false}, {\"xref\": \"paper\", \"xanchor\": \"right\", \"yref\": \"y\", \"text\": \"The course developed my<br>abilities and skills for<br>the subject\", \"align\": \"right\", \"y\": \"The course developed my<br>abilities and skills for<br>the subject\", \"x\": 0.14, \"font\": {\"color\": \"rgb(67, 67, 67)\", \"family\": \"Arial\", \"size\": 14}, \"showarrow\": false}, {\"xref\": \"x\", \"yref\": \"y\", \"text\": \"24%\", \"y\": \"The course developed my<br>abilities and skills for<br>the subject\", \"x\": 12, \"font\": {\"color\": \"rgb(248, 248, 255)\", \"family\": \"Arial\", \"size\": 14}, \"showarrow\": false}, {\"xref\": \"x\", \"yref\": \"y\", \"text\": \"31%\", \"y\": \"The course developed my<br>abilities and skills for<br>the subject\", \"x\": 39, \"font\": {\"color\": \"rgb(248, 248, 255)\", \"family\": \"Arial\", \"size\": 14}, \"showarrow\": false}, {\"xref\": \"x\", \"yref\": \"y\", \"text\": \"19%\", \"y\": \"The course developed my<br>abilities and skills for<br>the subject\", \"x\": 64, \"font\": {\"color\": \"rgb(248, 248, 255)\", \"family\": \"Arial\", \"size\": 14}, \"showarrow\": false}, {\"xref\": \"x\", \"yref\": \"y\", \"text\": \"15%\", \"y\": \"The course developed my<br>abilities and skills for<br>the subject\", \"x\": 81, \"font\": {\"color\": \"rgb(248, 248, 255)\", \"family\": \"Arial\", \"size\": 14}, \"showarrow\": false}, {\"xref\": \"x\", \"yref\": \"y\", \"text\": \"11%\", \"y\": \"The course developed my<br>abilities and skills for<br>the subject\", \"x\": 94, \"font\": {\"color\": \"rgb(248, 248, 255)\", \"family\": \"Arial\", \"size\": 14}, \"showarrow\": false}, {\"xref\": \"paper\", \"xanchor\": \"right\", \"yref\": \"y\", \"text\": \"The course developed my<br>ability to think critically about<br>the subject\", \"align\": \"right\", \"y\": \"The course developed my<br>ability to think critically about<br>the subject\", \"x\": 0.14, \"font\": {\"color\": \"rgb(67, 67, 67)\", \"family\": \"Arial\", \"size\": 14}, \"showarrow\": false}, {\"xref\": \"x\", \"yref\": \"y\", \"text\": \"27%\", \"y\": \"The course developed my<br>ability to think critically about<br>the subject\", \"x\": 13, \"font\": {\"color\": \"rgb(248, 248, 255)\", \"family\": \"Arial\", \"size\": 14}, \"showarrow\": false}, {\"xref\": \"x\", \"yref\": \"y\", \"text\": \"26%\", \"y\": \"The course developed my<br>ability to think critically about<br>the subject\", \"x\": 40, \"font\": {\"color\": \"rgb(248, 248, 255)\", \"family\": \"Arial\", \"size\": 14}, \"showarrow\": false}, {\"xref\": \"x\", \"yref\": \"y\", \"text\": \"23%\", \"y\": \"The course developed my<br>ability to think critically about<br>the subject\", \"x\": 64, \"font\": {\"color\": \"rgb(248, 248, 255)\", \"family\": \"Arial\", \"size\": 14}, \"showarrow\": false}, {\"xref\": \"x\", \"yref\": \"y\", \"text\": \"11%\", \"y\": \"The course developed my<br>ability to think critically about<br>the subject\", \"x\": 81, \"font\": {\"color\": \"rgb(248, 248, 255)\", \"family\": \"Arial\", \"size\": 14}, \"showarrow\": false}, {\"xref\": \"x\", \"yref\": \"y\", \"text\": \"13%\", \"y\": \"The course developed my<br>ability to think critically about<br>the subject\", \"x\": 93, \"font\": {\"color\": \"rgb(248, 248, 255)\", \"family\": \"Arial\", \"size\": 14}, \"showarrow\": false}, {\"xref\": \"paper\", \"xanchor\": \"right\", \"yref\": \"y\", \"text\": \"I would recommend this<br>course to a friend\", \"align\": \"right\", \"y\": \"I would recommend this<br>course to a friend\", \"x\": 0.14, \"font\": {\"color\": \"rgb(67, 67, 67)\", \"family\": \"Arial\", \"size\": 14}, \"showarrow\": false}, {\"xref\": \"x\", \"yref\": \"y\", \"text\": \"29%\", \"y\": \"I would recommend this<br>course to a friend\", \"x\": 14, \"font\": {\"color\": \"rgb(248, 248, 255)\", \"family\": \"Arial\", \"size\": 14}, \"showarrow\": false}, {\"xref\": \"x\", \"yref\": \"paper\", \"text\": \"Strongly<br>agree\", \"y\": 1.1, \"x\": 14, \"font\": {\"color\": \"rgb(67, 67, 67)\", \"family\": \"Arial\", \"size\": 14}, \"showarrow\": false}, {\"xref\": \"x\", \"yref\": \"y\", \"text\": \"24%\", \"y\": \"I would recommend this<br>course to a friend\", \"x\": 41, \"font\": {\"color\": \"rgb(248, 248, 255)\", \"family\": \"Arial\", \"size\": 14}, \"showarrow\": false}, {\"xref\": \"x\", \"yref\": \"paper\", \"text\": \"Agree\", \"y\": 1.1, \"x\": 41, \"font\": {\"color\": \"rgb(67, 67, 67)\", \"family\": \"Arial\", \"size\": 14}, \"showarrow\": false}, {\"xref\": \"x\", \"yref\": \"y\", \"text\": \"15%\", \"y\": \"I would recommend this<br>course to a friend\", \"x\": 60, \"font\": {\"color\": \"rgb(248, 248, 255)\", \"family\": \"Arial\", \"size\": 14}, \"showarrow\": false}, {\"xref\": \"x\", \"yref\": \"paper\", \"text\": \"Neutral\", \"y\": 1.1, \"x\": 60, \"font\": {\"color\": \"rgb(67, 67, 67)\", \"family\": \"Arial\", \"size\": 14}, \"showarrow\": false}, {\"xref\": \"x\", \"yref\": \"y\", \"text\": \"18%\", \"y\": \"I would recommend this<br>course to a friend\", \"x\": 77, \"font\": {\"color\": \"rgb(248, 248, 255)\", \"family\": \"Arial\", \"size\": 14}, \"showarrow\": false}, {\"xref\": \"x\", \"yref\": \"paper\", \"text\": \"Disagree\", \"y\": 1.1, \"x\": 77, \"font\": {\"color\": \"rgb(67, 67, 67)\", \"family\": \"Arial\", \"size\": 14}, \"showarrow\": false}, {\"xref\": \"x\", \"yref\": \"y\", \"text\": \"14%\", \"y\": \"I would recommend this<br>course to a friend\", \"x\": 93, \"font\": {\"color\": \"rgb(248, 248, 255)\", \"family\": \"Arial\", \"size\": 14}, \"showarrow\": false}, {\"xref\": \"x\", \"yref\": \"paper\", \"text\": \"Strongly<br>disagree\", \"y\": 1.1, \"x\": 93, \"font\": {\"color\": \"rgb(67, 67, 67)\", \"family\": \"Arial\", \"size\": 14}, \"showarrow\": false}]}, {\"linkText\": \"Export to plot.ly\", \"showLink\": true})});</script>"
      ],
      "text/vnd.plotly.v1+html": [
       "<div id=\"77d9c67f-0235-4f59-a113-ef9937e97619\" style=\"height: 525px; width: 100%;\" class=\"plotly-graph-div\"></div><script type=\"text/javascript\">require([\"plotly\"], function(Plotly) { window.PLOTLYENV=window.PLOTLYENV || {};window.PLOTLYENV.BASE_URL=\"https://plot.ly\";Plotly.newPlot(\"77d9c67f-0235-4f59-a113-ef9937e97619\", [{\"marker\": {\"color\": \"rgba(38, 24, 74, 0.8)\", \"line\": {\"color\": \"rgb(248, 248, 249)\", \"width\": 1}}, \"y\": [\"The course was effectively<br>organized\"], \"type\": \"bar\", \"orientation\": \"h\", \"x\": [21]}, {\"marker\": {\"color\": \"rgba(38, 24, 74, 0.8)\", \"line\": {\"color\": \"rgb(248, 248, 249)\", \"width\": 1}}, \"y\": [\"The course developed my<br>abilities and skills for<br>the subject\"], \"type\": \"bar\", \"orientation\": \"h\", \"x\": [24]}, {\"marker\": {\"color\": \"rgba(38, 24, 74, 0.8)\", \"line\": {\"color\": \"rgb(248, 248, 249)\", \"width\": 1}}, \"y\": [\"The course developed my<br>ability to think critically about<br>the subject\"], \"type\": \"bar\", \"orientation\": \"h\", \"x\": [27]}, {\"marker\": {\"color\": \"rgba(38, 24, 74, 0.8)\", \"line\": {\"color\": \"rgb(248, 248, 249)\", \"width\": 1}}, \"y\": [\"I would recommend this<br>course to a friend\"], \"type\": \"bar\", \"orientation\": \"h\", \"x\": [29]}, {\"marker\": {\"color\": \"rgba(71, 58, 131, 0.8)\", \"line\": {\"color\": \"rgb(248, 248, 249)\", \"width\": 1}}, \"y\": [\"The course was effectively<br>organized\"], \"type\": \"bar\", \"orientation\": \"h\", \"x\": [30]}, {\"marker\": {\"color\": \"rgba(71, 58, 131, 0.8)\", \"line\": {\"color\": \"rgb(248, 248, 249)\", \"width\": 1}}, \"y\": [\"The course developed my<br>abilities and skills for<br>the subject\"], \"type\": \"bar\", \"orientation\": \"h\", \"x\": [31]}, {\"marker\": {\"color\": \"rgba(71, 58, 131, 0.8)\", \"line\": {\"color\": \"rgb(248, 248, 249)\", \"width\": 1}}, \"y\": [\"The course developed my<br>ability to think critically about<br>the subject\"], \"type\": \"bar\", \"orientation\": \"h\", \"x\": [26]}, {\"marker\": {\"color\": \"rgba(71, 58, 131, 0.8)\", \"line\": {\"color\": \"rgb(248, 248, 249)\", \"width\": 1}}, \"y\": [\"I would recommend this<br>course to a friend\"], \"type\": \"bar\", \"orientation\": \"h\", \"x\": [24]}, {\"marker\": {\"color\": \"rgba(122, 120, 168, 0.8)\", \"line\": {\"color\": \"rgb(248, 248, 249)\", \"width\": 1}}, \"y\": [\"The course was effectively<br>organized\"], \"type\": \"bar\", \"orientation\": \"h\", \"x\": [21]}, {\"marker\": {\"color\": \"rgba(122, 120, 168, 0.8)\", \"line\": {\"color\": \"rgb(248, 248, 249)\", \"width\": 1}}, \"y\": [\"The course developed my<br>abilities and skills for<br>the subject\"], \"type\": \"bar\", \"orientation\": \"h\", \"x\": [19]}, {\"marker\": {\"color\": \"rgba(122, 120, 168, 0.8)\", \"line\": {\"color\": \"rgb(248, 248, 249)\", \"width\": 1}}, \"y\": [\"The course developed my<br>ability to think critically about<br>the subject\"], \"type\": \"bar\", \"orientation\": \"h\", \"x\": [23]}, {\"marker\": {\"color\": \"rgba(122, 120, 168, 0.8)\", \"line\": {\"color\": \"rgb(248, 248, 249)\", \"width\": 1}}, \"y\": [\"I would recommend this<br>course to a friend\"], \"type\": \"bar\", \"orientation\": \"h\", \"x\": [15]}, {\"marker\": {\"color\": \"rgba(164, 163, 204, 0.85)\", \"line\": {\"color\": \"rgb(248, 248, 249)\", \"width\": 1}}, \"y\": [\"The course was effectively<br>organized\"], \"type\": \"bar\", \"orientation\": \"h\", \"x\": [16]}, {\"marker\": {\"color\": \"rgba(164, 163, 204, 0.85)\", \"line\": {\"color\": \"rgb(248, 248, 249)\", \"width\": 1}}, \"y\": [\"The course developed my<br>abilities and skills for<br>the subject\"], \"type\": \"bar\", \"orientation\": \"h\", \"x\": [15]}, {\"marker\": {\"color\": \"rgba(164, 163, 204, 0.85)\", \"line\": {\"color\": \"rgb(248, 248, 249)\", \"width\": 1}}, \"y\": [\"The course developed my<br>ability to think critically about<br>the subject\"], \"type\": \"bar\", \"orientation\": \"h\", \"x\": [11]}, {\"marker\": {\"color\": \"rgba(164, 163, 204, 0.85)\", \"line\": {\"color\": \"rgb(248, 248, 249)\", \"width\": 1}}, \"y\": [\"I would recommend this<br>course to a friend\"], \"type\": \"bar\", \"orientation\": \"h\", \"x\": [18]}, {\"marker\": {\"color\": \"rgba(190, 192, 213, 1)\", \"line\": {\"color\": \"rgb(248, 248, 249)\", \"width\": 1}}, \"y\": [\"The course was effectively<br>organized\"], \"type\": \"bar\", \"orientation\": \"h\", \"x\": [12]}, {\"marker\": {\"color\": \"rgba(190, 192, 213, 1)\", \"line\": {\"color\": \"rgb(248, 248, 249)\", \"width\": 1}}, \"y\": [\"The course developed my<br>abilities and skills for<br>the subject\"], \"type\": \"bar\", \"orientation\": \"h\", \"x\": [11]}, {\"marker\": {\"color\": \"rgba(190, 192, 213, 1)\", \"line\": {\"color\": \"rgb(248, 248, 249)\", \"width\": 1}}, \"y\": [\"The course developed my<br>ability to think critically about<br>the subject\"], \"type\": \"bar\", \"orientation\": \"h\", \"x\": [13]}, {\"marker\": {\"color\": \"rgba(190, 192, 213, 1)\", \"line\": {\"color\": \"rgb(248, 248, 249)\", \"width\": 1}}, \"y\": [\"I would recommend this<br>course to a friend\"], \"type\": \"bar\", \"orientation\": \"h\", \"x\": [14]}], {\"showlegend\": false, \"yaxis\": {\"zeroline\": false, \"showline\": false, \"showticklabels\": false, \"showgrid\": false}, \"paper_bgcolor\": \"rgb(248, 248, 255)\", \"plot_bgcolor\": \"rgb(248, 248, 255)\", \"barmode\": \"stack\", \"xaxis\": {\"zeroline\": false, \"showline\": false, \"domain\": [0.15, 1], \"showticklabels\": false, \"showgrid\": false}, \"margin\": {\"r\": 10, \"b\": 80, \"t\": 140, \"l\": 120}, \"annotations\": [{\"xref\": \"paper\", \"xanchor\": \"right\", \"yref\": \"y\", \"text\": \"The course was effectively<br>organized\", \"align\": \"right\", \"y\": \"The course was effectively<br>organized\", \"x\": 0.14, \"font\": {\"color\": \"rgb(67, 67, 67)\", \"family\": \"Arial\", \"size\": 14}, \"showarrow\": false}, {\"xref\": \"x\", \"yref\": \"y\", \"text\": \"21%\", \"y\": \"The course was effectively<br>organized\", \"x\": 10, \"font\": {\"color\": \"rgb(248, 248, 255)\", \"family\": \"Arial\", \"size\": 14}, \"showarrow\": false}, {\"xref\": \"x\", \"yref\": \"y\", \"text\": \"30%\", \"y\": \"The course was effectively<br>organized\", \"x\": 36, \"font\": {\"color\": \"rgb(248, 248, 255)\", \"family\": \"Arial\", \"size\": 14}, \"showarrow\": false}, {\"xref\": \"x\", \"yref\": \"y\", \"text\": \"21%\", \"y\": \"The course was effectively<br>organized\", \"x\": 61, \"font\": {\"color\": \"rgb(248, 248, 255)\", \"family\": \"Arial\", \"size\": 14}, \"showarrow\": false}, {\"xref\": \"x\", \"yref\": \"y\", \"text\": \"16%\", \"y\": \"The course was effectively<br>organized\", \"x\": 80, \"font\": {\"color\": \"rgb(248, 248, 255)\", \"family\": \"Arial\", \"size\": 14}, \"showarrow\": false}, {\"xref\": \"x\", \"yref\": \"y\", \"text\": \"12%\", \"y\": \"The course was effectively<br>organized\", \"x\": 94, \"font\": {\"color\": \"rgb(248, 248, 255)\", \"family\": \"Arial\", \"size\": 14}, \"showarrow\": false}, {\"xref\": \"paper\", \"xanchor\": \"right\", \"yref\": \"y\", \"text\": \"The course developed my<br>abilities and skills for<br>the subject\", \"align\": \"right\", \"y\": \"The course developed my<br>abilities and skills for<br>the subject\", \"x\": 0.14, \"font\": {\"color\": \"rgb(67, 67, 67)\", \"family\": \"Arial\", \"size\": 14}, \"showarrow\": false}, {\"xref\": \"x\", \"yref\": \"y\", \"text\": \"24%\", \"y\": \"The course developed my<br>abilities and skills for<br>the subject\", \"x\": 12, \"font\": {\"color\": \"rgb(248, 248, 255)\", \"family\": \"Arial\", \"size\": 14}, \"showarrow\": false}, {\"xref\": \"x\", \"yref\": \"y\", \"text\": \"31%\", \"y\": \"The course developed my<br>abilities and skills for<br>the subject\", \"x\": 39, \"font\": {\"color\": \"rgb(248, 248, 255)\", \"family\": \"Arial\", \"size\": 14}, \"showarrow\": false}, {\"xref\": \"x\", \"yref\": \"y\", \"text\": \"19%\", \"y\": \"The course developed my<br>abilities and skills for<br>the subject\", \"x\": 64, \"font\": {\"color\": \"rgb(248, 248, 255)\", \"family\": \"Arial\", \"size\": 14}, \"showarrow\": false}, {\"xref\": \"x\", \"yref\": \"y\", \"text\": \"15%\", \"y\": \"The course developed my<br>abilities and skills for<br>the subject\", \"x\": 81, \"font\": {\"color\": \"rgb(248, 248, 255)\", \"family\": \"Arial\", \"size\": 14}, \"showarrow\": false}, {\"xref\": \"x\", \"yref\": \"y\", \"text\": \"11%\", \"y\": \"The course developed my<br>abilities and skills for<br>the subject\", \"x\": 94, \"font\": {\"color\": \"rgb(248, 248, 255)\", \"family\": \"Arial\", \"size\": 14}, \"showarrow\": false}, {\"xref\": \"paper\", \"xanchor\": \"right\", \"yref\": \"y\", \"text\": \"The course developed my<br>ability to think critically about<br>the subject\", \"align\": \"right\", \"y\": \"The course developed my<br>ability to think critically about<br>the subject\", \"x\": 0.14, \"font\": {\"color\": \"rgb(67, 67, 67)\", \"family\": \"Arial\", \"size\": 14}, \"showarrow\": false}, {\"xref\": \"x\", \"yref\": \"y\", \"text\": \"27%\", \"y\": \"The course developed my<br>ability to think critically about<br>the subject\", \"x\": 13, \"font\": {\"color\": \"rgb(248, 248, 255)\", \"family\": \"Arial\", \"size\": 14}, \"showarrow\": false}, {\"xref\": \"x\", \"yref\": \"y\", \"text\": \"26%\", \"y\": \"The course developed my<br>ability to think critically about<br>the subject\", \"x\": 40, \"font\": {\"color\": \"rgb(248, 248, 255)\", \"family\": \"Arial\", \"size\": 14}, \"showarrow\": false}, {\"xref\": \"x\", \"yref\": \"y\", \"text\": \"23%\", \"y\": \"The course developed my<br>ability to think critically about<br>the subject\", \"x\": 64, \"font\": {\"color\": \"rgb(248, 248, 255)\", \"family\": \"Arial\", \"size\": 14}, \"showarrow\": false}, {\"xref\": \"x\", \"yref\": \"y\", \"text\": \"11%\", \"y\": \"The course developed my<br>ability to think critically about<br>the subject\", \"x\": 81, \"font\": {\"color\": \"rgb(248, 248, 255)\", \"family\": \"Arial\", \"size\": 14}, \"showarrow\": false}, {\"xref\": \"x\", \"yref\": \"y\", \"text\": \"13%\", \"y\": \"The course developed my<br>ability to think critically about<br>the subject\", \"x\": 93, \"font\": {\"color\": \"rgb(248, 248, 255)\", \"family\": \"Arial\", \"size\": 14}, \"showarrow\": false}, {\"xref\": \"paper\", \"xanchor\": \"right\", \"yref\": \"y\", \"text\": \"I would recommend this<br>course to a friend\", \"align\": \"right\", \"y\": \"I would recommend this<br>course to a friend\", \"x\": 0.14, \"font\": {\"color\": \"rgb(67, 67, 67)\", \"family\": \"Arial\", \"size\": 14}, \"showarrow\": false}, {\"xref\": \"x\", \"yref\": \"y\", \"text\": \"29%\", \"y\": \"I would recommend this<br>course to a friend\", \"x\": 14, \"font\": {\"color\": \"rgb(248, 248, 255)\", \"family\": \"Arial\", \"size\": 14}, \"showarrow\": false}, {\"xref\": \"x\", \"yref\": \"paper\", \"text\": \"Strongly<br>agree\", \"y\": 1.1, \"x\": 14, \"font\": {\"color\": \"rgb(67, 67, 67)\", \"family\": \"Arial\", \"size\": 14}, \"showarrow\": false}, {\"xref\": \"x\", \"yref\": \"y\", \"text\": \"24%\", \"y\": \"I would recommend this<br>course to a friend\", \"x\": 41, \"font\": {\"color\": \"rgb(248, 248, 255)\", \"family\": \"Arial\", \"size\": 14}, \"showarrow\": false}, {\"xref\": \"x\", \"yref\": \"paper\", \"text\": \"Agree\", \"y\": 1.1, \"x\": 41, \"font\": {\"color\": \"rgb(67, 67, 67)\", \"family\": \"Arial\", \"size\": 14}, \"showarrow\": false}, {\"xref\": \"x\", \"yref\": \"y\", \"text\": \"15%\", \"y\": \"I would recommend this<br>course to a friend\", \"x\": 60, \"font\": {\"color\": \"rgb(248, 248, 255)\", \"family\": \"Arial\", \"size\": 14}, \"showarrow\": false}, {\"xref\": \"x\", \"yref\": \"paper\", \"text\": \"Neutral\", \"y\": 1.1, \"x\": 60, \"font\": {\"color\": \"rgb(67, 67, 67)\", \"family\": \"Arial\", \"size\": 14}, \"showarrow\": false}, {\"xref\": \"x\", \"yref\": \"y\", \"text\": \"18%\", \"y\": \"I would recommend this<br>course to a friend\", \"x\": 77, \"font\": {\"color\": \"rgb(248, 248, 255)\", \"family\": \"Arial\", \"size\": 14}, \"showarrow\": false}, {\"xref\": \"x\", \"yref\": \"paper\", \"text\": \"Disagree\", \"y\": 1.1, \"x\": 77, \"font\": {\"color\": \"rgb(67, 67, 67)\", \"family\": \"Arial\", \"size\": 14}, \"showarrow\": false}, {\"xref\": \"x\", \"yref\": \"y\", \"text\": \"14%\", \"y\": \"I would recommend this<br>course to a friend\", \"x\": 93, \"font\": {\"color\": \"rgb(248, 248, 255)\", \"family\": \"Arial\", \"size\": 14}, \"showarrow\": false}, {\"xref\": \"x\", \"yref\": \"paper\", \"text\": \"Strongly<br>disagree\", \"y\": 1.1, \"x\": 93, \"font\": {\"color\": \"rgb(67, 67, 67)\", \"family\": \"Arial\", \"size\": 14}, \"showarrow\": false}]}, {\"linkText\": \"Export to plot.ly\", \"showLink\": true})});</script>"
      ]
     },
     "metadata": {},
     "output_type": "display_data"
    }
   ],
   "source": [
    "# Plotyl Example: Color Palette for Bar Chart\n",
    "#   https://plot.ly/python/horizontal-bar-charts/\n",
    "\n",
    "import plotly.plotly as py\n",
    "import plotly.graph_objs as go\n",
    "\n",
    "# initialize variables \n",
    "x_data = []\n",
    "y_data = []\n",
    "traces = []\n",
    "annotations = []\n",
    "\n",
    "top_labels = ['Strongly<br>agree', 'Agree', 'Neutral', 'Disagree',\n",
    "              'Strongly<br>disagree']\n",
    "\n",
    "colors = ['rgba(38, 24, 74, 0.8)', 'rgba(71, 58, 131, 0.8)',\n",
    "          'rgba(122, 120, 168, 0.8)', 'rgba(164, 163, 204, 0.85)',\n",
    "          'rgba(190, 192, 213, 1)']\n",
    "\n",
    "x_data = [[21, 30, 21, 16, 12],\n",
    "          [24, 31, 19, 15, 11],\n",
    "          [27, 26, 23, 11, 13],\n",
    "          [29, 24, 15, 18, 14]]\n",
    "\n",
    "y_data = ['The course was effectively<br>organized',\n",
    "          'The course developed my<br>abilities and skills ' +\n",
    "          'for<br>the subject', 'The course developed ' +\n",
    "          'my<br>ability to think critically about<br>the subject',\n",
    "          'I would recommend this<br>course to a friend']\n",
    "\n",
    "for i in range(0, len(x_data[0])):\n",
    "    for xd, yd in zip(x_data, y_data):\n",
    "        traces.append(go.Bar(\n",
    "#            x=xd[i],\n",
    "#            y=yd,\n",
    "            x=[xd[i]],                                                    #x,y must be array (also if only 1 item)\n",
    "            y=[yd],\n",
    "            orientation='h',\n",
    "            marker=dict(\n",
    "                color=colors[i],\n",
    "                line=dict(\n",
    "                        color='rgb(248, 248, 249)',\n",
    "                        width=1)\n",
    "            )\n",
    "        ))\n",
    "        \n",
    "layout = go.Layout(\n",
    "    xaxis=dict(\n",
    "        showgrid=False,\n",
    "        showline=False,\n",
    "        showticklabels=False,\n",
    "        zeroline=False,\n",
    "        domain=[0.15, 1]\n",
    "    ),\n",
    "    yaxis=dict(\n",
    "        showgrid=False,\n",
    "        showline=False,\n",
    "        showticklabels=False,\n",
    "        zeroline=False,\n",
    "    ),\n",
    "    barmode='stack',\n",
    "    paper_bgcolor='rgb(248, 248, 255)',\n",
    "    plot_bgcolor='rgb(248, 248, 255)',\n",
    "    margin=dict(\n",
    "        l=120,\n",
    "        r=10,\n",
    "        t=140,\n",
    "        b=80\n",
    "    ),\n",
    "    showlegend=False,\n",
    ")\n",
    "\n",
    "for yd, xd in zip(y_data, x_data):\n",
    "    # labeling the y-axis\n",
    "    annotations.append(dict(xref='paper', yref='y',\n",
    "                            x=0.14, y=yd,\n",
    "                            xanchor='right',\n",
    "                            text=str(yd),\n",
    "                            font=dict(family='Arial', size=14,\n",
    "                                      color='rgb(67, 67, 67)'),\n",
    "                            showarrow=False, align='right'))\n",
    "    # labeling the first percentage of each bar (x_axis)\n",
    "    annotations.append(dict(xref='x', yref='y',\n",
    "                            x=xd[0] / 2, y=yd,\n",
    "                            text=str(xd[0]) + '%',\n",
    "                            font=dict(family='Arial', size=14,\n",
    "                                      color='rgb(248, 248, 255)'),\n",
    "                            showarrow=False))\n",
    "    # labeling the first Likert scale (on the top)\n",
    "    if yd == y_data[-1]:\n",
    "        annotations.append(dict(xref='x', yref='paper',\n",
    "                                x=xd[0] / 2, y=1.1,\n",
    "                                text=top_labels[0],\n",
    "                                font=dict(family='Arial', size=14,\n",
    "                                          color='rgb(67, 67, 67)'),\n",
    "                                showarrow=False))\n",
    "    space = xd[0]\n",
    "    for i in range(1, len(xd)):\n",
    "            # labeling the rest of percentages for each bar (x_axis)\n",
    "            annotations.append(dict(xref='x', yref='y',\n",
    "                                    x=space + (xd[i]/2), y=yd, \n",
    "                                    text=str(xd[i]) + '%',\n",
    "                                    font=dict(family='Arial', size=14,\n",
    "                                              color='rgb(248, 248, 255)'),\n",
    "                                    showarrow=False))\n",
    "            # labeling the Likert scale\n",
    "            if yd == y_data[-1]:\n",
    "                annotations.append(dict(xref='x', yref='paper',\n",
    "                                        x=space + (xd[i]/2), y=1.1,\n",
    "                                        text=top_labels[i],\n",
    "                                        font=dict(family='Arial', size=14,\n",
    "                                                  color='rgb(67, 67, 67)'),\n",
    "                                        showarrow=False))\n",
    "            space += xd[i]\n",
    "\n",
    "layout['annotations'] = annotations\n",
    "\n",
    "fig = go.Figure(data=traces, layout=layout)\n",
    "plotly.offline.iplot(fig, filename='bar-colorscale')"
   ]
  },
  {
   "cell_type": "code",
   "execution_count": null,
   "metadata": {
    "collapsed": true
   },
   "outputs": [],
   "source": []
  }
 ],
 "metadata": {
  "kernelspec": {
   "display_name": "Python 2",
   "language": "python",
   "name": "python2"
  },
  "language_info": {
   "codemirror_mode": {
    "name": "ipython",
    "version": 2
   },
   "file_extension": ".py",
   "mimetype": "text/x-python",
   "name": "python",
   "nbconvert_exporter": "python",
   "pygments_lexer": "ipython2",
   "version": "2.7.12"
  }
 },
 "nbformat": 4,
 "nbformat_minor": 2
}
