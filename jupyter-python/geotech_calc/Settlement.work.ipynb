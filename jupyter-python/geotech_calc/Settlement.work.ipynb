{
 "cells": [
  {
   "cell_type": "code",
   "execution_count": 6,
   "metadata": {
    "collapsed": true
   },
   "outputs": [],
   "source": [
    "# import libraries\n",
    "from numpy import *\n",
    "import pandas as pd\n",
    "import matplotlib.pyplot as plt"
   ]
  },
  {
   "cell_type": "code",
   "execution_count": 7,
   "metadata": {},
   "outputs": [
    {
     "data": {
      "text/html": [
       "<script>requirejs.config({paths: { 'plotly': ['https://cdn.plot.ly/plotly-latest.min']},});if(!window.Plotly) {{require(['plotly'],function(plotly) {window.Plotly=plotly;});}}</script>"
      ],
      "text/vnd.plotly.v1+html": [
       "<script>requirejs.config({paths: { 'plotly': ['https://cdn.plot.ly/plotly-latest.min']},});if(!window.Plotly) {{require(['plotly'],function(plotly) {window.Plotly=plotly;});}}</script>"
      ]
     },
     "metadata": {},
     "output_type": "display_data"
    },
    {
     "name": "stdout",
     "output_type": "stream",
     "text": [
      "2.2.1\n"
     ]
    }
   ],
   "source": [
    "# set up plotly in 'offline' mode\n",
    "from plotly import __version__\n",
    "from plotly.offline import download_plotlyjs, init_notebook_mode, plot,iplot\n",
    "import plotly.graph_objs as go\n",
    "init_notebook_mode(connected=True)\n",
    "print (__version__) # requires version >= 1.9.0"
   ]
  },
  {
   "cell_type": "code",
   "execution_count": 12,
   "metadata": {
    "collapsed": true
   },
   "outputs": [],
   "source": [
    "import plotly.offline as plotly  ##testing\n",
    "import numpy as np"
   ]
  },
  {
   "cell_type": "code",
   "execution_count": 13,
   "metadata": {},
   "outputs": [
    {
     "data": {
      "application/vnd.plotly.v1+json": {
       "data": [
        {
         "type": "scatter",
         "x": [
          2,
          5,
          8,
          0,
          2,
          -8,
          4,
          3,
          1
         ],
         "y": [
          2,
          5,
          8,
          0,
          2,
          -8,
          4,
          3,
          1
         ]
        }
       ],
       "layout": {
        "height": 500,
        "title": "Offline Plotly Testing",
        "width": 800,
        "xaxis": {
         "title": "X-axis"
        },
        "yaxis": {
         "title": "Y-axis"
        }
       }
      },
      "text/html": [
       "<div id=\"91bc5d7e-58d8-4fb9-ad95-0cb34567f2e7\" style=\"height: 500px; width: 800px;\" class=\"plotly-graph-div\"></div><script type=\"text/javascript\">require([\"plotly\"], function(Plotly) { window.PLOTLYENV=window.PLOTLYENV || {};window.PLOTLYENV.BASE_URL=\"https://plot.ly\";Plotly.newPlot(\"91bc5d7e-58d8-4fb9-ad95-0cb34567f2e7\", [{\"y\": [2, 5, 8, 0, 2, -8, 4, 3, 1], \"x\": [2, 5, 8, 0, 2, -8, 4, 3, 1], \"type\": \"scatter\"}], {\"height\": 500, \"width\": 800, \"title\": \"Offline Plotly Testing\", \"xaxis\": {\"title\": \"X-axis\"}, \"yaxis\": {\"title\": \"Y-axis\"}}, {\"linkText\": \"Export to plot.ly\", \"showLink\": true})});</script>"
      ],
      "text/vnd.plotly.v1+html": [
       "<div id=\"91bc5d7e-58d8-4fb9-ad95-0cb34567f2e7\" style=\"height: 500px; width: 800px;\" class=\"plotly-graph-div\"></div><script type=\"text/javascript\">require([\"plotly\"], function(Plotly) { window.PLOTLYENV=window.PLOTLYENV || {};window.PLOTLYENV.BASE_URL=\"https://plot.ly\";Plotly.newPlot(\"91bc5d7e-58d8-4fb9-ad95-0cb34567f2e7\", [{\"y\": [2, 5, 8, 0, 2, -8, 4, 3, 1], \"x\": [2, 5, 8, 0, 2, -8, 4, 3, 1], \"type\": \"scatter\"}], {\"height\": 500, \"width\": 800, \"title\": \"Offline Plotly Testing\", \"xaxis\": {\"title\": \"X-axis\"}, \"yaxis\": {\"title\": \"Y-axis\"}}, {\"linkText\": \"Export to plot.ly\", \"showLink\": true})});</script>"
      ]
     },
     "metadata": {},
     "output_type": "display_data"
    }
   ],
   "source": [
    "# quick example (works)\n",
    "\n",
    "x=np.array([2,5,8,0,2,-8,4,3,1])\n",
    "y=np.array([2,5,8,0,2,-8,4,3,1])\n",
    "\n",
    "data = [go.Scatter(x=x,y=y)]\n",
    "fig = go.Figure(data = data,layout = go.Layout(title='Offline Plotly Testing',width = 800,height = 500,\n",
    "                                           xaxis = dict(title = 'X-axis'), yaxis = dict(title = 'Y-axis')))\n",
    "\n",
    "#plotly.offline.iplot(data)\n",
    "plotly.offline.iplot(fig)"
   ]
  },
  {
   "cell_type": "code",
   "execution_count": 14,
   "metadata": {},
   "outputs": [
    {
     "data": {
      "application/vnd.plotly.v1+json": {
       "data": [
        {
         "colorscale": [
          [
           0,
           "#00083e"
          ],
          [
           0.5,
           "#ededee"
          ],
          [
           1,
           "#ffffff"
          ]
         ],
         "hoverinfo": "none",
         "opacity": 0.75,
         "showscale": false,
         "type": "heatmap",
         "z": [
          [
           0,
           0,
           0,
           0
          ],
          [
           0.5,
           0.5,
           0.5,
           0.5
          ],
          [
           1,
           1,
           1,
           1
          ],
          [
           0.5,
           0.5,
           0.5,
           0.5
          ],
          [
           1,
           1,
           1,
           1
          ],
          [
           0.5,
           0.5,
           0.5,
           0.5
          ],
          [
           1,
           1,
           1,
           1
          ],
          [
           0.5,
           0.5,
           0.5,
           0.5
          ],
          [
           1,
           1,
           1,
           1
          ],
          [
           0.5,
           0.5,
           0.5,
           0.5
          ],
          [
           1,
           1,
           1,
           1
          ],
          [
           0.5,
           0.5,
           0.5,
           0.5
          ],
          [
           1,
           1,
           1,
           1
          ],
          [
           0.5,
           0.5,
           0.5,
           0.5
          ],
          [
           1,
           1,
           1,
           1
          ],
          [
           0.5,
           0.5,
           0.5,
           0.5
          ],
          [
           1,
           1,
           1,
           1
          ],
          [
           0.5,
           0.5,
           0.5,
           0.5
          ],
          [
           1,
           1,
           1,
           1
          ],
          [
           0.5,
           0.5,
           0.5,
           0.5
          ],
          [
           1,
           1,
           1,
           1
          ],
          [
           0.5,
           0.5,
           0.5,
           0.5
          ]
         ]
        }
       ],
       "layout": {
        "annotations": [
         {
          "align": "left",
          "font": {
           "color": "#ffffff"
          },
          "showarrow": false,
          "text": "<b>School</b>",
          "x": -0.45,
          "xanchor": "left",
          "xref": "x1",
          "y": 0,
          "yref": "y1"
         },
         {
          "align": "left",
          "font": {
           "color": "#ffffff"
          },
          "showarrow": false,
          "text": "<b>Women</b>",
          "x": 0.55,
          "xanchor": "left",
          "xref": "x1",
          "y": 0,
          "yref": "y1"
         },
         {
          "align": "left",
          "font": {
           "color": "#ffffff"
          },
          "showarrow": false,
          "text": "<b>Men</b>",
          "x": 1.55,
          "xanchor": "left",
          "xref": "x1",
          "y": 0,
          "yref": "y1"
         },
         {
          "align": "left",
          "font": {
           "color": "#ffffff"
          },
          "showarrow": false,
          "text": "<b>Gap</b>",
          "x": 2.55,
          "xanchor": "left",
          "xref": "x1",
          "y": 0,
          "yref": "y1"
         },
         {
          "align": "left",
          "font": {
           "color": "#000000"
          },
          "showarrow": false,
          "text": "MIT",
          "x": -0.45,
          "xanchor": "left",
          "xref": "x1",
          "y": 1,
          "yref": "y1"
         },
         {
          "align": "left",
          "font": {
           "color": "#000000"
          },
          "showarrow": false,
          "text": "94",
          "x": 0.55,
          "xanchor": "left",
          "xref": "x1",
          "y": 1,
          "yref": "y1"
         },
         {
          "align": "left",
          "font": {
           "color": "#000000"
          },
          "showarrow": false,
          "text": "152",
          "x": 1.55,
          "xanchor": "left",
          "xref": "x1",
          "y": 1,
          "yref": "y1"
         },
         {
          "align": "left",
          "font": {
           "color": "#000000"
          },
          "showarrow": false,
          "text": "58",
          "x": 2.55,
          "xanchor": "left",
          "xref": "x1",
          "y": 1,
          "yref": "y1"
         },
         {
          "align": "left",
          "font": {
           "color": "#000000"
          },
          "showarrow": false,
          "text": "Stanford",
          "x": -0.45,
          "xanchor": "left",
          "xref": "x1",
          "y": 2,
          "yref": "y1"
         },
         {
          "align": "left",
          "font": {
           "color": "#000000"
          },
          "showarrow": false,
          "text": "96",
          "x": 0.55,
          "xanchor": "left",
          "xref": "x1",
          "y": 2,
          "yref": "y1"
         },
         {
          "align": "left",
          "font": {
           "color": "#000000"
          },
          "showarrow": false,
          "text": "151",
          "x": 1.55,
          "xanchor": "left",
          "xref": "x1",
          "y": 2,
          "yref": "y1"
         },
         {
          "align": "left",
          "font": {
           "color": "#000000"
          },
          "showarrow": false,
          "text": "55",
          "x": 2.55,
          "xanchor": "left",
          "xref": "x1",
          "y": 2,
          "yref": "y1"
         },
         {
          "align": "left",
          "font": {
           "color": "#000000"
          },
          "showarrow": false,
          "text": "Harvard",
          "x": -0.45,
          "xanchor": "left",
          "xref": "x1",
          "y": 3,
          "yref": "y1"
         },
         {
          "align": "left",
          "font": {
           "color": "#000000"
          },
          "showarrow": false,
          "text": "112",
          "x": 0.55,
          "xanchor": "left",
          "xref": "x1",
          "y": 3,
          "yref": "y1"
         },
         {
          "align": "left",
          "font": {
           "color": "#000000"
          },
          "showarrow": false,
          "text": "165",
          "x": 1.55,
          "xanchor": "left",
          "xref": "x1",
          "y": 3,
          "yref": "y1"
         },
         {
          "align": "left",
          "font": {
           "color": "#000000"
          },
          "showarrow": false,
          "text": "53",
          "x": 2.55,
          "xanchor": "left",
          "xref": "x1",
          "y": 3,
          "yref": "y1"
         },
         {
          "align": "left",
          "font": {
           "color": "#000000"
          },
          "showarrow": false,
          "text": "U.Penn",
          "x": -0.45,
          "xanchor": "left",
          "xref": "x1",
          "y": 4,
          "yref": "y1"
         },
         {
          "align": "left",
          "font": {
           "color": "#000000"
          },
          "showarrow": false,
          "text": "92",
          "x": 0.55,
          "xanchor": "left",
          "xref": "x1",
          "y": 4,
          "yref": "y1"
         },
         {
          "align": "left",
          "font": {
           "color": "#000000"
          },
          "showarrow": false,
          "text": "141",
          "x": 1.55,
          "xanchor": "left",
          "xref": "x1",
          "y": 4,
          "yref": "y1"
         },
         {
          "align": "left",
          "font": {
           "color": "#000000"
          },
          "showarrow": false,
          "text": "49",
          "x": 2.55,
          "xanchor": "left",
          "xref": "x1",
          "y": 4,
          "yref": "y1"
         },
         {
          "align": "left",
          "font": {
           "color": "#000000"
          },
          "showarrow": false,
          "text": "Princeton",
          "x": -0.45,
          "xanchor": "left",
          "xref": "x1",
          "y": 5,
          "yref": "y1"
         },
         {
          "align": "left",
          "font": {
           "color": "#000000"
          },
          "showarrow": false,
          "text": "90",
          "x": 0.55,
          "xanchor": "left",
          "xref": "x1",
          "y": 5,
          "yref": "y1"
         },
         {
          "align": "left",
          "font": {
           "color": "#000000"
          },
          "showarrow": false,
          "text": "137",
          "x": 1.55,
          "xanchor": "left",
          "xref": "x1",
          "y": 5,
          "yref": "y1"
         },
         {
          "align": "left",
          "font": {
           "color": "#000000"
          },
          "showarrow": false,
          "text": "47",
          "x": 2.55,
          "xanchor": "left",
          "xref": "x1",
          "y": 5,
          "yref": "y1"
         },
         {
          "align": "left",
          "font": {
           "color": "#000000"
          },
          "showarrow": false,
          "text": "Chicago",
          "x": -0.45,
          "xanchor": "left",
          "xref": "x1",
          "y": 6,
          "yref": "y1"
         },
         {
          "align": "left",
          "font": {
           "color": "#000000"
          },
          "showarrow": false,
          "text": "78",
          "x": 0.55,
          "xanchor": "left",
          "xref": "x1",
          "y": 6,
          "yref": "y1"
         },
         {
          "align": "left",
          "font": {
           "color": "#000000"
          },
          "showarrow": false,
          "text": "118",
          "x": 1.55,
          "xanchor": "left",
          "xref": "x1",
          "y": 6,
          "yref": "y1"
         },
         {
          "align": "left",
          "font": {
           "color": "#000000"
          },
          "showarrow": false,
          "text": "40",
          "x": 2.55,
          "xanchor": "left",
          "xref": "x1",
          "y": 6,
          "yref": "y1"
         },
         {
          "align": "left",
          "font": {
           "color": "#000000"
          },
          "showarrow": false,
          "text": "Georgetown",
          "x": -0.45,
          "xanchor": "left",
          "xref": "x1",
          "y": 7,
          "yref": "y1"
         },
         {
          "align": "left",
          "font": {
           "color": "#000000"
          },
          "showarrow": false,
          "text": "94",
          "x": 0.55,
          "xanchor": "left",
          "xref": "x1",
          "y": 7,
          "yref": "y1"
         },
         {
          "align": "left",
          "font": {
           "color": "#000000"
          },
          "showarrow": false,
          "text": "131",
          "x": 1.55,
          "xanchor": "left",
          "xref": "x1",
          "y": 7,
          "yref": "y1"
         },
         {
          "align": "left",
          "font": {
           "color": "#000000"
          },
          "showarrow": false,
          "text": "37",
          "x": 2.55,
          "xanchor": "left",
          "xref": "x1",
          "y": 7,
          "yref": "y1"
         },
         {
          "align": "left",
          "font": {
           "color": "#000000"
          },
          "showarrow": false,
          "text": "Tufts",
          "x": -0.45,
          "xanchor": "left",
          "xref": "x1",
          "y": 8,
          "yref": "y1"
         },
         {
          "align": "left",
          "font": {
           "color": "#000000"
          },
          "showarrow": false,
          "text": "76",
          "x": 0.55,
          "xanchor": "left",
          "xref": "x1",
          "y": 8,
          "yref": "y1"
         },
         {
          "align": "left",
          "font": {
           "color": "#000000"
          },
          "showarrow": false,
          "text": "112",
          "x": 1.55,
          "xanchor": "left",
          "xref": "x1",
          "y": 8,
          "yref": "y1"
         },
         {
          "align": "left",
          "font": {
           "color": "#000000"
          },
          "showarrow": false,
          "text": "36",
          "x": 2.55,
          "xanchor": "left",
          "xref": "x1",
          "y": 8,
          "yref": "y1"
         },
         {
          "align": "left",
          "font": {
           "color": "#000000"
          },
          "showarrow": false,
          "text": "Yale",
          "x": -0.45,
          "xanchor": "left",
          "xref": "x1",
          "y": 9,
          "yref": "y1"
         },
         {
          "align": "left",
          "font": {
           "color": "#000000"
          },
          "showarrow": false,
          "text": "79",
          "x": 0.55,
          "xanchor": "left",
          "xref": "x1",
          "y": 9,
          "yref": "y1"
         },
         {
          "align": "left",
          "font": {
           "color": "#000000"
          },
          "showarrow": false,
          "text": "114",
          "x": 1.55,
          "xanchor": "left",
          "xref": "x1",
          "y": 9,
          "yref": "y1"
         },
         {
          "align": "left",
          "font": {
           "color": "#000000"
          },
          "showarrow": false,
          "text": "35",
          "x": 2.55,
          "xanchor": "left",
          "xref": "x1",
          "y": 9,
          "yref": "y1"
         },
         {
          "align": "left",
          "font": {
           "color": "#000000"
          },
          "showarrow": false,
          "text": "Columbia",
          "x": -0.45,
          "xanchor": "left",
          "xref": "x1",
          "y": 10,
          "yref": "y1"
         },
         {
          "align": "left",
          "font": {
           "color": "#000000"
          },
          "showarrow": false,
          "text": "86",
          "x": 0.55,
          "xanchor": "left",
          "xref": "x1",
          "y": 10,
          "yref": "y1"
         },
         {
          "align": "left",
          "font": {
           "color": "#000000"
          },
          "showarrow": false,
          "text": "119",
          "x": 1.55,
          "xanchor": "left",
          "xref": "x1",
          "y": 10,
          "yref": "y1"
         },
         {
          "align": "left",
          "font": {
           "color": "#000000"
          },
          "showarrow": false,
          "text": "33",
          "x": 2.55,
          "xanchor": "left",
          "xref": "x1",
          "y": 10,
          "yref": "y1"
         },
         {
          "align": "left",
          "font": {
           "color": "#000000"
          },
          "showarrow": false,
          "text": "Duke",
          "x": -0.45,
          "xanchor": "left",
          "xref": "x1",
          "y": 11,
          "yref": "y1"
         },
         {
          "align": "left",
          "font": {
           "color": "#000000"
          },
          "showarrow": false,
          "text": "93",
          "x": 0.55,
          "xanchor": "left",
          "xref": "x1",
          "y": 11,
          "yref": "y1"
         },
         {
          "align": "left",
          "font": {
           "color": "#000000"
          },
          "showarrow": false,
          "text": "124",
          "x": 1.55,
          "xanchor": "left",
          "xref": "x1",
          "y": 11,
          "yref": "y1"
         },
         {
          "align": "left",
          "font": {
           "color": "#000000"
          },
          "showarrow": false,
          "text": "31",
          "x": 2.55,
          "xanchor": "left",
          "xref": "x1",
          "y": 11,
          "yref": "y1"
         },
         {
          "align": "left",
          "font": {
           "color": "#000000"
          },
          "showarrow": false,
          "text": "Dartmouth",
          "x": -0.45,
          "xanchor": "left",
          "xref": "x1",
          "y": 12,
          "yref": "y1"
         },
         {
          "align": "left",
          "font": {
           "color": "#000000"
          },
          "showarrow": false,
          "text": "84",
          "x": 0.55,
          "xanchor": "left",
          "xref": "x1",
          "y": 12,
          "yref": "y1"
         },
         {
          "align": "left",
          "font": {
           "color": "#000000"
          },
          "showarrow": false,
          "text": "114",
          "x": 1.55,
          "xanchor": "left",
          "xref": "x1",
          "y": 12,
          "yref": "y1"
         },
         {
          "align": "left",
          "font": {
           "color": "#000000"
          },
          "showarrow": false,
          "text": "30",
          "x": 2.55,
          "xanchor": "left",
          "xref": "x1",
          "y": 12,
          "yref": "y1"
         },
         {
          "align": "left",
          "font": {
           "color": "#000000"
          },
          "showarrow": false,
          "text": "NYU",
          "x": -0.45,
          "xanchor": "left",
          "xref": "x1",
          "y": 13,
          "yref": "y1"
         },
         {
          "align": "left",
          "font": {
           "color": "#000000"
          },
          "showarrow": false,
          "text": "67",
          "x": 0.55,
          "xanchor": "left",
          "xref": "x1",
          "y": 13,
          "yref": "y1"
         },
         {
          "align": "left",
          "font": {
           "color": "#000000"
          },
          "showarrow": false,
          "text": "94",
          "x": 1.55,
          "xanchor": "left",
          "xref": "x1",
          "y": 13,
          "yref": "y1"
         },
         {
          "align": "left",
          "font": {
           "color": "#000000"
          },
          "showarrow": false,
          "text": "27",
          "x": 2.55,
          "xanchor": "left",
          "xref": "x1",
          "y": 13,
          "yref": "y1"
         },
         {
          "align": "left",
          "font": {
           "color": "#000000"
          },
          "showarrow": false,
          "text": "Notre Dame",
          "x": -0.45,
          "xanchor": "left",
          "xref": "x1",
          "y": 14,
          "yref": "y1"
         },
         {
          "align": "left",
          "font": {
           "color": "#000000"
          },
          "showarrow": false,
          "text": "73",
          "x": 0.55,
          "xanchor": "left",
          "xref": "x1",
          "y": 14,
          "yref": "y1"
         },
         {
          "align": "left",
          "font": {
           "color": "#000000"
          },
          "showarrow": false,
          "text": "100",
          "x": 1.55,
          "xanchor": "left",
          "xref": "x1",
          "y": 14,
          "yref": "y1"
         },
         {
          "align": "left",
          "font": {
           "color": "#000000"
          },
          "showarrow": false,
          "text": "27",
          "x": 2.55,
          "xanchor": "left",
          "xref": "x1",
          "y": 14,
          "yref": "y1"
         },
         {
          "align": "left",
          "font": {
           "color": "#000000"
          },
          "showarrow": false,
          "text": "Cornell",
          "x": -0.45,
          "xanchor": "left",
          "xref": "x1",
          "y": 15,
          "yref": "y1"
         },
         {
          "align": "left",
          "font": {
           "color": "#000000"
          },
          "showarrow": false,
          "text": "80",
          "x": 0.55,
          "xanchor": "left",
          "xref": "x1",
          "y": 15,
          "yref": "y1"
         },
         {
          "align": "left",
          "font": {
           "color": "#000000"
          },
          "showarrow": false,
          "text": "107",
          "x": 1.55,
          "xanchor": "left",
          "xref": "x1",
          "y": 15,
          "yref": "y1"
         },
         {
          "align": "left",
          "font": {
           "color": "#000000"
          },
          "showarrow": false,
          "text": "27",
          "x": 2.55,
          "xanchor": "left",
          "xref": "x1",
          "y": 15,
          "yref": "y1"
         },
         {
          "align": "left",
          "font": {
           "color": "#000000"
          },
          "showarrow": false,
          "text": "Michigan",
          "x": -0.45,
          "xanchor": "left",
          "xref": "x1",
          "y": 16,
          "yref": "y1"
         },
         {
          "align": "left",
          "font": {
           "color": "#000000"
          },
          "showarrow": false,
          "text": "62",
          "x": 0.55,
          "xanchor": "left",
          "xref": "x1",
          "y": 16,
          "yref": "y1"
         },
         {
          "align": "left",
          "font": {
           "color": "#000000"
          },
          "showarrow": false,
          "text": "84",
          "x": 1.55,
          "xanchor": "left",
          "xref": "x1",
          "y": 16,
          "yref": "y1"
         },
         {
          "align": "left",
          "font": {
           "color": "#000000"
          },
          "showarrow": false,
          "text": "22",
          "x": 2.55,
          "xanchor": "left",
          "xref": "x1",
          "y": 16,
          "yref": "y1"
         },
         {
          "align": "left",
          "font": {
           "color": "#000000"
          },
          "showarrow": false,
          "text": "Brown",
          "x": -0.45,
          "xanchor": "left",
          "xref": "x1",
          "y": 17,
          "yref": "y1"
         },
         {
          "align": "left",
          "font": {
           "color": "#000000"
          },
          "showarrow": false,
          "text": "72",
          "x": 0.55,
          "xanchor": "left",
          "xref": "x1",
          "y": 17,
          "yref": "y1"
         },
         {
          "align": "left",
          "font": {
           "color": "#000000"
          },
          "showarrow": false,
          "text": "92",
          "x": 1.55,
          "xanchor": "left",
          "xref": "x1",
          "y": 17,
          "yref": "y1"
         },
         {
          "align": "left",
          "font": {
           "color": "#000000"
          },
          "showarrow": false,
          "text": "20",
          "x": 2.55,
          "xanchor": "left",
          "xref": "x1",
          "y": 17,
          "yref": "y1"
         },
         {
          "align": "left",
          "font": {
           "color": "#000000"
          },
          "showarrow": false,
          "text": "Berkeley",
          "x": -0.45,
          "xanchor": "left",
          "xref": "x1",
          "y": 18,
          "yref": "y1"
         },
         {
          "align": "left",
          "font": {
           "color": "#000000"
          },
          "showarrow": false,
          "text": "71",
          "x": 0.55,
          "xanchor": "left",
          "xref": "x1",
          "y": 18,
          "yref": "y1"
         },
         {
          "align": "left",
          "font": {
           "color": "#000000"
          },
          "showarrow": false,
          "text": "88",
          "x": 1.55,
          "xanchor": "left",
          "xref": "x1",
          "y": 18,
          "yref": "y1"
         },
         {
          "align": "left",
          "font": {
           "color": "#000000"
          },
          "showarrow": false,
          "text": "17",
          "x": 2.55,
          "xanchor": "left",
          "xref": "x1",
          "y": 18,
          "yref": "y1"
         },
         {
          "align": "left",
          "font": {
           "color": "#000000"
          },
          "showarrow": false,
          "text": "Emory",
          "x": -0.45,
          "xanchor": "left",
          "xref": "x1",
          "y": 19,
          "yref": "y1"
         },
         {
          "align": "left",
          "font": {
           "color": "#000000"
          },
          "showarrow": false,
          "text": "68",
          "x": 0.55,
          "xanchor": "left",
          "xref": "x1",
          "y": 19,
          "yref": "y1"
         },
         {
          "align": "left",
          "font": {
           "color": "#000000"
          },
          "showarrow": false,
          "text": "82",
          "x": 1.55,
          "xanchor": "left",
          "xref": "x1",
          "y": 19,
          "yref": "y1"
         },
         {
          "align": "left",
          "font": {
           "color": "#000000"
          },
          "showarrow": false,
          "text": "14",
          "x": 2.55,
          "xanchor": "left",
          "xref": "x1",
          "y": 19,
          "yref": "y1"
         },
         {
          "align": "left",
          "font": {
           "color": "#000000"
          },
          "showarrow": false,
          "text": "UCLA",
          "x": -0.45,
          "xanchor": "left",
          "xref": "x1",
          "y": 20,
          "yref": "y1"
         },
         {
          "align": "left",
          "font": {
           "color": "#000000"
          },
          "showarrow": false,
          "text": "64",
          "x": 0.55,
          "xanchor": "left",
          "xref": "x1",
          "y": 20,
          "yref": "y1"
         },
         {
          "align": "left",
          "font": {
           "color": "#000000"
          },
          "showarrow": false,
          "text": "78",
          "x": 1.55,
          "xanchor": "left",
          "xref": "x1",
          "y": 20,
          "yref": "y1"
         },
         {
          "align": "left",
          "font": {
           "color": "#000000"
          },
          "showarrow": false,
          "text": "14",
          "x": 2.55,
          "xanchor": "left",
          "xref": "x1",
          "y": 20,
          "yref": "y1"
         },
         {
          "align": "left",
          "font": {
           "color": "#000000"
          },
          "showarrow": false,
          "text": "SoCal",
          "x": -0.45,
          "xanchor": "left",
          "xref": "x1",
          "y": 21,
          "yref": "y1"
         },
         {
          "align": "left",
          "font": {
           "color": "#000000"
          },
          "showarrow": false,
          "text": "72",
          "x": 0.55,
          "xanchor": "left",
          "xref": "x1",
          "y": 21,
          "yref": "y1"
         },
         {
          "align": "left",
          "font": {
           "color": "#000000"
          },
          "showarrow": false,
          "text": "81",
          "x": 1.55,
          "xanchor": "left",
          "xref": "x1",
          "y": 21,
          "yref": "y1"
         },
         {
          "align": "left",
          "font": {
           "color": "#000000"
          },
          "showarrow": false,
          "text": "9",
          "x": 2.55,
          "xanchor": "left",
          "xref": "x1",
          "y": 21,
          "yref": "y1"
         }
        ],
        "height": 710,
        "margin": {
         "b": 0,
         "l": 0,
         "r": 0,
         "t": 0
        },
        "xaxis": {
         "dtick": 1,
         "gridwidth": 2,
         "showticklabels": false,
         "tick0": -0.5,
         "ticks": "",
         "zeroline": false
        },
        "yaxis": {
         "autorange": "reversed",
         "dtick": 1,
         "gridwidth": 2,
         "showticklabels": false,
         "tick0": 0.5,
         "ticks": "",
         "zeroline": false
        }
       }
      },
      "text/html": [
       "<div id=\"7195e680-ade3-4722-9075-ce9406826840\" style=\"height: 710px; width: 100%;\" class=\"plotly-graph-div\"></div><script type=\"text/javascript\">require([\"plotly\"], function(Plotly) { window.PLOTLYENV=window.PLOTLYENV || {};window.PLOTLYENV.BASE_URL=\"https://plot.ly\";Plotly.newPlot(\"7195e680-ade3-4722-9075-ce9406826840\", [{\"opacity\": 0.75, \"colorscale\": [[0, \"#00083e\"], [0.5, \"#ededee\"], [1, \"#ffffff\"]], \"showscale\": false, \"hoverinfo\": \"none\", \"z\": [[0, 0, 0, 0], [0.5, 0.5, 0.5, 0.5], [1, 1, 1, 1], [0.5, 0.5, 0.5, 0.5], [1, 1, 1, 1], [0.5, 0.5, 0.5, 0.5], [1, 1, 1, 1], [0.5, 0.5, 0.5, 0.5], [1, 1, 1, 1], [0.5, 0.5, 0.5, 0.5], [1, 1, 1, 1], [0.5, 0.5, 0.5, 0.5], [1, 1, 1, 1], [0.5, 0.5, 0.5, 0.5], [1, 1, 1, 1], [0.5, 0.5, 0.5, 0.5], [1, 1, 1, 1], [0.5, 0.5, 0.5, 0.5], [1, 1, 1, 1], [0.5, 0.5, 0.5, 0.5], [1, 1, 1, 1], [0.5, 0.5, 0.5, 0.5]], \"type\": \"heatmap\"}], {\"yaxis\": {\"showticklabels\": false, \"tick0\": 0.5, \"ticks\": \"\", \"gridwidth\": 2, \"dtick\": 1, \"zeroline\": false, \"autorange\": \"reversed\"}, \"margin\": {\"r\": 0, \"b\": 0, \"l\": 0, \"t\": 0}, \"annotations\": [{\"xref\": \"x1\", \"xanchor\": \"left\", \"yref\": \"y1\", \"text\": \"<b>School</b>\", \"align\": \"left\", \"y\": 0, \"x\": -0.45, \"font\": {\"color\": \"#ffffff\"}, \"showarrow\": false}, {\"xref\": \"x1\", \"xanchor\": \"left\", \"yref\": \"y1\", \"text\": \"<b>Women</b>\", \"align\": \"left\", \"y\": 0, \"x\": 0.55, \"font\": {\"color\": \"#ffffff\"}, \"showarrow\": false}, {\"xref\": \"x1\", \"xanchor\": \"left\", \"yref\": \"y1\", \"text\": \"<b>Men</b>\", \"align\": \"left\", \"y\": 0, \"x\": 1.55, \"font\": {\"color\": \"#ffffff\"}, \"showarrow\": false}, {\"xref\": \"x1\", \"xanchor\": \"left\", \"yref\": \"y1\", \"text\": \"<b>Gap</b>\", \"align\": \"left\", \"y\": 0, \"x\": 2.55, \"font\": {\"color\": \"#ffffff\"}, \"showarrow\": false}, {\"xref\": \"x1\", \"xanchor\": \"left\", \"yref\": \"y1\", \"text\": \"MIT\", \"align\": \"left\", \"y\": 1, \"x\": -0.45, \"font\": {\"color\": \"#000000\"}, \"showarrow\": false}, {\"xref\": \"x1\", \"xanchor\": \"left\", \"yref\": \"y1\", \"text\": \"94\", \"align\": \"left\", \"y\": 1, \"x\": 0.55, \"font\": {\"color\": \"#000000\"}, \"showarrow\": false}, {\"xref\": \"x1\", \"xanchor\": \"left\", \"yref\": \"y1\", \"text\": \"152\", \"align\": \"left\", \"y\": 1, \"x\": 1.55, \"font\": {\"color\": \"#000000\"}, \"showarrow\": false}, {\"xref\": \"x1\", \"xanchor\": \"left\", \"yref\": \"y1\", \"text\": \"58\", \"align\": \"left\", \"y\": 1, \"x\": 2.55, \"font\": {\"color\": \"#000000\"}, \"showarrow\": false}, {\"xref\": \"x1\", \"xanchor\": \"left\", \"yref\": \"y1\", \"text\": \"Stanford\", \"align\": \"left\", \"y\": 2, \"x\": -0.45, \"font\": {\"color\": \"#000000\"}, \"showarrow\": false}, {\"xref\": \"x1\", \"xanchor\": \"left\", \"yref\": \"y1\", \"text\": \"96\", \"align\": \"left\", \"y\": 2, \"x\": 0.55, \"font\": {\"color\": \"#000000\"}, \"showarrow\": false}, {\"xref\": \"x1\", \"xanchor\": \"left\", \"yref\": \"y1\", \"text\": \"151\", \"align\": \"left\", \"y\": 2, \"x\": 1.55, \"font\": {\"color\": \"#000000\"}, \"showarrow\": false}, {\"xref\": \"x1\", \"xanchor\": \"left\", \"yref\": \"y1\", \"text\": \"55\", \"align\": \"left\", \"y\": 2, \"x\": 2.55, \"font\": {\"color\": \"#000000\"}, \"showarrow\": false}, {\"xref\": \"x1\", \"xanchor\": \"left\", \"yref\": \"y1\", \"text\": \"Harvard\", \"align\": \"left\", \"y\": 3, \"x\": -0.45, \"font\": {\"color\": \"#000000\"}, \"showarrow\": false}, {\"xref\": \"x1\", \"xanchor\": \"left\", \"yref\": \"y1\", \"text\": \"112\", \"align\": \"left\", \"y\": 3, \"x\": 0.55, \"font\": {\"color\": \"#000000\"}, \"showarrow\": false}, {\"xref\": \"x1\", \"xanchor\": \"left\", \"yref\": \"y1\", \"text\": \"165\", \"align\": \"left\", \"y\": 3, \"x\": 1.55, \"font\": {\"color\": \"#000000\"}, \"showarrow\": false}, {\"xref\": \"x1\", \"xanchor\": \"left\", \"yref\": \"y1\", \"text\": \"53\", \"align\": \"left\", \"y\": 3, \"x\": 2.55, \"font\": {\"color\": \"#000000\"}, \"showarrow\": false}, {\"xref\": \"x1\", \"xanchor\": \"left\", \"yref\": \"y1\", \"text\": \"U.Penn\", \"align\": \"left\", \"y\": 4, \"x\": -0.45, \"font\": {\"color\": \"#000000\"}, \"showarrow\": false}, {\"xref\": \"x1\", \"xanchor\": \"left\", \"yref\": \"y1\", \"text\": \"92\", \"align\": \"left\", \"y\": 4, \"x\": 0.55, \"font\": {\"color\": \"#000000\"}, \"showarrow\": false}, {\"xref\": \"x1\", \"xanchor\": \"left\", \"yref\": \"y1\", \"text\": \"141\", \"align\": \"left\", \"y\": 4, \"x\": 1.55, \"font\": {\"color\": \"#000000\"}, \"showarrow\": false}, {\"xref\": \"x1\", \"xanchor\": \"left\", \"yref\": \"y1\", \"text\": \"49\", \"align\": \"left\", \"y\": 4, \"x\": 2.55, \"font\": {\"color\": \"#000000\"}, \"showarrow\": false}, {\"xref\": \"x1\", \"xanchor\": \"left\", \"yref\": \"y1\", \"text\": \"Princeton\", \"align\": \"left\", \"y\": 5, \"x\": -0.45, \"font\": {\"color\": \"#000000\"}, \"showarrow\": false}, {\"xref\": \"x1\", \"xanchor\": \"left\", \"yref\": \"y1\", \"text\": \"90\", \"align\": \"left\", \"y\": 5, \"x\": 0.55, \"font\": {\"color\": \"#000000\"}, \"showarrow\": false}, {\"xref\": \"x1\", \"xanchor\": \"left\", \"yref\": \"y1\", \"text\": \"137\", \"align\": \"left\", \"y\": 5, \"x\": 1.55, \"font\": {\"color\": \"#000000\"}, \"showarrow\": false}, {\"xref\": \"x1\", \"xanchor\": \"left\", \"yref\": \"y1\", \"text\": \"47\", \"align\": \"left\", \"y\": 5, \"x\": 2.55, \"font\": {\"color\": \"#000000\"}, \"showarrow\": false}, {\"xref\": \"x1\", \"xanchor\": \"left\", \"yref\": \"y1\", \"text\": \"Chicago\", \"align\": \"left\", \"y\": 6, \"x\": -0.45, \"font\": {\"color\": \"#000000\"}, \"showarrow\": false}, {\"xref\": \"x1\", \"xanchor\": \"left\", \"yref\": \"y1\", \"text\": \"78\", \"align\": \"left\", \"y\": 6, \"x\": 0.55, \"font\": {\"color\": \"#000000\"}, \"showarrow\": false}, {\"xref\": \"x1\", \"xanchor\": \"left\", \"yref\": \"y1\", \"text\": \"118\", \"align\": \"left\", \"y\": 6, \"x\": 1.55, \"font\": {\"color\": \"#000000\"}, \"showarrow\": false}, {\"xref\": \"x1\", \"xanchor\": \"left\", \"yref\": \"y1\", \"text\": \"40\", \"align\": \"left\", \"y\": 6, \"x\": 2.55, \"font\": {\"color\": \"#000000\"}, \"showarrow\": false}, {\"xref\": \"x1\", \"xanchor\": \"left\", \"yref\": \"y1\", \"text\": \"Georgetown\", \"align\": \"left\", \"y\": 7, \"x\": -0.45, \"font\": {\"color\": \"#000000\"}, \"showarrow\": false}, {\"xref\": \"x1\", \"xanchor\": \"left\", \"yref\": \"y1\", \"text\": \"94\", \"align\": \"left\", \"y\": 7, \"x\": 0.55, \"font\": {\"color\": \"#000000\"}, \"showarrow\": false}, {\"xref\": \"x1\", \"xanchor\": \"left\", \"yref\": \"y1\", \"text\": \"131\", \"align\": \"left\", \"y\": 7, \"x\": 1.55, \"font\": {\"color\": \"#000000\"}, \"showarrow\": false}, {\"xref\": \"x1\", \"xanchor\": \"left\", \"yref\": \"y1\", \"text\": \"37\", \"align\": \"left\", \"y\": 7, \"x\": 2.55, \"font\": {\"color\": \"#000000\"}, \"showarrow\": false}, {\"xref\": \"x1\", \"xanchor\": \"left\", \"yref\": \"y1\", \"text\": \"Tufts\", \"align\": \"left\", \"y\": 8, \"x\": -0.45, \"font\": {\"color\": \"#000000\"}, \"showarrow\": false}, {\"xref\": \"x1\", \"xanchor\": \"left\", \"yref\": \"y1\", \"text\": \"76\", \"align\": \"left\", \"y\": 8, \"x\": 0.55, \"font\": {\"color\": \"#000000\"}, \"showarrow\": false}, {\"xref\": \"x1\", \"xanchor\": \"left\", \"yref\": \"y1\", \"text\": \"112\", \"align\": \"left\", \"y\": 8, \"x\": 1.55, \"font\": {\"color\": \"#000000\"}, \"showarrow\": false}, {\"xref\": \"x1\", \"xanchor\": \"left\", \"yref\": \"y1\", \"text\": \"36\", \"align\": \"left\", \"y\": 8, \"x\": 2.55, \"font\": {\"color\": \"#000000\"}, \"showarrow\": false}, {\"xref\": \"x1\", \"xanchor\": \"left\", \"yref\": \"y1\", \"text\": \"Yale\", \"align\": \"left\", \"y\": 9, \"x\": -0.45, \"font\": {\"color\": \"#000000\"}, \"showarrow\": false}, {\"xref\": \"x1\", \"xanchor\": \"left\", \"yref\": \"y1\", \"text\": \"79\", \"align\": \"left\", \"y\": 9, \"x\": 0.55, \"font\": {\"color\": \"#000000\"}, \"showarrow\": false}, {\"xref\": \"x1\", \"xanchor\": \"left\", \"yref\": \"y1\", \"text\": \"114\", \"align\": \"left\", \"y\": 9, \"x\": 1.55, \"font\": {\"color\": \"#000000\"}, \"showarrow\": false}, {\"xref\": \"x1\", \"xanchor\": \"left\", \"yref\": \"y1\", \"text\": \"35\", \"align\": \"left\", \"y\": 9, \"x\": 2.55, \"font\": {\"color\": \"#000000\"}, \"showarrow\": false}, {\"xref\": \"x1\", \"xanchor\": \"left\", \"yref\": \"y1\", \"text\": \"Columbia\", \"align\": \"left\", \"y\": 10, \"x\": -0.45, \"font\": {\"color\": \"#000000\"}, \"showarrow\": false}, {\"xref\": \"x1\", \"xanchor\": \"left\", \"yref\": \"y1\", \"text\": \"86\", \"align\": \"left\", \"y\": 10, \"x\": 0.55, \"font\": {\"color\": \"#000000\"}, \"showarrow\": false}, {\"xref\": \"x1\", \"xanchor\": \"left\", \"yref\": \"y1\", \"text\": \"119\", \"align\": \"left\", \"y\": 10, \"x\": 1.55, \"font\": {\"color\": \"#000000\"}, \"showarrow\": false}, {\"xref\": \"x1\", \"xanchor\": \"left\", \"yref\": \"y1\", \"text\": \"33\", \"align\": \"left\", \"y\": 10, \"x\": 2.55, \"font\": {\"color\": \"#000000\"}, \"showarrow\": false}, {\"xref\": \"x1\", \"xanchor\": \"left\", \"yref\": \"y1\", \"text\": \"Duke\", \"align\": \"left\", \"y\": 11, \"x\": -0.45, \"font\": {\"color\": \"#000000\"}, \"showarrow\": false}, {\"xref\": \"x1\", \"xanchor\": \"left\", \"yref\": \"y1\", \"text\": \"93\", \"align\": \"left\", \"y\": 11, \"x\": 0.55, \"font\": {\"color\": \"#000000\"}, \"showarrow\": false}, {\"xref\": \"x1\", \"xanchor\": \"left\", \"yref\": \"y1\", \"text\": \"124\", \"align\": \"left\", \"y\": 11, \"x\": 1.55, \"font\": {\"color\": \"#000000\"}, \"showarrow\": false}, {\"xref\": \"x1\", \"xanchor\": \"left\", \"yref\": \"y1\", \"text\": \"31\", \"align\": \"left\", \"y\": 11, \"x\": 2.55, \"font\": {\"color\": \"#000000\"}, \"showarrow\": false}, {\"xref\": \"x1\", \"xanchor\": \"left\", \"yref\": \"y1\", \"text\": \"Dartmouth\", \"align\": \"left\", \"y\": 12, \"x\": -0.45, \"font\": {\"color\": \"#000000\"}, \"showarrow\": false}, {\"xref\": \"x1\", \"xanchor\": \"left\", \"yref\": \"y1\", \"text\": \"84\", \"align\": \"left\", \"y\": 12, \"x\": 0.55, \"font\": {\"color\": \"#000000\"}, \"showarrow\": false}, {\"xref\": \"x1\", \"xanchor\": \"left\", \"yref\": \"y1\", \"text\": \"114\", \"align\": \"left\", \"y\": 12, \"x\": 1.55, \"font\": {\"color\": \"#000000\"}, \"showarrow\": false}, {\"xref\": \"x1\", \"xanchor\": \"left\", \"yref\": \"y1\", \"text\": \"30\", \"align\": \"left\", \"y\": 12, \"x\": 2.55, \"font\": {\"color\": \"#000000\"}, \"showarrow\": false}, {\"xref\": \"x1\", \"xanchor\": \"left\", \"yref\": \"y1\", \"text\": \"NYU\", \"align\": \"left\", \"y\": 13, \"x\": -0.45, \"font\": {\"color\": \"#000000\"}, \"showarrow\": false}, {\"xref\": \"x1\", \"xanchor\": \"left\", \"yref\": \"y1\", \"text\": \"67\", \"align\": \"left\", \"y\": 13, \"x\": 0.55, \"font\": {\"color\": \"#000000\"}, \"showarrow\": false}, {\"xref\": \"x1\", \"xanchor\": \"left\", \"yref\": \"y1\", \"text\": \"94\", \"align\": \"left\", \"y\": 13, \"x\": 1.55, \"font\": {\"color\": \"#000000\"}, \"showarrow\": false}, {\"xref\": \"x1\", \"xanchor\": \"left\", \"yref\": \"y1\", \"text\": \"27\", \"align\": \"left\", \"y\": 13, \"x\": 2.55, \"font\": {\"color\": \"#000000\"}, \"showarrow\": false}, {\"xref\": \"x1\", \"xanchor\": \"left\", \"yref\": \"y1\", \"text\": \"Notre Dame\", \"align\": \"left\", \"y\": 14, \"x\": -0.45, \"font\": {\"color\": \"#000000\"}, \"showarrow\": false}, {\"xref\": \"x1\", \"xanchor\": \"left\", \"yref\": \"y1\", \"text\": \"73\", \"align\": \"left\", \"y\": 14, \"x\": 0.55, \"font\": {\"color\": \"#000000\"}, \"showarrow\": false}, {\"xref\": \"x1\", \"xanchor\": \"left\", \"yref\": \"y1\", \"text\": \"100\", \"align\": \"left\", \"y\": 14, \"x\": 1.55, \"font\": {\"color\": \"#000000\"}, \"showarrow\": false}, {\"xref\": \"x1\", \"xanchor\": \"left\", \"yref\": \"y1\", \"text\": \"27\", \"align\": \"left\", \"y\": 14, \"x\": 2.55, \"font\": {\"color\": \"#000000\"}, \"showarrow\": false}, {\"xref\": \"x1\", \"xanchor\": \"left\", \"yref\": \"y1\", \"text\": \"Cornell\", \"align\": \"left\", \"y\": 15, \"x\": -0.45, \"font\": {\"color\": \"#000000\"}, \"showarrow\": false}, {\"xref\": \"x1\", \"xanchor\": \"left\", \"yref\": \"y1\", \"text\": \"80\", \"align\": \"left\", \"y\": 15, \"x\": 0.55, \"font\": {\"color\": \"#000000\"}, \"showarrow\": false}, {\"xref\": \"x1\", \"xanchor\": \"left\", \"yref\": \"y1\", \"text\": \"107\", \"align\": \"left\", \"y\": 15, \"x\": 1.55, \"font\": {\"color\": \"#000000\"}, \"showarrow\": false}, {\"xref\": \"x1\", \"xanchor\": \"left\", \"yref\": \"y1\", \"text\": \"27\", \"align\": \"left\", \"y\": 15, \"x\": 2.55, \"font\": {\"color\": \"#000000\"}, \"showarrow\": false}, {\"xref\": \"x1\", \"xanchor\": \"left\", \"yref\": \"y1\", \"text\": \"Michigan\", \"align\": \"left\", \"y\": 16, \"x\": -0.45, \"font\": {\"color\": \"#000000\"}, \"showarrow\": false}, {\"xref\": \"x1\", \"xanchor\": \"left\", \"yref\": \"y1\", \"text\": \"62\", \"align\": \"left\", \"y\": 16, \"x\": 0.55, \"font\": {\"color\": \"#000000\"}, \"showarrow\": false}, {\"xref\": \"x1\", \"xanchor\": \"left\", \"yref\": \"y1\", \"text\": \"84\", \"align\": \"left\", \"y\": 16, \"x\": 1.55, \"font\": {\"color\": \"#000000\"}, \"showarrow\": false}, {\"xref\": \"x1\", \"xanchor\": \"left\", \"yref\": \"y1\", \"text\": \"22\", \"align\": \"left\", \"y\": 16, \"x\": 2.55, \"font\": {\"color\": \"#000000\"}, \"showarrow\": false}, {\"xref\": \"x1\", \"xanchor\": \"left\", \"yref\": \"y1\", \"text\": \"Brown\", \"align\": \"left\", \"y\": 17, \"x\": -0.45, \"font\": {\"color\": \"#000000\"}, \"showarrow\": false}, {\"xref\": \"x1\", \"xanchor\": \"left\", \"yref\": \"y1\", \"text\": \"72\", \"align\": \"left\", \"y\": 17, \"x\": 0.55, \"font\": {\"color\": \"#000000\"}, \"showarrow\": false}, {\"xref\": \"x1\", \"xanchor\": \"left\", \"yref\": \"y1\", \"text\": \"92\", \"align\": \"left\", \"y\": 17, \"x\": 1.55, \"font\": {\"color\": \"#000000\"}, \"showarrow\": false}, {\"xref\": \"x1\", \"xanchor\": \"left\", \"yref\": \"y1\", \"text\": \"20\", \"align\": \"left\", \"y\": 17, \"x\": 2.55, \"font\": {\"color\": \"#000000\"}, \"showarrow\": false}, {\"xref\": \"x1\", \"xanchor\": \"left\", \"yref\": \"y1\", \"text\": \"Berkeley\", \"align\": \"left\", \"y\": 18, \"x\": -0.45, \"font\": {\"color\": \"#000000\"}, \"showarrow\": false}, {\"xref\": \"x1\", \"xanchor\": \"left\", \"yref\": \"y1\", \"text\": \"71\", \"align\": \"left\", \"y\": 18, \"x\": 0.55, \"font\": {\"color\": \"#000000\"}, \"showarrow\": false}, {\"xref\": \"x1\", \"xanchor\": \"left\", \"yref\": \"y1\", \"text\": \"88\", \"align\": \"left\", \"y\": 18, \"x\": 1.55, \"font\": {\"color\": \"#000000\"}, \"showarrow\": false}, {\"xref\": \"x1\", \"xanchor\": \"left\", \"yref\": \"y1\", \"text\": \"17\", \"align\": \"left\", \"y\": 18, \"x\": 2.55, \"font\": {\"color\": \"#000000\"}, \"showarrow\": false}, {\"xref\": \"x1\", \"xanchor\": \"left\", \"yref\": \"y1\", \"text\": \"Emory\", \"align\": \"left\", \"y\": 19, \"x\": -0.45, \"font\": {\"color\": \"#000000\"}, \"showarrow\": false}, {\"xref\": \"x1\", \"xanchor\": \"left\", \"yref\": \"y1\", \"text\": \"68\", \"align\": \"left\", \"y\": 19, \"x\": 0.55, \"font\": {\"color\": \"#000000\"}, \"showarrow\": false}, {\"xref\": \"x1\", \"xanchor\": \"left\", \"yref\": \"y1\", \"text\": \"82\", \"align\": \"left\", \"y\": 19, \"x\": 1.55, \"font\": {\"color\": \"#000000\"}, \"showarrow\": false}, {\"xref\": \"x1\", \"xanchor\": \"left\", \"yref\": \"y1\", \"text\": \"14\", \"align\": \"left\", \"y\": 19, \"x\": 2.55, \"font\": {\"color\": \"#000000\"}, \"showarrow\": false}, {\"xref\": \"x1\", \"xanchor\": \"left\", \"yref\": \"y1\", \"text\": \"UCLA\", \"align\": \"left\", \"y\": 20, \"x\": -0.45, \"font\": {\"color\": \"#000000\"}, \"showarrow\": false}, {\"xref\": \"x1\", \"xanchor\": \"left\", \"yref\": \"y1\", \"text\": \"64\", \"align\": \"left\", \"y\": 20, \"x\": 0.55, \"font\": {\"color\": \"#000000\"}, \"showarrow\": false}, {\"xref\": \"x1\", \"xanchor\": \"left\", \"yref\": \"y1\", \"text\": \"78\", \"align\": \"left\", \"y\": 20, \"x\": 1.55, \"font\": {\"color\": \"#000000\"}, \"showarrow\": false}, {\"xref\": \"x1\", \"xanchor\": \"left\", \"yref\": \"y1\", \"text\": \"14\", \"align\": \"left\", \"y\": 20, \"x\": 2.55, \"font\": {\"color\": \"#000000\"}, \"showarrow\": false}, {\"xref\": \"x1\", \"xanchor\": \"left\", \"yref\": \"y1\", \"text\": \"SoCal\", \"align\": \"left\", \"y\": 21, \"x\": -0.45, \"font\": {\"color\": \"#000000\"}, \"showarrow\": false}, {\"xref\": \"x1\", \"xanchor\": \"left\", \"yref\": \"y1\", \"text\": \"72\", \"align\": \"left\", \"y\": 21, \"x\": 0.55, \"font\": {\"color\": \"#000000\"}, \"showarrow\": false}, {\"xref\": \"x1\", \"xanchor\": \"left\", \"yref\": \"y1\", \"text\": \"81\", \"align\": \"left\", \"y\": 21, \"x\": 1.55, \"font\": {\"color\": \"#000000\"}, \"showarrow\": false}, {\"xref\": \"x1\", \"xanchor\": \"left\", \"yref\": \"y1\", \"text\": \"9\", \"align\": \"left\", \"y\": 21, \"x\": 2.55, \"font\": {\"color\": \"#000000\"}, \"showarrow\": false}], \"xaxis\": {\"showticklabels\": false, \"tick0\": -0.5, \"ticks\": \"\", \"gridwidth\": 2, \"dtick\": 1, \"zeroline\": false}, \"height\": 710}, {\"linkText\": \"Export to plot.ly\", \"showLink\": true})});</script>"
      ],
      "text/vnd.plotly.v1+html": [
       "<div id=\"7195e680-ade3-4722-9075-ce9406826840\" style=\"height: 710px; width: 100%;\" class=\"plotly-graph-div\"></div><script type=\"text/javascript\">require([\"plotly\"], function(Plotly) { window.PLOTLYENV=window.PLOTLYENV || {};window.PLOTLYENV.BASE_URL=\"https://plot.ly\";Plotly.newPlot(\"7195e680-ade3-4722-9075-ce9406826840\", [{\"opacity\": 0.75, \"colorscale\": [[0, \"#00083e\"], [0.5, \"#ededee\"], [1, \"#ffffff\"]], \"showscale\": false, \"hoverinfo\": \"none\", \"z\": [[0, 0, 0, 0], [0.5, 0.5, 0.5, 0.5], [1, 1, 1, 1], [0.5, 0.5, 0.5, 0.5], [1, 1, 1, 1], [0.5, 0.5, 0.5, 0.5], [1, 1, 1, 1], [0.5, 0.5, 0.5, 0.5], [1, 1, 1, 1], [0.5, 0.5, 0.5, 0.5], [1, 1, 1, 1], [0.5, 0.5, 0.5, 0.5], [1, 1, 1, 1], [0.5, 0.5, 0.5, 0.5], [1, 1, 1, 1], [0.5, 0.5, 0.5, 0.5], [1, 1, 1, 1], [0.5, 0.5, 0.5, 0.5], [1, 1, 1, 1], [0.5, 0.5, 0.5, 0.5], [1, 1, 1, 1], [0.5, 0.5, 0.5, 0.5]], \"type\": \"heatmap\"}], {\"yaxis\": {\"showticklabels\": false, \"tick0\": 0.5, \"ticks\": \"\", \"gridwidth\": 2, \"dtick\": 1, \"zeroline\": false, \"autorange\": \"reversed\"}, \"margin\": {\"r\": 0, \"b\": 0, \"l\": 0, \"t\": 0}, \"annotations\": [{\"xref\": \"x1\", \"xanchor\": \"left\", \"yref\": \"y1\", \"text\": \"<b>School</b>\", \"align\": \"left\", \"y\": 0, \"x\": -0.45, \"font\": {\"color\": \"#ffffff\"}, \"showarrow\": false}, {\"xref\": \"x1\", \"xanchor\": \"left\", \"yref\": \"y1\", \"text\": \"<b>Women</b>\", \"align\": \"left\", \"y\": 0, \"x\": 0.55, \"font\": {\"color\": \"#ffffff\"}, \"showarrow\": false}, {\"xref\": \"x1\", \"xanchor\": \"left\", \"yref\": \"y1\", \"text\": \"<b>Men</b>\", \"align\": \"left\", \"y\": 0, \"x\": 1.55, \"font\": {\"color\": \"#ffffff\"}, \"showarrow\": false}, {\"xref\": \"x1\", \"xanchor\": \"left\", \"yref\": \"y1\", \"text\": \"<b>Gap</b>\", \"align\": \"left\", \"y\": 0, \"x\": 2.55, \"font\": {\"color\": \"#ffffff\"}, \"showarrow\": false}, {\"xref\": \"x1\", \"xanchor\": \"left\", \"yref\": \"y1\", \"text\": \"MIT\", \"align\": \"left\", \"y\": 1, \"x\": -0.45, \"font\": {\"color\": \"#000000\"}, \"showarrow\": false}, {\"xref\": \"x1\", \"xanchor\": \"left\", \"yref\": \"y1\", \"text\": \"94\", \"align\": \"left\", \"y\": 1, \"x\": 0.55, \"font\": {\"color\": \"#000000\"}, \"showarrow\": false}, {\"xref\": \"x1\", \"xanchor\": \"left\", \"yref\": \"y1\", \"text\": \"152\", \"align\": \"left\", \"y\": 1, \"x\": 1.55, \"font\": {\"color\": \"#000000\"}, \"showarrow\": false}, {\"xref\": \"x1\", \"xanchor\": \"left\", \"yref\": \"y1\", \"text\": \"58\", \"align\": \"left\", \"y\": 1, \"x\": 2.55, \"font\": {\"color\": \"#000000\"}, \"showarrow\": false}, {\"xref\": \"x1\", \"xanchor\": \"left\", \"yref\": \"y1\", \"text\": \"Stanford\", \"align\": \"left\", \"y\": 2, \"x\": -0.45, \"font\": {\"color\": \"#000000\"}, \"showarrow\": false}, {\"xref\": \"x1\", \"xanchor\": \"left\", \"yref\": \"y1\", \"text\": \"96\", \"align\": \"left\", \"y\": 2, \"x\": 0.55, \"font\": {\"color\": \"#000000\"}, \"showarrow\": false}, {\"xref\": \"x1\", \"xanchor\": \"left\", \"yref\": \"y1\", \"text\": \"151\", \"align\": \"left\", \"y\": 2, \"x\": 1.55, \"font\": {\"color\": \"#000000\"}, \"showarrow\": false}, {\"xref\": \"x1\", \"xanchor\": \"left\", \"yref\": \"y1\", \"text\": \"55\", \"align\": \"left\", \"y\": 2, \"x\": 2.55, \"font\": {\"color\": \"#000000\"}, \"showarrow\": false}, {\"xref\": \"x1\", \"xanchor\": \"left\", \"yref\": \"y1\", \"text\": \"Harvard\", \"align\": \"left\", \"y\": 3, \"x\": -0.45, \"font\": {\"color\": \"#000000\"}, \"showarrow\": false}, {\"xref\": \"x1\", \"xanchor\": \"left\", \"yref\": \"y1\", \"text\": \"112\", \"align\": \"left\", \"y\": 3, \"x\": 0.55, \"font\": {\"color\": \"#000000\"}, \"showarrow\": false}, {\"xref\": \"x1\", \"xanchor\": \"left\", \"yref\": \"y1\", \"text\": \"165\", \"align\": \"left\", \"y\": 3, \"x\": 1.55, \"font\": {\"color\": \"#000000\"}, \"showarrow\": false}, {\"xref\": \"x1\", \"xanchor\": \"left\", \"yref\": \"y1\", \"text\": \"53\", \"align\": \"left\", \"y\": 3, \"x\": 2.55, \"font\": {\"color\": \"#000000\"}, \"showarrow\": false}, {\"xref\": \"x1\", \"xanchor\": \"left\", \"yref\": \"y1\", \"text\": \"U.Penn\", \"align\": \"left\", \"y\": 4, \"x\": -0.45, \"font\": {\"color\": \"#000000\"}, \"showarrow\": false}, {\"xref\": \"x1\", \"xanchor\": \"left\", \"yref\": \"y1\", \"text\": \"92\", \"align\": \"left\", \"y\": 4, \"x\": 0.55, \"font\": {\"color\": \"#000000\"}, \"showarrow\": false}, {\"xref\": \"x1\", \"xanchor\": \"left\", \"yref\": \"y1\", \"text\": \"141\", \"align\": \"left\", \"y\": 4, \"x\": 1.55, \"font\": {\"color\": \"#000000\"}, \"showarrow\": false}, {\"xref\": \"x1\", \"xanchor\": \"left\", \"yref\": \"y1\", \"text\": \"49\", \"align\": \"left\", \"y\": 4, \"x\": 2.55, \"font\": {\"color\": \"#000000\"}, \"showarrow\": false}, {\"xref\": \"x1\", \"xanchor\": \"left\", \"yref\": \"y1\", \"text\": \"Princeton\", \"align\": \"left\", \"y\": 5, \"x\": -0.45, \"font\": {\"color\": \"#000000\"}, \"showarrow\": false}, {\"xref\": \"x1\", \"xanchor\": \"left\", \"yref\": \"y1\", \"text\": \"90\", \"align\": \"left\", \"y\": 5, \"x\": 0.55, \"font\": {\"color\": \"#000000\"}, \"showarrow\": false}, {\"xref\": \"x1\", \"xanchor\": \"left\", \"yref\": \"y1\", \"text\": \"137\", \"align\": \"left\", \"y\": 5, \"x\": 1.55, \"font\": {\"color\": \"#000000\"}, \"showarrow\": false}, {\"xref\": \"x1\", \"xanchor\": \"left\", \"yref\": \"y1\", \"text\": \"47\", \"align\": \"left\", \"y\": 5, \"x\": 2.55, \"font\": {\"color\": \"#000000\"}, \"showarrow\": false}, {\"xref\": \"x1\", \"xanchor\": \"left\", \"yref\": \"y1\", \"text\": \"Chicago\", \"align\": \"left\", \"y\": 6, \"x\": -0.45, \"font\": {\"color\": \"#000000\"}, \"showarrow\": false}, {\"xref\": \"x1\", \"xanchor\": \"left\", \"yref\": \"y1\", \"text\": \"78\", \"align\": \"left\", \"y\": 6, \"x\": 0.55, \"font\": {\"color\": \"#000000\"}, \"showarrow\": false}, {\"xref\": \"x1\", \"xanchor\": \"left\", \"yref\": \"y1\", \"text\": \"118\", \"align\": \"left\", \"y\": 6, \"x\": 1.55, \"font\": {\"color\": \"#000000\"}, \"showarrow\": false}, {\"xref\": \"x1\", \"xanchor\": \"left\", \"yref\": \"y1\", \"text\": \"40\", \"align\": \"left\", \"y\": 6, \"x\": 2.55, \"font\": {\"color\": \"#000000\"}, \"showarrow\": false}, {\"xref\": \"x1\", \"xanchor\": \"left\", \"yref\": \"y1\", \"text\": \"Georgetown\", \"align\": \"left\", \"y\": 7, \"x\": -0.45, \"font\": {\"color\": \"#000000\"}, \"showarrow\": false}, {\"xref\": \"x1\", \"xanchor\": \"left\", \"yref\": \"y1\", \"text\": \"94\", \"align\": \"left\", \"y\": 7, \"x\": 0.55, \"font\": {\"color\": \"#000000\"}, \"showarrow\": false}, {\"xref\": \"x1\", \"xanchor\": \"left\", \"yref\": \"y1\", \"text\": \"131\", \"align\": \"left\", \"y\": 7, \"x\": 1.55, \"font\": {\"color\": \"#000000\"}, \"showarrow\": false}, {\"xref\": \"x1\", \"xanchor\": \"left\", \"yref\": \"y1\", \"text\": \"37\", \"align\": \"left\", \"y\": 7, \"x\": 2.55, \"font\": {\"color\": \"#000000\"}, \"showarrow\": false}, {\"xref\": \"x1\", \"xanchor\": \"left\", \"yref\": \"y1\", \"text\": \"Tufts\", \"align\": \"left\", \"y\": 8, \"x\": -0.45, \"font\": {\"color\": \"#000000\"}, \"showarrow\": false}, {\"xref\": \"x1\", \"xanchor\": \"left\", \"yref\": \"y1\", \"text\": \"76\", \"align\": \"left\", \"y\": 8, \"x\": 0.55, \"font\": {\"color\": \"#000000\"}, \"showarrow\": false}, {\"xref\": \"x1\", \"xanchor\": \"left\", \"yref\": \"y1\", \"text\": \"112\", \"align\": \"left\", \"y\": 8, \"x\": 1.55, \"font\": {\"color\": \"#000000\"}, \"showarrow\": false}, {\"xref\": \"x1\", \"xanchor\": \"left\", \"yref\": \"y1\", \"text\": \"36\", \"align\": \"left\", \"y\": 8, \"x\": 2.55, \"font\": {\"color\": \"#000000\"}, \"showarrow\": false}, {\"xref\": \"x1\", \"xanchor\": \"left\", \"yref\": \"y1\", \"text\": \"Yale\", \"align\": \"left\", \"y\": 9, \"x\": -0.45, \"font\": {\"color\": \"#000000\"}, \"showarrow\": false}, {\"xref\": \"x1\", \"xanchor\": \"left\", \"yref\": \"y1\", \"text\": \"79\", \"align\": \"left\", \"y\": 9, \"x\": 0.55, \"font\": {\"color\": \"#000000\"}, \"showarrow\": false}, {\"xref\": \"x1\", \"xanchor\": \"left\", \"yref\": \"y1\", \"text\": \"114\", \"align\": \"left\", \"y\": 9, \"x\": 1.55, \"font\": {\"color\": \"#000000\"}, \"showarrow\": false}, {\"xref\": \"x1\", \"xanchor\": \"left\", \"yref\": \"y1\", \"text\": \"35\", \"align\": \"left\", \"y\": 9, \"x\": 2.55, \"font\": {\"color\": \"#000000\"}, \"showarrow\": false}, {\"xref\": \"x1\", \"xanchor\": \"left\", \"yref\": \"y1\", \"text\": \"Columbia\", \"align\": \"left\", \"y\": 10, \"x\": -0.45, \"font\": {\"color\": \"#000000\"}, \"showarrow\": false}, {\"xref\": \"x1\", \"xanchor\": \"left\", \"yref\": \"y1\", \"text\": \"86\", \"align\": \"left\", \"y\": 10, \"x\": 0.55, \"font\": {\"color\": \"#000000\"}, \"showarrow\": false}, {\"xref\": \"x1\", \"xanchor\": \"left\", \"yref\": \"y1\", \"text\": \"119\", \"align\": \"left\", \"y\": 10, \"x\": 1.55, \"font\": {\"color\": \"#000000\"}, \"showarrow\": false}, {\"xref\": \"x1\", \"xanchor\": \"left\", \"yref\": \"y1\", \"text\": \"33\", \"align\": \"left\", \"y\": 10, \"x\": 2.55, \"font\": {\"color\": \"#000000\"}, \"showarrow\": false}, {\"xref\": \"x1\", \"xanchor\": \"left\", \"yref\": \"y1\", \"text\": \"Duke\", \"align\": \"left\", \"y\": 11, \"x\": -0.45, \"font\": {\"color\": \"#000000\"}, \"showarrow\": false}, {\"xref\": \"x1\", \"xanchor\": \"left\", \"yref\": \"y1\", \"text\": \"93\", \"align\": \"left\", \"y\": 11, \"x\": 0.55, \"font\": {\"color\": \"#000000\"}, \"showarrow\": false}, {\"xref\": \"x1\", \"xanchor\": \"left\", \"yref\": \"y1\", \"text\": \"124\", \"align\": \"left\", \"y\": 11, \"x\": 1.55, \"font\": {\"color\": \"#000000\"}, \"showarrow\": false}, {\"xref\": \"x1\", \"xanchor\": \"left\", \"yref\": \"y1\", \"text\": \"31\", \"align\": \"left\", \"y\": 11, \"x\": 2.55, \"font\": {\"color\": \"#000000\"}, \"showarrow\": false}, {\"xref\": \"x1\", \"xanchor\": \"left\", \"yref\": \"y1\", \"text\": \"Dartmouth\", \"align\": \"left\", \"y\": 12, \"x\": -0.45, \"font\": {\"color\": \"#000000\"}, \"showarrow\": false}, {\"xref\": \"x1\", \"xanchor\": \"left\", \"yref\": \"y1\", \"text\": \"84\", \"align\": \"left\", \"y\": 12, \"x\": 0.55, \"font\": {\"color\": \"#000000\"}, \"showarrow\": false}, {\"xref\": \"x1\", \"xanchor\": \"left\", \"yref\": \"y1\", \"text\": \"114\", \"align\": \"left\", \"y\": 12, \"x\": 1.55, \"font\": {\"color\": \"#000000\"}, \"showarrow\": false}, {\"xref\": \"x1\", \"xanchor\": \"left\", \"yref\": \"y1\", \"text\": \"30\", \"align\": \"left\", \"y\": 12, \"x\": 2.55, \"font\": {\"color\": \"#000000\"}, \"showarrow\": false}, {\"xref\": \"x1\", \"xanchor\": \"left\", \"yref\": \"y1\", \"text\": \"NYU\", \"align\": \"left\", \"y\": 13, \"x\": -0.45, \"font\": {\"color\": \"#000000\"}, \"showarrow\": false}, {\"xref\": \"x1\", \"xanchor\": \"left\", \"yref\": \"y1\", \"text\": \"67\", \"align\": \"left\", \"y\": 13, \"x\": 0.55, \"font\": {\"color\": \"#000000\"}, \"showarrow\": false}, {\"xref\": \"x1\", \"xanchor\": \"left\", \"yref\": \"y1\", \"text\": \"94\", \"align\": \"left\", \"y\": 13, \"x\": 1.55, \"font\": {\"color\": \"#000000\"}, \"showarrow\": false}, {\"xref\": \"x1\", \"xanchor\": \"left\", \"yref\": \"y1\", \"text\": \"27\", \"align\": \"left\", \"y\": 13, \"x\": 2.55, \"font\": {\"color\": \"#000000\"}, \"showarrow\": false}, {\"xref\": \"x1\", \"xanchor\": \"left\", \"yref\": \"y1\", \"text\": \"Notre Dame\", \"align\": \"left\", \"y\": 14, \"x\": -0.45, \"font\": {\"color\": \"#000000\"}, \"showarrow\": false}, {\"xref\": \"x1\", \"xanchor\": \"left\", \"yref\": \"y1\", \"text\": \"73\", \"align\": \"left\", \"y\": 14, \"x\": 0.55, \"font\": {\"color\": \"#000000\"}, \"showarrow\": false}, {\"xref\": \"x1\", \"xanchor\": \"left\", \"yref\": \"y1\", \"text\": \"100\", \"align\": \"left\", \"y\": 14, \"x\": 1.55, \"font\": {\"color\": \"#000000\"}, \"showarrow\": false}, {\"xref\": \"x1\", \"xanchor\": \"left\", \"yref\": \"y1\", \"text\": \"27\", \"align\": \"left\", \"y\": 14, \"x\": 2.55, \"font\": {\"color\": \"#000000\"}, \"showarrow\": false}, {\"xref\": \"x1\", \"xanchor\": \"left\", \"yref\": \"y1\", \"text\": \"Cornell\", \"align\": \"left\", \"y\": 15, \"x\": -0.45, \"font\": {\"color\": \"#000000\"}, \"showarrow\": false}, {\"xref\": \"x1\", \"xanchor\": \"left\", \"yref\": \"y1\", \"text\": \"80\", \"align\": \"left\", \"y\": 15, \"x\": 0.55, \"font\": {\"color\": \"#000000\"}, \"showarrow\": false}, {\"xref\": \"x1\", \"xanchor\": \"left\", \"yref\": \"y1\", \"text\": \"107\", \"align\": \"left\", \"y\": 15, \"x\": 1.55, \"font\": {\"color\": \"#000000\"}, \"showarrow\": false}, {\"xref\": \"x1\", \"xanchor\": \"left\", \"yref\": \"y1\", \"text\": \"27\", \"align\": \"left\", \"y\": 15, \"x\": 2.55, \"font\": {\"color\": \"#000000\"}, \"showarrow\": false}, {\"xref\": \"x1\", \"xanchor\": \"left\", \"yref\": \"y1\", \"text\": \"Michigan\", \"align\": \"left\", \"y\": 16, \"x\": -0.45, \"font\": {\"color\": \"#000000\"}, \"showarrow\": false}, {\"xref\": \"x1\", \"xanchor\": \"left\", \"yref\": \"y1\", \"text\": \"62\", \"align\": \"left\", \"y\": 16, \"x\": 0.55, \"font\": {\"color\": \"#000000\"}, \"showarrow\": false}, {\"xref\": \"x1\", \"xanchor\": \"left\", \"yref\": \"y1\", \"text\": \"84\", \"align\": \"left\", \"y\": 16, \"x\": 1.55, \"font\": {\"color\": \"#000000\"}, \"showarrow\": false}, {\"xref\": \"x1\", \"xanchor\": \"left\", \"yref\": \"y1\", \"text\": \"22\", \"align\": \"left\", \"y\": 16, \"x\": 2.55, \"font\": {\"color\": \"#000000\"}, \"showarrow\": false}, {\"xref\": \"x1\", \"xanchor\": \"left\", \"yref\": \"y1\", \"text\": \"Brown\", \"align\": \"left\", \"y\": 17, \"x\": -0.45, \"font\": {\"color\": \"#000000\"}, \"showarrow\": false}, {\"xref\": \"x1\", \"xanchor\": \"left\", \"yref\": \"y1\", \"text\": \"72\", \"align\": \"left\", \"y\": 17, \"x\": 0.55, \"font\": {\"color\": \"#000000\"}, \"showarrow\": false}, {\"xref\": \"x1\", \"xanchor\": \"left\", \"yref\": \"y1\", \"text\": \"92\", \"align\": \"left\", \"y\": 17, \"x\": 1.55, \"font\": {\"color\": \"#000000\"}, \"showarrow\": false}, {\"xref\": \"x1\", \"xanchor\": \"left\", \"yref\": \"y1\", \"text\": \"20\", \"align\": \"left\", \"y\": 17, \"x\": 2.55, \"font\": {\"color\": \"#000000\"}, \"showarrow\": false}, {\"xref\": \"x1\", \"xanchor\": \"left\", \"yref\": \"y1\", \"text\": \"Berkeley\", \"align\": \"left\", \"y\": 18, \"x\": -0.45, \"font\": {\"color\": \"#000000\"}, \"showarrow\": false}, {\"xref\": \"x1\", \"xanchor\": \"left\", \"yref\": \"y1\", \"text\": \"71\", \"align\": \"left\", \"y\": 18, \"x\": 0.55, \"font\": {\"color\": \"#000000\"}, \"showarrow\": false}, {\"xref\": \"x1\", \"xanchor\": \"left\", \"yref\": \"y1\", \"text\": \"88\", \"align\": \"left\", \"y\": 18, \"x\": 1.55, \"font\": {\"color\": \"#000000\"}, \"showarrow\": false}, {\"xref\": \"x1\", \"xanchor\": \"left\", \"yref\": \"y1\", \"text\": \"17\", \"align\": \"left\", \"y\": 18, \"x\": 2.55, \"font\": {\"color\": \"#000000\"}, \"showarrow\": false}, {\"xref\": \"x1\", \"xanchor\": \"left\", \"yref\": \"y1\", \"text\": \"Emory\", \"align\": \"left\", \"y\": 19, \"x\": -0.45, \"font\": {\"color\": \"#000000\"}, \"showarrow\": false}, {\"xref\": \"x1\", \"xanchor\": \"left\", \"yref\": \"y1\", \"text\": \"68\", \"align\": \"left\", \"y\": 19, \"x\": 0.55, \"font\": {\"color\": \"#000000\"}, \"showarrow\": false}, {\"xref\": \"x1\", \"xanchor\": \"left\", \"yref\": \"y1\", \"text\": \"82\", \"align\": \"left\", \"y\": 19, \"x\": 1.55, \"font\": {\"color\": \"#000000\"}, \"showarrow\": false}, {\"xref\": \"x1\", \"xanchor\": \"left\", \"yref\": \"y1\", \"text\": \"14\", \"align\": \"left\", \"y\": 19, \"x\": 2.55, \"font\": {\"color\": \"#000000\"}, \"showarrow\": false}, {\"xref\": \"x1\", \"xanchor\": \"left\", \"yref\": \"y1\", \"text\": \"UCLA\", \"align\": \"left\", \"y\": 20, \"x\": -0.45, \"font\": {\"color\": \"#000000\"}, \"showarrow\": false}, {\"xref\": \"x1\", \"xanchor\": \"left\", \"yref\": \"y1\", \"text\": \"64\", \"align\": \"left\", \"y\": 20, \"x\": 0.55, \"font\": {\"color\": \"#000000\"}, \"showarrow\": false}, {\"xref\": \"x1\", \"xanchor\": \"left\", \"yref\": \"y1\", \"text\": \"78\", \"align\": \"left\", \"y\": 20, \"x\": 1.55, \"font\": {\"color\": \"#000000\"}, \"showarrow\": false}, {\"xref\": \"x1\", \"xanchor\": \"left\", \"yref\": \"y1\", \"text\": \"14\", \"align\": \"left\", \"y\": 20, \"x\": 2.55, \"font\": {\"color\": \"#000000\"}, \"showarrow\": false}, {\"xref\": \"x1\", \"xanchor\": \"left\", \"yref\": \"y1\", \"text\": \"SoCal\", \"align\": \"left\", \"y\": 21, \"x\": -0.45, \"font\": {\"color\": \"#000000\"}, \"showarrow\": false}, {\"xref\": \"x1\", \"xanchor\": \"left\", \"yref\": \"y1\", \"text\": \"72\", \"align\": \"left\", \"y\": 21, \"x\": 0.55, \"font\": {\"color\": \"#000000\"}, \"showarrow\": false}, {\"xref\": \"x1\", \"xanchor\": \"left\", \"yref\": \"y1\", \"text\": \"81\", \"align\": \"left\", \"y\": 21, \"x\": 1.55, \"font\": {\"color\": \"#000000\"}, \"showarrow\": false}, {\"xref\": \"x1\", \"xanchor\": \"left\", \"yref\": \"y1\", \"text\": \"9\", \"align\": \"left\", \"y\": 21, \"x\": 2.55, \"font\": {\"color\": \"#000000\"}, \"showarrow\": false}], \"xaxis\": {\"showticklabels\": false, \"tick0\": -0.5, \"ticks\": \"\", \"gridwidth\": 2, \"dtick\": 1, \"zeroline\": false}, \"height\": 710}, {\"linkText\": \"Export to plot.ly\", \"showLink\": true})});</script>"
      ]
     },
     "metadata": {},
     "output_type": "display_data"
    }
   ],
   "source": [
    "import plotly.plotly as py\n",
    "import plotly.figure_factory as ff\n",
    "import pandas as pd\n",
    "\n",
    "df = pd.read_csv(\"https://raw.githubusercontent.com/plotly/datasets/master/school_earnings.csv\")\n",
    "\n",
    "table = ff.create_table(df)\n",
    "#plotly.offline.iplot(table, filename='jupyter/table1')                           #filename does what here?\n",
    "plotly.offline.iplot(table)"
   ]
  },
  {
   "cell_type": "code",
   "execution_count": 15,
   "metadata": {},
   "outputs": [
    {
     "data": {
      "application/vnd.plotly.v1+json": {
       "data": [
        {
         "type": "bar",
         "x": [
          "MIT",
          "Stanford",
          "Harvard",
          "U.Penn",
          "Princeton",
          "Chicago",
          "Georgetown",
          "Tufts",
          "Yale",
          "Columbia",
          "Duke",
          "Dartmouth",
          "NYU",
          "Notre Dame",
          "Cornell",
          "Michigan",
          "Brown",
          "Berkeley",
          "Emory",
          "UCLA",
          "SoCal"
         ],
         "y": [
          58,
          55,
          53,
          49,
          47,
          40,
          37,
          36,
          35,
          33,
          31,
          30,
          27,
          27,
          27,
          22,
          20,
          17,
          14,
          14,
          9
         ]
        }
       ],
       "layout": {}
      },
      "text/html": [
       "<div id=\"794d8e2e-4431-470b-8ea8-a9159da2baaf\" style=\"height: 525px; width: 100%;\" class=\"plotly-graph-div\"></div><script type=\"text/javascript\">require([\"plotly\"], function(Plotly) { window.PLOTLYENV=window.PLOTLYENV || {};window.PLOTLYENV.BASE_URL=\"https://plot.ly\";Plotly.newPlot(\"794d8e2e-4431-470b-8ea8-a9159da2baaf\", [{\"y\": [58, 55, 53, 49, 47, 40, 37, 36, 35, 33, 31, 30, 27, 27, 27, 22, 20, 17, 14, 14, 9], \"x\": [\"MIT\", \"Stanford\", \"Harvard\", \"U.Penn\", \"Princeton\", \"Chicago\", \"Georgetown\", \"Tufts\", \"Yale\", \"Columbia\", \"Duke\", \"Dartmouth\", \"NYU\", \"Notre Dame\", \"Cornell\", \"Michigan\", \"Brown\", \"Berkeley\", \"Emory\", \"UCLA\", \"SoCal\"], \"type\": \"bar\"}], {}, {\"linkText\": \"Export to plot.ly\", \"showLink\": true})});</script>"
      ],
      "text/vnd.plotly.v1+html": [
       "<div id=\"794d8e2e-4431-470b-8ea8-a9159da2baaf\" style=\"height: 525px; width: 100%;\" class=\"plotly-graph-div\"></div><script type=\"text/javascript\">require([\"plotly\"], function(Plotly) { window.PLOTLYENV=window.PLOTLYENV || {};window.PLOTLYENV.BASE_URL=\"https://plot.ly\";Plotly.newPlot(\"794d8e2e-4431-470b-8ea8-a9159da2baaf\", [{\"y\": [58, 55, 53, 49, 47, 40, 37, 36, 35, 33, 31, 30, 27, 27, 27, 22, 20, 17, 14, 14, 9], \"x\": [\"MIT\", \"Stanford\", \"Harvard\", \"U.Penn\", \"Princeton\", \"Chicago\", \"Georgetown\", \"Tufts\", \"Yale\", \"Columbia\", \"Duke\", \"Dartmouth\", \"NYU\", \"Notre Dame\", \"Cornell\", \"Michigan\", \"Brown\", \"Berkeley\", \"Emory\", \"UCLA\", \"SoCal\"], \"type\": \"bar\"}], {}, {\"linkText\": \"Export to plot.ly\", \"showLink\": true})});</script>"
      ]
     },
     "metadata": {},
     "output_type": "display_data"
    }
   ],
   "source": [
    "data = [go.Bar(x=df.School,\n",
    "            y=df.Gap)]\n",
    "\n",
    "plotly.offline.iplot(data, filename='jupyter/basic_bar')"
   ]
  },
  {
   "cell_type": "code",
   "execution_count": 16,
   "metadata": {},
   "outputs": [
    {
     "data": {
      "application/vnd.plotly.v1+json": {
       "data": [
        {
         "marker": {
          "color": "#ffcdd2"
         },
         "name": "Women",
         "type": "bar",
         "x": [
          "MIT",
          "Stanford",
          "Harvard",
          "U.Penn",
          "Princeton",
          "Chicago",
          "Georgetown",
          "Tufts",
          "Yale",
          "Columbia",
          "Duke",
          "Dartmouth",
          "NYU",
          "Notre Dame",
          "Cornell",
          "Michigan",
          "Brown",
          "Berkeley",
          "Emory",
          "UCLA",
          "SoCal"
         ],
         "y": [
          94,
          96,
          112,
          92,
          90,
          78,
          94,
          76,
          79,
          86,
          93,
          84,
          67,
          73,
          80,
          62,
          72,
          71,
          68,
          64,
          72
         ]
        },
        {
         "marker": {
          "color": "#A2D5F2"
         },
         "name": "Men",
         "type": "bar",
         "x": [
          "MIT",
          "Stanford",
          "Harvard",
          "U.Penn",
          "Princeton",
          "Chicago",
          "Georgetown",
          "Tufts",
          "Yale",
          "Columbia",
          "Duke",
          "Dartmouth",
          "NYU",
          "Notre Dame",
          "Cornell",
          "Michigan",
          "Brown",
          "Berkeley",
          "Emory",
          "UCLA",
          "SoCal"
         ],
         "y": [
          152,
          151,
          165,
          141,
          137,
          118,
          131,
          112,
          114,
          119,
          124,
          114,
          94,
          100,
          107,
          84,
          92,
          88,
          82,
          78,
          81
         ]
        },
        {
         "marker": {
          "color": "#59606D"
         },
         "name": "Gap",
         "type": "bar",
         "x": [
          "MIT",
          "Stanford",
          "Harvard",
          "U.Penn",
          "Princeton",
          "Chicago",
          "Georgetown",
          "Tufts",
          "Yale",
          "Columbia",
          "Duke",
          "Dartmouth",
          "NYU",
          "Notre Dame",
          "Cornell",
          "Michigan",
          "Brown",
          "Berkeley",
          "Emory",
          "UCLA",
          "SoCal"
         ],
         "y": [
          58,
          55,
          53,
          49,
          47,
          40,
          37,
          36,
          35,
          33,
          31,
          30,
          27,
          27,
          27,
          22,
          20,
          17,
          14,
          14,
          9
         ]
        }
       ],
       "layout": {}
      },
      "text/html": [
       "<div id=\"76905592-e876-4081-ab1a-b057d6f67745\" style=\"height: 525px; width: 100%;\" class=\"plotly-graph-div\"></div><script type=\"text/javascript\">require([\"plotly\"], function(Plotly) { window.PLOTLYENV=window.PLOTLYENV || {};window.PLOTLYENV.BASE_URL=\"https://plot.ly\";Plotly.newPlot(\"76905592-e876-4081-ab1a-b057d6f67745\", [{\"marker\": {\"color\": \"#ffcdd2\"}, \"y\": [94, 96, 112, 92, 90, 78, 94, 76, 79, 86, 93, 84, 67, 73, 80, 62, 72, 71, 68, 64, 72], \"type\": \"bar\", \"name\": \"Women\", \"x\": [\"MIT\", \"Stanford\", \"Harvard\", \"U.Penn\", \"Princeton\", \"Chicago\", \"Georgetown\", \"Tufts\", \"Yale\", \"Columbia\", \"Duke\", \"Dartmouth\", \"NYU\", \"Notre Dame\", \"Cornell\", \"Michigan\", \"Brown\", \"Berkeley\", \"Emory\", \"UCLA\", \"SoCal\"]}, {\"marker\": {\"color\": \"#A2D5F2\"}, \"y\": [152, 151, 165, 141, 137, 118, 131, 112, 114, 119, 124, 114, 94, 100, 107, 84, 92, 88, 82, 78, 81], \"type\": \"bar\", \"name\": \"Men\", \"x\": [\"MIT\", \"Stanford\", \"Harvard\", \"U.Penn\", \"Princeton\", \"Chicago\", \"Georgetown\", \"Tufts\", \"Yale\", \"Columbia\", \"Duke\", \"Dartmouth\", \"NYU\", \"Notre Dame\", \"Cornell\", \"Michigan\", \"Brown\", \"Berkeley\", \"Emory\", \"UCLA\", \"SoCal\"]}, {\"marker\": {\"color\": \"#59606D\"}, \"y\": [58, 55, 53, 49, 47, 40, 37, 36, 35, 33, 31, 30, 27, 27, 27, 22, 20, 17, 14, 14, 9], \"type\": \"bar\", \"name\": \"Gap\", \"x\": [\"MIT\", \"Stanford\", \"Harvard\", \"U.Penn\", \"Princeton\", \"Chicago\", \"Georgetown\", \"Tufts\", \"Yale\", \"Columbia\", \"Duke\", \"Dartmouth\", \"NYU\", \"Notre Dame\", \"Cornell\", \"Michigan\", \"Brown\", \"Berkeley\", \"Emory\", \"UCLA\", \"SoCal\"]}], {}, {\"linkText\": \"Export to plot.ly\", \"showLink\": {\"title\": \"Average Earnings for Graduates\", \"xaxis\": {\"title\": \"School\"}, \"yaxis\": {\"title\": \"Salary (in thousands)\"}}})});</script>"
      ],
      "text/vnd.plotly.v1+html": [
       "<div id=\"76905592-e876-4081-ab1a-b057d6f67745\" style=\"height: 525px; width: 100%;\" class=\"plotly-graph-div\"></div><script type=\"text/javascript\">require([\"plotly\"], function(Plotly) { window.PLOTLYENV=window.PLOTLYENV || {};window.PLOTLYENV.BASE_URL=\"https://plot.ly\";Plotly.newPlot(\"76905592-e876-4081-ab1a-b057d6f67745\", [{\"marker\": {\"color\": \"#ffcdd2\"}, \"y\": [94, 96, 112, 92, 90, 78, 94, 76, 79, 86, 93, 84, 67, 73, 80, 62, 72, 71, 68, 64, 72], \"type\": \"bar\", \"name\": \"Women\", \"x\": [\"MIT\", \"Stanford\", \"Harvard\", \"U.Penn\", \"Princeton\", \"Chicago\", \"Georgetown\", \"Tufts\", \"Yale\", \"Columbia\", \"Duke\", \"Dartmouth\", \"NYU\", \"Notre Dame\", \"Cornell\", \"Michigan\", \"Brown\", \"Berkeley\", \"Emory\", \"UCLA\", \"SoCal\"]}, {\"marker\": {\"color\": \"#A2D5F2\"}, \"y\": [152, 151, 165, 141, 137, 118, 131, 112, 114, 119, 124, 114, 94, 100, 107, 84, 92, 88, 82, 78, 81], \"type\": \"bar\", \"name\": \"Men\", \"x\": [\"MIT\", \"Stanford\", \"Harvard\", \"U.Penn\", \"Princeton\", \"Chicago\", \"Georgetown\", \"Tufts\", \"Yale\", \"Columbia\", \"Duke\", \"Dartmouth\", \"NYU\", \"Notre Dame\", \"Cornell\", \"Michigan\", \"Brown\", \"Berkeley\", \"Emory\", \"UCLA\", \"SoCal\"]}, {\"marker\": {\"color\": \"#59606D\"}, \"y\": [58, 55, 53, 49, 47, 40, 37, 36, 35, 33, 31, 30, 27, 27, 27, 22, 20, 17, 14, 14, 9], \"type\": \"bar\", \"name\": \"Gap\", \"x\": [\"MIT\", \"Stanford\", \"Harvard\", \"U.Penn\", \"Princeton\", \"Chicago\", \"Georgetown\", \"Tufts\", \"Yale\", \"Columbia\", \"Duke\", \"Dartmouth\", \"NYU\", \"Notre Dame\", \"Cornell\", \"Michigan\", \"Brown\", \"Berkeley\", \"Emory\", \"UCLA\", \"SoCal\"]}], {}, {\"linkText\": \"Export to plot.ly\", \"showLink\": {\"title\": \"Average Earnings for Graduates\", \"xaxis\": {\"title\": \"School\"}, \"yaxis\": {\"title\": \"Salary (in thousands)\"}}})});</script>"
      ]
     },
     "metadata": {},
     "output_type": "display_data"
    }
   ],
   "source": [
    "from plotly.graph_objs import *  #testing\n",
    "\n",
    "trace_women = Bar(x=df.School,\n",
    "                  y=df.Women,\n",
    "                  name='Women',\n",
    "                  marker=dict(color='#ffcdd2'))\n",
    "\n",
    "trace_men = Bar(x=df.School,\n",
    "                y=df.Men,\n",
    "                name='Men',\n",
    "                marker=dict(color='#A2D5F2'))\n",
    "\n",
    "trace_gap = Bar(x=df.School,\n",
    "                y=df.Gap,\n",
    "                name='Gap',\n",
    "                marker=dict(color='#59606D'))\n",
    "\n",
    "data = [trace_women, trace_men, trace_gap]\n",
    "layout = Layout(title=\"Average Earnings for Graduates\",\n",
    "                xaxis=dict(title='School'),\n",
    "                yaxis=dict(title='Salary (in thousands)'))\n",
    "fig = Figure(data=data, layout=layout)\n",
    "\n",
    "#plotly.offline.iplot(fig, filename='jupyter/styled_bar')\n",
    "plotly.offline.iplot(data, layout)"
   ]
  },
  {
   "cell_type": "code",
   "execution_count": 17,
   "metadata": {},
   "outputs": [
    {
     "name": "stdout",
     "output_type": "stream",
     "text": [
      "run complete\n"
     ]
    }
   ],
   "source": [
    "#create Dataframe for all settlement-results, which will be calculated \n",
    "\n",
    "DF_all = pd.DataFrame()\n",
    "\n",
    "# import the DataFrame with calculated Results from GIS\n",
    "tv_df = pd.read_csv('Ostroehre.TunnelExcavationData.R2.csv',index_col=0)\n",
    "\n",
    "# calculate settlements at stationed points along tunnel alignment\n",
    "len_df = len(tv_df.index) - 1   #how many points are there -> length of loop\n",
    "for i in range(len_df): #start loop\n",
    "    a=array( [tv_df['Easting'][i], tv_df['Northing'][i], tv_df['Elevation'][i], tv_df['DTM'][i], tv_df['RockCover'][i]]) # read in the values which are needed for calculation of point i\n",
    "    a=asfarray(a,float)\n",
    "    b=array( [tv_df['Easting'][i+1], tv_df['Northing'][i+1], tv_df['Elevation'][i+1], tv_df['DTM'][i+1], tv_df['RockCover'][i+1]] ) # read in the values which are needed for calculation of point i+1\n",
    "    b=asfarray(b,float)    \n",
    "    z_0=a[3]-a[2]   #overburden in [m]\n",
    "    if z_0 < 4: #if the overburden is < 4, stop calculation (-> Tagbautunnel)\n",
    "        continue\n",
    "    #calculate normalvector for settlement\n",
    "    ab = array([ abs(b[0]-a[0]),abs(b[1]-a[1]) ])   #vector between point i and i+1\n",
    "    n1 = 1.0  \n",
    "    n2 =( ab[0]*n1) / (ab[1])\n",
    "    n_length = (n1**2 + n2**2)**0.5   #calculate length of normalvector\n",
    "    n0 = array([n1,n2]) / n_length     #normalvector with length 1.0\n",
    "    resolution = 2.0\n",
    "    x_dir = arange(-40,40,resolution) #vector for calculating settlements \n",
    "    \n",
    "    x = n0[0]*x_dir   #vector in GIS System\n",
    "    \n",
    "    xi = a[0]+n0[0]*x_dir   #x-coordinates of vector for GIS map\n",
    "    yi = a[1]+n0[1]*x_dir   #y-coordinates of vector for GIS map\n",
    "    \n",
    "    x_0 = array([xi,yi])     #x- and y- coordinates of vector \n",
    "    \n",
    "  \n",
    "    '''Calculate Greenfield-Settlements with Gauss Kurve'''\n",
    "    #Input Paraneter\n",
    "    D_t=13.0    #Tunneldiameter in [m]                                                       #mv to input above\n",
    "    K_g=0.5   #K_g [0.4-0.6] nach Fillibeck für nichtbindigen Boden, dicht gelagert\n",
    "    K_t=0.7   #K_t [0.5-0.9] nach Fillibeck für bindigen Boden, dicht gelagert\n",
    "    \n",
    "    if a[4] < 0.0 :                                                                          #a[4]: rockcover\n",
    "        i_0=K_g*z_0   #Wendepunktabstand für Tunnel im Lockergestein                         #z_0 : total cover\n",
    "    else:                                                                                    #elif a[4] > 0.0 :\n",
    "        i_0=K_t * a[4] + K_g*(z_0-a[4])   #Wendepunktabstand für Tunnel im Fels\n",
    "\n",
    "    A_t = ((D_t**2.0) * pi) / 4.0\n",
    "    V_l= 0.0064*(A_t/z_0)**(-0.75)  #nach Fillibeck,90%-Wahrscheinlichkeit, gilt für h/d>0.3\n",
    "\n",
    "    S= -((pi/2)**(0.5)) * (V_l*(D_t**2))/(4*i_0) *exp(-(x_dir**2)/(2*i_0**2))   #calculate Settlement trough with gaussian curve\n",
    "    beta=zeros((len(S)))    #creates vector for tangentenneigung\n",
    "    beta[1:]=(diff(S)/resolution)  #tangentenneigung der setzungen\n",
    "\n",
    "    \n",
    "    '''classifydamage classes'''\n",
    "    #classify beta into different damage classes\n",
    "    dc_beta=chararray((len(S)),itemsize=3)\n",
    "    dc_beta[abs(beta)<=(1./1000.)] = 'DC1'\n",
    "    dc_beta[((1./1000.)<abs(beta)) & (abs(beta)<(1./500.))] = 'DC2'\n",
    "    dc_beta[abs(beta)>=(1./500.)] = 'DC3'\n",
    "    \n",
    "    #classify settlements into different damage classes\n",
    "    dc_s=chararray((len(S)),itemsize=3)\n",
    "    dc_s[abs(S*1000.)<=5.] = 'DC1'\n",
    "    dc_s[(5< abs(S*1000.)) & (abs(S*1000.)<25.)] = 'DC2'\n",
    "    dc_s[abs(S*1000.)>=25.] = 'DC3'\n",
    "    \n",
    "    #classify settlements and beta into different damage classes\n",
    "    dc=chararray((len(S)),itemsize=3)\n",
    "    dc[ (abs(beta)<=1./500.) | (abs(S*1000)<=5.)] = 'DC1'\n",
    "    dc[ ((1./500.<abs(beta)) & (abs(beta)<1./250.)) | ((5<abs(S*1000)) & (abs(S*1000)<25.))] = 'DC2'\n",
    "    dc[ (abs(beta)>=1./250.) | (abs(S*1000)>=25.)] = 'DC3'\n",
    "    \n",
    "    '''data frame'''\n",
    "    #create dataframe including the calculated settlements etc. \n",
    "    D= {'A. Point Coordinates x':a[0],\n",
    "        'B. Point Coordinates y':a[1],\n",
    "        'C. Normal Vector x': x_0[0],\n",
    "        'D. Normal Vector y': x_0[1],\n",
    "        'E. Settlement [mm]': S*1000,\n",
    "        'F. Tangentenneigung': beta,\n",
    "        'G. DC_Beta': dc_beta,\n",
    "        'H. DC_Settlement': dc_s,\n",
    "        'I. DamageClass' : dc,\n",
    "        'J. z_0': z_0,}\n",
    "    \n",
    "    DF = pd.DataFrame(D)\n",
    "\n",
    "    #append the calculated values to the dataframe\n",
    "    DF_all=DF_all.append(DF)\n",
    "    \n",
    "#when loop is finished, safe dataframe to .csv\n",
    "DF_all.to_csv('Settlement.csv')\n",
    "print('run complete')"
   ]
  },
  {
   "cell_type": "code",
   "execution_count": 18,
   "metadata": {},
   "outputs": [
    {
     "name": "stdout",
     "output_type": "stream",
     "text": [
      "          Station      Easting     Northing  Elevation      DTM  RockSurface  \\\n",
      "0       204+874.1  2612071.548  1269294.122    270.962  253.524      236.000   \n",
      "1         204+876  2612072.991  1269295.359    270.989  253.612      236.000   \n",
      "2         204+879  2612075.303  1269297.270    271.033  253.160      236.000   \n",
      "3         204+882  2612077.657  1269299.129    271.076  253.160      235.815   \n",
      "4         204+885  2612080.052  1269300.936    271.120  252.934      235.815   \n",
      "5         204+888  2612082.487  1269302.689    271.163  252.934      235.815   \n",
      "6         204+891  2612084.959  1269304.388    271.207  252.934      235.815   \n",
      "7         204+894  2612087.469  1269306.031    271.250  252.574      235.815   \n",
      "8         204+897  2612090.014  1269307.619    271.294  252.013      235.815   \n",
      "9         204+900  2612092.594  1269309.150    271.337  252.013      235.707   \n",
      "10        204+903  2612095.208  1269310.623    271.381  251.805      235.707   \n",
      "11        204+906  2612097.853  1269312.038    271.424  251.805      235.707   \n",
      "12        204+909  2612100.529  1269313.394    271.468  251.631      235.707   \n",
      "13        204+912  2612103.234  1269314.690    271.511  251.631      235.707   \n",
      "14        204+915  2612105.968  1269315.927    271.555  251.149      235.707   \n",
      "15        204+918  2612108.728  1269317.102    271.598  251.149      235.707   \n",
      "16        204+921  2612111.513  1269318.216    271.642  251.157      235.707   \n",
      "17        204+924  2612114.323  1269319.268    271.685  251.157      236.000   \n",
      "18        204+927  2612117.155  1269320.257    271.729  250.696      236.000   \n",
      "19    204+927.637  2612117.759  1269320.459    271.738  250.696      236.000   \n",
      "20        204+930  2612120.008  1269321.183    271.771  250.666      236.000   \n",
      "21        204+933  2612122.881  1269322.046    271.811  250.666      236.000   \n",
      "22        204+936  2612125.773  1269322.845    271.847  250.637      236.000   \n",
      "23        204+939  2612128.682  1269323.580    271.879  250.637      236.000   \n",
      "24        204+942  2612131.606  1269324.250    271.909  250.638      236.000   \n",
      "25        204+945  2612134.544  1269324.855    271.935  250.638      235.707   \n",
      "26        204+948  2612137.495  1269325.395    271.958  248.991      235.707   \n",
      "27        204+951  2612140.457  1269325.869    271.978  249.589      235.707   \n",
      "28        204+954  2612143.429  1269326.277    271.994  249.589      235.707   \n",
      "29        204+957  2612146.409  1269326.620    272.007  250.456      235.707   \n",
      "...           ...          ...          ...        ...      ...          ...   \n",
      "1561      209+442  2614587.154  1266042.048    269.188  269.972      256.333   \n",
      "1562      209+445  2614586.161  1266039.217    269.172  270.033      256.333   \n",
      "1563      209+448  2614585.167  1266036.386    269.156  270.033      256.667   \n",
      "1564      209+451  2614584.174  1266033.556    269.140  269.901      256.500   \n",
      "1565      209+454  2614583.180  1266030.725    269.123  269.901      256.500   \n",
      "1566      209+457  2614582.187  1266027.894    269.106  270.015      256.500   \n",
      "1567      209+460  2614581.193  1266025.064    269.088  270.015      256.500   \n",
      "1568      209+463  2614580.200  1266022.233    269.070  269.917      256.500   \n",
      "1569      209+466  2614579.207  1266019.402    269.051  269.792      256.500   \n",
      "1570      209+469  2614578.213  1266016.571    269.033  269.792      256.500   \n",
      "1571      209+472  2614577.220  1266013.741    269.013  269.880      256.500   \n",
      "1572      209+475  2614576.226  1266010.910    268.994  269.880      256.000   \n",
      "1573      209+478  2614575.233  1266008.079    268.974  269.913      256.000   \n",
      "1574      209+481  2614574.239  1266005.248    268.953  269.760      256.000   \n",
      "1575      209+484  2614573.246  1266002.418    268.932  269.723      256.000   \n",
      "1576      209+487  2614572.252  1265999.587    268.911  269.706      256.000   \n",
      "1577      209+490  2614571.259  1265996.756    268.889  269.706      256.000   \n",
      "1578      209+493  2614570.266  1265993.925    268.867  269.768      256.000   \n",
      "1579      209+496  2614569.272  1265991.095    268.845  269.673      256.000   \n",
      "1580      209+499  2614568.279  1265988.264    268.822  269.608      256.000   \n",
      "1581      209+502  2614567.285  1265985.433    268.798  269.608      256.000   \n",
      "1582      209+505  2614566.292  1265982.602    268.775  269.615      256.000   \n",
      "1583      209+508  2614565.298  1265979.772    268.751  269.634      256.500   \n",
      "1584      209+511  2614564.305  1265976.941    268.726  269.582      256.500   \n",
      "1585      209+514  2614563.312  1265974.110    268.701  269.566      256.500   \n",
      "1586      209+517  2614562.318  1265971.280    268.676  269.566      256.000   \n",
      "1587      209+520  2614561.325  1265968.449    268.650  269.590      256.000   \n",
      "1588      209+523  2614560.331  1265965.618    268.624  269.590      256.000   \n",
      "1589      209+526  2614559.338  1265962.787    268.598  269.381      256.000   \n",
      "1590  209+528.128  2614558.633  1265960.779    268.579  269.381      256.000   \n",
      "\n",
      "      StationReal  RockCover WBScode WorkType       ...       ProfileType  \\\n",
      "0      204874.100    -34.962       1      NaN       ...               NaN   \n",
      "1      204876.000    -34.989       1      NaN       ...               NaN   \n",
      "2      204879.000    -35.033       1      NaN       ...               NaN   \n",
      "3      204882.000    -35.261       1      NaN       ...               NaN   \n",
      "4      204885.000    -35.305       1      NaN       ...               NaN   \n",
      "5      204888.000    -35.348       1      NaN       ...               NaN   \n",
      "6      204891.000    -35.392       1      NaN       ...               NaN   \n",
      "7      204894.000    -35.435       1      NaN       ...               NaN   \n",
      "8      204897.000    -35.479       1      NaN       ...               NaN   \n",
      "9      204900.000    -35.630       1      NaN       ...               NaN   \n",
      "10     204903.000    -35.674       1      NaN       ...               NaN   \n",
      "11     204906.000    -35.717       1      NaN       ...               NaN   \n",
      "12     204909.000    -35.761       1      NaN       ...               NaN   \n",
      "13     204912.000    -35.804       1      NaN       ...               NaN   \n",
      "14     204915.000    -35.848       1      NaN       ...               NaN   \n",
      "15     204918.000    -35.891       1      NaN       ...               NaN   \n",
      "16     204921.000    -35.935       1      NaN       ...               NaN   \n",
      "17     204924.000    -35.685       1      NaN       ...               NaN   \n",
      "18     204927.000    -35.729       1      NaN       ...               NaN   \n",
      "19     204927.637    -35.738       1      NaN       ...               NaN   \n",
      "20     204930.000    -35.771       1      NaN       ...               NaN   \n",
      "21     204933.000    -35.811       1      NaN       ...               NaN   \n",
      "22     204936.000    -35.847       1      NaN       ...               NaN   \n",
      "23     204939.000    -35.879       1      NaN       ...               NaN   \n",
      "24     204942.000    -35.909       1      NaN       ...               NaN   \n",
      "25     204945.000    -36.228       1      NaN       ...               NaN   \n",
      "26     204948.000    -36.251       1      NaN       ...               NaN   \n",
      "27     204951.000    -36.271       1      NaN       ...               NaN   \n",
      "28     204954.000    -36.287       1      NaN       ...               NaN   \n",
      "29     204957.000    -36.300       1      NaN       ...               NaN   \n",
      "...           ...        ...     ...      ...       ...               ...   \n",
      "1561   209442.000    -12.855       1      NaN       ...               NaN   \n",
      "1562   209445.000    -12.839       1      NaN       ...               NaN   \n",
      "1563   209448.000    -12.489       1      NaN       ...               NaN   \n",
      "1564   209451.000    -12.640       1      NaN       ...               NaN   \n",
      "1565   209454.000    -12.623       1      NaN       ...               NaN   \n",
      "1566   209457.000    -12.606       1      NaN       ...               NaN   \n",
      "1567   209460.000    -12.588       1      NaN       ...               NaN   \n",
      "1568   209463.000    -12.570       1      NaN       ...               NaN   \n",
      "1569   209466.000    -12.551       1      NaN       ...               NaN   \n",
      "1570   209469.000    -12.533       1      NaN       ...               NaN   \n",
      "1571   209472.000    -12.513       1      NaN       ...               NaN   \n",
      "1572   209475.000    -12.994       1      NaN       ...               NaN   \n",
      "1573   209478.000    -12.974       1      NaN       ...               NaN   \n",
      "1574   209481.000    -12.953       1      NaN       ...               NaN   \n",
      "1575   209484.000    -12.932       1      NaN       ...               NaN   \n",
      "1576   209487.000    -12.911       1      NaN       ...               NaN   \n",
      "1577   209490.000    -12.889       1      NaN       ...               NaN   \n",
      "1578   209493.000    -12.867       1      NaN       ...               NaN   \n",
      "1579   209496.000    -12.845       1      NaN       ...               NaN   \n",
      "1580   209499.000    -12.822       1      NaN       ...               NaN   \n",
      "1581   209502.000    -12.798       1      NaN       ...               NaN   \n",
      "1582   209505.000    -12.775       1      NaN       ...               NaN   \n",
      "1583   209508.000    -12.251       1      NaN       ...               NaN   \n",
      "1584   209511.000    -12.226       1      NaN       ...               NaN   \n",
      "1585   209514.000    -12.201       1      NaN       ...               NaN   \n",
      "1586   209517.000    -12.676       1      NaN       ...               NaN   \n",
      "1587   209520.000    -12.650       1      NaN       ...               NaN   \n",
      "1588   209523.000    -12.624       1      NaN       ...               NaN   \n",
      "1589   209526.000    -12.598       1      NaN       ...               NaN   \n",
      "1590   209528.128    -12.579       1      NaN       ...               NaN   \n",
      "\n",
      "     SectionArea  Description Unit BoreClass SupportClass DisposalClass  \\\n",
      "0            NaN      highway   m3       NaN          NaN           NaN   \n",
      "1            NaN      highway   m3       NaN          NaN           NaN   \n",
      "2            NaN      highway   m3       NaN          NaN           NaN   \n",
      "3            NaN      highway   m3       NaN          NaN           NaN   \n",
      "4            NaN      highway   m3       NaN          NaN           NaN   \n",
      "5            NaN      highway   m3       NaN          NaN           NaN   \n",
      "6            NaN      highway   m3       NaN          NaN           NaN   \n",
      "7            NaN      highway   m3       NaN          NaN           NaN   \n",
      "8            NaN      highway   m3       NaN          NaN           NaN   \n",
      "9            NaN      highway   m3       NaN          NaN           NaN   \n",
      "10           NaN      highway   m3       NaN          NaN           NaN   \n",
      "11           NaN      highway   m3       NaN          NaN           NaN   \n",
      "12           NaN      highway   m3       NaN          NaN           NaN   \n",
      "13           NaN      highway   m3       NaN          NaN           NaN   \n",
      "14           NaN      highway   m3       NaN          NaN           NaN   \n",
      "15           NaN      highway   m3       NaN          NaN           NaN   \n",
      "16           NaN      highway   m3       NaN          NaN           NaN   \n",
      "17           NaN      highway   m3       NaN          NaN           NaN   \n",
      "18           NaN      highway   m3       NaN          NaN           NaN   \n",
      "19           NaN      highway   m3       NaN          NaN           NaN   \n",
      "20           NaN      highway   m3       NaN          NaN           NaN   \n",
      "21           NaN      highway   m3       NaN          NaN           NaN   \n",
      "22           NaN      highway   m3       NaN          NaN           NaN   \n",
      "23           NaN      highway   m3       NaN          NaN           NaN   \n",
      "24           NaN      highway   m3       NaN          NaN           NaN   \n",
      "25           NaN      highway   m3       NaN          NaN           NaN   \n",
      "26           NaN      highway   m3       NaN          NaN           NaN   \n",
      "27           NaN      highway   m3       NaN          NaN           NaN   \n",
      "28           NaN      highway   m3       NaN          NaN           NaN   \n",
      "29           NaN      highway   m3       NaN          NaN           NaN   \n",
      "...          ...          ...  ...       ...          ...           ...   \n",
      "1561         NaN      highway   m3       NaN          NaN           NaN   \n",
      "1562         NaN      highway   m3       NaN          NaN           NaN   \n",
      "1563         NaN      highway   m3       NaN          NaN           NaN   \n",
      "1564         NaN      highway   m3       NaN          NaN           NaN   \n",
      "1565         NaN      highway   m3       NaN          NaN           NaN   \n",
      "1566         NaN      highway   m3       NaN          NaN           NaN   \n",
      "1567         NaN      highway   m3       NaN          NaN           NaN   \n",
      "1568         NaN      highway   m3       NaN          NaN           NaN   \n",
      "1569         NaN      highway   m3       NaN          NaN           NaN   \n",
      "1570         NaN      highway   m3       NaN          NaN           NaN   \n",
      "1571         NaN      highway   m3       NaN          NaN           NaN   \n",
      "1572         NaN      highway   m3       NaN          NaN           NaN   \n",
      "1573         NaN      highway   m3       NaN          NaN           NaN   \n",
      "1574         NaN      highway   m3       NaN          NaN           NaN   \n",
      "1575         NaN      highway   m3       NaN          NaN           NaN   \n",
      "1576         NaN      highway   m3       NaN          NaN           NaN   \n",
      "1577         NaN      highway   m3       NaN          NaN           NaN   \n",
      "1578         NaN      highway   m3       NaN          NaN           NaN   \n",
      "1579         NaN      highway   m3       NaN          NaN           NaN   \n",
      "1580         NaN      highway   m3       NaN          NaN           NaN   \n",
      "1581         NaN      highway   m3       NaN          NaN           NaN   \n",
      "1582         NaN      highway   m3       NaN          NaN           NaN   \n",
      "1583         NaN      highway   m3       NaN          NaN           NaN   \n",
      "1584         NaN      highway   m3       NaN          NaN           NaN   \n",
      "1585         NaN      highway   m3       NaN          NaN           NaN   \n",
      "1586         NaN      highway   m3       NaN          NaN           NaN   \n",
      "1587         NaN      highway   m3       NaN          NaN           NaN   \n",
      "1588         NaN      highway   m3       NaN          NaN           NaN   \n",
      "1589         NaN      highway   m3       NaN          NaN           NaN   \n",
      "1590         NaN      highway   m3       NaN          NaN           NaN   \n",
      "\n",
      "     StationInterval  ExcavationVolume  DisposalVolume  \n",
      "0           1.900828               NaN             NaN  \n",
      "1           2.999867               NaN             NaN  \n",
      "2           2.999841               NaN             NaN  \n",
      "3           3.000535               NaN             NaN  \n",
      "4           3.000680               NaN             NaN  \n",
      "5           2.999887               NaN             NaN  \n",
      "6           3.000233               NaN             NaN  \n",
      "7           3.000117               NaN             NaN  \n",
      "8           3.000368               NaN             NaN  \n",
      "9           3.000777               NaN             NaN  \n",
      "10          3.000016               NaN             NaN  \n",
      "11          3.000275               NaN             NaN  \n",
      "12          2.999748               NaN             NaN  \n",
      "13          3.001143               NaN             NaN  \n",
      "14          3.000012               NaN             NaN  \n",
      "15          2.999859               NaN             NaN  \n",
      "16          3.000775               NaN             NaN  \n",
      "17          3.000047               NaN             NaN  \n",
      "18          0.636947               NaN             NaN  \n",
      "19          2.362894               NaN             NaN  \n",
      "20          3.000083               NaN             NaN  \n",
      "21          3.000560               NaN             NaN  \n",
      "22          3.000588               NaN             NaN  \n",
      "23          2.999929               NaN             NaN  \n",
      "24          2.999757               NaN             NaN  \n",
      "25          3.000088               NaN             NaN  \n",
      "26          2.999753               NaN             NaN  \n",
      "27          2.999917               NaN             NaN  \n",
      "28          2.999703               NaN             NaN  \n",
      "29          3.000737               NaN             NaN  \n",
      "...              ...               ...             ...  \n",
      "1561        3.000144               NaN             NaN  \n",
      "1562        3.000475               NaN             NaN  \n",
      "1563        2.999201               NaN             NaN  \n",
      "1564        3.000481               NaN             NaN  \n",
      "1565        3.000150               NaN             NaN  \n",
      "1566        2.999543               NaN             NaN  \n",
      "1567        3.000156               NaN             NaN  \n",
      "1568        3.000162               NaN             NaN  \n",
      "1569        3.000487               NaN             NaN  \n",
      "1570        2.999225               NaN             NaN  \n",
      "1571        3.000493               NaN             NaN  \n",
      "1572        3.000168               NaN             NaN  \n",
      "1573        3.000506               NaN             NaN  \n",
      "1574        2.999232               NaN             NaN  \n",
      "1575        3.000506               NaN             NaN  \n",
      "1576        3.000182               NaN             NaN  \n",
      "1577        3.000182               NaN             NaN  \n",
      "1578        2.999570               NaN             NaN  \n",
      "1579        3.000190               NaN             NaN  \n",
      "1580        3.000529               NaN             NaN  \n",
      "1581        3.000190               NaN             NaN  \n",
      "1582        2.999585               NaN             NaN  \n",
      "1583        3.000206               NaN             NaN  \n",
      "1584        3.000206               NaN             NaN  \n",
      "1585        2.999593               NaN             NaN  \n",
      "1586        3.000214               NaN             NaN  \n",
      "1587        3.000545               NaN             NaN  \n",
      "1588        3.000214               NaN             NaN  \n",
      "1589        2.128250               NaN             NaN  \n",
      "1590             NaN               NaN             NaN  \n",
      "\n",
      "[1593 rows x 21 columns]\n"
     ]
    }
   ],
   "source": [
    "print(tv_df)"
   ]
  },
  {
   "cell_type": "code",
   "execution_count": 19,
   "metadata": {},
   "outputs": [
    {
     "name": "stdout",
     "output_type": "stream",
     "text": [
      "lost volume (m3): [ 0.26546436  0.53092871]\n",
      "inflection length (m): [ 10.4   5.2]\n",
      "max settlement (m): [ 0.01018155  0.04072621]\n",
      "settlement (m) at: 10.4m = [ 0.00617542  0.00551169]\n"
     ]
    }
   ],
   "source": [
    "# empirical calculation of settlement trough over tunnel (Gauss curve approach)\n",
    "#                                                                                          WBS: 'PM'\n",
    "#                                                                                          WBS: 'Feature'\n",
    "\n",
    "# inputs                                                                                   #ToDo: mv to input above    \n",
    "tunn_diam = 13.0  #tunnel diameter in m\n",
    "tunn_area = 3.14159*(tunn_diam/2)**2\n",
    "tunn_depth = 13.0  #distance between ground surface and tunnel centerline\n",
    "\n",
    "# empirical estimates of calculation parameters\n",
    "c_vol_loss = array([0.002, 0.004]) #empirical values for lost ground as fraction of excavation area\n",
    "c_infl_len = array([0.8, 0.4]) #empirical coeff's to estimate distance centerline to inflection point of gauss curve\n",
    "\n",
    "# statistical estimates of calculation parameters\n",
    "# placeholder\n",
    "\n",
    "# backcalculation estimates of calculation parameters\n",
    "# placeholder\n",
    "\n",
    "# calculate intermediate results\n",
    "vol_lost = lambda tunn_area, c_vol_loss: (\n",
    "    c_vol_loss*tunn_area)\n",
    "infl_len = lambda tunn_depth, c_infl_len: (\n",
    "    c_infl_len*tunn_depth) \n",
    "# calculte settlement at centerline\n",
    "setl_max = lambda vol_lost, infl_len: (\n",
    "    vol_lost / (sqrt(2*3.14259)*infl_len) )\n",
    "# calculate settlment at distance x along gauss curve\n",
    "setl = lambda x, setl_max, infl_len: (\n",
    "    setl_max * exp(- x**2 / (2*infl_len**2))) \n",
    "\n",
    "# results\n",
    "print('lost volume (m3): '+str(vol_lost(tunn_area, c_vol_loss)))\n",
    "print('inflection length (m): '+str(infl_len(tunn_depth, c_infl_len)))\n",
    "print('max settlement (m): '+str(setl_max(vol_lost(tunn_area, c_vol_loss), infl_len(tunn_depth, c_infl_len))))\n",
    "x=10.4\n",
    "print('settlement (m) at: '+str(x)+'m = '+str(\n",
    "        setl(x, setl_max(vol_lost(tunn_area, c_vol_loss), infl_len(tunn_depth, c_infl_len)),\n",
    "               infl_len(tunn_depth, c_infl_len))))\n",
    "\n",
    "#    beta=zeros((len(S)))    #creates vector for tangentenneigung\n",
    "#    beta[1:]=(diff(S)/resolution)  #tangentenneigung der setzungen"
   ]
  },
  {
   "cell_type": "code",
   "execution_count": 20,
   "metadata": {},
   "outputs": [
    {
     "name": "stdout",
     "output_type": "stream",
     "text": [
      "lost volume (m3): [ 0.26546458  0.53092916]\n",
      "inflection length (m): [ 10.4   5.2]\n",
      "max settlement (m): [ 0.01018318  0.04073271]\n",
      "settlement (m) at: 10.4m = [ 0.00617641  0.00551257]\n"
     ]
    },
    {
     "data": {
      "application/vnd.plotly.v1+json": {
       "data": [
        {
         "type": "scatter",
         "x": [
          -40,
          -38,
          -36,
          -34,
          -32,
          -30,
          -28,
          -26,
          -24,
          -22,
          -20,
          -18,
          -16,
          -14,
          -12,
          -10,
          -8,
          -6,
          -4,
          -2,
          0,
          2,
          4,
          6,
          8,
          10,
          12,
          14,
          16,
          18,
          20,
          22,
          24,
          26,
          28,
          30,
          32,
          34,
          36,
          38,
          40
         ],
         "y": [
          -6.2466333567708355e-06,
          -1.2848107212511743e-05,
          -2.546660788924181e-05,
          -4.8645409601024064e-05,
          -8.954708256987115e-05,
          -0.00015885461315791612,
          -0.0002715732783539159,
          -0.000447417587991638,
          -0.0007103589931116916,
          -0.0010868798249000762,
          -0.0016025957442423635,
          -0.00227722140049058,
          -0.0031183534689128174,
          -0.004115136447325565,
          -0.005233376162070265,
          -0.006413845251806351,
          -0.007575194992852746,
          -0.008621999018750848,
          -0.00945716432423331,
          -0.009996609211063745,
          -0.010183177365688441,
          -0.009996609211063745,
          -0.00945716432423331,
          -0.008621999018750848,
          -0.007575194992852746,
          -0.006413845251806351,
          -0.005233376162070265,
          -0.004115136447325565,
          -0.0031183534689128174,
          -0.00227722140049058,
          -0.0016025957442423635,
          -0.0010868798249000762,
          -0.0007103589931116916,
          -0.000447417587991638,
          -0.0002715732783539159,
          -0.00015885461315791612,
          -8.954708256987115e-05,
          -4.8645409601024064e-05,
          -2.546660788924181e-05,
          -1.2848107212511743e-05,
          -6.2466333567708355e-06,
          -6.2466333567708355e-06,
          -1.2848107212511743e-05,
          -2.546660788924181e-05,
          -4.8645409601024064e-05,
          -8.954708256987115e-05,
          -0.00015885461315791612,
          -0.0002715732783539159,
          -0.000447417587991638,
          -0.0007103589931116916,
          -0.0010868798249000762,
          -0.0016025957442423635,
          -0.00227722140049058,
          -0.0031183534689128174,
          -0.004115136447325565,
          -0.005233376162070265,
          -0.006413845251806351,
          -0.007575194992852746,
          -0.008621999018750848,
          -0.00945716432423331,
          -0.009996609211063745,
          -0.010183177365688441,
          -0.009996609211063745,
          -0.00945716432423331,
          -0.008621999018750848,
          -0.007575194992852746,
          -0.006413845251806351,
          -0.005233376162070265,
          -0.004115136447325565,
          -0.0031183534689128174,
          -0.00227722140049058,
          -0.0016025957442423635,
          -0.0010868798249000762,
          -0.0007103589931116916,
          -0.000447417587991638,
          -0.0002715732783539159,
          -0.00015885461315791612,
          -8.954708256987115e-05,
          -4.8645409601024064e-05,
          -2.546660788924181e-05,
          -1.2848107212511743e-05,
          -6.2466333567708355e-06,
          -6.2466333567708355e-06,
          -1.2848107212511743e-05,
          -2.546660788924181e-05,
          -4.8645409601024064e-05,
          -8.954708256987115e-05,
          -0.00015885461315791612,
          -0.0002715732783539159,
          -0.000447417587991638,
          -0.0007103589931116916,
          -0.0010868798249000762,
          -0.0016025957442423635,
          -0.00227722140049058,
          -0.0031183534689128174,
          -0.004115136447325565,
          -0.005233376162070265,
          -0.006413845251806351,
          -0.007575194992852746,
          -0.008621999018750848,
          -0.00945716432423331,
          -0.009996609211063745,
          -0.010183177365688441,
          -0.009996609211063745,
          -0.00945716432423331,
          -0.008621999018750848,
          -0.007575194992852746,
          -0.006413845251806351,
          -0.005233376162070265,
          -0.004115136447325565,
          -0.0031183534689128174,
          -0.00227722140049058,
          -0.0016025957442423635,
          -0.0010868798249000762,
          -0.0007103589931116916,
          -0.000447417587991638,
          -0.0002715732783539159,
          -0.00015885461315791612,
          -8.954708256987115e-05,
          -4.8645409601024064e-05,
          -2.546660788924181e-05,
          -1.2848107212511743e-05,
          -6.2466333567708355e-06
         ]
        },
        {
         "type": "scatter",
         "x": [
          -40,
          -38,
          -36,
          -34,
          -32,
          -30,
          -28,
          -26,
          -24,
          -22,
          -20,
          -18,
          -16,
          -14,
          -12,
          -10,
          -8,
          -6,
          -4,
          -2,
          0,
          2,
          4,
          6,
          8,
          10,
          12,
          14,
          16,
          18,
          20,
          22,
          24,
          26,
          28,
          30,
          32,
          34,
          36,
          38,
          40
         ],
         "y": [
          -5.767586687763408e-15,
          -1.0322067023396762e-13,
          -1.5932886882353458e-12,
          -2.121180007108691e-11,
          -2.4356553315734324e-10,
          -2.4121782214496938e-09,
          -2.060431623515337e-08,
          -1.5179668092673049e-07,
          -9.645430115194045e-07,
          -5.286109753134338e-06,
          -2.4986533427083342e-05,
          -0.00010186643155696724,
          -0.0003581883302794846,
          -0.0010862931134156637,
          -0.0028414359724467666,
          -0.006410382976969454,
          -0.01247341387565127,
          -0.02093350464828106,
          -0.030300779971410983,
          -0.03782865729693324,
          -0.040732709462753765,
          -0.03782865729693324,
          -0.030300779971410983,
          -0.02093350464828106,
          -0.01247341387565127,
          -0.006410382976969454,
          -0.0028414359724467666,
          -0.0010862931134156637,
          -0.0003581883302794846,
          -0.00010186643155696724,
          -2.4986533427083342e-05,
          -5.286109753134338e-06,
          -9.645430115194045e-07,
          -1.5179668092673049e-07,
          -2.060431623515337e-08,
          -2.4121782214496938e-09,
          -2.4356553315734324e-10,
          -2.121180007108691e-11,
          -1.5932886882353458e-12,
          -1.0322067023396762e-13,
          -5.767586687763408e-15,
          -5.767586687763408e-15,
          -1.0322067023396762e-13,
          -1.5932886882353458e-12,
          -2.121180007108691e-11,
          -2.4356553315734324e-10,
          -2.4121782214496938e-09,
          -2.060431623515337e-08,
          -1.5179668092673049e-07,
          -9.645430115194045e-07,
          -5.286109753134338e-06,
          -2.4986533427083342e-05,
          -0.00010186643155696724,
          -0.0003581883302794846,
          -0.0010862931134156637,
          -0.0028414359724467666,
          -0.006410382976969454,
          -0.01247341387565127,
          -0.02093350464828106,
          -0.030300779971410983,
          -0.03782865729693324,
          -0.040732709462753765,
          -0.03782865729693324,
          -0.030300779971410983,
          -0.02093350464828106,
          -0.01247341387565127,
          -0.006410382976969454,
          -0.0028414359724467666,
          -0.0010862931134156637,
          -0.0003581883302794846,
          -0.00010186643155696724,
          -2.4986533427083342e-05,
          -5.286109753134338e-06,
          -9.645430115194045e-07,
          -1.5179668092673049e-07,
          -2.060431623515337e-08,
          -2.4121782214496938e-09,
          -2.4356553315734324e-10,
          -2.121180007108691e-11,
          -1.5932886882353458e-12,
          -1.0322067023396762e-13,
          -5.767586687763408e-15,
          -5.767586687763408e-15,
          -1.0322067023396762e-13,
          -1.5932886882353458e-12,
          -2.121180007108691e-11,
          -2.4356553315734324e-10,
          -2.4121782214496938e-09,
          -2.060431623515337e-08,
          -1.5179668092673049e-07,
          -9.645430115194045e-07,
          -5.286109753134338e-06,
          -2.4986533427083342e-05,
          -0.00010186643155696724,
          -0.0003581883302794846,
          -0.0010862931134156637,
          -0.0028414359724467666,
          -0.006410382976969454,
          -0.01247341387565127,
          -0.02093350464828106,
          -0.030300779971410983,
          -0.03782865729693324,
          -0.040732709462753765,
          -0.03782865729693324,
          -0.030300779971410983,
          -0.02093350464828106,
          -0.01247341387565127,
          -0.006410382976969454,
          -0.0028414359724467666,
          -0.0010862931134156637,
          -0.0003581883302794846,
          -0.00010186643155696724,
          -2.4986533427083342e-05,
          -5.286109753134338e-06,
          -9.645430115194045e-07,
          -1.5179668092673049e-07,
          -2.060431623515337e-08,
          -2.4121782214496938e-09,
          -2.4356553315734324e-10,
          -2.121180007108691e-11,
          -1.5932886882353458e-12,
          -1.0322067023396762e-13,
          -5.767586687763408e-15
         ]
        }
       ],
       "layout": {}
      },
      "text/html": [
       "<div id=\"8596aed7-8671-422a-a378-b74f1aec1b12\" style=\"height: 525px; width: 100%;\" class=\"plotly-graph-div\"></div><script type=\"text/javascript\">require([\"plotly\"], function(Plotly) { window.PLOTLYENV=window.PLOTLYENV || {};window.PLOTLYENV.BASE_URL=\"https://plot.ly\";Plotly.newPlot(\"8596aed7-8671-422a-a378-b74f1aec1b12\", [{\"y\": [-6.2466333567708355e-06, -1.2848107212511743e-05, -2.546660788924181e-05, -4.8645409601024064e-05, -8.954708256987115e-05, -0.00015885461315791612, -0.0002715732783539159, -0.000447417587991638, -0.0007103589931116916, -0.0010868798249000762, -0.0016025957442423635, -0.00227722140049058, -0.0031183534689128174, -0.004115136447325565, -0.005233376162070265, -0.006413845251806351, -0.007575194992852746, -0.008621999018750848, -0.00945716432423331, -0.009996609211063745, -0.010183177365688441, -0.009996609211063745, -0.00945716432423331, -0.008621999018750848, -0.007575194992852746, -0.006413845251806351, -0.005233376162070265, -0.004115136447325565, -0.0031183534689128174, -0.00227722140049058, -0.0016025957442423635, -0.0010868798249000762, -0.0007103589931116916, -0.000447417587991638, -0.0002715732783539159, -0.00015885461315791612, -8.954708256987115e-05, -4.8645409601024064e-05, -2.546660788924181e-05, -1.2848107212511743e-05, -6.2466333567708355e-06, -6.2466333567708355e-06, -1.2848107212511743e-05, -2.546660788924181e-05, -4.8645409601024064e-05, -8.954708256987115e-05, -0.00015885461315791612, -0.0002715732783539159, -0.000447417587991638, -0.0007103589931116916, -0.0010868798249000762, -0.0016025957442423635, -0.00227722140049058, -0.0031183534689128174, -0.004115136447325565, -0.005233376162070265, -0.006413845251806351, -0.007575194992852746, -0.008621999018750848, -0.00945716432423331, -0.009996609211063745, -0.010183177365688441, -0.009996609211063745, -0.00945716432423331, -0.008621999018750848, -0.007575194992852746, -0.006413845251806351, -0.005233376162070265, -0.004115136447325565, -0.0031183534689128174, -0.00227722140049058, -0.0016025957442423635, -0.0010868798249000762, -0.0007103589931116916, -0.000447417587991638, -0.0002715732783539159, -0.00015885461315791612, -8.954708256987115e-05, -4.8645409601024064e-05, -2.546660788924181e-05, -1.2848107212511743e-05, -6.2466333567708355e-06, -6.2466333567708355e-06, -1.2848107212511743e-05, -2.546660788924181e-05, -4.8645409601024064e-05, -8.954708256987115e-05, -0.00015885461315791612, -0.0002715732783539159, -0.000447417587991638, -0.0007103589931116916, -0.0010868798249000762, -0.0016025957442423635, -0.00227722140049058, -0.0031183534689128174, -0.004115136447325565, -0.005233376162070265, -0.006413845251806351, -0.007575194992852746, -0.008621999018750848, -0.00945716432423331, -0.009996609211063745, -0.010183177365688441, -0.009996609211063745, -0.00945716432423331, -0.008621999018750848, -0.007575194992852746, -0.006413845251806351, -0.005233376162070265, -0.004115136447325565, -0.0031183534689128174, -0.00227722140049058, -0.0016025957442423635, -0.0010868798249000762, -0.0007103589931116916, -0.000447417587991638, -0.0002715732783539159, -0.00015885461315791612, -8.954708256987115e-05, -4.8645409601024064e-05, -2.546660788924181e-05, -1.2848107212511743e-05, -6.2466333567708355e-06], \"x\": [-40, -38, -36, -34, -32, -30, -28, -26, -24, -22, -20, -18, -16, -14, -12, -10, -8, -6, -4, -2, 0, 2, 4, 6, 8, 10, 12, 14, 16, 18, 20, 22, 24, 26, 28, 30, 32, 34, 36, 38, 40], \"type\": \"scatter\"}, {\"y\": [-5.767586687763408e-15, -1.0322067023396762e-13, -1.5932886882353458e-12, -2.121180007108691e-11, -2.4356553315734324e-10, -2.4121782214496938e-09, -2.060431623515337e-08, -1.5179668092673049e-07, -9.645430115194045e-07, -5.286109753134338e-06, -2.4986533427083342e-05, -0.00010186643155696724, -0.0003581883302794846, -0.0010862931134156637, -0.0028414359724467666, -0.006410382976969454, -0.01247341387565127, -0.02093350464828106, -0.030300779971410983, -0.03782865729693324, -0.040732709462753765, -0.03782865729693324, -0.030300779971410983, -0.02093350464828106, -0.01247341387565127, -0.006410382976969454, -0.0028414359724467666, -0.0010862931134156637, -0.0003581883302794846, -0.00010186643155696724, -2.4986533427083342e-05, -5.286109753134338e-06, -9.645430115194045e-07, -1.5179668092673049e-07, -2.060431623515337e-08, -2.4121782214496938e-09, -2.4356553315734324e-10, -2.121180007108691e-11, -1.5932886882353458e-12, -1.0322067023396762e-13, -5.767586687763408e-15, -5.767586687763408e-15, -1.0322067023396762e-13, -1.5932886882353458e-12, -2.121180007108691e-11, -2.4356553315734324e-10, -2.4121782214496938e-09, -2.060431623515337e-08, -1.5179668092673049e-07, -9.645430115194045e-07, -5.286109753134338e-06, -2.4986533427083342e-05, -0.00010186643155696724, -0.0003581883302794846, -0.0010862931134156637, -0.0028414359724467666, -0.006410382976969454, -0.01247341387565127, -0.02093350464828106, -0.030300779971410983, -0.03782865729693324, -0.040732709462753765, -0.03782865729693324, -0.030300779971410983, -0.02093350464828106, -0.01247341387565127, -0.006410382976969454, -0.0028414359724467666, -0.0010862931134156637, -0.0003581883302794846, -0.00010186643155696724, -2.4986533427083342e-05, -5.286109753134338e-06, -9.645430115194045e-07, -1.5179668092673049e-07, -2.060431623515337e-08, -2.4121782214496938e-09, -2.4356553315734324e-10, -2.121180007108691e-11, -1.5932886882353458e-12, -1.0322067023396762e-13, -5.767586687763408e-15, -5.767586687763408e-15, -1.0322067023396762e-13, -1.5932886882353458e-12, -2.121180007108691e-11, -2.4356553315734324e-10, -2.4121782214496938e-09, -2.060431623515337e-08, -1.5179668092673049e-07, -9.645430115194045e-07, -5.286109753134338e-06, -2.4986533427083342e-05, -0.00010186643155696724, -0.0003581883302794846, -0.0010862931134156637, -0.0028414359724467666, -0.006410382976969454, -0.01247341387565127, -0.02093350464828106, -0.030300779971410983, -0.03782865729693324, -0.040732709462753765, -0.03782865729693324, -0.030300779971410983, -0.02093350464828106, -0.01247341387565127, -0.006410382976969454, -0.0028414359724467666, -0.0010862931134156637, -0.0003581883302794846, -0.00010186643155696724, -2.4986533427083342e-05, -5.286109753134338e-06, -9.645430115194045e-07, -1.5179668092673049e-07, -2.060431623515337e-08, -2.4121782214496938e-09, -2.4356553315734324e-10, -2.121180007108691e-11, -1.5932886882353458e-12, -1.0322067023396762e-13, -5.767586687763408e-15], \"x\": [-40, -38, -36, -34, -32, -30, -28, -26, -24, -22, -20, -18, -16, -14, -12, -10, -8, -6, -4, -2, 0, 2, 4, 6, 8, 10, 12, 14, 16, 18, 20, 22, 24, 26, 28, 30, 32, 34, 36, 38, 40], \"type\": \"scatter\"}], {}, {\"linkText\": \"Export to plot.ly\", \"showLink\": true})});</script>"
      ],
      "text/vnd.plotly.v1+html": [
       "<div id=\"8596aed7-8671-422a-a378-b74f1aec1b12\" style=\"height: 525px; width: 100%;\" class=\"plotly-graph-div\"></div><script type=\"text/javascript\">require([\"plotly\"], function(Plotly) { window.PLOTLYENV=window.PLOTLYENV || {};window.PLOTLYENV.BASE_URL=\"https://plot.ly\";Plotly.newPlot(\"8596aed7-8671-422a-a378-b74f1aec1b12\", [{\"y\": [-6.2466333567708355e-06, -1.2848107212511743e-05, -2.546660788924181e-05, -4.8645409601024064e-05, -8.954708256987115e-05, -0.00015885461315791612, -0.0002715732783539159, -0.000447417587991638, -0.0007103589931116916, -0.0010868798249000762, -0.0016025957442423635, -0.00227722140049058, -0.0031183534689128174, -0.004115136447325565, -0.005233376162070265, -0.006413845251806351, -0.007575194992852746, -0.008621999018750848, -0.00945716432423331, -0.009996609211063745, -0.010183177365688441, -0.009996609211063745, -0.00945716432423331, -0.008621999018750848, -0.007575194992852746, -0.006413845251806351, -0.005233376162070265, -0.004115136447325565, -0.0031183534689128174, -0.00227722140049058, -0.0016025957442423635, -0.0010868798249000762, -0.0007103589931116916, -0.000447417587991638, -0.0002715732783539159, -0.00015885461315791612, -8.954708256987115e-05, -4.8645409601024064e-05, -2.546660788924181e-05, -1.2848107212511743e-05, -6.2466333567708355e-06, -6.2466333567708355e-06, -1.2848107212511743e-05, -2.546660788924181e-05, -4.8645409601024064e-05, -8.954708256987115e-05, -0.00015885461315791612, -0.0002715732783539159, -0.000447417587991638, -0.0007103589931116916, -0.0010868798249000762, -0.0016025957442423635, -0.00227722140049058, -0.0031183534689128174, -0.004115136447325565, -0.005233376162070265, -0.006413845251806351, -0.007575194992852746, -0.008621999018750848, -0.00945716432423331, -0.009996609211063745, -0.010183177365688441, -0.009996609211063745, -0.00945716432423331, -0.008621999018750848, -0.007575194992852746, -0.006413845251806351, -0.005233376162070265, -0.004115136447325565, -0.0031183534689128174, -0.00227722140049058, -0.0016025957442423635, -0.0010868798249000762, -0.0007103589931116916, -0.000447417587991638, -0.0002715732783539159, -0.00015885461315791612, -8.954708256987115e-05, -4.8645409601024064e-05, -2.546660788924181e-05, -1.2848107212511743e-05, -6.2466333567708355e-06, -6.2466333567708355e-06, -1.2848107212511743e-05, -2.546660788924181e-05, -4.8645409601024064e-05, -8.954708256987115e-05, -0.00015885461315791612, -0.0002715732783539159, -0.000447417587991638, -0.0007103589931116916, -0.0010868798249000762, -0.0016025957442423635, -0.00227722140049058, -0.0031183534689128174, -0.004115136447325565, -0.005233376162070265, -0.006413845251806351, -0.007575194992852746, -0.008621999018750848, -0.00945716432423331, -0.009996609211063745, -0.010183177365688441, -0.009996609211063745, -0.00945716432423331, -0.008621999018750848, -0.007575194992852746, -0.006413845251806351, -0.005233376162070265, -0.004115136447325565, -0.0031183534689128174, -0.00227722140049058, -0.0016025957442423635, -0.0010868798249000762, -0.0007103589931116916, -0.000447417587991638, -0.0002715732783539159, -0.00015885461315791612, -8.954708256987115e-05, -4.8645409601024064e-05, -2.546660788924181e-05, -1.2848107212511743e-05, -6.2466333567708355e-06], \"x\": [-40, -38, -36, -34, -32, -30, -28, -26, -24, -22, -20, -18, -16, -14, -12, -10, -8, -6, -4, -2, 0, 2, 4, 6, 8, 10, 12, 14, 16, 18, 20, 22, 24, 26, 28, 30, 32, 34, 36, 38, 40], \"type\": \"scatter\"}, {\"y\": [-5.767586687763408e-15, -1.0322067023396762e-13, -1.5932886882353458e-12, -2.121180007108691e-11, -2.4356553315734324e-10, -2.4121782214496938e-09, -2.060431623515337e-08, -1.5179668092673049e-07, -9.645430115194045e-07, -5.286109753134338e-06, -2.4986533427083342e-05, -0.00010186643155696724, -0.0003581883302794846, -0.0010862931134156637, -0.0028414359724467666, -0.006410382976969454, -0.01247341387565127, -0.02093350464828106, -0.030300779971410983, -0.03782865729693324, -0.040732709462753765, -0.03782865729693324, -0.030300779971410983, -0.02093350464828106, -0.01247341387565127, -0.006410382976969454, -0.0028414359724467666, -0.0010862931134156637, -0.0003581883302794846, -0.00010186643155696724, -2.4986533427083342e-05, -5.286109753134338e-06, -9.645430115194045e-07, -1.5179668092673049e-07, -2.060431623515337e-08, -2.4121782214496938e-09, -2.4356553315734324e-10, -2.121180007108691e-11, -1.5932886882353458e-12, -1.0322067023396762e-13, -5.767586687763408e-15, -5.767586687763408e-15, -1.0322067023396762e-13, -1.5932886882353458e-12, -2.121180007108691e-11, -2.4356553315734324e-10, -2.4121782214496938e-09, -2.060431623515337e-08, -1.5179668092673049e-07, -9.645430115194045e-07, -5.286109753134338e-06, -2.4986533427083342e-05, -0.00010186643155696724, -0.0003581883302794846, -0.0010862931134156637, -0.0028414359724467666, -0.006410382976969454, -0.01247341387565127, -0.02093350464828106, -0.030300779971410983, -0.03782865729693324, -0.040732709462753765, -0.03782865729693324, -0.030300779971410983, -0.02093350464828106, -0.01247341387565127, -0.006410382976969454, -0.0028414359724467666, -0.0010862931134156637, -0.0003581883302794846, -0.00010186643155696724, -2.4986533427083342e-05, -5.286109753134338e-06, -9.645430115194045e-07, -1.5179668092673049e-07, -2.060431623515337e-08, -2.4121782214496938e-09, -2.4356553315734324e-10, -2.121180007108691e-11, -1.5932886882353458e-12, -1.0322067023396762e-13, -5.767586687763408e-15, -5.767586687763408e-15, -1.0322067023396762e-13, -1.5932886882353458e-12, -2.121180007108691e-11, -2.4356553315734324e-10, -2.4121782214496938e-09, -2.060431623515337e-08, -1.5179668092673049e-07, -9.645430115194045e-07, -5.286109753134338e-06, -2.4986533427083342e-05, -0.00010186643155696724, -0.0003581883302794846, -0.0010862931134156637, -0.0028414359724467666, -0.006410382976969454, -0.01247341387565127, -0.02093350464828106, -0.030300779971410983, -0.03782865729693324, -0.040732709462753765, -0.03782865729693324, -0.030300779971410983, -0.02093350464828106, -0.01247341387565127, -0.006410382976969454, -0.0028414359724467666, -0.0010862931134156637, -0.0003581883302794846, -0.00010186643155696724, -2.4986533427083342e-05, -5.286109753134338e-06, -9.645430115194045e-07, -1.5179668092673049e-07, -2.060431623515337e-08, -2.4121782214496938e-09, -2.4356553315734324e-10, -2.121180007108691e-11, -1.5932886882353458e-12, -1.0322067023396762e-13, -5.767586687763408e-15], \"x\": [-40, -38, -36, -34, -32, -30, -28, -26, -24, -22, -20, -18, -16, -14, -12, -10, -8, -6, -4, -2, 0, 2, 4, 6, 8, 10, 12, 14, 16, 18, 20, 22, 24, 26, 28, 30, 32, 34, 36, 38, 40], \"type\": \"scatter\"}], {}, {\"linkText\": \"Export to plot.ly\", \"showLink\": true})});</script>"
      ]
     },
     "metadata": {},
     "output_type": "display_data"
    }
   ],
   "source": [
    "# empirical calculation of settlement trough over tunnel (Gauss curve approach)\n",
    "\n",
    "# inputs                                                                                   #ToDo: mv to input above    \n",
    "D = 13.0  #tunnel diameter in m\n",
    "A = pi*(tunn_diam/2)**2\n",
    "d = 13.0  #distance between ground surface and tunnel centerline\n",
    "\n",
    "# empirical estimates of calculation parameters\n",
    "c_v = array([0.002, 0.004]) #empirical values for lost ground as fraction of excavation area\n",
    "c_i = array([0.8, 0.4]) #empirical coeff's to estimate distance centerline to inflection point of gauss curve\n",
    "\n",
    "# statistical estimates of calculation parameters\n",
    "# placeholder\n",
    "\n",
    "# backcalculation estimates of calculation parameters\n",
    "# placeholder\n",
    "\n",
    "# calculate intermediate results\n",
    "vol_lost = lambda A, c_v: (A*c_v)                               #ToDo:replace 3 intermediate results with variables\n",
    "infl_len = lambda d, c_l: (d*c_i)\n",
    "# calculte settlement at centerline\n",
    "setl_max = lambda vol_lost, infl_len: (\n",
    "    vol_lost / (sqrt(2*pi)*infl_len) )\n",
    "# calculate settlment at distance x along gauss curve\n",
    "setl = lambda x, setl_max, infl_len: (\n",
    "    setl_max * exp(- x**2 / (2*infl_len**2))) \n",
    "\n",
    "# write results\n",
    "print('lost volume (m3): '+str(vol_lost(A, c_v)))\n",
    "print('inflection length (m): '+str(infl_len(d, c_i)))\n",
    "print('max settlement (m): '+str(setl_max(vol_lost(A, c_v), infl_len(d, c_i))))\n",
    "x = infl_len(d, c_i)[0]\n",
    "print('settlement (m) at: '+str(x)+'m = '+str(\n",
    "        setl(x, setl_max(vol_lost(A, c_v), infl_len(D, c_i)),\n",
    "               infl_len(D, c_i))))\n",
    "\n",
    "# plot results\n",
    "x = arange(-40,42,2)\n",
    "setl_rslt = []\n",
    "y_data1 = []\n",
    "y_data2 = []\n",
    "\n",
    "for i in x:\n",
    "    setl_rslt.append(setl(i, setl_max(vol_lost(A, c_v), infl_len(D, c_i)),\n",
    "               infl_len(D, c_i)))\n",
    "for i in setl_rslt:\n",
    "    y_data1.append(-i[0])\n",
    "    y_data2.append(-i[1])\n",
    "\n",
    "for i in x:\n",
    "    setl_rslt.append(setl(i, setl_max(vol_lost(A, c_v), infl_len(D, c_i)),\n",
    "               infl_len(D, c_i)))\n",
    "for i in setl_rslt:\n",
    "    y_data1.append(-i[0])\n",
    "    y_data2.append(-i[1])\n",
    "\n",
    "trace0 = go.Scatter(\n",
    "    x=x,\n",
    "    y=y_data1\n",
    ")\n",
    "trace1 = go.Scatter(\n",
    "    x=x,\n",
    "    y=y_data2\n",
    ")\n",
    "\n",
    "data1 = Data([trace0,trace1])\n",
    "plotly.offline.iplot(data1)"
   ]
  },
  {
   "cell_type": "code",
   "execution_count": 21,
   "metadata": {},
   "outputs": [
    {
     "ename": "TypeError",
     "evalue": "unsupported operand type(s) for /: 'function' and 'float'",
     "output_type": "error",
     "traceback": [
      "\u001b[0;31m\u001b[0m",
      "\u001b[0;31mTypeError\u001b[0mTraceback (most recent call last)",
      "\u001b[0;32m<ipython-input-21-e1523087a467>\u001b[0m in \u001b[0;36m<module>\u001b[0;34m()\u001b[0m\n\u001b[1;32m     22\u001b[0m \u001b[0minfl_len\u001b[0m \u001b[0;34m=\u001b[0m \u001b[0md\u001b[0m \u001b[0;34m*\u001b[0m \u001b[0mc_i\u001b[0m\u001b[0;34m\u001b[0m\u001b[0m\n\u001b[1;32m     23\u001b[0m \u001b[0;31m# calculte settlement at centerline\u001b[0m\u001b[0;34m\u001b[0m\u001b[0;34m\u001b[0m\u001b[0m\n\u001b[0;32m---> 24\u001b[0;31m \u001b[0msetl_max\u001b[0m \u001b[0;34m=\u001b[0m \u001b[0mvol_lost\u001b[0m \u001b[0;34m/\u001b[0m \u001b[0;34m(\u001b[0m\u001b[0msqrt\u001b[0m\u001b[0;34m(\u001b[0m\u001b[0;36m2\u001b[0m\u001b[0;34m*\u001b[0m\u001b[0mpi\u001b[0m\u001b[0;34m)\u001b[0m \u001b[0;34m*\u001b[0m \u001b[0minfl_len\u001b[0m\u001b[0;34m)\u001b[0m\u001b[0;34m\u001b[0m\u001b[0m\n\u001b[0m\u001b[1;32m     25\u001b[0m \u001b[0;31m# calculate settlment at distance x along gauss curve                          #ToDo: lambda or function preferred\u001b[0m\u001b[0;34m\u001b[0m\u001b[0;34m\u001b[0m\u001b[0m\n\u001b[1;32m     26\u001b[0m setl = lambda x, setl_max, infl_len: (\n",
      "\u001b[0;31mTypeError\u001b[0m: unsupported operand type(s) for /: 'function' and 'float'"
     ]
    }
   ],
   "source": [
    "# empirical calculation of settlement trough over tunnel (Gauss curve approach)\n",
    "#                                                                                          WBS: 'PM'\n",
    "#                                                                                          WBS: 'Feature'\n",
    "\n",
    "# inputs                                                                                   #ToDo: mv to input above    \n",
    "D = 13.0  #tunnel diameter in m\n",
    "A = pi*(tunn_diam/2)**2\n",
    "d = 13.0  #distance between ground surface and tunnel centerline\n",
    "\n",
    "# empirical estimates of calculation coefficients (they must have save number of items)\n",
    "c_v = array([0.002, 0.004]) #empirical values for lost ground as fraction of excavation area\n",
    "c_i = array([0.8, 0.4]) #empirical coeff's to estimate distance centerline to inflection point of gauss curve\n",
    "\n",
    "# statistical estimates of calculation parameterspi\n",
    "# placeholder\n",
    "\n",
    "# backcalculation estimates of calculation parameters\n",
    "# placeholder\n",
    "\n",
    "# calculate intermediate results (d assumed constant along cross-section)\n",
    "vol_loss = A * c_v\n",
    "infl_len = d * c_i\n",
    "# calculte settlement at centerline\n",
    "setl_max = vol_lost / (sqrt(2*pi) * infl_len)\n",
    "# calculate settlment at distance x along gauss curve                          #ToDo: lambda or function preferred\n",
    "setl = lambda x, setl_max, infl_len: (\n",
    "    setl_max * exp(- x**2 / (2*infl_len**2))) \n",
    "\n",
    "# write intermediate results\n",
    "print('lost volume (m3): '+str(vol_loss))\n",
    "print('inflection length (m): '+str(infl_len))\n",
    "print('max settlement (m): '+str(setl_max))\n",
    "#x=10.4  #for checking\n",
    "#print('settlement (m) at: '+str(x)+'m = '+str(\n",
    "#        setl(x, setl_max, infl_len)))\n",
    "\n",
    "# calculate settlment at x along cross-section\n",
    "x = arange(-40,41,1)\n",
    "setl_rslt = []\n",
    "\n",
    "for i in x:\n",
    "    setl_rslt.append(setl(i, setl_max, infl_len))\n",
    "\n",
    "# plot results\n",
    "nr_rslts = len(setl_rslt[0])\n",
    "y_data = [[] for n in range(nr_rslts)]\n",
    "trace = [[] for n in range(nr_rslts)]\n",
    "data = [[] for n in range(nr_rslts)]\n",
    "\n",
    "for n in range(nr_rslts):\n",
    "    for i in setl_rslt:\n",
    "        y_data[n].append(-i[n])\n",
    "    trace[n] = go.Scatter(\n",
    "        x=x,\n",
    "        y=y_data[n]\n",
    "    )\n",
    "\n",
    "data = Data(trace)\n",
    "plotly.offline.iplot(data)"
   ]
  },
  {
   "cell_type": "code",
   "execution_count": null,
   "metadata": {},
   "outputs": [],
   "source": [
    "# plotly examples\n",
    "\n",
    "trace0 = Scatter(\n",
    "    x=[1, 2, 3, 4],\n",
    "    y=[10, 15, 13, 17]\n",
    ")\n",
    "trace1 = Scatter(\n",
    "    x=[1, 2, 3, 4],\n",
    "    y=[16, 5, 11, 9]\n",
    ")\n",
    "data = Data([trace0, trace1])\n",
    "\n",
    "plotly.offline.iplot(data)"
   ]
  },
  {
   "cell_type": "code",
   "execution_count": null,
   "metadata": {},
   "outputs": [],
   "source": [
    "trace1 = go.Scatter(x=[1,2,3], y=[4,5,6], marker={'color': 'red', 'symbol': 104, 'size': \"10\"}, \n",
    "                    mode=\"markers+lines\",  text=[\"one\",\"two\",\"three\"], name='1st Trace')\n",
    "                                               \n",
    "data=go.Data([trace1])\n",
    "layout=go.Layout(title=\"First Plot\", xaxis={'title':'x1'}, yaxis={'title':'x2'})\n",
    "figure=go.Figure(data=data,layout=layout)\n",
    "plotly.offline.iplot(figure, filename='pyguide_1')"
   ]
  },
  {
   "cell_type": "code",
   "execution_count": null,
   "metadata": {},
   "outputs": [],
   "source": [
    "# Create random data with numpy\n",
    "import numpy as np\n",
    "\n",
    "N = 500\n",
    "random_x = np.linspace(0, 1, N)\n",
    "random_y = np.random.randn(N)\n",
    "\n",
    "# Create a trace\n",
    "trace = go.Scatter(\n",
    "    x = random_x,\n",
    "    y = random_y\n",
    ")\n",
    "\n",
    "data = [trace]\n",
    "\n",
    "plotly.offline.iplot(data, filename='basic-line')"
   ]
  },
  {
   "cell_type": "code",
   "execution_count": null,
   "metadata": {
    "collapsed": true
   },
   "outputs": [],
   "source": [
    "# plot results - plan view\n",
    "    #fig=plt.figure()\n",
    "    #p1 = plt.plot(x_dir, S*1000) \n",
    "        #plt.xticks(y_pos+width, objects)\n",
    "        #plt.ylim((0,110))\n",
    "    #p2 = plt.plot(x_dir, a[2])\n",
    "    #p2 = plt.plot(x_dir, a[3])\n",
    "    #p3 = plt.plot(x_dir, a[4])\n",
    "    #plt.ylabel('Settlement [mm]', **axis_font)\n",
    "    #plt.xlabel('Distance from tunnel axis [m]')\n",
    "    #plt.yticks( **axis_font)\n",
    "    #plt.xticks( **axis_font)\n",
    "    #titleA=('Greenfield-Settlements, Station ' +str(tv_df['Station'][i]))\n",
    "    #plt.title(titleA, **title_font)\n",
    "    #plt.legend()\n",
    "    #plt.show()\n",
    "    #fig.savefig('C:\\Users\\kzq653\\Documents\\geopython\\settlementtrough_bilder_test_xxx.png', dpi=300)"
   ]
  },
  {
   "cell_type": "code",
   "execution_count": null,
   "metadata": {},
   "outputs": [],
   "source": [
    "# plot results - cross-section\n",
    "\"\"\"\n",
    "    fig=plt.figure()\n",
    "    p1 = plt.plot(x_dir, S*1000) \n",
    "        #plt.xticks(y_pos+width, objects)\n",
    "        #plt.ylim((0,110))\n",
    "    p2 = plt.plot(x_dir, a[2])\n",
    "    p2 = plt.plot(x_dir, a[3])\n",
    "    p3 = plt.plot(x_dir, a[4])\n",
    "    plt.ylabel('Settlement [mm]', **axis_font)\n",
    "    plt.xlabel('Distance from tunnel axis [m]', **axis_font)\n",
    "    plt.yticks( **axis_font)\n",
    "    plt.xticks( **axis_font)\n",
    "    titleA=('Greenfield-Settlements, Station ' +str(a[5]))\n",
    "    plt.title(titleA, **title_font)\n",
    "    plt.legend()\n",
    "    plt.show()\n",
    "    fig.savefig('C:\\Users\\kzq653\\Documents\\geopython\\settlementtrough_bilder_test' + str(titleA) +'.png', dpi=300)\n",
    "\"\"\""
   ]
  },
  {
   "cell_type": "code",
   "execution_count": null,
   "metadata": {},
   "outputs": [],
   "source": [
    "help(ff.create_gantt)"
   ]
  },
  {
   "cell_type": "code",
   "execution_count": 22,
   "metadata": {},
   "outputs": [
    {
     "data": {
      "application/vnd.plotly.v1+json": {
       "data": [
        {
         "marker": {
          "color": "white"
         },
         "name": "",
         "type": "scatter",
         "x": [
          "2009-01-01",
          "2009-02-30"
         ],
         "y": [
          0,
          0
         ]
        },
        {
         "marker": {
          "color": "white"
         },
         "name": "",
         "type": "scatter",
         "x": [
          "2009-03-05",
          "2009-04-15"
         ],
         "y": [
          1,
          1
         ]
        },
        {
         "marker": {
          "color": "white"
         },
         "name": "",
         "type": "scatter",
         "x": [
          "2009-02-20",
          "2009-05-30"
         ],
         "y": [
          2,
          2
         ]
        }
       ],
       "layout": {
        "height": 600,
        "hovermode": "closest",
        "shapes": [
         {
          "fillcolor": "rgb(31, 119, 180)",
          "line": {
           "width": 0
          },
          "opacity": 1,
          "type": "rect",
          "x0": "2009-01-01",
          "x1": "2009-02-30",
          "xref": "x",
          "y0": -0.2,
          "y1": 0.2,
          "yref": "y"
         },
         {
          "fillcolor": "rgb(255, 127, 14)",
          "line": {
           "width": 0
          },
          "opacity": 1,
          "type": "rect",
          "x0": "2009-03-05",
          "x1": "2009-04-15",
          "xref": "x",
          "y0": 0.8,
          "y1": 1.2,
          "yref": "y"
         },
         {
          "fillcolor": "rgb(44, 160, 44)",
          "line": {
           "width": 0
          },
          "opacity": 1,
          "type": "rect",
          "x0": "2009-02-20",
          "x1": "2009-05-30",
          "xref": "x",
          "y0": 1.8,
          "y1": 2.2,
          "yref": "y"
         }
        ],
        "showlegend": false,
        "title": "Gantt Chart",
        "width": 900,
        "xaxis": {
         "rangeselector": {
          "buttons": [
           {
            "count": 7,
            "label": "1w",
            "step": "day",
            "stepmode": "backward"
           },
           {
            "count": 1,
            "label": "1m",
            "step": "month",
            "stepmode": "backward"
           },
           {
            "count": 6,
            "label": "6m",
            "step": "month",
            "stepmode": "backward"
           },
           {
            "count": 1,
            "label": "YTD",
            "step": "year",
            "stepmode": "todate"
           },
           {
            "count": 1,
            "label": "1y",
            "step": "year",
            "stepmode": "backward"
           },
           {
            "step": "all"
           }
          ]
         },
         "showgrid": false,
         "type": "date",
         "zeroline": false
        },
        "yaxis": {
         "autorange": false,
         "range": [
          -1,
          4
         ],
         "showgrid": false,
         "ticktext": [
          "Job A",
          "Job B",
          "Job C"
         ],
         "tickvals": [
          0,
          1,
          2
         ],
         "zeroline": false
        }
       }
      },
      "text/html": [
       "<div id=\"0a8250a8-474a-4831-9c9d-b986ad083ea4\" style=\"height: 600px; width: 900px;\" class=\"plotly-graph-div\"></div><script type=\"text/javascript\">require([\"plotly\"], function(Plotly) { window.PLOTLYENV=window.PLOTLYENV || {};window.PLOTLYENV.BASE_URL=\"https://plot.ly\";Plotly.newPlot(\"0a8250a8-474a-4831-9c9d-b986ad083ea4\", [{\"marker\": {\"color\": \"white\"}, \"y\": [0, 0], \"type\": \"scatter\", \"name\": \"\", \"x\": [\"2009-01-01\", \"2009-02-30\"]}, {\"marker\": {\"color\": \"white\"}, \"y\": [1, 1], \"type\": \"scatter\", \"name\": \"\", \"x\": [\"2009-03-05\", \"2009-04-15\"]}, {\"marker\": {\"color\": \"white\"}, \"y\": [2, 2], \"type\": \"scatter\", \"name\": \"\", \"x\": [\"2009-02-20\", \"2009-05-30\"]}], {\"showlegend\": false, \"title\": \"Gantt Chart\", \"yaxis\": {\"showgrid\": false, \"range\": [-1, 4], \"zeroline\": false, \"ticktext\": [\"Job A\", \"Job B\", \"Job C\"], \"autorange\": false, \"tickvals\": [0, 1, 2]}, \"height\": 600, \"shapes\": [{\"opacity\": 1, \"xref\": \"x\", \"yref\": \"y\", \"fillcolor\": \"rgb(31, 119, 180)\", \"y1\": 0.2, \"y0\": -0.2, \"x0\": \"2009-01-01\", \"x1\": \"2009-02-30\", \"type\": \"rect\", \"line\": {\"width\": 0}}, {\"opacity\": 1, \"xref\": \"x\", \"yref\": \"y\", \"fillcolor\": \"rgb(255, 127, 14)\", \"y1\": 1.2, \"y0\": 0.8, \"x0\": \"2009-03-05\", \"x1\": \"2009-04-15\", \"type\": \"rect\", \"line\": {\"width\": 0}}, {\"opacity\": 1, \"xref\": \"x\", \"yref\": \"y\", \"fillcolor\": \"rgb(44, 160, 44)\", \"y1\": 2.2, \"y0\": 1.8, \"x0\": \"2009-02-20\", \"x1\": \"2009-05-30\", \"type\": \"rect\", \"line\": {\"width\": 0}}], \"width\": 900, \"xaxis\": {\"zeroline\": false, \"rangeselector\": {\"buttons\": [{\"count\": 7, \"step\": \"day\", \"stepmode\": \"backward\", \"label\": \"1w\"}, {\"count\": 1, \"step\": \"month\", \"stepmode\": \"backward\", \"label\": \"1m\"}, {\"count\": 6, \"step\": \"month\", \"stepmode\": \"backward\", \"label\": \"6m\"}, {\"count\": 1, \"step\": \"year\", \"stepmode\": \"todate\", \"label\": \"YTD\"}, {\"count\": 1, \"step\": \"year\", \"stepmode\": \"backward\", \"label\": \"1y\"}, {\"step\": \"all\"}]}, \"type\": \"date\", \"showgrid\": false}, \"hovermode\": \"closest\"}, {\"linkText\": \"Export to plot.ly\", \"showLink\": true})});</script>"
      ],
      "text/vnd.plotly.v1+html": [
       "<div id=\"0a8250a8-474a-4831-9c9d-b986ad083ea4\" style=\"height: 600px; width: 900px;\" class=\"plotly-graph-div\"></div><script type=\"text/javascript\">require([\"plotly\"], function(Plotly) { window.PLOTLYENV=window.PLOTLYENV || {};window.PLOTLYENV.BASE_URL=\"https://plot.ly\";Plotly.newPlot(\"0a8250a8-474a-4831-9c9d-b986ad083ea4\", [{\"marker\": {\"color\": \"white\"}, \"y\": [0, 0], \"type\": \"scatter\", \"name\": \"\", \"x\": [\"2009-01-01\", \"2009-02-30\"]}, {\"marker\": {\"color\": \"white\"}, \"y\": [1, 1], \"type\": \"scatter\", \"name\": \"\", \"x\": [\"2009-03-05\", \"2009-04-15\"]}, {\"marker\": {\"color\": \"white\"}, \"y\": [2, 2], \"type\": \"scatter\", \"name\": \"\", \"x\": [\"2009-02-20\", \"2009-05-30\"]}], {\"showlegend\": false, \"title\": \"Gantt Chart\", \"yaxis\": {\"showgrid\": false, \"range\": [-1, 4], \"zeroline\": false, \"ticktext\": [\"Job A\", \"Job B\", \"Job C\"], \"autorange\": false, \"tickvals\": [0, 1, 2]}, \"height\": 600, \"shapes\": [{\"opacity\": 1, \"xref\": \"x\", \"yref\": \"y\", \"fillcolor\": \"rgb(31, 119, 180)\", \"y1\": 0.2, \"y0\": -0.2, \"x0\": \"2009-01-01\", \"x1\": \"2009-02-30\", \"type\": \"rect\", \"line\": {\"width\": 0}}, {\"opacity\": 1, \"xref\": \"x\", \"yref\": \"y\", \"fillcolor\": \"rgb(255, 127, 14)\", \"y1\": 1.2, \"y0\": 0.8, \"x0\": \"2009-03-05\", \"x1\": \"2009-04-15\", \"type\": \"rect\", \"line\": {\"width\": 0}}, {\"opacity\": 1, \"xref\": \"x\", \"yref\": \"y\", \"fillcolor\": \"rgb(44, 160, 44)\", \"y1\": 2.2, \"y0\": 1.8, \"x0\": \"2009-02-20\", \"x1\": \"2009-05-30\", \"type\": \"rect\", \"line\": {\"width\": 0}}], \"width\": 900, \"xaxis\": {\"zeroline\": false, \"rangeselector\": {\"buttons\": [{\"count\": 7, \"step\": \"day\", \"stepmode\": \"backward\", \"label\": \"1w\"}, {\"count\": 1, \"step\": \"month\", \"stepmode\": \"backward\", \"label\": \"1m\"}, {\"count\": 6, \"step\": \"month\", \"stepmode\": \"backward\", \"label\": \"6m\"}, {\"count\": 1, \"step\": \"year\", \"stepmode\": \"todate\", \"label\": \"YTD\"}, {\"count\": 1, \"step\": \"year\", \"stepmode\": \"backward\", \"label\": \"1y\"}, {\"step\": \"all\"}]}, \"type\": \"date\", \"showgrid\": false}, \"hovermode\": \"closest\"}, {\"linkText\": \"Export to plot.ly\", \"showLink\": true})});</script>"
      ]
     },
     "metadata": {},
     "output_type": "display_data"
    }
   ],
   "source": [
    "    import plotly.plotly as py\n",
    "    from plotly.figure_factory import create_gantt\n",
    "    \n",
    "    # Make data for chart\n",
    "    df = [dict(Task=\"Job A\", Start='2009-01-01', Finish='2009-02-30'),\n",
    "          dict(Task=\"Job B\", Start='2009-03-05', Finish='2009-04-15'),\n",
    "          dict(Task=\"Job C\", Start='2009-02-20', Finish='2009-05-30')]\n",
    "    \n",
    "    # Create a figure\n",
    "    fig = create_gantt(df)\n",
    "    \n",
    "    # Plot the data\n",
    "    plotly.offline.iplot(fig)"
   ]
  },
  {
   "cell_type": "code",
   "execution_count": 23,
   "metadata": {},
   "outputs": [
    {
     "data": {
      "application/vnd.plotly.v1+json": {
       "data": [
        {
         "marker": {
          "color": "rgba(246, 78, 139, 0.6)",
          "line": {
           "color": "rgba(246, 78, 139, 1.0)",
           "width": 3
          }
         },
         "name": "SF Zoo",
         "orientation": "h",
         "type": "bar",
         "x": [
          20,
          14,
          23
         ],
         "y": [
          "giraffes",
          "orangutans",
          "monkeys"
         ]
        },
        {
         "marker": {
          "color": "rgba(58, 71, 80, 0.6)",
          "line": {
           "color": "rgba(58, 71, 80, 1.0)",
           "width": 3
          }
         },
         "name": "LA Zoo",
         "orientation": "h",
         "type": "bar",
         "x": [
          12,
          18,
          29
         ],
         "y": [
          "giraffes",
          "orangutans",
          "monkeys"
         ]
        }
       ],
       "layout": {
        "barmode": "stack"
       }
      },
      "text/html": [
       "<div id=\"c02f410d-4f6a-49d3-b914-f639dc1fc80a\" style=\"height: 525px; width: 100%;\" class=\"plotly-graph-div\"></div><script type=\"text/javascript\">require([\"plotly\"], function(Plotly) { window.PLOTLYENV=window.PLOTLYENV || {};window.PLOTLYENV.BASE_URL=\"https://plot.ly\";Plotly.newPlot(\"c02f410d-4f6a-49d3-b914-f639dc1fc80a\", [{\"orientation\": \"h\", \"marker\": {\"color\": \"rgba(246, 78, 139, 0.6)\", \"line\": {\"color\": \"rgba(246, 78, 139, 1.0)\", \"width\": 3}}, \"y\": [\"giraffes\", \"orangutans\", \"monkeys\"], \"x\": [20, 14, 23], \"type\": \"bar\", \"name\": \"SF Zoo\"}, {\"orientation\": \"h\", \"marker\": {\"color\": \"rgba(58, 71, 80, 0.6)\", \"line\": {\"color\": \"rgba(58, 71, 80, 1.0)\", \"width\": 3}}, \"y\": [\"giraffes\", \"orangutans\", \"monkeys\"], \"x\": [12, 18, 29], \"type\": \"bar\", \"name\": \"LA Zoo\"}], {\"barmode\": \"stack\"}, {\"linkText\": \"Export to plot.ly\", \"showLink\": true})});</script>"
      ],
      "text/vnd.plotly.v1+html": [
       "<div id=\"c02f410d-4f6a-49d3-b914-f639dc1fc80a\" style=\"height: 525px; width: 100%;\" class=\"plotly-graph-div\"></div><script type=\"text/javascript\">require([\"plotly\"], function(Plotly) { window.PLOTLYENV=window.PLOTLYENV || {};window.PLOTLYENV.BASE_URL=\"https://plot.ly\";Plotly.newPlot(\"c02f410d-4f6a-49d3-b914-f639dc1fc80a\", [{\"orientation\": \"h\", \"marker\": {\"color\": \"rgba(246, 78, 139, 0.6)\", \"line\": {\"color\": \"rgba(246, 78, 139, 1.0)\", \"width\": 3}}, \"y\": [\"giraffes\", \"orangutans\", \"monkeys\"], \"x\": [20, 14, 23], \"type\": \"bar\", \"name\": \"SF Zoo\"}, {\"orientation\": \"h\", \"marker\": {\"color\": \"rgba(58, 71, 80, 0.6)\", \"line\": {\"color\": \"rgba(58, 71, 80, 1.0)\", \"width\": 3}}, \"y\": [\"giraffes\", \"orangutans\", \"monkeys\"], \"x\": [12, 18, 29], \"type\": \"bar\", \"name\": \"LA Zoo\"}], {\"barmode\": \"stack\"}, {\"linkText\": \"Export to plot.ly\", \"showLink\": true})});</script>"
      ]
     },
     "metadata": {},
     "output_type": "display_data"
    }
   ],
   "source": [
    "import plotly.plotly as py\n",
    "import plotly.graph_objs as go\n",
    "\n",
    "trace1 = go.Bar(\n",
    "    y=['giraffes', 'orangutans', 'monkeys'],\n",
    "    x=[20, 14, 23],\n",
    "    name='SF Zoo',\n",
    "    orientation = 'h',\n",
    "    marker = dict(\n",
    "        color = 'rgba(246, 78, 139, 0.6)',\n",
    "        line = dict(\n",
    "            color = 'rgba(246, 78, 139, 1.0)',\n",
    "            width = 3)\n",
    "    )\n",
    ")\n",
    "trace2 = go.Bar(\n",
    "    y=['giraffes', 'orangutans', 'monkeys'],\n",
    "    x=[12, 18, 29],\n",
    "    name='LA Zoo',\n",
    "    orientation = 'h',\n",
    "    marker = dict(\n",
    "        color = 'rgba(58, 71, 80, 0.6)',\n",
    "        line = dict(\n",
    "            color = 'rgba(58, 71, 80, 1.0)',\n",
    "            width = 3)\n",
    "    )\n",
    ")\n",
    "\n",
    "data = [trace1, trace2]\n",
    "layout = go.Layout(\n",
    "    barmode='stack'\n",
    ")\n",
    "\n",
    "fig = go.Figure(data=data, layout=layout)\n",
    "plotly.offline.iplot(fig, filename='marker-h-bar')"
   ]
  },
  {
   "cell_type": "code",
   "execution_count": 24,
   "metadata": {},
   "outputs": [
    {
     "data": {
      "application/vnd.plotly.v1+json": {
       "data": [
        {
         "marker": {
          "color": "rgba(38, 24, 74, 0.8)",
          "line": {
           "color": "rgb(248, 248, 249)",
           "width": 1
          }
         },
         "orientation": "h",
         "type": "bar",
         "x": [
          21
         ],
         "y": [
          "The course was effectively<br>organized"
         ]
        },
        {
         "marker": {
          "color": "rgba(38, 24, 74, 0.8)",
          "line": {
           "color": "rgb(248, 248, 249)",
           "width": 1
          }
         },
         "orientation": "h",
         "type": "bar",
         "x": [
          24
         ],
         "y": [
          "The course developed my<br>abilities and skills for<br>the subject"
         ]
        },
        {
         "marker": {
          "color": "rgba(38, 24, 74, 0.8)",
          "line": {
           "color": "rgb(248, 248, 249)",
           "width": 1
          }
         },
         "orientation": "h",
         "type": "bar",
         "x": [
          27
         ],
         "y": [
          "The course developed my<br>ability to think critically about<br>the subject"
         ]
        },
        {
         "marker": {
          "color": "rgba(38, 24, 74, 0.8)",
          "line": {
           "color": "rgb(248, 248, 249)",
           "width": 1
          }
         },
         "orientation": "h",
         "type": "bar",
         "x": [
          29
         ],
         "y": [
          "I would recommend this<br>course to a friend"
         ]
        },
        {
         "marker": {
          "color": "rgba(71, 58, 131, 0.8)",
          "line": {
           "color": "rgb(248, 248, 249)",
           "width": 1
          }
         },
         "orientation": "h",
         "type": "bar",
         "x": [
          30
         ],
         "y": [
          "The course was effectively<br>organized"
         ]
        },
        {
         "marker": {
          "color": "rgba(71, 58, 131, 0.8)",
          "line": {
           "color": "rgb(248, 248, 249)",
           "width": 1
          }
         },
         "orientation": "h",
         "type": "bar",
         "x": [
          31
         ],
         "y": [
          "The course developed my<br>abilities and skills for<br>the subject"
         ]
        },
        {
         "marker": {
          "color": "rgba(71, 58, 131, 0.8)",
          "line": {
           "color": "rgb(248, 248, 249)",
           "width": 1
          }
         },
         "orientation": "h",
         "type": "bar",
         "x": [
          26
         ],
         "y": [
          "The course developed my<br>ability to think critically about<br>the subject"
         ]
        },
        {
         "marker": {
          "color": "rgba(71, 58, 131, 0.8)",
          "line": {
           "color": "rgb(248, 248, 249)",
           "width": 1
          }
         },
         "orientation": "h",
         "type": "bar",
         "x": [
          24
         ],
         "y": [
          "I would recommend this<br>course to a friend"
         ]
        },
        {
         "marker": {
          "color": "rgba(122, 120, 168, 0.8)",
          "line": {
           "color": "rgb(248, 248, 249)",
           "width": 1
          }
         },
         "orientation": "h",
         "type": "bar",
         "x": [
          21
         ],
         "y": [
          "The course was effectively<br>organized"
         ]
        },
        {
         "marker": {
          "color": "rgba(122, 120, 168, 0.8)",
          "line": {
           "color": "rgb(248, 248, 249)",
           "width": 1
          }
         },
         "orientation": "h",
         "type": "bar",
         "x": [
          19
         ],
         "y": [
          "The course developed my<br>abilities and skills for<br>the subject"
         ]
        },
        {
         "marker": {
          "color": "rgba(122, 120, 168, 0.8)",
          "line": {
           "color": "rgb(248, 248, 249)",
           "width": 1
          }
         },
         "orientation": "h",
         "type": "bar",
         "x": [
          23
         ],
         "y": [
          "The course developed my<br>ability to think critically about<br>the subject"
         ]
        },
        {
         "marker": {
          "color": "rgba(122, 120, 168, 0.8)",
          "line": {
           "color": "rgb(248, 248, 249)",
           "width": 1
          }
         },
         "orientation": "h",
         "type": "bar",
         "x": [
          15
         ],
         "y": [
          "I would recommend this<br>course to a friend"
         ]
        },
        {
         "marker": {
          "color": "rgba(164, 163, 204, 0.85)",
          "line": {
           "color": "rgb(248, 248, 249)",
           "width": 1
          }
         },
         "orientation": "h",
         "type": "bar",
         "x": [
          16
         ],
         "y": [
          "The course was effectively<br>organized"
         ]
        },
        {
         "marker": {
          "color": "rgba(164, 163, 204, 0.85)",
          "line": {
           "color": "rgb(248, 248, 249)",
           "width": 1
          }
         },
         "orientation": "h",
         "type": "bar",
         "x": [
          15
         ],
         "y": [
          "The course developed my<br>abilities and skills for<br>the subject"
         ]
        },
        {
         "marker": {
          "color": "rgba(164, 163, 204, 0.85)",
          "line": {
           "color": "rgb(248, 248, 249)",
           "width": 1
          }
         },
         "orientation": "h",
         "type": "bar",
         "x": [
          11
         ],
         "y": [
          "The course developed my<br>ability to think critically about<br>the subject"
         ]
        },
        {
         "marker": {
          "color": "rgba(164, 163, 204, 0.85)",
          "line": {
           "color": "rgb(248, 248, 249)",
           "width": 1
          }
         },
         "orientation": "h",
         "type": "bar",
         "x": [
          18
         ],
         "y": [
          "I would recommend this<br>course to a friend"
         ]
        },
        {
         "marker": {
          "color": "rgba(190, 192, 213, 1)",
          "line": {
           "color": "rgb(248, 248, 249)",
           "width": 1
          }
         },
         "orientation": "h",
         "type": "bar",
         "x": [
          12
         ],
         "y": [
          "The course was effectively<br>organized"
         ]
        },
        {
         "marker": {
          "color": "rgba(190, 192, 213, 1)",
          "line": {
           "color": "rgb(248, 248, 249)",
           "width": 1
          }
         },
         "orientation": "h",
         "type": "bar",
         "x": [
          11
         ],
         "y": [
          "The course developed my<br>abilities and skills for<br>the subject"
         ]
        },
        {
         "marker": {
          "color": "rgba(190, 192, 213, 1)",
          "line": {
           "color": "rgb(248, 248, 249)",
           "width": 1
          }
         },
         "orientation": "h",
         "type": "bar",
         "x": [
          13
         ],
         "y": [
          "The course developed my<br>ability to think critically about<br>the subject"
         ]
        },
        {
         "marker": {
          "color": "rgba(190, 192, 213, 1)",
          "line": {
           "color": "rgb(248, 248, 249)",
           "width": 1
          }
         },
         "orientation": "h",
         "type": "bar",
         "x": [
          14
         ],
         "y": [
          "I would recommend this<br>course to a friend"
         ]
        }
       ],
       "layout": {
        "annotations": [
         {
          "align": "right",
          "font": {
           "color": "rgb(67, 67, 67)",
           "family": "Arial",
           "size": 14
          },
          "showarrow": false,
          "text": "The course was effectively<br>organized",
          "x": 0.14,
          "xanchor": "right",
          "xref": "paper",
          "y": "The course was effectively<br>organized",
          "yref": "y"
         },
         {
          "font": {
           "color": "rgb(248, 248, 255)",
           "family": "Arial",
           "size": 14
          },
          "showarrow": false,
          "text": "21%",
          "x": 10,
          "xref": "x",
          "y": "The course was effectively<br>organized",
          "yref": "y"
         },
         {
          "font": {
           "color": "rgb(248, 248, 255)",
           "family": "Arial",
           "size": 14
          },
          "showarrow": false,
          "text": "30%",
          "x": 36,
          "xref": "x",
          "y": "The course was effectively<br>organized",
          "yref": "y"
         },
         {
          "font": {
           "color": "rgb(248, 248, 255)",
           "family": "Arial",
           "size": 14
          },
          "showarrow": false,
          "text": "21%",
          "x": 61,
          "xref": "x",
          "y": "The course was effectively<br>organized",
          "yref": "y"
         },
         {
          "font": {
           "color": "rgb(248, 248, 255)",
           "family": "Arial",
           "size": 14
          },
          "showarrow": false,
          "text": "16%",
          "x": 80,
          "xref": "x",
          "y": "The course was effectively<br>organized",
          "yref": "y"
         },
         {
          "font": {
           "color": "rgb(248, 248, 255)",
           "family": "Arial",
           "size": 14
          },
          "showarrow": false,
          "text": "12%",
          "x": 94,
          "xref": "x",
          "y": "The course was effectively<br>organized",
          "yref": "y"
         },
         {
          "align": "right",
          "font": {
           "color": "rgb(67, 67, 67)",
           "family": "Arial",
           "size": 14
          },
          "showarrow": false,
          "text": "The course developed my<br>abilities and skills for<br>the subject",
          "x": 0.14,
          "xanchor": "right",
          "xref": "paper",
          "y": "The course developed my<br>abilities and skills for<br>the subject",
          "yref": "y"
         },
         {
          "font": {
           "color": "rgb(248, 248, 255)",
           "family": "Arial",
           "size": 14
          },
          "showarrow": false,
          "text": "24%",
          "x": 12,
          "xref": "x",
          "y": "The course developed my<br>abilities and skills for<br>the subject",
          "yref": "y"
         },
         {
          "font": {
           "color": "rgb(248, 248, 255)",
           "family": "Arial",
           "size": 14
          },
          "showarrow": false,
          "text": "31%",
          "x": 39,
          "xref": "x",
          "y": "The course developed my<br>abilities and skills for<br>the subject",
          "yref": "y"
         },
         {
          "font": {
           "color": "rgb(248, 248, 255)",
           "family": "Arial",
           "size": 14
          },
          "showarrow": false,
          "text": "19%",
          "x": 64,
          "xref": "x",
          "y": "The course developed my<br>abilities and skills for<br>the subject",
          "yref": "y"
         },
         {
          "font": {
           "color": "rgb(248, 248, 255)",
           "family": "Arial",
           "size": 14
          },
          "showarrow": false,
          "text": "15%",
          "x": 81,
          "xref": "x",
          "y": "The course developed my<br>abilities and skills for<br>the subject",
          "yref": "y"
         },
         {
          "font": {
           "color": "rgb(248, 248, 255)",
           "family": "Arial",
           "size": 14
          },
          "showarrow": false,
          "text": "11%",
          "x": 94,
          "xref": "x",
          "y": "The course developed my<br>abilities and skills for<br>the subject",
          "yref": "y"
         },
         {
          "align": "right",
          "font": {
           "color": "rgb(67, 67, 67)",
           "family": "Arial",
           "size": 14
          },
          "showarrow": false,
          "text": "The course developed my<br>ability to think critically about<br>the subject",
          "x": 0.14,
          "xanchor": "right",
          "xref": "paper",
          "y": "The course developed my<br>ability to think critically about<br>the subject",
          "yref": "y"
         },
         {
          "font": {
           "color": "rgb(248, 248, 255)",
           "family": "Arial",
           "size": 14
          },
          "showarrow": false,
          "text": "27%",
          "x": 13,
          "xref": "x",
          "y": "The course developed my<br>ability to think critically about<br>the subject",
          "yref": "y"
         },
         {
          "font": {
           "color": "rgb(248, 248, 255)",
           "family": "Arial",
           "size": 14
          },
          "showarrow": false,
          "text": "26%",
          "x": 40,
          "xref": "x",
          "y": "The course developed my<br>ability to think critically about<br>the subject",
          "yref": "y"
         },
         {
          "font": {
           "color": "rgb(248, 248, 255)",
           "family": "Arial",
           "size": 14
          },
          "showarrow": false,
          "text": "23%",
          "x": 64,
          "xref": "x",
          "y": "The course developed my<br>ability to think critically about<br>the subject",
          "yref": "y"
         },
         {
          "font": {
           "color": "rgb(248, 248, 255)",
           "family": "Arial",
           "size": 14
          },
          "showarrow": false,
          "text": "11%",
          "x": 81,
          "xref": "x",
          "y": "The course developed my<br>ability to think critically about<br>the subject",
          "yref": "y"
         },
         {
          "font": {
           "color": "rgb(248, 248, 255)",
           "family": "Arial",
           "size": 14
          },
          "showarrow": false,
          "text": "13%",
          "x": 93,
          "xref": "x",
          "y": "The course developed my<br>ability to think critically about<br>the subject",
          "yref": "y"
         },
         {
          "align": "right",
          "font": {
           "color": "rgb(67, 67, 67)",
           "family": "Arial",
           "size": 14
          },
          "showarrow": false,
          "text": "I would recommend this<br>course to a friend",
          "x": 0.14,
          "xanchor": "right",
          "xref": "paper",
          "y": "I would recommend this<br>course to a friend",
          "yref": "y"
         },
         {
          "font": {
           "color": "rgb(248, 248, 255)",
           "family": "Arial",
           "size": 14
          },
          "showarrow": false,
          "text": "29%",
          "x": 14,
          "xref": "x",
          "y": "I would recommend this<br>course to a friend",
          "yref": "y"
         },
         {
          "font": {
           "color": "rgb(67, 67, 67)",
           "family": "Arial",
           "size": 14
          },
          "showarrow": false,
          "text": "Strongly<br>agree",
          "x": 14,
          "xref": "x",
          "y": 1.1,
          "yref": "paper"
         },
         {
          "font": {
           "color": "rgb(248, 248, 255)",
           "family": "Arial",
           "size": 14
          },
          "showarrow": false,
          "text": "24%",
          "x": 41,
          "xref": "x",
          "y": "I would recommend this<br>course to a friend",
          "yref": "y"
         },
         {
          "font": {
           "color": "rgb(67, 67, 67)",
           "family": "Arial",
           "size": 14
          },
          "showarrow": false,
          "text": "Agree",
          "x": 41,
          "xref": "x",
          "y": 1.1,
          "yref": "paper"
         },
         {
          "font": {
           "color": "rgb(248, 248, 255)",
           "family": "Arial",
           "size": 14
          },
          "showarrow": false,
          "text": "15%",
          "x": 60,
          "xref": "x",
          "y": "I would recommend this<br>course to a friend",
          "yref": "y"
         },
         {
          "font": {
           "color": "rgb(67, 67, 67)",
           "family": "Arial",
           "size": 14
          },
          "showarrow": false,
          "text": "Neutral",
          "x": 60,
          "xref": "x",
          "y": 1.1,
          "yref": "paper"
         },
         {
          "font": {
           "color": "rgb(248, 248, 255)",
           "family": "Arial",
           "size": 14
          },
          "showarrow": false,
          "text": "18%",
          "x": 77,
          "xref": "x",
          "y": "I would recommend this<br>course to a friend",
          "yref": "y"
         },
         {
          "font": {
           "color": "rgb(67, 67, 67)",
           "family": "Arial",
           "size": 14
          },
          "showarrow": false,
          "text": "Disagree",
          "x": 77,
          "xref": "x",
          "y": 1.1,
          "yref": "paper"
         },
         {
          "font": {
           "color": "rgb(248, 248, 255)",
           "family": "Arial",
           "size": 14
          },
          "showarrow": false,
          "text": "14%",
          "x": 93,
          "xref": "x",
          "y": "I would recommend this<br>course to a friend",
          "yref": "y"
         },
         {
          "font": {
           "color": "rgb(67, 67, 67)",
           "family": "Arial",
           "size": 14
          },
          "showarrow": false,
          "text": "Strongly<br>disagree",
          "x": 93,
          "xref": "x",
          "y": 1.1,
          "yref": "paper"
         }
        ],
        "barmode": "stack",
        "margin": {
         "b": 80,
         "l": 120,
         "r": 10,
         "t": 140
        },
        "paper_bgcolor": "rgb(248, 248, 255)",
        "plot_bgcolor": "rgb(248, 248, 255)",
        "showlegend": false,
        "xaxis": {
         "domain": [
          0.15,
          1
         ],
         "showgrid": false,
         "showline": false,
         "showticklabels": false,
         "zeroline": false
        },
        "yaxis": {
         "showgrid": false,
         "showline": false,
         "showticklabels": false,
         "zeroline": false
        }
       }
      },
      "text/html": [
       "<div id=\"79ed65f8-ef51-482b-9b6b-d5a228b462b9\" style=\"height: 525px; width: 100%;\" class=\"plotly-graph-div\"></div><script type=\"text/javascript\">require([\"plotly\"], function(Plotly) { window.PLOTLYENV=window.PLOTLYENV || {};window.PLOTLYENV.BASE_URL=\"https://plot.ly\";Plotly.newPlot(\"79ed65f8-ef51-482b-9b6b-d5a228b462b9\", [{\"marker\": {\"color\": \"rgba(38, 24, 74, 0.8)\", \"line\": {\"color\": \"rgb(248, 248, 249)\", \"width\": 1}}, \"y\": [\"The course was effectively<br>organized\"], \"type\": \"bar\", \"orientation\": \"h\", \"x\": [21]}, {\"marker\": {\"color\": \"rgba(38, 24, 74, 0.8)\", \"line\": {\"color\": \"rgb(248, 248, 249)\", \"width\": 1}}, \"y\": [\"The course developed my<br>abilities and skills for<br>the subject\"], \"type\": \"bar\", \"orientation\": \"h\", \"x\": [24]}, {\"marker\": {\"color\": \"rgba(38, 24, 74, 0.8)\", \"line\": {\"color\": \"rgb(248, 248, 249)\", \"width\": 1}}, \"y\": [\"The course developed my<br>ability to think critically about<br>the subject\"], \"type\": \"bar\", \"orientation\": \"h\", \"x\": [27]}, {\"marker\": {\"color\": \"rgba(38, 24, 74, 0.8)\", \"line\": {\"color\": \"rgb(248, 248, 249)\", \"width\": 1}}, \"y\": [\"I would recommend this<br>course to a friend\"], \"type\": \"bar\", \"orientation\": \"h\", \"x\": [29]}, {\"marker\": {\"color\": \"rgba(71, 58, 131, 0.8)\", \"line\": {\"color\": \"rgb(248, 248, 249)\", \"width\": 1}}, \"y\": [\"The course was effectively<br>organized\"], \"type\": \"bar\", \"orientation\": \"h\", \"x\": [30]}, {\"marker\": {\"color\": \"rgba(71, 58, 131, 0.8)\", \"line\": {\"color\": \"rgb(248, 248, 249)\", \"width\": 1}}, \"y\": [\"The course developed my<br>abilities and skills for<br>the subject\"], \"type\": \"bar\", \"orientation\": \"h\", \"x\": [31]}, {\"marker\": {\"color\": \"rgba(71, 58, 131, 0.8)\", \"line\": {\"color\": \"rgb(248, 248, 249)\", \"width\": 1}}, \"y\": [\"The course developed my<br>ability to think critically about<br>the subject\"], \"type\": \"bar\", \"orientation\": \"h\", \"x\": [26]}, {\"marker\": {\"color\": \"rgba(71, 58, 131, 0.8)\", \"line\": {\"color\": \"rgb(248, 248, 249)\", \"width\": 1}}, \"y\": [\"I would recommend this<br>course to a friend\"], \"type\": \"bar\", \"orientation\": \"h\", \"x\": [24]}, {\"marker\": {\"color\": \"rgba(122, 120, 168, 0.8)\", \"line\": {\"color\": \"rgb(248, 248, 249)\", \"width\": 1}}, \"y\": [\"The course was effectively<br>organized\"], \"type\": \"bar\", \"orientation\": \"h\", \"x\": [21]}, {\"marker\": {\"color\": \"rgba(122, 120, 168, 0.8)\", \"line\": {\"color\": \"rgb(248, 248, 249)\", \"width\": 1}}, \"y\": [\"The course developed my<br>abilities and skills for<br>the subject\"], \"type\": \"bar\", \"orientation\": \"h\", \"x\": [19]}, {\"marker\": {\"color\": \"rgba(122, 120, 168, 0.8)\", \"line\": {\"color\": \"rgb(248, 248, 249)\", \"width\": 1}}, \"y\": [\"The course developed my<br>ability to think critically about<br>the subject\"], \"type\": \"bar\", \"orientation\": \"h\", \"x\": [23]}, {\"marker\": {\"color\": \"rgba(122, 120, 168, 0.8)\", \"line\": {\"color\": \"rgb(248, 248, 249)\", \"width\": 1}}, \"y\": [\"I would recommend this<br>course to a friend\"], \"type\": \"bar\", \"orientation\": \"h\", \"x\": [15]}, {\"marker\": {\"color\": \"rgba(164, 163, 204, 0.85)\", \"line\": {\"color\": \"rgb(248, 248, 249)\", \"width\": 1}}, \"y\": [\"The course was effectively<br>organized\"], \"type\": \"bar\", \"orientation\": \"h\", \"x\": [16]}, {\"marker\": {\"color\": \"rgba(164, 163, 204, 0.85)\", \"line\": {\"color\": \"rgb(248, 248, 249)\", \"width\": 1}}, \"y\": [\"The course developed my<br>abilities and skills for<br>the subject\"], \"type\": \"bar\", \"orientation\": \"h\", \"x\": [15]}, {\"marker\": {\"color\": \"rgba(164, 163, 204, 0.85)\", \"line\": {\"color\": \"rgb(248, 248, 249)\", \"width\": 1}}, \"y\": [\"The course developed my<br>ability to think critically about<br>the subject\"], \"type\": \"bar\", \"orientation\": \"h\", \"x\": [11]}, {\"marker\": {\"color\": \"rgba(164, 163, 204, 0.85)\", \"line\": {\"color\": \"rgb(248, 248, 249)\", \"width\": 1}}, \"y\": [\"I would recommend this<br>course to a friend\"], \"type\": \"bar\", \"orientation\": \"h\", \"x\": [18]}, {\"marker\": {\"color\": \"rgba(190, 192, 213, 1)\", \"line\": {\"color\": \"rgb(248, 248, 249)\", \"width\": 1}}, \"y\": [\"The course was effectively<br>organized\"], \"type\": \"bar\", \"orientation\": \"h\", \"x\": [12]}, {\"marker\": {\"color\": \"rgba(190, 192, 213, 1)\", \"line\": {\"color\": \"rgb(248, 248, 249)\", \"width\": 1}}, \"y\": [\"The course developed my<br>abilities and skills for<br>the subject\"], \"type\": \"bar\", \"orientation\": \"h\", \"x\": [11]}, {\"marker\": {\"color\": \"rgba(190, 192, 213, 1)\", \"line\": {\"color\": \"rgb(248, 248, 249)\", \"width\": 1}}, \"y\": [\"The course developed my<br>ability to think critically about<br>the subject\"], \"type\": \"bar\", \"orientation\": \"h\", \"x\": [13]}, {\"marker\": {\"color\": \"rgba(190, 192, 213, 1)\", \"line\": {\"color\": \"rgb(248, 248, 249)\", \"width\": 1}}, \"y\": [\"I would recommend this<br>course to a friend\"], \"type\": \"bar\", \"orientation\": \"h\", \"x\": [14]}], {\"showlegend\": false, \"yaxis\": {\"zeroline\": false, \"showline\": false, \"showticklabels\": false, \"showgrid\": false}, \"paper_bgcolor\": \"rgb(248, 248, 255)\", \"plot_bgcolor\": \"rgb(248, 248, 255)\", \"barmode\": \"stack\", \"xaxis\": {\"zeroline\": false, \"showline\": false, \"domain\": [0.15, 1], \"showticklabels\": false, \"showgrid\": false}, \"margin\": {\"r\": 10, \"b\": 80, \"t\": 140, \"l\": 120}, \"annotations\": [{\"xref\": \"paper\", \"xanchor\": \"right\", \"yref\": \"y\", \"text\": \"The course was effectively<br>organized\", \"align\": \"right\", \"y\": \"The course was effectively<br>organized\", \"x\": 0.14, \"font\": {\"color\": \"rgb(67, 67, 67)\", \"family\": \"Arial\", \"size\": 14}, \"showarrow\": false}, {\"xref\": \"x\", \"yref\": \"y\", \"text\": \"21%\", \"y\": \"The course was effectively<br>organized\", \"x\": 10, \"font\": {\"color\": \"rgb(248, 248, 255)\", \"family\": \"Arial\", \"size\": 14}, \"showarrow\": false}, {\"xref\": \"x\", \"yref\": \"y\", \"text\": \"30%\", \"y\": \"The course was effectively<br>organized\", \"x\": 36, \"font\": {\"color\": \"rgb(248, 248, 255)\", \"family\": \"Arial\", \"size\": 14}, \"showarrow\": false}, {\"xref\": \"x\", \"yref\": \"y\", \"text\": \"21%\", \"y\": \"The course was effectively<br>organized\", \"x\": 61, \"font\": {\"color\": \"rgb(248, 248, 255)\", \"family\": \"Arial\", \"size\": 14}, \"showarrow\": false}, {\"xref\": \"x\", \"yref\": \"y\", \"text\": \"16%\", \"y\": \"The course was effectively<br>organized\", \"x\": 80, \"font\": {\"color\": \"rgb(248, 248, 255)\", \"family\": \"Arial\", \"size\": 14}, \"showarrow\": false}, {\"xref\": \"x\", \"yref\": \"y\", \"text\": \"12%\", \"y\": \"The course was effectively<br>organized\", \"x\": 94, \"font\": {\"color\": \"rgb(248, 248, 255)\", \"family\": \"Arial\", \"size\": 14}, \"showarrow\": false}, {\"xref\": \"paper\", \"xanchor\": \"right\", \"yref\": \"y\", \"text\": \"The course developed my<br>abilities and skills for<br>the subject\", \"align\": \"right\", \"y\": \"The course developed my<br>abilities and skills for<br>the subject\", \"x\": 0.14, \"font\": {\"color\": \"rgb(67, 67, 67)\", \"family\": \"Arial\", \"size\": 14}, \"showarrow\": false}, {\"xref\": \"x\", \"yref\": \"y\", \"text\": \"24%\", \"y\": \"The course developed my<br>abilities and skills for<br>the subject\", \"x\": 12, \"font\": {\"color\": \"rgb(248, 248, 255)\", \"family\": \"Arial\", \"size\": 14}, \"showarrow\": false}, {\"xref\": \"x\", \"yref\": \"y\", \"text\": \"31%\", \"y\": \"The course developed my<br>abilities and skills for<br>the subject\", \"x\": 39, \"font\": {\"color\": \"rgb(248, 248, 255)\", \"family\": \"Arial\", \"size\": 14}, \"showarrow\": false}, {\"xref\": \"x\", \"yref\": \"y\", \"text\": \"19%\", \"y\": \"The course developed my<br>abilities and skills for<br>the subject\", \"x\": 64, \"font\": {\"color\": \"rgb(248, 248, 255)\", \"family\": \"Arial\", \"size\": 14}, \"showarrow\": false}, {\"xref\": \"x\", \"yref\": \"y\", \"text\": \"15%\", \"y\": \"The course developed my<br>abilities and skills for<br>the subject\", \"x\": 81, \"font\": {\"color\": \"rgb(248, 248, 255)\", \"family\": \"Arial\", \"size\": 14}, \"showarrow\": false}, {\"xref\": \"x\", \"yref\": \"y\", \"text\": \"11%\", \"y\": \"The course developed my<br>abilities and skills for<br>the subject\", \"x\": 94, \"font\": {\"color\": \"rgb(248, 248, 255)\", \"family\": \"Arial\", \"size\": 14}, \"showarrow\": false}, {\"xref\": \"paper\", \"xanchor\": \"right\", \"yref\": \"y\", \"text\": \"The course developed my<br>ability to think critically about<br>the subject\", \"align\": \"right\", \"y\": \"The course developed my<br>ability to think critically about<br>the subject\", \"x\": 0.14, \"font\": {\"color\": \"rgb(67, 67, 67)\", \"family\": \"Arial\", \"size\": 14}, \"showarrow\": false}, {\"xref\": \"x\", \"yref\": \"y\", \"text\": \"27%\", \"y\": \"The course developed my<br>ability to think critically about<br>the subject\", \"x\": 13, \"font\": {\"color\": \"rgb(248, 248, 255)\", \"family\": \"Arial\", \"size\": 14}, \"showarrow\": false}, {\"xref\": \"x\", \"yref\": \"y\", \"text\": \"26%\", \"y\": \"The course developed my<br>ability to think critically about<br>the subject\", \"x\": 40, \"font\": {\"color\": \"rgb(248, 248, 255)\", \"family\": \"Arial\", \"size\": 14}, \"showarrow\": false}, {\"xref\": \"x\", \"yref\": \"y\", \"text\": \"23%\", \"y\": \"The course developed my<br>ability to think critically about<br>the subject\", \"x\": 64, \"font\": {\"color\": \"rgb(248, 248, 255)\", \"family\": \"Arial\", \"size\": 14}, \"showarrow\": false}, {\"xref\": \"x\", \"yref\": \"y\", \"text\": \"11%\", \"y\": \"The course developed my<br>ability to think critically about<br>the subject\", \"x\": 81, \"font\": {\"color\": \"rgb(248, 248, 255)\", \"family\": \"Arial\", \"size\": 14}, \"showarrow\": false}, {\"xref\": \"x\", \"yref\": \"y\", \"text\": \"13%\", \"y\": \"The course developed my<br>ability to think critically about<br>the subject\", \"x\": 93, \"font\": {\"color\": \"rgb(248, 248, 255)\", \"family\": \"Arial\", \"size\": 14}, \"showarrow\": false}, {\"xref\": \"paper\", \"xanchor\": \"right\", \"yref\": \"y\", \"text\": \"I would recommend this<br>course to a friend\", \"align\": \"right\", \"y\": \"I would recommend this<br>course to a friend\", \"x\": 0.14, \"font\": {\"color\": \"rgb(67, 67, 67)\", \"family\": \"Arial\", \"size\": 14}, \"showarrow\": false}, {\"xref\": \"x\", \"yref\": \"y\", \"text\": \"29%\", \"y\": \"I would recommend this<br>course to a friend\", \"x\": 14, \"font\": {\"color\": \"rgb(248, 248, 255)\", \"family\": \"Arial\", \"size\": 14}, \"showarrow\": false}, {\"xref\": \"x\", \"yref\": \"paper\", \"text\": \"Strongly<br>agree\", \"y\": 1.1, \"x\": 14, \"font\": {\"color\": \"rgb(67, 67, 67)\", \"family\": \"Arial\", \"size\": 14}, \"showarrow\": false}, {\"xref\": \"x\", \"yref\": \"y\", \"text\": \"24%\", \"y\": \"I would recommend this<br>course to a friend\", \"x\": 41, \"font\": {\"color\": \"rgb(248, 248, 255)\", \"family\": \"Arial\", \"size\": 14}, \"showarrow\": false}, {\"xref\": \"x\", \"yref\": \"paper\", \"text\": \"Agree\", \"y\": 1.1, \"x\": 41, \"font\": {\"color\": \"rgb(67, 67, 67)\", \"family\": \"Arial\", \"size\": 14}, \"showarrow\": false}, {\"xref\": \"x\", \"yref\": \"y\", \"text\": \"15%\", \"y\": \"I would recommend this<br>course to a friend\", \"x\": 60, \"font\": {\"color\": \"rgb(248, 248, 255)\", \"family\": \"Arial\", \"size\": 14}, \"showarrow\": false}, {\"xref\": \"x\", \"yref\": \"paper\", \"text\": \"Neutral\", \"y\": 1.1, \"x\": 60, \"font\": {\"color\": \"rgb(67, 67, 67)\", \"family\": \"Arial\", \"size\": 14}, \"showarrow\": false}, {\"xref\": \"x\", \"yref\": \"y\", \"text\": \"18%\", \"y\": \"I would recommend this<br>course to a friend\", \"x\": 77, \"font\": {\"color\": \"rgb(248, 248, 255)\", \"family\": \"Arial\", \"size\": 14}, \"showarrow\": false}, {\"xref\": \"x\", \"yref\": \"paper\", \"text\": \"Disagree\", \"y\": 1.1, \"x\": 77, \"font\": {\"color\": \"rgb(67, 67, 67)\", \"family\": \"Arial\", \"size\": 14}, \"showarrow\": false}, {\"xref\": \"x\", \"yref\": \"y\", \"text\": \"14%\", \"y\": \"I would recommend this<br>course to a friend\", \"x\": 93, \"font\": {\"color\": \"rgb(248, 248, 255)\", \"family\": \"Arial\", \"size\": 14}, \"showarrow\": false}, {\"xref\": \"x\", \"yref\": \"paper\", \"text\": \"Strongly<br>disagree\", \"y\": 1.1, \"x\": 93, \"font\": {\"color\": \"rgb(67, 67, 67)\", \"family\": \"Arial\", \"size\": 14}, \"showarrow\": false}]}, {\"linkText\": \"Export to plot.ly\", \"showLink\": true})});</script>"
      ],
      "text/vnd.plotly.v1+html": [
       "<div id=\"79ed65f8-ef51-482b-9b6b-d5a228b462b9\" style=\"height: 525px; width: 100%;\" class=\"plotly-graph-div\"></div><script type=\"text/javascript\">require([\"plotly\"], function(Plotly) { window.PLOTLYENV=window.PLOTLYENV || {};window.PLOTLYENV.BASE_URL=\"https://plot.ly\";Plotly.newPlot(\"79ed65f8-ef51-482b-9b6b-d5a228b462b9\", [{\"marker\": {\"color\": \"rgba(38, 24, 74, 0.8)\", \"line\": {\"color\": \"rgb(248, 248, 249)\", \"width\": 1}}, \"y\": [\"The course was effectively<br>organized\"], \"type\": \"bar\", \"orientation\": \"h\", \"x\": [21]}, {\"marker\": {\"color\": \"rgba(38, 24, 74, 0.8)\", \"line\": {\"color\": \"rgb(248, 248, 249)\", \"width\": 1}}, \"y\": [\"The course developed my<br>abilities and skills for<br>the subject\"], \"type\": \"bar\", \"orientation\": \"h\", \"x\": [24]}, {\"marker\": {\"color\": \"rgba(38, 24, 74, 0.8)\", \"line\": {\"color\": \"rgb(248, 248, 249)\", \"width\": 1}}, \"y\": [\"The course developed my<br>ability to think critically about<br>the subject\"], \"type\": \"bar\", \"orientation\": \"h\", \"x\": [27]}, {\"marker\": {\"color\": \"rgba(38, 24, 74, 0.8)\", \"line\": {\"color\": \"rgb(248, 248, 249)\", \"width\": 1}}, \"y\": [\"I would recommend this<br>course to a friend\"], \"type\": \"bar\", \"orientation\": \"h\", \"x\": [29]}, {\"marker\": {\"color\": \"rgba(71, 58, 131, 0.8)\", \"line\": {\"color\": \"rgb(248, 248, 249)\", \"width\": 1}}, \"y\": [\"The course was effectively<br>organized\"], \"type\": \"bar\", \"orientation\": \"h\", \"x\": [30]}, {\"marker\": {\"color\": \"rgba(71, 58, 131, 0.8)\", \"line\": {\"color\": \"rgb(248, 248, 249)\", \"width\": 1}}, \"y\": [\"The course developed my<br>abilities and skills for<br>the subject\"], \"type\": \"bar\", \"orientation\": \"h\", \"x\": [31]}, {\"marker\": {\"color\": \"rgba(71, 58, 131, 0.8)\", \"line\": {\"color\": \"rgb(248, 248, 249)\", \"width\": 1}}, \"y\": [\"The course developed my<br>ability to think critically about<br>the subject\"], \"type\": \"bar\", \"orientation\": \"h\", \"x\": [26]}, {\"marker\": {\"color\": \"rgba(71, 58, 131, 0.8)\", \"line\": {\"color\": \"rgb(248, 248, 249)\", \"width\": 1}}, \"y\": [\"I would recommend this<br>course to a friend\"], \"type\": \"bar\", \"orientation\": \"h\", \"x\": [24]}, {\"marker\": {\"color\": \"rgba(122, 120, 168, 0.8)\", \"line\": {\"color\": \"rgb(248, 248, 249)\", \"width\": 1}}, \"y\": [\"The course was effectively<br>organized\"], \"type\": \"bar\", \"orientation\": \"h\", \"x\": [21]}, {\"marker\": {\"color\": \"rgba(122, 120, 168, 0.8)\", \"line\": {\"color\": \"rgb(248, 248, 249)\", \"width\": 1}}, \"y\": [\"The course developed my<br>abilities and skills for<br>the subject\"], \"type\": \"bar\", \"orientation\": \"h\", \"x\": [19]}, {\"marker\": {\"color\": \"rgba(122, 120, 168, 0.8)\", \"line\": {\"color\": \"rgb(248, 248, 249)\", \"width\": 1}}, \"y\": [\"The course developed my<br>ability to think critically about<br>the subject\"], \"type\": \"bar\", \"orientation\": \"h\", \"x\": [23]}, {\"marker\": {\"color\": \"rgba(122, 120, 168, 0.8)\", \"line\": {\"color\": \"rgb(248, 248, 249)\", \"width\": 1}}, \"y\": [\"I would recommend this<br>course to a friend\"], \"type\": \"bar\", \"orientation\": \"h\", \"x\": [15]}, {\"marker\": {\"color\": \"rgba(164, 163, 204, 0.85)\", \"line\": {\"color\": \"rgb(248, 248, 249)\", \"width\": 1}}, \"y\": [\"The course was effectively<br>organized\"], \"type\": \"bar\", \"orientation\": \"h\", \"x\": [16]}, {\"marker\": {\"color\": \"rgba(164, 163, 204, 0.85)\", \"line\": {\"color\": \"rgb(248, 248, 249)\", \"width\": 1}}, \"y\": [\"The course developed my<br>abilities and skills for<br>the subject\"], \"type\": \"bar\", \"orientation\": \"h\", \"x\": [15]}, {\"marker\": {\"color\": \"rgba(164, 163, 204, 0.85)\", \"line\": {\"color\": \"rgb(248, 248, 249)\", \"width\": 1}}, \"y\": [\"The course developed my<br>ability to think critically about<br>the subject\"], \"type\": \"bar\", \"orientation\": \"h\", \"x\": [11]}, {\"marker\": {\"color\": \"rgba(164, 163, 204, 0.85)\", \"line\": {\"color\": \"rgb(248, 248, 249)\", \"width\": 1}}, \"y\": [\"I would recommend this<br>course to a friend\"], \"type\": \"bar\", \"orientation\": \"h\", \"x\": [18]}, {\"marker\": {\"color\": \"rgba(190, 192, 213, 1)\", \"line\": {\"color\": \"rgb(248, 248, 249)\", \"width\": 1}}, \"y\": [\"The course was effectively<br>organized\"], \"type\": \"bar\", \"orientation\": \"h\", \"x\": [12]}, {\"marker\": {\"color\": \"rgba(190, 192, 213, 1)\", \"line\": {\"color\": \"rgb(248, 248, 249)\", \"width\": 1}}, \"y\": [\"The course developed my<br>abilities and skills for<br>the subject\"], \"type\": \"bar\", \"orientation\": \"h\", \"x\": [11]}, {\"marker\": {\"color\": \"rgba(190, 192, 213, 1)\", \"line\": {\"color\": \"rgb(248, 248, 249)\", \"width\": 1}}, \"y\": [\"The course developed my<br>ability to think critically about<br>the subject\"], \"type\": \"bar\", \"orientation\": \"h\", \"x\": [13]}, {\"marker\": {\"color\": \"rgba(190, 192, 213, 1)\", \"line\": {\"color\": \"rgb(248, 248, 249)\", \"width\": 1}}, \"y\": [\"I would recommend this<br>course to a friend\"], \"type\": \"bar\", \"orientation\": \"h\", \"x\": [14]}], {\"showlegend\": false, \"yaxis\": {\"zeroline\": false, \"showline\": false, \"showticklabels\": false, \"showgrid\": false}, \"paper_bgcolor\": \"rgb(248, 248, 255)\", \"plot_bgcolor\": \"rgb(248, 248, 255)\", \"barmode\": \"stack\", \"xaxis\": {\"zeroline\": false, \"showline\": false, \"domain\": [0.15, 1], \"showticklabels\": false, \"showgrid\": false}, \"margin\": {\"r\": 10, \"b\": 80, \"t\": 140, \"l\": 120}, \"annotations\": [{\"xref\": \"paper\", \"xanchor\": \"right\", \"yref\": \"y\", \"text\": \"The course was effectively<br>organized\", \"align\": \"right\", \"y\": \"The course was effectively<br>organized\", \"x\": 0.14, \"font\": {\"color\": \"rgb(67, 67, 67)\", \"family\": \"Arial\", \"size\": 14}, \"showarrow\": false}, {\"xref\": \"x\", \"yref\": \"y\", \"text\": \"21%\", \"y\": \"The course was effectively<br>organized\", \"x\": 10, \"font\": {\"color\": \"rgb(248, 248, 255)\", \"family\": \"Arial\", \"size\": 14}, \"showarrow\": false}, {\"xref\": \"x\", \"yref\": \"y\", \"text\": \"30%\", \"y\": \"The course was effectively<br>organized\", \"x\": 36, \"font\": {\"color\": \"rgb(248, 248, 255)\", \"family\": \"Arial\", \"size\": 14}, \"showarrow\": false}, {\"xref\": \"x\", \"yref\": \"y\", \"text\": \"21%\", \"y\": \"The course was effectively<br>organized\", \"x\": 61, \"font\": {\"color\": \"rgb(248, 248, 255)\", \"family\": \"Arial\", \"size\": 14}, \"showarrow\": false}, {\"xref\": \"x\", \"yref\": \"y\", \"text\": \"16%\", \"y\": \"The course was effectively<br>organized\", \"x\": 80, \"font\": {\"color\": \"rgb(248, 248, 255)\", \"family\": \"Arial\", \"size\": 14}, \"showarrow\": false}, {\"xref\": \"x\", \"yref\": \"y\", \"text\": \"12%\", \"y\": \"The course was effectively<br>organized\", \"x\": 94, \"font\": {\"color\": \"rgb(248, 248, 255)\", \"family\": \"Arial\", \"size\": 14}, \"showarrow\": false}, {\"xref\": \"paper\", \"xanchor\": \"right\", \"yref\": \"y\", \"text\": \"The course developed my<br>abilities and skills for<br>the subject\", \"align\": \"right\", \"y\": \"The course developed my<br>abilities and skills for<br>the subject\", \"x\": 0.14, \"font\": {\"color\": \"rgb(67, 67, 67)\", \"family\": \"Arial\", \"size\": 14}, \"showarrow\": false}, {\"xref\": \"x\", \"yref\": \"y\", \"text\": \"24%\", \"y\": \"The course developed my<br>abilities and skills for<br>the subject\", \"x\": 12, \"font\": {\"color\": \"rgb(248, 248, 255)\", \"family\": \"Arial\", \"size\": 14}, \"showarrow\": false}, {\"xref\": \"x\", \"yref\": \"y\", \"text\": \"31%\", \"y\": \"The course developed my<br>abilities and skills for<br>the subject\", \"x\": 39, \"font\": {\"color\": \"rgb(248, 248, 255)\", \"family\": \"Arial\", \"size\": 14}, \"showarrow\": false}, {\"xref\": \"x\", \"yref\": \"y\", \"text\": \"19%\", \"y\": \"The course developed my<br>abilities and skills for<br>the subject\", \"x\": 64, \"font\": {\"color\": \"rgb(248, 248, 255)\", \"family\": \"Arial\", \"size\": 14}, \"showarrow\": false}, {\"xref\": \"x\", \"yref\": \"y\", \"text\": \"15%\", \"y\": \"The course developed my<br>abilities and skills for<br>the subject\", \"x\": 81, \"font\": {\"color\": \"rgb(248, 248, 255)\", \"family\": \"Arial\", \"size\": 14}, \"showarrow\": false}, {\"xref\": \"x\", \"yref\": \"y\", \"text\": \"11%\", \"y\": \"The course developed my<br>abilities and skills for<br>the subject\", \"x\": 94, \"font\": {\"color\": \"rgb(248, 248, 255)\", \"family\": \"Arial\", \"size\": 14}, \"showarrow\": false}, {\"xref\": \"paper\", \"xanchor\": \"right\", \"yref\": \"y\", \"text\": \"The course developed my<br>ability to think critically about<br>the subject\", \"align\": \"right\", \"y\": \"The course developed my<br>ability to think critically about<br>the subject\", \"x\": 0.14, \"font\": {\"color\": \"rgb(67, 67, 67)\", \"family\": \"Arial\", \"size\": 14}, \"showarrow\": false}, {\"xref\": \"x\", \"yref\": \"y\", \"text\": \"27%\", \"y\": \"The course developed my<br>ability to think critically about<br>the subject\", \"x\": 13, \"font\": {\"color\": \"rgb(248, 248, 255)\", \"family\": \"Arial\", \"size\": 14}, \"showarrow\": false}, {\"xref\": \"x\", \"yref\": \"y\", \"text\": \"26%\", \"y\": \"The course developed my<br>ability to think critically about<br>the subject\", \"x\": 40, \"font\": {\"color\": \"rgb(248, 248, 255)\", \"family\": \"Arial\", \"size\": 14}, \"showarrow\": false}, {\"xref\": \"x\", \"yref\": \"y\", \"text\": \"23%\", \"y\": \"The course developed my<br>ability to think critically about<br>the subject\", \"x\": 64, \"font\": {\"color\": \"rgb(248, 248, 255)\", \"family\": \"Arial\", \"size\": 14}, \"showarrow\": false}, {\"xref\": \"x\", \"yref\": \"y\", \"text\": \"11%\", \"y\": \"The course developed my<br>ability to think critically about<br>the subject\", \"x\": 81, \"font\": {\"color\": \"rgb(248, 248, 255)\", \"family\": \"Arial\", \"size\": 14}, \"showarrow\": false}, {\"xref\": \"x\", \"yref\": \"y\", \"text\": \"13%\", \"y\": \"The course developed my<br>ability to think critically about<br>the subject\", \"x\": 93, \"font\": {\"color\": \"rgb(248, 248, 255)\", \"family\": \"Arial\", \"size\": 14}, \"showarrow\": false}, {\"xref\": \"paper\", \"xanchor\": \"right\", \"yref\": \"y\", \"text\": \"I would recommend this<br>course to a friend\", \"align\": \"right\", \"y\": \"I would recommend this<br>course to a friend\", \"x\": 0.14, \"font\": {\"color\": \"rgb(67, 67, 67)\", \"family\": \"Arial\", \"size\": 14}, \"showarrow\": false}, {\"xref\": \"x\", \"yref\": \"y\", \"text\": \"29%\", \"y\": \"I would recommend this<br>course to a friend\", \"x\": 14, \"font\": {\"color\": \"rgb(248, 248, 255)\", \"family\": \"Arial\", \"size\": 14}, \"showarrow\": false}, {\"xref\": \"x\", \"yref\": \"paper\", \"text\": \"Strongly<br>agree\", \"y\": 1.1, \"x\": 14, \"font\": {\"color\": \"rgb(67, 67, 67)\", \"family\": \"Arial\", \"size\": 14}, \"showarrow\": false}, {\"xref\": \"x\", \"yref\": \"y\", \"text\": \"24%\", \"y\": \"I would recommend this<br>course to a friend\", \"x\": 41, \"font\": {\"color\": \"rgb(248, 248, 255)\", \"family\": \"Arial\", \"size\": 14}, \"showarrow\": false}, {\"xref\": \"x\", \"yref\": \"paper\", \"text\": \"Agree\", \"y\": 1.1, \"x\": 41, \"font\": {\"color\": \"rgb(67, 67, 67)\", \"family\": \"Arial\", \"size\": 14}, \"showarrow\": false}, {\"xref\": \"x\", \"yref\": \"y\", \"text\": \"15%\", \"y\": \"I would recommend this<br>course to a friend\", \"x\": 60, \"font\": {\"color\": \"rgb(248, 248, 255)\", \"family\": \"Arial\", \"size\": 14}, \"showarrow\": false}, {\"xref\": \"x\", \"yref\": \"paper\", \"text\": \"Neutral\", \"y\": 1.1, \"x\": 60, \"font\": {\"color\": \"rgb(67, 67, 67)\", \"family\": \"Arial\", \"size\": 14}, \"showarrow\": false}, {\"xref\": \"x\", \"yref\": \"y\", \"text\": \"18%\", \"y\": \"I would recommend this<br>course to a friend\", \"x\": 77, \"font\": {\"color\": \"rgb(248, 248, 255)\", \"family\": \"Arial\", \"size\": 14}, \"showarrow\": false}, {\"xref\": \"x\", \"yref\": \"paper\", \"text\": \"Disagree\", \"y\": 1.1, \"x\": 77, \"font\": {\"color\": \"rgb(67, 67, 67)\", \"family\": \"Arial\", \"size\": 14}, \"showarrow\": false}, {\"xref\": \"x\", \"yref\": \"y\", \"text\": \"14%\", \"y\": \"I would recommend this<br>course to a friend\", \"x\": 93, \"font\": {\"color\": \"rgb(248, 248, 255)\", \"family\": \"Arial\", \"size\": 14}, \"showarrow\": false}, {\"xref\": \"x\", \"yref\": \"paper\", \"text\": \"Strongly<br>disagree\", \"y\": 1.1, \"x\": 93, \"font\": {\"color\": \"rgb(67, 67, 67)\", \"family\": \"Arial\", \"size\": 14}, \"showarrow\": false}]}, {\"linkText\": \"Export to plot.ly\", \"showLink\": true})});</script>"
      ]
     },
     "metadata": {},
     "output_type": "display_data"
    }
   ],
   "source": [
    "# Plotyl Example: Color Palette for Bar Chart\n",
    "#   https://plot.ly/python/horizontal-bar-charts/\n",
    "\n",
    "import plotly.plotly as py\n",
    "import plotly.graph_objs as go\n",
    "\n",
    "# initialize variables \n",
    "x_data = []\n",
    "y_data = []\n",
    "traces = []\n",
    "annotations = []\n",
    "\n",
    "top_labels = ['Strongly<br>agree', 'Agree', 'Neutral', 'Disagree',\n",
    "              'Strongly<br>disagree']\n",
    "\n",
    "colors = ['rgba(38, 24, 74, 0.8)', 'rgba(71, 58, 131, 0.8)',\n",
    "          'rgba(122, 120, 168, 0.8)', 'rgba(164, 163, 204, 0.85)',\n",
    "          'rgba(190, 192, 213, 1)']\n",
    "\n",
    "x_data = [[21, 30, 21, 16, 12],\n",
    "          [24, 31, 19, 15, 11],\n",
    "          [27, 26, 23, 11, 13],\n",
    "          [29, 24, 15, 18, 14]]\n",
    "\n",
    "y_data = ['The course was effectively<br>organized',\n",
    "          'The course developed my<br>abilities and skills ' +\n",
    "          'for<br>the subject', 'The course developed ' +\n",
    "          'my<br>ability to think critically about<br>the subject',\n",
    "          'I would recommend this<br>course to a friend']\n",
    "\n",
    "for i in range(0, len(x_data[0])):\n",
    "    for xd, yd in zip(x_data, y_data):\n",
    "        traces.append(go.Bar(\n",
    "#            x=xd[i],\n",
    "#            y=yd,\n",
    "            x=[xd[i]],                                                    #x,y must be array (also if only 1 item)\n",
    "            y=[yd],\n",
    "            orientation='h',\n",
    "            marker=dict(\n",
    "                color=colors[i],\n",
    "                line=dict(\n",
    "                        color='rgb(248, 248, 249)',\n",
    "                        width=1)\n",
    "            )\n",
    "        ))\n",
    "        \n",
    "layout = go.Layout(\n",
    "    xaxis=dict(\n",
    "        showgrid=False,\n",
    "        showline=False,\n",
    "        showticklabels=False,\n",
    "        zeroline=False,\n",
    "        domain=[0.15, 1]\n",
    "    ),\n",
    "    yaxis=dict(\n",
    "        showgrid=False,\n",
    "        showline=False,\n",
    "        showticklabels=False,\n",
    "        zeroline=False,\n",
    "    ),\n",
    "    barmode='stack',\n",
    "    paper_bgcolor='rgb(248, 248, 255)',\n",
    "    plot_bgcolor='rgb(248, 248, 255)',\n",
    "    margin=dict(\n",
    "        l=120,\n",
    "        r=10,\n",
    "        t=140,\n",
    "        b=80\n",
    "    ),\n",
    "    showlegend=False,\n",
    ")\n",
    "\n",
    "for yd, xd in zip(y_data, x_data):\n",
    "    # labeling the y-axis\n",
    "    annotations.append(dict(xref='paper', yref='y',\n",
    "                            x=0.14, y=yd,\n",
    "                            xanchor='right',\n",
    "                            text=str(yd),\n",
    "                            font=dict(family='Arial', size=14,\n",
    "                                      color='rgb(67, 67, 67)'),\n",
    "                            showarrow=False, align='right'))\n",
    "    # labeling the first percentage of each bar (x_axis)\n",
    "    annotations.append(dict(xref='x', yref='y',\n",
    "                            x=xd[0] / 2, y=yd,\n",
    "                            text=str(xd[0]) + '%',\n",
    "                            font=dict(family='Arial', size=14,\n",
    "                                      color='rgb(248, 248, 255)'),\n",
    "                            showarrow=False))\n",
    "    # labeling the first Likert scale (on the top)\n",
    "    if yd == y_data[-1]:\n",
    "        annotations.append(dict(xref='x', yref='paper',\n",
    "                                x=xd[0] / 2, y=1.1,\n",
    "                                text=top_labels[0],\n",
    "                                font=dict(family='Arial', size=14,\n",
    "                                          color='rgb(67, 67, 67)'),\n",
    "                                showarrow=False))\n",
    "    space = xd[0]\n",
    "    for i in range(1, len(xd)):\n",
    "            # labeling the rest of percentages for each bar (x_axis)\n",
    "            annotations.append(dict(xref='x', yref='y',\n",
    "                                    x=space + (xd[i]/2), y=yd, \n",
    "                                    text=str(xd[i]) + '%',\n",
    "                                    font=dict(family='Arial', size=14,\n",
    "                                              color='rgb(248, 248, 255)'),\n",
    "                                    showarrow=False))\n",
    "            # labeling the Likert scale\n",
    "            if yd == y_data[-1]:\n",
    "                annotations.append(dict(xref='x', yref='paper',\n",
    "                                        x=space + (xd[i]/2), y=1.1,\n",
    "                                        text=top_labels[i],\n",
    "                                        font=dict(family='Arial', size=14,\n",
    "                                                  color='rgb(67, 67, 67)'),\n",
    "                                        showarrow=False))\n",
    "            space += xd[i]\n",
    "\n",
    "layout['annotations'] = annotations\n",
    "\n",
    "fig = go.Figure(data=traces, layout=layout)\n",
    "plotly.offline.iplot(fig, filename='bar-colorscale')"
   ]
  },
  {
   "cell_type": "code",
   "execution_count": null,
   "metadata": {
    "collapsed": true
   },
   "outputs": [],
   "source": []
  }
 ],
 "metadata": {
  "kernelspec": {
   "display_name": "Python 2",
   "language": "python",
   "name": "python2"
  },
  "language_info": {
   "codemirror_mode": {
    "name": "ipython",
    "version": 2
   },
   "file_extension": ".py",
   "mimetype": "text/x-python",
   "name": "python",
   "nbconvert_exporter": "python",
   "pygments_lexer": "ipython2",
   "version": "2.7.12"
  }
 },
 "nbformat": 4,
 "nbformat_minor": 2
}
